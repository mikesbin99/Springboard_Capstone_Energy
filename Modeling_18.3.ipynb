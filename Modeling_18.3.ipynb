{
 "cells": [
  {
   "cell_type": "markdown",
   "id": "least-music",
   "metadata": {},
   "source": [
    "(https://www.kaggle.com/c/ashrae-energy-prediction/)"
   ]
  },
  {
   "cell_type": "markdown",
   "id": "engaged-scope",
   "metadata": {},
   "source": [
    "# ASRAE - Modeling"
   ]
  },
  {
   "cell_type": "code",
   "execution_count": 19,
   "id": "informal-ribbon",
   "metadata": {},
   "outputs": [
    {
     "name": "stdout",
     "output_type": "stream",
     "text": [
      "pmdarima version: 1.8.2\n"
     ]
    }
   ],
   "source": [
    "import numpy as np\n",
    "import pandas as pd\n",
    "\n",
    "import seaborn as sns\n",
    "import plotly as plt\n",
    "import plotly.express as px\n",
    "import plotly.figure_factory as ff\n",
    "import matplotlib.pyplot as plt\n",
    "\n",
    "from math import sqrt\n",
    "\n",
    "import glob\n",
    "\n",
    "import pandas_profiling as ppf\n",
    "import sweetviz as sv\n",
    "import missingno as msno\n",
    "\n",
    "import pprint\n",
    "import datetime\n",
    "from math import sqrt\n",
    "\n",
    "from plotly.subplots import make_subplots\n",
    "import plotly.graph_objects as go\n",
    "import plotly.express as px\n",
    "\n",
    "from statsmodels.tsa.seasonal import seasonal_decompose\n",
    "from statsmodels.graphics.tsaplots import plot_acf\n",
    "from statsmodels.graphics.tsaplots import plot_pacf\n",
    "from statsmodels.tsa.arima.model import ARIMA\n",
    "import statsmodels.api as sm\n",
    "\n",
    "from sklearn import preprocessing\n",
    "from sklearn.model_selection import GridSearchCV\n",
    "from sklearn.model_selection import ParameterGrid\n",
    "from sklearn.model_selection import TimeSeriesSplit, train_test_split\n",
    "from sklearn.metrics import mean_squared_error, mean_absolute_percentage_error, median_absolute_error\n",
    "\n",
    "from prophet import Prophet\n",
    "\n",
    "import xgboost as xgb\n",
    "\n",
    "import pmdarima as pm\n",
    "from pmdarima import model_selection\n",
    "from pmdarima import pipeline\n",
    "from pmdarima import preprocessing as ppc\n",
    "from pmdarima import arima\n",
    "from pmdarima.arima import ndiffs\n",
    "from pmdarima.arima import ADFTest\n",
    "\n",
    "print(\"pmdarima version: %s\" % pm.__version__)\n",
    "\n",
    "#import tools as tl\n",
    "\n",
    "sns.set(rc={'figure.figsize':(30,20)})\n",
    "\n",
    "pd.options.display.float_format = '{:.2f}'.format\n",
    "pd.set_option(\"precision\", 2)\n",
    "\n",
    "plt.rcParams.update({'font.size': 22})\n",
    "sns.set(font_scale = 2)\n",
    "\n",
    "import pprint\n",
    "pp = pprint.PrettyPrinter(indent=4)\n",
    "\n",
    "import warnings\n",
    "warnings.filterwarnings('ignore')"
   ]
  },
  {
   "cell_type": "code",
   "execution_count": 20,
   "id": "civic-guinea",
   "metadata": {},
   "outputs": [
    {
     "name": "stdout",
     "output_type": "stream",
     "text": [
      "1.4.2\n"
     ]
    }
   ],
   "source": [
    "print(xgb.__version__)"
   ]
  },
  {
   "cell_type": "code",
   "execution_count": 21,
   "id": "harmful-hardware",
   "metadata": {},
   "outputs": [],
   "source": [
    "pd.options.plotting.backend = \"matplotlib\""
   ]
  },
  {
   "cell_type": "code",
   "execution_count": 22,
   "id": "super-thong",
   "metadata": {},
   "outputs": [
    {
     "data": {
      "text/plain": [
       "'G:\\\\My Drive\\\\Code\\\\Springboard_Capstone_Energy'"
      ]
     },
     "execution_count": 22,
     "metadata": {},
     "output_type": "execute_result"
    }
   ],
   "source": [
    "pwd"
   ]
  },
  {
   "cell_type": "code",
   "execution_count": 23,
   "id": "8e441d88-fc94-492c-a3b9-44f73a9b8870",
   "metadata": {},
   "outputs": [],
   "source": [
    "# Drop Specific columns\n",
    "def building_meter_drop(df):\n",
    "    return df.drop(columns=['precip_depth_1_hr','wind_direction','wind_speed','dew_temperature','year_built','floor_count','cloud_coverage'],axis=1)"
   ]
  },
  {
   "cell_type": "code",
   "execution_count": 24,
   "id": "87eac6e6-266e-4208-ab96-c64f3f57c8de",
   "metadata": {},
   "outputs": [],
   "source": [
    "# Interpolate Missing Data\n",
    "def building_meter_interp(df):\n",
    "    df['sea_level_pressure'] = df['sea_level_pressure'].interpolate(method='time')\n",
    "    df['meter_reading'] = df['meter_reading'].interpolate(method='time')\n",
    "    df['air_temperature'] = df['air_temperature'].interpolate(method='time')\n",
    "    return df"
   ]
  },
  {
   "cell_type": "code",
   "execution_count": 25,
   "id": "875cea45-fb1e-428c-b842-32c6c74db032",
   "metadata": {},
   "outputs": [],
   "source": [
    "# Aggregate remaining Data\n",
    "def building_meter_agg(df,resamp_str):\n",
    "    df_samp = df\n",
    "    agg_dict={'meter_reading':'median', \n",
    "              'air_temperature':'median',\n",
    "                  'building_id': 'max',\n",
    "                  'site_id': 'max',\n",
    "                  'square_feet': 'max',\n",
    "                  'day_of_week':'max',\n",
    "                  'weekend':'max',\n",
    "                  'month':'max',\n",
    "                  'season':'max'\n",
    "                  }\n",
    "\n",
    "    # Resample Dataframe\n",
    "    df = df.resample(resamp_str).agg(agg_dict)\n",
    "    \n",
    "    return df"
   ]
  },
  {
   "cell_type": "markdown",
   "id": "6f8519e6-1f19-4a32-a3b9-2a1831cd2bc5",
   "metadata": {},
   "source": [
    "## See Statistics written for each file (building-meter) combo"
   ]
  },
  {
   "cell_type": "code",
   "execution_count": 26,
   "id": "innovative-title",
   "metadata": {},
   "outputs": [],
   "source": [
    "# See Building Statistics for missing data\n",
    "df_stats = pd.read_csv('.//data_clean//building_reading_stats.csv')\n",
    "# Keep only data that has at least 50 % of it"
   ]
  },
  {
   "cell_type": "code",
   "execution_count": 27,
   "id": "b5b45a65-189e-43ae-8382-8147f24904b3",
   "metadata": {},
   "outputs": [
    {
     "name": "stdout",
     "output_type": "stream",
     "text": [
      "<class 'pandas.core.frame.DataFrame'>\n",
      "RangeIndex: 2375 entries, 0 to 2374\n",
      "Data columns (total 19 columns):\n",
      " #   Column                        Non-Null Count  Dtype  \n",
      "---  ------                        --------------  -----  \n",
      " 0   file_name                     2375 non-null   object \n",
      " 1   building                      2375 non-null   int64  \n",
      " 2   meter                         2375 non-null   int64  \n",
      " 3   len_train                     2375 non-null   int64  \n",
      " 4   len_zero                      2375 non-null   int64  \n",
      " 5   per_data                      2375 non-null   float64\n",
      " 6   category                      2375 non-null   object \n",
      " 7   corr_meter_to_airtemp         2375 non-null   float64\n",
      " 8   corr_meter_to_airtemp_wknd    2373 non-null   float64\n",
      " 9   corr_meter_to_airtemp_wkdy    2375 non-null   float64\n",
      " 10  corr_meter_to_airtemp_winter  2325 non-null   float64\n",
      " 11  corr_meter_to_airtemp_spring  2342 non-null   float64\n",
      " 12  corr_meter_to_airtemp_summer  2339 non-null   float64\n",
      " 13  corr_meter_to_airtemp_fall    2361 non-null   float64\n",
      " 14  square_feet                   2375 non-null   int64  \n",
      " 15  site_id                       2375 non-null   int64  \n",
      " 16  floor_count                   2375 non-null   int64  \n",
      " 17  bldg_size                     2375 non-null   object \n",
      " 18  meter_name                    2375 non-null   object \n",
      "dtypes: float64(8), int64(7), object(4)\n",
      "memory usage: 352.7+ KB\n"
     ]
    }
   ],
   "source": [
    "df_stats.info()"
   ]
  },
  {
   "cell_type": "code",
   "execution_count": 28,
   "id": "convinced-proxy",
   "metadata": {},
   "outputs": [],
   "source": [
    "# Modeling Choices\n",
    "# Buildings with 1\n",
    "df_stats.sort_values(['building','meter'],axis=0,inplace=True)\n",
    "df_stats.reset_index(drop=True,inplace=True)"
   ]
  },
  {
   "cell_type": "code",
   "execution_count": 29,
   "id": "critical-hawaiian",
   "metadata": {},
   "outputs": [
    {
     "data": {
      "text/html": [
       "<div>\n",
       "<style scoped>\n",
       "    .dataframe tbody tr th:only-of-type {\n",
       "        vertical-align: middle;\n",
       "    }\n",
       "\n",
       "    .dataframe tbody tr th {\n",
       "        vertical-align: top;\n",
       "    }\n",
       "\n",
       "    .dataframe thead th {\n",
       "        text-align: right;\n",
       "    }\n",
       "</style>\n",
       "<table border=\"1\" class=\"dataframe\">\n",
       "  <thead>\n",
       "    <tr style=\"text-align: right;\">\n",
       "      <th></th>\n",
       "      <th>file_name</th>\n",
       "      <th>building</th>\n",
       "      <th>meter</th>\n",
       "      <th>len_train</th>\n",
       "      <th>len_zero</th>\n",
       "      <th>per_data</th>\n",
       "      <th>category</th>\n",
       "      <th>corr_meter_to_airtemp</th>\n",
       "      <th>corr_meter_to_airtemp_wknd</th>\n",
       "      <th>corr_meter_to_airtemp_wkdy</th>\n",
       "      <th>corr_meter_to_airtemp_winter</th>\n",
       "      <th>corr_meter_to_airtemp_spring</th>\n",
       "      <th>corr_meter_to_airtemp_summer</th>\n",
       "      <th>corr_meter_to_airtemp_fall</th>\n",
       "      <th>square_feet</th>\n",
       "      <th>site_id</th>\n",
       "      <th>floor_count</th>\n",
       "      <th>bldg_size</th>\n",
       "      <th>meter_name</th>\n",
       "    </tr>\n",
       "  </thead>\n",
       "  <tbody>\n",
       "    <tr>\n",
       "      <th>1686</th>\n",
       "      <td>1148_1.pkl</td>\n",
       "      <td>1148</td>\n",
       "      <td>1</td>\n",
       "      <td>8784</td>\n",
       "      <td>0</td>\n",
       "      <td>100.00</td>\n",
       "      <td>Office</td>\n",
       "      <td>0.78</td>\n",
       "      <td>0.79</td>\n",
       "      <td>0.79</td>\n",
       "      <td>0.21</td>\n",
       "      <td>0.74</td>\n",
       "      <td>0.45</td>\n",
       "      <td>0.76</td>\n",
       "      <td>861524</td>\n",
       "      <td>13</td>\n",
       "      <td>-1</td>\n",
       "      <td>XXL</td>\n",
       "      <td>CWater</td>\n",
       "    </tr>\n",
       "  </tbody>\n",
       "</table>\n",
       "</div>"
      ],
      "text/plain": [
       "       file_name  building  meter  len_train  len_zero  per_data category  \\\n",
       "1686  1148_1.pkl      1148      1       8784         0    100.00   Office   \n",
       "\n",
       "      corr_meter_to_airtemp  corr_meter_to_airtemp_wknd  \\\n",
       "1686                   0.78                        0.79   \n",
       "\n",
       "      corr_meter_to_airtemp_wkdy  corr_meter_to_airtemp_winter  \\\n",
       "1686                        0.79                          0.21   \n",
       "\n",
       "      corr_meter_to_airtemp_spring  corr_meter_to_airtemp_summer  \\\n",
       "1686                          0.74                          0.45   \n",
       "\n",
       "      corr_meter_to_airtemp_fall  square_feet  site_id  floor_count bldg_size  \\\n",
       "1686                        0.76       861524       13           -1       XXL   \n",
       "\n",
       "     meter_name  \n",
       "1686     CWater  "
      ]
     },
     "execution_count": 29,
     "metadata": {},
     "output_type": "execute_result"
    }
   ],
   "source": [
    "df_stats[(df_stats['building'] == 1148) & df_stats['meter'] == 1]"
   ]
  },
  {
   "cell_type": "code",
   "execution_count": 30,
   "id": "iraqi-original",
   "metadata": {},
   "outputs": [
    {
     "data": {
      "text/html": [
       "<div>\n",
       "<style scoped>\n",
       "    .dataframe tbody tr th:only-of-type {\n",
       "        vertical-align: middle;\n",
       "    }\n",
       "\n",
       "    .dataframe tbody tr th {\n",
       "        vertical-align: top;\n",
       "    }\n",
       "\n",
       "    .dataframe thead th {\n",
       "        text-align: right;\n",
       "    }\n",
       "</style>\n",
       "<table border=\"1\" class=\"dataframe\">\n",
       "  <thead>\n",
       "    <tr style=\"text-align: right;\">\n",
       "      <th></th>\n",
       "      <th>file_name</th>\n",
       "      <th>building</th>\n",
       "      <th>meter</th>\n",
       "      <th>len_train</th>\n",
       "      <th>len_zero</th>\n",
       "      <th>per_data</th>\n",
       "      <th>category</th>\n",
       "      <th>corr_meter_to_airtemp</th>\n",
       "      <th>corr_meter_to_airtemp_wknd</th>\n",
       "      <th>corr_meter_to_airtemp_wkdy</th>\n",
       "      <th>corr_meter_to_airtemp_winter</th>\n",
       "      <th>corr_meter_to_airtemp_spring</th>\n",
       "      <th>corr_meter_to_airtemp_summer</th>\n",
       "      <th>corr_meter_to_airtemp_fall</th>\n",
       "      <th>square_feet</th>\n",
       "      <th>site_id</th>\n",
       "      <th>floor_count</th>\n",
       "      <th>bldg_size</th>\n",
       "      <th>meter_name</th>\n",
       "    </tr>\n",
       "  </thead>\n",
       "  <tbody>\n",
       "    <tr>\n",
       "      <th>1685</th>\n",
       "      <td>1148_0.pkl</td>\n",
       "      <td>1148</td>\n",
       "      <td>0</td>\n",
       "      <td>8663</td>\n",
       "      <td>0</td>\n",
       "      <td>100.00</td>\n",
       "      <td>Office</td>\n",
       "      <td>-0.02</td>\n",
       "      <td>0.15</td>\n",
       "      <td>-0.04</td>\n",
       "      <td>-0.20</td>\n",
       "      <td>-0.11</td>\n",
       "      <td>-0.08</td>\n",
       "      <td>-0.08</td>\n",
       "      <td>861524</td>\n",
       "      <td>13</td>\n",
       "      <td>-1</td>\n",
       "      <td>XXL</td>\n",
       "      <td>Elec</td>\n",
       "    </tr>\n",
       "    <tr>\n",
       "      <th>1686</th>\n",
       "      <td>1148_1.pkl</td>\n",
       "      <td>1148</td>\n",
       "      <td>1</td>\n",
       "      <td>8784</td>\n",
       "      <td>0</td>\n",
       "      <td>100.00</td>\n",
       "      <td>Office</td>\n",
       "      <td>0.78</td>\n",
       "      <td>0.79</td>\n",
       "      <td>0.79</td>\n",
       "      <td>0.21</td>\n",
       "      <td>0.74</td>\n",
       "      <td>0.45</td>\n",
       "      <td>0.76</td>\n",
       "      <td>861524</td>\n",
       "      <td>13</td>\n",
       "      <td>-1</td>\n",
       "      <td>XXL</td>\n",
       "      <td>CWater</td>\n",
       "    </tr>\n",
       "    <tr>\n",
       "      <th>1687</th>\n",
       "      <td>1148_2.pkl</td>\n",
       "      <td>1148</td>\n",
       "      <td>2</td>\n",
       "      <td>8784</td>\n",
       "      <td>2</td>\n",
       "      <td>99.98</td>\n",
       "      <td>Office</td>\n",
       "      <td>-0.88</td>\n",
       "      <td>-0.86</td>\n",
       "      <td>-0.88</td>\n",
       "      <td>-0.83</td>\n",
       "      <td>-0.85</td>\n",
       "      <td>-0.43</td>\n",
       "      <td>-0.44</td>\n",
       "      <td>861524</td>\n",
       "      <td>13</td>\n",
       "      <td>-1</td>\n",
       "      <td>XXL</td>\n",
       "      <td>Steam</td>\n",
       "    </tr>\n",
       "  </tbody>\n",
       "</table>\n",
       "</div>"
      ],
      "text/plain": [
       "       file_name  building  meter  len_train  len_zero  per_data category  \\\n",
       "1685  1148_0.pkl      1148      0       8663         0    100.00   Office   \n",
       "1686  1148_1.pkl      1148      1       8784         0    100.00   Office   \n",
       "1687  1148_2.pkl      1148      2       8784         2     99.98   Office   \n",
       "\n",
       "      corr_meter_to_airtemp  corr_meter_to_airtemp_wknd  \\\n",
       "1685                  -0.02                        0.15   \n",
       "1686                   0.78                        0.79   \n",
       "1687                  -0.88                       -0.86   \n",
       "\n",
       "      corr_meter_to_airtemp_wkdy  corr_meter_to_airtemp_winter  \\\n",
       "1685                       -0.04                         -0.20   \n",
       "1686                        0.79                          0.21   \n",
       "1687                       -0.88                         -0.83   \n",
       "\n",
       "      corr_meter_to_airtemp_spring  corr_meter_to_airtemp_summer  \\\n",
       "1685                         -0.11                         -0.08   \n",
       "1686                          0.74                          0.45   \n",
       "1687                         -0.85                         -0.43   \n",
       "\n",
       "      corr_meter_to_airtemp_fall  square_feet  site_id  floor_count bldg_size  \\\n",
       "1685                       -0.08       861524       13           -1       XXL   \n",
       "1686                        0.76       861524       13           -1       XXL   \n",
       "1687                       -0.44       861524       13           -1       XXL   \n",
       "\n",
       "     meter_name  \n",
       "1685       Elec  \n",
       "1686     CWater  \n",
       "1687      Steam  "
      ]
     },
     "execution_count": 30,
     "metadata": {},
     "output_type": "execute_result"
    }
   ],
   "source": [
    "# Examine building choices\n",
    "df_stats[df_stats['building'] == 1148]"
   ]
  },
  {
   "cell_type": "raw",
   "id": "d7ea794a-196f-419e-a940-04b31cdfae11",
   "metadata": {},
   "source": [
    "Notice that the 1 meter is positively correlated, 2 meter is strong negative correlation"
   ]
  },
  {
   "cell_type": "markdown",
   "id": "4592d024-68de-4a4c-b64e-0ef1b18f5001",
   "metadata": {},
   "source": [
    "# First Pass \n",
    "## No Hypertuning on Prophet or XGBoost"
   ]
  },
  {
   "cell_type": "code",
   "execution_count": 31,
   "id": "0d20ad23-020d-4392-8078-1ac9aae4785c",
   "metadata": {},
   "outputs": [],
   "source": [
    "## Train till end of September, Test on October"
   ]
  },
  {
   "cell_type": "code",
   "execution_count": 32,
   "id": "a08ffe77-1a2e-492f-a16e-15d3b5af6524",
   "metadata": {
    "tags": []
   },
   "outputs": [
    {
     "name": "stdout",
     "output_type": "stream",
     "text": [
      "\n",
      "###########################################################\n",
      "File: 107_0.pkl\n",
      "Length on load: 26304\n",
      "Length after agg: 1096\n",
      "Dropped N/A cols: 0\n",
      "Length after blank drop: 1096\n",
      "\n",
      "ARIMA Model...... RMSE: 13.900541958218138\n",
      "RMSE_pct_range: 24.82239635396096\n",
      "MAPE: 0.18855333540436958\n",
      "MedianAPE: 13.176349988856288\n"
     ]
    },
    {
     "name": "stderr",
     "output_type": "stream",
     "text": [
      "INFO:prophet:Disabling yearly seasonality. Run prophet with yearly_seasonality=True to override this.\n"
     ]
    },
    {
     "name": "stdout",
     "output_type": "stream",
     "text": [
      "\n",
      "Prophet...... RMSE: 129.71803900292048\n",
      "RMSE_pct_range: 231.639355362358\n",
      "MAPE: 2.775637056965708\n",
      "MedianAPE: 120.88639275036293\n",
      "\n",
      "XGBoost...... RMSE: 21.00260443186126\n",
      "RMSE_pct_range: 37.50465077118083\n",
      "MAPE: 0.29922008095919905\n",
      "MedianAPE: 17.829574499511722\n",
      "\n",
      "###########################################################\n",
      "File: 109_0.pkl\n",
      "Length on load: 26304\n",
      "Length after agg: 1096\n",
      "Dropped N/A cols: 0\n",
      "Length after blank drop: 1096\n",
      "\n",
      "ARIMA Model...... RMSE: 38.514174090896695\n",
      "RMSE_pct_range: 52.589846509041735\n",
      "MAPE: 0.13308889490531076\n",
      "MedianAPE: 37.43680797829393\n"
     ]
    },
    {
     "name": "stderr",
     "output_type": "stream",
     "text": [
      "INFO:prophet:Disabling yearly seasonality. Run prophet with yearly_seasonality=True to override this.\n"
     ]
    },
    {
     "name": "stdout",
     "output_type": "stream",
     "text": [
      "\n",
      "Prophet...... RMSE: 15.462402871720824\n",
      "RMSE_pct_range: 21.11340598309665\n",
      "MAPE: 0.05509736669146417\n",
      "MedianAPE: 11.471272579768595\n",
      "\n",
      "XGBoost...... RMSE: 15.197492471571344\n",
      "RMSE_pct_range: 20.75167948599898\n",
      "MAPE: 0.054006897997821844\n",
      "MedianAPE: 12.674628784179674\n",
      "\n",
      "###########################################################\n",
      "File: 119_0.pkl\n",
      "Length on load: 26304\n",
      "Length after agg: 1096\n",
      "Dropped N/A cols: 0\n",
      "Length after blank drop: 1096\n",
      "\n",
      "ARIMA Model...... RMSE: 34.9372097276464\n",
      "RMSE_pct_range: 30.945269909341356\n",
      "MAPE: 0.05950131270995232\n",
      "MedianAPE: 31.578865879791465\n"
     ]
    },
    {
     "name": "stderr",
     "output_type": "stream",
     "text": [
      "INFO:prophet:Disabling yearly seasonality. Run prophet with yearly_seasonality=True to override this.\n"
     ]
    },
    {
     "name": "stdout",
     "output_type": "stream",
     "text": [
      "\n",
      "Prophet...... RMSE: 45.75897040004781\n",
      "RMSE_pct_range: 40.530531798093705\n",
      "MAPE: 0.07917241517123422\n",
      "MedianAPE: 42.75308263684116\n",
      "\n",
      "XGBoost...... RMSE: 20.540581700009522\n",
      "RMSE_pct_range: 18.193606465907454\n",
      "MAPE: 0.030483254558867797\n",
      "MedianAPE: 10.737499999999955\n",
      "\n",
      "###########################################################\n",
      "File: 120_0.pkl\n",
      "Length on load: 26304\n",
      "Length after agg: 1096\n",
      "Dropped N/A cols: 0\n",
      "Length after blank drop: 1096\n",
      "\n",
      "ARIMA Model...... RMSE: 52.857595249857155\n",
      "RMSE_pct_range: 103.13677121923348\n",
      "MAPE: 0.3311054461622089\n",
      "MedianAPE: 52.52777898822313\n"
     ]
    },
    {
     "name": "stderr",
     "output_type": "stream",
     "text": [
      "INFO:prophet:Disabling yearly seasonality. Run prophet with yearly_seasonality=True to override this.\n"
     ]
    },
    {
     "name": "stdout",
     "output_type": "stream",
     "text": [
      "\n",
      "Prophet...... RMSE: 61.971018690881095\n",
      "RMSE_pct_range: 120.91906086025578\n",
      "MAPE: 0.4127934457124862\n",
      "MedianAPE: 59.986335625822704\n",
      "\n",
      "XGBoost...... RMSE: 66.80310632231793\n",
      "RMSE_pct_range: 130.34752453135206\n",
      "MAPE: 0.45633332457486814\n",
      "MedianAPE: 68.47902221679686\n",
      "\n",
      "###########################################################\n",
      "File: 126_0.pkl\n",
      "Length on load: 26304\n",
      "Length after agg: 1096\n",
      "Dropped N/A cols: 0\n",
      "Length after blank drop: 1096\n",
      "\n",
      "ARIMA Model...... RMSE: 7.53870951563683\n",
      "RMSE_pct_range: 23.856675682395014\n",
      "MAPE: 0.04931784358242849\n",
      "MedianAPE: 4.89785413457615\n"
     ]
    },
    {
     "name": "stderr",
     "output_type": "stream",
     "text": [
      "INFO:prophet:Disabling yearly seasonality. Run prophet with yearly_seasonality=True to override this.\n"
     ]
    },
    {
     "name": "stdout",
     "output_type": "stream",
     "text": [
      "\n",
      "Prophet...... RMSE: 9.296686514263149\n",
      "RMSE_pct_range: 29.4198940324783\n",
      "MAPE: 0.057044773347218636\n",
      "MedianAPE: 5.844890668946221\n",
      "\n",
      "XGBoost...... RMSE: 13.249357993610591\n",
      "RMSE_pct_range: 41.928348081046146\n",
      "MAPE: 0.09747468662059813\n",
      "MedianAPE: 9.170845031738281\n",
      "\n",
      "###########################################################\n",
      "File: 134_0.pkl\n",
      "Length on load: 26304\n",
      "Length after agg: 1096\n",
      "Dropped N/A cols: 0\n",
      "Length after blank drop: 1096\n",
      "\n",
      "ARIMA Model...... RMSE: 24.141919285906162\n",
      "RMSE_pct_range: 76.39847875286759\n",
      "MAPE: 0.6110673373395116\n",
      "MedianAPE: 25.617556163327713\n"
     ]
    },
    {
     "name": "stderr",
     "output_type": "stream",
     "text": [
      "INFO:prophet:Disabling yearly seasonality. Run prophet with yearly_seasonality=True to override this.\n"
     ]
    },
    {
     "name": "stdout",
     "output_type": "stream",
     "text": [
      "\n",
      "Prophet...... RMSE: 17.541229846863033\n",
      "RMSE_pct_range: 55.51022103437667\n",
      "MAPE: 0.3649411164418559\n",
      "MedianAPE: 17.94303839660156\n",
      "\n",
      "XGBoost...... RMSE: 15.116251751437044\n",
      "RMSE_pct_range: 47.83623971973746\n",
      "MAPE: 0.2769684016014821\n",
      "MedianAPE: 13.912321472167974\n",
      "\n",
      "###########################################################\n",
      "File: 135_0.pkl\n",
      "Length on load: 26304\n",
      "Length after agg: 1096\n",
      "Dropped N/A cols: 0\n",
      "Length after blank drop: 1096\n",
      "\n",
      "ARIMA Model...... RMSE: 4.433292748260915\n",
      "RMSE_pct_range: 71.5047217461438\n",
      "MAPE: 0.11645644648266441\n",
      "MedianAPE: 4.559010444467766\n"
     ]
    },
    {
     "name": "stderr",
     "output_type": "stream",
     "text": [
      "INFO:prophet:Disabling yearly seasonality. Run prophet with yearly_seasonality=True to override this.\n"
     ]
    },
    {
     "name": "stdout",
     "output_type": "stream",
     "text": [
      "\n",
      "Prophet...... RMSE: 2.226982611898061\n",
      "RMSE_pct_range: 35.9190743854526\n",
      "MAPE: 0.057747441833189944\n",
      "MedianAPE: 1.2957391976246662\n",
      "\n",
      "XGBoost...... RMSE: 10.19721044074431\n",
      "RMSE_pct_range: 164.47113614103728\n",
      "MAPE: 0.22450231416782626\n",
      "MedianAPE: 9.948316192626947\n",
      "\n",
      "###########################################################\n",
      "File: 141_0.pkl\n",
      "Length on load: 26304\n",
      "Length after agg: 1096\n",
      "Dropped N/A cols: 0\n",
      "Length after blank drop: 1096\n",
      "\n",
      "ARIMA Model...... RMSE: 15.750534308686493\n",
      "RMSE_pct_range: 36.41742036690518\n",
      "MAPE: 0.2485351687407305\n",
      "MedianAPE: 11.080024984540799\n"
     ]
    },
    {
     "name": "stderr",
     "output_type": "stream",
     "text": [
      "INFO:prophet:Disabling yearly seasonality. Run prophet with yearly_seasonality=True to override this.\n"
     ]
    },
    {
     "name": "stdout",
     "output_type": "stream",
     "text": [
      "\n",
      "Prophet...... RMSE: 15.919291635071847\n",
      "RMSE_pct_range: 36.807610716929126\n",
      "MAPE: 0.25445164471397025\n",
      "MedianAPE: 13.911072277104637\n",
      "\n",
      "XGBoost...... RMSE: 13.290662038480528\n",
      "RMSE_pct_range: 30.729854424232432\n",
      "MAPE: 0.20188765190184005\n",
      "MedianAPE: 10.274444580078125\n",
      "\n",
      "###########################################################\n",
      "File: 146_0.pkl\n",
      "Length on load: 26304\n",
      "Length after agg: 1096\n",
      "Dropped N/A cols: 0\n",
      "Length after blank drop: 1096\n",
      "\n",
      "ARIMA Model...... RMSE: 1.795288209360776\n",
      "RMSE_pct_range: 35.20172959530933\n",
      "MAPE: 0.226710548554543\n",
      "MedianAPE: 1.3998971933521291\n"
     ]
    },
    {
     "name": "stderr",
     "output_type": "stream",
     "text": [
      "INFO:prophet:Disabling yearly seasonality. Run prophet with yearly_seasonality=True to override this.\n"
     ]
    },
    {
     "name": "stdout",
     "output_type": "stream",
     "text": [
      "\n",
      "Prophet...... RMSE: 1.558532663430131\n",
      "RMSE_pct_range: 30.559463988826096\n",
      "MAPE: 0.177934598194331\n",
      "MedianAPE: 1.156890234658838\n",
      "\n",
      "XGBoost...... RMSE: 1.6639223208167777\n",
      "RMSE_pct_range: 32.6259278591525\n",
      "MAPE: 0.19532441060697306\n",
      "MedianAPE: 0.8648074150085456\n",
      "\n",
      "###########################################################\n",
      "File: 155_0.pkl\n",
      "Length on load: 26304\n",
      "Length after agg: 1096\n",
      "Dropped N/A cols: 0\n",
      "Length after blank drop: 1096\n",
      "\n",
      "ARIMA Model...... RMSE: 5.858532573395313\n",
      "RMSE_pct_range: 13.37564514473816\n",
      "MAPE: 0.06947562696416207\n",
      "MedianAPE: 3.7370039981095715\n"
     ]
    },
    {
     "name": "stderr",
     "output_type": "stream",
     "text": [
      "INFO:prophet:Disabling yearly seasonality. Run prophet with yearly_seasonality=True to override this.\n"
     ]
    },
    {
     "name": "stdout",
     "output_type": "stream",
     "text": [
      "\n",
      "Prophet...... RMSE: 8.559253594463993\n",
      "RMSE_pct_range: 19.541674873205466\n",
      "MAPE: 0.11598260509634714\n",
      "MedianAPE: 7.118610887021951\n",
      "\n",
      "XGBoost...... RMSE: 7.814577115759791\n",
      "RMSE_pct_range: 17.841500264291767\n",
      "MAPE: 0.10183707979474743\n",
      "MedianAPE: 6.221644592285145\n",
      "\n",
      "###########################################################\n",
      "File: 663_0.pkl\n",
      "Length on load: 26304\n",
      "Length after agg: 1096\n",
      "Dropped N/A cols: 0\n",
      "Length after blank drop: 1096\n",
      "\n",
      "ARIMA Model...... RMSE: 9.872397652247686\n",
      "RMSE_pct_range: 42.923468053250815\n",
      "MAPE: 2.5503616124957937\n",
      "MedianAPE: 7.032019102012777\n"
     ]
    },
    {
     "name": "stderr",
     "output_type": "stream",
     "text": [
      "INFO:prophet:Disabling yearly seasonality. Run prophet with yearly_seasonality=True to override this.\n"
     ]
    },
    {
     "name": "stdout",
     "output_type": "stream",
     "text": [
      "\n",
      "Prophet...... RMSE: 16.545761665101967\n",
      "RMSE_pct_range: 71.93809419609552\n",
      "MAPE: 34.04088849410047\n",
      "MedianAPE: 15.05148602232395\n",
      "\n",
      "XGBoost...... RMSE: 4.094282601339661\n",
      "RMSE_pct_range: 17.80122870147679\n",
      "MAPE: 0.7179302491563885\n",
      "MedianAPE: 1.7287675857543938\n",
      "\n",
      "###########################################################\n",
      "File: 670_0.pkl\n",
      "Length on load: 26304\n",
      "Length after agg: 1096\n",
      "Dropped N/A cols: 0\n",
      "Length after blank drop: 1096\n",
      "\n",
      "ARIMA Model...... RMSE: 3.0106359723909897\n",
      "RMSE_pct_range: 15.599150116015489\n",
      "MAPE: 0.14255490142468208\n",
      "MedianAPE: 1.61794547427332\n"
     ]
    },
    {
     "name": "stderr",
     "output_type": "stream",
     "text": [
      "INFO:prophet:Disabling yearly seasonality. Run prophet with yearly_seasonality=True to override this.\n"
     ]
    },
    {
     "name": "stdout",
     "output_type": "stream",
     "text": [
      "\n",
      "Prophet...... RMSE: 2.5284251597498657\n",
      "RMSE_pct_range: 13.100648496113292\n",
      "MAPE: 0.11027852962301149\n",
      "MedianAPE: 1.5801075391912924\n",
      "\n",
      "XGBoost...... RMSE: 6.3618507124179215\n",
      "RMSE_pct_range: 32.96295705916022\n",
      "MAPE: 0.48929543063244035\n",
      "MedianAPE: 2.7581357955932617\n",
      "\n",
      "###########################################################\n",
      "File: 678_0.pkl\n",
      "Length on load: 26304\n",
      "Length after agg: 1096\n",
      "Dropped N/A cols: 0\n",
      "Length after blank drop: 1096\n",
      "\n",
      "ARIMA Model...... RMSE: 12.288494121624636\n",
      "RMSE_pct_range: 22.141430849774117\n",
      "MAPE: 0.26678699142192774\n",
      "MedianAPE: 7.340431321441095\n"
     ]
    },
    {
     "name": "stderr",
     "output_type": "stream",
     "text": [
      "INFO:prophet:Disabling yearly seasonality. Run prophet with yearly_seasonality=True to override this.\n"
     ]
    },
    {
     "name": "stdout",
     "output_type": "stream",
     "text": [
      "\n",
      "Prophet...... RMSE: 6.023030304736724\n",
      "RMSE_pct_range: 10.852306855381485\n",
      "MAPE: 0.12621306748097788\n",
      "MedianAPE: 5.859659003781836\n",
      "\n",
      "XGBoost...... RMSE: 14.51059870636786\n",
      "RMSE_pct_range: 26.145222894356507\n",
      "MAPE: 1.1537406022851837\n",
      "MedianAPE: 3.294536590576172\n",
      "\n",
      "###########################################################\n",
      "File: 684_0.pkl\n",
      "Length on load: 26304\n",
      "Length after agg: 1096\n",
      "Dropped N/A cols: 0\n",
      "Length after blank drop: 1096\n",
      "\n",
      "ARIMA Model...... RMSE: 23.168594879204736\n",
      "RMSE_pct_range: 24.323984125149327\n",
      "MAPE: 0.18002064199202394\n",
      "MedianAPE: 16.64583947744906\n"
     ]
    },
    {
     "name": "stderr",
     "output_type": "stream",
     "text": [
      "INFO:prophet:Disabling yearly seasonality. Run prophet with yearly_seasonality=True to override this.\n"
     ]
    },
    {
     "name": "stdout",
     "output_type": "stream",
     "text": [
      "\n",
      "Prophet...... RMSE: 27.037818943720712\n",
      "RMSE_pct_range: 28.386161620704158\n",
      "MAPE: 0.2139735127720965\n",
      "MedianAPE: 16.89446177021898\n",
      "\n",
      "XGBoost...... RMSE: 53.665364980617674\n",
      "RMSE_pct_range: 56.34159053083221\n",
      "MAPE: 1.255646436968963\n",
      "MedianAPE: 36.100494384765625\n",
      "\n",
      "###########################################################\n",
      "File: 743_0.pkl\n",
      "Length on load: 26304\n",
      "Length after agg: 1096\n",
      "Dropped N/A cols: 0\n",
      "Length after blank drop: 1096\n",
      "\n",
      "ARIMA Model...... RMSE: 11.463341767389974\n",
      "RMSE_pct_range: 59.8607925190077\n",
      "MAPE: 0.546548970324739\n",
      "MedianAPE: 11.699330788947012\n"
     ]
    },
    {
     "name": "stderr",
     "output_type": "stream",
     "text": [
      "INFO:prophet:Disabling yearly seasonality. Run prophet with yearly_seasonality=True to override this.\n"
     ]
    },
    {
     "name": "stdout",
     "output_type": "stream",
     "text": [
      "\n",
      "Prophet...... RMSE: 12.468432959055203\n",
      "RMSE_pct_range: 65.1093104911499\n",
      "MAPE: 0.5177289302188577\n",
      "MedianAPE: 9.609321105795761\n",
      "\n",
      "XGBoost...... RMSE: 34.537073791318655\n",
      "RMSE_pct_range: 180.35025478495382\n",
      "MAPE: 0.8923394025045447\n",
      "MedianAPE: 20.163422326660157\n",
      "\n",
      "###########################################################\n",
      "File: 1034_0.pkl\n",
      "Length on load: 26304\n",
      "Length after agg: 1096\n",
      "Dropped N/A cols: 0\n",
      "Length after blank drop: 1096\n",
      "\n",
      "ARIMA Model...... RMSE: 1.6425316655220765\n",
      "RMSE_pct_range: 27.675343985207697\n",
      "MAPE: 0.22215410617863512\n",
      "MedianAPE: 1.2645669950967253\n"
     ]
    },
    {
     "name": "stderr",
     "output_type": "stream",
     "text": [
      "INFO:prophet:Disabling yearly seasonality. Run prophet with yearly_seasonality=True to override this.\n"
     ]
    },
    {
     "name": "stdout",
     "output_type": "stream",
     "text": [
      "\n",
      "Prophet...... RMSE: 1.4261557427520442\n",
      "RMSE_pct_range: 24.029582860186085\n",
      "MAPE: 0.18203217445733583\n",
      "MedianAPE: 0.9098385071327506\n",
      "\n",
      "XGBoost...... RMSE: 1.5573504544812753\n",
      "RMSE_pct_range: 26.24010875284373\n",
      "MAPE: 0.19865615574388343\n",
      "MedianAPE: 0.8398554992675784\n",
      "\n",
      "###########################################################\n",
      "File: 1047_0.pkl\n",
      "Length on load: 26304\n",
      "Length after agg: 1096\n",
      "Dropped N/A cols: 0\n",
      "Length after blank drop: 1096\n",
      "\n",
      "ARIMA Model...... RMSE: 43.73787805364837\n",
      "RMSE_pct_range: 29.292255695924652\n",
      "MAPE: 0.25418150435465614\n",
      "MedianAPE: 32.0315185937996\n"
     ]
    },
    {
     "name": "stderr",
     "output_type": "stream",
     "text": [
      "INFO:prophet:Disabling yearly seasonality. Run prophet with yearly_seasonality=True to override this.\n"
     ]
    },
    {
     "name": "stdout",
     "output_type": "stream",
     "text": [
      "\n",
      "Prophet...... RMSE: 41.042474449798696\n",
      "RMSE_pct_range: 27.487082352333616\n",
      "MAPE: 0.23079828777958009\n",
      "MedianAPE: 27.25425607341569\n",
      "\n",
      "XGBoost...... RMSE: 48.97051313487927\n",
      "RMSE_pct_range: 32.79667089811793\n",
      "MAPE: 0.2767136269383125\n",
      "MedianAPE: 44.59095520019531\n",
      "\n",
      "###########################################################\n",
      "File: 1048_0.pkl\n",
      "Length on load: 26304\n",
      "Length after agg: 1096\n",
      "Dropped N/A cols: 0\n",
      "Length after blank drop: 1096\n",
      "\n",
      "ARIMA Model...... RMSE: 28.418367854175532\n",
      "RMSE_pct_range: 26.634333603574127\n",
      "MAPE: 0.1832786625386044\n",
      "MedianAPE: 20.29249060573197\n"
     ]
    },
    {
     "name": "stderr",
     "output_type": "stream",
     "text": [
      "INFO:prophet:Disabling yearly seasonality. Run prophet with yearly_seasonality=True to override this.\n"
     ]
    },
    {
     "name": "stdout",
     "output_type": "stream",
     "text": [
      "\n",
      "Prophet...... RMSE: 28.100413547645047\n",
      "RMSE_pct_range: 26.336339675341485\n",
      "MAPE: 0.1841378799408436\n",
      "MedianAPE: 21.727926888453112\n",
      "\n",
      "XGBoost...... RMSE: 28.34751425134862\n",
      "RMSE_pct_range: 26.567928013204174\n",
      "MAPE: 0.14171204537835336\n",
      "MedianAPE: 10.313973144531246\n",
      "\n",
      "###########################################################\n",
      "File: 1073_0.pkl\n",
      "Length on load: 26304\n",
      "Length after agg: 1096\n",
      "Dropped N/A cols: 0\n",
      "Length after blank drop: 1096\n",
      "\n",
      "ARIMA Model...... RMSE: 153.43579275139015\n",
      "RMSE_pct_range: 40.69914927092577\n",
      "MAPE: 0.6182513090824739\n",
      "MedianAPE: 2.2502252341309514\n"
     ]
    },
    {
     "name": "stderr",
     "output_type": "stream",
     "text": [
      "INFO:prophet:Disabling yearly seasonality. Run prophet with yearly_seasonality=True to override this.\n"
     ]
    },
    {
     "name": "stdout",
     "output_type": "stream",
     "text": [
      "\n",
      "Prophet...... RMSE: 155.3755524359531\n",
      "RMSE_pct_range: 41.213674386194455\n",
      "MAPE: 0.6586722670244437\n",
      "MedianAPE: 3.634516816282826\n",
      "\n",
      "XGBoost...... RMSE: 153.37312913809748\n",
      "RMSE_pct_range: 40.682527622837526\n",
      "MAPE: 0.6206259999827968\n",
      "MedianAPE: 2.86871337890625\n",
      "\n",
      "###########################################################\n",
      "File: 1073_1.pkl\n",
      "Length on load: 26304\n",
      "Length after agg: 1096\n",
      "Dropped N/A cols: 0\n",
      "Length after blank drop: 1096\n",
      "\n",
      "ARIMA Model...... RMSE: 511.34053460268797\n",
      "RMSE_pct_range: 52.64589619034621\n",
      "MAPE: 0.6531741715691376\n",
      "MedianAPE: 512.899849263238\n"
     ]
    },
    {
     "name": "stderr",
     "output_type": "stream",
     "text": [
      "INFO:prophet:Disabling yearly seasonality. Run prophet with yearly_seasonality=True to override this.\n"
     ]
    },
    {
     "name": "stdout",
     "output_type": "stream",
     "text": [
      "\n",
      "Prophet...... RMSE: 462.9469432288928\n",
      "RMSE_pct_range: 47.66345530147274\n",
      "MAPE: 0.6490058156345904\n",
      "MedianAPE: 470.7184566259847\n",
      "\n",
      "XGBoost...... RMSE: 128.6298972042278\n",
      "RMSE_pct_range: 13.243300221544931\n",
      "MAPE: 0.3536890204303716\n",
      "MedianAPE: 97.29214013671876\n",
      "\n",
      "###########################################################\n",
      "File: 1073_2.pkl\n",
      "Length on load: 26304\n",
      "Length after agg: 1096\n",
      "Dropped N/A cols: 0\n",
      "Length after blank drop: 1096\n",
      "\n",
      "ARIMA Model...... RMSE: 423.15252910384464\n",
      "RMSE_pct_range: 27.260503532206027\n",
      "MAPE: 0.22877799091847698\n",
      "MedianAPE: 274.4487818454613\n"
     ]
    },
    {
     "name": "stderr",
     "output_type": "stream",
     "text": [
      "INFO:prophet:Disabling yearly seasonality. Run prophet with yearly_seasonality=True to override this.\n"
     ]
    },
    {
     "name": "stdout",
     "output_type": "stream",
     "text": [
      "\n",
      "Prophet...... RMSE: 411.0802259953588\n",
      "RMSE_pct_range: 26.48277673419372\n",
      "MAPE: 0.14856868381003552\n",
      "MedianAPE: 260.5198448005617\n",
      "\n",
      "XGBoost...... RMSE: 414.42244860673907\n",
      "RMSE_pct_range: 26.69809075227582\n",
      "MAPE: 0.19512751217297902\n",
      "MedianAPE: 194.38934570312495\n",
      "\n",
      "###########################################################\n",
      "File: 1079_2.pkl\n",
      "Length on load: 26304\n",
      "Length after agg: 1096\n",
      "Dropped N/A cols: 0\n",
      "Length after blank drop: 1096\n",
      "\n",
      "ARIMA Model...... RMSE: 18.78647447533745\n",
      "RMSE_pct_range: 28.410547410718262\n",
      "MAPE: 2.4968733073760094\n",
      "MedianAPE: 16.050242230051722\n"
     ]
    },
    {
     "name": "stderr",
     "output_type": "stream",
     "text": [
      "INFO:prophet:Disabling yearly seasonality. Run prophet with yearly_seasonality=True to override this.\n"
     ]
    },
    {
     "name": "stdout",
     "output_type": "stream",
     "text": [
      "\n",
      "Prophet...... RMSE: 15.932342538716632\n",
      "RMSE_pct_range: 24.094279831707574\n",
      "MAPE: 0.46342762228021783\n",
      "MedianAPE: 14.052310109936798\n",
      "\n",
      "XGBoost...... RMSE: 14.633829073515752\n",
      "RMSE_pct_range: 22.130554364485068\n",
      "MAPE: 0.25407742676400724\n",
      "MedianAPE: 9.130050659179688\n",
      "\n",
      "###########################################################\n",
      "File: 1081_0.pkl\n",
      "Length on load: 26304\n",
      "Length after agg: 1096\n",
      "Dropped N/A cols: 0\n",
      "Length after blank drop: 1096\n",
      "\n",
      "ARIMA Model...... RMSE: 1.4662149636134831\n",
      "RMSE_pct_range: 20.577011628846865\n",
      "MAPE: 0.08278122101754935\n",
      "MedianAPE: 1.032140268885687\n"
     ]
    },
    {
     "name": "stderr",
     "output_type": "stream",
     "text": [
      "INFO:prophet:Disabling yearly seasonality. Run prophet with yearly_seasonality=True to override this.\n"
     ]
    },
    {
     "name": "stdout",
     "output_type": "stream",
     "text": [
      "\n",
      "Prophet...... RMSE: 2.2900925827617598\n",
      "RMSE_pct_range: 32.139394888243075\n",
      "MAPE: 0.1428790274155627\n",
      "MedianAPE: 1.8496267602749867\n",
      "\n",
      "XGBoost...... RMSE: 2.0731702628531927\n",
      "RMSE_pct_range: 29.09508473585283\n",
      "MAPE: 0.12647765012982132\n",
      "MedianAPE: 1.493125747680665\n",
      "\n",
      "###########################################################\n",
      "File: 1105_0.pkl\n",
      "Length on load: 26304\n",
      "Length after agg: 1096\n",
      "Dropped N/A cols: 0\n",
      "Length after blank drop: 1096\n",
      "\n",
      "ARIMA Model...... RMSE: 9.954576698547674\n",
      "RMSE_pct_range: 32.35314265741805\n",
      "MAPE: 0.1213346189296007\n",
      "MedianAPE: 5.724372199385044\n"
     ]
    },
    {
     "name": "stderr",
     "output_type": "stream",
     "text": [
      "INFO:prophet:Disabling yearly seasonality. Run prophet with yearly_seasonality=True to override this.\n"
     ]
    },
    {
     "name": "stdout",
     "output_type": "stream",
     "text": [
      "\n",
      "Prophet...... RMSE: 7.159464568709946\n",
      "RMSE_pct_range: 23.268812482603778\n",
      "MAPE: 0.08481929721959212\n",
      "MedianAPE: 3.9138416411397827\n",
      "\n",
      "XGBoost...... RMSE: 7.374576578184462\n",
      "RMSE_pct_range: 23.96794311774854\n",
      "MAPE: 0.08056576883879883\n",
      "MedianAPE: 5.587439941406245\n",
      "\n",
      "###########################################################\n",
      "File: 1105_2.pkl\n",
      "Length on load: 26304\n",
      "Length after agg: 1096\n",
      "Dropped N/A cols: 0\n",
      "Length after blank drop: 1096\n",
      "\n",
      "ARIMA Model...... RMSE: 927.4912928364191\n",
      "RMSE_pct_range: 72.72217069574162\n",
      "MAPE: 10.524920289736617\n",
      "MedianAPE: 945.7863423626488\n"
     ]
    },
    {
     "name": "stderr",
     "output_type": "stream",
     "text": [
      "INFO:prophet:Disabling yearly seasonality. Run prophet with yearly_seasonality=True to override this.\n"
     ]
    },
    {
     "name": "stdout",
     "output_type": "stream",
     "text": [
      "\n",
      "Prophet...... RMSE: 570.2334638974527\n",
      "RMSE_pct_range: 44.71051708869073\n",
      "MAPE: 2.745955991215652\n",
      "MedianAPE: 478.1172881481163\n",
      "\n",
      "XGBoost...... RMSE: 681.9602765384438\n",
      "RMSE_pct_range: 53.47072476171555\n",
      "MAPE: 4.12967192252743\n",
      "MedianAPE: 582.4728593139648\n",
      "\n",
      "###########################################################\n",
      "File: 1108_0.pkl\n",
      "Length on load: 26304\n",
      "Length after agg: 1096\n",
      "Dropped N/A cols: 0\n",
      "Length after blank drop: 1096\n",
      "\n",
      "ARIMA Model...... RMSE: 25.48472700069591\n",
      "RMSE_pct_range: 42.908637382681306\n",
      "MAPE: 0.28087157244211064\n",
      "MedianAPE: 27.3295118398066\n"
     ]
    },
    {
     "name": "stderr",
     "output_type": "stream",
     "text": [
      "INFO:prophet:Disabling yearly seasonality. Run prophet with yearly_seasonality=True to override this.\n"
     ]
    },
    {
     "name": "stdout",
     "output_type": "stream",
     "text": [
      "\n",
      "Prophet...... RMSE: 12.495024222635386\n",
      "RMSE_pct_range: 21.03787352488574\n",
      "MAPE: 0.1199731332540284\n",
      "MedianAPE: 11.358936424354056\n",
      "\n",
      "XGBoost...... RMSE: 25.711621474869762\n",
      "RMSE_pct_range: 43.290659631387136\n",
      "MAPE: 0.2880385084401624\n",
      "MedianAPE: 26.408456604003902\n",
      "\n",
      "###########################################################\n",
      "File: 1109_2.pkl\n",
      "Length on load: 26304\n",
      "Length after agg: 1096\n",
      "Dropped N/A cols: 0\n",
      "Length after blank drop: 1096\n",
      "\n",
      "ARIMA Model...... RMSE: 121.95832542036051\n",
      "RMSE_pct_range: 15.610635681385634\n",
      "MAPE: 0.11697015078803293\n",
      "MedianAPE: 87.09811988175943\n"
     ]
    },
    {
     "name": "stderr",
     "output_type": "stream",
     "text": [
      "INFO:prophet:Disabling yearly seasonality. Run prophet with yearly_seasonality=True to override this.\n"
     ]
    },
    {
     "name": "stdout",
     "output_type": "stream",
     "text": [
      "\n",
      "Prophet...... RMSE: 146.00605567819474\n",
      "RMSE_pct_range: 18.688739244429577\n",
      "MAPE: 0.13341559219275115\n",
      "MedianAPE: 111.43589553517086\n",
      "\n",
      "XGBoost...... RMSE: 152.39010233855947\n",
      "RMSE_pct_range: 19.505895648015965\n",
      "MAPE: 0.13353347787459224\n",
      "MedianAPE: 80.00006103515625\n",
      "\n",
      "###########################################################\n",
      "File: 1118_0.pkl\n",
      "Length on load: 26304\n",
      "Length after agg: 1096\n",
      "Dropped N/A cols: 0\n",
      "Length after blank drop: 1096\n",
      "\n",
      "ARIMA Model...... RMSE: 1.4461170824080787\n",
      "RMSE_pct_range: 14.34639962706427\n",
      "MAPE: 0.06322516870850071\n",
      "MedianAPE: 1.215024514468702\n"
     ]
    },
    {
     "name": "stderr",
     "output_type": "stream",
     "text": [
      "INFO:prophet:Disabling yearly seasonality. Run prophet with yearly_seasonality=True to override this.\n"
     ]
    },
    {
     "name": "stdout",
     "output_type": "stream",
     "text": [
      "\n",
      "Prophet...... RMSE: 3.9130024091562756\n",
      "RMSE_pct_range: 38.81946834480432\n",
      "MAPE: 0.1551901902355897\n",
      "MedianAPE: 3.7985180542666512\n",
      "\n",
      "XGBoost...... RMSE: 4.0625938550963685\n",
      "RMSE_pct_range: 40.30351046722588\n",
      "MAPE: 0.1519391988764431\n",
      "MedianAPE: 2.879023666381837\n",
      "\n",
      "###########################################################\n",
      "File: 1124_0.pkl\n",
      "Length on load: 26304\n",
      "Length after agg: 1096\n",
      "Dropped N/A cols: 0\n",
      "Length after blank drop: 1096\n",
      "\n",
      "ARIMA Model...... RMSE: 58.92954723108944\n",
      "RMSE_pct_range: 196.4776688930397\n",
      "MAPE: 0.27836112044336\n",
      "MedianAPE: 59.16669433512777\n"
     ]
    },
    {
     "name": "stderr",
     "output_type": "stream",
     "text": [
      "INFO:prophet:Disabling yearly seasonality. Run prophet with yearly_seasonality=True to override this.\n"
     ]
    },
    {
     "name": "stdout",
     "output_type": "stream",
     "text": [
      "\n",
      "Prophet...... RMSE: 78.56752630294517\n",
      "RMSE_pct_range: 261.9528766810426\n",
      "MAPE: 0.3481525575539644\n",
      "MedianAPE: 76.24839727973347\n",
      "\n",
      "XGBoost...... RMSE: 43.97864080528557\n",
      "RMSE_pct_range: 146.62968294363864\n",
      "MAPE: 0.12796337017970025\n",
      "MedianAPE: 8.79128039550784\n",
      "\n",
      "###########################################################\n",
      "File: 1130_0.pkl\n",
      "Length on load: 26304\n",
      "Length after agg: 1096\n",
      "Dropped N/A cols: 0\n",
      "Length after blank drop: 1096\n",
      "\n",
      "ARIMA Model...... RMSE: 259.49462767639284\n",
      "RMSE_pct_range: 44.78678420372674\n",
      "MAPE: 0.2404907562669579\n",
      "MedianAPE: 204.83770903930963\n"
     ]
    },
    {
     "name": "stderr",
     "output_type": "stream",
     "text": [
      "INFO:prophet:Disabling yearly seasonality. Run prophet with yearly_seasonality=True to override this.\n"
     ]
    },
    {
     "name": "stdout",
     "output_type": "stream",
     "text": [
      "\n",
      "Prophet...... RMSE: 180.28967000822\n",
      "RMSE_pct_range: 31.11661546569209\n",
      "MAPE: 0.14636689641125933\n",
      "MedianAPE: 145.76394006980127\n",
      "\n",
      "XGBoost...... RMSE: 160.71302327293125\n",
      "RMSE_pct_range: 27.737836256978117\n",
      "MAPE: 0.10297801623111233\n",
      "MedianAPE: 78.81636718749996\n",
      "\n",
      "###########################################################\n",
      "File: 1133_2.pkl\n",
      "Length on load: 26304\n",
      "Length after agg: 1096\n",
      "Dropped N/A cols: 0\n",
      "Length after blank drop: 1096\n",
      "\n",
      "ARIMA Model...... RMSE: 803.3795932672496\n",
      "RMSE_pct_range: 86.41370707087842\n",
      "MAPE: 1.4211367230280891\n",
      "MedianAPE: 785.4334540377438\n"
     ]
    },
    {
     "name": "stderr",
     "output_type": "stream",
     "text": [
      "INFO:prophet:Disabling yearly seasonality. Run prophet with yearly_seasonality=True to override this.\n"
     ]
    },
    {
     "name": "stdout",
     "output_type": "stream",
     "text": [
      "\n",
      "Prophet...... RMSE: 167.60165454938416\n",
      "RMSE_pct_range: 18.02769251571859\n",
      "MAPE: 0.1048966336654369\n",
      "MedianAPE: 124.16762534669954\n",
      "\n",
      "XGBoost...... RMSE: 231.80833527297617\n",
      "RMSE_pct_range: 24.933938761627655\n",
      "MAPE: 0.1210692689440142\n",
      "MedianAPE: 161.1697998046875\n",
      "\n",
      "###########################################################\n",
      "File: 1138_0.pkl\n",
      "Length on load: 26304\n",
      "Length after agg: 1096\n",
      "Dropped N/A cols: 0\n",
      "Length after blank drop: 1096\n",
      "\n",
      "ARIMA Model...... RMSE: 26.48547826047321\n",
      "RMSE_pct_range: 77.93858091804078\n",
      "MAPE: 0.2715796899916851\n",
      "MedianAPE: 23.47887167085551\n"
     ]
    },
    {
     "name": "stderr",
     "output_type": "stream",
     "text": [
      "INFO:prophet:Disabling yearly seasonality. Run prophet with yearly_seasonality=True to override this.\n"
     ]
    },
    {
     "name": "stdout",
     "output_type": "stream",
     "text": [
      "\n",
      "Prophet...... RMSE: 8.589400939850197\n",
      "RMSE_pct_range: 25.275953622747583\n",
      "MAPE: 0.10170947392782168\n",
      "MedianAPE: 5.400768257206394\n",
      "\n",
      "XGBoost...... RMSE: 9.817295011131886\n",
      "RMSE_pct_range: 28.88926656700327\n",
      "MAPE: 0.09123400176903027\n",
      "MedianAPE: 4.622325317382817\n",
      "\n",
      "###########################################################\n",
      "File: 1140_1.pkl\n",
      "Length on load: 26304\n",
      "Length after agg: 1096\n",
      "Dropped N/A cols: 0\n",
      "Length after blank drop: 1096\n",
      "\n",
      "ARIMA Model...... RMSE: 349.88028337200547\n",
      "RMSE_pct_range: 33.56977258502827\n",
      "MAPE: 0.49026727065833026\n",
      "MedianAPE: 378.7481193771138\n"
     ]
    },
    {
     "name": "stderr",
     "output_type": "stream",
     "text": [
      "INFO:prophet:Disabling yearly seasonality. Run prophet with yearly_seasonality=True to override this.\n"
     ]
    },
    {
     "name": "stdout",
     "output_type": "stream",
     "text": [
      "\n",
      "Prophet...... RMSE: 361.47670049587543\n",
      "RMSE_pct_range: 34.68240768952067\n",
      "MAPE: 0.5061063937368634\n",
      "MedianAPE: 353.0036710748607\n",
      "\n",
      "XGBoost...... RMSE: 142.3788633868517\n",
      "RMSE_pct_range: 13.660747095398762\n",
      "MAPE: 0.25294272403259416\n",
      "MedianAPE: 41.018294921875\n",
      "\n",
      "###########################################################\n",
      "File: 1145_2.pkl\n",
      "Length on load: 26304\n",
      "Length after agg: 1096\n",
      "Dropped N/A cols: 0\n",
      "Length after blank drop: 1096\n",
      "\n",
      "ARIMA Model...... RMSE: 42.096432260457746\n",
      "RMSE_pct_range: 25.658777758755193\n",
      "MAPE: 0.12189125968671491\n",
      "MedianAPE: 31.307061145247985\n"
     ]
    },
    {
     "name": "stderr",
     "output_type": "stream",
     "text": [
      "INFO:prophet:Disabling yearly seasonality. Run prophet with yearly_seasonality=True to override this.\n"
     ]
    },
    {
     "name": "stdout",
     "output_type": "stream",
     "text": [
      "\n",
      "Prophet...... RMSE: 98.57178792091806\n",
      "RMSE_pct_range: 60.081851685130985\n",
      "MAPE: 0.20096497168303462\n",
      "MedianAPE: 83.71704515568723\n",
      "\n",
      "XGBoost...... RMSE: 71.46739022809031\n",
      "RMSE_pct_range: 43.56107594855027\n",
      "MAPE: 0.1502584879490954\n",
      "MedianAPE: 45.89245678710938\n",
      "\n",
      "###########################################################\n",
      "File: 1148_1.pkl\n",
      "Length on load: 26304\n",
      "Length after agg: 1096\n",
      "Dropped N/A cols: 0\n",
      "Length after blank drop: 1096\n",
      "\n",
      "ARIMA Model...... RMSE: 448.0777439764276\n",
      "RMSE_pct_range: 35.21611863701332\n",
      "MAPE: 0.49045490089653826\n",
      "MedianAPE: 400.580465338209\n"
     ]
    },
    {
     "name": "stderr",
     "output_type": "stream",
     "text": [
      "INFO:prophet:Disabling yearly seasonality. Run prophet with yearly_seasonality=True to override this.\n"
     ]
    },
    {
     "name": "stdout",
     "output_type": "stream",
     "text": [
      "\n",
      "Prophet...... RMSE: 747.8093423086216\n",
      "RMSE_pct_range: 58.77315459344204\n",
      "MAPE: 0.6244183138344365\n",
      "MedianAPE: 732.510742118078\n",
      "\n",
      "XGBoost...... RMSE: 251.65581377764806\n",
      "RMSE_pct_range: 19.778578857855553\n",
      "MAPE: 0.3458752730837396\n",
      "MedianAPE: 132.73880932617186\n",
      "\n",
      "###########################################################\n",
      "File: 1149_0.pkl\n",
      "Length on load: 26304\n",
      "Length after agg: 1096\n",
      "Dropped N/A cols: 0\n",
      "Length after blank drop: 1096\n",
      "\n",
      "ARIMA Model...... RMSE: 59.48856573009558\n",
      "RMSE_pct_range: 16.80565279347973\n",
      "MAPE: 0.11060612713403074\n",
      "MedianAPE: 52.41253473564598\n"
     ]
    },
    {
     "name": "stderr",
     "output_type": "stream",
     "text": [
      "INFO:prophet:Disabling yearly seasonality. Run prophet with yearly_seasonality=True to override this.\n"
     ]
    },
    {
     "name": "stdout",
     "output_type": "stream",
     "text": [
      "\n",
      "Prophet...... RMSE: 75.14889965853463\n",
      "RMSE_pct_range: 21.229732133791543\n",
      "MAPE: 0.13859380539138505\n",
      "MedianAPE: 67.62974897312063\n",
      "\n",
      "XGBoost...... RMSE: 38.663572892784096\n",
      "RMSE_pct_range: 10.922545766854888\n",
      "MAPE: 0.07211268840425172\n",
      "MedianAPE: 24.583592773437545\n",
      "\n",
      "###########################################################\n",
      "File: 1151_1.pkl\n",
      "Length on load: 26304\n",
      "Length after agg: 1096\n",
      "Dropped N/A cols: 0\n",
      "Length after blank drop: 1096\n",
      "\n",
      "ARIMA Model...... RMSE: 258.7975421035583\n",
      "RMSE_pct_range: 48.864658546186774\n",
      "MAPE: 0.5536819820435117\n",
      "MedianAPE: 270.10753441403233\n"
     ]
    },
    {
     "name": "stderr",
     "output_type": "stream",
     "text": [
      "INFO:prophet:Disabling yearly seasonality. Run prophet with yearly_seasonality=True to override this.\n"
     ]
    },
    {
     "name": "stdout",
     "output_type": "stream",
     "text": [
      "\n",
      "Prophet...... RMSE: 181.39700609291498\n",
      "RMSE_pct_range: 34.250335965261776\n",
      "MAPE: 0.5054697758644319\n",
      "MedianAPE: 169.57222362217374\n",
      "\n",
      "XGBoost...... RMSE: 95.33163808112415\n",
      "RMSE_pct_range: 17.999969805040656\n",
      "MAPE: 0.3186749297047568\n",
      "MedianAPE: 29.891517089843745\n",
      "\n",
      "###########################################################\n",
      "File: 1154_0.pkl\n",
      "Length on load: 26304\n",
      "Length after agg: 1096\n",
      "Dropped N/A cols: 0\n",
      "Length after blank drop: 1096\n",
      "\n",
      "ARIMA Model...... RMSE: 71.07762568960145\n",
      "RMSE_pct_range: 31.31676489373906\n",
      "MAPE: 0.2093688687623819\n",
      "MedianAPE: 61.73988630759101\n"
     ]
    },
    {
     "name": "stderr",
     "output_type": "stream",
     "text": [
      "INFO:prophet:Disabling yearly seasonality. Run prophet with yearly_seasonality=True to override this.\n"
     ]
    },
    {
     "name": "stdout",
     "output_type": "stream",
     "text": [
      "\n",
      "Prophet...... RMSE: 119.68456257269821\n",
      "RMSE_pct_range: 52.732955991909805\n",
      "MAPE: 0.47992607055359765\n",
      "MedianAPE: 116.39071876095508\n",
      "\n",
      "XGBoost...... RMSE: 80.67790224373881\n",
      "RMSE_pct_range: 35.54664174800741\n",
      "MAPE: 0.21234814461879317\n",
      "MedianAPE: 35.78117797851564\n",
      "\n",
      "###########################################################\n",
      "File: 1154_2.pkl\n",
      "Length on load: 26304\n",
      "Length after agg: 1096\n",
      "Dropped N/A cols: 0\n",
      "Length after blank drop: 1096\n",
      "\n",
      "ARIMA Model...... RMSE: 8626.100215478762\n",
      "RMSE_pct_range: 34.251576276785585\n",
      "MAPE: 1.029158295041163\n",
      "MedianAPE: 5477.794685196457\n"
     ]
    },
    {
     "name": "stderr",
     "output_type": "stream",
     "text": [
      "INFO:prophet:Disabling yearly seasonality. Run prophet with yearly_seasonality=True to override this.\n"
     ]
    },
    {
     "name": "stdout",
     "output_type": "stream",
     "text": [
      "\n",
      "Prophet...... RMSE: 10295.795988446123\n",
      "RMSE_pct_range: 40.881421826712796\n",
      "MAPE: 1.977819090430656\n",
      "MedianAPE: 8130.148712259359\n",
      "\n",
      "XGBoost...... RMSE: 8650.278430210596\n",
      "RMSE_pct_range: 34.34758049021193\n",
      "MAPE: 1.0560069366810891\n",
      "MedianAPE: 5987.9248046875\n",
      "\n",
      "###########################################################\n",
      "File: 1156_0.pkl\n",
      "Length on load: 26304\n",
      "Length after agg: 1096\n",
      "Dropped N/A cols: 0\n",
      "Length after blank drop: 1096\n",
      "\n",
      "ARIMA Model...... RMSE: 499.1861733697874\n",
      "RMSE_pct_range: 61.61320392841802\n",
      "MAPE: 0.3250488239109165\n",
      "MedianAPE: 458.8241197274409\n"
     ]
    },
    {
     "name": "stderr",
     "output_type": "stream",
     "text": [
      "INFO:prophet:Disabling yearly seasonality. Run prophet with yearly_seasonality=True to override this.\n"
     ]
    },
    {
     "name": "stdout",
     "output_type": "stream",
     "text": [
      "\n",
      "Prophet...... RMSE: 1083.2329647536524\n",
      "RMSE_pct_range: 133.70052521448918\n",
      "MAPE: 0.5337754868945951\n",
      "MedianAPE: 1064.5641371873523\n",
      "\n",
      "XGBoost...... RMSE: 423.87316377051366\n",
      "RMSE_pct_range: 52.31752214384757\n",
      "MAPE: 0.2699441505205325\n",
      "MedianAPE: 393.49871582031255\n",
      "\n",
      "###########################################################\n",
      "File: 1156_2.pkl\n",
      "Length on load: 26304\n",
      "Length after agg: 1096\n",
      "Dropped N/A cols: 0\n",
      "Length after blank drop: 1096\n",
      "\n",
      "ARIMA Model...... RMSE: 3705.234843750932\n",
      "RMSE_pct_range: 37.023377644502496\n",
      "MAPE: 0.6132305535159291\n",
      "MedianAPE: 3154.085070042027\n"
     ]
    },
    {
     "name": "stderr",
     "output_type": "stream",
     "text": [
      "INFO:prophet:Disabling yearly seasonality. Run prophet with yearly_seasonality=True to override this.\n"
     ]
    },
    {
     "name": "stdout",
     "output_type": "stream",
     "text": [
      "\n",
      "Prophet...... RMSE: 2192.5138229295544\n",
      "RMSE_pct_range: 21.90799522303352\n",
      "MAPE: 0.1782033452466159\n",
      "MedianAPE: 1005.7164601109444\n",
      "\n",
      "XGBoost...... RMSE: 2117.5418589823203\n",
      "RMSE_pct_range: 21.158861780479977\n",
      "MAPE: 0.19575897097185466\n",
      "MedianAPE: 1332.6673437499994\n",
      "\n",
      "###########################################################\n",
      "File: 1164_1.pkl\n",
      "Length on load: 26304\n",
      "Length after agg: 1096\n",
      "Dropped N/A cols: 0\n",
      "Length after blank drop: 1096\n",
      "\n",
      "ARIMA Model...... RMSE: 332.1623840133885\n",
      "RMSE_pct_range: 59.03099371740793\n",
      "MAPE: 0.685204613448983\n",
      "MedianAPE: 357.40454363443973\n"
     ]
    },
    {
     "name": "stderr",
     "output_type": "stream",
     "text": [
      "INFO:prophet:Disabling yearly seasonality. Run prophet with yearly_seasonality=True to override this.\n"
     ]
    },
    {
     "name": "stdout",
     "output_type": "stream",
     "text": [
      "\n",
      "Prophet...... RMSE: 276.08163058776677\n",
      "RMSE_pct_range: 49.06447504321049\n",
      "MAPE: 0.6824447373224445\n",
      "MedianAPE: 261.0430177084524\n",
      "\n",
      "XGBoost...... RMSE: 98.42162670277207\n",
      "RMSE_pct_range: 17.491223290696958\n",
      "MAPE: 0.3492509170450041\n",
      "MedianAPE: 19.281811059570316\n",
      "\n",
      "###########################################################\n",
      "File: 1169_1.pkl\n",
      "Length on load: 26304\n",
      "Length after agg: 1096\n",
      "Dropped N/A cols: 0\n",
      "Length after blank drop: 1096\n",
      "\n",
      "ARIMA Model...... RMSE: 131.1899255102919\n",
      "RMSE_pct_range: 27.68826894091455\n",
      "MAPE: 0.3719846181407203\n",
      "MedianAPE: 134.33096158734725\n"
     ]
    },
    {
     "name": "stderr",
     "output_type": "stream",
     "text": [
      "INFO:prophet:Disabling yearly seasonality. Run prophet with yearly_seasonality=True to override this.\n"
     ]
    },
    {
     "name": "stdout",
     "output_type": "stream",
     "text": [
      "\n",
      "Prophet...... RMSE: 178.99083881712454\n",
      "RMSE_pct_range: 37.776883124608794\n",
      "MAPE: 0.44325665349464766\n",
      "MedianAPE: 182.0187159090907\n",
      "\n",
      "XGBoost...... RMSE: 59.42423799076135\n",
      "RMSE_pct_range: 12.541773133090414\n",
      "MAPE: 0.1872344350112061\n",
      "MedianAPE: 36.333898925781256\n",
      "\n",
      "###########################################################\n",
      "File: 1171_0.pkl\n",
      "Length on load: 26304\n",
      "Length after agg: 1096\n",
      "Dropped N/A cols: 0\n",
      "Length after blank drop: 1096\n",
      "\n",
      "ARIMA Model...... RMSE: 59.75597203417375\n",
      "RMSE_pct_range: 31.9601925625361\n",
      "MAPE: 0.3409901130517443\n",
      "MedianAPE: 46.02688099235857\n"
     ]
    },
    {
     "name": "stderr",
     "output_type": "stream",
     "text": [
      "INFO:prophet:Disabling yearly seasonality. Run prophet with yearly_seasonality=True to override this.\n"
     ]
    },
    {
     "name": "stdout",
     "output_type": "stream",
     "text": [
      "\n",
      "Prophet...... RMSE: 51.38305905531615\n",
      "RMSE_pct_range: 27.481980561221665\n",
      "MAPE: 0.2739466374570456\n",
      "MedianAPE: 47.122432996571206\n",
      "\n",
      "XGBoost...... RMSE: 58.10200434383986\n",
      "RMSE_pct_range: 31.075575944718324\n",
      "MAPE: 0.3218726511315666\n",
      "MedianAPE: 34.916318237304694\n",
      "\n",
      "###########################################################\n",
      "File: 1178_0.pkl\n",
      "Length on load: 26304\n",
      "Length after agg: 1096\n",
      "Dropped N/A cols: 0\n",
      "Length after blank drop: 1096\n",
      "\n",
      "ARIMA Model...... RMSE: 18.46629204325778\n",
      "RMSE_pct_range: 34.722497143341855\n",
      "MAPE: 0.12390009716897431\n",
      "MedianAPE: 16.720381081349785\n"
     ]
    },
    {
     "name": "stderr",
     "output_type": "stream",
     "text": [
      "INFO:prophet:Disabling yearly seasonality. Run prophet with yearly_seasonality=True to override this.\n"
     ]
    },
    {
     "name": "stdout",
     "output_type": "stream",
     "text": [
      "\n",
      "Prophet...... RMSE: 19.807448494118244\n",
      "RMSE_pct_range: 37.24429745521224\n",
      "MAPE: 0.13068629144101998\n",
      "MedianAPE: 19.25808513241691\n",
      "\n",
      "XGBoost...... RMSE: 13.16247366426132\n",
      "RMSE_pct_range: 24.74963317681817\n",
      "MAPE: 0.0849956982121857\n",
      "MedianAPE: 7.682430969238283\n",
      "\n",
      "###########################################################\n",
      "File: 1179_1.pkl\n",
      "Length on load: 26304\n",
      "Length after agg: 1096\n",
      "Dropped N/A cols: 0\n",
      "Length after blank drop: 1096\n",
      "\n",
      "ARIMA Model...... RMSE: 133.03195246897567\n",
      "RMSE_pct_range: 35.107105705058636\n",
      "MAPE: 0.43094881543616276\n",
      "MedianAPE: 109.36962787254691\n"
     ]
    },
    {
     "name": "stderr",
     "output_type": "stream",
     "text": [
      "INFO:prophet:Disabling yearly seasonality. Run prophet with yearly_seasonality=True to override this.\n"
     ]
    },
    {
     "name": "stdout",
     "output_type": "stream",
     "text": [
      "\n",
      "Prophet...... RMSE: 158.2512428962591\n",
      "RMSE_pct_range: 41.762471415365646\n",
      "MAPE: 0.4484933899950263\n",
      "MedianAPE: 141.5090707520327\n",
      "\n",
      "XGBoost...... RMSE: 91.71398843107454\n",
      "RMSE_pct_range: 24.203303242002328\n",
      "MAPE: 0.43079754076298543\n",
      "MedianAPE: 58.44963232421878\n",
      "\n",
      "###########################################################\n",
      "File: 1180_2.pkl\n",
      "Length on load: 26304\n",
      "Length after agg: 1096\n",
      "Dropped N/A cols: 0\n",
      "Length after blank drop: 1096\n",
      "\n",
      "ARIMA Model...... RMSE: 489.5183352550846\n",
      "RMSE_pct_range: 22.652398669832696\n",
      "MAPE: 0.3188046886187926\n",
      "MedianAPE: 296.6061725697814\n"
     ]
    },
    {
     "name": "stderr",
     "output_type": "stream",
     "text": [
      "INFO:prophet:Disabling yearly seasonality. Run prophet with yearly_seasonality=True to override this.\n"
     ]
    },
    {
     "name": "stdout",
     "output_type": "stream",
     "text": [
      "\n",
      "Prophet...... RMSE: 477.22874513329646\n",
      "RMSE_pct_range: 22.083699450869805\n",
      "MAPE: 0.23984481565271545\n",
      "MedianAPE: 376.0835075269856\n",
      "\n",
      "XGBoost...... RMSE: 479.41340561368213\n",
      "RMSE_pct_range: 22.184794336588716\n",
      "MAPE: 0.25519062830808387\n",
      "MedianAPE: 234.0394287109375\n",
      "\n",
      "###########################################################\n",
      "File: 1183_0.pkl\n",
      "Length on load: 26304\n",
      "Length after agg: 1096\n",
      "Dropped N/A cols: 0\n",
      "Length after blank drop: 1096\n",
      "\n",
      "ARIMA Model...... RMSE: 66.5370157774811\n",
      "RMSE_pct_range: 41.47365598975335\n",
      "MAPE: 0.21819599688135713\n",
      "MedianAPE: 53.85759634654846\n"
     ]
    },
    {
     "name": "stderr",
     "output_type": "stream",
     "text": [
      "INFO:prophet:Disabling yearly seasonality. Run prophet with yearly_seasonality=True to override this.\n"
     ]
    },
    {
     "name": "stdout",
     "output_type": "stream",
     "text": [
      "\n",
      "Prophet...... RMSE: 36.98828144377154\n",
      "RMSE_pct_range: 23.05542625147822\n",
      "MAPE: 0.09380695997915672\n",
      "MedianAPE: 24.693197654928667\n",
      "\n",
      "XGBoost...... RMSE: 39.207701768495255\n",
      "RMSE_pct_range: 24.43882876763691\n",
      "MAPE: 0.09751412721717252\n",
      "MedianAPE: 25.778237792968753\n",
      "\n",
      "###########################################################\n",
      "File: 1184_0.pkl\n",
      "Length on load: 26304\n",
      "Length after agg: 1096\n",
      "Dropped N/A cols: 0\n",
      "Length after blank drop: 1096\n",
      "\n",
      "ARIMA Model...... RMSE: 21.827702803585744\n",
      "RMSE_pct_range: 70.15395900104694\n",
      "MAPE: 0.284831265381675\n",
      "MedianAPE: 22.882964388842936\n"
     ]
    },
    {
     "name": "stderr",
     "output_type": "stream",
     "text": [
      "INFO:prophet:Disabling yearly seasonality. Run prophet with yearly_seasonality=True to override this.\n"
     ]
    },
    {
     "name": "stdout",
     "output_type": "stream",
     "text": [
      "\n",
      "Prophet...... RMSE: 17.502312546867515\n",
      "RMSE_pct_range: 56.25220976688152\n",
      "MAPE: 0.235502429649646\n",
      "MedianAPE: 16.872031958668146\n",
      "\n",
      "XGBoost...... RMSE: 11.402332933098347\n",
      "RMSE_pct_range: 36.64695292504451\n",
      "MAPE: 0.14131870617704045\n",
      "MedianAPE: 6.459650604248047\n",
      "\n",
      "###########################################################\n",
      "File: 1188_0.pkl\n",
      "Length on load: 26304\n",
      "Length after agg: 1096\n",
      "Dropped N/A cols: 0\n",
      "Length after blank drop: 1096\n",
      "\n",
      "ARIMA Model...... RMSE: 7.6713561246405915\n",
      "RMSE_pct_range: 45.989965076829776\n",
      "MAPE: 0.16022106826001384\n",
      "MedianAPE: 3.9499251409781664\n"
     ]
    },
    {
     "name": "stderr",
     "output_type": "stream",
     "text": [
      "INFO:prophet:Disabling yearly seasonality. Run prophet with yearly_seasonality=True to override this.\n"
     ]
    },
    {
     "name": "stdout",
     "output_type": "stream",
     "text": [
      "\n",
      "Prophet...... RMSE: 5.403534514050205\n",
      "RMSE_pct_range: 32.39431979886817\n",
      "MAPE: 0.11997262852895589\n",
      "MedianAPE: 2.3919133573197726\n",
      "\n",
      "XGBoost...... RMSE: 4.3259389877776835\n",
      "RMSE_pct_range: 25.93410861651439\n",
      "MAPE: 0.1036586392529245\n",
      "MedianAPE: 2.30164324951172\n",
      "\n",
      "###########################################################\n",
      "File: 1196_0.pkl\n",
      "Length on load: 26304\n",
      "Length after agg: 1096\n",
      "Dropped N/A cols: 0\n",
      "Length after blank drop: 1096\n",
      "\n",
      "ARIMA Model...... RMSE: 16.781725033405795\n",
      "RMSE_pct_range: 25.475297775931192\n",
      "MAPE: 0.15352877867669523\n",
      "MedianAPE: 15.91316671200289\n"
     ]
    },
    {
     "name": "stderr",
     "output_type": "stream",
     "text": [
      "INFO:prophet:Disabling yearly seasonality. Run prophet with yearly_seasonality=True to override this.\n"
     ]
    },
    {
     "name": "stdout",
     "output_type": "stream",
     "text": [
      "\n",
      "Prophet...... RMSE: 18.590765930488473\n",
      "RMSE_pct_range: 28.221490759684663\n",
      "MAPE: 0.16630034720232267\n",
      "MedianAPE: 18.518948069494215\n",
      "\n",
      "XGBoost...... RMSE: 10.743820115870175\n",
      "RMSE_pct_range: 16.309528141952008\n",
      "MAPE: 0.09632218675225462\n",
      "MedianAPE: 8.409125091552738\n",
      "\n",
      "###########################################################\n",
      "File: 1197_0.pkl\n",
      "Length on load: 26304\n",
      "Length after agg: 1096\n",
      "Dropped N/A cols: 0\n",
      "Length after blank drop: 1096\n",
      "\n",
      "ARIMA Model...... RMSE: 26.8411349929209\n",
      "RMSE_pct_range: 26.455545418447024\n",
      "MAPE: 0.10012364853490667\n",
      "MedianAPE: 19.8278314920575\n"
     ]
    },
    {
     "name": "stderr",
     "output_type": "stream",
     "text": [
      "INFO:prophet:Disabling yearly seasonality. Run prophet with yearly_seasonality=True to override this.\n"
     ]
    },
    {
     "name": "stdout",
     "output_type": "stream",
     "text": [
      "\n",
      "Prophet...... RMSE: 27.723390541977906\n",
      "RMSE_pct_range: 27.325126818596846\n",
      "MAPE: 0.10241027366214775\n",
      "MedianAPE: 27.28129145354805\n",
      "\n",
      "XGBoost...... RMSE: 31.596259391283013\n",
      "RMSE_pct_range: 31.14235950154794\n",
      "MAPE: 0.11866937407786973\n",
      "MedianAPE: 27.548701538085936\n",
      "\n",
      "###########################################################\n",
      "File: 1198_2.pkl\n",
      "Length on load: 26304\n",
      "Length after agg: 1096\n",
      "Dropped N/A cols: 0\n",
      "Length after blank drop: 1096\n",
      "\n",
      "ARIMA Model...... RMSE: 831.3362939400505\n",
      "RMSE_pct_range: 48.14979440014772\n",
      "MAPE: 0.9876225613869443\n",
      "MedianAPE: 494.97073300647537\n"
     ]
    },
    {
     "name": "stderr",
     "output_type": "stream",
     "text": [
      "INFO:prophet:Disabling yearly seasonality. Run prophet with yearly_seasonality=True to override this.\n"
     ]
    },
    {
     "name": "stdout",
     "output_type": "stream",
     "text": [
      "\n",
      "Prophet...... RMSE: 598.1482721828969\n",
      "RMSE_pct_range: 34.643881827787695\n",
      "MAPE: 0.47768672607995954\n",
      "MedianAPE: 524.1572983526264\n",
      "\n",
      "XGBoost...... RMSE: 852.9512681764861\n",
      "RMSE_pct_range: 49.40170241022182\n",
      "MAPE: 0.9624903551743386\n",
      "MedianAPE: 448.39401611328117\n",
      "\n",
      "###########################################################\n",
      "File: 1199_0.pkl\n",
      "Length on load: 26304\n",
      "Length after agg: 1096\n",
      "Dropped N/A cols: 0\n",
      "Length after blank drop: 1096\n",
      "\n",
      "ARIMA Model...... RMSE: 2.908245517854861\n",
      "RMSE_pct_range: 54.38514292388711\n",
      "MAPE: 0.14050573370238906\n",
      "MedianAPE: 2.7561092551156428\n"
     ]
    },
    {
     "name": "stderr",
     "output_type": "stream",
     "text": [
      "INFO:prophet:Disabling yearly seasonality. Run prophet with yearly_seasonality=True to override this.\n"
     ]
    },
    {
     "name": "stdout",
     "output_type": "stream",
     "text": [
      "\n",
      "Prophet...... RMSE: 2.5606148244989306\n",
      "RMSE_pct_range: 47.88433519399593\n",
      "MAPE: 0.12434644507457084\n",
      "MedianAPE: 2.4864551456707105\n",
      "\n",
      "XGBoost...... RMSE: 1.9545567283000076\n",
      "RMSE_pct_range: 36.5508504590932\n",
      "MAPE: 0.09117223475267516\n",
      "MedianAPE: 1.3812908325195323\n",
      "\n",
      "###########################################################\n",
      "File: 1204_2.pkl\n",
      "Length on load: 26304\n",
      "Length after agg: 1096\n",
      "Dropped N/A cols: 0\n",
      "Length after blank drop: 1096\n",
      "\n",
      "ARIMA Model...... RMSE: 44.435256530837215\n",
      "RMSE_pct_range: 26.765727616299213\n",
      "MAPE: 0.23372637357127096\n",
      "MedianAPE: 33.659401012603865\n"
     ]
    },
    {
     "name": "stderr",
     "output_type": "stream",
     "text": [
      "INFO:prophet:Disabling yearly seasonality. Run prophet with yearly_seasonality=True to override this.\n"
     ]
    },
    {
     "name": "stdout",
     "output_type": "stream",
     "text": [
      "\n",
      "Prophet...... RMSE: 76.40536907170768\n",
      "RMSE_pct_range: 46.0230334346538\n",
      "MAPE: 0.25363185351992545\n",
      "MedianAPE: 46.10696356327088\n",
      "\n",
      "XGBoost...... RMSE: 50.88753101777114\n",
      "RMSE_pct_range: 30.65227705712487\n",
      "MAPE: 0.16113074236949496\n",
      "MedianAPE: 17.77668688964843\n",
      "\n",
      "###########################################################\n",
      "File: 1205_0.pkl\n",
      "Length on load: 26304\n",
      "Length after agg: 1096\n",
      "Dropped N/A cols: 0\n",
      "Length after blank drop: 1096\n",
      "\n",
      "ARIMA Model...... RMSE: 6.742259877758757\n",
      "RMSE_pct_range: 32.748493674755956\n",
      "MAPE: 0.23258736342392222\n",
      "MedianAPE: 5.141358304832465\n"
     ]
    },
    {
     "name": "stderr",
     "output_type": "stream",
     "text": [
      "INFO:prophet:Disabling yearly seasonality. Run prophet with yearly_seasonality=True to override this.\n"
     ]
    },
    {
     "name": "stdout",
     "output_type": "stream",
     "text": [
      "\n",
      "Prophet...... RMSE: 10.883869329419648\n",
      "RMSE_pct_range: 52.865112344179366\n",
      "MAPE: 0.2226828591659869\n",
      "MedianAPE: 6.854870274034177\n",
      "\n",
      "XGBoost...... RMSE: 4.552633622681263\n",
      "RMSE_pct_range: 22.113044602104445\n",
      "MAPE: 0.12408927495632395\n",
      "MedianAPE: 3.1625934143066416\n",
      "\n",
      "###########################################################\n",
      "File: 1209_2.pkl\n",
      "Length on load: 26304\n",
      "Length after agg: 1096\n",
      "Dropped N/A cols: 0\n",
      "Length after blank drop: 1096\n",
      "\n",
      "ARIMA Model...... RMSE: 314.89084340747587\n",
      "RMSE_pct_range: 24.31730358186582\n",
      "MAPE: 0.097472928838013\n",
      "MedianAPE: 143.06801520066483\n"
     ]
    },
    {
     "name": "stderr",
     "output_type": "stream",
     "text": [
      "INFO:prophet:Disabling yearly seasonality. Run prophet with yearly_seasonality=True to override this.\n"
     ]
    },
    {
     "name": "stdout",
     "output_type": "stream",
     "text": [
      "\n",
      "Prophet...... RMSE: 369.5546416190051\n",
      "RMSE_pct_range: 28.538690782787047\n",
      "MAPE: 0.119189349078437\n",
      "MedianAPE: 137.84091632585887\n",
      "\n",
      "XGBoost...... RMSE: 286.9071257412021\n",
      "RMSE_pct_range: 22.156273586593986\n",
      "MAPE: 0.09487441597889502\n",
      "MedianAPE: 110.93873046874978\n",
      "\n",
      "###########################################################\n",
      "File: 1210_1.pkl\n",
      "Length on load: 26304\n",
      "Length after agg: 1096\n",
      "Dropped N/A cols: 0\n",
      "Length after blank drop: 1096\n",
      "\n",
      "ARIMA Model...... RMSE: 14.497923291786124\n",
      "RMSE_pct_range: 50.741894279995805\n",
      "MAPE: 0.43978493491818027\n",
      "MedianAPE: 13.103065403226083\n"
     ]
    },
    {
     "name": "stderr",
     "output_type": "stream",
     "text": [
      "INFO:prophet:Disabling yearly seasonality. Run prophet with yearly_seasonality=True to override this.\n"
     ]
    },
    {
     "name": "stdout",
     "output_type": "stream",
     "text": [
      "\n",
      "Prophet...... RMSE: 12.770787358897392\n",
      "RMSE_pct_range: 44.69701825533965\n",
      "MAPE: 1.0096933993427408\n",
      "MedianAPE: 6.619380980235077\n",
      "\n",
      "XGBoost...... RMSE: 6.322987043728628\n",
      "RMSE_pct_range: 22.130089506573334\n",
      "MAPE: 0.3071158841511221\n",
      "MedianAPE: 3.4102075408935555\n",
      "\n",
      "###########################################################\n",
      "File: 1212_1.pkl\n",
      "Length on load: 26304\n",
      "Length after agg: 1096\n",
      "Dropped N/A cols: 0\n",
      "Length after blank drop: 1096\n",
      "\n",
      "ARIMA Model...... RMSE: 385.7050496040238\n",
      "RMSE_pct_range: 54.91323190877203\n",
      "MAPE: 0.25654409851303506\n",
      "MedianAPE: 381.6237315236374\n"
     ]
    },
    {
     "name": "stderr",
     "output_type": "stream",
     "text": [
      "INFO:prophet:Disabling yearly seasonality. Run prophet with yearly_seasonality=True to override this.\n"
     ]
    },
    {
     "name": "stdout",
     "output_type": "stream",
     "text": [
      "\n",
      "Prophet...... RMSE: 216.01293095292223\n",
      "RMSE_pct_range: 30.75398723685164\n",
      "MAPE: 0.163442577669646\n",
      "MedianAPE: 206.7792915499275\n",
      "\n",
      "XGBoost...... RMSE: 107.5076549073768\n",
      "RMSE_pct_range: 15.305977435239226\n",
      "MAPE: 0.0806156338807958\n",
      "MedianAPE: 65.01945703125\n",
      "\n",
      "###########################################################\n",
      "File: 1220_0.pkl\n",
      "Length on load: 26304\n",
      "Length after agg: 1096\n",
      "Dropped N/A cols: 0\n",
      "Length after blank drop: 1096\n",
      "\n",
      "ARIMA Model...... RMSE: 185.75980113184136\n",
      "RMSE_pct_range: 29.34631103265782\n",
      "MAPE: 0.30617559580245934\n",
      "MedianAPE: 189.7843298698018\n"
     ]
    },
    {
     "name": "stderr",
     "output_type": "stream",
     "text": [
      "INFO:prophet:Disabling yearly seasonality. Run prophet with yearly_seasonality=True to override this.\n"
     ]
    },
    {
     "name": "stdout",
     "output_type": "stream",
     "text": [
      "\n",
      "Prophet...... RMSE: 362.40993059963415\n",
      "RMSE_pct_range: 57.253477231881945\n",
      "MAPE: 0.4718898490967042\n",
      "MedianAPE: 352.89088525454224\n",
      "\n",
      "XGBoost...... RMSE: 152.16376430102227\n",
      "RMSE_pct_range: 24.038813176315386\n",
      "MAPE: 0.19595946585185092\n",
      "MedianAPE: 47.944792968749994\n"
     ]
    }
   ],
   "source": [
    "\n",
    "output_vis_folder = '.\\\\visualization\\\\models\\\\run_1\\\\'\n",
    "output_data_folder = '.\\\\results\\\\'\n",
    "\n",
    "model_pass = 1\n",
    "\n",
    "# Control Variables that will run these specific models if True\n",
    "ARIMA = True\n",
    "FBProphet = True\n",
    "xgboost = True\n",
    "\n",
    "# Show Visualizations\n",
    "quiet_mode = True\n",
    "\n",
    "resample = True\n",
    "backfill = 'mean'\n",
    "exogen = True\n",
    "\n",
    "thresh = 50\n",
    "\n",
    "# Dictionary to hold all the results, will turn into a dataframe\n",
    "stats_all = {}\n",
    "stats_list = []\n",
    "\n",
    "stats = {}\n",
    "\n",
    "# For each file in the directory\n",
    "direct = '.\\\\data_clean\\\\buildings_by_meter\\\\'\n",
    "\n",
    "files = df_stats['file_name']\n",
    "\n",
    "bld_mtr = [\n",
    "           '1073_2', # Elec\n",
    "            '1073_1',\n",
    "            '1073_0',\n",
    "#             '1099_2', # Education \n",
    "            '1130_0',\n",
    "            '1048_0',\n",
    "            '1156_0',\n",
    "            '1156_2',\n",
    "            '1140_1',\n",
    "            '1169_1',\n",
    "            '1178_0',\n",
    "            '107_0',\n",
    "            '1180_2',\n",
    "            '119_0',\n",
    "            '1198_2',\n",
    "            '120_0',\n",
    "            '109_0',\n",
    "            '1138_0',\n",
    "            '1079_2',\n",
    "            '126_0',\n",
    "            '1179_1', # Entertainment\n",
    "            '1183_0',\n",
    "            '1196_0',\n",
    "            '743_0',\n",
    "            '663_0', # Food\n",
    "            '1105_0',\n",
    "            '1105_2',\n",
    "            '670_0',\n",
    "            '1209_2',\n",
    "            '1154_2', # Lodging Residential\n",
    "            '1154_0',\n",
    "            '134_0',\n",
    "            '1184_0',\n",
    "            '135_0',\n",
    "            '1124_0',\n",
    "            '1091_0'\n",
    "            '1175_0', # Manufacturing\n",
    "            '1171_0',\n",
    "            '1081_0',\n",
    "            '1145_2',\n",
    "            '1148_1', # Office\n",
    "            '1164_1',\n",
    "            '1151_1',\n",
    "            '1149_0',\n",
    "            '1188_0',\n",
    "            '141_0',\n",
    "            '146_0',\n",
    "            '1204_2',\n",
    "            '1210_1',\n",
    "            '1133_2',\n",
    "            '155_0',\n",
    "            '1164_1',\n",
    "            '1109_2',\n",
    "            '684_0',\n",
    "            '1108_0',\n",
    "            '1205_0',\n",
    "            '1212_1',\n",
    "            '1220_0',\n",
    "            '1047_0',\n",
    "            '678_0',\n",
    "            '1104_0'\n",
    "            '1052_2',\n",
    "            '1034_0',\n",
    "            '1197_0',\n",
    "            '1118_0',\n",
    "            '1199_0'\n",
    "          ]\n",
    "\n",
    "for num,file in enumerate(files):  \n",
    "\n",
    "    # Get only files from the list\n",
    "    if file.split('.pkl')[0] not in bld_mtr:\n",
    "        continue\n",
    "    else:\n",
    "        print('')\n",
    "        print('###########################################################')\n",
    "        print('File: ' + file)\n",
    "        \n",
    "    # Temporary dictionary that represents raw calculations\n",
    "    stats = {}\n",
    "    \n",
    "    # Screen results\n",
    "    if df_stats.iloc[num]['per_data'] < 80:\n",
    "        stats['status'] = 'FAIL: Length < 80% data present'\n",
    "        print('not enough data')\n",
    "        continue\n",
    "    \n",
    "    # Catch exception if file not readable\n",
    "    try:\n",
    "        df = pd.read_pickle(direct + file)\n",
    "    except FileNotFoundError:\n",
    "        continue\n",
    "    \n",
    "    print('Length on load: ' + str(len(df)))\n",
    "    stats['Len_load'] = len(df)\n",
    "    \n",
    "    # Screen minimum length\n",
    "    if len(df) < 20000:\n",
    "        stats['status'] = 'FAIL: Length < 20k'\n",
    "        continue\n",
    "\n",
    "    # Load key variables in dictionary\n",
    "    stats['building'] = df.iloc[0]['building_id']\n",
    "    stats['square_feet'] = df.iloc[0]['square_feet']   \n",
    "    stats['meter'] = bldg_meter = df.iloc[0]['meter']\n",
    "    stats['file_name'] = file\n",
    " \n",
    "    # Process Columns\n",
    "    df = building_meter_drop(df) # Drop poorly correlated columns\n",
    "    df = building_meter_interp(df) # Time series linear interpolation due to standard time deltas\n",
    "    df = building_meter_agg(df,'1D') # aggregate remaining columns\n",
    "    \n",
    "    print('Length after agg: ' + str(len(df)))\n",
    "    stats['Len_agg-clean'] = len(df)\n",
    "    \n",
    "    # Find out how many lingering NA columns are left\n",
    "    b4_NA = len(df)\n",
    "    df.dropna(how='any',inplace=True)\n",
    "    tot = b4_NA - len(df)\n",
    "    print('Dropped N/A cols: ' + str(tot))\n",
    "    if tot > 100:\n",
    "        stats['status'] = 'FAIL: Drop over 100 Rows'\n",
    "        continue\n",
    "    \n",
    "    print('Length after blank drop: ' + str(len(df)))\n",
    "    stats['Len_blank'] = len(df)\n",
    "    \n",
    "    # Keep track of Models\n",
    "    model_ctr = 1 # Initialize Model Counter\n",
    "    model_prefixes = []\n",
    "\n",
    "\n",
    "    df_train = df.loc['2016-01-01':'2016-09-30']\n",
    "    df_test = df.loc['2016-10-01':'2016-10-31']\n",
    "       \n",
    "    X_train = df_train.drop(labels=['meter_reading'],axis=1)\n",
    "    X_train.fillna(method='ffill')\n",
    "\n",
    "    X_test = df_test.drop(labels=['meter_reading'],axis=1)\n",
    "    X_test.fillna(method='ffill')\n",
    "\n",
    "    y_train = df_train['meter_reading']\n",
    "    y_train.fillna(method='ffill')\n",
    "\n",
    "    y_test = df_test['meter_reading']\n",
    "    y_test.fillna(method='ffill')\n",
    "    \n",
    "    # Get rid of constants\n",
    "    X_train.drop(labels=['site_id','building_id','square_feet'],axis=1,inplace=True)\n",
    "    X_test.drop(labels=['site_id','building_id','square_feet'],axis=1,inplace=True)\n",
    "    \n",
    "    #######################################    ARIMA   ##################################################\n",
    "    if ARIMA:\n",
    "        print()\n",
    "        # Keep track of model prefix column names by building prefix to number iterations\n",
    "        model_prefix = 'Model_' + str(model_ctr)\n",
    "        model_prefixes.append(model_prefix)\n",
    "        # Populate DataFrame with statistics\n",
    "        stats[model_prefix + '_' + 'Type'] = 'ARIMA_Exogen'\n",
    "        stats[model_prefix + '_' + 'Description'] = 'ARIMA_Exogen, with daily aggregation'\n",
    "        stats[model_prefix + '_' + 'Len_Train'] = len(X_train)\n",
    "        stats[model_prefix + '_' + 'Len_Test'] = len(X_test)\n",
    "\n",
    "        print('ARIMA Model......',end=' ')\n",
    "\n",
    "        # Try building model\n",
    "        try:\n",
    "            model = pm.auto_arima(y_train,X=X_train,trace=False,n_fits=10,seasonal=True,m=7,error_action='ignore')\n",
    "            stats[model_prefix + '_' + 'Status'] = 'PASS'\n",
    "        except ValueError as ve:\n",
    "            print('Model will not converge')\n",
    "            stats[model_prefix + '_' + 'Status'] = 'FAIL'\n",
    "            continue\n",
    "\n",
    "        # Create the Series\n",
    "        preds, conf_int = model.predict(X=X_test,n_periods=y_test.shape[0], return_conf_int=True)\n",
    "                \n",
    "        predict = pd.Series(preds,index=y_test.index)\n",
    "\n",
    "        # Keep each slice data here\n",
    "        df_result = pd.concat([predict,y_test],axis=1)\n",
    "        df_result.columns = ['meter_predict_ARIMA','meter_actual']\n",
    "\n",
    "        # Error Calculations ------------------------\n",
    "        # RMSE\n",
    "        RMSE_error = (mean_squared_error(df_result['meter_predict_ARIMA'],df_result['meter_actual'],squared=False))\n",
    "        stats[model_prefix + '_' + 'RMSE'] = RMSE_error\n",
    "        \n",
    "        # RMSE relative to the range of the test range\n",
    "        RMSE_pct_range = RMSE_error / ((np.max(df_result['meter_actual'])) \\\n",
    "                                       - (np.min(df_result['meter_actual']))) \\\n",
    "                                       * 100      \n",
    "        stats[model_prefix + '_' + 'y_pred_RMSE_pct_Range'] = RMSE_pct_range\n",
    "        \n",
    "        # MAPE\n",
    "        MAPE_error = mean_absolute_percentage_error(df_result['meter_predict_ARIMA'],df_result['meter_actual'])\n",
    "        stats[model_prefix + '_' + 'MAPE'] = MAPE_error\n",
    "        \n",
    "        # Median Absolute Percentage\n",
    "        MedAPE_error = median_absolute_error(df_result['meter_predict_ARIMA'],df_result['meter_actual'])\n",
    "        stats[model_prefix + '_' + 'MedianAPE'] = MedAPE_error\n",
    "        \n",
    "        MedAPE_pct_range = MedAPE_error / ((np.max(df_result['meter_actual'])) \\\n",
    "                                       - (np.min(df_result['meter_actual']))) \\\n",
    "                                       * 100  \n",
    "        stats[model_prefix + '_' + 'y_pred_MedAPE_pct_Range'] = MedAPE_pct_range\n",
    "\n",
    "        print('RMSE: ' + str(RMSE_error)) \n",
    "        print('RMSE_pct_range: ' + str(RMSE_pct_range))\n",
    "        print('MAPE: ' + str(MAPE_error))\n",
    "        print('MedianAPE: ' + str(MedAPE_error))\n",
    "            \n",
    "        # Create Graph\n",
    "        plt.ioff()\n",
    "        plt.figure(figsize=(20,10))\n",
    "        plt.plot(df_result['meter_predict_ARIMA'],label=\"ARIMA\", color='orange', linestyle='solid')\n",
    "        plt.plot(df_result['meter_actual'],label=\"Actual\",linewidth=7.0, color='red', linestyle='dashed')\n",
    "        plt.legend(loc = 'upper right')      \n",
    "        plt.title('Bldg ' + str(stats['building']) + ' Meter ' + str(stats['meter']) + ' ' + model_prefix + '_' + 'ARIMA_Exogen')\n",
    "        plt.xlabel('Date')\n",
    "        plt.ylabel('Meter Reading')\n",
    "        plt.xticks(rotation='45')\n",
    "        plt.savefig(output_vis_folder + str(stats['building']) + '_' + str(stats['meter']) + '_ARIMA_Exogen.jpg')\n",
    "        \n",
    "        # Add to Models DF\n",
    "        df_models = pd.DataFrame(data=df_result[['meter_actual','meter_predict_ARIMA']],index=df_result.index)\n",
    "          \n",
    "         ######################################    PROPHET   ##################################################\n",
    "    if FBProphet:   \n",
    "        print()\n",
    "        print('Prophet......',end=' ')\n",
    "        model_ctr += 1 # Increment Model Counter\n",
    "        model_prefix = 'Model_' + str(model_ctr) # Build string for keys\n",
    "        model_prefixes.append(model_prefix)\n",
    "\n",
    "        # Need renaming for Prophet - data prep\n",
    "        df_prophet_train = df_train.reset_index()\n",
    "        df_prophet_test = df_test.reset_index()\n",
    "\n",
    "        # Get rid of constants\n",
    "        df_prophet_train.drop(labels=['site_id','building_id','square_feet'],axis=1,inplace=True)\n",
    "        df_prophet_test.drop(labels=['site_id','building_id','square_feet'],axis=1,inplace=True)\n",
    "\n",
    "        # Timestamp must be ds column\n",
    "        df_prophet_train = df_prophet_train.rename(columns={'timestamp':'ds','meter_reading':'y'})\n",
    "        df_prophet_test = df_prophet_test.rename(columns={'timestamp':'ds','meter_reading':'y'})\n",
    "\n",
    "\n",
    "        # Populate DataFrame with statistics\n",
    "        stats[model_prefix + '_' + 'Type'] = 'Prophet_Exogen'          \n",
    "        stats[model_prefix + '_' + 'Len_Train'] = len(df_prophet_train)\n",
    "        stats[model_prefix + '_' + 'Len_Test'] = len(df_prophet_test)\n",
    "\n",
    "        # Initialize Prophet Model\n",
    "        m = Prophet(daily_seasonality=True)\n",
    "        m.add_regressor('air_temperature')\n",
    "        m.add_regressor('day_of_week')\n",
    "        m.add_regressor('weekend')\n",
    "        m.add_regressor('month')\n",
    "        m.add_regressor('season')\n",
    "        m.fit(df_prophet_train)\n",
    "        predicts = m.predict(df_prophet_test)\n",
    "\n",
    "\n",
    "        # Error Calculations ------------------------\n",
    "        # RMSE\n",
    "        RMSE_error = (mean_squared_error(predicts['yhat'],df_prophet_test['y'],squared=False))\n",
    "        stats[model_prefix + '_' + 'RMSE'] = RMSE_error\n",
    "\n",
    "        # RMSE relative to the range of the test range\n",
    "        RMSE_pct_range = RMSE_error / ((np.max(df_prophet_test['y'])) \\\n",
    "                                              - (np.min(df_prophet_test['y']))) \\\n",
    "                                              * 100   \n",
    "        stats[model_prefix + '_' + 'y_pred_RMSE_pct_Range'] = RMSE_pct_range\n",
    "\n",
    "        # MAPE\n",
    "        MAPE_error = mean_absolute_percentage_error(predicts['yhat'],df_prophet_test['y'])\n",
    "        stats[model_prefix + '_' + 'MAPE'] = MAPE_error\n",
    "\n",
    "        # Median Absolute Percentage\n",
    "        MedAPE_error = median_absolute_error(predicts['yhat'],df_prophet_test['y'])\n",
    "        stats[model_prefix + '_' + 'MedianAPE'] = MedAPE_error\n",
    "\n",
    "\n",
    "        MedAPE_pct_range = MedAPE_error / ((np.max(df_prophet_test['y'])) \\\n",
    "                                              - (np.min(df_prophet_test['y']))) \\\n",
    "                                              * 100 \n",
    "\n",
    "        stats[model_prefix + '_' + 'y_pred_MedAPE_pct_Range'] = MedAPE_pct_range\n",
    "\n",
    "        print('RMSE: ' + str(RMSE_error)) \n",
    "        print('RMSE_pct_range: ' + str(RMSE_pct_range))\n",
    "        print('MAPE: ' + str(MAPE_error))\n",
    "        print('MedianAPE: ' + str(MedAPE_error))\n",
    "\n",
    "        plt.ioff()\n",
    "        plt.figure(figsize=(20,10))\n",
    "        plt.plot(df_prophet_test['ds'],predicts['yhat'],label=\"Prophet\", color='blue', linestyle='solid')\n",
    "        plt.plot(df_prophet_test['ds'],df_prophet_test['y'],label=\"Actual\",linewidth=7.0,color='red',linestyle='dashed')\n",
    "        plt.legend(loc = 'upper right')\n",
    "        plt.title('Bldg ' + str(stats['building']) + ' Meter ' + str(stats['meter']) + ' ' + \\\n",
    "                  model_prefix + '_' + 'Prophet_Exogen')\n",
    "        plt.xlabel('Date')\n",
    "        plt.ylabel('Meter Reading')\n",
    "        plt.xticks(rotation='45')\n",
    "\n",
    "        plt.savefig(output_vis_folder + str(stats['building']) + '_' + str(stats['meter']) + '_Prophet_Exogen.jpg')\n",
    "        \n",
    "        df_models['meter_predict_Prophet'] = pd.Series(predicts['yhat'].values, index=df_models.index)\n",
    "\n",
    "#       ######################################    XGBOOST   ##################################################\n",
    "    if xgboost:\n",
    "        print()\n",
    "        print('XGBoost......',end=' ')\n",
    "        model_ctr += 1\n",
    "        model_prefix = 'Model_' + str(model_ctr)\n",
    "        model_prefixes.append(model_prefix)\n",
    "\n",
    "        # Populate DataFrame with statistics\n",
    "        stats[model_prefix + '_' + 'Type'] = 'XGBoost'\n",
    "        stats[model_prefix + '_' + 'Description'] = 'XGBoost_Exogen, with daily aggregation'\n",
    "        stats[model_prefix + '_' + 'Len_Train'] = len(X_train)\n",
    "        stats[model_prefix + '_' + 'Len_Test'] = len(X_test)\n",
    "\n",
    "        # Instantiate Model\n",
    "        gbm_model = xgb.XGBRegressor(objective = 'reg:squarederror', n_estimators = 1000, seed = 123)\n",
    "        gbm_model.fit(X_train,y_train)\n",
    "        predict = gbm_model.predict(X_test)\n",
    "\n",
    "        predict = pd.Series(predict,index=y_test.index)\n",
    "\n",
    "        df_result = pd.concat([predict,y_test],axis=1,ignore_index=True)\n",
    "        df_result.columns = ['meter_predict_XGBoost','meter_actual']\n",
    "        df_result.sort_index(inplace=True)             \n",
    "\n",
    "        # Error Calculations ------------------------\n",
    "        # RMSE\n",
    "        RMSE_error = (mean_squared_error(df_result['meter_predict_XGBoost'],df_result['meter_actual'],squared=False))\n",
    "        stats[model_prefix + '_' + 'RMSE'] = RMSE_error\n",
    "\n",
    "        # RMSE relative to the range of the test range\n",
    "        RMSE_pct_range = RMSE_error / ((np.max(df_result['meter_actual'])) \\\n",
    "                                       - (np.min(df_result['meter_actual']))) \\\n",
    "                                       * 100      \n",
    "        stats[model_prefix + '_' + 'y_pred_RMSE_pct_Range'] = RMSE_pct_range\n",
    "\n",
    "        # MAPE\n",
    "        MAPE_error = mean_absolute_percentage_error(df_result['meter_predict_XGBoost'],df_result['meter_actual'])\n",
    "        stats[model_prefix + '_' + 'MAPE'] = MAPE_error\n",
    "\n",
    "               # Median Absolute Percentage\n",
    "        MedAPE_error = median_absolute_error(df_result['meter_predict_XGBoost'],df_result['meter_actual'])\n",
    "        stats[model_prefix + '_' + 'MedianAPE'] = MedAPE_error\n",
    "\n",
    "        MedAPE_pct_range = MedAPE_error / ((np.max(df_result['meter_actual'])) \\\n",
    "                               - (np.min(df_result['meter_actual']))) \\\n",
    "                               * 100  \n",
    "        stats[model_prefix + '_' + 'y_pred_MedAPE_pct_Range'] = MedAPE_pct_range\n",
    "\n",
    "        print('RMSE: ' + str(RMSE_error)) \n",
    "        print('RMSE_pct_range: ' + str(RMSE_pct_range))\n",
    "        print('MAPE: ' + str(MAPE_error))\n",
    "        print('MedianAPE: ' + str(MedAPE_error))\n",
    "\n",
    "        plt.ioff()\n",
    "        plt.figure(figsize=(20,10))\n",
    "        plt.plot(df_result['meter_predict_XGBoost'],label=\"XGBoost\",color='green',linestyle='solid')\n",
    "        plt.plot(df_result['meter_actual'],label=\"Actual\",linewidth=7.0, color='red',linestyle='dashed')\n",
    "        plt.legend(loc = 'upper right')\n",
    "        plt.title('Bldg ' + str(stats['building']) + ' Meter ' + str(stats['meter']) + ' ' + model_prefix + '_' + 'XGBoost')\n",
    "        plt.xlabel('Date')\n",
    "        plt.ylabel('Meter Reading')\n",
    "        plt.xticks(rotation='45')\n",
    "        plt.savefig(output_vis_folder + str(stats['building']) + '_' + str(stats['meter']) + '_XGBoost.jpg')\n",
    "\n",
    "        # Apppend to Models Dataframe\n",
    "        df_models = pd.concat([df_models,df_result['meter_predict_XGBoost']],axis=1)\n",
    "        df_models.to_csv(output_data_folder + str(stats['building']) + '_' + str(stats['meter']) + '_ModelError_1.csv',float_format=\"{:,.2f}\".format)\n",
    "        \n",
    "    \n",
    "    # VISUALIZE ALL MODELS AT ONCE\n",
    "    plt.figure(figsize=(20,10))\n",
    "    plt.plot(df_models['meter_actual'],label='Actual',linewidth=7.0,color='red',linestyle='dashed')\n",
    "    plt.plot(df_models['meter_predict_ARIMA'],label='ARIMA',color='orange',linestyle='solid')\n",
    "    plt.plot(df_models['meter_predict_Prophet'],label='FBP',color='blue',linestyle='solid')\n",
    "    plt.plot(df_models['meter_predict_XGBoost'],label='XGBoost',color='green',linestyle='solid')\n",
    "    plt.legend(loc = 'upper right')\n",
    "    plt.title('Bldg ' + str(stats['building']) + ' Meter ' + str(stats['meter']) + '_' + 'All')\n",
    "    plt.xlabel('Date')\n",
    "    plt.ylabel('Meter Reading')\n",
    "    plt.xticks(rotation='45')\n",
    "    plt.savefig(output_vis_folder + str(stats['building']) + '_' + str(stats['meter']) + '_ALL.jpg')\n",
    "    \n",
    "    \n",
    "    stats_list.append(stats)\n",
    "    # Write dictionary and file every 10 buildings to save results\n",
    "    if stats['building'] % 10 == 0:\n",
    "#         df_results = pd.DataFrame(stats_list)\n",
    "        df_results.to_csv(output_data_folder + 'Model_Results_1.csv',float_format=\"{:,.2f}\".format)\n",
    "            \n",
    "df_results = pd.DataFrame(stats_list)\n",
    "# df_results.to_csv(output_data_folder + 'Model_Results_FirstPass.csv',float_format=\"{:,.2f}\".format)\n",
    "df_stats = df_results.merge(df_stats,how='left',on=['file_name'])\n",
    "df_stats.to_csv(output_data_folder + 'AllResults_FirstPass.csv',float_format=\"{:,.2f}\".format)\n"
   ]
  },
  {
   "cell_type": "markdown",
   "id": "liable-raise",
   "metadata": {},
   "source": [
    "# Second Pass\n",
    "## Hyperparameter Tuning on Prophet and XGBoost"
   ]
  },
  {
   "cell_type": "code",
   "execution_count": 18,
   "id": "7c886c1d-b07e-48a4-99a1-58257b791e02",
   "metadata": {},
   "outputs": [
    {
     "name": "stdout",
     "output_type": "stream",
     "text": [
      "\n",
      "###########################################################\n",
      "File: 107_0.pkl\n",
      "Length on load: 26304\n",
      "Length after agg: 1096\n",
      "Dropped N/A cols: 0\n",
      "Length after blank drop: 1096\n",
      "\n",
      "ARIMA Model...... RMSE: 13.900541958218138\n",
      "RMSE_pct_range: 24.82239635396096\n",
      "MAPE: 0.18855333540436958\n",
      "MedianAPE: 13.176349988856288\n",
      "\n",
      "Prophet...... Tuning Prophet....\n",
      "Tuning Iteration: 0\n"
     ]
    },
    {
     "name": "stderr",
     "output_type": "stream",
     "text": [
      "INFO:prophet:Disabling yearly seasonality. Run prophet with yearly_seasonality=True to override this.\n",
      "INFO:prophet:Disabling yearly seasonality. Run prophet with yearly_seasonality=True to override this.\n"
     ]
    },
    {
     "name": "stdout",
     "output_type": "stream",
     "text": [
      "Tuning Iteration: 1\n"
     ]
    },
    {
     "name": "stderr",
     "output_type": "stream",
     "text": [
      "INFO:prophet:Disabling yearly seasonality. Run prophet with yearly_seasonality=True to override this.\n"
     ]
    },
    {
     "name": "stdout",
     "output_type": "stream",
     "text": [
      "Tuning Iteration: 2\n"
     ]
    },
    {
     "name": "stderr",
     "output_type": "stream",
     "text": [
      "INFO:prophet:Disabling yearly seasonality. Run prophet with yearly_seasonality=True to override this.\n"
     ]
    },
    {
     "name": "stdout",
     "output_type": "stream",
     "text": [
      "Tuning Iteration: 3\n"
     ]
    },
    {
     "name": "stderr",
     "output_type": "stream",
     "text": [
      "INFO:prophet:Disabling yearly seasonality. Run prophet with yearly_seasonality=True to override this.\n"
     ]
    },
    {
     "name": "stdout",
     "output_type": "stream",
     "text": [
      "Tuning Iteration: 4\n"
     ]
    },
    {
     "name": "stderr",
     "output_type": "stream",
     "text": [
      "INFO:prophet:Disabling yearly seasonality. Run prophet with yearly_seasonality=True to override this.\n"
     ]
    },
    {
     "name": "stdout",
     "output_type": "stream",
     "text": [
      "Tuning Iteration: 5\n"
     ]
    },
    {
     "name": "stderr",
     "output_type": "stream",
     "text": [
      "INFO:prophet:Disabling yearly seasonality. Run prophet with yearly_seasonality=True to override this.\n"
     ]
    },
    {
     "name": "stdout",
     "output_type": "stream",
     "text": [
      "Tuning Iteration: 6\n"
     ]
    },
    {
     "name": "stderr",
     "output_type": "stream",
     "text": [
      "INFO:prophet:Disabling yearly seasonality. Run prophet with yearly_seasonality=True to override this.\n"
     ]
    },
    {
     "name": "stdout",
     "output_type": "stream",
     "text": [
      "Tuning Iteration: 7\n",
      "Error Metric: MedAEpctRange\n",
      "23.529196408671943\n",
      "RMSE: 15.679822227899542\n",
      "RMSE_pct_range: 27.99968254982061\n",
      "MAPE: 0.22229396563160955\n",
      "MedianAPE: 23.529196408671943\n",
      "Best Parameters: \n",
      "{'seasonality_mode': 'multiplicative', 'n_changepoints': 100, 'changepoint_prior_scale': 0.1}\n",
      "XGBoost...... RMSE: 20.68839792887135\n",
      "RMSE_pct_range: 36.943567730127405\n",
      "MAPE: 0.2915797451646767\n",
      "MedianAPE: 18.095314025878906\n",
      "\n",
      "###########################################################\n",
      "File: 109_0.pkl\n",
      "Length on load: 26304\n",
      "Length after agg: 1096\n",
      "Dropped N/A cols: 0\n",
      "Length after blank drop: 1096\n",
      "\n",
      "ARIMA Model...... RMSE: 38.514174090896695\n",
      "RMSE_pct_range: 52.589846509041735\n",
      "MAPE: 0.13308889490531076\n",
      "MedianAPE: 37.43680797829393\n"
     ]
    },
    {
     "name": "stderr",
     "output_type": "stream",
     "text": [
      "INFO:prophet:Disabling yearly seasonality. Run prophet with yearly_seasonality=True to override this.\n"
     ]
    },
    {
     "name": "stdout",
     "output_type": "stream",
     "text": [
      "\n",
      "Prophet...... Tuning Prophet....\n",
      "Tuning Iteration: 0\n"
     ]
    },
    {
     "name": "stderr",
     "output_type": "stream",
     "text": [
      "INFO:prophet:Disabling yearly seasonality. Run prophet with yearly_seasonality=True to override this.\n"
     ]
    },
    {
     "name": "stdout",
     "output_type": "stream",
     "text": [
      "Tuning Iteration: 1\n"
     ]
    },
    {
     "name": "stderr",
     "output_type": "stream",
     "text": [
      "INFO:prophet:Disabling yearly seasonality. Run prophet with yearly_seasonality=True to override this.\n"
     ]
    },
    {
     "name": "stdout",
     "output_type": "stream",
     "text": [
      "Tuning Iteration: 2\n"
     ]
    },
    {
     "name": "stderr",
     "output_type": "stream",
     "text": [
      "INFO:prophet:Disabling yearly seasonality. Run prophet with yearly_seasonality=True to override this.\n"
     ]
    },
    {
     "name": "stdout",
     "output_type": "stream",
     "text": [
      "Tuning Iteration: 3\n"
     ]
    },
    {
     "name": "stderr",
     "output_type": "stream",
     "text": [
      "INFO:prophet:Disabling yearly seasonality. Run prophet with yearly_seasonality=True to override this.\n"
     ]
    },
    {
     "name": "stdout",
     "output_type": "stream",
     "text": [
      "Tuning Iteration: 4\n"
     ]
    },
    {
     "name": "stderr",
     "output_type": "stream",
     "text": [
      "INFO:prophet:Disabling yearly seasonality. Run prophet with yearly_seasonality=True to override this.\n"
     ]
    },
    {
     "name": "stdout",
     "output_type": "stream",
     "text": [
      "Tuning Iteration: 5\n"
     ]
    },
    {
     "name": "stderr",
     "output_type": "stream",
     "text": [
      "INFO:prophet:Disabling yearly seasonality. Run prophet with yearly_seasonality=True to override this.\n"
     ]
    },
    {
     "name": "stdout",
     "output_type": "stream",
     "text": [
      "Tuning Iteration: 6\n"
     ]
    },
    {
     "name": "stderr",
     "output_type": "stream",
     "text": [
      "INFO:prophet:Disabling yearly seasonality. Run prophet with yearly_seasonality=True to override this.\n"
     ]
    },
    {
     "name": "stdout",
     "output_type": "stream",
     "text": [
      "Tuning Iteration: 7\n",
      "Error Metric: MedAEpctRange\n",
      "51.11873827854707\n",
      "RMSE: 16.24337280070084\n",
      "RMSE_pct_range: 22.179794907763842\n",
      "MAPE: 0.05784452589976555\n",
      "MedianAPE: 51.11873827854707\n",
      "Best Parameters: \n",
      "{'seasonality_mode': 'multiplicative', 'n_changepoints': 100, 'changepoint_prior_scale': 0.1}\n",
      "XGBoost...... RMSE: 15.09994866304804\n",
      "RMSE_pct_range: 20.618486602100155\n",
      "MAPE: 0.0539414053055959\n",
      "MedianAPE: 12.896689941406237\n",
      "\n",
      "###########################################################\n",
      "File: 119_0.pkl\n",
      "Length on load: 26304\n",
      "Length after agg: 1096\n",
      "Dropped N/A cols: 0\n",
      "Length after blank drop: 1096\n",
      "\n",
      "ARIMA Model...... RMSE: 34.9372097276464\n",
      "RMSE_pct_range: 30.945269909341356\n",
      "MAPE: 0.05950131270995232\n",
      "MedianAPE: 31.578865879791465\n"
     ]
    },
    {
     "name": "stderr",
     "output_type": "stream",
     "text": [
      "INFO:prophet:Disabling yearly seasonality. Run prophet with yearly_seasonality=True to override this.\n"
     ]
    },
    {
     "name": "stdout",
     "output_type": "stream",
     "text": [
      "\n",
      "Prophet...... Tuning Prophet....\n",
      "Tuning Iteration: 0\n"
     ]
    },
    {
     "name": "stderr",
     "output_type": "stream",
     "text": [
      "INFO:prophet:Disabling yearly seasonality. Run prophet with yearly_seasonality=True to override this.\n"
     ]
    },
    {
     "name": "stdout",
     "output_type": "stream",
     "text": [
      "Tuning Iteration: 1\n"
     ]
    },
    {
     "name": "stderr",
     "output_type": "stream",
     "text": [
      "INFO:prophet:Disabling yearly seasonality. Run prophet with yearly_seasonality=True to override this.\n"
     ]
    },
    {
     "name": "stdout",
     "output_type": "stream",
     "text": [
      "Tuning Iteration: 2\n"
     ]
    },
    {
     "name": "stderr",
     "output_type": "stream",
     "text": [
      "INFO:prophet:Disabling yearly seasonality. Run prophet with yearly_seasonality=True to override this.\n"
     ]
    },
    {
     "name": "stdout",
     "output_type": "stream",
     "text": [
      "Tuning Iteration: 3\n"
     ]
    },
    {
     "name": "stderr",
     "output_type": "stream",
     "text": [
      "INFO:prophet:Disabling yearly seasonality. Run prophet with yearly_seasonality=True to override this.\n"
     ]
    },
    {
     "name": "stdout",
     "output_type": "stream",
     "text": [
      "Tuning Iteration: 4\n"
     ]
    },
    {
     "name": "stderr",
     "output_type": "stream",
     "text": [
      "INFO:prophet:Disabling yearly seasonality. Run prophet with yearly_seasonality=True to override this.\n"
     ]
    },
    {
     "name": "stdout",
     "output_type": "stream",
     "text": [
      "Tuning Iteration: 5\n"
     ]
    },
    {
     "name": "stderr",
     "output_type": "stream",
     "text": [
      "INFO:prophet:Disabling yearly seasonality. Run prophet with yearly_seasonality=True to override this.\n"
     ]
    },
    {
     "name": "stdout",
     "output_type": "stream",
     "text": [
      "Tuning Iteration: 6\n"
     ]
    },
    {
     "name": "stderr",
     "output_type": "stream",
     "text": [
      "INFO:prophet:Disabling yearly seasonality. Run prophet with yearly_seasonality=True to override this.\n"
     ]
    },
    {
     "name": "stdout",
     "output_type": "stream",
     "text": [
      "Tuning Iteration: 7\n",
      "Error Metric: MedAEpctRange\n",
      "27.97065179786666\n",
      "RMSE: 15.698994701679425\n",
      "RMSE_pct_range: 13.90522117066379\n",
      "MAPE: 0.025823748813578355\n",
      "MedianAPE: 27.97065179786666\n",
      "Best Parameters: \n",
      "{'seasonality_mode': 'multiplicative', 'n_changepoints': 100, 'changepoint_prior_scale': 0.1}\n",
      "XGBoost...... RMSE: 20.477208226564695\n",
      "RMSE_pct_range: 18.137474071359335\n",
      "MAPE: 0.030354485686067235\n",
      "MedianAPE: 10.572399902343705\n",
      "\n",
      "###########################################################\n",
      "File: 120_0.pkl\n",
      "Length on load: 26304\n",
      "Length after agg: 1096\n",
      "Dropped N/A cols: 0\n",
      "Length after blank drop: 1096\n",
      "\n",
      "ARIMA Model...... RMSE: 52.857595249857155\n",
      "RMSE_pct_range: 103.13677121923348\n",
      "MAPE: 0.3311054461622089\n",
      "MedianAPE: 52.52777898822313\n"
     ]
    },
    {
     "name": "stderr",
     "output_type": "stream",
     "text": [
      "INFO:prophet:Disabling yearly seasonality. Run prophet with yearly_seasonality=True to override this.\n"
     ]
    },
    {
     "name": "stdout",
     "output_type": "stream",
     "text": [
      "\n",
      "Prophet...... Tuning Prophet....\n",
      "Tuning Iteration: 0\n"
     ]
    },
    {
     "name": "stderr",
     "output_type": "stream",
     "text": [
      "INFO:prophet:Disabling yearly seasonality. Run prophet with yearly_seasonality=True to override this.\n"
     ]
    },
    {
     "name": "stdout",
     "output_type": "stream",
     "text": [
      "Tuning Iteration: 1\n"
     ]
    },
    {
     "name": "stderr",
     "output_type": "stream",
     "text": [
      "INFO:prophet:Disabling yearly seasonality. Run prophet with yearly_seasonality=True to override this.\n"
     ]
    },
    {
     "name": "stdout",
     "output_type": "stream",
     "text": [
      "Tuning Iteration: 2\n"
     ]
    },
    {
     "name": "stderr",
     "output_type": "stream",
     "text": [
      "INFO:prophet:Disabling yearly seasonality. Run prophet with yearly_seasonality=True to override this.\n"
     ]
    },
    {
     "name": "stdout",
     "output_type": "stream",
     "text": [
      "Tuning Iteration: 3\n"
     ]
    },
    {
     "name": "stderr",
     "output_type": "stream",
     "text": [
      "INFO:prophet:Disabling yearly seasonality. Run prophet with yearly_seasonality=True to override this.\n"
     ]
    },
    {
     "name": "stdout",
     "output_type": "stream",
     "text": [
      "Tuning Iteration: 4\n"
     ]
    },
    {
     "name": "stderr",
     "output_type": "stream",
     "text": [
      "INFO:prophet:Disabling yearly seasonality. Run prophet with yearly_seasonality=True to override this.\n"
     ]
    },
    {
     "name": "stdout",
     "output_type": "stream",
     "text": [
      "Tuning Iteration: 5\n"
     ]
    },
    {
     "name": "stderr",
     "output_type": "stream",
     "text": [
      "INFO:prophet:Disabling yearly seasonality. Run prophet with yearly_seasonality=True to override this.\n"
     ]
    },
    {
     "name": "stdout",
     "output_type": "stream",
     "text": [
      "Tuning Iteration: 6\n"
     ]
    },
    {
     "name": "stderr",
     "output_type": "stream",
     "text": [
      "INFO:prophet:Disabling yearly seasonality. Run prophet with yearly_seasonality=True to override this.\n"
     ]
    },
    {
     "name": "stdout",
     "output_type": "stream",
     "text": [
      "Tuning Iteration: 7\n",
      "Error Metric: MedAEpctRange\n",
      "102.49322729409391\n",
      "RMSE: 73.24476254766739\n",
      "RMSE_pct_range: 142.9166098491071\n",
      "MAPE: 0.5284655958114265\n",
      "MedianAPE: 102.49322729409391\n",
      "Best Parameters: \n",
      "{'seasonality_mode': 'multiplicative', 'n_changepoints': 100, 'changepoint_prior_scale': 0.1}\n",
      "XGBoost...... RMSE: 66.763716147592\n",
      "RMSE_pct_range: 130.27066565383808\n",
      "MAPE: 0.4560021001952533\n",
      "MedianAPE: 68.55844421386718\n",
      "\n",
      "###########################################################\n",
      "File: 126_0.pkl\n",
      "Length on load: 26304\n",
      "Length after agg: 1096\n",
      "Dropped N/A cols: 0\n",
      "Length after blank drop: 1096\n",
      "\n",
      "ARIMA Model...... RMSE: 7.53870951563683\n",
      "RMSE_pct_range: 23.856675682395014\n",
      "MAPE: 0.04931784358242849\n",
      "MedianAPE: 4.89785413457615\n"
     ]
    },
    {
     "name": "stderr",
     "output_type": "stream",
     "text": [
      "INFO:prophet:Disabling yearly seasonality. Run prophet with yearly_seasonality=True to override this.\n"
     ]
    },
    {
     "name": "stdout",
     "output_type": "stream",
     "text": [
      "\n",
      "Prophet...... Tuning Prophet....\n",
      "Tuning Iteration: 0\n"
     ]
    },
    {
     "name": "stderr",
     "output_type": "stream",
     "text": [
      "INFO:prophet:Disabling yearly seasonality. Run prophet with yearly_seasonality=True to override this.\n"
     ]
    },
    {
     "name": "stdout",
     "output_type": "stream",
     "text": [
      "Tuning Iteration: 1\n"
     ]
    },
    {
     "name": "stderr",
     "output_type": "stream",
     "text": [
      "INFO:prophet:Disabling yearly seasonality. Run prophet with yearly_seasonality=True to override this.\n"
     ]
    },
    {
     "name": "stdout",
     "output_type": "stream",
     "text": [
      "Tuning Iteration: 2\n"
     ]
    },
    {
     "name": "stderr",
     "output_type": "stream",
     "text": [
      "INFO:prophet:Disabling yearly seasonality. Run prophet with yearly_seasonality=True to override this.\n"
     ]
    },
    {
     "name": "stdout",
     "output_type": "stream",
     "text": [
      "Tuning Iteration: 3\n"
     ]
    },
    {
     "name": "stderr",
     "output_type": "stream",
     "text": [
      "INFO:prophet:Disabling yearly seasonality. Run prophet with yearly_seasonality=True to override this.\n"
     ]
    },
    {
     "name": "stdout",
     "output_type": "stream",
     "text": [
      "Tuning Iteration: 4\n"
     ]
    },
    {
     "name": "stderr",
     "output_type": "stream",
     "text": [
      "INFO:prophet:Disabling yearly seasonality. Run prophet with yearly_seasonality=True to override this.\n"
     ]
    },
    {
     "name": "stdout",
     "output_type": "stream",
     "text": [
      "Tuning Iteration: 5\n"
     ]
    },
    {
     "name": "stderr",
     "output_type": "stream",
     "text": [
      "INFO:prophet:Disabling yearly seasonality. Run prophet with yearly_seasonality=True to override this.\n"
     ]
    },
    {
     "name": "stdout",
     "output_type": "stream",
     "text": [
      "Tuning Iteration: 6\n"
     ]
    },
    {
     "name": "stderr",
     "output_type": "stream",
     "text": [
      "INFO:prophet:Disabling yearly seasonality. Run prophet with yearly_seasonality=True to override this.\n"
     ]
    },
    {
     "name": "stdout",
     "output_type": "stream",
     "text": [
      "Tuning Iteration: 7\n",
      "Error Metric: MedAEpctRange\n",
      "15.499538400557425\n",
      "RMSE: 8.082758605129586\n",
      "RMSE_pct_range: 25.578350016232847\n",
      "MAPE: 0.04893704288801766\n",
      "MedianAPE: 15.499538400557425\n",
      "Best Parameters: \n",
      "{'seasonality_mode': 'multiplicative', 'n_changepoints': 100, 'changepoint_prior_scale': 0.1}\n",
      "XGBoost...... RMSE: 12.97647162646585\n",
      "RMSE_pct_range: 41.06478362805645\n",
      "MAPE: 0.09424018476079174\n",
      "MedianAPE: 8.730854797363293\n",
      "\n",
      "###########################################################\n",
      "File: 134_0.pkl\n",
      "Length on load: 26304\n",
      "Length after agg: 1096\n",
      "Dropped N/A cols: 0\n",
      "Length after blank drop: 1096\n",
      "\n",
      "ARIMA Model...... RMSE: 24.141919285906162\n",
      "RMSE_pct_range: 76.39847875286759\n",
      "MAPE: 0.6110673373395116\n",
      "MedianAPE: 25.617556163327713\n"
     ]
    },
    {
     "name": "stderr",
     "output_type": "stream",
     "text": [
      "INFO:prophet:Disabling yearly seasonality. Run prophet with yearly_seasonality=True to override this.\n"
     ]
    },
    {
     "name": "stdout",
     "output_type": "stream",
     "text": [
      "\n",
      "Prophet...... Tuning Prophet....\n",
      "Tuning Iteration: 0\n"
     ]
    },
    {
     "name": "stderr",
     "output_type": "stream",
     "text": [
      "INFO:prophet:Disabling yearly seasonality. Run prophet with yearly_seasonality=True to override this.\n"
     ]
    },
    {
     "name": "stdout",
     "output_type": "stream",
     "text": [
      "Tuning Iteration: 1\n"
     ]
    },
    {
     "name": "stderr",
     "output_type": "stream",
     "text": [
      "INFO:prophet:Disabling yearly seasonality. Run prophet with yearly_seasonality=True to override this.\n"
     ]
    },
    {
     "name": "stdout",
     "output_type": "stream",
     "text": [
      "Tuning Iteration: 2\n"
     ]
    },
    {
     "name": "stderr",
     "output_type": "stream",
     "text": [
      "INFO:prophet:Disabling yearly seasonality. Run prophet with yearly_seasonality=True to override this.\n"
     ]
    },
    {
     "name": "stdout",
     "output_type": "stream",
     "text": [
      "Tuning Iteration: 3\n"
     ]
    },
    {
     "name": "stderr",
     "output_type": "stream",
     "text": [
      "INFO:prophet:Disabling yearly seasonality. Run prophet with yearly_seasonality=True to override this.\n"
     ]
    },
    {
     "name": "stdout",
     "output_type": "stream",
     "text": [
      "Tuning Iteration: 4\n"
     ]
    },
    {
     "name": "stderr",
     "output_type": "stream",
     "text": [
      "INFO:prophet:Disabling yearly seasonality. Run prophet with yearly_seasonality=True to override this.\n"
     ]
    },
    {
     "name": "stdout",
     "output_type": "stream",
     "text": [
      "Tuning Iteration: 5\n"
     ]
    },
    {
     "name": "stderr",
     "output_type": "stream",
     "text": [
      "INFO:prophet:Disabling yearly seasonality. Run prophet with yearly_seasonality=True to override this.\n"
     ]
    },
    {
     "name": "stdout",
     "output_type": "stream",
     "text": [
      "Tuning Iteration: 6\n"
     ]
    },
    {
     "name": "stderr",
     "output_type": "stream",
     "text": [
      "INFO:prophet:Disabling yearly seasonality. Run prophet with yearly_seasonality=True to override this.\n"
     ]
    },
    {
     "name": "stdout",
     "output_type": "stream",
     "text": [
      "Tuning Iteration: 7\n",
      "Error Metric: MedAEpctRange\n",
      "81.06821570673326\n",
      "RMSE: 22.604629630820725\n",
      "RMSE_pct_range: 71.53363807221747\n",
      "MAPE: 0.5391687940566914\n",
      "MedianAPE: 81.06821570673326\n",
      "Best Parameters: \n",
      "{'seasonality_mode': 'multiplicative', 'n_changepoints': 100, 'changepoint_prior_scale': 0.1}\n",
      "XGBoost...... RMSE: 15.061494032485319\n",
      "RMSE_pct_range: 47.66295579900416\n",
      "MAPE: 0.2774058349274297\n",
      "MedianAPE: 13.905966186523443\n",
      "\n",
      "###########################################################\n",
      "File: 135_0.pkl\n",
      "Length on load: 26304\n",
      "Length after agg: 1096\n",
      "Dropped N/A cols: 0\n",
      "Length after blank drop: 1096\n",
      "\n",
      "ARIMA Model...... RMSE: 4.433292748260915\n",
      "RMSE_pct_range: 71.5047217461438\n",
      "MAPE: 0.11645644648266441\n",
      "MedianAPE: 4.559010444467766\n"
     ]
    },
    {
     "name": "stderr",
     "output_type": "stream",
     "text": [
      "INFO:prophet:Disabling yearly seasonality. Run prophet with yearly_seasonality=True to override this.\n"
     ]
    },
    {
     "name": "stdout",
     "output_type": "stream",
     "text": [
      "\n",
      "Prophet...... Tuning Prophet....\n",
      "Tuning Iteration: 0\n"
     ]
    },
    {
     "name": "stderr",
     "output_type": "stream",
     "text": [
      "INFO:prophet:Disabling yearly seasonality. Run prophet with yearly_seasonality=True to override this.\n"
     ]
    },
    {
     "name": "stdout",
     "output_type": "stream",
     "text": [
      "Tuning Iteration: 1\n"
     ]
    },
    {
     "name": "stderr",
     "output_type": "stream",
     "text": [
      "INFO:prophet:Disabling yearly seasonality. Run prophet with yearly_seasonality=True to override this.\n"
     ]
    },
    {
     "name": "stdout",
     "output_type": "stream",
     "text": [
      "Tuning Iteration: 2\n"
     ]
    },
    {
     "name": "stderr",
     "output_type": "stream",
     "text": [
      "INFO:prophet:Disabling yearly seasonality. Run prophet with yearly_seasonality=True to override this.\n"
     ]
    },
    {
     "name": "stdout",
     "output_type": "stream",
     "text": [
      "Tuning Iteration: 3\n"
     ]
    },
    {
     "name": "stderr",
     "output_type": "stream",
     "text": [
      "INFO:prophet:Disabling yearly seasonality. Run prophet with yearly_seasonality=True to override this.\n"
     ]
    },
    {
     "name": "stdout",
     "output_type": "stream",
     "text": [
      "Tuning Iteration: 4\n"
     ]
    },
    {
     "name": "stderr",
     "output_type": "stream",
     "text": [
      "INFO:prophet:Disabling yearly seasonality. Run prophet with yearly_seasonality=True to override this.\n"
     ]
    },
    {
     "name": "stdout",
     "output_type": "stream",
     "text": [
      "Tuning Iteration: 5\n"
     ]
    },
    {
     "name": "stderr",
     "output_type": "stream",
     "text": [
      "INFO:prophet:Disabling yearly seasonality. Run prophet with yearly_seasonality=True to override this.\n"
     ]
    },
    {
     "name": "stdout",
     "output_type": "stream",
     "text": [
      "Tuning Iteration: 6\n"
     ]
    },
    {
     "name": "stderr",
     "output_type": "stream",
     "text": [
      "INFO:prophet:Disabling yearly seasonality. Run prophet with yearly_seasonality=True to override this.\n"
     ]
    },
    {
     "name": "stdout",
     "output_type": "stream",
     "text": [
      "Tuning Iteration: 7\n",
      "Error Metric: MedAEpctRange\n",
      "73.53242652367365\n",
      "RMSE: 1.5752022938498071\n",
      "RMSE_pct_range: 25.406488610480764\n",
      "MAPE: 0.038744805688762624\n",
      "MedianAPE: 73.53242652367365\n",
      "Best Parameters: \n",
      "{'seasonality_mode': 'multiplicative', 'n_changepoints': 100, 'changepoint_prior_scale': 0.1}\n",
      "XGBoost...... RMSE: 10.104512259250196\n",
      "RMSE_pct_range: 162.97600418145478\n",
      "MAPE: 0.2231612916729111\n",
      "MedianAPE: 9.73157958984375\n",
      "\n",
      "###########################################################\n",
      "File: 141_0.pkl\n",
      "Length on load: 26304\n",
      "Length after agg: 1096\n",
      "Dropped N/A cols: 0\n",
      "Length after blank drop: 1096\n",
      "\n",
      "ARIMA Model...... RMSE: 15.750534308686493\n",
      "RMSE_pct_range: 36.41742036690518\n",
      "MAPE: 0.2485351687407305\n",
      "MedianAPE: 11.080024984540799\n"
     ]
    },
    {
     "name": "stderr",
     "output_type": "stream",
     "text": [
      "INFO:prophet:Disabling yearly seasonality. Run prophet with yearly_seasonality=True to override this.\n"
     ]
    },
    {
     "name": "stdout",
     "output_type": "stream",
     "text": [
      "\n",
      "Prophet...... Tuning Prophet....\n",
      "Tuning Iteration: 0\n"
     ]
    },
    {
     "name": "stderr",
     "output_type": "stream",
     "text": [
      "INFO:prophet:Disabling yearly seasonality. Run prophet with yearly_seasonality=True to override this.\n"
     ]
    },
    {
     "name": "stdout",
     "output_type": "stream",
     "text": [
      "Tuning Iteration: 1\n"
     ]
    },
    {
     "name": "stderr",
     "output_type": "stream",
     "text": [
      "INFO:prophet:Disabling yearly seasonality. Run prophet with yearly_seasonality=True to override this.\n"
     ]
    },
    {
     "name": "stdout",
     "output_type": "stream",
     "text": [
      "Tuning Iteration: 2\n"
     ]
    },
    {
     "name": "stderr",
     "output_type": "stream",
     "text": [
      "INFO:prophet:Disabling yearly seasonality. Run prophet with yearly_seasonality=True to override this.\n"
     ]
    },
    {
     "name": "stdout",
     "output_type": "stream",
     "text": [
      "Tuning Iteration: 3\n"
     ]
    },
    {
     "name": "stderr",
     "output_type": "stream",
     "text": [
      "INFO:prophet:Disabling yearly seasonality. Run prophet with yearly_seasonality=True to override this.\n"
     ]
    },
    {
     "name": "stdout",
     "output_type": "stream",
     "text": [
      "Tuning Iteration: 4\n"
     ]
    },
    {
     "name": "stderr",
     "output_type": "stream",
     "text": [
      "INFO:prophet:Disabling yearly seasonality. Run prophet with yearly_seasonality=True to override this.\n"
     ]
    },
    {
     "name": "stdout",
     "output_type": "stream",
     "text": [
      "Tuning Iteration: 5\n"
     ]
    },
    {
     "name": "stderr",
     "output_type": "stream",
     "text": [
      "INFO:prophet:Disabling yearly seasonality. Run prophet with yearly_seasonality=True to override this.\n"
     ]
    },
    {
     "name": "stdout",
     "output_type": "stream",
     "text": [
      "Tuning Iteration: 6\n"
     ]
    },
    {
     "name": "stderr",
     "output_type": "stream",
     "text": [
      "INFO:prophet:Disabling yearly seasonality. Run prophet with yearly_seasonality=True to override this.\n"
     ]
    },
    {
     "name": "stdout",
     "output_type": "stream",
     "text": [
      "Tuning Iteration: 7\n",
      "Error Metric: MedAEpctRange\n",
      "25.61855487755098\n",
      "RMSE: 13.849597492754855\n",
      "RMSE_pct_range: 32.022190734693304\n",
      "MAPE: 0.21726519868113975\n",
      "MedianAPE: 25.61855487755098\n",
      "Best Parameters: \n",
      "{'seasonality_mode': 'multiplicative', 'n_changepoints': 100, 'changepoint_prior_scale': 0.1}\n",
      "XGBoost...... RMSE: 13.336058173233061\n",
      "RMSE_pct_range: 30.834816585509966\n",
      "MAPE: 0.20333234261340827\n",
      "MedianAPE: 10.911048889160156\n",
      "\n",
      "###########################################################\n",
      "File: 146_0.pkl\n",
      "Length on load: 26304\n",
      "Length after agg: 1096\n",
      "Dropped N/A cols: 0\n",
      "Length after blank drop: 1096\n",
      "\n",
      "ARIMA Model...... RMSE: 1.795288209360776\n",
      "RMSE_pct_range: 35.20172959530933\n",
      "MAPE: 0.226710548554543\n",
      "MedianAPE: 1.3998971933521291\n"
     ]
    },
    {
     "name": "stderr",
     "output_type": "stream",
     "text": [
      "INFO:prophet:Disabling yearly seasonality. Run prophet with yearly_seasonality=True to override this.\n"
     ]
    },
    {
     "name": "stdout",
     "output_type": "stream",
     "text": [
      "\n",
      "Prophet...... Tuning Prophet....\n",
      "Tuning Iteration: 0\n"
     ]
    },
    {
     "name": "stderr",
     "output_type": "stream",
     "text": [
      "INFO:prophet:Disabling yearly seasonality. Run prophet with yearly_seasonality=True to override this.\n"
     ]
    },
    {
     "name": "stdout",
     "output_type": "stream",
     "text": [
      "Tuning Iteration: 1\n"
     ]
    },
    {
     "name": "stderr",
     "output_type": "stream",
     "text": [
      "INFO:prophet:Disabling yearly seasonality. Run prophet with yearly_seasonality=True to override this.\n"
     ]
    },
    {
     "name": "stdout",
     "output_type": "stream",
     "text": [
      "Tuning Iteration: 2\n"
     ]
    },
    {
     "name": "stderr",
     "output_type": "stream",
     "text": [
      "INFO:prophet:Disabling yearly seasonality. Run prophet with yearly_seasonality=True to override this.\n"
     ]
    },
    {
     "name": "stdout",
     "output_type": "stream",
     "text": [
      "Tuning Iteration: 3\n"
     ]
    },
    {
     "name": "stderr",
     "output_type": "stream",
     "text": [
      "INFO:prophet:Disabling yearly seasonality. Run prophet with yearly_seasonality=True to override this.\n"
     ]
    },
    {
     "name": "stdout",
     "output_type": "stream",
     "text": [
      "Tuning Iteration: 4\n"
     ]
    },
    {
     "name": "stderr",
     "output_type": "stream",
     "text": [
      "INFO:prophet:Disabling yearly seasonality. Run prophet with yearly_seasonality=True to override this.\n"
     ]
    },
    {
     "name": "stdout",
     "output_type": "stream",
     "text": [
      "Tuning Iteration: 5\n"
     ]
    },
    {
     "name": "stderr",
     "output_type": "stream",
     "text": [
      "INFO:prophet:Disabling yearly seasonality. Run prophet with yearly_seasonality=True to override this.\n"
     ]
    },
    {
     "name": "stdout",
     "output_type": "stream",
     "text": [
      "Tuning Iteration: 6\n"
     ]
    },
    {
     "name": "stderr",
     "output_type": "stream",
     "text": [
      "INFO:prophet:Disabling yearly seasonality. Run prophet with yearly_seasonality=True to override this.\n"
     ]
    },
    {
     "name": "stdout",
     "output_type": "stream",
     "text": [
      "Tuning Iteration: 7\n",
      "Error Metric: MedAEpctRange\n",
      "27.448964575531942\n",
      "RMSE: 1.3939151383224697\n",
      "RMSE_pct_range: 27.331669378871954\n",
      "MAPE: 0.14399000939714543\n",
      "MedianAPE: 27.448964575531942\n",
      "Best Parameters: \n",
      "{'seasonality_mode': 'multiplicative', 'n_changepoints': 100, 'changepoint_prior_scale': 0.1}\n",
      "XGBoost...... RMSE: 1.6854757034927255\n",
      "RMSE_pct_range: 33.04854320573971\n",
      "MAPE: 0.19874676192077081\n",
      "MedianAPE: 0.9090769767761238\n",
      "\n",
      "###########################################################\n",
      "File: 155_0.pkl\n",
      "Length on load: 26304\n",
      "Length after agg: 1096\n",
      "Dropped N/A cols: 0\n",
      "Length after blank drop: 1096\n",
      "\n",
      "ARIMA Model...... RMSE: 5.858532573395313\n",
      "RMSE_pct_range: 13.37564514473816\n",
      "MAPE: 0.06947562696416207\n",
      "MedianAPE: 3.7370039981095715\n"
     ]
    },
    {
     "name": "stderr",
     "output_type": "stream",
     "text": [
      "INFO:prophet:Disabling yearly seasonality. Run prophet with yearly_seasonality=True to override this.\n"
     ]
    },
    {
     "name": "stdout",
     "output_type": "stream",
     "text": [
      "\n",
      "Prophet...... Tuning Prophet....\n",
      "Tuning Iteration: 0\n"
     ]
    },
    {
     "name": "stderr",
     "output_type": "stream",
     "text": [
      "INFO:prophet:Disabling yearly seasonality. Run prophet with yearly_seasonality=True to override this.\n"
     ]
    },
    {
     "name": "stdout",
     "output_type": "stream",
     "text": [
      "Tuning Iteration: 1\n"
     ]
    },
    {
     "name": "stderr",
     "output_type": "stream",
     "text": [
      "INFO:prophet:Disabling yearly seasonality. Run prophet with yearly_seasonality=True to override this.\n"
     ]
    },
    {
     "name": "stdout",
     "output_type": "stream",
     "text": [
      "Tuning Iteration: 2\n"
     ]
    },
    {
     "name": "stderr",
     "output_type": "stream",
     "text": [
      "INFO:prophet:Disabling yearly seasonality. Run prophet with yearly_seasonality=True to override this.\n"
     ]
    },
    {
     "name": "stdout",
     "output_type": "stream",
     "text": [
      "Tuning Iteration: 3\n"
     ]
    },
    {
     "name": "stderr",
     "output_type": "stream",
     "text": [
      "INFO:prophet:Disabling yearly seasonality. Run prophet with yearly_seasonality=True to override this.\n"
     ]
    },
    {
     "name": "stdout",
     "output_type": "stream",
     "text": [
      "Tuning Iteration: 4\n"
     ]
    },
    {
     "name": "stderr",
     "output_type": "stream",
     "text": [
      "INFO:prophet:Disabling yearly seasonality. Run prophet with yearly_seasonality=True to override this.\n"
     ]
    },
    {
     "name": "stdout",
     "output_type": "stream",
     "text": [
      "Tuning Iteration: 5\n"
     ]
    },
    {
     "name": "stderr",
     "output_type": "stream",
     "text": [
      "INFO:prophet:Disabling yearly seasonality. Run prophet with yearly_seasonality=True to override this.\n"
     ]
    },
    {
     "name": "stdout",
     "output_type": "stream",
     "text": [
      "Tuning Iteration: 6\n"
     ]
    },
    {
     "name": "stderr",
     "output_type": "stream",
     "text": [
      "INFO:prophet:Disabling yearly seasonality. Run prophet with yearly_seasonality=True to override this.\n"
     ]
    },
    {
     "name": "stdout",
     "output_type": "stream",
     "text": [
      "Tuning Iteration: 7\n",
      "Error Metric: MedAEpctRange\n",
      "8.531972598423682\n",
      "RMSE: 5.387547503370403\n",
      "RMSE_pct_range: 12.300336765685854\n",
      "MAPE: 0.06803457720772689\n",
      "MedianAPE: 8.531972598423682\n",
      "Best Parameters: \n",
      "{'seasonality_mode': 'multiplicative', 'n_changepoints': 100, 'changepoint_prior_scale': 0.1}\n",
      "XGBoost...... RMSE: 7.860161228127238\n",
      "RMSE_pct_range: 17.945573580199177\n",
      "MAPE: 0.10172450463449602\n",
      "MedianAPE: 6.512317657470703\n",
      "\n",
      "###########################################################\n",
      "File: 663_0.pkl\n",
      "Length on load: 26304\n",
      "Length after agg: 1096\n",
      "Dropped N/A cols: 0\n",
      "Length after blank drop: 1096\n",
      "\n",
      "ARIMA Model...... RMSE: 9.872397652247686\n",
      "RMSE_pct_range: 42.923468053250815\n",
      "MAPE: 2.5503616124957937\n",
      "MedianAPE: 7.032019102012777\n"
     ]
    },
    {
     "name": "stderr",
     "output_type": "stream",
     "text": [
      "INFO:prophet:Disabling yearly seasonality. Run prophet with yearly_seasonality=True to override this.\n"
     ]
    },
    {
     "name": "stdout",
     "output_type": "stream",
     "text": [
      "\n",
      "Prophet...... Tuning Prophet....\n",
      "Tuning Iteration: 0\n"
     ]
    },
    {
     "name": "stderr",
     "output_type": "stream",
     "text": [
      "INFO:prophet:Disabling yearly seasonality. Run prophet with yearly_seasonality=True to override this.\n"
     ]
    },
    {
     "name": "stdout",
     "output_type": "stream",
     "text": [
      "Tuning Iteration: 1\n"
     ]
    },
    {
     "name": "stderr",
     "output_type": "stream",
     "text": [
      "INFO:prophet:Disabling yearly seasonality. Run prophet with yearly_seasonality=True to override this.\n"
     ]
    },
    {
     "name": "stdout",
     "output_type": "stream",
     "text": [
      "Tuning Iteration: 2\n"
     ]
    },
    {
     "name": "stderr",
     "output_type": "stream",
     "text": [
      "INFO:prophet:Disabling yearly seasonality. Run prophet with yearly_seasonality=True to override this.\n"
     ]
    },
    {
     "name": "stdout",
     "output_type": "stream",
     "text": [
      "Tuning Iteration: 3\n"
     ]
    },
    {
     "name": "stderr",
     "output_type": "stream",
     "text": [
      "INFO:prophet:Disabling yearly seasonality. Run prophet with yearly_seasonality=True to override this.\n"
     ]
    },
    {
     "name": "stdout",
     "output_type": "stream",
     "text": [
      "Tuning Iteration: 4\n"
     ]
    },
    {
     "name": "stderr",
     "output_type": "stream",
     "text": [
      "INFO:prophet:Disabling yearly seasonality. Run prophet with yearly_seasonality=True to override this.\n"
     ]
    },
    {
     "name": "stdout",
     "output_type": "stream",
     "text": [
      "Tuning Iteration: 5\n"
     ]
    },
    {
     "name": "stderr",
     "output_type": "stream",
     "text": [
      "INFO:prophet:Disabling yearly seasonality. Run prophet with yearly_seasonality=True to override this.\n"
     ]
    },
    {
     "name": "stdout",
     "output_type": "stream",
     "text": [
      "Tuning Iteration: 6\n"
     ]
    },
    {
     "name": "stderr",
     "output_type": "stream",
     "text": [
      "INFO:prophet:Disabling yearly seasonality. Run prophet with yearly_seasonality=True to override this.\n"
     ]
    },
    {
     "name": "stdout",
     "output_type": "stream",
     "text": [
      "Tuning Iteration: 7\n",
      "Error Metric: MedAEpctRange\n",
      "30.573996095707727\n",
      "RMSE: 14.524056928384987\n",
      "RMSE_pct_range: 63.14807360167386\n",
      "MAPE: 59.414610145699406\n",
      "MedianAPE: 30.573996095707727\n",
      "Best Parameters: \n",
      "{'seasonality_mode': 'multiplicative', 'n_changepoints': 100, 'changepoint_prior_scale': 0.1}\n",
      "XGBoost...... RMSE: 3.969627625044839\n",
      "RMSE_pct_range: 17.259250543673215\n",
      "MAPE: 0.9810624235145263\n",
      "MedianAPE: 1.7097303390502923\n",
      "\n",
      "###########################################################\n",
      "File: 670_0.pkl\n",
      "Length on load: 26304\n",
      "Length after agg: 1096\n",
      "Dropped N/A cols: 0\n",
      "Length after blank drop: 1096\n",
      "\n",
      "ARIMA Model...... RMSE: 3.0106359723909897\n",
      "RMSE_pct_range: 15.599150116015489\n",
      "MAPE: 0.14255490142468208\n",
      "MedianAPE: 1.61794547427332\n"
     ]
    },
    {
     "name": "stderr",
     "output_type": "stream",
     "text": [
      "INFO:prophet:Disabling yearly seasonality. Run prophet with yearly_seasonality=True to override this.\n"
     ]
    },
    {
     "name": "stdout",
     "output_type": "stream",
     "text": [
      "\n",
      "Prophet...... Tuning Prophet....\n",
      "Tuning Iteration: 0\n"
     ]
    },
    {
     "name": "stderr",
     "output_type": "stream",
     "text": [
      "INFO:prophet:Disabling yearly seasonality. Run prophet with yearly_seasonality=True to override this.\n"
     ]
    },
    {
     "name": "stdout",
     "output_type": "stream",
     "text": [
      "Tuning Iteration: 1\n"
     ]
    },
    {
     "name": "stderr",
     "output_type": "stream",
     "text": [
      "INFO:prophet:Disabling yearly seasonality. Run prophet with yearly_seasonality=True to override this.\n"
     ]
    },
    {
     "name": "stdout",
     "output_type": "stream",
     "text": [
      "Tuning Iteration: 2\n"
     ]
    },
    {
     "name": "stderr",
     "output_type": "stream",
     "text": [
      "INFO:prophet:Disabling yearly seasonality. Run prophet with yearly_seasonality=True to override this.\n"
     ]
    },
    {
     "name": "stdout",
     "output_type": "stream",
     "text": [
      "Tuning Iteration: 3\n"
     ]
    },
    {
     "name": "stderr",
     "output_type": "stream",
     "text": [
      "INFO:prophet:Disabling yearly seasonality. Run prophet with yearly_seasonality=True to override this.\n"
     ]
    },
    {
     "name": "stdout",
     "output_type": "stream",
     "text": [
      "Tuning Iteration: 4\n"
     ]
    },
    {
     "name": "stderr",
     "output_type": "stream",
     "text": [
      "INFO:prophet:Disabling yearly seasonality. Run prophet with yearly_seasonality=True to override this.\n"
     ]
    },
    {
     "name": "stdout",
     "output_type": "stream",
     "text": [
      "Tuning Iteration: 5\n"
     ]
    },
    {
     "name": "stderr",
     "output_type": "stream",
     "text": [
      "INFO:prophet:Disabling yearly seasonality. Run prophet with yearly_seasonality=True to override this.\n"
     ]
    },
    {
     "name": "stdout",
     "output_type": "stream",
     "text": [
      "Tuning Iteration: 6\n"
     ]
    },
    {
     "name": "stderr",
     "output_type": "stream",
     "text": [
      "INFO:prophet:Disabling yearly seasonality. Run prophet with yearly_seasonality=True to override this.\n"
     ]
    },
    {
     "name": "stdout",
     "output_type": "stream",
     "text": [
      "Tuning Iteration: 7\n",
      "Error Metric: MedAEpctRange\n",
      "8.38313717240062\n",
      "RMSE: 2.5733074744898126\n",
      "RMSE_pct_range: 13.333199349688146\n",
      "MAPE: 0.11666666832201845\n",
      "MedianAPE: 8.38313717240062\n",
      "Best Parameters: \n",
      "{'seasonality_mode': 'multiplicative', 'n_changepoints': 100, 'changepoint_prior_scale': 0.1}\n",
      "XGBoost...... RMSE: 6.295347999705671\n",
      "RMSE_pct_range: 32.61838341816409\n",
      "MAPE: 0.4601011142154861\n",
      "MedianAPE: 2.9259023666381836\n",
      "\n",
      "###########################################################\n",
      "File: 678_0.pkl\n",
      "Length on load: 26304\n",
      "Length after agg: 1096\n",
      "Dropped N/A cols: 0\n",
      "Length after blank drop: 1096\n",
      "\n",
      "ARIMA Model...... RMSE: 12.288494121624636\n",
      "RMSE_pct_range: 22.141430849774117\n",
      "MAPE: 0.26678699142192774\n",
      "MedianAPE: 7.340431321441095\n"
     ]
    },
    {
     "name": "stderr",
     "output_type": "stream",
     "text": [
      "INFO:prophet:Disabling yearly seasonality. Run prophet with yearly_seasonality=True to override this.\n"
     ]
    },
    {
     "name": "stdout",
     "output_type": "stream",
     "text": [
      "\n",
      "Prophet...... Tuning Prophet....\n",
      "Tuning Iteration: 0\n"
     ]
    },
    {
     "name": "stderr",
     "output_type": "stream",
     "text": [
      "INFO:prophet:Disabling yearly seasonality. Run prophet with yearly_seasonality=True to override this.\n"
     ]
    },
    {
     "name": "stdout",
     "output_type": "stream",
     "text": [
      "Tuning Iteration: 1\n"
     ]
    },
    {
     "name": "stderr",
     "output_type": "stream",
     "text": [
      "INFO:prophet:Disabling yearly seasonality. Run prophet with yearly_seasonality=True to override this.\n"
     ]
    },
    {
     "name": "stdout",
     "output_type": "stream",
     "text": [
      "Tuning Iteration: 2\n"
     ]
    },
    {
     "name": "stderr",
     "output_type": "stream",
     "text": [
      "INFO:prophet:Disabling yearly seasonality. Run prophet with yearly_seasonality=True to override this.\n"
     ]
    },
    {
     "name": "stdout",
     "output_type": "stream",
     "text": [
      "Tuning Iteration: 3\n"
     ]
    },
    {
     "name": "stderr",
     "output_type": "stream",
     "text": [
      "INFO:prophet:Disabling yearly seasonality. Run prophet with yearly_seasonality=True to override this.\n"
     ]
    },
    {
     "name": "stdout",
     "output_type": "stream",
     "text": [
      "Tuning Iteration: 4\n"
     ]
    },
    {
     "name": "stderr",
     "output_type": "stream",
     "text": [
      "INFO:prophet:Disabling yearly seasonality. Run prophet with yearly_seasonality=True to override this.\n"
     ]
    },
    {
     "name": "stdout",
     "output_type": "stream",
     "text": [
      "Tuning Iteration: 5\n"
     ]
    },
    {
     "name": "stderr",
     "output_type": "stream",
     "text": [
      "INFO:prophet:Disabling yearly seasonality. Run prophet with yearly_seasonality=True to override this.\n"
     ]
    },
    {
     "name": "stdout",
     "output_type": "stream",
     "text": [
      "Tuning Iteration: 6\n"
     ]
    },
    {
     "name": "stderr",
     "output_type": "stream",
     "text": [
      "INFO:prophet:Disabling yearly seasonality. Run prophet with yearly_seasonality=True to override this.\n"
     ]
    },
    {
     "name": "stdout",
     "output_type": "stream",
     "text": [
      "Tuning Iteration: 7\n",
      "Error Metric: MedAEpctRange\n",
      "13.226002380974947\n",
      "RMSE: 4.797664023775436\n",
      "RMSE_pct_range: 8.644439682478263\n",
      "MAPE: 0.08150314908541198\n",
      "MedianAPE: 13.226002380974947\n",
      "Best Parameters: \n",
      "{'seasonality_mode': 'multiplicative', 'n_changepoints': 100, 'changepoint_prior_scale': 0.1}\n",
      "XGBoost...... RMSE: 14.336691870661959\n",
      "RMSE_pct_range: 25.831877244435965\n",
      "MAPE: 1.6018628947948486\n",
      "MedianAPE: 3.3206443786621094\n",
      "\n",
      "###########################################################\n",
      "File: 684_0.pkl\n",
      "Length on load: 26304\n",
      "Length after agg: 1096\n",
      "Dropped N/A cols: 0\n",
      "Length after blank drop: 1096\n",
      "\n",
      "ARIMA Model...... RMSE: 23.168594879204736\n",
      "RMSE_pct_range: 24.323984125149327\n",
      "MAPE: 0.18002064199202394\n",
      "MedianAPE: 16.64583947744906\n"
     ]
    },
    {
     "name": "stderr",
     "output_type": "stream",
     "text": [
      "INFO:prophet:Disabling yearly seasonality. Run prophet with yearly_seasonality=True to override this.\n"
     ]
    },
    {
     "name": "stdout",
     "output_type": "stream",
     "text": [
      "\n",
      "Prophet...... Tuning Prophet....\n",
      "Tuning Iteration: 0\n"
     ]
    },
    {
     "name": "stderr",
     "output_type": "stream",
     "text": [
      "INFO:prophet:Disabling yearly seasonality. Run prophet with yearly_seasonality=True to override this.\n"
     ]
    },
    {
     "name": "stdout",
     "output_type": "stream",
     "text": [
      "Tuning Iteration: 1\n"
     ]
    },
    {
     "name": "stderr",
     "output_type": "stream",
     "text": [
      "INFO:prophet:Disabling yearly seasonality. Run prophet with yearly_seasonality=True to override this.\n"
     ]
    },
    {
     "name": "stdout",
     "output_type": "stream",
     "text": [
      "Tuning Iteration: 2\n"
     ]
    },
    {
     "name": "stderr",
     "output_type": "stream",
     "text": [
      "INFO:prophet:Disabling yearly seasonality. Run prophet with yearly_seasonality=True to override this.\n"
     ]
    },
    {
     "name": "stdout",
     "output_type": "stream",
     "text": [
      "Tuning Iteration: 3\n"
     ]
    },
    {
     "name": "stderr",
     "output_type": "stream",
     "text": [
      "INFO:prophet:Disabling yearly seasonality. Run prophet with yearly_seasonality=True to override this.\n"
     ]
    },
    {
     "name": "stdout",
     "output_type": "stream",
     "text": [
      "Tuning Iteration: 4\n"
     ]
    },
    {
     "name": "stderr",
     "output_type": "stream",
     "text": [
      "INFO:prophet:Disabling yearly seasonality. Run prophet with yearly_seasonality=True to override this.\n"
     ]
    },
    {
     "name": "stdout",
     "output_type": "stream",
     "text": [
      "Tuning Iteration: 5\n"
     ]
    },
    {
     "name": "stderr",
     "output_type": "stream",
     "text": [
      "INFO:prophet:Disabling yearly seasonality. Run prophet with yearly_seasonality=True to override this.\n"
     ]
    },
    {
     "name": "stdout",
     "output_type": "stream",
     "text": [
      "Tuning Iteration: 6\n"
     ]
    },
    {
     "name": "stderr",
     "output_type": "stream",
     "text": [
      "INFO:prophet:Disabling yearly seasonality. Run prophet with yearly_seasonality=True to override this.\n"
     ]
    },
    {
     "name": "stdout",
     "output_type": "stream",
     "text": [
      "Tuning Iteration: 7\n",
      "Error Metric: MedAEpctRange\n",
      "17.47594695795177\n",
      "RMSE: 23.93337860601318\n",
      "RMSE_pct_range: 25.126906672979715\n",
      "MAPE: 0.1854691825006528\n",
      "MedianAPE: 17.47594695795177\n",
      "Best Parameters: \n",
      "{'seasonality_mode': 'multiplicative', 'n_changepoints': 100, 'changepoint_prior_scale': 0.1}\n",
      "XGBoost...... RMSE: 53.77590507165132\n",
      "RMSE_pct_range: 56.4576431198439\n",
      "MAPE: 1.301907699684566\n",
      "MedianAPE: 35.02688903808594\n",
      "\n",
      "###########################################################\n",
      "File: 743_0.pkl\n",
      "Length on load: 26304\n",
      "Length after agg: 1096\n",
      "Dropped N/A cols: 0\n",
      "Length after blank drop: 1096\n",
      "\n",
      "ARIMA Model...... RMSE: 11.463341767389974\n",
      "RMSE_pct_range: 59.8607925190077\n",
      "MAPE: 0.546548970324739\n",
      "MedianAPE: 11.699330788947012\n"
     ]
    },
    {
     "name": "stderr",
     "output_type": "stream",
     "text": [
      "INFO:prophet:Disabling yearly seasonality. Run prophet with yearly_seasonality=True to override this.\n"
     ]
    },
    {
     "name": "stdout",
     "output_type": "stream",
     "text": [
      "\n",
      "Prophet...... Tuning Prophet....\n",
      "Tuning Iteration: 0\n"
     ]
    },
    {
     "name": "stderr",
     "output_type": "stream",
     "text": [
      "INFO:prophet:Disabling yearly seasonality. Run prophet with yearly_seasonality=True to override this.\n"
     ]
    },
    {
     "name": "stdout",
     "output_type": "stream",
     "text": [
      "Tuning Iteration: 1\n"
     ]
    },
    {
     "name": "stderr",
     "output_type": "stream",
     "text": [
      "INFO:prophet:Disabling yearly seasonality. Run prophet with yearly_seasonality=True to override this.\n"
     ]
    },
    {
     "name": "stdout",
     "output_type": "stream",
     "text": [
      "Tuning Iteration: 2\n"
     ]
    },
    {
     "name": "stderr",
     "output_type": "stream",
     "text": [
      "INFO:prophet:Disabling yearly seasonality. Run prophet with yearly_seasonality=True to override this.\n"
     ]
    },
    {
     "name": "stdout",
     "output_type": "stream",
     "text": [
      "Tuning Iteration: 3\n"
     ]
    },
    {
     "name": "stderr",
     "output_type": "stream",
     "text": [
      "INFO:prophet:Disabling yearly seasonality. Run prophet with yearly_seasonality=True to override this.\n"
     ]
    },
    {
     "name": "stdout",
     "output_type": "stream",
     "text": [
      "Tuning Iteration: 4\n"
     ]
    },
    {
     "name": "stderr",
     "output_type": "stream",
     "text": [
      "INFO:prophet:Disabling yearly seasonality. Run prophet with yearly_seasonality=True to override this.\n"
     ]
    },
    {
     "name": "stdout",
     "output_type": "stream",
     "text": [
      "Tuning Iteration: 5\n"
     ]
    },
    {
     "name": "stderr",
     "output_type": "stream",
     "text": [
      "INFO:prophet:Disabling yearly seasonality. Run prophet with yearly_seasonality=True to override this.\n"
     ]
    },
    {
     "name": "stdout",
     "output_type": "stream",
     "text": [
      "Tuning Iteration: 6\n"
     ]
    },
    {
     "name": "stderr",
     "output_type": "stream",
     "text": [
      "INFO:prophet:Disabling yearly seasonality. Run prophet with yearly_seasonality=True to override this.\n"
     ]
    },
    {
     "name": "stdout",
     "output_type": "stream",
     "text": [
      "Tuning Iteration: 7\n",
      "Error Metric: MedAEpctRange\n",
      "61.0931111694361\n",
      "RMSE: 10.58221227133392\n",
      "RMSE_pct_range: 55.25959410618236\n",
      "MAPE: 0.35089881698754866\n",
      "MedianAPE: 61.0931111694361\n",
      "Best Parameters: \n",
      "{'seasonality_mode': 'multiplicative', 'n_changepoints': 100, 'changepoint_prior_scale': 0.1}\n",
      "XGBoost...... RMSE: 34.48956001885746\n",
      "RMSE_pct_range: 180.1021410906395\n",
      "MAPE: 0.8704261091017644\n",
      "MedianAPE: 20.083193521118165\n",
      "\n",
      "###########################################################\n",
      "File: 1034_0.pkl\n",
      "Length on load: 26304\n",
      "Length after agg: 1096\n",
      "Dropped N/A cols: 0\n",
      "Length after blank drop: 1096\n",
      "\n",
      "ARIMA Model...... RMSE: 1.6425316655220765\n",
      "RMSE_pct_range: 27.675343985207697\n",
      "MAPE: 0.22215410617863512\n",
      "MedianAPE: 1.2645669950967253\n"
     ]
    },
    {
     "name": "stderr",
     "output_type": "stream",
     "text": [
      "INFO:prophet:Disabling yearly seasonality. Run prophet with yearly_seasonality=True to override this.\n"
     ]
    },
    {
     "name": "stdout",
     "output_type": "stream",
     "text": [
      "\n",
      "Prophet...... Tuning Prophet....\n",
      "Tuning Iteration: 0\n"
     ]
    },
    {
     "name": "stderr",
     "output_type": "stream",
     "text": [
      "INFO:prophet:Disabling yearly seasonality. Run prophet with yearly_seasonality=True to override this.\n"
     ]
    },
    {
     "name": "stdout",
     "output_type": "stream",
     "text": [
      "Tuning Iteration: 1\n"
     ]
    },
    {
     "name": "stderr",
     "output_type": "stream",
     "text": [
      "INFO:prophet:Disabling yearly seasonality. Run prophet with yearly_seasonality=True to override this.\n"
     ]
    },
    {
     "name": "stdout",
     "output_type": "stream",
     "text": [
      "Tuning Iteration: 2\n"
     ]
    },
    {
     "name": "stderr",
     "output_type": "stream",
     "text": [
      "INFO:prophet:Disabling yearly seasonality. Run prophet with yearly_seasonality=True to override this.\n"
     ]
    },
    {
     "name": "stdout",
     "output_type": "stream",
     "text": [
      "Tuning Iteration: 3\n"
     ]
    },
    {
     "name": "stderr",
     "output_type": "stream",
     "text": [
      "INFO:prophet:Disabling yearly seasonality. Run prophet with yearly_seasonality=True to override this.\n"
     ]
    },
    {
     "name": "stdout",
     "output_type": "stream",
     "text": [
      "Tuning Iteration: 4\n"
     ]
    },
    {
     "name": "stderr",
     "output_type": "stream",
     "text": [
      "INFO:prophet:Disabling yearly seasonality. Run prophet with yearly_seasonality=True to override this.\n"
     ]
    },
    {
     "name": "stdout",
     "output_type": "stream",
     "text": [
      "Tuning Iteration: 5\n"
     ]
    },
    {
     "name": "stderr",
     "output_type": "stream",
     "text": [
      "INFO:prophet:Disabling yearly seasonality. Run prophet with yearly_seasonality=True to override this.\n"
     ]
    },
    {
     "name": "stdout",
     "output_type": "stream",
     "text": [
      "Tuning Iteration: 6\n"
     ]
    },
    {
     "name": "stderr",
     "output_type": "stream",
     "text": [
      "INFO:prophet:Disabling yearly seasonality. Run prophet with yearly_seasonality=True to override this.\n"
     ]
    },
    {
     "name": "stdout",
     "output_type": "stream",
     "text": [
      "Tuning Iteration: 7\n",
      "Error Metric: MedAEpctRange\n",
      "21.30694178764491\n",
      "RMSE: 1.348395024574329\n",
      "RMSE_pct_range: 22.719376993670245\n",
      "MAPE: 0.17394130212150752\n",
      "MedianAPE: 21.30694178764491\n",
      "Best Parameters: \n",
      "{'seasonality_mode': 'multiplicative', 'n_changepoints': 100, 'changepoint_prior_scale': 0.1}\n",
      "XGBoost...... RMSE: 1.5499932257498603\n",
      "RMSE_pct_range: 26.11614533698164\n",
      "MAPE: 0.19317181091901858\n",
      "MedianAPE: 0.8563078117370608\n",
      "\n",
      "###########################################################\n",
      "File: 1047_0.pkl\n",
      "Length on load: 26304\n",
      "Length after agg: 1096\n",
      "Dropped N/A cols: 0\n",
      "Length after blank drop: 1096\n",
      "\n",
      "ARIMA Model...... RMSE: 43.73787805364837\n",
      "RMSE_pct_range: 29.292255695924652\n",
      "MAPE: 0.25418150435465614\n",
      "MedianAPE: 32.0315185937996\n"
     ]
    },
    {
     "name": "stderr",
     "output_type": "stream",
     "text": [
      "INFO:prophet:Disabling yearly seasonality. Run prophet with yearly_seasonality=True to override this.\n"
     ]
    },
    {
     "name": "stdout",
     "output_type": "stream",
     "text": [
      "\n",
      "Prophet...... Tuning Prophet....\n",
      "Tuning Iteration: 0\n"
     ]
    },
    {
     "name": "stderr",
     "output_type": "stream",
     "text": [
      "INFO:prophet:Disabling yearly seasonality. Run prophet with yearly_seasonality=True to override this.\n"
     ]
    },
    {
     "name": "stdout",
     "output_type": "stream",
     "text": [
      "Tuning Iteration: 1\n"
     ]
    },
    {
     "name": "stderr",
     "output_type": "stream",
     "text": [
      "INFO:prophet:Disabling yearly seasonality. Run prophet with yearly_seasonality=True to override this.\n"
     ]
    },
    {
     "name": "stdout",
     "output_type": "stream",
     "text": [
      "Tuning Iteration: 2\n"
     ]
    },
    {
     "name": "stderr",
     "output_type": "stream",
     "text": [
      "INFO:prophet:Disabling yearly seasonality. Run prophet with yearly_seasonality=True to override this.\n"
     ]
    },
    {
     "name": "stdout",
     "output_type": "stream",
     "text": [
      "Tuning Iteration: 3\n"
     ]
    },
    {
     "name": "stderr",
     "output_type": "stream",
     "text": [
      "INFO:prophet:Disabling yearly seasonality. Run prophet with yearly_seasonality=True to override this.\n"
     ]
    },
    {
     "name": "stdout",
     "output_type": "stream",
     "text": [
      "Tuning Iteration: 4\n"
     ]
    },
    {
     "name": "stderr",
     "output_type": "stream",
     "text": [
      "INFO:prophet:Disabling yearly seasonality. Run prophet with yearly_seasonality=True to override this.\n"
     ]
    },
    {
     "name": "stdout",
     "output_type": "stream",
     "text": [
      "Tuning Iteration: 5\n"
     ]
    },
    {
     "name": "stderr",
     "output_type": "stream",
     "text": [
      "INFO:prophet:Disabling yearly seasonality. Run prophet with yearly_seasonality=True to override this.\n"
     ]
    },
    {
     "name": "stdout",
     "output_type": "stream",
     "text": [
      "Tuning Iteration: 6\n"
     ]
    },
    {
     "name": "stderr",
     "output_type": "stream",
     "text": [
      "INFO:prophet:Disabling yearly seasonality. Run prophet with yearly_seasonality=True to override this.\n"
     ]
    },
    {
     "name": "stdout",
     "output_type": "stream",
     "text": [
      "Tuning Iteration: 7\n",
      "Error Metric: MedAEpctRange\n",
      "21.452239448549953\n",
      "RMSE: 40.63772028008392\n",
      "RMSE_pct_range: 27.21600924223133\n",
      "MAPE: 0.2339593262266377\n",
      "MedianAPE: 21.452239448549953\n",
      "Best Parameters: \n",
      "{'seasonality_mode': 'multiplicative', 'n_changepoints': 100, 'changepoint_prior_scale': 0.1}\n",
      "XGBoost...... RMSE: 48.42038794406558\n",
      "RMSE_pct_range: 32.428239495608686\n",
      "MAPE: 0.27166768500735033\n",
      "MedianAPE: 42.34777587890625\n",
      "\n",
      "###########################################################\n",
      "File: 1048_0.pkl\n",
      "Length on load: 26304\n",
      "Length after agg: 1096\n",
      "Dropped N/A cols: 0\n",
      "Length after blank drop: 1096\n",
      "\n",
      "ARIMA Model...... RMSE: 28.418367854175532\n",
      "RMSE_pct_range: 26.634333603574127\n",
      "MAPE: 0.1832786625386044\n",
      "MedianAPE: 20.29249060573197\n"
     ]
    },
    {
     "name": "stderr",
     "output_type": "stream",
     "text": [
      "INFO:prophet:Disabling yearly seasonality. Run prophet with yearly_seasonality=True to override this.\n"
     ]
    },
    {
     "name": "stdout",
     "output_type": "stream",
     "text": [
      "\n",
      "Prophet...... Tuning Prophet....\n",
      "Tuning Iteration: 0\n"
     ]
    },
    {
     "name": "stderr",
     "output_type": "stream",
     "text": [
      "INFO:prophet:Disabling yearly seasonality. Run prophet with yearly_seasonality=True to override this.\n"
     ]
    },
    {
     "name": "stdout",
     "output_type": "stream",
     "text": [
      "Tuning Iteration: 1\n"
     ]
    },
    {
     "name": "stderr",
     "output_type": "stream",
     "text": [
      "INFO:prophet:Disabling yearly seasonality. Run prophet with yearly_seasonality=True to override this.\n"
     ]
    },
    {
     "name": "stdout",
     "output_type": "stream",
     "text": [
      "Tuning Iteration: 2\n"
     ]
    },
    {
     "name": "stderr",
     "output_type": "stream",
     "text": [
      "INFO:prophet:Disabling yearly seasonality. Run prophet with yearly_seasonality=True to override this.\n"
     ]
    },
    {
     "name": "stdout",
     "output_type": "stream",
     "text": [
      "Tuning Iteration: 3\n"
     ]
    },
    {
     "name": "stderr",
     "output_type": "stream",
     "text": [
      "INFO:prophet:Disabling yearly seasonality. Run prophet with yearly_seasonality=True to override this.\n"
     ]
    },
    {
     "name": "stdout",
     "output_type": "stream",
     "text": [
      "Tuning Iteration: 4\n"
     ]
    },
    {
     "name": "stderr",
     "output_type": "stream",
     "text": [
      "INFO:prophet:Disabling yearly seasonality. Run prophet with yearly_seasonality=True to override this.\n"
     ]
    },
    {
     "name": "stdout",
     "output_type": "stream",
     "text": [
      "Tuning Iteration: 5\n"
     ]
    },
    {
     "name": "stderr",
     "output_type": "stream",
     "text": [
      "INFO:prophet:Disabling yearly seasonality. Run prophet with yearly_seasonality=True to override this.\n"
     ]
    },
    {
     "name": "stdout",
     "output_type": "stream",
     "text": [
      "Tuning Iteration: 6\n"
     ]
    },
    {
     "name": "stderr",
     "output_type": "stream",
     "text": [
      "INFO:prophet:Disabling yearly seasonality. Run prophet with yearly_seasonality=True to override this.\n"
     ]
    },
    {
     "name": "stdout",
     "output_type": "stream",
     "text": [
      "Tuning Iteration: 7\n",
      "Error Metric: MedAEpctRange\n",
      "19.018578660598433\n",
      "RMSE: 29.060413790096767\n",
      "RMSE_pct_range: 27.236073497078696\n",
      "MAPE: 0.17313710635380233\n",
      "MedianAPE: 19.018578660598433\n",
      "Best Parameters: \n",
      "{'seasonality_mode': 'multiplicative', 'n_changepoints': 100, 'changepoint_prior_scale': 0.1}\n",
      "XGBoost...... RMSE: 28.378356094027865\n",
      "RMSE_pct_range: 26.596833681928118\n",
      "MAPE: 0.1397496542236979\n",
      "MedianAPE: 9.289359497070308\n",
      "\n",
      "###########################################################\n",
      "File: 1073_0.pkl\n",
      "Length on load: 26304\n",
      "Length after agg: 1096\n",
      "Dropped N/A cols: 0\n",
      "Length after blank drop: 1096\n",
      "\n",
      "ARIMA Model...... RMSE: 153.43579275139015\n",
      "RMSE_pct_range: 40.69914927092577\n",
      "MAPE: 0.6182513090824739\n",
      "MedianAPE: 2.2502252341309514\n"
     ]
    },
    {
     "name": "stderr",
     "output_type": "stream",
     "text": [
      "INFO:prophet:Disabling yearly seasonality. Run prophet with yearly_seasonality=True to override this.\n"
     ]
    },
    {
     "name": "stdout",
     "output_type": "stream",
     "text": [
      "\n",
      "Prophet...... Tuning Prophet....\n",
      "Tuning Iteration: 0\n"
     ]
    },
    {
     "name": "stderr",
     "output_type": "stream",
     "text": [
      "INFO:prophet:Disabling yearly seasonality. Run prophet with yearly_seasonality=True to override this.\n"
     ]
    },
    {
     "name": "stdout",
     "output_type": "stream",
     "text": [
      "Tuning Iteration: 1\n"
     ]
    },
    {
     "name": "stderr",
     "output_type": "stream",
     "text": [
      "INFO:prophet:Disabling yearly seasonality. Run prophet with yearly_seasonality=True to override this.\n"
     ]
    },
    {
     "name": "stdout",
     "output_type": "stream",
     "text": [
      "Tuning Iteration: 2\n"
     ]
    },
    {
     "name": "stderr",
     "output_type": "stream",
     "text": [
      "INFO:prophet:Disabling yearly seasonality. Run prophet with yearly_seasonality=True to override this.\n"
     ]
    },
    {
     "name": "stdout",
     "output_type": "stream",
     "text": [
      "Tuning Iteration: 3\n"
     ]
    },
    {
     "name": "stderr",
     "output_type": "stream",
     "text": [
      "INFO:prophet:Disabling yearly seasonality. Run prophet with yearly_seasonality=True to override this.\n"
     ]
    },
    {
     "name": "stdout",
     "output_type": "stream",
     "text": [
      "Tuning Iteration: 4\n"
     ]
    },
    {
     "name": "stderr",
     "output_type": "stream",
     "text": [
      "INFO:prophet:Disabling yearly seasonality. Run prophet with yearly_seasonality=True to override this.\n"
     ]
    },
    {
     "name": "stdout",
     "output_type": "stream",
     "text": [
      "Tuning Iteration: 5\n"
     ]
    },
    {
     "name": "stderr",
     "output_type": "stream",
     "text": [
      "INFO:prophet:Disabling yearly seasonality. Run prophet with yearly_seasonality=True to override this.\n"
     ]
    },
    {
     "name": "stdout",
     "output_type": "stream",
     "text": [
      "Tuning Iteration: 6\n"
     ]
    },
    {
     "name": "stderr",
     "output_type": "stream",
     "text": [
      "INFO:prophet:Disabling yearly seasonality. Run prophet with yearly_seasonality=True to override this.\n"
     ]
    },
    {
     "name": "stdout",
     "output_type": "stream",
     "text": [
      "Tuning Iteration: 7\n",
      "Error Metric: MedAEpctRange\n",
      "0.5968767199286343\n",
      "RMSE: 155.69936300202355\n",
      "RMSE_pct_range: 41.29956578303012\n",
      "MAPE: 0.6661479284209553\n",
      "MedianAPE: 0.5968767199286343\n",
      "Best Parameters: \n",
      "{'seasonality_mode': 'multiplicative', 'n_changepoints': 100, 'changepoint_prior_scale': 0.1}\n",
      "XGBoost...... RMSE: 153.33374910035042\n",
      "RMSE_pct_range: 40.67208198948287\n",
      "MAPE: 0.6198465112160632\n",
      "MedianAPE: 2.9256591796875\n",
      "\n",
      "###########################################################\n",
      "File: 1073_1.pkl\n",
      "Length on load: 26304\n",
      "Length after agg: 1096\n",
      "Dropped N/A cols: 0\n",
      "Length after blank drop: 1096\n",
      "\n",
      "ARIMA Model...... RMSE: 511.34053460268797\n",
      "RMSE_pct_range: 52.64589619034621\n",
      "MAPE: 0.6531741715691376\n",
      "MedianAPE: 512.899849263238\n"
     ]
    },
    {
     "name": "stderr",
     "output_type": "stream",
     "text": [
      "INFO:prophet:Disabling yearly seasonality. Run prophet with yearly_seasonality=True to override this.\n"
     ]
    },
    {
     "name": "stdout",
     "output_type": "stream",
     "text": [
      "\n",
      "Prophet...... Tuning Prophet....\n",
      "Tuning Iteration: 0\n"
     ]
    },
    {
     "name": "stderr",
     "output_type": "stream",
     "text": [
      "INFO:prophet:Disabling yearly seasonality. Run prophet with yearly_seasonality=True to override this.\n"
     ]
    },
    {
     "name": "stdout",
     "output_type": "stream",
     "text": [
      "Tuning Iteration: 1\n"
     ]
    },
    {
     "name": "stderr",
     "output_type": "stream",
     "text": [
      "INFO:prophet:Disabling yearly seasonality. Run prophet with yearly_seasonality=True to override this.\n"
     ]
    },
    {
     "name": "stdout",
     "output_type": "stream",
     "text": [
      "Tuning Iteration: 2\n"
     ]
    },
    {
     "name": "stderr",
     "output_type": "stream",
     "text": [
      "INFO:prophet:Disabling yearly seasonality. Run prophet with yearly_seasonality=True to override this.\n"
     ]
    },
    {
     "name": "stdout",
     "output_type": "stream",
     "text": [
      "Tuning Iteration: 3\n"
     ]
    },
    {
     "name": "stderr",
     "output_type": "stream",
     "text": [
      "INFO:prophet:Disabling yearly seasonality. Run prophet with yearly_seasonality=True to override this.\n"
     ]
    },
    {
     "name": "stdout",
     "output_type": "stream",
     "text": [
      "Tuning Iteration: 4\n"
     ]
    },
    {
     "name": "stderr",
     "output_type": "stream",
     "text": [
      "INFO:prophet:Disabling yearly seasonality. Run prophet with yearly_seasonality=True to override this.\n"
     ]
    },
    {
     "name": "stdout",
     "output_type": "stream",
     "text": [
      "Tuning Iteration: 5\n"
     ]
    },
    {
     "name": "stderr",
     "output_type": "stream",
     "text": [
      "INFO:prophet:Disabling yearly seasonality. Run prophet with yearly_seasonality=True to override this.\n"
     ]
    },
    {
     "name": "stdout",
     "output_type": "stream",
     "text": [
      "Tuning Iteration: 6\n"
     ]
    },
    {
     "name": "stderr",
     "output_type": "stream",
     "text": [
      "INFO:prophet:Disabling yearly seasonality. Run prophet with yearly_seasonality=True to override this.\n"
     ]
    },
    {
     "name": "stdout",
     "output_type": "stream",
     "text": [
      "Tuning Iteration: 7\n",
      "Error Metric: MedAEpctRange\n",
      "52.80643796670116\n",
      "RMSE: 481.5927719413984\n",
      "RMSE_pct_range: 49.583166915073384\n",
      "MAPE: 1.1315840817933795\n",
      "MedianAPE: 52.80643796670116\n",
      "Best Parameters: \n",
      "{'seasonality_mode': 'multiplicative', 'n_changepoints': 100, 'changepoint_prior_scale': 0.1}\n",
      "XGBoost...... RMSE: 129.50268061047385\n",
      "RMSE_pct_range: 13.333159056298932\n",
      "MAPE: 0.35741977502136\n",
      "MedianAPE: 97.6297255859375\n",
      "\n",
      "###########################################################\n",
      "File: 1073_2.pkl\n",
      "Length on load: 26304\n",
      "Length after agg: 1096\n",
      "Dropped N/A cols: 0\n",
      "Length after blank drop: 1096\n",
      "\n",
      "ARIMA Model...... RMSE: 423.15252910384464\n",
      "RMSE_pct_range: 27.260503532206027\n",
      "MAPE: 0.22877799091847698\n",
      "MedianAPE: 274.4487818454613\n"
     ]
    },
    {
     "name": "stderr",
     "output_type": "stream",
     "text": [
      "INFO:prophet:Disabling yearly seasonality. Run prophet with yearly_seasonality=True to override this.\n"
     ]
    },
    {
     "name": "stdout",
     "output_type": "stream",
     "text": [
      "\n",
      "Prophet...... Tuning Prophet....\n",
      "Tuning Iteration: 0\n"
     ]
    },
    {
     "name": "stderr",
     "output_type": "stream",
     "text": [
      "INFO:prophet:Disabling yearly seasonality. Run prophet with yearly_seasonality=True to override this.\n"
     ]
    },
    {
     "name": "stdout",
     "output_type": "stream",
     "text": [
      "Tuning Iteration: 1\n"
     ]
    },
    {
     "name": "stderr",
     "output_type": "stream",
     "text": [
      "INFO:prophet:Disabling yearly seasonality. Run prophet with yearly_seasonality=True to override this.\n"
     ]
    },
    {
     "name": "stdout",
     "output_type": "stream",
     "text": [
      "Tuning Iteration: 2\n"
     ]
    },
    {
     "name": "stderr",
     "output_type": "stream",
     "text": [
      "INFO:prophet:Disabling yearly seasonality. Run prophet with yearly_seasonality=True to override this.\n"
     ]
    },
    {
     "name": "stdout",
     "output_type": "stream",
     "text": [
      "Tuning Iteration: 3\n"
     ]
    },
    {
     "name": "stderr",
     "output_type": "stream",
     "text": [
      "INFO:prophet:Disabling yearly seasonality. Run prophet with yearly_seasonality=True to override this.\n"
     ]
    },
    {
     "name": "stdout",
     "output_type": "stream",
     "text": [
      "Tuning Iteration: 4\n"
     ]
    },
    {
     "name": "stderr",
     "output_type": "stream",
     "text": [
      "INFO:prophet:Disabling yearly seasonality. Run prophet with yearly_seasonality=True to override this.\n"
     ]
    },
    {
     "name": "stdout",
     "output_type": "stream",
     "text": [
      "Tuning Iteration: 5\n"
     ]
    },
    {
     "name": "stderr",
     "output_type": "stream",
     "text": [
      "INFO:prophet:Disabling yearly seasonality. Run prophet with yearly_seasonality=True to override this.\n"
     ]
    },
    {
     "name": "stdout",
     "output_type": "stream",
     "text": [
      "Tuning Iteration: 6\n"
     ]
    },
    {
     "name": "stderr",
     "output_type": "stream",
     "text": [
      "INFO:prophet:Disabling yearly seasonality. Run prophet with yearly_seasonality=True to override this.\n"
     ]
    },
    {
     "name": "stdout",
     "output_type": "stream",
     "text": [
      "Tuning Iteration: 7\n",
      "Error Metric: MedAEpctRange\n",
      "17.680650527488158\n",
      "RMSE: 1100.5207767391043\n",
      "RMSE_pct_range: 70.89819499625412\n",
      "MAPE: 1.3148544574491325\n",
      "MedianAPE: 17.680650527488158\n",
      "Best Parameters: \n",
      "{'seasonality_mode': 'multiplicative', 'n_changepoints': 100, 'changepoint_prior_scale': 0.1}\n",
      "XGBoost...... RMSE: 405.1374240417506\n",
      "RMSE_pct_range: 26.099927140949813\n",
      "MAPE: 0.18885235664135522\n",
      "MedianAPE: 188.24188476562495\n",
      "\n",
      "###########################################################\n",
      "File: 1079_2.pkl\n",
      "Length on load: 26304\n",
      "Length after agg: 1096\n",
      "Dropped N/A cols: 0\n",
      "Length after blank drop: 1096\n",
      "\n",
      "ARIMA Model...... RMSE: 18.78647447533745\n",
      "RMSE_pct_range: 28.410547410718262\n",
      "MAPE: 2.4968733073760094\n",
      "MedianAPE: 16.050242230051722\n"
     ]
    },
    {
     "name": "stderr",
     "output_type": "stream",
     "text": [
      "INFO:prophet:Disabling yearly seasonality. Run prophet with yearly_seasonality=True to override this.\n"
     ]
    },
    {
     "name": "stdout",
     "output_type": "stream",
     "text": [
      "\n",
      "Prophet...... Tuning Prophet....\n",
      "Tuning Iteration: 0\n"
     ]
    },
    {
     "name": "stderr",
     "output_type": "stream",
     "text": [
      "INFO:prophet:Disabling yearly seasonality. Run prophet with yearly_seasonality=True to override this.\n"
     ]
    },
    {
     "name": "stdout",
     "output_type": "stream",
     "text": [
      "Tuning Iteration: 1\n"
     ]
    },
    {
     "name": "stderr",
     "output_type": "stream",
     "text": [
      "INFO:prophet:Disabling yearly seasonality. Run prophet with yearly_seasonality=True to override this.\n"
     ]
    },
    {
     "name": "stdout",
     "output_type": "stream",
     "text": [
      "Tuning Iteration: 2\n"
     ]
    },
    {
     "name": "stderr",
     "output_type": "stream",
     "text": [
      "INFO:prophet:Disabling yearly seasonality. Run prophet with yearly_seasonality=True to override this.\n"
     ]
    },
    {
     "name": "stdout",
     "output_type": "stream",
     "text": [
      "Tuning Iteration: 3\n"
     ]
    },
    {
     "name": "stderr",
     "output_type": "stream",
     "text": [
      "INFO:prophet:Disabling yearly seasonality. Run prophet with yearly_seasonality=True to override this.\n"
     ]
    },
    {
     "name": "stdout",
     "output_type": "stream",
     "text": [
      "Tuning Iteration: 4\n"
     ]
    },
    {
     "name": "stderr",
     "output_type": "stream",
     "text": [
      "INFO:prophet:Disabling yearly seasonality. Run prophet with yearly_seasonality=True to override this.\n"
     ]
    },
    {
     "name": "stdout",
     "output_type": "stream",
     "text": [
      "Tuning Iteration: 5\n"
     ]
    },
    {
     "name": "stderr",
     "output_type": "stream",
     "text": [
      "INFO:prophet:Disabling yearly seasonality. Run prophet with yearly_seasonality=True to override this.\n"
     ]
    },
    {
     "name": "stdout",
     "output_type": "stream",
     "text": [
      "Tuning Iteration: 6\n"
     ]
    },
    {
     "name": "stderr",
     "output_type": "stream",
     "text": [
      "INFO:prophet:Disabling yearly seasonality. Run prophet with yearly_seasonality=True to override this.\n"
     ]
    },
    {
     "name": "stdout",
     "output_type": "stream",
     "text": [
      "Tuning Iteration: 7\n",
      "Error Metric: MedAEpctRange\n",
      "24.272578041666122\n",
      "RMSE: 27.81692086894687\n",
      "RMSE_pct_range: 42.067177117499995\n",
      "MAPE: 1.050430868048715\n",
      "MedianAPE: 24.272578041666122\n",
      "Best Parameters: \n",
      "{'seasonality_mode': 'multiplicative', 'n_changepoints': 100, 'changepoint_prior_scale': 0.1}\n",
      "XGBoost...... RMSE: 14.039109298383648\n",
      "RMSE_pct_range: 21.23116718092045\n",
      "MAPE: 0.2513349807116291\n",
      "MedianAPE: 7.449825286865234\n",
      "\n",
      "###########################################################\n",
      "File: 1081_0.pkl\n",
      "Length on load: 26304\n",
      "Length after agg: 1096\n",
      "Dropped N/A cols: 0\n",
      "Length after blank drop: 1096\n",
      "\n",
      "ARIMA Model...... RMSE: 1.4662149636134831\n",
      "RMSE_pct_range: 20.577011628846865\n",
      "MAPE: 0.08278122101754935\n",
      "MedianAPE: 1.032140268885687\n"
     ]
    },
    {
     "name": "stderr",
     "output_type": "stream",
     "text": [
      "INFO:prophet:Disabling yearly seasonality. Run prophet with yearly_seasonality=True to override this.\n"
     ]
    },
    {
     "name": "stdout",
     "output_type": "stream",
     "text": [
      "\n",
      "Prophet...... Tuning Prophet....\n",
      "Tuning Iteration: 0\n"
     ]
    },
    {
     "name": "stderr",
     "output_type": "stream",
     "text": [
      "INFO:prophet:Disabling yearly seasonality. Run prophet with yearly_seasonality=True to override this.\n"
     ]
    },
    {
     "name": "stdout",
     "output_type": "stream",
     "text": [
      "Tuning Iteration: 1\n"
     ]
    },
    {
     "name": "stderr",
     "output_type": "stream",
     "text": [
      "INFO:prophet:Disabling yearly seasonality. Run prophet with yearly_seasonality=True to override this.\n"
     ]
    },
    {
     "name": "stdout",
     "output_type": "stream",
     "text": [
      "Tuning Iteration: 2\n"
     ]
    },
    {
     "name": "stderr",
     "output_type": "stream",
     "text": [
      "INFO:prophet:Disabling yearly seasonality. Run prophet with yearly_seasonality=True to override this.\n"
     ]
    },
    {
     "name": "stdout",
     "output_type": "stream",
     "text": [
      "Tuning Iteration: 3\n"
     ]
    },
    {
     "name": "stderr",
     "output_type": "stream",
     "text": [
      "INFO:prophet:Disabling yearly seasonality. Run prophet with yearly_seasonality=True to override this.\n"
     ]
    },
    {
     "name": "stdout",
     "output_type": "stream",
     "text": [
      "Tuning Iteration: 4\n"
     ]
    },
    {
     "name": "stderr",
     "output_type": "stream",
     "text": [
      "INFO:prophet:Disabling yearly seasonality. Run prophet with yearly_seasonality=True to override this.\n"
     ]
    },
    {
     "name": "stdout",
     "output_type": "stream",
     "text": [
      "Tuning Iteration: 5\n"
     ]
    },
    {
     "name": "stderr",
     "output_type": "stream",
     "text": [
      "INFO:prophet:Disabling yearly seasonality. Run prophet with yearly_seasonality=True to override this.\n"
     ]
    },
    {
     "name": "stdout",
     "output_type": "stream",
     "text": [
      "Tuning Iteration: 6\n"
     ]
    },
    {
     "name": "stderr",
     "output_type": "stream",
     "text": [
      "INFO:prophet:Disabling yearly seasonality. Run prophet with yearly_seasonality=True to override this.\n"
     ]
    },
    {
     "name": "stdout",
     "output_type": "stream",
     "text": [
      "Tuning Iteration: 7\n",
      "Error Metric: MedAEpctRange\n",
      "14.485162709784397\n",
      "RMSE: 3.052910338862844\n",
      "RMSE_pct_range: 42.84485774840846\n",
      "MAPE: 0.2110567514721235\n",
      "MedianAPE: 14.485162709784397\n",
      "Best Parameters: \n",
      "{'seasonality_mode': 'multiplicative', 'n_changepoints': 100, 'changepoint_prior_scale': 0.1}\n",
      "XGBoost...... RMSE: 2.057699951328566\n",
      "RMSE_pct_range: 28.877972792485668\n",
      "MAPE: 0.1248040978596245\n",
      "MedianAPE: 1.4812978210449188\n",
      "\n",
      "###########################################################\n",
      "File: 1099_2.pkl\n",
      "Length on load: 26304\n",
      "Length after agg: 1096\n",
      "Dropped N/A cols: 0\n",
      "Length after blank drop: 1096\n",
      "\n",
      "ARIMA Model...... RMSE: 1416792.4964416015\n",
      "RMSE_pct_range: 49400.01730967927\n",
      "MAPE: 1.0024699957695977\n",
      "MedianAPE: 1473133.9104894968\n"
     ]
    },
    {
     "name": "stderr",
     "output_type": "stream",
     "text": [
      "INFO:prophet:Disabling yearly seasonality. Run prophet with yearly_seasonality=True to override this.\n"
     ]
    },
    {
     "name": "stdout",
     "output_type": "stream",
     "text": [
      "\n",
      "Prophet...... Tuning Prophet....\n",
      "Tuning Iteration: 0\n"
     ]
    },
    {
     "name": "stderr",
     "output_type": "stream",
     "text": [
      "INFO:prophet:Disabling yearly seasonality. Run prophet with yearly_seasonality=True to override this.\n"
     ]
    },
    {
     "name": "stdout",
     "output_type": "stream",
     "text": [
      "Tuning Iteration: 1\n"
     ]
    },
    {
     "name": "stderr",
     "output_type": "stream",
     "text": [
      "INFO:prophet:Disabling yearly seasonality. Run prophet with yearly_seasonality=True to override this.\n"
     ]
    },
    {
     "name": "stdout",
     "output_type": "stream",
     "text": [
      "Tuning Iteration: 2\n"
     ]
    },
    {
     "name": "stderr",
     "output_type": "stream",
     "text": [
      "INFO:prophet:Disabling yearly seasonality. Run prophet with yearly_seasonality=True to override this.\n"
     ]
    },
    {
     "name": "stdout",
     "output_type": "stream",
     "text": [
      "Tuning Iteration: 3\n"
     ]
    },
    {
     "name": "stderr",
     "output_type": "stream",
     "text": [
      "INFO:prophet:Disabling yearly seasonality. Run prophet with yearly_seasonality=True to override this.\n"
     ]
    },
    {
     "name": "stdout",
     "output_type": "stream",
     "text": [
      "Tuning Iteration: 4\n"
     ]
    },
    {
     "name": "stderr",
     "output_type": "stream",
     "text": [
      "INFO:prophet:Disabling yearly seasonality. Run prophet with yearly_seasonality=True to override this.\n"
     ]
    },
    {
     "name": "stdout",
     "output_type": "stream",
     "text": [
      "Tuning Iteration: 5\n"
     ]
    },
    {
     "name": "stderr",
     "output_type": "stream",
     "text": [
      "INFO:prophet:Disabling yearly seasonality. Run prophet with yearly_seasonality=True to override this.\n"
     ]
    },
    {
     "name": "stdout",
     "output_type": "stream",
     "text": [
      "Tuning Iteration: 6\n"
     ]
    },
    {
     "name": "stderr",
     "output_type": "stream",
     "text": [
      "INFO:prophet:Disabling yearly seasonality. Run prophet with yearly_seasonality=True to override this.\n"
     ]
    },
    {
     "name": "stdout",
     "output_type": "stream",
     "text": [
      "Tuning Iteration: 7\n",
      "Error Metric: MedAEpctRange\n",
      "51364.501760442705\n",
      "RMSE: 42077.76693416672\n",
      "RMSE_pct_range: 1467.1466852917267\n",
      "MAPE: 0.9339430013592573\n",
      "MedianAPE: 51364.501760442705\n",
      "Best Parameters: \n",
      "{'seasonality_mode': 'multiplicative', 'n_changepoints': 100, 'changepoint_prior_scale': 0.1}\n",
      "XGBoost...... RMSE: 1636541.6717183406\n",
      "RMSE_pct_range: 57062.12244485149\n",
      "MAPE: 0.9805626393675319\n",
      "MedianAPE: 1061610.5\n",
      "\n",
      "###########################################################\n",
      "File: 1105_0.pkl\n",
      "Length on load: 26304\n",
      "Length after agg: 1096\n",
      "Dropped N/A cols: 0\n",
      "Length after blank drop: 1096\n",
      "\n",
      "ARIMA Model...... RMSE: 9.954576698547674\n",
      "RMSE_pct_range: 32.35314265741805\n",
      "MAPE: 0.1213346189296007\n",
      "MedianAPE: 5.724372199385044\n"
     ]
    },
    {
     "name": "stderr",
     "output_type": "stream",
     "text": [
      "INFO:prophet:Disabling yearly seasonality. Run prophet with yearly_seasonality=True to override this.\n"
     ]
    },
    {
     "name": "stdout",
     "output_type": "stream",
     "text": [
      "\n",
      "Prophet...... Tuning Prophet....\n",
      "Tuning Iteration: 0\n"
     ]
    },
    {
     "name": "stderr",
     "output_type": "stream",
     "text": [
      "INFO:prophet:Disabling yearly seasonality. Run prophet with yearly_seasonality=True to override this.\n"
     ]
    },
    {
     "name": "stdout",
     "output_type": "stream",
     "text": [
      "Tuning Iteration: 1\n"
     ]
    },
    {
     "name": "stderr",
     "output_type": "stream",
     "text": [
      "INFO:prophet:Disabling yearly seasonality. Run prophet with yearly_seasonality=True to override this.\n"
     ]
    },
    {
     "name": "stdout",
     "output_type": "stream",
     "text": [
      "Tuning Iteration: 2\n"
     ]
    },
    {
     "name": "stderr",
     "output_type": "stream",
     "text": [
      "INFO:prophet:Disabling yearly seasonality. Run prophet with yearly_seasonality=True to override this.\n"
     ]
    },
    {
     "name": "stdout",
     "output_type": "stream",
     "text": [
      "Tuning Iteration: 3\n"
     ]
    },
    {
     "name": "stderr",
     "output_type": "stream",
     "text": [
      "INFO:prophet:Disabling yearly seasonality. Run prophet with yearly_seasonality=True to override this.\n"
     ]
    },
    {
     "name": "stdout",
     "output_type": "stream",
     "text": [
      "Tuning Iteration: 4\n"
     ]
    },
    {
     "name": "stderr",
     "output_type": "stream",
     "text": [
      "INFO:prophet:Disabling yearly seasonality. Run prophet with yearly_seasonality=True to override this.\n"
     ]
    },
    {
     "name": "stdout",
     "output_type": "stream",
     "text": [
      "Tuning Iteration: 5\n"
     ]
    },
    {
     "name": "stderr",
     "output_type": "stream",
     "text": [
      "INFO:prophet:Disabling yearly seasonality. Run prophet with yearly_seasonality=True to override this.\n"
     ]
    },
    {
     "name": "stdout",
     "output_type": "stream",
     "text": [
      "Tuning Iteration: 6\n"
     ]
    },
    {
     "name": "stderr",
     "output_type": "stream",
     "text": [
      "INFO:prophet:Disabling yearly seasonality. Run prophet with yearly_seasonality=True to override this.\n"
     ]
    },
    {
     "name": "stdout",
     "output_type": "stream",
     "text": [
      "Tuning Iteration: 7\n",
      "Error Metric: MedAEpctRange\n",
      "18.604651508474713\n",
      "RMSE: 24.21281123191393\n",
      "RMSE_pct_range: 78.69350547447526\n",
      "MAPE: 0.237555242544076\n",
      "MedianAPE: 18.604651508474713\n",
      "Best Parameters: \n",
      "{'seasonality_mode': 'multiplicative', 'n_changepoints': 100, 'changepoint_prior_scale': 0.1}\n",
      "XGBoost...... RMSE: 6.816283373909641\n",
      "RMSE_pct_range: 22.15344710957518\n",
      "MAPE: 0.07728372772326957\n",
      "MedianAPE: 5.445375579833986\n",
      "\n",
      "###########################################################\n",
      "File: 1105_2.pkl\n",
      "Length on load: 26304\n",
      "Length after agg: 1096\n",
      "Dropped N/A cols: 0\n",
      "Length after blank drop: 1096\n",
      "\n",
      "ARIMA Model...... RMSE: 927.4912928364191\n",
      "RMSE_pct_range: 72.72217069574162\n",
      "MAPE: 10.524920289736617\n",
      "MedianAPE: 945.7863423626488\n"
     ]
    },
    {
     "name": "stderr",
     "output_type": "stream",
     "text": [
      "INFO:prophet:Disabling yearly seasonality. Run prophet with yearly_seasonality=True to override this.\n"
     ]
    },
    {
     "name": "stdout",
     "output_type": "stream",
     "text": [
      "\n",
      "Prophet...... Tuning Prophet....\n",
      "Tuning Iteration: 0\n"
     ]
    },
    {
     "name": "stderr",
     "output_type": "stream",
     "text": [
      "INFO:prophet:Disabling yearly seasonality. Run prophet with yearly_seasonality=True to override this.\n"
     ]
    },
    {
     "name": "stdout",
     "output_type": "stream",
     "text": [
      "Tuning Iteration: 1\n"
     ]
    },
    {
     "name": "stderr",
     "output_type": "stream",
     "text": [
      "INFO:prophet:Disabling yearly seasonality. Run prophet with yearly_seasonality=True to override this.\n"
     ]
    },
    {
     "name": "stdout",
     "output_type": "stream",
     "text": [
      "Tuning Iteration: 2\n"
     ]
    },
    {
     "name": "stderr",
     "output_type": "stream",
     "text": [
      "INFO:prophet:Disabling yearly seasonality. Run prophet with yearly_seasonality=True to override this.\n"
     ]
    },
    {
     "name": "stdout",
     "output_type": "stream",
     "text": [
      "Tuning Iteration: 3\n"
     ]
    },
    {
     "name": "stderr",
     "output_type": "stream",
     "text": [
      "INFO:prophet:Disabling yearly seasonality. Run prophet with yearly_seasonality=True to override this.\n"
     ]
    },
    {
     "name": "stdout",
     "output_type": "stream",
     "text": [
      "Tuning Iteration: 4\n"
     ]
    },
    {
     "name": "stderr",
     "output_type": "stream",
     "text": [
      "INFO:prophet:Disabling yearly seasonality. Run prophet with yearly_seasonality=True to override this.\n"
     ]
    },
    {
     "name": "stdout",
     "output_type": "stream",
     "text": [
      "Tuning Iteration: 5\n"
     ]
    },
    {
     "name": "stderr",
     "output_type": "stream",
     "text": [
      "INFO:prophet:Disabling yearly seasonality. Run prophet with yearly_seasonality=True to override this.\n"
     ]
    },
    {
     "name": "stdout",
     "output_type": "stream",
     "text": [
      "Tuning Iteration: 6\n"
     ]
    },
    {
     "name": "stderr",
     "output_type": "stream",
     "text": [
      "INFO:prophet:Disabling yearly seasonality. Run prophet with yearly_seasonality=True to override this.\n"
     ]
    },
    {
     "name": "stdout",
     "output_type": "stream",
     "text": [
      "Tuning Iteration: 7\n",
      "Error Metric: MedAEpctRange\n",
      "74.15663776277444\n",
      "RMSE: 703.8377462725232\n",
      "RMSE_pct_range: 55.18608004394917\n",
      "MAPE: 4.336641212951838\n",
      "MedianAPE: 74.15663776277444\n",
      "Best Parameters: \n",
      "{'seasonality_mode': 'multiplicative', 'n_changepoints': 100, 'changepoint_prior_scale': 0.1}\n",
      "XGBoost...... RMSE: 682.1623363865193\n",
      "RMSE_pct_range: 53.48656774684758\n",
      "MAPE: 4.112876250350518\n",
      "MedianAPE: 582.3724869995117\n",
      "\n",
      "###########################################################\n",
      "File: 1108_0.pkl\n",
      "Length on load: 26304\n",
      "Length after agg: 1096\n",
      "Dropped N/A cols: 0\n",
      "Length after blank drop: 1096\n",
      "\n",
      "ARIMA Model...... RMSE: 25.48472700069591\n",
      "RMSE_pct_range: 42.908637382681306\n",
      "MAPE: 0.28087157244211064\n",
      "MedianAPE: 27.3295118398066\n"
     ]
    },
    {
     "name": "stderr",
     "output_type": "stream",
     "text": [
      "INFO:prophet:Disabling yearly seasonality. Run prophet with yearly_seasonality=True to override this.\n"
     ]
    },
    {
     "name": "stdout",
     "output_type": "stream",
     "text": [
      "\n",
      "Prophet...... Tuning Prophet....\n",
      "Tuning Iteration: 0\n"
     ]
    },
    {
     "name": "stderr",
     "output_type": "stream",
     "text": [
      "INFO:prophet:Disabling yearly seasonality. Run prophet with yearly_seasonality=True to override this.\n"
     ]
    },
    {
     "name": "stdout",
     "output_type": "stream",
     "text": [
      "Tuning Iteration: 1\n"
     ]
    },
    {
     "name": "stderr",
     "output_type": "stream",
     "text": [
      "INFO:prophet:Disabling yearly seasonality. Run prophet with yearly_seasonality=True to override this.\n"
     ]
    },
    {
     "name": "stdout",
     "output_type": "stream",
     "text": [
      "Tuning Iteration: 2\n"
     ]
    },
    {
     "name": "stderr",
     "output_type": "stream",
     "text": [
      "INFO:prophet:Disabling yearly seasonality. Run prophet with yearly_seasonality=True to override this.\n"
     ]
    },
    {
     "name": "stdout",
     "output_type": "stream",
     "text": [
      "Tuning Iteration: 3\n"
     ]
    },
    {
     "name": "stderr",
     "output_type": "stream",
     "text": [
      "INFO:prophet:Disabling yearly seasonality. Run prophet with yearly_seasonality=True to override this.\n"
     ]
    },
    {
     "name": "stdout",
     "output_type": "stream",
     "text": [
      "Tuning Iteration: 4\n"
     ]
    },
    {
     "name": "stderr",
     "output_type": "stream",
     "text": [
      "INFO:prophet:Disabling yearly seasonality. Run prophet with yearly_seasonality=True to override this.\n"
     ]
    },
    {
     "name": "stdout",
     "output_type": "stream",
     "text": [
      "Tuning Iteration: 5\n"
     ]
    },
    {
     "name": "stderr",
     "output_type": "stream",
     "text": [
      "INFO:prophet:Disabling yearly seasonality. Run prophet with yearly_seasonality=True to override this.\n"
     ]
    },
    {
     "name": "stdout",
     "output_type": "stream",
     "text": [
      "Tuning Iteration: 6\n"
     ]
    },
    {
     "name": "stderr",
     "output_type": "stream",
     "text": [
      "INFO:prophet:Disabling yearly seasonality. Run prophet with yearly_seasonality=True to override this.\n"
     ]
    },
    {
     "name": "stdout",
     "output_type": "stream",
     "text": [
      "Tuning Iteration: 7\n",
      "Error Metric: MedAEpctRange\n",
      "46.014701799549776\n",
      "RMSE: 23.422904385863756\n",
      "RMSE_pct_range: 39.43714644127044\n",
      "MAPE: 0.29065570461405793\n",
      "MedianAPE: 46.014701799549776\n",
      "Best Parameters: \n",
      "{'seasonality_mode': 'multiplicative', 'n_changepoints': 100, 'changepoint_prior_scale': 0.1}\n",
      "XGBoost...... RMSE: 25.545322359062578\n",
      "RMSE_pct_range: 43.010661793582706\n",
      "MAPE: 0.2847036059631774\n",
      "MedianAPE: 26.398121704101555\n",
      "\n",
      "###########################################################\n",
      "File: 1109_2.pkl\n",
      "Length on load: 26304\n",
      "Length after agg: 1096\n",
      "Dropped N/A cols: 0\n",
      "Length after blank drop: 1096\n",
      "\n",
      "ARIMA Model...... RMSE: 121.95832542036051\n",
      "RMSE_pct_range: 15.610635681385634\n",
      "MAPE: 0.11697015078803293\n",
      "MedianAPE: 87.09811988175943\n"
     ]
    },
    {
     "name": "stderr",
     "output_type": "stream",
     "text": [
      "INFO:prophet:Disabling yearly seasonality. Run prophet with yearly_seasonality=True to override this.\n"
     ]
    },
    {
     "name": "stdout",
     "output_type": "stream",
     "text": [
      "\n",
      "Prophet...... Tuning Prophet....\n",
      "Tuning Iteration: 0\n"
     ]
    },
    {
     "name": "stderr",
     "output_type": "stream",
     "text": [
      "INFO:prophet:Disabling yearly seasonality. Run prophet with yearly_seasonality=True to override this.\n"
     ]
    },
    {
     "name": "stdout",
     "output_type": "stream",
     "text": [
      "Tuning Iteration: 1\n"
     ]
    },
    {
     "name": "stderr",
     "output_type": "stream",
     "text": [
      "INFO:prophet:Disabling yearly seasonality. Run prophet with yearly_seasonality=True to override this.\n"
     ]
    },
    {
     "name": "stdout",
     "output_type": "stream",
     "text": [
      "Tuning Iteration: 2\n"
     ]
    },
    {
     "name": "stderr",
     "output_type": "stream",
     "text": [
      "INFO:prophet:Disabling yearly seasonality. Run prophet with yearly_seasonality=True to override this.\n"
     ]
    },
    {
     "name": "stdout",
     "output_type": "stream",
     "text": [
      "Tuning Iteration: 3\n"
     ]
    },
    {
     "name": "stderr",
     "output_type": "stream",
     "text": [
      "INFO:prophet:Disabling yearly seasonality. Run prophet with yearly_seasonality=True to override this.\n"
     ]
    },
    {
     "name": "stdout",
     "output_type": "stream",
     "text": [
      "Tuning Iteration: 4\n"
     ]
    },
    {
     "name": "stderr",
     "output_type": "stream",
     "text": [
      "INFO:prophet:Disabling yearly seasonality. Run prophet with yearly_seasonality=True to override this.\n"
     ]
    },
    {
     "name": "stdout",
     "output_type": "stream",
     "text": [
      "Tuning Iteration: 5\n"
     ]
    },
    {
     "name": "stderr",
     "output_type": "stream",
     "text": [
      "INFO:prophet:Disabling yearly seasonality. Run prophet with yearly_seasonality=True to override this.\n"
     ]
    },
    {
     "name": "stdout",
     "output_type": "stream",
     "text": [
      "Tuning Iteration: 6\n"
     ]
    },
    {
     "name": "stderr",
     "output_type": "stream",
     "text": [
      "INFO:prophet:Disabling yearly seasonality. Run prophet with yearly_seasonality=True to override this.\n"
     ]
    },
    {
     "name": "stdout",
     "output_type": "stream",
     "text": [
      "Tuning Iteration: 7\n",
      "Error Metric: MedAEpctRange\n",
      "11.148537939672362\n",
      "RMSE: 236.81064514722908\n",
      "RMSE_pct_range: 30.311704380372912\n",
      "MAPE: 0.25382336083983975\n",
      "MedianAPE: 11.148537939672362\n",
      "Best Parameters: \n",
      "{'seasonality_mode': 'multiplicative', 'n_changepoints': 100, 'changepoint_prior_scale': 0.1}\n",
      "XGBoost...... RMSE: 152.05687184318862\n",
      "RMSE_pct_range: 19.463242226503066\n",
      "MAPE: 0.13544835482951892\n",
      "MedianAPE: 82.90362548828125\n",
      "\n",
      "###########################################################\n",
      "File: 1118_0.pkl\n",
      "Length on load: 26304\n",
      "Length after agg: 1096\n",
      "Dropped N/A cols: 0\n",
      "Length after blank drop: 1096\n",
      "\n",
      "ARIMA Model...... RMSE: 1.4461170824080787\n",
      "RMSE_pct_range: 14.34639962706427\n",
      "MAPE: 0.06322516870850071\n",
      "MedianAPE: 1.215024514468702\n"
     ]
    },
    {
     "name": "stderr",
     "output_type": "stream",
     "text": [
      "INFO:prophet:Disabling yearly seasonality. Run prophet with yearly_seasonality=True to override this.\n"
     ]
    },
    {
     "name": "stdout",
     "output_type": "stream",
     "text": [
      "\n",
      "Prophet...... Tuning Prophet....\n",
      "Tuning Iteration: 0\n"
     ]
    },
    {
     "name": "stderr",
     "output_type": "stream",
     "text": [
      "INFO:prophet:Disabling yearly seasonality. Run prophet with yearly_seasonality=True to override this.\n"
     ]
    },
    {
     "name": "stdout",
     "output_type": "stream",
     "text": [
      "Tuning Iteration: 1\n"
     ]
    },
    {
     "name": "stderr",
     "output_type": "stream",
     "text": [
      "INFO:prophet:Disabling yearly seasonality. Run prophet with yearly_seasonality=True to override this.\n"
     ]
    },
    {
     "name": "stdout",
     "output_type": "stream",
     "text": [
      "Tuning Iteration: 2\n"
     ]
    },
    {
     "name": "stderr",
     "output_type": "stream",
     "text": [
      "INFO:prophet:Disabling yearly seasonality. Run prophet with yearly_seasonality=True to override this.\n"
     ]
    },
    {
     "name": "stdout",
     "output_type": "stream",
     "text": [
      "Tuning Iteration: 3\n"
     ]
    },
    {
     "name": "stderr",
     "output_type": "stream",
     "text": [
      "INFO:prophet:Disabling yearly seasonality. Run prophet with yearly_seasonality=True to override this.\n"
     ]
    },
    {
     "name": "stdout",
     "output_type": "stream",
     "text": [
      "Tuning Iteration: 4\n"
     ]
    },
    {
     "name": "stderr",
     "output_type": "stream",
     "text": [
      "INFO:prophet:Disabling yearly seasonality. Run prophet with yearly_seasonality=True to override this.\n"
     ]
    },
    {
     "name": "stdout",
     "output_type": "stream",
     "text": [
      "Tuning Iteration: 5\n"
     ]
    },
    {
     "name": "stderr",
     "output_type": "stream",
     "text": [
      "INFO:prophet:Disabling yearly seasonality. Run prophet with yearly_seasonality=True to override this.\n"
     ]
    },
    {
     "name": "stdout",
     "output_type": "stream",
     "text": [
      "Tuning Iteration: 6\n"
     ]
    },
    {
     "name": "stderr",
     "output_type": "stream",
     "text": [
      "INFO:prophet:Disabling yearly seasonality. Run prophet with yearly_seasonality=True to override this.\n"
     ]
    },
    {
     "name": "stdout",
     "output_type": "stream",
     "text": [
      "Tuning Iteration: 7\n",
      "Error Metric: MedAEpctRange\n",
      "12.053814627665695\n",
      "RMSE: 2.850783593814814\n",
      "RMSE_pct_range: 28.28158327197236\n",
      "MAPE: 0.11552685952308508\n",
      "MedianAPE: 12.053814627665695\n",
      "Best Parameters: \n",
      "{'seasonality_mode': 'multiplicative', 'n_changepoints': 100, 'changepoint_prior_scale': 0.1}\n",
      "XGBoost...... RMSE: 4.002041592092107\n",
      "RMSE_pct_range: 39.70279357234233\n",
      "MAPE: 0.1495800747152036\n",
      "MedianAPE: 2.8245249938964854\n",
      "\n",
      "###########################################################\n",
      "File: 1124_0.pkl\n",
      "Length on load: 26304\n",
      "Length after agg: 1096\n",
      "Dropped N/A cols: 0\n",
      "Length after blank drop: 1096\n",
      "\n",
      "ARIMA Model...... RMSE: 58.92954723108944\n",
      "RMSE_pct_range: 196.4776688930397\n",
      "MAPE: 0.27836112044336\n",
      "MedianAPE: 59.16669433512777\n"
     ]
    },
    {
     "name": "stderr",
     "output_type": "stream",
     "text": [
      "INFO:prophet:Disabling yearly seasonality. Run prophet with yearly_seasonality=True to override this.\n"
     ]
    },
    {
     "name": "stdout",
     "output_type": "stream",
     "text": [
      "\n",
      "Prophet...... Tuning Prophet....\n",
      "Tuning Iteration: 0\n"
     ]
    },
    {
     "name": "stderr",
     "output_type": "stream",
     "text": [
      "INFO:prophet:Disabling yearly seasonality. Run prophet with yearly_seasonality=True to override this.\n"
     ]
    },
    {
     "name": "stdout",
     "output_type": "stream",
     "text": [
      "Tuning Iteration: 1\n"
     ]
    },
    {
     "name": "stderr",
     "output_type": "stream",
     "text": [
      "INFO:prophet:Disabling yearly seasonality. Run prophet with yearly_seasonality=True to override this.\n"
     ]
    },
    {
     "name": "stdout",
     "output_type": "stream",
     "text": [
      "Tuning Iteration: 2\n"
     ]
    },
    {
     "name": "stderr",
     "output_type": "stream",
     "text": [
      "INFO:prophet:Disabling yearly seasonality. Run prophet with yearly_seasonality=True to override this.\n"
     ]
    },
    {
     "name": "stdout",
     "output_type": "stream",
     "text": [
      "Tuning Iteration: 3\n"
     ]
    },
    {
     "name": "stderr",
     "output_type": "stream",
     "text": [
      "INFO:prophet:Disabling yearly seasonality. Run prophet with yearly_seasonality=True to override this.\n"
     ]
    },
    {
     "name": "stdout",
     "output_type": "stream",
     "text": [
      "Tuning Iteration: 4\n"
     ]
    },
    {
     "name": "stderr",
     "output_type": "stream",
     "text": [
      "INFO:prophet:Disabling yearly seasonality. Run prophet with yearly_seasonality=True to override this.\n"
     ]
    },
    {
     "name": "stdout",
     "output_type": "stream",
     "text": [
      "Tuning Iteration: 5\n"
     ]
    },
    {
     "name": "stderr",
     "output_type": "stream",
     "text": [
      "INFO:prophet:Disabling yearly seasonality. Run prophet with yearly_seasonality=True to override this.\n"
     ]
    },
    {
     "name": "stdout",
     "output_type": "stream",
     "text": [
      "Tuning Iteration: 6\n"
     ]
    },
    {
     "name": "stderr",
     "output_type": "stream",
     "text": [
      "INFO:prophet:Disabling yearly seasonality. Run prophet with yearly_seasonality=True to override this.\n"
     ]
    },
    {
     "name": "stdout",
     "output_type": "stream",
     "text": [
      "Tuning Iteration: 7\n",
      "Error Metric: MedAEpctRange\n",
      "197.26834373062957\n",
      "RMSE: 47.14594348895883\n",
      "RMSE_pct_range: 157.1898225884666\n",
      "MAPE: 0.23785256798612642\n",
      "MedianAPE: 197.26834373062957\n",
      "Best Parameters: \n",
      "{'seasonality_mode': 'multiplicative', 'n_changepoints': 100, 'changepoint_prior_scale': 0.1}\n",
      "XGBoost...... RMSE: 43.97689236540257\n",
      "RMSE_pct_range: 146.62385345048023\n",
      "MAPE: 0.12567497704907996\n",
      "MedianAPE: 9.099843627929715\n",
      "\n",
      "###########################################################\n",
      "File: 1130_0.pkl\n",
      "Length on load: 26304\n",
      "Length after agg: 1096\n",
      "Dropped N/A cols: 0\n",
      "Length after blank drop: 1096\n",
      "\n",
      "ARIMA Model...... RMSE: 259.49462767639284\n",
      "RMSE_pct_range: 44.78678420372674\n",
      "MAPE: 0.2404907562669579\n",
      "MedianAPE: 204.83770903930963\n"
     ]
    },
    {
     "name": "stderr",
     "output_type": "stream",
     "text": [
      "INFO:prophet:Disabling yearly seasonality. Run prophet with yearly_seasonality=True to override this.\n"
     ]
    },
    {
     "name": "stdout",
     "output_type": "stream",
     "text": [
      "\n",
      "Prophet...... Tuning Prophet....\n",
      "Tuning Iteration: 0\n"
     ]
    },
    {
     "name": "stderr",
     "output_type": "stream",
     "text": [
      "INFO:prophet:Disabling yearly seasonality. Run prophet with yearly_seasonality=True to override this.\n"
     ]
    },
    {
     "name": "stdout",
     "output_type": "stream",
     "text": [
      "Tuning Iteration: 1\n"
     ]
    },
    {
     "name": "stderr",
     "output_type": "stream",
     "text": [
      "INFO:prophet:Disabling yearly seasonality. Run prophet with yearly_seasonality=True to override this.\n"
     ]
    },
    {
     "name": "stdout",
     "output_type": "stream",
     "text": [
      "Tuning Iteration: 2\n"
     ]
    },
    {
     "name": "stderr",
     "output_type": "stream",
     "text": [
      "INFO:prophet:Disabling yearly seasonality. Run prophet with yearly_seasonality=True to override this.\n"
     ]
    },
    {
     "name": "stdout",
     "output_type": "stream",
     "text": [
      "Tuning Iteration: 3\n"
     ]
    },
    {
     "name": "stderr",
     "output_type": "stream",
     "text": [
      "INFO:prophet:Disabling yearly seasonality. Run prophet with yearly_seasonality=True to override this.\n"
     ]
    },
    {
     "name": "stdout",
     "output_type": "stream",
     "text": [
      "Tuning Iteration: 4\n"
     ]
    },
    {
     "name": "stderr",
     "output_type": "stream",
     "text": [
      "INFO:prophet:Disabling yearly seasonality. Run prophet with yearly_seasonality=True to override this.\n"
     ]
    },
    {
     "name": "stdout",
     "output_type": "stream",
     "text": [
      "Tuning Iteration: 5\n"
     ]
    },
    {
     "name": "stderr",
     "output_type": "stream",
     "text": [
      "INFO:prophet:Disabling yearly seasonality. Run prophet with yearly_seasonality=True to override this.\n"
     ]
    },
    {
     "name": "stdout",
     "output_type": "stream",
     "text": [
      "Tuning Iteration: 6\n"
     ]
    },
    {
     "name": "stderr",
     "output_type": "stream",
     "text": [
      "INFO:prophet:Disabling yearly seasonality. Run prophet with yearly_seasonality=True to override this.\n"
     ]
    },
    {
     "name": "stdout",
     "output_type": "stream",
     "text": [
      "Tuning Iteration: 7\n",
      "Error Metric: MedAEpctRange\n",
      "35.35341888838619\n",
      "RMSE: 190.4999530794186\n",
      "RMSE_pct_range: 32.87883208136322\n",
      "MAPE: 0.14714353056869012\n",
      "MedianAPE: 35.35341888838619\n",
      "Best Parameters: \n",
      "{'seasonality_mode': 'multiplicative', 'n_changepoints': 100, 'changepoint_prior_scale': 0.1}\n",
      "XGBoost...... RMSE: 158.93310444104847\n",
      "RMSE_pct_range: 27.430635906290718\n",
      "MAPE: 0.10116563881191155\n",
      "MedianAPE: 77.73213867187496\n",
      "\n",
      "###########################################################\n",
      "File: 1133_2.pkl\n",
      "Length on load: 26304\n",
      "Length after agg: 1096\n",
      "Dropped N/A cols: 0\n",
      "Length after blank drop: 1096\n",
      "\n",
      "ARIMA Model...... RMSE: 803.3795932672496\n",
      "RMSE_pct_range: 86.41370707087842\n",
      "MAPE: 1.4211367230280891\n",
      "MedianAPE: 785.4334540377438\n"
     ]
    },
    {
     "name": "stderr",
     "output_type": "stream",
     "text": [
      "INFO:prophet:Disabling yearly seasonality. Run prophet with yearly_seasonality=True to override this.\n"
     ]
    },
    {
     "name": "stdout",
     "output_type": "stream",
     "text": [
      "\n",
      "Prophet...... Tuning Prophet....\n",
      "Tuning Iteration: 0\n"
     ]
    },
    {
     "name": "stderr",
     "output_type": "stream",
     "text": [
      "INFO:prophet:Disabling yearly seasonality. Run prophet with yearly_seasonality=True to override this.\n"
     ]
    },
    {
     "name": "stdout",
     "output_type": "stream",
     "text": [
      "Tuning Iteration: 1\n"
     ]
    },
    {
     "name": "stderr",
     "output_type": "stream",
     "text": [
      "INFO:prophet:Disabling yearly seasonality. Run prophet with yearly_seasonality=True to override this.\n"
     ]
    },
    {
     "name": "stdout",
     "output_type": "stream",
     "text": [
      "Tuning Iteration: 2\n"
     ]
    },
    {
     "name": "stderr",
     "output_type": "stream",
     "text": [
      "INFO:prophet:Disabling yearly seasonality. Run prophet with yearly_seasonality=True to override this.\n"
     ]
    },
    {
     "name": "stdout",
     "output_type": "stream",
     "text": [
      "Tuning Iteration: 3\n"
     ]
    },
    {
     "name": "stderr",
     "output_type": "stream",
     "text": [
      "INFO:prophet:Disabling yearly seasonality. Run prophet with yearly_seasonality=True to override this.\n"
     ]
    },
    {
     "name": "stdout",
     "output_type": "stream",
     "text": [
      "Tuning Iteration: 4\n"
     ]
    },
    {
     "name": "stderr",
     "output_type": "stream",
     "text": [
      "INFO:prophet:Disabling yearly seasonality. Run prophet with yearly_seasonality=True to override this.\n"
     ]
    },
    {
     "name": "stdout",
     "output_type": "stream",
     "text": [
      "Tuning Iteration: 5\n"
     ]
    },
    {
     "name": "stderr",
     "output_type": "stream",
     "text": [
      "INFO:prophet:Disabling yearly seasonality. Run prophet with yearly_seasonality=True to override this.\n"
     ]
    },
    {
     "name": "stdout",
     "output_type": "stream",
     "text": [
      "Tuning Iteration: 6\n"
     ]
    },
    {
     "name": "stderr",
     "output_type": "stream",
     "text": [
      "INFO:prophet:Disabling yearly seasonality. Run prophet with yearly_seasonality=True to override this.\n"
     ]
    },
    {
     "name": "stdout",
     "output_type": "stream",
     "text": [
      "Tuning Iteration: 7\n",
      "Error Metric: MedAEpctRange\n",
      "84.48337123533047\n",
      "RMSE: 419.2569393469845\n",
      "RMSE_pct_range: 45.096423468789006\n",
      "MAPE: 0.3188360998863443\n",
      "MedianAPE: 84.48337123533047\n",
      "Best Parameters: \n",
      "{'seasonality_mode': 'multiplicative', 'n_changepoints': 100, 'changepoint_prior_scale': 0.1}\n",
      "XGBoost...... RMSE: 228.98713894879938\n",
      "RMSE_pct_range: 24.630483166302678\n",
      "MAPE: 0.11939474998148163\n",
      "MedianAPE: 160.66827148437505\n",
      "\n",
      "###########################################################\n",
      "File: 1138_0.pkl\n",
      "Length on load: 26304\n",
      "Length after agg: 1096\n",
      "Dropped N/A cols: 0\n",
      "Length after blank drop: 1096\n",
      "\n",
      "ARIMA Model...... RMSE: 26.48547826047321\n",
      "RMSE_pct_range: 77.93858091804078\n",
      "MAPE: 0.2715796899916851\n",
      "MedianAPE: 23.47887167085551\n"
     ]
    },
    {
     "name": "stderr",
     "output_type": "stream",
     "text": [
      "INFO:prophet:Disabling yearly seasonality. Run prophet with yearly_seasonality=True to override this.\n"
     ]
    },
    {
     "name": "stdout",
     "output_type": "stream",
     "text": [
      "\n",
      "Prophet...... Tuning Prophet....\n",
      "Tuning Iteration: 0\n"
     ]
    },
    {
     "name": "stderr",
     "output_type": "stream",
     "text": [
      "INFO:prophet:Disabling yearly seasonality. Run prophet with yearly_seasonality=True to override this.\n"
     ]
    },
    {
     "name": "stdout",
     "output_type": "stream",
     "text": [
      "Tuning Iteration: 1\n"
     ]
    },
    {
     "name": "stderr",
     "output_type": "stream",
     "text": [
      "INFO:prophet:Disabling yearly seasonality. Run prophet with yearly_seasonality=True to override this.\n"
     ]
    },
    {
     "name": "stdout",
     "output_type": "stream",
     "text": [
      "Tuning Iteration: 2\n"
     ]
    },
    {
     "name": "stderr",
     "output_type": "stream",
     "text": [
      "INFO:prophet:Disabling yearly seasonality. Run prophet with yearly_seasonality=True to override this.\n"
     ]
    },
    {
     "name": "stdout",
     "output_type": "stream",
     "text": [
      "Tuning Iteration: 3\n"
     ]
    },
    {
     "name": "stderr",
     "output_type": "stream",
     "text": [
      "INFO:prophet:Disabling yearly seasonality. Run prophet with yearly_seasonality=True to override this.\n"
     ]
    },
    {
     "name": "stdout",
     "output_type": "stream",
     "text": [
      "Tuning Iteration: 4\n"
     ]
    },
    {
     "name": "stderr",
     "output_type": "stream",
     "text": [
      "INFO:prophet:Disabling yearly seasonality. Run prophet with yearly_seasonality=True to override this.\n"
     ]
    },
    {
     "name": "stdout",
     "output_type": "stream",
     "text": [
      "Tuning Iteration: 5\n"
     ]
    },
    {
     "name": "stderr",
     "output_type": "stream",
     "text": [
      "INFO:prophet:Disabling yearly seasonality. Run prophet with yearly_seasonality=True to override this.\n"
     ]
    },
    {
     "name": "stdout",
     "output_type": "stream",
     "text": [
      "Tuning Iteration: 6\n"
     ]
    },
    {
     "name": "stderr",
     "output_type": "stream",
     "text": [
      "INFO:prophet:Disabling yearly seasonality. Run prophet with yearly_seasonality=True to override this.\n"
     ]
    },
    {
     "name": "stdout",
     "output_type": "stream",
     "text": [
      "Tuning Iteration: 7\n",
      "Error Metric: MedAEpctRange\n",
      "69.0910664926227\n",
      "RMSE: 9.420440277723442\n",
      "RMSE_pct_range: 27.721445678579983\n",
      "MAPE: 0.1380300227214973\n",
      "MedianAPE: 69.0910664926227\n",
      "Best Parameters: \n",
      "{'seasonality_mode': 'multiplicative', 'n_changepoints': 100, 'changepoint_prior_scale': 0.1}\n",
      "XGBoost...... RMSE: 9.872732755222522\n",
      "RMSE_pct_range: 29.05240272264407\n",
      "MAPE: 0.09111434773355595\n",
      "MedianAPE: 4.116310302734377\n",
      "\n",
      "###########################################################\n",
      "File: 1140_1.pkl\n",
      "Length on load: 26304\n",
      "Length after agg: 1096\n",
      "Dropped N/A cols: 0\n",
      "Length after blank drop: 1096\n",
      "\n",
      "ARIMA Model...... RMSE: 349.88028337200547\n",
      "RMSE_pct_range: 33.56977258502827\n",
      "MAPE: 0.49026727065833026\n",
      "MedianAPE: 378.7481193771138\n"
     ]
    },
    {
     "name": "stderr",
     "output_type": "stream",
     "text": [
      "INFO:prophet:Disabling yearly seasonality. Run prophet with yearly_seasonality=True to override this.\n"
     ]
    },
    {
     "name": "stdout",
     "output_type": "stream",
     "text": [
      "\n",
      "Prophet...... Tuning Prophet....\n",
      "Tuning Iteration: 0\n"
     ]
    },
    {
     "name": "stderr",
     "output_type": "stream",
     "text": [
      "INFO:prophet:Disabling yearly seasonality. Run prophet with yearly_seasonality=True to override this.\n"
     ]
    },
    {
     "name": "stdout",
     "output_type": "stream",
     "text": [
      "Tuning Iteration: 1\n"
     ]
    },
    {
     "name": "stderr",
     "output_type": "stream",
     "text": [
      "INFO:prophet:Disabling yearly seasonality. Run prophet with yearly_seasonality=True to override this.\n"
     ]
    },
    {
     "name": "stdout",
     "output_type": "stream",
     "text": [
      "Tuning Iteration: 2\n"
     ]
    },
    {
     "name": "stderr",
     "output_type": "stream",
     "text": [
      "INFO:prophet:Disabling yearly seasonality. Run prophet with yearly_seasonality=True to override this.\n"
     ]
    },
    {
     "name": "stdout",
     "output_type": "stream",
     "text": [
      "Tuning Iteration: 3\n"
     ]
    },
    {
     "name": "stderr",
     "output_type": "stream",
     "text": [
      "INFO:prophet:Disabling yearly seasonality. Run prophet with yearly_seasonality=True to override this.\n"
     ]
    },
    {
     "name": "stdout",
     "output_type": "stream",
     "text": [
      "Tuning Iteration: 4\n"
     ]
    },
    {
     "name": "stderr",
     "output_type": "stream",
     "text": [
      "INFO:prophet:Disabling yearly seasonality. Run prophet with yearly_seasonality=True to override this.\n"
     ]
    },
    {
     "name": "stdout",
     "output_type": "stream",
     "text": [
      "Tuning Iteration: 5\n"
     ]
    },
    {
     "name": "stderr",
     "output_type": "stream",
     "text": [
      "INFO:prophet:Disabling yearly seasonality. Run prophet with yearly_seasonality=True to override this.\n"
     ]
    },
    {
     "name": "stdout",
     "output_type": "stream",
     "text": [
      "Tuning Iteration: 6\n"
     ]
    },
    {
     "name": "stderr",
     "output_type": "stream",
     "text": [
      "INFO:prophet:Disabling yearly seasonality. Run prophet with yearly_seasonality=True to override this.\n"
     ]
    },
    {
     "name": "stdout",
     "output_type": "stream",
     "text": [
      "Tuning Iteration: 7\n",
      "Error Metric: MedAEpctRange\n",
      "36.339539090227454\n",
      "RMSE: 675.1988945587894\n",
      "RMSE_pct_range: 64.78293981459205\n",
      "MAPE: 7.050322230717908\n",
      "MedianAPE: 36.339539090227454\n",
      "Best Parameters: \n",
      "{'seasonality_mode': 'multiplicative', 'n_changepoints': 100, 'changepoint_prior_scale': 0.1}\n",
      "XGBoost...... RMSE: 142.36947793579333\n",
      "RMSE_pct_range: 13.659846594648617\n",
      "MAPE: 0.24972538218787838\n",
      "MedianAPE: 44.41385595703116\n",
      "\n",
      "###########################################################\n",
      "File: 1145_2.pkl\n",
      "Length on load: 26304\n",
      "Length after agg: 1096\n",
      "Dropped N/A cols: 0\n",
      "Length after blank drop: 1096\n",
      "\n",
      "ARIMA Model...... RMSE: 42.096432260457746\n",
      "RMSE_pct_range: 25.658777758755193\n",
      "MAPE: 0.12189125968671491\n",
      "MedianAPE: 31.307061145247985\n"
     ]
    },
    {
     "name": "stderr",
     "output_type": "stream",
     "text": [
      "INFO:prophet:Disabling yearly seasonality. Run prophet with yearly_seasonality=True to override this.\n"
     ]
    },
    {
     "name": "stdout",
     "output_type": "stream",
     "text": [
      "\n",
      "Prophet...... Tuning Prophet....\n",
      "Tuning Iteration: 0\n"
     ]
    },
    {
     "name": "stderr",
     "output_type": "stream",
     "text": [
      "INFO:prophet:Disabling yearly seasonality. Run prophet with yearly_seasonality=True to override this.\n"
     ]
    },
    {
     "name": "stdout",
     "output_type": "stream",
     "text": [
      "Tuning Iteration: 1\n"
     ]
    },
    {
     "name": "stderr",
     "output_type": "stream",
     "text": [
      "INFO:prophet:Disabling yearly seasonality. Run prophet with yearly_seasonality=True to override this.\n"
     ]
    },
    {
     "name": "stdout",
     "output_type": "stream",
     "text": [
      "Tuning Iteration: 2\n"
     ]
    },
    {
     "name": "stderr",
     "output_type": "stream",
     "text": [
      "INFO:prophet:Disabling yearly seasonality. Run prophet with yearly_seasonality=True to override this.\n"
     ]
    },
    {
     "name": "stdout",
     "output_type": "stream",
     "text": [
      "Tuning Iteration: 3\n"
     ]
    },
    {
     "name": "stderr",
     "output_type": "stream",
     "text": [
      "INFO:prophet:Disabling yearly seasonality. Run prophet with yearly_seasonality=True to override this.\n"
     ]
    },
    {
     "name": "stdout",
     "output_type": "stream",
     "text": [
      "Tuning Iteration: 4\n"
     ]
    },
    {
     "name": "stderr",
     "output_type": "stream",
     "text": [
      "INFO:prophet:Disabling yearly seasonality. Run prophet with yearly_seasonality=True to override this.\n"
     ]
    },
    {
     "name": "stdout",
     "output_type": "stream",
     "text": [
      "Tuning Iteration: 5\n"
     ]
    },
    {
     "name": "stderr",
     "output_type": "stream",
     "text": [
      "INFO:prophet:Disabling yearly seasonality. Run prophet with yearly_seasonality=True to override this.\n"
     ]
    },
    {
     "name": "stdout",
     "output_type": "stream",
     "text": [
      "Tuning Iteration: 6\n"
     ]
    },
    {
     "name": "stderr",
     "output_type": "stream",
     "text": [
      "INFO:prophet:Disabling yearly seasonality. Run prophet with yearly_seasonality=True to override this.\n"
     ]
    },
    {
     "name": "stdout",
     "output_type": "stream",
     "text": [
      "Tuning Iteration: 7\n",
      "Error Metric: MedAEpctRange\n",
      "19.082399174246383\n",
      "RMSE: 42.0631646771274\n",
      "RMSE_pct_range: 25.63850037463003\n",
      "MAPE: 0.1179414868654634\n",
      "MedianAPE: 19.082399174246383\n",
      "Best Parameters: \n",
      "{'seasonality_mode': 'multiplicative', 'n_changepoints': 100, 'changepoint_prior_scale': 0.1}\n",
      "XGBoost...... RMSE: 70.88037062908255\n",
      "RMSE_pct_range: 43.20327352629792\n",
      "MAPE: 0.1480531497584537\n",
      "MedianAPE: 46.30746166992185\n",
      "\n",
      "###########################################################\n",
      "File: 1148_1.pkl\n",
      "Length on load: 26304\n",
      "Length after agg: 1096\n",
      "Dropped N/A cols: 0\n",
      "Length after blank drop: 1096\n",
      "\n",
      "ARIMA Model...... RMSE: 448.0777439764276\n",
      "RMSE_pct_range: 35.21611863701332\n",
      "MAPE: 0.49045490089653826\n",
      "MedianAPE: 400.580465338209\n"
     ]
    },
    {
     "name": "stderr",
     "output_type": "stream",
     "text": [
      "INFO:prophet:Disabling yearly seasonality. Run prophet with yearly_seasonality=True to override this.\n"
     ]
    },
    {
     "name": "stdout",
     "output_type": "stream",
     "text": [
      "\n",
      "Prophet...... Tuning Prophet....\n",
      "Tuning Iteration: 0\n"
     ]
    },
    {
     "name": "stderr",
     "output_type": "stream",
     "text": [
      "INFO:prophet:Disabling yearly seasonality. Run prophet with yearly_seasonality=True to override this.\n"
     ]
    },
    {
     "name": "stdout",
     "output_type": "stream",
     "text": [
      "Tuning Iteration: 1\n"
     ]
    },
    {
     "name": "stderr",
     "output_type": "stream",
     "text": [
      "INFO:prophet:Disabling yearly seasonality. Run prophet with yearly_seasonality=True to override this.\n"
     ]
    },
    {
     "name": "stdout",
     "output_type": "stream",
     "text": [
      "Tuning Iteration: 2\n"
     ]
    },
    {
     "name": "stderr",
     "output_type": "stream",
     "text": [
      "INFO:prophet:Disabling yearly seasonality. Run prophet with yearly_seasonality=True to override this.\n"
     ]
    },
    {
     "name": "stdout",
     "output_type": "stream",
     "text": [
      "Tuning Iteration: 3\n"
     ]
    },
    {
     "name": "stderr",
     "output_type": "stream",
     "text": [
      "INFO:prophet:Disabling yearly seasonality. Run prophet with yearly_seasonality=True to override this.\n"
     ]
    },
    {
     "name": "stdout",
     "output_type": "stream",
     "text": [
      "Tuning Iteration: 4\n"
     ]
    },
    {
     "name": "stderr",
     "output_type": "stream",
     "text": [
      "INFO:prophet:Disabling yearly seasonality. Run prophet with yearly_seasonality=True to override this.\n"
     ]
    },
    {
     "name": "stdout",
     "output_type": "stream",
     "text": [
      "Tuning Iteration: 5\n"
     ]
    },
    {
     "name": "stderr",
     "output_type": "stream",
     "text": [
      "INFO:prophet:Disabling yearly seasonality. Run prophet with yearly_seasonality=True to override this.\n"
     ]
    },
    {
     "name": "stdout",
     "output_type": "stream",
     "text": [
      "Tuning Iteration: 6\n"
     ]
    },
    {
     "name": "stderr",
     "output_type": "stream",
     "text": [
      "INFO:prophet:Disabling yearly seasonality. Run prophet with yearly_seasonality=True to override this.\n"
     ]
    },
    {
     "name": "stdout",
     "output_type": "stream",
     "text": [
      "Tuning Iteration: 7\n",
      "Error Metric: MedAEpctRange\n",
      "31.48312849870647\n",
      "RMSE: 766.6687407710273\n",
      "RMSE_pct_range: 60.25538579685061\n",
      "MAPE: 1.8854506678306846\n",
      "MedianAPE: 31.48312849870647\n",
      "Best Parameters: \n",
      "{'seasonality_mode': 'multiplicative', 'n_changepoints': 100, 'changepoint_prior_scale': 0.1}\n",
      "XGBoost...... RMSE: 251.29272861133086\n",
      "RMSE_pct_range: 19.750042626221074\n",
      "MAPE: 0.3452800753975892\n",
      "MedianAPE: 136.5377900390625\n",
      "\n",
      "###########################################################\n",
      "File: 1149_0.pkl\n",
      "Length on load: 26304\n",
      "Length after agg: 1096\n",
      "Dropped N/A cols: 0\n",
      "Length after blank drop: 1096\n",
      "\n",
      "ARIMA Model...... RMSE: 59.48856573009558\n",
      "RMSE_pct_range: 16.80565279347973\n",
      "MAPE: 0.11060612713403074\n",
      "MedianAPE: 52.41253473564598\n"
     ]
    },
    {
     "name": "stderr",
     "output_type": "stream",
     "text": [
      "INFO:prophet:Disabling yearly seasonality. Run prophet with yearly_seasonality=True to override this.\n"
     ]
    },
    {
     "name": "stdout",
     "output_type": "stream",
     "text": [
      "\n",
      "Prophet...... Tuning Prophet....\n",
      "Tuning Iteration: 0\n"
     ]
    },
    {
     "name": "stderr",
     "output_type": "stream",
     "text": [
      "INFO:prophet:Disabling yearly seasonality. Run prophet with yearly_seasonality=True to override this.\n"
     ]
    },
    {
     "name": "stdout",
     "output_type": "stream",
     "text": [
      "Tuning Iteration: 1\n"
     ]
    },
    {
     "name": "stderr",
     "output_type": "stream",
     "text": [
      "INFO:prophet:Disabling yearly seasonality. Run prophet with yearly_seasonality=True to override this.\n"
     ]
    },
    {
     "name": "stdout",
     "output_type": "stream",
     "text": [
      "Tuning Iteration: 2\n"
     ]
    },
    {
     "name": "stderr",
     "output_type": "stream",
     "text": [
      "INFO:prophet:Disabling yearly seasonality. Run prophet with yearly_seasonality=True to override this.\n"
     ]
    },
    {
     "name": "stdout",
     "output_type": "stream",
     "text": [
      "Tuning Iteration: 3\n"
     ]
    },
    {
     "name": "stderr",
     "output_type": "stream",
     "text": [
      "INFO:prophet:Disabling yearly seasonality. Run prophet with yearly_seasonality=True to override this.\n"
     ]
    },
    {
     "name": "stdout",
     "output_type": "stream",
     "text": [
      "Tuning Iteration: 4\n"
     ]
    },
    {
     "name": "stderr",
     "output_type": "stream",
     "text": [
      "INFO:prophet:Disabling yearly seasonality. Run prophet with yearly_seasonality=True to override this.\n"
     ]
    },
    {
     "name": "stdout",
     "output_type": "stream",
     "text": [
      "Tuning Iteration: 5\n"
     ]
    },
    {
     "name": "stderr",
     "output_type": "stream",
     "text": [
      "INFO:prophet:Disabling yearly seasonality. Run prophet with yearly_seasonality=True to override this.\n"
     ]
    },
    {
     "name": "stdout",
     "output_type": "stream",
     "text": [
      "Tuning Iteration: 6\n"
     ]
    },
    {
     "name": "stderr",
     "output_type": "stream",
     "text": [
      "INFO:prophet:Disabling yearly seasonality. Run prophet with yearly_seasonality=True to override this.\n"
     ]
    },
    {
     "name": "stdout",
     "output_type": "stream",
     "text": [
      "Tuning Iteration: 7\n",
      "Error Metric: MedAEpctRange\n",
      "14.806658220503161\n",
      "RMSE: 55.77257498119002\n",
      "RMSE_pct_range: 15.755877100563739\n",
      "MAPE: 0.10778114325273364\n",
      "MedianAPE: 14.806658220503161\n",
      "Best Parameters: \n",
      "{'seasonality_mode': 'multiplicative', 'n_changepoints': 100, 'changepoint_prior_scale': 0.1}\n",
      "XGBoost...... RMSE: 37.19071258549184\n",
      "RMSE_pct_range: 10.506459437761746\n",
      "MAPE: 0.0691066422278221\n",
      "MedianAPE: 24.515290039062506\n",
      "\n",
      "###########################################################\n",
      "File: 1151_1.pkl\n",
      "Length on load: 26304\n",
      "Length after agg: 1096\n",
      "Dropped N/A cols: 0\n",
      "Length after blank drop: 1096\n",
      "\n",
      "ARIMA Model...... RMSE: 258.7975421035583\n",
      "RMSE_pct_range: 48.864658546186774\n",
      "MAPE: 0.5536819820435117\n",
      "MedianAPE: 270.10753441403233\n"
     ]
    },
    {
     "name": "stderr",
     "output_type": "stream",
     "text": [
      "INFO:prophet:Disabling yearly seasonality. Run prophet with yearly_seasonality=True to override this.\n"
     ]
    },
    {
     "name": "stdout",
     "output_type": "stream",
     "text": [
      "\n",
      "Prophet...... Tuning Prophet....\n",
      "Tuning Iteration: 0\n"
     ]
    },
    {
     "name": "stderr",
     "output_type": "stream",
     "text": [
      "INFO:prophet:Disabling yearly seasonality. Run prophet with yearly_seasonality=True to override this.\n"
     ]
    },
    {
     "name": "stdout",
     "output_type": "stream",
     "text": [
      "Tuning Iteration: 1\n"
     ]
    },
    {
     "name": "stderr",
     "output_type": "stream",
     "text": [
      "INFO:prophet:Disabling yearly seasonality. Run prophet with yearly_seasonality=True to override this.\n"
     ]
    },
    {
     "name": "stdout",
     "output_type": "stream",
     "text": [
      "Tuning Iteration: 2\n"
     ]
    },
    {
     "name": "stderr",
     "output_type": "stream",
     "text": [
      "INFO:prophet:Disabling yearly seasonality. Run prophet with yearly_seasonality=True to override this.\n"
     ]
    },
    {
     "name": "stdout",
     "output_type": "stream",
     "text": [
      "Tuning Iteration: 3\n"
     ]
    },
    {
     "name": "stderr",
     "output_type": "stream",
     "text": [
      "INFO:prophet:Disabling yearly seasonality. Run prophet with yearly_seasonality=True to override this.\n"
     ]
    },
    {
     "name": "stdout",
     "output_type": "stream",
     "text": [
      "Tuning Iteration: 4\n"
     ]
    },
    {
     "name": "stderr",
     "output_type": "stream",
     "text": [
      "INFO:prophet:Disabling yearly seasonality. Run prophet with yearly_seasonality=True to override this.\n"
     ]
    },
    {
     "name": "stdout",
     "output_type": "stream",
     "text": [
      "Tuning Iteration: 5\n"
     ]
    },
    {
     "name": "stderr",
     "output_type": "stream",
     "text": [
      "INFO:prophet:Disabling yearly seasonality. Run prophet with yearly_seasonality=True to override this.\n"
     ]
    },
    {
     "name": "stdout",
     "output_type": "stream",
     "text": [
      "Tuning Iteration: 6\n"
     ]
    },
    {
     "name": "stderr",
     "output_type": "stream",
     "text": [
      "INFO:prophet:Disabling yearly seasonality. Run prophet with yearly_seasonality=True to override this.\n"
     ]
    },
    {
     "name": "stdout",
     "output_type": "stream",
     "text": [
      "Tuning Iteration: 7\n",
      "Error Metric: MedAEpctRange\n",
      "51.00014603157472\n",
      "RMSE: 215.26327981499952\n",
      "RMSE_pct_range: 40.64477034902869\n",
      "MAPE: 1.7684737127952561\n",
      "MedianAPE: 51.00014603157472\n",
      "Best Parameters: \n",
      "{'seasonality_mode': 'multiplicative', 'n_changepoints': 100, 'changepoint_prior_scale': 0.1}\n",
      "XGBoost...... RMSE: 95.11493563711015\n",
      "RMSE_pct_range: 17.959053300012062\n",
      "MAPE: 0.31987773364959765\n",
      "MedianAPE: 31.62831600341798\n",
      "\n",
      "###########################################################\n",
      "File: 1154_0.pkl\n",
      "Length on load: 26304\n",
      "Length after agg: 1096\n",
      "Dropped N/A cols: 0\n",
      "Length after blank drop: 1096\n",
      "\n",
      "ARIMA Model...... RMSE: 71.07762568960145\n",
      "RMSE_pct_range: 31.31676489373906\n",
      "MAPE: 0.2093688687623819\n",
      "MedianAPE: 61.73988630759101\n"
     ]
    },
    {
     "name": "stderr",
     "output_type": "stream",
     "text": [
      "INFO:prophet:Disabling yearly seasonality. Run prophet with yearly_seasonality=True to override this.\n"
     ]
    },
    {
     "name": "stdout",
     "output_type": "stream",
     "text": [
      "\n",
      "Prophet...... Tuning Prophet....\n",
      "Tuning Iteration: 0\n"
     ]
    },
    {
     "name": "stderr",
     "output_type": "stream",
     "text": [
      "INFO:prophet:Disabling yearly seasonality. Run prophet with yearly_seasonality=True to override this.\n"
     ]
    },
    {
     "name": "stdout",
     "output_type": "stream",
     "text": [
      "Tuning Iteration: 1\n"
     ]
    },
    {
     "name": "stderr",
     "output_type": "stream",
     "text": [
      "INFO:prophet:Disabling yearly seasonality. Run prophet with yearly_seasonality=True to override this.\n"
     ]
    },
    {
     "name": "stdout",
     "output_type": "stream",
     "text": [
      "Tuning Iteration: 2\n"
     ]
    },
    {
     "name": "stderr",
     "output_type": "stream",
     "text": [
      "INFO:prophet:Disabling yearly seasonality. Run prophet with yearly_seasonality=True to override this.\n"
     ]
    },
    {
     "name": "stdout",
     "output_type": "stream",
     "text": [
      "Tuning Iteration: 3\n"
     ]
    },
    {
     "name": "stderr",
     "output_type": "stream",
     "text": [
      "INFO:prophet:Disabling yearly seasonality. Run prophet with yearly_seasonality=True to override this.\n"
     ]
    },
    {
     "name": "stdout",
     "output_type": "stream",
     "text": [
      "Tuning Iteration: 4\n"
     ]
    },
    {
     "name": "stderr",
     "output_type": "stream",
     "text": [
      "INFO:prophet:Disabling yearly seasonality. Run prophet with yearly_seasonality=True to override this.\n"
     ]
    },
    {
     "name": "stdout",
     "output_type": "stream",
     "text": [
      "Tuning Iteration: 5\n"
     ]
    },
    {
     "name": "stderr",
     "output_type": "stream",
     "text": [
      "INFO:prophet:Disabling yearly seasonality. Run prophet with yearly_seasonality=True to override this.\n"
     ]
    },
    {
     "name": "stdout",
     "output_type": "stream",
     "text": [
      "Tuning Iteration: 6\n"
     ]
    },
    {
     "name": "stderr",
     "output_type": "stream",
     "text": [
      "INFO:prophet:Disabling yearly seasonality. Run prophet with yearly_seasonality=True to override this.\n"
     ]
    },
    {
     "name": "stdout",
     "output_type": "stream",
     "text": [
      "Tuning Iteration: 7\n",
      "Error Metric: MedAEpctRange\n",
      "27.20256178089913\n",
      "RMSE: 59.36721438396799\n",
      "RMSE_pct_range: 26.157163765965883\n",
      "MAPE: 0.17234655325570042\n",
      "MedianAPE: 27.20256178089913\n",
      "Best Parameters: \n",
      "{'seasonality_mode': 'multiplicative', 'n_changepoints': 100, 'changepoint_prior_scale': 0.1}\n",
      "XGBoost...... RMSE: 78.91908420797849\n",
      "RMSE_pct_range: 34.77170743664884\n",
      "MAPE: 0.2070095060546044\n",
      "MedianAPE: 36.080421142578075\n",
      "\n",
      "###########################################################\n",
      "File: 1154_2.pkl\n",
      "Length on load: 26304\n",
      "Length after agg: 1096\n",
      "Dropped N/A cols: 0\n",
      "Length after blank drop: 1096\n",
      "\n",
      "ARIMA Model...... RMSE: 8626.100215478762\n",
      "RMSE_pct_range: 34.251576276785585\n",
      "MAPE: 1.029158295041163\n",
      "MedianAPE: 5477.794685196457\n"
     ]
    },
    {
     "name": "stderr",
     "output_type": "stream",
     "text": [
      "INFO:prophet:Disabling yearly seasonality. Run prophet with yearly_seasonality=True to override this.\n"
     ]
    },
    {
     "name": "stdout",
     "output_type": "stream",
     "text": [
      "\n",
      "Prophet...... Tuning Prophet....\n",
      "Tuning Iteration: 0\n"
     ]
    },
    {
     "name": "stderr",
     "output_type": "stream",
     "text": [
      "INFO:prophet:Disabling yearly seasonality. Run prophet with yearly_seasonality=True to override this.\n"
     ]
    },
    {
     "name": "stdout",
     "output_type": "stream",
     "text": [
      "Tuning Iteration: 1\n"
     ]
    },
    {
     "name": "stderr",
     "output_type": "stream",
     "text": [
      "INFO:prophet:Disabling yearly seasonality. Run prophet with yearly_seasonality=True to override this.\n"
     ]
    },
    {
     "name": "stdout",
     "output_type": "stream",
     "text": [
      "Tuning Iteration: 2\n"
     ]
    },
    {
     "name": "stderr",
     "output_type": "stream",
     "text": [
      "INFO:prophet:Disabling yearly seasonality. Run prophet with yearly_seasonality=True to override this.\n"
     ]
    },
    {
     "name": "stdout",
     "output_type": "stream",
     "text": [
      "Tuning Iteration: 3\n"
     ]
    },
    {
     "name": "stderr",
     "output_type": "stream",
     "text": [
      "INFO:prophet:Disabling yearly seasonality. Run prophet with yearly_seasonality=True to override this.\n"
     ]
    },
    {
     "name": "stdout",
     "output_type": "stream",
     "text": [
      "Tuning Iteration: 4\n"
     ]
    },
    {
     "name": "stderr",
     "output_type": "stream",
     "text": [
      "INFO:prophet:Disabling yearly seasonality. Run prophet with yearly_seasonality=True to override this.\n"
     ]
    },
    {
     "name": "stdout",
     "output_type": "stream",
     "text": [
      "Tuning Iteration: 5\n"
     ]
    },
    {
     "name": "stderr",
     "output_type": "stream",
     "text": [
      "INFO:prophet:Disabling yearly seasonality. Run prophet with yearly_seasonality=True to override this.\n"
     ]
    },
    {
     "name": "stdout",
     "output_type": "stream",
     "text": [
      "Tuning Iteration: 6\n"
     ]
    },
    {
     "name": "stderr",
     "output_type": "stream",
     "text": [
      "INFO:prophet:Disabling yearly seasonality. Run prophet with yearly_seasonality=True to override this.\n"
     ]
    },
    {
     "name": "stdout",
     "output_type": "stream",
     "text": [
      "Tuning Iteration: 7\n",
      "Error Metric: MedAEpctRange\n",
      "21.750628650465284\n",
      "RMSE: 10551.677406629893\n",
      "RMSE_pct_range: 41.89744780528961\n",
      "MAPE: 4.3026763655402\n",
      "MedianAPE: 21.750628650465284\n",
      "Best Parameters: \n",
      "{'seasonality_mode': 'multiplicative', 'n_changepoints': 100, 'changepoint_prior_scale': 0.1}\n",
      "XGBoost...... RMSE: 8589.643673023947\n",
      "RMSE_pct_range: 34.10681862112581\n",
      "MAPE: 1.0829403228491834\n",
      "MedianAPE: 5481.7265625\n",
      "\n",
      "###########################################################\n",
      "File: 1156_0.pkl\n",
      "Length on load: 26304\n",
      "Length after agg: 1096\n",
      "Dropped N/A cols: 0\n",
      "Length after blank drop: 1096\n",
      "\n",
      "ARIMA Model...... RMSE: 499.1861733697874\n",
      "RMSE_pct_range: 61.61320392841802\n",
      "MAPE: 0.3250488239109165\n",
      "MedianAPE: 458.8241197274409\n"
     ]
    },
    {
     "name": "stderr",
     "output_type": "stream",
     "text": [
      "INFO:prophet:Disabling yearly seasonality. Run prophet with yearly_seasonality=True to override this.\n"
     ]
    },
    {
     "name": "stdout",
     "output_type": "stream",
     "text": [
      "\n",
      "Prophet...... Tuning Prophet....\n",
      "Tuning Iteration: 0\n"
     ]
    },
    {
     "name": "stderr",
     "output_type": "stream",
     "text": [
      "INFO:prophet:Disabling yearly seasonality. Run prophet with yearly_seasonality=True to override this.\n"
     ]
    },
    {
     "name": "stdout",
     "output_type": "stream",
     "text": [
      "Tuning Iteration: 1\n"
     ]
    },
    {
     "name": "stderr",
     "output_type": "stream",
     "text": [
      "INFO:prophet:Disabling yearly seasonality. Run prophet with yearly_seasonality=True to override this.\n"
     ]
    },
    {
     "name": "stdout",
     "output_type": "stream",
     "text": [
      "Tuning Iteration: 2\n"
     ]
    },
    {
     "name": "stderr",
     "output_type": "stream",
     "text": [
      "INFO:prophet:Disabling yearly seasonality. Run prophet with yearly_seasonality=True to override this.\n"
     ]
    },
    {
     "name": "stdout",
     "output_type": "stream",
     "text": [
      "Tuning Iteration: 3\n"
     ]
    },
    {
     "name": "stderr",
     "output_type": "stream",
     "text": [
      "INFO:prophet:Disabling yearly seasonality. Run prophet with yearly_seasonality=True to override this.\n"
     ]
    },
    {
     "name": "stdout",
     "output_type": "stream",
     "text": [
      "Tuning Iteration: 4\n"
     ]
    },
    {
     "name": "stderr",
     "output_type": "stream",
     "text": [
      "INFO:prophet:Disabling yearly seasonality. Run prophet with yearly_seasonality=True to override this.\n"
     ]
    },
    {
     "name": "stdout",
     "output_type": "stream",
     "text": [
      "Tuning Iteration: 5\n"
     ]
    },
    {
     "name": "stderr",
     "output_type": "stream",
     "text": [
      "INFO:prophet:Disabling yearly seasonality. Run prophet with yearly_seasonality=True to override this.\n"
     ]
    },
    {
     "name": "stdout",
     "output_type": "stream",
     "text": [
      "Tuning Iteration: 6\n"
     ]
    },
    {
     "name": "stderr",
     "output_type": "stream",
     "text": [
      "INFO:prophet:Disabling yearly seasonality. Run prophet with yearly_seasonality=True to override this.\n"
     ]
    },
    {
     "name": "stdout",
     "output_type": "stream",
     "text": [
      "Tuning Iteration: 7\n",
      "Error Metric: MedAEpctRange\n",
      "56.631424434711086\n",
      "RMSE: 1399.5024425988306\n",
      "RMSE_pct_range: 172.7368144275202\n",
      "MAPE: 3.7020178780614055\n",
      "MedianAPE: 56.631424434711086\n",
      "Best Parameters: \n",
      "{'seasonality_mode': 'multiplicative', 'n_changepoints': 100, 'changepoint_prior_scale': 0.1}\n",
      "XGBoost...... RMSE: 421.22833093697625\n",
      "RMSE_pct_range: 51.991077555790845\n",
      "MAPE: 0.2674435852744107\n",
      "MedianAPE: 385.33538574218755\n",
      "\n",
      "###########################################################\n",
      "File: 1156_2.pkl\n",
      "Length on load: 26304\n",
      "Length after agg: 1096\n",
      "Dropped N/A cols: 0\n",
      "Length after blank drop: 1096\n",
      "\n",
      "ARIMA Model...... RMSE: 3705.234843750932\n",
      "RMSE_pct_range: 37.023377644502496\n",
      "MAPE: 0.6132305535159291\n",
      "MedianAPE: 3154.085070042027\n"
     ]
    },
    {
     "name": "stderr",
     "output_type": "stream",
     "text": [
      "INFO:prophet:Disabling yearly seasonality. Run prophet with yearly_seasonality=True to override this.\n"
     ]
    },
    {
     "name": "stdout",
     "output_type": "stream",
     "text": [
      "\n",
      "Prophet...... Tuning Prophet....\n",
      "Tuning Iteration: 0\n"
     ]
    },
    {
     "name": "stderr",
     "output_type": "stream",
     "text": [
      "INFO:prophet:Disabling yearly seasonality. Run prophet with yearly_seasonality=True to override this.\n"
     ]
    },
    {
     "name": "stdout",
     "output_type": "stream",
     "text": [
      "Tuning Iteration: 1\n"
     ]
    },
    {
     "name": "stderr",
     "output_type": "stream",
     "text": [
      "INFO:prophet:Disabling yearly seasonality. Run prophet with yearly_seasonality=True to override this.\n"
     ]
    },
    {
     "name": "stdout",
     "output_type": "stream",
     "text": [
      "Tuning Iteration: 2\n"
     ]
    },
    {
     "name": "stderr",
     "output_type": "stream",
     "text": [
      "INFO:prophet:Disabling yearly seasonality. Run prophet with yearly_seasonality=True to override this.\n"
     ]
    },
    {
     "name": "stdout",
     "output_type": "stream",
     "text": [
      "Tuning Iteration: 3\n"
     ]
    },
    {
     "name": "stderr",
     "output_type": "stream",
     "text": [
      "INFO:prophet:Disabling yearly seasonality. Run prophet with yearly_seasonality=True to override this.\n"
     ]
    },
    {
     "name": "stdout",
     "output_type": "stream",
     "text": [
      "Tuning Iteration: 4\n"
     ]
    },
    {
     "name": "stderr",
     "output_type": "stream",
     "text": [
      "INFO:prophet:Disabling yearly seasonality. Run prophet with yearly_seasonality=True to override this.\n"
     ]
    },
    {
     "name": "stdout",
     "output_type": "stream",
     "text": [
      "Tuning Iteration: 5\n"
     ]
    },
    {
     "name": "stderr",
     "output_type": "stream",
     "text": [
      "INFO:prophet:Disabling yearly seasonality. Run prophet with yearly_seasonality=True to override this.\n"
     ]
    },
    {
     "name": "stdout",
     "output_type": "stream",
     "text": [
      "Tuning Iteration: 6\n"
     ]
    },
    {
     "name": "stderr",
     "output_type": "stream",
     "text": [
      "INFO:prophet:Disabling yearly seasonality. Run prophet with yearly_seasonality=True to override this.\n"
     ]
    },
    {
     "name": "stdout",
     "output_type": "stream",
     "text": [
      "Tuning Iteration: 7\n",
      "Error Metric: MedAEpctRange\n",
      "31.51618928230686\n",
      "RMSE: 4286.959984599737\n",
      "RMSE_pct_range: 42.83608061291776\n",
      "MAPE: 0.6137551920170946\n",
      "MedianAPE: 31.51618928230686\n",
      "Best Parameters: \n",
      "{'seasonality_mode': 'multiplicative', 'n_changepoints': 100, 'changepoint_prior_scale': 0.1}\n",
      "XGBoost...... RMSE: 2120.1251247066457\n",
      "RMSE_pct_range: 21.184674239474067\n",
      "MAPE: 0.19603381055025368\n",
      "MedianAPE: 1383.2637304687505\n",
      "\n",
      "###########################################################\n",
      "File: 1164_1.pkl\n",
      "Length on load: 26304\n",
      "Length after agg: 1096\n",
      "Dropped N/A cols: 0\n",
      "Length after blank drop: 1096\n",
      "\n",
      "ARIMA Model...... RMSE: 332.1623840133885\n",
      "RMSE_pct_range: 59.03099371740793\n",
      "MAPE: 0.685204613448983\n",
      "MedianAPE: 357.40454363443973\n"
     ]
    },
    {
     "name": "stderr",
     "output_type": "stream",
     "text": [
      "INFO:prophet:Disabling yearly seasonality. Run prophet with yearly_seasonality=True to override this.\n"
     ]
    },
    {
     "name": "stdout",
     "output_type": "stream",
     "text": [
      "\n",
      "Prophet...... Tuning Prophet....\n",
      "Tuning Iteration: 0\n"
     ]
    },
    {
     "name": "stderr",
     "output_type": "stream",
     "text": [
      "INFO:prophet:Disabling yearly seasonality. Run prophet with yearly_seasonality=True to override this.\n"
     ]
    },
    {
     "name": "stdout",
     "output_type": "stream",
     "text": [
      "Tuning Iteration: 1\n"
     ]
    },
    {
     "name": "stderr",
     "output_type": "stream",
     "text": [
      "INFO:prophet:Disabling yearly seasonality. Run prophet with yearly_seasonality=True to override this.\n"
     ]
    },
    {
     "name": "stdout",
     "output_type": "stream",
     "text": [
      "Tuning Iteration: 2\n"
     ]
    },
    {
     "name": "stderr",
     "output_type": "stream",
     "text": [
      "INFO:prophet:Disabling yearly seasonality. Run prophet with yearly_seasonality=True to override this.\n"
     ]
    },
    {
     "name": "stdout",
     "output_type": "stream",
     "text": [
      "Tuning Iteration: 3\n"
     ]
    },
    {
     "name": "stderr",
     "output_type": "stream",
     "text": [
      "INFO:prophet:Disabling yearly seasonality. Run prophet with yearly_seasonality=True to override this.\n"
     ]
    },
    {
     "name": "stdout",
     "output_type": "stream",
     "text": [
      "Tuning Iteration: 4\n"
     ]
    },
    {
     "name": "stderr",
     "output_type": "stream",
     "text": [
      "INFO:prophet:Disabling yearly seasonality. Run prophet with yearly_seasonality=True to override this.\n"
     ]
    },
    {
     "name": "stdout",
     "output_type": "stream",
     "text": [
      "Tuning Iteration: 5\n"
     ]
    },
    {
     "name": "stderr",
     "output_type": "stream",
     "text": [
      "INFO:prophet:Disabling yearly seasonality. Run prophet with yearly_seasonality=True to override this.\n"
     ]
    },
    {
     "name": "stdout",
     "output_type": "stream",
     "text": [
      "Tuning Iteration: 6\n"
     ]
    },
    {
     "name": "stderr",
     "output_type": "stream",
     "text": [
      "INFO:prophet:Disabling yearly seasonality. Run prophet with yearly_seasonality=True to override this.\n"
     ]
    },
    {
     "name": "stdout",
     "output_type": "stream",
     "text": [
      "Tuning Iteration: 7\n",
      "Error Metric: MedAEpctRange\n",
      "63.516961538327784\n",
      "RMSE: 262.34681916813435\n",
      "RMSE_pct_range: 46.623561786189114\n",
      "MAPE: 1.4048876216274566\n",
      "MedianAPE: 63.516961538327784\n",
      "Best Parameters: \n",
      "{'seasonality_mode': 'multiplicative', 'n_changepoints': 100, 'changepoint_prior_scale': 0.1}\n",
      "XGBoost...... RMSE: 98.20976510265415\n",
      "RMSE_pct_range: 17.45357182446405\n",
      "MAPE: 0.34592080286338184\n",
      "MedianAPE: 19.63870650634766\n",
      "\n",
      "###########################################################\n",
      "File: 1169_1.pkl\n",
      "Length on load: 26304\n",
      "Length after agg: 1096\n",
      "Dropped N/A cols: 0\n",
      "Length after blank drop: 1096\n",
      "\n",
      "ARIMA Model...... RMSE: 131.1899255102919\n",
      "RMSE_pct_range: 27.68826894091455\n",
      "MAPE: 0.3719846181407203\n",
      "MedianAPE: 134.33096158734725\n"
     ]
    },
    {
     "name": "stderr",
     "output_type": "stream",
     "text": [
      "INFO:prophet:Disabling yearly seasonality. Run prophet with yearly_seasonality=True to override this.\n"
     ]
    },
    {
     "name": "stdout",
     "output_type": "stream",
     "text": [
      "\n",
      "Prophet...... Tuning Prophet....\n",
      "Tuning Iteration: 0\n"
     ]
    },
    {
     "name": "stderr",
     "output_type": "stream",
     "text": [
      "INFO:prophet:Disabling yearly seasonality. Run prophet with yearly_seasonality=True to override this.\n"
     ]
    },
    {
     "name": "stdout",
     "output_type": "stream",
     "text": [
      "Tuning Iteration: 1\n"
     ]
    },
    {
     "name": "stderr",
     "output_type": "stream",
     "text": [
      "INFO:prophet:Disabling yearly seasonality. Run prophet with yearly_seasonality=True to override this.\n"
     ]
    },
    {
     "name": "stdout",
     "output_type": "stream",
     "text": [
      "Tuning Iteration: 2\n"
     ]
    },
    {
     "name": "stderr",
     "output_type": "stream",
     "text": [
      "INFO:prophet:Disabling yearly seasonality. Run prophet with yearly_seasonality=True to override this.\n"
     ]
    },
    {
     "name": "stdout",
     "output_type": "stream",
     "text": [
      "Tuning Iteration: 3\n"
     ]
    },
    {
     "name": "stderr",
     "output_type": "stream",
     "text": [
      "INFO:prophet:Disabling yearly seasonality. Run prophet with yearly_seasonality=True to override this.\n"
     ]
    },
    {
     "name": "stdout",
     "output_type": "stream",
     "text": [
      "Tuning Iteration: 4\n"
     ]
    },
    {
     "name": "stderr",
     "output_type": "stream",
     "text": [
      "INFO:prophet:Disabling yearly seasonality. Run prophet with yearly_seasonality=True to override this.\n"
     ]
    },
    {
     "name": "stdout",
     "output_type": "stream",
     "text": [
      "Tuning Iteration: 5\n"
     ]
    },
    {
     "name": "stderr",
     "output_type": "stream",
     "text": [
      "INFO:prophet:Disabling yearly seasonality. Run prophet with yearly_seasonality=True to override this.\n"
     ]
    },
    {
     "name": "stdout",
     "output_type": "stream",
     "text": [
      "Tuning Iteration: 6\n"
     ]
    },
    {
     "name": "stderr",
     "output_type": "stream",
     "text": [
      "INFO:prophet:Disabling yearly seasonality. Run prophet with yearly_seasonality=True to override this.\n"
     ]
    },
    {
     "name": "stdout",
     "output_type": "stream",
     "text": [
      "Tuning Iteration: 7\n",
      "Error Metric: MedAEpctRange\n",
      "28.351199812445536\n",
      "RMSE: 164.0597731958771\n",
      "RMSE_pct_range: 34.62560943581393\n",
      "MAPE: 5.037235612943069\n",
      "MedianAPE: 28.351199812445536\n",
      "Best Parameters: \n",
      "{'seasonality_mode': 'multiplicative', 'n_changepoints': 100, 'changepoint_prior_scale': 0.1}\n",
      "XGBoost...... RMSE: 59.03523731751283\n",
      "RMSE_pct_range: 12.459672657636933\n",
      "MAPE: 0.18276434096851665\n",
      "MedianAPE: 37.55371704101563\n",
      "\n",
      "###########################################################\n",
      "File: 1171_0.pkl\n",
      "Length on load: 26304\n",
      "Length after agg: 1096\n",
      "Dropped N/A cols: 0\n",
      "Length after blank drop: 1096\n",
      "\n",
      "ARIMA Model...... RMSE: 59.75597203417375\n",
      "RMSE_pct_range: 31.9601925625361\n",
      "MAPE: 0.3409901130517443\n",
      "MedianAPE: 46.02688099235857\n"
     ]
    },
    {
     "name": "stderr",
     "output_type": "stream",
     "text": [
      "INFO:prophet:Disabling yearly seasonality. Run prophet with yearly_seasonality=True to override this.\n"
     ]
    },
    {
     "name": "stdout",
     "output_type": "stream",
     "text": [
      "\n",
      "Prophet...... Tuning Prophet....\n",
      "Tuning Iteration: 0\n"
     ]
    },
    {
     "name": "stderr",
     "output_type": "stream",
     "text": [
      "INFO:prophet:Disabling yearly seasonality. Run prophet with yearly_seasonality=True to override this.\n"
     ]
    },
    {
     "name": "stdout",
     "output_type": "stream",
     "text": [
      "Tuning Iteration: 1\n"
     ]
    },
    {
     "name": "stderr",
     "output_type": "stream",
     "text": [
      "INFO:prophet:Disabling yearly seasonality. Run prophet with yearly_seasonality=True to override this.\n"
     ]
    },
    {
     "name": "stdout",
     "output_type": "stream",
     "text": [
      "Tuning Iteration: 2\n"
     ]
    },
    {
     "name": "stderr",
     "output_type": "stream",
     "text": [
      "INFO:prophet:Disabling yearly seasonality. Run prophet with yearly_seasonality=True to override this.\n"
     ]
    },
    {
     "name": "stdout",
     "output_type": "stream",
     "text": [
      "Tuning Iteration: 3\n"
     ]
    },
    {
     "name": "stderr",
     "output_type": "stream",
     "text": [
      "INFO:prophet:Disabling yearly seasonality. Run prophet with yearly_seasonality=True to override this.\n"
     ]
    },
    {
     "name": "stdout",
     "output_type": "stream",
     "text": [
      "Tuning Iteration: 4\n"
     ]
    },
    {
     "name": "stderr",
     "output_type": "stream",
     "text": [
      "INFO:prophet:Disabling yearly seasonality. Run prophet with yearly_seasonality=True to override this.\n"
     ]
    },
    {
     "name": "stdout",
     "output_type": "stream",
     "text": [
      "Tuning Iteration: 5\n"
     ]
    },
    {
     "name": "stderr",
     "output_type": "stream",
     "text": [
      "INFO:prophet:Disabling yearly seasonality. Run prophet with yearly_seasonality=True to override this.\n"
     ]
    },
    {
     "name": "stdout",
     "output_type": "stream",
     "text": [
      "Tuning Iteration: 6\n"
     ]
    },
    {
     "name": "stderr",
     "output_type": "stream",
     "text": [
      "INFO:prophet:Disabling yearly seasonality. Run prophet with yearly_seasonality=True to override this.\n"
     ]
    },
    {
     "name": "stdout",
     "output_type": "stream",
     "text": [
      "Tuning Iteration: 7\n",
      "Error Metric: MedAEpctRange\n",
      "24.6172546356948\n",
      "RMSE: 63.687957987372464\n",
      "RMSE_pct_range: 34.063196227936274\n",
      "MAPE: 0.38128251081506015\n",
      "MedianAPE: 24.6172546356948\n",
      "Best Parameters: \n",
      "{'seasonality_mode': 'multiplicative', 'n_changepoints': 100, 'changepoint_prior_scale': 0.1}\n",
      "XGBoost...... RMSE: 57.70173840208831\n",
      "RMSE_pct_range: 30.861495642128844\n",
      "MAPE: 0.31930965574448034\n",
      "MedianAPE: 35.495312988281256\n",
      "\n",
      "###########################################################\n",
      "File: 1178_0.pkl\n",
      "Length on load: 26304\n",
      "Length after agg: 1096\n",
      "Dropped N/A cols: 0\n",
      "Length after blank drop: 1096\n",
      "\n",
      "ARIMA Model...... RMSE: 18.46629204325778\n",
      "RMSE_pct_range: 34.722497143341855\n",
      "MAPE: 0.12390009716897431\n",
      "MedianAPE: 16.720381081349785\n"
     ]
    },
    {
     "name": "stderr",
     "output_type": "stream",
     "text": [
      "INFO:prophet:Disabling yearly seasonality. Run prophet with yearly_seasonality=True to override this.\n"
     ]
    },
    {
     "name": "stdout",
     "output_type": "stream",
     "text": [
      "\n",
      "Prophet...... Tuning Prophet....\n",
      "Tuning Iteration: 0\n"
     ]
    },
    {
     "name": "stderr",
     "output_type": "stream",
     "text": [
      "INFO:prophet:Disabling yearly seasonality. Run prophet with yearly_seasonality=True to override this.\n"
     ]
    },
    {
     "name": "stdout",
     "output_type": "stream",
     "text": [
      "Tuning Iteration: 1\n"
     ]
    },
    {
     "name": "stderr",
     "output_type": "stream",
     "text": [
      "INFO:prophet:Disabling yearly seasonality. Run prophet with yearly_seasonality=True to override this.\n"
     ]
    },
    {
     "name": "stdout",
     "output_type": "stream",
     "text": [
      "Tuning Iteration: 2\n"
     ]
    },
    {
     "name": "stderr",
     "output_type": "stream",
     "text": [
      "INFO:prophet:Disabling yearly seasonality. Run prophet with yearly_seasonality=True to override this.\n"
     ]
    },
    {
     "name": "stdout",
     "output_type": "stream",
     "text": [
      "Tuning Iteration: 3\n"
     ]
    },
    {
     "name": "stderr",
     "output_type": "stream",
     "text": [
      "INFO:prophet:Disabling yearly seasonality. Run prophet with yearly_seasonality=True to override this.\n"
     ]
    },
    {
     "name": "stdout",
     "output_type": "stream",
     "text": [
      "Tuning Iteration: 4\n"
     ]
    },
    {
     "name": "stderr",
     "output_type": "stream",
     "text": [
      "INFO:prophet:Disabling yearly seasonality. Run prophet with yearly_seasonality=True to override this.\n"
     ]
    },
    {
     "name": "stdout",
     "output_type": "stream",
     "text": [
      "Tuning Iteration: 5\n"
     ]
    },
    {
     "name": "stderr",
     "output_type": "stream",
     "text": [
      "INFO:prophet:Disabling yearly seasonality. Run prophet with yearly_seasonality=True to override this.\n"
     ]
    },
    {
     "name": "stdout",
     "output_type": "stream",
     "text": [
      "Tuning Iteration: 6\n"
     ]
    },
    {
     "name": "stderr",
     "output_type": "stream",
     "text": [
      "INFO:prophet:Disabling yearly seasonality. Run prophet with yearly_seasonality=True to override this.\n"
     ]
    },
    {
     "name": "stdout",
     "output_type": "stream",
     "text": [
      "Tuning Iteration: 7\n",
      "Error Metric: MedAEpctRange\n",
      "31.439629730362036\n",
      "RMSE: 11.752535067381208\n",
      "RMSE_pct_range: 22.098500573273558\n",
      "MAPE: 0.07967332998620953\n",
      "MedianAPE: 31.439629730362036\n",
      "Best Parameters: \n",
      "{'seasonality_mode': 'multiplicative', 'n_changepoints': 100, 'changepoint_prior_scale': 0.1}\n",
      "XGBoost...... RMSE: 12.87891234242097\n",
      "RMSE_pct_range: 24.216447783426826\n",
      "MAPE: 0.08268791334065838\n",
      "MedianAPE: 7.66929315185547\n",
      "\n",
      "###########################################################\n",
      "File: 1179_1.pkl\n",
      "Length on load: 26304\n",
      "Length after agg: 1096\n",
      "Dropped N/A cols: 0\n",
      "Length after blank drop: 1096\n",
      "\n",
      "ARIMA Model...... RMSE: 133.03195246897567\n",
      "RMSE_pct_range: 35.107105705058636\n",
      "MAPE: 0.43094881543616276\n",
      "MedianAPE: 109.36962787254691\n"
     ]
    },
    {
     "name": "stderr",
     "output_type": "stream",
     "text": [
      "INFO:prophet:Disabling yearly seasonality. Run prophet with yearly_seasonality=True to override this.\n"
     ]
    },
    {
     "name": "stdout",
     "output_type": "stream",
     "text": [
      "\n",
      "Prophet...... Tuning Prophet....\n",
      "Tuning Iteration: 0\n"
     ]
    },
    {
     "name": "stderr",
     "output_type": "stream",
     "text": [
      "INFO:prophet:Disabling yearly seasonality. Run prophet with yearly_seasonality=True to override this.\n"
     ]
    },
    {
     "name": "stdout",
     "output_type": "stream",
     "text": [
      "Tuning Iteration: 1\n"
     ]
    },
    {
     "name": "stderr",
     "output_type": "stream",
     "text": [
      "INFO:prophet:Disabling yearly seasonality. Run prophet with yearly_seasonality=True to override this.\n"
     ]
    },
    {
     "name": "stdout",
     "output_type": "stream",
     "text": [
      "Tuning Iteration: 2\n"
     ]
    },
    {
     "name": "stderr",
     "output_type": "stream",
     "text": [
      "INFO:prophet:Disabling yearly seasonality. Run prophet with yearly_seasonality=True to override this.\n"
     ]
    },
    {
     "name": "stdout",
     "output_type": "stream",
     "text": [
      "Tuning Iteration: 3\n"
     ]
    },
    {
     "name": "stderr",
     "output_type": "stream",
     "text": [
      "INFO:prophet:Disabling yearly seasonality. Run prophet with yearly_seasonality=True to override this.\n"
     ]
    },
    {
     "name": "stdout",
     "output_type": "stream",
     "text": [
      "Tuning Iteration: 4\n"
     ]
    },
    {
     "name": "stderr",
     "output_type": "stream",
     "text": [
      "INFO:prophet:Disabling yearly seasonality. Run prophet with yearly_seasonality=True to override this.\n"
     ]
    },
    {
     "name": "stdout",
     "output_type": "stream",
     "text": [
      "Tuning Iteration: 5\n"
     ]
    },
    {
     "name": "stderr",
     "output_type": "stream",
     "text": [
      "INFO:prophet:Disabling yearly seasonality. Run prophet with yearly_seasonality=True to override this.\n"
     ]
    },
    {
     "name": "stdout",
     "output_type": "stream",
     "text": [
      "Tuning Iteration: 6\n"
     ]
    },
    {
     "name": "stderr",
     "output_type": "stream",
     "text": [
      "INFO:prophet:Disabling yearly seasonality. Run prophet with yearly_seasonality=True to override this.\n"
     ]
    },
    {
     "name": "stdout",
     "output_type": "stream",
     "text": [
      "Tuning Iteration: 7\n",
      "Error Metric: MedAEpctRange\n",
      "28.86262296676338\n",
      "RMSE: 85.86064361553727\n",
      "RMSE_pct_range: 22.65860671343603\n",
      "MAPE: 0.3095353311891292\n",
      "MedianAPE: 28.86262296676338\n",
      "Best Parameters: \n",
      "{'seasonality_mode': 'multiplicative', 'n_changepoints': 100, 'changepoint_prior_scale': 0.1}\n",
      "XGBoost...... RMSE: 91.40303357313563\n",
      "RMSE_pct_range: 24.121242317054925\n",
      "MAPE: 0.42590426220884275\n",
      "MedianAPE: 58.73079077148441\n",
      "\n",
      "###########################################################\n",
      "File: 1180_2.pkl\n",
      "Length on load: 26304\n",
      "Length after agg: 1096\n",
      "Dropped N/A cols: 0\n",
      "Length after blank drop: 1096\n",
      "\n",
      "ARIMA Model...... RMSE: 489.5183352550846\n",
      "RMSE_pct_range: 22.652398669832696\n",
      "MAPE: 0.3188046886187926\n",
      "MedianAPE: 296.6061725697814\n"
     ]
    },
    {
     "name": "stderr",
     "output_type": "stream",
     "text": [
      "INFO:prophet:Disabling yearly seasonality. Run prophet with yearly_seasonality=True to override this.\n"
     ]
    },
    {
     "name": "stdout",
     "output_type": "stream",
     "text": [
      "\n",
      "Prophet...... Tuning Prophet....\n",
      "Tuning Iteration: 0\n"
     ]
    },
    {
     "name": "stderr",
     "output_type": "stream",
     "text": [
      "INFO:prophet:Disabling yearly seasonality. Run prophet with yearly_seasonality=True to override this.\n"
     ]
    },
    {
     "name": "stdout",
     "output_type": "stream",
     "text": [
      "Tuning Iteration: 1\n"
     ]
    },
    {
     "name": "stderr",
     "output_type": "stream",
     "text": [
      "INFO:prophet:Disabling yearly seasonality. Run prophet with yearly_seasonality=True to override this.\n"
     ]
    },
    {
     "name": "stdout",
     "output_type": "stream",
     "text": [
      "Tuning Iteration: 2\n"
     ]
    },
    {
     "name": "stderr",
     "output_type": "stream",
     "text": [
      "INFO:prophet:Disabling yearly seasonality. Run prophet with yearly_seasonality=True to override this.\n"
     ]
    },
    {
     "name": "stdout",
     "output_type": "stream",
     "text": [
      "Tuning Iteration: 3\n"
     ]
    },
    {
     "name": "stderr",
     "output_type": "stream",
     "text": [
      "INFO:prophet:Disabling yearly seasonality. Run prophet with yearly_seasonality=True to override this.\n"
     ]
    },
    {
     "name": "stdout",
     "output_type": "stream",
     "text": [
      "Tuning Iteration: 4\n"
     ]
    },
    {
     "name": "stderr",
     "output_type": "stream",
     "text": [
      "INFO:prophet:Disabling yearly seasonality. Run prophet with yearly_seasonality=True to override this.\n"
     ]
    },
    {
     "name": "stdout",
     "output_type": "stream",
     "text": [
      "Tuning Iteration: 5\n"
     ]
    },
    {
     "name": "stderr",
     "output_type": "stream",
     "text": [
      "INFO:prophet:Disabling yearly seasonality. Run prophet with yearly_seasonality=True to override this.\n"
     ]
    },
    {
     "name": "stdout",
     "output_type": "stream",
     "text": [
      "Tuning Iteration: 6\n"
     ]
    },
    {
     "name": "stderr",
     "output_type": "stream",
     "text": [
      "INFO:prophet:Disabling yearly seasonality. Run prophet with yearly_seasonality=True to override this.\n"
     ]
    },
    {
     "name": "stdout",
     "output_type": "stream",
     "text": [
      "Tuning Iteration: 7\n",
      "Error Metric: MedAEpctRange\n",
      "13.725412890781186\n",
      "RMSE: 780.3803087745085\n",
      "RMSE_pct_range: 36.11199948054181\n",
      "MAPE: 0.538399626620596\n",
      "MedianAPE: 13.725412890781186\n",
      "Best Parameters: \n",
      "{'seasonality_mode': 'multiplicative', 'n_changepoints': 100, 'changepoint_prior_scale': 0.1}\n",
      "XGBoost...... RMSE: 474.5209889395732\n",
      "RMSE_pct_range: 21.95839837758321\n",
      "MAPE: 0.2548352622862075\n",
      "MedianAPE: 235.130859375\n",
      "\n",
      "###########################################################\n",
      "File: 1183_0.pkl\n",
      "Length on load: 26304\n",
      "Length after agg: 1096\n",
      "Dropped N/A cols: 0\n",
      "Length after blank drop: 1096\n",
      "\n",
      "ARIMA Model...... RMSE: 66.5370157774811\n",
      "RMSE_pct_range: 41.47365598975335\n",
      "MAPE: 0.21819599688135713\n",
      "MedianAPE: 53.85759634654846\n"
     ]
    },
    {
     "name": "stderr",
     "output_type": "stream",
     "text": [
      "INFO:prophet:Disabling yearly seasonality. Run prophet with yearly_seasonality=True to override this.\n"
     ]
    },
    {
     "name": "stdout",
     "output_type": "stream",
     "text": [
      "\n",
      "Prophet...... Tuning Prophet....\n",
      "Tuning Iteration: 0\n"
     ]
    },
    {
     "name": "stderr",
     "output_type": "stream",
     "text": [
      "INFO:prophet:Disabling yearly seasonality. Run prophet with yearly_seasonality=True to override this.\n"
     ]
    },
    {
     "name": "stdout",
     "output_type": "stream",
     "text": [
      "Tuning Iteration: 1\n"
     ]
    },
    {
     "name": "stderr",
     "output_type": "stream",
     "text": [
      "INFO:prophet:Disabling yearly seasonality. Run prophet with yearly_seasonality=True to override this.\n"
     ]
    },
    {
     "name": "stdout",
     "output_type": "stream",
     "text": [
      "Tuning Iteration: 2\n"
     ]
    },
    {
     "name": "stderr",
     "output_type": "stream",
     "text": [
      "INFO:prophet:Disabling yearly seasonality. Run prophet with yearly_seasonality=True to override this.\n"
     ]
    },
    {
     "name": "stdout",
     "output_type": "stream",
     "text": [
      "Tuning Iteration: 3\n"
     ]
    },
    {
     "name": "stderr",
     "output_type": "stream",
     "text": [
      "INFO:prophet:Disabling yearly seasonality. Run prophet with yearly_seasonality=True to override this.\n"
     ]
    },
    {
     "name": "stdout",
     "output_type": "stream",
     "text": [
      "Tuning Iteration: 4\n"
     ]
    },
    {
     "name": "stderr",
     "output_type": "stream",
     "text": [
      "INFO:prophet:Disabling yearly seasonality. Run prophet with yearly_seasonality=True to override this.\n"
     ]
    },
    {
     "name": "stdout",
     "output_type": "stream",
     "text": [
      "Tuning Iteration: 5\n"
     ]
    },
    {
     "name": "stderr",
     "output_type": "stream",
     "text": [
      "INFO:prophet:Disabling yearly seasonality. Run prophet with yearly_seasonality=True to override this.\n"
     ]
    },
    {
     "name": "stdout",
     "output_type": "stream",
     "text": [
      "Tuning Iteration: 6\n"
     ]
    },
    {
     "name": "stderr",
     "output_type": "stream",
     "text": [
      "INFO:prophet:Disabling yearly seasonality. Run prophet with yearly_seasonality=True to override this.\n"
     ]
    },
    {
     "name": "stdout",
     "output_type": "stream",
     "text": [
      "Tuning Iteration: 7\n",
      "Error Metric: MedAEpctRange\n",
      "33.570357750665984\n",
      "RMSE: 88.11345224253627\n",
      "RMSE_pct_range: 54.9226165868008\n",
      "MAPE: 0.33083935578711676\n",
      "MedianAPE: 33.570357750665984\n",
      "Best Parameters: \n",
      "{'seasonality_mode': 'multiplicative', 'n_changepoints': 100, 'changepoint_prior_scale': 0.1}\n",
      "XGBoost...... RMSE: 38.37042268631782\n",
      "RMSE_pct_range: 23.91693844514674\n",
      "MAPE: 0.09557433117439987\n",
      "MedianAPE: 29.562331787109372\n",
      "\n",
      "###########################################################\n",
      "File: 1184_0.pkl\n",
      "Length on load: 26304\n",
      "Length after agg: 1096\n",
      "Dropped N/A cols: 0\n",
      "Length after blank drop: 1096\n",
      "\n",
      "ARIMA Model...... RMSE: 21.827702803585744\n",
      "RMSE_pct_range: 70.15395900104694\n",
      "MAPE: 0.284831265381675\n",
      "MedianAPE: 22.882964388842936\n"
     ]
    },
    {
     "name": "stderr",
     "output_type": "stream",
     "text": [
      "INFO:prophet:Disabling yearly seasonality. Run prophet with yearly_seasonality=True to override this.\n"
     ]
    },
    {
     "name": "stdout",
     "output_type": "stream",
     "text": [
      "\n",
      "Prophet...... Tuning Prophet....\n",
      "Tuning Iteration: 0\n"
     ]
    },
    {
     "name": "stderr",
     "output_type": "stream",
     "text": [
      "INFO:prophet:Disabling yearly seasonality. Run prophet with yearly_seasonality=True to override this.\n"
     ]
    },
    {
     "name": "stdout",
     "output_type": "stream",
     "text": [
      "Tuning Iteration: 1\n"
     ]
    },
    {
     "name": "stderr",
     "output_type": "stream",
     "text": [
      "INFO:prophet:Disabling yearly seasonality. Run prophet with yearly_seasonality=True to override this.\n"
     ]
    },
    {
     "name": "stdout",
     "output_type": "stream",
     "text": [
      "Tuning Iteration: 2\n"
     ]
    },
    {
     "name": "stderr",
     "output_type": "stream",
     "text": [
      "INFO:prophet:Disabling yearly seasonality. Run prophet with yearly_seasonality=True to override this.\n"
     ]
    },
    {
     "name": "stdout",
     "output_type": "stream",
     "text": [
      "Tuning Iteration: 3\n"
     ]
    },
    {
     "name": "stderr",
     "output_type": "stream",
     "text": [
      "INFO:prophet:Disabling yearly seasonality. Run prophet with yearly_seasonality=True to override this.\n"
     ]
    },
    {
     "name": "stdout",
     "output_type": "stream",
     "text": [
      "Tuning Iteration: 4\n"
     ]
    },
    {
     "name": "stderr",
     "output_type": "stream",
     "text": [
      "INFO:prophet:Disabling yearly seasonality. Run prophet with yearly_seasonality=True to override this.\n"
     ]
    },
    {
     "name": "stdout",
     "output_type": "stream",
     "text": [
      "Tuning Iteration: 5\n"
     ]
    },
    {
     "name": "stderr",
     "output_type": "stream",
     "text": [
      "INFO:prophet:Disabling yearly seasonality. Run prophet with yearly_seasonality=True to override this.\n"
     ]
    },
    {
     "name": "stdout",
     "output_type": "stream",
     "text": [
      "Tuning Iteration: 6\n"
     ]
    },
    {
     "name": "stderr",
     "output_type": "stream",
     "text": [
      "INFO:prophet:Disabling yearly seasonality. Run prophet with yearly_seasonality=True to override this.\n"
     ]
    },
    {
     "name": "stdout",
     "output_type": "stream",
     "text": [
      "Tuning Iteration: 7\n",
      "Error Metric: MedAEpctRange\n",
      "73.54555630533824\n",
      "RMSE: 6.962310197420772\n",
      "RMSE_pct_range: 22.376776362475965\n",
      "MAPE: 0.10359032198371237\n",
      "MedianAPE: 73.54555630533824\n",
      "Best Parameters: \n",
      "{'seasonality_mode': 'multiplicative', 'n_changepoints': 100, 'changepoint_prior_scale': 0.1}\n",
      "XGBoost...... RMSE: 11.226596237051615\n",
      "RMSE_pct_range: 36.08213742061971\n",
      "MAPE: 0.137948700350325\n",
      "MedianAPE: 5.9593300781250065\n",
      "\n",
      "###########################################################\n",
      "File: 1188_0.pkl\n",
      "Length on load: 26304\n",
      "Length after agg: 1096\n",
      "Dropped N/A cols: 0\n",
      "Length after blank drop: 1096\n",
      "\n",
      "ARIMA Model...... RMSE: 7.6713561246405915\n",
      "RMSE_pct_range: 45.989965076829776\n",
      "MAPE: 0.16022106826001384\n",
      "MedianAPE: 3.9499251409781664\n"
     ]
    },
    {
     "name": "stderr",
     "output_type": "stream",
     "text": [
      "INFO:prophet:Disabling yearly seasonality. Run prophet with yearly_seasonality=True to override this.\n"
     ]
    },
    {
     "name": "stdout",
     "output_type": "stream",
     "text": [
      "\n",
      "Prophet...... Tuning Prophet....\n",
      "Tuning Iteration: 0\n"
     ]
    },
    {
     "name": "stderr",
     "output_type": "stream",
     "text": [
      "INFO:prophet:Disabling yearly seasonality. Run prophet with yearly_seasonality=True to override this.\n"
     ]
    },
    {
     "name": "stdout",
     "output_type": "stream",
     "text": [
      "Tuning Iteration: 1\n"
     ]
    },
    {
     "name": "stderr",
     "output_type": "stream",
     "text": [
      "INFO:prophet:Disabling yearly seasonality. Run prophet with yearly_seasonality=True to override this.\n"
     ]
    },
    {
     "name": "stdout",
     "output_type": "stream",
     "text": [
      "Tuning Iteration: 2\n"
     ]
    },
    {
     "name": "stderr",
     "output_type": "stream",
     "text": [
      "INFO:prophet:Disabling yearly seasonality. Run prophet with yearly_seasonality=True to override this.\n"
     ]
    },
    {
     "name": "stdout",
     "output_type": "stream",
     "text": [
      "Tuning Iteration: 3\n"
     ]
    },
    {
     "name": "stderr",
     "output_type": "stream",
     "text": [
      "INFO:prophet:Disabling yearly seasonality. Run prophet with yearly_seasonality=True to override this.\n"
     ]
    },
    {
     "name": "stdout",
     "output_type": "stream",
     "text": [
      "Tuning Iteration: 4\n"
     ]
    },
    {
     "name": "stderr",
     "output_type": "stream",
     "text": [
      "INFO:prophet:Disabling yearly seasonality. Run prophet with yearly_seasonality=True to override this.\n"
     ]
    },
    {
     "name": "stdout",
     "output_type": "stream",
     "text": [
      "Tuning Iteration: 5\n"
     ]
    },
    {
     "name": "stderr",
     "output_type": "stream",
     "text": [
      "INFO:prophet:Disabling yearly seasonality. Run prophet with yearly_seasonality=True to override this.\n"
     ]
    },
    {
     "name": "stdout",
     "output_type": "stream",
     "text": [
      "Tuning Iteration: 6\n"
     ]
    },
    {
     "name": "stderr",
     "output_type": "stream",
     "text": [
      "INFO:prophet:Disabling yearly seasonality. Run prophet with yearly_seasonality=True to override this.\n"
     ]
    },
    {
     "name": "stdout",
     "output_type": "stream",
     "text": [
      "Tuning Iteration: 7\n",
      "Error Metric: MedAEpctRange\n",
      "23.679896531747644\n",
      "RMSE: 4.4345589718026455\n",
      "RMSE_pct_range: 26.585288041741222\n",
      "MAPE: 0.1196754986932517\n",
      "MedianAPE: 23.679896531747644\n",
      "Best Parameters: \n",
      "{'seasonality_mode': 'multiplicative', 'n_changepoints': 100, 'changepoint_prior_scale': 0.1}\n",
      "XGBoost...... RMSE: 4.305143167177322\n",
      "RMSE_pct_range: 25.80943717021265\n",
      "MAPE: 0.10296888178733055\n",
      "MedianAPE: 2.292152832031249\n",
      "\n",
      "###########################################################\n",
      "File: 1196_0.pkl\n",
      "Length on load: 26304\n",
      "Length after agg: 1096\n",
      "Dropped N/A cols: 0\n",
      "Length after blank drop: 1096\n",
      "\n",
      "ARIMA Model...... RMSE: 16.781725033405795\n",
      "RMSE_pct_range: 25.475297775931192\n",
      "MAPE: 0.15352877867669523\n",
      "MedianAPE: 15.91316671200289\n"
     ]
    },
    {
     "name": "stderr",
     "output_type": "stream",
     "text": [
      "INFO:prophet:Disabling yearly seasonality. Run prophet with yearly_seasonality=True to override this.\n"
     ]
    },
    {
     "name": "stdout",
     "output_type": "stream",
     "text": [
      "\n",
      "Prophet...... Tuning Prophet....\n",
      "Tuning Iteration: 0\n"
     ]
    },
    {
     "name": "stderr",
     "output_type": "stream",
     "text": [
      "INFO:prophet:Disabling yearly seasonality. Run prophet with yearly_seasonality=True to override this.\n"
     ]
    },
    {
     "name": "stdout",
     "output_type": "stream",
     "text": [
      "Tuning Iteration: 1\n"
     ]
    },
    {
     "name": "stderr",
     "output_type": "stream",
     "text": [
      "INFO:prophet:Disabling yearly seasonality. Run prophet with yearly_seasonality=True to override this.\n"
     ]
    },
    {
     "name": "stdout",
     "output_type": "stream",
     "text": [
      "Tuning Iteration: 2\n"
     ]
    },
    {
     "name": "stderr",
     "output_type": "stream",
     "text": [
      "INFO:prophet:Disabling yearly seasonality. Run prophet with yearly_seasonality=True to override this.\n"
     ]
    },
    {
     "name": "stdout",
     "output_type": "stream",
     "text": [
      "Tuning Iteration: 3\n"
     ]
    },
    {
     "name": "stderr",
     "output_type": "stream",
     "text": [
      "INFO:prophet:Disabling yearly seasonality. Run prophet with yearly_seasonality=True to override this.\n"
     ]
    },
    {
     "name": "stdout",
     "output_type": "stream",
     "text": [
      "Tuning Iteration: 4\n"
     ]
    },
    {
     "name": "stderr",
     "output_type": "stream",
     "text": [
      "INFO:prophet:Disabling yearly seasonality. Run prophet with yearly_seasonality=True to override this.\n"
     ]
    },
    {
     "name": "stdout",
     "output_type": "stream",
     "text": [
      "Tuning Iteration: 5\n"
     ]
    },
    {
     "name": "stderr",
     "output_type": "stream",
     "text": [
      "INFO:prophet:Disabling yearly seasonality. Run prophet with yearly_seasonality=True to override this.\n"
     ]
    },
    {
     "name": "stdout",
     "output_type": "stream",
     "text": [
      "Tuning Iteration: 6\n"
     ]
    },
    {
     "name": "stderr",
     "output_type": "stream",
     "text": [
      "INFO:prophet:Disabling yearly seasonality. Run prophet with yearly_seasonality=True to override this.\n"
     ]
    },
    {
     "name": "stdout",
     "output_type": "stream",
     "text": [
      "Tuning Iteration: 7\n",
      "Error Metric: MedAEpctRange\n",
      "24.15679316276084\n",
      "RMSE: 12.07823203325794\n",
      "RMSE_pct_range: 18.335216257061443\n",
      "MAPE: 0.1107344547458346\n",
      "MedianAPE: 24.15679316276084\n",
      "Best Parameters: \n",
      "{'seasonality_mode': 'multiplicative', 'n_changepoints': 100, 'changepoint_prior_scale': 0.1}\n",
      "XGBoost...... RMSE: 10.567072144819448\n",
      "RMSE_pct_range: 16.041217989995292\n",
      "MAPE: 0.09507203072213023\n",
      "MedianAPE: 8.44194293212891\n",
      "\n",
      "###########################################################\n",
      "File: 1197_0.pkl\n",
      "Length on load: 26304\n",
      "Length after agg: 1096\n",
      "Dropped N/A cols: 0\n",
      "Length after blank drop: 1096\n",
      "\n",
      "ARIMA Model...... RMSE: 26.8411349929209\n",
      "RMSE_pct_range: 26.455545418447024\n",
      "MAPE: 0.10012364853490667\n",
      "MedianAPE: 19.8278314920575\n"
     ]
    },
    {
     "name": "stderr",
     "output_type": "stream",
     "text": [
      "INFO:prophet:Disabling yearly seasonality. Run prophet with yearly_seasonality=True to override this.\n"
     ]
    },
    {
     "name": "stdout",
     "output_type": "stream",
     "text": [
      "\n",
      "Prophet...... Tuning Prophet....\n",
      "Tuning Iteration: 0\n"
     ]
    },
    {
     "name": "stderr",
     "output_type": "stream",
     "text": [
      "INFO:prophet:Disabling yearly seasonality. Run prophet with yearly_seasonality=True to override this.\n"
     ]
    },
    {
     "name": "stdout",
     "output_type": "stream",
     "text": [
      "Tuning Iteration: 1\n"
     ]
    },
    {
     "name": "stderr",
     "output_type": "stream",
     "text": [
      "INFO:prophet:Disabling yearly seasonality. Run prophet with yearly_seasonality=True to override this.\n"
     ]
    },
    {
     "name": "stdout",
     "output_type": "stream",
     "text": [
      "Tuning Iteration: 2\n"
     ]
    },
    {
     "name": "stderr",
     "output_type": "stream",
     "text": [
      "INFO:prophet:Disabling yearly seasonality. Run prophet with yearly_seasonality=True to override this.\n"
     ]
    },
    {
     "name": "stdout",
     "output_type": "stream",
     "text": [
      "Tuning Iteration: 3\n"
     ]
    },
    {
     "name": "stderr",
     "output_type": "stream",
     "text": [
      "INFO:prophet:Disabling yearly seasonality. Run prophet with yearly_seasonality=True to override this.\n"
     ]
    },
    {
     "name": "stdout",
     "output_type": "stream",
     "text": [
      "Tuning Iteration: 4\n"
     ]
    },
    {
     "name": "stderr",
     "output_type": "stream",
     "text": [
      "INFO:prophet:Disabling yearly seasonality. Run prophet with yearly_seasonality=True to override this.\n"
     ]
    },
    {
     "name": "stdout",
     "output_type": "stream",
     "text": [
      "Tuning Iteration: 5\n"
     ]
    },
    {
     "name": "stderr",
     "output_type": "stream",
     "text": [
      "INFO:prophet:Disabling yearly seasonality. Run prophet with yearly_seasonality=True to override this.\n"
     ]
    },
    {
     "name": "stdout",
     "output_type": "stream",
     "text": [
      "Tuning Iteration: 6\n"
     ]
    },
    {
     "name": "stderr",
     "output_type": "stream",
     "text": [
      "INFO:prophet:Disabling yearly seasonality. Run prophet with yearly_seasonality=True to override this.\n"
     ]
    },
    {
     "name": "stdout",
     "output_type": "stream",
     "text": [
      "Tuning Iteration: 7\n",
      "Error Metric: MedAEpctRange\n",
      "19.542992378146014\n",
      "RMSE: 28.733956667786504\n",
      "RMSE_pct_range: 28.321175534373005\n",
      "MAPE: 0.10602817407536651\n",
      "MedianAPE: 19.542992378146014\n",
      "Best Parameters: \n",
      "{'seasonality_mode': 'multiplicative', 'n_changepoints': 100, 'changepoint_prior_scale': 0.1}\n",
      "XGBoost...... RMSE: 31.463036981275422\n",
      "RMSE_pct_range: 31.011050914200933\n",
      "MAPE: 0.11790454079259592\n",
      "MedianAPE: 27.626710571289067\n",
      "\n",
      "###########################################################\n",
      "File: 1198_2.pkl\n",
      "Length on load: 26304\n",
      "Length after agg: 1096\n",
      "Dropped N/A cols: 0\n",
      "Length after blank drop: 1096\n",
      "\n",
      "ARIMA Model...... RMSE: 831.3362939400505\n",
      "RMSE_pct_range: 48.14979440014772\n",
      "MAPE: 0.9876225613869443\n",
      "MedianAPE: 494.97073300647537\n"
     ]
    },
    {
     "name": "stderr",
     "output_type": "stream",
     "text": [
      "INFO:prophet:Disabling yearly seasonality. Run prophet with yearly_seasonality=True to override this.\n"
     ]
    },
    {
     "name": "stdout",
     "output_type": "stream",
     "text": [
      "\n",
      "Prophet...... Tuning Prophet....\n",
      "Tuning Iteration: 0\n"
     ]
    },
    {
     "name": "stderr",
     "output_type": "stream",
     "text": [
      "INFO:prophet:Disabling yearly seasonality. Run prophet with yearly_seasonality=True to override this.\n"
     ]
    },
    {
     "name": "stdout",
     "output_type": "stream",
     "text": [
      "Tuning Iteration: 1\n"
     ]
    },
    {
     "name": "stderr",
     "output_type": "stream",
     "text": [
      "INFO:prophet:Disabling yearly seasonality. Run prophet with yearly_seasonality=True to override this.\n"
     ]
    },
    {
     "name": "stdout",
     "output_type": "stream",
     "text": [
      "Tuning Iteration: 2\n"
     ]
    },
    {
     "name": "stderr",
     "output_type": "stream",
     "text": [
      "INFO:prophet:Disabling yearly seasonality. Run prophet with yearly_seasonality=True to override this.\n"
     ]
    },
    {
     "name": "stdout",
     "output_type": "stream",
     "text": [
      "Tuning Iteration: 3\n"
     ]
    },
    {
     "name": "stderr",
     "output_type": "stream",
     "text": [
      "INFO:prophet:Disabling yearly seasonality. Run prophet with yearly_seasonality=True to override this.\n"
     ]
    },
    {
     "name": "stdout",
     "output_type": "stream",
     "text": [
      "Tuning Iteration: 4\n"
     ]
    },
    {
     "name": "stderr",
     "output_type": "stream",
     "text": [
      "INFO:prophet:Disabling yearly seasonality. Run prophet with yearly_seasonality=True to override this.\n"
     ]
    },
    {
     "name": "stdout",
     "output_type": "stream",
     "text": [
      "Tuning Iteration: 5\n"
     ]
    },
    {
     "name": "stderr",
     "output_type": "stream",
     "text": [
      "INFO:prophet:Disabling yearly seasonality. Run prophet with yearly_seasonality=True to override this.\n"
     ]
    },
    {
     "name": "stdout",
     "output_type": "stream",
     "text": [
      "Tuning Iteration: 6\n"
     ]
    },
    {
     "name": "stderr",
     "output_type": "stream",
     "text": [
      "INFO:prophet:Disabling yearly seasonality. Run prophet with yearly_seasonality=True to override this.\n"
     ]
    },
    {
     "name": "stdout",
     "output_type": "stream",
     "text": [
      "Tuning Iteration: 7\n",
      "Error Metric: MedAEpctRange\n",
      "28.667988156031154\n",
      "RMSE: 771.5269379168287\n",
      "RMSE_pct_range: 44.68572310106519\n",
      "MAPE: 0.758278848197117\n",
      "MedianAPE: 28.667988156031154\n",
      "Best Parameters: \n",
      "{'seasonality_mode': 'multiplicative', 'n_changepoints': 100, 'changepoint_prior_scale': 0.1}\n",
      "XGBoost...... RMSE: 853.7124725270224\n",
      "RMSE_pct_range: 49.44579026400854\n",
      "MAPE: 0.9643276175209115\n",
      "MedianAPE: 448.43039306640617\n",
      "\n",
      "###########################################################\n",
      "File: 1199_0.pkl\n",
      "Length on load: 26304\n",
      "Length after agg: 1096\n",
      "Dropped N/A cols: 0\n",
      "Length after blank drop: 1096\n",
      "\n",
      "ARIMA Model...... RMSE: 2.908245517854861\n",
      "RMSE_pct_range: 54.38514292388711\n",
      "MAPE: 0.14050573370238906\n",
      "MedianAPE: 2.7561092551156428\n"
     ]
    },
    {
     "name": "stderr",
     "output_type": "stream",
     "text": [
      "INFO:prophet:Disabling yearly seasonality. Run prophet with yearly_seasonality=True to override this.\n"
     ]
    },
    {
     "name": "stdout",
     "output_type": "stream",
     "text": [
      "\n",
      "Prophet...... Tuning Prophet....\n",
      "Tuning Iteration: 0\n"
     ]
    },
    {
     "name": "stderr",
     "output_type": "stream",
     "text": [
      "INFO:prophet:Disabling yearly seasonality. Run prophet with yearly_seasonality=True to override this.\n"
     ]
    },
    {
     "name": "stdout",
     "output_type": "stream",
     "text": [
      "Tuning Iteration: 1\n"
     ]
    },
    {
     "name": "stderr",
     "output_type": "stream",
     "text": [
      "INFO:prophet:Disabling yearly seasonality. Run prophet with yearly_seasonality=True to override this.\n"
     ]
    },
    {
     "name": "stdout",
     "output_type": "stream",
     "text": [
      "Tuning Iteration: 2\n"
     ]
    },
    {
     "name": "stderr",
     "output_type": "stream",
     "text": [
      "INFO:prophet:Disabling yearly seasonality. Run prophet with yearly_seasonality=True to override this.\n"
     ]
    },
    {
     "name": "stdout",
     "output_type": "stream",
     "text": [
      "Tuning Iteration: 3\n"
     ]
    },
    {
     "name": "stderr",
     "output_type": "stream",
     "text": [
      "INFO:prophet:Disabling yearly seasonality. Run prophet with yearly_seasonality=True to override this.\n"
     ]
    },
    {
     "name": "stdout",
     "output_type": "stream",
     "text": [
      "Tuning Iteration: 4\n"
     ]
    },
    {
     "name": "stderr",
     "output_type": "stream",
     "text": [
      "INFO:prophet:Disabling yearly seasonality. Run prophet with yearly_seasonality=True to override this.\n"
     ]
    },
    {
     "name": "stdout",
     "output_type": "stream",
     "text": [
      "Tuning Iteration: 5\n"
     ]
    },
    {
     "name": "stderr",
     "output_type": "stream",
     "text": [
      "INFO:prophet:Disabling yearly seasonality. Run prophet with yearly_seasonality=True to override this.\n"
     ]
    },
    {
     "name": "stdout",
     "output_type": "stream",
     "text": [
      "Tuning Iteration: 6\n"
     ]
    },
    {
     "name": "stderr",
     "output_type": "stream",
     "text": [
      "INFO:prophet:Disabling yearly seasonality. Run prophet with yearly_seasonality=True to override this.\n"
     ]
    },
    {
     "name": "stdout",
     "output_type": "stream",
     "text": [
      "Tuning Iteration: 7\n",
      "Error Metric: MedAEpctRange\n",
      "51.54014502320046\n",
      "RMSE: 1.4529997363003613\n",
      "RMSE_pct_range: 27.17157057130177\n",
      "MAPE: 0.07118503094318208\n",
      "MedianAPE: 51.54014502320046\n",
      "Best Parameters: \n",
      "{'seasonality_mode': 'multiplicative', 'n_changepoints': 100, 'changepoint_prior_scale': 0.1}\n",
      "XGBoost...... RMSE: 1.9077308973090585\n",
      "RMSE_pct_range: 35.67519209554109\n",
      "MAPE: 0.08954973192545655\n",
      "MedianAPE: 1.2870029602050792\n",
      "\n",
      "###########################################################\n",
      "File: 1204_2.pkl\n",
      "Length on load: 26304\n",
      "Length after agg: 1096\n",
      "Dropped N/A cols: 0\n",
      "Length after blank drop: 1096\n",
      "\n",
      "ARIMA Model...... RMSE: 44.435256530837215\n",
      "RMSE_pct_range: 26.765727616299213\n",
      "MAPE: 0.23372637357127096\n",
      "MedianAPE: 33.659401012603865\n"
     ]
    },
    {
     "name": "stderr",
     "output_type": "stream",
     "text": [
      "INFO:prophet:Disabling yearly seasonality. Run prophet with yearly_seasonality=True to override this.\n"
     ]
    },
    {
     "name": "stdout",
     "output_type": "stream",
     "text": [
      "\n",
      "Prophet...... Tuning Prophet....\n",
      "Tuning Iteration: 0\n"
     ]
    },
    {
     "name": "stderr",
     "output_type": "stream",
     "text": [
      "INFO:prophet:Disabling yearly seasonality. Run prophet with yearly_seasonality=True to override this.\n"
     ]
    },
    {
     "name": "stdout",
     "output_type": "stream",
     "text": [
      "Tuning Iteration: 1\n"
     ]
    },
    {
     "name": "stderr",
     "output_type": "stream",
     "text": [
      "INFO:prophet:Disabling yearly seasonality. Run prophet with yearly_seasonality=True to override this.\n"
     ]
    },
    {
     "name": "stdout",
     "output_type": "stream",
     "text": [
      "Tuning Iteration: 2\n"
     ]
    },
    {
     "name": "stderr",
     "output_type": "stream",
     "text": [
      "INFO:prophet:Disabling yearly seasonality. Run prophet with yearly_seasonality=True to override this.\n"
     ]
    },
    {
     "name": "stdout",
     "output_type": "stream",
     "text": [
      "Tuning Iteration: 3\n"
     ]
    },
    {
     "name": "stderr",
     "output_type": "stream",
     "text": [
      "INFO:prophet:Disabling yearly seasonality. Run prophet with yearly_seasonality=True to override this.\n"
     ]
    },
    {
     "name": "stdout",
     "output_type": "stream",
     "text": [
      "Tuning Iteration: 4\n"
     ]
    },
    {
     "name": "stderr",
     "output_type": "stream",
     "text": [
      "INFO:prophet:Disabling yearly seasonality. Run prophet with yearly_seasonality=True to override this.\n"
     ]
    },
    {
     "name": "stdout",
     "output_type": "stream",
     "text": [
      "Tuning Iteration: 5\n"
     ]
    },
    {
     "name": "stderr",
     "output_type": "stream",
     "text": [
      "INFO:prophet:Disabling yearly seasonality. Run prophet with yearly_seasonality=True to override this.\n"
     ]
    },
    {
     "name": "stdout",
     "output_type": "stream",
     "text": [
      "Tuning Iteration: 6\n"
     ]
    },
    {
     "name": "stderr",
     "output_type": "stream",
     "text": [
      "INFO:prophet:Disabling yearly seasonality. Run prophet with yearly_seasonality=True to override this.\n"
     ]
    },
    {
     "name": "stdout",
     "output_type": "stream",
     "text": [
      "Tuning Iteration: 7\n",
      "Error Metric: MedAEpctRange\n",
      "20.27485446395298\n",
      "RMSE: 55.88363517905606\n",
      "RMSE_pct_range: 33.66169735901531\n",
      "MAPE: 0.2541906842439447\n",
      "MedianAPE: 20.27485446395298\n",
      "Best Parameters: \n",
      "{'seasonality_mode': 'multiplicative', 'n_changepoints': 100, 'changepoint_prior_scale': 0.1}\n",
      "XGBoost...... RMSE: 50.755004428724455\n",
      "RMSE_pct_range: 30.572449216322845\n",
      "MAPE: 0.16090132983491073\n",
      "MedianAPE: 18.450169921874988\n",
      "\n",
      "###########################################################\n",
      "File: 1205_0.pkl\n",
      "Length on load: 26304\n",
      "Length after agg: 1096\n",
      "Dropped N/A cols: 0\n",
      "Length after blank drop: 1096\n",
      "\n",
      "ARIMA Model...... RMSE: 6.742259877758757\n",
      "RMSE_pct_range: 32.748493674755956\n",
      "MAPE: 0.23258736342392222\n",
      "MedianAPE: 5.141358304832465\n"
     ]
    },
    {
     "name": "stderr",
     "output_type": "stream",
     "text": [
      "INFO:prophet:Disabling yearly seasonality. Run prophet with yearly_seasonality=True to override this.\n"
     ]
    },
    {
     "name": "stdout",
     "output_type": "stream",
     "text": [
      "\n",
      "Prophet...... Tuning Prophet....\n",
      "Tuning Iteration: 0\n"
     ]
    },
    {
     "name": "stderr",
     "output_type": "stream",
     "text": [
      "INFO:prophet:Disabling yearly seasonality. Run prophet with yearly_seasonality=True to override this.\n"
     ]
    },
    {
     "name": "stdout",
     "output_type": "stream",
     "text": [
      "Tuning Iteration: 1\n"
     ]
    },
    {
     "name": "stderr",
     "output_type": "stream",
     "text": [
      "INFO:prophet:Disabling yearly seasonality. Run prophet with yearly_seasonality=True to override this.\n"
     ]
    },
    {
     "name": "stdout",
     "output_type": "stream",
     "text": [
      "Tuning Iteration: 2\n"
     ]
    },
    {
     "name": "stderr",
     "output_type": "stream",
     "text": [
      "INFO:prophet:Disabling yearly seasonality. Run prophet with yearly_seasonality=True to override this.\n"
     ]
    },
    {
     "name": "stdout",
     "output_type": "stream",
     "text": [
      "Tuning Iteration: 3\n"
     ]
    },
    {
     "name": "stderr",
     "output_type": "stream",
     "text": [
      "INFO:prophet:Disabling yearly seasonality. Run prophet with yearly_seasonality=True to override this.\n"
     ]
    },
    {
     "name": "stdout",
     "output_type": "stream",
     "text": [
      "Tuning Iteration: 4\n"
     ]
    },
    {
     "name": "stderr",
     "output_type": "stream",
     "text": [
      "INFO:prophet:Disabling yearly seasonality. Run prophet with yearly_seasonality=True to override this.\n"
     ]
    },
    {
     "name": "stdout",
     "output_type": "stream",
     "text": [
      "Tuning Iteration: 5\n"
     ]
    },
    {
     "name": "stderr",
     "output_type": "stream",
     "text": [
      "INFO:prophet:Disabling yearly seasonality. Run prophet with yearly_seasonality=True to override this.\n"
     ]
    },
    {
     "name": "stdout",
     "output_type": "stream",
     "text": [
      "Tuning Iteration: 6\n"
     ]
    },
    {
     "name": "stderr",
     "output_type": "stream",
     "text": [
      "INFO:prophet:Disabling yearly seasonality. Run prophet with yearly_seasonality=True to override this.\n"
     ]
    },
    {
     "name": "stdout",
     "output_type": "stream",
     "text": [
      "Tuning Iteration: 7\n",
      "Error Metric: MedAEpctRange\n",
      "24.9725971674396\n",
      "RMSE: 8.429757374826416\n",
      "RMSE_pct_range: 40.9450037634856\n",
      "MAPE: 0.26752121976770865\n",
      "MedianAPE: 24.9725971674396\n",
      "Best Parameters: \n",
      "{'seasonality_mode': 'multiplicative', 'n_changepoints': 100, 'changepoint_prior_scale': 0.1}\n",
      "XGBoost...... RMSE: 4.56670514256309\n",
      "RMSE_pct_range: 22.181392765509468\n",
      "MAPE: 0.1237353857816017\n",
      "MedianAPE: 3.2710581359863298\n",
      "\n",
      "###########################################################\n",
      "File: 1209_2.pkl\n",
      "Length on load: 26304\n",
      "Length after agg: 1096\n",
      "Dropped N/A cols: 0\n",
      "Length after blank drop: 1096\n",
      "\n",
      "ARIMA Model...... RMSE: 314.89084340747587\n",
      "RMSE_pct_range: 24.31730358186582\n",
      "MAPE: 0.097472928838013\n",
      "MedianAPE: 143.06801520066483\n"
     ]
    },
    {
     "name": "stderr",
     "output_type": "stream",
     "text": [
      "INFO:prophet:Disabling yearly seasonality. Run prophet with yearly_seasonality=True to override this.\n"
     ]
    },
    {
     "name": "stdout",
     "output_type": "stream",
     "text": [
      "\n",
      "Prophet...... Tuning Prophet....\n",
      "Tuning Iteration: 0\n"
     ]
    },
    {
     "name": "stderr",
     "output_type": "stream",
     "text": [
      "INFO:prophet:Disabling yearly seasonality. Run prophet with yearly_seasonality=True to override this.\n"
     ]
    },
    {
     "name": "stdout",
     "output_type": "stream",
     "text": [
      "Tuning Iteration: 1\n"
     ]
    },
    {
     "name": "stderr",
     "output_type": "stream",
     "text": [
      "INFO:prophet:Disabling yearly seasonality. Run prophet with yearly_seasonality=True to override this.\n"
     ]
    },
    {
     "name": "stdout",
     "output_type": "stream",
     "text": [
      "Tuning Iteration: 2\n"
     ]
    },
    {
     "name": "stderr",
     "output_type": "stream",
     "text": [
      "INFO:prophet:Disabling yearly seasonality. Run prophet with yearly_seasonality=True to override this.\n"
     ]
    },
    {
     "name": "stdout",
     "output_type": "stream",
     "text": [
      "Tuning Iteration: 3\n"
     ]
    },
    {
     "name": "stderr",
     "output_type": "stream",
     "text": [
      "INFO:prophet:Disabling yearly seasonality. Run prophet with yearly_seasonality=True to override this.\n"
     ]
    },
    {
     "name": "stdout",
     "output_type": "stream",
     "text": [
      "Tuning Iteration: 4\n"
     ]
    },
    {
     "name": "stderr",
     "output_type": "stream",
     "text": [
      "INFO:prophet:Disabling yearly seasonality. Run prophet with yearly_seasonality=True to override this.\n"
     ]
    },
    {
     "name": "stdout",
     "output_type": "stream",
     "text": [
      "Tuning Iteration: 5\n"
     ]
    },
    {
     "name": "stderr",
     "output_type": "stream",
     "text": [
      "INFO:prophet:Disabling yearly seasonality. Run prophet with yearly_seasonality=True to override this.\n"
     ]
    },
    {
     "name": "stdout",
     "output_type": "stream",
     "text": [
      "Tuning Iteration: 6\n"
     ]
    },
    {
     "name": "stderr",
     "output_type": "stream",
     "text": [
      "INFO:prophet:Disabling yearly seasonality. Run prophet with yearly_seasonality=True to override this.\n"
     ]
    },
    {
     "name": "stdout",
     "output_type": "stream",
     "text": [
      "Tuning Iteration: 7\n",
      "Error Metric: MedAEpctRange\n",
      "11.048363048104319\n",
      "RMSE: 581.3825861014948\n",
      "RMSE_pct_range: 44.89700840600768\n",
      "MAPE: 0.26004203541951737\n",
      "MedianAPE: 11.048363048104319\n",
      "Best Parameters: \n",
      "{'seasonality_mode': 'multiplicative', 'n_changepoints': 100, 'changepoint_prior_scale': 0.1}\n",
      "XGBoost...... RMSE: 286.12102536118573\n",
      "RMSE_pct_range: 22.09556733874053\n",
      "MAPE: 0.09550796126553926\n",
      "MedianAPE: 112.79821289062511\n",
      "\n",
      "###########################################################\n",
      "File: 1210_1.pkl\n",
      "Length on load: 26304\n",
      "Length after agg: 1096\n",
      "Dropped N/A cols: 0\n",
      "Length after blank drop: 1096\n",
      "\n",
      "ARIMA Model...... RMSE: 14.497923291786124\n",
      "RMSE_pct_range: 50.741894279995805\n",
      "MAPE: 0.43978493491818027\n",
      "MedianAPE: 13.103065403226083\n"
     ]
    },
    {
     "name": "stderr",
     "output_type": "stream",
     "text": [
      "INFO:prophet:Disabling yearly seasonality. Run prophet with yearly_seasonality=True to override this.\n"
     ]
    },
    {
     "name": "stdout",
     "output_type": "stream",
     "text": [
      "\n",
      "Prophet...... Tuning Prophet....\n",
      "Tuning Iteration: 0\n"
     ]
    },
    {
     "name": "stderr",
     "output_type": "stream",
     "text": [
      "INFO:prophet:Disabling yearly seasonality. Run prophet with yearly_seasonality=True to override this.\n"
     ]
    },
    {
     "name": "stdout",
     "output_type": "stream",
     "text": [
      "Tuning Iteration: 1\n"
     ]
    },
    {
     "name": "stderr",
     "output_type": "stream",
     "text": [
      "INFO:prophet:Disabling yearly seasonality. Run prophet with yearly_seasonality=True to override this.\n"
     ]
    },
    {
     "name": "stdout",
     "output_type": "stream",
     "text": [
      "Tuning Iteration: 2\n"
     ]
    },
    {
     "name": "stderr",
     "output_type": "stream",
     "text": [
      "INFO:prophet:Disabling yearly seasonality. Run prophet with yearly_seasonality=True to override this.\n"
     ]
    },
    {
     "name": "stdout",
     "output_type": "stream",
     "text": [
      "Tuning Iteration: 3\n"
     ]
    },
    {
     "name": "stderr",
     "output_type": "stream",
     "text": [
      "INFO:prophet:Disabling yearly seasonality. Run prophet with yearly_seasonality=True to override this.\n"
     ]
    },
    {
     "name": "stdout",
     "output_type": "stream",
     "text": [
      "Tuning Iteration: 4\n"
     ]
    },
    {
     "name": "stderr",
     "output_type": "stream",
     "text": [
      "INFO:prophet:Disabling yearly seasonality. Run prophet with yearly_seasonality=True to override this.\n"
     ]
    },
    {
     "name": "stdout",
     "output_type": "stream",
     "text": [
      "Tuning Iteration: 5\n"
     ]
    },
    {
     "name": "stderr",
     "output_type": "stream",
     "text": [
      "INFO:prophet:Disabling yearly seasonality. Run prophet with yearly_seasonality=True to override this.\n"
     ]
    },
    {
     "name": "stdout",
     "output_type": "stream",
     "text": [
      "Tuning Iteration: 6\n"
     ]
    },
    {
     "name": "stderr",
     "output_type": "stream",
     "text": [
      "INFO:prophet:Disabling yearly seasonality. Run prophet with yearly_seasonality=True to override this.\n"
     ]
    },
    {
     "name": "stdout",
     "output_type": "stream",
     "text": [
      "Tuning Iteration: 7\n",
      "Error Metric: MedAEpctRange\n",
      "45.859972221749615\n",
      "RMSE: 37.082816733963796\n",
      "RMSE_pct_range: 129.78771707154158\n",
      "MAPE: 1.370324124515223\n",
      "MedianAPE: 45.859972221749615\n",
      "Best Parameters: \n",
      "{'seasonality_mode': 'multiplicative', 'n_changepoints': 100, 'changepoint_prior_scale': 0.1}\n",
      "XGBoost...... RMSE: 6.323449844422491\n",
      "RMSE_pct_range: 22.131709282275555\n",
      "MAPE: 0.3041390191803183\n",
      "MedianAPE: 3.550318690490723\n",
      "\n",
      "###########################################################\n",
      "File: 1212_1.pkl\n",
      "Length on load: 26304\n",
      "Length after agg: 1096\n",
      "Dropped N/A cols: 0\n",
      "Length after blank drop: 1096\n",
      "\n",
      "ARIMA Model...... RMSE: 385.7050496040238\n",
      "RMSE_pct_range: 54.91323190877203\n",
      "MAPE: 0.25654409851303506\n",
      "MedianAPE: 381.6237315236374\n"
     ]
    },
    {
     "name": "stderr",
     "output_type": "stream",
     "text": [
      "INFO:prophet:Disabling yearly seasonality. Run prophet with yearly_seasonality=True to override this.\n"
     ]
    },
    {
     "name": "stdout",
     "output_type": "stream",
     "text": [
      "\n",
      "Prophet...... Tuning Prophet....\n",
      "Tuning Iteration: 0\n"
     ]
    },
    {
     "name": "stderr",
     "output_type": "stream",
     "text": [
      "INFO:prophet:Disabling yearly seasonality. Run prophet with yearly_seasonality=True to override this.\n"
     ]
    },
    {
     "name": "stdout",
     "output_type": "stream",
     "text": [
      "Tuning Iteration: 1\n"
     ]
    },
    {
     "name": "stderr",
     "output_type": "stream",
     "text": [
      "INFO:prophet:Disabling yearly seasonality. Run prophet with yearly_seasonality=True to override this.\n"
     ]
    },
    {
     "name": "stdout",
     "output_type": "stream",
     "text": [
      "Tuning Iteration: 2\n"
     ]
    },
    {
     "name": "stderr",
     "output_type": "stream",
     "text": [
      "INFO:prophet:Disabling yearly seasonality. Run prophet with yearly_seasonality=True to override this.\n"
     ]
    },
    {
     "name": "stdout",
     "output_type": "stream",
     "text": [
      "Tuning Iteration: 3\n"
     ]
    },
    {
     "name": "stderr",
     "output_type": "stream",
     "text": [
      "INFO:prophet:Disabling yearly seasonality. Run prophet with yearly_seasonality=True to override this.\n"
     ]
    },
    {
     "name": "stdout",
     "output_type": "stream",
     "text": [
      "Tuning Iteration: 4\n"
     ]
    },
    {
     "name": "stderr",
     "output_type": "stream",
     "text": [
      "INFO:prophet:Disabling yearly seasonality. Run prophet with yearly_seasonality=True to override this.\n"
     ]
    },
    {
     "name": "stdout",
     "output_type": "stream",
     "text": [
      "Tuning Iteration: 5\n"
     ]
    },
    {
     "name": "stderr",
     "output_type": "stream",
     "text": [
      "INFO:prophet:Disabling yearly seasonality. Run prophet with yearly_seasonality=True to override this.\n"
     ]
    },
    {
     "name": "stdout",
     "output_type": "stream",
     "text": [
      "Tuning Iteration: 6\n"
     ]
    },
    {
     "name": "stderr",
     "output_type": "stream",
     "text": [
      "INFO:prophet:Disabling yearly seasonality. Run prophet with yearly_seasonality=True to override this.\n"
     ]
    },
    {
     "name": "stdout",
     "output_type": "stream",
     "text": [
      "Tuning Iteration: 7\n",
      "Error Metric: MedAEpctRange\n",
      "54.33217037879773\n",
      "RMSE: 133.33517187909376\n",
      "RMSE_pct_range: 18.983068078858437\n",
      "MAPE: 0.12302910761145384\n",
      "MedianAPE: 54.33217037879773\n",
      "Best Parameters: \n",
      "{'seasonality_mode': 'multiplicative', 'n_changepoints': 100, 'changepoint_prior_scale': 0.1}\n",
      "XGBoost...... RMSE: 107.25109426966273\n",
      "RMSE_pct_range: 15.269450628520156\n",
      "MAPE: 0.07942572298707239\n",
      "MedianAPE: 66.67430322265625\n",
      "\n",
      "###########################################################\n",
      "File: 1220_0.pkl\n",
      "Length on load: 26304\n",
      "Length after agg: 1096\n",
      "Dropped N/A cols: 0\n",
      "Length after blank drop: 1096\n",
      "\n",
      "ARIMA Model...... RMSE: 185.75980113184136\n",
      "RMSE_pct_range: 29.34631103265782\n",
      "MAPE: 0.30617559580245934\n",
      "MedianAPE: 189.7843298698018\n"
     ]
    },
    {
     "name": "stderr",
     "output_type": "stream",
     "text": [
      "INFO:prophet:Disabling yearly seasonality. Run prophet with yearly_seasonality=True to override this.\n"
     ]
    },
    {
     "name": "stdout",
     "output_type": "stream",
     "text": [
      "\n",
      "Prophet...... Tuning Prophet....\n",
      "Tuning Iteration: 0\n"
     ]
    },
    {
     "name": "stderr",
     "output_type": "stream",
     "text": [
      "INFO:prophet:Disabling yearly seasonality. Run prophet with yearly_seasonality=True to override this.\n"
     ]
    },
    {
     "name": "stdout",
     "output_type": "stream",
     "text": [
      "Tuning Iteration: 1\n"
     ]
    },
    {
     "name": "stderr",
     "output_type": "stream",
     "text": [
      "INFO:prophet:Disabling yearly seasonality. Run prophet with yearly_seasonality=True to override this.\n"
     ]
    },
    {
     "name": "stdout",
     "output_type": "stream",
     "text": [
      "Tuning Iteration: 2\n"
     ]
    },
    {
     "name": "stderr",
     "output_type": "stream",
     "text": [
      "INFO:prophet:Disabling yearly seasonality. Run prophet with yearly_seasonality=True to override this.\n"
     ]
    },
    {
     "name": "stdout",
     "output_type": "stream",
     "text": [
      "Tuning Iteration: 3\n"
     ]
    },
    {
     "name": "stderr",
     "output_type": "stream",
     "text": [
      "INFO:prophet:Disabling yearly seasonality. Run prophet with yearly_seasonality=True to override this.\n"
     ]
    },
    {
     "name": "stdout",
     "output_type": "stream",
     "text": [
      "Tuning Iteration: 4\n"
     ]
    },
    {
     "name": "stderr",
     "output_type": "stream",
     "text": [
      "INFO:prophet:Disabling yearly seasonality. Run prophet with yearly_seasonality=True to override this.\n"
     ]
    },
    {
     "name": "stdout",
     "output_type": "stream",
     "text": [
      "Tuning Iteration: 5\n"
     ]
    },
    {
     "name": "stderr",
     "output_type": "stream",
     "text": [
      "INFO:prophet:Disabling yearly seasonality. Run prophet with yearly_seasonality=True to override this.\n"
     ]
    },
    {
     "name": "stdout",
     "output_type": "stream",
     "text": [
      "Tuning Iteration: 6\n"
     ]
    },
    {
     "name": "stderr",
     "output_type": "stream",
     "text": [
      "INFO:prophet:Disabling yearly seasonality. Run prophet with yearly_seasonality=True to override this.\n"
     ]
    },
    {
     "name": "stdout",
     "output_type": "stream",
     "text": [
      "Tuning Iteration: 7\n",
      "Error Metric: MedAEpctRange\n",
      "29.98210559845967\n",
      "RMSE: 206.4413982746559\n",
      "RMSE_pct_range: 32.61358726092208\n",
      "MAPE: 1.0451175584178931\n",
      "MedianAPE: 29.98210559845967\n",
      "Best Parameters: \n",
      "{'seasonality_mode': 'multiplicative', 'n_changepoints': 100, 'changepoint_prior_scale': 0.1}\n",
      "XGBoost...... RMSE: 151.4962940471007\n",
      "RMSE_pct_range: 23.93336630590919\n",
      "MAPE: 0.19493922903302882\n",
      "MedianAPE: 51.446685058593744\n"
     ]
    }
   ],
   "source": [
    "# Data is daily\n",
    "# # data_sizes = [360] # Start with one year # Train on whole year\n",
    "output_vis_folder = '.\\\\visualization\\\\models\\\\run_2\\\\'\n",
    "output_data_folder = '.\\\\results\\\\'\n",
    "\n",
    "# Median Average Percentage of Range\n",
    "# tune_on = 'RMSE'\n",
    "# tune_on = 'RMSEpctRange'\n",
    "# tune_on = 'MAPE'\n",
    "# tune_on = 'MedAE'\n",
    "tune_on = 'MedAEpctRange'\n",
    "\n",
    "model_pass = 2\n",
    "\n",
    "# Control Variables that will run these specific models if True\n",
    "ARIMA = True\n",
    "FBProphet = True\n",
    "xgboost = True\n",
    "\n",
    "# Show Visualizations\n",
    "quiet_mode = True\n",
    "\n",
    "resample = True\n",
    "backfill = 'mean'\n",
    "exogen = True\n",
    "\n",
    "thresh = 50\n",
    "\n",
    "# Dictionary to hold all the results, will turn into a dataframe\n",
    "stats_all = {}\n",
    "stats_list = []\n",
    "\n",
    "stats = {}\n",
    "\n",
    "# For each file in the directory\n",
    "direct = '.\\\\data_clean\\\\buildings_by_meter\\\\'\n",
    "\n",
    "files = df_stats['file_name']\n",
    "# bl = df_stats['building']\n",
    "\n",
    "bld_mtr = ['1073_2', # Elec\n",
    "           '1073_1',\n",
    "           '1073_0',\n",
    "#            '1099_2', # issues \n",
    "           '1130_0',\n",
    "           '1048_0',\n",
    "           '1156_0',\n",
    "           '1156_2',\n",
    "           '1140_1',\n",
    "           '1169_1',\n",
    "           '1178_0',\n",
    "           '107_0',\n",
    "           '1180_2',\n",
    "           '119_0',\n",
    "           '1198_2',\n",
    "           '120_0',\n",
    "           '109_0',\n",
    "           '1138_0',\n",
    "           '1079_2',\n",
    "           '126_0',\n",
    "           '1179_1', # Entertainment\n",
    "           '1183_0',\n",
    "           '1196_0',\n",
    "           '743_0',\n",
    "           '663_0', # Food\n",
    "           '1105_0',\n",
    "           '1105_2',\n",
    "           '670_0',\n",
    "           '1209_2',\n",
    "           '1154_2', # Lodging Residential\n",
    "           '1154_0',\n",
    "           '134_0',\n",
    "           '1184_0',\n",
    "           '135_0',\n",
    "           '1124_0',\n",
    "           '1091_0'\n",
    "           '1175_0', # Manufacturing\n",
    "           '1171_0',\n",
    "           '1081_0',\n",
    "           '1145_2',\n",
    "           '1148_1', # Office\n",
    "           '1164_1',\n",
    "           '1151_1',\n",
    "           '1149_0',\n",
    "           '1188_0',\n",
    "           '141_0',\n",
    "           '146_0',\n",
    "           '1204_2',\n",
    "           '1210_1',\n",
    "           '1133_2',\n",
    "           '155_0',\n",
    "           '1164_1',\n",
    "           '1109_2',\n",
    "           '684_0',\n",
    "           '1108_0',\n",
    "           '1205_0',\n",
    "           '1212_1',\n",
    "           '1220_0',\n",
    "           '1047_0',\n",
    "           '678_0',\n",
    "           '1104_0'\n",
    "           '1052_2',\n",
    "           '1034_0',\n",
    "           '1197_0',\n",
    "           '1118_0',\n",
    "           '1199_0'\n",
    "          ]\n",
    "\n",
    "for num,file in enumerate(files):  \n",
    "\n",
    "    # Get only files from the list\n",
    "    if file.split('.pkl')[0] not in bld_mtr:\n",
    "        continue\n",
    "    else:\n",
    "        print('')\n",
    "        print('###########################################################')\n",
    "        print('File: ' + file)\n",
    "        \n",
    "    # Temporary dictionary that represents raw calculations\n",
    "    stats = {}\n",
    "    \n",
    "    # Screen results\n",
    "    if df_stats.iloc[num]['per_data'] < 80:\n",
    "        stats['status'] = 'FAIL: Length < 80% data present'\n",
    "        print('not enough data')\n",
    "        continue\n",
    "    \n",
    "    # Catch exception if file not readable\n",
    "    try:\n",
    "        df = pd.read_pickle(direct + file)\n",
    "    except FileNotFoundError:\n",
    "        continue\n",
    "    \n",
    "    print('Length on load: ' + str(len(df)))\n",
    "    stats['Len_load'] = len(df)\n",
    "    \n",
    "    # Screen minimum length\n",
    "    if len(df) < 20000:\n",
    "        stats['status'] = 'FAIL: Length < 20k'\n",
    "        continue\n",
    "\n",
    "    # Load key variables in dictionary\n",
    "    stats['building'] = df.iloc[0]['building_id']\n",
    "    stats['square_feet'] = df.iloc[0]['square_feet']   \n",
    "    stats['meter'] = bldg_meter = df.iloc[0]['meter']\n",
    "    stats['file_name'] = file\n",
    " \n",
    "    # Process Columns\n",
    "    df = building_meter_drop(df) # Drop poorly correlated columns\n",
    "    df = building_meter_interp(df) # Time series linear interpolation due to standard time deltas\n",
    "    df = building_meter_agg(df,'1D') # aggregate remaining columns\n",
    "    \n",
    "    print('Length after agg: ' + str(len(df)))\n",
    "    stats['Len_agg-clean'] = len(df)\n",
    "    \n",
    "    # Find out how many lingering NA columns are left\n",
    "    b4_NA = len(df)\n",
    "    df.dropna(how='any',inplace=True)\n",
    "    tot = b4_NA - len(df)\n",
    "    print('Dropped N/A cols: ' + str(tot))\n",
    "    if tot > 100:\n",
    "        stats['status'] = 'FAIL: Drop over 100 Rows'\n",
    "        continue\n",
    "    \n",
    "    print('Length after blank drop: ' + str(len(df)))\n",
    "    stats['Len_blank'] = len(df)\n",
    "    \n",
    "    # Keep track of Models\n",
    "    model_ctr = 4 # Initialize Model Counter\n",
    "    model_prefixes = []\n",
    "  \n",
    "    df_train = df.loc['2016-01-01':'2016-09-30']\n",
    "    df_test = df.loc['2016-10-01':'2016-10-31']\n",
    "       \n",
    "    X_train = df_train.drop(labels=['meter_reading'],axis=1)\n",
    "    X_train.fillna(method='ffill')\n",
    "\n",
    "    X_test = df_test.drop(labels=['meter_reading'],axis=1)\n",
    "    X_test.fillna(method='ffill')\n",
    "\n",
    "    y_train = df_train['meter_reading']\n",
    "    y_train.fillna(method='ffill')\n",
    "\n",
    "    y_test = df_test['meter_reading']\n",
    "    y_test.fillna(method='ffill')\n",
    "    \n",
    "    # Get rid of constants\n",
    "    X_train.drop(labels=['site_id','building_id','square_feet'],axis=1,inplace=True)\n",
    "    X_test.drop(labels=['site_id','building_id','square_feet'],axis=1,inplace=True)\n",
    "    \n",
    "   \n",
    "    #   ######################################    ARIMA   ##################################################\n",
    "    if ARIMA:\n",
    "        print()\n",
    "        # Keep track of model prefix column names by building prefix to number iterations\n",
    "        model_prefix = 'Model_' + str(model_ctr)\n",
    "        model_prefixes.append(model_prefix)\n",
    "        # Populate DataFrame with statistics\n",
    "        stats[model_prefix + '_' + 'Type'] = 'ARIMA_Exogen'\n",
    "        stats[model_prefix + '_' + 'Description'] = 'ARIMA_Exogen, with daily aggregation'\n",
    "        stats[model_prefix + '_' + 'Len_Train'] = len(X_train)\n",
    "        stats[model_prefix + '_' + 'Len_Test'] = len(X_test)\n",
    "\n",
    "        print('ARIMA Model......',end=' ')\n",
    "\n",
    "        # Try building model\n",
    "        try:\n",
    "            model = pm.auto_arima(y_train,X=X_train,trace=False,n_fits=10,seasonal=True,m=7,error_action='ignore')\n",
    "            stats[model_prefix + '_' + 'Status'] = 'PASS'\n",
    "        except ValueError as ve:\n",
    "            print('Model will not converge')\n",
    "            stats[model_prefix + '_' + 'Status'] = 'FAIL'\n",
    "            continue\n",
    "\n",
    "        # Create the Series\n",
    "        preds, conf_int = model.predict(X=X_test,n_periods=y_test.shape[0], return_conf_int=True)\n",
    "                \n",
    "        predict = pd.Series(preds,index=y_test.index)\n",
    "\n",
    "        # Keep each slice data here\n",
    "        df_result = pd.concat([predict,y_test],axis=1)\n",
    "        df_result.columns = ['meter_predict_ARIMA','meter_actual']\n",
    "\n",
    "        # Error Calculations ------------------------\n",
    "        # RMSE\n",
    "        RMSE_error = (mean_squared_error(df_result['meter_predict_ARIMA'],df_result['meter_actual'],squared=False))\n",
    "        stats[model_prefix + '_' + 'RMSE'] = RMSE_error\n",
    "        \n",
    "        # RMSE relative to the range of the test range\n",
    "        RMSE_pct_range = RMSE_error / ((np.max(df_result['meter_actual'])) \\\n",
    "                                       - (np.min(df_result['meter_actual']))) \\\n",
    "                                       * 100      \n",
    "        stats[model_prefix + '_' + 'y_pred_RMSE_pct_Range'] = RMSE_pct_range\n",
    "        \n",
    "        # MAPE\n",
    "        MAPE_error = mean_absolute_percentage_error(df_result['meter_predict_ARIMA'],df_result['meter_actual'])\n",
    "        stats[model_prefix + '_' + 'MAPE'] = MAPE_error\n",
    "        \n",
    "        # Median Absolute Percentage\n",
    "        MedAPE_error = median_absolute_error(df_result['meter_predict_ARIMA'],df_result['meter_actual'])\n",
    "        stats[model_prefix + '_' + 'MedianAPE'] = MedAPE_error\n",
    "        \n",
    "        MedAPE_pct_range = MedAPE_error / ((np.max(df_result['meter_actual'])) \\\n",
    "                                       - (np.min(df_result['meter_actual']))) \\\n",
    "                                       * 100  \n",
    "        stats[model_prefix + '_' + 'y_pred_MedAPE_pct_Range'] = MedAPE_pct_range\n",
    "\n",
    "        print('RMSE: ' + str(RMSE_error)) \n",
    "        print('RMSE_pct_range: ' + str(RMSE_pct_range))\n",
    "        print('MAPE: ' + str(MAPE_error))\n",
    "        print('MedianAPE: ' + str(MedAPE_error))\n",
    "            \n",
    "        # Create Graph\n",
    "        plt.ioff()\n",
    "        plt.figure(figsize=(20,10))\n",
    "        plt.plot(df_result['meter_predict_ARIMA'],label=\"ARIMA\", color='orange', linestyle='solid')\n",
    "        plt.plot(df_result['meter_actual'],label=\"Actual\",linewidth=7.0, color='red', linestyle='dashed')\n",
    "        plt.legend(loc = 'upper right')      \n",
    "        plt.title('Bldg ' + str(stats['building']) + ' Meter ' + str(stats['meter']) + ' ' + model_prefix + '_' + 'ARIMA_Exogen')\n",
    "        plt.xlabel('Date')\n",
    "        plt.ylabel('Meter Reading')\n",
    "        plt.xticks(rotation='45')\n",
    "        plt.savefig(output_vis_folder + str(stats['building']) + '_' + str(stats['meter']) + '_ARIMA_Exogen.jpg')\n",
    "        \n",
    "        # Add to Models DF\n",
    "        df_models = pd.DataFrame(data=df_result[['meter_actual','meter_predict_ARIMA']],index=df_result.index)\n",
    "          \n",
    "         ######################################    PROPHET   ##################################################\n",
    "    if FBProphet:           \n",
    "        print()\n",
    "        print('Prophet......',end=' ')\n",
    "        model_ctr += 1 # Increment Model Counter\n",
    "        model_prefix = 'Model_' + str(model_ctr) # Build string for keys\n",
    "        model_prefixes.append(model_prefix)\n",
    "        \n",
    "        # Set parameter grid\n",
    "        params_grid = {'seasonality_mode':('multiplicative','additive'),\n",
    "               'changepoint_prior_scale':[0.1,0.5],\n",
    "          'n_changepoints' : [100,200]}\n",
    "\n",
    "        grid = ParameterGrid(params_grid)\n",
    "        print('Tuning Prophet....')\n",
    "\n",
    "        # Need renaming for Prophet - data prep\n",
    "        df_prophet_train = df_train.reset_index()\n",
    "        df_prophet_test = df_test.reset_index()\n",
    "\n",
    "        # Get rid of constants\n",
    "        df_prophet_train.drop(labels=['site_id','building_id','square_feet'],axis=1,inplace=True)\n",
    "        df_prophet_test.drop(labels=['site_id','building_id','square_feet'],axis=1,inplace=True)\n",
    "\n",
    "        # Timestamp must be ds column\n",
    "        df_prophet_train = df_prophet_train.rename(columns={'timestamp':'ds','meter_reading':'y'})\n",
    "        df_prophet_test = df_prophet_test.rename(columns={'timestamp':'ds','meter_reading':'y'})\n",
    "        \n",
    "        # Populate DataFrame with statistics\n",
    "        stats[model_prefix + '_' + 'Type'] = 'Prophet_Exogen'      \n",
    "        stats[model_prefix + '_' + 'Len_Train'] = len(df_prophet_train)\n",
    "        stats[model_prefix + '_' + 'Len_Test'] = len(df_prophet_test)\n",
    "      \n",
    "        # Initialize Error List Metrics\n",
    "        errors_RMSE = []\n",
    "        errors_RMSE_pct_range = []\n",
    "        errors_MAPE = []\n",
    "        errors_MedAE = []\n",
    "        errors_MedAE_pct_range = []\n",
    "        errors = []\n",
    "                \n",
    "        params = []\n",
    "\n",
    "        tuning_iter = 0\n",
    "        \n",
    "        # Step through grid \n",
    "        for val in grid:\n",
    "            print('Tuning Iteration: ' + str(tuning_iter))\n",
    "            # Initialize Prophet Model\n",
    "            m = Prophet(daily_seasonality=True,\n",
    "                       n_changepoints = val['n_changepoints'],\n",
    "                       seasonality_mode = val['seasonality_mode'],\n",
    "                       changepoint_prior_scale = val['changepoint_prior_scale'])\n",
    "            m.add_regressor('air_temperature')\n",
    "            m.add_regressor('day_of_week')\n",
    "            m.add_regressor('weekend')\n",
    "            m.add_regressor('month')\n",
    "            m.add_regressor('season')\n",
    "            m.fit(df_prophet_train)\n",
    "            \n",
    "            predicts = m.predict(df_prophet_test)\n",
    "            \n",
    "            # Evaluate error metrics\n",
    "            \n",
    "            RMSE_error = (mean_squared_error(predicts['yhat'],df_prophet_test['y'],squared=False))\n",
    "            errors_RMSE.append(RMSE_error)\n",
    "            \n",
    "            RMSE_pct_range = RMSE_error / ((np.max(df_prophet_test['y'])) \\\n",
    "                                                  - (np.min(df_prophet_test['y']))) \\\n",
    "                                                  * 100 \n",
    "            errors_RMSE_pct_range.append(RMSE_pct_range)\n",
    "            \n",
    "            \n",
    "            MAPE_error = mean_absolute_percentage_error(predicts['yhat'],df_prophet_test['y'])\n",
    "            errors_MAPE.append(MAPE_error)\n",
    "            \n",
    "            MedAE_error = median_absolute_error(predicts['yhat'],df_prophet_test['y'])\n",
    "            errors_MedAE.append(MedAE_error)\n",
    "            \n",
    "            MedAPE_pct_range = MedAPE_error / ((np.max(df_prophet_test['y'])) \\\n",
    "                                                  - (np.min(df_prophet_test['y']))) \\\n",
    "                                                  * 100\n",
    "            \n",
    "            errors_MedAE_pct_range.append(MedAPE_pct_range)\n",
    "            tuning_iter += 1\n",
    "\n",
    "        # Assign error list to whatever we named as our metric to tune on\n",
    "        if tune_on == 'RMSE':\n",
    "            errors = errors_RMSE\n",
    "        elif tune_on == 'RMSEpctRange':\n",
    "            errors = errors_RMSE_pct_range\n",
    "        elif tune_on == 'MAPE':\n",
    "            errors = errors_MAPE\n",
    "        elif tune_on == 'MedAE':\n",
    "            errors = errors_MedAE\n",
    "        elif tune_on == 'MedAEpctRange':\n",
    "            errors = errors_MedAE_pct_range\n",
    "        else:\n",
    "            errors = errors_RMSE\n",
    "\n",
    "        \n",
    "        # Min value of errors\n",
    "        min_value = min(errors)\n",
    "        # What index is the min value at\n",
    "        min_index = errors.index(min_value)\n",
    "        print('Error Metric: ' + tune_on)\n",
    "        error = errors[min_index]\n",
    "        print(error)\n",
    "        \n",
    "        # Pick the index matching the lowest \n",
    "        stats[model_prefix + '_' + 'RMSE'] = errors_RMSE[min_index]\n",
    "        stats[model_prefix + '_' + 'y_pred_RMSE_pct_Range'] = errors_RMSE_pct_range[min_index]\n",
    "        stats[model_prefix + '_' + 'MAPE'] = errors_MAPE[min_index]\n",
    "        stats[model_prefix + '_' + 'MedianAE'] = errors_MedAE[min_index]\n",
    "        stats[model_prefix + '_' + 'y_pred_MedAPE_pct_Range'] = errors_MedAE_pct_range[min_index]\n",
    "    \n",
    "        best_parameter = grid[min_index]\n",
    "        \n",
    "        print('RMSE: ' + str(errors_RMSE[min_index])) \n",
    "        print('RMSE_pct_range: ' + str(errors_RMSE_pct_range[min_index]))\n",
    "        print('MAPE: ' + str(errors_MAPE[min_index]))\n",
    "        print('MedianAPE: ' + str(errors_MedAE_pct_range[min_index]))\n",
    "        \n",
    "        print('Best Parameters: ')\n",
    "        print(best_parameter)\n",
    "        \n",
    "        plt.ioff()\n",
    "        plt.figure(figsize=(20,10))\n",
    "        plt.plot(df_prophet_test['ds'],predicts['yhat'],label=\"Prophet\", color='blue', linestyle='solid')\n",
    "        plt.plot(df_prophet_test['ds'],df_prophet_test['y'],label=\"Actual\",linewidth=7.0,color='red',linestyle='dashed')\n",
    "        plt.legend(loc = 'upper right')\n",
    "        plt.title('Bldg ' + str(stats['building']) + ' Meter ' + str(stats['meter']) + ' ' + \\\n",
    "                  model_prefix + '_' + 'Prophet_Exogen')\n",
    "        plt.xlabel('Date')\n",
    "        plt.ylabel('Meter Reading')\n",
    "        plt.xticks(rotation='45')\n",
    "\n",
    "        plt.savefig(output_vis_folder + str(stats['building']) + '_' + str(stats['meter']) + '_Prophet_Exogen.jpg')\n",
    "\n",
    "        df_models['meter_predict_Prophet'] = pd.Series(predicts['yhat'].values, index=df_models.index)\n",
    "        \n",
    "#             ######################################    XGBOOST   ##################################################\n",
    "        if xgboost:\n",
    "            print('XGBoost......',end=' ')\n",
    "\n",
    "            model_ctr += 1\n",
    "            model_prefix = 'Model_' + str(model_ctr)\n",
    "            model_prefixes.append(model_prefix)\n",
    "\n",
    "            # Populate DataFrame with statistics\n",
    "            stats[model_prefix + '_' + 'Type'] = 'XGBoost'\n",
    "            stats[model_prefix + '_' + 'Description'] = 'XGBoost_Exogen, with daily aggregation'\n",
    "            stats[model_prefix + '_' + 'Len_Train'] = len(X_train)\n",
    "            stats[model_prefix + '_' + 'Len_Test'] = len(X_test)\n",
    "\n",
    "            params_grid = {# Parameters that we are going to tune.\n",
    "                'learning_rate': [0.01,0.1],\n",
    "                'max_depth': [3,10],\n",
    "                'min_child_weight': [1,5],\n",
    "                'subsample': [0.5,0.7],\n",
    "                'colsample_bytree': [0.5,0.7],\n",
    "                'n_estimators' : [100,500],\n",
    "                'objective': ['reg:squarederror'],\n",
    "            }\n",
    "\n",
    "            num_boost_round = 30\n",
    "\n",
    "            num_boost_round = ''\n",
    "            early_stopping_rounds = ''\n",
    "\n",
    "            # Instantiate Model\n",
    "            gbm_model = xgb.XGBRegressor()\n",
    "            gsearch = GridSearchCV(estimator = gbm_model,\n",
    "                                  param_grid = params_grid,\n",
    "                                  scoring = 'mean_absolute_percentage_error',\n",
    "                                  cv=5,\n",
    "                                  n_jobs = -1,\n",
    "                                  verbose = 1)\n",
    "\n",
    "#                 print(gsearch.best_params_)\n",
    "\n",
    "            gbm_model.fit(X_train,y_train)\n",
    "            predict = gbm_model.predict(X_test)\n",
    "\n",
    "            predict = pd.Series(predict,index=y_test.index)\n",
    "\n",
    "            df_result = pd.concat([predict,y_test],axis=1,ignore_index=True)\n",
    "            df_result.columns = ['meter_predict_XGBoost','meter_actual']\n",
    "            df_result.sort_index(inplace=True)\n",
    "\n",
    "            # Error Calculations ------------------------\n",
    "            # RMSE\n",
    "            RMSE_error = (mean_squared_error(df_result['meter_predict_XGBoost'],df_result['meter_actual'],squared=False))\n",
    "            stats[model_prefix + '_' + 'RMSE'] = RMSE_error\n",
    "\n",
    "            # RMSE relative to the range of the test range\n",
    "            RMSE_pct_range = RMSE_error / ((np.max(df_result['meter_actual'])) \\\n",
    "                                           - (np.min(df_result['meter_actual']))) \\\n",
    "                                           * 100      \n",
    "            stats[model_prefix + '_' + 'y_pred_RMSE_pct_Range'] = RMSE_pct_range\n",
    "\n",
    "            # MAPE\n",
    "            MAPE_error = mean_absolute_percentage_error(df_result['meter_predict_XGBoost'],df_result['meter_actual'])\n",
    "            stats[model_prefix + '_' + 'MAPE'] = MAPE_error\n",
    "\n",
    "                   # Median Absolute Percentage\n",
    "            MedAPE_error = median_absolute_error(df_result['meter_predict_XGBoost'],df_result['meter_actual'])\n",
    "            stats[model_prefix + '_' + 'MedianAPE'] = MedAPE_error\n",
    "\n",
    "            MedAPE_pct_range = MedAPE_error / ((np.max(df_result['meter_actual'])) \\\n",
    "                                   - (np.min(df_result['meter_actual']))) \\\n",
    "                                   * 100  \n",
    "            stats[model_prefix + '_' + 'y_pred_MedAPE_pct_Range'] = MedAPE_pct_range\n",
    "\n",
    "            print('RMSE: ' + str(RMSE_error)) \n",
    "            print('RMSE_pct_range: ' + str(RMSE_pct_range))\n",
    "            print('MAPE: ' + str(MAPE_error))\n",
    "            print('MedianAPE: ' + str(MedAPE_error))\n",
    " \n",
    "            plt.ioff()\n",
    "            plt.figure(figsize=(20,10))\n",
    "            plt.plot(df_result['meter_predict_XGBoost'],label=\"XGBoost\",color='green',linestyle='solid')\n",
    "            plt.plot(df_result['meter_actual'],label=\"Actual\",linewidth=7.0, color='red',linestyle='dashed')\n",
    "            plt.legend(loc = 'upper right')\n",
    "            plt.title('Bldg ' + str(stats['building']) + ' Meter ' + str(stats['meter']) + ' ' + model_prefix + '_' + 'XGBoost')\n",
    "            plt.xlabel('Date')\n",
    "            plt.ylabel('Meter Reading')\n",
    "            plt.xticks(rotation='45')\n",
    "            plt.savefig(output_vis_folder + str(stats['building']) + '_' + str(stats['meter']) + '_XGBoost.jpg')\n",
    "\n",
    "            # Apppend to Models Dataframe\n",
    "            df_models = pd.concat([df_models,df_result['meter_predict_XGBoost']],axis=1)\n",
    "            df_models.to_csv(output_data_folder + str(stats['building']) + '_' + str(stats['meter']) + '_ModelError_2.csv',float_format=\"{:,.2f}\".format)\n",
    "        \n",
    "        # VISUALIZE ALL MODELS AT ONCE\n",
    "        plt.figure(figsize=(20,10))\n",
    "        plt.plot(df_models['meter_actual'],label='Actual',linewidth=7.0,color='red',linestyle='dashed')\n",
    "        plt.plot(df_models['meter_predict_ARIMA'],label='ARIMA',color='orange',linestyle='solid')\n",
    "        plt.plot(df_models['meter_predict_Prophet'],label='FBP',color='blue',linestyle='solid')\n",
    "        plt.plot(df_models['meter_predict_XGBoost'],label='XGBoost',color='green',linestyle='solid')\n",
    "        plt.legend(loc = 'upper right')\n",
    "        plt.title('Bldg ' + str(stats['building']) + ' Meter ' + str(stats['meter']) + '_All')\n",
    "        plt.xlabel('Date')\n",
    "        plt.ylabel('Meter Reading')\n",
    "        plt.xticks(rotation='45')\n",
    "        plt.savefig(output_vis_folder + str(stats['building']) + '_' + str(stats['meter']) + '_ALL.jpg')\n",
    "        \n",
    "\n",
    "        stats_list.append(stats)\n",
    "        # Write dictionary and file every 10 buildings to save results\n",
    "        if stats['building'] % 10 == 0:\n",
    "            df_results = pd.DataFrame(stats_list)\n",
    "            df_results.to_csv('Model_Results_2.csv',float_format=\"{:,.2f}\".format)\n",
    "            \n",
    "df_results = pd.DataFrame(stats_list)\n",
    "df_stats = df_results.merge(df_stats,how='left',on=['file_name'])\n",
    "df_stats.to_csv(output_data_folder + 'AllResults_SecondPass.csv',float_format=\"{:,.2f}\".format)\n"
   ]
  },
  {
   "cell_type": "markdown",
   "id": "other-international",
   "metadata": {},
   "source": [
    "# Parallel Coordinates Graph to show Change"
   ]
  },
  {
   "cell_type": "code",
   "execution_count": 88,
   "id": "a243aea4-1693-4c51-a1ad-90d599d83c53",
   "metadata": {},
   "outputs": [
    {
     "data": {
      "application/vnd.plotly.v1+json": {
       "config": {
        "plotlyServerURL": "https://plot.ly"
       },
       "data": [
        {
         "dimensions": [
          {
           "label": "Model_1_y_pred_MedAPE_pct_Range_x",
           "values": [
            52.81,
            17.68
           ]
          },
          {
           "label": "Model_2_y_pred_MedAPE_pct_Range_x",
           "values": [
            52.81,
            17.68
           ]
          },
          {
           "label": "Model_3_y_pred_MedAPE_pct_Range_x",
           "values": [
            10.05,
            12.13
           ]
          }
         ],
         "domain": {
          "x": [
           0,
           1
          ],
          "y": [
           0,
           1
          ]
         },
         "name": "",
         "type": "parcoords"
        }
       ],
       "layout": {
        "autosize": true,
        "legend": {
         "tracegroupgap": 0
        },
        "margin": {
         "t": 60
        },
        "template": {
         "data": {
          "bar": [
           {
            "error_x": {
             "color": "#2a3f5f"
            },
            "error_y": {
             "color": "#2a3f5f"
            },
            "marker": {
             "line": {
              "color": "#E5ECF6",
              "width": 0.5
             }
            },
            "type": "bar"
           }
          ],
          "barpolar": [
           {
            "marker": {
             "line": {
              "color": "#E5ECF6",
              "width": 0.5
             }
            },
            "type": "barpolar"
           }
          ],
          "carpet": [
           {
            "aaxis": {
             "endlinecolor": "#2a3f5f",
             "gridcolor": "white",
             "linecolor": "white",
             "minorgridcolor": "white",
             "startlinecolor": "#2a3f5f"
            },
            "baxis": {
             "endlinecolor": "#2a3f5f",
             "gridcolor": "white",
             "linecolor": "white",
             "minorgridcolor": "white",
             "startlinecolor": "#2a3f5f"
            },
            "type": "carpet"
           }
          ],
          "choropleth": [
           {
            "colorbar": {
             "outlinewidth": 0,
             "ticks": ""
            },
            "type": "choropleth"
           }
          ],
          "contour": [
           {
            "colorbar": {
             "outlinewidth": 0,
             "ticks": ""
            },
            "colorscale": [
             [
              0,
              "#0d0887"
             ],
             [
              0.1111111111111111,
              "#46039f"
             ],
             [
              0.2222222222222222,
              "#7201a8"
             ],
             [
              0.3333333333333333,
              "#9c179e"
             ],
             [
              0.4444444444444444,
              "#bd3786"
             ],
             [
              0.5555555555555556,
              "#d8576b"
             ],
             [
              0.6666666666666666,
              "#ed7953"
             ],
             [
              0.7777777777777778,
              "#fb9f3a"
             ],
             [
              0.8888888888888888,
              "#fdca26"
             ],
             [
              1,
              "#f0f921"
             ]
            ],
            "type": "contour"
           }
          ],
          "contourcarpet": [
           {
            "colorbar": {
             "outlinewidth": 0,
             "ticks": ""
            },
            "type": "contourcarpet"
           }
          ],
          "heatmap": [
           {
            "colorbar": {
             "outlinewidth": 0,
             "ticks": ""
            },
            "colorscale": [
             [
              0,
              "#0d0887"
             ],
             [
              0.1111111111111111,
              "#46039f"
             ],
             [
              0.2222222222222222,
              "#7201a8"
             ],
             [
              0.3333333333333333,
              "#9c179e"
             ],
             [
              0.4444444444444444,
              "#bd3786"
             ],
             [
              0.5555555555555556,
              "#d8576b"
             ],
             [
              0.6666666666666666,
              "#ed7953"
             ],
             [
              0.7777777777777778,
              "#fb9f3a"
             ],
             [
              0.8888888888888888,
              "#fdca26"
             ],
             [
              1,
              "#f0f921"
             ]
            ],
            "type": "heatmap"
           }
          ],
          "heatmapgl": [
           {
            "colorbar": {
             "outlinewidth": 0,
             "ticks": ""
            },
            "colorscale": [
             [
              0,
              "#0d0887"
             ],
             [
              0.1111111111111111,
              "#46039f"
             ],
             [
              0.2222222222222222,
              "#7201a8"
             ],
             [
              0.3333333333333333,
              "#9c179e"
             ],
             [
              0.4444444444444444,
              "#bd3786"
             ],
             [
              0.5555555555555556,
              "#d8576b"
             ],
             [
              0.6666666666666666,
              "#ed7953"
             ],
             [
              0.7777777777777778,
              "#fb9f3a"
             ],
             [
              0.8888888888888888,
              "#fdca26"
             ],
             [
              1,
              "#f0f921"
             ]
            ],
            "type": "heatmapgl"
           }
          ],
          "histogram": [
           {
            "marker": {
             "colorbar": {
              "outlinewidth": 0,
              "ticks": ""
             }
            },
            "type": "histogram"
           }
          ],
          "histogram2d": [
           {
            "colorbar": {
             "outlinewidth": 0,
             "ticks": ""
            },
            "colorscale": [
             [
              0,
              "#0d0887"
             ],
             [
              0.1111111111111111,
              "#46039f"
             ],
             [
              0.2222222222222222,
              "#7201a8"
             ],
             [
              0.3333333333333333,
              "#9c179e"
             ],
             [
              0.4444444444444444,
              "#bd3786"
             ],
             [
              0.5555555555555556,
              "#d8576b"
             ],
             [
              0.6666666666666666,
              "#ed7953"
             ],
             [
              0.7777777777777778,
              "#fb9f3a"
             ],
             [
              0.8888888888888888,
              "#fdca26"
             ],
             [
              1,
              "#f0f921"
             ]
            ],
            "type": "histogram2d"
           }
          ],
          "histogram2dcontour": [
           {
            "colorbar": {
             "outlinewidth": 0,
             "ticks": ""
            },
            "colorscale": [
             [
              0,
              "#0d0887"
             ],
             [
              0.1111111111111111,
              "#46039f"
             ],
             [
              0.2222222222222222,
              "#7201a8"
             ],
             [
              0.3333333333333333,
              "#9c179e"
             ],
             [
              0.4444444444444444,
              "#bd3786"
             ],
             [
              0.5555555555555556,
              "#d8576b"
             ],
             [
              0.6666666666666666,
              "#ed7953"
             ],
             [
              0.7777777777777778,
              "#fb9f3a"
             ],
             [
              0.8888888888888888,
              "#fdca26"
             ],
             [
              1,
              "#f0f921"
             ]
            ],
            "type": "histogram2dcontour"
           }
          ],
          "mesh3d": [
           {
            "colorbar": {
             "outlinewidth": 0,
             "ticks": ""
            },
            "type": "mesh3d"
           }
          ],
          "parcoords": [
           {
            "line": {
             "colorbar": {
              "outlinewidth": 0,
              "ticks": ""
             }
            },
            "type": "parcoords"
           }
          ],
          "pie": [
           {
            "automargin": true,
            "type": "pie"
           }
          ],
          "scatter": [
           {
            "marker": {
             "colorbar": {
              "outlinewidth": 0,
              "ticks": ""
             }
            },
            "type": "scatter"
           }
          ],
          "scatter3d": [
           {
            "line": {
             "colorbar": {
              "outlinewidth": 0,
              "ticks": ""
             }
            },
            "marker": {
             "colorbar": {
              "outlinewidth": 0,
              "ticks": ""
             }
            },
            "type": "scatter3d"
           }
          ],
          "scattercarpet": [
           {
            "marker": {
             "colorbar": {
              "outlinewidth": 0,
              "ticks": ""
             }
            },
            "type": "scattercarpet"
           }
          ],
          "scattergeo": [
           {
            "marker": {
             "colorbar": {
              "outlinewidth": 0,
              "ticks": ""
             }
            },
            "type": "scattergeo"
           }
          ],
          "scattergl": [
           {
            "marker": {
             "colorbar": {
              "outlinewidth": 0,
              "ticks": ""
             }
            },
            "type": "scattergl"
           }
          ],
          "scattermapbox": [
           {
            "marker": {
             "colorbar": {
              "outlinewidth": 0,
              "ticks": ""
             }
            },
            "type": "scattermapbox"
           }
          ],
          "scatterpolar": [
           {
            "marker": {
             "colorbar": {
              "outlinewidth": 0,
              "ticks": ""
             }
            },
            "type": "scatterpolar"
           }
          ],
          "scatterpolargl": [
           {
            "marker": {
             "colorbar": {
              "outlinewidth": 0,
              "ticks": ""
             }
            },
            "type": "scatterpolargl"
           }
          ],
          "scatterternary": [
           {
            "marker": {
             "colorbar": {
              "outlinewidth": 0,
              "ticks": ""
             }
            },
            "type": "scatterternary"
           }
          ],
          "surface": [
           {
            "colorbar": {
             "outlinewidth": 0,
             "ticks": ""
            },
            "colorscale": [
             [
              0,
              "#0d0887"
             ],
             [
              0.1111111111111111,
              "#46039f"
             ],
             [
              0.2222222222222222,
              "#7201a8"
             ],
             [
              0.3333333333333333,
              "#9c179e"
             ],
             [
              0.4444444444444444,
              "#bd3786"
             ],
             [
              0.5555555555555556,
              "#d8576b"
             ],
             [
              0.6666666666666666,
              "#ed7953"
             ],
             [
              0.7777777777777778,
              "#fb9f3a"
             ],
             [
              0.8888888888888888,
              "#fdca26"
             ],
             [
              1,
              "#f0f921"
             ]
            ],
            "type": "surface"
           }
          ],
          "table": [
           {
            "cells": {
             "fill": {
              "color": "#EBF0F8"
             },
             "line": {
              "color": "white"
             }
            },
            "header": {
             "fill": {
              "color": "#C8D4E3"
             },
             "line": {
              "color": "white"
             }
            },
            "type": "table"
           }
          ]
         },
         "layout": {
          "annotationdefaults": {
           "arrowcolor": "#2a3f5f",
           "arrowhead": 0,
           "arrowwidth": 1
          },
          "autotypenumbers": "strict",
          "coloraxis": {
           "colorbar": {
            "outlinewidth": 0,
            "ticks": ""
           }
          },
          "colorscale": {
           "diverging": [
            [
             0,
             "#8e0152"
            ],
            [
             0.1,
             "#c51b7d"
            ],
            [
             0.2,
             "#de77ae"
            ],
            [
             0.3,
             "#f1b6da"
            ],
            [
             0.4,
             "#fde0ef"
            ],
            [
             0.5,
             "#f7f7f7"
            ],
            [
             0.6,
             "#e6f5d0"
            ],
            [
             0.7,
             "#b8e186"
            ],
            [
             0.8,
             "#7fbc41"
            ],
            [
             0.9,
             "#4d9221"
            ],
            [
             1,
             "#276419"
            ]
           ],
           "sequential": [
            [
             0,
             "#0d0887"
            ],
            [
             0.1111111111111111,
             "#46039f"
            ],
            [
             0.2222222222222222,
             "#7201a8"
            ],
            [
             0.3333333333333333,
             "#9c179e"
            ],
            [
             0.4444444444444444,
             "#bd3786"
            ],
            [
             0.5555555555555556,
             "#d8576b"
            ],
            [
             0.6666666666666666,
             "#ed7953"
            ],
            [
             0.7777777777777778,
             "#fb9f3a"
            ],
            [
             0.8888888888888888,
             "#fdca26"
            ],
            [
             1,
             "#f0f921"
            ]
           ],
           "sequentialminus": [
            [
             0,
             "#0d0887"
            ],
            [
             0.1111111111111111,
             "#46039f"
            ],
            [
             0.2222222222222222,
             "#7201a8"
            ],
            [
             0.3333333333333333,
             "#9c179e"
            ],
            [
             0.4444444444444444,
             "#bd3786"
            ],
            [
             0.5555555555555556,
             "#d8576b"
            ],
            [
             0.6666666666666666,
             "#ed7953"
            ],
            [
             0.7777777777777778,
             "#fb9f3a"
            ],
            [
             0.8888888888888888,
             "#fdca26"
            ],
            [
             1,
             "#f0f921"
            ]
           ]
          },
          "colorway": [
           "#636efa",
           "#EF553B",
           "#00cc96",
           "#ab63fa",
           "#FFA15A",
           "#19d3f3",
           "#FF6692",
           "#B6E880",
           "#FF97FF",
           "#FECB52"
          ],
          "font": {
           "color": "#2a3f5f"
          },
          "geo": {
           "bgcolor": "white",
           "lakecolor": "white",
           "landcolor": "#E5ECF6",
           "showlakes": true,
           "showland": true,
           "subunitcolor": "white"
          },
          "hoverlabel": {
           "align": "left"
          },
          "hovermode": "closest",
          "mapbox": {
           "style": "light"
          },
          "paper_bgcolor": "white",
          "plot_bgcolor": "#E5ECF6",
          "polar": {
           "angularaxis": {
            "gridcolor": "white",
            "linecolor": "white",
            "ticks": ""
           },
           "bgcolor": "#E5ECF6",
           "radialaxis": {
            "gridcolor": "white",
            "linecolor": "white",
            "ticks": ""
           }
          },
          "scene": {
           "xaxis": {
            "backgroundcolor": "#E5ECF6",
            "gridcolor": "white",
            "gridwidth": 2,
            "linecolor": "white",
            "showbackground": true,
            "ticks": "",
            "zerolinecolor": "white"
           },
           "yaxis": {
            "backgroundcolor": "#E5ECF6",
            "gridcolor": "white",
            "gridwidth": 2,
            "linecolor": "white",
            "showbackground": true,
            "ticks": "",
            "zerolinecolor": "white"
           },
           "zaxis": {
            "backgroundcolor": "#E5ECF6",
            "gridcolor": "white",
            "gridwidth": 2,
            "linecolor": "white",
            "showbackground": true,
            "ticks": "",
            "zerolinecolor": "white"
           }
          },
          "shapedefaults": {
           "line": {
            "color": "#2a3f5f"
           }
          },
          "ternary": {
           "aaxis": {
            "gridcolor": "white",
            "linecolor": "white",
            "ticks": ""
           },
           "baxis": {
            "gridcolor": "white",
            "linecolor": "white",
            "ticks": ""
           },
           "bgcolor": "#E5ECF6",
           "caxis": {
            "gridcolor": "white",
            "linecolor": "white",
            "ticks": ""
           }
          },
          "title": {
           "x": 0.05
          },
          "xaxis": {
           "automargin": true,
           "gridcolor": "white",
           "linecolor": "white",
           "ticks": "",
           "title": {
            "standoff": 15
           },
           "zerolinecolor": "white",
           "zerolinewidth": 2
          },
          "yaxis": {
           "automargin": true,
           "gridcolor": "white",
           "linecolor": "white",
           "ticks": "",
           "title": {
            "standoff": 15
           },
           "zerolinecolor": "white",
           "zerolinewidth": 2
          }
         }
        }
       }
      },
      "image/png": "[encoded data removed]",
      "text/html": [
       "<div>                            <div id=\"f8a48fe5-4d08-430b-b79a-af31156cbefb\" class=\"plotly-graph-div\" style=\"height:525px; width:100%;\"></div>            <script type=\"text/javascript\">                require([\"plotly\"], function(Plotly) {                    window.PLOTLYENV=window.PLOTLYENV || {};                                    if (document.getElementById(\"f8a48fe5-4d08-430b-b79a-af31156cbefb\")) {                    Plotly.newPlot(                        \"f8a48fe5-4d08-430b-b79a-af31156cbefb\",                        [{\"dimensions\": [{\"label\": \"Model_1_y_pred_MedAPE_pct_Range_x\", \"values\": [52.81, 17.68]}, {\"label\": \"Model_2_y_pred_MedAPE_pct_Range_x\", \"values\": [52.81, 17.68]}, {\"label\": \"Model_3_y_pred_MedAPE_pct_Range_x\", \"values\": [10.05, 12.13]}], \"domain\": {\"x\": [0.0, 1.0], \"y\": [0.0, 1.0]}, \"name\": \"\", \"type\": \"parcoords\"}],                        {\"legend\": {\"tracegroupgap\": 0}, \"margin\": {\"t\": 60}, \"template\": {\"data\": {\"bar\": [{\"error_x\": {\"color\": \"#2a3f5f\"}, \"error_y\": {\"color\": \"#2a3f5f\"}, \"marker\": {\"line\": {\"color\": \"#E5ECF6\", \"width\": 0.5}}, \"type\": \"bar\"}], \"barpolar\": [{\"marker\": {\"line\": {\"color\": \"#E5ECF6\", \"width\": 0.5}}, \"type\": \"barpolar\"}], \"carpet\": [{\"aaxis\": {\"endlinecolor\": \"#2a3f5f\", \"gridcolor\": \"white\", \"linecolor\": \"white\", \"minorgridcolor\": \"white\", \"startlinecolor\": \"#2a3f5f\"}, \"baxis\": {\"endlinecolor\": \"#2a3f5f\", \"gridcolor\": \"white\", \"linecolor\": \"white\", \"minorgridcolor\": \"white\", \"startlinecolor\": \"#2a3f5f\"}, \"type\": \"carpet\"}], \"choropleth\": [{\"colorbar\": {\"outlinewidth\": 0, \"ticks\": \"\"}, \"type\": \"choropleth\"}], \"contour\": [{\"colorbar\": {\"outlinewidth\": 0, \"ticks\": \"\"}, \"colorscale\": [[0.0, \"#0d0887\"], [0.1111111111111111, \"#46039f\"], [0.2222222222222222, \"#7201a8\"], [0.3333333333333333, \"#9c179e\"], [0.4444444444444444, \"#bd3786\"], [0.5555555555555556, \"#d8576b\"], [0.6666666666666666, \"#ed7953\"], [0.7777777777777778, \"#fb9f3a\"], [0.8888888888888888, \"#fdca26\"], [1.0, \"#f0f921\"]], \"type\": \"contour\"}], \"contourcarpet\": [{\"colorbar\": {\"outlinewidth\": 0, \"ticks\": \"\"}, \"type\": \"contourcarpet\"}], \"heatmap\": [{\"colorbar\": {\"outlinewidth\": 0, \"ticks\": \"\"}, \"colorscale\": [[0.0, \"#0d0887\"], [0.1111111111111111, \"#46039f\"], [0.2222222222222222, \"#7201a8\"], [0.3333333333333333, \"#9c179e\"], [0.4444444444444444, \"#bd3786\"], [0.5555555555555556, \"#d8576b\"], [0.6666666666666666, \"#ed7953\"], [0.7777777777777778, \"#fb9f3a\"], [0.8888888888888888, \"#fdca26\"], [1.0, \"#f0f921\"]], \"type\": \"heatmap\"}], \"heatmapgl\": [{\"colorbar\": {\"outlinewidth\": 0, \"ticks\": \"\"}, \"colorscale\": [[0.0, \"#0d0887\"], [0.1111111111111111, \"#46039f\"], [0.2222222222222222, \"#7201a8\"], [0.3333333333333333, \"#9c179e\"], [0.4444444444444444, \"#bd3786\"], [0.5555555555555556, \"#d8576b\"], [0.6666666666666666, \"#ed7953\"], [0.7777777777777778, \"#fb9f3a\"], [0.8888888888888888, \"#fdca26\"], [1.0, \"#f0f921\"]], \"type\": \"heatmapgl\"}], \"histogram\": [{\"marker\": {\"colorbar\": {\"outlinewidth\": 0, \"ticks\": \"\"}}, \"type\": \"histogram\"}], \"histogram2d\": [{\"colorbar\": {\"outlinewidth\": 0, \"ticks\": \"\"}, \"colorscale\": [[0.0, \"#0d0887\"], [0.1111111111111111, \"#46039f\"], [0.2222222222222222, \"#7201a8\"], [0.3333333333333333, \"#9c179e\"], [0.4444444444444444, \"#bd3786\"], [0.5555555555555556, \"#d8576b\"], [0.6666666666666666, \"#ed7953\"], [0.7777777777777778, \"#fb9f3a\"], [0.8888888888888888, \"#fdca26\"], [1.0, \"#f0f921\"]], \"type\": \"histogram2d\"}], \"histogram2dcontour\": [{\"colorbar\": {\"outlinewidth\": 0, \"ticks\": \"\"}, \"colorscale\": [[0.0, \"#0d0887\"], [0.1111111111111111, \"#46039f\"], [0.2222222222222222, \"#7201a8\"], [0.3333333333333333, \"#9c179e\"], [0.4444444444444444, \"#bd3786\"], [0.5555555555555556, \"#d8576b\"], [0.6666666666666666, \"#ed7953\"], [0.7777777777777778, \"#fb9f3a\"], [0.8888888888888888, \"#fdca26\"], [1.0, \"#f0f921\"]], \"type\": \"histogram2dcontour\"}], \"mesh3d\": [{\"colorbar\": {\"outlinewidth\": 0, \"ticks\": \"\"}, \"type\": \"mesh3d\"}], \"parcoords\": [{\"line\": {\"colorbar\": {\"outlinewidth\": 0, \"ticks\": \"\"}}, \"type\": \"parcoords\"}], \"pie\": [{\"automargin\": true, \"type\": \"pie\"}], \"scatter\": [{\"marker\": {\"colorbar\": {\"outlinewidth\": 0, \"ticks\": \"\"}}, \"type\": \"scatter\"}], \"scatter3d\": [{\"line\": {\"colorbar\": {\"outlinewidth\": 0, \"ticks\": \"\"}}, \"marker\": {\"colorbar\": {\"outlinewidth\": 0, \"ticks\": \"\"}}, \"type\": \"scatter3d\"}], \"scattercarpet\": [{\"marker\": {\"colorbar\": {\"outlinewidth\": 0, \"ticks\": \"\"}}, \"type\": \"scattercarpet\"}], \"scattergeo\": [{\"marker\": {\"colorbar\": {\"outlinewidth\": 0, \"ticks\": \"\"}}, \"type\": \"scattergeo\"}], \"scattergl\": [{\"marker\": {\"colorbar\": {\"outlinewidth\": 0, \"ticks\": \"\"}}, \"type\": \"scattergl\"}], \"scattermapbox\": [{\"marker\": {\"colorbar\": {\"outlinewidth\": 0, \"ticks\": \"\"}}, \"type\": \"scattermapbox\"}], \"scatterpolar\": [{\"marker\": {\"colorbar\": {\"outlinewidth\": 0, \"ticks\": \"\"}}, \"type\": \"scatterpolar\"}], \"scatterpolargl\": [{\"marker\": {\"colorbar\": {\"outlinewidth\": 0, \"ticks\": \"\"}}, \"type\": \"scatterpolargl\"}], \"scatterternary\": [{\"marker\": {\"colorbar\": {\"outlinewidth\": 0, \"ticks\": \"\"}}, \"type\": \"scatterternary\"}], \"surface\": [{\"colorbar\": {\"outlinewidth\": 0, \"ticks\": \"\"}, \"colorscale\": [[0.0, \"#0d0887\"], [0.1111111111111111, \"#46039f\"], [0.2222222222222222, \"#7201a8\"], [0.3333333333333333, \"#9c179e\"], [0.4444444444444444, \"#bd3786\"], [0.5555555555555556, \"#d8576b\"], [0.6666666666666666, \"#ed7953\"], [0.7777777777777778, \"#fb9f3a\"], [0.8888888888888888, \"#fdca26\"], [1.0, \"#f0f921\"]], \"type\": \"surface\"}], \"table\": [{\"cells\": {\"fill\": {\"color\": \"#EBF0F8\"}, \"line\": {\"color\": \"white\"}}, \"header\": {\"fill\": {\"color\": \"#C8D4E3\"}, \"line\": {\"color\": \"white\"}}, \"type\": \"table\"}]}, \"layout\": {\"annotationdefaults\": {\"arrowcolor\": \"#2a3f5f\", \"arrowhead\": 0, \"arrowwidth\": 1}, \"autotypenumbers\": \"strict\", \"coloraxis\": {\"colorbar\": {\"outlinewidth\": 0, \"ticks\": \"\"}}, \"colorscale\": {\"diverging\": [[0, \"#8e0152\"], [0.1, \"#c51b7d\"], [0.2, \"#de77ae\"], [0.3, \"#f1b6da\"], [0.4, \"#fde0ef\"], [0.5, \"#f7f7f7\"], [0.6, \"#e6f5d0\"], [0.7, \"#b8e186\"], [0.8, \"#7fbc41\"], [0.9, \"#4d9221\"], [1, \"#276419\"]], \"sequential\": [[0.0, \"#0d0887\"], [0.1111111111111111, \"#46039f\"], [0.2222222222222222, \"#7201a8\"], [0.3333333333333333, \"#9c179e\"], [0.4444444444444444, \"#bd3786\"], [0.5555555555555556, \"#d8576b\"], [0.6666666666666666, \"#ed7953\"], [0.7777777777777778, \"#fb9f3a\"], [0.8888888888888888, \"#fdca26\"], [1.0, \"#f0f921\"]], \"sequentialminus\": [[0.0, \"#0d0887\"], [0.1111111111111111, \"#46039f\"], [0.2222222222222222, \"#7201a8\"], [0.3333333333333333, \"#9c179e\"], [0.4444444444444444, \"#bd3786\"], [0.5555555555555556, \"#d8576b\"], [0.6666666666666666, \"#ed7953\"], [0.7777777777777778, \"#fb9f3a\"], [0.8888888888888888, \"#fdca26\"], [1.0, \"#f0f921\"]]}, \"colorway\": [\"#636efa\", \"#EF553B\", \"#00cc96\", \"#ab63fa\", \"#FFA15A\", \"#19d3f3\", \"#FF6692\", \"#B6E880\", \"#FF97FF\", \"#FECB52\"], \"font\": {\"color\": \"#2a3f5f\"}, \"geo\": {\"bgcolor\": \"white\", \"lakecolor\": \"white\", \"landcolor\": \"#E5ECF6\", \"showlakes\": true, \"showland\": true, \"subunitcolor\": \"white\"}, \"hoverlabel\": {\"align\": \"left\"}, \"hovermode\": \"closest\", \"mapbox\": {\"style\": \"light\"}, \"paper_bgcolor\": \"white\", \"plot_bgcolor\": \"#E5ECF6\", \"polar\": {\"angularaxis\": {\"gridcolor\": \"white\", \"linecolor\": \"white\", \"ticks\": \"\"}, \"bgcolor\": \"#E5ECF6\", \"radialaxis\": {\"gridcolor\": \"white\", \"linecolor\": \"white\", \"ticks\": \"\"}}, \"scene\": {\"xaxis\": {\"backgroundcolor\": \"#E5ECF6\", \"gridcolor\": \"white\", \"gridwidth\": 2, \"linecolor\": \"white\", \"showbackground\": true, \"ticks\": \"\", \"zerolinecolor\": \"white\"}, \"yaxis\": {\"backgroundcolor\": \"#E5ECF6\", \"gridcolor\": \"white\", \"gridwidth\": 2, \"linecolor\": \"white\", \"showbackground\": true, \"ticks\": \"\", \"zerolinecolor\": \"white\"}, \"zaxis\": {\"backgroundcolor\": \"#E5ECF6\", \"gridcolor\": \"white\", \"gridwidth\": 2, \"linecolor\": \"white\", \"showbackground\": true, \"ticks\": \"\", \"zerolinecolor\": \"white\"}}, \"shapedefaults\": {\"line\": {\"color\": \"#2a3f5f\"}}, \"ternary\": {\"aaxis\": {\"gridcolor\": \"white\", \"linecolor\": \"white\", \"ticks\": \"\"}, \"baxis\": {\"gridcolor\": \"white\", \"linecolor\": \"white\", \"ticks\": \"\"}, \"bgcolor\": \"#E5ECF6\", \"caxis\": {\"gridcolor\": \"white\", \"linecolor\": \"white\", \"ticks\": \"\"}}, \"title\": {\"x\": 0.05}, \"xaxis\": {\"automargin\": true, \"gridcolor\": \"white\", \"linecolor\": \"white\", \"ticks\": \"\", \"title\": {\"standoff\": 15}, \"zerolinecolor\": \"white\", \"zerolinewidth\": 2}, \"yaxis\": {\"automargin\": true, \"gridcolor\": \"white\", \"linecolor\": \"white\", \"ticks\": \"\", \"title\": {\"standoff\": 15}, \"zerolinecolor\": \"white\", \"zerolinewidth\": 2}}}},                        {\"responsive\": true}                    ).then(function(){\n",
       "                            \n",
       "var gd = document.getElementById('f8a48fe5-4d08-430b-b79a-af31156cbefb');\n",
       "var x = new MutationObserver(function (mutations, observer) {{\n",
       "        var display = window.getComputedStyle(gd).display;\n",
       "        if (!display || display === 'none') {{\n",
       "            console.log([gd, 'removed!']);\n",
       "            Plotly.purge(gd);\n",
       "            observer.disconnect();\n",
       "        }}\n",
       "}});\n",
       "\n",
       "// Listen for the removal of the full notebook cells\n",
       "var notebookContainer = gd.closest('#notebook-container');\n",
       "if (notebookContainer) {{\n",
       "    x.observe(notebookContainer, {childList: true});\n",
       "}}\n",
       "\n",
       "// Listen for the clearing of the current output cell\n",
       "var outputEl = gd.closest('.output');\n",
       "if (outputEl) {{\n",
       "    x.observe(outputEl, {childList: true});\n",
       "}}\n",
       "\n",
       "                        })                };                });            </script>        </div>"
      ]
     },
     "metadata": {},
     "output_type": "display_data"
    }
   ],
   "source": [
    "\n",
    "df_pass1 = pd.read_csv('.\\\\results\\\\AllResults_FirstPass.csv')\n",
    "df_pass2 = pd.read_csv('.\\\\results\\\\AllResults_SecondPass.csv')\n",
    "\n",
    "df = df_pass1.merge(df_pass2,how='left',on=['file_name'])\n",
    "df = df.filter(regex='MedAPE_pct_Range_x')\n",
    "\n",
    "fig = px.parallel_coordinates(df)\n",
    "\n",
    "# fig = px.parallel_coordinates(df, color=\"species_id\", labels={\"species_id\": \"Species\",\n",
    "#                 \"sepal_width\": \"Sepal Width\", \"sepal_length\": \"Sepal Length\",\n",
    "#                 \"petal_width\": \"Petal Width\", \"petal_length\": \"Petal Length\", },\n",
    "#                              color_continuous_scale=px.colors.diverging.Tealrose,\n",
    "#                              color_continuous_midpoint=2)\n",
    "\n",
    "fig.show()"
   ]
  },
  {
   "cell_type": "code",
   "execution_count": null,
   "id": "9f525ae2-a1c4-414d-a9e6-dfe26882361f",
   "metadata": {},
   "outputs": [],
   "source": [
    "df_results.filter(regex='MedAPE_pct_Range_x')"
   ]
  },
  {
   "cell_type": "code",
   "execution_count": null,
   "id": "789020d4-3c79-4800-910f-5a0fec87fb46",
   "metadata": {},
   "outputs": [],
   "source": [
    "df_results.filter(regex='Model_')\n",
    "df.to_csv('results.csv')"
   ]
  },
  {
   "cell_type": "code",
   "execution_count": null,
   "id": "5849f76e-5eac-4ce7-b611-91c3b33b4585",
   "metadata": {},
   "outputs": [],
   "source": [
    "df_stats = df_stats.merge(df_results,how='right',on=['building','meter'])"
   ]
  },
  {
   "cell_type": "code",
   "execution_count": null,
   "id": "29a3b3ce-72b9-4a3b-99ca-6e033d1574b9",
   "metadata": {},
   "outputs": [],
   "source": [
    "df_stats"
   ]
  },
  {
   "cell_type": "code",
   "execution_count": null,
   "id": "23c7b9aa-d2ef-4df4-9fad-544912ece2e6",
   "metadata": {},
   "outputs": [],
   "source": [
    "df= df_results.filter(regex='RMSE')\n",
    "df.head()"
   ]
  },
  {
   "cell_type": "raw",
   "id": "407648ae-f687-42d6-8d85-2a43d9f8e5d6",
   "metadata": {},
   "source": [
    "# Data is daily\n",
    "# # data_sizes = [360] # Start with one year # Train on whole year\n",
    "\n",
    "output_vis_folder = '.\\\\visualization\\\\models\\\\short_train\\\\'\n",
    "\n",
    "# Control Variables that will run these specific models if True\n",
    "ARIMA = True\n",
    "FBProphet = True\n",
    "xgboost = True\n",
    "\n",
    "# Show Visualizations\n",
    "quiet_mode = True\n",
    "\n",
    "resample = True\n",
    "backfill = 'mean'\n",
    "exogen = True\n",
    "\n",
    "thresh = 50\n",
    "\n",
    "# Dictionary to hold all the results, will turn into a dataframe\n",
    "stats_all = {}\n",
    "stats_list = []\n",
    "\n",
    "stats = {}\n",
    "\n",
    "# For each file in the directory\n",
    "direct = '.\\\\data_clean\\\\buildings_by_meter\\\\'\n",
    "\n",
    "files = df_stats['file_name']\n",
    "bl = df_stats['building']\n",
    "\n",
    "bld_mtr = ['1073_2',\n",
    "           '1073_1',\n",
    "           '1073_0',\n",
    "           '1073_1',\n",
    "           '1073_2',\n",
    "           '1220_2',\n",
    "           '1220_1',\n",
    "           '1220_0',\n",
    "           '1372_1',\n",
    "           '1156_2',\n",
    "           '1156_1',\n",
    "           '1156_0',\n",
    "           '1148_0',\n",
    "           '1148_1',\n",
    "           '1148_2',\n",
    "           '797_0',\n",
    "           '797_1',\n",
    "           '797_2',\n",
    "           '1380_0',\n",
    "           '1380_1',\n",
    "           '1168_2',\n",
    "           '1168_1',\n",
    "           '1168_0',\n",
    "           '1203_2',\n",
    "           '1109_2',\n",
    "           '1030_0',\n",
    "           '1030_1',\n",
    "           '1030_3',\n",
    "           '1031_3',\n",
    "           '1258_0',\n",
    "           '1258_1',\n",
    "           '1258_2',\n",
    "           '1258_3',\n",
    "           '1259_0',\n",
    "           '1259_1',\n",
    "           '1259_2',\n",
    "           '1259_3']\n",
    "\n",
    "for num,file in enumerate(files):\n",
    "    if file.split('.pkl')[0] not in bld_mtr:\n",
    "        continue\n",
    "    else:\n",
    "        print('File: ' + file)\n",
    "    \n",
    "    # Temporary dictionary that represents a row\n",
    "    stats = {}\n",
    "    \n",
    "    # Screen results\n",
    "    if df_stats.iloc[num]['per_data'] < 80:\n",
    "        stats['status'] = 'FAIL: Length < 80% data present'\n",
    "        print('not enough data')\n",
    "        continue\n",
    "\n",
    "    try:\n",
    "        df = pd.read_pickle(direct + file)\n",
    "    except FileNotFoundError:\n",
    "        continue\n",
    "    \n",
    "    print('Length on load: ' + str(len(df)))\n",
    "    stats['Len_load'] = len(df)\n",
    "    \n",
    "    if len(df) < 20000:\n",
    "        stats['status'] = 'FAIL: Length < 20k'\n",
    "        continue\n",
    "\n",
    "    # Load key variables in dictionary\n",
    "    stats['building'] = df.iloc[0]['building_id']\n",
    "    stats['square_feet'] = df.iloc[0]['square_feet']   \n",
    "    stats['meter'] = bldg_meter = df.iloc[0]['meter']\n",
    "    stats['file_name'] = file\n",
    " \n",
    "    # Process Columns\n",
    "    df = building_meter_drop(df) # Drop poorly correlated columns\n",
    "    df = building_meter_interp(df) # Time series linear interpolation due to standard time deltas\n",
    "    df = building_meter_agg(df,'1D') # aggregate remaining columns\n",
    "    \n",
    "    print('Length after agg: ' + str(len(df)))\n",
    "    stats['Len_agg-clean'] = len(df)\n",
    "    \n",
    "    # Find out how many lingering NA columns are left\n",
    "    b4_NA = len(df)\n",
    "    df.dropna(how='any',inplace=True)\n",
    "    tot = b4_NA - len(df)\n",
    "    print('Dropped N/A cols: ' + str(tot))\n",
    "    \n",
    "    #exit if we drop nan rows\n",
    "    if tot > 100:\n",
    "        stats['status'] = 'FAIL: Drop over 100 Rows'\n",
    "        continue\n",
    "    \n",
    "    print('Length after blank drop: ' + str(len(df)))\n",
    "    stats['Len_blank'] = len(df)\n",
    "    \n",
    "    # Keep track of Models\n",
    "    model_ctr = 1 # Initialize Model Counter\n",
    "    model_prefixes = []\n",
    "\n",
    "    # Split the whole set\n",
    "    df_train = df.loc['2016-01-01':'2016-09-30']\n",
    "    # Test 4 weeks\n",
    "    df_test = df.loc['2016-10-01':'2016-10-31']\n",
    "    \n",
    "    # skip building if we dont have enough data\n",
    "#     try:\n",
    "#         if (len(df_train) / len(df_test)) < 2.5:\n",
    "#             print('Not enough training data')\n",
    "#         continue\n",
    "#     except ZeroDivisionError as ze:\n",
    "#         print('DF empty')\n",
    "#         continue\n",
    "      \n",
    "    X_train = df_train.drop(labels=['meter_reading'],axis=1)\n",
    "    X_train.fillna(method='ffill')\n",
    "\n",
    "    X_test = df_test.drop(labels=['meter_reading'],axis=1)\n",
    "    X_test.fillna(method='ffill')\n",
    "\n",
    "    y_train = df_train['meter_reading']\n",
    "    y_train.fillna(method='ffill')\n",
    "\n",
    "    y_test = df_test['meter_reading']\n",
    "    y_test.fillna(method='ffill')\n",
    "    \n",
    "    # Get rid of constants\n",
    "    X_train.drop(labels=['site_id','building_id','square_feet'],axis=1,inplace=True)\n",
    "    X_test.drop(labels=['site_id','building_id','square_feet'],axis=1,inplace=True)\n",
    "    \n",
    "    #   ######################################    ARIMA   ##################################################\n",
    "    if ARIMA:\n",
    "#                 # Keep track of model prefix column names by building prefix to number iterations\n",
    "        model_prefix = 'Model_' + str(model_ctr)\n",
    "        model_prefixes.append(model_prefix)\n",
    "        \n",
    "        # Populate DataFrame with statistics\n",
    "        stats[model_prefix + '_' + 'Type'] = 'ARIMA_Exogen'\n",
    "        stats[model_prefix + '_' + 'Description'] = 'ARIMA_Exogen, with daily aggregation'\n",
    "#         stats[model_prefix + '_' + 'DateStart_Train'] = str(X_train.iloc[0].name).split(\" \")[0]\n",
    "#         stats[model_prefix + '_' + 'DateEnd_Train'] = str(X_train.iloc[-1].name).split(\" \")[0]\n",
    "#         stats[model_prefix + '_' + 'DateStart_Test'] = str(X_test.iloc[0].name).split(\" \")[0]\n",
    "#         stats[model_prefix + '_' + 'DateEnd_Test'] = str(X_test.iloc[-1].name).split(\" \")[0]\n",
    "        stats[model_prefix + '_' + 'Len_Train'] = len(X_train)\n",
    "        stats[model_prefix + '_' + 'Len_Test'] = len(X_test)\n",
    "\n",
    "        print('ARIMA Model......',end=' ')\n",
    "\n",
    "        # Try building model\n",
    "        try:\n",
    "            model = pm.auto_arima(y_train,X=X_train,trace=False,n_fits=10,seasonal=True,m=7,error_action='ignore')\n",
    "            stats[model_prefix + '_' + 'Status'] = 'PASS'\n",
    "        except ValueError as ve:\n",
    "            print('Model will not converge')\n",
    "            stats[model_prefix + '_' + 'Status'] = 'FAIL'\n",
    "\n",
    "        preds, conf_int = model.predict(X=X_test,n_periods=y_test.shape[0], return_conf_int=True)\n",
    "\n",
    "        predict = pd.Series(preds,index=y_test.index)\n",
    "\n",
    "        # Keep each slice data here\n",
    "        df_result = pd.concat([predict,y_test],axis=1)\n",
    "        df_result.columns = ['meter_predict_ARIMA','meter_actual']\n",
    "\n",
    "        RMSE_error = (mean_squared_error(df_result['meter_predict_ARIMA'],df_result['meter_actual'],squared=False))\n",
    "\n",
    "        stats[model_prefix + '_' + 'RMSE'] = RMSE_error\n",
    "        stats[model_prefix + '_' + 'y_test_MAX'] = np.max(df_result['meter_actual'])\n",
    "        stats[model_prefix + '_' + 'y_test_MIN'] = np.min(df_result['meter_actual'])\n",
    "        stats[model_prefix + '_' + 'y_test_AVG'] = np.mean(df_result['meter_actual'])\n",
    "        stats[model_prefix + '_' + 'y_test_STD'] = np.std(df_result['meter_actual'])\n",
    "        stats[model_prefix + '_' + 'y_pred_MAX'] = np.max(df_result['meter_predict_ARIMA'])\n",
    "        stats[model_prefix + '_' + 'y_pred_MIN'] = np.min(df_result['meter_predict_ARIMA'])\n",
    "        stats[model_prefix + '_' + 'y_pred_AVG'] = np.mean(df_result['meter_predict_ARIMA'])\n",
    "        stats[model_prefix + '_' + 'y_pred_STD'] = np.std(df_result['meter_predict_ARIMA'])\n",
    "\n",
    "        # RMSE relative to the range of the test range\n",
    "        stats[model_prefix + '_' + 'y_pred_RMSE_pct_Range'] = RMSE_error / \\\n",
    "                                             ((np.max(df_result['meter_actual'])) \\\n",
    "                                              - (np.min(df_result['meter_actual']))) \\\n",
    "                                              * 100\n",
    "\n",
    "        # Create Graph\n",
    "        plt.ioff()\n",
    "        plt.figure(figsize=(20,10))\n",
    "        plt.plot(df_result['meter_predict_ARIMA'],label=\"ARIMA\")\n",
    "        plt.plot(df_result['meter_actual'],label=\"Actual\")\n",
    "        plt.legend(loc = 'upper right')      \n",
    "        plt.title('Bldg ' + str(stats['building']) + ' Meter ' + str(stats['meter']) + ' ' + model_prefix + '_' + 'ARIMA_Exogen')\n",
    "        plt.xlabel('Date')\n",
    "        plt.ylabel('Meter Reading')\n",
    "        \n",
    "        plt.savefig(output_vis_folder + str(stats['building']) + '_' + str(stats['meter']) + '_ARIMA_Exogen.jpg')\n",
    "        print('RMSE: ' + str(RMSE_error)) \n",
    "          \n",
    "         ######################################    PROPHET   ##################################################\n",
    "        if FBProphet:           \n",
    "            print('Prophet......',end=' ')\n",
    "            model_ctr += 1 # Increment Model Counter\n",
    "            model_prefix = 'Model_' + str(model_ctr) # Build string for keys\n",
    "            model_prefixes.append(model_prefix)\n",
    "\n",
    "            # Need renaming for Prophet - data prep\n",
    "            df_prophet_train = df_train.reset_index()\n",
    "            df_prophet_test = df_test.reset_index()\n",
    "            \n",
    "            \n",
    "            # Get rid of constants\n",
    "            df_prophet_train.drop(labels=['site_id','building_id','square_feet'],axis=1,inplace=True)\n",
    "            df_prophet_test.drop(labels=['site_id','building_id','square_feet'],axis=1,inplace=True)\n",
    "\n",
    "            # Timestamp must be ds column\n",
    "            df_prophet_train = df_prophet_train.rename(columns={'timestamp':'ds','meter_reading':'y'})\n",
    "            df_prophet_test = df_prophet_test.rename(columns={'timestamp':'ds','meter_reading':'y'})\n",
    "            \n",
    "            \n",
    "            # Populate DataFrame with statistics\n",
    "            stats[model_prefix + '_' + 'Type'] = 'Prophet_Exogen'\n",
    "#             stats[model_prefix + '_' + 'DateStart_Train'] = str(df_prophet_train.iloc[0]['ds']).split(\" \")[0]\n",
    "#             stats[model_prefix + '_' + 'DateEnd_Train'] = str(df_prophet_train.iloc[-1]['ds']).split(\" \")[0]\n",
    "#             stats[model_prefix + '_' + 'DateStart_Test'] = str(df_prophet_test.iloc[0].name).split(\" \")[0]\n",
    "#             stats[model_prefix + '_' + 'DateEnd_Test'] = str(df_prophet_test.iloc[-1].name).split(\" \")[0]           \n",
    "            stats[model_prefix + '_' + 'Len_Train'] = len(df_prophet_train)\n",
    "            stats[model_prefix + '_' + 'Len_Test'] = len(df_prophet_test)\n",
    "\n",
    "            # Initialize Prophet Model\n",
    "            m = Prophet(daily_seasonality=True)\n",
    "            m.add_regressor('air_temperature')\n",
    "            m.add_regressor('day_of_week')\n",
    "            m.add_regressor('weekend')\n",
    "            m.add_regressor('month')\n",
    "            m.add_regressor('season')\n",
    "            m.fit(df_prophet_train)\n",
    "            predicts = m.predict(df_prophet_test)\n",
    "\n",
    "            RMSE_error = (mean_squared_error(predicts['yhat'],df_prophet_test['y'],squared=False))\n",
    "\n",
    "            stats[model_prefix + '_' + 'RMSE'] = RMSE_error\n",
    "            stats[model_prefix + '_' + 'y_test_MAX'] = np.max(df_prophet_test['y'])\n",
    "            stats[model_prefix + '_' + 'y_test_MIN'] = np.min(df_prophet_test['y'])\n",
    "            stats[model_prefix + '_' + 'y_test_AVG'] = np.mean(df_prophet_test['y'])\n",
    "            \n",
    "            # RMSE relative to the range of the test range\n",
    "            stats[model_prefix + '_' + 'y_pred_RMSE_pct_Range'] = RMSE_error / \\\n",
    "                                                 ((np.max(df_prophet_test['y'])) \\\n",
    "                                                  - (np.min(df_prophet_test['y']))) \\\n",
    "                                                  * 100\n",
    "\n",
    "            stats[model_prefix + '_' + 'y_pred_MAX'] = np.max(predicts['yhat'])\n",
    "            stats[model_prefix + '_' + 'y_pred_MIN'] = np.min(predicts['yhat'])\n",
    "            stats[model_prefix + '_' + 'y_pred_AVG'] = np.mean(predicts['yhat'])\n",
    "\n",
    "            plt.ioff()\n",
    "            plt.figure(figsize=(20,10))\n",
    "            plt.plot(predicts['yhat'],label=\"Prophet\")\n",
    "            plt.plot(df_prophet_test['y'],label=\"Actual\")\n",
    "            plt.legend(loc = 'upper right')\n",
    "            \n",
    "            plt.title('Bldg ' + str(stats['building']) + ' Meter ' + str(stats['meter']) + ' ' + \\\n",
    "                      model_prefix + '_' + 'Prophet_Exogen')\n",
    "            plt.xlabel('Date')\n",
    "            plt.ylabel('Meter Reading')\n",
    "            \n",
    "            plt.savefig(output_vis_folder + str(stats['building']) + '_' + str(stats['meter']) + '_Prophet_Exogen.jpg')\n",
    "\n",
    "            print('RMSE: ' + str(RMSE_error))\n",
    "                    \n",
    "#             ######################################    XGBOOST   ##################################################\n",
    "            if xgboost:\n",
    "                print('XGBoost......',end=' ')\n",
    "                model_ctr += 1\n",
    "                model_prefix = 'Model_' + str(model_ctr)\n",
    "                model_prefixes.append(model_prefix)\n",
    "\n",
    "                # Populate DataFrame with statistics\n",
    "                stats[model_prefix + '_' + 'Type'] = 'XGBoost'\n",
    "                stats[model_prefix + '_' + 'Description'] = 'XGBoost_Exogen, with daily aggregation'\n",
    "#                 stats[model_prefix + '_' + 'DateStart_Train'] = str(X_train.iloc[0].name).split(\" \")[0]\n",
    "#                 stats[model_prefix + '_' + 'DateEnd_Train'] = str(X_train.iloc[-1].name).split(\" \")[0]\n",
    "#                 stats[model_prefix + '_' + 'DateStart_Test'] = str(X_test.iloc[0].name).split(\" \")[0]\n",
    "#                 stats[model_prefix + '_' + 'DateEnd_Test'] = str(X_test.iloc[-1].name).split(\" \")[0]\n",
    "                stats[model_prefix + '_' + 'Len_Train'] = len(X_train)\n",
    "                stats[model_prefix + '_' + 'Len_Test'] = len(X_test)\n",
    "    \n",
    "                # Instantiate Model\n",
    "                gbm_model = xgb.XGBRegressor(objective = 'reg:squarederror', n_estimators = 1000, seed = 123)\n",
    "                gbm_model.fit(X_train,y_train)\n",
    "                predict = gbm_model.predict(X_test)\n",
    "                \n",
    "                predict = pd.Series(predict,index=y_test.index)\n",
    "                \n",
    "                df_result = pd.concat([predict,y_test],axis=1,ignore_index=True)\n",
    "                df_result.columns = ['meter_predict_XGBoost','meter_actual']\n",
    "                df_result.sort_index(inplace=True)\n",
    "                \n",
    "                RMSE_error = (mean_squared_error(predict,y_test,squared=False))\n",
    "                \n",
    "                stats[model_prefix + '_' + 'RMSE'] = RMSE_error\n",
    "                stats[model_prefix + '_' + 'y_test_MAX'] = np.max(df_result['meter_actual'])\n",
    "                stats[model_prefix + '_' + 'y_test_MIN'] = np.min(df_result['meter_actual'])\n",
    "                stats[model_prefix + '_' + 'y_test_AVG'] = np.mean(df_result['meter_actual'])\n",
    "                stats[model_prefix + '_' + 'y_test_STD'] = np.std(df_result['meter_actual'])\n",
    "                stats[model_prefix + '_' + 'y_pred_MAX'] = np.max(df_result['meter_predict_XGBoost'])\n",
    "                stats[model_prefix + '_' + 'y_pred_MIN'] = np.min(df_result['meter_predict_XGBoost'])\n",
    "                stats[model_prefix + '_' + 'y_pred_AVG'] = np.mean(df_result['meter_predict_XGBoost'])\n",
    "                stats[model_prefix + '_' + 'y_pred_STD'] = np.std(df_result['meter_predict_XGBoost'])\n",
    "\n",
    "                # RMSE relative to the range of the test range\n",
    "                stats[model_prefix + '_' + 'y_pred_RMSE_pct_Range'] = RMSE_error / \\\n",
    "                                                     ((np.max(df_result['meter_actual'])) \\\n",
    "                                                      - (np.min(df_result['meter_actual']))) \\\n",
    "                                                      * 100\n",
    "                \n",
    "                plt.figure(figsize=(20,10))\n",
    "                plt.plot(df_result['meter_predict_XGBoost'],label=\"XGBoost\")\n",
    "                plt.plot(df_result['meter_actual'],label=\"Actual\")\n",
    "                plt.legend(loc = 'upper right')\n",
    "                plt.title('Bldg ' + str(stats['building']) + ' Meter ' + str(stats['meter']) + ' ' + model_prefix + '_' + 'XGBoost')\n",
    "                plt.xlabel('Date')\n",
    "                plt.ylabel('Meter Reading')\n",
    "                plt.savefig(output_vis_folder + str(stats['building']) + '_' + str(stats['meter']) + '_XGBoost.jpg')\n",
    "                print('RMSE: ' + str(RMSE_error))\n",
    "                \n",
    "#             df_viz = pd.DataFrame(df_result['meter_predict_XGBoost'],df_result['meter_predict_ARIMA'],df_result['meter_predict_Prophet'],index=df_result.index)\n",
    "           \n",
    "\n",
    "#             plt.plot(df_result['meter_predict_ARIMA'],label=\"ARIMA\")\n",
    "#             sns.lineplot(data=[df_result['meter_predict_XGBoost'],\n",
    "#                                 df_result['meter_predict_ARIMA']],\n",
    "#                          x=df_result.index,\n",
    "#                          y=)\n",
    "#             plt.plot(df_result['meter_predict_XGBoost'],label=\"XGBoost\")\n",
    "#             plt.plot(df_result['meter_actual'],label=\"Actual\")\n",
    "#             plt.legend(loc = 'upper right')\n",
    "#             plt.savefig(output_vis_folder + str(stats['building']) + '_' + str(stats['meter']) + '_All.jpg')\n",
    "\n",
    "#             print(df_viz)\n",
    "\n",
    "        print()\n",
    "        print()\n",
    "    \n",
    "        stats_list.append(stats)\n",
    "        # Write dictionary and file every 10 buildings to save results\n",
    "        if stats['building'] % 10 == 0:\n",
    "            df_results = pd.DataFrame(stats_list)\n",
    "            df_results = pd.DataFrame(stats_list)\n",
    "            df_results.to_csv('Model_Results_1.csv',float_format=\"{:,.2f}\".format)\n",
    "            \n",
    "df_results = pd.DataFrame(stats_list)\n",
    "df_results.to_csv('Model_Results_2.csv',float_format=\"{:,.2f}\".format)\n"
   ]
  },
  {
   "cell_type": "code",
   "execution_count": null,
   "id": "7fc6a270-d3bf-4904-816a-115326873361",
   "metadata": {},
   "outputs": [],
   "source": [
    "df_stats = df_results.merge(df_stats,how='left',on=['file_name'])"
   ]
  },
  {
   "cell_type": "code",
   "execution_count": null,
   "id": "d5728f9a-76fe-4e90-8eda-e38bc6148f6f",
   "metadata": {},
   "outputs": [],
   "source": [
    "df_stats.to_csv('AllResults_2_subset.csv',float_format=\"{:,.2f}\".format)"
   ]
  },
  {
   "cell_type": "code",
   "execution_count": null,
   "id": "0a39992d-0d27-4e2f-bdd8-98570714e95f",
   "metadata": {},
   "outputs": [],
   "source": [
    "df_results.filter(regex='RMSE')"
   ]
  },
  {
   "cell_type": "code",
   "execution_count": null,
   "id": "955f7ae0-b0af-43e4-801a-6f4ab5dcd91e",
   "metadata": {},
   "outputs": [],
   "source": [
    "df_results.filter(regex='Model_')\n",
    "df.to_csv('results.csv')"
   ]
  },
  {
   "cell_type": "code",
   "execution_count": null,
   "id": "d249abe1-7015-471c-a74d-3383cec252e6",
   "metadata": {},
   "outputs": [],
   "source": [
    "df_stats = df_stats.merge(df_results,how='right',on=['building','meter'])"
   ]
  },
  {
   "cell_type": "code",
   "execution_count": null,
   "id": "f65011d7-88fe-494d-b696-cc46fff95125",
   "metadata": {},
   "outputs": [],
   "source": [
    "df_stats"
   ]
  },
  {
   "cell_type": "code",
   "execution_count": null,
   "id": "0db24935-c933-43bf-ac5b-417d6b389fa5",
   "metadata": {},
   "outputs": [],
   "source": [
    "df= df_results.filter(regex='RMSE')\n",
    "df.head()"
   ]
  },
  {
   "cell_type": "markdown",
   "id": "suspended-villa",
   "metadata": {},
   "source": [
    "## Time Series Split Cross Validation"
   ]
  },
  {
   "cell_type": "code",
   "execution_count": null,
   "id": "flexible-sauce",
   "metadata": {
    "tags": []
   },
   "outputs": [],
   "source": [
    "tss =  TimeSeriesSplit(n_splits=4,gap=4,test_size=14,max_train_size=120) #too generic\n",
    "rmse = []\n",
    "count = 1\n",
    "\n",
    "results = pd.DataFrame()\n",
    "\n",
    "\n",
    "# Write function that rolls next pd.delta?\n",
    "\n",
    "for train_index, test_index in tss.split(df_train): \n",
    "    \n",
    "    cv_train, cv_test = df_train.iloc[train_index]['meter_reading'], df_train.iloc[test_index]['meter_reading']\n",
    "    model = pm.auto_arima(cv_train,trace=True,n_fits=20)\n",
    "    print(model.summary())\n",
    "    \n",
    "    # \n",
    "    predicts = model.predict(n_periods=14)\n",
    "    true_values = cv_test.values\n",
    "    error = ((sqrt(mean_squared_error(predicts,true_values))))\n",
    "    model.plot_diagnostics()\n",
    "    rmse.append(error)\n",
    "    print(error)\n",
    "print('RMSE')\n",
    "print(np.mean(rmse))"
   ]
  },
  {
   "cell_type": "markdown",
   "id": "alternative-terminology",
   "metadata": {},
   "source": [
    "# Rolling Forecast ARIMA\n",
    "### Walk-forward validation"
   ]
  },
  {
   "cell_type": "raw",
   "id": "neutral-algeria",
   "metadata": {},
   "source": [
    "### Split train / test\n",
    "\n",
    "data_len = 366\n",
    "split_test_doy = 270\n",
    "\n",
    "df_train = df.iloc[0:split_test_doy]\n",
    "df_test = df.iloc[split_test_doy:data_len]"
   ]
  },
  {
   "cell_type": "raw",
   "id": "oriented-current",
   "metadata": {},
   "source": [
    "# Brownlee Time Series Forecasting with Python pg216 (GP Book 229)\n",
    "history = [x for x in df_train['meter_reading'].values]\n",
    "predicted_vals = [] # New predicted value list\n",
    "\n",
    "# Step through each meter reading\n",
    "for t in range(len(df_test['meter_reading'])):\n",
    "    model = ARIMA(history, order=(p,d,q))\n",
    "    model_fit = model.fit()\n",
    "    output = model_fit.forecast(7)\n",
    "    yhat = output[6]\n",
    "    print(len(output))\n",
    "    predicted_vals.append(yhat)\n",
    "    observation = df_test['meter_reading'].iloc[t]\n",
    "    history.append(observation)\n",
    "\n",
    "   # Show every 5 days\n",
    "\n",
    "    print('Iteration: ' + str(t) + ' Date: ' + str(df_test.index[t]),end=\" \")\n",
    "    print('Predicted Meter Reading = %f, Expected Meter Reading = %f' % (yhat,observation))\n",
    "\n",
    "rmse = sqrt(mean_squared_error(df_test['meter_reading'], predicted_vals))\n",
    "print('p = ' + str(p) + ' d = ' + str(d) + ' q = ' + str(q))\n",
    "print('Test RMSE: %.3f' % rmse)\n",
    "\n",
    "df_predict = pd.DataFrame(predicted_vals,index=df_test.index,columns=['meter_predict'])\n",
    "\n",
    "pyplot.plot(df_test['meter_reading'])\n",
    "pyplot.plot(df_predict['meter_predict'], color='red')"
   ]
  },
  {
   "cell_type": "code",
   "execution_count": null,
   "id": "solid-chamber",
   "metadata": {},
   "outputs": [],
   "source": [
    "model.plot(forecast)"
   ]
  },
  {
   "cell_type": "code",
   "execution_count": null,
   "id": "directed-cruise",
   "metadata": {},
   "outputs": [],
   "source": [
    "\n",
    "#             # Fill Nas\n",
    "#             #Counts of null values \n",
    "#             # Backfill with means\n",
    "#             if np.max(X_train.isnull().sum().sort_values(ascending=False)) > 0:\n",
    "#                 stats[model_prefix + '_' + 'X_train_Backfill'] = backfill\n",
    "#                 if backfill == 'mean':\n",
    "#                     X_train.fillna(X_train.mean(), inplace=True)\n",
    "\n",
    "#             # Backfill with mean\n",
    "#             if np.max(X_test.isnull().sum().sort_values(ascending=False)) > 0:\n",
    "#                 stats[model_prefix + '_' + 'X_test_Backfill'] = backfill\n",
    "#                 if backfill == 'mean':\n",
    "#                     X_test.fillna(X_test.mean(), inplace=True)\n",
    "                    \n",
    "#             # Backfill with mean\n",
    "#             if np.max(y_test.isnull().sum().sort_values(ascending=False)) > 0:\n",
    "#                 stats[model_prefix + '_' + 'X_test_Backfill'] = backfill\n",
    "#                 if backfill == 'mean':\n",
    "#                     y_test.fillna(X_test.mean(), inplace=True)\n",
    "                    \n",
    "#             # Backfill with mean\n",
    "#             if np.max(y_train.isnull().sum().sort_values(ascending=False)) > 0:\n",
    "#                 stats[model_prefix + '_' + 'X_test_Backfill'] = backfill\n",
    "#                 if backfill == 'mean':\n",
    "#                     y_train.fillna(X_train.mean(), inplace=True)"
   ]
  }
 ],
 "metadata": {
  "kernelspec": {
   "display_name": "Capstone",
   "language": "python",
   "name": "cap1"
  },
  "language_info": {
   "codemirror_mode": {
    "name": "ipython",
    "version": 3
   },
   "file_extension": ".py",
   "mimetype": "text/x-python",
   "name": "python",
   "nbconvert_exporter": "python",
   "pygments_lexer": "ipython3",
   "version": "3.8.8"
  }
 },
 "nbformat": 4,
 "nbformat_minor": 5
}
