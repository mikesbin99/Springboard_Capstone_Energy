{
 "cells": [
  {
   "cell_type": "markdown",
   "id": "least-music",
   "metadata": {},
   "source": [
    "(https://www.kaggle.com/c/ashrae-energy-prediction/)"
   ]
  },
  {
   "cell_type": "markdown",
   "id": "engaged-scope",
   "metadata": {},
   "source": [
    "# ASRAE - Modeling"
   ]
  },
  {
   "cell_type": "code",
   "execution_count": 34,
   "id": "informal-ribbon",
   "metadata": {},
   "outputs": [
    {
     "name": "stdout",
     "output_type": "stream",
     "text": [
      "pmdarima version: 1.8.2\n"
     ]
    }
   ],
   "source": [
    "import numpy as np\n",
    "import pandas as pd\n",
    "\n",
    "\n",
    "import seaborn as sns\n",
    "import plotly as plt\n",
    "import plotly.express as px\n",
    "import plotly.figure_factory as ff\n",
    "import matplotlib.pyplot as plt\n",
    "\n",
    "from math import sqrt\n",
    "\n",
    "import glob\n",
    "\n",
    "import pandas_profiling as ppf\n",
    "import sweetviz as sv\n",
    "import missingno as msno\n",
    "\n",
    "import pprint\n",
    "import datetime\n",
    "from math import sqrt\n",
    "\n",
    "from plotly.subplots import make_subplots\n",
    "import plotly.graph_objects as go\n",
    "\n",
    "from sklearn.metrics import mean_squared_error\n",
    "from sklearn.model_selection import TimeSeriesSplit\n",
    "\n",
    "from statsmodels.tsa.seasonal import seasonal_decompose\n",
    "from statsmodels.graphics.tsaplots import plot_acf\n",
    "from statsmodels.graphics.tsaplots import plot_pacf\n",
    "from statsmodels.tsa.arima.model import ARIMA\n",
    "import statsmodels.api as sm\n",
    "\n",
    "from sklearn import preprocessing\n",
    "from sklearn.model_selection import GridSearchCV\n",
    "\n",
    "from prophet import Prophet\n",
    "\n",
    "import xgboost as xgb\n",
    "\n",
    "import pmdarima as pm\n",
    "from pmdarima import model_selection\n",
    "from pmdarima import pipeline\n",
    "from pmdarima import preprocessing as ppc\n",
    "from pmdarima import arima\n",
    "from pmdarima.arima import ndiffs\n",
    "from pmdarima.arima import ADFTest\n",
    "\n",
    "print(\"pmdarima version: %s\" % pm.__version__)\n",
    "\n",
    "import tools as tl\n",
    "\n",
    "sns.set(rc={'figure.figsize':(30,20)})\n",
    "\n",
    "pd.options.display.float_format = '{:.2f}'.format\n",
    "\n",
    "plt.rcParams.update({'font.size': 22})\n",
    "sns.set(font_scale = 2)"
   ]
  },
  {
   "cell_type": "code",
   "execution_count": 32,
   "id": "civic-guinea",
   "metadata": {},
   "outputs": [
    {
     "name": "stdout",
     "output_type": "stream",
     "text": [
      "1.4.2\n"
     ]
    }
   ],
   "source": [
    "print(xgboost.__version__)"
   ]
  },
  {
   "cell_type": "code",
   "execution_count": 2,
   "id": "harmful-hardware",
   "metadata": {},
   "outputs": [],
   "source": [
    "pd.options.plotting.backend = \"matplotlib\""
   ]
  },
  {
   "cell_type": "code",
   "execution_count": 3,
   "id": "super-thong",
   "metadata": {},
   "outputs": [
    {
     "data": {
      "text/plain": [
       "'C:\\\\Users\\\\Mike\\\\Google Drive\\\\Code\\\\Springboard_Capstone_Energy'"
      ]
     },
     "execution_count": 3,
     "metadata": {},
     "output_type": "execute_result"
    }
   ],
   "source": [
    "pwd"
   ]
  },
  {
   "cell_type": "code",
   "execution_count": 4,
   "id": "innovative-title",
   "metadata": {},
   "outputs": [
    {
     "data": {
      "text/html": [
       "<div>\n",
       "<style scoped>\n",
       "    .dataframe tbody tr th:only-of-type {\n",
       "        vertical-align: middle;\n",
       "    }\n",
       "\n",
       "    .dataframe tbody tr th {\n",
       "        vertical-align: top;\n",
       "    }\n",
       "\n",
       "    .dataframe thead th {\n",
       "        text-align: right;\n",
       "    }\n",
       "</style>\n",
       "<table border=\"1\" class=\"dataframe\">\n",
       "  <thead>\n",
       "    <tr style=\"text-align: right;\">\n",
       "      <th></th>\n",
       "      <th>file_name</th>\n",
       "      <th>building</th>\n",
       "      <th>meter</th>\n",
       "      <th>len_train</th>\n",
       "      <th>len_zero</th>\n",
       "      <th>per_data</th>\n",
       "      <th>category</th>\n",
       "      <th>corr_meter_to_airtemp</th>\n",
       "      <th>corr_meter_to_airtemp_wknd</th>\n",
       "      <th>corr_meter_to_airtemp_wkdy</th>\n",
       "      <th>corr_meter_to_airtemp_winter</th>\n",
       "      <th>corr_meter_to_airtemp_spring</th>\n",
       "      <th>corr_meter_to_airtemp_summer</th>\n",
       "      <th>corr_meter_to_airtemp_fall</th>\n",
       "      <th>square_feet</th>\n",
       "      <th>floor_count</th>\n",
       "    </tr>\n",
       "  </thead>\n",
       "  <tbody>\n",
       "    <tr>\n",
       "      <th>0</th>\n",
       "      <td>1448_0.pkl</td>\n",
       "      <td>1448</td>\n",
       "      <td>0</td>\n",
       "      <td>7452</td>\n",
       "      <td>0</td>\n",
       "      <td>100.00</td>\n",
       "      <td>Office</td>\n",
       "      <td>-0.28</td>\n",
       "      <td>-0.20</td>\n",
       "      <td>-0.32</td>\n",
       "      <td>-0.22</td>\n",
       "      <td>-0.29</td>\n",
       "      <td>-0.14</td>\n",
       "      <td>-0.27</td>\n",
       "      <td>92271</td>\n",
       "      <td>-1</td>\n",
       "    </tr>\n",
       "    <tr>\n",
       "      <th>1</th>\n",
       "      <td>1447_0.pkl</td>\n",
       "      <td>1447</td>\n",
       "      <td>0</td>\n",
       "      <td>7471</td>\n",
       "      <td>0</td>\n",
       "      <td>100.00</td>\n",
       "      <td>Lodging/residential</td>\n",
       "      <td>0.04</td>\n",
       "      <td>0.00</td>\n",
       "      <td>0.05</td>\n",
       "      <td>0.25</td>\n",
       "      <td>0.03</td>\n",
       "      <td>0.15</td>\n",
       "      <td>0.35</td>\n",
       "      <td>29775</td>\n",
       "      <td>-1</td>\n",
       "    </tr>\n",
       "    <tr>\n",
       "      <th>2</th>\n",
       "      <td>1445_0.pkl</td>\n",
       "      <td>1445</td>\n",
       "      <td>0</td>\n",
       "      <td>7449</td>\n",
       "      <td>0</td>\n",
       "      <td>100.00</td>\n",
       "      <td>Education</td>\n",
       "      <td>-0.33</td>\n",
       "      <td>-0.29</td>\n",
       "      <td>-0.35</td>\n",
       "      <td>-0.16</td>\n",
       "      <td>-0.33</td>\n",
       "      <td>0.33</td>\n",
       "      <td>-0.18</td>\n",
       "      <td>4298</td>\n",
       "      <td>-1</td>\n",
       "    </tr>\n",
       "    <tr>\n",
       "      <th>3</th>\n",
       "      <td>1443_0.pkl</td>\n",
       "      <td>1443</td>\n",
       "      <td>0</td>\n",
       "      <td>7472</td>\n",
       "      <td>0</td>\n",
       "      <td>100.00</td>\n",
       "      <td>Education</td>\n",
       "      <td>-0.06</td>\n",
       "      <td>-0.05</td>\n",
       "      <td>-0.06</td>\n",
       "      <td>-0.05</td>\n",
       "      <td>-0.14</td>\n",
       "      <td>0.08</td>\n",
       "      <td>0.11</td>\n",
       "      <td>40311</td>\n",
       "      <td>-1</td>\n",
       "    </tr>\n",
       "    <tr>\n",
       "      <th>4</th>\n",
       "      <td>1442_0.pkl</td>\n",
       "      <td>1442</td>\n",
       "      <td>0</td>\n",
       "      <td>7472</td>\n",
       "      <td>0</td>\n",
       "      <td>100.00</td>\n",
       "      <td>Public services</td>\n",
       "      <td>0.05</td>\n",
       "      <td>0.18</td>\n",
       "      <td>0.05</td>\n",
       "      <td>-0.14</td>\n",
       "      <td>-0.04</td>\n",
       "      <td>-0.10</td>\n",
       "      <td>0.13</td>\n",
       "      <td>99541</td>\n",
       "      <td>-1</td>\n",
       "    </tr>\n",
       "    <tr>\n",
       "      <th>...</th>\n",
       "      <td>...</td>\n",
       "      <td>...</td>\n",
       "      <td>...</td>\n",
       "      <td>...</td>\n",
       "      <td>...</td>\n",
       "      <td>...</td>\n",
       "      <td>...</td>\n",
       "      <td>...</td>\n",
       "      <td>...</td>\n",
       "      <td>...</td>\n",
       "      <td>...</td>\n",
       "      <td>...</td>\n",
       "      <td>...</td>\n",
       "      <td>...</td>\n",
       "      <td>...</td>\n",
       "      <td>...</td>\n",
       "    </tr>\n",
       "    <tr>\n",
       "      <th>2375</th>\n",
       "      <td>1250_2.pkl</td>\n",
       "      <td>1250</td>\n",
       "      <td>2</td>\n",
       "      <td>8784</td>\n",
       "      <td>8536</td>\n",
       "      <td>2.82</td>\n",
       "      <td>Education</td>\n",
       "      <td>-0.16</td>\n",
       "      <td>-0.16</td>\n",
       "      <td>-0.16</td>\n",
       "      <td>0.12</td>\n",
       "      <td>NaN</td>\n",
       "      <td>NaN</td>\n",
       "      <td>NaN</td>\n",
       "      <td>232139</td>\n",
       "      <td>-1</td>\n",
       "    </tr>\n",
       "    <tr>\n",
       "      <th>2376</th>\n",
       "      <td>279_3.pkl</td>\n",
       "      <td>279</td>\n",
       "      <td>3</td>\n",
       "      <td>8783</td>\n",
       "      <td>8732</td>\n",
       "      <td>0.58</td>\n",
       "      <td>Education</td>\n",
       "      <td>0.00</td>\n",
       "      <td>-0.00</td>\n",
       "      <td>0.01</td>\n",
       "      <td>NaN</td>\n",
       "      <td>0.05</td>\n",
       "      <td>NaN</td>\n",
       "      <td>NaN</td>\n",
       "      <td>49384</td>\n",
       "      <td>-1</td>\n",
       "    </tr>\n",
       "    <tr>\n",
       "      <th>2377</th>\n",
       "      <td>287_3.pkl</td>\n",
       "      <td>287</td>\n",
       "      <td>3</td>\n",
       "      <td>8783</td>\n",
       "      <td>8740</td>\n",
       "      <td>0.49</td>\n",
       "      <td>Office</td>\n",
       "      <td>0.09</td>\n",
       "      <td>0.04</td>\n",
       "      <td>0.10</td>\n",
       "      <td>NaN</td>\n",
       "      <td>NaN</td>\n",
       "      <td>0.03</td>\n",
       "      <td>0.08</td>\n",
       "      <td>33713</td>\n",
       "      <td>-1</td>\n",
       "    </tr>\n",
       "    <tr>\n",
       "      <th>2378</th>\n",
       "      <td>1022_1.pkl</td>\n",
       "      <td>1022</td>\n",
       "      <td>1</td>\n",
       "      <td>8774</td>\n",
       "      <td>8766</td>\n",
       "      <td>0.09</td>\n",
       "      <td>Education</td>\n",
       "      <td>-0.01</td>\n",
       "      <td>-0.01</td>\n",
       "      <td>-0.01</td>\n",
       "      <td>0.03</td>\n",
       "      <td>-0.02</td>\n",
       "      <td>NaN</td>\n",
       "      <td>NaN</td>\n",
       "      <td>84346</td>\n",
       "      <td>2</td>\n",
       "    </tr>\n",
       "    <tr>\n",
       "      <th>2379</th>\n",
       "      <td>1018_1.pkl</td>\n",
       "      <td>1018</td>\n",
       "      <td>1</td>\n",
       "      <td>8773</td>\n",
       "      <td>8772</td>\n",
       "      <td>0.01</td>\n",
       "      <td>Education</td>\n",
       "      <td>0.00</td>\n",
       "      <td>NaN</td>\n",
       "      <td>0.00</td>\n",
       "      <td>NaN</td>\n",
       "      <td>NaN</td>\n",
       "      <td>NaN</td>\n",
       "      <td>-0.00</td>\n",
       "      <td>186840</td>\n",
       "      <td>2</td>\n",
       "    </tr>\n",
       "  </tbody>\n",
       "</table>\n",
       "<p>2380 rows × 16 columns</p>\n",
       "</div>"
      ],
      "text/plain": [
       "       file_name  building  meter  len_train  len_zero  per_data  \\\n",
       "0     1448_0.pkl      1448      0       7452         0    100.00   \n",
       "1     1447_0.pkl      1447      0       7471         0    100.00   \n",
       "2     1445_0.pkl      1445      0       7449         0    100.00   \n",
       "3     1443_0.pkl      1443      0       7472         0    100.00   \n",
       "4     1442_0.pkl      1442      0       7472         0    100.00   \n",
       "...          ...       ...    ...        ...       ...       ...   \n",
       "2375  1250_2.pkl      1250      2       8784      8536      2.82   \n",
       "2376   279_3.pkl       279      3       8783      8732      0.58   \n",
       "2377   287_3.pkl       287      3       8783      8740      0.49   \n",
       "2378  1022_1.pkl      1022      1       8774      8766      0.09   \n",
       "2379  1018_1.pkl      1018      1       8773      8772      0.01   \n",
       "\n",
       "                 category  corr_meter_to_airtemp  corr_meter_to_airtemp_wknd  \\\n",
       "0                  Office                  -0.28                       -0.20   \n",
       "1     Lodging/residential                   0.04                        0.00   \n",
       "2               Education                  -0.33                       -0.29   \n",
       "3               Education                  -0.06                       -0.05   \n",
       "4         Public services                   0.05                        0.18   \n",
       "...                   ...                    ...                         ...   \n",
       "2375            Education                  -0.16                       -0.16   \n",
       "2376            Education                   0.00                       -0.00   \n",
       "2377               Office                   0.09                        0.04   \n",
       "2378            Education                  -0.01                       -0.01   \n",
       "2379            Education                   0.00                         NaN   \n",
       "\n",
       "      corr_meter_to_airtemp_wkdy  corr_meter_to_airtemp_winter  \\\n",
       "0                          -0.32                         -0.22   \n",
       "1                           0.05                          0.25   \n",
       "2                          -0.35                         -0.16   \n",
       "3                          -0.06                         -0.05   \n",
       "4                           0.05                         -0.14   \n",
       "...                          ...                           ...   \n",
       "2375                       -0.16                          0.12   \n",
       "2376                        0.01                           NaN   \n",
       "2377                        0.10                           NaN   \n",
       "2378                       -0.01                          0.03   \n",
       "2379                        0.00                           NaN   \n",
       "\n",
       "      corr_meter_to_airtemp_spring  corr_meter_to_airtemp_summer  \\\n",
       "0                            -0.29                         -0.14   \n",
       "1                             0.03                          0.15   \n",
       "2                            -0.33                          0.33   \n",
       "3                            -0.14                          0.08   \n",
       "4                            -0.04                         -0.10   \n",
       "...                            ...                           ...   \n",
       "2375                           NaN                           NaN   \n",
       "2376                          0.05                           NaN   \n",
       "2377                           NaN                          0.03   \n",
       "2378                         -0.02                           NaN   \n",
       "2379                           NaN                           NaN   \n",
       "\n",
       "      corr_meter_to_airtemp_fall  square_feet  floor_count  \n",
       "0                          -0.27        92271           -1  \n",
       "1                           0.35        29775           -1  \n",
       "2                          -0.18         4298           -1  \n",
       "3                           0.11        40311           -1  \n",
       "4                           0.13        99541           -1  \n",
       "...                          ...          ...          ...  \n",
       "2375                         NaN       232139           -1  \n",
       "2376                         NaN        49384           -1  \n",
       "2377                        0.08        33713           -1  \n",
       "2378                         NaN        84346            2  \n",
       "2379                       -0.00       186840            2  \n",
       "\n",
       "[2380 rows x 16 columns]"
      ]
     },
     "execution_count": 4,
     "metadata": {},
     "output_type": "execute_result"
    }
   ],
   "source": [
    "# See Building Statistics for missing data\n",
    "df_stats = pd.read_csv('.//data_clean//building_reading_stats.csv')\n",
    "df_stats"
   ]
  },
  {
   "cell_type": "code",
   "execution_count": 5,
   "id": "convinced-proxy",
   "metadata": {},
   "outputs": [],
   "source": [
    "# Modeling Choices\n",
    "# Buildings with 1"
   ]
  },
  {
   "cell_type": "code",
   "execution_count": 6,
   "id": "understood-consultation",
   "metadata": {},
   "outputs": [],
   "source": [
    "# These represent buildings that are in top, mid and lower in square footage\n",
    "lrg = [869, 1148, 375, 365, 269]\n",
    "med = [1063, 1309, 991, 144, 693]\n",
    "sm = [846, 621, 822, 816, 44]\n",
    "\n",
    "# 0: Electricity 1: chilledwater 2: steam 3: hotwater"
   ]
  },
  {
   "cell_type": "code",
   "execution_count": 7,
   "id": "critical-hawaiian",
   "metadata": {},
   "outputs": [
    {
     "data": {
      "text/html": [
       "<div>\n",
       "<style scoped>\n",
       "    .dataframe tbody tr th:only-of-type {\n",
       "        vertical-align: middle;\n",
       "    }\n",
       "\n",
       "    .dataframe tbody tr th {\n",
       "        vertical-align: top;\n",
       "    }\n",
       "\n",
       "    .dataframe thead th {\n",
       "        text-align: right;\n",
       "    }\n",
       "</style>\n",
       "<table border=\"1\" class=\"dataframe\">\n",
       "  <thead>\n",
       "    <tr style=\"text-align: right;\">\n",
       "      <th></th>\n",
       "      <th>file_name</th>\n",
       "      <th>building</th>\n",
       "      <th>meter</th>\n",
       "      <th>len_train</th>\n",
       "      <th>len_zero</th>\n",
       "      <th>per_data</th>\n",
       "      <th>category</th>\n",
       "      <th>corr_meter_to_airtemp</th>\n",
       "      <th>corr_meter_to_airtemp_wknd</th>\n",
       "      <th>corr_meter_to_airtemp_wkdy</th>\n",
       "      <th>corr_meter_to_airtemp_winter</th>\n",
       "      <th>corr_meter_to_airtemp_spring</th>\n",
       "      <th>corr_meter_to_airtemp_summer</th>\n",
       "      <th>corr_meter_to_airtemp_fall</th>\n",
       "      <th>square_feet</th>\n",
       "      <th>floor_count</th>\n",
       "    </tr>\n",
       "  </thead>\n",
       "  <tbody>\n",
       "    <tr>\n",
       "      <th>194</th>\n",
       "      <td>1148_1.pkl</td>\n",
       "      <td>1148</td>\n",
       "      <td>1</td>\n",
       "      <td>8784</td>\n",
       "      <td>0</td>\n",
       "      <td>100.00</td>\n",
       "      <td>Office</td>\n",
       "      <td>0.78</td>\n",
       "      <td>0.79</td>\n",
       "      <td>0.79</td>\n",
       "      <td>0.21</td>\n",
       "      <td>0.74</td>\n",
       "      <td>0.45</td>\n",
       "      <td>0.76</td>\n",
       "      <td>861524</td>\n",
       "      <td>-1</td>\n",
       "    </tr>\n",
       "  </tbody>\n",
       "</table>\n",
       "</div>"
      ],
      "text/plain": [
       "      file_name  building  meter  len_train  len_zero  per_data category  \\\n",
       "194  1148_1.pkl      1148      1       8784         0    100.00   Office   \n",
       "\n",
       "     corr_meter_to_airtemp  corr_meter_to_airtemp_wknd  \\\n",
       "194                   0.78                        0.79   \n",
       "\n",
       "     corr_meter_to_airtemp_wkdy  corr_meter_to_airtemp_winter  \\\n",
       "194                        0.79                          0.21   \n",
       "\n",
       "     corr_meter_to_airtemp_spring  corr_meter_to_airtemp_summer  \\\n",
       "194                          0.74                          0.45   \n",
       "\n",
       "     corr_meter_to_airtemp_fall  square_feet  floor_count  \n",
       "194                        0.76       861524           -1  "
      ]
     },
     "execution_count": 7,
     "metadata": {},
     "output_type": "execute_result"
    }
   ],
   "source": [
    "df_stats[(df_stats['building'] == 1148) & df_stats['meter'] == 1]"
   ]
  },
  {
   "cell_type": "code",
   "execution_count": null,
   "id": "alleged-election",
   "metadata": {},
   "outputs": [],
   "source": []
  },
  {
   "cell_type": "code",
   "execution_count": 8,
   "id": "iraqi-original",
   "metadata": {},
   "outputs": [
    {
     "data": {
      "text/html": [
       "<div>\n",
       "<style scoped>\n",
       "    .dataframe tbody tr th:only-of-type {\n",
       "        vertical-align: middle;\n",
       "    }\n",
       "\n",
       "    .dataframe tbody tr th {\n",
       "        vertical-align: top;\n",
       "    }\n",
       "\n",
       "    .dataframe thead th {\n",
       "        text-align: right;\n",
       "    }\n",
       "</style>\n",
       "<table border=\"1\" class=\"dataframe\">\n",
       "  <thead>\n",
       "    <tr style=\"text-align: right;\">\n",
       "      <th></th>\n",
       "      <th>file_name</th>\n",
       "      <th>building</th>\n",
       "      <th>meter</th>\n",
       "      <th>len_train</th>\n",
       "      <th>len_zero</th>\n",
       "      <th>per_data</th>\n",
       "      <th>category</th>\n",
       "      <th>corr_meter_to_airtemp</th>\n",
       "      <th>corr_meter_to_airtemp_wknd</th>\n",
       "      <th>corr_meter_to_airtemp_wkdy</th>\n",
       "      <th>corr_meter_to_airtemp_winter</th>\n",
       "      <th>corr_meter_to_airtemp_spring</th>\n",
       "      <th>corr_meter_to_airtemp_summer</th>\n",
       "      <th>corr_meter_to_airtemp_fall</th>\n",
       "      <th>square_feet</th>\n",
       "      <th>floor_count</th>\n",
       "    </tr>\n",
       "  </thead>\n",
       "  <tbody>\n",
       "    <tr>\n",
       "      <th>193</th>\n",
       "      <td>1148_0.pkl</td>\n",
       "      <td>1148</td>\n",
       "      <td>0</td>\n",
       "      <td>8663</td>\n",
       "      <td>0</td>\n",
       "      <td>100.00</td>\n",
       "      <td>Office</td>\n",
       "      <td>-0.02</td>\n",
       "      <td>0.15</td>\n",
       "      <td>-0.04</td>\n",
       "      <td>-0.20</td>\n",
       "      <td>-0.11</td>\n",
       "      <td>-0.08</td>\n",
       "      <td>-0.08</td>\n",
       "      <td>861524</td>\n",
       "      <td>-1</td>\n",
       "    </tr>\n",
       "    <tr>\n",
       "      <th>194</th>\n",
       "      <td>1148_1.pkl</td>\n",
       "      <td>1148</td>\n",
       "      <td>1</td>\n",
       "      <td>8784</td>\n",
       "      <td>0</td>\n",
       "      <td>100.00</td>\n",
       "      <td>Office</td>\n",
       "      <td>0.78</td>\n",
       "      <td>0.79</td>\n",
       "      <td>0.79</td>\n",
       "      <td>0.21</td>\n",
       "      <td>0.74</td>\n",
       "      <td>0.45</td>\n",
       "      <td>0.76</td>\n",
       "      <td>861524</td>\n",
       "      <td>-1</td>\n",
       "    </tr>\n",
       "    <tr>\n",
       "      <th>902</th>\n",
       "      <td>1148_2.pkl</td>\n",
       "      <td>1148</td>\n",
       "      <td>2</td>\n",
       "      <td>8784</td>\n",
       "      <td>2</td>\n",
       "      <td>99.98</td>\n",
       "      <td>Office</td>\n",
       "      <td>-0.88</td>\n",
       "      <td>-0.86</td>\n",
       "      <td>-0.88</td>\n",
       "      <td>-0.83</td>\n",
       "      <td>-0.85</td>\n",
       "      <td>-0.43</td>\n",
       "      <td>-0.44</td>\n",
       "      <td>861524</td>\n",
       "      <td>-1</td>\n",
       "    </tr>\n",
       "  </tbody>\n",
       "</table>\n",
       "</div>"
      ],
      "text/plain": [
       "      file_name  building  meter  len_train  len_zero  per_data category  \\\n",
       "193  1148_0.pkl      1148      0       8663         0    100.00   Office   \n",
       "194  1148_1.pkl      1148      1       8784         0    100.00   Office   \n",
       "902  1148_2.pkl      1148      2       8784         2     99.98   Office   \n",
       "\n",
       "     corr_meter_to_airtemp  corr_meter_to_airtemp_wknd  \\\n",
       "193                  -0.02                        0.15   \n",
       "194                   0.78                        0.79   \n",
       "902                  -0.88                       -0.86   \n",
       "\n",
       "     corr_meter_to_airtemp_wkdy  corr_meter_to_airtemp_winter  \\\n",
       "193                       -0.04                         -0.20   \n",
       "194                        0.79                          0.21   \n",
       "902                       -0.88                         -0.83   \n",
       "\n",
       "     corr_meter_to_airtemp_spring  corr_meter_to_airtemp_summer  \\\n",
       "193                         -0.11                         -0.08   \n",
       "194                          0.74                          0.45   \n",
       "902                         -0.85                         -0.43   \n",
       "\n",
       "     corr_meter_to_airtemp_fall  square_feet  floor_count  \n",
       "193                       -0.08       861524           -1  \n",
       "194                        0.76       861524           -1  \n",
       "902                       -0.44       861524           -1  "
      ]
     },
     "execution_count": 8,
     "metadata": {},
     "output_type": "execute_result"
    }
   ],
   "source": [
    "# Examine building choices\n",
    "df_stats[df_stats['building'] == 1148]"
   ]
  },
  {
   "cell_type": "markdown",
   "id": "alike-assessment",
   "metadata": {},
   "source": [
    "### Build list of files to include"
   ]
  },
  {
   "cell_type": "code",
   "execution_count": 9,
   "id": "grand-recall",
   "metadata": {},
   "outputs": [
    {
     "data": {
      "text/plain": [
       "['.\\\\data_clean\\\\buildings_by_meter\\\\1148_0.pkl']"
      ]
     },
     "execution_count": 9,
     "metadata": {},
     "output_type": "execute_result"
    }
   ],
   "source": [
    "# Get only the train data\n",
    "direct = glob.glob('.\\\\data_clean\\\\buildings_by_meter\\\\' + '*.pkl')\n",
    "\n",
    "directory = '.\\\\data_clean\\\\buildings_by_meter\\\\'\n",
    "ext = '.pkl'\n",
    "\n",
    "bld_mtr = ['1148_0']\n",
    "files = []\n",
    "\n",
    "# Build File names\n",
    "for bm in bld_mtr:\n",
    "    file_n = directory + bm + ext\n",
    "    files.append(file_n)\n",
    "        \n",
    "files"
   ]
  },
  {
   "cell_type": "markdown",
   "id": "liable-raise",
   "metadata": {},
   "source": [
    "# 1 - Build Model - ARIMA"
   ]
  },
  {
   "cell_type": "code",
   "execution_count": 82,
   "id": "increasing-equipment",
   "metadata": {},
   "outputs": [
    {
     "name": "stdout",
     "output_type": "stream",
     "text": [
      "-----------------------------------------------------------------------------\n",
      "     building  meter  per_data category  square_feet  corr_meter_to_airtemp\n",
      "193      1148      0    100.00   Office       861524                  -0.02\n",
      "Data Size:  120\n",
      "Train Size:  30\n",
      "Offset:  0\n",
      "\n",
      "\n",
      "DATA\n",
      "Date Start: \n",
      "2016-01-01 00:00:00\n",
      "Date End: \n",
      "2016-04-29 00:00:00\n",
      "\n",
      "\n",
      "TRAIN\n",
      "Date Start: \n",
      "2016-01-01 00:00:00\n",
      "Date End: \n",
      "2016-03-30 00:00:00\n",
      "\n",
      "\n",
      "TEST\n",
      "Date Start: \n",
      "2016-03-31 00:00:00\n",
      "Date End: \n",
      "2016-04-29 00:00:00\n",
      "\n",
      "\n",
      "ARIMA Model: \n",
      "Model Fit: \n",
      "\n",
      "\n",
      "            ARIMA_predict  meter_reading\n",
      "timestamp                               \n",
      "2016-03-31       24604.29       24279.98\n",
      "2016-04-01       23836.53       23935.14\n",
      "2016-04-02       20887.30       19600.50\n",
      "2016-04-03       20827.55       19399.49\n",
      "2016-04-04       23308.38       24457.55\n",
      "2016-04-05       23250.84       24722.57\n",
      "2016-04-06       23303.48       24513.10\n",
      "2016-04-07       23310.15       24438.12\n",
      "2016-04-08       22904.39       24034.87\n",
      "2016-04-09       21268.71       19563.71\n",
      "2016-04-10       21148.63       19406.05\n",
      "2016-04-11       23208.70       24475.58\n",
      "2016-04-12       23349.93       24690.16\n",
      "2016-04-13       23234.07       24585.56\n",
      "2016-04-14       23224.78       24630.08\n",
      "2016-04-15       22932.30       24214.95\n",
      "2016-04-16       21538.68       19914.28\n",
      "2016-04-17       21442.76       19680.97\n",
      "2016-04-18       22998.67       24627.16\n",
      "2016-04-19       23041.97       24359.12\n",
      "2016-04-20       22989.52       24306.89\n",
      "2016-04-21       23011.24       25350.98\n",
      "2016-04-22       22774.13       23736.46\n",
      "2016-04-23       21760.37       19337.52\n",
      "2016-04-24       21701.84       19367.62\n",
      "2016-04-25       22859.62       24548.59\n",
      "2016-04-26       22906.43       24371.63\n",
      "2016-04-27       22864.56       24545.58\n",
      "2016-04-28       22866.92       24423.60\n",
      "2016-04-29       22693.49       23857.78\n",
      "MSE: 1497.663328359532\n"
     ]
    },
    {
     "data": {
      "application/vnd.plotly.v1+json": {
       "config": {
        "plotlyServerURL": "https://plot.ly"
       },
       "data": [
        {
         "hovertemplate": "%{x|%Y/%m/%d %a %H:%M:%S.%L} value: %{y}",
         "legendgroup": "",
         "line": {
          "dash": "solid"
         },
         "mode": "lines",
         "name": "",
         "orientation": "v",
         "showlegend": false,
         "type": "scatter",
         "x": [
          "2016-03-31T00:00:00",
          "2016-04-01T00:00:00",
          "2016-04-02T00:00:00",
          "2016-04-03T00:00:00",
          "2016-04-04T00:00:00",
          "2016-04-05T00:00:00",
          "2016-04-06T00:00:00",
          "2016-04-07T00:00:00",
          "2016-04-08T00:00:00",
          "2016-04-09T00:00:00",
          "2016-04-10T00:00:00",
          "2016-04-11T00:00:00",
          "2016-04-12T00:00:00",
          "2016-04-13T00:00:00",
          "2016-04-14T00:00:00",
          "2016-04-15T00:00:00",
          "2016-04-16T00:00:00",
          "2016-04-17T00:00:00",
          "2016-04-18T00:00:00",
          "2016-04-19T00:00:00",
          "2016-04-20T00:00:00",
          "2016-04-21T00:00:00",
          "2016-04-22T00:00:00",
          "2016-04-23T00:00:00",
          "2016-04-24T00:00:00",
          "2016-04-25T00:00:00",
          "2016-04-26T00:00:00",
          "2016-04-27T00:00:00",
          "2016-04-28T00:00:00",
          "2016-04-29T00:00:00"
         ],
         "xaxis": "x",
         "y": [
          24279.977000000006,
          23935.140999999996,
          19600.496,
          19399.485,
          24457.549000000003,
          24722.566,
          24513.103,
          24438.124000000003,
          24034.873000000003,
          19563.708000000006,
          19406.054,
          24475.582000000002,
          24690.155000000002,
          24585.560999999998,
          24630.079,
          24214.952999999998,
          19914.280000000002,
          19680.969,
          24627.16,
          24359.117000000006,
          24306.894000000004,
          25350.977000000003,
          23736.464,
          19337.517999999993,
          19367.621000000003,
          24548.593,
          24371.632999999998,
          24545.583,
          24423.597,
          23857.781000000006
         ],
         "yaxis": "y"
        },
        {
         "hovertemplate": "%{x|%Y/%m/%d %a %H:%M:%S.%L} value: %{y}",
         "legendgroup": "",
         "line": {
          "dash": "solid"
         },
         "mode": "lines",
         "name": "",
         "orientation": "v",
         "showlegend": false,
         "type": "scatter",
         "x": [
          "2016-03-31T00:00:00",
          "2016-04-01T00:00:00",
          "2016-04-02T00:00:00",
          "2016-04-03T00:00:00",
          "2016-04-04T00:00:00",
          "2016-04-05T00:00:00",
          "2016-04-06T00:00:00",
          "2016-04-07T00:00:00",
          "2016-04-08T00:00:00",
          "2016-04-09T00:00:00",
          "2016-04-10T00:00:00",
          "2016-04-11T00:00:00",
          "2016-04-12T00:00:00",
          "2016-04-13T00:00:00",
          "2016-04-14T00:00:00",
          "2016-04-15T00:00:00",
          "2016-04-16T00:00:00",
          "2016-04-17T00:00:00",
          "2016-04-18T00:00:00",
          "2016-04-19T00:00:00",
          "2016-04-20T00:00:00",
          "2016-04-21T00:00:00",
          "2016-04-22T00:00:00",
          "2016-04-23T00:00:00",
          "2016-04-24T00:00:00",
          "2016-04-25T00:00:00",
          "2016-04-26T00:00:00",
          "2016-04-27T00:00:00",
          "2016-04-28T00:00:00",
          "2016-04-29T00:00:00"
         ],
         "xaxis": "x",
         "y": [
          24604.293970118866,
          23836.532974368776,
          20887.29639362287,
          20827.546955522754,
          23308.376979583314,
          23250.839614259574,
          23303.48167611277,
          23310.152381577398,
          22904.38517959457,
          21268.70826056898,
          21148.626460836847,
          23208.697286773673,
          23349.933878104406,
          23234.067461920586,
          23224.780031413866,
          22932.29812874383,
          21538.682210335766,
          21442.763054686457,
          22998.66765733968,
          23041.972148476878,
          22989.523482007997,
          23011.23660163784,
          22774.13115604411,
          21760.36949828801,
          21701.841150390715,
          22859.623728633418,
          22906.432279024113,
          22864.561855162105,
          22866.91630191525,
          22693.487502069005
         ],
         "yaxis": "y"
        }
       ],
       "layout": {
        "autosize": true,
        "showlegend": true,
        "template": {
         "data": {
          "bar": [
           {
            "error_x": {
             "color": "#2a3f5f"
            },
            "error_y": {
             "color": "#2a3f5f"
            },
            "marker": {
             "line": {
              "color": "#E5ECF6",
              "width": 0.5
             }
            },
            "type": "bar"
           }
          ],
          "barpolar": [
           {
            "marker": {
             "line": {
              "color": "#E5ECF6",
              "width": 0.5
             }
            },
            "type": "barpolar"
           }
          ],
          "carpet": [
           {
            "aaxis": {
             "endlinecolor": "#2a3f5f",
             "gridcolor": "white",
             "linecolor": "white",
             "minorgridcolor": "white",
             "startlinecolor": "#2a3f5f"
            },
            "baxis": {
             "endlinecolor": "#2a3f5f",
             "gridcolor": "white",
             "linecolor": "white",
             "minorgridcolor": "white",
             "startlinecolor": "#2a3f5f"
            },
            "type": "carpet"
           }
          ],
          "choropleth": [
           {
            "colorbar": {
             "outlinewidth": 0,
             "ticks": ""
            },
            "type": "choropleth"
           }
          ],
          "contour": [
           {
            "colorbar": {
             "outlinewidth": 0,
             "ticks": ""
            },
            "colorscale": [
             [
              0,
              "#0d0887"
             ],
             [
              0.1111111111111111,
              "#46039f"
             ],
             [
              0.2222222222222222,
              "#7201a8"
             ],
             [
              0.3333333333333333,
              "#9c179e"
             ],
             [
              0.4444444444444444,
              "#bd3786"
             ],
             [
              0.5555555555555556,
              "#d8576b"
             ],
             [
              0.6666666666666666,
              "#ed7953"
             ],
             [
              0.7777777777777778,
              "#fb9f3a"
             ],
             [
              0.8888888888888888,
              "#fdca26"
             ],
             [
              1,
              "#f0f921"
             ]
            ],
            "type": "contour"
           }
          ],
          "contourcarpet": [
           {
            "colorbar": {
             "outlinewidth": 0,
             "ticks": ""
            },
            "type": "contourcarpet"
           }
          ],
          "heatmap": [
           {
            "colorbar": {
             "outlinewidth": 0,
             "ticks": ""
            },
            "colorscale": [
             [
              0,
              "#0d0887"
             ],
             [
              0.1111111111111111,
              "#46039f"
             ],
             [
              0.2222222222222222,
              "#7201a8"
             ],
             [
              0.3333333333333333,
              "#9c179e"
             ],
             [
              0.4444444444444444,
              "#bd3786"
             ],
             [
              0.5555555555555556,
              "#d8576b"
             ],
             [
              0.6666666666666666,
              "#ed7953"
             ],
             [
              0.7777777777777778,
              "#fb9f3a"
             ],
             [
              0.8888888888888888,
              "#fdca26"
             ],
             [
              1,
              "#f0f921"
             ]
            ],
            "type": "heatmap"
           }
          ],
          "heatmapgl": [
           {
            "colorbar": {
             "outlinewidth": 0,
             "ticks": ""
            },
            "colorscale": [
             [
              0,
              "#0d0887"
             ],
             [
              0.1111111111111111,
              "#46039f"
             ],
             [
              0.2222222222222222,
              "#7201a8"
             ],
             [
              0.3333333333333333,
              "#9c179e"
             ],
             [
              0.4444444444444444,
              "#bd3786"
             ],
             [
              0.5555555555555556,
              "#d8576b"
             ],
             [
              0.6666666666666666,
              "#ed7953"
             ],
             [
              0.7777777777777778,
              "#fb9f3a"
             ],
             [
              0.8888888888888888,
              "#fdca26"
             ],
             [
              1,
              "#f0f921"
             ]
            ],
            "type": "heatmapgl"
           }
          ],
          "histogram": [
           {
            "marker": {
             "colorbar": {
              "outlinewidth": 0,
              "ticks": ""
             }
            },
            "type": "histogram"
           }
          ],
          "histogram2d": [
           {
            "colorbar": {
             "outlinewidth": 0,
             "ticks": ""
            },
            "colorscale": [
             [
              0,
              "#0d0887"
             ],
             [
              0.1111111111111111,
              "#46039f"
             ],
             [
              0.2222222222222222,
              "#7201a8"
             ],
             [
              0.3333333333333333,
              "#9c179e"
             ],
             [
              0.4444444444444444,
              "#bd3786"
             ],
             [
              0.5555555555555556,
              "#d8576b"
             ],
             [
              0.6666666666666666,
              "#ed7953"
             ],
             [
              0.7777777777777778,
              "#fb9f3a"
             ],
             [
              0.8888888888888888,
              "#fdca26"
             ],
             [
              1,
              "#f0f921"
             ]
            ],
            "type": "histogram2d"
           }
          ],
          "histogram2dcontour": [
           {
            "colorbar": {
             "outlinewidth": 0,
             "ticks": ""
            },
            "colorscale": [
             [
              0,
              "#0d0887"
             ],
             [
              0.1111111111111111,
              "#46039f"
             ],
             [
              0.2222222222222222,
              "#7201a8"
             ],
             [
              0.3333333333333333,
              "#9c179e"
             ],
             [
              0.4444444444444444,
              "#bd3786"
             ],
             [
              0.5555555555555556,
              "#d8576b"
             ],
             [
              0.6666666666666666,
              "#ed7953"
             ],
             [
              0.7777777777777778,
              "#fb9f3a"
             ],
             [
              0.8888888888888888,
              "#fdca26"
             ],
             [
              1,
              "#f0f921"
             ]
            ],
            "type": "histogram2dcontour"
           }
          ],
          "mesh3d": [
           {
            "colorbar": {
             "outlinewidth": 0,
             "ticks": ""
            },
            "type": "mesh3d"
           }
          ],
          "parcoords": [
           {
            "line": {
             "colorbar": {
              "outlinewidth": 0,
              "ticks": ""
             }
            },
            "type": "parcoords"
           }
          ],
          "pie": [
           {
            "automargin": true,
            "type": "pie"
           }
          ],
          "scatter": [
           {
            "marker": {
             "colorbar": {
              "outlinewidth": 0,
              "ticks": ""
             }
            },
            "type": "scatter"
           }
          ],
          "scatter3d": [
           {
            "line": {
             "colorbar": {
              "outlinewidth": 0,
              "ticks": ""
             }
            },
            "marker": {
             "colorbar": {
              "outlinewidth": 0,
              "ticks": ""
             }
            },
            "type": "scatter3d"
           }
          ],
          "scattercarpet": [
           {
            "marker": {
             "colorbar": {
              "outlinewidth": 0,
              "ticks": ""
             }
            },
            "type": "scattercarpet"
           }
          ],
          "scattergeo": [
           {
            "marker": {
             "colorbar": {
              "outlinewidth": 0,
              "ticks": ""
             }
            },
            "type": "scattergeo"
           }
          ],
          "scattergl": [
           {
            "marker": {
             "colorbar": {
              "outlinewidth": 0,
              "ticks": ""
             }
            },
            "type": "scattergl"
           }
          ],
          "scattermapbox": [
           {
            "marker": {
             "colorbar": {
              "outlinewidth": 0,
              "ticks": ""
             }
            },
            "type": "scattermapbox"
           }
          ],
          "scatterpolar": [
           {
            "marker": {
             "colorbar": {
              "outlinewidth": 0,
              "ticks": ""
             }
            },
            "type": "scatterpolar"
           }
          ],
          "scatterpolargl": [
           {
            "marker": {
             "colorbar": {
              "outlinewidth": 0,
              "ticks": ""
             }
            },
            "type": "scatterpolargl"
           }
          ],
          "scatterternary": [
           {
            "marker": {
             "colorbar": {
              "outlinewidth": 0,
              "ticks": ""
             }
            },
            "type": "scatterternary"
           }
          ],
          "surface": [
           {
            "colorbar": {
             "outlinewidth": 0,
             "ticks": ""
            },
            "colorscale": [
             [
              0,
              "#0d0887"
             ],
             [
              0.1111111111111111,
              "#46039f"
             ],
             [
              0.2222222222222222,
              "#7201a8"
             ],
             [
              0.3333333333333333,
              "#9c179e"
             ],
             [
              0.4444444444444444,
              "#bd3786"
             ],
             [
              0.5555555555555556,
              "#d8576b"
             ],
             [
              0.6666666666666666,
              "#ed7953"
             ],
             [
              0.7777777777777778,
              "#fb9f3a"
             ],
             [
              0.8888888888888888,
              "#fdca26"
             ],
             [
              1,
              "#f0f921"
             ]
            ],
            "type": "surface"
           }
          ],
          "table": [
           {
            "cells": {
             "fill": {
              "color": "#EBF0F8"
             },
             "line": {
              "color": "white"
             }
            },
            "header": {
             "fill": {
              "color": "#C8D4E3"
             },
             "line": {
              "color": "white"
             }
            },
            "type": "table"
           }
          ]
         },
         "layout": {
          "annotationdefaults": {
           "arrowcolor": "#2a3f5f",
           "arrowhead": 0,
           "arrowwidth": 1
          },
          "autotypenumbers": "strict",
          "coloraxis": {
           "colorbar": {
            "outlinewidth": 0,
            "ticks": ""
           }
          },
          "colorscale": {
           "diverging": [
            [
             0,
             "#8e0152"
            ],
            [
             0.1,
             "#c51b7d"
            ],
            [
             0.2,
             "#de77ae"
            ],
            [
             0.3,
             "#f1b6da"
            ],
            [
             0.4,
             "#fde0ef"
            ],
            [
             0.5,
             "#f7f7f7"
            ],
            [
             0.6,
             "#e6f5d0"
            ],
            [
             0.7,
             "#b8e186"
            ],
            [
             0.8,
             "#7fbc41"
            ],
            [
             0.9,
             "#4d9221"
            ],
            [
             1,
             "#276419"
            ]
           ],
           "sequential": [
            [
             0,
             "#0d0887"
            ],
            [
             0.1111111111111111,
             "#46039f"
            ],
            [
             0.2222222222222222,
             "#7201a8"
            ],
            [
             0.3333333333333333,
             "#9c179e"
            ],
            [
             0.4444444444444444,
             "#bd3786"
            ],
            [
             0.5555555555555556,
             "#d8576b"
            ],
            [
             0.6666666666666666,
             "#ed7953"
            ],
            [
             0.7777777777777778,
             "#fb9f3a"
            ],
            [
             0.8888888888888888,
             "#fdca26"
            ],
            [
             1,
             "#f0f921"
            ]
           ],
           "sequentialminus": [
            [
             0,
             "#0d0887"
            ],
            [
             0.1111111111111111,
             "#46039f"
            ],
            [
             0.2222222222222222,
             "#7201a8"
            ],
            [
             0.3333333333333333,
             "#9c179e"
            ],
            [
             0.4444444444444444,
             "#bd3786"
            ],
            [
             0.5555555555555556,
             "#d8576b"
            ],
            [
             0.6666666666666666,
             "#ed7953"
            ],
            [
             0.7777777777777778,
             "#fb9f3a"
            ],
            [
             0.8888888888888888,
             "#fdca26"
            ],
            [
             1,
             "#f0f921"
            ]
           ]
          },
          "colorway": [
           "#636efa",
           "#EF553B",
           "#00cc96",
           "#ab63fa",
           "#FFA15A",
           "#19d3f3",
           "#FF6692",
           "#B6E880",
           "#FF97FF",
           "#FECB52"
          ],
          "font": {
           "color": "#2a3f5f"
          },
          "geo": {
           "bgcolor": "white",
           "lakecolor": "white",
           "landcolor": "#E5ECF6",
           "showlakes": true,
           "showland": true,
           "subunitcolor": "white"
          },
          "hoverlabel": {
           "align": "left"
          },
          "hovermode": "closest",
          "mapbox": {
           "style": "light"
          },
          "paper_bgcolor": "white",
          "plot_bgcolor": "#E5ECF6",
          "polar": {
           "angularaxis": {
            "gridcolor": "white",
            "linecolor": "white",
            "ticks": ""
           },
           "bgcolor": "#E5ECF6",
           "radialaxis": {
            "gridcolor": "white",
            "linecolor": "white",
            "ticks": ""
           }
          },
          "scene": {
           "xaxis": {
            "backgroundcolor": "#E5ECF6",
            "gridcolor": "white",
            "gridwidth": 2,
            "linecolor": "white",
            "showbackground": true,
            "ticks": "",
            "zerolinecolor": "white"
           },
           "yaxis": {
            "backgroundcolor": "#E5ECF6",
            "gridcolor": "white",
            "gridwidth": 2,
            "linecolor": "white",
            "showbackground": true,
            "ticks": "",
            "zerolinecolor": "white"
           },
           "zaxis": {
            "backgroundcolor": "#E5ECF6",
            "gridcolor": "white",
            "gridwidth": 2,
            "linecolor": "white",
            "showbackground": true,
            "ticks": "",
            "zerolinecolor": "white"
           }
          },
          "shapedefaults": {
           "line": {
            "color": "#2a3f5f"
           }
          },
          "ternary": {
           "aaxis": {
            "gridcolor": "white",
            "linecolor": "white",
            "ticks": ""
           },
           "baxis": {
            "gridcolor": "white",
            "linecolor": "white",
            "ticks": ""
           },
           "bgcolor": "#E5ECF6",
           "caxis": {
            "gridcolor": "white",
            "linecolor": "white",
            "ticks": ""
           }
          },
          "title": {
           "x": 0.05
          },
          "xaxis": {
           "automargin": true,
           "gridcolor": "white",
           "linecolor": "white",
           "ticks": "",
           "title": {
            "standoff": 15
           },
           "zerolinecolor": "white",
           "zerolinewidth": 2
          },
          "yaxis": {
           "automargin": true,
           "gridcolor": "white",
           "linecolor": "white",
           "ticks": "",
           "title": {
            "standoff": 15
           },
           "zerolinecolor": "white",
           "zerolinewidth": 2
          }
         }
        },
        "title": {
         "text": "Bldg: 1148 Meter: 0"
        },
        "xaxis": {
         "anchor": "y",
         "autorange": true,
         "domain": [
          0,
          0.94
         ],
         "dtick": "M1",
         "range": [
          "2016-03-31",
          "2016-04-29"
         ],
         "rangeslider": {
          "autorange": true,
          "range": [
           "2016-03-31",
           "2016-04-29"
          ],
          "visible": true,
          "yaxis": {
           "_template": null,
           "rangemode": "match"
          }
         },
         "tickformat": "%b\n%Y",
         "title": {
          "text": "Time"
         },
         "type": "date"
        },
        "yaxis": {
         "anchor": "x",
         "autorange": true,
         "color": "blue",
         "domain": [
          0,
          1
         ],
         "range": [
          19003.43694444444,
          25685.058055555557
         ],
         "title": {
          "text": "Meter Reading"
         },
         "type": "linear"
        },
        "yaxis2": {
         "anchor": "x",
         "overlaying": "y",
         "side": "right"
        }
       }
      },
      "image/png": "[encoded data removed]",
      "text/html": [
       "<div>                            <div id=\"c0073308-dab8-40a6-b4d9-2c895f947550\" class=\"plotly-graph-div\" style=\"height:525px; width:100%;\"></div>            <script type=\"text/javascript\">                require([\"plotly\"], function(Plotly) {                    window.PLOTLYENV=window.PLOTLYENV || {};                                    if (document.getElementById(\"c0073308-dab8-40a6-b4d9-2c895f947550\")) {                    Plotly.newPlot(                        \"c0073308-dab8-40a6-b4d9-2c895f947550\",                        [{\"hovertemplate\": \"%{x|%Y/%m/%d %a %H:%M:%S.%L} value: %{y}\", \"legendgroup\": \"\", \"line\": {\"dash\": \"solid\"}, \"mode\": \"lines\", \"name\": \"\", \"orientation\": \"v\", \"showlegend\": false, \"type\": \"scatter\", \"x\": [\"2016-03-31T00:00:00\", \"2016-04-01T00:00:00\", \"2016-04-02T00:00:00\", \"2016-04-03T00:00:00\", \"2016-04-04T00:00:00\", \"2016-04-05T00:00:00\", \"2016-04-06T00:00:00\", \"2016-04-07T00:00:00\", \"2016-04-08T00:00:00\", \"2016-04-09T00:00:00\", \"2016-04-10T00:00:00\", \"2016-04-11T00:00:00\", \"2016-04-12T00:00:00\", \"2016-04-13T00:00:00\", \"2016-04-14T00:00:00\", \"2016-04-15T00:00:00\", \"2016-04-16T00:00:00\", \"2016-04-17T00:00:00\", \"2016-04-18T00:00:00\", \"2016-04-19T00:00:00\", \"2016-04-20T00:00:00\", \"2016-04-21T00:00:00\", \"2016-04-22T00:00:00\", \"2016-04-23T00:00:00\", \"2016-04-24T00:00:00\", \"2016-04-25T00:00:00\", \"2016-04-26T00:00:00\", \"2016-04-27T00:00:00\", \"2016-04-28T00:00:00\", \"2016-04-29T00:00:00\"], \"xaxis\": \"x\", \"y\": [24279.977000000006, 23935.140999999996, 19600.496, 19399.485, 24457.549000000003, 24722.566, 24513.103, 24438.124000000003, 24034.873000000003, 19563.708000000006, 19406.054, 24475.582000000002, 24690.155000000002, 24585.560999999998, 24630.079, 24214.952999999998, 19914.280000000002, 19680.969, 24627.16, 24359.117000000006, 24306.894000000004, 25350.977000000003, 23736.464, 19337.517999999993, 19367.621000000003, 24548.593, 24371.632999999998, 24545.583, 24423.597, 23857.781000000006], \"yaxis\": \"y\"}, {\"hovertemplate\": \"%{x|%Y/%m/%d %a %H:%M:%S.%L} value: %{y}\", \"legendgroup\": \"\", \"line\": {\"dash\": \"solid\"}, \"mode\": \"lines\", \"name\": \"\", \"orientation\": \"v\", \"showlegend\": false, \"type\": \"scatter\", \"x\": [\"2016-03-31T00:00:00\", \"2016-04-01T00:00:00\", \"2016-04-02T00:00:00\", \"2016-04-03T00:00:00\", \"2016-04-04T00:00:00\", \"2016-04-05T00:00:00\", \"2016-04-06T00:00:00\", \"2016-04-07T00:00:00\", \"2016-04-08T00:00:00\", \"2016-04-09T00:00:00\", \"2016-04-10T00:00:00\", \"2016-04-11T00:00:00\", \"2016-04-12T00:00:00\", \"2016-04-13T00:00:00\", \"2016-04-14T00:00:00\", \"2016-04-15T00:00:00\", \"2016-04-16T00:00:00\", \"2016-04-17T00:00:00\", \"2016-04-18T00:00:00\", \"2016-04-19T00:00:00\", \"2016-04-20T00:00:00\", \"2016-04-21T00:00:00\", \"2016-04-22T00:00:00\", \"2016-04-23T00:00:00\", \"2016-04-24T00:00:00\", \"2016-04-25T00:00:00\", \"2016-04-26T00:00:00\", \"2016-04-27T00:00:00\", \"2016-04-28T00:00:00\", \"2016-04-29T00:00:00\"], \"xaxis\": \"x\", \"y\": [24604.293970118866, 23836.532974368776, 20887.29639362287, 20827.546955522754, 23308.376979583314, 23250.839614259574, 23303.48167611277, 23310.152381577398, 22904.38517959457, 21268.70826056898, 21148.626460836847, 23208.697286773673, 23349.933878104406, 23234.067461920586, 23224.780031413866, 22932.29812874383, 21538.682210335766, 21442.763054686457, 22998.66765733968, 23041.972148476878, 22989.523482007997, 23011.23660163784, 22774.13115604411, 21760.36949828801, 21701.841150390715, 22859.623728633418, 22906.432279024113, 22864.561855162105, 22866.91630191525, 22693.487502069005], \"yaxis\": \"y\"}],                        {\"showlegend\": true, \"template\": {\"data\": {\"bar\": [{\"error_x\": {\"color\": \"#2a3f5f\"}, \"error_y\": {\"color\": \"#2a3f5f\"}, \"marker\": {\"line\": {\"color\": \"#E5ECF6\", \"width\": 0.5}}, \"type\": \"bar\"}], \"barpolar\": [{\"marker\": {\"line\": {\"color\": \"#E5ECF6\", \"width\": 0.5}}, \"type\": \"barpolar\"}], \"carpet\": [{\"aaxis\": {\"endlinecolor\": \"#2a3f5f\", \"gridcolor\": \"white\", \"linecolor\": \"white\", \"minorgridcolor\": \"white\", \"startlinecolor\": \"#2a3f5f\"}, \"baxis\": {\"endlinecolor\": \"#2a3f5f\", \"gridcolor\": \"white\", \"linecolor\": \"white\", \"minorgridcolor\": \"white\", \"startlinecolor\": \"#2a3f5f\"}, \"type\": \"carpet\"}], \"choropleth\": [{\"colorbar\": {\"outlinewidth\": 0, \"ticks\": \"\"}, \"type\": \"choropleth\"}], \"contour\": [{\"colorbar\": {\"outlinewidth\": 0, \"ticks\": \"\"}, \"colorscale\": [[0.0, \"#0d0887\"], [0.1111111111111111, \"#46039f\"], [0.2222222222222222, \"#7201a8\"], [0.3333333333333333, \"#9c179e\"], [0.4444444444444444, \"#bd3786\"], [0.5555555555555556, \"#d8576b\"], [0.6666666666666666, \"#ed7953\"], [0.7777777777777778, \"#fb9f3a\"], [0.8888888888888888, \"#fdca26\"], [1.0, \"#f0f921\"]], \"type\": \"contour\"}], \"contourcarpet\": [{\"colorbar\": {\"outlinewidth\": 0, \"ticks\": \"\"}, \"type\": \"contourcarpet\"}], \"heatmap\": [{\"colorbar\": {\"outlinewidth\": 0, \"ticks\": \"\"}, \"colorscale\": [[0.0, \"#0d0887\"], [0.1111111111111111, \"#46039f\"], [0.2222222222222222, \"#7201a8\"], [0.3333333333333333, \"#9c179e\"], [0.4444444444444444, \"#bd3786\"], [0.5555555555555556, \"#d8576b\"], [0.6666666666666666, \"#ed7953\"], [0.7777777777777778, \"#fb9f3a\"], [0.8888888888888888, \"#fdca26\"], [1.0, \"#f0f921\"]], \"type\": \"heatmap\"}], \"heatmapgl\": [{\"colorbar\": {\"outlinewidth\": 0, \"ticks\": \"\"}, \"colorscale\": [[0.0, \"#0d0887\"], [0.1111111111111111, \"#46039f\"], [0.2222222222222222, \"#7201a8\"], [0.3333333333333333, \"#9c179e\"], [0.4444444444444444, \"#bd3786\"], [0.5555555555555556, \"#d8576b\"], [0.6666666666666666, \"#ed7953\"], [0.7777777777777778, \"#fb9f3a\"], [0.8888888888888888, \"#fdca26\"], [1.0, \"#f0f921\"]], \"type\": \"heatmapgl\"}], \"histogram\": [{\"marker\": {\"colorbar\": {\"outlinewidth\": 0, \"ticks\": \"\"}}, \"type\": \"histogram\"}], \"histogram2d\": [{\"colorbar\": {\"outlinewidth\": 0, \"ticks\": \"\"}, \"colorscale\": [[0.0, \"#0d0887\"], [0.1111111111111111, \"#46039f\"], [0.2222222222222222, \"#7201a8\"], [0.3333333333333333, \"#9c179e\"], [0.4444444444444444, \"#bd3786\"], [0.5555555555555556, \"#d8576b\"], [0.6666666666666666, \"#ed7953\"], [0.7777777777777778, \"#fb9f3a\"], [0.8888888888888888, \"#fdca26\"], [1.0, \"#f0f921\"]], \"type\": \"histogram2d\"}], \"histogram2dcontour\": [{\"colorbar\": {\"outlinewidth\": 0, \"ticks\": \"\"}, \"colorscale\": [[0.0, \"#0d0887\"], [0.1111111111111111, \"#46039f\"], [0.2222222222222222, \"#7201a8\"], [0.3333333333333333, \"#9c179e\"], [0.4444444444444444, \"#bd3786\"], [0.5555555555555556, \"#d8576b\"], [0.6666666666666666, \"#ed7953\"], [0.7777777777777778, \"#fb9f3a\"], [0.8888888888888888, \"#fdca26\"], [1.0, \"#f0f921\"]], \"type\": \"histogram2dcontour\"}], \"mesh3d\": [{\"colorbar\": {\"outlinewidth\": 0, \"ticks\": \"\"}, \"type\": \"mesh3d\"}], \"parcoords\": [{\"line\": {\"colorbar\": {\"outlinewidth\": 0, \"ticks\": \"\"}}, \"type\": \"parcoords\"}], \"pie\": [{\"automargin\": true, \"type\": \"pie\"}], \"scatter\": [{\"marker\": {\"colorbar\": {\"outlinewidth\": 0, \"ticks\": \"\"}}, \"type\": \"scatter\"}], \"scatter3d\": [{\"line\": {\"colorbar\": {\"outlinewidth\": 0, \"ticks\": \"\"}}, \"marker\": {\"colorbar\": {\"outlinewidth\": 0, \"ticks\": \"\"}}, \"type\": \"scatter3d\"}], \"scattercarpet\": [{\"marker\": {\"colorbar\": {\"outlinewidth\": 0, \"ticks\": \"\"}}, \"type\": \"scattercarpet\"}], \"scattergeo\": [{\"marker\": {\"colorbar\": {\"outlinewidth\": 0, \"ticks\": \"\"}}, \"type\": \"scattergeo\"}], \"scattergl\": [{\"marker\": {\"colorbar\": {\"outlinewidth\": 0, \"ticks\": \"\"}}, \"type\": \"scattergl\"}], \"scattermapbox\": [{\"marker\": {\"colorbar\": {\"outlinewidth\": 0, \"ticks\": \"\"}}, \"type\": \"scattermapbox\"}], \"scatterpolar\": [{\"marker\": {\"colorbar\": {\"outlinewidth\": 0, \"ticks\": \"\"}}, \"type\": \"scatterpolar\"}], \"scatterpolargl\": [{\"marker\": {\"colorbar\": {\"outlinewidth\": 0, \"ticks\": \"\"}}, \"type\": \"scatterpolargl\"}], \"scatterternary\": [{\"marker\": {\"colorbar\": {\"outlinewidth\": 0, \"ticks\": \"\"}}, \"type\": \"scatterternary\"}], \"surface\": [{\"colorbar\": {\"outlinewidth\": 0, \"ticks\": \"\"}, \"colorscale\": [[0.0, \"#0d0887\"], [0.1111111111111111, \"#46039f\"], [0.2222222222222222, \"#7201a8\"], [0.3333333333333333, \"#9c179e\"], [0.4444444444444444, \"#bd3786\"], [0.5555555555555556, \"#d8576b\"], [0.6666666666666666, \"#ed7953\"], [0.7777777777777778, \"#fb9f3a\"], [0.8888888888888888, \"#fdca26\"], [1.0, \"#f0f921\"]], \"type\": \"surface\"}], \"table\": [{\"cells\": {\"fill\": {\"color\": \"#EBF0F8\"}, \"line\": {\"color\": \"white\"}}, \"header\": {\"fill\": {\"color\": \"#C8D4E3\"}, \"line\": {\"color\": \"white\"}}, \"type\": \"table\"}]}, \"layout\": {\"annotationdefaults\": {\"arrowcolor\": \"#2a3f5f\", \"arrowhead\": 0, \"arrowwidth\": 1}, \"autotypenumbers\": \"strict\", \"coloraxis\": {\"colorbar\": {\"outlinewidth\": 0, \"ticks\": \"\"}}, \"colorscale\": {\"diverging\": [[0, \"#8e0152\"], [0.1, \"#c51b7d\"], [0.2, \"#de77ae\"], [0.3, \"#f1b6da\"], [0.4, \"#fde0ef\"], [0.5, \"#f7f7f7\"], [0.6, \"#e6f5d0\"], [0.7, \"#b8e186\"], [0.8, \"#7fbc41\"], [0.9, \"#4d9221\"], [1, \"#276419\"]], \"sequential\": [[0.0, \"#0d0887\"], [0.1111111111111111, \"#46039f\"], [0.2222222222222222, \"#7201a8\"], [0.3333333333333333, \"#9c179e\"], [0.4444444444444444, \"#bd3786\"], [0.5555555555555556, \"#d8576b\"], [0.6666666666666666, \"#ed7953\"], [0.7777777777777778, \"#fb9f3a\"], [0.8888888888888888, \"#fdca26\"], [1.0, \"#f0f921\"]], \"sequentialminus\": [[0.0, \"#0d0887\"], [0.1111111111111111, \"#46039f\"], [0.2222222222222222, \"#7201a8\"], [0.3333333333333333, \"#9c179e\"], [0.4444444444444444, \"#bd3786\"], [0.5555555555555556, \"#d8576b\"], [0.6666666666666666, \"#ed7953\"], [0.7777777777777778, \"#fb9f3a\"], [0.8888888888888888, \"#fdca26\"], [1.0, \"#f0f921\"]]}, \"colorway\": [\"#636efa\", \"#EF553B\", \"#00cc96\", \"#ab63fa\", \"#FFA15A\", \"#19d3f3\", \"#FF6692\", \"#B6E880\", \"#FF97FF\", \"#FECB52\"], \"font\": {\"color\": \"#2a3f5f\"}, \"geo\": {\"bgcolor\": \"white\", \"lakecolor\": \"white\", \"landcolor\": \"#E5ECF6\", \"showlakes\": true, \"showland\": true, \"subunitcolor\": \"white\"}, \"hoverlabel\": {\"align\": \"left\"}, \"hovermode\": \"closest\", \"mapbox\": {\"style\": \"light\"}, \"paper_bgcolor\": \"white\", \"plot_bgcolor\": \"#E5ECF6\", \"polar\": {\"angularaxis\": {\"gridcolor\": \"white\", \"linecolor\": \"white\", \"ticks\": \"\"}, \"bgcolor\": \"#E5ECF6\", \"radialaxis\": {\"gridcolor\": \"white\", \"linecolor\": \"white\", \"ticks\": \"\"}}, \"scene\": {\"xaxis\": {\"backgroundcolor\": \"#E5ECF6\", \"gridcolor\": \"white\", \"gridwidth\": 2, \"linecolor\": \"white\", \"showbackground\": true, \"ticks\": \"\", \"zerolinecolor\": \"white\"}, \"yaxis\": {\"backgroundcolor\": \"#E5ECF6\", \"gridcolor\": \"white\", \"gridwidth\": 2, \"linecolor\": \"white\", \"showbackground\": true, \"ticks\": \"\", \"zerolinecolor\": \"white\"}, \"zaxis\": {\"backgroundcolor\": \"#E5ECF6\", \"gridcolor\": \"white\", \"gridwidth\": 2, \"linecolor\": \"white\", \"showbackground\": true, \"ticks\": \"\", \"zerolinecolor\": \"white\"}}, \"shapedefaults\": {\"line\": {\"color\": \"#2a3f5f\"}}, \"ternary\": {\"aaxis\": {\"gridcolor\": \"white\", \"linecolor\": \"white\", \"ticks\": \"\"}, \"baxis\": {\"gridcolor\": \"white\", \"linecolor\": \"white\", \"ticks\": \"\"}, \"bgcolor\": \"#E5ECF6\", \"caxis\": {\"gridcolor\": \"white\", \"linecolor\": \"white\", \"ticks\": \"\"}}, \"title\": {\"x\": 0.05}, \"xaxis\": {\"automargin\": true, \"gridcolor\": \"white\", \"linecolor\": \"white\", \"ticks\": \"\", \"title\": {\"standoff\": 15}, \"zerolinecolor\": \"white\", \"zerolinewidth\": 2}, \"yaxis\": {\"automargin\": true, \"gridcolor\": \"white\", \"linecolor\": \"white\", \"ticks\": \"\", \"title\": {\"standoff\": 15}, \"zerolinecolor\": \"white\", \"zerolinewidth\": 2}}}, \"title\": {\"text\": \"Bldg: 1148 Meter: 0\"}, \"xaxis\": {\"anchor\": \"y\", \"domain\": [0.0, 0.94], \"dtick\": \"M1\", \"rangeslider\": {\"visible\": true}, \"tickformat\": \"%b\\n%Y\", \"title\": {\"text\": \"Time\"}}, \"yaxis\": {\"anchor\": \"x\", \"color\": \"blue\", \"domain\": [0.0, 1.0], \"title\": {\"text\": \"Meter Reading\"}}, \"yaxis2\": {\"anchor\": \"x\", \"overlaying\": \"y\", \"side\": \"right\"}},                        {\"responsive\": true}                    ).then(function(){\n",
       "                            \n",
       "var gd = document.getElementById('c0073308-dab8-40a6-b4d9-2c895f947550');\n",
       "var x = new MutationObserver(function (mutations, observer) {{\n",
       "        var display = window.getComputedStyle(gd).display;\n",
       "        if (!display || display === 'none') {{\n",
       "            console.log([gd, 'removed!']);\n",
       "            Plotly.purge(gd);\n",
       "            observer.disconnect();\n",
       "        }}\n",
       "}});\n",
       "\n",
       "// Listen for the removal of the full notebook cells\n",
       "var notebookContainer = gd.closest('#notebook-container');\n",
       "if (notebookContainer) {{\n",
       "    x.observe(notebookContainer, {childList: true});\n",
       "}}\n",
       "\n",
       "// Listen for the clearing of the current output cell\n",
       "var outputEl = gd.closest('.output');\n",
       "if (outputEl) {{\n",
       "    x.observe(outputEl, {childList: true});\n",
       "}}\n",
       "\n",
       "                        })                };                });            </script>        </div>"
      ]
     },
     "metadata": {},
     "output_type": "display_data"
    },
    {
     "name": "stdout",
     "output_type": "stream",
     "text": [
      "Data Size:  120\n",
      "Train Size:  30\n",
      "Offset:  30\n",
      "\n",
      "\n",
      "DATA\n",
      "Date Start: \n",
      "2016-01-31 00:00:00\n",
      "Date End: \n",
      "2016-05-29 00:00:00\n",
      "\n",
      "\n",
      "TRAIN\n",
      "Date Start: \n",
      "2016-01-31 00:00:00\n",
      "Date End: \n",
      "2016-04-29 00:00:00\n",
      "\n",
      "\n",
      "TEST\n",
      "Date Start: \n",
      "2016-04-30 00:00:00\n",
      "Date End: \n",
      "2016-05-29 00:00:00\n",
      "\n",
      "\n",
      "ARIMA Model: \n",
      "Model Fit: \n",
      "\n",
      "\n",
      "            ARIMA_predict  meter_reading\n",
      "timestamp                               \n",
      "2016-04-30       19366.48       19383.56\n",
      "2016-05-01       19277.64       19365.60\n",
      "2016-05-02       24569.01       24036.10\n",
      "2016-05-03       24454.52       24384.88\n",
      "2016-05-04       24625.82       24429.16\n",
      "2016-05-05       24482.92       24529.90\n",
      "2016-05-06       23887.25       24288.43\n",
      "2016-05-07       19525.48       19906.22\n",
      "2016-05-08       19395.27       19879.11\n",
      "2016-05-09       24557.35       24300.71\n",
      "2016-05-10       24382.00       23913.94\n",
      "2016-05-11       24526.37       23893.83\n",
      "2016-05-12       24531.18       23689.35\n",
      "2016-05-13       23852.48       23269.51\n",
      "2016-05-14       19383.85       19039.44\n",
      "2016-05-15       19302.44       18843.55\n",
      "2016-05-16       24566.55       23556.54\n",
      "2016-05-17       24439.23       23933.04\n",
      "2016-05-18       24604.85       23945.13\n",
      "2016-05-19       24493.09       23955.25\n",
      "2016-05-20       23879.92       23741.96\n",
      "2016-05-21       19495.62       19746.13\n",
      "2016-05-22       19375.70       19855.49\n",
      "2016-05-23       24559.29       25093.29\n",
      "2016-05-24       24394.07       26002.09\n",
      "2016-05-25       24542.91       25563.89\n",
      "2016-05-26       24523.15       25948.31\n",
      "2016-05-27       23858.27       25020.31\n",
      "2016-05-28       19407.41       20791.21\n",
      "2016-05-29       19317.88       20743.51\n",
      "MSE: 741.5155240897637\n"
     ]
    },
    {
     "data": {
      "application/vnd.plotly.v1+json": {
       "config": {
        "plotlyServerURL": "https://plot.ly"
       },
       "data": [
        {
         "hovertemplate": "%{x|%Y/%m/%d %a %H:%M:%S.%L} value: %{y}",
         "legendgroup": "",
         "line": {
          "dash": "solid"
         },
         "mode": "lines",
         "name": "",
         "orientation": "v",
         "showlegend": false,
         "type": "scatter",
         "x": [
          "2016-04-30T00:00:00",
          "2016-05-01T00:00:00",
          "2016-05-02T00:00:00",
          "2016-05-03T00:00:00",
          "2016-05-04T00:00:00",
          "2016-05-05T00:00:00",
          "2016-05-06T00:00:00",
          "2016-05-07T00:00:00",
          "2016-05-08T00:00:00",
          "2016-05-09T00:00:00",
          "2016-05-10T00:00:00",
          "2016-05-11T00:00:00",
          "2016-05-12T00:00:00",
          "2016-05-13T00:00:00",
          "2016-05-14T00:00:00",
          "2016-05-15T00:00:00",
          "2016-05-16T00:00:00",
          "2016-05-17T00:00:00",
          "2016-05-18T00:00:00",
          "2016-05-19T00:00:00",
          "2016-05-20T00:00:00",
          "2016-05-21T00:00:00",
          "2016-05-22T00:00:00",
          "2016-05-23T00:00:00",
          "2016-05-24T00:00:00",
          "2016-05-25T00:00:00",
          "2016-05-26T00:00:00",
          "2016-05-27T00:00:00",
          "2016-05-28T00:00:00",
          "2016-05-29T00:00:00"
         ],
         "xaxis": "x",
         "y": [
          19383.559999999998,
          19365.603,
          24036.095,
          24384.88400000001,
          24429.164,
          24529.898,
          24288.430999999997,
          19906.216999999997,
          19879.107,
          24300.710000000003,
          23913.93700000001,
          23893.827999999998,
          23689.352999999996,
          23269.514000000006,
          19039.442,
          18843.554,
          23556.541999999998,
          23933.041,
          23945.129,
          23955.254,
          23741.961,
          19746.13,
          19855.494,
          25093.294000000005,
          26002.085000000003,
          25563.892,
          25948.307,
          25020.305999999997,
          20791.213,
          20743.505999999998
         ],
         "yaxis": "y"
        },
        {
         "hovertemplate": "%{x|%Y/%m/%d %a %H:%M:%S.%L} value: %{y}",
         "legendgroup": "",
         "line": {
          "dash": "solid"
         },
         "mode": "lines",
         "name": "",
         "orientation": "v",
         "showlegend": false,
         "type": "scatter",
         "x": [
          "2016-04-30T00:00:00",
          "2016-05-01T00:00:00",
          "2016-05-02T00:00:00",
          "2016-05-03T00:00:00",
          "2016-05-04T00:00:00",
          "2016-05-05T00:00:00",
          "2016-05-06T00:00:00",
          "2016-05-07T00:00:00",
          "2016-05-08T00:00:00",
          "2016-05-09T00:00:00",
          "2016-05-10T00:00:00",
          "2016-05-11T00:00:00",
          "2016-05-12T00:00:00",
          "2016-05-13T00:00:00",
          "2016-05-14T00:00:00",
          "2016-05-15T00:00:00",
          "2016-05-16T00:00:00",
          "2016-05-17T00:00:00",
          "2016-05-18T00:00:00",
          "2016-05-19T00:00:00",
          "2016-05-20T00:00:00",
          "2016-05-21T00:00:00",
          "2016-05-22T00:00:00",
          "2016-05-23T00:00:00",
          "2016-05-24T00:00:00",
          "2016-05-25T00:00:00",
          "2016-05-26T00:00:00",
          "2016-05-27T00:00:00",
          "2016-05-28T00:00:00",
          "2016-05-29T00:00:00"
         ],
         "xaxis": "x",
         "y": [
          19366.476535121994,
          19277.64439597068,
          24569.00504342019,
          24454.521496596102,
          24625.81803599156,
          24482.920157739933,
          23887.251978717526,
          19525.478627023458,
          19395.267428104977,
          24557.35131027037,
          24382.001109920144,
          24526.36832208846,
          24531.18091126463,
          23852.482698302487,
          19383.85091999815,
          19302.440649164095,
          24566.548305886838,
          24439.233386460935,
          24604.85292192157,
          24493.094065366604,
          23879.922224800455,
          19495.621919379733,
          19375.698502938016,
          24559.290140002835,
          24394.0663151286,
          24542.91375518887,
          24523.151777368916,
          23858.26725796062,
          19407.413499112605,
          19317.884225627167
         ],
         "yaxis": "y"
        }
       ],
       "layout": {
        "autosize": true,
        "showlegend": true,
        "template": {
         "data": {
          "bar": [
           {
            "error_x": {
             "color": "#2a3f5f"
            },
            "error_y": {
             "color": "#2a3f5f"
            },
            "marker": {
             "line": {
              "color": "#E5ECF6",
              "width": 0.5
             }
            },
            "type": "bar"
           }
          ],
          "barpolar": [
           {
            "marker": {
             "line": {
              "color": "#E5ECF6",
              "width": 0.5
             }
            },
            "type": "barpolar"
           }
          ],
          "carpet": [
           {
            "aaxis": {
             "endlinecolor": "#2a3f5f",
             "gridcolor": "white",
             "linecolor": "white",
             "minorgridcolor": "white",
             "startlinecolor": "#2a3f5f"
            },
            "baxis": {
             "endlinecolor": "#2a3f5f",
             "gridcolor": "white",
             "linecolor": "white",
             "minorgridcolor": "white",
             "startlinecolor": "#2a3f5f"
            },
            "type": "carpet"
           }
          ],
          "choropleth": [
           {
            "colorbar": {
             "outlinewidth": 0,
             "ticks": ""
            },
            "type": "choropleth"
           }
          ],
          "contour": [
           {
            "colorbar": {
             "outlinewidth": 0,
             "ticks": ""
            },
            "colorscale": [
             [
              0,
              "#0d0887"
             ],
             [
              0.1111111111111111,
              "#46039f"
             ],
             [
              0.2222222222222222,
              "#7201a8"
             ],
             [
              0.3333333333333333,
              "#9c179e"
             ],
             [
              0.4444444444444444,
              "#bd3786"
             ],
             [
              0.5555555555555556,
              "#d8576b"
             ],
             [
              0.6666666666666666,
              "#ed7953"
             ],
             [
              0.7777777777777778,
              "#fb9f3a"
             ],
             [
              0.8888888888888888,
              "#fdca26"
             ],
             [
              1,
              "#f0f921"
             ]
            ],
            "type": "contour"
           }
          ],
          "contourcarpet": [
           {
            "colorbar": {
             "outlinewidth": 0,
             "ticks": ""
            },
            "type": "contourcarpet"
           }
          ],
          "heatmap": [
           {
            "colorbar": {
             "outlinewidth": 0,
             "ticks": ""
            },
            "colorscale": [
             [
              0,
              "#0d0887"
             ],
             [
              0.1111111111111111,
              "#46039f"
             ],
             [
              0.2222222222222222,
              "#7201a8"
             ],
             [
              0.3333333333333333,
              "#9c179e"
             ],
             [
              0.4444444444444444,
              "#bd3786"
             ],
             [
              0.5555555555555556,
              "#d8576b"
             ],
             [
              0.6666666666666666,
              "#ed7953"
             ],
             [
              0.7777777777777778,
              "#fb9f3a"
             ],
             [
              0.8888888888888888,
              "#fdca26"
             ],
             [
              1,
              "#f0f921"
             ]
            ],
            "type": "heatmap"
           }
          ],
          "heatmapgl": [
           {
            "colorbar": {
             "outlinewidth": 0,
             "ticks": ""
            },
            "colorscale": [
             [
              0,
              "#0d0887"
             ],
             [
              0.1111111111111111,
              "#46039f"
             ],
             [
              0.2222222222222222,
              "#7201a8"
             ],
             [
              0.3333333333333333,
              "#9c179e"
             ],
             [
              0.4444444444444444,
              "#bd3786"
             ],
             [
              0.5555555555555556,
              "#d8576b"
             ],
             [
              0.6666666666666666,
              "#ed7953"
             ],
             [
              0.7777777777777778,
              "#fb9f3a"
             ],
             [
              0.8888888888888888,
              "#fdca26"
             ],
             [
              1,
              "#f0f921"
             ]
            ],
            "type": "heatmapgl"
           }
          ],
          "histogram": [
           {
            "marker": {
             "colorbar": {
              "outlinewidth": 0,
              "ticks": ""
             }
            },
            "type": "histogram"
           }
          ],
          "histogram2d": [
           {
            "colorbar": {
             "outlinewidth": 0,
             "ticks": ""
            },
            "colorscale": [
             [
              0,
              "#0d0887"
             ],
             [
              0.1111111111111111,
              "#46039f"
             ],
             [
              0.2222222222222222,
              "#7201a8"
             ],
             [
              0.3333333333333333,
              "#9c179e"
             ],
             [
              0.4444444444444444,
              "#bd3786"
             ],
             [
              0.5555555555555556,
              "#d8576b"
             ],
             [
              0.6666666666666666,
              "#ed7953"
             ],
             [
              0.7777777777777778,
              "#fb9f3a"
             ],
             [
              0.8888888888888888,
              "#fdca26"
             ],
             [
              1,
              "#f0f921"
             ]
            ],
            "type": "histogram2d"
           }
          ],
          "histogram2dcontour": [
           {
            "colorbar": {
             "outlinewidth": 0,
             "ticks": ""
            },
            "colorscale": [
             [
              0,
              "#0d0887"
             ],
             [
              0.1111111111111111,
              "#46039f"
             ],
             [
              0.2222222222222222,
              "#7201a8"
             ],
             [
              0.3333333333333333,
              "#9c179e"
             ],
             [
              0.4444444444444444,
              "#bd3786"
             ],
             [
              0.5555555555555556,
              "#d8576b"
             ],
             [
              0.6666666666666666,
              "#ed7953"
             ],
             [
              0.7777777777777778,
              "#fb9f3a"
             ],
             [
              0.8888888888888888,
              "#fdca26"
             ],
             [
              1,
              "#f0f921"
             ]
            ],
            "type": "histogram2dcontour"
           }
          ],
          "mesh3d": [
           {
            "colorbar": {
             "outlinewidth": 0,
             "ticks": ""
            },
            "type": "mesh3d"
           }
          ],
          "parcoords": [
           {
            "line": {
             "colorbar": {
              "outlinewidth": 0,
              "ticks": ""
             }
            },
            "type": "parcoords"
           }
          ],
          "pie": [
           {
            "automargin": true,
            "type": "pie"
           }
          ],
          "scatter": [
           {
            "marker": {
             "colorbar": {
              "outlinewidth": 0,
              "ticks": ""
             }
            },
            "type": "scatter"
           }
          ],
          "scatter3d": [
           {
            "line": {
             "colorbar": {
              "outlinewidth": 0,
              "ticks": ""
             }
            },
            "marker": {
             "colorbar": {
              "outlinewidth": 0,
              "ticks": ""
             }
            },
            "type": "scatter3d"
           }
          ],
          "scattercarpet": [
           {
            "marker": {
             "colorbar": {
              "outlinewidth": 0,
              "ticks": ""
             }
            },
            "type": "scattercarpet"
           }
          ],
          "scattergeo": [
           {
            "marker": {
             "colorbar": {
              "outlinewidth": 0,
              "ticks": ""
             }
            },
            "type": "scattergeo"
           }
          ],
          "scattergl": [
           {
            "marker": {
             "colorbar": {
              "outlinewidth": 0,
              "ticks": ""
             }
            },
            "type": "scattergl"
           }
          ],
          "scattermapbox": [
           {
            "marker": {
             "colorbar": {
              "outlinewidth": 0,
              "ticks": ""
             }
            },
            "type": "scattermapbox"
           }
          ],
          "scatterpolar": [
           {
            "marker": {
             "colorbar": {
              "outlinewidth": 0,
              "ticks": ""
             }
            },
            "type": "scatterpolar"
           }
          ],
          "scatterpolargl": [
           {
            "marker": {
             "colorbar": {
              "outlinewidth": 0,
              "ticks": ""
             }
            },
            "type": "scatterpolargl"
           }
          ],
          "scatterternary": [
           {
            "marker": {
             "colorbar": {
              "outlinewidth": 0,
              "ticks": ""
             }
            },
            "type": "scatterternary"
           }
          ],
          "surface": [
           {
            "colorbar": {
             "outlinewidth": 0,
             "ticks": ""
            },
            "colorscale": [
             [
              0,
              "#0d0887"
             ],
             [
              0.1111111111111111,
              "#46039f"
             ],
             [
              0.2222222222222222,
              "#7201a8"
             ],
             [
              0.3333333333333333,
              "#9c179e"
             ],
             [
              0.4444444444444444,
              "#bd3786"
             ],
             [
              0.5555555555555556,
              "#d8576b"
             ],
             [
              0.6666666666666666,
              "#ed7953"
             ],
             [
              0.7777777777777778,
              "#fb9f3a"
             ],
             [
              0.8888888888888888,
              "#fdca26"
             ],
             [
              1,
              "#f0f921"
             ]
            ],
            "type": "surface"
           }
          ],
          "table": [
           {
            "cells": {
             "fill": {
              "color": "#EBF0F8"
             },
             "line": {
              "color": "white"
             }
            },
            "header": {
             "fill": {
              "color": "#C8D4E3"
             },
             "line": {
              "color": "white"
             }
            },
            "type": "table"
           }
          ]
         },
         "layout": {
          "annotationdefaults": {
           "arrowcolor": "#2a3f5f",
           "arrowhead": 0,
           "arrowwidth": 1
          },
          "autotypenumbers": "strict",
          "coloraxis": {
           "colorbar": {
            "outlinewidth": 0,
            "ticks": ""
           }
          },
          "colorscale": {
           "diverging": [
            [
             0,
             "#8e0152"
            ],
            [
             0.1,
             "#c51b7d"
            ],
            [
             0.2,
             "#de77ae"
            ],
            [
             0.3,
             "#f1b6da"
            ],
            [
             0.4,
             "#fde0ef"
            ],
            [
             0.5,
             "#f7f7f7"
            ],
            [
             0.6,
             "#e6f5d0"
            ],
            [
             0.7,
             "#b8e186"
            ],
            [
             0.8,
             "#7fbc41"
            ],
            [
             0.9,
             "#4d9221"
            ],
            [
             1,
             "#276419"
            ]
           ],
           "sequential": [
            [
             0,
             "#0d0887"
            ],
            [
             0.1111111111111111,
             "#46039f"
            ],
            [
             0.2222222222222222,
             "#7201a8"
            ],
            [
             0.3333333333333333,
             "#9c179e"
            ],
            [
             0.4444444444444444,
             "#bd3786"
            ],
            [
             0.5555555555555556,
             "#d8576b"
            ],
            [
             0.6666666666666666,
             "#ed7953"
            ],
            [
             0.7777777777777778,
             "#fb9f3a"
            ],
            [
             0.8888888888888888,
             "#fdca26"
            ],
            [
             1,
             "#f0f921"
            ]
           ],
           "sequentialminus": [
            [
             0,
             "#0d0887"
            ],
            [
             0.1111111111111111,
             "#46039f"
            ],
            [
             0.2222222222222222,
             "#7201a8"
            ],
            [
             0.3333333333333333,
             "#9c179e"
            ],
            [
             0.4444444444444444,
             "#bd3786"
            ],
            [
             0.5555555555555556,
             "#d8576b"
            ],
            [
             0.6666666666666666,
             "#ed7953"
            ],
            [
             0.7777777777777778,
             "#fb9f3a"
            ],
            [
             0.8888888888888888,
             "#fdca26"
            ],
            [
             1,
             "#f0f921"
            ]
           ]
          },
          "colorway": [
           "#636efa",
           "#EF553B",
           "#00cc96",
           "#ab63fa",
           "#FFA15A",
           "#19d3f3",
           "#FF6692",
           "#B6E880",
           "#FF97FF",
           "#FECB52"
          ],
          "font": {
           "color": "#2a3f5f"
          },
          "geo": {
           "bgcolor": "white",
           "lakecolor": "white",
           "landcolor": "#E5ECF6",
           "showlakes": true,
           "showland": true,
           "subunitcolor": "white"
          },
          "hoverlabel": {
           "align": "left"
          },
          "hovermode": "closest",
          "mapbox": {
           "style": "light"
          },
          "paper_bgcolor": "white",
          "plot_bgcolor": "#E5ECF6",
          "polar": {
           "angularaxis": {
            "gridcolor": "white",
            "linecolor": "white",
            "ticks": ""
           },
           "bgcolor": "#E5ECF6",
           "radialaxis": {
            "gridcolor": "white",
            "linecolor": "white",
            "ticks": ""
           }
          },
          "scene": {
           "xaxis": {
            "backgroundcolor": "#E5ECF6",
            "gridcolor": "white",
            "gridwidth": 2,
            "linecolor": "white",
            "showbackground": true,
            "ticks": "",
            "zerolinecolor": "white"
           },
           "yaxis": {
            "backgroundcolor": "#E5ECF6",
            "gridcolor": "white",
            "gridwidth": 2,
            "linecolor": "white",
            "showbackground": true,
            "ticks": "",
            "zerolinecolor": "white"
           },
           "zaxis": {
            "backgroundcolor": "#E5ECF6",
            "gridcolor": "white",
            "gridwidth": 2,
            "linecolor": "white",
            "showbackground": true,
            "ticks": "",
            "zerolinecolor": "white"
           }
          },
          "shapedefaults": {
           "line": {
            "color": "#2a3f5f"
           }
          },
          "ternary": {
           "aaxis": {
            "gridcolor": "white",
            "linecolor": "white",
            "ticks": ""
           },
           "baxis": {
            "gridcolor": "white",
            "linecolor": "white",
            "ticks": ""
           },
           "bgcolor": "#E5ECF6",
           "caxis": {
            "gridcolor": "white",
            "linecolor": "white",
            "ticks": ""
           }
          },
          "title": {
           "x": 0.05
          },
          "xaxis": {
           "automargin": true,
           "gridcolor": "white",
           "linecolor": "white",
           "ticks": "",
           "title": {
            "standoff": 15
           },
           "zerolinecolor": "white",
           "zerolinewidth": 2
          },
          "yaxis": {
           "automargin": true,
           "gridcolor": "white",
           "linecolor": "white",
           "ticks": "",
           "title": {
            "standoff": 15
           },
           "zerolinecolor": "white",
           "zerolinewidth": 2
          }
         }
        },
        "title": {
         "text": "Bldg: 1148 Meter: 0"
        },
        "xaxis": {
         "anchor": "y",
         "autorange": true,
         "domain": [
          0,
          0.94
         ],
         "dtick": "M1",
         "range": [
          "2016-04-30",
          "2016-05-29"
         ],
         "rangeslider": {
          "autorange": true,
          "range": [
           "2016-04-30",
           "2016-05-29"
          ],
          "visible": true,
          "yaxis": {
           "_template": null,
           "rangemode": "match"
          }
         },
         "tickformat": "%b\n%Y",
         "title": {
          "text": "Time"
         },
         "type": "date"
        },
        "yaxis": {
         "anchor": "x",
         "autorange": true,
         "color": "blue",
         "domain": [
          0,
          1
         ],
         "range": [
          18445.85783333333,
          26399.78116666667
         ],
         "title": {
          "text": "Meter Reading"
         },
         "type": "linear"
        },
        "yaxis2": {
         "anchor": "x",
         "overlaying": "y",
         "side": "right"
        }
       }
      },
      "image/png": "[encoded data removed]",
      "text/html": [
       "<div>                            <div id=\"a999e063-6cc0-40ae-97e9-772b3607712a\" class=\"plotly-graph-div\" style=\"height:525px; width:100%;\"></div>            <script type=\"text/javascript\">                require([\"plotly\"], function(Plotly) {                    window.PLOTLYENV=window.PLOTLYENV || {};                                    if (document.getElementById(\"a999e063-6cc0-40ae-97e9-772b3607712a\")) {                    Plotly.newPlot(                        \"a999e063-6cc0-40ae-97e9-772b3607712a\",                        [{\"hovertemplate\": \"%{x|%Y/%m/%d %a %H:%M:%S.%L} value: %{y}\", \"legendgroup\": \"\", \"line\": {\"dash\": \"solid\"}, \"mode\": \"lines\", \"name\": \"\", \"orientation\": \"v\", \"showlegend\": false, \"type\": \"scatter\", \"x\": [\"2016-04-30T00:00:00\", \"2016-05-01T00:00:00\", \"2016-05-02T00:00:00\", \"2016-05-03T00:00:00\", \"2016-05-04T00:00:00\", \"2016-05-05T00:00:00\", \"2016-05-06T00:00:00\", \"2016-05-07T00:00:00\", \"2016-05-08T00:00:00\", \"2016-05-09T00:00:00\", \"2016-05-10T00:00:00\", \"2016-05-11T00:00:00\", \"2016-05-12T00:00:00\", \"2016-05-13T00:00:00\", \"2016-05-14T00:00:00\", \"2016-05-15T00:00:00\", \"2016-05-16T00:00:00\", \"2016-05-17T00:00:00\", \"2016-05-18T00:00:00\", \"2016-05-19T00:00:00\", \"2016-05-20T00:00:00\", \"2016-05-21T00:00:00\", \"2016-05-22T00:00:00\", \"2016-05-23T00:00:00\", \"2016-05-24T00:00:00\", \"2016-05-25T00:00:00\", \"2016-05-26T00:00:00\", \"2016-05-27T00:00:00\", \"2016-05-28T00:00:00\", \"2016-05-29T00:00:00\"], \"xaxis\": \"x\", \"y\": [19383.559999999998, 19365.603, 24036.095, 24384.88400000001, 24429.164, 24529.898, 24288.430999999997, 19906.216999999997, 19879.107, 24300.710000000003, 23913.93700000001, 23893.827999999998, 23689.352999999996, 23269.514000000006, 19039.442, 18843.554, 23556.541999999998, 23933.041, 23945.129, 23955.254, 23741.961, 19746.13, 19855.494, 25093.294000000005, 26002.085000000003, 25563.892, 25948.307, 25020.305999999997, 20791.213, 20743.505999999998], \"yaxis\": \"y\"}, {\"hovertemplate\": \"%{x|%Y/%m/%d %a %H:%M:%S.%L} value: %{y}\", \"legendgroup\": \"\", \"line\": {\"dash\": \"solid\"}, \"mode\": \"lines\", \"name\": \"\", \"orientation\": \"v\", \"showlegend\": false, \"type\": \"scatter\", \"x\": [\"2016-04-30T00:00:00\", \"2016-05-01T00:00:00\", \"2016-05-02T00:00:00\", \"2016-05-03T00:00:00\", \"2016-05-04T00:00:00\", \"2016-05-05T00:00:00\", \"2016-05-06T00:00:00\", \"2016-05-07T00:00:00\", \"2016-05-08T00:00:00\", \"2016-05-09T00:00:00\", \"2016-05-10T00:00:00\", \"2016-05-11T00:00:00\", \"2016-05-12T00:00:00\", \"2016-05-13T00:00:00\", \"2016-05-14T00:00:00\", \"2016-05-15T00:00:00\", \"2016-05-16T00:00:00\", \"2016-05-17T00:00:00\", \"2016-05-18T00:00:00\", \"2016-05-19T00:00:00\", \"2016-05-20T00:00:00\", \"2016-05-21T00:00:00\", \"2016-05-22T00:00:00\", \"2016-05-23T00:00:00\", \"2016-05-24T00:00:00\", \"2016-05-25T00:00:00\", \"2016-05-26T00:00:00\", \"2016-05-27T00:00:00\", \"2016-05-28T00:00:00\", \"2016-05-29T00:00:00\"], \"xaxis\": \"x\", \"y\": [19366.476535121994, 19277.64439597068, 24569.00504342019, 24454.521496596102, 24625.81803599156, 24482.920157739933, 23887.251978717526, 19525.478627023458, 19395.267428104977, 24557.35131027037, 24382.001109920144, 24526.36832208846, 24531.18091126463, 23852.482698302487, 19383.85091999815, 19302.440649164095, 24566.548305886838, 24439.233386460935, 24604.85292192157, 24493.094065366604, 23879.922224800455, 19495.621919379733, 19375.698502938016, 24559.290140002835, 24394.0663151286, 24542.91375518887, 24523.151777368916, 23858.26725796062, 19407.413499112605, 19317.884225627167], \"yaxis\": \"y\"}],                        {\"showlegend\": true, \"template\": {\"data\": {\"bar\": [{\"error_x\": {\"color\": \"#2a3f5f\"}, \"error_y\": {\"color\": \"#2a3f5f\"}, \"marker\": {\"line\": {\"color\": \"#E5ECF6\", \"width\": 0.5}}, \"type\": \"bar\"}], \"barpolar\": [{\"marker\": {\"line\": {\"color\": \"#E5ECF6\", \"width\": 0.5}}, \"type\": \"barpolar\"}], \"carpet\": [{\"aaxis\": {\"endlinecolor\": \"#2a3f5f\", \"gridcolor\": \"white\", \"linecolor\": \"white\", \"minorgridcolor\": \"white\", \"startlinecolor\": \"#2a3f5f\"}, \"baxis\": {\"endlinecolor\": \"#2a3f5f\", \"gridcolor\": \"white\", \"linecolor\": \"white\", \"minorgridcolor\": \"white\", \"startlinecolor\": \"#2a3f5f\"}, \"type\": \"carpet\"}], \"choropleth\": [{\"colorbar\": {\"outlinewidth\": 0, \"ticks\": \"\"}, \"type\": \"choropleth\"}], \"contour\": [{\"colorbar\": {\"outlinewidth\": 0, \"ticks\": \"\"}, \"colorscale\": [[0.0, \"#0d0887\"], [0.1111111111111111, \"#46039f\"], [0.2222222222222222, \"#7201a8\"], [0.3333333333333333, \"#9c179e\"], [0.4444444444444444, \"#bd3786\"], [0.5555555555555556, \"#d8576b\"], [0.6666666666666666, \"#ed7953\"], [0.7777777777777778, \"#fb9f3a\"], [0.8888888888888888, \"#fdca26\"], [1.0, \"#f0f921\"]], \"type\": \"contour\"}], \"contourcarpet\": [{\"colorbar\": {\"outlinewidth\": 0, \"ticks\": \"\"}, \"type\": \"contourcarpet\"}], \"heatmap\": [{\"colorbar\": {\"outlinewidth\": 0, \"ticks\": \"\"}, \"colorscale\": [[0.0, \"#0d0887\"], [0.1111111111111111, \"#46039f\"], [0.2222222222222222, \"#7201a8\"], [0.3333333333333333, \"#9c179e\"], [0.4444444444444444, \"#bd3786\"], [0.5555555555555556, \"#d8576b\"], [0.6666666666666666, \"#ed7953\"], [0.7777777777777778, \"#fb9f3a\"], [0.8888888888888888, \"#fdca26\"], [1.0, \"#f0f921\"]], \"type\": \"heatmap\"}], \"heatmapgl\": [{\"colorbar\": {\"outlinewidth\": 0, \"ticks\": \"\"}, \"colorscale\": [[0.0, \"#0d0887\"], [0.1111111111111111, \"#46039f\"], [0.2222222222222222, \"#7201a8\"], [0.3333333333333333, \"#9c179e\"], [0.4444444444444444, \"#bd3786\"], [0.5555555555555556, \"#d8576b\"], [0.6666666666666666, \"#ed7953\"], [0.7777777777777778, \"#fb9f3a\"], [0.8888888888888888, \"#fdca26\"], [1.0, \"#f0f921\"]], \"type\": \"heatmapgl\"}], \"histogram\": [{\"marker\": {\"colorbar\": {\"outlinewidth\": 0, \"ticks\": \"\"}}, \"type\": \"histogram\"}], \"histogram2d\": [{\"colorbar\": {\"outlinewidth\": 0, \"ticks\": \"\"}, \"colorscale\": [[0.0, \"#0d0887\"], [0.1111111111111111, \"#46039f\"], [0.2222222222222222, \"#7201a8\"], [0.3333333333333333, \"#9c179e\"], [0.4444444444444444, \"#bd3786\"], [0.5555555555555556, \"#d8576b\"], [0.6666666666666666, \"#ed7953\"], [0.7777777777777778, \"#fb9f3a\"], [0.8888888888888888, \"#fdca26\"], [1.0, \"#f0f921\"]], \"type\": \"histogram2d\"}], \"histogram2dcontour\": [{\"colorbar\": {\"outlinewidth\": 0, \"ticks\": \"\"}, \"colorscale\": [[0.0, \"#0d0887\"], [0.1111111111111111, \"#46039f\"], [0.2222222222222222, \"#7201a8\"], [0.3333333333333333, \"#9c179e\"], [0.4444444444444444, \"#bd3786\"], [0.5555555555555556, \"#d8576b\"], [0.6666666666666666, \"#ed7953\"], [0.7777777777777778, \"#fb9f3a\"], [0.8888888888888888, \"#fdca26\"], [1.0, \"#f0f921\"]], \"type\": \"histogram2dcontour\"}], \"mesh3d\": [{\"colorbar\": {\"outlinewidth\": 0, \"ticks\": \"\"}, \"type\": \"mesh3d\"}], \"parcoords\": [{\"line\": {\"colorbar\": {\"outlinewidth\": 0, \"ticks\": \"\"}}, \"type\": \"parcoords\"}], \"pie\": [{\"automargin\": true, \"type\": \"pie\"}], \"scatter\": [{\"marker\": {\"colorbar\": {\"outlinewidth\": 0, \"ticks\": \"\"}}, \"type\": \"scatter\"}], \"scatter3d\": [{\"line\": {\"colorbar\": {\"outlinewidth\": 0, \"ticks\": \"\"}}, \"marker\": {\"colorbar\": {\"outlinewidth\": 0, \"ticks\": \"\"}}, \"type\": \"scatter3d\"}], \"scattercarpet\": [{\"marker\": {\"colorbar\": {\"outlinewidth\": 0, \"ticks\": \"\"}}, \"type\": \"scattercarpet\"}], \"scattergeo\": [{\"marker\": {\"colorbar\": {\"outlinewidth\": 0, \"ticks\": \"\"}}, \"type\": \"scattergeo\"}], \"scattergl\": [{\"marker\": {\"colorbar\": {\"outlinewidth\": 0, \"ticks\": \"\"}}, \"type\": \"scattergl\"}], \"scattermapbox\": [{\"marker\": {\"colorbar\": {\"outlinewidth\": 0, \"ticks\": \"\"}}, \"type\": \"scattermapbox\"}], \"scatterpolar\": [{\"marker\": {\"colorbar\": {\"outlinewidth\": 0, \"ticks\": \"\"}}, \"type\": \"scatterpolar\"}], \"scatterpolargl\": [{\"marker\": {\"colorbar\": {\"outlinewidth\": 0, \"ticks\": \"\"}}, \"type\": \"scatterpolargl\"}], \"scatterternary\": [{\"marker\": {\"colorbar\": {\"outlinewidth\": 0, \"ticks\": \"\"}}, \"type\": \"scatterternary\"}], \"surface\": [{\"colorbar\": {\"outlinewidth\": 0, \"ticks\": \"\"}, \"colorscale\": [[0.0, \"#0d0887\"], [0.1111111111111111, \"#46039f\"], [0.2222222222222222, \"#7201a8\"], [0.3333333333333333, \"#9c179e\"], [0.4444444444444444, \"#bd3786\"], [0.5555555555555556, \"#d8576b\"], [0.6666666666666666, \"#ed7953\"], [0.7777777777777778, \"#fb9f3a\"], [0.8888888888888888, \"#fdca26\"], [1.0, \"#f0f921\"]], \"type\": \"surface\"}], \"table\": [{\"cells\": {\"fill\": {\"color\": \"#EBF0F8\"}, \"line\": {\"color\": \"white\"}}, \"header\": {\"fill\": {\"color\": \"#C8D4E3\"}, \"line\": {\"color\": \"white\"}}, \"type\": \"table\"}]}, \"layout\": {\"annotationdefaults\": {\"arrowcolor\": \"#2a3f5f\", \"arrowhead\": 0, \"arrowwidth\": 1}, \"autotypenumbers\": \"strict\", \"coloraxis\": {\"colorbar\": {\"outlinewidth\": 0, \"ticks\": \"\"}}, \"colorscale\": {\"diverging\": [[0, \"#8e0152\"], [0.1, \"#c51b7d\"], [0.2, \"#de77ae\"], [0.3, \"#f1b6da\"], [0.4, \"#fde0ef\"], [0.5, \"#f7f7f7\"], [0.6, \"#e6f5d0\"], [0.7, \"#b8e186\"], [0.8, \"#7fbc41\"], [0.9, \"#4d9221\"], [1, \"#276419\"]], \"sequential\": [[0.0, \"#0d0887\"], [0.1111111111111111, \"#46039f\"], [0.2222222222222222, \"#7201a8\"], [0.3333333333333333, \"#9c179e\"], [0.4444444444444444, \"#bd3786\"], [0.5555555555555556, \"#d8576b\"], [0.6666666666666666, \"#ed7953\"], [0.7777777777777778, \"#fb9f3a\"], [0.8888888888888888, \"#fdca26\"], [1.0, \"#f0f921\"]], \"sequentialminus\": [[0.0, \"#0d0887\"], [0.1111111111111111, \"#46039f\"], [0.2222222222222222, \"#7201a8\"], [0.3333333333333333, \"#9c179e\"], [0.4444444444444444, \"#bd3786\"], [0.5555555555555556, \"#d8576b\"], [0.6666666666666666, \"#ed7953\"], [0.7777777777777778, \"#fb9f3a\"], [0.8888888888888888, \"#fdca26\"], [1.0, \"#f0f921\"]]}, \"colorway\": [\"#636efa\", \"#EF553B\", \"#00cc96\", \"#ab63fa\", \"#FFA15A\", \"#19d3f3\", \"#FF6692\", \"#B6E880\", \"#FF97FF\", \"#FECB52\"], \"font\": {\"color\": \"#2a3f5f\"}, \"geo\": {\"bgcolor\": \"white\", \"lakecolor\": \"white\", \"landcolor\": \"#E5ECF6\", \"showlakes\": true, \"showland\": true, \"subunitcolor\": \"white\"}, \"hoverlabel\": {\"align\": \"left\"}, \"hovermode\": \"closest\", \"mapbox\": {\"style\": \"light\"}, \"paper_bgcolor\": \"white\", \"plot_bgcolor\": \"#E5ECF6\", \"polar\": {\"angularaxis\": {\"gridcolor\": \"white\", \"linecolor\": \"white\", \"ticks\": \"\"}, \"bgcolor\": \"#E5ECF6\", \"radialaxis\": {\"gridcolor\": \"white\", \"linecolor\": \"white\", \"ticks\": \"\"}}, \"scene\": {\"xaxis\": {\"backgroundcolor\": \"#E5ECF6\", \"gridcolor\": \"white\", \"gridwidth\": 2, \"linecolor\": \"white\", \"showbackground\": true, \"ticks\": \"\", \"zerolinecolor\": \"white\"}, \"yaxis\": {\"backgroundcolor\": \"#E5ECF6\", \"gridcolor\": \"white\", \"gridwidth\": 2, \"linecolor\": \"white\", \"showbackground\": true, \"ticks\": \"\", \"zerolinecolor\": \"white\"}, \"zaxis\": {\"backgroundcolor\": \"#E5ECF6\", \"gridcolor\": \"white\", \"gridwidth\": 2, \"linecolor\": \"white\", \"showbackground\": true, \"ticks\": \"\", \"zerolinecolor\": \"white\"}}, \"shapedefaults\": {\"line\": {\"color\": \"#2a3f5f\"}}, \"ternary\": {\"aaxis\": {\"gridcolor\": \"white\", \"linecolor\": \"white\", \"ticks\": \"\"}, \"baxis\": {\"gridcolor\": \"white\", \"linecolor\": \"white\", \"ticks\": \"\"}, \"bgcolor\": \"#E5ECF6\", \"caxis\": {\"gridcolor\": \"white\", \"linecolor\": \"white\", \"ticks\": \"\"}}, \"title\": {\"x\": 0.05}, \"xaxis\": {\"automargin\": true, \"gridcolor\": \"white\", \"linecolor\": \"white\", \"ticks\": \"\", \"title\": {\"standoff\": 15}, \"zerolinecolor\": \"white\", \"zerolinewidth\": 2}, \"yaxis\": {\"automargin\": true, \"gridcolor\": \"white\", \"linecolor\": \"white\", \"ticks\": \"\", \"title\": {\"standoff\": 15}, \"zerolinecolor\": \"white\", \"zerolinewidth\": 2}}}, \"title\": {\"text\": \"Bldg: 1148 Meter: 0\"}, \"xaxis\": {\"anchor\": \"y\", \"domain\": [0.0, 0.94], \"dtick\": \"M1\", \"rangeslider\": {\"visible\": true}, \"tickformat\": \"%b\\n%Y\", \"title\": {\"text\": \"Time\"}}, \"yaxis\": {\"anchor\": \"x\", \"color\": \"blue\", \"domain\": [0.0, 1.0], \"title\": {\"text\": \"Meter Reading\"}}, \"yaxis2\": {\"anchor\": \"x\", \"overlaying\": \"y\", \"side\": \"right\"}},                        {\"responsive\": true}                    ).then(function(){\n",
       "                            \n",
       "var gd = document.getElementById('a999e063-6cc0-40ae-97e9-772b3607712a');\n",
       "var x = new MutationObserver(function (mutations, observer) {{\n",
       "        var display = window.getComputedStyle(gd).display;\n",
       "        if (!display || display === 'none') {{\n",
       "            console.log([gd, 'removed!']);\n",
       "            Plotly.purge(gd);\n",
       "            observer.disconnect();\n",
       "        }}\n",
       "}});\n",
       "\n",
       "// Listen for the removal of the full notebook cells\n",
       "var notebookContainer = gd.closest('#notebook-container');\n",
       "if (notebookContainer) {{\n",
       "    x.observe(notebookContainer, {childList: true});\n",
       "}}\n",
       "\n",
       "// Listen for the clearing of the current output cell\n",
       "var outputEl = gd.closest('.output');\n",
       "if (outputEl) {{\n",
       "    x.observe(outputEl, {childList: true});\n",
       "}}\n",
       "\n",
       "                        })                };                });            </script>        </div>"
      ]
     },
     "metadata": {},
     "output_type": "display_data"
    },
    {
     "name": "stdout",
     "output_type": "stream",
     "text": [
      "Data Size:  120\n",
      "Train Size:  30\n",
      "Offset:  60\n",
      "\n",
      "\n",
      "DATA\n",
      "Date Start: \n",
      "2016-03-01 00:00:00\n",
      "Date End: \n",
      "2016-06-28 00:00:00\n",
      "\n",
      "\n",
      "TRAIN\n",
      "Date Start: \n",
      "2016-03-01 00:00:00\n",
      "Date End: \n",
      "2016-05-29 00:00:00\n",
      "\n",
      "\n",
      "TEST\n",
      "Date Start: \n",
      "2016-05-30 00:00:00\n",
      "Date End: \n",
      "2016-06-28 00:00:00\n",
      "\n",
      "\n",
      "ARIMA Model: \n",
      "Model Fit: \n",
      "\n",
      "\n",
      "            ARIMA_predict  meter_reading\n",
      "timestamp                               \n",
      "2016-05-30       25333.70       20652.99\n",
      "2016-05-31       25922.06       25435.85\n",
      "2016-06-01       25482.25       24547.76\n",
      "2016-06-02       25760.27       24023.71\n",
      "2016-06-03       24954.63       24267.39\n",
      "2016-06-04       20764.44       20646.21\n",
      "2016-06-05       20744.47       20520.09\n",
      "2016-06-06       25457.31       23373.42\n",
      "2016-06-07       26106.44       23913.81\n",
      "2016-06-08       25666.80       24215.74\n",
      "2016-06-09       25965.06       25486.75\n",
      "2016-06-10       25136.05       26178.63\n",
      "2016-06-11       20938.44       22239.95\n",
      "2016-06-12       20913.16       21853.55\n",
      "2016-06-13       25602.61       25972.38\n",
      "2016-06-14       26240.14       25830.72\n",
      "2016-06-15       25800.47       25490.66\n",
      "2016-06-16       26094.87       25763.53\n",
      "2016-06-17       25270.32       25923.49\n",
      "2016-06-18       21074.12       22010.84\n",
      "2016-06-19       21049.86       22312.75\n",
      "2016-06-20       25743.77       25930.03\n",
      "2016-06-21       26383.51       25082.92\n",
      "2016-06-22       25943.85       25684.31\n",
      "2016-06-23       26238.99       25626.45\n",
      "2016-06-24       25413.58       25350.96\n",
      "2016-06-25       21217.11       21711.92\n",
      "2016-06-26       21192.66       21566.09\n",
      "2016-06-27       25885.72       25992.54\n",
      "2016-06-28       26525.04       25383.02\n",
      "MSE: 1278.053541165111\n"
     ]
    },
    {
     "data": {
      "application/vnd.plotly.v1+json": {
       "config": {
        "plotlyServerURL": "https://plot.ly"
       },
       "data": [
        {
         "hovertemplate": "%{x|%Y/%m/%d %a %H:%M:%S.%L} value: %{y}",
         "legendgroup": "",
         "line": {
          "dash": "solid"
         },
         "mode": "lines",
         "name": "",
         "orientation": "v",
         "showlegend": false,
         "type": "scatter",
         "x": [
          "2016-05-30T00:00:00",
          "2016-05-31T00:00:00",
          "2016-06-01T00:00:00",
          "2016-06-02T00:00:00",
          "2016-06-03T00:00:00",
          "2016-06-04T00:00:00",
          "2016-06-05T00:00:00",
          "2016-06-06T00:00:00",
          "2016-06-07T00:00:00",
          "2016-06-08T00:00:00",
          "2016-06-09T00:00:00",
          "2016-06-10T00:00:00",
          "2016-06-11T00:00:00",
          "2016-06-12T00:00:00",
          "2016-06-13T00:00:00",
          "2016-06-14T00:00:00",
          "2016-06-15T00:00:00",
          "2016-06-16T00:00:00",
          "2016-06-17T00:00:00",
          "2016-06-18T00:00:00",
          "2016-06-19T00:00:00",
          "2016-06-20T00:00:00",
          "2016-06-21T00:00:00",
          "2016-06-22T00:00:00",
          "2016-06-23T00:00:00",
          "2016-06-24T00:00:00",
          "2016-06-25T00:00:00",
          "2016-06-26T00:00:00",
          "2016-06-27T00:00:00",
          "2016-06-28T00:00:00"
         ],
         "xaxis": "x",
         "y": [
          20652.986,
          25435.852999999996,
          24547.761,
          24023.714999999997,
          24267.389999999996,
          20646.213,
          20520.094999999998,
          23373.415,
          23913.810000000005,
          24215.738999999994,
          25486.749000000003,
          26178.627,
          22239.952999999998,
          21853.552,
          25972.381,
          25830.717999999997,
          25490.662,
          25763.526,
          25923.490999999998,
          22010.84,
          22312.753999999997,
          25930.029000000002,
          25082.917,
          25684.306000000004,
          25626.449999999997,
          25350.962,
          21711.921000000002,
          21566.085000000003,
          25992.543999999998,
          25383.018000000004
         ],
         "yaxis": "y"
        },
        {
         "hovertemplate": "%{x|%Y/%m/%d %a %H:%M:%S.%L} value: %{y}",
         "legendgroup": "",
         "line": {
          "dash": "solid"
         },
         "mode": "lines",
         "name": "",
         "orientation": "v",
         "showlegend": false,
         "type": "scatter",
         "x": [
          "2016-05-30T00:00:00",
          "2016-05-31T00:00:00",
          "2016-06-01T00:00:00",
          "2016-06-02T00:00:00",
          "2016-06-03T00:00:00",
          "2016-06-04T00:00:00",
          "2016-06-05T00:00:00",
          "2016-06-06T00:00:00",
          "2016-06-07T00:00:00",
          "2016-06-08T00:00:00",
          "2016-06-09T00:00:00",
          "2016-06-10T00:00:00",
          "2016-06-11T00:00:00",
          "2016-06-12T00:00:00",
          "2016-06-13T00:00:00",
          "2016-06-14T00:00:00",
          "2016-06-15T00:00:00",
          "2016-06-16T00:00:00",
          "2016-06-17T00:00:00",
          "2016-06-18T00:00:00",
          "2016-06-19T00:00:00",
          "2016-06-20T00:00:00",
          "2016-06-21T00:00:00",
          "2016-06-22T00:00:00",
          "2016-06-23T00:00:00",
          "2016-06-24T00:00:00",
          "2016-06-25T00:00:00",
          "2016-06-26T00:00:00",
          "2016-06-27T00:00:00",
          "2016-06-28T00:00:00"
         ],
         "xaxis": "x",
         "y": [
          25333.700990664584,
          25922.05723309236,
          25482.251663650244,
          25760.274467400097,
          24954.630614705206,
          20764.444559306983,
          20744.46617606793,
          25457.311627914132,
          26106.440201634563,
          25666.799365921113,
          25965.061613552192,
          25136.052689441833,
          20938.435174118265,
          20913.163315993508,
          25602.60912246733,
          26240.143497065896,
          25800.471001553044,
          26094.872051254923,
          25270.320474456545,
          21074.120653352387,
          21049.858632251788,
          25743.768416669634,
          26383.514630536338,
          25943.848174422976,
          26238.985829648496,
          25413.583918931698,
          21217.113642460587,
          21192.658973447335,
          25885.7171590696,
          26525.04141752373
         ],
         "yaxis": "y"
        }
       ],
       "layout": {
        "autosize": true,
        "showlegend": true,
        "template": {
         "data": {
          "bar": [
           {
            "error_x": {
             "color": "#2a3f5f"
            },
            "error_y": {
             "color": "#2a3f5f"
            },
            "marker": {
             "line": {
              "color": "#E5ECF6",
              "width": 0.5
             }
            },
            "type": "bar"
           }
          ],
          "barpolar": [
           {
            "marker": {
             "line": {
              "color": "#E5ECF6",
              "width": 0.5
             }
            },
            "type": "barpolar"
           }
          ],
          "carpet": [
           {
            "aaxis": {
             "endlinecolor": "#2a3f5f",
             "gridcolor": "white",
             "linecolor": "white",
             "minorgridcolor": "white",
             "startlinecolor": "#2a3f5f"
            },
            "baxis": {
             "endlinecolor": "#2a3f5f",
             "gridcolor": "white",
             "linecolor": "white",
             "minorgridcolor": "white",
             "startlinecolor": "#2a3f5f"
            },
            "type": "carpet"
           }
          ],
          "choropleth": [
           {
            "colorbar": {
             "outlinewidth": 0,
             "ticks": ""
            },
            "type": "choropleth"
           }
          ],
          "contour": [
           {
            "colorbar": {
             "outlinewidth": 0,
             "ticks": ""
            },
            "colorscale": [
             [
              0,
              "#0d0887"
             ],
             [
              0.1111111111111111,
              "#46039f"
             ],
             [
              0.2222222222222222,
              "#7201a8"
             ],
             [
              0.3333333333333333,
              "#9c179e"
             ],
             [
              0.4444444444444444,
              "#bd3786"
             ],
             [
              0.5555555555555556,
              "#d8576b"
             ],
             [
              0.6666666666666666,
              "#ed7953"
             ],
             [
              0.7777777777777778,
              "#fb9f3a"
             ],
             [
              0.8888888888888888,
              "#fdca26"
             ],
             [
              1,
              "#f0f921"
             ]
            ],
            "type": "contour"
           }
          ],
          "contourcarpet": [
           {
            "colorbar": {
             "outlinewidth": 0,
             "ticks": ""
            },
            "type": "contourcarpet"
           }
          ],
          "heatmap": [
           {
            "colorbar": {
             "outlinewidth": 0,
             "ticks": ""
            },
            "colorscale": [
             [
              0,
              "#0d0887"
             ],
             [
              0.1111111111111111,
              "#46039f"
             ],
             [
              0.2222222222222222,
              "#7201a8"
             ],
             [
              0.3333333333333333,
              "#9c179e"
             ],
             [
              0.4444444444444444,
              "#bd3786"
             ],
             [
              0.5555555555555556,
              "#d8576b"
             ],
             [
              0.6666666666666666,
              "#ed7953"
             ],
             [
              0.7777777777777778,
              "#fb9f3a"
             ],
             [
              0.8888888888888888,
              "#fdca26"
             ],
             [
              1,
              "#f0f921"
             ]
            ],
            "type": "heatmap"
           }
          ],
          "heatmapgl": [
           {
            "colorbar": {
             "outlinewidth": 0,
             "ticks": ""
            },
            "colorscale": [
             [
              0,
              "#0d0887"
             ],
             [
              0.1111111111111111,
              "#46039f"
             ],
             [
              0.2222222222222222,
              "#7201a8"
             ],
             [
              0.3333333333333333,
              "#9c179e"
             ],
             [
              0.4444444444444444,
              "#bd3786"
             ],
             [
              0.5555555555555556,
              "#d8576b"
             ],
             [
              0.6666666666666666,
              "#ed7953"
             ],
             [
              0.7777777777777778,
              "#fb9f3a"
             ],
             [
              0.8888888888888888,
              "#fdca26"
             ],
             [
              1,
              "#f0f921"
             ]
            ],
            "type": "heatmapgl"
           }
          ],
          "histogram": [
           {
            "marker": {
             "colorbar": {
              "outlinewidth": 0,
              "ticks": ""
             }
            },
            "type": "histogram"
           }
          ],
          "histogram2d": [
           {
            "colorbar": {
             "outlinewidth": 0,
             "ticks": ""
            },
            "colorscale": [
             [
              0,
              "#0d0887"
             ],
             [
              0.1111111111111111,
              "#46039f"
             ],
             [
              0.2222222222222222,
              "#7201a8"
             ],
             [
              0.3333333333333333,
              "#9c179e"
             ],
             [
              0.4444444444444444,
              "#bd3786"
             ],
             [
              0.5555555555555556,
              "#d8576b"
             ],
             [
              0.6666666666666666,
              "#ed7953"
             ],
             [
              0.7777777777777778,
              "#fb9f3a"
             ],
             [
              0.8888888888888888,
              "#fdca26"
             ],
             [
              1,
              "#f0f921"
             ]
            ],
            "type": "histogram2d"
           }
          ],
          "histogram2dcontour": [
           {
            "colorbar": {
             "outlinewidth": 0,
             "ticks": ""
            },
            "colorscale": [
             [
              0,
              "#0d0887"
             ],
             [
              0.1111111111111111,
              "#46039f"
             ],
             [
              0.2222222222222222,
              "#7201a8"
             ],
             [
              0.3333333333333333,
              "#9c179e"
             ],
             [
              0.4444444444444444,
              "#bd3786"
             ],
             [
              0.5555555555555556,
              "#d8576b"
             ],
             [
              0.6666666666666666,
              "#ed7953"
             ],
             [
              0.7777777777777778,
              "#fb9f3a"
             ],
             [
              0.8888888888888888,
              "#fdca26"
             ],
             [
              1,
              "#f0f921"
             ]
            ],
            "type": "histogram2dcontour"
           }
          ],
          "mesh3d": [
           {
            "colorbar": {
             "outlinewidth": 0,
             "ticks": ""
            },
            "type": "mesh3d"
           }
          ],
          "parcoords": [
           {
            "line": {
             "colorbar": {
              "outlinewidth": 0,
              "ticks": ""
             }
            },
            "type": "parcoords"
           }
          ],
          "pie": [
           {
            "automargin": true,
            "type": "pie"
           }
          ],
          "scatter": [
           {
            "marker": {
             "colorbar": {
              "outlinewidth": 0,
              "ticks": ""
             }
            },
            "type": "scatter"
           }
          ],
          "scatter3d": [
           {
            "line": {
             "colorbar": {
              "outlinewidth": 0,
              "ticks": ""
             }
            },
            "marker": {
             "colorbar": {
              "outlinewidth": 0,
              "ticks": ""
             }
            },
            "type": "scatter3d"
           }
          ],
          "scattercarpet": [
           {
            "marker": {
             "colorbar": {
              "outlinewidth": 0,
              "ticks": ""
             }
            },
            "type": "scattercarpet"
           }
          ],
          "scattergeo": [
           {
            "marker": {
             "colorbar": {
              "outlinewidth": 0,
              "ticks": ""
             }
            },
            "type": "scattergeo"
           }
          ],
          "scattergl": [
           {
            "marker": {
             "colorbar": {
              "outlinewidth": 0,
              "ticks": ""
             }
            },
            "type": "scattergl"
           }
          ],
          "scattermapbox": [
           {
            "marker": {
             "colorbar": {
              "outlinewidth": 0,
              "ticks": ""
             }
            },
            "type": "scattermapbox"
           }
          ],
          "scatterpolar": [
           {
            "marker": {
             "colorbar": {
              "outlinewidth": 0,
              "ticks": ""
             }
            },
            "type": "scatterpolar"
           }
          ],
          "scatterpolargl": [
           {
            "marker": {
             "colorbar": {
              "outlinewidth": 0,
              "ticks": ""
             }
            },
            "type": "scatterpolargl"
           }
          ],
          "scatterternary": [
           {
            "marker": {
             "colorbar": {
              "outlinewidth": 0,
              "ticks": ""
             }
            },
            "type": "scatterternary"
           }
          ],
          "surface": [
           {
            "colorbar": {
             "outlinewidth": 0,
             "ticks": ""
            },
            "colorscale": [
             [
              0,
              "#0d0887"
             ],
             [
              0.1111111111111111,
              "#46039f"
             ],
             [
              0.2222222222222222,
              "#7201a8"
             ],
             [
              0.3333333333333333,
              "#9c179e"
             ],
             [
              0.4444444444444444,
              "#bd3786"
             ],
             [
              0.5555555555555556,
              "#d8576b"
             ],
             [
              0.6666666666666666,
              "#ed7953"
             ],
             [
              0.7777777777777778,
              "#fb9f3a"
             ],
             [
              0.8888888888888888,
              "#fdca26"
             ],
             [
              1,
              "#f0f921"
             ]
            ],
            "type": "surface"
           }
          ],
          "table": [
           {
            "cells": {
             "fill": {
              "color": "#EBF0F8"
             },
             "line": {
              "color": "white"
             }
            },
            "header": {
             "fill": {
              "color": "#C8D4E3"
             },
             "line": {
              "color": "white"
             }
            },
            "type": "table"
           }
          ]
         },
         "layout": {
          "annotationdefaults": {
           "arrowcolor": "#2a3f5f",
           "arrowhead": 0,
           "arrowwidth": 1
          },
          "autotypenumbers": "strict",
          "coloraxis": {
           "colorbar": {
            "outlinewidth": 0,
            "ticks": ""
           }
          },
          "colorscale": {
           "diverging": [
            [
             0,
             "#8e0152"
            ],
            [
             0.1,
             "#c51b7d"
            ],
            [
             0.2,
             "#de77ae"
            ],
            [
             0.3,
             "#f1b6da"
            ],
            [
             0.4,
             "#fde0ef"
            ],
            [
             0.5,
             "#f7f7f7"
            ],
            [
             0.6,
             "#e6f5d0"
            ],
            [
             0.7,
             "#b8e186"
            ],
            [
             0.8,
             "#7fbc41"
            ],
            [
             0.9,
             "#4d9221"
            ],
            [
             1,
             "#276419"
            ]
           ],
           "sequential": [
            [
             0,
             "#0d0887"
            ],
            [
             0.1111111111111111,
             "#46039f"
            ],
            [
             0.2222222222222222,
             "#7201a8"
            ],
            [
             0.3333333333333333,
             "#9c179e"
            ],
            [
             0.4444444444444444,
             "#bd3786"
            ],
            [
             0.5555555555555556,
             "#d8576b"
            ],
            [
             0.6666666666666666,
             "#ed7953"
            ],
            [
             0.7777777777777778,
             "#fb9f3a"
            ],
            [
             0.8888888888888888,
             "#fdca26"
            ],
            [
             1,
             "#f0f921"
            ]
           ],
           "sequentialminus": [
            [
             0,
             "#0d0887"
            ],
            [
             0.1111111111111111,
             "#46039f"
            ],
            [
             0.2222222222222222,
             "#7201a8"
            ],
            [
             0.3333333333333333,
             "#9c179e"
            ],
            [
             0.4444444444444444,
             "#bd3786"
            ],
            [
             0.5555555555555556,
             "#d8576b"
            ],
            [
             0.6666666666666666,
             "#ed7953"
            ],
            [
             0.7777777777777778,
             "#fb9f3a"
            ],
            [
             0.8888888888888888,
             "#fdca26"
            ],
            [
             1,
             "#f0f921"
            ]
           ]
          },
          "colorway": [
           "#636efa",
           "#EF553B",
           "#00cc96",
           "#ab63fa",
           "#FFA15A",
           "#19d3f3",
           "#FF6692",
           "#B6E880",
           "#FF97FF",
           "#FECB52"
          ],
          "font": {
           "color": "#2a3f5f"
          },
          "geo": {
           "bgcolor": "white",
           "lakecolor": "white",
           "landcolor": "#E5ECF6",
           "showlakes": true,
           "showland": true,
           "subunitcolor": "white"
          },
          "hoverlabel": {
           "align": "left"
          },
          "hovermode": "closest",
          "mapbox": {
           "style": "light"
          },
          "paper_bgcolor": "white",
          "plot_bgcolor": "#E5ECF6",
          "polar": {
           "angularaxis": {
            "gridcolor": "white",
            "linecolor": "white",
            "ticks": ""
           },
           "bgcolor": "#E5ECF6",
           "radialaxis": {
            "gridcolor": "white",
            "linecolor": "white",
            "ticks": ""
           }
          },
          "scene": {
           "xaxis": {
            "backgroundcolor": "#E5ECF6",
            "gridcolor": "white",
            "gridwidth": 2,
            "linecolor": "white",
            "showbackground": true,
            "ticks": "",
            "zerolinecolor": "white"
           },
           "yaxis": {
            "backgroundcolor": "#E5ECF6",
            "gridcolor": "white",
            "gridwidth": 2,
            "linecolor": "white",
            "showbackground": true,
            "ticks": "",
            "zerolinecolor": "white"
           },
           "zaxis": {
            "backgroundcolor": "#E5ECF6",
            "gridcolor": "white",
            "gridwidth": 2,
            "linecolor": "white",
            "showbackground": true,
            "ticks": "",
            "zerolinecolor": "white"
           }
          },
          "shapedefaults": {
           "line": {
            "color": "#2a3f5f"
           }
          },
          "ternary": {
           "aaxis": {
            "gridcolor": "white",
            "linecolor": "white",
            "ticks": ""
           },
           "baxis": {
            "gridcolor": "white",
            "linecolor": "white",
            "ticks": ""
           },
           "bgcolor": "#E5ECF6",
           "caxis": {
            "gridcolor": "white",
            "linecolor": "white",
            "ticks": ""
           }
          },
          "title": {
           "x": 0.05
          },
          "xaxis": {
           "automargin": true,
           "gridcolor": "white",
           "linecolor": "white",
           "ticks": "",
           "title": {
            "standoff": 15
           },
           "zerolinecolor": "white",
           "zerolinewidth": 2
          },
          "yaxis": {
           "automargin": true,
           "gridcolor": "white",
           "linecolor": "white",
           "ticks": "",
           "title": {
            "standoff": 15
           },
           "zerolinecolor": "white",
           "zerolinewidth": 2
          }
         }
        },
        "title": {
         "text": "Bldg: 1148 Meter: 0"
        },
        "xaxis": {
         "anchor": "y",
         "autorange": true,
         "domain": [
          0,
          0.94
         ],
         "dtick": "M1",
         "range": [
          "2016-05-30",
          "2016-06-28"
         ],
         "rangeslider": {
          "autorange": true,
          "range": [
           "2016-05-30",
           "2016-06-28"
          ],
          "visible": true,
          "yaxis": {
           "_template": null,
           "rangemode": "match"
          }
         },
         "tickformat": "%b\n%Y",
         "title": {
          "text": "Time"
         },
         "type": "date"
        },
        "yaxis": {
         "anchor": "x",
         "autorange": true,
         "color": "blue",
         "domain": [
          0,
          1
         ],
         "range": [
          20186.486865693125,
          26858.649551830604
         ],
         "title": {
          "text": "Meter Reading"
         },
         "type": "linear"
        },
        "yaxis2": {
         "anchor": "x",
         "overlaying": "y",
         "side": "right"
        }
       }
      },
      "image/png": "[encoded data removed]",
      "text/html": [
       "<div>                            <div id=\"2ab87c37-ee5f-4a0c-a2a8-7b0d2c4b0871\" class=\"plotly-graph-div\" style=\"height:525px; width:100%;\"></div>            <script type=\"text/javascript\">                require([\"plotly\"], function(Plotly) {                    window.PLOTLYENV=window.PLOTLYENV || {};                                    if (document.getElementById(\"2ab87c37-ee5f-4a0c-a2a8-7b0d2c4b0871\")) {                    Plotly.newPlot(                        \"2ab87c37-ee5f-4a0c-a2a8-7b0d2c4b0871\",                        [{\"hovertemplate\": \"%{x|%Y/%m/%d %a %H:%M:%S.%L} value: %{y}\", \"legendgroup\": \"\", \"line\": {\"dash\": \"solid\"}, \"mode\": \"lines\", \"name\": \"\", \"orientation\": \"v\", \"showlegend\": false, \"type\": \"scatter\", \"x\": [\"2016-05-30T00:00:00\", \"2016-05-31T00:00:00\", \"2016-06-01T00:00:00\", \"2016-06-02T00:00:00\", \"2016-06-03T00:00:00\", \"2016-06-04T00:00:00\", \"2016-06-05T00:00:00\", \"2016-06-06T00:00:00\", \"2016-06-07T00:00:00\", \"2016-06-08T00:00:00\", \"2016-06-09T00:00:00\", \"2016-06-10T00:00:00\", \"2016-06-11T00:00:00\", \"2016-06-12T00:00:00\", \"2016-06-13T00:00:00\", \"2016-06-14T00:00:00\", \"2016-06-15T00:00:00\", \"2016-06-16T00:00:00\", \"2016-06-17T00:00:00\", \"2016-06-18T00:00:00\", \"2016-06-19T00:00:00\", \"2016-06-20T00:00:00\", \"2016-06-21T00:00:00\", \"2016-06-22T00:00:00\", \"2016-06-23T00:00:00\", \"2016-06-24T00:00:00\", \"2016-06-25T00:00:00\", \"2016-06-26T00:00:00\", \"2016-06-27T00:00:00\", \"2016-06-28T00:00:00\"], \"xaxis\": \"x\", \"y\": [20652.986, 25435.852999999996, 24547.761, 24023.714999999997, 24267.389999999996, 20646.213, 20520.094999999998, 23373.415, 23913.810000000005, 24215.738999999994, 25486.749000000003, 26178.627, 22239.952999999998, 21853.552, 25972.381, 25830.717999999997, 25490.662, 25763.526, 25923.490999999998, 22010.84, 22312.753999999997, 25930.029000000002, 25082.917, 25684.306000000004, 25626.449999999997, 25350.962, 21711.921000000002, 21566.085000000003, 25992.543999999998, 25383.018000000004], \"yaxis\": \"y\"}, {\"hovertemplate\": \"%{x|%Y/%m/%d %a %H:%M:%S.%L} value: %{y}\", \"legendgroup\": \"\", \"line\": {\"dash\": \"solid\"}, \"mode\": \"lines\", \"name\": \"\", \"orientation\": \"v\", \"showlegend\": false, \"type\": \"scatter\", \"x\": [\"2016-05-30T00:00:00\", \"2016-05-31T00:00:00\", \"2016-06-01T00:00:00\", \"2016-06-02T00:00:00\", \"2016-06-03T00:00:00\", \"2016-06-04T00:00:00\", \"2016-06-05T00:00:00\", \"2016-06-06T00:00:00\", \"2016-06-07T00:00:00\", \"2016-06-08T00:00:00\", \"2016-06-09T00:00:00\", \"2016-06-10T00:00:00\", \"2016-06-11T00:00:00\", \"2016-06-12T00:00:00\", \"2016-06-13T00:00:00\", \"2016-06-14T00:00:00\", \"2016-06-15T00:00:00\", \"2016-06-16T00:00:00\", \"2016-06-17T00:00:00\", \"2016-06-18T00:00:00\", \"2016-06-19T00:00:00\", \"2016-06-20T00:00:00\", \"2016-06-21T00:00:00\", \"2016-06-22T00:00:00\", \"2016-06-23T00:00:00\", \"2016-06-24T00:00:00\", \"2016-06-25T00:00:00\", \"2016-06-26T00:00:00\", \"2016-06-27T00:00:00\", \"2016-06-28T00:00:00\"], \"xaxis\": \"x\", \"y\": [25333.700990664584, 25922.05723309236, 25482.251663650244, 25760.274467400097, 24954.630614705206, 20764.444559306983, 20744.46617606793, 25457.311627914132, 26106.440201634563, 25666.799365921113, 25965.061613552192, 25136.052689441833, 20938.435174118265, 20913.163315993508, 25602.60912246733, 26240.143497065896, 25800.471001553044, 26094.872051254923, 25270.320474456545, 21074.120653352387, 21049.858632251788, 25743.768416669634, 26383.514630536338, 25943.848174422976, 26238.985829648496, 25413.583918931698, 21217.113642460587, 21192.658973447335, 25885.7171590696, 26525.04141752373], \"yaxis\": \"y\"}],                        {\"showlegend\": true, \"template\": {\"data\": {\"bar\": [{\"error_x\": {\"color\": \"#2a3f5f\"}, \"error_y\": {\"color\": \"#2a3f5f\"}, \"marker\": {\"line\": {\"color\": \"#E5ECF6\", \"width\": 0.5}}, \"type\": \"bar\"}], \"barpolar\": [{\"marker\": {\"line\": {\"color\": \"#E5ECF6\", \"width\": 0.5}}, \"type\": \"barpolar\"}], \"carpet\": [{\"aaxis\": {\"endlinecolor\": \"#2a3f5f\", \"gridcolor\": \"white\", \"linecolor\": \"white\", \"minorgridcolor\": \"white\", \"startlinecolor\": \"#2a3f5f\"}, \"baxis\": {\"endlinecolor\": \"#2a3f5f\", \"gridcolor\": \"white\", \"linecolor\": \"white\", \"minorgridcolor\": \"white\", \"startlinecolor\": \"#2a3f5f\"}, \"type\": \"carpet\"}], \"choropleth\": [{\"colorbar\": {\"outlinewidth\": 0, \"ticks\": \"\"}, \"type\": \"choropleth\"}], \"contour\": [{\"colorbar\": {\"outlinewidth\": 0, \"ticks\": \"\"}, \"colorscale\": [[0.0, \"#0d0887\"], [0.1111111111111111, \"#46039f\"], [0.2222222222222222, \"#7201a8\"], [0.3333333333333333, \"#9c179e\"], [0.4444444444444444, \"#bd3786\"], [0.5555555555555556, \"#d8576b\"], [0.6666666666666666, \"#ed7953\"], [0.7777777777777778, \"#fb9f3a\"], [0.8888888888888888, \"#fdca26\"], [1.0, \"#f0f921\"]], \"type\": \"contour\"}], \"contourcarpet\": [{\"colorbar\": {\"outlinewidth\": 0, \"ticks\": \"\"}, \"type\": \"contourcarpet\"}], \"heatmap\": [{\"colorbar\": {\"outlinewidth\": 0, \"ticks\": \"\"}, \"colorscale\": [[0.0, \"#0d0887\"], [0.1111111111111111, \"#46039f\"], [0.2222222222222222, \"#7201a8\"], [0.3333333333333333, \"#9c179e\"], [0.4444444444444444, \"#bd3786\"], [0.5555555555555556, \"#d8576b\"], [0.6666666666666666, \"#ed7953\"], [0.7777777777777778, \"#fb9f3a\"], [0.8888888888888888, \"#fdca26\"], [1.0, \"#f0f921\"]], \"type\": \"heatmap\"}], \"heatmapgl\": [{\"colorbar\": {\"outlinewidth\": 0, \"ticks\": \"\"}, \"colorscale\": [[0.0, \"#0d0887\"], [0.1111111111111111, \"#46039f\"], [0.2222222222222222, \"#7201a8\"], [0.3333333333333333, \"#9c179e\"], [0.4444444444444444, \"#bd3786\"], [0.5555555555555556, \"#d8576b\"], [0.6666666666666666, \"#ed7953\"], [0.7777777777777778, \"#fb9f3a\"], [0.8888888888888888, \"#fdca26\"], [1.0, \"#f0f921\"]], \"type\": \"heatmapgl\"}], \"histogram\": [{\"marker\": {\"colorbar\": {\"outlinewidth\": 0, \"ticks\": \"\"}}, \"type\": \"histogram\"}], \"histogram2d\": [{\"colorbar\": {\"outlinewidth\": 0, \"ticks\": \"\"}, \"colorscale\": [[0.0, \"#0d0887\"], [0.1111111111111111, \"#46039f\"], [0.2222222222222222, \"#7201a8\"], [0.3333333333333333, \"#9c179e\"], [0.4444444444444444, \"#bd3786\"], [0.5555555555555556, \"#d8576b\"], [0.6666666666666666, \"#ed7953\"], [0.7777777777777778, \"#fb9f3a\"], [0.8888888888888888, \"#fdca26\"], [1.0, \"#f0f921\"]], \"type\": \"histogram2d\"}], \"histogram2dcontour\": [{\"colorbar\": {\"outlinewidth\": 0, \"ticks\": \"\"}, \"colorscale\": [[0.0, \"#0d0887\"], [0.1111111111111111, \"#46039f\"], [0.2222222222222222, \"#7201a8\"], [0.3333333333333333, \"#9c179e\"], [0.4444444444444444, \"#bd3786\"], [0.5555555555555556, \"#d8576b\"], [0.6666666666666666, \"#ed7953\"], [0.7777777777777778, \"#fb9f3a\"], [0.8888888888888888, \"#fdca26\"], [1.0, \"#f0f921\"]], \"type\": \"histogram2dcontour\"}], \"mesh3d\": [{\"colorbar\": {\"outlinewidth\": 0, \"ticks\": \"\"}, \"type\": \"mesh3d\"}], \"parcoords\": [{\"line\": {\"colorbar\": {\"outlinewidth\": 0, \"ticks\": \"\"}}, \"type\": \"parcoords\"}], \"pie\": [{\"automargin\": true, \"type\": \"pie\"}], \"scatter\": [{\"marker\": {\"colorbar\": {\"outlinewidth\": 0, \"ticks\": \"\"}}, \"type\": \"scatter\"}], \"scatter3d\": [{\"line\": {\"colorbar\": {\"outlinewidth\": 0, \"ticks\": \"\"}}, \"marker\": {\"colorbar\": {\"outlinewidth\": 0, \"ticks\": \"\"}}, \"type\": \"scatter3d\"}], \"scattercarpet\": [{\"marker\": {\"colorbar\": {\"outlinewidth\": 0, \"ticks\": \"\"}}, \"type\": \"scattercarpet\"}], \"scattergeo\": [{\"marker\": {\"colorbar\": {\"outlinewidth\": 0, \"ticks\": \"\"}}, \"type\": \"scattergeo\"}], \"scattergl\": [{\"marker\": {\"colorbar\": {\"outlinewidth\": 0, \"ticks\": \"\"}}, \"type\": \"scattergl\"}], \"scattermapbox\": [{\"marker\": {\"colorbar\": {\"outlinewidth\": 0, \"ticks\": \"\"}}, \"type\": \"scattermapbox\"}], \"scatterpolar\": [{\"marker\": {\"colorbar\": {\"outlinewidth\": 0, \"ticks\": \"\"}}, \"type\": \"scatterpolar\"}], \"scatterpolargl\": [{\"marker\": {\"colorbar\": {\"outlinewidth\": 0, \"ticks\": \"\"}}, \"type\": \"scatterpolargl\"}], \"scatterternary\": [{\"marker\": {\"colorbar\": {\"outlinewidth\": 0, \"ticks\": \"\"}}, \"type\": \"scatterternary\"}], \"surface\": [{\"colorbar\": {\"outlinewidth\": 0, \"ticks\": \"\"}, \"colorscale\": [[0.0, \"#0d0887\"], [0.1111111111111111, \"#46039f\"], [0.2222222222222222, \"#7201a8\"], [0.3333333333333333, \"#9c179e\"], [0.4444444444444444, \"#bd3786\"], [0.5555555555555556, \"#d8576b\"], [0.6666666666666666, \"#ed7953\"], [0.7777777777777778, \"#fb9f3a\"], [0.8888888888888888, \"#fdca26\"], [1.0, \"#f0f921\"]], \"type\": \"surface\"}], \"table\": [{\"cells\": {\"fill\": {\"color\": \"#EBF0F8\"}, \"line\": {\"color\": \"white\"}}, \"header\": {\"fill\": {\"color\": \"#C8D4E3\"}, \"line\": {\"color\": \"white\"}}, \"type\": \"table\"}]}, \"layout\": {\"annotationdefaults\": {\"arrowcolor\": \"#2a3f5f\", \"arrowhead\": 0, \"arrowwidth\": 1}, \"autotypenumbers\": \"strict\", \"coloraxis\": {\"colorbar\": {\"outlinewidth\": 0, \"ticks\": \"\"}}, \"colorscale\": {\"diverging\": [[0, \"#8e0152\"], [0.1, \"#c51b7d\"], [0.2, \"#de77ae\"], [0.3, \"#f1b6da\"], [0.4, \"#fde0ef\"], [0.5, \"#f7f7f7\"], [0.6, \"#e6f5d0\"], [0.7, \"#b8e186\"], [0.8, \"#7fbc41\"], [0.9, \"#4d9221\"], [1, \"#276419\"]], \"sequential\": [[0.0, \"#0d0887\"], [0.1111111111111111, \"#46039f\"], [0.2222222222222222, \"#7201a8\"], [0.3333333333333333, \"#9c179e\"], [0.4444444444444444, \"#bd3786\"], [0.5555555555555556, \"#d8576b\"], [0.6666666666666666, \"#ed7953\"], [0.7777777777777778, \"#fb9f3a\"], [0.8888888888888888, \"#fdca26\"], [1.0, \"#f0f921\"]], \"sequentialminus\": [[0.0, \"#0d0887\"], [0.1111111111111111, \"#46039f\"], [0.2222222222222222, \"#7201a8\"], [0.3333333333333333, \"#9c179e\"], [0.4444444444444444, \"#bd3786\"], [0.5555555555555556, \"#d8576b\"], [0.6666666666666666, \"#ed7953\"], [0.7777777777777778, \"#fb9f3a\"], [0.8888888888888888, \"#fdca26\"], [1.0, \"#f0f921\"]]}, \"colorway\": [\"#636efa\", \"#EF553B\", \"#00cc96\", \"#ab63fa\", \"#FFA15A\", \"#19d3f3\", \"#FF6692\", \"#B6E880\", \"#FF97FF\", \"#FECB52\"], \"font\": {\"color\": \"#2a3f5f\"}, \"geo\": {\"bgcolor\": \"white\", \"lakecolor\": \"white\", \"landcolor\": \"#E5ECF6\", \"showlakes\": true, \"showland\": true, \"subunitcolor\": \"white\"}, \"hoverlabel\": {\"align\": \"left\"}, \"hovermode\": \"closest\", \"mapbox\": {\"style\": \"light\"}, \"paper_bgcolor\": \"white\", \"plot_bgcolor\": \"#E5ECF6\", \"polar\": {\"angularaxis\": {\"gridcolor\": \"white\", \"linecolor\": \"white\", \"ticks\": \"\"}, \"bgcolor\": \"#E5ECF6\", \"radialaxis\": {\"gridcolor\": \"white\", \"linecolor\": \"white\", \"ticks\": \"\"}}, \"scene\": {\"xaxis\": {\"backgroundcolor\": \"#E5ECF6\", \"gridcolor\": \"white\", \"gridwidth\": 2, \"linecolor\": \"white\", \"showbackground\": true, \"ticks\": \"\", \"zerolinecolor\": \"white\"}, \"yaxis\": {\"backgroundcolor\": \"#E5ECF6\", \"gridcolor\": \"white\", \"gridwidth\": 2, \"linecolor\": \"white\", \"showbackground\": true, \"ticks\": \"\", \"zerolinecolor\": \"white\"}, \"zaxis\": {\"backgroundcolor\": \"#E5ECF6\", \"gridcolor\": \"white\", \"gridwidth\": 2, \"linecolor\": \"white\", \"showbackground\": true, \"ticks\": \"\", \"zerolinecolor\": \"white\"}}, \"shapedefaults\": {\"line\": {\"color\": \"#2a3f5f\"}}, \"ternary\": {\"aaxis\": {\"gridcolor\": \"white\", \"linecolor\": \"white\", \"ticks\": \"\"}, \"baxis\": {\"gridcolor\": \"white\", \"linecolor\": \"white\", \"ticks\": \"\"}, \"bgcolor\": \"#E5ECF6\", \"caxis\": {\"gridcolor\": \"white\", \"linecolor\": \"white\", \"ticks\": \"\"}}, \"title\": {\"x\": 0.05}, \"xaxis\": {\"automargin\": true, \"gridcolor\": \"white\", \"linecolor\": \"white\", \"ticks\": \"\", \"title\": {\"standoff\": 15}, \"zerolinecolor\": \"white\", \"zerolinewidth\": 2}, \"yaxis\": {\"automargin\": true, \"gridcolor\": \"white\", \"linecolor\": \"white\", \"ticks\": \"\", \"title\": {\"standoff\": 15}, \"zerolinecolor\": \"white\", \"zerolinewidth\": 2}}}, \"title\": {\"text\": \"Bldg: 1148 Meter: 0\"}, \"xaxis\": {\"anchor\": \"y\", \"domain\": [0.0, 0.94], \"dtick\": \"M1\", \"rangeslider\": {\"visible\": true}, \"tickformat\": \"%b\\n%Y\", \"title\": {\"text\": \"Time\"}}, \"yaxis\": {\"anchor\": \"x\", \"color\": \"blue\", \"domain\": [0.0, 1.0], \"title\": {\"text\": \"Meter Reading\"}}, \"yaxis2\": {\"anchor\": \"x\", \"overlaying\": \"y\", \"side\": \"right\"}},                        {\"responsive\": true}                    ).then(function(){\n",
       "                            \n",
       "var gd = document.getElementById('2ab87c37-ee5f-4a0c-a2a8-7b0d2c4b0871');\n",
       "var x = new MutationObserver(function (mutations, observer) {{\n",
       "        var display = window.getComputedStyle(gd).display;\n",
       "        if (!display || display === 'none') {{\n",
       "            console.log([gd, 'removed!']);\n",
       "            Plotly.purge(gd);\n",
       "            observer.disconnect();\n",
       "        }}\n",
       "}});\n",
       "\n",
       "// Listen for the removal of the full notebook cells\n",
       "var notebookContainer = gd.closest('#notebook-container');\n",
       "if (notebookContainer) {{\n",
       "    x.observe(notebookContainer, {childList: true});\n",
       "}}\n",
       "\n",
       "// Listen for the clearing of the current output cell\n",
       "var outputEl = gd.closest('.output');\n",
       "if (outputEl) {{\n",
       "    x.observe(outputEl, {childList: true});\n",
       "}}\n",
       "\n",
       "                        })                };                });            </script>        </div>"
      ]
     },
     "metadata": {},
     "output_type": "display_data"
    }
   ],
   "source": [
    "# Holes in the data\n",
    "# Data is daily\n",
    "offsets = [0,30,60] # offsets in days\n",
    "data_sizes = [120]\n",
    "test_sizes = [int(x * 0.25) for x in data_sizes]\n",
    "\n",
    "resample = True\n",
    "\n",
    "# df_results = pd.DataFrame(columns = ['TrainLen',\n",
    "#                                      'TestLen',\n",
    "#                                      'ARIMA_predict',\n",
    "#                                      'ARIMA_actual'])\n",
    "\n",
    "# For each of the file matches (did this way to prevent long run times)\n",
    "for num,file in enumerate(files):\n",
    "    print('-----------------------------------------------------------------------------')\n",
    " \n",
    "    df_train = pd.read_pickle(file) # Show how many days \n",
    "    \n",
    "    bldg_size = df_train.iloc[0]['square_feet']\n",
    "    bldg_number = df_train.iloc[0]['building_id']\n",
    "    bldg_meter = df_train.iloc[0]['meter']\n",
    "\n",
    "    title = df_stats[(df_stats['building'] == bldg_number) & (df_stats['meter'] == bldg_meter)][['building',\n",
    "                                                                                                 'meter',\n",
    "                                                                                                 'per_data',\n",
    "                                                                                                'category',\n",
    "                                                                                                'square_feet',\n",
    "                                                                                                'corr_meter_to_airtemp']]\n",
    "    print(title)\n",
    " \n",
    "    # RESAMPLE DATA\n",
    "    if resample:\n",
    " \n",
    "        agg_dict={'meter_reading':'sum', \n",
    "                  'air_temperature':'max',\n",
    "                  'dew_temperature':'max',\n",
    "                  'cloud_coverage':'mean',\n",
    "                  'dew_temperature':'max',\n",
    "                  'precip_depth_1_hr':'sum',\n",
    "                  'sea_level_pressure':'mean',\n",
    "                  'building_id': 'max',\n",
    "                  'site_id': 'max'\n",
    "                  }\n",
    "\n",
    "        resamp = '1D'\n",
    "\n",
    "        df_train = df_train.resample(resamp).agg(agg_dict)\n",
    "\n",
    "    # Curently for 4 periods\n",
    "    for ds, ts in zip(data_sizes,test_sizes):     \n",
    "        for off in offsets:\n",
    "            print('Data Size: ', ds)\n",
    "            print('Train Size: ', ts)\n",
    "            print('Offset: ', off)\n",
    "\n",
    "            train, test = model_selection.train_test_split(df_train.iloc[off:off+ds], test_size=ts)\n",
    "            df_slice = df_train.iloc[off:off+ds]\n",
    "            \n",
    "            print(\"\\n\" * 1)\n",
    "            print('DATA')\n",
    "            print('Date Start: ')\n",
    "            print(df_slice.iloc[0].name)\n",
    "            print('Date End: ')\n",
    "            print(df_slice.iloc[-1].name)\n",
    "            \n",
    "            print(\"\\n\" * 1)\n",
    "            print('TRAIN')\n",
    "            print('Date Start: ')\n",
    "            print(train.iloc[0].name)\n",
    "            print('Date End: ')\n",
    "            print(train.iloc[-1].name)\n",
    "            \n",
    "            print(\"\\n\" * 1)\n",
    "            print('TEST')\n",
    "            print('Date Start: ')\n",
    "            print(test.iloc[0].name)\n",
    "            print('Date End: ')\n",
    "            print(test.iloc[-1].name)\n",
    "            \n",
    "            \n",
    "            ######################################    ARIMA   ##################################################\n",
    "            print(\"\\n\" * 1)\n",
    "            print('ARIMA Model: ')\n",
    "            print('Model Fit: ')\n",
    "            \n",
    "            # Create Pipeline Object\n",
    "            pipe = pipeline.Pipeline([(\"arima\", arima.AutoARIMA(trace=False, error_action=\"ignore\",\n",
    "                              seasonal=True,\n",
    "                              suppress_warnings=True,m=7,\n",
    "                             exogenous=df_train[['sea_level_pressure']]))])\n",
    "                       \n",
    "            pipe.fit(train['meter_reading'])\n",
    "\n",
    "            print(\"\\n\" * 1)\n",
    "            predict_meter, conf_int = pipe.predict(n_periods=ts, return_conf_int=True)\n",
    "  \n",
    "            predict_s = pd.Series(predict_meter,index=test.index,name='ARIMA_predict')          \n",
    "            df_result = pd.concat([predict_s,test['meter_reading']],axis=1)\n",
    "            print(df_result)\n",
    "    \n",
    "            error = ((sqrt(mean_squared_error(df_result['ARIMA_predict'],df_result['meter_reading']))))\n",
    "            print('MSE: ' + str(error))\n",
    "            \n",
    "            ######################################   VISUALIZE #################################################\n",
    "            subfig = make_subplots(specs=[[{\"secondary_y\": True}]])\n",
    "            \n",
    "            fig = px.line(df_result, x=df_result.index, y='meter_reading', \n",
    "                           title='Bldg: ' + str(bldg_number) + ' ' + 'Meter: ' + str(bldg_meter))\n",
    "            \n",
    "            fig2 = px.line(df_result, x=df_result.index, y='ARIMA_predict', \n",
    "                           title='Bldg: ' + str(bldg_number) + ' ' + 'Meter: ' + str(bldg_meter))\n",
    "\n",
    "#             fig2.update_traces(yaxis=\"y1\")\n",
    "\n",
    "            subfig.add_traces(fig.data + fig2.data)\n",
    "            subfig.layout.title='Bldg: ' + str(bldg_number) + ' ' + 'Meter: ' + str(bldg_meter)\n",
    "            subfig.layout.xaxis.title=\"Time\"\n",
    "            subfig.layout.yaxis.title=\"Meter Reading\"\n",
    "            subfig.layout.yaxis.color=\"blue\"\n",
    "\n",
    "            subfig.update_xaxes(dtick=\"M1\", tickformat=\"%b\\n%Y\")\n",
    "\n",
    "            subfig.for_each_trace(lambda t: t.update(line=dict(color=t.marker.color)))\n",
    "            subfig.update_xaxes(rangeslider_visible=True)\n",
    "            \n",
    "            # Hover text for exploration\n",
    "            subfig.update_traces(mode='lines',hovertemplate=\"%{x|%Y/%m/%d %a %H:%M:%S.%L} value: %{y}\")\n",
    "            subfig.update_layout(showlegend=True)\n",
    "            subfig.write_image('.//visualization//' + str(bldg_number) + '_' + str(bldg_meter) + 'ARIMA_1reg.jpg')\n",
    "\n",
    "            subfig.show()\n",
    "\n"
   ]
  },
  {
   "cell_type": "markdown",
   "id": "designed-geography",
   "metadata": {},
   "source": [
    "# 2 - Build Model - Prophet"
   ]
  },
  {
   "cell_type": "code",
   "execution_count": 41,
   "id": "written-completion",
   "metadata": {
    "jupyter": {
     "source_hidden": true
    }
   },
   "outputs": [],
   "source": [
    "from prophet.plot import plot_plotly, plot_components_plotly"
   ]
  },
  {
   "cell_type": "code",
   "execution_count": 83,
   "id": "sized-marketing",
   "metadata": {},
   "outputs": [
    {
     "name": "stderr",
     "output_type": "stream",
     "text": [
      "INFO:prophet:Disabling yearly seasonality. Run prophet with yearly_seasonality=True to override this.\n",
      "INFO:prophet:Disabling daily seasonality. Run prophet with daily_seasonality=True to override this.\n"
     ]
    },
    {
     "name": "stdout",
     "output_type": "stream",
     "text": [
      "-----------------------------------------------------------------------------\n",
      "     building  meter  per_data category  square_feet  corr_meter_to_airtemp\n",
      "193      1148      0    100.00   Office       861524                  -0.02\n",
      "Data Size:  120\n",
      "Train Size:  30\n",
      "Offset:  0\n",
      "\n",
      "\n",
      "DATA\n",
      "Date Start: \n",
      "2016-01-01 00:00:00\n",
      "Date End: \n",
      "2016-04-29 00:00:00\n",
      "\n",
      "\n",
      "TRAIN\n",
      "Date Start: \n",
      "2016-01-01 00:00:00\n",
      "Date End: \n",
      "2016-03-30 00:00:00\n",
      "\n",
      "\n",
      "TEST\n",
      "Date Start: \n",
      "2016-03-31 00:00:00\n",
      "Date End: \n",
      "2016-04-29 00:00:00\n",
      "           ds    trend  yhat_lower  yhat_upper  trend_lower  trend_upper  \\\n",
      "0  2016-03-31 23613.50    19838.98    32068.03     23613.50     23613.50   \n",
      "1  2016-04-01 23650.21    17848.71    29433.29     23650.21     23650.21   \n",
      "2  2016-04-02 23686.92    13982.24    27085.56     23686.92     23686.92   \n",
      "3  2016-04-03 23723.62    13929.70    26706.76     23723.62     23723.62   \n",
      "4  2016-04-04 23760.33    18604.96    31186.21     23760.33     23760.33   \n",
      "5  2016-04-05 23797.04    19159.79    31567.35     23797.04     23797.04   \n",
      "6  2016-04-06 23833.75    20564.82    33187.39     23833.75     23833.75   \n",
      "7  2016-04-07 23870.45    19595.31    31850.83     23870.45     23870.45   \n",
      "8  2016-04-08 23907.16    17908.87    29805.41     23907.16     23907.16   \n",
      "9  2016-04-09 23943.87    14376.18    26912.95     23943.87     23943.87   \n",
      "10 2016-04-10 23980.57    14138.70    26199.10     23980.57     23980.57   \n",
      "11 2016-04-11 24017.28    18599.95    30909.41     24017.28     24017.28   \n",
      "12 2016-04-12 24053.99    19503.96    32160.33     24053.99     24053.99   \n",
      "13 2016-04-13 24090.70    20774.57    33200.94     24090.70     24090.70   \n",
      "14 2016-04-14 24127.40    20337.11    32222.36     24127.40     24127.40   \n",
      "15 2016-04-15 24164.11    18192.90    30179.96     24164.11     24164.11   \n",
      "16 2016-04-16 24200.82    14701.40    26709.38     24200.82     24200.82   \n",
      "17 2016-04-17 24237.52    13994.79    26627.32     24237.52     24237.52   \n",
      "18 2016-04-18 24274.23    18440.97    30967.51     24274.23     24274.23   \n",
      "19 2016-04-19 24310.94    19608.48    31668.13     24310.94     24310.94   \n",
      "20 2016-04-20 24347.65    20792.72    33520.93     24347.65     24347.65   \n",
      "21 2016-04-21 24384.35    19773.36    32561.92     24384.35     24384.35   \n",
      "22 2016-04-22 24421.06    18269.70    30679.91     24421.06     24421.06   \n",
      "23 2016-04-23 24457.77    14698.24    27171.56     24457.77     24457.77   \n",
      "24 2016-04-24 24494.47    14681.23    27036.18     24494.47     24494.47   \n",
      "25 2016-04-25 24531.18    19943.45    31859.91     24531.18     24531.18   \n",
      "26 2016-04-26 24567.89    19976.64    32190.24     24567.89     24567.89   \n",
      "27 2016-04-27 24604.59    20164.90    33910.65     24604.59     24604.59   \n",
      "28 2016-04-28 24641.30    20435.78    32700.39     24641.30     24641.30   \n",
      "29 2016-04-29 24678.01    18516.81    31000.15     24678.01     24678.01   \n",
      "\n",
      "    additive_terms  additive_terms_lower  additive_terms_upper   weekly  \\\n",
      "0          2041.93               2041.93               2041.93  2041.93   \n",
      "1            48.90                 48.90                 48.90    48.90   \n",
      "2         -3489.05              -3489.05              -3489.05 -3489.05   \n",
      "3         -3723.83              -3723.83              -3723.83 -3723.83   \n",
      "4           787.85                787.85                787.85   787.85   \n",
      "5          1556.22               1556.22               1556.22  1556.22   \n",
      "6          2777.98               2777.98               2777.98  2777.98   \n",
      "7          2041.93               2041.93               2041.93  2041.93   \n",
      "8            48.90                 48.90                 48.90    48.90   \n",
      "9         -3489.05              -3489.05              -3489.05 -3489.05   \n",
      "10        -3723.83              -3723.83              -3723.83 -3723.83   \n",
      "11          787.85                787.85                787.85   787.85   \n",
      "12         1556.22               1556.22               1556.22  1556.22   \n",
      "13         2777.98               2777.98               2777.98  2777.98   \n",
      "14         2041.93               2041.93               2041.93  2041.93   \n",
      "15           48.90                 48.90                 48.90    48.90   \n",
      "16        -3489.05              -3489.05              -3489.05 -3489.05   \n",
      "17        -3723.83              -3723.83              -3723.83 -3723.83   \n",
      "18          787.85                787.85                787.85   787.85   \n",
      "19         1556.22               1556.22               1556.22  1556.22   \n",
      "20         2777.98               2777.98               2777.98  2777.98   \n",
      "21         2041.93               2041.93               2041.93  2041.93   \n",
      "22           48.90                 48.90                 48.90    48.90   \n",
      "23        -3489.05              -3489.05              -3489.05 -3489.05   \n",
      "24        -3723.83              -3723.83              -3723.83 -3723.83   \n",
      "25          787.85                787.85                787.85   787.85   \n",
      "26         1556.22               1556.22               1556.22  1556.22   \n",
      "27         2777.98               2777.98               2777.98  2777.98   \n",
      "28         2041.93               2041.93               2041.93  2041.93   \n",
      "29           48.90                 48.90                 48.90    48.90   \n",
      "\n",
      "    weekly_lower  weekly_upper  multiplicative_terms  \\\n",
      "0        2041.93       2041.93                  0.00   \n",
      "1          48.90         48.90                  0.00   \n",
      "2       -3489.05      -3489.05                  0.00   \n",
      "3       -3723.83      -3723.83                  0.00   \n",
      "4         787.85        787.85                  0.00   \n",
      "5        1556.22       1556.22                  0.00   \n",
      "6        2777.98       2777.98                  0.00   \n",
      "7        2041.93       2041.93                  0.00   \n",
      "8          48.90         48.90                  0.00   \n",
      "9       -3489.05      -3489.05                  0.00   \n",
      "10      -3723.83      -3723.83                  0.00   \n",
      "11        787.85        787.85                  0.00   \n",
      "12       1556.22       1556.22                  0.00   \n",
      "13       2777.98       2777.98                  0.00   \n",
      "14       2041.93       2041.93                  0.00   \n",
      "15         48.90         48.90                  0.00   \n",
      "16      -3489.05      -3489.05                  0.00   \n",
      "17      -3723.83      -3723.83                  0.00   \n",
      "18        787.85        787.85                  0.00   \n",
      "19       1556.22       1556.22                  0.00   \n",
      "20       2777.98       2777.98                  0.00   \n",
      "21       2041.93       2041.93                  0.00   \n",
      "22         48.90         48.90                  0.00   \n",
      "23      -3489.05      -3489.05                  0.00   \n",
      "24      -3723.83      -3723.83                  0.00   \n",
      "25        787.85        787.85                  0.00   \n",
      "26       1556.22       1556.22                  0.00   \n",
      "27       2777.98       2777.98                  0.00   \n",
      "28       2041.93       2041.93                  0.00   \n",
      "29         48.90         48.90                  0.00   \n",
      "\n",
      "    multiplicative_terms_lower  multiplicative_terms_upper     yhat  \n",
      "0                         0.00                        0.00 25655.44  \n",
      "1                         0.00                        0.00 23699.11  \n",
      "2                         0.00                        0.00 20197.86  \n",
      "3                         0.00                        0.00 19999.79  \n",
      "4                         0.00                        0.00 24548.18  \n",
      "5                         0.00                        0.00 25353.26  \n",
      "6                         0.00                        0.00 26611.73  \n",
      "7                         0.00                        0.00 25912.39  \n",
      "8                         0.00                        0.00 23956.06  \n",
      "9                         0.00                        0.00 20454.81  \n",
      "10                        0.00                        0.00 20256.74  \n",
      "11                        0.00                        0.00 24805.13  \n",
      "12                        0.00                        0.00 25610.20  \n",
      "13                        0.00                        0.00 26868.68  \n",
      "14                        0.00                        0.00 26169.34  \n",
      "15                        0.00                        0.00 24213.01  \n",
      "16                        0.00                        0.00 20711.76  \n",
      "17                        0.00                        0.00 20513.69  \n",
      "18                        0.00                        0.00 25062.08  \n",
      "19                        0.00                        0.00 25867.15  \n",
      "20                        0.00                        0.00 27125.63  \n",
      "21                        0.00                        0.00 26426.29  \n",
      "22                        0.00                        0.00 24469.96  \n",
      "23                        0.00                        0.00 20968.71  \n",
      "24                        0.00                        0.00 20770.64  \n",
      "25                        0.00                        0.00 25319.03  \n",
      "26                        0.00                        0.00 26124.10  \n",
      "27                        0.00                        0.00 27382.58  \n",
      "28                        0.00                        0.00 26683.23  \n",
      "29                        0.00                        0.00 24726.91  \n"
     ]
    },
    {
     "data": {
      "application/vnd.plotly.v1+json": {
       "config": {
        "plotlyServerURL": "https://plot.ly"
       },
       "data": [
        {
         "hovertemplate": "%{x|%Y/%m/%d %a %H:%M:%S.%L} value: %{y}",
         "legendgroup": "",
         "line": {
          "dash": "solid"
         },
         "mode": "lines",
         "name": "",
         "orientation": "v",
         "showlegend": false,
         "type": "scatter",
         "x": [
          "2016-03-31T00:00:00",
          "2016-04-01T00:00:00",
          "2016-04-02T00:00:00",
          "2016-04-03T00:00:00",
          "2016-04-04T00:00:00",
          "2016-04-05T00:00:00",
          "2016-04-06T00:00:00",
          "2016-04-07T00:00:00",
          "2016-04-08T00:00:00",
          "2016-04-09T00:00:00",
          "2016-04-10T00:00:00",
          "2016-04-11T00:00:00",
          "2016-04-12T00:00:00",
          "2016-04-13T00:00:00",
          "2016-04-14T00:00:00",
          "2016-04-15T00:00:00",
          "2016-04-16T00:00:00",
          "2016-04-17T00:00:00",
          "2016-04-18T00:00:00",
          "2016-04-19T00:00:00",
          "2016-04-20T00:00:00",
          "2016-04-21T00:00:00",
          "2016-04-22T00:00:00",
          "2016-04-23T00:00:00",
          "2016-04-24T00:00:00",
          "2016-04-25T00:00:00",
          "2016-04-26T00:00:00",
          "2016-04-27T00:00:00",
          "2016-04-28T00:00:00",
          "2016-04-29T00:00:00"
         ],
         "xaxis": "x",
         "y": [
          25655.436608607873,
          23699.110534359465,
          20197.86323938025,
          19999.794739239325,
          24548.18495162497,
          25353.25508925438,
          26611.728807967607,
          25912.38614756715,
          23956.060073322216,
          20454.812778341882,
          20256.744278197482,
          24805.13449059017,
          25610.20462821773,
          26868.678346931887,
          26169.33568653325,
          24213.009612292728,
          20711.762317308214,
          20513.69381716136,
          25062.084029555375,
          25867.154167180266,
          27125.62788589143,
          26426.28522549404,
          24469.959151251453,
          20968.711856274553,
          20770.643356128145,
          25319.033568520572,
          26124.103706141734,
          27382.577424855714,
          26683.234764456727,
          24726.90869021018
         ],
         "yaxis": "y"
        },
        {
         "hovertemplate": "%{x|%Y/%m/%d %a %H:%M:%S.%L} value: %{y}",
         "legendgroup": "",
         "line": {
          "dash": "solid"
         },
         "mode": "lines",
         "name": "",
         "orientation": "v",
         "showlegend": false,
         "type": "scatter",
         "x": [
          "2016-03-31T00:00:00",
          "2016-04-01T00:00:00",
          "2016-04-02T00:00:00",
          "2016-04-03T00:00:00",
          "2016-04-04T00:00:00",
          "2016-04-05T00:00:00",
          "2016-04-06T00:00:00",
          "2016-04-07T00:00:00",
          "2016-04-08T00:00:00",
          "2016-04-09T00:00:00",
          "2016-04-10T00:00:00",
          "2016-04-11T00:00:00",
          "2016-04-12T00:00:00",
          "2016-04-13T00:00:00",
          "2016-04-14T00:00:00",
          "2016-04-15T00:00:00",
          "2016-04-16T00:00:00",
          "2016-04-17T00:00:00",
          "2016-04-18T00:00:00",
          "2016-04-19T00:00:00",
          "2016-04-20T00:00:00",
          "2016-04-21T00:00:00",
          "2016-04-22T00:00:00",
          "2016-04-23T00:00:00",
          "2016-04-24T00:00:00",
          "2016-04-25T00:00:00",
          "2016-04-26T00:00:00",
          "2016-04-27T00:00:00",
          "2016-04-28T00:00:00",
          "2016-04-29T00:00:00"
         ],
         "xaxis": "x",
         "y": [
          24279.977000000006,
          23935.140999999996,
          19600.496,
          19399.485,
          24457.549000000003,
          24722.566,
          24513.103,
          24438.124000000003,
          24034.873000000003,
          19563.708000000006,
          19406.054,
          24475.582000000002,
          24690.155000000002,
          24585.560999999998,
          24630.079,
          24214.952999999998,
          19914.280000000002,
          19680.969,
          24627.16,
          24359.117000000006,
          24306.894000000004,
          25350.977000000003,
          23736.464,
          19337.517999999993,
          19367.621000000003,
          24548.593,
          24371.632999999998,
          24545.583,
          24423.597,
          23857.781000000006
         ],
         "yaxis": "y"
        }
       ],
       "layout": {
        "autosize": true,
        "showlegend": true,
        "template": {
         "data": {
          "bar": [
           {
            "error_x": {
             "color": "#2a3f5f"
            },
            "error_y": {
             "color": "#2a3f5f"
            },
            "marker": {
             "line": {
              "color": "#E5ECF6",
              "width": 0.5
             }
            },
            "type": "bar"
           }
          ],
          "barpolar": [
           {
            "marker": {
             "line": {
              "color": "#E5ECF6",
              "width": 0.5
             }
            },
            "type": "barpolar"
           }
          ],
          "carpet": [
           {
            "aaxis": {
             "endlinecolor": "#2a3f5f",
             "gridcolor": "white",
             "linecolor": "white",
             "minorgridcolor": "white",
             "startlinecolor": "#2a3f5f"
            },
            "baxis": {
             "endlinecolor": "#2a3f5f",
             "gridcolor": "white",
             "linecolor": "white",
             "minorgridcolor": "white",
             "startlinecolor": "#2a3f5f"
            },
            "type": "carpet"
           }
          ],
          "choropleth": [
           {
            "colorbar": {
             "outlinewidth": 0,
             "ticks": ""
            },
            "type": "choropleth"
           }
          ],
          "contour": [
           {
            "colorbar": {
             "outlinewidth": 0,
             "ticks": ""
            },
            "colorscale": [
             [
              0,
              "#0d0887"
             ],
             [
              0.1111111111111111,
              "#46039f"
             ],
             [
              0.2222222222222222,
              "#7201a8"
             ],
             [
              0.3333333333333333,
              "#9c179e"
             ],
             [
              0.4444444444444444,
              "#bd3786"
             ],
             [
              0.5555555555555556,
              "#d8576b"
             ],
             [
              0.6666666666666666,
              "#ed7953"
             ],
             [
              0.7777777777777778,
              "#fb9f3a"
             ],
             [
              0.8888888888888888,
              "#fdca26"
             ],
             [
              1,
              "#f0f921"
             ]
            ],
            "type": "contour"
           }
          ],
          "contourcarpet": [
           {
            "colorbar": {
             "outlinewidth": 0,
             "ticks": ""
            },
            "type": "contourcarpet"
           }
          ],
          "heatmap": [
           {
            "colorbar": {
             "outlinewidth": 0,
             "ticks": ""
            },
            "colorscale": [
             [
              0,
              "#0d0887"
             ],
             [
              0.1111111111111111,
              "#46039f"
             ],
             [
              0.2222222222222222,
              "#7201a8"
             ],
             [
              0.3333333333333333,
              "#9c179e"
             ],
             [
              0.4444444444444444,
              "#bd3786"
             ],
             [
              0.5555555555555556,
              "#d8576b"
             ],
             [
              0.6666666666666666,
              "#ed7953"
             ],
             [
              0.7777777777777778,
              "#fb9f3a"
             ],
             [
              0.8888888888888888,
              "#fdca26"
             ],
             [
              1,
              "#f0f921"
             ]
            ],
            "type": "heatmap"
           }
          ],
          "heatmapgl": [
           {
            "colorbar": {
             "outlinewidth": 0,
             "ticks": ""
            },
            "colorscale": [
             [
              0,
              "#0d0887"
             ],
             [
              0.1111111111111111,
              "#46039f"
             ],
             [
              0.2222222222222222,
              "#7201a8"
             ],
             [
              0.3333333333333333,
              "#9c179e"
             ],
             [
              0.4444444444444444,
              "#bd3786"
             ],
             [
              0.5555555555555556,
              "#d8576b"
             ],
             [
              0.6666666666666666,
              "#ed7953"
             ],
             [
              0.7777777777777778,
              "#fb9f3a"
             ],
             [
              0.8888888888888888,
              "#fdca26"
             ],
             [
              1,
              "#f0f921"
             ]
            ],
            "type": "heatmapgl"
           }
          ],
          "histogram": [
           {
            "marker": {
             "colorbar": {
              "outlinewidth": 0,
              "ticks": ""
             }
            },
            "type": "histogram"
           }
          ],
          "histogram2d": [
           {
            "colorbar": {
             "outlinewidth": 0,
             "ticks": ""
            },
            "colorscale": [
             [
              0,
              "#0d0887"
             ],
             [
              0.1111111111111111,
              "#46039f"
             ],
             [
              0.2222222222222222,
              "#7201a8"
             ],
             [
              0.3333333333333333,
              "#9c179e"
             ],
             [
              0.4444444444444444,
              "#bd3786"
             ],
             [
              0.5555555555555556,
              "#d8576b"
             ],
             [
              0.6666666666666666,
              "#ed7953"
             ],
             [
              0.7777777777777778,
              "#fb9f3a"
             ],
             [
              0.8888888888888888,
              "#fdca26"
             ],
             [
              1,
              "#f0f921"
             ]
            ],
            "type": "histogram2d"
           }
          ],
          "histogram2dcontour": [
           {
            "colorbar": {
             "outlinewidth": 0,
             "ticks": ""
            },
            "colorscale": [
             [
              0,
              "#0d0887"
             ],
             [
              0.1111111111111111,
              "#46039f"
             ],
             [
              0.2222222222222222,
              "#7201a8"
             ],
             [
              0.3333333333333333,
              "#9c179e"
             ],
             [
              0.4444444444444444,
              "#bd3786"
             ],
             [
              0.5555555555555556,
              "#d8576b"
             ],
             [
              0.6666666666666666,
              "#ed7953"
             ],
             [
              0.7777777777777778,
              "#fb9f3a"
             ],
             [
              0.8888888888888888,
              "#fdca26"
             ],
             [
              1,
              "#f0f921"
             ]
            ],
            "type": "histogram2dcontour"
           }
          ],
          "mesh3d": [
           {
            "colorbar": {
             "outlinewidth": 0,
             "ticks": ""
            },
            "type": "mesh3d"
           }
          ],
          "parcoords": [
           {
            "line": {
             "colorbar": {
              "outlinewidth": 0,
              "ticks": ""
             }
            },
            "type": "parcoords"
           }
          ],
          "pie": [
           {
            "automargin": true,
            "type": "pie"
           }
          ],
          "scatter": [
           {
            "marker": {
             "colorbar": {
              "outlinewidth": 0,
              "ticks": ""
             }
            },
            "type": "scatter"
           }
          ],
          "scatter3d": [
           {
            "line": {
             "colorbar": {
              "outlinewidth": 0,
              "ticks": ""
             }
            },
            "marker": {
             "colorbar": {
              "outlinewidth": 0,
              "ticks": ""
             }
            },
            "type": "scatter3d"
           }
          ],
          "scattercarpet": [
           {
            "marker": {
             "colorbar": {
              "outlinewidth": 0,
              "ticks": ""
             }
            },
            "type": "scattercarpet"
           }
          ],
          "scattergeo": [
           {
            "marker": {
             "colorbar": {
              "outlinewidth": 0,
              "ticks": ""
             }
            },
            "type": "scattergeo"
           }
          ],
          "scattergl": [
           {
            "marker": {
             "colorbar": {
              "outlinewidth": 0,
              "ticks": ""
             }
            },
            "type": "scattergl"
           }
          ],
          "scattermapbox": [
           {
            "marker": {
             "colorbar": {
              "outlinewidth": 0,
              "ticks": ""
             }
            },
            "type": "scattermapbox"
           }
          ],
          "scatterpolar": [
           {
            "marker": {
             "colorbar": {
              "outlinewidth": 0,
              "ticks": ""
             }
            },
            "type": "scatterpolar"
           }
          ],
          "scatterpolargl": [
           {
            "marker": {
             "colorbar": {
              "outlinewidth": 0,
              "ticks": ""
             }
            },
            "type": "scatterpolargl"
           }
          ],
          "scatterternary": [
           {
            "marker": {
             "colorbar": {
              "outlinewidth": 0,
              "ticks": ""
             }
            },
            "type": "scatterternary"
           }
          ],
          "surface": [
           {
            "colorbar": {
             "outlinewidth": 0,
             "ticks": ""
            },
            "colorscale": [
             [
              0,
              "#0d0887"
             ],
             [
              0.1111111111111111,
              "#46039f"
             ],
             [
              0.2222222222222222,
              "#7201a8"
             ],
             [
              0.3333333333333333,
              "#9c179e"
             ],
             [
              0.4444444444444444,
              "#bd3786"
             ],
             [
              0.5555555555555556,
              "#d8576b"
             ],
             [
              0.6666666666666666,
              "#ed7953"
             ],
             [
              0.7777777777777778,
              "#fb9f3a"
             ],
             [
              0.8888888888888888,
              "#fdca26"
             ],
             [
              1,
              "#f0f921"
             ]
            ],
            "type": "surface"
           }
          ],
          "table": [
           {
            "cells": {
             "fill": {
              "color": "#EBF0F8"
             },
             "line": {
              "color": "white"
             }
            },
            "header": {
             "fill": {
              "color": "#C8D4E3"
             },
             "line": {
              "color": "white"
             }
            },
            "type": "table"
           }
          ]
         },
         "layout": {
          "annotationdefaults": {
           "arrowcolor": "#2a3f5f",
           "arrowhead": 0,
           "arrowwidth": 1
          },
          "autotypenumbers": "strict",
          "coloraxis": {
           "colorbar": {
            "outlinewidth": 0,
            "ticks": ""
           }
          },
          "colorscale": {
           "diverging": [
            [
             0,
             "#8e0152"
            ],
            [
             0.1,
             "#c51b7d"
            ],
            [
             0.2,
             "#de77ae"
            ],
            [
             0.3,
             "#f1b6da"
            ],
            [
             0.4,
             "#fde0ef"
            ],
            [
             0.5,
             "#f7f7f7"
            ],
            [
             0.6,
             "#e6f5d0"
            ],
            [
             0.7,
             "#b8e186"
            ],
            [
             0.8,
             "#7fbc41"
            ],
            [
             0.9,
             "#4d9221"
            ],
            [
             1,
             "#276419"
            ]
           ],
           "sequential": [
            [
             0,
             "#0d0887"
            ],
            [
             0.1111111111111111,
             "#46039f"
            ],
            [
             0.2222222222222222,
             "#7201a8"
            ],
            [
             0.3333333333333333,
             "#9c179e"
            ],
            [
             0.4444444444444444,
             "#bd3786"
            ],
            [
             0.5555555555555556,
             "#d8576b"
            ],
            [
             0.6666666666666666,
             "#ed7953"
            ],
            [
             0.7777777777777778,
             "#fb9f3a"
            ],
            [
             0.8888888888888888,
             "#fdca26"
            ],
            [
             1,
             "#f0f921"
            ]
           ],
           "sequentialminus": [
            [
             0,
             "#0d0887"
            ],
            [
             0.1111111111111111,
             "#46039f"
            ],
            [
             0.2222222222222222,
             "#7201a8"
            ],
            [
             0.3333333333333333,
             "#9c179e"
            ],
            [
             0.4444444444444444,
             "#bd3786"
            ],
            [
             0.5555555555555556,
             "#d8576b"
            ],
            [
             0.6666666666666666,
             "#ed7953"
            ],
            [
             0.7777777777777778,
             "#fb9f3a"
            ],
            [
             0.8888888888888888,
             "#fdca26"
            ],
            [
             1,
             "#f0f921"
            ]
           ]
          },
          "colorway": [
           "#636efa",
           "#EF553B",
           "#00cc96",
           "#ab63fa",
           "#FFA15A",
           "#19d3f3",
           "#FF6692",
           "#B6E880",
           "#FF97FF",
           "#FECB52"
          ],
          "font": {
           "color": "#2a3f5f"
          },
          "geo": {
           "bgcolor": "white",
           "lakecolor": "white",
           "landcolor": "#E5ECF6",
           "showlakes": true,
           "showland": true,
           "subunitcolor": "white"
          },
          "hoverlabel": {
           "align": "left"
          },
          "hovermode": "closest",
          "mapbox": {
           "style": "light"
          },
          "paper_bgcolor": "white",
          "plot_bgcolor": "#E5ECF6",
          "polar": {
           "angularaxis": {
            "gridcolor": "white",
            "linecolor": "white",
            "ticks": ""
           },
           "bgcolor": "#E5ECF6",
           "radialaxis": {
            "gridcolor": "white",
            "linecolor": "white",
            "ticks": ""
           }
          },
          "scene": {
           "xaxis": {
            "backgroundcolor": "#E5ECF6",
            "gridcolor": "white",
            "gridwidth": 2,
            "linecolor": "white",
            "showbackground": true,
            "ticks": "",
            "zerolinecolor": "white"
           },
           "yaxis": {
            "backgroundcolor": "#E5ECF6",
            "gridcolor": "white",
            "gridwidth": 2,
            "linecolor": "white",
            "showbackground": true,
            "ticks": "",
            "zerolinecolor": "white"
           },
           "zaxis": {
            "backgroundcolor": "#E5ECF6",
            "gridcolor": "white",
            "gridwidth": 2,
            "linecolor": "white",
            "showbackground": true,
            "ticks": "",
            "zerolinecolor": "white"
           }
          },
          "shapedefaults": {
           "line": {
            "color": "#2a3f5f"
           }
          },
          "ternary": {
           "aaxis": {
            "gridcolor": "white",
            "linecolor": "white",
            "ticks": ""
           },
           "baxis": {
            "gridcolor": "white",
            "linecolor": "white",
            "ticks": ""
           },
           "bgcolor": "#E5ECF6",
           "caxis": {
            "gridcolor": "white",
            "linecolor": "white",
            "ticks": ""
           }
          },
          "title": {
           "x": 0.05
          },
          "xaxis": {
           "automargin": true,
           "gridcolor": "white",
           "linecolor": "white",
           "ticks": "",
           "title": {
            "standoff": 15
           },
           "zerolinecolor": "white",
           "zerolinewidth": 2
          },
          "yaxis": {
           "automargin": true,
           "gridcolor": "white",
           "linecolor": "white",
           "ticks": "",
           "title": {
            "standoff": 15
           },
           "zerolinecolor": "white",
           "zerolinewidth": 2
          }
         }
        },
        "title": {
         "text": "Bldg: 1148 Meter: 0"
        },
        "xaxis": {
         "anchor": "y",
         "autorange": false,
         "domain": [
          0,
          0.94
         ],
         "dtick": "M1",
         "range": [
          "2016-04-15 03:04:43.8548",
          "2016-04-29"
         ],
         "rangeslider": {
          "autorange": true,
          "range": [
           "2016-03-31",
           "2016-04-29"
          ],
          "visible": true,
          "yaxis": {
           "_template": null,
           "rangemode": "match"
          }
         },
         "tickformat": "%b\n%Y",
         "title": {
          "text": "Time"
         },
         "type": "date"
        },
        "yaxis": {
         "anchor": "x",
         "autorange": true,
         "color": "blue",
         "domain": [
          0,
          1
         ],
         "range": [
          18890.570254174676,
          27829.52517068103
         ],
         "title": {
          "text": "Meter Reading"
         },
         "type": "linear"
        },
        "yaxis2": {
         "anchor": "x",
         "overlaying": "y",
         "side": "right"
        }
       }
      },
      "image/png": "[encoded data removed]",
      "text/html": [
       "<div>                            <div id=\"5c6b54ae-b785-43b1-a5d0-7c2a77f9696d\" class=\"plotly-graph-div\" style=\"height:525px; width:100%;\"></div>            <script type=\"text/javascript\">                require([\"plotly\"], function(Plotly) {                    window.PLOTLYENV=window.PLOTLYENV || {};                                    if (document.getElementById(\"5c6b54ae-b785-43b1-a5d0-7c2a77f9696d\")) {                    Plotly.newPlot(                        \"5c6b54ae-b785-43b1-a5d0-7c2a77f9696d\",                        [{\"hovertemplate\": \"%{x|%Y/%m/%d %a %H:%M:%S.%L} value: %{y}\", \"legendgroup\": \"\", \"line\": {\"dash\": \"solid\"}, \"mode\": \"lines\", \"name\": \"\", \"orientation\": \"v\", \"showlegend\": false, \"type\": \"scatter\", \"x\": [\"2016-03-31T00:00:00\", \"2016-04-01T00:00:00\", \"2016-04-02T00:00:00\", \"2016-04-03T00:00:00\", \"2016-04-04T00:00:00\", \"2016-04-05T00:00:00\", \"2016-04-06T00:00:00\", \"2016-04-07T00:00:00\", \"2016-04-08T00:00:00\", \"2016-04-09T00:00:00\", \"2016-04-10T00:00:00\", \"2016-04-11T00:00:00\", \"2016-04-12T00:00:00\", \"2016-04-13T00:00:00\", \"2016-04-14T00:00:00\", \"2016-04-15T00:00:00\", \"2016-04-16T00:00:00\", \"2016-04-17T00:00:00\", \"2016-04-18T00:00:00\", \"2016-04-19T00:00:00\", \"2016-04-20T00:00:00\", \"2016-04-21T00:00:00\", \"2016-04-22T00:00:00\", \"2016-04-23T00:00:00\", \"2016-04-24T00:00:00\", \"2016-04-25T00:00:00\", \"2016-04-26T00:00:00\", \"2016-04-27T00:00:00\", \"2016-04-28T00:00:00\", \"2016-04-29T00:00:00\"], \"xaxis\": \"x\", \"y\": [25655.436608607873, 23699.110534359465, 20197.86323938025, 19999.794739239325, 24548.18495162497, 25353.25508925438, 26611.728807967607, 25912.38614756715, 23956.060073322216, 20454.812778341882, 20256.744278197482, 24805.13449059017, 25610.20462821773, 26868.678346931887, 26169.33568653325, 24213.009612292728, 20711.762317308214, 20513.69381716136, 25062.084029555375, 25867.154167180266, 27125.62788589143, 26426.28522549404, 24469.959151251453, 20968.711856274553, 20770.643356128145, 25319.033568520572, 26124.103706141734, 27382.577424855714, 26683.234764456727, 24726.90869021018], \"yaxis\": \"y\"}, {\"hovertemplate\": \"%{x|%Y/%m/%d %a %H:%M:%S.%L} value: %{y}\", \"legendgroup\": \"\", \"line\": {\"dash\": \"solid\"}, \"mode\": \"lines\", \"name\": \"\", \"orientation\": \"v\", \"showlegend\": false, \"type\": \"scatter\", \"x\": [\"2016-03-31T00:00:00\", \"2016-04-01T00:00:00\", \"2016-04-02T00:00:00\", \"2016-04-03T00:00:00\", \"2016-04-04T00:00:00\", \"2016-04-05T00:00:00\", \"2016-04-06T00:00:00\", \"2016-04-07T00:00:00\", \"2016-04-08T00:00:00\", \"2016-04-09T00:00:00\", \"2016-04-10T00:00:00\", \"2016-04-11T00:00:00\", \"2016-04-12T00:00:00\", \"2016-04-13T00:00:00\", \"2016-04-14T00:00:00\", \"2016-04-15T00:00:00\", \"2016-04-16T00:00:00\", \"2016-04-17T00:00:00\", \"2016-04-18T00:00:00\", \"2016-04-19T00:00:00\", \"2016-04-20T00:00:00\", \"2016-04-21T00:00:00\", \"2016-04-22T00:00:00\", \"2016-04-23T00:00:00\", \"2016-04-24T00:00:00\", \"2016-04-25T00:00:00\", \"2016-04-26T00:00:00\", \"2016-04-27T00:00:00\", \"2016-04-28T00:00:00\", \"2016-04-29T00:00:00\"], \"xaxis\": \"x\", \"y\": [24279.977000000006, 23935.140999999996, 19600.496, 19399.485, 24457.549000000003, 24722.566, 24513.103, 24438.124000000003, 24034.873000000003, 19563.708000000006, 19406.054, 24475.582000000002, 24690.155000000002, 24585.560999999998, 24630.079, 24214.952999999998, 19914.280000000002, 19680.969, 24627.16, 24359.117000000006, 24306.894000000004, 25350.977000000003, 23736.464, 19337.517999999993, 19367.621000000003, 24548.593, 24371.632999999998, 24545.583, 24423.597, 23857.781000000006], \"yaxis\": \"y\"}],                        {\"showlegend\": true, \"template\": {\"data\": {\"bar\": [{\"error_x\": {\"color\": \"#2a3f5f\"}, \"error_y\": {\"color\": \"#2a3f5f\"}, \"marker\": {\"line\": {\"color\": \"#E5ECF6\", \"width\": 0.5}}, \"type\": \"bar\"}], \"barpolar\": [{\"marker\": {\"line\": {\"color\": \"#E5ECF6\", \"width\": 0.5}}, \"type\": \"barpolar\"}], \"carpet\": [{\"aaxis\": {\"endlinecolor\": \"#2a3f5f\", \"gridcolor\": \"white\", \"linecolor\": \"white\", \"minorgridcolor\": \"white\", \"startlinecolor\": \"#2a3f5f\"}, \"baxis\": {\"endlinecolor\": \"#2a3f5f\", \"gridcolor\": \"white\", \"linecolor\": \"white\", \"minorgridcolor\": \"white\", \"startlinecolor\": \"#2a3f5f\"}, \"type\": \"carpet\"}], \"choropleth\": [{\"colorbar\": {\"outlinewidth\": 0, \"ticks\": \"\"}, \"type\": \"choropleth\"}], \"contour\": [{\"colorbar\": {\"outlinewidth\": 0, \"ticks\": \"\"}, \"colorscale\": [[0.0, \"#0d0887\"], [0.1111111111111111, \"#46039f\"], [0.2222222222222222, \"#7201a8\"], [0.3333333333333333, \"#9c179e\"], [0.4444444444444444, \"#bd3786\"], [0.5555555555555556, \"#d8576b\"], [0.6666666666666666, \"#ed7953\"], [0.7777777777777778, \"#fb9f3a\"], [0.8888888888888888, \"#fdca26\"], [1.0, \"#f0f921\"]], \"type\": \"contour\"}], \"contourcarpet\": [{\"colorbar\": {\"outlinewidth\": 0, \"ticks\": \"\"}, \"type\": \"contourcarpet\"}], \"heatmap\": [{\"colorbar\": {\"outlinewidth\": 0, \"ticks\": \"\"}, \"colorscale\": [[0.0, \"#0d0887\"], [0.1111111111111111, \"#46039f\"], [0.2222222222222222, \"#7201a8\"], [0.3333333333333333, \"#9c179e\"], [0.4444444444444444, \"#bd3786\"], [0.5555555555555556, \"#d8576b\"], [0.6666666666666666, \"#ed7953\"], [0.7777777777777778, \"#fb9f3a\"], [0.8888888888888888, \"#fdca26\"], [1.0, \"#f0f921\"]], \"type\": \"heatmap\"}], \"heatmapgl\": [{\"colorbar\": {\"outlinewidth\": 0, \"ticks\": \"\"}, \"colorscale\": [[0.0, \"#0d0887\"], [0.1111111111111111, \"#46039f\"], [0.2222222222222222, \"#7201a8\"], [0.3333333333333333, \"#9c179e\"], [0.4444444444444444, \"#bd3786\"], [0.5555555555555556, \"#d8576b\"], [0.6666666666666666, \"#ed7953\"], [0.7777777777777778, \"#fb9f3a\"], [0.8888888888888888, \"#fdca26\"], [1.0, \"#f0f921\"]], \"type\": \"heatmapgl\"}], \"histogram\": [{\"marker\": {\"colorbar\": {\"outlinewidth\": 0, \"ticks\": \"\"}}, \"type\": \"histogram\"}], \"histogram2d\": [{\"colorbar\": {\"outlinewidth\": 0, \"ticks\": \"\"}, \"colorscale\": [[0.0, \"#0d0887\"], [0.1111111111111111, \"#46039f\"], [0.2222222222222222, \"#7201a8\"], [0.3333333333333333, \"#9c179e\"], [0.4444444444444444, \"#bd3786\"], [0.5555555555555556, \"#d8576b\"], [0.6666666666666666, \"#ed7953\"], [0.7777777777777778, \"#fb9f3a\"], [0.8888888888888888, \"#fdca26\"], [1.0, \"#f0f921\"]], \"type\": \"histogram2d\"}], \"histogram2dcontour\": [{\"colorbar\": {\"outlinewidth\": 0, \"ticks\": \"\"}, \"colorscale\": [[0.0, \"#0d0887\"], [0.1111111111111111, \"#46039f\"], [0.2222222222222222, \"#7201a8\"], [0.3333333333333333, \"#9c179e\"], [0.4444444444444444, \"#bd3786\"], [0.5555555555555556, \"#d8576b\"], [0.6666666666666666, \"#ed7953\"], [0.7777777777777778, \"#fb9f3a\"], [0.8888888888888888, \"#fdca26\"], [1.0, \"#f0f921\"]], \"type\": \"histogram2dcontour\"}], \"mesh3d\": [{\"colorbar\": {\"outlinewidth\": 0, \"ticks\": \"\"}, \"type\": \"mesh3d\"}], \"parcoords\": [{\"line\": {\"colorbar\": {\"outlinewidth\": 0, \"ticks\": \"\"}}, \"type\": \"parcoords\"}], \"pie\": [{\"automargin\": true, \"type\": \"pie\"}], \"scatter\": [{\"marker\": {\"colorbar\": {\"outlinewidth\": 0, \"ticks\": \"\"}}, \"type\": \"scatter\"}], \"scatter3d\": [{\"line\": {\"colorbar\": {\"outlinewidth\": 0, \"ticks\": \"\"}}, \"marker\": {\"colorbar\": {\"outlinewidth\": 0, \"ticks\": \"\"}}, \"type\": \"scatter3d\"}], \"scattercarpet\": [{\"marker\": {\"colorbar\": {\"outlinewidth\": 0, \"ticks\": \"\"}}, \"type\": \"scattercarpet\"}], \"scattergeo\": [{\"marker\": {\"colorbar\": {\"outlinewidth\": 0, \"ticks\": \"\"}}, \"type\": \"scattergeo\"}], \"scattergl\": [{\"marker\": {\"colorbar\": {\"outlinewidth\": 0, \"ticks\": \"\"}}, \"type\": \"scattergl\"}], \"scattermapbox\": [{\"marker\": {\"colorbar\": {\"outlinewidth\": 0, \"ticks\": \"\"}}, \"type\": \"scattermapbox\"}], \"scatterpolar\": [{\"marker\": {\"colorbar\": {\"outlinewidth\": 0, \"ticks\": \"\"}}, \"type\": \"scatterpolar\"}], \"scatterpolargl\": [{\"marker\": {\"colorbar\": {\"outlinewidth\": 0, \"ticks\": \"\"}}, \"type\": \"scatterpolargl\"}], \"scatterternary\": [{\"marker\": {\"colorbar\": {\"outlinewidth\": 0, \"ticks\": \"\"}}, \"type\": \"scatterternary\"}], \"surface\": [{\"colorbar\": {\"outlinewidth\": 0, \"ticks\": \"\"}, \"colorscale\": [[0.0, \"#0d0887\"], [0.1111111111111111, \"#46039f\"], [0.2222222222222222, \"#7201a8\"], [0.3333333333333333, \"#9c179e\"], [0.4444444444444444, \"#bd3786\"], [0.5555555555555556, \"#d8576b\"], [0.6666666666666666, \"#ed7953\"], [0.7777777777777778, \"#fb9f3a\"], [0.8888888888888888, \"#fdca26\"], [1.0, \"#f0f921\"]], \"type\": \"surface\"}], \"table\": [{\"cells\": {\"fill\": {\"color\": \"#EBF0F8\"}, \"line\": {\"color\": \"white\"}}, \"header\": {\"fill\": {\"color\": \"#C8D4E3\"}, \"line\": {\"color\": \"white\"}}, \"type\": \"table\"}]}, \"layout\": {\"annotationdefaults\": {\"arrowcolor\": \"#2a3f5f\", \"arrowhead\": 0, \"arrowwidth\": 1}, \"autotypenumbers\": \"strict\", \"coloraxis\": {\"colorbar\": {\"outlinewidth\": 0, \"ticks\": \"\"}}, \"colorscale\": {\"diverging\": [[0, \"#8e0152\"], [0.1, \"#c51b7d\"], [0.2, \"#de77ae\"], [0.3, \"#f1b6da\"], [0.4, \"#fde0ef\"], [0.5, \"#f7f7f7\"], [0.6, \"#e6f5d0\"], [0.7, \"#b8e186\"], [0.8, \"#7fbc41\"], [0.9, \"#4d9221\"], [1, \"#276419\"]], \"sequential\": [[0.0, \"#0d0887\"], [0.1111111111111111, \"#46039f\"], [0.2222222222222222, \"#7201a8\"], [0.3333333333333333, \"#9c179e\"], [0.4444444444444444, \"#bd3786\"], [0.5555555555555556, \"#d8576b\"], [0.6666666666666666, \"#ed7953\"], [0.7777777777777778, \"#fb9f3a\"], [0.8888888888888888, \"#fdca26\"], [1.0, \"#f0f921\"]], \"sequentialminus\": [[0.0, \"#0d0887\"], [0.1111111111111111, \"#46039f\"], [0.2222222222222222, \"#7201a8\"], [0.3333333333333333, \"#9c179e\"], [0.4444444444444444, \"#bd3786\"], [0.5555555555555556, \"#d8576b\"], [0.6666666666666666, \"#ed7953\"], [0.7777777777777778, \"#fb9f3a\"], [0.8888888888888888, \"#fdca26\"], [1.0, \"#f0f921\"]]}, \"colorway\": [\"#636efa\", \"#EF553B\", \"#00cc96\", \"#ab63fa\", \"#FFA15A\", \"#19d3f3\", \"#FF6692\", \"#B6E880\", \"#FF97FF\", \"#FECB52\"], \"font\": {\"color\": \"#2a3f5f\"}, \"geo\": {\"bgcolor\": \"white\", \"lakecolor\": \"white\", \"landcolor\": \"#E5ECF6\", \"showlakes\": true, \"showland\": true, \"subunitcolor\": \"white\"}, \"hoverlabel\": {\"align\": \"left\"}, \"hovermode\": \"closest\", \"mapbox\": {\"style\": \"light\"}, \"paper_bgcolor\": \"white\", \"plot_bgcolor\": \"#E5ECF6\", \"polar\": {\"angularaxis\": {\"gridcolor\": \"white\", \"linecolor\": \"white\", \"ticks\": \"\"}, \"bgcolor\": \"#E5ECF6\", \"radialaxis\": {\"gridcolor\": \"white\", \"linecolor\": \"white\", \"ticks\": \"\"}}, \"scene\": {\"xaxis\": {\"backgroundcolor\": \"#E5ECF6\", \"gridcolor\": \"white\", \"gridwidth\": 2, \"linecolor\": \"white\", \"showbackground\": true, \"ticks\": \"\", \"zerolinecolor\": \"white\"}, \"yaxis\": {\"backgroundcolor\": \"#E5ECF6\", \"gridcolor\": \"white\", \"gridwidth\": 2, \"linecolor\": \"white\", \"showbackground\": true, \"ticks\": \"\", \"zerolinecolor\": \"white\"}, \"zaxis\": {\"backgroundcolor\": \"#E5ECF6\", \"gridcolor\": \"white\", \"gridwidth\": 2, \"linecolor\": \"white\", \"showbackground\": true, \"ticks\": \"\", \"zerolinecolor\": \"white\"}}, \"shapedefaults\": {\"line\": {\"color\": \"#2a3f5f\"}}, \"ternary\": {\"aaxis\": {\"gridcolor\": \"white\", \"linecolor\": \"white\", \"ticks\": \"\"}, \"baxis\": {\"gridcolor\": \"white\", \"linecolor\": \"white\", \"ticks\": \"\"}, \"bgcolor\": \"#E5ECF6\", \"caxis\": {\"gridcolor\": \"white\", \"linecolor\": \"white\", \"ticks\": \"\"}}, \"title\": {\"x\": 0.05}, \"xaxis\": {\"automargin\": true, \"gridcolor\": \"white\", \"linecolor\": \"white\", \"ticks\": \"\", \"title\": {\"standoff\": 15}, \"zerolinecolor\": \"white\", \"zerolinewidth\": 2}, \"yaxis\": {\"automargin\": true, \"gridcolor\": \"white\", \"linecolor\": \"white\", \"ticks\": \"\", \"title\": {\"standoff\": 15}, \"zerolinecolor\": \"white\", \"zerolinewidth\": 2}}}, \"title\": {\"text\": \"Bldg: 1148 Meter: 0\"}, \"xaxis\": {\"anchor\": \"y\", \"domain\": [0.0, 0.94], \"dtick\": \"M1\", \"rangeslider\": {\"visible\": true}, \"tickformat\": \"%b\\n%Y\", \"title\": {\"text\": \"Time\"}}, \"yaxis\": {\"anchor\": \"x\", \"color\": \"blue\", \"domain\": [0.0, 1.0], \"title\": {\"text\": \"Meter Reading\"}}, \"yaxis2\": {\"anchor\": \"x\", \"overlaying\": \"y\", \"side\": \"right\"}},                        {\"responsive\": true}                    ).then(function(){\n",
       "                            \n",
       "var gd = document.getElementById('5c6b54ae-b785-43b1-a5d0-7c2a77f9696d');\n",
       "var x = new MutationObserver(function (mutations, observer) {{\n",
       "        var display = window.getComputedStyle(gd).display;\n",
       "        if (!display || display === 'none') {{\n",
       "            console.log([gd, 'removed!']);\n",
       "            Plotly.purge(gd);\n",
       "            observer.disconnect();\n",
       "        }}\n",
       "}});\n",
       "\n",
       "// Listen for the removal of the full notebook cells\n",
       "var notebookContainer = gd.closest('#notebook-container');\n",
       "if (notebookContainer) {{\n",
       "    x.observe(notebookContainer, {childList: true});\n",
       "}}\n",
       "\n",
       "// Listen for the clearing of the current output cell\n",
       "var outputEl = gd.closest('.output');\n",
       "if (outputEl) {{\n",
       "    x.observe(outputEl, {childList: true});\n",
       "}}\n",
       "\n",
       "                        })                };                });            </script>        </div>"
      ]
     },
     "metadata": {},
     "output_type": "display_data"
    },
    {
     "name": "stderr",
     "output_type": "stream",
     "text": [
      "INFO:prophet:Disabling yearly seasonality. Run prophet with yearly_seasonality=True to override this.\n",
      "INFO:prophet:Disabling daily seasonality. Run prophet with daily_seasonality=True to override this.\n"
     ]
    },
    {
     "name": "stdout",
     "output_type": "stream",
     "text": [
      "MSE: 1358.2544995061937\n",
      "Data Size:  120\n",
      "Train Size:  30\n",
      "Offset:  30\n",
      "\n",
      "\n",
      "DATA\n",
      "Date Start: \n",
      "2016-01-31 00:00:00\n",
      "Date End: \n",
      "2016-05-29 00:00:00\n",
      "\n",
      "\n",
      "TRAIN\n",
      "Date Start: \n",
      "2016-01-31 00:00:00\n",
      "Date End: \n",
      "2016-04-29 00:00:00\n",
      "\n",
      "\n",
      "TEST\n",
      "Date Start: \n",
      "2016-04-30 00:00:00\n",
      "Date End: \n",
      "2016-05-29 00:00:00\n",
      "           ds    trend  yhat_lower  yhat_upper  trend_lower  trend_upper  \\\n",
      "0  2016-04-30 23047.32    19403.44    20128.76     23047.03     23047.32   \n",
      "1  2016-05-01 23046.60    19098.05    19870.49     23043.33     23049.35   \n",
      "2  2016-05-02 23045.88    24085.92    24838.58     23037.02     23053.94   \n",
      "3  2016-05-03 23045.15    24293.33    25081.29     23028.89     23061.12   \n",
      "4  2016-05-04 23044.43    24151.43    24877.69     23020.69     23069.36   \n",
      "5  2016-05-05 23043.71    24153.11    24900.00     23010.05     23078.25   \n",
      "6  2016-05-06 23042.99    23490.42    24263.06     23000.48     23088.05   \n",
      "7  2016-05-07 23042.27    19353.58    20132.25     22988.88     23096.41   \n",
      "8  2016-05-08 23041.55    19076.30    19844.16     22977.36     23106.23   \n",
      "9  2016-05-09 23040.82    24039.39    24835.76     22963.13     23121.83   \n",
      "10 2016-05-10 23040.10    24277.00    25070.35     22949.63     23134.55   \n",
      "11 2016-05-11 23039.38    24142.70    24924.81     22937.09     23147.77   \n",
      "12 2016-05-12 23038.66    24154.20    24894.88     22921.57     23159.61   \n",
      "13 2016-05-13 23037.94    23479.45    24290.05     22903.71     23173.15   \n",
      "14 2016-05-14 23037.22    19334.59    20152.41     22887.44     23188.88   \n",
      "15 2016-05-15 23036.49    19060.23    19900.31     22870.31     23208.46   \n",
      "16 2016-05-16 23035.77    24018.73    24889.58     22850.50     23225.73   \n",
      "17 2016-05-17 23035.05    24240.98    25070.73     22831.69     23244.72   \n",
      "18 2016-05-18 23034.33    24088.53    24968.79     22816.20     23262.44   \n",
      "19 2016-05-19 23033.61    24049.26    24961.16     22804.52     23288.61   \n",
      "20 2016-05-20 23032.88    23400.34    24342.17     22785.25     23307.68   \n",
      "21 2016-05-21 23032.16    19260.30    20176.75     22763.96     23326.26   \n",
      "22 2016-05-22 23031.44    19016.79    19924.42     22743.75     23346.25   \n",
      "23 2016-05-23 23030.72    23938.39    24959.40     22719.65     23364.78   \n",
      "24 2016-05-24 23030.00    24117.11    25199.95     22695.27     23382.15   \n",
      "25 2016-05-25 23029.28    23976.43    25036.34     22671.26     23410.05   \n",
      "26 2016-05-26 23028.55    23953.14    25032.44     22646.75     23430.01   \n",
      "27 2016-05-27 23027.83    23289.18    24416.32     22622.46     23448.79   \n",
      "28 2016-05-28 23027.11    19135.68    20257.48     22597.59     23464.09   \n",
      "29 2016-05-29 23026.39    18861.75    20009.26     22569.21     23480.95   \n",
      "\n",
      "    additive_terms  additive_terms_lower  additive_terms_upper   weekly  \\\n",
      "0         -3302.46              -3302.46              -3302.46 -3302.46   \n",
      "1         -3559.41              -3559.41              -3559.41 -3559.41   \n",
      "2          1418.18               1418.18               1418.18  1418.18   \n",
      "3          1639.41               1639.41               1639.41  1639.41   \n",
      "4          1477.13               1477.13               1477.13  1477.13   \n",
      "5          1487.64               1487.64               1487.64  1487.64   \n",
      "6           839.50                839.50                839.50   839.50   \n",
      "7         -3302.46              -3302.46              -3302.46 -3302.46   \n",
      "8         -3559.41              -3559.41              -3559.41 -3559.41   \n",
      "9          1418.18               1418.18               1418.18  1418.18   \n",
      "10         1639.41               1639.41               1639.41  1639.41   \n",
      "11         1477.13               1477.13               1477.13  1477.13   \n",
      "12         1487.64               1487.64               1487.64  1487.64   \n",
      "13          839.50                839.50                839.50   839.50   \n",
      "14        -3302.46              -3302.46              -3302.46 -3302.46   \n",
      "15        -3559.41              -3559.41              -3559.41 -3559.41   \n",
      "16         1418.18               1418.18               1418.18  1418.18   \n",
      "17         1639.41               1639.41               1639.41  1639.41   \n",
      "18         1477.13               1477.13               1477.13  1477.13   \n",
      "19         1487.64               1487.64               1487.64  1487.64   \n",
      "20          839.50                839.50                839.50   839.50   \n",
      "21        -3302.46              -3302.46              -3302.46 -3302.46   \n",
      "22        -3559.41              -3559.41              -3559.41 -3559.41   \n",
      "23         1418.18               1418.18               1418.18  1418.18   \n",
      "24         1639.41               1639.41               1639.41  1639.41   \n",
      "25         1477.13               1477.13               1477.13  1477.13   \n",
      "26         1487.64               1487.64               1487.64  1487.64   \n",
      "27          839.50                839.50                839.50   839.50   \n",
      "28        -3302.46              -3302.46              -3302.46 -3302.46   \n",
      "29        -3559.41              -3559.41              -3559.41 -3559.41   \n",
      "\n",
      "    weekly_lower  weekly_upper  multiplicative_terms  \\\n",
      "0       -3302.46      -3302.46                  0.00   \n",
      "1       -3559.41      -3559.41                  0.00   \n",
      "2        1418.18       1418.18                  0.00   \n",
      "3        1639.41       1639.41                  0.00   \n",
      "4        1477.13       1477.13                  0.00   \n",
      "5        1487.64       1487.64                  0.00   \n",
      "6         839.50        839.50                  0.00   \n",
      "7       -3302.46      -3302.46                  0.00   \n",
      "8       -3559.41      -3559.41                  0.00   \n",
      "9        1418.18       1418.18                  0.00   \n",
      "10       1639.41       1639.41                  0.00   \n",
      "11       1477.13       1477.13                  0.00   \n",
      "12       1487.64       1487.64                  0.00   \n",
      "13        839.50        839.50                  0.00   \n",
      "14      -3302.46      -3302.46                  0.00   \n",
      "15      -3559.41      -3559.41                  0.00   \n",
      "16       1418.18       1418.18                  0.00   \n",
      "17       1639.41       1639.41                  0.00   \n",
      "18       1477.13       1477.13                  0.00   \n",
      "19       1487.64       1487.64                  0.00   \n",
      "20        839.50        839.50                  0.00   \n",
      "21      -3302.46      -3302.46                  0.00   \n",
      "22      -3559.41      -3559.41                  0.00   \n",
      "23       1418.18       1418.18                  0.00   \n",
      "24       1639.41       1639.41                  0.00   \n",
      "25       1477.13       1477.13                  0.00   \n",
      "26       1487.64       1487.64                  0.00   \n",
      "27        839.50        839.50                  0.00   \n",
      "28      -3302.46      -3302.46                  0.00   \n",
      "29      -3559.41      -3559.41                  0.00   \n",
      "\n",
      "    multiplicative_terms_lower  multiplicative_terms_upper     yhat  \n",
      "0                         0.00                        0.00 19744.87  \n",
      "1                         0.00                        0.00 19487.19  \n",
      "2                         0.00                        0.00 24464.06  \n",
      "3                         0.00                        0.00 24684.57  \n",
      "4                         0.00                        0.00 24521.56  \n",
      "5                         0.00                        0.00 24531.35  \n",
      "6                         0.00                        0.00 23882.49  \n",
      "7                         0.00                        0.00 19739.81  \n",
      "8                         0.00                        0.00 19482.13  \n",
      "9                         0.00                        0.00 24459.00  \n",
      "10                        0.00                        0.00 24679.52  \n",
      "11                        0.00                        0.00 24516.51  \n",
      "12                        0.00                        0.00 24526.30  \n",
      "13                        0.00                        0.00 23877.44  \n",
      "14                        0.00                        0.00 19734.76  \n",
      "15                        0.00                        0.00 19477.08  \n",
      "16                        0.00                        0.00 24453.95  \n",
      "17                        0.00                        0.00 24674.46  \n",
      "18                        0.00                        0.00 24511.46  \n",
      "19                        0.00                        0.00 24521.25  \n",
      "20                        0.00                        0.00 23872.38  \n",
      "21                        0.00                        0.00 19729.71  \n",
      "22                        0.00                        0.00 19472.03  \n",
      "23                        0.00                        0.00 24448.90  \n",
      "24                        0.00                        0.00 24669.41  \n",
      "25                        0.00                        0.00 24506.40  \n",
      "26                        0.00                        0.00 24516.20  \n",
      "27                        0.00                        0.00 23867.33  \n",
      "28                        0.00                        0.00 19724.65  \n",
      "29                        0.00                        0.00 19466.98  \n"
     ]
    },
    {
     "data": {
      "application/vnd.plotly.v1+json": {
       "config": {
        "plotlyServerURL": "https://plot.ly"
       },
       "data": [
        {
         "hovertemplate": "%{x|%Y/%m/%d %a %H:%M:%S.%L} value: %{y}",
         "legendgroup": "",
         "line": {
          "dash": "solid"
         },
         "mode": "lines",
         "name": "",
         "orientation": "v",
         "showlegend": false,
         "type": "scatter",
         "x": [
          "2016-04-30T00:00:00",
          "2016-05-01T00:00:00",
          "2016-05-02T00:00:00",
          "2016-05-03T00:00:00",
          "2016-05-04T00:00:00",
          "2016-05-05T00:00:00",
          "2016-05-06T00:00:00",
          "2016-05-07T00:00:00",
          "2016-05-08T00:00:00",
          "2016-05-09T00:00:00",
          "2016-05-10T00:00:00",
          "2016-05-11T00:00:00",
          "2016-05-12T00:00:00",
          "2016-05-13T00:00:00",
          "2016-05-14T00:00:00",
          "2016-05-15T00:00:00",
          "2016-05-16T00:00:00",
          "2016-05-17T00:00:00",
          "2016-05-18T00:00:00",
          "2016-05-19T00:00:00",
          "2016-05-20T00:00:00",
          "2016-05-21T00:00:00",
          "2016-05-22T00:00:00",
          "2016-05-23T00:00:00",
          "2016-05-24T00:00:00",
          "2016-05-25T00:00:00",
          "2016-05-26T00:00:00",
          "2016-05-27T00:00:00",
          "2016-05-28T00:00:00",
          "2016-05-29T00:00:00"
         ],
         "xaxis": "x",
         "y": [
          19744.865320123095,
          19487.18593498833,
          24464.057298492262,
          24684.568860760963,
          24521.56197940541,
          24531.354769804533,
          23882.49026804207,
          19739.812664230874,
          19482.133279092468,
          24459.004642594715,
          24679.516204859818,
          24516.509323505703,
          24526.30211390344,
          23877.437612148555,
          19734.76000832526,
          19477.080623193662,
          24453.951986697168,
          24674.46354896049,
          24511.45666760374,
          24521.249458001454,
          23872.384956248196,
          19729.707352419646,
          19472.027967294856,
          24448.899330792352,
          24669.410893059096,
          24506.40401170403,
          24516.1968021021,
          23867.332300347724,
          19724.654696523907,
          19466.975311389302
         ],
         "yaxis": "y"
        },
        {
         "hovertemplate": "%{x|%Y/%m/%d %a %H:%M:%S.%L} value: %{y}",
         "legendgroup": "",
         "line": {
          "dash": "solid"
         },
         "mode": "lines",
         "name": "",
         "orientation": "v",
         "showlegend": false,
         "type": "scatter",
         "x": [
          "2016-04-30T00:00:00",
          "2016-05-01T00:00:00",
          "2016-05-02T00:00:00",
          "2016-05-03T00:00:00",
          "2016-05-04T00:00:00",
          "2016-05-05T00:00:00",
          "2016-05-06T00:00:00",
          "2016-05-07T00:00:00",
          "2016-05-08T00:00:00",
          "2016-05-09T00:00:00",
          "2016-05-10T00:00:00",
          "2016-05-11T00:00:00",
          "2016-05-12T00:00:00",
          "2016-05-13T00:00:00",
          "2016-05-14T00:00:00",
          "2016-05-15T00:00:00",
          "2016-05-16T00:00:00",
          "2016-05-17T00:00:00",
          "2016-05-18T00:00:00",
          "2016-05-19T00:00:00",
          "2016-05-20T00:00:00",
          "2016-05-21T00:00:00",
          "2016-05-22T00:00:00",
          "2016-05-23T00:00:00",
          "2016-05-24T00:00:00",
          "2016-05-25T00:00:00",
          "2016-05-26T00:00:00",
          "2016-05-27T00:00:00",
          "2016-05-28T00:00:00",
          "2016-05-29T00:00:00"
         ],
         "xaxis": "x",
         "y": [
          19383.559999999998,
          19365.603,
          24036.095,
          24384.88400000001,
          24429.164,
          24529.898,
          24288.430999999997,
          19906.216999999997,
          19879.107,
          24300.710000000003,
          23913.93700000001,
          23893.827999999998,
          23689.352999999996,
          23269.514000000006,
          19039.442,
          18843.554,
          23556.541999999998,
          23933.041,
          23945.129,
          23955.254,
          23741.961,
          19746.13,
          19855.494,
          25093.294000000005,
          26002.085000000003,
          25563.892,
          25948.307,
          25020.305999999997,
          20791.213,
          20743.505999999998
         ],
         "yaxis": "y"
        }
       ],
       "layout": {
        "autosize": true,
        "showlegend": true,
        "template": {
         "data": {
          "bar": [
           {
            "error_x": {
             "color": "#2a3f5f"
            },
            "error_y": {
             "color": "#2a3f5f"
            },
            "marker": {
             "line": {
              "color": "#E5ECF6",
              "width": 0.5
             }
            },
            "type": "bar"
           }
          ],
          "barpolar": [
           {
            "marker": {
             "line": {
              "color": "#E5ECF6",
              "width": 0.5
             }
            },
            "type": "barpolar"
           }
          ],
          "carpet": [
           {
            "aaxis": {
             "endlinecolor": "#2a3f5f",
             "gridcolor": "white",
             "linecolor": "white",
             "minorgridcolor": "white",
             "startlinecolor": "#2a3f5f"
            },
            "baxis": {
             "endlinecolor": "#2a3f5f",
             "gridcolor": "white",
             "linecolor": "white",
             "minorgridcolor": "white",
             "startlinecolor": "#2a3f5f"
            },
            "type": "carpet"
           }
          ],
          "choropleth": [
           {
            "colorbar": {
             "outlinewidth": 0,
             "ticks": ""
            },
            "type": "choropleth"
           }
          ],
          "contour": [
           {
            "colorbar": {
             "outlinewidth": 0,
             "ticks": ""
            },
            "colorscale": [
             [
              0,
              "#0d0887"
             ],
             [
              0.1111111111111111,
              "#46039f"
             ],
             [
              0.2222222222222222,
              "#7201a8"
             ],
             [
              0.3333333333333333,
              "#9c179e"
             ],
             [
              0.4444444444444444,
              "#bd3786"
             ],
             [
              0.5555555555555556,
              "#d8576b"
             ],
             [
              0.6666666666666666,
              "#ed7953"
             ],
             [
              0.7777777777777778,
              "#fb9f3a"
             ],
             [
              0.8888888888888888,
              "#fdca26"
             ],
             [
              1,
              "#f0f921"
             ]
            ],
            "type": "contour"
           }
          ],
          "contourcarpet": [
           {
            "colorbar": {
             "outlinewidth": 0,
             "ticks": ""
            },
            "type": "contourcarpet"
           }
          ],
          "heatmap": [
           {
            "colorbar": {
             "outlinewidth": 0,
             "ticks": ""
            },
            "colorscale": [
             [
              0,
              "#0d0887"
             ],
             [
              0.1111111111111111,
              "#46039f"
             ],
             [
              0.2222222222222222,
              "#7201a8"
             ],
             [
              0.3333333333333333,
              "#9c179e"
             ],
             [
              0.4444444444444444,
              "#bd3786"
             ],
             [
              0.5555555555555556,
              "#d8576b"
             ],
             [
              0.6666666666666666,
              "#ed7953"
             ],
             [
              0.7777777777777778,
              "#fb9f3a"
             ],
             [
              0.8888888888888888,
              "#fdca26"
             ],
             [
              1,
              "#f0f921"
             ]
            ],
            "type": "heatmap"
           }
          ],
          "heatmapgl": [
           {
            "colorbar": {
             "outlinewidth": 0,
             "ticks": ""
            },
            "colorscale": [
             [
              0,
              "#0d0887"
             ],
             [
              0.1111111111111111,
              "#46039f"
             ],
             [
              0.2222222222222222,
              "#7201a8"
             ],
             [
              0.3333333333333333,
              "#9c179e"
             ],
             [
              0.4444444444444444,
              "#bd3786"
             ],
             [
              0.5555555555555556,
              "#d8576b"
             ],
             [
              0.6666666666666666,
              "#ed7953"
             ],
             [
              0.7777777777777778,
              "#fb9f3a"
             ],
             [
              0.8888888888888888,
              "#fdca26"
             ],
             [
              1,
              "#f0f921"
             ]
            ],
            "type": "heatmapgl"
           }
          ],
          "histogram": [
           {
            "marker": {
             "colorbar": {
              "outlinewidth": 0,
              "ticks": ""
             }
            },
            "type": "histogram"
           }
          ],
          "histogram2d": [
           {
            "colorbar": {
             "outlinewidth": 0,
             "ticks": ""
            },
            "colorscale": [
             [
              0,
              "#0d0887"
             ],
             [
              0.1111111111111111,
              "#46039f"
             ],
             [
              0.2222222222222222,
              "#7201a8"
             ],
             [
              0.3333333333333333,
              "#9c179e"
             ],
             [
              0.4444444444444444,
              "#bd3786"
             ],
             [
              0.5555555555555556,
              "#d8576b"
             ],
             [
              0.6666666666666666,
              "#ed7953"
             ],
             [
              0.7777777777777778,
              "#fb9f3a"
             ],
             [
              0.8888888888888888,
              "#fdca26"
             ],
             [
              1,
              "#f0f921"
             ]
            ],
            "type": "histogram2d"
           }
          ],
          "histogram2dcontour": [
           {
            "colorbar": {
             "outlinewidth": 0,
             "ticks": ""
            },
            "colorscale": [
             [
              0,
              "#0d0887"
             ],
             [
              0.1111111111111111,
              "#46039f"
             ],
             [
              0.2222222222222222,
              "#7201a8"
             ],
             [
              0.3333333333333333,
              "#9c179e"
             ],
             [
              0.4444444444444444,
              "#bd3786"
             ],
             [
              0.5555555555555556,
              "#d8576b"
             ],
             [
              0.6666666666666666,
              "#ed7953"
             ],
             [
              0.7777777777777778,
              "#fb9f3a"
             ],
             [
              0.8888888888888888,
              "#fdca26"
             ],
             [
              1,
              "#f0f921"
             ]
            ],
            "type": "histogram2dcontour"
           }
          ],
          "mesh3d": [
           {
            "colorbar": {
             "outlinewidth": 0,
             "ticks": ""
            },
            "type": "mesh3d"
           }
          ],
          "parcoords": [
           {
            "line": {
             "colorbar": {
              "outlinewidth": 0,
              "ticks": ""
             }
            },
            "type": "parcoords"
           }
          ],
          "pie": [
           {
            "automargin": true,
            "type": "pie"
           }
          ],
          "scatter": [
           {
            "marker": {
             "colorbar": {
              "outlinewidth": 0,
              "ticks": ""
             }
            },
            "type": "scatter"
           }
          ],
          "scatter3d": [
           {
            "line": {
             "colorbar": {
              "outlinewidth": 0,
              "ticks": ""
             }
            },
            "marker": {
             "colorbar": {
              "outlinewidth": 0,
              "ticks": ""
             }
            },
            "type": "scatter3d"
           }
          ],
          "scattercarpet": [
           {
            "marker": {
             "colorbar": {
              "outlinewidth": 0,
              "ticks": ""
             }
            },
            "type": "scattercarpet"
           }
          ],
          "scattergeo": [
           {
            "marker": {
             "colorbar": {
              "outlinewidth": 0,
              "ticks": ""
             }
            },
            "type": "scattergeo"
           }
          ],
          "scattergl": [
           {
            "marker": {
             "colorbar": {
              "outlinewidth": 0,
              "ticks": ""
             }
            },
            "type": "scattergl"
           }
          ],
          "scattermapbox": [
           {
            "marker": {
             "colorbar": {
              "outlinewidth": 0,
              "ticks": ""
             }
            },
            "type": "scattermapbox"
           }
          ],
          "scatterpolar": [
           {
            "marker": {
             "colorbar": {
              "outlinewidth": 0,
              "ticks": ""
             }
            },
            "type": "scatterpolar"
           }
          ],
          "scatterpolargl": [
           {
            "marker": {
             "colorbar": {
              "outlinewidth": 0,
              "ticks": ""
             }
            },
            "type": "scatterpolargl"
           }
          ],
          "scatterternary": [
           {
            "marker": {
             "colorbar": {
              "outlinewidth": 0,
              "ticks": ""
             }
            },
            "type": "scatterternary"
           }
          ],
          "surface": [
           {
            "colorbar": {
             "outlinewidth": 0,
             "ticks": ""
            },
            "colorscale": [
             [
              0,
              "#0d0887"
             ],
             [
              0.1111111111111111,
              "#46039f"
             ],
             [
              0.2222222222222222,
              "#7201a8"
             ],
             [
              0.3333333333333333,
              "#9c179e"
             ],
             [
              0.4444444444444444,
              "#bd3786"
             ],
             [
              0.5555555555555556,
              "#d8576b"
             ],
             [
              0.6666666666666666,
              "#ed7953"
             ],
             [
              0.7777777777777778,
              "#fb9f3a"
             ],
             [
              0.8888888888888888,
              "#fdca26"
             ],
             [
              1,
              "#f0f921"
             ]
            ],
            "type": "surface"
           }
          ],
          "table": [
           {
            "cells": {
             "fill": {
              "color": "#EBF0F8"
             },
             "line": {
              "color": "white"
             }
            },
            "header": {
             "fill": {
              "color": "#C8D4E3"
             },
             "line": {
              "color": "white"
             }
            },
            "type": "table"
           }
          ]
         },
         "layout": {
          "annotationdefaults": {
           "arrowcolor": "#2a3f5f",
           "arrowhead": 0,
           "arrowwidth": 1
          },
          "autotypenumbers": "strict",
          "coloraxis": {
           "colorbar": {
            "outlinewidth": 0,
            "ticks": ""
           }
          },
          "colorscale": {
           "diverging": [
            [
             0,
             "#8e0152"
            ],
            [
             0.1,
             "#c51b7d"
            ],
            [
             0.2,
             "#de77ae"
            ],
            [
             0.3,
             "#f1b6da"
            ],
            [
             0.4,
             "#fde0ef"
            ],
            [
             0.5,
             "#f7f7f7"
            ],
            [
             0.6,
             "#e6f5d0"
            ],
            [
             0.7,
             "#b8e186"
            ],
            [
             0.8,
             "#7fbc41"
            ],
            [
             0.9,
             "#4d9221"
            ],
            [
             1,
             "#276419"
            ]
           ],
           "sequential": [
            [
             0,
             "#0d0887"
            ],
            [
             0.1111111111111111,
             "#46039f"
            ],
            [
             0.2222222222222222,
             "#7201a8"
            ],
            [
             0.3333333333333333,
             "#9c179e"
            ],
            [
             0.4444444444444444,
             "#bd3786"
            ],
            [
             0.5555555555555556,
             "#d8576b"
            ],
            [
             0.6666666666666666,
             "#ed7953"
            ],
            [
             0.7777777777777778,
             "#fb9f3a"
            ],
            [
             0.8888888888888888,
             "#fdca26"
            ],
            [
             1,
             "#f0f921"
            ]
           ],
           "sequentialminus": [
            [
             0,
             "#0d0887"
            ],
            [
             0.1111111111111111,
             "#46039f"
            ],
            [
             0.2222222222222222,
             "#7201a8"
            ],
            [
             0.3333333333333333,
             "#9c179e"
            ],
            [
             0.4444444444444444,
             "#bd3786"
            ],
            [
             0.5555555555555556,
             "#d8576b"
            ],
            [
             0.6666666666666666,
             "#ed7953"
            ],
            [
             0.7777777777777778,
             "#fb9f3a"
            ],
            [
             0.8888888888888888,
             "#fdca26"
            ],
            [
             1,
             "#f0f921"
            ]
           ]
          },
          "colorway": [
           "#636efa",
           "#EF553B",
           "#00cc96",
           "#ab63fa",
           "#FFA15A",
           "#19d3f3",
           "#FF6692",
           "#B6E880",
           "#FF97FF",
           "#FECB52"
          ],
          "font": {
           "color": "#2a3f5f"
          },
          "geo": {
           "bgcolor": "white",
           "lakecolor": "white",
           "landcolor": "#E5ECF6",
           "showlakes": true,
           "showland": true,
           "subunitcolor": "white"
          },
          "hoverlabel": {
           "align": "left"
          },
          "hovermode": "closest",
          "mapbox": {
           "style": "light"
          },
          "paper_bgcolor": "white",
          "plot_bgcolor": "#E5ECF6",
          "polar": {
           "angularaxis": {
            "gridcolor": "white",
            "linecolor": "white",
            "ticks": ""
           },
           "bgcolor": "#E5ECF6",
           "radialaxis": {
            "gridcolor": "white",
            "linecolor": "white",
            "ticks": ""
           }
          },
          "scene": {
           "xaxis": {
            "backgroundcolor": "#E5ECF6",
            "gridcolor": "white",
            "gridwidth": 2,
            "linecolor": "white",
            "showbackground": true,
            "ticks": "",
            "zerolinecolor": "white"
           },
           "yaxis": {
            "backgroundcolor": "#E5ECF6",
            "gridcolor": "white",
            "gridwidth": 2,
            "linecolor": "white",
            "showbackground": true,
            "ticks": "",
            "zerolinecolor": "white"
           },
           "zaxis": {
            "backgroundcolor": "#E5ECF6",
            "gridcolor": "white",
            "gridwidth": 2,
            "linecolor": "white",
            "showbackground": true,
            "ticks": "",
            "zerolinecolor": "white"
           }
          },
          "shapedefaults": {
           "line": {
            "color": "#2a3f5f"
           }
          },
          "ternary": {
           "aaxis": {
            "gridcolor": "white",
            "linecolor": "white",
            "ticks": ""
           },
           "baxis": {
            "gridcolor": "white",
            "linecolor": "white",
            "ticks": ""
           },
           "bgcolor": "#E5ECF6",
           "caxis": {
            "gridcolor": "white",
            "linecolor": "white",
            "ticks": ""
           }
          },
          "title": {
           "x": 0.05
          },
          "xaxis": {
           "automargin": true,
           "gridcolor": "white",
           "linecolor": "white",
           "ticks": "",
           "title": {
            "standoff": 15
           },
           "zerolinecolor": "white",
           "zerolinewidth": 2
          },
          "yaxis": {
           "automargin": true,
           "gridcolor": "white",
           "linecolor": "white",
           "ticks": "",
           "title": {
            "standoff": 15
           },
           "zerolinecolor": "white",
           "zerolinewidth": 2
          }
         }
        },
        "title": {
         "text": "Bldg: 1148 Meter: 0"
        },
        "xaxis": {
         "anchor": "y",
         "autorange": true,
         "domain": [
          0,
          0.94
         ],
         "dtick": "M1",
         "range": [
          "2016-04-30",
          "2016-05-29"
         ],
         "rangeslider": {
          "autorange": true,
          "range": [
           "2016-04-30",
           "2016-05-29"
          ],
          "visible": true,
          "yaxis": {
           "_template": null,
           "rangemode": "match"
          }
         },
         "tickformat": "%b\n%Y",
         "title": {
          "text": "Time"
         },
         "type": "date"
        },
        "yaxis": {
         "anchor": "x",
         "autorange": true,
         "color": "blue",
         "domain": [
          0,
          1
         ],
         "range": [
          18445.85783333333,
          26399.78116666667
         ],
         "title": {
          "text": "Meter Reading"
         },
         "type": "linear"
        },
        "yaxis2": {
         "anchor": "x",
         "overlaying": "y",
         "side": "right"
        }
       }
      },
      "image/png": "[encoded data removed]",
      "text/html": [
       "<div>                            <div id=\"631f83ac-3556-4aea-8dd3-2dcea6da7dfb\" class=\"plotly-graph-div\" style=\"height:525px; width:100%;\"></div>            <script type=\"text/javascript\">                require([\"plotly\"], function(Plotly) {                    window.PLOTLYENV=window.PLOTLYENV || {};                                    if (document.getElementById(\"631f83ac-3556-4aea-8dd3-2dcea6da7dfb\")) {                    Plotly.newPlot(                        \"631f83ac-3556-4aea-8dd3-2dcea6da7dfb\",                        [{\"hovertemplate\": \"%{x|%Y/%m/%d %a %H:%M:%S.%L} value: %{y}\", \"legendgroup\": \"\", \"line\": {\"dash\": \"solid\"}, \"mode\": \"lines\", \"name\": \"\", \"orientation\": \"v\", \"showlegend\": false, \"type\": \"scatter\", \"x\": [\"2016-04-30T00:00:00\", \"2016-05-01T00:00:00\", \"2016-05-02T00:00:00\", \"2016-05-03T00:00:00\", \"2016-05-04T00:00:00\", \"2016-05-05T00:00:00\", \"2016-05-06T00:00:00\", \"2016-05-07T00:00:00\", \"2016-05-08T00:00:00\", \"2016-05-09T00:00:00\", \"2016-05-10T00:00:00\", \"2016-05-11T00:00:00\", \"2016-05-12T00:00:00\", \"2016-05-13T00:00:00\", \"2016-05-14T00:00:00\", \"2016-05-15T00:00:00\", \"2016-05-16T00:00:00\", \"2016-05-17T00:00:00\", \"2016-05-18T00:00:00\", \"2016-05-19T00:00:00\", \"2016-05-20T00:00:00\", \"2016-05-21T00:00:00\", \"2016-05-22T00:00:00\", \"2016-05-23T00:00:00\", \"2016-05-24T00:00:00\", \"2016-05-25T00:00:00\", \"2016-05-26T00:00:00\", \"2016-05-27T00:00:00\", \"2016-05-28T00:00:00\", \"2016-05-29T00:00:00\"], \"xaxis\": \"x\", \"y\": [19744.865320123095, 19487.18593498833, 24464.057298492262, 24684.568860760963, 24521.56197940541, 24531.354769804533, 23882.49026804207, 19739.812664230874, 19482.133279092468, 24459.004642594715, 24679.516204859818, 24516.509323505703, 24526.30211390344, 23877.437612148555, 19734.76000832526, 19477.080623193662, 24453.951986697168, 24674.46354896049, 24511.45666760374, 24521.249458001454, 23872.384956248196, 19729.707352419646, 19472.027967294856, 24448.899330792352, 24669.410893059096, 24506.40401170403, 24516.1968021021, 23867.332300347724, 19724.654696523907, 19466.975311389302], \"yaxis\": \"y\"}, {\"hovertemplate\": \"%{x|%Y/%m/%d %a %H:%M:%S.%L} value: %{y}\", \"legendgroup\": \"\", \"line\": {\"dash\": \"solid\"}, \"mode\": \"lines\", \"name\": \"\", \"orientation\": \"v\", \"showlegend\": false, \"type\": \"scatter\", \"x\": [\"2016-04-30T00:00:00\", \"2016-05-01T00:00:00\", \"2016-05-02T00:00:00\", \"2016-05-03T00:00:00\", \"2016-05-04T00:00:00\", \"2016-05-05T00:00:00\", \"2016-05-06T00:00:00\", \"2016-05-07T00:00:00\", \"2016-05-08T00:00:00\", \"2016-05-09T00:00:00\", \"2016-05-10T00:00:00\", \"2016-05-11T00:00:00\", \"2016-05-12T00:00:00\", \"2016-05-13T00:00:00\", \"2016-05-14T00:00:00\", \"2016-05-15T00:00:00\", \"2016-05-16T00:00:00\", \"2016-05-17T00:00:00\", \"2016-05-18T00:00:00\", \"2016-05-19T00:00:00\", \"2016-05-20T00:00:00\", \"2016-05-21T00:00:00\", \"2016-05-22T00:00:00\", \"2016-05-23T00:00:00\", \"2016-05-24T00:00:00\", \"2016-05-25T00:00:00\", \"2016-05-26T00:00:00\", \"2016-05-27T00:00:00\", \"2016-05-28T00:00:00\", \"2016-05-29T00:00:00\"], \"xaxis\": \"x\", \"y\": [19383.559999999998, 19365.603, 24036.095, 24384.88400000001, 24429.164, 24529.898, 24288.430999999997, 19906.216999999997, 19879.107, 24300.710000000003, 23913.93700000001, 23893.827999999998, 23689.352999999996, 23269.514000000006, 19039.442, 18843.554, 23556.541999999998, 23933.041, 23945.129, 23955.254, 23741.961, 19746.13, 19855.494, 25093.294000000005, 26002.085000000003, 25563.892, 25948.307, 25020.305999999997, 20791.213, 20743.505999999998], \"yaxis\": \"y\"}],                        {\"showlegend\": true, \"template\": {\"data\": {\"bar\": [{\"error_x\": {\"color\": \"#2a3f5f\"}, \"error_y\": {\"color\": \"#2a3f5f\"}, \"marker\": {\"line\": {\"color\": \"#E5ECF6\", \"width\": 0.5}}, \"type\": \"bar\"}], \"barpolar\": [{\"marker\": {\"line\": {\"color\": \"#E5ECF6\", \"width\": 0.5}}, \"type\": \"barpolar\"}], \"carpet\": [{\"aaxis\": {\"endlinecolor\": \"#2a3f5f\", \"gridcolor\": \"white\", \"linecolor\": \"white\", \"minorgridcolor\": \"white\", \"startlinecolor\": \"#2a3f5f\"}, \"baxis\": {\"endlinecolor\": \"#2a3f5f\", \"gridcolor\": \"white\", \"linecolor\": \"white\", \"minorgridcolor\": \"white\", \"startlinecolor\": \"#2a3f5f\"}, \"type\": \"carpet\"}], \"choropleth\": [{\"colorbar\": {\"outlinewidth\": 0, \"ticks\": \"\"}, \"type\": \"choropleth\"}], \"contour\": [{\"colorbar\": {\"outlinewidth\": 0, \"ticks\": \"\"}, \"colorscale\": [[0.0, \"#0d0887\"], [0.1111111111111111, \"#46039f\"], [0.2222222222222222, \"#7201a8\"], [0.3333333333333333, \"#9c179e\"], [0.4444444444444444, \"#bd3786\"], [0.5555555555555556, \"#d8576b\"], [0.6666666666666666, \"#ed7953\"], [0.7777777777777778, \"#fb9f3a\"], [0.8888888888888888, \"#fdca26\"], [1.0, \"#f0f921\"]], \"type\": \"contour\"}], \"contourcarpet\": [{\"colorbar\": {\"outlinewidth\": 0, \"ticks\": \"\"}, \"type\": \"contourcarpet\"}], \"heatmap\": [{\"colorbar\": {\"outlinewidth\": 0, \"ticks\": \"\"}, \"colorscale\": [[0.0, \"#0d0887\"], [0.1111111111111111, \"#46039f\"], [0.2222222222222222, \"#7201a8\"], [0.3333333333333333, \"#9c179e\"], [0.4444444444444444, \"#bd3786\"], [0.5555555555555556, \"#d8576b\"], [0.6666666666666666, \"#ed7953\"], [0.7777777777777778, \"#fb9f3a\"], [0.8888888888888888, \"#fdca26\"], [1.0, \"#f0f921\"]], \"type\": \"heatmap\"}], \"heatmapgl\": [{\"colorbar\": {\"outlinewidth\": 0, \"ticks\": \"\"}, \"colorscale\": [[0.0, \"#0d0887\"], [0.1111111111111111, \"#46039f\"], [0.2222222222222222, \"#7201a8\"], [0.3333333333333333, \"#9c179e\"], [0.4444444444444444, \"#bd3786\"], [0.5555555555555556, \"#d8576b\"], [0.6666666666666666, \"#ed7953\"], [0.7777777777777778, \"#fb9f3a\"], [0.8888888888888888, \"#fdca26\"], [1.0, \"#f0f921\"]], \"type\": \"heatmapgl\"}], \"histogram\": [{\"marker\": {\"colorbar\": {\"outlinewidth\": 0, \"ticks\": \"\"}}, \"type\": \"histogram\"}], \"histogram2d\": [{\"colorbar\": {\"outlinewidth\": 0, \"ticks\": \"\"}, \"colorscale\": [[0.0, \"#0d0887\"], [0.1111111111111111, \"#46039f\"], [0.2222222222222222, \"#7201a8\"], [0.3333333333333333, \"#9c179e\"], [0.4444444444444444, \"#bd3786\"], [0.5555555555555556, \"#d8576b\"], [0.6666666666666666, \"#ed7953\"], [0.7777777777777778, \"#fb9f3a\"], [0.8888888888888888, \"#fdca26\"], [1.0, \"#f0f921\"]], \"type\": \"histogram2d\"}], \"histogram2dcontour\": [{\"colorbar\": {\"outlinewidth\": 0, \"ticks\": \"\"}, \"colorscale\": [[0.0, \"#0d0887\"], [0.1111111111111111, \"#46039f\"], [0.2222222222222222, \"#7201a8\"], [0.3333333333333333, \"#9c179e\"], [0.4444444444444444, \"#bd3786\"], [0.5555555555555556, \"#d8576b\"], [0.6666666666666666, \"#ed7953\"], [0.7777777777777778, \"#fb9f3a\"], [0.8888888888888888, \"#fdca26\"], [1.0, \"#f0f921\"]], \"type\": \"histogram2dcontour\"}], \"mesh3d\": [{\"colorbar\": {\"outlinewidth\": 0, \"ticks\": \"\"}, \"type\": \"mesh3d\"}], \"parcoords\": [{\"line\": {\"colorbar\": {\"outlinewidth\": 0, \"ticks\": \"\"}}, \"type\": \"parcoords\"}], \"pie\": [{\"automargin\": true, \"type\": \"pie\"}], \"scatter\": [{\"marker\": {\"colorbar\": {\"outlinewidth\": 0, \"ticks\": \"\"}}, \"type\": \"scatter\"}], \"scatter3d\": [{\"line\": {\"colorbar\": {\"outlinewidth\": 0, \"ticks\": \"\"}}, \"marker\": {\"colorbar\": {\"outlinewidth\": 0, \"ticks\": \"\"}}, \"type\": \"scatter3d\"}], \"scattercarpet\": [{\"marker\": {\"colorbar\": {\"outlinewidth\": 0, \"ticks\": \"\"}}, \"type\": \"scattercarpet\"}], \"scattergeo\": [{\"marker\": {\"colorbar\": {\"outlinewidth\": 0, \"ticks\": \"\"}}, \"type\": \"scattergeo\"}], \"scattergl\": [{\"marker\": {\"colorbar\": {\"outlinewidth\": 0, \"ticks\": \"\"}}, \"type\": \"scattergl\"}], \"scattermapbox\": [{\"marker\": {\"colorbar\": {\"outlinewidth\": 0, \"ticks\": \"\"}}, \"type\": \"scattermapbox\"}], \"scatterpolar\": [{\"marker\": {\"colorbar\": {\"outlinewidth\": 0, \"ticks\": \"\"}}, \"type\": \"scatterpolar\"}], \"scatterpolargl\": [{\"marker\": {\"colorbar\": {\"outlinewidth\": 0, \"ticks\": \"\"}}, \"type\": \"scatterpolargl\"}], \"scatterternary\": [{\"marker\": {\"colorbar\": {\"outlinewidth\": 0, \"ticks\": \"\"}}, \"type\": \"scatterternary\"}], \"surface\": [{\"colorbar\": {\"outlinewidth\": 0, \"ticks\": \"\"}, \"colorscale\": [[0.0, \"#0d0887\"], [0.1111111111111111, \"#46039f\"], [0.2222222222222222, \"#7201a8\"], [0.3333333333333333, \"#9c179e\"], [0.4444444444444444, \"#bd3786\"], [0.5555555555555556, \"#d8576b\"], [0.6666666666666666, \"#ed7953\"], [0.7777777777777778, \"#fb9f3a\"], [0.8888888888888888, \"#fdca26\"], [1.0, \"#f0f921\"]], \"type\": \"surface\"}], \"table\": [{\"cells\": {\"fill\": {\"color\": \"#EBF0F8\"}, \"line\": {\"color\": \"white\"}}, \"header\": {\"fill\": {\"color\": \"#C8D4E3\"}, \"line\": {\"color\": \"white\"}}, \"type\": \"table\"}]}, \"layout\": {\"annotationdefaults\": {\"arrowcolor\": \"#2a3f5f\", \"arrowhead\": 0, \"arrowwidth\": 1}, \"autotypenumbers\": \"strict\", \"coloraxis\": {\"colorbar\": {\"outlinewidth\": 0, \"ticks\": \"\"}}, \"colorscale\": {\"diverging\": [[0, \"#8e0152\"], [0.1, \"#c51b7d\"], [0.2, \"#de77ae\"], [0.3, \"#f1b6da\"], [0.4, \"#fde0ef\"], [0.5, \"#f7f7f7\"], [0.6, \"#e6f5d0\"], [0.7, \"#b8e186\"], [0.8, \"#7fbc41\"], [0.9, \"#4d9221\"], [1, \"#276419\"]], \"sequential\": [[0.0, \"#0d0887\"], [0.1111111111111111, \"#46039f\"], [0.2222222222222222, \"#7201a8\"], [0.3333333333333333, \"#9c179e\"], [0.4444444444444444, \"#bd3786\"], [0.5555555555555556, \"#d8576b\"], [0.6666666666666666, \"#ed7953\"], [0.7777777777777778, \"#fb9f3a\"], [0.8888888888888888, \"#fdca26\"], [1.0, \"#f0f921\"]], \"sequentialminus\": [[0.0, \"#0d0887\"], [0.1111111111111111, \"#46039f\"], [0.2222222222222222, \"#7201a8\"], [0.3333333333333333, \"#9c179e\"], [0.4444444444444444, \"#bd3786\"], [0.5555555555555556, \"#d8576b\"], [0.6666666666666666, \"#ed7953\"], [0.7777777777777778, \"#fb9f3a\"], [0.8888888888888888, \"#fdca26\"], [1.0, \"#f0f921\"]]}, \"colorway\": [\"#636efa\", \"#EF553B\", \"#00cc96\", \"#ab63fa\", \"#FFA15A\", \"#19d3f3\", \"#FF6692\", \"#B6E880\", \"#FF97FF\", \"#FECB52\"], \"font\": {\"color\": \"#2a3f5f\"}, \"geo\": {\"bgcolor\": \"white\", \"lakecolor\": \"white\", \"landcolor\": \"#E5ECF6\", \"showlakes\": true, \"showland\": true, \"subunitcolor\": \"white\"}, \"hoverlabel\": {\"align\": \"left\"}, \"hovermode\": \"closest\", \"mapbox\": {\"style\": \"light\"}, \"paper_bgcolor\": \"white\", \"plot_bgcolor\": \"#E5ECF6\", \"polar\": {\"angularaxis\": {\"gridcolor\": \"white\", \"linecolor\": \"white\", \"ticks\": \"\"}, \"bgcolor\": \"#E5ECF6\", \"radialaxis\": {\"gridcolor\": \"white\", \"linecolor\": \"white\", \"ticks\": \"\"}}, \"scene\": {\"xaxis\": {\"backgroundcolor\": \"#E5ECF6\", \"gridcolor\": \"white\", \"gridwidth\": 2, \"linecolor\": \"white\", \"showbackground\": true, \"ticks\": \"\", \"zerolinecolor\": \"white\"}, \"yaxis\": {\"backgroundcolor\": \"#E5ECF6\", \"gridcolor\": \"white\", \"gridwidth\": 2, \"linecolor\": \"white\", \"showbackground\": true, \"ticks\": \"\", \"zerolinecolor\": \"white\"}, \"zaxis\": {\"backgroundcolor\": \"#E5ECF6\", \"gridcolor\": \"white\", \"gridwidth\": 2, \"linecolor\": \"white\", \"showbackground\": true, \"ticks\": \"\", \"zerolinecolor\": \"white\"}}, \"shapedefaults\": {\"line\": {\"color\": \"#2a3f5f\"}}, \"ternary\": {\"aaxis\": {\"gridcolor\": \"white\", \"linecolor\": \"white\", \"ticks\": \"\"}, \"baxis\": {\"gridcolor\": \"white\", \"linecolor\": \"white\", \"ticks\": \"\"}, \"bgcolor\": \"#E5ECF6\", \"caxis\": {\"gridcolor\": \"white\", \"linecolor\": \"white\", \"ticks\": \"\"}}, \"title\": {\"x\": 0.05}, \"xaxis\": {\"automargin\": true, \"gridcolor\": \"white\", \"linecolor\": \"white\", \"ticks\": \"\", \"title\": {\"standoff\": 15}, \"zerolinecolor\": \"white\", \"zerolinewidth\": 2}, \"yaxis\": {\"automargin\": true, \"gridcolor\": \"white\", \"linecolor\": \"white\", \"ticks\": \"\", \"title\": {\"standoff\": 15}, \"zerolinecolor\": \"white\", \"zerolinewidth\": 2}}}, \"title\": {\"text\": \"Bldg: 1148 Meter: 0\"}, \"xaxis\": {\"anchor\": \"y\", \"domain\": [0.0, 0.94], \"dtick\": \"M1\", \"rangeslider\": {\"visible\": true}, \"tickformat\": \"%b\\n%Y\", \"title\": {\"text\": \"Time\"}}, \"yaxis\": {\"anchor\": \"x\", \"color\": \"blue\", \"domain\": [0.0, 1.0], \"title\": {\"text\": \"Meter Reading\"}}, \"yaxis2\": {\"anchor\": \"x\", \"overlaying\": \"y\", \"side\": \"right\"}},                        {\"responsive\": true}                    ).then(function(){\n",
       "                            \n",
       "var gd = document.getElementById('631f83ac-3556-4aea-8dd3-2dcea6da7dfb');\n",
       "var x = new MutationObserver(function (mutations, observer) {{\n",
       "        var display = window.getComputedStyle(gd).display;\n",
       "        if (!display || display === 'none') {{\n",
       "            console.log([gd, 'removed!']);\n",
       "            Plotly.purge(gd);\n",
       "            observer.disconnect();\n",
       "        }}\n",
       "}});\n",
       "\n",
       "// Listen for the removal of the full notebook cells\n",
       "var notebookContainer = gd.closest('#notebook-container');\n",
       "if (notebookContainer) {{\n",
       "    x.observe(notebookContainer, {childList: true});\n",
       "}}\n",
       "\n",
       "// Listen for the clearing of the current output cell\n",
       "var outputEl = gd.closest('.output');\n",
       "if (outputEl) {{\n",
       "    x.observe(outputEl, {childList: true});\n",
       "}}\n",
       "\n",
       "                        })                };                });            </script>        </div>"
      ]
     },
     "metadata": {},
     "output_type": "display_data"
    },
    {
     "name": "stderr",
     "output_type": "stream",
     "text": [
      "INFO:prophet:Disabling yearly seasonality. Run prophet with yearly_seasonality=True to override this.\n",
      "INFO:prophet:Disabling daily seasonality. Run prophet with daily_seasonality=True to override this.\n"
     ]
    },
    {
     "name": "stdout",
     "output_type": "stream",
     "text": [
      "MSE: 715.2630863459896\n",
      "Data Size:  120\n",
      "Train Size:  30\n",
      "Offset:  60\n",
      "\n",
      "\n",
      "DATA\n",
      "Date Start: \n",
      "2016-03-01 00:00:00\n",
      "Date End: \n",
      "2016-06-28 00:00:00\n",
      "\n",
      "\n",
      "TRAIN\n",
      "Date Start: \n",
      "2016-03-01 00:00:00\n",
      "Date End: \n",
      "2016-05-29 00:00:00\n",
      "\n",
      "\n",
      "TEST\n",
      "Date Start: \n",
      "2016-05-30 00:00:00\n",
      "Date End: \n",
      "2016-06-28 00:00:00\n",
      "           ds    trend  yhat_lower  yhat_upper  trend_lower  trend_upper  \\\n",
      "0  2016-05-30 24073.23    24957.07    25951.94     24072.68     24074.16   \n",
      "1  2016-05-31 24151.31    25306.46    26343.63     24146.46     24157.36   \n",
      "2  2016-06-01 24229.39    25205.91    26218.68     24217.92     24245.11   \n",
      "3  2016-06-02 24307.47    25284.86    26322.70     24286.22     24333.59   \n",
      "4  2016-06-03 24385.55    24727.22    25756.38     24351.13     24421.44   \n",
      "5  2016-06-04 24463.63    20639.22    21685.87     24412.99     24511.35   \n",
      "6  2016-06-05 24541.71    20488.37    21516.51     24481.03     24603.28   \n",
      "7  2016-06-06 24619.79    25513.82    26522.05     24542.61     24698.67   \n",
      "8  2016-06-07 24697.87    25879.08    26874.73     24602.31     24792.34   \n",
      "9  2016-06-08 24775.95    25751.81    26818.00     24660.00     24888.60   \n",
      "10 2016-06-09 24854.02    25779.34    26858.67     24715.57     24984.11   \n",
      "11 2016-06-10 24932.10    25285.93    26307.80     24773.90     25085.47   \n",
      "12 2016-06-11 25010.18    21119.52    22201.02     24830.33     25181.16   \n",
      "13 2016-06-12 25088.26    20967.84    22093.43     24885.45     25286.04   \n",
      "14 2016-06-13 25166.34    26064.66    27100.22     24943.67     25382.47   \n",
      "15 2016-06-14 25244.42    26357.94    27502.82     25001.00     25477.33   \n",
      "16 2016-06-15 25322.50    26224.54    27349.83     25054.02     25577.31   \n",
      "17 2016-06-16 25400.58    26326.55    27501.65     25109.09     25681.06   \n",
      "18 2016-06-17 25478.66    25729.29    26908.26     25166.92     25785.93   \n",
      "19 2016-06-18 25556.74    21632.18    22838.87     25219.31     25889.78   \n",
      "20 2016-06-19 25634.81    21489.37    22703.57     25274.06     25997.12   \n",
      "21 2016-06-20 25712.89    26459.33    27716.24     25331.63     26107.14   \n",
      "22 2016-06-21 25790.97    26805.58    28150.92     25383.96     26215.39   \n",
      "23 2016-06-22 25869.05    26705.06    28018.44     25435.91     26318.46   \n",
      "24 2016-06-23 25947.13    26733.88    28124.87     25478.61     26427.40   \n",
      "25 2016-06-24 26025.21    26171.85    27570.21     25519.71     26538.16   \n",
      "26 2016-06-25 26103.29    22021.19    23571.26     25570.45     26651.06   \n",
      "27 2016-06-26 26181.37    21891.37    23407.32     25618.01     26756.34   \n",
      "28 2016-06-27 26259.45    26871.03    28460.50     25662.85     26857.43   \n",
      "29 2016-06-28 26337.53    27243.76    28768.98     25705.70     26969.57   \n",
      "\n",
      "    additive_terms  additive_terms_lower  additive_terms_upper   weekly  \\\n",
      "0          1378.08               1378.08               1378.08  1378.08   \n",
      "1          1672.13               1672.13               1672.13  1672.13   \n",
      "2          1476.34               1476.34               1476.34  1476.34   \n",
      "3          1484.49               1484.49               1484.49  1484.49   \n",
      "4           851.52                851.52                851.52   851.52   \n",
      "5         -3317.21              -3317.21              -3317.21 -3317.21   \n",
      "6         -3545.34              -3545.34              -3545.34 -3545.34   \n",
      "7          1378.08               1378.08               1378.08  1378.08   \n",
      "8          1672.13               1672.13               1672.13  1672.13   \n",
      "9          1476.34               1476.34               1476.34  1476.34   \n",
      "10         1484.49               1484.49               1484.49  1484.49   \n",
      "11          851.52                851.52                851.52   851.52   \n",
      "12        -3317.21              -3317.21              -3317.21 -3317.21   \n",
      "13        -3545.34              -3545.34              -3545.34 -3545.34   \n",
      "14         1378.08               1378.08               1378.08  1378.08   \n",
      "15         1672.13               1672.13               1672.13  1672.13   \n",
      "16         1476.34               1476.34               1476.34  1476.34   \n",
      "17         1484.49               1484.49               1484.49  1484.49   \n",
      "18          851.52                851.52                851.52   851.52   \n",
      "19        -3317.21              -3317.21              -3317.21 -3317.21   \n",
      "20        -3545.34              -3545.34              -3545.34 -3545.34   \n",
      "21         1378.08               1378.08               1378.08  1378.08   \n",
      "22         1672.13               1672.13               1672.13  1672.13   \n",
      "23         1476.34               1476.34               1476.34  1476.34   \n",
      "24         1484.49               1484.49               1484.49  1484.49   \n",
      "25          851.52                851.52                851.52   851.52   \n",
      "26        -3317.21              -3317.21              -3317.21 -3317.21   \n",
      "27        -3545.34              -3545.34              -3545.34 -3545.34   \n",
      "28         1378.08               1378.08               1378.08  1378.08   \n",
      "29         1672.13               1672.13               1672.13  1672.13   \n",
      "\n",
      "    weekly_lower  weekly_upper  multiplicative_terms  \\\n",
      "0        1378.08       1378.08                  0.00   \n",
      "1        1672.13       1672.13                  0.00   \n",
      "2        1476.34       1476.34                  0.00   \n",
      "3        1484.49       1484.49                  0.00   \n",
      "4         851.52        851.52                  0.00   \n",
      "5       -3317.21      -3317.21                  0.00   \n",
      "6       -3545.34      -3545.34                  0.00   \n",
      "7        1378.08       1378.08                  0.00   \n",
      "8        1672.13       1672.13                  0.00   \n",
      "9        1476.34       1476.34                  0.00   \n",
      "10       1484.49       1484.49                  0.00   \n",
      "11        851.52        851.52                  0.00   \n",
      "12      -3317.21      -3317.21                  0.00   \n",
      "13      -3545.34      -3545.34                  0.00   \n",
      "14       1378.08       1378.08                  0.00   \n",
      "15       1672.13       1672.13                  0.00   \n",
      "16       1476.34       1476.34                  0.00   \n",
      "17       1484.49       1484.49                  0.00   \n",
      "18        851.52        851.52                  0.00   \n",
      "19      -3317.21      -3317.21                  0.00   \n",
      "20      -3545.34      -3545.34                  0.00   \n",
      "21       1378.08       1378.08                  0.00   \n",
      "22       1672.13       1672.13                  0.00   \n",
      "23       1476.34       1476.34                  0.00   \n",
      "24       1484.49       1484.49                  0.00   \n",
      "25        851.52        851.52                  0.00   \n",
      "26      -3317.21      -3317.21                  0.00   \n",
      "27      -3545.34      -3545.34                  0.00   \n",
      "28       1378.08       1378.08                  0.00   \n",
      "29       1672.13       1672.13                  0.00   \n",
      "\n",
      "    multiplicative_terms_lower  multiplicative_terms_upper     yhat  \n",
      "0                         0.00                        0.00 25451.31  \n",
      "1                         0.00                        0.00 25823.44  \n",
      "2                         0.00                        0.00 25705.74  \n",
      "3                         0.00                        0.00 25791.96  \n",
      "4                         0.00                        0.00 25237.07  \n",
      "5                         0.00                        0.00 21146.42  \n",
      "6                         0.00                        0.00 20996.36  \n",
      "7                         0.00                        0.00 25997.86  \n",
      "8                         0.00                        0.00 26370.00  \n",
      "9                         0.00                        0.00 26252.29  \n",
      "10                        0.00                        0.00 26338.51  \n",
      "11                        0.00                        0.00 25783.62  \n",
      "12                        0.00                        0.00 21692.97  \n",
      "13                        0.00                        0.00 21542.92  \n",
      "14                        0.00                        0.00 26544.42  \n",
      "15                        0.00                        0.00 26916.55  \n",
      "16                        0.00                        0.00 26798.84  \n",
      "17                        0.00                        0.00 26885.07  \n",
      "18                        0.00                        0.00 26330.18  \n",
      "19                        0.00                        0.00 22239.52  \n",
      "20                        0.00                        0.00 22089.47  \n",
      "21                        0.00                        0.00 27090.97  \n",
      "22                        0.00                        0.00 27463.10  \n",
      "23                        0.00                        0.00 27345.40  \n",
      "24                        0.00                        0.00 27431.62  \n",
      "25                        0.00                        0.00 26876.73  \n",
      "26                        0.00                        0.00 22786.08  \n",
      "27                        0.00                        0.00 22636.02  \n",
      "28                        0.00                        0.00 27637.52  \n",
      "29                        0.00                        0.00 28009.66  \n"
     ]
    },
    {
     "data": {
      "application/vnd.plotly.v1+json": {
       "config": {
        "plotlyServerURL": "https://plot.ly"
       },
       "data": [
        {
         "hovertemplate": "%{x|%Y/%m/%d %a %H:%M:%S.%L} value: %{y}",
         "legendgroup": "",
         "line": {
          "dash": "solid"
         },
         "mode": "lines",
         "name": "",
         "orientation": "v",
         "showlegend": false,
         "type": "scatter",
         "x": [
          "2016-05-30T00:00:00",
          "2016-05-31T00:00:00",
          "2016-06-01T00:00:00",
          "2016-06-02T00:00:00",
          "2016-06-03T00:00:00",
          "2016-06-04T00:00:00",
          "2016-06-05T00:00:00",
          "2016-06-06T00:00:00",
          "2016-06-07T00:00:00",
          "2016-06-08T00:00:00",
          "2016-06-09T00:00:00",
          "2016-06-10T00:00:00",
          "2016-06-11T00:00:00",
          "2016-06-12T00:00:00",
          "2016-06-13T00:00:00",
          "2016-06-14T00:00:00",
          "2016-06-15T00:00:00",
          "2016-06-16T00:00:00",
          "2016-06-17T00:00:00",
          "2016-06-18T00:00:00",
          "2016-06-19T00:00:00",
          "2016-06-20T00:00:00",
          "2016-06-21T00:00:00",
          "2016-06-22T00:00:00",
          "2016-06-23T00:00:00",
          "2016-06-24T00:00:00",
          "2016-06-25T00:00:00",
          "2016-06-26T00:00:00",
          "2016-06-27T00:00:00",
          "2016-06-28T00:00:00"
         ],
         "xaxis": "x",
         "y": [
          25451.30949461145,
          25823.441651036766,
          25705.73611599549,
          25791.96087042064,
          25237.068990908756,
          21146.416653053482,
          20996.36329832363,
          25997.862874385322,
          26369.995030812617,
          26252.289495770663,
          26338.514250196404,
          25783.622370681816,
          21692.970032828252,
          21542.91667809883,
          26544.416254155592,
          26916.54841059014,
          26798.842875547703,
          26885.067629969737,
          26330.175750454877,
          22239.523412599632,
          22089.470057873095,
          27090.969633934965,
          27463.10179036563,
          27345.396255323598,
          27431.621009749662,
          26876.729130238098,
          22786.076792384163,
          22636.023437654076,
          27637.52301371434,
          28009.65517014112
         ],
         "yaxis": "y"
        },
        {
         "hovertemplate": "%{x|%Y/%m/%d %a %H:%M:%S.%L} value: %{y}",
         "legendgroup": "",
         "line": {
          "dash": "solid"
         },
         "mode": "lines",
         "name": "",
         "orientation": "v",
         "showlegend": false,
         "type": "scatter",
         "x": [
          "2016-05-30T00:00:00",
          "2016-05-31T00:00:00",
          "2016-06-01T00:00:00",
          "2016-06-02T00:00:00",
          "2016-06-03T00:00:00",
          "2016-06-04T00:00:00",
          "2016-06-05T00:00:00",
          "2016-06-06T00:00:00",
          "2016-06-07T00:00:00",
          "2016-06-08T00:00:00",
          "2016-06-09T00:00:00",
          "2016-06-10T00:00:00",
          "2016-06-11T00:00:00",
          "2016-06-12T00:00:00",
          "2016-06-13T00:00:00",
          "2016-06-14T00:00:00",
          "2016-06-15T00:00:00",
          "2016-06-16T00:00:00",
          "2016-06-17T00:00:00",
          "2016-06-18T00:00:00",
          "2016-06-19T00:00:00",
          "2016-06-20T00:00:00",
          "2016-06-21T00:00:00",
          "2016-06-22T00:00:00",
          "2016-06-23T00:00:00",
          "2016-06-24T00:00:00",
          "2016-06-25T00:00:00",
          "2016-06-26T00:00:00",
          "2016-06-27T00:00:00",
          "2016-06-28T00:00:00"
         ],
         "xaxis": "x",
         "y": [
          20652.986,
          25435.852999999996,
          24547.761,
          24023.714999999997,
          24267.389999999996,
          20646.213,
          20520.094999999998,
          23373.415,
          23913.810000000005,
          24215.738999999994,
          25486.749000000003,
          26178.627,
          22239.952999999998,
          21853.552,
          25972.381,
          25830.717999999997,
          25490.662,
          25763.526,
          25923.490999999998,
          22010.84,
          22312.753999999997,
          25930.029000000002,
          25082.917,
          25684.306000000004,
          25626.449999999997,
          25350.962,
          21711.921000000002,
          21566.085000000003,
          25992.543999999998,
          25383.018000000004
         ],
         "yaxis": "y"
        }
       ],
       "layout": {
        "autosize": true,
        "showlegend": true,
        "template": {
         "data": {
          "bar": [
           {
            "error_x": {
             "color": "#2a3f5f"
            },
            "error_y": {
             "color": "#2a3f5f"
            },
            "marker": {
             "line": {
              "color": "#E5ECF6",
              "width": 0.5
             }
            },
            "type": "bar"
           }
          ],
          "barpolar": [
           {
            "marker": {
             "line": {
              "color": "#E5ECF6",
              "width": 0.5
             }
            },
            "type": "barpolar"
           }
          ],
          "carpet": [
           {
            "aaxis": {
             "endlinecolor": "#2a3f5f",
             "gridcolor": "white",
             "linecolor": "white",
             "minorgridcolor": "white",
             "startlinecolor": "#2a3f5f"
            },
            "baxis": {
             "endlinecolor": "#2a3f5f",
             "gridcolor": "white",
             "linecolor": "white",
             "minorgridcolor": "white",
             "startlinecolor": "#2a3f5f"
            },
            "type": "carpet"
           }
          ],
          "choropleth": [
           {
            "colorbar": {
             "outlinewidth": 0,
             "ticks": ""
            },
            "type": "choropleth"
           }
          ],
          "contour": [
           {
            "colorbar": {
             "outlinewidth": 0,
             "ticks": ""
            },
            "colorscale": [
             [
              0,
              "#0d0887"
             ],
             [
              0.1111111111111111,
              "#46039f"
             ],
             [
              0.2222222222222222,
              "#7201a8"
             ],
             [
              0.3333333333333333,
              "#9c179e"
             ],
             [
              0.4444444444444444,
              "#bd3786"
             ],
             [
              0.5555555555555556,
              "#d8576b"
             ],
             [
              0.6666666666666666,
              "#ed7953"
             ],
             [
              0.7777777777777778,
              "#fb9f3a"
             ],
             [
              0.8888888888888888,
              "#fdca26"
             ],
             [
              1,
              "#f0f921"
             ]
            ],
            "type": "contour"
           }
          ],
          "contourcarpet": [
           {
            "colorbar": {
             "outlinewidth": 0,
             "ticks": ""
            },
            "type": "contourcarpet"
           }
          ],
          "heatmap": [
           {
            "colorbar": {
             "outlinewidth": 0,
             "ticks": ""
            },
            "colorscale": [
             [
              0,
              "#0d0887"
             ],
             [
              0.1111111111111111,
              "#46039f"
             ],
             [
              0.2222222222222222,
              "#7201a8"
             ],
             [
              0.3333333333333333,
              "#9c179e"
             ],
             [
              0.4444444444444444,
              "#bd3786"
             ],
             [
              0.5555555555555556,
              "#d8576b"
             ],
             [
              0.6666666666666666,
              "#ed7953"
             ],
             [
              0.7777777777777778,
              "#fb9f3a"
             ],
             [
              0.8888888888888888,
              "#fdca26"
             ],
             [
              1,
              "#f0f921"
             ]
            ],
            "type": "heatmap"
           }
          ],
          "heatmapgl": [
           {
            "colorbar": {
             "outlinewidth": 0,
             "ticks": ""
            },
            "colorscale": [
             [
              0,
              "#0d0887"
             ],
             [
              0.1111111111111111,
              "#46039f"
             ],
             [
              0.2222222222222222,
              "#7201a8"
             ],
             [
              0.3333333333333333,
              "#9c179e"
             ],
             [
              0.4444444444444444,
              "#bd3786"
             ],
             [
              0.5555555555555556,
              "#d8576b"
             ],
             [
              0.6666666666666666,
              "#ed7953"
             ],
             [
              0.7777777777777778,
              "#fb9f3a"
             ],
             [
              0.8888888888888888,
              "#fdca26"
             ],
             [
              1,
              "#f0f921"
             ]
            ],
            "type": "heatmapgl"
           }
          ],
          "histogram": [
           {
            "marker": {
             "colorbar": {
              "outlinewidth": 0,
              "ticks": ""
             }
            },
            "type": "histogram"
           }
          ],
          "histogram2d": [
           {
            "colorbar": {
             "outlinewidth": 0,
             "ticks": ""
            },
            "colorscale": [
             [
              0,
              "#0d0887"
             ],
             [
              0.1111111111111111,
              "#46039f"
             ],
             [
              0.2222222222222222,
              "#7201a8"
             ],
             [
              0.3333333333333333,
              "#9c179e"
             ],
             [
              0.4444444444444444,
              "#bd3786"
             ],
             [
              0.5555555555555556,
              "#d8576b"
             ],
             [
              0.6666666666666666,
              "#ed7953"
             ],
             [
              0.7777777777777778,
              "#fb9f3a"
             ],
             [
              0.8888888888888888,
              "#fdca26"
             ],
             [
              1,
              "#f0f921"
             ]
            ],
            "type": "histogram2d"
           }
          ],
          "histogram2dcontour": [
           {
            "colorbar": {
             "outlinewidth": 0,
             "ticks": ""
            },
            "colorscale": [
             [
              0,
              "#0d0887"
             ],
             [
              0.1111111111111111,
              "#46039f"
             ],
             [
              0.2222222222222222,
              "#7201a8"
             ],
             [
              0.3333333333333333,
              "#9c179e"
             ],
             [
              0.4444444444444444,
              "#bd3786"
             ],
             [
              0.5555555555555556,
              "#d8576b"
             ],
             [
              0.6666666666666666,
              "#ed7953"
             ],
             [
              0.7777777777777778,
              "#fb9f3a"
             ],
             [
              0.8888888888888888,
              "#fdca26"
             ],
             [
              1,
              "#f0f921"
             ]
            ],
            "type": "histogram2dcontour"
           }
          ],
          "mesh3d": [
           {
            "colorbar": {
             "outlinewidth": 0,
             "ticks": ""
            },
            "type": "mesh3d"
           }
          ],
          "parcoords": [
           {
            "line": {
             "colorbar": {
              "outlinewidth": 0,
              "ticks": ""
             }
            },
            "type": "parcoords"
           }
          ],
          "pie": [
           {
            "automargin": true,
            "type": "pie"
           }
          ],
          "scatter": [
           {
            "marker": {
             "colorbar": {
              "outlinewidth": 0,
              "ticks": ""
             }
            },
            "type": "scatter"
           }
          ],
          "scatter3d": [
           {
            "line": {
             "colorbar": {
              "outlinewidth": 0,
              "ticks": ""
             }
            },
            "marker": {
             "colorbar": {
              "outlinewidth": 0,
              "ticks": ""
             }
            },
            "type": "scatter3d"
           }
          ],
          "scattercarpet": [
           {
            "marker": {
             "colorbar": {
              "outlinewidth": 0,
              "ticks": ""
             }
            },
            "type": "scattercarpet"
           }
          ],
          "scattergeo": [
           {
            "marker": {
             "colorbar": {
              "outlinewidth": 0,
              "ticks": ""
             }
            },
            "type": "scattergeo"
           }
          ],
          "scattergl": [
           {
            "marker": {
             "colorbar": {
              "outlinewidth": 0,
              "ticks": ""
             }
            },
            "type": "scattergl"
           }
          ],
          "scattermapbox": [
           {
            "marker": {
             "colorbar": {
              "outlinewidth": 0,
              "ticks": ""
             }
            },
            "type": "scattermapbox"
           }
          ],
          "scatterpolar": [
           {
            "marker": {
             "colorbar": {
              "outlinewidth": 0,
              "ticks": ""
             }
            },
            "type": "scatterpolar"
           }
          ],
          "scatterpolargl": [
           {
            "marker": {
             "colorbar": {
              "outlinewidth": 0,
              "ticks": ""
             }
            },
            "type": "scatterpolargl"
           }
          ],
          "scatterternary": [
           {
            "marker": {
             "colorbar": {
              "outlinewidth": 0,
              "ticks": ""
             }
            },
            "type": "scatterternary"
           }
          ],
          "surface": [
           {
            "colorbar": {
             "outlinewidth": 0,
             "ticks": ""
            },
            "colorscale": [
             [
              0,
              "#0d0887"
             ],
             [
              0.1111111111111111,
              "#46039f"
             ],
             [
              0.2222222222222222,
              "#7201a8"
             ],
             [
              0.3333333333333333,
              "#9c179e"
             ],
             [
              0.4444444444444444,
              "#bd3786"
             ],
             [
              0.5555555555555556,
              "#d8576b"
             ],
             [
              0.6666666666666666,
              "#ed7953"
             ],
             [
              0.7777777777777778,
              "#fb9f3a"
             ],
             [
              0.8888888888888888,
              "#fdca26"
             ],
             [
              1,
              "#f0f921"
             ]
            ],
            "type": "surface"
           }
          ],
          "table": [
           {
            "cells": {
             "fill": {
              "color": "#EBF0F8"
             },
             "line": {
              "color": "white"
             }
            },
            "header": {
             "fill": {
              "color": "#C8D4E3"
             },
             "line": {
              "color": "white"
             }
            },
            "type": "table"
           }
          ]
         },
         "layout": {
          "annotationdefaults": {
           "arrowcolor": "#2a3f5f",
           "arrowhead": 0,
           "arrowwidth": 1
          },
          "autotypenumbers": "strict",
          "coloraxis": {
           "colorbar": {
            "outlinewidth": 0,
            "ticks": ""
           }
          },
          "colorscale": {
           "diverging": [
            [
             0,
             "#8e0152"
            ],
            [
             0.1,
             "#c51b7d"
            ],
            [
             0.2,
             "#de77ae"
            ],
            [
             0.3,
             "#f1b6da"
            ],
            [
             0.4,
             "#fde0ef"
            ],
            [
             0.5,
             "#f7f7f7"
            ],
            [
             0.6,
             "#e6f5d0"
            ],
            [
             0.7,
             "#b8e186"
            ],
            [
             0.8,
             "#7fbc41"
            ],
            [
             0.9,
             "#4d9221"
            ],
            [
             1,
             "#276419"
            ]
           ],
           "sequential": [
            [
             0,
             "#0d0887"
            ],
            [
             0.1111111111111111,
             "#46039f"
            ],
            [
             0.2222222222222222,
             "#7201a8"
            ],
            [
             0.3333333333333333,
             "#9c179e"
            ],
            [
             0.4444444444444444,
             "#bd3786"
            ],
            [
             0.5555555555555556,
             "#d8576b"
            ],
            [
             0.6666666666666666,
             "#ed7953"
            ],
            [
             0.7777777777777778,
             "#fb9f3a"
            ],
            [
             0.8888888888888888,
             "#fdca26"
            ],
            [
             1,
             "#f0f921"
            ]
           ],
           "sequentialminus": [
            [
             0,
             "#0d0887"
            ],
            [
             0.1111111111111111,
             "#46039f"
            ],
            [
             0.2222222222222222,
             "#7201a8"
            ],
            [
             0.3333333333333333,
             "#9c179e"
            ],
            [
             0.4444444444444444,
             "#bd3786"
            ],
            [
             0.5555555555555556,
             "#d8576b"
            ],
            [
             0.6666666666666666,
             "#ed7953"
            ],
            [
             0.7777777777777778,
             "#fb9f3a"
            ],
            [
             0.8888888888888888,
             "#fdca26"
            ],
            [
             1,
             "#f0f921"
            ]
           ]
          },
          "colorway": [
           "#636efa",
           "#EF553B",
           "#00cc96",
           "#ab63fa",
           "#FFA15A",
           "#19d3f3",
           "#FF6692",
           "#B6E880",
           "#FF97FF",
           "#FECB52"
          ],
          "font": {
           "color": "#2a3f5f"
          },
          "geo": {
           "bgcolor": "white",
           "lakecolor": "white",
           "landcolor": "#E5ECF6",
           "showlakes": true,
           "showland": true,
           "subunitcolor": "white"
          },
          "hoverlabel": {
           "align": "left"
          },
          "hovermode": "closest",
          "mapbox": {
           "style": "light"
          },
          "paper_bgcolor": "white",
          "plot_bgcolor": "#E5ECF6",
          "polar": {
           "angularaxis": {
            "gridcolor": "white",
            "linecolor": "white",
            "ticks": ""
           },
           "bgcolor": "#E5ECF6",
           "radialaxis": {
            "gridcolor": "white",
            "linecolor": "white",
            "ticks": ""
           }
          },
          "scene": {
           "xaxis": {
            "backgroundcolor": "#E5ECF6",
            "gridcolor": "white",
            "gridwidth": 2,
            "linecolor": "white",
            "showbackground": true,
            "ticks": "",
            "zerolinecolor": "white"
           },
           "yaxis": {
            "backgroundcolor": "#E5ECF6",
            "gridcolor": "white",
            "gridwidth": 2,
            "linecolor": "white",
            "showbackground": true,
            "ticks": "",
            "zerolinecolor": "white"
           },
           "zaxis": {
            "backgroundcolor": "#E5ECF6",
            "gridcolor": "white",
            "gridwidth": 2,
            "linecolor": "white",
            "showbackground": true,
            "ticks": "",
            "zerolinecolor": "white"
           }
          },
          "shapedefaults": {
           "line": {
            "color": "#2a3f5f"
           }
          },
          "ternary": {
           "aaxis": {
            "gridcolor": "white",
            "linecolor": "white",
            "ticks": ""
           },
           "baxis": {
            "gridcolor": "white",
            "linecolor": "white",
            "ticks": ""
           },
           "bgcolor": "#E5ECF6",
           "caxis": {
            "gridcolor": "white",
            "linecolor": "white",
            "ticks": ""
           }
          },
          "title": {
           "x": 0.05
          },
          "xaxis": {
           "automargin": true,
           "gridcolor": "white",
           "linecolor": "white",
           "ticks": "",
           "title": {
            "standoff": 15
           },
           "zerolinecolor": "white",
           "zerolinewidth": 2
          },
          "yaxis": {
           "automargin": true,
           "gridcolor": "white",
           "linecolor": "white",
           "ticks": "",
           "title": {
            "standoff": 15
           },
           "zerolinecolor": "white",
           "zerolinewidth": 2
          }
         }
        },
        "title": {
         "text": "Bldg: 1148 Meter: 0"
        },
        "xaxis": {
         "anchor": "y",
         "autorange": true,
         "domain": [
          0,
          0.94
         ],
         "dtick": "M1",
         "range": [
          "2016-05-30",
          "2016-06-28"
         ],
         "rangeslider": {
          "autorange": true,
          "range": [
           "2016-05-30",
           "2016-06-28"
          ],
          "visible": true,
          "yaxis": {
           "_template": null,
           "rangemode": "match"
          }
         },
         "tickformat": "%b\n%Y",
         "title": {
          "text": "Time"
         },
         "type": "date"
        },
        "yaxis": {
         "anchor": "x",
         "autorange": true,
         "color": "blue",
         "domain": [
          0,
          1
         ],
         "range": [
          20104.008323881048,
          28425.74184626007
         ],
         "title": {
          "text": "Meter Reading"
         },
         "type": "linear"
        },
        "yaxis2": {
         "anchor": "x",
         "overlaying": "y",
         "side": "right"
        }
       }
      },
      "image/png": "[encoded data removed]",
      "text/html": [
       "<div>                            <div id=\"c468cd77-63e0-4321-bbf1-157d42b72ab4\" class=\"plotly-graph-div\" style=\"height:525px; width:100%;\"></div>            <script type=\"text/javascript\">                require([\"plotly\"], function(Plotly) {                    window.PLOTLYENV=window.PLOTLYENV || {};                                    if (document.getElementById(\"c468cd77-63e0-4321-bbf1-157d42b72ab4\")) {                    Plotly.newPlot(                        \"c468cd77-63e0-4321-bbf1-157d42b72ab4\",                        [{\"hovertemplate\": \"%{x|%Y/%m/%d %a %H:%M:%S.%L} value: %{y}\", \"legendgroup\": \"\", \"line\": {\"dash\": \"solid\"}, \"mode\": \"lines\", \"name\": \"\", \"orientation\": \"v\", \"showlegend\": false, \"type\": \"scatter\", \"x\": [\"2016-05-30T00:00:00\", \"2016-05-31T00:00:00\", \"2016-06-01T00:00:00\", \"2016-06-02T00:00:00\", \"2016-06-03T00:00:00\", \"2016-06-04T00:00:00\", \"2016-06-05T00:00:00\", \"2016-06-06T00:00:00\", \"2016-06-07T00:00:00\", \"2016-06-08T00:00:00\", \"2016-06-09T00:00:00\", \"2016-06-10T00:00:00\", \"2016-06-11T00:00:00\", \"2016-06-12T00:00:00\", \"2016-06-13T00:00:00\", \"2016-06-14T00:00:00\", \"2016-06-15T00:00:00\", \"2016-06-16T00:00:00\", \"2016-06-17T00:00:00\", \"2016-06-18T00:00:00\", \"2016-06-19T00:00:00\", \"2016-06-20T00:00:00\", \"2016-06-21T00:00:00\", \"2016-06-22T00:00:00\", \"2016-06-23T00:00:00\", \"2016-06-24T00:00:00\", \"2016-06-25T00:00:00\", \"2016-06-26T00:00:00\", \"2016-06-27T00:00:00\", \"2016-06-28T00:00:00\"], \"xaxis\": \"x\", \"y\": [25451.30949461145, 25823.441651036766, 25705.73611599549, 25791.96087042064, 25237.068990908756, 21146.416653053482, 20996.36329832363, 25997.862874385322, 26369.995030812617, 26252.289495770663, 26338.514250196404, 25783.622370681816, 21692.970032828252, 21542.91667809883, 26544.416254155592, 26916.54841059014, 26798.842875547703, 26885.067629969737, 26330.175750454877, 22239.523412599632, 22089.470057873095, 27090.969633934965, 27463.10179036563, 27345.396255323598, 27431.621009749662, 26876.729130238098, 22786.076792384163, 22636.023437654076, 27637.52301371434, 28009.65517014112], \"yaxis\": \"y\"}, {\"hovertemplate\": \"%{x|%Y/%m/%d %a %H:%M:%S.%L} value: %{y}\", \"legendgroup\": \"\", \"line\": {\"dash\": \"solid\"}, \"mode\": \"lines\", \"name\": \"\", \"orientation\": \"v\", \"showlegend\": false, \"type\": \"scatter\", \"x\": [\"2016-05-30T00:00:00\", \"2016-05-31T00:00:00\", \"2016-06-01T00:00:00\", \"2016-06-02T00:00:00\", \"2016-06-03T00:00:00\", \"2016-06-04T00:00:00\", \"2016-06-05T00:00:00\", \"2016-06-06T00:00:00\", \"2016-06-07T00:00:00\", \"2016-06-08T00:00:00\", \"2016-06-09T00:00:00\", \"2016-06-10T00:00:00\", \"2016-06-11T00:00:00\", \"2016-06-12T00:00:00\", \"2016-06-13T00:00:00\", \"2016-06-14T00:00:00\", \"2016-06-15T00:00:00\", \"2016-06-16T00:00:00\", \"2016-06-17T00:00:00\", \"2016-06-18T00:00:00\", \"2016-06-19T00:00:00\", \"2016-06-20T00:00:00\", \"2016-06-21T00:00:00\", \"2016-06-22T00:00:00\", \"2016-06-23T00:00:00\", \"2016-06-24T00:00:00\", \"2016-06-25T00:00:00\", \"2016-06-26T00:00:00\", \"2016-06-27T00:00:00\", \"2016-06-28T00:00:00\"], \"xaxis\": \"x\", \"y\": [20652.986, 25435.852999999996, 24547.761, 24023.714999999997, 24267.389999999996, 20646.213, 20520.094999999998, 23373.415, 23913.810000000005, 24215.738999999994, 25486.749000000003, 26178.627, 22239.952999999998, 21853.552, 25972.381, 25830.717999999997, 25490.662, 25763.526, 25923.490999999998, 22010.84, 22312.753999999997, 25930.029000000002, 25082.917, 25684.306000000004, 25626.449999999997, 25350.962, 21711.921000000002, 21566.085000000003, 25992.543999999998, 25383.018000000004], \"yaxis\": \"y\"}],                        {\"showlegend\": true, \"template\": {\"data\": {\"bar\": [{\"error_x\": {\"color\": \"#2a3f5f\"}, \"error_y\": {\"color\": \"#2a3f5f\"}, \"marker\": {\"line\": {\"color\": \"#E5ECF6\", \"width\": 0.5}}, \"type\": \"bar\"}], \"barpolar\": [{\"marker\": {\"line\": {\"color\": \"#E5ECF6\", \"width\": 0.5}}, \"type\": \"barpolar\"}], \"carpet\": [{\"aaxis\": {\"endlinecolor\": \"#2a3f5f\", \"gridcolor\": \"white\", \"linecolor\": \"white\", \"minorgridcolor\": \"white\", \"startlinecolor\": \"#2a3f5f\"}, \"baxis\": {\"endlinecolor\": \"#2a3f5f\", \"gridcolor\": \"white\", \"linecolor\": \"white\", \"minorgridcolor\": \"white\", \"startlinecolor\": \"#2a3f5f\"}, \"type\": \"carpet\"}], \"choropleth\": [{\"colorbar\": {\"outlinewidth\": 0, \"ticks\": \"\"}, \"type\": \"choropleth\"}], \"contour\": [{\"colorbar\": {\"outlinewidth\": 0, \"ticks\": \"\"}, \"colorscale\": [[0.0, \"#0d0887\"], [0.1111111111111111, \"#46039f\"], [0.2222222222222222, \"#7201a8\"], [0.3333333333333333, \"#9c179e\"], [0.4444444444444444, \"#bd3786\"], [0.5555555555555556, \"#d8576b\"], [0.6666666666666666, \"#ed7953\"], [0.7777777777777778, \"#fb9f3a\"], [0.8888888888888888, \"#fdca26\"], [1.0, \"#f0f921\"]], \"type\": \"contour\"}], \"contourcarpet\": [{\"colorbar\": {\"outlinewidth\": 0, \"ticks\": \"\"}, \"type\": \"contourcarpet\"}], \"heatmap\": [{\"colorbar\": {\"outlinewidth\": 0, \"ticks\": \"\"}, \"colorscale\": [[0.0, \"#0d0887\"], [0.1111111111111111, \"#46039f\"], [0.2222222222222222, \"#7201a8\"], [0.3333333333333333, \"#9c179e\"], [0.4444444444444444, \"#bd3786\"], [0.5555555555555556, \"#d8576b\"], [0.6666666666666666, \"#ed7953\"], [0.7777777777777778, \"#fb9f3a\"], [0.8888888888888888, \"#fdca26\"], [1.0, \"#f0f921\"]], \"type\": \"heatmap\"}], \"heatmapgl\": [{\"colorbar\": {\"outlinewidth\": 0, \"ticks\": \"\"}, \"colorscale\": [[0.0, \"#0d0887\"], [0.1111111111111111, \"#46039f\"], [0.2222222222222222, \"#7201a8\"], [0.3333333333333333, \"#9c179e\"], [0.4444444444444444, \"#bd3786\"], [0.5555555555555556, \"#d8576b\"], [0.6666666666666666, \"#ed7953\"], [0.7777777777777778, \"#fb9f3a\"], [0.8888888888888888, \"#fdca26\"], [1.0, \"#f0f921\"]], \"type\": \"heatmapgl\"}], \"histogram\": [{\"marker\": {\"colorbar\": {\"outlinewidth\": 0, \"ticks\": \"\"}}, \"type\": \"histogram\"}], \"histogram2d\": [{\"colorbar\": {\"outlinewidth\": 0, \"ticks\": \"\"}, \"colorscale\": [[0.0, \"#0d0887\"], [0.1111111111111111, \"#46039f\"], [0.2222222222222222, \"#7201a8\"], [0.3333333333333333, \"#9c179e\"], [0.4444444444444444, \"#bd3786\"], [0.5555555555555556, \"#d8576b\"], [0.6666666666666666, \"#ed7953\"], [0.7777777777777778, \"#fb9f3a\"], [0.8888888888888888, \"#fdca26\"], [1.0, \"#f0f921\"]], \"type\": \"histogram2d\"}], \"histogram2dcontour\": [{\"colorbar\": {\"outlinewidth\": 0, \"ticks\": \"\"}, \"colorscale\": [[0.0, \"#0d0887\"], [0.1111111111111111, \"#46039f\"], [0.2222222222222222, \"#7201a8\"], [0.3333333333333333, \"#9c179e\"], [0.4444444444444444, \"#bd3786\"], [0.5555555555555556, \"#d8576b\"], [0.6666666666666666, \"#ed7953\"], [0.7777777777777778, \"#fb9f3a\"], [0.8888888888888888, \"#fdca26\"], [1.0, \"#f0f921\"]], \"type\": \"histogram2dcontour\"}], \"mesh3d\": [{\"colorbar\": {\"outlinewidth\": 0, \"ticks\": \"\"}, \"type\": \"mesh3d\"}], \"parcoords\": [{\"line\": {\"colorbar\": {\"outlinewidth\": 0, \"ticks\": \"\"}}, \"type\": \"parcoords\"}], \"pie\": [{\"automargin\": true, \"type\": \"pie\"}], \"scatter\": [{\"marker\": {\"colorbar\": {\"outlinewidth\": 0, \"ticks\": \"\"}}, \"type\": \"scatter\"}], \"scatter3d\": [{\"line\": {\"colorbar\": {\"outlinewidth\": 0, \"ticks\": \"\"}}, \"marker\": {\"colorbar\": {\"outlinewidth\": 0, \"ticks\": \"\"}}, \"type\": \"scatter3d\"}], \"scattercarpet\": [{\"marker\": {\"colorbar\": {\"outlinewidth\": 0, \"ticks\": \"\"}}, \"type\": \"scattercarpet\"}], \"scattergeo\": [{\"marker\": {\"colorbar\": {\"outlinewidth\": 0, \"ticks\": \"\"}}, \"type\": \"scattergeo\"}], \"scattergl\": [{\"marker\": {\"colorbar\": {\"outlinewidth\": 0, \"ticks\": \"\"}}, \"type\": \"scattergl\"}], \"scattermapbox\": [{\"marker\": {\"colorbar\": {\"outlinewidth\": 0, \"ticks\": \"\"}}, \"type\": \"scattermapbox\"}], \"scatterpolar\": [{\"marker\": {\"colorbar\": {\"outlinewidth\": 0, \"ticks\": \"\"}}, \"type\": \"scatterpolar\"}], \"scatterpolargl\": [{\"marker\": {\"colorbar\": {\"outlinewidth\": 0, \"ticks\": \"\"}}, \"type\": \"scatterpolargl\"}], \"scatterternary\": [{\"marker\": {\"colorbar\": {\"outlinewidth\": 0, \"ticks\": \"\"}}, \"type\": \"scatterternary\"}], \"surface\": [{\"colorbar\": {\"outlinewidth\": 0, \"ticks\": \"\"}, \"colorscale\": [[0.0, \"#0d0887\"], [0.1111111111111111, \"#46039f\"], [0.2222222222222222, \"#7201a8\"], [0.3333333333333333, \"#9c179e\"], [0.4444444444444444, \"#bd3786\"], [0.5555555555555556, \"#d8576b\"], [0.6666666666666666, \"#ed7953\"], [0.7777777777777778, \"#fb9f3a\"], [0.8888888888888888, \"#fdca26\"], [1.0, \"#f0f921\"]], \"type\": \"surface\"}], \"table\": [{\"cells\": {\"fill\": {\"color\": \"#EBF0F8\"}, \"line\": {\"color\": \"white\"}}, \"header\": {\"fill\": {\"color\": \"#C8D4E3\"}, \"line\": {\"color\": \"white\"}}, \"type\": \"table\"}]}, \"layout\": {\"annotationdefaults\": {\"arrowcolor\": \"#2a3f5f\", \"arrowhead\": 0, \"arrowwidth\": 1}, \"autotypenumbers\": \"strict\", \"coloraxis\": {\"colorbar\": {\"outlinewidth\": 0, \"ticks\": \"\"}}, \"colorscale\": {\"diverging\": [[0, \"#8e0152\"], [0.1, \"#c51b7d\"], [0.2, \"#de77ae\"], [0.3, \"#f1b6da\"], [0.4, \"#fde0ef\"], [0.5, \"#f7f7f7\"], [0.6, \"#e6f5d0\"], [0.7, \"#b8e186\"], [0.8, \"#7fbc41\"], [0.9, \"#4d9221\"], [1, \"#276419\"]], \"sequential\": [[0.0, \"#0d0887\"], [0.1111111111111111, \"#46039f\"], [0.2222222222222222, \"#7201a8\"], [0.3333333333333333, \"#9c179e\"], [0.4444444444444444, \"#bd3786\"], [0.5555555555555556, \"#d8576b\"], [0.6666666666666666, \"#ed7953\"], [0.7777777777777778, \"#fb9f3a\"], [0.8888888888888888, \"#fdca26\"], [1.0, \"#f0f921\"]], \"sequentialminus\": [[0.0, \"#0d0887\"], [0.1111111111111111, \"#46039f\"], [0.2222222222222222, \"#7201a8\"], [0.3333333333333333, \"#9c179e\"], [0.4444444444444444, \"#bd3786\"], [0.5555555555555556, \"#d8576b\"], [0.6666666666666666, \"#ed7953\"], [0.7777777777777778, \"#fb9f3a\"], [0.8888888888888888, \"#fdca26\"], [1.0, \"#f0f921\"]]}, \"colorway\": [\"#636efa\", \"#EF553B\", \"#00cc96\", \"#ab63fa\", \"#FFA15A\", \"#19d3f3\", \"#FF6692\", \"#B6E880\", \"#FF97FF\", \"#FECB52\"], \"font\": {\"color\": \"#2a3f5f\"}, \"geo\": {\"bgcolor\": \"white\", \"lakecolor\": \"white\", \"landcolor\": \"#E5ECF6\", \"showlakes\": true, \"showland\": true, \"subunitcolor\": \"white\"}, \"hoverlabel\": {\"align\": \"left\"}, \"hovermode\": \"closest\", \"mapbox\": {\"style\": \"light\"}, \"paper_bgcolor\": \"white\", \"plot_bgcolor\": \"#E5ECF6\", \"polar\": {\"angularaxis\": {\"gridcolor\": \"white\", \"linecolor\": \"white\", \"ticks\": \"\"}, \"bgcolor\": \"#E5ECF6\", \"radialaxis\": {\"gridcolor\": \"white\", \"linecolor\": \"white\", \"ticks\": \"\"}}, \"scene\": {\"xaxis\": {\"backgroundcolor\": \"#E5ECF6\", \"gridcolor\": \"white\", \"gridwidth\": 2, \"linecolor\": \"white\", \"showbackground\": true, \"ticks\": \"\", \"zerolinecolor\": \"white\"}, \"yaxis\": {\"backgroundcolor\": \"#E5ECF6\", \"gridcolor\": \"white\", \"gridwidth\": 2, \"linecolor\": \"white\", \"showbackground\": true, \"ticks\": \"\", \"zerolinecolor\": \"white\"}, \"zaxis\": {\"backgroundcolor\": \"#E5ECF6\", \"gridcolor\": \"white\", \"gridwidth\": 2, \"linecolor\": \"white\", \"showbackground\": true, \"ticks\": \"\", \"zerolinecolor\": \"white\"}}, \"shapedefaults\": {\"line\": {\"color\": \"#2a3f5f\"}}, \"ternary\": {\"aaxis\": {\"gridcolor\": \"white\", \"linecolor\": \"white\", \"ticks\": \"\"}, \"baxis\": {\"gridcolor\": \"white\", \"linecolor\": \"white\", \"ticks\": \"\"}, \"bgcolor\": \"#E5ECF6\", \"caxis\": {\"gridcolor\": \"white\", \"linecolor\": \"white\", \"ticks\": \"\"}}, \"title\": {\"x\": 0.05}, \"xaxis\": {\"automargin\": true, \"gridcolor\": \"white\", \"linecolor\": \"white\", \"ticks\": \"\", \"title\": {\"standoff\": 15}, \"zerolinecolor\": \"white\", \"zerolinewidth\": 2}, \"yaxis\": {\"automargin\": true, \"gridcolor\": \"white\", \"linecolor\": \"white\", \"ticks\": \"\", \"title\": {\"standoff\": 15}, \"zerolinecolor\": \"white\", \"zerolinewidth\": 2}}}, \"title\": {\"text\": \"Bldg: 1148 Meter: 0\"}, \"xaxis\": {\"anchor\": \"y\", \"domain\": [0.0, 0.94], \"dtick\": \"M1\", \"rangeslider\": {\"visible\": true}, \"tickformat\": \"%b\\n%Y\", \"title\": {\"text\": \"Time\"}}, \"yaxis\": {\"anchor\": \"x\", \"color\": \"blue\", \"domain\": [0.0, 1.0], \"title\": {\"text\": \"Meter Reading\"}}, \"yaxis2\": {\"anchor\": \"x\", \"overlaying\": \"y\", \"side\": \"right\"}},                        {\"responsive\": true}                    ).then(function(){\n",
       "                            \n",
       "var gd = document.getElementById('c468cd77-63e0-4321-bbf1-157d42b72ab4');\n",
       "var x = new MutationObserver(function (mutations, observer) {{\n",
       "        var display = window.getComputedStyle(gd).display;\n",
       "        if (!display || display === 'none') {{\n",
       "            console.log([gd, 'removed!']);\n",
       "            Plotly.purge(gd);\n",
       "            observer.disconnect();\n",
       "        }}\n",
       "}});\n",
       "\n",
       "// Listen for the removal of the full notebook cells\n",
       "var notebookContainer = gd.closest('#notebook-container');\n",
       "if (notebookContainer) {{\n",
       "    x.observe(notebookContainer, {childList: true});\n",
       "}}\n",
       "\n",
       "// Listen for the clearing of the current output cell\n",
       "var outputEl = gd.closest('.output');\n",
       "if (outputEl) {{\n",
       "    x.observe(outputEl, {childList: true});\n",
       "}}\n",
       "\n",
       "                        })                };                });            </script>        </div>"
      ]
     },
     "metadata": {},
     "output_type": "display_data"
    },
    {
     "name": "stdout",
     "output_type": "stream",
     "text": [
      "MSE: 1626.9604657932443\n"
     ]
    }
   ],
   "source": [
    "# Holes in the data\n",
    "# Data is daily\n",
    "offsets = [0,30,60] # offsets in days\n",
    "data_sizes = [120]\n",
    "test_sizes = [int(x * 0.25) for x in data_sizes]\n",
    "\n",
    "resample = True\n",
    "\n",
    "# For each of the file matches (did this way to prevent long run times)\n",
    "for num,file in enumerate(files):\n",
    "    print('-----------------------------------------------------------------------------')\n",
    " \n",
    "    df_train = pd.read_pickle(file) # Show how many days \n",
    "    \n",
    "    bldg_size = df_train.iloc[0]['square_feet']\n",
    "    bldg_number = df_train.iloc[0]['building_id']\n",
    "    bldg_meter = df_train.iloc[0]['meter']\n",
    "\n",
    "    title = df_stats[(df_stats['building'] == bldg_number) & (df_stats['meter'] == bldg_meter)][['building',\n",
    "                                                                                                 'meter',\n",
    "                                                                                                 'per_data',\n",
    "                                                                                                'category',\n",
    "                                                                                                'square_feet',\n",
    "                                                                                       'corr_meter_to_airtemp']]\n",
    "    print(title)\n",
    " \n",
    "    if resample:\n",
    "    #     # Map of how we aggregate new data when it is resampled\n",
    "        agg_dict={'meter_reading':'sum', \n",
    "                  'air_temperature':'max',\n",
    "                  'dew_temperature':'max',\n",
    "                  'cloud_coverage':'mean',\n",
    "                  'dew_temperature':'max',\n",
    "                  'precip_depth_1_hr':'sum',\n",
    "                  'sea_level_pressure':'mean',\n",
    "                  'building_id': 'max',\n",
    "                  'site_id': 'max'\n",
    "                  }\n",
    "\n",
    "        resamp = '1D'\n",
    "\n",
    "        df_train = df_train.resample(resamp).agg(agg_dict)\n",
    "\n",
    "    # Curently for 4 periods\n",
    "    for ds, ts in zip(data_sizes,test_sizes):     \n",
    "        for off in offsets:\n",
    "            print('Data Size: ', ds)\n",
    "            print('Train Size: ', ts)\n",
    "            print('Offset: ', off)\n",
    "\n",
    "            train, test = model_selection.train_test_split(df_train.iloc[off:off+ds], test_size=ts)\n",
    "            df_slice = df_train.iloc[off:off+ds]\n",
    "            \n",
    "            print(\"\\n\" * 1)\n",
    "            print('DATA')\n",
    "            print('Date Start: ')\n",
    "            print(df_slice.iloc[0].name)\n",
    "            print('Date End: ')\n",
    "            print(df_slice.iloc[-1].name)\n",
    "            \n",
    "            print(\"\\n\" * 1)\n",
    "            print('TRAIN')\n",
    "            print('Date Start: ')\n",
    "            print(train.iloc[0].name)\n",
    "            print('Date End: ')\n",
    "            print(train.iloc[-1].name)\n",
    "            \n",
    "            print(\"\\n\" * 1)\n",
    "            print('TEST')\n",
    "            print('Date Start: ')\n",
    "            print(test.iloc[0].name)\n",
    "            print('Date End: ')\n",
    "            print(test.iloc[-1].name)\n",
    "            \n",
    "            \n",
    "            ######################################    PROPHET   ##################################################\n",
    "\n",
    "            m = Prophet()\n",
    "            df_prophet_train = train.reset_index()\n",
    "\n",
    "            df_prophet_train = df_prophet_train[['timestamp','meter_reading']]\n",
    "            df_prophet_train = df_prophet_train.rename(columns={'timestamp':'ds','meter_reading':'y'})\n",
    "\n",
    "            test2 = test\n",
    "            df_prophet_test = test.reset_index()\n",
    "            df_prophet_test = df_prophet_test[['timestamp','meter_reading']]\n",
    "            df_prophet_test = df_prophet_test.rename(columns={'timestamp':'ds','meter_reading':'y'})\n",
    "\n",
    "            df_prophet_predict = test.reset_index()\n",
    "            df_prophet_predict = df_prophet_predict[['timestamp']]\n",
    "            df_prophet_predict = df_prophet_predict.rename(columns={'timestamp':'ds'})\n",
    "\n",
    "            \n",
    "            m.fit(df_prophet_train)\n",
    "            \n",
    "            predicts = m.predict(df_prophet_test)\n",
    "            print(predicts)\n",
    "\n",
    "             ######################################   VISUALIZE #################################################\n",
    "            subfig = make_subplots(specs=[[{\"secondary_y\": True}]])\n",
    "            \n",
    "            fig = px.line(predicts, x='ds', y='yhat', \n",
    "                           title='Bldg: ' + str(bldg_number) + ' ' + 'Meter: ' + str(bldg_meter))\n",
    "            \n",
    "            fig2 = px.line(test2, x=test2.index, y='meter_reading', \n",
    "                           title='Bldg: ' + str(bldg_number) + ' ' + 'Meter: ' + str(bldg_meter))\n",
    "\n",
    "            fig2.update_traces(yaxis=\"y1\")\n",
    "\n",
    "            subfig.add_traces(fig.data + fig2.data)\n",
    "            subfig.layout.title='Bldg: ' + str(bldg_number) + ' ' + 'Meter: ' + str(bldg_meter)\n",
    "            subfig.layout.xaxis.title=\"Time\"\n",
    "            subfig.layout.yaxis.title=\"Meter Reading\"\n",
    "            subfig.layout.yaxis.color=\"blue\"\n",
    "\n",
    "            subfig.update_xaxes(dtick=\"M1\", tickformat=\"%b\\n%Y\")\n",
    "\n",
    "            subfig.for_each_trace(lambda t: t.update(line=dict(color=t.marker.color)))\n",
    "            subfig.update_xaxes(rangeslider_visible=True)\n",
    "            \n",
    "\n",
    "            # Hover text for exploration\n",
    "            subfig.update_traces(mode='lines',hovertemplate=\"%{x|%Y/%m/%d %a %H:%M:%S.%L} value: %{y}\")\n",
    "            subfig.update_layout(showlegend=True)\n",
    "            subfig.write_image('.//visualization//' + str(bldg_number) + '_' + str(bldg_meter) + 'Prophet.jpg')\n",
    "\n",
    "            subfig.show()\n",
    "            \n",
    "            error = ((sqrt(mean_squared_error(predicts['yhat'],test2['meter_reading']))))\n",
    "            print('MSE: ' + str(error))\n",
    "    "
   ]
  },
  {
   "cell_type": "markdown",
   "id": "developmental-chicago",
   "metadata": {},
   "source": [
    "# 3 - Build Model - XGBoost"
   ]
  },
  {
   "cell_type": "code",
   "execution_count": 81,
   "id": "qualified-indonesia",
   "metadata": {},
   "outputs": [
    {
     "name": "stdout",
     "output_type": "stream",
     "text": [
      "-----------------------------------------------------------------------------\n",
      "     building  meter  per_data category  square_feet  corr_meter_to_airtemp\n",
      "193      1148      0    100.00   Office       861524                  -0.02\n",
      "Data Size:  120\n",
      "Train Size:  30\n",
      "Offset:  0\n",
      "\n",
      "\n",
      "DATA\n",
      "Date Start: \n",
      "2016-01-01 00:00:00\n",
      "Date End: \n",
      "2016-04-29 00:00:00\n",
      "\n",
      "\n",
      "TRAIN\n",
      "Date Start: \n",
      "2016-01-01 00:00:00\n",
      "Date End: \n",
      "2016-03-30 00:00:00\n",
      "\n",
      "\n",
      "TEST\n",
      "Date Start: \n",
      "2016-03-31 00:00:00\n",
      "Date End: \n",
      "2016-04-29 00:00:00\n",
      "0    -1.10\n",
      "1    -0.60\n",
      "2    -2.20\n",
      "3    -2.80\n",
      "4     0.00\n",
      "      ... \n",
      "85   10.00\n",
      "86    7.80\n",
      "87   14.40\n",
      "88   16.70\n",
      "89   13.90\n",
      "Name: air_temperature, Length: 90, dtype: float64\n",
      "Data Size:  120\n",
      "Train Size:  30\n",
      "Offset:  30\n",
      "\n",
      "\n",
      "DATA\n",
      "Date Start: \n",
      "2016-01-31 00:00:00\n",
      "Date End: \n",
      "2016-05-29 00:00:00\n",
      "\n",
      "\n",
      "TRAIN\n",
      "Date Start: \n",
      "2016-01-31 00:00:00\n",
      "Date End: \n",
      "2016-04-29 00:00:00\n",
      "\n",
      "\n",
      "TEST\n",
      "Date Start: \n",
      "2016-04-30 00:00:00\n",
      "Date End: \n",
      "2016-05-29 00:00:00\n",
      "0     5.00\n",
      "1     2.80\n",
      "2    -1.10\n",
      "3    -2.20\n",
      "4    -3.30\n",
      "      ... \n",
      "85   13.90\n",
      "86   10.00\n",
      "87   11.10\n",
      "88    7.20\n",
      "89   15.60\n",
      "Name: air_temperature, Length: 90, dtype: float64\n",
      "Data Size:  120\n",
      "Train Size:  30\n",
      "Offset:  60\n",
      "\n",
      "\n",
      "DATA\n",
      "Date Start: \n",
      "2016-03-01 00:00:00\n",
      "Date End: \n",
      "2016-06-28 00:00:00\n",
      "\n",
      "\n",
      "TRAIN\n",
      "Date Start: \n",
      "2016-03-01 00:00:00\n",
      "Date End: \n",
      "2016-05-29 00:00:00\n",
      "\n",
      "\n",
      "TEST\n",
      "Date Start: \n",
      "2016-05-30 00:00:00\n",
      "Date End: \n",
      "2016-06-28 00:00:00\n",
      "0    -3.30\n",
      "1    -1.10\n",
      "2     1.10\n",
      "3     1.10\n",
      "4     3.90\n",
      "      ... \n",
      "85   27.20\n",
      "86   26.70\n",
      "87   26.10\n",
      "88   19.40\n",
      "89   25.60\n",
      "Name: air_temperature, Length: 90, dtype: float64\n"
     ]
    }
   ],
   "source": [
    "# Holes in the data\n",
    "# Data is daily\n",
    "offsets = [0,30,60] # offsets in days\n",
    "data_sizes = [120]\n",
    "test_sizes = [int(x * 0.25) for x in data_sizes]\n",
    "\n",
    "resample = True\n",
    "\n",
    "# For each of the file matches (did this way to prevent long run times)\n",
    "for num,file in enumerate(files):\n",
    "    print('-----------------------------------------------------------------------------')\n",
    " \n",
    "    df_train = pd.read_pickle(file) # Show how many days \n",
    "    \n",
    "    bldg_size = df_train.iloc[0]['square_feet']\n",
    "    bldg_number = df_train.iloc[0]['building_id']\n",
    "    bldg_meter = df_train.iloc[0]['meter']\n",
    "\n",
    "    title = df_stats[(df_stats['building'] == bldg_number) & (df_stats['meter'] == bldg_meter)][['building',\n",
    "                                                                                                 'meter',\n",
    "                                                                                                 'per_data',\n",
    "                                                                                                'category',\n",
    "                                                                                                'square_feet',\n",
    "                                                                                       'corr_meter_to_airtemp']]\n",
    "    print(title)\n",
    " \n",
    "    if resample:\n",
    "    #     # Map of how we aggregate new data when it is resampled\n",
    "        agg_dict={'meter_reading':'sum', \n",
    "                  'air_temperature':'max',\n",
    "                  'dew_temperature':'max',\n",
    "                  'cloud_coverage':'mean',\n",
    "                  'dew_temperature':'max',\n",
    "                  'precip_depth_1_hr':'sum',\n",
    "                  'sea_level_pressure':'mean',\n",
    "                  'building_id': 'max',\n",
    "                  'site_id': 'max'\n",
    "                  }\n",
    "\n",
    "        resamp = '1D'\n",
    "\n",
    "        df_train = df_train.resample(resamp).agg(agg_dict)\n",
    "\n",
    "    # Curently for 4 periods\n",
    "    for ds, ts in zip(data_sizes,test_sizes):     \n",
    "        for off in offsets:\n",
    "            print('Data Size: ', ds)\n",
    "            print('Train Size: ', ts)\n",
    "            print('Offset: ', off)\n",
    "\n",
    "            train, test = model_selection.train_test_split(df_train.iloc[off:off+ds], test_size=ts)\n",
    "            df_slice = df_train.iloc[off:off+ds]\n",
    "            \n",
    "            print(\"\\n\" * 1)\n",
    "            print('DATA')\n",
    "            print('Date Start: ')\n",
    "            print(df_slice.iloc[0].name)\n",
    "            print('Date End: ')\n",
    "            print(df_slice.iloc[-1].name)\n",
    "            \n",
    "            print(\"\\n\" * 1)\n",
    "            print('TRAIN')\n",
    "            print('Date Start: ')\n",
    "            print(train.iloc[0].name)\n",
    "            print('Date End: ')\n",
    "            print(train.iloc[-1].name)\n",
    "            \n",
    "            print(\"\\n\" * 1)\n",
    "            print('TEST')\n",
    "            print('Date Start: ')\n",
    "            print(test.iloc[0].name)\n",
    "            print('Date End: ')\n",
    "            print(test.iloc[-1].name)\n",
    "            \n",
    "            # Train is a dataframe\n",
    "            \n",
    "             ######################################    XGBOOST   ##################################################\n",
    "             \n",
    "            # Instantiate Model\n",
    "            gbm = xgb.XGBRegressor(objective = 'reg:linear', n_estimators = 10, seed = 123)\n",
    "            \n",
    "            train_X = train['air_temperature'].reset_index(drop=True)\n",
    "            train_y = train['meter_reading'].reset_index()\n",
    "            test_X = test['air_temperature'].reset_index()\n",
    "            test_y = test['meter_reading'].reset_index()\n",
    "#             train_X = np.array(train['air_temperature'].fillna(0).values).reshape(1,-1)\n",
    "#             train_y = np.array(train['meter_reading'].fillna(0).values).reshape(1,-1)\n",
    "#             test_X = np.array(test['air_temperature'].fillna(0).values).reshape(1,-1)\n",
    "#             test_y = np.array(train['meter_reading'].fillna(0).values).reshape(1,-1)\n",
    "            \n",
    "#             print(train['air_temperature'])\n",
    "            \n",
    "\n",
    "            print(train_X)\n",
    "        \n",
    "        \n",
    "#             # Fitting the Model\n",
    "#             gbm.fit(train_X,train_y)\n",
    "#             pred = gbm.predict(train_X, train_y)\n",
    "\n",
    "#             # RMSE Computation\n",
    "#             rmse = np.sqrt(MSE(test_X, pred))\n",
    "#             print(\"RMSE : % f\" %(rmse))\n",
    "\n",
    "             ######################################   VISUALIZE #################################################\n",
    "#             subfig = make_subplots(specs=[[{\"secondary_y\": True}]])\n",
    "            \n",
    "#             fig = px.line(predicts, x='ds', y='yhat', \n",
    "#                            title='Bldg: ' + str(bldg_number) + ' ' + 'Meter: ' + str(bldg_meter))\n",
    "            \n",
    "#             fig2 = px.line(test2, x=test2.index, y='meter_reading', \n",
    "#                            title='Bldg: ' + str(bldg_number) + ' ' + 'Meter: ' + str(bldg_meter))\n",
    "\n",
    "#             fig2.update_traces(yaxis=\"y1\")\n",
    "\n",
    "#             subfig.add_traces(fig.data + fig2.data)\n",
    "#             subfig.layout.title='Bldg: ' + str(bldg_number) + ' ' + 'Meter: ' + str(bldg_meter)\n",
    "#             subfig.layout.xaxis.title=\"Time\"\n",
    "#             subfig.layout.yaxis.title=\"Meter Reading\"\n",
    "#             subfig.layout.yaxis.color=\"blue\"\n",
    "\n",
    "#             subfig.update_xaxes(dtick=\"M1\", tickformat=\"%b\\n%Y\")\n",
    "\n",
    "#             subfig.for_each_trace(lambda t: t.update(line=dict(color=t.marker.color)))\n",
    "#             subfig.update_xaxes(rangeslider_visible=True)\n",
    "            \n",
    "\n",
    "#             # Hover text for exploration\n",
    "#             subfig.update_traces(mode='lines',hovertemplate=\"%{x|%Y/%m/%d %a %H:%M:%S.%L} value: %{y}\")\n",
    "#             subfig.update_layout(showlegend=True)\n",
    "#             subfig.write_image('.//visualization//' + str(bldg_number) + '_' + str(bldg_meter) + 'Prophet.jpg')\n",
    "\n",
    "#             subfig.show()\n",
    "            \n",
    "#             error = ((sqrt(mean_squared_error(predicts['yhat'],test2['meter_reading']))))\n",
    "#             print('MSE: ' + str(error))"
   ]
  },
  {
   "cell_type": "markdown",
   "id": "suspended-villa",
   "metadata": {},
   "source": [
    "## Time Series Split Cross Validation"
   ]
  },
  {
   "cell_type": "code",
   "execution_count": null,
   "id": "flexible-sauce",
   "metadata": {
    "jupyter": {
     "source_hidden": true
    }
   },
   "outputs": [],
   "source": [
    "tss =  TimeSeriesSplit(n_splits=4,gap=4,test_size=14,max_train_size=120) #too generic\n",
    "rmse = []\n",
    "count = 1\n",
    "\n",
    "results = pd.DataFrame()\n",
    "\n",
    "\n",
    "# Write function that rolls next pd.delta?\n",
    "\n",
    "for train_index, test_index in tss.split(df_train): \n",
    "    \n",
    "    cv_train, cv_test = df_train.iloc[train_index]['meter_reading'], df_train.iloc[test_index]['meter_reading']\n",
    "    model = pm.auto_arima(cv_train,trace=True,n_fits=20)\n",
    "    print(model.summary())\n",
    "    \n",
    "    # \n",
    "    predicts = model.predict(n_periods=14)\n",
    "    true_values = cv_test.values\n",
    "    error = ((sqrt(mean_squared_error(predicts,true_values))))\n",
    "    model.plot_diagnostics()\n",
    "    rmse.append(error)\n",
    "    print(error)\n",
    "print('RMSE')\n",
    "print(np.mean(rmse))"
   ]
  },
  {
   "cell_type": "code",
   "execution_count": null,
   "id": "alternate-immigration",
   "metadata": {},
   "outputs": [],
   "source": [
    "df_tyra\n",
    "print(model.summary())\n",
    "\n",
    "# \n",
    "predicts = model.predict(n_periods=14)\n",
    "true_values = cv_test.values\n",
    "error = ((sqrt(mean_squared_error(predicts,true_values))))\n",
    "model.plot_diagnostics()\n",
    "rmse.append(error)\n",
    "print(error)"
   ]
  },
  {
   "cell_type": "code",
   "execution_count": null,
   "id": "entertaining-confidence",
   "metadata": {},
   "outputs": [],
   "source": []
  },
  {
   "cell_type": "code",
   "execution_count": null,
   "id": "antique-butler",
   "metadata": {},
   "outputs": [],
   "source": []
  },
  {
   "cell_type": "code",
   "execution_count": null,
   "id": "interested-facing",
   "metadata": {},
   "outputs": [],
   "source": [
    "train.plot()"
   ]
  },
  {
   "cell_type": "code",
   "execution_count": null,
   "id": "endless-sword",
   "metadata": {},
   "outputs": [],
   "source": [
    "test.plot()"
   ]
  },
  {
   "cell_type": "code",
   "execution_count": null,
   "id": "domestic-stock",
   "metadata": {},
   "outputs": [],
   "source": [
    "model.predict(n_periods=20)"
   ]
  },
  {
   "cell_type": "code",
   "execution_count": null,
   "id": "suspended-architect",
   "metadata": {},
   "outputs": [],
   "source": [
    "\n",
    "#                      start_p=1,max_p=7,\n",
    "#                      start_q=1,max_q=7,\n",
    "#                      start_P=1,max_P=7,\n",
    "#                      start_Q=1,max_Q=7,\n",
    "preds = model.predict(n_periods=test.shape[0], return_conf_int=False)\n",
    "\n",
    "# cv = model_selection.SlidingWindowForecastCV(window_size=3,step=1,h=4)\n",
    "# predictions = model_selection.cross_val_predict(model, test, cv=cv, verbose=2, averaging='median')\n",
    "# # temp_model_cv_scores = model_selection.cross_val_score(model, train, scoring='smape', cv=cv, verbose=2)\n",
    "\n",
    "# pred = pd.Series(predictions)\n",
    "# df_temp_preds = pd.DataFrame(pred,index=test.index,columns=['predictions'])\n",
    "# df_preds =pd.concat([df_temp_preds,test],axis=1)\n",
    "# df_preds\n",
    "\n",
    "# Print the error:\n",
    "print(\"Test RMSE: %.3f\" % np.sqrt(mean_squared_error(test, preds)))\n",
    "\n",
    "\n",
    "# Plot Forecasts\n",
    "x_axis = np.arange(train.shape[0] + preds.shape[0])\n",
    "x_years = x_axis + 2016  # Year starts at 1821\n",
    "\n",
    "plt.plot(preds,kind='line')"
   ]
  },
  {
   "cell_type": "code",
   "execution_count": null,
   "id": "partial-border",
   "metadata": {},
   "outputs": [],
   "source": [
    "\n",
    "model.plot_diagnostics()"
   ]
  },
  {
   "cell_type": "code",
   "execution_count": null,
   "id": "lucky-vanilla",
   "metadata": {},
   "outputs": [],
   "source": [
    "model"
   ]
  },
  {
   "cell_type": "code",
   "execution_count": null,
   "id": "regular-wallpaper",
   "metadata": {},
   "outputs": [],
   "source": [
    "preds"
   ]
  },
  {
   "cell_type": "code",
   "execution_count": null,
   "id": "copyrighted-design",
   "metadata": {},
   "outputs": [],
   "source": [
    "model"
   ]
  },
  {
   "cell_type": "code",
   "execution_count": null,
   "id": "passing-johns",
   "metadata": {},
   "outputs": [],
   "source": [
    "preds"
   ]
  },
  {
   "cell_type": "code",
   "execution_count": null,
   "id": "italian-facility",
   "metadata": {},
   "outputs": [],
   "source": [
    "df_temp_preds = pd.DataFrame(preds,index=test.index,columns=['predictions'])\n",
    "df_preds =pd.concat([df_temp_preds,test],axis=1)\n",
    "df_preds"
   ]
  },
  {
   "cell_type": "code",
   "execution_count": null,
   "id": "geographic-remedy",
   "metadata": {},
   "outputs": [],
   "source": [
    "# Plot Forecasts\n",
    "x_axis = np.arange(train.shape[0] + preds.shape[0])\n",
    "x_years = x_axis + 2016  # Year starts at 1821\n",
    "\n",
    "plt.plot(df_preds,kind='line')\n",
    "\n",
    "# plt.fill_between(x_years[x_axis[-preds.shape[0]:]],\n",
    "#                  conf_int[:, 0], conf_int[:, 1],\n",
    "#                  alpha=0.1, color='b')\n",
    "# plt.title(\"Temperature Forecast\")\n",
    "# plt.xlabel(\"Year\")"
   ]
  },
  {
   "cell_type": "markdown",
   "id": "immune-hands",
   "metadata": {},
   "source": [
    "# ARIMA"
   ]
  },
  {
   "cell_type": "markdown",
   "id": "undefined-peter",
   "metadata": {},
   "source": [
    "### Set PDQ"
   ]
  },
  {
   "cell_type": "raw",
   "id": "appreciated-concentrate",
   "metadata": {},
   "source": [
    "p = 5 # lag observations\n",
    "d = 1 # Raw Observations Differenced\n",
    "q = 0 # Moving Average Window"
   ]
  },
  {
   "cell_type": "raw",
   "id": "continuing-nowhere",
   "metadata": {},
   "source": [
    "# Brownlee page 221 (GP BOOK page 224)\n",
    "\n",
    "model = ARIMA(df_train['meter_reading'],order=(p,d,q))\n",
    "model_fit = model.fit()\n",
    "print(model_fit.summary())\n",
    "residuals = pd.DataFrame(model_fit.resid)\n",
    "residuals.plot()\n",
    "pyplot.show()\n"
   ]
  },
  {
   "cell_type": "raw",
   "id": "attempted-seeking",
   "metadata": {},
   "source": [
    "residuals.plot(kind='kde')\n",
    "pyplot.show()\n",
    "print(residuals.describe())"
   ]
  },
  {
   "cell_type": "markdown",
   "id": "alternative-terminology",
   "metadata": {},
   "source": [
    "# Rolling Forecast ARIMA\n",
    "### Walk-forward validation"
   ]
  },
  {
   "cell_type": "raw",
   "id": "neutral-algeria",
   "metadata": {},
   "source": [
    "### Split train / test\n",
    "\n",
    "data_len = 366\n",
    "split_test_doy = 270\n",
    "\n",
    "df_train = df.iloc[0:split_test_doy]\n",
    "df_test = df.iloc[split_test_doy:data_len]"
   ]
  },
  {
   "cell_type": "raw",
   "id": "oriented-current",
   "metadata": {},
   "source": [
    "# Brownlee Time Series Forecasting with Python pg216 (GP Book 229)\n",
    "history = [x for x in df_train['meter_reading'].values]\n",
    "predicted_vals = [] # New predicted value list\n",
    "\n",
    "# Step through each meter reading\n",
    "for t in range(len(df_test['meter_reading'])):\n",
    "    model = ARIMA(history, order=(p,d,q))\n",
    "    model_fit = model.fit()\n",
    "    output = model_fit.forecast(7)\n",
    "    yhat = output[6]\n",
    "    print(len(output))\n",
    "    predicted_vals.append(yhat)\n",
    "    observation = df_test['meter_reading'].iloc[t]\n",
    "    history.append(observation)\n",
    "\n",
    "   # Show every 5 days\n",
    "\n",
    "    print('Iteration: ' + str(t) + ' Date: ' + str(df_test.index[t]),end=\" \")\n",
    "    print('Predicted Meter Reading = %f, Expected Meter Reading = %f' % (yhat,observation))\n",
    "\n",
    "rmse = sqrt(mean_squared_error(df_test['meter_reading'], predicted_vals))\n",
    "print('p = ' + str(p) + ' d = ' + str(d) + ' q = ' + str(q))\n",
    "print('Test RMSE: %.3f' % rmse)\n",
    "\n",
    "df_predict = pd.DataFrame(predicted_vals,index=df_test.index,columns=['meter_predict'])\n",
    "\n",
    "pyplot.plot(df_test['meter_reading'])\n",
    "pyplot.plot(df_predict['meter_predict'], color='red')"
   ]
  },
  {
   "cell_type": "markdown",
   "id": "confident-saying",
   "metadata": {},
   "source": [
    "### Grid Search ARIMA / Evaluation"
   ]
  },
  {
   "cell_type": "raw",
   "id": "municipal-transcript",
   "metadata": {},
   "source": [
    "# Brownlee Time Series Forecasting pg 225 (GP 238)\n",
    "def eval_ARIMA_model(series,split_index,arima_order):\n",
    "    orig_len = len(series) # Find total length\n",
    "    \n",
    "    ser_train = series.iloc[0:split_index] # Split train\n",
    "    ser_test = series.iloc[split_index:orig_len] # Split\n",
    "\n",
    "    history = [x for x in ser_train.values]\n",
    "    predicted_vals = []\n",
    "    \n",
    "    for t in range(len(ser_test)):\n",
    "        model = ARIMA(history,order=arima_order)\n",
    "        model_fit =  model.fit()\n",
    "        yhat = model_fit.forecast()[0]\n",
    "        predicted_vals.append(yhat)\n",
    "        history.append(ser_test.iloc[t])\n",
    "    rmse = sqrt(mean_squared_error(ser_test,predicted_vals))\n",
    "    return rsme \n",
    "\n",
    "# Brownlee Time Series Forecasting with Python\n",
    "def evaluate_models(series,split_index,p_vals,df_vals,q_vals):\n",
    "    series = series.astype('float32')\n",
    "    best_score, best_cfg = float('inf'), None\n",
    "    for p in p_vals:\n",
    "        for d in d_vals:\n",
    "            for q in q_vals:\n",
    "                order = (p,d,q)\n",
    "                try:\n",
    "                    rmse = eval_ARIMA_model(series,split_index,order)\n",
    "                    print(str(p,d,q) + ' Current RSME = ' + str(rsme))\n",
    "                    if rmse < best_score:\n",
    "                        best_score, best_cfg = rmse, order\n",
    "                    print('ARIMA %s RMSE=%.3f' % (order, rmse))\n",
    "                except:\n",
    "                    continue\n",
    "    print('Best ARIMA %s RMSE=%.3f' % (best_cfg, best_score))"
   ]
  },
  {
   "cell_type": "raw",
   "id": "eligible-preliminary",
   "metadata": {},
   "source": [
    "import warnings\n",
    "\n",
    "### Split train / test\n",
    "split_test_index = 270\n",
    "order = 1\n",
    "\n",
    "p_vals = [2]\n",
    "d_vals = [1]\n",
    "q_vals = [1]\n",
    "\n",
    "evaluate_models(df['meter_reading'],split_test_index, p_vals,d_vals,q_vals)"
   ]
  },
  {
   "cell_type": "markdown",
   "id": "according-navigator",
   "metadata": {},
   "source": [
    "# Facebook Prophet\n",
    "## Additive Time Series Forecasting Model"
   ]
  },
  {
   "cell_type": "code",
   "execution_count": null,
   "id": "allied-embassy",
   "metadata": {},
   "outputs": [],
   "source": [
    "from fbprophet import Prophet"
   ]
  },
  {
   "cell_type": "code",
   "execution_count": null,
   "id": "clear-exclusion",
   "metadata": {},
   "outputs": [],
   "source": [
    "data_len = 366\n",
    "split_test_doy = 270\n",
    "\n",
    "df_train = df.iloc[0:split_test_doy]\n",
    "df_test = df.iloc[split_test_doy:data_len]"
   ]
  },
  {
   "cell_type": "code",
   "execution_count": null,
   "id": "restricted-bargain",
   "metadata": {},
   "outputs": [],
   "source": [
    "df_prophet_train = df_train.reset_index()\n",
    "df_prophet_train = df_prophet_train[['timestamp','meter_reading']]\n",
    "df_prophet_train = df_prophet_train.rename(columns={'timestamp':'ds','meter_reading':'y'})\n",
    "\n",
    "df_prophet_test = df_test.reset_index()\n",
    "df_prophet_test = df_prophet_test[['timestamp','meter_reading']]\n",
    "df_prophet_test = df_prophet_test.rename(columns={'timestamp':'ds','meter_reading':'y'})\n",
    "\n",
    "df_prophet_predict = df_test.reset_index()\n",
    "df_prophet_predict = df_prophet_predict[['timestamp']]\n",
    "df_prophet_predict = df_prophet_predict.rename(columns={'timestamp':'ds'})\n"
   ]
  },
  {
   "cell_type": "code",
   "execution_count": null,
   "id": "abandoned-saint",
   "metadata": {},
   "outputs": [],
   "source": [
    "model = Prophet()\n",
    "model.fit(df_prophet_train)"
   ]
  },
  {
   "cell_type": "code",
   "execution_count": null,
   "id": "dressed-maldives",
   "metadata": {},
   "outputs": [],
   "source": [
    "df_forecast = model.predict(df_prophet_predict)"
   ]
  },
  {
   "cell_type": "code",
   "execution_count": null,
   "id": "sitting-voluntary",
   "metadata": {},
   "outputs": [],
   "source": [
    "print(df_forecast[['ds', 'yhat', 'yhat_lower', 'yhat_upper']])"
   ]
  },
  {
   "cell_type": "code",
   "execution_count": null,
   "id": "solid-chamber",
   "metadata": {},
   "outputs": [],
   "source": [
    "model.plot(forecast)"
   ]
  },
  {
   "cell_type": "code",
   "execution_count": null,
   "id": "directed-cruise",
   "metadata": {},
   "outputs": [],
   "source": []
  }
 ],
 "metadata": {
  "kernelspec": {
   "display_name": "Capstone",
   "language": "python",
   "name": "cap1"
  },
  "language_info": {
   "codemirror_mode": {
    "name": "ipython",
    "version": 3
   },
   "file_extension": ".py",
   "mimetype": "text/x-python",
   "name": "python",
   "nbconvert_exporter": "python",
   "pygments_lexer": "ipython3",
   "version": "3.8.8"
  }
 },
 "nbformat": 4,
 "nbformat_minor": 5
}
