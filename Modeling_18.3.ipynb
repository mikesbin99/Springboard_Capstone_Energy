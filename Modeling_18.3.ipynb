{
 "cells": [
  {
   "cell_type": "markdown",
   "id": "least-music",
   "metadata": {},
   "source": [
    "(https://www.kaggle.com/c/ashrae-energy-prediction/)"
   ]
  },
  {
   "cell_type": "markdown",
   "id": "engaged-scope",
   "metadata": {},
   "source": [
    "# ASRAE - Modeling"
   ]
  },
  {
   "cell_type": "code",
   "execution_count": 1,
   "id": "informal-ribbon",
   "metadata": {},
   "outputs": [
    {
     "name": "stdout",
     "output_type": "stream",
     "text": [
      "pmdarima version: 1.8.2\n"
     ]
    }
   ],
   "source": [
    "import numpy as np\n",
    "import pandas as pd\n",
    "\n",
    "import seaborn as sns\n",
    "import plotly as plt\n",
    "import plotly.express as px\n",
    "import plotly.figure_factory as ff\n",
    "import matplotlib.pyplot as plt\n",
    "\n",
    "from math import sqrt\n",
    "\n",
    "import glob\n",
    "\n",
    "import pandas_profiling as ppf\n",
    "import sweetviz as sv\n",
    "import missingno as msno\n",
    "\n",
    "import pprint\n",
    "import datetime\n",
    "from math import sqrt\n",
    "\n",
    "from plotly.subplots import make_subplots\n",
    "import plotly.graph_objects as go\n",
    "\n",
    "from sklearn.metrics import mean_squared_error\n",
    "from sklearn.model_selection import TimeSeriesSplit, train_test_split\n",
    "\n",
    "from statsmodels.tsa.seasonal import seasonal_decompose\n",
    "from statsmodels.graphics.tsaplots import plot_acf\n",
    "from statsmodels.graphics.tsaplots import plot_pacf\n",
    "from statsmodels.tsa.arima.model import ARIMA\n",
    "import statsmodels.api as sm\n",
    "\n",
    "from sklearn import preprocessing\n",
    "from sklearn.model_selection import GridSearchCV\n",
    "\n",
    "from prophet import Prophet\n",
    "\n",
    "import xgboost as xgb\n",
    "\n",
    "\n",
    "import pmdarima as pm\n",
    "from pmdarima import model_selection\n",
    "from pmdarima import pipeline\n",
    "from pmdarima import preprocessing as ppc\n",
    "from pmdarima import arima\n",
    "from pmdarima.arima import ndiffs\n",
    "from pmdarima.arima import ADFTest\n",
    "\n",
    "print(\"pmdarima version: %s\" % pm.__version__)\n",
    "\n",
    "#import tools as tl\n",
    "\n",
    "sns.set(rc={'figure.figsize':(30,20)})\n",
    "\n",
    "pd.options.display.float_format = '{:.2f}'.format\n",
    "pd.set_option(\"precision\", 2)\n",
    "\n",
    "plt.rcParams.update({'font.size': 22})\n",
    "sns.set(font_scale = 2)\n",
    "\n",
    "import pprint\n",
    "pp = pprint.PrettyPrinter(indent=4)\n",
    "\n",
    "import warnings\n",
    "warnings.filterwarnings('ignore')"
   ]
  },
  {
   "cell_type": "code",
   "execution_count": 2,
   "id": "civic-guinea",
   "metadata": {},
   "outputs": [
    {
     "name": "stdout",
     "output_type": "stream",
     "text": [
      "1.4.2\n"
     ]
    }
   ],
   "source": [
    "print(xgb.__version__)"
   ]
  },
  {
   "cell_type": "code",
   "execution_count": 3,
   "id": "harmful-hardware",
   "metadata": {},
   "outputs": [],
   "source": [
    "pd.options.plotting.backend = \"matplotlib\""
   ]
  },
  {
   "cell_type": "code",
   "execution_count": 4,
   "id": "super-thong",
   "metadata": {},
   "outputs": [
    {
     "data": {
      "text/plain": [
       "'G:\\\\My Drive\\\\Code\\\\Springboard_Capstone_Energy'"
      ]
     },
     "execution_count": 4,
     "metadata": {},
     "output_type": "execute_result"
    }
   ],
   "source": [
    "pwd"
   ]
  },
  {
   "cell_type": "code",
   "execution_count": 5,
   "id": "8e441d88-fc94-492c-a3b9-44f73a9b8870",
   "metadata": {},
   "outputs": [],
   "source": [
    "# Drop Specific columns\n",
    "def building_meter_drop(df):\n",
    "    return df.drop(columns=['precip_depth_1_hr','wind_direction','wind_speed','dew_temperature','year_built','floor_count','cloud_coverage'],axis=1)"
   ]
  },
  {
   "cell_type": "code",
   "execution_count": 6,
   "id": "87eac6e6-266e-4208-ab96-c64f3f57c8de",
   "metadata": {},
   "outputs": [],
   "source": [
    "# Interpolate Missing Data\n",
    "def building_meter_interp(df):\n",
    "    df['sea_level_pressure'] = df['sea_level_pressure'].interpolate(method='time')\n",
    "    df['meter_reading'] = df['meter_reading'].interpolate(method='time')\n",
    "    df['air_temperature'] = df['air_temperature'].interpolate(method='time')\n",
    "    return df"
   ]
  },
  {
   "cell_type": "code",
   "execution_count": 7,
   "id": "875cea45-fb1e-428c-b842-32c6c74db032",
   "metadata": {},
   "outputs": [],
   "source": [
    "# Aggregate remaining Data\n",
    "def building_meter_agg(df,resamp_str):\n",
    "    df_samp = df\n",
    "    agg_dict={'meter_reading':'mean', \n",
    "                  'air_temperature':'max',\n",
    "                  'building_id': 'max',\n",
    "                  'site_id': 'max',\n",
    "                  'square_feet': 'max',\n",
    "                  'day_of_week':'max',\n",
    "                  'weekend':'max',\n",
    "                  'month':'max',\n",
    "                  'season':'max'\n",
    "                  }\n",
    "\n",
    "    # Resample Dataframe\n",
    "    df = df.resample(resamp_str).agg(agg_dict)\n",
    "    \n",
    "    return df"
   ]
  },
  {
   "cell_type": "markdown",
   "id": "6f8519e6-1f19-4a32-a3b9-2a1831cd2bc5",
   "metadata": {},
   "source": [
    "## See Statistics written for each file (building-meter) combo"
   ]
  },
  {
   "cell_type": "code",
   "execution_count": 8,
   "id": "innovative-title",
   "metadata": {},
   "outputs": [],
   "source": [
    "# See Building Statistics for missing data\n",
    "df_stats = pd.read_csv('.//data_clean//building_reading_stats.csv')\n",
    "# Keep only data that has at least 50 % of it"
   ]
  },
  {
   "cell_type": "code",
   "execution_count": 9,
   "id": "b5b45a65-189e-43ae-8382-8147f24904b3",
   "metadata": {},
   "outputs": [
    {
     "name": "stdout",
     "output_type": "stream",
     "text": [
      "<class 'pandas.core.frame.DataFrame'>\n",
      "RangeIndex: 2380 entries, 0 to 2379\n",
      "Data columns (total 19 columns):\n",
      " #   Column                        Non-Null Count  Dtype  \n",
      "---  ------                        --------------  -----  \n",
      " 0   file_name                     2380 non-null   object \n",
      " 1   building                      2380 non-null   int64  \n",
      " 2   meter                         2380 non-null   int64  \n",
      " 3   len_train                     2380 non-null   int64  \n",
      " 4   len_zero                      2380 non-null   int64  \n",
      " 5   per_data                      2380 non-null   float64\n",
      " 6   category                      2380 non-null   object \n",
      " 7   corr_meter_to_airtemp         2380 non-null   float64\n",
      " 8   corr_meter_to_airtemp_wknd    2378 non-null   float64\n",
      " 9   corr_meter_to_airtemp_wkdy    2380 non-null   float64\n",
      " 10  corr_meter_to_airtemp_winter  2330 non-null   float64\n",
      " 11  corr_meter_to_airtemp_spring  2347 non-null   float64\n",
      " 12  corr_meter_to_airtemp_summer  2344 non-null   float64\n",
      " 13  corr_meter_to_airtemp_fall    2366 non-null   float64\n",
      " 14  square_feet                   2380 non-null   int64  \n",
      " 15  site_id                       2380 non-null   int64  \n",
      " 16  floor_count                   2380 non-null   int64  \n",
      " 17  bldg_size                     2380 non-null   object \n",
      " 18  meter_name                    2380 non-null   object \n",
      "dtypes: float64(8), int64(7), object(4)\n",
      "memory usage: 353.4+ KB\n"
     ]
    }
   ],
   "source": [
    "df_stats.info()"
   ]
  },
  {
   "cell_type": "code",
   "execution_count": 20,
   "id": "convinced-proxy",
   "metadata": {},
   "outputs": [],
   "source": [
    "# Modeling Choices\n",
    "# Buildings with 1\n",
    "df_stats.sort_values(['building','meter'],axis=0,inplace=True)\n",
    "df_stats.reset_index(drop=True,inplace=True)"
   ]
  },
  {
   "cell_type": "code",
   "execution_count": null,
   "id": "understood-consultation",
   "metadata": {},
   "outputs": [],
   "source": [
    "# These represent buildings that are in top, mid and lower in square footage\n",
    "# choose from these when we model our loop\n",
    "lrg = [1148]\n",
    "med = [1063, 1309, 991, 144, 693]\n",
    "sm = [846, 621, 822, 816, 44]\n",
    "\n",
    "# lrg = [869, 1148, 375, 365, 269]\n",
    "\n",
    "bldgno = []\n",
    "bldgno.extend(lrg)\n",
    "bldgno.extend(med)\n",
    "bldgno.extend(sm)\n",
    "\n",
    "# 0: Electricity 1: chilledwater 2: steam 3: hotwater"
   ]
  },
  {
   "cell_type": "code",
   "execution_count": null,
   "id": "critical-hawaiian",
   "metadata": {},
   "outputs": [],
   "source": [
    "df_stats[(df_stats['building'] == 1148) & df_stats['meter'] == 1]"
   ]
  },
  {
   "cell_type": "code",
   "execution_count": null,
   "id": "iraqi-original",
   "metadata": {},
   "outputs": [],
   "source": [
    "# Examine building choices\n",
    "df_stats[df_stats['building'] == 1148]"
   ]
  },
  {
   "cell_type": "raw",
   "id": "d7ea794a-196f-419e-a940-04b31cdfae11",
   "metadata": {},
   "source": [
    "Notice that the 1 meter is positively correlated, 2 meter is strong negative correlation"
   ]
  },
  {
   "cell_type": "markdown",
   "id": "alike-assessment",
   "metadata": {},
   "source": [
    "### Build list of files to include"
   ]
  },
  {
   "cell_type": "raw",
   "id": "f7629504-dae3-49be-b245-9794d3c811ce",
   "metadata": {
    "tags": []
   },
   "source": [
    "# Get only the train data\n",
    "direct = glob.glob('.\\\\data_clean\\\\buildings_by_meter\\\\' + '*.pkl')\n",
    "\n",
    "directory = '.\\\\data_clean\\\\buildings_by_meter\\\\'\n",
    "ext = '.pkl'\n",
    "\n",
    "bld_mtr = ['1148_0','1148_1']\n",
    "files = []\n",
    "\n",
    "# Build File names\n",
    "for bm in bld_mtr:\n",
    "    file_n = directory + bm + ext\n",
    "    files.append(file_n)\n",
    "        \n",
    "files"
   ]
  },
  {
   "cell_type": "raw",
   "id": "f43581dc-8f27-4578-942b-0e60e7b4e78d",
   "metadata": {},
   "source": [
    "files = []\n",
    "direct = '.\\\\data_clean\\\\buildings_by_meter\\\\'\n",
    "df_train = pd.read_pickle(direct + file)"
   ]
  },
  {
   "cell_type": "markdown",
   "id": "liable-raise",
   "metadata": {},
   "source": [
    "# Build 3 Models"
   ]
  },
  {
   "cell_type": "code",
   "execution_count": null,
   "id": "increasing-equipment",
   "metadata": {},
   "outputs": [
    {
     "name": "stdout",
     "output_type": "stream",
     "text": [
      "0_0.pkl\n",
      "not enough data\n",
      "1_0.pkl\n",
      "not enough data\n",
      "2_0.pkl\n",
      "not enough data\n",
      "3_0.pkl\n",
      "not enough data\n",
      "4_0.pkl\n",
      "not enough data\n",
      "5_0.pkl\n",
      "not enough data\n",
      "6_0.pkl\n",
      "not enough data\n",
      "7_0.pkl\n",
      "not enough data\n",
      "7_1.pkl\n",
      "Length on load: 24787\n",
      "Length after agg: 1037\n",
      "Dropped N/A cols: 1\n",
      "Length after blank drop: 1036\n",
      "ARIMA Model...... RMSE: 2146.7328939178137\n",
      "Prophet...... "
     ]
    },
    {
     "name": "stderr",
     "output_type": "stream",
     "text": [
      "INFO:prophet:Disabling yearly seasonality. Run prophet with yearly_seasonality=True to override this.\n"
     ]
    },
    {
     "name": "stdout",
     "output_type": "stream",
     "text": [
      "RMSE: 3609.4369303123417\n",
      "XGBoost...... RMSE: 2594.5800580425903\n",
      "\n",
      "\n",
      "8_0.pkl\n",
      "not enough data\n",
      "9_0.pkl\n",
      "not enough data\n",
      "9_1.pkl\n",
      "not enough data\n",
      "10_0.pkl\n",
      "not enough data\n",
      "11_0.pkl\n",
      "not enough data\n",
      "12_0.pkl\n",
      "not enough data\n",
      "13_0.pkl\n",
      "not enough data\n",
      "13_1.pkl\n",
      "Length on load: 24460\n",
      "Length after agg: 1037\n",
      "Dropped N/A cols: 14\n",
      "Length after blank drop: 1023\n",
      "ARIMA Model...... "
     ]
    },
    {
     "name": "stderr",
     "output_type": "stream",
     "text": [
      "INFO:prophet:Disabling yearly seasonality. Run prophet with yearly_seasonality=True to override this.\n"
     ]
    },
    {
     "name": "stdout",
     "output_type": "stream",
     "text": [
      "RMSE: 1187.222470032455\n",
      "Prophet...... RMSE: 899.0183857744602\n",
      "XGBoost...... RMSE: 1321.38366343645\n",
      "\n",
      "\n",
      "14_0.pkl\n",
      "not enough data\n",
      "14_1.pkl\n",
      "Length on load: 24789\n",
      "Length after agg: 1037\n",
      "Dropped N/A cols: 1\n",
      "Length after blank drop: 1036\n",
      "ARIMA Model...... "
     ]
    },
    {
     "name": "stderr",
     "output_type": "stream",
     "text": [
      "INFO:prophet:Disabling yearly seasonality. Run prophet with yearly_seasonality=True to override this.\n"
     ]
    },
    {
     "name": "stdout",
     "output_type": "stream",
     "text": [
      "RMSE: 1048.5319479091254\n",
      "Prophet...... RMSE: 1027.9964726642693\n",
      "XGBoost...... RMSE: 1106.2831301451702\n",
      "\n",
      "\n",
      "15_0.pkl\n",
      "not enough data\n",
      "15_1.pkl\n",
      "Length on load: 24789\n",
      "Length after agg: 1037\n",
      "Dropped N/A cols: 1\n",
      "Length after blank drop: 1036\n",
      "ARIMA Model...... "
     ]
    },
    {
     "name": "stderr",
     "output_type": "stream",
     "text": [
      "INFO:prophet:Disabling yearly seasonality. Run prophet with yearly_seasonality=True to override this.\n"
     ]
    },
    {
     "name": "stdout",
     "output_type": "stream",
     "text": [
      "RMSE: 1535.1547041805882\n",
      "Prophet...... RMSE: 633.2634504508889\n",
      "XGBoost...... RMSE: 1017.3255238244524\n",
      "\n",
      "\n",
      "16_0.pkl\n",
      "not enough data\n",
      "17_0.pkl\n",
      "not enough data\n",
      "18_0.pkl\n",
      "not enough data\n",
      "19_0.pkl\n",
      "not enough data\n",
      "20_0.pkl\n",
      "not enough data\n",
      "21_0.pkl\n",
      "not enough data\n",
      "22_0.pkl\n",
      "not enough data\n",
      "23_0.pkl\n",
      "not enough data\n",
      "24_0.pkl\n",
      "not enough data\n",
      "25_0.pkl\n",
      "not enough data\n",
      "26_0.pkl\n",
      "not enough data\n",
      "27_0.pkl\n",
      "not enough data\n",
      "28_0.pkl\n",
      "not enough data\n",
      "28_1.pkl\n",
      "Length on load: 23727\n",
      "Length after agg: 993\n",
      "Dropped N/A cols: 1\n",
      "Length after blank drop: 992\n",
      "ARIMA Model...... "
     ]
    },
    {
     "name": "stderr",
     "output_type": "stream",
     "text": [
      "INFO:prophet:Disabling yearly seasonality. Run prophet with yearly_seasonality=True to override this.\n"
     ]
    },
    {
     "name": "stdout",
     "output_type": "stream",
     "text": [
      "RMSE: 1102.4642499352883\n",
      "Prophet...... RMSE: 780.5032001210927\n",
      "XGBoost...... RMSE: 1021.9970295438779\n",
      "\n",
      "\n",
      "29_0.pkl\n",
      "Length on load: 21331\n",
      "Length after agg: 1091\n",
      "Dropped N/A cols: 190\n",
      "29_1.pkl\n",
      "Length on load: 24789\n",
      "Length after agg: 1037\n",
      "Dropped N/A cols: 1\n",
      "Length after blank drop: 1036\n",
      "ARIMA Model...... "
     ]
    },
    {
     "name": "stderr",
     "output_type": "stream",
     "text": [
      "INFO:prophet:Disabling yearly seasonality. Run prophet with yearly_seasonality=True to override this.\n"
     ]
    },
    {
     "name": "stdout",
     "output_type": "stream",
     "text": [
      "RMSE: 3705.0162353566725\n",
      "Prophet...... RMSE: 3901.8609086977913\n",
      "XGBoost...... RMSE: 4108.282826548659\n",
      "\n",
      "\n",
      "30_0.pkl\n",
      "not enough data\n",
      "30_1.pkl\n",
      "Length on load: 24789\n",
      "Length after agg: 1037\n",
      "Dropped N/A cols: 1\n",
      "Length after blank drop: 1036\n",
      "ARIMA Model...... "
     ]
    },
    {
     "name": "stderr",
     "output_type": "stream",
     "text": [
      "INFO:prophet:Disabling yearly seasonality. Run prophet with yearly_seasonality=True to override this.\n"
     ]
    },
    {
     "name": "stdout",
     "output_type": "stream",
     "text": [
      "RMSE: 1328.8831930205777\n",
      "Prophet...... RMSE: 521.548205198915\n",
      "XGBoost...... RMSE: 918.1049549004708\n",
      "\n",
      "\n",
      "31_0.pkl\n",
      "not enough data\n",
      "31_1.pkl\n",
      "Length on load: 24788\n",
      "Length after agg: 1037\n",
      "Dropped N/A cols: 1\n",
      "Length after blank drop: 1036\n",
      "ARIMA Model...... "
     ]
    },
    {
     "name": "stderr",
     "output_type": "stream",
     "text": [
      "INFO:prophet:Disabling yearly seasonality. Run prophet with yearly_seasonality=True to override this.\n"
     ]
    },
    {
     "name": "stdout",
     "output_type": "stream",
     "text": [
      "RMSE: 3541.6239819171724\n",
      "Prophet...... RMSE: 1136.76517267839\n",
      "XGBoost...... RMSE: 2020.892420705046\n",
      "\n",
      "\n",
      "32_0.pkl\n",
      "not enough data\n",
      "33_0.pkl\n",
      "not enough data\n",
      "34_0.pkl\n",
      "not enough data\n",
      "35_0.pkl\n",
      "not enough data\n",
      "36_0.pkl\n",
      "not enough data\n",
      "37_0.pkl\n",
      "not enough data\n",
      "38_0.pkl\n",
      "not enough data\n",
      "39_0.pkl\n",
      "not enough data\n",
      "40_0.pkl\n",
      "not enough data\n",
      "41_0.pkl\n",
      "not enough data\n",
      "42_0.pkl\n",
      "not enough data\n",
      "43_0.pkl\n",
      "not enough data\n",
      "43_1.pkl\n",
      "not enough data\n",
      "44_0.pkl\n",
      "not enough data\n",
      "45_0.pkl\n",
      "not enough data\n",
      "46_0.pkl\n",
      "not enough data\n",
      "47_0.pkl\n",
      "not enough data\n",
      "48_0.pkl\n",
      "not enough data\n",
      "49_0.pkl\n",
      "not enough data\n",
      "50_0.pkl\n",
      "not enough data\n",
      "50_1.pkl\n",
      "Length on load: 22667\n",
      "Length after agg: 1037\n",
      "Dropped N/A cols: 91\n",
      "Length after blank drop: 946\n",
      "ARIMA Model...... "
     ]
    },
    {
     "name": "stderr",
     "output_type": "stream",
     "text": [
      "INFO:prophet:Disabling yearly seasonality. Run prophet with yearly_seasonality=True to override this.\n"
     ]
    },
    {
     "name": "stdout",
     "output_type": "stream",
     "text": [
      "RMSE: 323.2335015095176\n",
      "Prophet...... RMSE: 383.1144133380721\n",
      "XGBoost...... RMSE: 350.0987952859055\n",
      "\n",
      "\n",
      "51_0.pkl\n",
      "not enough data\n",
      "52_0.pkl\n",
      "not enough data\n",
      "53_0.pkl\n",
      "not enough data\n",
      "54_0.pkl\n",
      "not enough data\n",
      "55_0.pkl\n",
      "not enough data\n",
      "55_1.pkl\n",
      "Length on load: 24789\n",
      "Length after agg: 1037\n",
      "Dropped N/A cols: 1\n",
      "Length after blank drop: 1036\n",
      "ARIMA Model...... "
     ]
    },
    {
     "name": "stderr",
     "output_type": "stream",
     "text": [
      "INFO:prophet:Disabling yearly seasonality. Run prophet with yearly_seasonality=True to override this.\n"
     ]
    },
    {
     "name": "stdout",
     "output_type": "stream",
     "text": [
      "RMSE: 130.7612630497918\n",
      "Prophet...... RMSE: 834.0399075071815\n",
      "XGBoost...... RMSE: 202.52234016271967\n",
      "\n",
      "\n",
      "56_0.pkl\n",
      "not enough data\n",
      "57_0.pkl\n",
      "not enough data\n",
      "58_0.pkl\n",
      "not enough data\n",
      "59_0.pkl\n",
      "not enough data\n",
      "60_0.pkl\n",
      "not enough data\n",
      "60_1.pkl\n",
      "not enough data\n",
      "61_0.pkl\n",
      "not enough data\n",
      "62_0.pkl\n",
      "not enough data\n",
      "63_0.pkl\n",
      "not enough data\n",
      "64_0.pkl\n",
      "not enough data\n",
      "65_0.pkl\n",
      "not enough data\n",
      "66_0.pkl\n",
      "not enough data\n",
      "67_0.pkl\n",
      "not enough data\n",
      "68_0.pkl\n",
      "not enough data\n",
      "69_0.pkl\n",
      "not enough data\n",
      "70_0.pkl\n",
      "not enough data\n",
      "71_0.pkl\n",
      "not enough data\n",
      "72_0.pkl\n",
      "not enough data\n",
      "73_0.pkl\n",
      "not enough data\n",
      "74_0.pkl\n",
      "not enough data\n",
      "75_0.pkl\n",
      "not enough data\n",
      "75_1.pkl\n",
      "Length on load: 24748\n",
      "Length after agg: 1037\n",
      "Dropped N/A cols: 2\n",
      "Length after blank drop: 1035\n",
      "ARIMA Model...... "
     ]
    },
    {
     "name": "stderr",
     "output_type": "stream",
     "text": [
      "INFO:prophet:Disabling yearly seasonality. Run prophet with yearly_seasonality=True to override this.\n"
     ]
    },
    {
     "name": "stdout",
     "output_type": "stream",
     "text": [
      "RMSE: 773.8041668792285\n",
      "Prophet...... RMSE: 2405.3459799955217\n",
      "XGBoost...... RMSE: 716.0376546475896\n",
      "\n",
      "\n",
      "76_0.pkl\n",
      "not enough data\n",
      "76_1.pkl\n",
      "Length on load: 24789\n",
      "Length after agg: 1037\n",
      "Dropped N/A cols: 1\n",
      "Length after blank drop: 1036\n",
      "ARIMA Model...... "
     ]
    },
    {
     "name": "stderr",
     "output_type": "stream",
     "text": [
      "INFO:prophet:Disabling yearly seasonality. Run prophet with yearly_seasonality=True to override this.\n"
     ]
    },
    {
     "name": "stdout",
     "output_type": "stream",
     "text": [
      "RMSE: 7996.83732575162\n",
      "Prophet...... RMSE: 3218.0831717258834\n",
      "XGBoost...... RMSE: 5489.278547393091\n",
      "\n",
      "\n",
      "77_0.pkl\n",
      "not enough data\n",
      "78_0.pkl\n",
      "not enough data\n",
      "78_1.pkl\n",
      "Length on load: 24788\n",
      "Length after agg: 1037\n",
      "Dropped N/A cols: 1\n",
      "Length after blank drop: 1036\n",
      "ARIMA Model...... "
     ]
    },
    {
     "name": "stderr",
     "output_type": "stream",
     "text": [
      "INFO:prophet:Disabling yearly seasonality. Run prophet with yearly_seasonality=True to override this.\n"
     ]
    },
    {
     "name": "stdout",
     "output_type": "stream",
     "text": [
      "RMSE: 328.42573055533796\n",
      "Prophet...... RMSE: 793.5855557259201\n",
      "XGBoost...... RMSE: 436.14761852520917\n",
      "\n",
      "\n",
      "79_0.pkl\n",
      "not enough data\n",
      "80_0.pkl\n",
      "not enough data\n",
      "81_0.pkl\n",
      "not enough data\n",
      "82_0.pkl\n",
      "not enough data\n",
      "82_1.pkl\n",
      "Length on load: 24789\n",
      "Length after agg: 1037\n",
      "Dropped N/A cols: 1\n",
      "Length after blank drop: 1036\n",
      "ARIMA Model...... "
     ]
    },
    {
     "name": "stderr",
     "output_type": "stream",
     "text": [
      "INFO:prophet:Disabling yearly seasonality. Run prophet with yearly_seasonality=True to override this.\n"
     ]
    },
    {
     "name": "stdout",
     "output_type": "stream",
     "text": [
      "RMSE: 155.72719688690262\n",
      "Prophet...... RMSE: 76.3919026732243\n",
      "XGBoost...... RMSE: 106.14942555816631\n",
      "\n",
      "\n",
      "83_0.pkl\n",
      "not enough data\n",
      "84_0.pkl\n",
      "not enough data\n",
      "85_0.pkl\n",
      "not enough data\n",
      "86_0.pkl\n",
      "not enough data\n",
      "87_0.pkl\n",
      "not enough data\n",
      "88_0.pkl\n",
      "not enough data\n",
      "89_0.pkl\n",
      "not enough data\n",
      "90_0.pkl\n",
      "not enough data\n",
      "91_0.pkl\n",
      "not enough data\n",
      "91_1.pkl\n",
      "Length on load: 24788\n",
      "Length after agg: 1037\n",
      "Dropped N/A cols: 1\n",
      "Length after blank drop: 1036\n",
      "ARIMA Model...... "
     ]
    },
    {
     "name": "stderr",
     "output_type": "stream",
     "text": [
      "INFO:prophet:Disabling yearly seasonality. Run prophet with yearly_seasonality=True to override this.\n"
     ]
    },
    {
     "name": "stdout",
     "output_type": "stream",
     "text": [
      "RMSE: 801.9829723243049\n",
      "Prophet...... RMSE: 283.34913347480193\n",
      "XGBoost...... RMSE: 451.20496824735756\n",
      "\n",
      "\n",
      "92_0.pkl\n",
      "not enough data\n",
      "92_1.pkl\n",
      "Length on load: 24789\n",
      "Length after agg: 1037\n",
      "Dropped N/A cols: 1\n",
      "Length after blank drop: 1036\n",
      "ARIMA Model...... "
     ]
    },
    {
     "name": "stderr",
     "output_type": "stream",
     "text": [
      "INFO:prophet:Disabling yearly seasonality. Run prophet with yearly_seasonality=True to override this.\n"
     ]
    },
    {
     "name": "stdout",
     "output_type": "stream",
     "text": [
      "RMSE: 62.80007344314296\n",
      "Prophet...... RMSE: 30.13712216192856\n",
      "XGBoost...... RMSE: 57.08620150707782\n",
      "\n",
      "\n",
      "93_0.pkl\n",
      "not enough data\n",
      "94_0.pkl\n",
      "not enough data\n",
      "95_0.pkl\n",
      "not enough data\n",
      "95_1.pkl\n",
      "Length on load: 24764\n",
      "Length after agg: 1037\n",
      "Dropped N/A cols: 1\n",
      "Length after blank drop: 1036\n",
      "ARIMA Model...... "
     ]
    },
    {
     "name": "stderr",
     "output_type": "stream",
     "text": [
      "INFO:prophet:Disabling yearly seasonality. Run prophet with yearly_seasonality=True to override this.\n"
     ]
    },
    {
     "name": "stdout",
     "output_type": "stream",
     "text": [
      "RMSE: 1090.725491260818\n",
      "Prophet...... RMSE: 3373.299063004982\n",
      "XGBoost...... RMSE: 2498.6744910428624\n",
      "\n",
      "\n",
      "96_0.pkl\n",
      "not enough data\n",
      "96_1.pkl\n",
      "Length on load: 24453\n",
      "Length after agg: 1037\n",
      "Dropped N/A cols: 14\n",
      "Length after blank drop: 1023\n",
      "ARIMA Model...... "
     ]
    },
    {
     "name": "stderr",
     "output_type": "stream",
     "text": [
      "INFO:prophet:Disabling yearly seasonality. Run prophet with yearly_seasonality=True to override this.\n"
     ]
    },
    {
     "name": "stdout",
     "output_type": "stream",
     "text": [
      "RMSE: 3607.416287230086\n",
      "Prophet...... RMSE: 1681.0914844331896\n",
      "XGBoost...... RMSE: 1742.5366464488984\n",
      "\n",
      "\n",
      "97_0.pkl\n",
      "not enough data\n",
      "97_1.pkl\n",
      "Length on load: 24517\n",
      "Length after agg: 1037\n",
      "Dropped N/A cols: 8\n",
      "Length after blank drop: 1029\n",
      "ARIMA Model...... "
     ]
    },
    {
     "name": "stderr",
     "output_type": "stream",
     "text": [
      "INFO:prophet:Disabling yearly seasonality. Run prophet with yearly_seasonality=True to override this.\n"
     ]
    },
    {
     "name": "stdout",
     "output_type": "stream",
     "text": [
      "RMSE: 942.5674508866399\n",
      "Prophet...... RMSE: 2963.294415639142\n",
      "XGBoost...... RMSE: 2755.0292797680836\n",
      "\n",
      "\n",
      "98_0.pkl\n",
      "not enough data\n",
      "98_1.pkl\n",
      "Length on load: 22799\n",
      "Length after agg: 974\n",
      "Dropped N/A cols: 19\n",
      "Length after blank drop: 955\n",
      "ARIMA Model...... "
     ]
    },
    {
     "name": "stderr",
     "output_type": "stream",
     "text": [
      "INFO:prophet:Disabling yearly seasonality. Run prophet with yearly_seasonality=True to override this.\n"
     ]
    },
    {
     "name": "stdout",
     "output_type": "stream",
     "text": [
      "RMSE: 2141.5121210837647\n",
      "Prophet...... RMSE: 1431.8370242466265\n",
      "XGBoost...... RMSE: 1473.8233532119436\n",
      "\n",
      "\n",
      "99_0.pkl\n",
      "not enough data\n",
      "100_0.pkl\n",
      "not enough data\n",
      "101_0.pkl\n",
      "not enough data\n",
      "102_0.pkl\n",
      "not enough data\n",
      "103_0.pkl\n",
      "not enough data\n",
      "103_1.pkl\n",
      "not enough data\n",
      "104_0.pkl\n",
      "not enough data\n",
      "105_0.pkl\n",
      "Length on load: 26304\n",
      "Length after agg: 1096\n",
      "Dropped N/A cols: 0\n",
      "Length after blank drop: 1096\n",
      "ARIMA Model...... "
     ]
    },
    {
     "name": "stderr",
     "output_type": "stream",
     "text": [
      "INFO:prophet:Disabling yearly seasonality. Run prophet with yearly_seasonality=True to override this.\n"
     ]
    },
    {
     "name": "stdout",
     "output_type": "stream",
     "text": [
      "RMSE: 15.157858746149504\n",
      "Prophet...... RMSE: 15.415783273211188\n",
      "XGBoost...... RMSE: 14.18684885937817\n",
      "\n",
      "\n",
      "106_0.pkl\n",
      "Length on load: 26304\n",
      "Length after agg: 1096\n",
      "Dropped N/A cols: 0\n",
      "Length after blank drop: 1096\n",
      "ARIMA Model...... "
     ]
    },
    {
     "name": "stderr",
     "output_type": "stream",
     "text": [
      "INFO:prophet:Disabling yearly seasonality. Run prophet with yearly_seasonality=True to override this.\n"
     ]
    },
    {
     "name": "stdout",
     "output_type": "stream",
     "text": [
      "RMSE: 4.0624145738917035\n",
      "Prophet...... RMSE: 4.062637873353163\n",
      "XGBoost...... RMSE: 4.062580463614074\n",
      "\n",
      "\n",
      "106_3.pkl\n",
      "not enough data\n",
      "107_0.pkl\n",
      "Length on load: 26304\n",
      "Length after agg: 1096\n",
      "Dropped N/A cols: 0\n",
      "Length after blank drop: 1096\n",
      "ARIMA Model...... "
     ]
    },
    {
     "name": "stderr",
     "output_type": "stream",
     "text": [
      "INFO:prophet:Disabling yearly seasonality. Run prophet with yearly_seasonality=True to override this.\n"
     ]
    },
    {
     "name": "stdout",
     "output_type": "stream",
     "text": [
      "RMSE: 49.6165473900535\n",
      "Prophet...... RMSE: 315.17104131425424\n",
      "XGBoost...... RMSE: 52.75902231873264\n",
      "\n",
      "\n",
      "108_0.pkl\n",
      "Length on load: 26304\n",
      "Length after agg: 1096\n",
      "Dropped N/A cols: 0\n",
      "Length after blank drop: 1096\n",
      "ARIMA Model...... "
     ]
    },
    {
     "name": "stderr",
     "output_type": "stream",
     "text": [
      "INFO:prophet:Disabling yearly seasonality. Run prophet with yearly_seasonality=True to override this.\n"
     ]
    },
    {
     "name": "stdout",
     "output_type": "stream",
     "text": [
      "RMSE: 40.23618226211431\n",
      "Prophet...... RMSE: 56.842360194354406\n",
      "XGBoost...... RMSE: 42.18243983623774\n",
      "\n",
      "\n",
      "109_0.pkl\n",
      "Length on load: 26304\n",
      "Length after agg: 1096\n",
      "Dropped N/A cols: 0\n",
      "Length after blank drop: 1096\n",
      "ARIMA Model...... "
     ]
    },
    {
     "name": "stderr",
     "output_type": "stream",
     "text": [
      "INFO:prophet:Disabling yearly seasonality. Run prophet with yearly_seasonality=True to override this.\n"
     ]
    },
    {
     "name": "stdout",
     "output_type": "stream",
     "text": [
      "RMSE: 54.19906011738591\n",
      "Prophet...... RMSE: 24.53070081655945\n",
      "XGBoost...... RMSE: 51.72201284203983\n",
      "\n",
      "\n",
      "109_3.pkl\n",
      "not enough data\n",
      "110_0.pkl\n",
      "Length on load: 26304\n",
      "Length after agg: 1096\n",
      "Dropped N/A cols: 0\n",
      "Length after blank drop: 1096\n",
      "ARIMA Model...... "
     ]
    },
    {
     "name": "stderr",
     "output_type": "stream",
     "text": [
      "INFO:prophet:Disabling yearly seasonality. Run prophet with yearly_seasonality=True to override this.\n"
     ]
    },
    {
     "name": "stdout",
     "output_type": "stream",
     "text": [
      "RMSE: 42.490517742727214\n",
      "Prophet...... RMSE: 48.79436674535307\n",
      "XGBoost...... RMSE: 59.921670552064874\n",
      "\n",
      "\n",
      "111_0.pkl\n",
      "Length on load: 26304\n",
      "Length after agg: 1096\n",
      "Dropped N/A cols: 0\n",
      "Length after blank drop: 1096\n",
      "ARIMA Model...... "
     ]
    },
    {
     "name": "stderr",
     "output_type": "stream",
     "text": [
      "INFO:prophet:Disabling yearly seasonality. Run prophet with yearly_seasonality=True to override this.\n"
     ]
    },
    {
     "name": "stdout",
     "output_type": "stream",
     "text": [
      "RMSE: 37.91589914681926\n",
      "Prophet...... RMSE: 24.307293957553878\n",
      "XGBoost...... RMSE: 32.54569221130318\n",
      "\n",
      "\n",
      "112_0.pkl\n",
      "Length on load: 26304\n",
      "Length after agg: 1096\n",
      "Dropped N/A cols: 0\n",
      "Length after blank drop: 1096\n",
      "ARIMA Model...... "
     ]
    },
    {
     "name": "stderr",
     "output_type": "stream",
     "text": [
      "INFO:prophet:Disabling yearly seasonality. Run prophet with yearly_seasonality=True to override this.\n"
     ]
    },
    {
     "name": "stdout",
     "output_type": "stream",
     "text": [
      "RMSE: 68.49888513426411\n",
      "Prophet...... RMSE: 81.83183223518458\n",
      "XGBoost...... RMSE: 77.43220017779407\n",
      "\n",
      "\n",
      "112_3.pkl\n",
      "not enough data\n",
      "113_0.pkl\n",
      "Length on load: 26304\n",
      "Length after agg: 1096\n",
      "Dropped N/A cols: 0\n",
      "Length after blank drop: 1096\n",
      "ARIMA Model...... "
     ]
    },
    {
     "name": "stderr",
     "output_type": "stream",
     "text": [
      "INFO:prophet:Disabling yearly seasonality. Run prophet with yearly_seasonality=True to override this.\n"
     ]
    },
    {
     "name": "stdout",
     "output_type": "stream",
     "text": [
      "RMSE: 18.61095079114186\n",
      "Prophet...... RMSE: 20.622997505974478\n",
      "XGBoost...... RMSE: 22.37798932121619\n",
      "\n",
      "\n",
      "113_3.pkl\n",
      "Length on load: 26300\n",
      "Length after agg: 1096\n",
      "Dropped N/A cols: 0\n",
      "Length after blank drop: 1096\n",
      "ARIMA Model...... "
     ]
    },
    {
     "name": "stderr",
     "output_type": "stream",
     "text": [
      "INFO:prophet:Disabling yearly seasonality. Run prophet with yearly_seasonality=True to override this.\n"
     ]
    },
    {
     "name": "stdout",
     "output_type": "stream",
     "text": [
      "RMSE: 28.780238866537903\n",
      "Prophet...... RMSE: 6.610334767598305\n",
      "XGBoost...... RMSE: 7.273094830954995\n",
      "\n",
      "\n",
      "114_0.pkl\n",
      "Length on load: 26304\n",
      "Length after agg: 1096\n",
      "Dropped N/A cols: 0\n",
      "Length after blank drop: 1096\n",
      "ARIMA Model...... "
     ]
    },
    {
     "name": "stderr",
     "output_type": "stream",
     "text": [
      "INFO:prophet:Disabling yearly seasonality. Run prophet with yearly_seasonality=True to override this.\n"
     ]
    },
    {
     "name": "stdout",
     "output_type": "stream",
     "text": [
      "RMSE: 132.49255880543254\n",
      "Prophet...... RMSE: 87.6493037955492\n",
      "XGBoost...... RMSE: 77.66165697859346\n",
      "\n",
      "\n",
      "114_3.pkl\n",
      "not enough data\n",
      "115_0.pkl\n",
      "Length on load: 26304\n",
      "Length after agg: 1096\n",
      "Dropped N/A cols: 0\n",
      "Length after blank drop: 1096\n",
      "ARIMA Model...... "
     ]
    },
    {
     "name": "stderr",
     "output_type": "stream",
     "text": [
      "INFO:prophet:Disabling yearly seasonality. Run prophet with yearly_seasonality=True to override this.\n"
     ]
    },
    {
     "name": "stdout",
     "output_type": "stream",
     "text": [
      "RMSE: 125.28066522940715\n",
      "Prophet...... RMSE: 45.4616235520783\n",
      "XGBoost...... RMSE: 44.56270470475512\n",
      "\n",
      "\n",
      "116_0.pkl\n",
      "Length on load: 26304\n",
      "Length after agg: 1096\n",
      "Dropped N/A cols: 0\n",
      "Length after blank drop: 1096\n",
      "ARIMA Model...... "
     ]
    },
    {
     "name": "stderr",
     "output_type": "stream",
     "text": [
      "INFO:prophet:Disabling yearly seasonality. Run prophet with yearly_seasonality=True to override this.\n"
     ]
    },
    {
     "name": "stdout",
     "output_type": "stream",
     "text": [
      "RMSE: 14.028278591427778\n",
      "Prophet...... RMSE: 11.178708557284818\n",
      "XGBoost...... RMSE: 13.524221233596839\n",
      "\n",
      "\n",
      "117_0.pkl\n",
      "Length on load: 26304\n",
      "Length after agg: 1096\n",
      "Dropped N/A cols: 0\n",
      "Length after blank drop: 1096\n",
      "ARIMA Model...... "
     ]
    },
    {
     "name": "stderr",
     "output_type": "stream",
     "text": [
      "INFO:prophet:Disabling yearly seasonality. Run prophet with yearly_seasonality=True to override this.\n"
     ]
    },
    {
     "name": "stdout",
     "output_type": "stream",
     "text": [
      "RMSE: 6.38086340015132\n",
      "Prophet...... RMSE: 5.331695243462889\n",
      "XGBoost...... RMSE: 5.590361977789519\n",
      "\n",
      "\n",
      "117_3.pkl\n",
      "Length on load: 26304\n",
      "Length after agg: 1096\n",
      "Dropped N/A cols: 0\n",
      "Length after blank drop: 1096\n",
      "ARIMA Model...... "
     ]
    },
    {
     "name": "stderr",
     "output_type": "stream",
     "text": [
      "INFO:prophet:Disabling yearly seasonality. Run prophet with yearly_seasonality=True to override this.\n"
     ]
    },
    {
     "name": "stdout",
     "output_type": "stream",
     "text": [
      "RMSE: 41.89230378085018\n",
      "Prophet...... RMSE: 28.2983662741114\n",
      "XGBoost...... RMSE: 46.397873803905576\n",
      "\n",
      "\n",
      "118_0.pkl\n",
      "Length on load: 26304\n",
      "Length after agg: 1096\n",
      "Dropped N/A cols: 0\n",
      "Length after blank drop: 1096\n",
      "ARIMA Model...... "
     ]
    },
    {
     "name": "stderr",
     "output_type": "stream",
     "text": [
      "INFO:prophet:Disabling yearly seasonality. Run prophet with yearly_seasonality=True to override this.\n"
     ]
    },
    {
     "name": "stdout",
     "output_type": "stream",
     "text": [
      "RMSE: 77.02340526201853\n",
      "Prophet...... RMSE: 69.22541172459016\n",
      "XGBoost...... RMSE: 67.34723316500367\n",
      "\n",
      "\n",
      "119_0.pkl\n",
      "Length on load: 26304\n",
      "Length after agg: 1096\n",
      "Dropped N/A cols: 0\n",
      "Length after blank drop: 1096\n",
      "ARIMA Model...... "
     ]
    },
    {
     "name": "stderr",
     "output_type": "stream",
     "text": [
      "INFO:prophet:Disabling yearly seasonality. Run prophet with yearly_seasonality=True to override this.\n"
     ]
    },
    {
     "name": "stdout",
     "output_type": "stream",
     "text": [
      "RMSE: 65.48552384498629\n",
      "Prophet...... RMSE: 64.73460287905527\n",
      "XGBoost...... RMSE: 46.12528011919583\n",
      "\n",
      "\n",
      "119_3.pkl\n",
      "Length on load: 26304\n",
      "Length after agg: 1096\n",
      "Dropped N/A cols: 0\n",
      "Length after blank drop: 1096\n",
      "ARIMA Model...... "
     ]
    },
    {
     "name": "stderr",
     "output_type": "stream",
     "text": [
      "INFO:prophet:Disabling yearly seasonality. Run prophet with yearly_seasonality=True to override this.\n"
     ]
    },
    {
     "name": "stdout",
     "output_type": "stream",
     "text": [
      "RMSE: 55.78210448191887\n",
      "Prophet...... RMSE: 65.54298851696417\n",
      "XGBoost...... RMSE: 73.62985950540457\n",
      "\n",
      "\n",
      "120_0.pkl\n",
      "Length on load: 26304\n",
      "Length after agg: 1096\n",
      "Dropped N/A cols: 0\n",
      "Length after blank drop: 1096\n",
      "ARIMA Model...... "
     ]
    },
    {
     "name": "stderr",
     "output_type": "stream",
     "text": [
      "INFO:prophet:Disabling yearly seasonality. Run prophet with yearly_seasonality=True to override this.\n"
     ]
    },
    {
     "name": "stdout",
     "output_type": "stream",
     "text": [
      "RMSE: 75.15698853717026\n",
      "Prophet...... RMSE: 69.02305120591461\n",
      "XGBoost...... RMSE: 66.27489614242522\n",
      "\n",
      "\n",
      "121_0.pkl\n",
      "Length on load: 26304\n",
      "Length after agg: 1096\n",
      "Dropped N/A cols: 0\n",
      "Length after blank drop: 1096\n",
      "ARIMA Model...... "
     ]
    },
    {
     "name": "stderr",
     "output_type": "stream",
     "text": [
      "INFO:prophet:Disabling yearly seasonality. Run prophet with yearly_seasonality=True to override this.\n"
     ]
    },
    {
     "name": "stdout",
     "output_type": "stream",
     "text": [
      "RMSE: 106.94237887404603\n",
      "Prophet...... RMSE: 120.01764090157367\n",
      "XGBoost...... RMSE: 105.38407527780109\n",
      "\n",
      "\n",
      "121_3.pkl\n",
      "Length on load: 26290\n",
      "Length after agg: 1096\n",
      "Dropped N/A cols: 0\n",
      "Length after blank drop: 1096\n",
      "ARIMA Model...... "
     ]
    },
    {
     "name": "stderr",
     "output_type": "stream",
     "text": [
      "INFO:prophet:Disabling yearly seasonality. Run prophet with yearly_seasonality=True to override this.\n"
     ]
    },
    {
     "name": "stdout",
     "output_type": "stream",
     "text": [
      "RMSE: 1121.8005187027318\n",
      "Prophet...... RMSE: 229.9667091824299\n",
      "XGBoost...... RMSE: 200.70409975436402\n",
      "\n",
      "\n",
      "122_0.pkl\n",
      "Length on load: 26304\n",
      "Length after agg: 1096\n",
      "Dropped N/A cols: 0\n",
      "Length after blank drop: 1096\n",
      "ARIMA Model...... "
     ]
    },
    {
     "name": "stderr",
     "output_type": "stream",
     "text": [
      "INFO:prophet:Disabling yearly seasonality. Run prophet with yearly_seasonality=True to override this.\n"
     ]
    },
    {
     "name": "stdout",
     "output_type": "stream",
     "text": [
      "RMSE: 19.974014027156\n",
      "Prophet...... RMSE: 32.905748840458834\n",
      "XGBoost...... RMSE: 18.673584584261604\n",
      "\n",
      "\n",
      "123_0.pkl\n",
      "Length on load: 26304\n",
      "Length after agg: 1096\n",
      "Dropped N/A cols: 0\n",
      "Length after blank drop: 1096\n",
      "ARIMA Model...... "
     ]
    },
    {
     "name": "stderr",
     "output_type": "stream",
     "text": [
      "INFO:prophet:Disabling yearly seasonality. Run prophet with yearly_seasonality=True to override this.\n"
     ]
    },
    {
     "name": "stdout",
     "output_type": "stream",
     "text": [
      "RMSE: 16.665425457517692\n",
      "Prophet...... RMSE: 38.315607017666764\n",
      "XGBoost...... RMSE: 18.588058953854645\n",
      "\n",
      "\n",
      "124_0.pkl\n",
      "Length on load: 26304\n",
      "Length after agg: 1096\n",
      "Dropped N/A cols: 0\n",
      "Length after blank drop: 1096\n",
      "ARIMA Model...... "
     ]
    },
    {
     "name": "stderr",
     "output_type": "stream",
     "text": [
      "INFO:prophet:Disabling yearly seasonality. Run prophet with yearly_seasonality=True to override this.\n"
     ]
    },
    {
     "name": "stdout",
     "output_type": "stream",
     "text": [
      "RMSE: 8.63203457662894\n",
      "Prophet...... RMSE: 9.021392333491365\n",
      "XGBoost...... RMSE: 9.127501935466258\n",
      "\n",
      "\n",
      "125_0.pkl\n",
      "Length on load: 26304\n",
      "Length after agg: 1096\n",
      "Dropped N/A cols: 0\n",
      "Length after blank drop: 1096\n",
      "ARIMA Model...... "
     ]
    },
    {
     "name": "stderr",
     "output_type": "stream",
     "text": [
      "INFO:prophet:Disabling yearly seasonality. Run prophet with yearly_seasonality=True to override this.\n"
     ]
    },
    {
     "name": "stdout",
     "output_type": "stream",
     "text": [
      "RMSE: 19.973618502439017\n",
      "Prophet...... RMSE: 32.35453689679688\n",
      "XGBoost...... RMSE: 34.25578899547685\n",
      "\n",
      "\n",
      "126_0.pkl\n",
      "Length on load: 26304\n",
      "Length after agg: 1096\n",
      "Dropped N/A cols: 0\n",
      "Length after blank drop: 1096\n",
      "ARIMA Model...... "
     ]
    },
    {
     "name": "stderr",
     "output_type": "stream",
     "text": [
      "INFO:prophet:Disabling yearly seasonality. Run prophet with yearly_seasonality=True to override this.\n"
     ]
    },
    {
     "name": "stdout",
     "output_type": "stream",
     "text": [
      "RMSE: 13.120751265426783\n",
      "Prophet...... RMSE: 13.631988982657862\n",
      "XGBoost...... RMSE: 11.721003278309325\n",
      "\n",
      "\n",
      "127_0.pkl\n",
      "Length on load: 26304\n",
      "Length after agg: 1096\n",
      "Dropped N/A cols: 0\n",
      "Length after blank drop: 1096\n",
      "ARIMA Model...... "
     ]
    },
    {
     "name": "stderr",
     "output_type": "stream",
     "text": [
      "INFO:prophet:Disabling yearly seasonality. Run prophet with yearly_seasonality=True to override this.\n"
     ]
    },
    {
     "name": "stdout",
     "output_type": "stream",
     "text": [
      "RMSE: 2.454684927949598\n",
      "Prophet...... RMSE: 6.50181165075815\n",
      "XGBoost...... RMSE: 4.672502882820762\n",
      "\n",
      "\n",
      "128_0.pkl\n",
      "Length on load: 26304\n",
      "Length after agg: 1096\n",
      "Dropped N/A cols: 0\n",
      "Length after blank drop: 1096\n",
      "ARIMA Model...... "
     ]
    },
    {
     "name": "stderr",
     "output_type": "stream",
     "text": [
      "INFO:prophet:Disabling yearly seasonality. Run prophet with yearly_seasonality=True to override this.\n"
     ]
    },
    {
     "name": "stdout",
     "output_type": "stream",
     "text": [
      "RMSE: 14.351523640201414\n",
      "Prophet...... RMSE: 22.619894437093365\n",
      "XGBoost...... RMSE: 15.587471140875158\n",
      "\n",
      "\n",
      "129_0.pkl\n",
      "Length on load: 26304\n",
      "Length after agg: 1096\n",
      "Dropped N/A cols: 0\n",
      "Length after blank drop: 1096\n",
      "ARIMA Model...... "
     ]
    },
    {
     "name": "stderr",
     "output_type": "stream",
     "text": [
      "INFO:prophet:Disabling yearly seasonality. Run prophet with yearly_seasonality=True to override this.\n"
     ]
    },
    {
     "name": "stdout",
     "output_type": "stream",
     "text": [
      "RMSE: 18.538864830746853\n",
      "Prophet...... RMSE: 24.364150717789713\n",
      "XGBoost...... RMSE: 25.501836942980788\n",
      "\n",
      "\n",
      "130_0.pkl\n",
      "Length on load: 26304\n",
      "Length after agg: 1096\n",
      "Dropped N/A cols: 0\n",
      "Length after blank drop: 1096\n",
      "ARIMA Model...... "
     ]
    },
    {
     "name": "stderr",
     "output_type": "stream",
     "text": [
      "INFO:prophet:Disabling yearly seasonality. Run prophet with yearly_seasonality=True to override this.\n"
     ]
    },
    {
     "name": "stdout",
     "output_type": "stream",
     "text": [
      "RMSE: 8.308133778212499\n",
      "Prophet...... RMSE: 7.733933842124342\n",
      "XGBoost...... RMSE: 7.867057878741819\n",
      "\n",
      "\n",
      "131_0.pkl\n",
      "Length on load: 26304\n",
      "Length after agg: 1096\n",
      "Dropped N/A cols: 0\n",
      "Length after blank drop: 1096\n",
      "ARIMA Model...... "
     ]
    },
    {
     "name": "stderr",
     "output_type": "stream",
     "text": [
      "INFO:prophet:Disabling yearly seasonality. Run prophet with yearly_seasonality=True to override this.\n"
     ]
    },
    {
     "name": "stdout",
     "output_type": "stream",
     "text": [
      "RMSE: 190.84318983936208\n",
      "Prophet...... RMSE: 73.84019473015209\n",
      "XGBoost...... RMSE: 74.47538133039484\n",
      "\n",
      "\n",
      "132_0.pkl\n",
      "Length on load: 26304\n",
      "Length after agg: 1096\n",
      "Dropped N/A cols: 0\n",
      "Length after blank drop: 1096\n",
      "ARIMA Model...... "
     ]
    },
    {
     "name": "stderr",
     "output_type": "stream",
     "text": [
      "INFO:prophet:Disabling yearly seasonality. Run prophet with yearly_seasonality=True to override this.\n"
     ]
    },
    {
     "name": "stdout",
     "output_type": "stream",
     "text": [
      "RMSE: 13.52596221002461\n",
      "Prophet...... RMSE: 19.18924209009349\n",
      "XGBoost...... RMSE: 17.43571602131291\n",
      "\n",
      "\n",
      "133_0.pkl\n",
      "Length on load: 26304\n",
      "Length after agg: 1096\n",
      "Dropped N/A cols: 0\n",
      "Length after blank drop: 1096\n",
      "ARIMA Model...... "
     ]
    },
    {
     "name": "stderr",
     "output_type": "stream",
     "text": [
      "INFO:prophet:Disabling yearly seasonality. Run prophet with yearly_seasonality=True to override this.\n"
     ]
    },
    {
     "name": "stdout",
     "output_type": "stream",
     "text": [
      "RMSE: 22.95458530535516\n",
      "Prophet...... RMSE: 19.40830714504826\n",
      "XGBoost...... RMSE: 16.542449713030763\n",
      "\n",
      "\n",
      "134_0.pkl\n",
      "Length on load: 26304\n",
      "Length after agg: 1096\n",
      "Dropped N/A cols: 0\n",
      "Length after blank drop: 1096\n",
      "ARIMA Model...... "
     ]
    },
    {
     "name": "stderr",
     "output_type": "stream",
     "text": [
      "INFO:prophet:Disabling yearly seasonality. Run prophet with yearly_seasonality=True to override this.\n"
     ]
    },
    {
     "name": "stdout",
     "output_type": "stream",
     "text": [
      "RMSE: 44.41700380594715\n",
      "Prophet...... RMSE: 36.34131498209664\n",
      "XGBoost...... RMSE: 34.46495665693025\n",
      "\n",
      "\n",
      "135_0.pkl\n",
      "Length on load: 26304\n",
      "Length after agg: 1096\n",
      "Dropped N/A cols: 0\n",
      "Length after blank drop: 1096\n",
      "ARIMA Model...... "
     ]
    },
    {
     "name": "stderr",
     "output_type": "stream",
     "text": [
      "INFO:prophet:Disabling yearly seasonality. Run prophet with yearly_seasonality=True to override this.\n"
     ]
    },
    {
     "name": "stdout",
     "output_type": "stream",
     "text": [
      "RMSE: 6.116240498319475\n",
      "Prophet...... RMSE: 7.674900096072033\n",
      "XGBoost...... RMSE: 5.254919640966692\n",
      "\n",
      "\n",
      "136_0.pkl\n",
      "Length on load: 26304\n",
      "Length after agg: 1096\n",
      "Dropped N/A cols: 0\n",
      "Length after blank drop: 1096\n",
      "ARIMA Model...... "
     ]
    },
    {
     "name": "stderr",
     "output_type": "stream",
     "text": [
      "INFO:prophet:Disabling yearly seasonality. Run prophet with yearly_seasonality=True to override this.\n"
     ]
    },
    {
     "name": "stdout",
     "output_type": "stream",
     "text": [
      "RMSE: 5.244822164812476\n",
      "Prophet...... RMSE: 7.9644001473313955\n",
      "XGBoost...... RMSE: 7.729390357086621\n",
      "\n",
      "\n",
      "137_0.pkl\n",
      "Length on load: 26304\n",
      "Length after agg: 1096\n",
      "Dropped N/A cols: 0\n",
      "Length after blank drop: 1096\n",
      "ARIMA Model...... "
     ]
    },
    {
     "name": "stderr",
     "output_type": "stream",
     "text": [
      "INFO:prophet:Disabling yearly seasonality. Run prophet with yearly_seasonality=True to override this.\n"
     ]
    },
    {
     "name": "stdout",
     "output_type": "stream",
     "text": [
      "RMSE: 12.632102670382379\n",
      "Prophet...... RMSE: 13.345524128774512\n",
      "XGBoost...... RMSE: 8.896691536943745\n",
      "\n",
      "\n",
      "138_0.pkl\n",
      "Length on load: 26304\n",
      "Length after agg: 1096\n",
      "Dropped N/A cols: 0\n",
      "Length after blank drop: 1096\n",
      "ARIMA Model...... "
     ]
    },
    {
     "name": "stderr",
     "output_type": "stream",
     "text": [
      "INFO:prophet:Disabling yearly seasonality. Run prophet with yearly_seasonality=True to override this.\n"
     ]
    },
    {
     "name": "stdout",
     "output_type": "stream",
     "text": [
      "RMSE: 32.19236762695571\n",
      "Prophet...... RMSE: 27.671978739807745\n",
      "XGBoost...... RMSE: 23.995834765965995\n",
      "\n",
      "\n",
      "138_3.pkl\n",
      "not enough data\n",
      "139_0.pkl\n",
      "Length on load: 26304\n",
      "Length after agg: 1096\n",
      "Dropped N/A cols: 0\n",
      "Length after blank drop: 1096\n",
      "ARIMA Model...... "
     ]
    },
    {
     "name": "stderr",
     "output_type": "stream",
     "text": [
      "INFO:prophet:Disabling yearly seasonality. Run prophet with yearly_seasonality=True to override this.\n"
     ]
    },
    {
     "name": "stdout",
     "output_type": "stream",
     "text": [
      "RMSE: 15.658975761434647\n",
      "Prophet...... RMSE: 22.50737713484998\n",
      "XGBoost...... RMSE: 18.894271940640003\n",
      "\n",
      "\n",
      "139_3.pkl\n",
      "not enough data\n",
      "140_0.pkl\n",
      "Length on load: 26304\n",
      "Length after agg: 1096\n",
      "Dropped N/A cols: 0\n",
      "Length after blank drop: 1096\n",
      "ARIMA Model...... "
     ]
    },
    {
     "name": "stderr",
     "output_type": "stream",
     "text": [
      "INFO:prophet:Disabling yearly seasonality. Run prophet with yearly_seasonality=True to override this.\n"
     ]
    },
    {
     "name": "stdout",
     "output_type": "stream",
     "text": [
      "RMSE: 7.560448672617813\n",
      "Prophet...... RMSE: 6.716173641711271\n",
      "XGBoost...... RMSE: 5.793588320586966\n",
      "\n",
      "\n",
      "141_0.pkl\n",
      "Length on load: 26304\n",
      "Length after agg: 1096\n",
      "Dropped N/A cols: 0\n",
      "Length after blank drop: 1096\n",
      "ARIMA Model...... "
     ]
    },
    {
     "name": "stderr",
     "output_type": "stream",
     "text": [
      "INFO:prophet:Disabling yearly seasonality. Run prophet with yearly_seasonality=True to override this.\n"
     ]
    },
    {
     "name": "stdout",
     "output_type": "stream",
     "text": [
      "RMSE: 18.312664465649718\n",
      "Prophet...... RMSE: 15.884846568517073\n",
      "XGBoost...... RMSE: 12.999222209540358\n",
      "\n",
      "\n",
      "142_0.pkl\n",
      "Length on load: 26304\n",
      "Length after agg: 1096\n",
      "Dropped N/A cols: 0\n",
      "Length after blank drop: 1096\n",
      "ARIMA Model...... "
     ]
    },
    {
     "name": "stderr",
     "output_type": "stream",
     "text": [
      "INFO:prophet:Disabling yearly seasonality. Run prophet with yearly_seasonality=True to override this.\n"
     ]
    },
    {
     "name": "stdout",
     "output_type": "stream",
     "text": [
      "RMSE: 8.544175584089349\n",
      "Prophet...... RMSE: 8.134273523257848\n",
      "XGBoost...... RMSE: 6.186967518440167\n",
      "\n",
      "\n",
      "143_0.pkl\n",
      "Length on load: 26304\n",
      "Length after agg: 1096\n",
      "Dropped N/A cols: 0\n",
      "Length after blank drop: 1096\n",
      "ARIMA Model...... "
     ]
    },
    {
     "name": "stderr",
     "output_type": "stream",
     "text": [
      "INFO:prophet:Disabling yearly seasonality. Run prophet with yearly_seasonality=True to override this.\n"
     ]
    },
    {
     "name": "stdout",
     "output_type": "stream",
     "text": [
      "RMSE: 9.35599908701748\n",
      "Prophet...... RMSE: 9.461386034586171\n",
      "XGBoost...... RMSE: 8.911306737809973\n",
      "\n",
      "\n",
      "144_0.pkl\n",
      "Length on load: 26304\n",
      "Length after agg: 1096\n",
      "Dropped N/A cols: 0\n",
      "Length after blank drop: 1096\n",
      "ARIMA Model...... "
     ]
    },
    {
     "name": "stderr",
     "output_type": "stream",
     "text": [
      "INFO:prophet:Disabling yearly seasonality. Run prophet with yearly_seasonality=True to override this.\n"
     ]
    },
    {
     "name": "stdout",
     "output_type": "stream",
     "text": [
      "RMSE: 66.12787363555921\n",
      "Prophet...... RMSE: 43.31631885249862\n",
      "XGBoost...... RMSE: 56.72170754024719\n",
      "\n",
      "\n",
      "144_3.pkl\n",
      "not enough data\n",
      "145_0.pkl\n",
      "Length on load: 26304\n",
      "Length after agg: 1096\n",
      "Dropped N/A cols: 0\n",
      "Length after blank drop: 1096\n",
      "ARIMA Model...... "
     ]
    },
    {
     "name": "stderr",
     "output_type": "stream",
     "text": [
      "INFO:prophet:Disabling yearly seasonality. Run prophet with yearly_seasonality=True to override this.\n"
     ]
    },
    {
     "name": "stdout",
     "output_type": "stream",
     "text": [
      "RMSE: 6.266275449721625\n",
      "Prophet...... RMSE: 3.700935555716634\n",
      "XGBoost...... RMSE: 3.7153748452599387\n",
      "\n",
      "\n",
      "145_3.pkl\n",
      "not enough data\n",
      "146_0.pkl\n",
      "Length on load: 26304\n",
      "Length after agg: 1096\n",
      "Dropped N/A cols: 0\n",
      "Length after blank drop: 1096\n",
      "ARIMA Model...... "
     ]
    },
    {
     "name": "stderr",
     "output_type": "stream",
     "text": [
      "INFO:prophet:Disabling yearly seasonality. Run prophet with yearly_seasonality=True to override this.\n"
     ]
    },
    {
     "name": "stdout",
     "output_type": "stream",
     "text": [
      "RMSE: 11.49102443703663\n",
      "Prophet...... RMSE: 10.759239080353773\n",
      "XGBoost...... RMSE: 10.944584236146408\n",
      "\n",
      "\n",
      "147_0.pkl\n",
      "Length on load: 26304\n",
      "Length after agg: 1096\n",
      "Dropped N/A cols: 0\n",
      "Length after blank drop: 1096\n",
      "ARIMA Model...... "
     ]
    },
    {
     "name": "stderr",
     "output_type": "stream",
     "text": [
      "INFO:prophet:Disabling yearly seasonality. Run prophet with yearly_seasonality=True to override this.\n"
     ]
    },
    {
     "name": "stdout",
     "output_type": "stream",
     "text": [
      "RMSE: 49.59549983141489\n",
      "Prophet...... RMSE: 218.85852196204976\n",
      "XGBoost...... RMSE: 20.862681615347906\n",
      "\n",
      "\n",
      "148_0.pkl\n",
      "Length on load: 26304\n",
      "Length after agg: 1096\n",
      "Dropped N/A cols: 0\n",
      "Length after blank drop: 1096\n",
      "ARIMA Model...... "
     ]
    },
    {
     "name": "stderr",
     "output_type": "stream",
     "text": [
      "INFO:prophet:Disabling yearly seasonality. Run prophet with yearly_seasonality=True to override this.\n"
     ]
    },
    {
     "name": "stdout",
     "output_type": "stream",
     "text": [
      "RMSE: 58.03131243096918\n",
      "Prophet...... RMSE: 60.888718808957435\n",
      "XGBoost...... RMSE: 62.94998751624483\n",
      "\n",
      "\n",
      "149_0.pkl\n",
      "Length on load: 26304\n",
      "Length after agg: 1096\n",
      "Dropped N/A cols: 0\n",
      "Length after blank drop: 1096\n",
      "ARIMA Model...... "
     ]
    },
    {
     "name": "stderr",
     "output_type": "stream",
     "text": [
      "INFO:prophet:Disabling yearly seasonality. Run prophet with yearly_seasonality=True to override this.\n"
     ]
    },
    {
     "name": "stdout",
     "output_type": "stream",
     "text": [
      "RMSE: 23.6091756868812\n",
      "Prophet...... RMSE: 15.625082058175959\n",
      "XGBoost...... RMSE: 22.569050992866764\n",
      "\n",
      "\n",
      "150_0.pkl\n",
      "Length on load: 26304\n",
      "Length after agg: 1096\n",
      "Dropped N/A cols: 0\n",
      "Length after blank drop: 1096\n",
      "ARIMA Model...... "
     ]
    },
    {
     "name": "stderr",
     "output_type": "stream",
     "text": [
      "INFO:prophet:Disabling yearly seasonality. Run prophet with yearly_seasonality=True to override this.\n"
     ]
    },
    {
     "name": "stdout",
     "output_type": "stream",
     "text": [
      "RMSE: 41.930657233802854\n",
      "Prophet...... RMSE: 52.58747128751813\n",
      "XGBoost...... RMSE: 31.524546672333933\n",
      "\n",
      "\n",
      "151_0.pkl\n",
      "Length on load: 26304\n",
      "Length after agg: 1096\n",
      "Dropped N/A cols: 0\n",
      "Length after blank drop: 1096\n",
      "ARIMA Model...... "
     ]
    },
    {
     "name": "stderr",
     "output_type": "stream",
     "text": [
      "INFO:prophet:Disabling yearly seasonality. Run prophet with yearly_seasonality=True to override this.\n"
     ]
    },
    {
     "name": "stdout",
     "output_type": "stream",
     "text": [
      "RMSE: 9.045586692445923\n",
      "Prophet...... RMSE: 14.113047548253348\n",
      "XGBoost...... RMSE: 8.633490644394987\n",
      "\n",
      "\n",
      "152_0.pkl\n",
      "Length on load: 26302\n",
      "Length after agg: 1096\n",
      "Dropped N/A cols: 0\n",
      "Length after blank drop: 1096\n",
      "ARIMA Model...... "
     ]
    },
    {
     "name": "stderr",
     "output_type": "stream",
     "text": [
      "INFO:prophet:Disabling yearly seasonality. Run prophet with yearly_seasonality=True to override this.\n"
     ]
    },
    {
     "name": "stdout",
     "output_type": "stream",
     "text": [
      "RMSE: 6.298788426526153\n",
      "Prophet...... RMSE: 4.6746745019491005\n",
      "XGBoost...... RMSE: 3.0449989384029794\n",
      "\n",
      "\n",
      "153_0.pkl\n",
      "Length on load: 26304\n",
      "Length after agg: 1096\n",
      "Dropped N/A cols: 0\n",
      "Length after blank drop: 1096\n",
      "ARIMA Model...... "
     ]
    },
    {
     "name": "stderr",
     "output_type": "stream",
     "text": [
      "INFO:prophet:Disabling yearly seasonality. Run prophet with yearly_seasonality=True to override this.\n"
     ]
    },
    {
     "name": "stdout",
     "output_type": "stream",
     "text": [
      "RMSE: 5.517803687566678\n",
      "Prophet...... RMSE: 4.008422076368974\n",
      "XGBoost...... RMSE: 4.3622177910240945\n",
      "\n",
      "\n",
      "154_0.pkl\n",
      "Length on load: 26304\n",
      "Length after agg: 1096\n",
      "Dropped N/A cols: 0\n",
      "Length after blank drop: 1096\n",
      "ARIMA Model...... "
     ]
    },
    {
     "name": "stderr",
     "output_type": "stream",
     "text": [
      "INFO:prophet:Disabling yearly seasonality. Run prophet with yearly_seasonality=True to override this.\n"
     ]
    },
    {
     "name": "stdout",
     "output_type": "stream",
     "text": [
      "RMSE: 19.08837975470706\n",
      "Prophet...... RMSE: 26.921069035388804\n",
      "XGBoost...... RMSE: 21.697991532679357\n",
      "\n",
      "\n",
      "155_0.pkl\n",
      "Length on load: 26304\n",
      "Length after agg: 1096\n",
      "Dropped N/A cols: 0\n",
      "Length after blank drop: 1096\n",
      "ARIMA Model...... "
     ]
    },
    {
     "name": "stderr",
     "output_type": "stream",
     "text": [
      "INFO:prophet:Disabling yearly seasonality. Run prophet with yearly_seasonality=True to override this.\n"
     ]
    },
    {
     "name": "stdout",
     "output_type": "stream",
     "text": [
      "RMSE: 14.76413143046618\n",
      "Prophet...... RMSE: 16.282185793609926\n",
      "XGBoost...... RMSE: 14.621214345301258\n",
      "\n",
      "\n",
      "156_0.pkl\n",
      "Length on load: 26303\n",
      "Length after agg: 1096\n",
      "Dropped N/A cols: 0\n",
      "Length after blank drop: 1096\n",
      "ARIMA Model...... "
     ]
    },
    {
     "name": "stderr",
     "output_type": "stream",
     "text": [
      "INFO:prophet:Disabling yearly seasonality. Run prophet with yearly_seasonality=True to override this.\n"
     ]
    },
    {
     "name": "stdout",
     "output_type": "stream",
     "text": [
      "RMSE: 16.447158085389816\n",
      "Prophet...... RMSE: 24.248396977643498\n",
      "XGBoost...... RMSE: 13.906837319414969\n",
      "\n",
      "\n",
      "157_0.pkl\n",
      "Length on load: 26303\n",
      "Length after agg: 1096\n",
      "Dropped N/A cols: 0\n",
      "Length after blank drop: 1096\n",
      "ARIMA Model...... "
     ]
    },
    {
     "name": "stderr",
     "output_type": "stream",
     "text": [
      "INFO:prophet:Disabling yearly seasonality. Run prophet with yearly_seasonality=True to override this.\n"
     ]
    },
    {
     "name": "stdout",
     "output_type": "stream",
     "text": [
      "RMSE: 21.294978373124174\n",
      "Prophet...... RMSE: 18.61621540084239\n",
      "XGBoost...... RMSE: 13.360645303027853\n",
      "\n",
      "\n",
      "158_0.pkl\n",
      "Length on load: 26303\n",
      "Length after agg: 1096\n",
      "Dropped N/A cols: 0\n",
      "Length after blank drop: 1096\n",
      "ARIMA Model...... "
     ]
    },
    {
     "name": "stderr",
     "output_type": "stream",
     "text": [
      "INFO:prophet:Disabling yearly seasonality. Run prophet with yearly_seasonality=True to override this.\n"
     ]
    },
    {
     "name": "stdout",
     "output_type": "stream",
     "text": [
      "RMSE: 2.4248306431354005\n",
      "Prophet...... RMSE: 4.815522177496768\n",
      "XGBoost...... RMSE: 2.4249742923895843\n",
      "\n",
      "\n",
      "159_0.pkl\n",
      "Length on load: 26293\n",
      "Length after agg: 1096\n",
      "Dropped N/A cols: 0\n",
      "Length after blank drop: 1096\n",
      "ARIMA Model...... "
     ]
    },
    {
     "name": "stderr",
     "output_type": "stream",
     "text": [
      "INFO:prophet:Disabling yearly seasonality. Run prophet with yearly_seasonality=True to override this.\n"
     ]
    },
    {
     "name": "stdout",
     "output_type": "stream",
     "text": [
      "RMSE: 4.900078098118526\n",
      "Prophet...... RMSE: 5.019530938745944\n",
      "XGBoost...... RMSE: 4.470428693006591\n",
      "\n",
      "\n",
      "160_0.pkl\n",
      "Length on load: 26130\n",
      "Length after agg: 1096\n",
      "Dropped N/A cols: 0\n",
      "Length after blank drop: 1096\n",
      "ARIMA Model...... "
     ]
    },
    {
     "name": "stderr",
     "output_type": "stream",
     "text": [
      "INFO:prophet:Disabling yearly seasonality. Run prophet with yearly_seasonality=True to override this.\n"
     ]
    },
    {
     "name": "stdout",
     "output_type": "stream",
     "text": [
      "RMSE: 7.558897451355591\n",
      "Prophet...... RMSE: 14.632934366772638\n",
      "XGBoost...... RMSE: 5.360072549572743\n",
      "\n",
      "\n",
      "161_0.pkl\n",
      "Length on load: 26303\n",
      "Length after agg: 1096\n",
      "Dropped N/A cols: 0\n",
      "Length after blank drop: 1096\n",
      "ARIMA Model...... "
     ]
    },
    {
     "name": "stderr",
     "output_type": "stream",
     "text": [
      "INFO:prophet:Disabling yearly seasonality. Run prophet with yearly_seasonality=True to override this.\n"
     ]
    },
    {
     "name": "stdout",
     "output_type": "stream",
     "text": [
      "RMSE: 4.274301539729871\n",
      "Prophet...... RMSE: 3.630787633647379\n",
      "XGBoost...... RMSE: 4.099345024461367\n",
      "\n",
      "\n",
      "161_1.pkl\n",
      "Length on load: 26303\n",
      "Length after agg: 1096\n",
      "Dropped N/A cols: 0\n",
      "Length after blank drop: 1096\n",
      "ARIMA Model...... "
     ]
    },
    {
     "name": "stderr",
     "output_type": "stream",
     "text": [
      "INFO:prophet:Disabling yearly seasonality. Run prophet with yearly_seasonality=True to override this.\n"
     ]
    },
    {
     "name": "stdout",
     "output_type": "stream",
     "text": [
      "RMSE: 12.568682127948168\n",
      "Prophet...... RMSE: 18.126333063327223\n",
      "XGBoost...... RMSE: 7.454581355716957\n",
      "\n",
      "\n",
      "162_0.pkl\n",
      "Length on load: 26303\n",
      "Length after agg: 1096\n",
      "Dropped N/A cols: 0\n",
      "Length after blank drop: 1096\n",
      "ARIMA Model...... "
     ]
    },
    {
     "name": "stderr",
     "output_type": "stream",
     "text": [
      "INFO:prophet:Disabling yearly seasonality. Run prophet with yearly_seasonality=True to override this.\n"
     ]
    },
    {
     "name": "stdout",
     "output_type": "stream",
     "text": [
      "RMSE: 20.68239994759793\n",
      "Prophet...... RMSE: 11.350043497707535\n",
      "XGBoost...... RMSE: 18.469565842353408\n",
      "\n",
      "\n",
      "162_1.pkl\n",
      "not enough data\n",
      "163_0.pkl\n",
      "Length on load: 26303\n",
      "Length after agg: 1096\n",
      "Dropped N/A cols: 0\n",
      "Length after blank drop: 1096\n",
      "ARIMA Model...... "
     ]
    },
    {
     "name": "stderr",
     "output_type": "stream",
     "text": [
      "INFO:prophet:Disabling yearly seasonality. Run prophet with yearly_seasonality=True to override this.\n"
     ]
    },
    {
     "name": "stdout",
     "output_type": "stream",
     "text": [
      "RMSE: 12.696903733550872\n",
      "Prophet...... RMSE: 19.60720271747163\n",
      "XGBoost...... RMSE: 16.228985253821094\n",
      "\n",
      "\n",
      "163_1.pkl\n",
      "Length on load: 26303\n",
      "Length after agg: 1096\n",
      "Dropped N/A cols: 0\n",
      "Length after blank drop: 1096\n",
      "ARIMA Model...... "
     ]
    },
    {
     "name": "stderr",
     "output_type": "stream",
     "text": [
      "INFO:prophet:Disabling yearly seasonality. Run prophet with yearly_seasonality=True to override this.\n"
     ]
    },
    {
     "name": "stdout",
     "output_type": "stream",
     "text": [
      "RMSE: 326.0619882679454\n",
      "Prophet...... RMSE: 261.03971467073626\n",
      "XGBoost...... RMSE: 191.12196888580792\n",
      "\n",
      "\n",
      "163_3.pkl\n",
      "not enough data\n",
      "164_0.pkl\n",
      "Length on load: 26257\n",
      "Length after agg: 1096\n",
      "Dropped N/A cols: 0\n",
      "Length after blank drop: 1096\n",
      "ARIMA Model...... "
     ]
    },
    {
     "name": "stderr",
     "output_type": "stream",
     "text": [
      "INFO:prophet:Disabling yearly seasonality. Run prophet with yearly_seasonality=True to override this.\n"
     ]
    },
    {
     "name": "stdout",
     "output_type": "stream",
     "text": [
      "RMSE: 19.29222608716162\n",
      "Prophet...... RMSE: 17.881004421572754\n",
      "XGBoost...... RMSE: 15.993604081237805\n",
      "\n",
      "\n",
      "165_0.pkl\n",
      "Length on load: 26264\n",
      "Length after agg: 1096\n",
      "Dropped N/A cols: 0\n",
      "Length after blank drop: 1096\n",
      "ARIMA Model...... "
     ]
    },
    {
     "name": "stderr",
     "output_type": "stream",
     "text": [
      "INFO:prophet:Disabling yearly seasonality. Run prophet with yearly_seasonality=True to override this.\n"
     ]
    },
    {
     "name": "stdout",
     "output_type": "stream",
     "text": [
      "RMSE: 13.176897050026382\n",
      "Prophet...... RMSE: 13.266162209744152\n",
      "XGBoost...... RMSE: 15.130609683272912\n",
      "\n",
      "\n",
      "166_0.pkl\n",
      "Length on load: 26303\n",
      "Length after agg: 1096\n",
      "Dropped N/A cols: 0\n",
      "Length after blank drop: 1096\n",
      "ARIMA Model...... "
     ]
    },
    {
     "name": "stderr",
     "output_type": "stream",
     "text": [
      "INFO:prophet:Disabling yearly seasonality. Run prophet with yearly_seasonality=True to override this.\n"
     ]
    },
    {
     "name": "stdout",
     "output_type": "stream",
     "text": [
      "RMSE: 74.31203433099023\n",
      "Prophet...... RMSE: 109.9900043429626\n",
      "XGBoost...... RMSE: 93.94856399392529\n",
      "\n",
      "\n",
      "166_1.pkl\n",
      "Length on load: 26303\n",
      "Length after agg: 1096\n",
      "Dropped N/A cols: 0\n",
      "Length after blank drop: 1096\n",
      "ARIMA Model...... "
     ]
    },
    {
     "name": "stderr",
     "output_type": "stream",
     "text": [
      "INFO:prophet:Disabling yearly seasonality. Run prophet with yearly_seasonality=True to override this.\n"
     ]
    },
    {
     "name": "stdout",
     "output_type": "stream",
     "text": [
      "RMSE: 1144.8501786835432\n",
      "Prophet...... RMSE: 350.6837332483073\n",
      "XGBoost...... RMSE: 492.50472165930205\n",
      "\n",
      "\n",
      "166_3.pkl\n",
      "Length on load: 26303\n",
      "Length after agg: 1096\n",
      "Dropped N/A cols: 0\n",
      "Length after blank drop: 1096\n",
      "ARIMA Model...... "
     ]
    },
    {
     "name": "stderr",
     "output_type": "stream",
     "text": [
      "INFO:prophet:Disabling yearly seasonality. Run prophet with yearly_seasonality=True to override this.\n"
     ]
    },
    {
     "name": "stdout",
     "output_type": "stream",
     "text": [
      "RMSE: 31.117566301080693\n",
      "Prophet...... RMSE: 41.57739305600399\n",
      "XGBoost...... RMSE: 37.27971583255389\n",
      "\n",
      "\n",
      "167_0.pkl\n",
      "Length on load: 26303\n",
      "Length after agg: 1096\n",
      "Dropped N/A cols: 0\n",
      "Length after blank drop: 1096\n",
      "ARIMA Model...... "
     ]
    },
    {
     "name": "stderr",
     "output_type": "stream",
     "text": [
      "INFO:prophet:Disabling yearly seasonality. Run prophet with yearly_seasonality=True to override this.\n"
     ]
    },
    {
     "name": "stdout",
     "output_type": "stream",
     "text": [
      "RMSE: 10.157477024210555\n",
      "Prophet...... RMSE: 42.88507293923408\n",
      "XGBoost...... RMSE: 14.537759506243898\n",
      "\n",
      "\n",
      "167_1.pkl\n",
      "Length on load: 26303\n",
      "Length after agg: 1096\n",
      "Dropped N/A cols: 0\n",
      "Length after blank drop: 1096\n",
      "ARIMA Model...... "
     ]
    },
    {
     "name": "stderr",
     "output_type": "stream",
     "text": [
      "INFO:prophet:Disabling yearly seasonality. Run prophet with yearly_seasonality=True to override this.\n"
     ]
    },
    {
     "name": "stdout",
     "output_type": "stream",
     "text": [
      "RMSE: 87.39442874526765\n",
      "Prophet...... RMSE: 123.70001504365943\n",
      "XGBoost...... RMSE: 123.9721396699565\n",
      "\n",
      "\n",
      "167_3.pkl\n",
      "not enough data\n",
      "168_0.pkl\n",
      "Length on load: 26303\n",
      "Length after agg: 1096\n",
      "Dropped N/A cols: 0\n",
      "Length after blank drop: 1096\n",
      "ARIMA Model...... "
     ]
    },
    {
     "name": "stderr",
     "output_type": "stream",
     "text": [
      "INFO:prophet:Disabling yearly seasonality. Run prophet with yearly_seasonality=True to override this.\n"
     ]
    },
    {
     "name": "stdout",
     "output_type": "stream",
     "text": [
      "RMSE: 36.58289358494181\n",
      "Prophet...... RMSE: 14.890674575481508\n",
      "XGBoost...... RMSE: 16.889132666413\n",
      "\n",
      "\n",
      "168_1.pkl\n",
      "Length on load: 26303\n",
      "Length after agg: 1096\n",
      "Dropped N/A cols: 0\n",
      "Length after blank drop: 1096\n",
      "ARIMA Model...... "
     ]
    },
    {
     "name": "stderr",
     "output_type": "stream",
     "text": [
      "INFO:prophet:Disabling yearly seasonality. Run prophet with yearly_seasonality=True to override this.\n"
     ]
    },
    {
     "name": "stdout",
     "output_type": "stream",
     "text": [
      "RMSE: 1218.8152087774924\n",
      "Prophet...... RMSE: 153.09978217885038\n",
      "XGBoost...... RMSE: 228.20567416728886\n",
      "\n",
      "\n",
      "168_3.pkl\n",
      "Length on load: 26286\n",
      "Length after agg: 1096\n",
      "Dropped N/A cols: 0\n",
      "Length after blank drop: 1096\n",
      "ARIMA Model...... "
     ]
    },
    {
     "name": "stderr",
     "output_type": "stream",
     "text": [
      "INFO:prophet:Disabling yearly seasonality. Run prophet with yearly_seasonality=True to override this.\n"
     ]
    },
    {
     "name": "stdout",
     "output_type": "stream",
     "text": [
      "RMSE: 37.93910607901255\n",
      "Prophet...... RMSE: 39.045286049894585\n",
      "XGBoost...... RMSE: 40.67653789781229\n",
      "\n",
      "\n",
      "169_0.pkl\n",
      "Length on load: 26303\n",
      "Length after agg: 1096\n",
      "Dropped N/A cols: 0\n",
      "Length after blank drop: 1096\n",
      "ARIMA Model...... "
     ]
    },
    {
     "name": "stderr",
     "output_type": "stream",
     "text": [
      "INFO:prophet:Disabling yearly seasonality. Run prophet with yearly_seasonality=True to override this.\n"
     ]
    },
    {
     "name": "stdout",
     "output_type": "stream",
     "text": [
      "RMSE: 39.86115204780412\n",
      "Prophet...... RMSE: 12.22345735783058\n",
      "XGBoost...... RMSE: 15.664030121676072\n",
      "\n",
      "\n",
      "169_1.pkl\n",
      "Length on load: 26303\n",
      "Length after agg: 1096\n",
      "Dropped N/A cols: 0\n",
      "Length after blank drop: 1096\n",
      "ARIMA Model...... "
     ]
    },
    {
     "name": "stderr",
     "output_type": "stream",
     "text": [
      "INFO:prophet:Disabling yearly seasonality. Run prophet with yearly_seasonality=True to override this.\n"
     ]
    },
    {
     "name": "stdout",
     "output_type": "stream",
     "text": [
      "RMSE: 705.6261752830596\n",
      "Prophet...... RMSE: 208.60507291895175\n",
      "XGBoost...... RMSE: 303.76152792304157\n",
      "\n",
      "\n",
      "169_3.pkl\n",
      "Length on load: 26253\n",
      "Length after agg: 1096\n",
      "Dropped N/A cols: 0\n",
      "Length after blank drop: 1096\n",
      "ARIMA Model...... "
     ]
    },
    {
     "name": "stderr",
     "output_type": "stream",
     "text": [
      "INFO:prophet:Disabling yearly seasonality. Run prophet with yearly_seasonality=True to override this.\n"
     ]
    },
    {
     "name": "stdout",
     "output_type": "stream",
     "text": [
      "RMSE: 122.52404521906962\n",
      "Prophet...... RMSE: 55.76769352867794\n",
      "XGBoost...... RMSE: 44.166905568246186\n",
      "\n",
      "\n",
      "170_0.pkl\n",
      "Length on load: 26303\n",
      "Length after agg: 1096\n",
      "Dropped N/A cols: 0\n",
      "Length after blank drop: 1096\n",
      "ARIMA Model...... "
     ]
    },
    {
     "name": "stderr",
     "output_type": "stream",
     "text": [
      "INFO:prophet:Disabling yearly seasonality. Run prophet with yearly_seasonality=True to override this.\n"
     ]
    },
    {
     "name": "stdout",
     "output_type": "stream",
     "text": [
      "RMSE: 11.692677048872861\n",
      "Prophet...... RMSE: 20.1960401180444\n",
      "XGBoost...... RMSE: 13.206288307218253\n",
      "\n",
      "\n",
      "170_1.pkl\n",
      "Length on load: 26303\n",
      "Length after agg: 1096\n",
      "Dropped N/A cols: 0\n",
      "Length after blank drop: 1096\n",
      "ARIMA Model...... "
     ]
    },
    {
     "name": "stderr",
     "output_type": "stream",
     "text": [
      "INFO:prophet:Disabling yearly seasonality. Run prophet with yearly_seasonality=True to override this.\n"
     ]
    },
    {
     "name": "stdout",
     "output_type": "stream",
     "text": [
      "RMSE: 38.70156279525356\n",
      "Prophet...... RMSE: 42.64598856433631\n",
      "XGBoost...... RMSE: 36.44808943117865\n",
      "\n",
      "\n",
      "171_0.pkl\n",
      "Length on load: 26303\n",
      "Length after agg: 1096\n",
      "Dropped N/A cols: 0\n",
      "Length after blank drop: 1096\n",
      "ARIMA Model...... "
     ]
    },
    {
     "name": "stderr",
     "output_type": "stream",
     "text": [
      "INFO:prophet:Disabling yearly seasonality. Run prophet with yearly_seasonality=True to override this.\n"
     ]
    },
    {
     "name": "stdout",
     "output_type": "stream",
     "text": [
      "RMSE: 67.31830977587104\n",
      "Prophet...... RMSE: 56.983626281307544\n",
      "XGBoost...... RMSE: 30.249269970544514\n",
      "\n",
      "\n",
      "171_1.pkl\n",
      "not enough data\n",
      "171_3.pkl\n",
      "not enough data\n",
      "172_0.pkl\n",
      "Length on load: 26303\n",
      "Length after agg: 1096\n",
      "Dropped N/A cols: 0\n",
      "Length after blank drop: 1096\n",
      "ARIMA Model...... "
     ]
    },
    {
     "name": "stderr",
     "output_type": "stream",
     "text": [
      "INFO:prophet:Disabling yearly seasonality. Run prophet with yearly_seasonality=True to override this.\n"
     ]
    },
    {
     "name": "stdout",
     "output_type": "stream",
     "text": [
      "RMSE: 20.152679438485613\n",
      "Prophet...... RMSE: 25.010392516989864\n",
      "XGBoost...... RMSE: 14.639400101098134\n",
      "\n",
      "\n",
      "172_1.pkl\n",
      "Length on load: 26303\n",
      "Length after agg: 1096\n",
      "Dropped N/A cols: 0\n",
      "Length after blank drop: 1096\n",
      "ARIMA Model...... "
     ]
    },
    {
     "name": "stderr",
     "output_type": "stream",
     "text": [
      "INFO:prophet:Disabling yearly seasonality. Run prophet with yearly_seasonality=True to override this.\n"
     ]
    },
    {
     "name": "stdout",
     "output_type": "stream",
     "text": [
      "RMSE: 192.99625177977708\n",
      "Prophet...... RMSE: 367.15353503066257\n",
      "XGBoost...... RMSE: 276.27062902671554\n",
      "\n",
      "\n",
      "173_0.pkl\n",
      "Length on load: 26301\n",
      "Length after agg: 1096\n",
      "Dropped N/A cols: 0\n",
      "Length after blank drop: 1096\n",
      "ARIMA Model...... "
     ]
    },
    {
     "name": "stderr",
     "output_type": "stream",
     "text": [
      "INFO:prophet:Disabling yearly seasonality. Run prophet with yearly_seasonality=True to override this.\n"
     ]
    },
    {
     "name": "stdout",
     "output_type": "stream",
     "text": [
      "RMSE: 32.73690184096671\n",
      "Prophet...... RMSE: 40.89783882099771\n",
      "XGBoost...... RMSE: 33.62610648376729\n",
      "\n",
      "\n",
      "173_1.pkl\n",
      "Length on load: 26301\n",
      "Length after agg: 1096\n",
      "Dropped N/A cols: 0\n",
      "Length after blank drop: 1096\n",
      "ARIMA Model...... "
     ]
    },
    {
     "name": "stderr",
     "output_type": "stream",
     "text": [
      "INFO:prophet:Disabling yearly seasonality. Run prophet with yearly_seasonality=True to override this.\n"
     ]
    },
    {
     "name": "stdout",
     "output_type": "stream",
     "text": [
      "RMSE: 60.06167931373203\n",
      "Prophet...... RMSE: 81.00126858170339\n",
      "XGBoost...... RMSE: 90.44784947080208\n",
      "\n",
      "\n",
      "174_0.pkl\n",
      "Length on load: 26301\n",
      "Length after agg: 1096\n",
      "Dropped N/A cols: 0\n",
      "Length after blank drop: 1096\n",
      "ARIMA Model...... "
     ]
    },
    {
     "name": "stderr",
     "output_type": "stream",
     "text": [
      "INFO:prophet:Disabling yearly seasonality. Run prophet with yearly_seasonality=True to override this.\n"
     ]
    },
    {
     "name": "stdout",
     "output_type": "stream",
     "text": [
      "RMSE: 17.190958896971836\n",
      "Prophet...... RMSE: 43.525092983090694\n",
      "XGBoost...... RMSE: 22.78665588126456\n",
      "\n",
      "\n",
      "174_1.pkl\n",
      "Length on load: 26301\n",
      "Length after agg: 1096\n",
      "Dropped N/A cols: 0\n",
      "Length after blank drop: 1096\n",
      "ARIMA Model...... "
     ]
    },
    {
     "name": "stderr",
     "output_type": "stream",
     "text": [
      "INFO:prophet:Disabling yearly seasonality. Run prophet with yearly_seasonality=True to override this.\n"
     ]
    },
    {
     "name": "stdout",
     "output_type": "stream",
     "text": [
      "RMSE: 130.39688911315818\n",
      "Prophet...... RMSE: 89.30298388573188\n",
      "XGBoost...... RMSE: 109.33917956403894\n",
      "\n",
      "\n",
      "175_0.pkl\n",
      "Length on load: 26303\n",
      "Length after agg: 1096\n",
      "Dropped N/A cols: 0\n",
      "Length after blank drop: 1096\n",
      "ARIMA Model...... "
     ]
    },
    {
     "name": "stderr",
     "output_type": "stream",
     "text": [
      "INFO:prophet:Disabling yearly seasonality. Run prophet with yearly_seasonality=True to override this.\n"
     ]
    },
    {
     "name": "stdout",
     "output_type": "stream",
     "text": [
      "RMSE: 20.749325965615817\n",
      "Prophet...... RMSE: 50.580632631344265\n",
      "XGBoost...... RMSE: 26.955502717232687\n",
      "\n",
      "\n",
      "175_1.pkl\n",
      "Length on load: 26303\n",
      "Length after agg: 1096\n",
      "Dropped N/A cols: 0\n",
      "Length after blank drop: 1096\n",
      "ARIMA Model...... "
     ]
    },
    {
     "name": "stderr",
     "output_type": "stream",
     "text": [
      "INFO:prophet:Disabling yearly seasonality. Run prophet with yearly_seasonality=True to override this.\n"
     ]
    },
    {
     "name": "stdout",
     "output_type": "stream",
     "text": [
      "RMSE: 192.70833387888072\n",
      "Prophet...... RMSE: 288.2509949155439\n",
      "XGBoost...... RMSE: 94.38474521146553\n",
      "\n",
      "\n",
      "175_3.pkl\n",
      "not enough data\n",
      "176_0.pkl\n",
      "Length on load: 26303\n",
      "Length after agg: 1096\n",
      "Dropped N/A cols: 0\n",
      "Length after blank drop: 1096\n",
      "ARIMA Model...... "
     ]
    },
    {
     "name": "stderr",
     "output_type": "stream",
     "text": [
      "INFO:prophet:Disabling yearly seasonality. Run prophet with yearly_seasonality=True to override this.\n"
     ]
    },
    {
     "name": "stdout",
     "output_type": "stream",
     "text": [
      "RMSE: 19.918212881408383\n",
      "Prophet...... RMSE: 18.015292167328205\n",
      "XGBoost...... RMSE: 13.777758227852422\n",
      "\n",
      "\n",
      "176_1.pkl\n",
      "Length on load: 26303\n",
      "Length after agg: 1096\n",
      "Dropped N/A cols: 0\n",
      "Length after blank drop: 1096\n",
      "ARIMA Model...... "
     ]
    },
    {
     "name": "stderr",
     "output_type": "stream",
     "text": [
      "INFO:prophet:Disabling yearly seasonality. Run prophet with yearly_seasonality=True to override this.\n"
     ]
    },
    {
     "name": "stdout",
     "output_type": "stream",
     "text": [
      "RMSE: 84.90699018929621\n",
      "Prophet...... RMSE: 88.64487715746858\n",
      "XGBoost...... RMSE: 59.67212511955545\n",
      "\n",
      "\n",
      "176_3.pkl\n",
      "not enough data\n",
      "177_0.pkl\n",
      "Length on load: 26301\n",
      "Length after agg: 1096\n",
      "Dropped N/A cols: 0\n",
      "Length after blank drop: 1096\n",
      "ARIMA Model...... "
     ]
    },
    {
     "name": "stderr",
     "output_type": "stream",
     "text": [
      "INFO:prophet:Disabling yearly seasonality. Run prophet with yearly_seasonality=True to override this.\n"
     ]
    },
    {
     "name": "stdout",
     "output_type": "stream",
     "text": [
      "RMSE: 93.8937652623076\n",
      "Prophet...... RMSE: 515.918569811489\n",
      "XGBoost...... RMSE: 64.78869545088918\n",
      "\n",
      "\n",
      "177_1.pkl\n",
      "Length on load: 26301\n",
      "Length after agg: 1096\n",
      "Dropped N/A cols: 0\n",
      "Length after blank drop: 1096\n",
      "ARIMA Model...... "
     ]
    },
    {
     "name": "stderr",
     "output_type": "stream",
     "text": [
      "INFO:prophet:Disabling yearly seasonality. Run prophet with yearly_seasonality=True to override this.\n"
     ]
    },
    {
     "name": "stdout",
     "output_type": "stream",
     "text": [
      "RMSE: 352.60065676632996\n",
      "Prophet...... RMSE: 556.6344266809914\n",
      "XGBoost...... RMSE: 154.34343592757477\n",
      "\n",
      "\n",
      "177_3.pkl\n",
      "not enough data\n",
      "178_0.pkl\n",
      "Length on load: 26301\n",
      "Length after agg: 1096\n",
      "Dropped N/A cols: 0\n",
      "Length after blank drop: 1096\n",
      "ARIMA Model...... "
     ]
    },
    {
     "name": "stderr",
     "output_type": "stream",
     "text": [
      "INFO:prophet:Disabling yearly seasonality. Run prophet with yearly_seasonality=True to override this.\n"
     ]
    },
    {
     "name": "stdout",
     "output_type": "stream",
     "text": [
      "RMSE: 8.534695712039934\n",
      "Prophet...... RMSE: 6.390894254210906\n",
      "XGBoost...... RMSE: 5.124273885249157\n",
      "\n",
      "\n",
      "178_1.pkl\n",
      "Length on load: 26301\n",
      "Length after agg: 1096\n",
      "Dropped N/A cols: 0\n",
      "Length after blank drop: 1096\n",
      "ARIMA Model...... "
     ]
    },
    {
     "name": "stderr",
     "output_type": "stream",
     "text": [
      "INFO:prophet:Disabling yearly seasonality. Run prophet with yearly_seasonality=True to override this.\n"
     ]
    },
    {
     "name": "stdout",
     "output_type": "stream",
     "text": [
      "RMSE: 26.5719421803537\n",
      "Prophet...... RMSE: 31.597136516152947\n",
      "XGBoost...... RMSE: 11.704274105203448\n",
      "\n",
      "\n",
      "179_0.pkl\n",
      "Length on load: 26301\n",
      "Length after agg: 1096\n",
      "Dropped N/A cols: 0\n",
      "Length after blank drop: 1096\n",
      "ARIMA Model...... "
     ]
    },
    {
     "name": "stderr",
     "output_type": "stream",
     "text": [
      "INFO:prophet:Disabling yearly seasonality. Run prophet with yearly_seasonality=True to override this.\n"
     ]
    },
    {
     "name": "stdout",
     "output_type": "stream",
     "text": [
      "RMSE: 13.189231891345349\n",
      "Prophet...... RMSE: 38.425285541410034\n",
      "XGBoost...... RMSE: 19.045595117412628\n",
      "\n",
      "\n",
      "179_1.pkl\n",
      "Length on load: 26301\n",
      "Length after agg: 1096\n",
      "Dropped N/A cols: 0\n",
      "Length after blank drop: 1096\n",
      "ARIMA Model...... "
     ]
    },
    {
     "name": "stderr",
     "output_type": "stream",
     "text": [
      "INFO:prophet:Disabling yearly seasonality. Run prophet with yearly_seasonality=True to override this.\n"
     ]
    },
    {
     "name": "stdout",
     "output_type": "stream",
     "text": [
      "RMSE: 222.5190458406227\n",
      "Prophet...... RMSE: 227.75423595367482\n",
      "XGBoost...... RMSE: 82.45592978155638\n",
      "\n",
      "\n",
      "179_3.pkl\n",
      "Length on load: 26301\n",
      "Length after agg: 1096\n",
      "Dropped N/A cols: 0\n",
      "Length after blank drop: 1096\n",
      "ARIMA Model...... "
     ]
    },
    {
     "name": "stderr",
     "output_type": "stream",
     "text": [
      "INFO:prophet:Disabling yearly seasonality. Run prophet with yearly_seasonality=True to override this.\n"
     ]
    },
    {
     "name": "stdout",
     "output_type": "stream",
     "text": [
      "RMSE: 9.45031360999924\n",
      "Prophet...... RMSE: 6.466962631919982\n",
      "XGBoost...... RMSE: 5.1098140508996295\n",
      "\n",
      "\n",
      "180_0.pkl\n",
      "not enough data\n",
      "180_1.pkl\n",
      "Length on load: 26301\n",
      "Length after agg: 1096\n",
      "Dropped N/A cols: 0\n",
      "Length after blank drop: 1096\n",
      "ARIMA Model...... "
     ]
    },
    {
     "name": "stderr",
     "output_type": "stream",
     "text": [
      "INFO:prophet:Disabling yearly seasonality. Run prophet with yearly_seasonality=True to override this.\n"
     ]
    },
    {
     "name": "stdout",
     "output_type": "stream",
     "text": [
      "RMSE: 41.84449893632535\n",
      "Prophet...... RMSE: 35.16952390870282\n",
      "XGBoost...... RMSE: 43.8401570085065\n",
      "\n",
      "\n",
      "181_0.pkl\n",
      "Length on load: 26299\n",
      "Length after agg: 1096\n",
      "Dropped N/A cols: 0\n",
      "Length after blank drop: 1096\n",
      "ARIMA Model...... "
     ]
    },
    {
     "name": "stderr",
     "output_type": "stream",
     "text": [
      "INFO:prophet:Disabling yearly seasonality. Run prophet with yearly_seasonality=True to override this.\n"
     ]
    },
    {
     "name": "stdout",
     "output_type": "stream",
     "text": [
      "RMSE: 54.01626714164574\n",
      "Prophet...... RMSE: 50.85505858044916\n",
      "XGBoost...... RMSE: 48.200597798543846\n",
      "\n",
      "\n",
      "181_1.pkl\n",
      "Length on load: 26301\n",
      "Length after agg: 1096\n",
      "Dropped N/A cols: 0\n",
      "Length after blank drop: 1096\n",
      "ARIMA Model...... "
     ]
    },
    {
     "name": "stderr",
     "output_type": "stream",
     "text": [
      "INFO:prophet:Disabling yearly seasonality. Run prophet with yearly_seasonality=True to override this.\n"
     ]
    },
    {
     "name": "stdout",
     "output_type": "stream",
     "text": [
      "RMSE: 184.71148083100903\n",
      "Prophet...... RMSE: 145.87066706753274\n",
      "XGBoost...... RMSE: 113.75995479858224\n",
      "\n",
      "\n",
      "182_0.pkl\n",
      "Length on load: 25923\n",
      "Length after agg: 1096\n",
      "Dropped N/A cols: 0\n",
      "Length after blank drop: 1096\n",
      "ARIMA Model...... "
     ]
    },
    {
     "name": "stderr",
     "output_type": "stream",
     "text": [
      "INFO:prophet:Disabling yearly seasonality. Run prophet with yearly_seasonality=True to override this.\n"
     ]
    },
    {
     "name": "stdout",
     "output_type": "stream",
     "text": [
      "RMSE: 1.3030847333467883\n",
      "Prophet...... RMSE: 1.38746928189576\n",
      "XGBoost...... RMSE: 1.4160075368214093\n",
      "\n",
      "\n",
      "183_0.pkl\n",
      "Length on load: 26301\n",
      "Length after agg: 1096\n",
      "Dropped N/A cols: 0\n",
      "Length after blank drop: 1096\n",
      "ARIMA Model...... "
     ]
    },
    {
     "name": "stderr",
     "output_type": "stream",
     "text": [
      "INFO:prophet:Disabling yearly seasonality. Run prophet with yearly_seasonality=True to override this.\n"
     ]
    },
    {
     "name": "stdout",
     "output_type": "stream",
     "text": [
      "RMSE: 57.85140600892088\n",
      "Prophet...... RMSE: 69.10881907077982\n",
      "XGBoost...... RMSE: 27.874713454149635\n",
      "\n",
      "\n",
      "183_1.pkl\n",
      "Length on load: 26301\n",
      "Length after agg: 1096\n",
      "Dropped N/A cols: 0\n",
      "Length after blank drop: 1096\n",
      "ARIMA Model...... "
     ]
    },
    {
     "name": "stderr",
     "output_type": "stream",
     "text": [
      "INFO:prophet:Disabling yearly seasonality. Run prophet with yearly_seasonality=True to override this.\n"
     ]
    },
    {
     "name": "stdout",
     "output_type": "stream",
     "text": [
      "RMSE: 115.50712054092568\n",
      "Prophet...... RMSE: 115.65827887090379\n",
      "XGBoost...... RMSE: 133.34983370914065\n",
      "\n",
      "\n",
      "183_3.pkl\n",
      "not enough data\n",
      "184_0.pkl\n",
      "Length on load: 26301\n",
      "Length after agg: 1096\n",
      "Dropped N/A cols: 0\n",
      "Length after blank drop: 1096\n",
      "ARIMA Model...... "
     ]
    },
    {
     "name": "stderr",
     "output_type": "stream",
     "text": [
      "INFO:prophet:Disabling yearly seasonality. Run prophet with yearly_seasonality=True to override this.\n"
     ]
    },
    {
     "name": "stdout",
     "output_type": "stream",
     "text": [
      "RMSE: 19.899802859110697\n",
      "Prophet...... RMSE: 29.223185053976643\n",
      "XGBoost...... RMSE: 27.813375293386933\n",
      "\n",
      "\n",
      "184_1.pkl\n",
      "Length on load: 24129\n",
      "Length after agg: 1095\n",
      "Dropped N/A cols: 36\n",
      "Length after blank drop: 1059\n",
      "ARIMA Model...... "
     ]
    },
    {
     "name": "stderr",
     "output_type": "stream",
     "text": [
      "INFO:prophet:Disabling yearly seasonality. Run prophet with yearly_seasonality=True to override this.\n"
     ]
    },
    {
     "name": "stdout",
     "output_type": "stream",
     "text": [
      "RMSE: 45.02054413169592\n",
      "Prophet...... RMSE: 42.088764453497056\n",
      "XGBoost...... RMSE: 31.499238353128536\n",
      "\n",
      "\n",
      "184_3.pkl\n",
      "Length on load: 26301\n",
      "Length after agg: 1096\n",
      "Dropped N/A cols: 0\n",
      "Length after blank drop: 1096\n",
      "ARIMA Model...... "
     ]
    },
    {
     "name": "stderr",
     "output_type": "stream",
     "text": [
      "INFO:prophet:Disabling yearly seasonality. Run prophet with yearly_seasonality=True to override this.\n"
     ]
    },
    {
     "name": "stdout",
     "output_type": "stream",
     "text": [
      "RMSE: 4.059469347215338\n",
      "Prophet...... RMSE: 9.288922504544132\n",
      "XGBoost...... RMSE: 11.557463419267746\n",
      "\n",
      "\n",
      "185_0.pkl\n",
      "Length on load: 26294\n",
      "Length after agg: 1096\n",
      "Dropped N/A cols: 0\n",
      "Length after blank drop: 1096\n",
      "ARIMA Model...... "
     ]
    },
    {
     "name": "stderr",
     "output_type": "stream",
     "text": [
      "INFO:prophet:Disabling yearly seasonality. Run prophet with yearly_seasonality=True to override this.\n"
     ]
    },
    {
     "name": "stdout",
     "output_type": "stream",
     "text": [
      "RMSE: 37.834398137108906\n",
      "Prophet...... RMSE: 54.982108636076354\n",
      "XGBoost...... RMSE: 16.673600431990383\n",
      "\n",
      "\n",
      "186_0.pkl\n",
      "Length on load: 26301\n",
      "Length after agg: 1096\n",
      "Dropped N/A cols: 0\n",
      "Length after blank drop: 1096\n",
      "ARIMA Model...... "
     ]
    },
    {
     "name": "stderr",
     "output_type": "stream",
     "text": [
      "INFO:prophet:Disabling yearly seasonality. Run prophet with yearly_seasonality=True to override this.\n"
     ]
    },
    {
     "name": "stdout",
     "output_type": "stream",
     "text": [
      "RMSE: 0.9787036482159188\n",
      "Prophet...... RMSE: 1.0796287561460187\n",
      "XGBoost...... RMSE: 1.084352587993508\n",
      "\n",
      "\n",
      "187_0.pkl\n",
      "Length on load: 26301\n",
      "Length after agg: 1096\n",
      "Dropped N/A cols: 0\n",
      "Length after blank drop: 1096\n",
      "ARIMA Model...... "
     ]
    },
    {
     "name": "stderr",
     "output_type": "stream",
     "text": [
      "INFO:prophet:Disabling yearly seasonality. Run prophet with yearly_seasonality=True to override this.\n"
     ]
    },
    {
     "name": "stdout",
     "output_type": "stream",
     "text": [
      "RMSE: 3.9794123731545015\n",
      "Prophet...... RMSE: 5.0768433463229\n",
      "XGBoost...... RMSE: 5.924134737096762\n",
      "\n",
      "\n",
      "187_1.pkl\n",
      "not enough data\n",
      "187_3.pkl\n",
      "not enough data\n",
      "188_0.pkl\n",
      "Length on load: 26301\n",
      "Length after agg: 1096\n",
      "Dropped N/A cols: 0\n",
      "Length after blank drop: 1096\n",
      "ARIMA Model...... "
     ]
    },
    {
     "name": "stderr",
     "output_type": "stream",
     "text": [
      "INFO:prophet:Disabling yearly seasonality. Run prophet with yearly_seasonality=True to override this.\n"
     ]
    },
    {
     "name": "stdout",
     "output_type": "stream",
     "text": [
      "RMSE: 7.075254558130674\n",
      "Prophet...... RMSE: 4.741769583119629\n",
      "XGBoost...... RMSE: 5.599442823983684\n",
      "\n",
      "\n",
      "188_1.pkl\n",
      "not enough data\n",
      "189_0.pkl\n",
      "Length on load: 26301\n",
      "Length after agg: 1096\n",
      "Dropped N/A cols: 0\n",
      "Length after blank drop: 1096\n",
      "ARIMA Model...... "
     ]
    },
    {
     "name": "stderr",
     "output_type": "stream",
     "text": [
      "INFO:prophet:Disabling yearly seasonality. Run prophet with yearly_seasonality=True to override this.\n"
     ]
    },
    {
     "name": "stdout",
     "output_type": "stream",
     "text": [
      "RMSE: 4.704289774658545\n",
      "Prophet...... RMSE: 5.10667740428691\n",
      "XGBoost...... RMSE: 2.4438157840820645\n",
      "\n",
      "\n",
      "189_1.pkl\n",
      "not enough data\n",
      "190_0.pkl\n",
      "Length on load: 26301\n",
      "Length after agg: 1096\n",
      "Dropped N/A cols: 0\n",
      "Length after blank drop: 1096\n",
      "ARIMA Model...... "
     ]
    },
    {
     "name": "stderr",
     "output_type": "stream",
     "text": [
      "INFO:prophet:Disabling yearly seasonality. Run prophet with yearly_seasonality=True to override this.\n"
     ]
    },
    {
     "name": "stdout",
     "output_type": "stream",
     "text": [
      "RMSE: 29.5718444028563\n",
      "Prophet...... RMSE: 25.993278033961104\n",
      "XGBoost...... RMSE: 51.291578587786205\n",
      "\n",
      "\n",
      "190_1.pkl\n",
      "Length on load: 26301\n",
      "Length after agg: 1096\n",
      "Dropped N/A cols: 0\n",
      "Length after blank drop: 1096\n",
      "ARIMA Model...... "
     ]
    },
    {
     "name": "stderr",
     "output_type": "stream",
     "text": [
      "INFO:prophet:Disabling yearly seasonality. Run prophet with yearly_seasonality=True to override this.\n"
     ]
    },
    {
     "name": "stdout",
     "output_type": "stream",
     "text": [
      "RMSE: 71.13690298877682\n",
      "Prophet...... RMSE: 96.17811635575556\n",
      "XGBoost...... RMSE: 132.77958035841073\n",
      "\n",
      "\n",
      "190_3.pkl\n",
      "Length on load: 26301\n",
      "Length after agg: 1096\n",
      "Dropped N/A cols: 0\n",
      "Length after blank drop: 1096\n",
      "ARIMA Model...... "
     ]
    },
    {
     "name": "stderr",
     "output_type": "stream",
     "text": [
      "INFO:prophet:Disabling yearly seasonality. Run prophet with yearly_seasonality=True to override this.\n"
     ]
    },
    {
     "name": "stdout",
     "output_type": "stream",
     "text": [
      "RMSE: 13.665234776885587\n",
      "Prophet...... RMSE: 19.46606685950174\n",
      "XGBoost...... RMSE: 12.380653275164576\n",
      "\n",
      "\n",
      "191_0.pkl\n",
      "Length on load: 26301\n",
      "Length after agg: 1096\n",
      "Dropped N/A cols: 0\n",
      "Length after blank drop: 1096\n",
      "ARIMA Model...... "
     ]
    },
    {
     "name": "stderr",
     "output_type": "stream",
     "text": [
      "INFO:prophet:Disabling yearly seasonality. Run prophet with yearly_seasonality=True to override this.\n"
     ]
    },
    {
     "name": "stdout",
     "output_type": "stream",
     "text": [
      "RMSE: 20.30909569111086\n",
      "Prophet...... RMSE: 26.31069866037906\n",
      "XGBoost...... RMSE: 34.639378538234745\n",
      "\n",
      "\n",
      "191_1.pkl\n",
      "Length on load: 26301\n",
      "Length after agg: 1096\n",
      "Dropped N/A cols: 0\n",
      "Length after blank drop: 1096\n",
      "ARIMA Model...... "
     ]
    },
    {
     "name": "stderr",
     "output_type": "stream",
     "text": [
      "INFO:prophet:Disabling yearly seasonality. Run prophet with yearly_seasonality=True to override this.\n"
     ]
    },
    {
     "name": "stdout",
     "output_type": "stream",
     "text": [
      "RMSE: 78.50899617081585\n",
      "Prophet...... RMSE: 122.18820065291328\n",
      "XGBoost...... RMSE: 116.66917840768258\n",
      "\n",
      "\n",
      "191_3.pkl\n",
      "not enough data\n",
      "192_0.pkl\n",
      "Length on load: 26301\n",
      "Length after agg: 1096\n",
      "Dropped N/A cols: 0\n",
      "Length after blank drop: 1096\n",
      "ARIMA Model...... "
     ]
    },
    {
     "name": "stderr",
     "output_type": "stream",
     "text": [
      "INFO:prophet:Disabling yearly seasonality. Run prophet with yearly_seasonality=True to override this.\n"
     ]
    },
    {
     "name": "stdout",
     "output_type": "stream",
     "text": [
      "RMSE: 51.91771183100193\n",
      "Prophet...... RMSE: 28.48738241042764\n",
      "XGBoost...... RMSE: 30.289350391178864\n",
      "\n",
      "\n",
      "192_1.pkl\n",
      "Length on load: 26301\n",
      "Length after agg: 1096\n",
      "Dropped N/A cols: 0\n",
      "Length after blank drop: 1096\n",
      "ARIMA Model...... "
     ]
    },
    {
     "name": "stderr",
     "output_type": "stream",
     "text": [
      "INFO:prophet:Disabling yearly seasonality. Run prophet with yearly_seasonality=True to override this.\n"
     ]
    },
    {
     "name": "stdout",
     "output_type": "stream",
     "text": [
      "RMSE: 36.99507787313583\n",
      "Prophet...... RMSE: 42.65279426136878\n",
      "XGBoost...... RMSE: 143.09325727229253\n",
      "\n",
      "\n",
      "192_3.pkl\n",
      "Length on load: 26109\n",
      "Length after agg: 1096\n",
      "Dropped N/A cols: 6\n",
      "Length after blank drop: 1090\n",
      "ARIMA Model...... "
     ]
    },
    {
     "name": "stderr",
     "output_type": "stream",
     "text": [
      "INFO:prophet:Disabling yearly seasonality. Run prophet with yearly_seasonality=True to override this.\n"
     ]
    },
    {
     "name": "stdout",
     "output_type": "stream",
     "text": [
      "RMSE: 19.84770271203659\n",
      "Prophet...... RMSE: 15.014921484442231\n",
      "XGBoost...... RMSE: 17.992516198412616\n",
      "\n",
      "\n",
      "193_0.pkl\n",
      "Length on load: 26301\n",
      "Length after agg: 1096\n",
      "Dropped N/A cols: 0\n",
      "Length after blank drop: 1096\n",
      "ARIMA Model...... "
     ]
    },
    {
     "name": "stderr",
     "output_type": "stream",
     "text": [
      "INFO:prophet:Disabling yearly seasonality. Run prophet with yearly_seasonality=True to override this.\n"
     ]
    },
    {
     "name": "stdout",
     "output_type": "stream",
     "text": [
      "RMSE: 2.1344655584166237\n",
      "Prophet...... RMSE: 3.0610180368999353\n",
      "XGBoost...... RMSE: 2.1664573942340457\n",
      "\n",
      "\n",
      "194_0.pkl\n",
      "Length on load: 26301\n",
      "Length after agg: 1096\n",
      "Dropped N/A cols: 0\n",
      "Length after blank drop: 1096\n",
      "ARIMA Model...... "
     ]
    },
    {
     "name": "stderr",
     "output_type": "stream",
     "text": [
      "INFO:prophet:Disabling yearly seasonality. Run prophet with yearly_seasonality=True to override this.\n"
     ]
    },
    {
     "name": "stdout",
     "output_type": "stream",
     "text": [
      "RMSE: 25.243010158470724\n",
      "Prophet...... RMSE: 40.15117087387151\n",
      "XGBoost...... RMSE: 26.428986935786924\n",
      "\n",
      "\n",
      "194_1.pkl\n",
      "Length on load: 26301\n",
      "Length after agg: 1096\n",
      "Dropped N/A cols: 0\n",
      "Length after blank drop: 1096\n",
      "ARIMA Model...... "
     ]
    },
    {
     "name": "stderr",
     "output_type": "stream",
     "text": [
      "INFO:prophet:Disabling yearly seasonality. Run prophet with yearly_seasonality=True to override this.\n"
     ]
    },
    {
     "name": "stdout",
     "output_type": "stream",
     "text": [
      "RMSE: 50.824747384045445\n",
      "Prophet...... RMSE: 54.648208981832106\n",
      "XGBoost...... RMSE: 68.06445511173747\n",
      "\n",
      "\n",
      "195_0.pkl\n",
      "Length on load: 26301\n",
      "Length after agg: 1096\n",
      "Dropped N/A cols: 0\n",
      "Length after blank drop: 1096\n",
      "ARIMA Model...... "
     ]
    },
    {
     "name": "stderr",
     "output_type": "stream",
     "text": [
      "INFO:prophet:Disabling yearly seasonality. Run prophet with yearly_seasonality=True to override this.\n"
     ]
    },
    {
     "name": "stdout",
     "output_type": "stream",
     "text": [
      "RMSE: 2.8599813208654608\n",
      "Prophet...... RMSE: 9.480713246174604\n",
      "XGBoost...... RMSE: 4.887003400751715\n",
      "\n",
      "\n",
      "195_1.pkl\n",
      "Length on load: 26301\n",
      "Length after agg: 1096\n",
      "Dropped N/A cols: 0\n",
      "Length after blank drop: 1096\n",
      "ARIMA Model...... "
     ]
    },
    {
     "name": "stderr",
     "output_type": "stream",
     "text": [
      "INFO:prophet:Disabling yearly seasonality. Run prophet with yearly_seasonality=True to override this.\n"
     ]
    },
    {
     "name": "stdout",
     "output_type": "stream",
     "text": [
      "RMSE: 18.889578366858693\n",
      "Prophet...... RMSE: 23.915910882900956\n",
      "XGBoost...... RMSE: 15.434166570511207\n",
      "\n",
      "\n",
      "195_3.pkl\n",
      "not enough data\n",
      "196_0.pkl\n",
      "Length on load: 26301\n",
      "Length after agg: 1096\n",
      "Dropped N/A cols: 0\n",
      "Length after blank drop: 1096\n",
      "ARIMA Model...... "
     ]
    },
    {
     "name": "stderr",
     "output_type": "stream",
     "text": [
      "INFO:prophet:Disabling yearly seasonality. Run prophet with yearly_seasonality=True to override this.\n"
     ]
    },
    {
     "name": "stdout",
     "output_type": "stream",
     "text": [
      "RMSE: 12.147332867964241\n",
      "Prophet...... RMSE: 11.851691300133714\n",
      "XGBoost...... RMSE: 9.558771239693584\n",
      "\n",
      "\n",
      "197_0.pkl\n",
      "Length on load: 26301\n",
      "Length after agg: 1096\n",
      "Dropped N/A cols: 0\n",
      "Length after blank drop: 1096\n",
      "ARIMA Model...... "
     ]
    },
    {
     "name": "stderr",
     "output_type": "stream",
     "text": [
      "INFO:prophet:Disabling yearly seasonality. Run prophet with yearly_seasonality=True to override this.\n"
     ]
    },
    {
     "name": "stdout",
     "output_type": "stream",
     "text": [
      "RMSE: 32.63977054395483\n",
      "Prophet...... RMSE: 22.969365762388552\n",
      "XGBoost...... RMSE: 20.652580553505846\n",
      "\n",
      "\n",
      "197_1.pkl\n",
      "Length on load: 26301\n",
      "Length after agg: 1096\n",
      "Dropped N/A cols: 0\n",
      "Length after blank drop: 1096\n",
      "ARIMA Model...... "
     ]
    },
    {
     "name": "stderr",
     "output_type": "stream",
     "text": [
      "INFO:prophet:Disabling yearly seasonality. Run prophet with yearly_seasonality=True to override this.\n"
     ]
    },
    {
     "name": "stdout",
     "output_type": "stream",
     "text": [
      "RMSE: 36.01991292040607\n",
      "Prophet...... RMSE: 43.339564774553736\n",
      "XGBoost...... RMSE: 60.99477854419333\n",
      "\n",
      "\n",
      "198_0.pkl\n",
      "Length on load: 26301\n",
      "Length after agg: 1096\n",
      "Dropped N/A cols: 0\n",
      "Length after blank drop: 1096\n",
      "ARIMA Model...... "
     ]
    },
    {
     "name": "stderr",
     "output_type": "stream",
     "text": [
      "INFO:prophet:Disabling yearly seasonality. Run prophet with yearly_seasonality=True to override this.\n"
     ]
    },
    {
     "name": "stdout",
     "output_type": "stream",
     "text": [
      "RMSE: 20.619338640703827\n",
      "Prophet...... RMSE: 22.54109810601153\n",
      "XGBoost...... RMSE: 18.13000679059694\n",
      "\n",
      "\n",
      "198_1.pkl\n",
      "Length on load: 26301\n",
      "Length after agg: 1096\n",
      "Dropped N/A cols: 0\n",
      "Length after blank drop: 1096\n",
      "ARIMA Model...... "
     ]
    },
    {
     "name": "stderr",
     "output_type": "stream",
     "text": [
      "INFO:prophet:Disabling yearly seasonality. Run prophet with yearly_seasonality=True to override this.\n"
     ]
    },
    {
     "name": "stdout",
     "output_type": "stream",
     "text": [
      "RMSE: 140.36922384854907\n",
      "Prophet...... RMSE: 45.97669956797318\n",
      "XGBoost...... RMSE: 65.6958057830162\n",
      "\n",
      "\n",
      "199_0.pkl\n",
      "Length on load: 26301\n",
      "Length after agg: 1096\n",
      "Dropped N/A cols: 0\n",
      "Length after blank drop: 1096\n",
      "ARIMA Model...... "
     ]
    },
    {
     "name": "stderr",
     "output_type": "stream",
     "text": [
      "INFO:prophet:Disabling yearly seasonality. Run prophet with yearly_seasonality=True to override this.\n"
     ]
    },
    {
     "name": "stdout",
     "output_type": "stream",
     "text": [
      "RMSE: 12.561138477210251\n",
      "Prophet...... RMSE: 7.896327155007842\n",
      "XGBoost...... RMSE: 8.478744816471028\n",
      "\n",
      "\n",
      "200_0.pkl\n",
      "Length on load: 26301\n",
      "Length after agg: 1096\n",
      "Dropped N/A cols: 0\n",
      "Length after blank drop: 1096\n",
      "ARIMA Model...... "
     ]
    },
    {
     "name": "stderr",
     "output_type": "stream",
     "text": [
      "INFO:prophet:Disabling yearly seasonality. Run prophet with yearly_seasonality=True to override this.\n"
     ]
    },
    {
     "name": "stdout",
     "output_type": "stream",
     "text": [
      "RMSE: 66.31637266517934\n",
      "Prophet...... RMSE: 56.85447256273194\n",
      "XGBoost...... RMSE: 21.134747873643487\n",
      "\n",
      "\n",
      "200_1.pkl\n",
      "Length on load: 26301\n",
      "Length after agg: 1096\n",
      "Dropped N/A cols: 0\n",
      "Length after blank drop: 1096\n",
      "ARIMA Model...... "
     ]
    },
    {
     "name": "stderr",
     "output_type": "stream",
     "text": [
      "INFO:prophet:Disabling yearly seasonality. Run prophet with yearly_seasonality=True to override this.\n"
     ]
    },
    {
     "name": "stdout",
     "output_type": "stream",
     "text": [
      "RMSE: 118.646596704689\n",
      "Prophet...... RMSE: 198.0384909306059\n",
      "XGBoost...... RMSE: 137.5694923872716\n",
      "\n",
      "\n",
      "200_3.pkl\n",
      "not enough data\n",
      "201_0.pkl\n",
      "Length on load: 26301\n",
      "Length after agg: 1096\n",
      "Dropped N/A cols: 0\n",
      "Length after blank drop: 1096\n",
      "ARIMA Model...... "
     ]
    },
    {
     "name": "stderr",
     "output_type": "stream",
     "text": [
      "INFO:prophet:Disabling yearly seasonality. Run prophet with yearly_seasonality=True to override this.\n"
     ]
    },
    {
     "name": "stdout",
     "output_type": "stream",
     "text": [
      "RMSE: 31.25377673562435\n",
      "Prophet...... RMSE: 46.908229501986234\n",
      "XGBoost...... RMSE: 24.572375518382923\n",
      "\n",
      "\n",
      "201_1.pkl\n",
      "Length on load: 26301\n",
      "Length after agg: 1096\n",
      "Dropped N/A cols: 0\n",
      "Length after blank drop: 1096\n",
      "ARIMA Model...... "
     ]
    },
    {
     "name": "stderr",
     "output_type": "stream",
     "text": [
      "INFO:prophet:Disabling yearly seasonality. Run prophet with yearly_seasonality=True to override this.\n"
     ]
    },
    {
     "name": "stdout",
     "output_type": "stream",
     "text": [
      "RMSE: 678.6650848104209\n",
      "Prophet...... RMSE: 260.60014934727855\n",
      "XGBoost...... RMSE: 352.349288986369\n",
      "\n",
      "\n",
      "201_3.pkl\n",
      "Length on load: 26301\n",
      "Length after agg: 1096\n",
      "Dropped N/A cols: 0\n",
      "Length after blank drop: 1096\n",
      "ARIMA Model...... "
     ]
    },
    {
     "name": "stderr",
     "output_type": "stream",
     "text": [
      "INFO:prophet:Disabling yearly seasonality. Run prophet with yearly_seasonality=True to override this.\n"
     ]
    },
    {
     "name": "stdout",
     "output_type": "stream",
     "text": [
      "RMSE: 10.372194281151465\n",
      "Prophet...... RMSE: 8.754225389535712\n",
      "XGBoost...... RMSE: 12.925474615080423\n",
      "\n",
      "\n",
      "202_0.pkl\n",
      "Length on load: 26301\n",
      "Length after agg: 1096\n",
      "Dropped N/A cols: 0\n",
      "Length after blank drop: 1096\n",
      "ARIMA Model...... "
     ]
    },
    {
     "name": "stderr",
     "output_type": "stream",
     "text": [
      "INFO:prophet:Disabling yearly seasonality. Run prophet with yearly_seasonality=True to override this.\n"
     ]
    },
    {
     "name": "stdout",
     "output_type": "stream",
     "text": [
      "RMSE: 28.207034276813825\n",
      "Prophet...... RMSE: 110.94537860057534\n",
      "XGBoost...... RMSE: 45.05519496182185\n",
      "\n",
      "\n",
      "202_1.pkl\n",
      "Length on load: 26301\n",
      "Length after agg: 1096\n",
      "Dropped N/A cols: 0\n",
      "Length after blank drop: 1096\n",
      "ARIMA Model...... "
     ]
    },
    {
     "name": "stderr",
     "output_type": "stream",
     "text": [
      "INFO:prophet:Disabling yearly seasonality. Run prophet with yearly_seasonality=True to override this.\n"
     ]
    },
    {
     "name": "stdout",
     "output_type": "stream",
     "text": [
      "RMSE: 158.19569836622276\n",
      "Prophet...... RMSE: 201.7909408830736\n",
      "XGBoost...... RMSE: 225.46878184859045\n",
      "\n",
      "\n",
      "202_3.pkl\n",
      "Length on load: 25854\n",
      "Length after agg: 1096\n",
      "Dropped N/A cols: 14\n",
      "Length after blank drop: 1082\n",
      "ARIMA Model...... "
     ]
    },
    {
     "name": "stderr",
     "output_type": "stream",
     "text": [
      "INFO:prophet:Disabling yearly seasonality. Run prophet with yearly_seasonality=True to override this.\n"
     ]
    },
    {
     "name": "stdout",
     "output_type": "stream",
     "text": [
      "RMSE: 31.482457446847835\n",
      "Prophet...... RMSE: 35.03094164212967\n",
      "XGBoost...... RMSE: 17.14577066033024\n",
      "\n",
      "\n",
      "203_0.pkl\n",
      "Length on load: 26301\n",
      "Length after agg: 1096\n",
      "Dropped N/A cols: 0\n",
      "Length after blank drop: 1096\n",
      "ARIMA Model...... "
     ]
    },
    {
     "name": "stderr",
     "output_type": "stream",
     "text": [
      "INFO:prophet:Disabling yearly seasonality. Run prophet with yearly_seasonality=True to override this.\n"
     ]
    },
    {
     "name": "stdout",
     "output_type": "stream",
     "text": [
      "RMSE: 54.56570850824273\n",
      "Prophet...... RMSE: 134.9051271873821\n",
      "XGBoost...... RMSE: 83.06486453775413\n",
      "\n",
      "\n",
      "203_1.pkl\n",
      "Length on load: 26301\n",
      "Length after agg: 1096\n",
      "Dropped N/A cols: 0\n",
      "Length after blank drop: 1096\n",
      "ARIMA Model...... "
     ]
    },
    {
     "name": "stderr",
     "output_type": "stream",
     "text": [
      "INFO:prophet:Disabling yearly seasonality. Run prophet with yearly_seasonality=True to override this.\n"
     ]
    },
    {
     "name": "stdout",
     "output_type": "stream",
     "text": [
      "RMSE: 518.1813053366774\n",
      "Prophet...... RMSE: 456.18643025205984\n",
      "XGBoost...... RMSE: 385.98850300137605\n",
      "\n",
      "\n",
      "203_3.pkl\n",
      "Length on load: 26212\n",
      "Length after agg: 1096\n",
      "Dropped N/A cols: 0\n",
      "Length after blank drop: 1096\n",
      "ARIMA Model...... "
     ]
    },
    {
     "name": "stderr",
     "output_type": "stream",
     "text": [
      "INFO:prophet:Disabling yearly seasonality. Run prophet with yearly_seasonality=True to override this.\n"
     ]
    },
    {
     "name": "stdout",
     "output_type": "stream",
     "text": [
      "RMSE: 7.769557895964777\n",
      "Prophet...... RMSE: 4.127998962606363\n",
      "XGBoost...... RMSE: 10.822008484334816\n",
      "\n",
      "\n",
      "204_0.pkl\n",
      "Length on load: 26301\n",
      "Length after agg: 1096\n",
      "Dropped N/A cols: 0\n",
      "Length after blank drop: 1096\n",
      "ARIMA Model...... "
     ]
    },
    {
     "name": "stderr",
     "output_type": "stream",
     "text": [
      "INFO:prophet:Disabling yearly seasonality. Run prophet with yearly_seasonality=True to override this.\n"
     ]
    },
    {
     "name": "stdout",
     "output_type": "stream",
     "text": [
      "RMSE: 2.455552265847724\n",
      "Prophet...... RMSE: 16.842460658001368\n",
      "XGBoost...... RMSE: 3.702752093572859\n",
      "\n",
      "\n",
      "204_1.pkl\n",
      "Length on load: 26301\n",
      "Length after agg: 1096\n",
      "Dropped N/A cols: 0\n",
      "Length after blank drop: 1096\n",
      "ARIMA Model...... "
     ]
    },
    {
     "name": "stderr",
     "output_type": "stream",
     "text": [
      "INFO:prophet:Disabling yearly seasonality. Run prophet with yearly_seasonality=True to override this.\n"
     ]
    },
    {
     "name": "stdout",
     "output_type": "stream",
     "text": [
      "RMSE: 58.50928920905354\n",
      "Prophet...... RMSE: 39.483427002381674\n",
      "XGBoost...... RMSE: 35.69403560584052\n",
      "\n",
      "\n",
      "205_0.pkl\n",
      "Length on load: 26301\n",
      "Length after agg: 1096\n",
      "Dropped N/A cols: 0\n",
      "Length after blank drop: 1096\n",
      "ARIMA Model...... "
     ]
    },
    {
     "name": "stderr",
     "output_type": "stream",
     "text": [
      "INFO:prophet:Disabling yearly seasonality. Run prophet with yearly_seasonality=True to override this.\n"
     ]
    },
    {
     "name": "stdout",
     "output_type": "stream",
     "text": [
      "RMSE: 10.16976450938039\n",
      "Prophet...... RMSE: 43.38110156730528\n",
      "XGBoost...... RMSE: 16.392344425091835\n",
      "\n",
      "\n",
      "205_1.pkl\n",
      "Length on load: 26301\n",
      "Length after agg: 1096\n",
      "Dropped N/A cols: 0\n",
      "Length after blank drop: 1096\n",
      "ARIMA Model...... "
     ]
    },
    {
     "name": "stderr",
     "output_type": "stream",
     "text": [
      "INFO:prophet:Disabling yearly seasonality. Run prophet with yearly_seasonality=True to override this.\n"
     ]
    },
    {
     "name": "stdout",
     "output_type": "stream",
     "text": [
      "RMSE: 99.40400470561217\n",
      "Prophet...... RMSE: 156.59708261861405\n",
      "XGBoost...... RMSE: 95.02656400098458\n",
      "\n",
      "\n",
      "206_0.pkl\n",
      "Length on load: 26301\n",
      "Length after agg: 1096\n",
      "Dropped N/A cols: 0\n",
      "Length after blank drop: 1096\n",
      "ARIMA Model...... "
     ]
    },
    {
     "name": "stderr",
     "output_type": "stream",
     "text": [
      "INFO:prophet:Disabling yearly seasonality. Run prophet with yearly_seasonality=True to override this.\n"
     ]
    },
    {
     "name": "stdout",
     "output_type": "stream",
     "text": [
      "RMSE: 17.049886762572818\n",
      "Prophet...... RMSE: 24.34223043930883\n",
      "XGBoost...... RMSE: 17.776768136539964\n",
      "\n",
      "\n",
      "206_1.pkl\n",
      "Length on load: 26302\n",
      "Length after agg: 1096\n",
      "Dropped N/A cols: 0\n",
      "Length after blank drop: 1096\n",
      "ARIMA Model...... "
     ]
    },
    {
     "name": "stderr",
     "output_type": "stream",
     "text": [
      "INFO:prophet:Disabling yearly seasonality. Run prophet with yearly_seasonality=True to override this.\n"
     ]
    },
    {
     "name": "stdout",
     "output_type": "stream",
     "text": [
      "RMSE: 229.51117788058215\n",
      "Prophet...... RMSE: 81.20364712941861\n",
      "XGBoost...... RMSE: 132.81043267854014\n",
      "\n",
      "\n",
      "206_3.pkl\n",
      "not enough data\n",
      "207_0.pkl\n",
      "Length on load: 26301\n",
      "Length after agg: 1096\n",
      "Dropped N/A cols: 0\n",
      "Length after blank drop: 1096\n",
      "ARIMA Model...... "
     ]
    },
    {
     "name": "stderr",
     "output_type": "stream",
     "text": [
      "INFO:prophet:Disabling yearly seasonality. Run prophet with yearly_seasonality=True to override this.\n"
     ]
    },
    {
     "name": "stdout",
     "output_type": "stream",
     "text": [
      "RMSE: 14.010960068191094\n",
      "Prophet...... RMSE: 27.69468996217286\n",
      "XGBoost...... RMSE: 15.802390066424016\n",
      "\n",
      "\n",
      "207_1.pkl\n",
      "Length on load: 26301\n",
      "Length after agg: 1096\n",
      "Dropped N/A cols: 0\n",
      "Length after blank drop: 1096\n",
      "ARIMA Model...... "
     ]
    },
    {
     "name": "stderr",
     "output_type": "stream",
     "text": [
      "INFO:prophet:Disabling yearly seasonality. Run prophet with yearly_seasonality=True to override this.\n"
     ]
    },
    {
     "name": "stdout",
     "output_type": "stream",
     "text": [
      "RMSE: 33.80304275239836\n",
      "Prophet...... RMSE: 198.3924046100253\n",
      "XGBoost...... RMSE: 100.70984481390576\n",
      "\n",
      "\n",
      "208_0.pkl\n",
      "Length on load: 26282\n",
      "Length after agg: 1096\n",
      "Dropped N/A cols: 0\n",
      "Length after blank drop: 1096\n",
      "ARIMA Model...... "
     ]
    },
    {
     "name": "stderr",
     "output_type": "stream",
     "text": [
      "INFO:prophet:Disabling yearly seasonality. Run prophet with yearly_seasonality=True to override this.\n"
     ]
    },
    {
     "name": "stdout",
     "output_type": "stream",
     "text": [
      "RMSE: 9.306170460347992\n",
      "Prophet...... RMSE: 8.904736513086505\n",
      "XGBoost...... RMSE: 5.022996981343197\n",
      "\n",
      "\n",
      "208_1.pkl\n",
      "Length on load: 26303\n",
      "Length after agg: 1096\n",
      "Dropped N/A cols: 0\n",
      "Length after blank drop: 1096\n",
      "ARIMA Model...... "
     ]
    },
    {
     "name": "stderr",
     "output_type": "stream",
     "text": [
      "INFO:prophet:Disabling yearly seasonality. Run prophet with yearly_seasonality=True to override this.\n"
     ]
    },
    {
     "name": "stdout",
     "output_type": "stream",
     "text": [
      "RMSE: 47.533219541949435\n",
      "Prophet...... RMSE: 53.148441782139066\n",
      "XGBoost...... RMSE: 15.825118732156472\n",
      "\n",
      "\n",
      "209_0.pkl\n",
      "Length on load: 26292\n",
      "Length after agg: 1096\n",
      "Dropped N/A cols: 0\n",
      "Length after blank drop: 1096\n",
      "ARIMA Model...... "
     ]
    },
    {
     "name": "stderr",
     "output_type": "stream",
     "text": [
      "INFO:prophet:Disabling yearly seasonality. Run prophet with yearly_seasonality=True to override this.\n"
     ]
    },
    {
     "name": "stdout",
     "output_type": "stream",
     "text": [
      "RMSE: 24.90877878436058\n",
      "Prophet...... RMSE: 13.960166051936314\n",
      "XGBoost...... RMSE: 15.546913908279897\n",
      "\n",
      "\n",
      "209_1.pkl\n",
      "Length on load: 26301\n",
      "Length after agg: 1096\n",
      "Dropped N/A cols: 0\n",
      "Length after blank drop: 1096\n",
      "ARIMA Model...... "
     ]
    },
    {
     "name": "stderr",
     "output_type": "stream",
     "text": [
      "INFO:prophet:Disabling yearly seasonality. Run prophet with yearly_seasonality=True to override this.\n"
     ]
    },
    {
     "name": "stdout",
     "output_type": "stream",
     "text": [
      "RMSE: 1558.148919283867\n",
      "Prophet...... RMSE: 142.80888629222895\n",
      "XGBoost...... RMSE: 298.96092590985546\n",
      "\n",
      "\n",
      "209_3.pkl\n",
      "Length on load: 26275\n",
      "Length after agg: 1096\n",
      "Dropped N/A cols: 0\n",
      "Length after blank drop: 1096\n",
      "ARIMA Model...... "
     ]
    },
    {
     "name": "stderr",
     "output_type": "stream",
     "text": [
      "INFO:prophet:Disabling yearly seasonality. Run prophet with yearly_seasonality=True to override this.\n"
     ]
    },
    {
     "name": "stdout",
     "output_type": "stream",
     "text": [
      "RMSE: 48.143226998669626\n",
      "Prophet...... RMSE: 47.37486702946586\n",
      "XGBoost...... RMSE: 57.657121084658755\n",
      "\n",
      "\n",
      "210_0.pkl\n",
      "Length on load: 26301\n",
      "Length after agg: 1096\n",
      "Dropped N/A cols: 0\n",
      "Length after blank drop: 1096\n",
      "ARIMA Model...... "
     ]
    },
    {
     "name": "stderr",
     "output_type": "stream",
     "text": [
      "INFO:prophet:Disabling yearly seasonality. Run prophet with yearly_seasonality=True to override this.\n"
     ]
    },
    {
     "name": "stdout",
     "output_type": "stream",
     "text": [
      "RMSE: 12.136295196662465\n",
      "Prophet...... RMSE: 37.32276145724512\n",
      "XGBoost...... RMSE: 11.192684946129697\n",
      "\n",
      "\n",
      "210_1.pkl\n",
      "Length on load: 26301\n",
      "Length after agg: 1096\n",
      "Dropped N/A cols: 0\n",
      "Length after blank drop: 1096\n",
      "ARIMA Model...... "
     ]
    },
    {
     "name": "stderr",
     "output_type": "stream",
     "text": [
      "INFO:prophet:Disabling yearly seasonality. Run prophet with yearly_seasonality=True to override this.\n"
     ]
    },
    {
     "name": "stdout",
     "output_type": "stream",
     "text": [
      "RMSE: 356.15229667040904\n",
      "Prophet...... RMSE: 224.05811958146418\n",
      "XGBoost...... RMSE: 123.78702146851016\n",
      "\n",
      "\n",
      "210_3.pkl\n",
      "Length on load: 26301\n",
      "Length after agg: 1096\n",
      "Dropped N/A cols: 0\n",
      "Length after blank drop: 1096\n",
      "ARIMA Model...... "
     ]
    },
    {
     "name": "stderr",
     "output_type": "stream",
     "text": [
      "INFO:prophet:Disabling yearly seasonality. Run prophet with yearly_seasonality=True to override this.\n"
     ]
    },
    {
     "name": "stdout",
     "output_type": "stream",
     "text": [
      "RMSE: 27.166112055372007\n",
      "Prophet...... RMSE: 30.3358338050712\n",
      "XGBoost...... RMSE: 18.00208215654962\n",
      "\n",
      "\n",
      "211_0.pkl\n",
      "Length on load: 26301\n",
      "Length after agg: 1096\n",
      "Dropped N/A cols: 0\n",
      "Length after blank drop: 1096\n",
      "ARIMA Model...... "
     ]
    },
    {
     "name": "stderr",
     "output_type": "stream",
     "text": [
      "INFO:prophet:Disabling yearly seasonality. Run prophet with yearly_seasonality=True to override this.\n"
     ]
    },
    {
     "name": "stdout",
     "output_type": "stream",
     "text": [
      "RMSE: 20.697238707459455\n",
      "Prophet...... RMSE: 101.91346590030363\n",
      "XGBoost...... RMSE: 24.785898609394668\n",
      "\n",
      "\n",
      "212_0.pkl\n",
      "Length on load: 26301\n",
      "Length after agg: 1096\n",
      "Dropped N/A cols: 0\n",
      "Length after blank drop: 1096\n",
      "ARIMA Model...... "
     ]
    },
    {
     "name": "stderr",
     "output_type": "stream",
     "text": [
      "INFO:prophet:Disabling yearly seasonality. Run prophet with yearly_seasonality=True to override this.\n"
     ]
    },
    {
     "name": "stdout",
     "output_type": "stream",
     "text": [
      "RMSE: 27.164715554158384\n",
      "Prophet...... RMSE: 65.92428397415189\n",
      "XGBoost...... RMSE: 26.9304321688435\n",
      "\n",
      "\n",
      "212_1.pkl\n",
      "Length on load: 26301\n",
      "Length after agg: 1096\n",
      "Dropped N/A cols: 0\n",
      "Length after blank drop: 1096\n",
      "ARIMA Model...... "
     ]
    },
    {
     "name": "stderr",
     "output_type": "stream",
     "text": [
      "INFO:prophet:Disabling yearly seasonality. Run prophet with yearly_seasonality=True to override this.\n"
     ]
    },
    {
     "name": "stdout",
     "output_type": "stream",
     "text": [
      "RMSE: 2584.9517631302556\n",
      "Prophet...... RMSE: 1650.9374341582293\n",
      "XGBoost...... RMSE: 890.8721154176098\n",
      "\n",
      "\n",
      "212_3.pkl\n",
      "Length on load: 26290\n",
      "Length after agg: 1096\n",
      "Dropped N/A cols: 0\n",
      "Length after blank drop: 1096\n",
      "ARIMA Model...... "
     ]
    },
    {
     "name": "stderr",
     "output_type": "stream",
     "text": [
      "INFO:prophet:Disabling yearly seasonality. Run prophet with yearly_seasonality=True to override this.\n"
     ]
    },
    {
     "name": "stdout",
     "output_type": "stream",
     "text": [
      "RMSE: 87.92049791437418\n",
      "Prophet...... RMSE: 70.80973488719958\n",
      "XGBoost...... RMSE: 75.0679424310085\n",
      "\n",
      "\n",
      "213_0.pkl\n",
      "Length on load: 26301\n",
      "Length after agg: 1096\n",
      "Dropped N/A cols: 0\n",
      "Length after blank drop: 1096\n",
      "ARIMA Model...... "
     ]
    },
    {
     "name": "stderr",
     "output_type": "stream",
     "text": [
      "INFO:prophet:Disabling yearly seasonality. Run prophet with yearly_seasonality=True to override this.\n"
     ]
    },
    {
     "name": "stdout",
     "output_type": "stream",
     "text": [
      "RMSE: 13.149849971662338\n",
      "Prophet...... RMSE: 18.637631082399004\n",
      "XGBoost...... RMSE: 11.406802614129884\n",
      "\n",
      "\n",
      "213_1.pkl\n",
      "Length on load: 26301\n",
      "Length after agg: 1096\n",
      "Dropped N/A cols: 0\n",
      "Length after blank drop: 1096\n",
      "ARIMA Model...... "
     ]
    },
    {
     "name": "stderr",
     "output_type": "stream",
     "text": [
      "INFO:prophet:Disabling yearly seasonality. Run prophet with yearly_seasonality=True to override this.\n"
     ]
    },
    {
     "name": "stdout",
     "output_type": "stream",
     "text": [
      "RMSE: 147.88158434208682\n",
      "Prophet...... RMSE: 48.33406980292621\n",
      "XGBoost...... RMSE: 107.76072913127474\n",
      "\n",
      "\n",
      "213_3.pkl\n",
      "Length on load: 26301\n",
      "Length after agg: 1096\n",
      "Dropped N/A cols: 0\n",
      "Length after blank drop: 1096\n",
      "ARIMA Model...... "
     ]
    },
    {
     "name": "stderr",
     "output_type": "stream",
     "text": [
      "INFO:prophet:Disabling yearly seasonality. Run prophet with yearly_seasonality=True to override this.\n"
     ]
    },
    {
     "name": "stdout",
     "output_type": "stream",
     "text": [
      "RMSE: 18.0075690500165\n",
      "Prophet...... RMSE: 47.62121376801464\n",
      "XGBoost...... RMSE: 15.914831158351268\n",
      "\n",
      "\n",
      "214_0.pkl\n",
      "Length on load: 26301\n",
      "Length after agg: 1096\n",
      "Dropped N/A cols: 0\n",
      "Length after blank drop: 1096\n",
      "ARIMA Model...... "
     ]
    },
    {
     "name": "stderr",
     "output_type": "stream",
     "text": [
      "INFO:prophet:Disabling yearly seasonality. Run prophet with yearly_seasonality=True to override this.\n"
     ]
    },
    {
     "name": "stdout",
     "output_type": "stream",
     "text": [
      "RMSE: 25.170692486542464\n",
      "Prophet...... RMSE: 32.64292623641297\n",
      "XGBoost...... RMSE: 25.162118997304503\n",
      "\n",
      "\n",
      "214_1.pkl\n",
      "Length on load: 26301\n",
      "Length after agg: 1096\n",
      "Dropped N/A cols: 0\n",
      "Length after blank drop: 1096\n",
      "ARIMA Model...... "
     ]
    },
    {
     "name": "stderr",
     "output_type": "stream",
     "text": [
      "INFO:prophet:Disabling yearly seasonality. Run prophet with yearly_seasonality=True to override this.\n"
     ]
    },
    {
     "name": "stdout",
     "output_type": "stream",
     "text": [
      "RMSE: 6.607964387600078\n",
      "Prophet...... RMSE: 10.974837797727343\n",
      "XGBoost...... RMSE: 2.4105813002187353\n",
      "\n",
      "\n",
      "215_0.pkl\n",
      "Length on load: 26301\n",
      "Length after agg: 1096\n",
      "Dropped N/A cols: 0\n",
      "Length after blank drop: 1096\n",
      "ARIMA Model...... "
     ]
    },
    {
     "name": "stderr",
     "output_type": "stream",
     "text": [
      "INFO:prophet:Disabling yearly seasonality. Run prophet with yearly_seasonality=True to override this.\n"
     ]
    },
    {
     "name": "stdout",
     "output_type": "stream",
     "text": [
      "RMSE: 9.323296208740038\n",
      "Prophet...... RMSE: 17.074238924397648\n",
      "XGBoost...... RMSE: 6.445512742344966\n",
      "\n",
      "\n",
      "215_1.pkl\n",
      "Length on load: 26301\n",
      "Length after agg: 1096\n",
      "Dropped N/A cols: 0\n",
      "Length after blank drop: 1096\n",
      "ARIMA Model...... "
     ]
    },
    {
     "name": "stderr",
     "output_type": "stream",
     "text": [
      "INFO:prophet:Disabling yearly seasonality. Run prophet with yearly_seasonality=True to override this.\n"
     ]
    },
    {
     "name": "stdout",
     "output_type": "stream",
     "text": [
      "RMSE: 52.92598107158731\n",
      "Prophet...... RMSE: 31.137074655591356\n",
      "XGBoost...... RMSE: 57.58933117347013\n",
      "\n",
      "\n",
      "215_3.pkl\n",
      "Length on load: 26204\n",
      "Length after agg: 1096\n",
      "Dropped N/A cols: 2\n",
      "Length after blank drop: 1094\n",
      "ARIMA Model...... "
     ]
    },
    {
     "name": "stderr",
     "output_type": "stream",
     "text": [
      "INFO:prophet:Disabling yearly seasonality. Run prophet with yearly_seasonality=True to override this.\n"
     ]
    },
    {
     "name": "stdout",
     "output_type": "stream",
     "text": [
      "RMSE: 5.310114675905909\n",
      "Prophet...... RMSE: 5.8449973577194925\n",
      "XGBoost...... RMSE: 5.429201088551944\n",
      "\n",
      "\n",
      "216_0.pkl\n",
      "Length on load: 26302\n",
      "Length after agg: 1096\n",
      "Dropped N/A cols: 0\n",
      "Length after blank drop: 1096\n",
      "ARIMA Model...... "
     ]
    },
    {
     "name": "stderr",
     "output_type": "stream",
     "text": [
      "INFO:prophet:Disabling yearly seasonality. Run prophet with yearly_seasonality=True to override this.\n"
     ]
    },
    {
     "name": "stdout",
     "output_type": "stream",
     "text": [
      "RMSE: 33.7406370965009\n",
      "Prophet...... RMSE: 24.955385939802383\n",
      "XGBoost...... RMSE: 26.95435597374021\n",
      "\n",
      "\n",
      "216_1.pkl\n",
      "Length on load: 26303\n",
      "Length after agg: 1096\n",
      "Dropped N/A cols: 0\n",
      "Length after blank drop: 1096\n",
      "ARIMA Model...... "
     ]
    },
    {
     "name": "stderr",
     "output_type": "stream",
     "text": [
      "INFO:prophet:Disabling yearly seasonality. Run prophet with yearly_seasonality=True to override this.\n"
     ]
    },
    {
     "name": "stdout",
     "output_type": "stream",
     "text": [
      "RMSE: 159.25260403615883\n",
      "Prophet...... RMSE: 123.82811434933039\n",
      "XGBoost...... RMSE: 112.26443867161858\n",
      "\n",
      "\n",
      "216_3.pkl\n",
      "not enough data\n",
      "217_0.pkl\n",
      "Length on load: 26302\n",
      "Length after agg: 1096\n",
      "Dropped N/A cols: 0\n",
      "Length after blank drop: 1096\n",
      "ARIMA Model...... "
     ]
    },
    {
     "name": "stderr",
     "output_type": "stream",
     "text": [
      "INFO:prophet:Disabling yearly seasonality. Run prophet with yearly_seasonality=True to override this.\n"
     ]
    },
    {
     "name": "stdout",
     "output_type": "stream",
     "text": [
      "RMSE: 33.4168665173454\n",
      "Prophet...... RMSE: 59.99228652351514\n",
      "XGBoost...... RMSE: 42.228781629816524\n",
      "\n",
      "\n",
      "217_1.pkl\n",
      "Length on load: 26302\n",
      "Length after agg: 1096\n",
      "Dropped N/A cols: 0\n",
      "Length after blank drop: 1096\n",
      "ARIMA Model...... "
     ]
    },
    {
     "name": "stderr",
     "output_type": "stream",
     "text": [
      "INFO:prophet:Disabling yearly seasonality. Run prophet with yearly_seasonality=True to override this.\n"
     ]
    },
    {
     "name": "stdout",
     "output_type": "stream",
     "text": [
      "RMSE: 616.4789156821607\n",
      "Prophet...... RMSE: 225.01786477046977\n",
      "XGBoost...... RMSE: 283.18671240613605\n",
      "\n",
      "\n",
      "217_3.pkl\n",
      "not enough data\n",
      "218_0.pkl\n",
      "Length on load: 26302\n",
      "Length after agg: 1096\n",
      "Dropped N/A cols: 0\n",
      "Length after blank drop: 1096\n",
      "ARIMA Model...... "
     ]
    },
    {
     "name": "stderr",
     "output_type": "stream",
     "text": [
      "INFO:prophet:Disabling yearly seasonality. Run prophet with yearly_seasonality=True to override this.\n"
     ]
    },
    {
     "name": "stdout",
     "output_type": "stream",
     "text": [
      "RMSE: 14.30071076566548\n",
      "Prophet...... RMSE: 40.72789060514308\n",
      "XGBoost...... RMSE: 32.262712198404515\n",
      "\n",
      "\n",
      "219_0.pkl\n",
      "Length on load: 26295\n",
      "Length after agg: 1096\n",
      "Dropped N/A cols: 0\n",
      "Length after blank drop: 1096\n",
      "ARIMA Model...... "
     ]
    },
    {
     "name": "stderr",
     "output_type": "stream",
     "text": [
      "INFO:prophet:Disabling yearly seasonality. Run prophet with yearly_seasonality=True to override this.\n"
     ]
    },
    {
     "name": "stdout",
     "output_type": "stream",
     "text": [
      "RMSE: 9.203143344977155\n",
      "Prophet...... RMSE: 6.814743097386201\n",
      "XGBoost...... RMSE: 7.813372485632531\n",
      "\n",
      "\n",
      "219_1.pkl\n",
      "Length on load: 26302\n",
      "Length after agg: 1096\n",
      "Dropped N/A cols: 0\n",
      "Length after blank drop: 1096\n",
      "ARIMA Model...... "
     ]
    },
    {
     "name": "stderr",
     "output_type": "stream",
     "text": [
      "INFO:prophet:Disabling yearly seasonality. Run prophet with yearly_seasonality=True to override this.\n"
     ]
    },
    {
     "name": "stdout",
     "output_type": "stream",
     "text": [
      "RMSE: 581.1977379567569\n",
      "Prophet...... RMSE: 324.65743596389655\n",
      "XGBoost...... RMSE: 170.48004593063163\n",
      "\n",
      "\n",
      "220_0.pkl\n",
      "Length on load: 26302\n",
      "Length after agg: 1096\n",
      "Dropped N/A cols: 0\n",
      "Length after blank drop: 1096\n",
      "ARIMA Model...... "
     ]
    },
    {
     "name": "stderr",
     "output_type": "stream",
     "text": [
      "INFO:prophet:Disabling yearly seasonality. Run prophet with yearly_seasonality=True to override this.\n"
     ]
    },
    {
     "name": "stdout",
     "output_type": "stream",
     "text": [
      "RMSE: 19.522689289209346\n",
      "Prophet...... RMSE: 15.30686063030063\n",
      "XGBoost...... RMSE: 4.726206298816026\n",
      "\n",
      "\n",
      "220_1.pkl\n",
      "Length on load: 26304\n",
      "Length after agg: 1096\n",
      "Dropped N/A cols: 0\n",
      "Length after blank drop: 1096\n",
      "ARIMA Model...... "
     ]
    },
    {
     "name": "stderr",
     "output_type": "stream",
     "text": [
      "INFO:prophet:Disabling yearly seasonality. Run prophet with yearly_seasonality=True to override this.\n"
     ]
    },
    {
     "name": "stdout",
     "output_type": "stream",
     "text": [
      "RMSE: 183.14152456577995\n",
      "Prophet...... RMSE: 715.5958355390328\n",
      "XGBoost...... RMSE: 396.82180425817893\n",
      "\n",
      "\n",
      "220_3.pkl\n",
      "not enough data\n",
      "221_0.pkl\n",
      "Length on load: 26302\n",
      "Length after agg: 1096\n",
      "Dropped N/A cols: 0\n",
      "Length after blank drop: 1096\n",
      "ARIMA Model...... "
     ]
    },
    {
     "name": "stderr",
     "output_type": "stream",
     "text": [
      "INFO:prophet:Disabling yearly seasonality. Run prophet with yearly_seasonality=True to override this.\n"
     ]
    },
    {
     "name": "stdout",
     "output_type": "stream",
     "text": [
      "RMSE: 40.347628598760444\n",
      "Prophet...... RMSE: 87.80659996910693\n",
      "XGBoost...... RMSE: 67.6941138698198\n",
      "\n",
      "\n",
      "221_1.pkl\n",
      "Length on load: 26302\n",
      "Length after agg: 1096\n",
      "Dropped N/A cols: 0\n",
      "Length after blank drop: 1096\n",
      "ARIMA Model...... "
     ]
    },
    {
     "name": "stderr",
     "output_type": "stream",
     "text": [
      "INFO:prophet:Disabling yearly seasonality. Run prophet with yearly_seasonality=True to override this.\n"
     ]
    },
    {
     "name": "stdout",
     "output_type": "stream",
     "text": [
      "RMSE: 1865.857917689177\n",
      "Prophet...... RMSE: 173.07342080299\n",
      "XGBoost...... RMSE: 305.01366939047097\n",
      "\n",
      "\n",
      "221_3.pkl\n",
      "not enough data\n",
      "222_0.pkl\n",
      "Length on load: 26302\n",
      "Length after agg: 1096\n",
      "Dropped N/A cols: 0\n",
      "Length after blank drop: 1096\n",
      "ARIMA Model...... "
     ]
    },
    {
     "name": "stderr",
     "output_type": "stream",
     "text": [
      "INFO:prophet:Disabling yearly seasonality. Run prophet with yearly_seasonality=True to override this.\n"
     ]
    },
    {
     "name": "stdout",
     "output_type": "stream",
     "text": [
      "RMSE: 4.062078590369115\n",
      "Prophet...... RMSE: 4.705266590119677\n",
      "XGBoost...... RMSE: 3.30070112245339\n",
      "\n",
      "\n",
      "222_1.pkl\n",
      "Length on load: 26286\n",
      "Length after agg: 1096\n",
      "Dropped N/A cols: 0\n",
      "Length after blank drop: 1096\n",
      "ARIMA Model...... "
     ]
    },
    {
     "name": "stderr",
     "output_type": "stream",
     "text": [
      "INFO:prophet:Disabling yearly seasonality. Run prophet with yearly_seasonality=True to override this.\n"
     ]
    },
    {
     "name": "stdout",
     "output_type": "stream",
     "text": [
      "RMSE: 37.57434222748862\n",
      "Prophet...... RMSE: 19.181614176268045\n",
      "XGBoost...... RMSE: 12.147947890747849\n",
      "\n",
      "\n",
      "223_0.pkl\n",
      "Length on load: 26302\n",
      "Length after agg: 1096\n",
      "Dropped N/A cols: 0\n",
      "Length after blank drop: 1096\n",
      "ARIMA Model...... "
     ]
    },
    {
     "name": "stderr",
     "output_type": "stream",
     "text": [
      "INFO:prophet:Disabling yearly seasonality. Run prophet with yearly_seasonality=True to override this.\n"
     ]
    },
    {
     "name": "stdout",
     "output_type": "stream",
     "text": [
      "RMSE: 335.35932816595624\n",
      "Prophet...... RMSE: 346.1368310829552\n",
      "XGBoost...... RMSE: 168.05928061421915\n",
      "\n",
      "\n",
      "224_0.pkl\n",
      "Length on load: 26302\n",
      "Length after agg: 1096\n",
      "Dropped N/A cols: 0\n",
      "Length after blank drop: 1096\n",
      "ARIMA Model...... "
     ]
    },
    {
     "name": "stderr",
     "output_type": "stream",
     "text": [
      "INFO:prophet:Disabling yearly seasonality. Run prophet with yearly_seasonality=True to override this.\n"
     ]
    },
    {
     "name": "stdout",
     "output_type": "stream",
     "text": [
      "RMSE: 457.6759609142793\n",
      "Prophet...... RMSE: 63.37300806893486\n",
      "XGBoost...... RMSE: 70.81799871132665\n",
      "\n",
      "\n",
      "224_1.pkl\n",
      "Length on load: 26302\n",
      "Length after agg: 1096\n",
      "Dropped N/A cols: 0\n",
      "Length after blank drop: 1096\n",
      "ARIMA Model...... "
     ]
    },
    {
     "name": "stderr",
     "output_type": "stream",
     "text": [
      "INFO:prophet:Disabling yearly seasonality. Run prophet with yearly_seasonality=True to override this.\n"
     ]
    },
    {
     "name": "stdout",
     "output_type": "stream",
     "text": [
      "RMSE: 263.0874627653227\n",
      "Prophet...... RMSE: 602.652299390767\n",
      "XGBoost...... RMSE: 175.8920730739032\n",
      "\n",
      "\n",
      "224_3.pkl\n",
      "Length on load: 26302\n",
      "Length after agg: 1096\n",
      "Dropped N/A cols: 0\n",
      "Length after blank drop: 1096\n",
      "ARIMA Model...... "
     ]
    },
    {
     "name": "stderr",
     "output_type": "stream",
     "text": [
      "INFO:prophet:Disabling yearly seasonality. Run prophet with yearly_seasonality=True to override this.\n"
     ]
    },
    {
     "name": "stdout",
     "output_type": "stream",
     "text": [
      "RMSE: 39.32690596329801\n",
      "Prophet...... RMSE: 19.809025021305594\n",
      "XGBoost...... RMSE: 17.16408560436701\n",
      "\n",
      "\n",
      "225_0.pkl\n",
      "Length on load: 26302\n",
      "Length after agg: 1096\n",
      "Dropped N/A cols: 0\n",
      "Length after blank drop: 1096\n",
      "ARIMA Model...... "
     ]
    },
    {
     "name": "stderr",
     "output_type": "stream",
     "text": [
      "INFO:prophet:Disabling yearly seasonality. Run prophet with yearly_seasonality=True to override this.\n"
     ]
    },
    {
     "name": "stdout",
     "output_type": "stream",
     "text": [
      "RMSE: 25.75612911291968\n",
      "Prophet...... RMSE: 87.62093775222976\n",
      "XGBoost...... RMSE: 38.923435260380984\n",
      "\n",
      "\n",
      "225_1.pkl\n",
      "Length on load: 26302\n",
      "Length after agg: 1096\n",
      "Dropped N/A cols: 0\n",
      "Length after blank drop: 1096\n",
      "ARIMA Model...... "
     ]
    },
    {
     "name": "stderr",
     "output_type": "stream",
     "text": [
      "INFO:prophet:Disabling yearly seasonality. Run prophet with yearly_seasonality=True to override this.\n"
     ]
    },
    {
     "name": "stdout",
     "output_type": "stream",
     "text": [
      "RMSE: 219.40272820315562\n",
      "Prophet...... RMSE: 170.25467253388055\n",
      "XGBoost...... RMSE: 97.20367506277726\n",
      "\n",
      "\n",
      "225_3.pkl\n",
      "Length on load: 26180\n",
      "Length after agg: 1096\n",
      "Dropped N/A cols: 0\n",
      "Length after blank drop: 1096\n",
      "ARIMA Model...... "
     ]
    },
    {
     "name": "stderr",
     "output_type": "stream",
     "text": [
      "INFO:prophet:Disabling yearly seasonality. Run prophet with yearly_seasonality=True to override this.\n"
     ]
    },
    {
     "name": "stdout",
     "output_type": "stream",
     "text": [
      "RMSE: 19.92079947982188\n",
      "Prophet...... RMSE: 18.131805302962807\n",
      "XGBoost...... RMSE: 36.64059369484652\n",
      "\n",
      "\n",
      "226_0.pkl\n",
      "Length on load: 26302\n",
      "Length after agg: 1096\n",
      "Dropped N/A cols: 0\n",
      "Length after blank drop: 1096\n",
      "ARIMA Model...... "
     ]
    },
    {
     "name": "stderr",
     "output_type": "stream",
     "text": [
      "INFO:prophet:Disabling yearly seasonality. Run prophet with yearly_seasonality=True to override this.\n"
     ]
    },
    {
     "name": "stdout",
     "output_type": "stream",
     "text": [
      "RMSE: 11.392794801410455\n",
      "Prophet...... RMSE: 12.76161527921588\n",
      "XGBoost...... RMSE: 7.164699362982956\n",
      "\n",
      "\n",
      "226_1.pkl\n",
      "Length on load: 26302\n",
      "Length after agg: 1096\n",
      "Dropped N/A cols: 0\n",
      "Length after blank drop: 1096\n",
      "ARIMA Model...... "
     ]
    },
    {
     "name": "stderr",
     "output_type": "stream",
     "text": [
      "INFO:prophet:Disabling yearly seasonality. Run prophet with yearly_seasonality=True to override this.\n"
     ]
    },
    {
     "name": "stdout",
     "output_type": "stream",
     "text": [
      "RMSE: 82.78280046008811\n",
      "Prophet...... RMSE: 29.82504945635232\n",
      "XGBoost...... RMSE: 46.62190428576713\n",
      "\n",
      "\n",
      "226_3.pkl\n",
      "Length on load: 26302\n",
      "Length after agg: 1096\n",
      "Dropped N/A cols: 0\n",
      "Length after blank drop: 1096\n",
      "ARIMA Model...... "
     ]
    },
    {
     "name": "stderr",
     "output_type": "stream",
     "text": [
      "INFO:prophet:Disabling yearly seasonality. Run prophet with yearly_seasonality=True to override this.\n"
     ]
    },
    {
     "name": "stdout",
     "output_type": "stream",
     "text": [
      "RMSE: 5.578718103059147\n",
      "Prophet...... RMSE: 7.143491017836186\n",
      "XGBoost...... RMSE: 5.233880767741084\n",
      "\n",
      "\n",
      "227_0.pkl\n",
      "Length on load: 26302\n",
      "Length after agg: 1096\n",
      "Dropped N/A cols: 0\n",
      "Length after blank drop: 1096\n",
      "ARIMA Model...... "
     ]
    },
    {
     "name": "stderr",
     "output_type": "stream",
     "text": [
      "INFO:prophet:Disabling yearly seasonality. Run prophet with yearly_seasonality=True to override this.\n"
     ]
    },
    {
     "name": "stdout",
     "output_type": "stream",
     "text": [
      "RMSE: 4.166847102473216\n",
      "Prophet...... RMSE: 5.366733442107968\n",
      "XGBoost...... RMSE: 5.785290491790083\n",
      "\n",
      "\n",
      "228_0.pkl\n",
      "Length on load: 26302\n",
      "Length after agg: 1096\n",
      "Dropped N/A cols: 0\n",
      "Length after blank drop: 1096\n",
      "ARIMA Model...... "
     ]
    },
    {
     "name": "stderr",
     "output_type": "stream",
     "text": [
      "INFO:prophet:Disabling yearly seasonality. Run prophet with yearly_seasonality=True to override this.\n"
     ]
    },
    {
     "name": "stdout",
     "output_type": "stream",
     "text": [
      "RMSE: 7.8282922095962695\n",
      "Prophet...... RMSE: 23.88929020767647\n",
      "XGBoost...... RMSE: 12.289840028397325\n",
      "\n",
      "\n",
      "228_1.pkl\n",
      "Length on load: 26302\n",
      "Length after agg: 1096\n",
      "Dropped N/A cols: 0\n",
      "Length after blank drop: 1096\n",
      "ARIMA Model...... "
     ]
    },
    {
     "name": "stderr",
     "output_type": "stream",
     "text": [
      "INFO:prophet:Disabling yearly seasonality. Run prophet with yearly_seasonality=True to override this.\n"
     ]
    },
    {
     "name": "stdout",
     "output_type": "stream",
     "text": [
      "RMSE: 36.06135778445524\n",
      "Prophet...... RMSE: 22.269470426511177\n",
      "XGBoost...... RMSE: 67.74280717636293\n",
      "\n",
      "\n",
      "228_3.pkl\n",
      "not enough data\n",
      "229_0.pkl\n",
      "Length on load: 26302\n",
      "Length after agg: 1096\n",
      "Dropped N/A cols: 0\n",
      "Length after blank drop: 1096\n",
      "ARIMA Model...... "
     ]
    },
    {
     "name": "stderr",
     "output_type": "stream",
     "text": [
      "INFO:prophet:Disabling yearly seasonality. Run prophet with yearly_seasonality=True to override this.\n"
     ]
    },
    {
     "name": "stdout",
     "output_type": "stream",
     "text": [
      "RMSE: 43.90211554275849\n",
      "Prophet...... RMSE: 71.69909089741009\n",
      "XGBoost...... RMSE: 58.98524006245815\n",
      "\n",
      "\n",
      "229_1.pkl\n",
      "Length on load: 26302\n",
      "Length after agg: 1096\n",
      "Dropped N/A cols: 0\n",
      "Length after blank drop: 1096\n",
      "ARIMA Model...... "
     ]
    },
    {
     "name": "stderr",
     "output_type": "stream",
     "text": [
      "INFO:prophet:Disabling yearly seasonality. Run prophet with yearly_seasonality=True to override this.\n"
     ]
    },
    {
     "name": "stdout",
     "output_type": "stream",
     "text": [
      "RMSE: 311.7409290789928\n",
      "Prophet...... RMSE: 279.86237670537\n",
      "XGBoost...... RMSE: 147.55033467183202\n",
      "\n",
      "\n",
      "230_0.pkl\n",
      "Length on load: 26302\n",
      "Length after agg: 1096\n",
      "Dropped N/A cols: 0\n",
      "Length after blank drop: 1096\n",
      "ARIMA Model...... "
     ]
    },
    {
     "name": "stderr",
     "output_type": "stream",
     "text": [
      "INFO:prophet:Disabling yearly seasonality. Run prophet with yearly_seasonality=True to override this.\n"
     ]
    },
    {
     "name": "stdout",
     "output_type": "stream",
     "text": [
      "RMSE: 14.659363915304377\n",
      "Prophet...... RMSE: 35.61343625313593\n",
      "XGBoost...... RMSE: 11.203646241685561\n",
      "\n",
      "\n",
      "231_0.pkl\n",
      "Length on load: 26302\n",
      "Length after agg: 1096\n",
      "Dropped N/A cols: 0\n",
      "Length after blank drop: 1096\n",
      "ARIMA Model...... "
     ]
    },
    {
     "name": "stderr",
     "output_type": "stream",
     "text": [
      "INFO:prophet:Disabling yearly seasonality. Run prophet with yearly_seasonality=True to override this.\n"
     ]
    },
    {
     "name": "stdout",
     "output_type": "stream",
     "text": [
      "RMSE: 2.47793971217559\n",
      "Prophet...... RMSE: 72.81943788533847\n",
      "XGBoost...... RMSE: 1.9159080288327417\n",
      "\n",
      "\n",
      "231_1.pkl\n",
      "Length on load: 26302\n",
      "Length after agg: 1096\n",
      "Dropped N/A cols: 0\n",
      "Length after blank drop: 1096\n",
      "ARIMA Model...... "
     ]
    },
    {
     "name": "stderr",
     "output_type": "stream",
     "text": [
      "INFO:prophet:Disabling yearly seasonality. Run prophet with yearly_seasonality=True to override this.\n"
     ]
    },
    {
     "name": "stdout",
     "output_type": "stream",
     "text": [
      "RMSE: 66.37451925296291\n",
      "Prophet...... RMSE: 496.19089681062184\n",
      "XGBoost...... RMSE: 55.39606824395925\n",
      "\n",
      "\n",
      "232_0.pkl\n",
      "Length on load: 26302\n",
      "Length after agg: 1096\n",
      "Dropped N/A cols: 0\n",
      "Length after blank drop: 1096\n",
      "ARIMA Model...... "
     ]
    },
    {
     "name": "stderr",
     "output_type": "stream",
     "text": [
      "INFO:prophet:Disabling yearly seasonality. Run prophet with yearly_seasonality=True to override this.\n"
     ]
    },
    {
     "name": "stdout",
     "output_type": "stream",
     "text": [
      "RMSE: 16.183255736930974\n",
      "Prophet...... RMSE: 54.19762055064977\n",
      "XGBoost...... RMSE: 14.719346400441824\n",
      "\n",
      "\n",
      "232_3.pkl\n",
      "Length on load: 26302\n",
      "Length after agg: 1096\n",
      "Dropped N/A cols: 0\n",
      "Length after blank drop: 1096\n",
      "ARIMA Model...... "
     ]
    },
    {
     "name": "stderr",
     "output_type": "stream",
     "text": [
      "INFO:prophet:Disabling yearly seasonality. Run prophet with yearly_seasonality=True to override this.\n"
     ]
    },
    {
     "name": "stdout",
     "output_type": "stream",
     "text": [
      "RMSE: 124.85259112378061\n",
      "Prophet...... RMSE: 106.6547286371545\n",
      "XGBoost...... RMSE: 112.6757485005413\n",
      "\n",
      "\n",
      "233_0.pkl\n",
      "Length on load: 26302\n",
      "Length after agg: 1096\n",
      "Dropped N/A cols: 0\n",
      "Length after blank drop: 1096\n",
      "ARIMA Model...... "
     ]
    },
    {
     "name": "stderr",
     "output_type": "stream",
     "text": [
      "INFO:prophet:Disabling yearly seasonality. Run prophet with yearly_seasonality=True to override this.\n"
     ]
    },
    {
     "name": "stdout",
     "output_type": "stream",
     "text": [
      "RMSE: 7.815575271579353\n",
      "Prophet...... RMSE: 17.584403761387776\n",
      "XGBoost...... RMSE: 4.672493767956105\n",
      "\n",
      "\n",
      "233_1.pkl\n",
      "Length on load: 26295\n",
      "Length after agg: 1096\n",
      "Dropped N/A cols: 0\n",
      "Length after blank drop: 1096\n",
      "ARIMA Model...... "
     ]
    },
    {
     "name": "stderr",
     "output_type": "stream",
     "text": [
      "INFO:prophet:Disabling yearly seasonality. Run prophet with yearly_seasonality=True to override this.\n"
     ]
    },
    {
     "name": "stdout",
     "output_type": "stream",
     "text": [
      "RMSE: 118.31400053289882\n",
      "Prophet...... RMSE: 161.27905605540616\n",
      "XGBoost...... RMSE: 141.70376535325425\n",
      "\n",
      "\n",
      "234_0.pkl\n",
      "Length on load: 26302\n",
      "Length after agg: 1096\n",
      "Dropped N/A cols: 0\n",
      "Length after blank drop: 1096\n",
      "ARIMA Model...... "
     ]
    },
    {
     "name": "stderr",
     "output_type": "stream",
     "text": [
      "INFO:prophet:Disabling yearly seasonality. Run prophet with yearly_seasonality=True to override this.\n"
     ]
    },
    {
     "name": "stdout",
     "output_type": "stream",
     "text": [
      "RMSE: 11.62614065066333\n",
      "Prophet...... RMSE: 19.786305383957114\n",
      "XGBoost...... RMSE: 11.318845700906339\n",
      "\n",
      "\n",
      "234_1.pkl\n",
      "Length on load: 26302\n",
      "Length after agg: 1096\n",
      "Dropped N/A cols: 0\n",
      "Length after blank drop: 1096\n",
      "ARIMA Model...... "
     ]
    },
    {
     "name": "stderr",
     "output_type": "stream",
     "text": [
      "INFO:prophet:Disabling yearly seasonality. Run prophet with yearly_seasonality=True to override this.\n"
     ]
    },
    {
     "name": "stdout",
     "output_type": "stream",
     "text": [
      "RMSE: 244.41633233492524\n",
      "Prophet...... RMSE: 149.04286114494025\n",
      "XGBoost...... RMSE: 262.29143062709636\n",
      "\n",
      "\n",
      "234_3.pkl\n",
      "Length on load: 26302\n",
      "Length after agg: 1096\n",
      "Dropped N/A cols: 0\n",
      "Length after blank drop: 1096\n",
      "ARIMA Model...... "
     ]
    },
    {
     "name": "stderr",
     "output_type": "stream",
     "text": [
      "INFO:prophet:Disabling yearly seasonality. Run prophet with yearly_seasonality=True to override this.\n"
     ]
    },
    {
     "name": "stdout",
     "output_type": "stream",
     "text": [
      "RMSE: 10.271569436057332\n",
      "Prophet...... RMSE: 6.758881588057126\n",
      "XGBoost...... RMSE: 6.3890797674474955\n",
      "\n",
      "\n",
      "235_0.pkl\n",
      "Length on load: 26302\n",
      "Length after agg: 1096\n",
      "Dropped N/A cols: 0\n",
      "Length after blank drop: 1096\n",
      "ARIMA Model...... "
     ]
    },
    {
     "name": "stderr",
     "output_type": "stream",
     "text": [
      "INFO:prophet:Disabling yearly seasonality. Run prophet with yearly_seasonality=True to override this.\n"
     ]
    },
    {
     "name": "stdout",
     "output_type": "stream",
     "text": [
      "RMSE: 9.485667589918314\n",
      "Prophet...... RMSE: 27.38977409825359\n",
      "XGBoost...... RMSE: 9.105149365962133\n",
      "\n",
      "\n",
      "235_1.pkl\n",
      "Length on load: 26302\n",
      "Length after agg: 1096\n",
      "Dropped N/A cols: 0\n",
      "Length after blank drop: 1096\n",
      "ARIMA Model...... "
     ]
    },
    {
     "name": "stderr",
     "output_type": "stream",
     "text": [
      "INFO:prophet:Disabling yearly seasonality. Run prophet with yearly_seasonality=True to override this.\n"
     ]
    },
    {
     "name": "stdout",
     "output_type": "stream",
     "text": [
      "RMSE: 18.057986271919933\n",
      "Prophet...... RMSE: 89.88182743420077\n",
      "XGBoost...... RMSE: 45.601440937690796\n",
      "\n",
      "\n",
      "236_0.pkl\n",
      "Length on load: 26302\n",
      "Length after agg: 1096\n",
      "Dropped N/A cols: 0\n",
      "Length after blank drop: 1096\n",
      "ARIMA Model...... "
     ]
    },
    {
     "name": "stderr",
     "output_type": "stream",
     "text": [
      "INFO:prophet:Disabling yearly seasonality. Run prophet with yearly_seasonality=True to override this.\n"
     ]
    },
    {
     "name": "stdout",
     "output_type": "stream",
     "text": [
      "RMSE: 10.969195972544354\n",
      "Prophet...... RMSE: 13.63892825672793\n",
      "XGBoost...... RMSE: 6.975851060988541\n",
      "\n",
      "\n",
      "236_1.pkl\n",
      "Length on load: 26302\n",
      "Length after agg: 1096\n",
      "Dropped N/A cols: 0\n",
      "Length after blank drop: 1096\n",
      "ARIMA Model...... "
     ]
    },
    {
     "name": "stderr",
     "output_type": "stream",
     "text": [
      "INFO:prophet:Disabling yearly seasonality. Run prophet with yearly_seasonality=True to override this.\n"
     ]
    },
    {
     "name": "stdout",
     "output_type": "stream",
     "text": [
      "RMSE: 82.25850756082161\n",
      "Prophet...... RMSE: 98.81510958283641\n",
      "XGBoost...... RMSE: 101.03197700481024\n",
      "\n",
      "\n",
      "236_3.pkl\n",
      "not enough data\n",
      "237_0.pkl\n",
      "Length on load: 26302\n",
      "Length after agg: 1096\n",
      "Dropped N/A cols: 0\n",
      "Length after blank drop: 1096\n",
      "ARIMA Model...... "
     ]
    },
    {
     "name": "stderr",
     "output_type": "stream",
     "text": [
      "INFO:prophet:Disabling yearly seasonality. Run prophet with yearly_seasonality=True to override this.\n"
     ]
    },
    {
     "name": "stdout",
     "output_type": "stream",
     "text": [
      "RMSE: 49.80918378297682\n",
      "Prophet...... RMSE: 53.029456266175224\n",
      "XGBoost...... RMSE: 27.088671558143204\n",
      "\n",
      "\n",
      "237_1.pkl\n",
      "Length on load: 26302\n",
      "Length after agg: 1096\n",
      "Dropped N/A cols: 0\n",
      "Length after blank drop: 1096\n",
      "ARIMA Model...... "
     ]
    },
    {
     "name": "stderr",
     "output_type": "stream",
     "text": [
      "INFO:prophet:Disabling yearly seasonality. Run prophet with yearly_seasonality=True to override this.\n"
     ]
    },
    {
     "name": "stdout",
     "output_type": "stream",
     "text": [
      "RMSE: 176.2404818310146\n",
      "Prophet...... RMSE: 105.48803270174665\n",
      "XGBoost...... RMSE: 50.07881616426075\n",
      "\n",
      "\n",
      "238_0.pkl\n",
      "Length on load: 26302\n",
      "Length after agg: 1096\n",
      "Dropped N/A cols: 0\n",
      "Length after blank drop: 1096\n",
      "ARIMA Model...... "
     ]
    },
    {
     "name": "stderr",
     "output_type": "stream",
     "text": [
      "INFO:prophet:Disabling yearly seasonality. Run prophet with yearly_seasonality=True to override this.\n"
     ]
    },
    {
     "name": "stdout",
     "output_type": "stream",
     "text": [
      "RMSE: 14.088912573509596\n",
      "Prophet...... RMSE: 21.921288942577867\n",
      "XGBoost...... RMSE: 8.34220466146951\n",
      "\n",
      "\n",
      "238_1.pkl\n",
      "Length on load: 26302\n",
      "Length after agg: 1096\n",
      "Dropped N/A cols: 0\n",
      "Length after blank drop: 1096\n",
      "ARIMA Model...... "
     ]
    },
    {
     "name": "stderr",
     "output_type": "stream",
     "text": [
      "INFO:prophet:Disabling yearly seasonality. Run prophet with yearly_seasonality=True to override this.\n"
     ]
    },
    {
     "name": "stdout",
     "output_type": "stream",
     "text": [
      "RMSE: 67.51186278117856\n",
      "Prophet...... RMSE: 52.61964710250785\n",
      "XGBoost...... RMSE: 33.9169483141918\n",
      "\n",
      "\n",
      "239_0.pkl\n",
      "Length on load: 26302\n",
      "Length after agg: 1096\n",
      "Dropped N/A cols: 0\n",
      "Length after blank drop: 1096\n",
      "ARIMA Model...... "
     ]
    },
    {
     "name": "stderr",
     "output_type": "stream",
     "text": [
      "INFO:prophet:Disabling yearly seasonality. Run prophet with yearly_seasonality=True to override this.\n"
     ]
    },
    {
     "name": "stdout",
     "output_type": "stream",
     "text": [
      "RMSE: 17.79733307758533\n",
      "Prophet...... RMSE: 66.05715905992191\n",
      "XGBoost...... RMSE: 26.025113944948583\n",
      "\n",
      "\n",
      "239_1.pkl\n",
      "Length on load: 26302\n",
      "Length after agg: 1096\n",
      "Dropped N/A cols: 0\n",
      "Length after blank drop: 1096\n",
      "ARIMA Model...... "
     ]
    },
    {
     "name": "stderr",
     "output_type": "stream",
     "text": [
      "INFO:prophet:Disabling yearly seasonality. Run prophet with yearly_seasonality=True to override this.\n"
     ]
    },
    {
     "name": "stdout",
     "output_type": "stream",
     "text": [
      "RMSE: 351.370487374597\n",
      "Prophet...... RMSE: 267.45078957111696\n",
      "XGBoost...... RMSE: 167.08140966371167\n",
      "\n",
      "\n",
      "239_3.pkl\n",
      "not enough data\n",
      "240_0.pkl\n",
      "Length on load: 26302\n",
      "Length after agg: 1096\n",
      "Dropped N/A cols: 0\n",
      "Length after blank drop: 1096\n",
      "ARIMA Model...... "
     ]
    },
    {
     "name": "stderr",
     "output_type": "stream",
     "text": [
      "INFO:prophet:Disabling yearly seasonality. Run prophet with yearly_seasonality=True to override this.\n"
     ]
    },
    {
     "name": "stdout",
     "output_type": "stream",
     "text": [
      "RMSE: 24.61655186375811\n",
      "Prophet...... RMSE: 8.429928994148293\n",
      "XGBoost...... RMSE: 11.145140331124717\n",
      "\n",
      "\n",
      "240_1.pkl\n",
      "Length on load: 26302\n",
      "Length after agg: 1096\n",
      "Dropped N/A cols: 0\n",
      "Length after blank drop: 1096\n",
      "ARIMA Model...... "
     ]
    },
    {
     "name": "stderr",
     "output_type": "stream",
     "text": [
      "INFO:prophet:Disabling yearly seasonality. Run prophet with yearly_seasonality=True to override this.\n"
     ]
    },
    {
     "name": "stdout",
     "output_type": "stream",
     "text": [
      "RMSE: 48.598014559165534\n",
      "Prophet...... RMSE: 145.61721274036046\n",
      "XGBoost...... RMSE: 73.47819516909836\n",
      "\n",
      "\n",
      "240_3.pkl\n",
      "not enough data\n",
      "241_0.pkl\n",
      "Length on load: 26302\n",
      "Length after agg: 1096\n",
      "Dropped N/A cols: 0\n",
      "Length after blank drop: 1096\n",
      "ARIMA Model...... "
     ]
    },
    {
     "name": "stderr",
     "output_type": "stream",
     "text": [
      "INFO:prophet:Disabling yearly seasonality. Run prophet with yearly_seasonality=True to override this.\n"
     ]
    },
    {
     "name": "stdout",
     "output_type": "stream",
     "text": [
      "RMSE: 8.439055992264228\n",
      "Prophet...... RMSE: 13.529943735569349\n",
      "XGBoost...... RMSE: 15.540073444816098\n",
      "\n",
      "\n",
      "242_0.pkl\n",
      "Length on load: 26302\n",
      "Length after agg: 1096\n",
      "Dropped N/A cols: 0\n",
      "Length after blank drop: 1096\n",
      "ARIMA Model...... "
     ]
    },
    {
     "name": "stderr",
     "output_type": "stream",
     "text": [
      "INFO:prophet:Disabling yearly seasonality. Run prophet with yearly_seasonality=True to override this.\n"
     ]
    },
    {
     "name": "stdout",
     "output_type": "stream",
     "text": [
      "RMSE: 0.9116397374227055\n",
      "Prophet...... RMSE: 1.3687634898107475\n",
      "XGBoost...... RMSE: 1.3061013747013834\n",
      "\n",
      "\n",
      "243_0.pkl\n",
      "Length on load: 26302\n",
      "Length after agg: 1096\n",
      "Dropped N/A cols: 0\n",
      "Length after blank drop: 1096\n",
      "ARIMA Model...... "
     ]
    },
    {
     "name": "stderr",
     "output_type": "stream",
     "text": [
      "INFO:prophet:Disabling yearly seasonality. Run prophet with yearly_seasonality=True to override this.\n"
     ]
    },
    {
     "name": "stdout",
     "output_type": "stream",
     "text": [
      "RMSE: 5.458689295641099\n",
      "Prophet...... RMSE: 8.937310923419819\n",
      "XGBoost...... RMSE: 4.12998058727892\n",
      "\n",
      "\n",
      "244_0.pkl\n",
      "Length on load: 26302\n",
      "Length after agg: 1096\n",
      "Dropped N/A cols: 0\n",
      "Length after blank drop: 1096\n",
      "ARIMA Model...... "
     ]
    },
    {
     "name": "stderr",
     "output_type": "stream",
     "text": [
      "INFO:prophet:Disabling yearly seasonality. Run prophet with yearly_seasonality=True to override this.\n"
     ]
    },
    {
     "name": "stdout",
     "output_type": "stream",
     "text": [
      "RMSE: 12.41425939971078\n",
      "Prophet...... RMSE: 13.3413697403467\n",
      "XGBoost...... RMSE: 13.621333921923947\n",
      "\n",
      "\n",
      "244_1.pkl\n",
      "Length on load: 26302\n",
      "Length after agg: 1096\n",
      "Dropped N/A cols: 0\n",
      "Length after blank drop: 1096\n",
      "ARIMA Model...... "
     ]
    },
    {
     "name": "stderr",
     "output_type": "stream",
     "text": [
      "INFO:prophet:Disabling yearly seasonality. Run prophet with yearly_seasonality=True to override this.\n"
     ]
    },
    {
     "name": "stdout",
     "output_type": "stream",
     "text": [
      "RMSE: 60.21930433449567\n",
      "Prophet...... RMSE: 79.60084178228618\n",
      "XGBoost...... RMSE: 66.19450006429429\n",
      "\n",
      "\n",
      "244_3.pkl\n",
      "not enough data\n",
      "245_0.pkl\n",
      "Length on load: 26189\n",
      "Length after agg: 1096\n",
      "Dropped N/A cols: 0\n",
      "Length after blank drop: 1096\n",
      "ARIMA Model...... "
     ]
    },
    {
     "name": "stderr",
     "output_type": "stream",
     "text": [
      "INFO:prophet:Disabling yearly seasonality. Run prophet with yearly_seasonality=True to override this.\n"
     ]
    },
    {
     "name": "stdout",
     "output_type": "stream",
     "text": [
      "RMSE: 25.660401665461254\n",
      "Prophet...... RMSE: 19.066390269126387\n",
      "XGBoost...... RMSE: 14.589690323920268\n",
      "\n",
      "\n",
      "245_1.pkl\n",
      "Length on load: 26302\n",
      "Length after agg: 1096\n",
      "Dropped N/A cols: 0\n",
      "Length after blank drop: 1096\n",
      "ARIMA Model...... "
     ]
    },
    {
     "name": "stderr",
     "output_type": "stream",
     "text": [
      "INFO:prophet:Disabling yearly seasonality. Run prophet with yearly_seasonality=True to override this.\n"
     ]
    },
    {
     "name": "stdout",
     "output_type": "stream",
     "text": [
      "RMSE: 209.958599023721\n",
      "Prophet...... RMSE: 164.2935260909951\n",
      "XGBoost...... RMSE: 79.33509525251519\n",
      "\n",
      "\n",
      "246_0.pkl\n",
      "Length on load: 26302\n",
      "Length after agg: 1096\n",
      "Dropped N/A cols: 0\n",
      "Length after blank drop: 1096\n",
      "ARIMA Model...... "
     ]
    },
    {
     "name": "stderr",
     "output_type": "stream",
     "text": [
      "INFO:prophet:Disabling yearly seasonality. Run prophet with yearly_seasonality=True to override this.\n"
     ]
    },
    {
     "name": "stdout",
     "output_type": "stream",
     "text": [
      "RMSE: 75.32341502990364\n",
      "Prophet...... RMSE: 14.548346876807372\n",
      "XGBoost...... RMSE: 21.114947067682724\n",
      "\n",
      "\n",
      "246_1.pkl\n",
      "Length on load: 26302\n",
      "Length after agg: 1096\n",
      "Dropped N/A cols: 0\n",
      "Length after blank drop: 1096\n",
      "ARIMA Model...... "
     ]
    },
    {
     "name": "stderr",
     "output_type": "stream",
     "text": [
      "INFO:prophet:Disabling yearly seasonality. Run prophet with yearly_seasonality=True to override this.\n"
     ]
    },
    {
     "name": "stdout",
     "output_type": "stream",
     "text": [
      "RMSE: 872.8817158193813\n",
      "Prophet...... RMSE: 234.55225453062928\n",
      "XGBoost...... RMSE: 281.82561791343915\n",
      "\n",
      "\n",
      "246_3.pkl\n",
      "Length on load: 26302\n",
      "Length after agg: 1096\n",
      "Dropped N/A cols: 0\n",
      "Length after blank drop: 1096\n",
      "ARIMA Model...... "
     ]
    },
    {
     "name": "stderr",
     "output_type": "stream",
     "text": [
      "INFO:prophet:Disabling yearly seasonality. Run prophet with yearly_seasonality=True to override this.\n"
     ]
    },
    {
     "name": "stdout",
     "output_type": "stream",
     "text": [
      "RMSE: 40.31520373552943\n",
      "Prophet...... RMSE: 52.76519027824605\n",
      "XGBoost...... RMSE: 35.093862144908286\n",
      "\n",
      "\n",
      "247_0.pkl\n",
      "Length on load: 26301\n",
      "Length after agg: 1096\n",
      "Dropped N/A cols: 0\n",
      "Length after blank drop: 1096\n",
      "ARIMA Model...... "
     ]
    },
    {
     "name": "stderr",
     "output_type": "stream",
     "text": [
      "INFO:prophet:Disabling yearly seasonality. Run prophet with yearly_seasonality=True to override this.\n"
     ]
    },
    {
     "name": "stdout",
     "output_type": "stream",
     "text": [
      "RMSE: 17.8021197129002\n",
      "Prophet...... RMSE: 31.310207069120917\n",
      "XGBoost...... RMSE: 22.59306321815921\n",
      "\n",
      "\n",
      "247_1.pkl\n",
      "Length on load: 26302\n",
      "Length after agg: 1096\n",
      "Dropped N/A cols: 0\n",
      "Length after blank drop: 1096\n",
      "ARIMA Model...... "
     ]
    },
    {
     "name": "stderr",
     "output_type": "stream",
     "text": [
      "INFO:prophet:Disabling yearly seasonality. Run prophet with yearly_seasonality=True to override this.\n"
     ]
    },
    {
     "name": "stdout",
     "output_type": "stream",
     "text": [
      "RMSE: 317.31226374125964\n",
      "Prophet...... RMSE: 115.0958163843424\n",
      "XGBoost...... RMSE: 174.36536158973456\n",
      "\n",
      "\n",
      "247_3.pkl\n",
      "Length on load: 26302\n",
      "Length after agg: 1096\n",
      "Dropped N/A cols: 0\n",
      "Length after blank drop: 1096\n",
      "ARIMA Model...... "
     ]
    },
    {
     "name": "stderr",
     "output_type": "stream",
     "text": [
      "INFO:prophet:Disabling yearly seasonality. Run prophet with yearly_seasonality=True to override this.\n"
     ]
    },
    {
     "name": "stdout",
     "output_type": "stream",
     "text": [
      "RMSE: 14.299163074381342\n",
      "Prophet...... RMSE: 20.786841390821706\n",
      "XGBoost...... RMSE: 8.782539525027861\n",
      "\n",
      "\n",
      "248_0.pkl\n",
      "Length on load: 26302\n",
      "Length after agg: 1096\n",
      "Dropped N/A cols: 0\n",
      "Length after blank drop: 1096\n",
      "ARIMA Model...... "
     ]
    },
    {
     "name": "stderr",
     "output_type": "stream",
     "text": [
      "INFO:prophet:Disabling yearly seasonality. Run prophet with yearly_seasonality=True to override this.\n"
     ]
    },
    {
     "name": "stdout",
     "output_type": "stream",
     "text": [
      "RMSE: 10.951455854851638\n",
      "Prophet...... RMSE: 16.308847715597373\n",
      "XGBoost...... RMSE: 13.4091549849086\n",
      "\n",
      "\n",
      "248_1.pkl\n",
      "Length on load: 26302\n",
      "Length after agg: 1096\n",
      "Dropped N/A cols: 0\n",
      "Length after blank drop: 1096\n",
      "ARIMA Model...... "
     ]
    },
    {
     "name": "stderr",
     "output_type": "stream",
     "text": [
      "INFO:prophet:Disabling yearly seasonality. Run prophet with yearly_seasonality=True to override this.\n"
     ]
    },
    {
     "name": "stdout",
     "output_type": "stream",
     "text": [
      "RMSE: 69.01699703849388\n",
      "Prophet...... RMSE: 58.49776325379573\n",
      "XGBoost...... RMSE: 60.358547513315486\n",
      "\n",
      "\n",
      "248_3.pkl\n",
      "Length on load: 26302\n",
      "Length after agg: 1096\n",
      "Dropped N/A cols: 0\n",
      "Length after blank drop: 1096\n",
      "ARIMA Model...... "
     ]
    },
    {
     "name": "stderr",
     "output_type": "stream",
     "text": [
      "INFO:prophet:Disabling yearly seasonality. Run prophet with yearly_seasonality=True to override this.\n"
     ]
    },
    {
     "name": "stdout",
     "output_type": "stream",
     "text": [
      "RMSE: 27.128876647042375\n",
      "Prophet...... RMSE: 15.67693390100578\n",
      "XGBoost...... RMSE: 32.832578639406634\n",
      "\n",
      "\n",
      "249_0.pkl\n",
      "Length on load: 26302\n",
      "Length after agg: 1096\n",
      "Dropped N/A cols: 0\n",
      "Length after blank drop: 1096\n",
      "ARIMA Model...... "
     ]
    },
    {
     "name": "stderr",
     "output_type": "stream",
     "text": [
      "INFO:prophet:Disabling yearly seasonality. Run prophet with yearly_seasonality=True to override this.\n"
     ]
    },
    {
     "name": "stdout",
     "output_type": "stream",
     "text": [
      "RMSE: 34.472671957006455\n",
      "Prophet...... RMSE: 23.04044916088751\n",
      "XGBoost...... RMSE: 15.695136005282885\n",
      "\n",
      "\n",
      "249_1.pkl\n",
      "Length on load: 26302\n",
      "Length after agg: 1096\n",
      "Dropped N/A cols: 0\n",
      "Length after blank drop: 1096\n",
      "ARIMA Model...... "
     ]
    },
    {
     "name": "stderr",
     "output_type": "stream",
     "text": [
      "INFO:prophet:Disabling yearly seasonality. Run prophet with yearly_seasonality=True to override this.\n"
     ]
    },
    {
     "name": "stdout",
     "output_type": "stream",
     "text": [
      "RMSE: 626.8128955677646\n",
      "Prophet...... RMSE: 124.86703390282547\n",
      "XGBoost...... RMSE: 172.94989638405013\n",
      "\n",
      "\n",
      "249_3.pkl\n",
      "Length on load: 26301\n",
      "Length after agg: 1096\n",
      "Dropped N/A cols: 0\n",
      "Length after blank drop: 1096\n",
      "ARIMA Model...... "
     ]
    },
    {
     "name": "stderr",
     "output_type": "stream",
     "text": [
      "INFO:prophet:Disabling yearly seasonality. Run prophet with yearly_seasonality=True to override this.\n"
     ]
    },
    {
     "name": "stdout",
     "output_type": "stream",
     "text": [
      "RMSE: 231.53370239906334\n",
      "Prophet...... RMSE: 191.11327388506612\n",
      "XGBoost...... RMSE: 91.453306463012\n",
      "\n",
      "\n",
      "250_0.pkl\n",
      "Length on load: 26302\n",
      "Length after agg: 1096\n",
      "Dropped N/A cols: 0\n",
      "Length after blank drop: 1096\n",
      "ARIMA Model...... "
     ]
    },
    {
     "name": "stderr",
     "output_type": "stream",
     "text": [
      "INFO:prophet:Disabling yearly seasonality. Run prophet with yearly_seasonality=True to override this.\n"
     ]
    },
    {
     "name": "stdout",
     "output_type": "stream",
     "text": [
      "RMSE: 21.589904221885565\n",
      "Prophet...... RMSE: 48.443399937397984\n",
      "XGBoost...... RMSE: 26.640191819730106\n",
      "\n",
      "\n",
      "250_1.pkl\n",
      "Length on load: 26302\n",
      "Length after agg: 1096\n",
      "Dropped N/A cols: 0\n",
      "Length after blank drop: 1096\n",
      "ARIMA Model...... "
     ]
    },
    {
     "name": "stderr",
     "output_type": "stream",
     "text": [
      "INFO:prophet:Disabling yearly seasonality. Run prophet with yearly_seasonality=True to override this.\n"
     ]
    },
    {
     "name": "stdout",
     "output_type": "stream",
     "text": [
      "RMSE: 419.88394781362365\n",
      "Prophet...... RMSE: 256.7211665223193\n",
      "XGBoost...... RMSE: 163.38066898017732\n",
      "\n",
      "\n",
      "250_3.pkl\n",
      "not enough data\n",
      "251_0.pkl\n",
      "Length on load: 26265\n",
      "Length after agg: 1096\n",
      "Dropped N/A cols: 0\n",
      "Length after blank drop: 1096\n",
      "ARIMA Model...... "
     ]
    },
    {
     "name": "stderr",
     "output_type": "stream",
     "text": [
      "INFO:prophet:Disabling yearly seasonality. Run prophet with yearly_seasonality=True to override this.\n"
     ]
    },
    {
     "name": "stdout",
     "output_type": "stream",
     "text": [
      "RMSE: 4.232371308735344\n",
      "Prophet...... RMSE: 5.771488309574362\n",
      "XGBoost...... RMSE: 3.411694879985013\n",
      "\n",
      "\n",
      "252_0.pkl\n",
      "Length on load: 26292\n",
      "Length after agg: 1096\n",
      "Dropped N/A cols: 0\n",
      "Length after blank drop: 1096\n",
      "ARIMA Model...... "
     ]
    },
    {
     "name": "stderr",
     "output_type": "stream",
     "text": [
      "INFO:prophet:Disabling yearly seasonality. Run prophet with yearly_seasonality=True to override this.\n"
     ]
    },
    {
     "name": "stdout",
     "output_type": "stream",
     "text": [
      "RMSE: 2.0552425218468984\n",
      "Prophet...... RMSE: 2.4014858387719147\n",
      "XGBoost...... RMSE: 2.3974525508957574\n",
      "\n",
      "\n",
      "252_1.pkl\n",
      "not enough data\n",
      "253_0.pkl\n",
      "Length on load: 26302\n",
      "Length after agg: 1096\n",
      "Dropped N/A cols: 0\n",
      "Length after blank drop: 1096\n",
      "ARIMA Model...... "
     ]
    },
    {
     "name": "stderr",
     "output_type": "stream",
     "text": [
      "INFO:prophet:Disabling yearly seasonality. Run prophet with yearly_seasonality=True to override this.\n"
     ]
    },
    {
     "name": "stdout",
     "output_type": "stream",
     "text": [
      "RMSE: 9.39606958337745\n",
      "Prophet...... RMSE: 5.4350034780687\n",
      "XGBoost...... RMSE: 5.068123721234316\n",
      "\n",
      "\n",
      "253_1.pkl\n",
      "Length on load: 26302\n",
      "Length after agg: 1096\n",
      "Dropped N/A cols: 0\n",
      "Length after blank drop: 1096\n",
      "ARIMA Model...... "
     ]
    },
    {
     "name": "stderr",
     "output_type": "stream",
     "text": [
      "INFO:prophet:Disabling yearly seasonality. Run prophet with yearly_seasonality=True to override this.\n"
     ]
    },
    {
     "name": "stdout",
     "output_type": "stream",
     "text": [
      "RMSE: 44.35622504791088\n",
      "Prophet...... RMSE: 50.627722646398134\n",
      "XGBoost...... RMSE: 47.12182669086256\n",
      "\n",
      "\n",
      "253_3.pkl\n",
      "Length on load: 26302\n",
      "Length after agg: 1096\n",
      "Dropped N/A cols: 0\n",
      "Length after blank drop: 1096\n",
      "ARIMA Model...... "
     ]
    },
    {
     "name": "stderr",
     "output_type": "stream",
     "text": [
      "INFO:prophet:Disabling yearly seasonality. Run prophet with yearly_seasonality=True to override this.\n"
     ]
    },
    {
     "name": "stdout",
     "output_type": "stream",
     "text": [
      "RMSE: 9.263815755035342\n",
      "Prophet...... RMSE: 6.303638676191354\n",
      "XGBoost...... RMSE: 9.176698334865584\n",
      "\n",
      "\n",
      "254_0.pkl\n",
      "Length on load: 26303\n",
      "Length after agg: 1096\n",
      "Dropped N/A cols: 0\n",
      "Length after blank drop: 1096\n",
      "ARIMA Model...... "
     ]
    },
    {
     "name": "stderr",
     "output_type": "stream",
     "text": [
      "INFO:prophet:Disabling yearly seasonality. Run prophet with yearly_seasonality=True to override this.\n"
     ]
    },
    {
     "name": "stdout",
     "output_type": "stream",
     "text": [
      "RMSE: 81.47445574272768\n",
      "Prophet...... RMSE: 132.2690064789676\n",
      "XGBoost...... RMSE: 97.62259060411762\n",
      "\n",
      "\n",
      "254_1.pkl\n",
      "Length on load: 26303\n",
      "Length after agg: 1096\n",
      "Dropped N/A cols: 0\n",
      "Length after blank drop: 1096\n",
      "ARIMA Model...... "
     ]
    },
    {
     "name": "stderr",
     "output_type": "stream",
     "text": [
      "INFO:prophet:Disabling yearly seasonality. Run prophet with yearly_seasonality=True to override this.\n"
     ]
    },
    {
     "name": "stdout",
     "output_type": "stream",
     "text": [
      "RMSE: 204.8480208643693\n",
      "Prophet...... RMSE: 207.09101301077783\n",
      "XGBoost...... RMSE: 215.90056063036693\n",
      "\n",
      "\n",
      "254_3.pkl\n",
      "not enough data\n",
      "255_0.pkl\n",
      "Length on load: 26303\n",
      "Length after agg: 1096\n",
      "Dropped N/A cols: 0\n",
      "Length after blank drop: 1096\n",
      "ARIMA Model...... "
     ]
    },
    {
     "name": "stderr",
     "output_type": "stream",
     "text": [
      "INFO:prophet:Disabling yearly seasonality. Run prophet with yearly_seasonality=True to override this.\n"
     ]
    },
    {
     "name": "stdout",
     "output_type": "stream",
     "text": [
      "RMSE: 6.137786933040414\n",
      "Prophet...... RMSE: 6.835275878789977\n",
      "XGBoost...... RMSE: 4.094589703815962\n",
      "\n",
      "\n",
      "255_1.pkl\n",
      "Length on load: 26303\n",
      "Length after agg: 1096\n",
      "Dropped N/A cols: 0\n",
      "Length after blank drop: 1096\n",
      "ARIMA Model...... "
     ]
    },
    {
     "name": "stderr",
     "output_type": "stream",
     "text": [
      "INFO:prophet:Disabling yearly seasonality. Run prophet with yearly_seasonality=True to override this.\n"
     ]
    },
    {
     "name": "stdout",
     "output_type": "stream",
     "text": [
      "RMSE: 29.065250968122562\n",
      "Prophet...... RMSE: 33.480871671226865\n",
      "XGBoost...... RMSE: 34.89942828177989\n",
      "\n",
      "\n",
      "255_3.pkl\n",
      "not enough data\n",
      "256_0.pkl\n",
      "Length on load: 26300\n",
      "Length after agg: 1096\n",
      "Dropped N/A cols: 0\n",
      "Length after blank drop: 1096\n",
      "ARIMA Model...... "
     ]
    },
    {
     "name": "stderr",
     "output_type": "stream",
     "text": [
      "INFO:prophet:Disabling yearly seasonality. Run prophet with yearly_seasonality=True to override this.\n"
     ]
    },
    {
     "name": "stdout",
     "output_type": "stream",
     "text": [
      "RMSE: 3.9154027594248406\n",
      "Prophet...... RMSE: 14.51364384154775\n",
      "XGBoost...... RMSE: 3.468100563447471\n",
      "\n",
      "\n",
      "256_1.pkl\n",
      "Length on load: 26301\n",
      "Length after agg: 1096\n",
      "Dropped N/A cols: 0\n",
      "Length after blank drop: 1096\n",
      "ARIMA Model...... "
     ]
    },
    {
     "name": "stderr",
     "output_type": "stream",
     "text": [
      "INFO:prophet:Disabling yearly seasonality. Run prophet with yearly_seasonality=True to override this.\n"
     ]
    },
    {
     "name": "stdout",
     "output_type": "stream",
     "text": [
      "RMSE: 11.19321243745105\n",
      "Prophet...... RMSE: 49.349367890216364\n",
      "XGBoost...... RMSE: 15.516895362030155\n",
      "\n",
      "\n",
      "257_0.pkl\n",
      "Length on load: 26303\n",
      "Length after agg: 1096\n",
      "Dropped N/A cols: 0\n",
      "Length after blank drop: 1096\n",
      "ARIMA Model...... "
     ]
    },
    {
     "name": "stderr",
     "output_type": "stream",
     "text": [
      "INFO:prophet:Disabling yearly seasonality. Run prophet with yearly_seasonality=True to override this.\n"
     ]
    },
    {
     "name": "stdout",
     "output_type": "stream",
     "text": [
      "RMSE: 14.125230216478847\n",
      "Prophet...... RMSE: 10.25241901237737\n",
      "XGBoost...... RMSE: 10.43860418551456\n",
      "\n",
      "\n",
      "257_1.pkl\n",
      "Length on load: 26303\n",
      "Length after agg: 1096\n",
      "Dropped N/A cols: 0\n",
      "Length after blank drop: 1096\n",
      "ARIMA Model...... "
     ]
    },
    {
     "name": "stderr",
     "output_type": "stream",
     "text": [
      "INFO:prophet:Disabling yearly seasonality. Run prophet with yearly_seasonality=True to override this.\n"
     ]
    },
    {
     "name": "stdout",
     "output_type": "stream",
     "text": [
      "RMSE: 436.316265015029\n",
      "Prophet...... RMSE: 148.6767877902244\n",
      "XGBoost...... RMSE: 171.66286389904167\n",
      "\n",
      "\n",
      "258_0.pkl\n",
      "not enough data\n",
      "258_1.pkl\n",
      "not enough data\n",
      "259_0.pkl\n",
      "Length on load: 26243\n",
      "Length after agg: 1096\n",
      "Dropped N/A cols: 0\n",
      "Length after blank drop: 1096\n",
      "ARIMA Model...... "
     ]
    },
    {
     "name": "stderr",
     "output_type": "stream",
     "text": [
      "INFO:prophet:Disabling yearly seasonality. Run prophet with yearly_seasonality=True to override this.\n"
     ]
    },
    {
     "name": "stdout",
     "output_type": "stream",
     "text": [
      "RMSE: 35.584251476240446\n",
      "Prophet...... RMSE: 29.34970025337142\n",
      "XGBoost...... RMSE: 29.873307679910987\n",
      "\n",
      "\n",
      "259_1.pkl\n",
      "not enough data\n",
      "260_0.pkl\n",
      "not enough data\n",
      "260_1.pkl\n",
      "not enough data\n",
      "260_3.pkl\n",
      "Length on load: 26303\n",
      "Length after agg: 1096\n",
      "Dropped N/A cols: 0\n",
      "Length after blank drop: 1096\n",
      "ARIMA Model...... "
     ]
    },
    {
     "name": "stderr",
     "output_type": "stream",
     "text": [
      "INFO:prophet:Disabling yearly seasonality. Run prophet with yearly_seasonality=True to override this.\n"
     ]
    },
    {
     "name": "stdout",
     "output_type": "stream",
     "text": [
      "RMSE: 15.079673433832903\n",
      "Prophet...... RMSE: 15.909470832430737\n",
      "XGBoost...... RMSE: 14.26071157071301\n",
      "\n",
      "\n",
      "261_0.pkl\n",
      "Length on load: 26303\n",
      "Length after agg: 1096\n",
      "Dropped N/A cols: 0\n",
      "Length after blank drop: 1096\n",
      "ARIMA Model...... "
     ]
    },
    {
     "name": "stderr",
     "output_type": "stream",
     "text": [
      "INFO:prophet:Disabling yearly seasonality. Run prophet with yearly_seasonality=True to override this.\n"
     ]
    },
    {
     "name": "stdout",
     "output_type": "stream",
     "text": [
      "RMSE: 18.651251885706333\n",
      "Prophet...... RMSE: 16.17198646948338\n",
      "XGBoost...... RMSE: 32.49583172026759\n",
      "\n",
      "\n",
      "262_0.pkl\n",
      "Length on load: 26303\n",
      "Length after agg: 1096\n",
      "Dropped N/A cols: 0\n",
      "Length after blank drop: 1096\n",
      "ARIMA Model...... "
     ]
    },
    {
     "name": "stderr",
     "output_type": "stream",
     "text": [
      "INFO:prophet:Disabling yearly seasonality. Run prophet with yearly_seasonality=True to override this.\n"
     ]
    },
    {
     "name": "stdout",
     "output_type": "stream",
     "text": [
      "RMSE: 12.72442173025639\n",
      "Prophet...... RMSE: 9.64266514467521\n",
      "XGBoost...... RMSE: 6.998360902707789\n",
      "\n",
      "\n",
      "263_0.pkl\n",
      "Length on load: 26303\n",
      "Length after agg: 1096\n",
      "Dropped N/A cols: 0\n",
      "Length after blank drop: 1096\n",
      "ARIMA Model...... "
     ]
    },
    {
     "name": "stderr",
     "output_type": "stream",
     "text": [
      "INFO:prophet:Disabling yearly seasonality. Run prophet with yearly_seasonality=True to override this.\n"
     ]
    },
    {
     "name": "stdout",
     "output_type": "stream",
     "text": [
      "RMSE: 11.680239249164021\n",
      "Prophet...... RMSE: 12.957010894405963\n",
      "XGBoost...... RMSE: 13.150540937017196\n",
      "\n",
      "\n",
      "263_1.pkl\n",
      "Length on load: 26303\n",
      "Length after agg: 1096\n",
      "Dropped N/A cols: 0\n",
      "Length after blank drop: 1096\n",
      "ARIMA Model...... "
     ]
    },
    {
     "name": "stderr",
     "output_type": "stream",
     "text": [
      "INFO:prophet:Disabling yearly seasonality. Run prophet with yearly_seasonality=True to override this.\n"
     ]
    },
    {
     "name": "stdout",
     "output_type": "stream",
     "text": [
      "RMSE: 108.72698135926629\n",
      "Prophet...... RMSE: 65.57552992222261\n",
      "XGBoost...... RMSE: 88.71762658695896\n",
      "\n",
      "\n",
      "263_3.pkl\n",
      "not enough data\n",
      "264_0.pkl\n",
      "Length on load: 26303\n",
      "Length after agg: 1096\n",
      "Dropped N/A cols: 0\n",
      "Length after blank drop: 1096\n",
      "ARIMA Model...... "
     ]
    },
    {
     "name": "stderr",
     "output_type": "stream",
     "text": [
      "INFO:prophet:Disabling yearly seasonality. Run prophet with yearly_seasonality=True to override this.\n"
     ]
    },
    {
     "name": "stdout",
     "output_type": "stream",
     "text": [
      "RMSE: 10.196198555740969\n",
      "Prophet...... RMSE: 19.884524130698622\n",
      "XGBoost...... RMSE: 16.43683388707611\n",
      "\n",
      "\n",
      "264_1.pkl\n",
      "Length on load: 26303\n",
      "Length after agg: 1096\n",
      "Dropped N/A cols: 0\n",
      "Length after blank drop: 1096\n",
      "ARIMA Model...... "
     ]
    },
    {
     "name": "stderr",
     "output_type": "stream",
     "text": [
      "INFO:prophet:Disabling yearly seasonality. Run prophet with yearly_seasonality=True to override this.\n"
     ]
    },
    {
     "name": "stdout",
     "output_type": "stream",
     "text": [
      "RMSE: 99.10363964532071\n",
      "Prophet...... RMSE: 41.70007307524139\n",
      "XGBoost...... RMSE: 52.78316403278283\n",
      "\n",
      "\n",
      "264_3.pkl\n",
      "not enough data\n",
      "265_0.pkl\n",
      "Length on load: 26303\n",
      "Length after agg: 1096\n",
      "Dropped N/A cols: 0\n",
      "Length after blank drop: 1096\n",
      "ARIMA Model...... "
     ]
    },
    {
     "name": "stderr",
     "output_type": "stream",
     "text": [
      "INFO:prophet:Disabling yearly seasonality. Run prophet with yearly_seasonality=True to override this.\n"
     ]
    },
    {
     "name": "stdout",
     "output_type": "stream",
     "text": [
      "RMSE: 16.742529437607\n",
      "Prophet...... RMSE: 24.515123268404576\n",
      "XGBoost...... RMSE: 15.973243075192661\n",
      "\n",
      "\n",
      "265_1.pkl\n",
      "Length on load: 26303\n",
      "Length after agg: 1096\n",
      "Dropped N/A cols: 0\n",
      "Length after blank drop: 1096\n",
      "ARIMA Model...... "
     ]
    },
    {
     "name": "stderr",
     "output_type": "stream",
     "text": [
      "INFO:prophet:Disabling yearly seasonality. Run prophet with yearly_seasonality=True to override this.\n"
     ]
    },
    {
     "name": "stdout",
     "output_type": "stream",
     "text": [
      "RMSE: 230.72057983315003\n",
      "Prophet...... RMSE: 197.86912229522412\n",
      "XGBoost...... RMSE: 127.99652007328406\n",
      "\n",
      "\n",
      "266_0.pkl\n",
      "Length on load: 26303\n",
      "Length after agg: 1096\n",
      "Dropped N/A cols: 0\n",
      "Length after blank drop: 1096\n",
      "ARIMA Model...... "
     ]
    },
    {
     "name": "stderr",
     "output_type": "stream",
     "text": [
      "INFO:prophet:Disabling yearly seasonality. Run prophet with yearly_seasonality=True to override this.\n"
     ]
    },
    {
     "name": "stdout",
     "output_type": "stream",
     "text": [
      "RMSE: 38.914082265078825\n",
      "Prophet...... RMSE: 50.254653648457634\n",
      "XGBoost...... RMSE: 19.991461383599713\n",
      "\n",
      "\n",
      "267_0.pkl\n",
      "Length on load: 26282\n",
      "Length after agg: 1096\n",
      "Dropped N/A cols: 0\n",
      "Length after blank drop: 1096\n",
      "ARIMA Model...... "
     ]
    },
    {
     "name": "stderr",
     "output_type": "stream",
     "text": [
      "INFO:prophet:Disabling yearly seasonality. Run prophet with yearly_seasonality=True to override this.\n"
     ]
    },
    {
     "name": "stdout",
     "output_type": "stream",
     "text": [
      "RMSE: 12.321605301638629\n",
      "Prophet...... RMSE: 24.234321513115578\n",
      "XGBoost...... RMSE: 16.691951112016657\n",
      "\n",
      "\n",
      "267_1.pkl\n",
      "Length on load: 26303\n",
      "Length after agg: 1096\n",
      "Dropped N/A cols: 0\n",
      "Length after blank drop: 1096\n",
      "ARIMA Model...... "
     ]
    },
    {
     "name": "stderr",
     "output_type": "stream",
     "text": [
      "INFO:prophet:Disabling yearly seasonality. Run prophet with yearly_seasonality=True to override this.\n"
     ]
    },
    {
     "name": "stdout",
     "output_type": "stream",
     "text": [
      "RMSE: 205.3751044082258\n",
      "Prophet...... RMSE: 95.7265880345087\n",
      "XGBoost...... RMSE: 72.06892160029639\n",
      "\n",
      "\n",
      "268_0.pkl\n",
      "Length on load: 26303\n",
      "Length after agg: 1096\n",
      "Dropped N/A cols: 0\n",
      "Length after blank drop: 1096\n",
      "ARIMA Model...... "
     ]
    },
    {
     "name": "stderr",
     "output_type": "stream",
     "text": [
      "INFO:prophet:Disabling yearly seasonality. Run prophet with yearly_seasonality=True to override this.\n"
     ]
    },
    {
     "name": "stdout",
     "output_type": "stream",
     "text": [
      "RMSE: 17.275436471546907\n",
      "Prophet...... RMSE: 15.754242373379213\n",
      "XGBoost...... RMSE: 16.619084441014923\n",
      "\n",
      "\n",
      "268_1.pkl\n",
      "Length on load: 26303\n",
      "Length after agg: 1096\n",
      "Dropped N/A cols: 0\n",
      "Length after blank drop: 1096\n",
      "ARIMA Model...... "
     ]
    },
    {
     "name": "stderr",
     "output_type": "stream",
     "text": [
      "INFO:prophet:Disabling yearly seasonality. Run prophet with yearly_seasonality=True to override this.\n"
     ]
    },
    {
     "name": "stdout",
     "output_type": "stream",
     "text": [
      "RMSE: 322.9094876895522\n",
      "Prophet...... RMSE: 502.31071087518154\n",
      "XGBoost...... RMSE: 191.4929707032988\n",
      "\n",
      "\n",
      "269_0.pkl\n",
      "Length on load: 26303\n",
      "Length after agg: 1096\n",
      "Dropped N/A cols: 0\n",
      "Length after blank drop: 1096\n",
      "ARIMA Model...... "
     ]
    },
    {
     "name": "stderr",
     "output_type": "stream",
     "text": [
      "INFO:prophet:Disabling yearly seasonality. Run prophet with yearly_seasonality=True to override this.\n"
     ]
    },
    {
     "name": "stdout",
     "output_type": "stream",
     "text": [
      "RMSE: 172.8952932227354\n",
      "Prophet...... RMSE: 292.17130408666264\n",
      "XGBoost...... RMSE: 45.91057820438817\n",
      "\n",
      "\n",
      "270_0.pkl\n",
      "Length on load: 26255\n",
      "Length after agg: 1096\n",
      "Dropped N/A cols: 0\n",
      "Length after blank drop: 1096\n",
      "ARIMA Model...... "
     ]
    },
    {
     "name": "stderr",
     "output_type": "stream",
     "text": [
      "INFO:prophet:Disabling yearly seasonality. Run prophet with yearly_seasonality=True to override this.\n"
     ]
    },
    {
     "name": "stdout",
     "output_type": "stream",
     "text": [
      "RMSE: 3.5095835430969813\n",
      "Prophet...... RMSE: 2.3178961343117925\n",
      "XGBoost...... RMSE: 3.871682676380073\n",
      "\n",
      "\n",
      "270_1.pkl\n",
      "Length on load: 22920\n",
      "Length after agg: 1096\n",
      "Dropped N/A cols: 63\n",
      "Length after blank drop: 1033\n",
      "ARIMA Model...... "
     ]
    },
    {
     "name": "stderr",
     "output_type": "stream",
     "text": [
      "INFO:prophet:Disabling yearly seasonality. Run prophet with yearly_seasonality=True to override this.\n"
     ]
    },
    {
     "name": "stdout",
     "output_type": "stream",
     "text": [
      "RMSE: 22.676373892318356\n",
      "Prophet...... RMSE: 47.21587713326565\n",
      "XGBoost...... RMSE: 18.809827578824503\n",
      "\n",
      "\n",
      "271_0.pkl\n",
      "Length on load: 26303\n",
      "Length after agg: 1096\n",
      "Dropped N/A cols: 0\n",
      "Length after blank drop: 1096\n",
      "ARIMA Model...... "
     ]
    },
    {
     "name": "stderr",
     "output_type": "stream",
     "text": [
      "INFO:prophet:Disabling yearly seasonality. Run prophet with yearly_seasonality=True to override this.\n"
     ]
    },
    {
     "name": "stdout",
     "output_type": "stream",
     "text": [
      "RMSE: 29.22433681604854\n",
      "Prophet...... RMSE: 66.70891568620964\n",
      "XGBoost...... RMSE: 40.343536462996106\n",
      "\n",
      "\n",
      "271_1.pkl\n",
      "Length on load: 26303\n",
      "Length after agg: 1096\n",
      "Dropped N/A cols: 0\n",
      "Length after blank drop: 1096\n",
      "ARIMA Model...... "
     ]
    },
    {
     "name": "stderr",
     "output_type": "stream",
     "text": [
      "INFO:prophet:Disabling yearly seasonality. Run prophet with yearly_seasonality=True to override this.\n"
     ]
    },
    {
     "name": "stdout",
     "output_type": "stream",
     "text": [
      "RMSE: 98.54193054202389\n",
      "Prophet...... RMSE: 149.55103204448872\n",
      "XGBoost...... RMSE: 47.32458017636737\n",
      "\n",
      "\n",
      "272_0.pkl\n",
      "Length on load: 26304\n",
      "Length after agg: 1096\n",
      "Dropped N/A cols: 0\n",
      "Length after blank drop: 1096\n",
      "ARIMA Model...... "
     ]
    },
    {
     "name": "stderr",
     "output_type": "stream",
     "text": [
      "INFO:prophet:Disabling yearly seasonality. Run prophet with yearly_seasonality=True to override this.\n"
     ]
    },
    {
     "name": "stdout",
     "output_type": "stream",
     "text": [
      "RMSE: 13.9205916214119\n",
      "Prophet...... RMSE: 20.85921602849188\n",
      "XGBoost...... RMSE: 12.925031361514085\n",
      "\n",
      "\n",
      "273_0.pkl\n",
      "Length on load: 26303\n",
      "Length after agg: 1096\n",
      "Dropped N/A cols: 0\n",
      "Length after blank drop: 1096\n",
      "ARIMA Model...... "
     ]
    },
    {
     "name": "stderr",
     "output_type": "stream",
     "text": [
      "INFO:prophet:Disabling yearly seasonality. Run prophet with yearly_seasonality=True to override this.\n"
     ]
    },
    {
     "name": "stdout",
     "output_type": "stream",
     "text": [
      "RMSE: 32.05662660028756\n",
      "Prophet...... RMSE: 34.63998879590465\n",
      "XGBoost...... RMSE: 28.0081519592292\n",
      "\n",
      "\n",
      "273_1.pkl\n",
      "Length on load: 26303\n",
      "Length after agg: 1096\n",
      "Dropped N/A cols: 0\n",
      "Length after blank drop: 1096\n",
      "ARIMA Model...... "
     ]
    },
    {
     "name": "stderr",
     "output_type": "stream",
     "text": [
      "INFO:prophet:Disabling yearly seasonality. Run prophet with yearly_seasonality=True to override this.\n"
     ]
    },
    {
     "name": "stdout",
     "output_type": "stream",
     "text": [
      "RMSE: 479.6347081093002\n",
      "Prophet...... RMSE: 365.88338333934763\n",
      "XGBoost...... RMSE: 130.24093219129003\n",
      "\n",
      "\n",
      "274_0.pkl\n",
      "Length on load: 26303\n",
      "Length after agg: 1096\n",
      "Dropped N/A cols: 0\n",
      "Length after blank drop: 1096\n",
      "ARIMA Model...... "
     ]
    },
    {
     "name": "stderr",
     "output_type": "stream",
     "text": [
      "INFO:prophet:Disabling yearly seasonality. Run prophet with yearly_seasonality=True to override this.\n"
     ]
    },
    {
     "name": "stdout",
     "output_type": "stream",
     "text": [
      "RMSE: 18.37653363992964\n",
      "Prophet...... RMSE: 7.420679235783475\n",
      "XGBoost...... RMSE: 8.547348798563192\n",
      "\n",
      "\n",
      "275_0.pkl\n",
      "Length on load: 26303\n",
      "Length after agg: 1096\n",
      "Dropped N/A cols: 0\n",
      "Length after blank drop: 1096\n",
      "ARIMA Model...... "
     ]
    },
    {
     "name": "stderr",
     "output_type": "stream",
     "text": [
      "INFO:prophet:Disabling yearly seasonality. Run prophet with yearly_seasonality=True to override this.\n"
     ]
    },
    {
     "name": "stdout",
     "output_type": "stream",
     "text": [
      "RMSE: 16.657650973980186\n",
      "Prophet...... RMSE: 10.14368619545128\n",
      "XGBoost...... RMSE: 21.508589136811526\n",
      "\n",
      "\n",
      "276_0.pkl\n",
      "Length on load: 26303\n",
      "Length after agg: 1096\n",
      "Dropped N/A cols: 0\n",
      "Length after blank drop: 1096\n",
      "ARIMA Model...... "
     ]
    },
    {
     "name": "stderr",
     "output_type": "stream",
     "text": [
      "INFO:prophet:Disabling yearly seasonality. Run prophet with yearly_seasonality=True to override this.\n"
     ]
    },
    {
     "name": "stdout",
     "output_type": "stream",
     "text": [
      "RMSE: 16.25489153733763\n",
      "Prophet...... RMSE: 12.482402702404498\n",
      "XGBoost...... RMSE: 24.78559744265561\n",
      "\n",
      "\n",
      "277_0.pkl\n",
      "Length on load: 26303\n",
      "Length after agg: 1096\n",
      "Dropped N/A cols: 0\n",
      "Length after blank drop: 1096\n",
      "ARIMA Model...... "
     ]
    },
    {
     "name": "stderr",
     "output_type": "stream",
     "text": [
      "INFO:prophet:Disabling yearly seasonality. Run prophet with yearly_seasonality=True to override this.\n"
     ]
    },
    {
     "name": "stdout",
     "output_type": "stream",
     "text": [
      "RMSE: 30.06162335354669\n",
      "Prophet...... RMSE: 27.683270249894907\n",
      "XGBoost...... RMSE: 24.918518041937386\n",
      "\n",
      "\n",
      "277_1.pkl\n",
      "Length on load: 26303\n",
      "Length after agg: 1096\n",
      "Dropped N/A cols: 0\n",
      "Length after blank drop: 1096\n",
      "ARIMA Model...... "
     ]
    },
    {
     "name": "stderr",
     "output_type": "stream",
     "text": [
      "INFO:prophet:Disabling yearly seasonality. Run prophet with yearly_seasonality=True to override this.\n"
     ]
    },
    {
     "name": "stdout",
     "output_type": "stream",
     "text": [
      "RMSE: 7.936224607224425\n",
      "Prophet...... RMSE: 39.45915834267228\n",
      "XGBoost...... RMSE: 10.907754800086307\n",
      "\n",
      "\n",
      "278_0.pkl\n",
      "Length on load: 26303\n",
      "Length after agg: 1096\n",
      "Dropped N/A cols: 0\n",
      "Length after blank drop: 1096\n",
      "ARIMA Model...... "
     ]
    },
    {
     "name": "stderr",
     "output_type": "stream",
     "text": [
      "INFO:prophet:Disabling yearly seasonality. Run prophet with yearly_seasonality=True to override this.\n"
     ]
    },
    {
     "name": "stdout",
     "output_type": "stream",
     "text": [
      "RMSE: 52.57393499930434\n",
      "Prophet...... RMSE: 51.013073023653355\n",
      "XGBoost...... RMSE: 51.083147060320755\n",
      "\n",
      "\n",
      "279_0.pkl\n",
      "Length on load: 26303\n",
      "Length after agg: 1096\n",
      "Dropped N/A cols: 0\n",
      "Length after blank drop: 1096\n",
      "ARIMA Model...... "
     ]
    },
    {
     "name": "stderr",
     "output_type": "stream",
     "text": [
      "INFO:prophet:Disabling yearly seasonality. Run prophet with yearly_seasonality=True to override this.\n"
     ]
    },
    {
     "name": "stdout",
     "output_type": "stream",
     "text": [
      "RMSE: 10.541779806280246\n",
      "Prophet...... RMSE: 19.13427574841926\n",
      "XGBoost...... RMSE: 9.019917838049293\n",
      "\n",
      "\n",
      "279_1.pkl\n",
      "Length on load: 26303\n",
      "Length after agg: 1096\n",
      "Dropped N/A cols: 0\n",
      "Length after blank drop: 1096\n",
      "ARIMA Model...... "
     ]
    },
    {
     "name": "stderr",
     "output_type": "stream",
     "text": [
      "INFO:prophet:Disabling yearly seasonality. Run prophet with yearly_seasonality=True to override this.\n"
     ]
    },
    {
     "name": "stdout",
     "output_type": "stream",
     "text": [
      "RMSE: 12.550203178445706\n",
      "Prophet...... RMSE: 13.124677920915579\n",
      "XGBoost...... RMSE: 16.10596116378082\n",
      "\n",
      "\n",
      "279_3.pkl\n",
      "not enough data\n",
      "280_0.pkl\n",
      "Length on load: 26301\n",
      "Length after agg: 1096\n",
      "Dropped N/A cols: 0\n",
      "Length after blank drop: 1096\n",
      "ARIMA Model...... "
     ]
    },
    {
     "name": "stderr",
     "output_type": "stream",
     "text": [
      "INFO:prophet:Disabling yearly seasonality. Run prophet with yearly_seasonality=True to override this.\n"
     ]
    },
    {
     "name": "stdout",
     "output_type": "stream",
     "text": [
      "RMSE: 41.81304567343325\n",
      "Prophet...... RMSE: 40.40618263422927\n",
      "XGBoost...... RMSE: 42.96414228593852\n",
      "\n",
      "\n",
      "281_0.pkl\n",
      "Length on load: 26303\n",
      "Length after agg: 1096\n",
      "Dropped N/A cols: 0\n",
      "Length after blank drop: 1096\n",
      "ARIMA Model...... "
     ]
    },
    {
     "name": "stderr",
     "output_type": "stream",
     "text": [
      "INFO:prophet:Disabling yearly seasonality. Run prophet with yearly_seasonality=True to override this.\n"
     ]
    },
    {
     "name": "stdout",
     "output_type": "stream",
     "text": [
      "RMSE: 12.647966877875492\n",
      "Prophet...... RMSE: 54.83807911475813\n",
      "XGBoost...... RMSE: 10.481363649355572\n",
      "\n",
      "\n",
      "281_1.pkl\n",
      "Length on load: 26303\n",
      "Length after agg: 1096\n",
      "Dropped N/A cols: 0\n",
      "Length after blank drop: 1096\n",
      "ARIMA Model...... "
     ]
    },
    {
     "name": "stderr",
     "output_type": "stream",
     "text": [
      "INFO:prophet:Disabling yearly seasonality. Run prophet with yearly_seasonality=True to override this.\n"
     ]
    },
    {
     "name": "stdout",
     "output_type": "stream",
     "text": [
      "RMSE: 1747.9606100704593\n",
      "Prophet...... RMSE: 1791.4299831065978\n",
      "XGBoost...... RMSE: 1767.4388506017658\n",
      "\n",
      "\n",
      "282_0.pkl\n",
      "Length on load: 26214\n",
      "Length after agg: 1096\n",
      "Dropped N/A cols: 0\n",
      "Length after blank drop: 1096\n",
      "ARIMA Model...... "
     ]
    },
    {
     "name": "stderr",
     "output_type": "stream",
     "text": [
      "INFO:prophet:Disabling yearly seasonality. Run prophet with yearly_seasonality=True to override this.\n"
     ]
    },
    {
     "name": "stdout",
     "output_type": "stream",
     "text": [
      "RMSE: 3.246703029118915\n",
      "Prophet...... RMSE: 2.0301971061054696\n",
      "XGBoost...... RMSE: 2.688781455114553\n",
      "\n",
      "\n",
      "282_1.pkl\n",
      "not enough data\n",
      "283_0.pkl\n",
      "Length on load: 26303\n",
      "Length after agg: 1096\n",
      "Dropped N/A cols: 0\n",
      "Length after blank drop: 1096\n",
      "ARIMA Model...... "
     ]
    },
    {
     "name": "stderr",
     "output_type": "stream",
     "text": [
      "INFO:prophet:Disabling yearly seasonality. Run prophet with yearly_seasonality=True to override this.\n"
     ]
    },
    {
     "name": "stdout",
     "output_type": "stream",
     "text": [
      "RMSE: 21.18934079327324\n",
      "Prophet...... RMSE: 36.80919283343665\n",
      "XGBoost...... RMSE: 8.720832807247133\n",
      "\n",
      "\n",
      "284_0.pkl\n",
      "Length on load: 26303\n",
      "Length after agg: 1096\n",
      "Dropped N/A cols: 0\n",
      "Length after blank drop: 1096\n",
      "ARIMA Model...... "
     ]
    },
    {
     "name": "stderr",
     "output_type": "stream",
     "text": [
      "INFO:prophet:Disabling yearly seasonality. Run prophet with yearly_seasonality=True to override this.\n"
     ]
    },
    {
     "name": "stdout",
     "output_type": "stream",
     "text": [
      "RMSE: 144.85697963221858\n",
      "Prophet...... RMSE: 242.06047202110142\n",
      "XGBoost...... RMSE: 111.64753300374781\n",
      "\n",
      "\n",
      "284_1.pkl\n",
      "Length on load: 26303\n",
      "Length after agg: 1096\n",
      "Dropped N/A cols: 0\n",
      "Length after blank drop: 1096\n",
      "ARIMA Model...... "
     ]
    },
    {
     "name": "stderr",
     "output_type": "stream",
     "text": [
      "INFO:prophet:Disabling yearly seasonality. Run prophet with yearly_seasonality=True to override this.\n"
     ]
    },
    {
     "name": "stdout",
     "output_type": "stream",
     "text": [
      "RMSE: 303.90702447668343\n",
      "Prophet...... RMSE: 295.6553071235083\n",
      "XGBoost...... RMSE: 166.16535723387364\n",
      "\n",
      "\n",
      "284_3.pkl\n",
      "not enough data\n",
      "285_0.pkl\n",
      "Length on load: 26303\n",
      "Length after agg: 1096\n",
      "Dropped N/A cols: 0\n",
      "Length after blank drop: 1096\n",
      "ARIMA Model...... "
     ]
    },
    {
     "name": "stderr",
     "output_type": "stream",
     "text": [
      "INFO:prophet:Disabling yearly seasonality. Run prophet with yearly_seasonality=True to override this.\n"
     ]
    },
    {
     "name": "stdout",
     "output_type": "stream",
     "text": [
      "RMSE: 299.10829825530345\n",
      "Prophet...... RMSE: 86.55556564400432\n",
      "XGBoost...... RMSE: 137.24645058816256\n",
      "\n",
      "\n",
      "285_1.pkl\n",
      "Length on load: 26303\n",
      "Length after agg: 1096\n",
      "Dropped N/A cols: 0\n",
      "Length after blank drop: 1096\n",
      "ARIMA Model...... "
     ]
    },
    {
     "name": "stderr",
     "output_type": "stream",
     "text": [
      "INFO:prophet:Disabling yearly seasonality. Run prophet with yearly_seasonality=True to override this.\n"
     ]
    },
    {
     "name": "stdout",
     "output_type": "stream",
     "text": [
      "RMSE: 1461.6748033377705\n",
      "Prophet...... RMSE: 267.15926473882683\n",
      "XGBoost...... RMSE: 559.2031109590283\n",
      "\n",
      "\n",
      "286_0.pkl\n",
      "Length on load: 26303\n",
      "Length after agg: 1096\n",
      "Dropped N/A cols: 0\n",
      "Length after blank drop: 1096\n",
      "ARIMA Model...... "
     ]
    },
    {
     "name": "stderr",
     "output_type": "stream",
     "text": [
      "INFO:prophet:Disabling yearly seasonality. Run prophet with yearly_seasonality=True to override this.\n"
     ]
    },
    {
     "name": "stdout",
     "output_type": "stream",
     "text": [
      "RMSE: 1.3039082137240818\n",
      "Prophet...... RMSE: 3.6084041531949205\n",
      "XGBoost...... RMSE: 1.5301104550467766\n",
      "\n",
      "\n",
      "286_1.pkl\n",
      "Length on load: 26303\n",
      "Length after agg: 1096\n",
      "Dropped N/A cols: 0\n",
      "Length after blank drop: 1096\n",
      "ARIMA Model...... "
     ]
    },
    {
     "name": "stderr",
     "output_type": "stream",
     "text": [
      "INFO:prophet:Disabling yearly seasonality. Run prophet with yearly_seasonality=True to override this.\n"
     ]
    },
    {
     "name": "stdout",
     "output_type": "stream",
     "text": [
      "RMSE: 16.04157179644226\n",
      "Prophet...... RMSE: 14.349463457427223\n",
      "XGBoost...... RMSE: 16.554118600730984\n",
      "\n",
      "\n",
      "287_0.pkl\n",
      "Length on load: 26303\n",
      "Length after agg: 1096\n",
      "Dropped N/A cols: 0\n",
      "Length after blank drop: 1096\n",
      "ARIMA Model...... "
     ]
    },
    {
     "name": "stderr",
     "output_type": "stream",
     "text": [
      "INFO:prophet:Disabling yearly seasonality. Run prophet with yearly_seasonality=True to override this.\n"
     ]
    },
    {
     "name": "stdout",
     "output_type": "stream",
     "text": [
      "RMSE: 4.416118874670894\n",
      "Prophet...... RMSE: 10.93790481966385\n",
      "XGBoost...... RMSE: 7.527006519210175\n",
      "\n",
      "\n",
      "287_1.pkl\n",
      "Length on load: 26303\n",
      "Length after agg: 1096\n",
      "Dropped N/A cols: 0\n",
      "Length after blank drop: 1096\n",
      "ARIMA Model...... "
     ]
    },
    {
     "name": "stderr",
     "output_type": "stream",
     "text": [
      "INFO:prophet:Disabling yearly seasonality. Run prophet with yearly_seasonality=True to override this.\n"
     ]
    },
    {
     "name": "stdout",
     "output_type": "stream",
     "text": [
      "RMSE: 3.4353053162470255\n",
      "Prophet...... RMSE: 2.49055264768598\n",
      "XGBoost...... RMSE: 0.3878292580928829\n",
      "\n",
      "\n",
      "287_3.pkl\n",
      "not enough data\n",
      "288_0.pkl\n",
      "Length on load: 26303\n",
      "Length after agg: 1096\n",
      "Dropped N/A cols: 0\n",
      "Length after blank drop: 1096\n",
      "ARIMA Model...... "
     ]
    },
    {
     "name": "stderr",
     "output_type": "stream",
     "text": [
      "INFO:prophet:Disabling yearly seasonality. Run prophet with yearly_seasonality=True to override this.\n"
     ]
    },
    {
     "name": "stdout",
     "output_type": "stream",
     "text": [
      "RMSE: 8.08461850481778\n",
      "Prophet...... RMSE: 9.923231370464876\n",
      "XGBoost...... RMSE: 6.181170954578443\n",
      "\n",
      "\n",
      "289_0.pkl\n",
      "Length on load: 26303\n",
      "Length after agg: 1096\n",
      "Dropped N/A cols: 0\n",
      "Length after blank drop: 1096\n",
      "ARIMA Model...... "
     ]
    },
    {
     "name": "stderr",
     "output_type": "stream",
     "text": [
      "INFO:prophet:Disabling yearly seasonality. Run prophet with yearly_seasonality=True to override this.\n"
     ]
    },
    {
     "name": "stdout",
     "output_type": "stream",
     "text": [
      "RMSE: 3.3684595774635233\n",
      "Prophet...... RMSE: 3.8316689051686215\n",
      "XGBoost...... RMSE: 2.7670657166711976\n",
      "\n",
      "\n",
      "290_0.pkl\n",
      "Length on load: 26303\n",
      "Length after agg: 1096\n",
      "Dropped N/A cols: 0\n",
      "Length after blank drop: 1096\n",
      "ARIMA Model...... "
     ]
    },
    {
     "name": "stderr",
     "output_type": "stream",
     "text": [
      "INFO:prophet:Disabling yearly seasonality. Run prophet with yearly_seasonality=True to override this.\n"
     ]
    },
    {
     "name": "stdout",
     "output_type": "stream",
     "text": [
      "RMSE: 16.194949440178046\n",
      "Prophet...... RMSE: 17.8610581809756\n",
      "XGBoost...... RMSE: 21.159799450431066\n",
      "\n",
      "\n",
      "290_1.pkl\n",
      "Length on load: 26303\n",
      "Length after agg: 1096\n",
      "Dropped N/A cols: 0\n",
      "Length after blank drop: 1096\n",
      "ARIMA Model...... "
     ]
    },
    {
     "name": "stderr",
     "output_type": "stream",
     "text": [
      "INFO:prophet:Disabling yearly seasonality. Run prophet with yearly_seasonality=True to override this.\n"
     ]
    },
    {
     "name": "stdout",
     "output_type": "stream",
     "text": [
      "RMSE: 152.07439312808702\n",
      "Prophet...... RMSE: 161.3528677979125\n",
      "XGBoost...... RMSE: 98.80765570247202\n",
      "\n",
      "\n",
      "291_0.pkl\n",
      "Length on load: 26278\n",
      "Length after agg: 1096\n",
      "Dropped N/A cols: 1\n",
      "Length after blank drop: 1095\n",
      "ARIMA Model...... "
     ]
    },
    {
     "name": "stderr",
     "output_type": "stream",
     "text": [
      "INFO:prophet:Disabling yearly seasonality. Run prophet with yearly_seasonality=True to override this.\n"
     ]
    },
    {
     "name": "stdout",
     "output_type": "stream",
     "text": [
      "RMSE: 24.75864705123909\n",
      "Prophet...... RMSE: 20.16326386332049\n",
      "XGBoost...... RMSE: 25.823496040163707\n",
      "\n",
      "\n",
      "292_0.pkl\n",
      "Length on load: 26212\n",
      "Length after agg: 1096\n",
      "Dropped N/A cols: 0\n",
      "Length after blank drop: 1096\n",
      "ARIMA Model...... "
     ]
    },
    {
     "name": "stderr",
     "output_type": "stream",
     "text": [
      "INFO:prophet:Disabling yearly seasonality. Run prophet with yearly_seasonality=True to override this.\n"
     ]
    },
    {
     "name": "stdout",
     "output_type": "stream",
     "text": [
      "RMSE: 49.40087794682192\n",
      "Prophet...... RMSE: 205.79574895281905\n",
      "XGBoost...... RMSE: 24.490085934614182\n",
      "\n",
      "\n",
      "293_0.pkl\n",
      "Length on load: 26302\n",
      "Length after agg: 1096\n",
      "Dropped N/A cols: 0\n",
      "Length after blank drop: 1096\n",
      "ARIMA Model...... "
     ]
    },
    {
     "name": "stderr",
     "output_type": "stream",
     "text": [
      "INFO:prophet:Disabling yearly seasonality. Run prophet with yearly_seasonality=True to override this.\n"
     ]
    },
    {
     "name": "stdout",
     "output_type": "stream",
     "text": [
      "RMSE: 295.55626213755204\n",
      "Prophet...... RMSE: 363.6674293020961\n",
      "XGBoost...... RMSE: 230.51637835227348\n",
      "\n",
      "\n",
      "294_0.pkl\n",
      "Length on load: 26302\n",
      "Length after agg: 1096\n",
      "Dropped N/A cols: 0\n",
      "Length after blank drop: 1096\n",
      "ARIMA Model...... "
     ]
    },
    {
     "name": "stderr",
     "output_type": "stream",
     "text": [
      "INFO:prophet:Disabling yearly seasonality. Run prophet with yearly_seasonality=True to override this.\n"
     ]
    },
    {
     "name": "stdout",
     "output_type": "stream",
     "text": [
      "RMSE: 16.796608150963262\n",
      "Prophet...... RMSE: 35.01547606027883\n",
      "XGBoost...... RMSE: 19.558689969144837\n",
      "\n",
      "\n",
      "295_0.pkl\n",
      "Length on load: 26302\n",
      "Length after agg: 1096\n",
      "Dropped N/A cols: 0\n",
      "Length after blank drop: 1096\n",
      "ARIMA Model...... "
     ]
    },
    {
     "name": "stderr",
     "output_type": "stream",
     "text": [
      "INFO:prophet:Disabling yearly seasonality. Run prophet with yearly_seasonality=True to override this.\n"
     ]
    },
    {
     "name": "stdout",
     "output_type": "stream",
     "text": [
      "RMSE: 21.169113149124748\n",
      "Prophet...... RMSE: 40.693942406631045\n",
      "XGBoost...... RMSE: 12.302466006285275\n",
      "\n",
      "\n",
      "296_0.pkl\n",
      "Length on load: 25958\n",
      "Length after agg: 1096\n",
      "Dropped N/A cols: 10\n",
      "Length after blank drop: 1086\n",
      "ARIMA Model...... "
     ]
    },
    {
     "name": "stderr",
     "output_type": "stream",
     "text": [
      "INFO:prophet:Disabling yearly seasonality. Run prophet with yearly_seasonality=True to override this.\n"
     ]
    },
    {
     "name": "stdout",
     "output_type": "stream",
     "text": [
      "RMSE: 35.31889315210142\n",
      "Prophet...... RMSE: 17.84280011947213\n",
      "XGBoost...... RMSE: 13.126433475075203\n",
      "\n",
      "\n",
      "297_0.pkl\n",
      "Length on load: 26278\n",
      "Length after agg: 1096\n",
      "Dropped N/A cols: 1\n",
      "Length after blank drop: 1095\n",
      "ARIMA Model...... "
     ]
    },
    {
     "name": "stderr",
     "output_type": "stream",
     "text": [
      "INFO:prophet:Disabling yearly seasonality. Run prophet with yearly_seasonality=True to override this.\n"
     ]
    },
    {
     "name": "stdout",
     "output_type": "stream",
     "text": [
      "RMSE: 39.07646463628584\n",
      "Prophet...... RMSE: 32.07731028310142\n",
      "XGBoost...... RMSE: 18.117860540611595\n",
      "\n",
      "\n",
      "298_0.pkl\n",
      "Length on load: 26102\n",
      "Length after agg: 1096\n",
      "Dropped N/A cols: 1\n",
      "Length after blank drop: 1095\n",
      "ARIMA Model...... "
     ]
    },
    {
     "name": "stderr",
     "output_type": "stream",
     "text": [
      "INFO:prophet:Disabling yearly seasonality. Run prophet with yearly_seasonality=True to override this.\n"
     ]
    },
    {
     "name": "stdout",
     "output_type": "stream",
     "text": [
      "RMSE: 4.658866481154385\n",
      "Prophet...... RMSE: 3.977830867262776\n",
      "XGBoost...... RMSE: 2.695441293742354\n",
      "\n",
      "\n",
      "299_0.pkl\n",
      "Length on load: 25485\n",
      "Length after agg: 1062\n",
      "Dropped N/A cols: 0\n",
      "Length after blank drop: 1062\n",
      "ARIMA Model...... "
     ]
    },
    {
     "name": "stderr",
     "output_type": "stream",
     "text": [
      "INFO:prophet:Disabling yearly seasonality. Run prophet with yearly_seasonality=True to override this.\n"
     ]
    },
    {
     "name": "stdout",
     "output_type": "stream",
     "text": [
      "RMSE: 271.8317165710556\n",
      "Prophet...... RMSE: 310.7576080514967\n",
      "XGBoost...... RMSE: 66.90197806508009\n",
      "\n",
      "\n",
      "300_0.pkl\n",
      "Length on load: 26157\n",
      "Length after agg: 1091\n",
      "Dropped N/A cols: 1\n",
      "Length after blank drop: 1090\n",
      "ARIMA Model...... "
     ]
    },
    {
     "name": "stderr",
     "output_type": "stream",
     "text": [
      "INFO:prophet:Disabling yearly seasonality. Run prophet with yearly_seasonality=True to override this.\n"
     ]
    },
    {
     "name": "stdout",
     "output_type": "stream",
     "text": [
      "RMSE: 25.514169020149478\n",
      "Prophet...... RMSE: 47.79293793424863\n",
      "XGBoost...... RMSE: 20.70693027590184\n",
      "\n",
      "\n",
      "301_0.pkl\n",
      "Length on load: 26302\n",
      "Length after agg: 1096\n",
      "Dropped N/A cols: 0\n",
      "Length after blank drop: 1096\n",
      "ARIMA Model...... "
     ]
    },
    {
     "name": "stderr",
     "output_type": "stream",
     "text": [
      "INFO:prophet:Disabling yearly seasonality. Run prophet with yearly_seasonality=True to override this.\n"
     ]
    },
    {
     "name": "stdout",
     "output_type": "stream",
     "text": [
      "RMSE: 2.809501218184978\n",
      "Prophet...... RMSE: 3.8466699755111353\n",
      "XGBoost...... RMSE: 3.290764872896124\n",
      "\n",
      "\n",
      "302_0.pkl\n",
      "Length on load: 26302\n",
      "Length after agg: 1096\n",
      "Dropped N/A cols: 0\n",
      "Length after blank drop: 1096\n",
      "ARIMA Model...... "
     ]
    },
    {
     "name": "stderr",
     "output_type": "stream",
     "text": [
      "INFO:prophet:Disabling yearly seasonality. Run prophet with yearly_seasonality=True to override this.\n"
     ]
    },
    {
     "name": "stdout",
     "output_type": "stream",
     "text": [
      "RMSE: 3.9463067745887748\n",
      "Prophet...... RMSE: 7.220980412462648\n",
      "XGBoost...... RMSE: 4.543058489466478\n",
      "\n",
      "\n",
      "303_0.pkl\n",
      "Length on load: 26302\n",
      "Length after agg: 1096\n",
      "Dropped N/A cols: 0\n",
      "Length after blank drop: 1096\n",
      "ARIMA Model...... "
     ]
    },
    {
     "name": "stderr",
     "output_type": "stream",
     "text": [
      "INFO:prophet:Disabling yearly seasonality. Run prophet with yearly_seasonality=True to override this.\n"
     ]
    },
    {
     "name": "stdout",
     "output_type": "stream",
     "text": [
      "RMSE: 18.234403553860748\n",
      "Prophet...... RMSE: 10.288500033143503\n",
      "XGBoost...... RMSE: 2.9271589035698544\n",
      "\n",
      "\n",
      "304_0.pkl\n",
      "Length on load: 26302\n",
      "Length after agg: 1096\n",
      "Dropped N/A cols: 0\n",
      "Length after blank drop: 1096\n",
      "ARIMA Model...... "
     ]
    },
    {
     "name": "stderr",
     "output_type": "stream",
     "text": [
      "INFO:prophet:Disabling yearly seasonality. Run prophet with yearly_seasonality=True to override this.\n"
     ]
    },
    {
     "name": "stdout",
     "output_type": "stream",
     "text": [
      "RMSE: 0.7174293352194253\n",
      "Prophet...... RMSE: 0.8133618490287179\n",
      "XGBoost...... RMSE: 1.053889919997477\n",
      "\n",
      "\n",
      "305_0.pkl\n",
      "Length on load: 26300\n",
      "Length after agg: 1096\n",
      "Dropped N/A cols: 0\n",
      "Length after blank drop: 1096\n",
      "ARIMA Model...... "
     ]
    },
    {
     "name": "stderr",
     "output_type": "stream",
     "text": [
      "INFO:prophet:Disabling yearly seasonality. Run prophet with yearly_seasonality=True to override this.\n"
     ]
    },
    {
     "name": "stdout",
     "output_type": "stream",
     "text": [
      "RMSE: 6.774698678286906\n",
      "Prophet...... RMSE: 26.449385275196732\n",
      "XGBoost...... RMSE: 6.259867980937569\n",
      "\n",
      "\n",
      "306_0.pkl\n",
      "Length on load: 26278\n",
      "Length after agg: 1096\n",
      "Dropped N/A cols: 1\n",
      "Length after blank drop: 1095\n",
      "ARIMA Model...... "
     ]
    },
    {
     "name": "stderr",
     "output_type": "stream",
     "text": [
      "INFO:prophet:Disabling yearly seasonality. Run prophet with yearly_seasonality=True to override this.\n"
     ]
    },
    {
     "name": "stdout",
     "output_type": "stream",
     "text": [
      "RMSE: 28.387100331133492\n",
      "Prophet...... RMSE: 92.32616758460595\n",
      "XGBoost...... RMSE: 27.397924223835414\n",
      "\n",
      "\n",
      "307_0.pkl\n",
      "Length on load: 26302\n",
      "Length after agg: 1096\n",
      "Dropped N/A cols: 0\n",
      "Length after blank drop: 1096\n",
      "ARIMA Model...... "
     ]
    },
    {
     "name": "stderr",
     "output_type": "stream",
     "text": [
      "INFO:prophet:Disabling yearly seasonality. Run prophet with yearly_seasonality=True to override this.\n"
     ]
    },
    {
     "name": "stdout",
     "output_type": "stream",
     "text": [
      "RMSE: 3.9543275507300475\n",
      "Prophet...... RMSE: 3.1849672790177257\n",
      "XGBoost...... RMSE: 2.0691166710224875\n",
      "\n",
      "\n",
      "308_0.pkl\n",
      "Length on load: 26302\n",
      "Length after agg: 1096\n",
      "Dropped N/A cols: 0\n",
      "Length after blank drop: 1096\n",
      "ARIMA Model...... "
     ]
    },
    {
     "name": "stderr",
     "output_type": "stream",
     "text": [
      "INFO:prophet:Disabling yearly seasonality. Run prophet with yearly_seasonality=True to override this.\n"
     ]
    },
    {
     "name": "stdout",
     "output_type": "stream",
     "text": [
      "RMSE: 4.269071018386465\n",
      "Prophet...... RMSE: 5.53021357369799\n",
      "XGBoost...... RMSE: 2.833178733550492\n",
      "\n",
      "\n",
      "309_0.pkl\n",
      "Length on load: 26302\n",
      "Length after agg: 1096\n",
      "Dropped N/A cols: 0\n",
      "Length after blank drop: 1096\n",
      "ARIMA Model...... "
     ]
    },
    {
     "name": "stderr",
     "output_type": "stream",
     "text": [
      "INFO:prophet:Disabling yearly seasonality. Run prophet with yearly_seasonality=True to override this.\n"
     ]
    },
    {
     "name": "stdout",
     "output_type": "stream",
     "text": [
      "RMSE: 2.3165147960189967\n",
      "Prophet...... RMSE: 2.8758361641995736\n",
      "XGBoost...... RMSE: 1.7995574412546127\n",
      "\n",
      "\n",
      "310_0.pkl\n",
      "Length on load: 26302\n",
      "Length after agg: 1096\n",
      "Dropped N/A cols: 0\n",
      "Length after blank drop: 1096\n",
      "ARIMA Model...... "
     ]
    },
    {
     "name": "stderr",
     "output_type": "stream",
     "text": [
      "INFO:prophet:Disabling yearly seasonality. Run prophet with yearly_seasonality=True to override this.\n"
     ]
    },
    {
     "name": "stdout",
     "output_type": "stream",
     "text": [
      "RMSE: 11.54793616281615\n",
      "Prophet...... RMSE: 18.44491742992703\n",
      "XGBoost...... RMSE: 6.367007973734181\n",
      "\n",
      "\n",
      "311_0.pkl\n",
      "Length on load: 26278\n",
      "Length after agg: 1096\n",
      "Dropped N/A cols: 1\n",
      "Length after blank drop: 1095\n",
      "ARIMA Model...... "
     ]
    },
    {
     "name": "stderr",
     "output_type": "stream",
     "text": [
      "INFO:prophet:Disabling yearly seasonality. Run prophet with yearly_seasonality=True to override this.\n"
     ]
    },
    {
     "name": "stdout",
     "output_type": "stream",
     "text": [
      "RMSE: 15.046680613980117\n",
      "Prophet...... RMSE: 84.82507411185931\n",
      "XGBoost...... RMSE: 22.00812186147588\n",
      "\n",
      "\n",
      "312_0.pkl\n",
      "Length on load: 26302\n",
      "Length after agg: 1096\n",
      "Dropped N/A cols: 0\n",
      "Length after blank drop: 1096\n",
      "ARIMA Model...... "
     ]
    },
    {
     "name": "stderr",
     "output_type": "stream",
     "text": [
      "INFO:prophet:Disabling yearly seasonality. Run prophet with yearly_seasonality=True to override this.\n"
     ]
    },
    {
     "name": "stdout",
     "output_type": "stream",
     "text": [
      "RMSE: 2.7627217662068073\n",
      "Prophet...... RMSE: 5.162907237261825\n",
      "XGBoost...... RMSE: 0.689270402544942\n",
      "\n",
      "\n",
      "313_0.pkl\n",
      "Length on load: 26302\n",
      "Length after agg: 1096\n",
      "Dropped N/A cols: 0\n",
      "Length after blank drop: 1096\n",
      "ARIMA Model...... "
     ]
    },
    {
     "name": "stderr",
     "output_type": "stream",
     "text": [
      "INFO:prophet:Disabling yearly seasonality. Run prophet with yearly_seasonality=True to override this.\n"
     ]
    },
    {
     "name": "stdout",
     "output_type": "stream",
     "text": [
      "RMSE: 93.99147703251272\n",
      "Prophet...... RMSE: 37.556083322164426\n",
      "XGBoost...... RMSE: 46.048475516427374\n",
      "\n",
      "\n",
      "314_0.pkl\n",
      "Length on load: 26278\n",
      "Length after agg: 1096\n",
      "Dropped N/A cols: 1\n",
      "Length after blank drop: 1095\n",
      "ARIMA Model...... "
     ]
    },
    {
     "name": "stderr",
     "output_type": "stream",
     "text": [
      "INFO:prophet:Disabling yearly seasonality. Run prophet with yearly_seasonality=True to override this.\n"
     ]
    },
    {
     "name": "stdout",
     "output_type": "stream",
     "text": [
      "RMSE: 0.07069947807576796\n",
      "Prophet...... RMSE: 0.14812854613285584\n",
      "XGBoost...... RMSE: 0.19507657924146005\n",
      "\n",
      "\n",
      "315_0.pkl\n",
      "Length on load: 26302\n",
      "Length after agg: 1096\n",
      "Dropped N/A cols: 0\n",
      "Length after blank drop: 1096\n",
      "ARIMA Model...... "
     ]
    },
    {
     "name": "stderr",
     "output_type": "stream",
     "text": [
      "INFO:prophet:Disabling yearly seasonality. Run prophet with yearly_seasonality=True to override this.\n"
     ]
    },
    {
     "name": "stdout",
     "output_type": "stream",
     "text": [
      "RMSE: 18.493267679058373\n",
      "Prophet...... RMSE: 11.800367830205078\n",
      "XGBoost...... RMSE: 10.548234021816974\n",
      "\n",
      "\n",
      "316_0.pkl\n",
      "Length on load: 26302\n",
      "Length after agg: 1096\n",
      "Dropped N/A cols: 0\n",
      "Length after blank drop: 1096\n",
      "ARIMA Model...... "
     ]
    },
    {
     "name": "stderr",
     "output_type": "stream",
     "text": [
      "INFO:prophet:Disabling yearly seasonality. Run prophet with yearly_seasonality=True to override this.\n"
     ]
    },
    {
     "name": "stdout",
     "output_type": "stream",
     "text": [
      "RMSE: 14.274017630677475\n",
      "Prophet...... RMSE: 6.0758195711538505\n",
      "XGBoost...... RMSE: 13.718863986523901\n",
      "\n",
      "\n",
      "317_0.pkl\n",
      "Length on load: 26302\n",
      "Length after agg: 1096\n",
      "Dropped N/A cols: 0\n",
      "Length after blank drop: 1096\n",
      "ARIMA Model...... "
     ]
    },
    {
     "name": "stderr",
     "output_type": "stream",
     "text": [
      "INFO:prophet:Disabling yearly seasonality. Run prophet with yearly_seasonality=True to override this.\n"
     ]
    },
    {
     "name": "stdout",
     "output_type": "stream",
     "text": [
      "RMSE: 17.508714351021673\n",
      "Prophet...... RMSE: 27.200272021860453\n",
      "XGBoost...... RMSE: 11.862186960528504\n",
      "\n",
      "\n",
      "318_0.pkl\n",
      "Length on load: 26254\n",
      "Length after agg: 1096\n",
      "Dropped N/A cols: 1\n",
      "Length after blank drop: 1095\n",
      "ARIMA Model...... "
     ]
    },
    {
     "name": "stderr",
     "output_type": "stream",
     "text": [
      "INFO:prophet:Disabling yearly seasonality. Run prophet with yearly_seasonality=True to override this.\n"
     ]
    },
    {
     "name": "stdout",
     "output_type": "stream",
     "text": [
      "RMSE: 109.88056974716623\n",
      "Prophet...... RMSE: 113.2396273221747\n",
      "XGBoost...... RMSE: 41.705148628615646\n",
      "\n",
      "\n",
      "319_0.pkl\n",
      "Length on load: 26302\n",
      "Length after agg: 1096\n",
      "Dropped N/A cols: 0\n",
      "Length after blank drop: 1096\n",
      "ARIMA Model...... "
     ]
    },
    {
     "name": "stderr",
     "output_type": "stream",
     "text": [
      "INFO:prophet:Disabling yearly seasonality. Run prophet with yearly_seasonality=True to override this.\n"
     ]
    },
    {
     "name": "stdout",
     "output_type": "stream",
     "text": [
      "RMSE: 5.847317612990168\n",
      "Prophet...... RMSE: 6.152709803537081\n",
      "XGBoost...... RMSE: 2.341673293378535\n",
      "\n",
      "\n",
      "320_0.pkl\n",
      "Length on load: 26302\n",
      "Length after agg: 1096\n",
      "Dropped N/A cols: 0\n",
      "Length after blank drop: 1096\n",
      "ARIMA Model...... "
     ]
    },
    {
     "name": "stderr",
     "output_type": "stream",
     "text": [
      "INFO:prophet:Disabling yearly seasonality. Run prophet with yearly_seasonality=True to override this.\n"
     ]
    },
    {
     "name": "stdout",
     "output_type": "stream",
     "text": [
      "RMSE: 22.78669168833917\n",
      "Prophet...... RMSE: 43.47986690174563\n",
      "XGBoost...... RMSE: 24.098000237736446\n",
      "\n",
      "\n",
      "321_0.pkl\n",
      "Length on load: 26290\n",
      "Length after agg: 1096\n",
      "Dropped N/A cols: 0\n",
      "Length after blank drop: 1096\n",
      "ARIMA Model...... "
     ]
    },
    {
     "name": "stderr",
     "output_type": "stream",
     "text": [
      "INFO:prophet:Disabling yearly seasonality. Run prophet with yearly_seasonality=True to override this.\n"
     ]
    },
    {
     "name": "stdout",
     "output_type": "stream",
     "text": [
      "RMSE: 7.85662122634299\n",
      "Prophet...... RMSE: 7.499103256123669\n",
      "XGBoost...... RMSE: 5.302201831828806\n",
      "\n",
      "\n",
      "322_0.pkl\n",
      "Length on load: 26302\n",
      "Length after agg: 1096\n",
      "Dropped N/A cols: 0\n",
      "Length after blank drop: 1096\n",
      "ARIMA Model...... "
     ]
    },
    {
     "name": "stderr",
     "output_type": "stream",
     "text": [
      "INFO:prophet:Disabling yearly seasonality. Run prophet with yearly_seasonality=True to override this.\n"
     ]
    },
    {
     "name": "stdout",
     "output_type": "stream",
     "text": [
      "RMSE: 10.921861627323226\n",
      "Prophet...... RMSE: 7.000747577376813\n",
      "XGBoost...... RMSE: 5.168466765974617\n",
      "\n",
      "\n",
      "323_0.pkl\n",
      "Length on load: 26302\n",
      "Length after agg: 1096\n",
      "Dropped N/A cols: 0\n",
      "Length after blank drop: 1096\n",
      "ARIMA Model...... "
     ]
    },
    {
     "name": "stderr",
     "output_type": "stream",
     "text": [
      "INFO:prophet:Disabling yearly seasonality. Run prophet with yearly_seasonality=True to override this.\n"
     ]
    },
    {
     "name": "stdout",
     "output_type": "stream",
     "text": [
      "RMSE: 380.44424694429244\n",
      "Prophet...... RMSE: 192.4399140232074\n",
      "XGBoost...... RMSE: 99.32505050655155\n",
      "\n",
      "\n",
      "324_0.pkl\n",
      "Length on load: 26302\n",
      "Length after agg: 1096\n",
      "Dropped N/A cols: 0\n",
      "Length after blank drop: 1096\n",
      "ARIMA Model...... "
     ]
    },
    {
     "name": "stderr",
     "output_type": "stream",
     "text": [
      "INFO:prophet:Disabling yearly seasonality. Run prophet with yearly_seasonality=True to override this.\n"
     ]
    },
    {
     "name": "stdout",
     "output_type": "stream",
     "text": [
      "RMSE: 4.0689349952326115\n",
      "Prophet...... RMSE: 6.7127309412306015\n",
      "XGBoost...... RMSE: 3.7628291104691836\n",
      "\n",
      "\n",
      "325_0.pkl\n",
      "Length on load: 26278\n",
      "Length after agg: 1096\n",
      "Dropped N/A cols: 1\n",
      "Length after blank drop: 1095\n",
      "ARIMA Model...... "
     ]
    },
    {
     "name": "stderr",
     "output_type": "stream",
     "text": [
      "INFO:prophet:Disabling yearly seasonality. Run prophet with yearly_seasonality=True to override this.\n"
     ]
    },
    {
     "name": "stdout",
     "output_type": "stream",
     "text": [
      "RMSE: 8.457298891700212\n",
      "Prophet...... RMSE: 52.242949288689495\n",
      "XGBoost...... RMSE: 9.069834931566598\n",
      "\n",
      "\n",
      "326_0.pkl\n",
      "Length on load: 26278\n",
      "Length after agg: 1096\n",
      "Dropped N/A cols: 1\n",
      "Length after blank drop: 1095\n",
      "ARIMA Model...... "
     ]
    },
    {
     "name": "stderr",
     "output_type": "stream",
     "text": [
      "INFO:prophet:Disabling yearly seasonality. Run prophet with yearly_seasonality=True to override this.\n"
     ]
    },
    {
     "name": "stdout",
     "output_type": "stream",
     "text": [
      "RMSE: 28.280054719849833\n",
      "Prophet...... RMSE: 24.680774325286194\n",
      "XGBoost...... RMSE: 30.23724759595818\n",
      "\n",
      "\n",
      "327_0.pkl\n",
      "Length on load: 26302\n",
      "Length after agg: 1096\n",
      "Dropped N/A cols: 0\n",
      "Length after blank drop: 1096\n",
      "ARIMA Model...... "
     ]
    },
    {
     "name": "stderr",
     "output_type": "stream",
     "text": [
      "INFO:prophet:Disabling yearly seasonality. Run prophet with yearly_seasonality=True to override this.\n"
     ]
    },
    {
     "name": "stdout",
     "output_type": "stream",
     "text": [
      "RMSE: 37.62392333679481\n",
      "Prophet...... RMSE: 83.29970571380609\n",
      "XGBoost...... RMSE: 23.24152303648934\n",
      "\n",
      "\n",
      "328_0.pkl\n",
      "Length on load: 26278\n",
      "Length after agg: 1096\n",
      "Dropped N/A cols: 1\n",
      "Length after blank drop: 1095\n",
      "ARIMA Model...... "
     ]
    },
    {
     "name": "stderr",
     "output_type": "stream",
     "text": [
      "INFO:prophet:Disabling yearly seasonality. Run prophet with yearly_seasonality=True to override this.\n"
     ]
    },
    {
     "name": "stdout",
     "output_type": "stream",
     "text": [
      "RMSE: 24.121971246368883\n",
      "Prophet...... RMSE: 35.143075796939335\n",
      "XGBoost...... RMSE: 12.004021995541379\n",
      "\n",
      "\n",
      "329_0.pkl\n",
      "Length on load: 26302\n",
      "Length after agg: 1096\n",
      "Dropped N/A cols: 0\n",
      "Length after blank drop: 1096\n",
      "ARIMA Model...... "
     ]
    },
    {
     "name": "stderr",
     "output_type": "stream",
     "text": [
      "INFO:prophet:Disabling yearly seasonality. Run prophet with yearly_seasonality=True to override this.\n"
     ]
    },
    {
     "name": "stdout",
     "output_type": "stream",
     "text": [
      "RMSE: 0.6224557463887593\n",
      "Prophet...... RMSE: 0.9495628824740571\n",
      "XGBoost...... RMSE: 0.3577387957180252\n",
      "\n",
      "\n",
      "330_0.pkl\n",
      "Length on load: 26302\n",
      "Length after agg: 1096\n",
      "Dropped N/A cols: 0\n",
      "Length after blank drop: 1096\n",
      "ARIMA Model...... "
     ]
    },
    {
     "name": "stderr",
     "output_type": "stream",
     "text": [
      "INFO:prophet:Disabling yearly seasonality. Run prophet with yearly_seasonality=True to override this.\n"
     ]
    },
    {
     "name": "stdout",
     "output_type": "stream",
     "text": [
      "RMSE: 27.655065192752645\n",
      "Prophet...... RMSE: 42.85080965973885\n",
      "XGBoost...... RMSE: 8.17372595685906\n",
      "\n",
      "\n",
      "331_0.pkl\n",
      "Length on load: 26302\n",
      "Length after agg: 1096\n",
      "Dropped N/A cols: 0\n",
      "Length after blank drop: 1096\n",
      "ARIMA Model...... "
     ]
    },
    {
     "name": "stderr",
     "output_type": "stream",
     "text": [
      "INFO:prophet:Disabling yearly seasonality. Run prophet with yearly_seasonality=True to override this.\n"
     ]
    },
    {
     "name": "stdout",
     "output_type": "stream",
     "text": [
      "RMSE: 782.6349651461481\n",
      "Prophet...... RMSE: 753.3395445752569\n",
      "XGBoost...... RMSE: 371.64544898870747\n",
      "\n",
      "\n",
      "332_0.pkl\n",
      "Length on load: 26254\n",
      "Length after agg: 1096\n",
      "Dropped N/A cols: 2\n",
      "Length after blank drop: 1094\n",
      "ARIMA Model...... "
     ]
    },
    {
     "name": "stderr",
     "output_type": "stream",
     "text": [
      "INFO:prophet:Disabling yearly seasonality. Run prophet with yearly_seasonality=True to override this.\n"
     ]
    },
    {
     "name": "stdout",
     "output_type": "stream",
     "text": [
      "RMSE: 55.664758971500895\n",
      "Prophet...... RMSE: 88.81610815212971\n",
      "XGBoost...... RMSE: 33.53660687406568\n",
      "\n",
      "\n",
      "333_0.pkl\n",
      "Length on load: 26278\n",
      "Length after agg: 1096\n",
      "Dropped N/A cols: 1\n",
      "Length after blank drop: 1095\n",
      "ARIMA Model...... "
     ]
    },
    {
     "name": "stderr",
     "output_type": "stream",
     "text": [
      "INFO:prophet:Disabling yearly seasonality. Run prophet with yearly_seasonality=True to override this.\n"
     ]
    },
    {
     "name": "stdout",
     "output_type": "stream",
     "text": [
      "RMSE: 18.600994106516787\n",
      "Prophet...... RMSE: 34.73496282683334\n",
      "XGBoost...... RMSE: 11.272443142657902\n",
      "\n",
      "\n",
      "334_0.pkl\n",
      "Length on load: 26278\n",
      "Length after agg: 1096\n",
      "Dropped N/A cols: 1\n",
      "Length after blank drop: 1095\n",
      "ARIMA Model...... "
     ]
    },
    {
     "name": "stderr",
     "output_type": "stream",
     "text": [
      "INFO:prophet:Disabling yearly seasonality. Run prophet with yearly_seasonality=True to override this.\n"
     ]
    },
    {
     "name": "stdout",
     "output_type": "stream",
     "text": [
      "RMSE: 21.668610205537245\n",
      "Prophet...... RMSE: 42.14303135618948\n",
      "XGBoost...... RMSE: 7.929283111339076\n",
      "\n",
      "\n",
      "335_0.pkl\n",
      "Length on load: 26302\n",
      "Length after agg: 1096\n",
      "Dropped N/A cols: 0\n",
      "Length after blank drop: 1096\n",
      "ARIMA Model...... "
     ]
    }
   ],
   "source": [
    "# Data is daily\n",
    "# # data_sizes = [360] # Start with one year # Train on whole year\n",
    "\n",
    "output_vis_folder = '.\\\\visualization\\\\models\\\\'\n",
    "\n",
    "# Control Variables that will run these specific models if True\n",
    "ARIMA = True\n",
    "FBProphet = True\n",
    "xgboost = True\n",
    "\n",
    "# Show Visualizations\n",
    "quiet_mode = True\n",
    "\n",
    "resample = True\n",
    "backfill = 'mean'\n",
    "exogen = True\n",
    "\n",
    "thresh = 50\n",
    "\n",
    "# Dictionary to hold all the results, will turn into a dataframe\n",
    "stats_all = {}\n",
    "stats_list = []\n",
    "\n",
    "stats = {}\n",
    "\n",
    "# For each file in the directory\n",
    "direct = '.\\\\data_clean\\\\buildings_by_meter\\\\'\n",
    "\n",
    "\n",
    "files = df_stats['file_name']\n",
    "bl = df_stats['building']\n",
    "\n",
    "for num,file in enumerate(files):\n",
    "    print(file)\n",
    "    \n",
    "    # Temporary dictionary that represents a row\n",
    "    stats = {}\n",
    "    \n",
    "    # Screen results\n",
    "    if df_stats.iloc[num]['per_data'] < 80:\n",
    "        stats['status'] = 'FAIL: Length < 80% data present'\n",
    "        print('not enough data')\n",
    "        continue\n",
    "\n",
    "#     # Skip if building not on our radar\n",
    "#     if bl[num] not in bldgno:\n",
    "#         continue\n",
    "#     else:\n",
    "#         print('File: ' + file)\n",
    "    try:\n",
    "        df = pd.read_pickle(direct + file)\n",
    "    except FileNotFoundError:\n",
    "        continue\n",
    "    \n",
    "    print('Length on load: ' + str(len(df)))\n",
    "    stats['Len_load'] = len(df)\n",
    "    \n",
    "    if len(df) < 20000:\n",
    "        stats['status'] = 'FAIL: Length < 20k'\n",
    "        continue\n",
    "\n",
    "    # Load key variables in dictionary\n",
    "    stats['building'] = df.iloc[0]['building_id']\n",
    "    stats['square_feet'] = df.iloc[0]['square_feet']   \n",
    "    stats['meter'] = bldg_meter = df.iloc[0]['meter']\n",
    "    stats['file_name'] = file\n",
    " \n",
    "    # Process Columns\n",
    "    df = building_meter_drop(df) # Drop poorly correlated columns\n",
    "    df = building_meter_interp(df) # Time series linear interpolation due to standard time deltas\n",
    "    df = building_meter_agg(df,'1D') # aggregate remaining columns\n",
    "    \n",
    "    print('Length after agg: ' + str(len(df)))\n",
    "    stats['Len_agg-clean'] = len(df)\n",
    "    \n",
    "    # Find out how many lingering NA columns are left\n",
    "    b4_NA = len(df)\n",
    "    df.dropna(how='any',inplace=True)\n",
    "    tot = b4_NA - len(df)\n",
    "    print('Dropped N/A cols: ' + str(tot))\n",
    "    \n",
    "    #exit if we drop nan rows\n",
    "    if tot > 100:\n",
    "        stats['status'] = 'FAIL: Drop over 100 Rows'\n",
    "        continue\n",
    "    \n",
    "    print('Length after blank drop: ' + str(len(df)))\n",
    "    stats['Len_blank'] = len(df)\n",
    "    \n",
    "    # Keep track of Models\n",
    "    model_ctr = 1 # Initialize Model Counter\n",
    "    model_prefixes = []\n",
    "\n",
    "    # Split the whole set\n",
    "    df_train = df.loc['2016-01-01':'2016-09-30']\n",
    "    df_test = df.loc['2016-10-01':'2016-12-31']\n",
    "    \n",
    "    # skip building if we dont have enough data\n",
    "#     try:\n",
    "#         if (len(df_train) / len(df_test)) < 2.5:\n",
    "#             print('Not enough training data')\n",
    "#         continue\n",
    "#     except ZeroDivisionError as ze:\n",
    "#         print('DF empty')\n",
    "#         continue\n",
    "      \n",
    "    X_train = df_train.drop(labels=['meter_reading'],axis=1)\n",
    "    X_train.fillna(method='ffill')\n",
    "\n",
    "    X_test = df_test.drop(labels=['meter_reading'],axis=1)\n",
    "    X_test.fillna(method='ffill')\n",
    "\n",
    "    y_train = df_train['meter_reading']\n",
    "    y_train.fillna(method='ffill')\n",
    "\n",
    "    y_test = df_test['meter_reading']\n",
    "    y_test.fillna(method='ffill')\n",
    "    \n",
    "    # Get rid of constants\n",
    "    X_train.drop(labels=['site_id','building_id','square_feet'],axis=1,inplace=True)\n",
    "    X_test.drop(labels=['site_id','building_id','square_feet'],axis=1,inplace=True)\n",
    "    \n",
    "    #   ######################################    ARIMA   ##################################################\n",
    "    if ARIMA:\n",
    "#                 # Keep track of model prefix column names by building prefix to number iterations\n",
    "        model_prefix = 'Model_' + str(model_ctr)\n",
    "        model_prefixes.append(model_prefix)\n",
    "        \n",
    "        # Populate DataFrame with statistics\n",
    "        stats[model_prefix + '_' + 'Type'] = 'ARIMA_Exogen'\n",
    "        stats[model_prefix + '_' + 'Description'] = 'ARIMA_Exogen, with daily aggregation'\n",
    "        stats[model_prefix + '_' + 'DateStart_Train'] = str(X_train.iloc[0].name).split(\" \")[0]\n",
    "        stats[model_prefix + '_' + 'DateEnd_Train'] = str(X_train.iloc[-1].name).split(\" \")[0]\n",
    "        stats[model_prefix + '_' + 'DateStart_Test'] = str(X_test.iloc[0].name).split(\" \")[0]\n",
    "        stats[model_prefix + '_' + 'DateEnd_Test'] = str(X_test.iloc[-1].name).split(\" \")[0]\n",
    "        stats[model_prefix + '_' + 'Len_Train'] = len(X_train)\n",
    "        stats[model_prefix + '_' + 'Len_Test'] = len(X_test)\n",
    "\n",
    "        print('ARIMA Model......',end=' ')\n",
    "\n",
    "        # Try building model\n",
    "        try:\n",
    "            model = pm.auto_arima(y_train,X=X_train,trace=False,n_fits=10,seasonal=True,m=7,error_action='ignore')\n",
    "            stats[model_prefix + '_' + 'Status'] = 'PASS'\n",
    "        except ValueError as ve:\n",
    "            print('Model will not converge')\n",
    "            stats[model_prefix + '_' + 'Status'] = 'FAIL'\n",
    "\n",
    "        preds, conf_int = model.predict(X=X_test,n_periods=y_test.shape[0], return_conf_int=True)\n",
    "\n",
    "        predict = pd.Series(preds,index=y_test.index)\n",
    "\n",
    "        # Keep each slice data here\n",
    "        df_result = pd.concat([predict,y_test],axis=1)\n",
    "        df_result.columns = ['meter_predict_ARIMA','meter_actual']\n",
    "\n",
    "        RMSE_error = (mean_squared_error(df_result['meter_predict_ARIMA'],df_result['meter_actual'],squared=False))\n",
    "\n",
    "        stats[model_prefix + '_' + 'RMSE'] = RMSE_error\n",
    "        stats[model_prefix + '_' + 'y_test_MAX'] = np.max(df_result['meter_actual'])\n",
    "        stats[model_prefix + '_' + 'y_test_MIN'] = np.min(df_result['meter_actual'])\n",
    "        stats[model_prefix + '_' + 'y_test_AVG'] = np.mean(df_result['meter_actual'])\n",
    "        stats[model_prefix + '_' + 'y_test_STD'] = np.std(df_result['meter_actual'])\n",
    "        stats[model_prefix + '_' + 'y_pred_MAX'] = np.max(df_result['meter_predict_ARIMA'])\n",
    "        stats[model_prefix + '_' + 'y_pred_MIN'] = np.min(df_result['meter_predict_ARIMA'])\n",
    "        stats[model_prefix + '_' + 'y_pred_AVG'] = np.mean(df_result['meter_predict_ARIMA'])\n",
    "        stats[model_prefix + '_' + 'y_pred_STD'] = np.std(df_result['meter_predict_ARIMA'])\n",
    "\n",
    "        # RMSE relative to the range of the test range\n",
    "        stats[model_prefix + '_' + 'y_pred_RMSE_pct_Range'] = RMSE_error / \\\n",
    "                                             ((np.max(df_result['meter_actual'])) \\\n",
    "                                              - (np.min(df_result['meter_actual']))) \\\n",
    "                                              * 100\n",
    "\n",
    "        # Create Graph\n",
    "        plt.figure(figsize=(20,10))\n",
    "        plt.plot(df_result['meter_predict_ARIMA'],label=\"ARIMA\")\n",
    "        plt.plot(df_result['meter_actual'],label=\"Actual\")\n",
    "        plt.legend(loc = 'upper right')      \n",
    "        plt.title('Bldg ' + str(stats['building']) + ' Meter ' + str(stats['meter']) + ' ' + model_prefix + '_' + 'ARIMA_Exogen')\n",
    "        plt.xlabel('Date')\n",
    "        plt.ylabel('Meter Reading')\n",
    "        \n",
    "        plt.savefig(output_vis_folder + str(stats['building']) + '_' + str(stats['meter']) + '_ARIMA_Exogen.jpg')\n",
    "        print('RMSE: ' + str(RMSE_error)) \n",
    "          \n",
    "         ######################################    PROPHET   ##################################################\n",
    "        if FBProphet:           \n",
    "            print('Prophet......',end=' ')\n",
    "            model_ctr += 1 # Increment Model Counter\n",
    "            model_prefix = 'Model_' + str(model_ctr) # Build string for keys\n",
    "            model_prefixes.append(model_prefix)\n",
    "\n",
    "            # Need renaming for Prophet - data prep\n",
    "            df_prophet_train = df_train.reset_index()\n",
    "            df_prophet_test = df_test.reset_index()\n",
    "            \n",
    "            \n",
    "            # Get rid of constants\n",
    "            df_prophet_train.drop(labels=['site_id','building_id','square_feet'],axis=1,inplace=True)\n",
    "            df_prophet_test.drop(labels=['site_id','building_id','square_feet'],axis=1,inplace=True)\n",
    "\n",
    "            # Timestamp must be ds column\n",
    "            df_prophet_train = df_prophet_train.rename(columns={'timestamp':'ds','meter_reading':'y'})\n",
    "            df_prophet_test = df_prophet_test.rename(columns={'timestamp':'ds','meter_reading':'y'})\n",
    "            \n",
    "            \n",
    "            # Populate DataFrame with statistics\n",
    "            stats[model_prefix + '_' + 'Type'] = 'Prophet_Exogen'\n",
    "            stats[model_prefix + '_' + 'DateStart_Train'] = str(df_prophet_train.iloc[0]['ds']).split(\" \")[0]\n",
    "            stats[model_prefix + '_' + 'DateEnd_Train'] = str(df_prophet_train.iloc[-1]['ds']).split(\" \")[0]\n",
    "            stats[model_prefix + '_' + 'DateStart_Test'] = str(df_prophet_test.iloc[0].name).split(\" \")[0]\n",
    "            stats[model_prefix + '_' + 'DateEnd_Test'] = str(df_prophet_test.iloc[-1].name).split(\" \")[0]           \n",
    "            stats[model_prefix + '_' + 'Len_Train'] = len(df_prophet_train)\n",
    "            stats[model_prefix + '_' + 'Len_Test'] = len(df_prophet_test)\n",
    "\n",
    "            # Initialize Prophet Model\n",
    "            m = Prophet(daily_seasonality=True)\n",
    "            m.add_regressor('air_temperature')\n",
    "            m.add_regressor('day_of_week')\n",
    "            m.add_regressor('weekend')\n",
    "            m.add_regressor('month')\n",
    "            m.add_regressor('season')\n",
    "            m.fit(df_prophet_train)\n",
    "            predicts = m.predict(df_prophet_test)\n",
    "\n",
    "            RMSE_error = (mean_squared_error(predicts['yhat'],df_prophet_test['y'],squared=False))\n",
    "\n",
    "            stats[model_prefix + '_' + 'RMSE'] = RMSE_error\n",
    "            stats[model_prefix + '_' + 'y_test_MAX'] = np.max(df_prophet_test['y'])\n",
    "            stats[model_prefix + '_' + 'y_test_MIN'] = np.min(df_prophet_test['y'])\n",
    "            stats[model_prefix + '_' + 'y_test_AVG'] = np.mean(df_prophet_test['y'])\n",
    "            \n",
    "            # RMSE relative to the range of the test range\n",
    "            stats[model_prefix + '_' + 'y_pred_RMSE_pct_Range'] = RMSE_error / \\\n",
    "                                                 ((np.max(df_prophet_test['y'])) \\\n",
    "                                                  - (np.min(df_prophet_test['y']))) \\\n",
    "                                                  * 100\n",
    "\n",
    "            stats[model_prefix + '_' + 'y_pred_MAX'] = np.max(predicts['yhat'])\n",
    "            stats[model_prefix + '_' + 'y_pred_MIN'] = np.min(predicts['yhat'])\n",
    "            stats[model_prefix + '_' + 'y_pred_AVG'] = np.mean(predicts['yhat'])\n",
    "\n",
    "\n",
    "            plt.figure(figsize=(20,10))\n",
    "            plt.plot(predicts['yhat'],label=\"Prophet\")\n",
    "            plt.plot(df_prophet_test['y'],label=\"Actual\")\n",
    "            plt.legend(loc = 'upper right')\n",
    "            \n",
    "            plt.title('Bldg ' + str(stats['building']) + ' Meter ' + str(stats['meter']) + ' ' + \\\n",
    "                      model_prefix + '_' + 'Prophet_Exogen')\n",
    "            plt.xlabel('Date')\n",
    "            plt.ylabel('Meter Reading')\n",
    "            \n",
    "            plt.savefig(output_vis_folder + str(stats['building']) + '_' + str(stats['meter']) + '_Prophet_Exogen.jpg')\n",
    "\n",
    "            print('RMSE: ' + str(RMSE_error))\n",
    "                    \n",
    "#             ######################################    XGBOOST   ##################################################\n",
    "            if xgboost:\n",
    "                print('XGBoost......',end=' ')\n",
    "                model_ctr += 1\n",
    "                model_prefix = 'Model_' + str(model_ctr)\n",
    "                model_prefixes.append(model_prefix)\n",
    "\n",
    "                # Populate DataFrame with statistics\n",
    "                stats[model_prefix + '_' + 'Type'] = 'XGBoost'\n",
    "                stats[model_prefix + '_' + 'Description'] = 'ARIMA_Exogen, with daily aggregation'\n",
    "                stats[model_prefix + '_' + 'DateStart_Train'] = str(X_train.iloc[0].name).split(\" \")[0]\n",
    "                stats[model_prefix + '_' + 'DateEnd_Train'] = str(X_train.iloc[-1].name).split(\" \")[0]\n",
    "                stats[model_prefix + '_' + 'DateStart_Test'] = str(X_test.iloc[0].name).split(\" \")[0]\n",
    "                stats[model_prefix + '_' + 'DateEnd_Test'] = str(X_test.iloc[-1].name).split(\" \")[0]\n",
    "                stats[model_prefix + '_' + 'Len_Train'] = len(X_train)\n",
    "                stats[model_prefix + '_' + 'Len_Test'] = len(X_test)\n",
    "    \n",
    "                # Instantiate Model\n",
    "                gbm_model = xgb.XGBRegressor(objective = 'reg:squarederror', n_estimators = 1000, seed = 123)\n",
    "                gbm_model.fit(X_train,y_train)\n",
    "                predict = gbm_model.predict(X_test)\n",
    "                \n",
    "                predict = pd.Series(predict,index=y_test.index)\n",
    "                \n",
    "                df_result = pd.concat([predict,y_test],axis=1,ignore_index=True)\n",
    "                df_result.columns = ['meter_predict_XGBoost','meter_actual']\n",
    "                df_result.sort_index(inplace=True)\n",
    "                \n",
    "                RMSE_error = (mean_squared_error(predict,y_test,squared=False))\n",
    "                \n",
    "                stats[model_prefix + '_' + 'RMSE'] = RMSE_error\n",
    "                stats[model_prefix + '_' + 'y_test_MAX'] = np.max(df_result['meter_actual'])\n",
    "                stats[model_prefix + '_' + 'y_test_MIN'] = np.min(df_result['meter_actual'])\n",
    "                stats[model_prefix + '_' + 'y_test_AVG'] = np.mean(df_result['meter_actual'])\n",
    "                stats[model_prefix + '_' + 'y_test_STD'] = np.std(df_result['meter_actual'])\n",
    "                stats[model_prefix + '_' + 'y_pred_MAX'] = np.max(df_result['meter_predict_XGBoost'])\n",
    "                stats[model_prefix + '_' + 'y_pred_MIN'] = np.min(df_result['meter_predict_XGBoost'])\n",
    "                stats[model_prefix + '_' + 'y_pred_AVG'] = np.mean(df_result['meter_predict_XGBoost'])\n",
    "                stats[model_prefix + '_' + 'y_pred_STD'] = np.std(df_result['meter_predict_XGBoost'])\n",
    "\n",
    "                # RMSE relative to the range of the test range\n",
    "                stats[model_prefix + '_' + 'y_pred_RMSE_pct_Range'] = RMSE_error / \\\n",
    "                                                     ((np.max(df_result['meter_actual'])) \\\n",
    "                                                      - (np.min(df_result['meter_actual']))) \\\n",
    "                                                      * 100\n",
    "                \n",
    "                plt.figure(figsize=(20,10))\n",
    "                plt.plot(df_result['meter_predict_XGBoost'],label=\"XGBoost\")\n",
    "                plt.plot(df_result['meter_actual'],label=\"Actual\")\n",
    "                plt.legend(loc = 'upper right')\n",
    "                plt.title('Bldg ' + str(stats['building']) + ' Meter ' + str(stats['meter']) + ' ' + model_prefix + '_' + 'XGBoost')\n",
    "                plt.xlabel('Date')\n",
    "                plt.ylabel('Meter Reading')\n",
    "                plt.savefig(output_vis_folder + str(stats['building']) + '_' + str(stats['meter']) + '_XGBoost.jpg')\n",
    "                print('RMSE: ' + str(RMSE_error))\n",
    "                \n",
    "#             df_viz = pd.DataFrame(df_result['meter_predict_XGBoost'],df_result['meter_predict_ARIMA'],df_result['meter_predict_Prophet'],index=df_result.index)\n",
    "           \n",
    "\n",
    "#             plt.plot(df_result['meter_predict_ARIMA'],label=\"ARIMA\")\n",
    "#             sns.lineplot(data=[df_result['meter_predict_XGBoost'],\n",
    "#                                 df_result['meter_predict_ARIMA']],\n",
    "#                          x=df_result.index,\n",
    "#                          y=)\n",
    "#             plt.plot(df_result['meter_predict_XGBoost'],label=\"XGBoost\")\n",
    "#             plt.plot(df_result['meter_actual'],label=\"Actual\")\n",
    "#             plt.legend(loc = 'upper right')\n",
    "#             plt.savefig(output_vis_folder + str(stats['building']) + '_' + str(stats['meter']) + '_All.jpg')\n",
    "\n",
    "#             print(df_viz)\n",
    "\n",
    "        print()\n",
    "        print()\n",
    "    \n",
    "        stats_list.append(stats)\n",
    "        # Write dictionary and file every 10 buildings to save results\n",
    "        if stats['building'] % 10 == 0:\n",
    "            df_results = pd.DataFrame(stats_list)\n",
    "            df_results = pd.DataFrame(stats_list)\n",
    "            df_results.to_csv('Model_Results.csv',float_format=\"{:,.2f}\".format)\n",
    "            \n",
    "df_results = pd.DataFrame(stats_list)\n",
    "df_results.to_csv('Model_Results.csv',float_format=\"{:,.2f}\".format)\n"
   ]
  },
  {
   "cell_type": "code",
   "execution_count": null,
   "id": "283cabbd-3fe5-413a-b9eb-e085ff67e0f9",
   "metadata": {},
   "outputs": [],
   "source": [
    "df_stats"
   ]
  },
  {
   "cell_type": "code",
   "execution_count": null,
   "id": "a248a4e0-e894-4d0d-a5d9-a2ee37f1441c",
   "metadata": {},
   "outputs": [],
   "source": [
    "df_stats[df_stats['per_data'] < 75]"
   ]
  },
  {
   "cell_type": "code",
   "execution_count": null,
   "id": "7fc6a270-d3bf-4904-816a-115326873361",
   "metadata": {},
   "outputs": [],
   "source": [
    "df_stats = df_stats.merge(df_results,how='left',on=['file_name'])"
   ]
  },
  {
   "cell_type": "code",
   "execution_count": null,
   "id": "d5728f9a-76fe-4e90-8eda-e38bc6148f6f",
   "metadata": {},
   "outputs": [],
   "source": [
    "df_stats.to_csv('All Results.csv',float_format=\"{:,.2f}\".format)"
   ]
  },
  {
   "cell_type": "code",
   "execution_count": null,
   "id": "5bd9640f-bc16-41d3-b506-1d54bea01032",
   "metadata": {},
   "outputs": [],
   "source": [
    "df_results.iloc[0]"
   ]
  },
  {
   "cell_type": "code",
   "execution_count": null,
   "id": "0a39992d-0d27-4e2f-bdd8-98570714e95f",
   "metadata": {},
   "outputs": [],
   "source": [
    "df_results.filter(regex='RMSE')"
   ]
  },
  {
   "cell_type": "code",
   "execution_count": null,
   "id": "955f7ae0-b0af-43e4-801a-6f4ab5dcd91e",
   "metadata": {},
   "outputs": [],
   "source": [
    "df_results.filter(regex='Model_')\n",
    "df.to_csv('results.csv')"
   ]
  },
  {
   "cell_type": "code",
   "execution_count": null,
   "id": "d249abe1-7015-471c-a74d-3383cec252e6",
   "metadata": {},
   "outputs": [],
   "source": [
    "df_stats = df_stats.merge(df_results,how='right',on=['building','meter'])"
   ]
  },
  {
   "cell_type": "code",
   "execution_count": null,
   "id": "f65011d7-88fe-494d-b696-cc46fff95125",
   "metadata": {},
   "outputs": [],
   "source": [
    "df_stats"
   ]
  },
  {
   "cell_type": "code",
   "execution_count": null,
   "id": "0db24935-c933-43bf-ac5b-417d6b389fa5",
   "metadata": {},
   "outputs": [],
   "source": [
    "df= df_results.filter(regex='RMSE')\n",
    "df.head()"
   ]
  },
  {
   "cell_type": "markdown",
   "id": "suspended-villa",
   "metadata": {},
   "source": [
    "## Time Series Split Cross Validation"
   ]
  },
  {
   "cell_type": "code",
   "execution_count": null,
   "id": "flexible-sauce",
   "metadata": {
    "tags": []
   },
   "outputs": [],
   "source": [
    "tss =  TimeSeriesSplit(n_splits=4,gap=4,test_size=14,max_train_size=120) #too generic\n",
    "rmse = []\n",
    "count = 1\n",
    "\n",
    "results = pd.DataFrame()\n",
    "\n",
    "\n",
    "# Write function that rolls next pd.delta?\n",
    "\n",
    "for train_index, test_index in tss.split(df_train): \n",
    "    \n",
    "    cv_train, cv_test = df_train.iloc[train_index]['meter_reading'], df_train.iloc[test_index]['meter_reading']\n",
    "    model = pm.auto_arima(cv_train,trace=True,n_fits=20)\n",
    "    print(model.summary())\n",
    "    \n",
    "    # \n",
    "    predicts = model.predict(n_periods=14)\n",
    "    true_values = cv_test.values\n",
    "    error = ((sqrt(mean_squared_error(predicts,true_values))))\n",
    "    model.plot_diagnostics()\n",
    "    rmse.append(error)\n",
    "    print(error)\n",
    "print('RMSE')\n",
    "print(np.mean(rmse))"
   ]
  },
  {
   "cell_type": "markdown",
   "id": "alternative-terminology",
   "metadata": {},
   "source": [
    "# Rolling Forecast ARIMA\n",
    "### Walk-forward validation"
   ]
  },
  {
   "cell_type": "raw",
   "id": "neutral-algeria",
   "metadata": {},
   "source": [
    "### Split train / test\n",
    "\n",
    "data_len = 366\n",
    "split_test_doy = 270\n",
    "\n",
    "df_train = df.iloc[0:split_test_doy]\n",
    "df_test = df.iloc[split_test_doy:data_len]"
   ]
  },
  {
   "cell_type": "raw",
   "id": "oriented-current",
   "metadata": {},
   "source": [
    "# Brownlee Time Series Forecasting with Python pg216 (GP Book 229)\n",
    "history = [x for x in df_train['meter_reading'].values]\n",
    "predicted_vals = [] # New predicted value list\n",
    "\n",
    "# Step through each meter reading\n",
    "for t in range(len(df_test['meter_reading'])):\n",
    "    model = ARIMA(history, order=(p,d,q))\n",
    "    model_fit = model.fit()\n",
    "    output = model_fit.forecast(7)\n",
    "    yhat = output[6]\n",
    "    print(len(output))\n",
    "    predicted_vals.append(yhat)\n",
    "    observation = df_test['meter_reading'].iloc[t]\n",
    "    history.append(observation)\n",
    "\n",
    "   # Show every 5 days\n",
    "\n",
    "    print('Iteration: ' + str(t) + ' Date: ' + str(df_test.index[t]),end=\" \")\n",
    "    print('Predicted Meter Reading = %f, Expected Meter Reading = %f' % (yhat,observation))\n",
    "\n",
    "rmse = sqrt(mean_squared_error(df_test['meter_reading'], predicted_vals))\n",
    "print('p = ' + str(p) + ' d = ' + str(d) + ' q = ' + str(q))\n",
    "print('Test RMSE: %.3f' % rmse)\n",
    "\n",
    "df_predict = pd.DataFrame(predicted_vals,index=df_test.index,columns=['meter_predict'])\n",
    "\n",
    "pyplot.plot(df_test['meter_reading'])\n",
    "pyplot.plot(df_predict['meter_predict'], color='red')"
   ]
  },
  {
   "cell_type": "code",
   "execution_count": null,
   "id": "solid-chamber",
   "metadata": {},
   "outputs": [],
   "source": [
    "model.plot(forecast)"
   ]
  },
  {
   "cell_type": "code",
   "execution_count": null,
   "id": "directed-cruise",
   "metadata": {},
   "outputs": [],
   "source": [
    "\n",
    "#             # Fill Nas\n",
    "#             #Counts of null values \n",
    "#             # Backfill with means\n",
    "#             if np.max(X_train.isnull().sum().sort_values(ascending=False)) > 0:\n",
    "#                 stats[model_prefix + '_' + 'X_train_Backfill'] = backfill\n",
    "#                 if backfill == 'mean':\n",
    "#                     X_train.fillna(X_train.mean(), inplace=True)\n",
    "\n",
    "#             # Backfill with mean\n",
    "#             if np.max(X_test.isnull().sum().sort_values(ascending=False)) > 0:\n",
    "#                 stats[model_prefix + '_' + 'X_test_Backfill'] = backfill\n",
    "#                 if backfill == 'mean':\n",
    "#                     X_test.fillna(X_test.mean(), inplace=True)\n",
    "                    \n",
    "#             # Backfill with mean\n",
    "#             if np.max(y_test.isnull().sum().sort_values(ascending=False)) > 0:\n",
    "#                 stats[model_prefix + '_' + 'X_test_Backfill'] = backfill\n",
    "#                 if backfill == 'mean':\n",
    "#                     y_test.fillna(X_test.mean(), inplace=True)\n",
    "                    \n",
    "#             # Backfill with mean\n",
    "#             if np.max(y_train.isnull().sum().sort_values(ascending=False)) > 0:\n",
    "#                 stats[model_prefix + '_' + 'X_test_Backfill'] = backfill\n",
    "#                 if backfill == 'mean':\n",
    "#                     y_train.fillna(X_train.mean(), inplace=True)"
   ]
  }
 ],
 "metadata": {
  "kernelspec": {
   "display_name": "Capstone",
   "language": "python",
   "name": "cap1"
  },
  "language_info": {
   "codemirror_mode": {
    "name": "ipython",
    "version": 3
   },
   "file_extension": ".py",
   "mimetype": "text/x-python",
   "name": "python",
   "nbconvert_exporter": "python",
   "pygments_lexer": "ipython3",
   "version": "3.8.8"
  }
 },
 "nbformat": 4,
 "nbformat_minor": 5
}
