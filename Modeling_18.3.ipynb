{
 "cells": [
  {
   "cell_type": "markdown",
   "id": "least-music",
   "metadata": {},
   "source": [
    "(https://www.kaggle.com/c/ashrae-energy-prediction/)"
   ]
  },
  {
   "cell_type": "markdown",
   "id": "engaged-scope",
   "metadata": {},
   "source": [
    "# ASRAE - Modeling"
   ]
  },
  {
   "cell_type": "code",
   "execution_count": 16,
   "id": "informal-ribbon",
   "metadata": {},
   "outputs": [
    {
     "name": "stdout",
     "output_type": "stream",
     "text": [
      "pmdarima version: 1.8.2\n"
     ]
    }
   ],
   "source": [
    "import numpy as np\n",
    "import pandas as pd\n",
    "\n",
    "import seaborn as sns\n",
    "import plotly as plt\n",
    "import plotly.express as px\n",
    "import plotly.figure_factory as ff\n",
    "import matplotlib.pyplot as plt\n",
    "\n",
    "from math import sqrt\n",
    "\n",
    "import glob\n",
    "\n",
    "import pandas_profiling as ppf\n",
    "import sweetviz as sv\n",
    "import missingno as msno\n",
    "\n",
    "import pprint\n",
    "import datetime\n",
    "from math import sqrt\n",
    "\n",
    "from plotly.subplots import make_subplots\n",
    "import plotly.graph_objects as go\n",
    "\n",
    "from statsmodels.tsa.seasonal import seasonal_decompose\n",
    "from statsmodels.graphics.tsaplots import plot_acf\n",
    "from statsmodels.graphics.tsaplots import plot_pacf\n",
    "from statsmodels.tsa.arima.model import ARIMA\n",
    "import statsmodels.api as sm\n",
    "\n",
    "from sklearn import preprocessing\n",
    "from sklearn.model_selection import GridSearchCV\n",
    "from sklearn.model_selection import ParameterGrid\n",
    "from sklearn.model_selection import TimeSeriesSplit, train_test_split\n",
    "from sklearn.metrics import mean_squared_error, mean_absolute_percentage_error, median_absolute_error\n",
    "\n",
    "from prophet import Prophet\n",
    "\n",
    "import xgboost as xgb\n",
    "\n",
    "import pmdarima as pm\n",
    "from pmdarima import model_selection\n",
    "from pmdarima import pipeline\n",
    "from pmdarima import preprocessing as ppc\n",
    "from pmdarima import arima\n",
    "from pmdarima.arima import ndiffs\n",
    "from pmdarima.arima import ADFTest\n",
    "\n",
    "print(\"pmdarima version: %s\" % pm.__version__)\n",
    "\n",
    "#import tools as tl\n",
    "\n",
    "sns.set(rc={'figure.figsize':(30,20)})\n",
    "\n",
    "pd.options.display.float_format = '{:.2f}'.format\n",
    "pd.set_option(\"precision\", 2)\n",
    "\n",
    "plt.rcParams.update({'font.size': 22})\n",
    "sns.set(font_scale = 2)\n",
    "\n",
    "import pprint\n",
    "pp = pprint.PrettyPrinter(indent=4)\n",
    "\n",
    "import warnings\n",
    "warnings.filterwarnings('ignore')"
   ]
  },
  {
   "cell_type": "code",
   "execution_count": 17,
   "id": "civic-guinea",
   "metadata": {},
   "outputs": [
    {
     "name": "stdout",
     "output_type": "stream",
     "text": [
      "1.4.2\n"
     ]
    }
   ],
   "source": [
    "print(xgb.__version__)"
   ]
  },
  {
   "cell_type": "code",
   "execution_count": 18,
   "id": "harmful-hardware",
   "metadata": {},
   "outputs": [],
   "source": [
    "pd.options.plotting.backend = \"matplotlib\""
   ]
  },
  {
   "cell_type": "code",
   "execution_count": 19,
   "id": "super-thong",
   "metadata": {},
   "outputs": [
    {
     "data": {
      "text/plain": [
       "'G:\\\\My Drive\\\\Code\\\\Springboard_Capstone_Energy'"
      ]
     },
     "execution_count": 19,
     "metadata": {},
     "output_type": "execute_result"
    }
   ],
   "source": [
    "pwd"
   ]
  },
  {
   "cell_type": "code",
   "execution_count": 20,
   "id": "8e441d88-fc94-492c-a3b9-44f73a9b8870",
   "metadata": {},
   "outputs": [],
   "source": [
    "# Drop Specific columns\n",
    "def building_meter_drop(df):\n",
    "    return df.drop(columns=['precip_depth_1_hr','wind_direction','wind_speed','dew_temperature','year_built','floor_count','cloud_coverage'],axis=1)"
   ]
  },
  {
   "cell_type": "code",
   "execution_count": 21,
   "id": "87eac6e6-266e-4208-ab96-c64f3f57c8de",
   "metadata": {},
   "outputs": [],
   "source": [
    "# Interpolate Missing Data\n",
    "def building_meter_interp(df):\n",
    "    df['sea_level_pressure'] = df['sea_level_pressure'].interpolate(method='time')\n",
    "    df['meter_reading'] = df['meter_reading'].interpolate(method='time')\n",
    "    df['air_temperature'] = df['air_temperature'].interpolate(method='time')\n",
    "    return df"
   ]
  },
  {
   "cell_type": "code",
   "execution_count": 22,
   "id": "875cea45-fb1e-428c-b842-32c6c74db032",
   "metadata": {},
   "outputs": [],
   "source": [
    "# Aggregate remaining Data\n",
    "def building_meter_agg(df,resamp_str):\n",
    "    df_samp = df\n",
    "    agg_dict={'meter_reading':'median', \n",
    "              'air_temperature':'median',\n",
    "                  'building_id': 'max',\n",
    "                  'site_id': 'max',\n",
    "                  'square_feet': 'max',\n",
    "                  'day_of_week':'max',\n",
    "                  'weekend':'max',\n",
    "                  'month':'max',\n",
    "                  'season':'max'\n",
    "                  }\n",
    "\n",
    "    # Resample Dataframe\n",
    "    df = df.resample(resamp_str).agg(agg_dict)\n",
    "    \n",
    "    return df"
   ]
  },
  {
   "cell_type": "markdown",
   "id": "6f8519e6-1f19-4a32-a3b9-2a1831cd2bc5",
   "metadata": {},
   "source": [
    "## See Statistics written for each file (building-meter) combo"
   ]
  },
  {
   "cell_type": "code",
   "execution_count": 23,
   "id": "innovative-title",
   "metadata": {},
   "outputs": [],
   "source": [
    "# See Building Statistics for missing data\n",
    "df_stats = pd.read_csv('.//data_clean//building_reading_stats.csv')\n",
    "# Keep only data that has at least 50 % of it"
   ]
  },
  {
   "cell_type": "code",
   "execution_count": 24,
   "id": "b5b45a65-189e-43ae-8382-8147f24904b3",
   "metadata": {},
   "outputs": [
    {
     "name": "stdout",
     "output_type": "stream",
     "text": [
      "<class 'pandas.core.frame.DataFrame'>\n",
      "RangeIndex: 2375 entries, 0 to 2374\n",
      "Data columns (total 19 columns):\n",
      " #   Column                        Non-Null Count  Dtype  \n",
      "---  ------                        --------------  -----  \n",
      " 0   file_name                     2375 non-null   object \n",
      " 1   building                      2375 non-null   int64  \n",
      " 2   meter                         2375 non-null   int64  \n",
      " 3   len_train                     2375 non-null   int64  \n",
      " 4   len_zero                      2375 non-null   int64  \n",
      " 5   per_data                      2375 non-null   float64\n",
      " 6   category                      2375 non-null   object \n",
      " 7   corr_meter_to_airtemp         2375 non-null   float64\n",
      " 8   corr_meter_to_airtemp_wknd    2373 non-null   float64\n",
      " 9   corr_meter_to_airtemp_wkdy    2375 non-null   float64\n",
      " 10  corr_meter_to_airtemp_winter  2325 non-null   float64\n",
      " 11  corr_meter_to_airtemp_spring  2342 non-null   float64\n",
      " 12  corr_meter_to_airtemp_summer  2339 non-null   float64\n",
      " 13  corr_meter_to_airtemp_fall    2361 non-null   float64\n",
      " 14  square_feet                   2375 non-null   int64  \n",
      " 15  site_id                       2375 non-null   int64  \n",
      " 16  floor_count                   2375 non-null   int64  \n",
      " 17  bldg_size                     2375 non-null   object \n",
      " 18  meter_name                    2375 non-null   object \n",
      "dtypes: float64(8), int64(7), object(4)\n",
      "memory usage: 352.7+ KB\n"
     ]
    }
   ],
   "source": [
    "df_stats.info()"
   ]
  },
  {
   "cell_type": "code",
   "execution_count": 25,
   "id": "convinced-proxy",
   "metadata": {},
   "outputs": [],
   "source": [
    "# Modeling Choices\n",
    "# Buildings with 1\n",
    "df_stats.sort_values(['building','meter'],axis=0,inplace=True)\n",
    "df_stats.reset_index(drop=True,inplace=True)"
   ]
  },
  {
   "cell_type": "code",
   "execution_count": 26,
   "id": "critical-hawaiian",
   "metadata": {},
   "outputs": [
    {
     "data": {
      "text/html": [
       "<div>\n",
       "<style scoped>\n",
       "    .dataframe tbody tr th:only-of-type {\n",
       "        vertical-align: middle;\n",
       "    }\n",
       "\n",
       "    .dataframe tbody tr th {\n",
       "        vertical-align: top;\n",
       "    }\n",
       "\n",
       "    .dataframe thead th {\n",
       "        text-align: right;\n",
       "    }\n",
       "</style>\n",
       "<table border=\"1\" class=\"dataframe\">\n",
       "  <thead>\n",
       "    <tr style=\"text-align: right;\">\n",
       "      <th></th>\n",
       "      <th>file_name</th>\n",
       "      <th>building</th>\n",
       "      <th>meter</th>\n",
       "      <th>len_train</th>\n",
       "      <th>len_zero</th>\n",
       "      <th>per_data</th>\n",
       "      <th>category</th>\n",
       "      <th>corr_meter_to_airtemp</th>\n",
       "      <th>corr_meter_to_airtemp_wknd</th>\n",
       "      <th>corr_meter_to_airtemp_wkdy</th>\n",
       "      <th>corr_meter_to_airtemp_winter</th>\n",
       "      <th>corr_meter_to_airtemp_spring</th>\n",
       "      <th>corr_meter_to_airtemp_summer</th>\n",
       "      <th>corr_meter_to_airtemp_fall</th>\n",
       "      <th>square_feet</th>\n",
       "      <th>site_id</th>\n",
       "      <th>floor_count</th>\n",
       "      <th>bldg_size</th>\n",
       "      <th>meter_name</th>\n",
       "    </tr>\n",
       "  </thead>\n",
       "  <tbody>\n",
       "    <tr>\n",
       "      <th>1686</th>\n",
       "      <td>1148_1.pkl</td>\n",
       "      <td>1148</td>\n",
       "      <td>1</td>\n",
       "      <td>8784</td>\n",
       "      <td>0</td>\n",
       "      <td>100.00</td>\n",
       "      <td>Office</td>\n",
       "      <td>0.78</td>\n",
       "      <td>0.79</td>\n",
       "      <td>0.79</td>\n",
       "      <td>0.21</td>\n",
       "      <td>0.74</td>\n",
       "      <td>0.45</td>\n",
       "      <td>0.76</td>\n",
       "      <td>861524</td>\n",
       "      <td>13</td>\n",
       "      <td>-1</td>\n",
       "      <td>XXL</td>\n",
       "      <td>CWater</td>\n",
       "    </tr>\n",
       "  </tbody>\n",
       "</table>\n",
       "</div>"
      ],
      "text/plain": [
       "       file_name  building  meter  len_train  len_zero  per_data category  \\\n",
       "1686  1148_1.pkl      1148      1       8784         0    100.00   Office   \n",
       "\n",
       "      corr_meter_to_airtemp  corr_meter_to_airtemp_wknd  \\\n",
       "1686                   0.78                        0.79   \n",
       "\n",
       "      corr_meter_to_airtemp_wkdy  corr_meter_to_airtemp_winter  \\\n",
       "1686                        0.79                          0.21   \n",
       "\n",
       "      corr_meter_to_airtemp_spring  corr_meter_to_airtemp_summer  \\\n",
       "1686                          0.74                          0.45   \n",
       "\n",
       "      corr_meter_to_airtemp_fall  square_feet  site_id  floor_count bldg_size  \\\n",
       "1686                        0.76       861524       13           -1       XXL   \n",
       "\n",
       "     meter_name  \n",
       "1686     CWater  "
      ]
     },
     "execution_count": 26,
     "metadata": {},
     "output_type": "execute_result"
    }
   ],
   "source": [
    "df_stats[(df_stats['building'] == 1148) & df_stats['meter'] == 1]"
   ]
  },
  {
   "cell_type": "code",
   "execution_count": 27,
   "id": "iraqi-original",
   "metadata": {},
   "outputs": [
    {
     "data": {
      "text/html": [
       "<div>\n",
       "<style scoped>\n",
       "    .dataframe tbody tr th:only-of-type {\n",
       "        vertical-align: middle;\n",
       "    }\n",
       "\n",
       "    .dataframe tbody tr th {\n",
       "        vertical-align: top;\n",
       "    }\n",
       "\n",
       "    .dataframe thead th {\n",
       "        text-align: right;\n",
       "    }\n",
       "</style>\n",
       "<table border=\"1\" class=\"dataframe\">\n",
       "  <thead>\n",
       "    <tr style=\"text-align: right;\">\n",
       "      <th></th>\n",
       "      <th>file_name</th>\n",
       "      <th>building</th>\n",
       "      <th>meter</th>\n",
       "      <th>len_train</th>\n",
       "      <th>len_zero</th>\n",
       "      <th>per_data</th>\n",
       "      <th>category</th>\n",
       "      <th>corr_meter_to_airtemp</th>\n",
       "      <th>corr_meter_to_airtemp_wknd</th>\n",
       "      <th>corr_meter_to_airtemp_wkdy</th>\n",
       "      <th>corr_meter_to_airtemp_winter</th>\n",
       "      <th>corr_meter_to_airtemp_spring</th>\n",
       "      <th>corr_meter_to_airtemp_summer</th>\n",
       "      <th>corr_meter_to_airtemp_fall</th>\n",
       "      <th>square_feet</th>\n",
       "      <th>site_id</th>\n",
       "      <th>floor_count</th>\n",
       "      <th>bldg_size</th>\n",
       "      <th>meter_name</th>\n",
       "    </tr>\n",
       "  </thead>\n",
       "  <tbody>\n",
       "    <tr>\n",
       "      <th>1685</th>\n",
       "      <td>1148_0.pkl</td>\n",
       "      <td>1148</td>\n",
       "      <td>0</td>\n",
       "      <td>8663</td>\n",
       "      <td>0</td>\n",
       "      <td>100.00</td>\n",
       "      <td>Office</td>\n",
       "      <td>-0.02</td>\n",
       "      <td>0.15</td>\n",
       "      <td>-0.04</td>\n",
       "      <td>-0.20</td>\n",
       "      <td>-0.11</td>\n",
       "      <td>-0.08</td>\n",
       "      <td>-0.08</td>\n",
       "      <td>861524</td>\n",
       "      <td>13</td>\n",
       "      <td>-1</td>\n",
       "      <td>XXL</td>\n",
       "      <td>Elec</td>\n",
       "    </tr>\n",
       "    <tr>\n",
       "      <th>1686</th>\n",
       "      <td>1148_1.pkl</td>\n",
       "      <td>1148</td>\n",
       "      <td>1</td>\n",
       "      <td>8784</td>\n",
       "      <td>0</td>\n",
       "      <td>100.00</td>\n",
       "      <td>Office</td>\n",
       "      <td>0.78</td>\n",
       "      <td>0.79</td>\n",
       "      <td>0.79</td>\n",
       "      <td>0.21</td>\n",
       "      <td>0.74</td>\n",
       "      <td>0.45</td>\n",
       "      <td>0.76</td>\n",
       "      <td>861524</td>\n",
       "      <td>13</td>\n",
       "      <td>-1</td>\n",
       "      <td>XXL</td>\n",
       "      <td>CWater</td>\n",
       "    </tr>\n",
       "    <tr>\n",
       "      <th>1687</th>\n",
       "      <td>1148_2.pkl</td>\n",
       "      <td>1148</td>\n",
       "      <td>2</td>\n",
       "      <td>8784</td>\n",
       "      <td>2</td>\n",
       "      <td>99.98</td>\n",
       "      <td>Office</td>\n",
       "      <td>-0.88</td>\n",
       "      <td>-0.86</td>\n",
       "      <td>-0.88</td>\n",
       "      <td>-0.83</td>\n",
       "      <td>-0.85</td>\n",
       "      <td>-0.43</td>\n",
       "      <td>-0.44</td>\n",
       "      <td>861524</td>\n",
       "      <td>13</td>\n",
       "      <td>-1</td>\n",
       "      <td>XXL</td>\n",
       "      <td>Steam</td>\n",
       "    </tr>\n",
       "  </tbody>\n",
       "</table>\n",
       "</div>"
      ],
      "text/plain": [
       "       file_name  building  meter  len_train  len_zero  per_data category  \\\n",
       "1685  1148_0.pkl      1148      0       8663         0    100.00   Office   \n",
       "1686  1148_1.pkl      1148      1       8784         0    100.00   Office   \n",
       "1687  1148_2.pkl      1148      2       8784         2     99.98   Office   \n",
       "\n",
       "      corr_meter_to_airtemp  corr_meter_to_airtemp_wknd  \\\n",
       "1685                  -0.02                        0.15   \n",
       "1686                   0.78                        0.79   \n",
       "1687                  -0.88                       -0.86   \n",
       "\n",
       "      corr_meter_to_airtemp_wkdy  corr_meter_to_airtemp_winter  \\\n",
       "1685                       -0.04                         -0.20   \n",
       "1686                        0.79                          0.21   \n",
       "1687                       -0.88                         -0.83   \n",
       "\n",
       "      corr_meter_to_airtemp_spring  corr_meter_to_airtemp_summer  \\\n",
       "1685                         -0.11                         -0.08   \n",
       "1686                          0.74                          0.45   \n",
       "1687                         -0.85                         -0.43   \n",
       "\n",
       "      corr_meter_to_airtemp_fall  square_feet  site_id  floor_count bldg_size  \\\n",
       "1685                       -0.08       861524       13           -1       XXL   \n",
       "1686                        0.76       861524       13           -1       XXL   \n",
       "1687                       -0.44       861524       13           -1       XXL   \n",
       "\n",
       "     meter_name  \n",
       "1685       Elec  \n",
       "1686     CWater  \n",
       "1687      Steam  "
      ]
     },
     "execution_count": 27,
     "metadata": {},
     "output_type": "execute_result"
    }
   ],
   "source": [
    "# Examine building choices\n",
    "df_stats[df_stats['building'] == 1148]"
   ]
  },
  {
   "cell_type": "raw",
   "id": "d7ea794a-196f-419e-a940-04b31cdfae11",
   "metadata": {},
   "source": [
    "Notice that the 1 meter is positively correlated, 2 meter is strong negative correlation"
   ]
  },
  {
   "cell_type": "markdown",
   "id": "4592d024-68de-4a4c-b64e-0ef1b18f5001",
   "metadata": {},
   "source": [
    "# First Pass \n",
    "## No Hypertuning on Prophet or XGBoost"
   ]
  },
  {
   "cell_type": "code",
   "execution_count": null,
   "id": "0d20ad23-020d-4392-8078-1ac9aae4785c",
   "metadata": {},
   "outputs": [],
   "source": [
    "## Train till end of September, Test on October"
   ]
  },
  {
   "cell_type": "code",
   "execution_count": null,
   "id": "a08ffe77-1a2e-492f-a16e-15d3b5af6524",
   "metadata": {},
   "outputs": [
    {
     "name": "stdout",
     "output_type": "stream",
     "text": [
      "File: 107_0.pkl\n",
      "Length on load: 26304\n",
      "Length after agg: 1096\n",
      "Dropped N/A cols: 0\n",
      "Length after blank drop: 1096\n",
      "ARIMA Model...... "
     ]
    }
   ],
   "source": [
    "\n",
    "output_vis_folder = '.\\\\visualization\\\\models\\\\run_1\\\\'\n",
    "\n",
    "model_pass = 1\n",
    "\n",
    "# Control Variables that will run these specific models if True\n",
    "ARIMA = True\n",
    "FBProphet = True\n",
    "xgboost = True\n",
    "\n",
    "# Show Visualizations\n",
    "quiet_mode = True\n",
    "\n",
    "resample = True\n",
    "backfill = 'mean'\n",
    "exogen = True\n",
    "\n",
    "thresh = 50\n",
    "\n",
    "# Dictionary to hold all the results, will turn into a dataframe\n",
    "stats_all = {}\n",
    "stats_list = []\n",
    "\n",
    "stats = {}\n",
    "\n",
    "# For each file in the directory\n",
    "direct = '.\\\\data_clean\\\\buildings_by_meter\\\\'\n",
    "\n",
    "files = df_stats['file_name']\n",
    "bl = df_stats['building']\n",
    "\n",
    "bld_mtr = ['1073_2', # Elec\n",
    "           '1073_1',\n",
    "           '1073_0',\n",
    "           '1099_2', # Education \n",
    "           '1130_0',\n",
    "           '1048_0',\n",
    "           '1156_0',\n",
    "           '1156_2',\n",
    "           '1140_1',\n",
    "           '1169_1',\n",
    "           '1178_0',\n",
    "           '107_0',\n",
    "           '1180_2',\n",
    "           '119_0',\n",
    "           '1198_2',\n",
    "           '120_0',\n",
    "           '109_0',\n",
    "           '1138_0',\n",
    "           '1079_2',\n",
    "           '126_0',\n",
    "           '1179_1', # Entertainment\n",
    "           '1183_0',\n",
    "           '1196_0',\n",
    "           '743_0',\n",
    "           '663_0', # Food\n",
    "           '1105_0',\n",
    "           '1105_2',\n",
    "           '670_0',\n",
    "           '1209_2',\n",
    "           '1154_2', # Lodging Residential\n",
    "           '1154_0',\n",
    "           '134_0',\n",
    "           '1184_0',\n",
    "           '135_0',\n",
    "           '1124_0',\n",
    "           '1091_0'\n",
    "           '1175_0', # Manufacturing\n",
    "           '1171_0',\n",
    "           '1081_0',\n",
    "           '1145_2',\n",
    "           '1148_1', # Office\n",
    "           '1164_1',\n",
    "           '1151_1',\n",
    "           '1149_0',\n",
    "           '1188_0',\n",
    "           '141_0',\n",
    "           '146_0',\n",
    "           '1204_2',\n",
    "           '1210_1',\n",
    "           '1133_2',\n",
    "           '155_0',\n",
    "           '1164_1',\n",
    "           '1109_2',\n",
    "           '684_0',\n",
    "           '1108_0',\n",
    "           '1205_0',\n",
    "           '1212_1',\n",
    "           '1220_0',\n",
    "           '1047_0',\n",
    "           '678_0',\n",
    "           '1104_0'\n",
    "           '1052_2',\n",
    "           '1034_0',\n",
    "           '1197_0',\n",
    "           '1118_0',\n",
    "           '1199_0'\n",
    "          ]\n",
    "\n",
    "for num,file in enumerate(files):  \n",
    "    \n",
    "    # Get only files from the list\n",
    "    if file.split('.pkl')[0] not in bld_mtr:\n",
    "        continue\n",
    "    else:\n",
    "        print('File: ' + file)\n",
    "        \n",
    "    # Temporary dictionary that represents raw calculations\n",
    "    stats = {}\n",
    "    \n",
    "    # Screen results\n",
    "    if df_stats.iloc[num]['per_data'] < 80:\n",
    "        stats['status'] = 'FAIL: Length < 80% data present'\n",
    "        print('not enough data')\n",
    "        continue\n",
    "    \n",
    "    # Catch exception if file not readable\n",
    "    try:\n",
    "        df = pd.read_pickle(direct + file)\n",
    "    except FileNotFoundError:\n",
    "        continue\n",
    "    \n",
    "    print('Length on load: ' + str(len(df)))\n",
    "    stats['Len_load'] = len(df)\n",
    "    \n",
    "    # Screen minimum length\n",
    "    if len(df) < 20000:\n",
    "        stats['status'] = 'FAIL: Length < 20k'\n",
    "        continue\n",
    "\n",
    "    # Load key variables in dictionary\n",
    "    stats['building'] = df.iloc[0]['building_id']\n",
    "    stats['square_feet'] = df.iloc[0]['square_feet']   \n",
    "    stats['meter'] = bldg_meter = df.iloc[0]['meter']\n",
    "    stats['file_name'] = file\n",
    " \n",
    "    # Process Columns\n",
    "    df = building_meter_drop(df) # Drop poorly correlated columns\n",
    "    df = building_meter_interp(df) # Time series linear interpolation due to standard time deltas\n",
    "    df = building_meter_agg(df,'1D') # aggregate remaining columns\n",
    "    \n",
    "    print('Length after agg: ' + str(len(df)))\n",
    "    stats['Len_agg-clean'] = len(df)\n",
    "    \n",
    "    # Find out how many lingering NA columns are left\n",
    "    b4_NA = len(df)\n",
    "    df.dropna(how='any',inplace=True)\n",
    "    tot = b4_NA - len(df)\n",
    "    print('Dropped N/A cols: ' + str(tot))\n",
    "    if tot > 100:\n",
    "        stats['status'] = 'FAIL: Drop over 100 Rows'\n",
    "        continue\n",
    "    \n",
    "    print('Length after blank drop: ' + str(len(df)))\n",
    "    stats['Len_blank'] = len(df)\n",
    "    \n",
    "    # Keep track of Models\n",
    "    model_ctr = 1 # Initialize Model Counter\n",
    "    model_prefixes = []\n",
    "\n",
    "\n",
    "    df_train = df.loc['2016-01-01':'2016-09-30']\n",
    "    df_test = df.loc['2016-10-01':'2016-10-31']\n",
    "       \n",
    "    X_train = df_train.drop(labels=['meter_reading'],axis=1)\n",
    "    X_train.fillna(method='ffill')\n",
    "\n",
    "    X_test = df_test.drop(labels=['meter_reading'],axis=1)\n",
    "    X_test.fillna(method='ffill')\n",
    "\n",
    "    y_train = df_train['meter_reading']\n",
    "    y_train.fillna(method='ffill')\n",
    "\n",
    "    y_test = df_test['meter_reading']\n",
    "    y_test.fillna(method='ffill')\n",
    "    \n",
    "    # Get rid of constants\n",
    "    X_train.drop(labels=['site_id','building_id','square_feet'],axis=1,inplace=True)\n",
    "    X_test.drop(labels=['site_id','building_id','square_feet'],axis=1,inplace=True)\n",
    "    \n",
    "    #######################################    ARIMA   ##################################################\n",
    "    if ARIMA:\n",
    "        \n",
    "        # Keep track of model prefix column names by building prefix to number iterations\n",
    "        model_prefix = 'Model_' + str(model_ctr)\n",
    "        model_prefixes.append(model_prefix)\n",
    "        \n",
    "        # Populate DataFrame with statistics\n",
    "        stats[model_prefix + '_' + 'Type'] = 'ARIMA_Exogen'\n",
    "        stats[model_prefix + '_' + 'Description'] = 'ARIMA_Exogen, with daily aggregation'\n",
    "        stats[model_prefix + '_' + 'Len_Train'] = len(X_train)\n",
    "        stats[model_prefix + '_' + 'Len_Test'] = len(X_test)\n",
    "\n",
    "        print('ARIMA Model......',end=' ')\n",
    "\n",
    "        # Try building model\n",
    "        try:\n",
    "            model = pm.auto_arima(y_train,X=X_train,trace=False,n_fits=10,seasonal=True,m=7,error_action='ignore')\n",
    "            stats[model_prefix + '_' + 'Status'] = 'PASS'\n",
    "        except ValueError as ve:\n",
    "            print('Model will not converge')\n",
    "            stats[model_prefix + '_' + 'Status'] = 'FAIL'\n",
    "            continue\n",
    "\n",
    "        # Create the Series\n",
    "        preds, conf_int = model.predict(X=X_test,n_periods=y_test.shape[0], return_conf_int=True)\n",
    "                \n",
    "        predict = pd.Series(preds,index=y_test.index)\n",
    "\n",
    "        # Keep each slice data here\n",
    "        df_result = pd.concat([predict,y_test],axis=1)\n",
    "        df_result.columns = ['meter_predict_ARIMA','meter_actual']\n",
    "\n",
    "        # Error Calculations ------------------------\n",
    "        # RMSE\n",
    "        RMSE_error = (mean_squared_error(df_result['meter_predict_ARIMA'],df_result['meter_actual'],squared=False))\n",
    "        stats[model_prefix + '_' + 'RMSE'] = RMSE_error\n",
    "        \n",
    "        # RMSE relative to the range of the test range\n",
    "        RMSE_pct_range = RMSE_error / ((np.max(df_result['meter_actual'])) \\\n",
    "                                       - (np.min(df_result['meter_actual']))) \\\n",
    "                                       * 100      \n",
    "        stats[model_prefix + '_' + 'y_pred_RMSE_pct_Range'] = RMSE_pct_range\n",
    "        \n",
    "        # MAPE\n",
    "        MAPE_error = mean_absolute_percentage_error(df_result['meter_predict_ARIMA'],df_result['meter_actual'])\n",
    "        stats[model_prefix + '_' + 'MAPE'] = MAPE_error\n",
    "        \n",
    "        # Median Absolute Percentage\n",
    "        MedAPE_error = median_absolute_error(df_result['meter_predict_ARIMA'],df_result['meter_actual'])\n",
    "        stats[model_prefix + '_' + 'MedianAPE'] = MedAPE_error\n",
    "        \n",
    "        MedAPE_pct_range = MedAPE_error / ((np.max(df_result['meter_actual'])) \\\n",
    "                                       - (np.min(df_result['meter_actual']))) \\\n",
    "                                       * 100  \n",
    "        stats[model_prefix + '_' + 'y_pred_MedAPE_pct_Range'] = MedAPE_pct_range\n",
    "\n",
    "        print('RMSE: ' + str(RMSE_error)) \n",
    "        print('RMSE_pct_range: ' + str(RMSE_pct_range))\n",
    "        print('MAPE: ' + str(MAPE_error))\n",
    "        print('MedianAPE: ' + str(MedAPE_error))\n",
    "            \n",
    "        # Create Graph\n",
    "        plt.figure(figsize=(20,10))\n",
    "        plt.plot(df_result['meter_predict_ARIMA'],label=\"ARIMA\")\n",
    "        plt.plot(df_result['meter_actual'],label=\"Actual\")\n",
    "        plt.legend(loc = 'upper right')      \n",
    "        plt.title('Bldg ' + str(stats['building']) + ' Meter ' + str(stats['meter']) + ' ' + model_prefix + '_' + 'ARIMA_Exogen')\n",
    "        plt.xlabel('Date')\n",
    "        plt.ylabel('Meter Reading')\n",
    "        plt.savefig(output_vis_folder + str(stats['building']) + '_' + str(stats['meter']) + '_ARIMA_Exogen.jpg')\n",
    "        \n",
    "        \n",
    "          \n",
    "         ######################################    PROPHET   ##################################################\n",
    "        if FBProphet:           \n",
    "            print('Prophet......',end=' ')\n",
    "            model_ctr += 1 # Increment Model Counter\n",
    "            model_prefix = 'Model_' + str(model_ctr) # Build string for keys\n",
    "            model_prefixes.append(model_prefix)\n",
    "\n",
    "            # Need renaming for Prophet - data prep\n",
    "            df_prophet_train = df_train.reset_index()\n",
    "            df_prophet_test = df_test.reset_index()\n",
    "            \n",
    "            \n",
    "            # Get rid of constants\n",
    "            df_prophet_train.drop(labels=['site_id','building_id','square_feet'],axis=1,inplace=True)\n",
    "            df_prophet_test.drop(labels=['site_id','building_id','square_feet'],axis=1,inplace=True)\n",
    "\n",
    "            # Timestamp must be ds column\n",
    "            df_prophet_train = df_prophet_train.rename(columns={'timestamp':'ds','meter_reading':'y'})\n",
    "            df_prophet_test = df_prophet_test.rename(columns={'timestamp':'ds','meter_reading':'y'})\n",
    "            \n",
    "            \n",
    "            # Populate DataFrame with statistics\n",
    "            stats[model_prefix + '_' + 'Type'] = 'Prophet_Exogen'\n",
    "#             stats[model_prefix + '_' + 'DateStart_Train'] = str(df_prophet_train.iloc[0]['ds']).split(\" \")[0]\n",
    "#             stats[model_prefix + '_' + 'DateEnd_Train'] = str(df_prophet_train.iloc[-1]['ds']).split(\" \")[0]\n",
    "#             stats[model_prefix + '_' + 'DateStart_Test'] = str(df_prophet_test.iloc[0].name).split(\" \")[0]\n",
    "#             stats[model_prefix + '_' + 'DateEnd_Test'] = str(df_prophet_test.iloc[-1].name).split(\" \")[0]           \n",
    "            stats[model_prefix + '_' + 'Len_Train'] = len(df_prophet_train)\n",
    "            stats[model_prefix + '_' + 'Len_Test'] = len(df_prophet_test)\n",
    "\n",
    "            # Initialize Prophet Model\n",
    "            m = Prophet(daily_seasonality=True)\n",
    "            m.add_regressor('air_temperature')\n",
    "            m.add_regressor('day_of_week')\n",
    "            m.add_regressor('weekend')\n",
    "            m.add_regressor('month')\n",
    "            m.add_regressor('season')\n",
    "            m.fit(df_prophet_train)\n",
    "            predicts = m.predict(df_prophet_test)\n",
    "\n",
    "            \n",
    "            # RMSE relative to the range of the test range\n",
    "            stats[model_prefix + '_' + 'y_pred_RMSE_pct_Range'] = RMSE_error / \\\n",
    "                                                 ((np.max(df_prophet_test['y'])) \\\n",
    "                                                  - (np.min(df_prophet_test['y']))) \\\n",
    "                                                  * 100            \n",
    "            # Error Calculations ------------------------\n",
    "            # RMSE\n",
    "            RMSE_error = (mean_squared_error(predicts['yhat'],df_prophet_test['y'],squared=False))\n",
    "            stats[model_prefix + '_' + 'RMSE'] = RMSE_error\n",
    "\n",
    "            # RMSE relative to the range of the test range\n",
    "            RMSE_pct_range = RMSE_error / ((np.max(df_prophet_test['y'])) \\\n",
    "                                                  - (np.min(df_prophet_test['y']))) \\\n",
    "                                                  * 100   \n",
    "            stats[model_prefix + '_' + 'y_pred_RMSE_pct_Range'] = RMSE_pct_range\n",
    "\n",
    "            # MAPE\n",
    "            MAPE_error = mean_absolute_percentage_error(predicts['yhat'],df_prophet_test['y'])\n",
    "            stats[model_prefix + '_' + 'MAPE'] = MAPE_error\n",
    "\n",
    "            # Median Absolute Percentage\n",
    "            MedAPE_error = median_absolute_error(predicts['yhat'],df_prophet_test['y'])\n",
    "            stats[model_prefix + '_' + 'MedianAPE'] = MedAPE_error\n",
    "            \n",
    "            \n",
    "            MedAPE_pct_range = MedAPE_error / ((np.max(df_prophet_test['y'])) \\\n",
    "                                                  - (np.min(df_prophet_test['y']))) \\\n",
    "                                                  * 100 \n",
    "            \n",
    "            stats[model_prefix + '_' + 'y_pred_MedAPE_pct_Range'] = MedAPE_pct_range\n",
    "\n",
    "            print('RMSE: ' + str(RMSE_error)) \n",
    "            print('RMSE_pct_range: ' + str(RMSE_pct_range))\n",
    "            print('MAPE: ' + str(MAPE_error))\n",
    "            print('MedianAPE: ' + str(MedAPE_error))\n",
    "\n",
    "            plt.figure(figsize=(20,10))\n",
    "            plt.plot(predicts['yhat'],label=\"Prophet\")\n",
    "            plt.plot(df_prophet_test['y'],label=\"Actual\")\n",
    "            plt.legend(loc = 'upper right')\n",
    "            plt.title('Bldg ' + str(stats['building']) + ' Meter ' + str(stats['meter']) + ' ' + \\\n",
    "                      model_prefix + '_' + 'Prophet_Exogen')\n",
    "            plt.xlabel('Date')\n",
    "            plt.ylabel('Meter Reading')\n",
    "            plt.xticks(df_prophet_test.index) \n",
    "            plt.savefig(output_vis_folder + str(stats['building']) + '_' + str(stats['meter']) + '_Prophet_Exogen.jpg')\n",
    "\n",
    "#             ######################################    XGBOOST   ##################################################\n",
    "            if xgboost:\n",
    "                print('XGBoost......',end=' ')\n",
    "                model_ctr += 1\n",
    "                model_prefix = 'Model_' + str(model_ctr)\n",
    "                model_prefixes.append(model_prefix)\n",
    "\n",
    "                # Populate DataFrame with statistics\n",
    "                stats[model_prefix + '_' + 'Type'] = 'XGBoost'\n",
    "                stats[model_prefix + '_' + 'Description'] = 'XGBoost_Exogen, with daily aggregation'\n",
    "#                 stats[model_prefix + '_' + 'DateStart_Train'] = str(X_train.iloc[0].name).split(\" \")[0]\n",
    "#                 stats[model_prefix + '_' + 'DateEnd_Train'] = str(X_train.iloc[-1].name).split(\" \")[0]\n",
    "#                 stats[model_prefix + '_' + 'DateStart_Test'] = str(X_test.iloc[0].name).split(\" \")[0]\n",
    "#                 stats[model_prefix + '_' + 'DateEnd_Test'] = str(X_test.iloc[-1].name).split(\" \")[0]\n",
    "                stats[model_prefix + '_' + 'Len_Train'] = len(X_train)\n",
    "                stats[model_prefix + '_' + 'Len_Test'] = len(X_test)\n",
    "    \n",
    "                # Instantiate Model\n",
    "                gbm_model = xgb.XGBRegressor(objective = 'reg:squarederror', n_estimators = 1000, seed = 123)\n",
    "                gbm_model.fit(X_train,y_train)\n",
    "                predict = gbm_model.predict(X_test)\n",
    "                \n",
    "                predict = pd.Series(predict,index=y_test.index)\n",
    "                \n",
    "                df_result = pd.concat([predict,y_test],axis=1,ignore_index=True)\n",
    "                df_result.columns = ['meter_predict_XGBoost','meter_actual']\n",
    "                df_result.sort_index(inplace=True)             \n",
    "               \n",
    "                # Error Calculations ------------------------\n",
    "                # RMSE\n",
    "                RMSE_error = (mean_squared_error(df_result['meter_predict_ARIMA'],df_result['meter_actual'],squared=False))\n",
    "                stats[model_prefix + '_' + 'RMSE'] = RMSE_error\n",
    "\n",
    "                # RMSE relative to the range of the test range\n",
    "                RMSE_pct_range = RMSE_error / ((np.max(df_result['meter_actual'])) \\\n",
    "                                               - (np.min(df_result['meter_actual']))) \\\n",
    "                                               * 100      \n",
    "                stats[model_prefix + '_' + 'y_pred_RMSE_pct_Range'] = RMSE_pct_range\n",
    "\n",
    "                # MAPE\n",
    "                MAPE_error = mean_absolute_percentage_error(df_result['meter_predict_ARIMA'],df_result['meter_actual'])\n",
    "                stats[model_prefix + '_' + 'MAPE'] = MAPE_error\n",
    "\n",
    "                       # Median Absolute Percentage\n",
    "                MedAPE_error = median_absolute_error(df_result['meter_predict_ARIMA'],df_result['meter_actual'])\n",
    "                stats[model_prefix + '_' + 'MedianAPE'] = MedAPE_error\n",
    "        \n",
    "                MedAPE_pct_range = MedAPE_error / ((np.max(df_result['meter_actual'])) \\\n",
    "                                       - (np.min(df_result['meter_actual']))) \\\n",
    "                                       * 100  \n",
    "                stats[model_prefix + '_' + 'y_pred_MedAPE_pct_Range'] = MedAPE_pct_range\n",
    "\n",
    "                print('RMSE: ' + str(RMSE_error)) \n",
    "                print('RMSE_pct_range: ' + str(RMSE_pct_range))\n",
    "                print('MAPE: ' + str(MAPE_error))\n",
    "                print('MedianAPE: ' + str(MedAPE_error))\n",
    "                \n",
    "                plt.figure(figsize=(20,10))\n",
    "                plt.plot(df_result['meter_predict_XGBoost'],label=\"XGBoost\")\n",
    "                plt.plot(df_result['meter_actual'],label=\"Actual\")\n",
    "                plt.legend(loc = 'upper right')\n",
    "                plt.title('Bldg ' + str(stats['building']) + ' Meter ' + str(stats['meter']) + ' ' + model_prefix + '_' + 'XGBoost')\n",
    "                plt.xlabel('Date')\n",
    "                plt.ylabel('Meter Reading')\n",
    "                plt.savefig(output_vis_folder + str(stats['building']) + '_' + str(stats['meter']) + '_XGBoost.jpg')\n",
    "\n",
    "        stats_list.append(stats)\n",
    "        # Write dictionary and file every 10 buildings to save results\n",
    "        if stats['building'] % 10 == 0:\n",
    "            df_results = pd.DataFrame(stats_list)\n",
    "            df_results = pd.DataFrame(stats_list)\n",
    "            df_results.to_csv('Model_Results_1.csv',float_format=\"{:,.2f}\".format)\n",
    "            \n",
    "df_results = pd.DataFrame(stats_list)\n",
    "df_results.to_csv('Model_Results_FirstPass.csv',float_format=\"{:,.2f}\".format)\n",
    "df_stats = df_results.merge(df_stats,how='left',on=['file_name'])\n",
    "df_stats.to_csv('AllResults_FirstPass.csv',float_format=\"{:,.2f}\".format)\n"
   ]
  },
  {
   "cell_type": "markdown",
   "id": "liable-raise",
   "metadata": {},
   "source": [
    "# Second Pass\n",
    "## Hyperparameter Tuning on Prophet and XGBoost"
   ]
  },
  {
   "cell_type": "code",
   "execution_count": null,
   "id": "7c886c1d-b07e-48a4-99a1-58257b791e02",
   "metadata": {},
   "outputs": [
    {
     "name": "stdout",
     "output_type": "stream",
     "text": [
      "File: 107_0.pkl\n",
      "Length on load: 26304\n",
      "Length after agg: 1096\n",
      "Dropped N/A cols: 0\n",
      "Length after blank drop: 1096\n",
      "ARIMA Model...... "
     ]
    },
    {
     "name": "stderr",
     "output_type": "stream",
     "text": [
      "INFO:prophet:Disabling yearly seasonality. Run prophet with yearly_seasonality=True to override this.\n"
     ]
    },
    {
     "name": "stdout",
     "output_type": "stream",
     "text": [
      "MAPE: 0.18744081759974943\n",
      "Prophet...... Tuning Prophet....\n",
      "Tuning Iteration: 0\n"
     ]
    },
    {
     "name": "stderr",
     "output_type": "stream",
     "text": [
      "INFO:prophet:Disabling yearly seasonality. Run prophet with yearly_seasonality=True to override this.\n"
     ]
    },
    {
     "name": "stdout",
     "output_type": "stream",
     "text": [
      "Tuning Iteration: 1\n"
     ]
    },
    {
     "name": "stderr",
     "output_type": "stream",
     "text": [
      "INFO:prophet:Disabling yearly seasonality. Run prophet with yearly_seasonality=True to override this.\n"
     ]
    },
    {
     "name": "stdout",
     "output_type": "stream",
     "text": [
      "Tuning Iteration: 2\n"
     ]
    },
    {
     "name": "stderr",
     "output_type": "stream",
     "text": [
      "INFO:prophet:Disabling yearly seasonality. Run prophet with yearly_seasonality=True to override this.\n"
     ]
    },
    {
     "name": "stdout",
     "output_type": "stream",
     "text": [
      "Tuning Iteration: 3\n"
     ]
    },
    {
     "name": "stderr",
     "output_type": "stream",
     "text": [
      "INFO:prophet:Disabling yearly seasonality. Run prophet with yearly_seasonality=True to override this.\n"
     ]
    },
    {
     "name": "stdout",
     "output_type": "stream",
     "text": [
      "Tuning Iteration: 4\n"
     ]
    },
    {
     "name": "stderr",
     "output_type": "stream",
     "text": [
      "INFO:prophet:Disabling yearly seasonality. Run prophet with yearly_seasonality=True to override this.\n"
     ]
    },
    {
     "name": "stdout",
     "output_type": "stream",
     "text": [
      "Tuning Iteration: 5\n"
     ]
    },
    {
     "name": "stderr",
     "output_type": "stream",
     "text": [
      "INFO:prophet:Disabling yearly seasonality. Run prophet with yearly_seasonality=True to override this.\n"
     ]
    },
    {
     "name": "stdout",
     "output_type": "stream",
     "text": [
      "Tuning Iteration: 6\n"
     ]
    },
    {
     "name": "stderr",
     "output_type": "stream",
     "text": [
      "INFO:prophet:Disabling yearly seasonality. Run prophet with yearly_seasonality=True to override this.\n"
     ]
    },
    {
     "name": "stdout",
     "output_type": "stream",
     "text": [
      "Tuning Iteration: 7\n",
      "{'seasonality_mode': 'additive', 'n_changepoints': 200, 'changepoint_prior_scale': 0.5}\n",
      "Best MAPE: 0.16859383336239006\n",
      "XGBoost...... MAPE: 0.26072652236589233\n",
      "\n",
      "\n",
      "File: 109_0.pkl\n",
      "Length on load: 26304\n",
      "Length after agg: 1096\n",
      "Dropped N/A cols: 0\n",
      "Length after blank drop: 1096\n",
      "ARIMA Model...... "
     ]
    },
    {
     "name": "stderr",
     "output_type": "stream",
     "text": [
      "INFO:prophet:Disabling yearly seasonality. Run prophet with yearly_seasonality=True to override this.\n"
     ]
    },
    {
     "name": "stdout",
     "output_type": "stream",
     "text": [
      "MAPE: 0.15206191120519497\n",
      "Prophet...... Tuning Prophet....\n",
      "Tuning Iteration: 0\n"
     ]
    },
    {
     "name": "stderr",
     "output_type": "stream",
     "text": [
      "INFO:prophet:Disabling yearly seasonality. Run prophet with yearly_seasonality=True to override this.\n"
     ]
    },
    {
     "name": "stdout",
     "output_type": "stream",
     "text": [
      "Tuning Iteration: 1\n"
     ]
    },
    {
     "name": "stderr",
     "output_type": "stream",
     "text": [
      "INFO:prophet:Disabling yearly seasonality. Run prophet with yearly_seasonality=True to override this.\n"
     ]
    },
    {
     "name": "stdout",
     "output_type": "stream",
     "text": [
      "Tuning Iteration: 2\n"
     ]
    },
    {
     "name": "stderr",
     "output_type": "stream",
     "text": [
      "INFO:prophet:Disabling yearly seasonality. Run prophet with yearly_seasonality=True to override this.\n"
     ]
    },
    {
     "name": "stdout",
     "output_type": "stream",
     "text": [
      "Tuning Iteration: 3\n"
     ]
    },
    {
     "name": "stderr",
     "output_type": "stream",
     "text": [
      "INFO:prophet:Disabling yearly seasonality. Run prophet with yearly_seasonality=True to override this.\n"
     ]
    },
    {
     "name": "stdout",
     "output_type": "stream",
     "text": [
      "Tuning Iteration: 4\n"
     ]
    },
    {
     "name": "stderr",
     "output_type": "stream",
     "text": [
      "INFO:prophet:Disabling yearly seasonality. Run prophet with yearly_seasonality=True to override this.\n"
     ]
    },
    {
     "name": "stdout",
     "output_type": "stream",
     "text": [
      "Tuning Iteration: 5\n"
     ]
    },
    {
     "name": "stderr",
     "output_type": "stream",
     "text": [
      "INFO:prophet:Disabling yearly seasonality. Run prophet with yearly_seasonality=True to override this.\n"
     ]
    },
    {
     "name": "stdout",
     "output_type": "stream",
     "text": [
      "Tuning Iteration: 6\n"
     ]
    },
    {
     "name": "stderr",
     "output_type": "stream",
     "text": [
      "INFO:prophet:Disabling yearly seasonality. Run prophet with yearly_seasonality=True to override this.\n"
     ]
    },
    {
     "name": "stdout",
     "output_type": "stream",
     "text": [
      "Tuning Iteration: 7\n",
      "{'seasonality_mode': 'additive', 'n_changepoints': 200, 'changepoint_prior_scale': 0.1}\n",
      "Best MAPE: 0.06126621813127285\n",
      "XGBoost...... MAPE: 0.10278830156162742\n",
      "\n",
      "\n",
      "File: 119_0.pkl\n",
      "Length on load: 26304\n",
      "Length after agg: 1096\n",
      "Dropped N/A cols: 0\n",
      "Length after blank drop: 1096\n",
      "ARIMA Model...... "
     ]
    },
    {
     "name": "stderr",
     "output_type": "stream",
     "text": [
      "INFO:prophet:Disabling yearly seasonality. Run prophet with yearly_seasonality=True to override this.\n"
     ]
    },
    {
     "name": "stdout",
     "output_type": "stream",
     "text": [
      "MAPE: 0.07019422442823423\n",
      "Prophet...... Tuning Prophet....\n",
      "Tuning Iteration: 0\n"
     ]
    },
    {
     "name": "stderr",
     "output_type": "stream",
     "text": [
      "INFO:prophet:Disabling yearly seasonality. Run prophet with yearly_seasonality=True to override this.\n"
     ]
    },
    {
     "name": "stdout",
     "output_type": "stream",
     "text": [
      "Tuning Iteration: 1\n"
     ]
    },
    {
     "name": "stderr",
     "output_type": "stream",
     "text": [
      "INFO:prophet:Disabling yearly seasonality. Run prophet with yearly_seasonality=True to override this.\n"
     ]
    },
    {
     "name": "stdout",
     "output_type": "stream",
     "text": [
      "Tuning Iteration: 2\n"
     ]
    },
    {
     "name": "stderr",
     "output_type": "stream",
     "text": [
      "INFO:prophet:Disabling yearly seasonality. Run prophet with yearly_seasonality=True to override this.\n"
     ]
    },
    {
     "name": "stdout",
     "output_type": "stream",
     "text": [
      "Tuning Iteration: 3\n"
     ]
    },
    {
     "name": "stderr",
     "output_type": "stream",
     "text": [
      "INFO:prophet:Disabling yearly seasonality. Run prophet with yearly_seasonality=True to override this.\n"
     ]
    },
    {
     "name": "stdout",
     "output_type": "stream",
     "text": [
      "Tuning Iteration: 4\n"
     ]
    },
    {
     "name": "stderr",
     "output_type": "stream",
     "text": [
      "INFO:prophet:Disabling yearly seasonality. Run prophet with yearly_seasonality=True to override this.\n"
     ]
    },
    {
     "name": "stdout",
     "output_type": "stream",
     "text": [
      "Tuning Iteration: 5\n"
     ]
    },
    {
     "name": "stderr",
     "output_type": "stream",
     "text": [
      "INFO:prophet:Disabling yearly seasonality. Run prophet with yearly_seasonality=True to override this.\n"
     ]
    },
    {
     "name": "stdout",
     "output_type": "stream",
     "text": [
      "Tuning Iteration: 6\n"
     ]
    },
    {
     "name": "stderr",
     "output_type": "stream",
     "text": [
      "INFO:prophet:Disabling yearly seasonality. Run prophet with yearly_seasonality=True to override this.\n"
     ]
    },
    {
     "name": "stdout",
     "output_type": "stream",
     "text": [
      "Tuning Iteration: 7\n",
      "{'seasonality_mode': 'multiplicative', 'n_changepoints': 100, 'changepoint_prior_scale': 0.5}\n",
      "Best MAPE: 0.03249572935664385\n",
      "XGBoost...... MAPE: 0.04585251908228983\n",
      "\n",
      "\n",
      "File: 120_0.pkl\n",
      "Length on load: 26304\n",
      "Length after agg: 1096\n",
      "Dropped N/A cols: 0\n",
      "Length after blank drop: 1096\n",
      "ARIMA Model...... "
     ]
    },
    {
     "name": "stderr",
     "output_type": "stream",
     "text": [
      "INFO:prophet:Disabling yearly seasonality. Run prophet with yearly_seasonality=True to override this.\n"
     ]
    },
    {
     "name": "stdout",
     "output_type": "stream",
     "text": [
      "MAPE: 0.40501663189728954\n",
      "Prophet...... Tuning Prophet....\n",
      "Tuning Iteration: 0\n"
     ]
    },
    {
     "name": "stderr",
     "output_type": "stream",
     "text": [
      "INFO:prophet:Disabling yearly seasonality. Run prophet with yearly_seasonality=True to override this.\n"
     ]
    },
    {
     "name": "stdout",
     "output_type": "stream",
     "text": [
      "Tuning Iteration: 1\n"
     ]
    },
    {
     "name": "stderr",
     "output_type": "stream",
     "text": [
      "INFO:prophet:Disabling yearly seasonality. Run prophet with yearly_seasonality=True to override this.\n"
     ]
    },
    {
     "name": "stdout",
     "output_type": "stream",
     "text": [
      "Tuning Iteration: 2\n"
     ]
    },
    {
     "name": "stderr",
     "output_type": "stream",
     "text": [
      "INFO:prophet:Disabling yearly seasonality. Run prophet with yearly_seasonality=True to override this.\n"
     ]
    },
    {
     "name": "stdout",
     "output_type": "stream",
     "text": [
      "Tuning Iteration: 3\n"
     ]
    },
    {
     "name": "stderr",
     "output_type": "stream",
     "text": [
      "INFO:prophet:Disabling yearly seasonality. Run prophet with yearly_seasonality=True to override this.\n"
     ]
    },
    {
     "name": "stdout",
     "output_type": "stream",
     "text": [
      "Tuning Iteration: 4\n"
     ]
    },
    {
     "name": "stderr",
     "output_type": "stream",
     "text": [
      "INFO:prophet:Disabling yearly seasonality. Run prophet with yearly_seasonality=True to override this.\n"
     ]
    },
    {
     "name": "stdout",
     "output_type": "stream",
     "text": [
      "Tuning Iteration: 5\n"
     ]
    },
    {
     "name": "stderr",
     "output_type": "stream",
     "text": [
      "INFO:prophet:Disabling yearly seasonality. Run prophet with yearly_seasonality=True to override this.\n"
     ]
    },
    {
     "name": "stdout",
     "output_type": "stream",
     "text": [
      "Tuning Iteration: 6\n"
     ]
    },
    {
     "name": "stderr",
     "output_type": "stream",
     "text": [
      "INFO:prophet:Disabling yearly seasonality. Run prophet with yearly_seasonality=True to override this.\n"
     ]
    },
    {
     "name": "stdout",
     "output_type": "stream",
     "text": [
      "Tuning Iteration: 7\n",
      "{'seasonality_mode': 'additive', 'n_changepoints': 100, 'changepoint_prior_scale': 0.1}\n",
      "Best MAPE: 0.4465262034234814\n",
      "XGBoost...... MAPE: 0.4289724166011074\n",
      "\n",
      "\n",
      "File: 126_0.pkl\n",
      "Length on load: 26304\n",
      "Length after agg: 1096\n",
      "Dropped N/A cols: 0\n",
      "Length after blank drop: 1096\n",
      "ARIMA Model...... "
     ]
    },
    {
     "name": "stderr",
     "output_type": "stream",
     "text": [
      "INFO:prophet:Disabling yearly seasonality. Run prophet with yearly_seasonality=True to override this.\n"
     ]
    },
    {
     "name": "stdout",
     "output_type": "stream",
     "text": [
      "MAPE: 0.07273895288081006\n",
      "Prophet...... Tuning Prophet....\n",
      "Tuning Iteration: 0\n"
     ]
    },
    {
     "name": "stderr",
     "output_type": "stream",
     "text": [
      "INFO:prophet:Disabling yearly seasonality. Run prophet with yearly_seasonality=True to override this.\n"
     ]
    },
    {
     "name": "stdout",
     "output_type": "stream",
     "text": [
      "Tuning Iteration: 1\n"
     ]
    },
    {
     "name": "stderr",
     "output_type": "stream",
     "text": [
      "INFO:prophet:Disabling yearly seasonality. Run prophet with yearly_seasonality=True to override this.\n"
     ]
    },
    {
     "name": "stdout",
     "output_type": "stream",
     "text": [
      "Tuning Iteration: 2\n"
     ]
    },
    {
     "name": "stderr",
     "output_type": "stream",
     "text": [
      "INFO:prophet:Disabling yearly seasonality. Run prophet with yearly_seasonality=True to override this.\n"
     ]
    },
    {
     "name": "stdout",
     "output_type": "stream",
     "text": [
      "Tuning Iteration: 3\n"
     ]
    },
    {
     "name": "stderr",
     "output_type": "stream",
     "text": [
      "INFO:prophet:Disabling yearly seasonality. Run prophet with yearly_seasonality=True to override this.\n"
     ]
    },
    {
     "name": "stdout",
     "output_type": "stream",
     "text": [
      "Tuning Iteration: 4\n"
     ]
    },
    {
     "name": "stderr",
     "output_type": "stream",
     "text": [
      "INFO:prophet:Disabling yearly seasonality. Run prophet with yearly_seasonality=True to override this.\n"
     ]
    },
    {
     "name": "stdout",
     "output_type": "stream",
     "text": [
      "Tuning Iteration: 5\n"
     ]
    },
    {
     "name": "stderr",
     "output_type": "stream",
     "text": [
      "INFO:prophet:Disabling yearly seasonality. Run prophet with yearly_seasonality=True to override this.\n"
     ]
    },
    {
     "name": "stdout",
     "output_type": "stream",
     "text": [
      "Tuning Iteration: 6\n"
     ]
    },
    {
     "name": "stderr",
     "output_type": "stream",
     "text": [
      "INFO:prophet:Disabling yearly seasonality. Run prophet with yearly_seasonality=True to override this.\n"
     ]
    },
    {
     "name": "stdout",
     "output_type": "stream",
     "text": [
      "Tuning Iteration: 7\n",
      "{'seasonality_mode': 'additive', 'n_changepoints': 200, 'changepoint_prior_scale': 0.5}\n",
      "Best MAPE: 0.05863601036344556\n",
      "XGBoost...... MAPE: 0.07370409970333751\n",
      "\n",
      "\n",
      "File: 134_0.pkl\n",
      "Length on load: 26304\n",
      "Length after agg: 1096\n",
      "Dropped N/A cols: 0\n",
      "Length after blank drop: 1096\n",
      "ARIMA Model...... "
     ]
    },
    {
     "name": "stderr",
     "output_type": "stream",
     "text": [
      "INFO:prophet:Disabling yearly seasonality. Run prophet with yearly_seasonality=True to override this.\n"
     ]
    },
    {
     "name": "stdout",
     "output_type": "stream",
     "text": [
      "MAPE: 0.5608023573339117\n",
      "Prophet...... Tuning Prophet....\n",
      "Tuning Iteration: 0\n"
     ]
    },
    {
     "name": "stderr",
     "output_type": "stream",
     "text": [
      "INFO:prophet:Disabling yearly seasonality. Run prophet with yearly_seasonality=True to override this.\n"
     ]
    },
    {
     "name": "stdout",
     "output_type": "stream",
     "text": [
      "Tuning Iteration: 1\n"
     ]
    },
    {
     "name": "stderr",
     "output_type": "stream",
     "text": [
      "INFO:prophet:Disabling yearly seasonality. Run prophet with yearly_seasonality=True to override this.\n"
     ]
    },
    {
     "name": "stdout",
     "output_type": "stream",
     "text": [
      "Tuning Iteration: 2\n"
     ]
    },
    {
     "name": "stderr",
     "output_type": "stream",
     "text": [
      "INFO:prophet:Disabling yearly seasonality. Run prophet with yearly_seasonality=True to override this.\n"
     ]
    },
    {
     "name": "stdout",
     "output_type": "stream",
     "text": [
      "Tuning Iteration: 3\n"
     ]
    },
    {
     "name": "stderr",
     "output_type": "stream",
     "text": [
      "INFO:prophet:Disabling yearly seasonality. Run prophet with yearly_seasonality=True to override this.\n"
     ]
    },
    {
     "name": "stdout",
     "output_type": "stream",
     "text": [
      "Tuning Iteration: 4\n"
     ]
    },
    {
     "name": "stderr",
     "output_type": "stream",
     "text": [
      "INFO:prophet:Disabling yearly seasonality. Run prophet with yearly_seasonality=True to override this.\n"
     ]
    },
    {
     "name": "stdout",
     "output_type": "stream",
     "text": [
      "Tuning Iteration: 5\n"
     ]
    },
    {
     "name": "stderr",
     "output_type": "stream",
     "text": [
      "INFO:prophet:Disabling yearly seasonality. Run prophet with yearly_seasonality=True to override this.\n"
     ]
    },
    {
     "name": "stdout",
     "output_type": "stream",
     "text": [
      "Tuning Iteration: 6\n"
     ]
    },
    {
     "name": "stderr",
     "output_type": "stream",
     "text": [
      "INFO:prophet:Disabling yearly seasonality. Run prophet with yearly_seasonality=True to override this.\n"
     ]
    },
    {
     "name": "stdout",
     "output_type": "stream",
     "text": [
      "Tuning Iteration: 7\n",
      "{'seasonality_mode': 'additive', 'n_changepoints': 100, 'changepoint_prior_scale': 0.1}\n",
      "Best MAPE: 0.4788889516471297\n",
      "XGBoost...... MAPE: 0.5644656330164085\n",
      "\n",
      "\n",
      "File: 135_0.pkl\n",
      "Length on load: 26304\n",
      "Length after agg: 1096\n",
      "Dropped N/A cols: 0\n",
      "Length after blank drop: 1096\n",
      "ARIMA Model...... "
     ]
    },
    {
     "name": "stderr",
     "output_type": "stream",
     "text": [
      "INFO:prophet:Disabling yearly seasonality. Run prophet with yearly_seasonality=True to override this.\n"
     ]
    },
    {
     "name": "stdout",
     "output_type": "stream",
     "text": [
      "MAPE: 0.10533287792140408\n",
      "Prophet...... Tuning Prophet....\n",
      "Tuning Iteration: 0\n"
     ]
    },
    {
     "name": "stderr",
     "output_type": "stream",
     "text": [
      "INFO:prophet:Disabling yearly seasonality. Run prophet with yearly_seasonality=True to override this.\n"
     ]
    },
    {
     "name": "stdout",
     "output_type": "stream",
     "text": [
      "Tuning Iteration: 1\n"
     ]
    },
    {
     "name": "stderr",
     "output_type": "stream",
     "text": [
      "INFO:prophet:Disabling yearly seasonality. Run prophet with yearly_seasonality=True to override this.\n"
     ]
    },
    {
     "name": "stdout",
     "output_type": "stream",
     "text": [
      "Tuning Iteration: 2\n"
     ]
    },
    {
     "name": "stderr",
     "output_type": "stream",
     "text": [
      "INFO:prophet:Disabling yearly seasonality. Run prophet with yearly_seasonality=True to override this.\n"
     ]
    },
    {
     "name": "stdout",
     "output_type": "stream",
     "text": [
      "Tuning Iteration: 3\n"
     ]
    },
    {
     "name": "stderr",
     "output_type": "stream",
     "text": [
      "INFO:prophet:Disabling yearly seasonality. Run prophet with yearly_seasonality=True to override this.\n"
     ]
    },
    {
     "name": "stdout",
     "output_type": "stream",
     "text": [
      "Tuning Iteration: 4\n"
     ]
    },
    {
     "name": "stderr",
     "output_type": "stream",
     "text": [
      "INFO:prophet:Disabling yearly seasonality. Run prophet with yearly_seasonality=True to override this.\n"
     ]
    },
    {
     "name": "stdout",
     "output_type": "stream",
     "text": [
      "Tuning Iteration: 5\n"
     ]
    },
    {
     "name": "stderr",
     "output_type": "stream",
     "text": [
      "INFO:prophet:Disabling yearly seasonality. Run prophet with yearly_seasonality=True to override this.\n"
     ]
    },
    {
     "name": "stdout",
     "output_type": "stream",
     "text": [
      "Tuning Iteration: 6\n"
     ]
    },
    {
     "name": "stderr",
     "output_type": "stream",
     "text": [
      "INFO:prophet:Disabling yearly seasonality. Run prophet with yearly_seasonality=True to override this.\n"
     ]
    },
    {
     "name": "stdout",
     "output_type": "stream",
     "text": [
      "Tuning Iteration: 7\n",
      "{'seasonality_mode': 'multiplicative', 'n_changepoints': 200, 'changepoint_prior_scale': 0.1}\n",
      "Best MAPE: 0.040043334911596916\n",
      "XGBoost...... MAPE: 0.12850891097357736\n",
      "\n",
      "\n",
      "File: 141_0.pkl\n",
      "Length on load: 26304\n",
      "Length after agg: 1096\n",
      "Dropped N/A cols: 0\n",
      "Length after blank drop: 1096\n",
      "ARIMA Model...... "
     ]
    },
    {
     "name": "stderr",
     "output_type": "stream",
     "text": [
      "INFO:prophet:Disabling yearly seasonality. Run prophet with yearly_seasonality=True to override this.\n"
     ]
    },
    {
     "name": "stdout",
     "output_type": "stream",
     "text": [
      "MAPE: 0.18450943098995848\n",
      "Prophet...... Tuning Prophet....\n",
      "Tuning Iteration: 0\n"
     ]
    },
    {
     "name": "stderr",
     "output_type": "stream",
     "text": [
      "INFO:prophet:Disabling yearly seasonality. Run prophet with yearly_seasonality=True to override this.\n"
     ]
    },
    {
     "name": "stdout",
     "output_type": "stream",
     "text": [
      "Tuning Iteration: 1\n"
     ]
    },
    {
     "name": "stderr",
     "output_type": "stream",
     "text": [
      "INFO:prophet:Disabling yearly seasonality. Run prophet with yearly_seasonality=True to override this.\n"
     ]
    },
    {
     "name": "stdout",
     "output_type": "stream",
     "text": [
      "Tuning Iteration: 2\n"
     ]
    },
    {
     "name": "stderr",
     "output_type": "stream",
     "text": [
      "INFO:prophet:Disabling yearly seasonality. Run prophet with yearly_seasonality=True to override this.\n"
     ]
    },
    {
     "name": "stdout",
     "output_type": "stream",
     "text": [
      "Tuning Iteration: 3\n"
     ]
    },
    {
     "name": "stderr",
     "output_type": "stream",
     "text": [
      "INFO:prophet:Disabling yearly seasonality. Run prophet with yearly_seasonality=True to override this.\n"
     ]
    },
    {
     "name": "stdout",
     "output_type": "stream",
     "text": [
      "Tuning Iteration: 4\n"
     ]
    },
    {
     "name": "stderr",
     "output_type": "stream",
     "text": [
      "INFO:prophet:Disabling yearly seasonality. Run prophet with yearly_seasonality=True to override this.\n"
     ]
    },
    {
     "name": "stdout",
     "output_type": "stream",
     "text": [
      "Tuning Iteration: 5\n"
     ]
    },
    {
     "name": "stderr",
     "output_type": "stream",
     "text": [
      "INFO:prophet:Disabling yearly seasonality. Run prophet with yearly_seasonality=True to override this.\n"
     ]
    },
    {
     "name": "stdout",
     "output_type": "stream",
     "text": [
      "Tuning Iteration: 6\n"
     ]
    },
    {
     "name": "stderr",
     "output_type": "stream",
     "text": [
      "INFO:prophet:Disabling yearly seasonality. Run prophet with yearly_seasonality=True to override this.\n"
     ]
    },
    {
     "name": "stdout",
     "output_type": "stream",
     "text": [
      "Tuning Iteration: 7\n",
      "{'seasonality_mode': 'multiplicative', 'n_changepoints': 100, 'changepoint_prior_scale': 0.5}\n",
      "Best MAPE: 0.10269501574596063\n",
      "XGBoost...... MAPE: 0.14616162922655276\n",
      "\n",
      "\n",
      "File: 146_0.pkl\n",
      "Length on load: 26304\n",
      "Length after agg: 1096\n",
      "Dropped N/A cols: 0\n",
      "Length after blank drop: 1096\n",
      "ARIMA Model...... "
     ]
    },
    {
     "name": "stderr",
     "output_type": "stream",
     "text": [
      "INFO:prophet:Disabling yearly seasonality. Run prophet with yearly_seasonality=True to override this.\n"
     ]
    },
    {
     "name": "stdout",
     "output_type": "stream",
     "text": [
      "MAPE: 0.25303667493984844\n",
      "Prophet...... Tuning Prophet....\n",
      "Tuning Iteration: 0\n"
     ]
    },
    {
     "name": "stderr",
     "output_type": "stream",
     "text": [
      "INFO:prophet:Disabling yearly seasonality. Run prophet with yearly_seasonality=True to override this.\n"
     ]
    },
    {
     "name": "stdout",
     "output_type": "stream",
     "text": [
      "Tuning Iteration: 1\n"
     ]
    },
    {
     "name": "stderr",
     "output_type": "stream",
     "text": [
      "INFO:prophet:Disabling yearly seasonality. Run prophet with yearly_seasonality=True to override this.\n"
     ]
    },
    {
     "name": "stdout",
     "output_type": "stream",
     "text": [
      "Tuning Iteration: 2\n"
     ]
    },
    {
     "name": "stderr",
     "output_type": "stream",
     "text": [
      "INFO:prophet:Disabling yearly seasonality. Run prophet with yearly_seasonality=True to override this.\n"
     ]
    },
    {
     "name": "stdout",
     "output_type": "stream",
     "text": [
      "Tuning Iteration: 3\n"
     ]
    },
    {
     "name": "stderr",
     "output_type": "stream",
     "text": [
      "INFO:prophet:Disabling yearly seasonality. Run prophet with yearly_seasonality=True to override this.\n"
     ]
    },
    {
     "name": "stdout",
     "output_type": "stream",
     "text": [
      "Tuning Iteration: 4\n"
     ]
    },
    {
     "name": "stderr",
     "output_type": "stream",
     "text": [
      "INFO:prophet:Disabling yearly seasonality. Run prophet with yearly_seasonality=True to override this.\n"
     ]
    },
    {
     "name": "stdout",
     "output_type": "stream",
     "text": [
      "Tuning Iteration: 5\n"
     ]
    },
    {
     "name": "stderr",
     "output_type": "stream",
     "text": [
      "INFO:prophet:Disabling yearly seasonality. Run prophet with yearly_seasonality=True to override this.\n"
     ]
    },
    {
     "name": "stdout",
     "output_type": "stream",
     "text": [
      "Tuning Iteration: 6\n"
     ]
    },
    {
     "name": "stderr",
     "output_type": "stream",
     "text": [
      "INFO:prophet:Disabling yearly seasonality. Run prophet with yearly_seasonality=True to override this.\n"
     ]
    },
    {
     "name": "stdout",
     "output_type": "stream",
     "text": [
      "Tuning Iteration: 7\n",
      "{'seasonality_mode': 'multiplicative', 'n_changepoints': 200, 'changepoint_prior_scale': 0.5}\n",
      "Best MAPE: 0.09151051837078224\n",
      "XGBoost...... MAPE: 0.15451351658292914\n",
      "\n",
      "\n",
      "File: 155_0.pkl\n",
      "Length on load: 26304\n",
      "Length after agg: 1096\n",
      "Dropped N/A cols: 0\n",
      "Length after blank drop: 1096\n",
      "ARIMA Model...... "
     ]
    },
    {
     "name": "stderr",
     "output_type": "stream",
     "text": [
      "INFO:prophet:Disabling yearly seasonality. Run prophet with yearly_seasonality=True to override this.\n"
     ]
    },
    {
     "name": "stdout",
     "output_type": "stream",
     "text": [
      "MAPE: 0.12267117941182529\n",
      "Prophet...... Tuning Prophet....\n",
      "Tuning Iteration: 0\n"
     ]
    },
    {
     "name": "stderr",
     "output_type": "stream",
     "text": [
      "INFO:prophet:Disabling yearly seasonality. Run prophet with yearly_seasonality=True to override this.\n"
     ]
    },
    {
     "name": "stdout",
     "output_type": "stream",
     "text": [
      "Tuning Iteration: 1\n"
     ]
    },
    {
     "name": "stderr",
     "output_type": "stream",
     "text": [
      "INFO:prophet:Disabling yearly seasonality. Run prophet with yearly_seasonality=True to override this.\n"
     ]
    },
    {
     "name": "stdout",
     "output_type": "stream",
     "text": [
      "Tuning Iteration: 2\n"
     ]
    },
    {
     "name": "stderr",
     "output_type": "stream",
     "text": [
      "INFO:prophet:Disabling yearly seasonality. Run prophet with yearly_seasonality=True to override this.\n"
     ]
    },
    {
     "name": "stdout",
     "output_type": "stream",
     "text": [
      "Tuning Iteration: 3\n"
     ]
    },
    {
     "name": "stderr",
     "output_type": "stream",
     "text": [
      "INFO:prophet:Disabling yearly seasonality. Run prophet with yearly_seasonality=True to override this.\n"
     ]
    },
    {
     "name": "stdout",
     "output_type": "stream",
     "text": [
      "Tuning Iteration: 4\n"
     ]
    },
    {
     "name": "stderr",
     "output_type": "stream",
     "text": [
      "INFO:prophet:Disabling yearly seasonality. Run prophet with yearly_seasonality=True to override this.\n"
     ]
    },
    {
     "name": "stdout",
     "output_type": "stream",
     "text": [
      "Tuning Iteration: 5\n"
     ]
    },
    {
     "name": "stderr",
     "output_type": "stream",
     "text": [
      "INFO:prophet:Disabling yearly seasonality. Run prophet with yearly_seasonality=True to override this.\n"
     ]
    },
    {
     "name": "stdout",
     "output_type": "stream",
     "text": [
      "Tuning Iteration: 6\n"
     ]
    },
    {
     "name": "stderr",
     "output_type": "stream",
     "text": [
      "INFO:prophet:Disabling yearly seasonality. Run prophet with yearly_seasonality=True to override this.\n"
     ]
    },
    {
     "name": "stdout",
     "output_type": "stream",
     "text": [
      "Tuning Iteration: 7\n",
      "{'seasonality_mode': 'multiplicative', 'n_changepoints': 100, 'changepoint_prior_scale': 0.1}\n",
      "Best MAPE: 0.09137501630622175\n",
      "XGBoost...... MAPE: 0.08607105045459733\n",
      "\n",
      "\n",
      "File: 663_0.pkl\n",
      "Length on load: 26304\n",
      "Length after agg: 1096\n",
      "Dropped N/A cols: 0\n",
      "Length after blank drop: 1096\n",
      "ARIMA Model...... "
     ]
    },
    {
     "name": "stderr",
     "output_type": "stream",
     "text": [
      "INFO:prophet:Disabling yearly seasonality. Run prophet with yearly_seasonality=True to override this.\n"
     ]
    },
    {
     "name": "stdout",
     "output_type": "stream",
     "text": [
      "MAPE: 0.18917618936109357\n",
      "Prophet...... Tuning Prophet....\n",
      "Tuning Iteration: 0\n"
     ]
    },
    {
     "name": "stderr",
     "output_type": "stream",
     "text": [
      "INFO:prophet:Disabling yearly seasonality. Run prophet with yearly_seasonality=True to override this.\n"
     ]
    },
    {
     "name": "stdout",
     "output_type": "stream",
     "text": [
      "Tuning Iteration: 1\n"
     ]
    },
    {
     "name": "stderr",
     "output_type": "stream",
     "text": [
      "INFO:prophet:Disabling yearly seasonality. Run prophet with yearly_seasonality=True to override this.\n"
     ]
    },
    {
     "name": "stdout",
     "output_type": "stream",
     "text": [
      "Tuning Iteration: 2\n"
     ]
    },
    {
     "name": "stderr",
     "output_type": "stream",
     "text": [
      "INFO:prophet:Disabling yearly seasonality. Run prophet with yearly_seasonality=True to override this.\n"
     ]
    },
    {
     "name": "stdout",
     "output_type": "stream",
     "text": [
      "Tuning Iteration: 3\n"
     ]
    },
    {
     "name": "stderr",
     "output_type": "stream",
     "text": [
      "INFO:prophet:Disabling yearly seasonality. Run prophet with yearly_seasonality=True to override this.\n"
     ]
    },
    {
     "name": "stdout",
     "output_type": "stream",
     "text": [
      "Tuning Iteration: 4\n"
     ]
    },
    {
     "name": "stderr",
     "output_type": "stream",
     "text": [
      "INFO:prophet:Disabling yearly seasonality. Run prophet with yearly_seasonality=True to override this.\n"
     ]
    },
    {
     "name": "stdout",
     "output_type": "stream",
     "text": [
      "Tuning Iteration: 5\n"
     ]
    },
    {
     "name": "stderr",
     "output_type": "stream",
     "text": [
      "INFO:prophet:Disabling yearly seasonality. Run prophet with yearly_seasonality=True to override this.\n"
     ]
    },
    {
     "name": "stdout",
     "output_type": "stream",
     "text": [
      "Tuning Iteration: 6\n"
     ]
    },
    {
     "name": "stderr",
     "output_type": "stream",
     "text": [
      "INFO:prophet:Disabling yearly seasonality. Run prophet with yearly_seasonality=True to override this.\n"
     ]
    },
    {
     "name": "stdout",
     "output_type": "stream",
     "text": [
      "Tuning Iteration: 7\n",
      "{'seasonality_mode': 'multiplicative', 'n_changepoints': 200, 'changepoint_prior_scale': 0.1}\n",
      "Best MAPE: 0.10378306952315569\n",
      "XGBoost...... MAPE: 0.5540035730466168\n",
      "\n",
      "\n",
      "File: 670_0.pkl\n",
      "Length on load: 26304\n",
      "Length after agg: 1096\n",
      "Dropped N/A cols: 0\n",
      "Length after blank drop: 1096\n",
      "ARIMA Model...... "
     ]
    },
    {
     "name": "stderr",
     "output_type": "stream",
     "text": [
      "INFO:prophet:Disabling yearly seasonality. Run prophet with yearly_seasonality=True to override this.\n"
     ]
    },
    {
     "name": "stdout",
     "output_type": "stream",
     "text": [
      "MAPE: 0.09853541189229062\n",
      "Prophet...... Tuning Prophet....\n",
      "Tuning Iteration: 0\n"
     ]
    },
    {
     "name": "stderr",
     "output_type": "stream",
     "text": [
      "INFO:prophet:Disabling yearly seasonality. Run prophet with yearly_seasonality=True to override this.\n"
     ]
    },
    {
     "name": "stdout",
     "output_type": "stream",
     "text": [
      "Tuning Iteration: 1\n"
     ]
    },
    {
     "name": "stderr",
     "output_type": "stream",
     "text": [
      "INFO:prophet:Disabling yearly seasonality. Run prophet with yearly_seasonality=True to override this.\n"
     ]
    },
    {
     "name": "stdout",
     "output_type": "stream",
     "text": [
      "Tuning Iteration: 2\n"
     ]
    },
    {
     "name": "stderr",
     "output_type": "stream",
     "text": [
      "INFO:prophet:Disabling yearly seasonality. Run prophet with yearly_seasonality=True to override this.\n"
     ]
    },
    {
     "name": "stdout",
     "output_type": "stream",
     "text": [
      "Tuning Iteration: 3\n"
     ]
    },
    {
     "name": "stderr",
     "output_type": "stream",
     "text": [
      "INFO:prophet:Disabling yearly seasonality. Run prophet with yearly_seasonality=True to override this.\n"
     ]
    },
    {
     "name": "stdout",
     "output_type": "stream",
     "text": [
      "Tuning Iteration: 4\n"
     ]
    },
    {
     "name": "stderr",
     "output_type": "stream",
     "text": [
      "INFO:prophet:Disabling yearly seasonality. Run prophet with yearly_seasonality=True to override this.\n"
     ]
    },
    {
     "name": "stdout",
     "output_type": "stream",
     "text": [
      "Tuning Iteration: 5\n"
     ]
    },
    {
     "name": "stderr",
     "output_type": "stream",
     "text": [
      "INFO:prophet:Disabling yearly seasonality. Run prophet with yearly_seasonality=True to override this.\n"
     ]
    },
    {
     "name": "stdout",
     "output_type": "stream",
     "text": [
      "Tuning Iteration: 6\n"
     ]
    },
    {
     "name": "stderr",
     "output_type": "stream",
     "text": [
      "INFO:prophet:Disabling yearly seasonality. Run prophet with yearly_seasonality=True to override this.\n"
     ]
    },
    {
     "name": "stdout",
     "output_type": "stream",
     "text": [
      "Tuning Iteration: 7\n",
      "{'seasonality_mode': 'additive', 'n_changepoints': 100, 'changepoint_prior_scale': 0.1}\n",
      "Best MAPE: 0.09533586512356033\n",
      "XGBoost...... MAPE: 0.7717666605472288\n",
      "\n",
      "\n",
      "File: 678_0.pkl\n",
      "Length on load: 26304\n",
      "Length after agg: 1096\n",
      "Dropped N/A cols: 0\n",
      "Length after blank drop: 1096\n",
      "ARIMA Model...... "
     ]
    },
    {
     "name": "stderr",
     "output_type": "stream",
     "text": [
      "INFO:prophet:Disabling yearly seasonality. Run prophet with yearly_seasonality=True to override this.\n"
     ]
    },
    {
     "name": "stdout",
     "output_type": "stream",
     "text": [
      "MAPE: 0.22362389097862592\n",
      "Prophet...... Tuning Prophet....\n",
      "Tuning Iteration: 0\n"
     ]
    },
    {
     "name": "stderr",
     "output_type": "stream",
     "text": [
      "INFO:prophet:Disabling yearly seasonality. Run prophet with yearly_seasonality=True to override this.\n"
     ]
    },
    {
     "name": "stdout",
     "output_type": "stream",
     "text": [
      "Tuning Iteration: 1\n"
     ]
    },
    {
     "name": "stderr",
     "output_type": "stream",
     "text": [
      "INFO:prophet:Disabling yearly seasonality. Run prophet with yearly_seasonality=True to override this.\n"
     ]
    },
    {
     "name": "stdout",
     "output_type": "stream",
     "text": [
      "Tuning Iteration: 2\n"
     ]
    },
    {
     "name": "stderr",
     "output_type": "stream",
     "text": [
      "INFO:prophet:Disabling yearly seasonality. Run prophet with yearly_seasonality=True to override this.\n"
     ]
    },
    {
     "name": "stdout",
     "output_type": "stream",
     "text": [
      "Tuning Iteration: 3\n"
     ]
    },
    {
     "name": "stderr",
     "output_type": "stream",
     "text": [
      "INFO:prophet:Disabling yearly seasonality. Run prophet with yearly_seasonality=True to override this.\n"
     ]
    },
    {
     "name": "stdout",
     "output_type": "stream",
     "text": [
      "Tuning Iteration: 4\n"
     ]
    },
    {
     "name": "stderr",
     "output_type": "stream",
     "text": [
      "INFO:prophet:Disabling yearly seasonality. Run prophet with yearly_seasonality=True to override this.\n"
     ]
    },
    {
     "name": "stdout",
     "output_type": "stream",
     "text": [
      "Tuning Iteration: 5\n"
     ]
    },
    {
     "name": "stderr",
     "output_type": "stream",
     "text": [
      "INFO:prophet:Disabling yearly seasonality. Run prophet with yearly_seasonality=True to override this.\n"
     ]
    },
    {
     "name": "stdout",
     "output_type": "stream",
     "text": [
      "Tuning Iteration: 6\n"
     ]
    },
    {
     "name": "stderr",
     "output_type": "stream",
     "text": [
      "INFO:prophet:Disabling yearly seasonality. Run prophet with yearly_seasonality=True to override this.\n"
     ]
    },
    {
     "name": "stdout",
     "output_type": "stream",
     "text": [
      "Tuning Iteration: 7\n",
      "{'seasonality_mode': 'additive', 'n_changepoints': 100, 'changepoint_prior_scale': 0.1}\n",
      "Best MAPE: 0.06259169892707493\n",
      "XGBoost...... MAPE: 0.4916000764651624\n",
      "\n",
      "\n",
      "File: 684_0.pkl\n",
      "Length on load: 26304\n",
      "Length after agg: 1096\n",
      "Dropped N/A cols: 0\n",
      "Length after blank drop: 1096\n",
      "ARIMA Model...... "
     ]
    },
    {
     "name": "stderr",
     "output_type": "stream",
     "text": [
      "INFO:prophet:Disabling yearly seasonality. Run prophet with yearly_seasonality=True to override this.\n"
     ]
    },
    {
     "name": "stdout",
     "output_type": "stream",
     "text": [
      "MAPE: 0.10782229002661825\n",
      "Prophet...... Tuning Prophet....\n",
      "Tuning Iteration: 0\n"
     ]
    },
    {
     "name": "stderr",
     "output_type": "stream",
     "text": [
      "INFO:prophet:Disabling yearly seasonality. Run prophet with yearly_seasonality=True to override this.\n"
     ]
    },
    {
     "name": "stdout",
     "output_type": "stream",
     "text": [
      "Tuning Iteration: 1\n"
     ]
    },
    {
     "name": "stderr",
     "output_type": "stream",
     "text": [
      "INFO:prophet:Disabling yearly seasonality. Run prophet with yearly_seasonality=True to override this.\n"
     ]
    },
    {
     "name": "stdout",
     "output_type": "stream",
     "text": [
      "Tuning Iteration: 2\n"
     ]
    },
    {
     "name": "stderr",
     "output_type": "stream",
     "text": [
      "INFO:prophet:Disabling yearly seasonality. Run prophet with yearly_seasonality=True to override this.\n"
     ]
    },
    {
     "name": "stdout",
     "output_type": "stream",
     "text": [
      "Tuning Iteration: 3\n"
     ]
    },
    {
     "name": "stderr",
     "output_type": "stream",
     "text": [
      "INFO:prophet:Disabling yearly seasonality. Run prophet with yearly_seasonality=True to override this.\n"
     ]
    },
    {
     "name": "stdout",
     "output_type": "stream",
     "text": [
      "Tuning Iteration: 4\n"
     ]
    },
    {
     "name": "stderr",
     "output_type": "stream",
     "text": [
      "INFO:prophet:Disabling yearly seasonality. Run prophet with yearly_seasonality=True to override this.\n"
     ]
    },
    {
     "name": "stdout",
     "output_type": "stream",
     "text": [
      "Tuning Iteration: 5\n"
     ]
    },
    {
     "name": "stderr",
     "output_type": "stream",
     "text": [
      "INFO:prophet:Disabling yearly seasonality. Run prophet with yearly_seasonality=True to override this.\n"
     ]
    },
    {
     "name": "stdout",
     "output_type": "stream",
     "text": [
      "Tuning Iteration: 6\n"
     ]
    },
    {
     "name": "stderr",
     "output_type": "stream",
     "text": [
      "INFO:prophet:Disabling yearly seasonality. Run prophet with yearly_seasonality=True to override this.\n"
     ]
    },
    {
     "name": "stdout",
     "output_type": "stream",
     "text": [
      "Tuning Iteration: 7\n",
      "{'seasonality_mode': 'additive', 'n_changepoints': 200, 'changepoint_prior_scale': 0.5}\n",
      "Best MAPE: 0.08090110263167209\n",
      "XGBoost...... MAPE: 0.27487808997987184\n",
      "\n",
      "\n",
      "File: 743_0.pkl\n",
      "Length on load: 26304\n",
      "Length after agg: 1096\n",
      "Dropped N/A cols: 0\n",
      "Length after blank drop: 1096\n",
      "ARIMA Model...... "
     ]
    },
    {
     "name": "stderr",
     "output_type": "stream",
     "text": [
      "INFO:prophet:Disabling yearly seasonality. Run prophet with yearly_seasonality=True to override this.\n"
     ]
    },
    {
     "name": "stdout",
     "output_type": "stream",
     "text": [
      "MAPE: 0.26932915373980393\n",
      "Prophet...... Tuning Prophet....\n",
      "Tuning Iteration: 0\n"
     ]
    },
    {
     "name": "stderr",
     "output_type": "stream",
     "text": [
      "INFO:prophet:Disabling yearly seasonality. Run prophet with yearly_seasonality=True to override this.\n"
     ]
    },
    {
     "name": "stdout",
     "output_type": "stream",
     "text": [
      "Tuning Iteration: 1\n"
     ]
    },
    {
     "name": "stderr",
     "output_type": "stream",
     "text": [
      "INFO:prophet:Disabling yearly seasonality. Run prophet with yearly_seasonality=True to override this.\n"
     ]
    },
    {
     "name": "stdout",
     "output_type": "stream",
     "text": [
      "Tuning Iteration: 2\n"
     ]
    },
    {
     "name": "stderr",
     "output_type": "stream",
     "text": [
      "INFO:prophet:Disabling yearly seasonality. Run prophet with yearly_seasonality=True to override this.\n"
     ]
    },
    {
     "name": "stdout",
     "output_type": "stream",
     "text": [
      "Tuning Iteration: 3\n"
     ]
    },
    {
     "name": "stderr",
     "output_type": "stream",
     "text": [
      "INFO:prophet:Disabling yearly seasonality. Run prophet with yearly_seasonality=True to override this.\n"
     ]
    },
    {
     "name": "stdout",
     "output_type": "stream",
     "text": [
      "Tuning Iteration: 4\n"
     ]
    },
    {
     "name": "stderr",
     "output_type": "stream",
     "text": [
      "INFO:prophet:Disabling yearly seasonality. Run prophet with yearly_seasonality=True to override this.\n"
     ]
    },
    {
     "name": "stdout",
     "output_type": "stream",
     "text": [
      "Tuning Iteration: 5\n"
     ]
    },
    {
     "name": "stderr",
     "output_type": "stream",
     "text": [
      "INFO:prophet:Disabling yearly seasonality. Run prophet with yearly_seasonality=True to override this.\n"
     ]
    },
    {
     "name": "stdout",
     "output_type": "stream",
     "text": [
      "Tuning Iteration: 6\n"
     ]
    },
    {
     "name": "stderr",
     "output_type": "stream",
     "text": [
      "INFO:prophet:Disabling yearly seasonality. Run prophet with yearly_seasonality=True to override this.\n"
     ]
    },
    {
     "name": "stdout",
     "output_type": "stream",
     "text": [
      "Tuning Iteration: 7\n",
      "{'seasonality_mode': 'additive', 'n_changepoints': 100, 'changepoint_prior_scale': 0.5}\n",
      "Best MAPE: 0.19417148945187637\n",
      "XGBoost...... MAPE: 0.9607806966517061\n",
      "\n",
      "\n",
      "File: 1034_0.pkl\n",
      "Length on load: 26304\n",
      "Length after agg: 1096\n",
      "Dropped N/A cols: 0\n",
      "Length after blank drop: 1096\n",
      "ARIMA Model...... "
     ]
    },
    {
     "name": "stderr",
     "output_type": "stream",
     "text": [
      "INFO:prophet:Disabling yearly seasonality. Run prophet with yearly_seasonality=True to override this.\n"
     ]
    },
    {
     "name": "stdout",
     "output_type": "stream",
     "text": [
      "MAPE: 0.23444618893682215\n",
      "Prophet...... Tuning Prophet....\n",
      "Tuning Iteration: 0\n"
     ]
    },
    {
     "name": "stderr",
     "output_type": "stream",
     "text": [
      "INFO:prophet:Disabling yearly seasonality. Run prophet with yearly_seasonality=True to override this.\n"
     ]
    },
    {
     "name": "stdout",
     "output_type": "stream",
     "text": [
      "Tuning Iteration: 1\n"
     ]
    },
    {
     "name": "stderr",
     "output_type": "stream",
     "text": [
      "INFO:prophet:Disabling yearly seasonality. Run prophet with yearly_seasonality=True to override this.\n"
     ]
    },
    {
     "name": "stdout",
     "output_type": "stream",
     "text": [
      "Tuning Iteration: 2\n"
     ]
    },
    {
     "name": "stderr",
     "output_type": "stream",
     "text": [
      "INFO:prophet:Disabling yearly seasonality. Run prophet with yearly_seasonality=True to override this.\n"
     ]
    },
    {
     "name": "stdout",
     "output_type": "stream",
     "text": [
      "Tuning Iteration: 3\n"
     ]
    },
    {
     "name": "stderr",
     "output_type": "stream",
     "text": [
      "INFO:prophet:Disabling yearly seasonality. Run prophet with yearly_seasonality=True to override this.\n"
     ]
    },
    {
     "name": "stdout",
     "output_type": "stream",
     "text": [
      "Tuning Iteration: 4\n"
     ]
    },
    {
     "name": "stderr",
     "output_type": "stream",
     "text": [
      "INFO:prophet:Disabling yearly seasonality. Run prophet with yearly_seasonality=True to override this.\n"
     ]
    },
    {
     "name": "stdout",
     "output_type": "stream",
     "text": [
      "Tuning Iteration: 5\n"
     ]
    },
    {
     "name": "stderr",
     "output_type": "stream",
     "text": [
      "INFO:prophet:Disabling yearly seasonality. Run prophet with yearly_seasonality=True to override this.\n"
     ]
    },
    {
     "name": "stdout",
     "output_type": "stream",
     "text": [
      "Tuning Iteration: 6\n"
     ]
    },
    {
     "name": "stderr",
     "output_type": "stream",
     "text": [
      "INFO:prophet:Disabling yearly seasonality. Run prophet with yearly_seasonality=True to override this.\n"
     ]
    },
    {
     "name": "stdout",
     "output_type": "stream",
     "text": [
      "Tuning Iteration: 7\n",
      "{'seasonality_mode': 'additive', 'n_changepoints': 100, 'changepoint_prior_scale': 0.5}\n",
      "Best MAPE: 0.1683395464463893\n",
      "XGBoost...... MAPE: 0.2343029295988412\n",
      "\n",
      "\n",
      "File: 1047_0.pkl\n",
      "Length on load: 26304\n",
      "Length after agg: 1096\n",
      "Dropped N/A cols: 0\n",
      "Length after blank drop: 1096\n",
      "ARIMA Model...... "
     ]
    },
    {
     "name": "stderr",
     "output_type": "stream",
     "text": [
      "INFO:prophet:Disabling yearly seasonality. Run prophet with yearly_seasonality=True to override this.\n"
     ]
    },
    {
     "name": "stdout",
     "output_type": "stream",
     "text": [
      "MAPE: 0.2031469426673622\n",
      "Prophet...... Tuning Prophet....\n",
      "Tuning Iteration: 0\n"
     ]
    },
    {
     "name": "stderr",
     "output_type": "stream",
     "text": [
      "INFO:prophet:Disabling yearly seasonality. Run prophet with yearly_seasonality=True to override this.\n"
     ]
    },
    {
     "name": "stdout",
     "output_type": "stream",
     "text": [
      "Tuning Iteration: 1\n"
     ]
    },
    {
     "name": "stderr",
     "output_type": "stream",
     "text": [
      "INFO:prophet:Disabling yearly seasonality. Run prophet with yearly_seasonality=True to override this.\n"
     ]
    },
    {
     "name": "stdout",
     "output_type": "stream",
     "text": [
      "Tuning Iteration: 2\n"
     ]
    },
    {
     "name": "stderr",
     "output_type": "stream",
     "text": [
      "INFO:prophet:Disabling yearly seasonality. Run prophet with yearly_seasonality=True to override this.\n"
     ]
    },
    {
     "name": "stdout",
     "output_type": "stream",
     "text": [
      "Tuning Iteration: 3\n"
     ]
    },
    {
     "name": "stderr",
     "output_type": "stream",
     "text": [
      "INFO:prophet:Disabling yearly seasonality. Run prophet with yearly_seasonality=True to override this.\n"
     ]
    },
    {
     "name": "stdout",
     "output_type": "stream",
     "text": [
      "Tuning Iteration: 4\n"
     ]
    },
    {
     "name": "stderr",
     "output_type": "stream",
     "text": [
      "INFO:prophet:Disabling yearly seasonality. Run prophet with yearly_seasonality=True to override this.\n"
     ]
    },
    {
     "name": "stdout",
     "output_type": "stream",
     "text": [
      "Tuning Iteration: 5\n"
     ]
    },
    {
     "name": "stderr",
     "output_type": "stream",
     "text": [
      "INFO:prophet:Disabling yearly seasonality. Run prophet with yearly_seasonality=True to override this.\n"
     ]
    },
    {
     "name": "stdout",
     "output_type": "stream",
     "text": [
      "Tuning Iteration: 6\n"
     ]
    },
    {
     "name": "stderr",
     "output_type": "stream",
     "text": [
      "INFO:prophet:Disabling yearly seasonality. Run prophet with yearly_seasonality=True to override this.\n"
     ]
    },
    {
     "name": "stdout",
     "output_type": "stream",
     "text": [
      "Tuning Iteration: 7\n",
      "{'seasonality_mode': 'additive', 'n_changepoints': 200, 'changepoint_prior_scale': 0.5}\n",
      "Best MAPE: 0.1579864936943254\n",
      "XGBoost...... MAPE: 0.19213543002781378\n",
      "\n",
      "\n",
      "File: 1048_0.pkl\n",
      "Length on load: 26304\n",
      "Length after agg: 1096\n",
      "Dropped N/A cols: 0\n",
      "Length after blank drop: 1096\n",
      "ARIMA Model...... "
     ]
    },
    {
     "name": "stderr",
     "output_type": "stream",
     "text": [
      "INFO:prophet:Disabling yearly seasonality. Run prophet with yearly_seasonality=True to override this.\n"
     ]
    },
    {
     "name": "stdout",
     "output_type": "stream",
     "text": [
      "MAPE: 0.18788772176603918\n",
      "Prophet...... Tuning Prophet....\n",
      "Tuning Iteration: 0\n"
     ]
    },
    {
     "name": "stderr",
     "output_type": "stream",
     "text": [
      "INFO:prophet:Disabling yearly seasonality. Run prophet with yearly_seasonality=True to override this.\n"
     ]
    },
    {
     "name": "stdout",
     "output_type": "stream",
     "text": [
      "Tuning Iteration: 1\n"
     ]
    },
    {
     "name": "stderr",
     "output_type": "stream",
     "text": [
      "INFO:prophet:Disabling yearly seasonality. Run prophet with yearly_seasonality=True to override this.\n"
     ]
    },
    {
     "name": "stdout",
     "output_type": "stream",
     "text": [
      "Tuning Iteration: 2\n"
     ]
    },
    {
     "name": "stderr",
     "output_type": "stream",
     "text": [
      "INFO:prophet:Disabling yearly seasonality. Run prophet with yearly_seasonality=True to override this.\n"
     ]
    },
    {
     "name": "stdout",
     "output_type": "stream",
     "text": [
      "Tuning Iteration: 3\n"
     ]
    },
    {
     "name": "stderr",
     "output_type": "stream",
     "text": [
      "INFO:prophet:Disabling yearly seasonality. Run prophet with yearly_seasonality=True to override this.\n"
     ]
    },
    {
     "name": "stdout",
     "output_type": "stream",
     "text": [
      "Tuning Iteration: 4\n"
     ]
    },
    {
     "name": "stderr",
     "output_type": "stream",
     "text": [
      "INFO:prophet:Disabling yearly seasonality. Run prophet with yearly_seasonality=True to override this.\n"
     ]
    },
    {
     "name": "stdout",
     "output_type": "stream",
     "text": [
      "Tuning Iteration: 5\n"
     ]
    },
    {
     "name": "stderr",
     "output_type": "stream",
     "text": [
      "INFO:prophet:Disabling yearly seasonality. Run prophet with yearly_seasonality=True to override this.\n"
     ]
    },
    {
     "name": "stdout",
     "output_type": "stream",
     "text": [
      "Tuning Iteration: 6\n"
     ]
    },
    {
     "name": "stderr",
     "output_type": "stream",
     "text": [
      "INFO:prophet:Disabling yearly seasonality. Run prophet with yearly_seasonality=True to override this.\n"
     ]
    },
    {
     "name": "stdout",
     "output_type": "stream",
     "text": [
      "Tuning Iteration: 7\n",
      "{'seasonality_mode': 'additive', 'n_changepoints': 100, 'changepoint_prior_scale': 0.5}\n",
      "Best MAPE: 0.1736883685525329\n",
      "XGBoost...... MAPE: 0.1884409365017092\n",
      "\n",
      "\n",
      "File: 1073_0.pkl\n",
      "Length on load: 26304\n",
      "Length after agg: 1096\n",
      "Dropped N/A cols: 0\n",
      "Length after blank drop: 1096\n",
      "ARIMA Model...... "
     ]
    },
    {
     "name": "stderr",
     "output_type": "stream",
     "text": [
      "INFO:prophet:Disabling yearly seasonality. Run prophet with yearly_seasonality=True to override this.\n"
     ]
    },
    {
     "name": "stdout",
     "output_type": "stream",
     "text": [
      "MAPE: 0.6534105799184237\n",
      "Prophet...... Tuning Prophet....\n",
      "Tuning Iteration: 0\n"
     ]
    },
    {
     "name": "stderr",
     "output_type": "stream",
     "text": [
      "INFO:prophet:Disabling yearly seasonality. Run prophet with yearly_seasonality=True to override this.\n"
     ]
    },
    {
     "name": "stdout",
     "output_type": "stream",
     "text": [
      "Tuning Iteration: 1\n"
     ]
    },
    {
     "name": "stderr",
     "output_type": "stream",
     "text": [
      "INFO:prophet:Disabling yearly seasonality. Run prophet with yearly_seasonality=True to override this.\n"
     ]
    },
    {
     "name": "stdout",
     "output_type": "stream",
     "text": [
      "Tuning Iteration: 2\n"
     ]
    },
    {
     "name": "stderr",
     "output_type": "stream",
     "text": [
      "INFO:prophet:Disabling yearly seasonality. Run prophet with yearly_seasonality=True to override this.\n"
     ]
    },
    {
     "name": "stdout",
     "output_type": "stream",
     "text": [
      "Tuning Iteration: 3\n"
     ]
    },
    {
     "name": "stderr",
     "output_type": "stream",
     "text": [
      "INFO:prophet:Disabling yearly seasonality. Run prophet with yearly_seasonality=True to override this.\n"
     ]
    },
    {
     "name": "stdout",
     "output_type": "stream",
     "text": [
      "Tuning Iteration: 4\n"
     ]
    },
    {
     "name": "stderr",
     "output_type": "stream",
     "text": [
      "INFO:prophet:Disabling yearly seasonality. Run prophet with yearly_seasonality=True to override this.\n"
     ]
    },
    {
     "name": "stdout",
     "output_type": "stream",
     "text": [
      "Tuning Iteration: 5\n"
     ]
    },
    {
     "name": "stderr",
     "output_type": "stream",
     "text": [
      "INFO:prophet:Disabling yearly seasonality. Run prophet with yearly_seasonality=True to override this.\n"
     ]
    },
    {
     "name": "stdout",
     "output_type": "stream",
     "text": [
      "Tuning Iteration: 6\n"
     ]
    },
    {
     "name": "stderr",
     "output_type": "stream",
     "text": [
      "INFO:prophet:Disabling yearly seasonality. Run prophet with yearly_seasonality=True to override this.\n"
     ]
    },
    {
     "name": "stdout",
     "output_type": "stream",
     "text": [
      "Tuning Iteration: 7\n",
      "{'seasonality_mode': 'multiplicative', 'n_changepoints': 100, 'changepoint_prior_scale': 0.5}\n",
      "Best MAPE: 0.6576740731426416\n",
      "XGBoost...... MAPE: 0.6487205329191725\n",
      "\n",
      "\n",
      "File: 1073_1.pkl\n",
      "Length on load: 26304\n",
      "Length after agg: 1096\n",
      "Dropped N/A cols: 0\n",
      "Length after blank drop: 1096\n",
      "ARIMA Model...... "
     ]
    },
    {
     "name": "stderr",
     "output_type": "stream",
     "text": [
      "INFO:prophet:Disabling yearly seasonality. Run prophet with yearly_seasonality=True to override this.\n"
     ]
    },
    {
     "name": "stdout",
     "output_type": "stream",
     "text": [
      "MAPE: 0.6477819987806155\n",
      "Prophet...... Tuning Prophet....\n",
      "Tuning Iteration: 0\n"
     ]
    },
    {
     "name": "stderr",
     "output_type": "stream",
     "text": [
      "INFO:prophet:Disabling yearly seasonality. Run prophet with yearly_seasonality=True to override this.\n"
     ]
    },
    {
     "name": "stdout",
     "output_type": "stream",
     "text": [
      "Tuning Iteration: 1\n"
     ]
    },
    {
     "name": "stderr",
     "output_type": "stream",
     "text": [
      "INFO:prophet:Disabling yearly seasonality. Run prophet with yearly_seasonality=True to override this.\n"
     ]
    },
    {
     "name": "stdout",
     "output_type": "stream",
     "text": [
      "Tuning Iteration: 2\n"
     ]
    },
    {
     "name": "stderr",
     "output_type": "stream",
     "text": [
      "INFO:prophet:Disabling yearly seasonality. Run prophet with yearly_seasonality=True to override this.\n"
     ]
    },
    {
     "name": "stdout",
     "output_type": "stream",
     "text": [
      "Tuning Iteration: 3\n"
     ]
    },
    {
     "name": "stderr",
     "output_type": "stream",
     "text": [
      "INFO:prophet:Disabling yearly seasonality. Run prophet with yearly_seasonality=True to override this.\n"
     ]
    },
    {
     "name": "stdout",
     "output_type": "stream",
     "text": [
      "Tuning Iteration: 4\n"
     ]
    },
    {
     "name": "stderr",
     "output_type": "stream",
     "text": [
      "INFO:prophet:Disabling yearly seasonality. Run prophet with yearly_seasonality=True to override this.\n"
     ]
    },
    {
     "name": "stdout",
     "output_type": "stream",
     "text": [
      "Tuning Iteration: 5\n"
     ]
    },
    {
     "name": "stderr",
     "output_type": "stream",
     "text": [
      "INFO:prophet:Disabling yearly seasonality. Run prophet with yearly_seasonality=True to override this.\n"
     ]
    },
    {
     "name": "stdout",
     "output_type": "stream",
     "text": [
      "Tuning Iteration: 6\n"
     ]
    },
    {
     "name": "stderr",
     "output_type": "stream",
     "text": [
      "INFO:prophet:Disabling yearly seasonality. Run prophet with yearly_seasonality=True to override this.\n"
     ]
    },
    {
     "name": "stdout",
     "output_type": "stream",
     "text": [
      "Tuning Iteration: 7\n",
      "{'seasonality_mode': 'additive', 'n_changepoints': 100, 'changepoint_prior_scale': 0.1}\n",
      "Best MAPE: 0.5004876404704457\n",
      "XGBoost...... MAPE: 0.36273422533768335\n",
      "\n",
      "\n",
      "File: 1073_2.pkl\n",
      "Length on load: 26304\n",
      "Length after agg: 1096\n",
      "Dropped N/A cols: 0\n",
      "Length after blank drop: 1096\n",
      "ARIMA Model...... "
     ]
    },
    {
     "name": "stderr",
     "output_type": "stream",
     "text": [
      "INFO:prophet:Disabling yearly seasonality. Run prophet with yearly_seasonality=True to override this.\n"
     ]
    },
    {
     "name": "stdout",
     "output_type": "stream",
     "text": [
      "MAPE: 0.240950373230037\n",
      "Prophet...... Tuning Prophet....\n",
      "Tuning Iteration: 0\n"
     ]
    },
    {
     "name": "stderr",
     "output_type": "stream",
     "text": [
      "INFO:prophet:Disabling yearly seasonality. Run prophet with yearly_seasonality=True to override this.\n"
     ]
    },
    {
     "name": "stdout",
     "output_type": "stream",
     "text": [
      "Tuning Iteration: 1\n"
     ]
    },
    {
     "name": "stderr",
     "output_type": "stream",
     "text": [
      "INFO:prophet:Disabling yearly seasonality. Run prophet with yearly_seasonality=True to override this.\n"
     ]
    },
    {
     "name": "stdout",
     "output_type": "stream",
     "text": [
      "Tuning Iteration: 2\n"
     ]
    },
    {
     "name": "stderr",
     "output_type": "stream",
     "text": [
      "INFO:prophet:Disabling yearly seasonality. Run prophet with yearly_seasonality=True to override this.\n"
     ]
    },
    {
     "name": "stdout",
     "output_type": "stream",
     "text": [
      "Tuning Iteration: 3\n"
     ]
    },
    {
     "name": "stderr",
     "output_type": "stream",
     "text": [
      "INFO:prophet:Disabling yearly seasonality. Run prophet with yearly_seasonality=True to override this.\n"
     ]
    },
    {
     "name": "stdout",
     "output_type": "stream",
     "text": [
      "Tuning Iteration: 4\n"
     ]
    },
    {
     "name": "stderr",
     "output_type": "stream",
     "text": [
      "INFO:prophet:Disabling yearly seasonality. Run prophet with yearly_seasonality=True to override this.\n"
     ]
    },
    {
     "name": "stdout",
     "output_type": "stream",
     "text": [
      "Tuning Iteration: 5\n"
     ]
    },
    {
     "name": "stderr",
     "output_type": "stream",
     "text": [
      "INFO:prophet:Disabling yearly seasonality. Run prophet with yearly_seasonality=True to override this.\n"
     ]
    },
    {
     "name": "stdout",
     "output_type": "stream",
     "text": [
      "Tuning Iteration: 6\n"
     ]
    },
    {
     "name": "stderr",
     "output_type": "stream",
     "text": [
      "INFO:prophet:Disabling yearly seasonality. Run prophet with yearly_seasonality=True to override this.\n"
     ]
    },
    {
     "name": "stdout",
     "output_type": "stream",
     "text": [
      "Tuning Iteration: 7\n",
      "{'seasonality_mode': 'additive', 'n_changepoints': 100, 'changepoint_prior_scale': 0.1}\n",
      "Best MAPE: 0.1400051162029826\n",
      "XGBoost...... MAPE: 0.19850864866230233\n",
      "\n",
      "\n",
      "File: 1079_2.pkl\n",
      "Length on load: 26304\n",
      "Length after agg: 1096\n",
      "Dropped N/A cols: 0\n",
      "Length after blank drop: 1096\n",
      "ARIMA Model...... "
     ]
    },
    {
     "name": "stderr",
     "output_type": "stream",
     "text": [
      "INFO:prophet:Disabling yearly seasonality. Run prophet with yearly_seasonality=True to override this.\n"
     ]
    },
    {
     "name": "stdout",
     "output_type": "stream",
     "text": [
      "MAPE: 0.5940751854612804\n",
      "Prophet...... Tuning Prophet....\n",
      "Tuning Iteration: 0\n"
     ]
    },
    {
     "name": "stderr",
     "output_type": "stream",
     "text": [
      "INFO:prophet:Disabling yearly seasonality. Run prophet with yearly_seasonality=True to override this.\n"
     ]
    },
    {
     "name": "stdout",
     "output_type": "stream",
     "text": [
      "Tuning Iteration: 1\n"
     ]
    },
    {
     "name": "stderr",
     "output_type": "stream",
     "text": [
      "INFO:prophet:Disabling yearly seasonality. Run prophet with yearly_seasonality=True to override this.\n"
     ]
    },
    {
     "name": "stdout",
     "output_type": "stream",
     "text": [
      "Tuning Iteration: 2\n"
     ]
    },
    {
     "name": "stderr",
     "output_type": "stream",
     "text": [
      "INFO:prophet:Disabling yearly seasonality. Run prophet with yearly_seasonality=True to override this.\n"
     ]
    },
    {
     "name": "stdout",
     "output_type": "stream",
     "text": [
      "Tuning Iteration: 3\n"
     ]
    },
    {
     "name": "stderr",
     "output_type": "stream",
     "text": [
      "INFO:prophet:Disabling yearly seasonality. Run prophet with yearly_seasonality=True to override this.\n"
     ]
    },
    {
     "name": "stdout",
     "output_type": "stream",
     "text": [
      "Tuning Iteration: 4\n"
     ]
    },
    {
     "name": "stderr",
     "output_type": "stream",
     "text": [
      "INFO:prophet:Disabling yearly seasonality. Run prophet with yearly_seasonality=True to override this.\n"
     ]
    },
    {
     "name": "stdout",
     "output_type": "stream",
     "text": [
      "Tuning Iteration: 5\n"
     ]
    },
    {
     "name": "stderr",
     "output_type": "stream",
     "text": [
      "INFO:prophet:Disabling yearly seasonality. Run prophet with yearly_seasonality=True to override this.\n"
     ]
    },
    {
     "name": "stdout",
     "output_type": "stream",
     "text": [
      "Tuning Iteration: 6\n"
     ]
    },
    {
     "name": "stderr",
     "output_type": "stream",
     "text": [
      "INFO:prophet:Disabling yearly seasonality. Run prophet with yearly_seasonality=True to override this.\n"
     ]
    },
    {
     "name": "stdout",
     "output_type": "stream",
     "text": [
      "Tuning Iteration: 7\n",
      "{'seasonality_mode': 'additive', 'n_changepoints': 100, 'changepoint_prior_scale': 0.1}\n",
      "Best MAPE: 0.2551055262138352\n",
      "XGBoost...... MAPE: 0.33884373596856754\n",
      "\n",
      "\n",
      "File: 1081_0.pkl\n",
      "Length on load: 26304\n",
      "Length after agg: 1096\n",
      "Dropped N/A cols: 0\n",
      "Length after blank drop: 1096\n",
      "ARIMA Model...... "
     ]
    },
    {
     "name": "stderr",
     "output_type": "stream",
     "text": [
      "INFO:prophet:Disabling yearly seasonality. Run prophet with yearly_seasonality=True to override this.\n"
     ]
    },
    {
     "name": "stdout",
     "output_type": "stream",
     "text": [
      "MAPE: 0.13314840586749915\n",
      "Prophet...... Tuning Prophet....\n",
      "Tuning Iteration: 0\n"
     ]
    },
    {
     "name": "stderr",
     "output_type": "stream",
     "text": [
      "INFO:prophet:Disabling yearly seasonality. Run prophet with yearly_seasonality=True to override this.\n"
     ]
    },
    {
     "name": "stdout",
     "output_type": "stream",
     "text": [
      "Tuning Iteration: 1\n"
     ]
    },
    {
     "name": "stderr",
     "output_type": "stream",
     "text": [
      "INFO:prophet:Disabling yearly seasonality. Run prophet with yearly_seasonality=True to override this.\n"
     ]
    },
    {
     "name": "stdout",
     "output_type": "stream",
     "text": [
      "Tuning Iteration: 2\n"
     ]
    },
    {
     "name": "stderr",
     "output_type": "stream",
     "text": [
      "INFO:prophet:Disabling yearly seasonality. Run prophet with yearly_seasonality=True to override this.\n"
     ]
    },
    {
     "name": "stdout",
     "output_type": "stream",
     "text": [
      "Tuning Iteration: 3\n"
     ]
    },
    {
     "name": "stderr",
     "output_type": "stream",
     "text": [
      "INFO:prophet:Disabling yearly seasonality. Run prophet with yearly_seasonality=True to override this.\n"
     ]
    },
    {
     "name": "stdout",
     "output_type": "stream",
     "text": [
      "Tuning Iteration: 4\n"
     ]
    },
    {
     "name": "stderr",
     "output_type": "stream",
     "text": [
      "INFO:prophet:Disabling yearly seasonality. Run prophet with yearly_seasonality=True to override this.\n"
     ]
    },
    {
     "name": "stdout",
     "output_type": "stream",
     "text": [
      "Tuning Iteration: 5\n"
     ]
    },
    {
     "name": "stderr",
     "output_type": "stream",
     "text": [
      "INFO:prophet:Disabling yearly seasonality. Run prophet with yearly_seasonality=True to override this.\n"
     ]
    },
    {
     "name": "stdout",
     "output_type": "stream",
     "text": [
      "Tuning Iteration: 6\n"
     ]
    },
    {
     "name": "stderr",
     "output_type": "stream",
     "text": [
      "INFO:prophet:Disabling yearly seasonality. Run prophet with yearly_seasonality=True to override this.\n"
     ]
    },
    {
     "name": "stdout",
     "output_type": "stream",
     "text": [
      "Tuning Iteration: 7\n",
      "{'seasonality_mode': 'additive', 'n_changepoints': 100, 'changepoint_prior_scale': 0.5}\n",
      "Best MAPE: 0.16421479036854023\n",
      "XGBoost...... MAPE: 0.15898017633342065\n",
      "\n",
      "\n",
      "File: 1099_2.pkl\n",
      "Length on load: 26304\n",
      "Length after agg: 1096\n",
      "Dropped N/A cols: 0\n",
      "Length after blank drop: 1096\n",
      "ARIMA Model...... "
     ]
    },
    {
     "name": "stderr",
     "output_type": "stream",
     "text": [
      "INFO:prophet:Disabling yearly seasonality. Run prophet with yearly_seasonality=True to override this.\n"
     ]
    },
    {
     "name": "stdout",
     "output_type": "stream",
     "text": [
      "MAPE: 1.0022249646338068\n",
      "Prophet...... Tuning Prophet....\n",
      "Tuning Iteration: 0\n"
     ]
    },
    {
     "name": "stderr",
     "output_type": "stream",
     "text": [
      "INFO:prophet:Disabling yearly seasonality. Run prophet with yearly_seasonality=True to override this.\n"
     ]
    },
    {
     "name": "stdout",
     "output_type": "stream",
     "text": [
      "Tuning Iteration: 1\n"
     ]
    },
    {
     "name": "stderr",
     "output_type": "stream",
     "text": [
      "INFO:prophet:Disabling yearly seasonality. Run prophet with yearly_seasonality=True to override this.\n"
     ]
    },
    {
     "name": "stdout",
     "output_type": "stream",
     "text": [
      "Tuning Iteration: 2\n"
     ]
    },
    {
     "name": "stderr",
     "output_type": "stream",
     "text": [
      "INFO:prophet:Disabling yearly seasonality. Run prophet with yearly_seasonality=True to override this.\n"
     ]
    },
    {
     "name": "stdout",
     "output_type": "stream",
     "text": [
      "Tuning Iteration: 3\n"
     ]
    },
    {
     "name": "stderr",
     "output_type": "stream",
     "text": [
      "INFO:prophet:Disabling yearly seasonality. Run prophet with yearly_seasonality=True to override this.\n"
     ]
    },
    {
     "name": "stdout",
     "output_type": "stream",
     "text": [
      "Tuning Iteration: 4\n"
     ]
    },
    {
     "name": "stderr",
     "output_type": "stream",
     "text": [
      "INFO:prophet:Disabling yearly seasonality. Run prophet with yearly_seasonality=True to override this.\n"
     ]
    },
    {
     "name": "stdout",
     "output_type": "stream",
     "text": [
      "Tuning Iteration: 5\n"
     ]
    },
    {
     "name": "stderr",
     "output_type": "stream",
     "text": [
      "INFO:prophet:Disabling yearly seasonality. Run prophet with yearly_seasonality=True to override this.\n"
     ]
    },
    {
     "name": "stdout",
     "output_type": "stream",
     "text": [
      "Tuning Iteration: 6\n"
     ]
    },
    {
     "name": "stderr",
     "output_type": "stream",
     "text": [
      "INFO:prophet:Disabling yearly seasonality. Run prophet with yearly_seasonality=True to override this.\n"
     ]
    },
    {
     "name": "stdout",
     "output_type": "stream",
     "text": [
      "Tuning Iteration: 7\n",
      "{'seasonality_mode': 'multiplicative', 'n_changepoints': 200, 'changepoint_prior_scale': 0.1}\n",
      "Best MAPE: 0.9328771034537683\n",
      "XGBoost...... MAPE: 0.9910072248597916\n",
      "\n",
      "\n",
      "File: 1105_0.pkl\n",
      "Length on load: 26304\n",
      "Length after agg: 1096\n",
      "Dropped N/A cols: 0\n",
      "Length after blank drop: 1096\n",
      "ARIMA Model...... "
     ]
    },
    {
     "name": "stderr",
     "output_type": "stream",
     "text": [
      "INFO:prophet:Disabling yearly seasonality. Run prophet with yearly_seasonality=True to override this.\n"
     ]
    },
    {
     "name": "stdout",
     "output_type": "stream",
     "text": [
      "MAPE: 0.3821463803134191\n",
      "Prophet...... Tuning Prophet....\n",
      "Tuning Iteration: 0\n"
     ]
    },
    {
     "name": "stderr",
     "output_type": "stream",
     "text": [
      "INFO:prophet:Disabling yearly seasonality. Run prophet with yearly_seasonality=True to override this.\n"
     ]
    },
    {
     "name": "stdout",
     "output_type": "stream",
     "text": [
      "Tuning Iteration: 1\n"
     ]
    },
    {
     "name": "stderr",
     "output_type": "stream",
     "text": [
      "INFO:prophet:Disabling yearly seasonality. Run prophet with yearly_seasonality=True to override this.\n"
     ]
    },
    {
     "name": "stdout",
     "output_type": "stream",
     "text": [
      "Tuning Iteration: 2\n"
     ]
    },
    {
     "name": "stderr",
     "output_type": "stream",
     "text": [
      "INFO:prophet:Disabling yearly seasonality. Run prophet with yearly_seasonality=True to override this.\n"
     ]
    },
    {
     "name": "stdout",
     "output_type": "stream",
     "text": [
      "Tuning Iteration: 3\n"
     ]
    },
    {
     "name": "stderr",
     "output_type": "stream",
     "text": [
      "INFO:prophet:Disabling yearly seasonality. Run prophet with yearly_seasonality=True to override this.\n"
     ]
    },
    {
     "name": "stdout",
     "output_type": "stream",
     "text": [
      "Tuning Iteration: 4\n"
     ]
    },
    {
     "name": "stderr",
     "output_type": "stream",
     "text": [
      "INFO:prophet:Disabling yearly seasonality. Run prophet with yearly_seasonality=True to override this.\n"
     ]
    },
    {
     "name": "stdout",
     "output_type": "stream",
     "text": [
      "Tuning Iteration: 5\n"
     ]
    },
    {
     "name": "stderr",
     "output_type": "stream",
     "text": [
      "INFO:prophet:Disabling yearly seasonality. Run prophet with yearly_seasonality=True to override this.\n"
     ]
    },
    {
     "name": "stdout",
     "output_type": "stream",
     "text": [
      "Tuning Iteration: 6\n"
     ]
    },
    {
     "name": "stderr",
     "output_type": "stream",
     "text": [
      "INFO:prophet:Disabling yearly seasonality. Run prophet with yearly_seasonality=True to override this.\n"
     ]
    },
    {
     "name": "stdout",
     "output_type": "stream",
     "text": [
      "Tuning Iteration: 7\n",
      "{'seasonality_mode': 'additive', 'n_changepoints': 200, 'changepoint_prior_scale': 0.1}\n",
      "Best MAPE: 0.09834930843387782\n",
      "XGBoost...... MAPE: 0.06800403911043376\n",
      "\n",
      "\n",
      "File: 1105_2.pkl\n",
      "Length on load: 26304\n",
      "Length after agg: 1096\n",
      "Dropped N/A cols: 0\n",
      "Length after blank drop: 1096\n",
      "ARIMA Model...... "
     ]
    },
    {
     "name": "stderr",
     "output_type": "stream",
     "text": [
      "INFO:prophet:Disabling yearly seasonality. Run prophet with yearly_seasonality=True to override this.\n"
     ]
    },
    {
     "name": "stdout",
     "output_type": "stream",
     "text": [
      "MAPE: 4.045716361772662\n",
      "Prophet...... Tuning Prophet....\n",
      "Tuning Iteration: 0\n"
     ]
    },
    {
     "name": "stderr",
     "output_type": "stream",
     "text": [
      "INFO:prophet:Disabling yearly seasonality. Run prophet with yearly_seasonality=True to override this.\n"
     ]
    },
    {
     "name": "stdout",
     "output_type": "stream",
     "text": [
      "Tuning Iteration: 1\n"
     ]
    },
    {
     "name": "stderr",
     "output_type": "stream",
     "text": [
      "INFO:prophet:Disabling yearly seasonality. Run prophet with yearly_seasonality=True to override this.\n"
     ]
    },
    {
     "name": "stdout",
     "output_type": "stream",
     "text": [
      "Tuning Iteration: 2\n"
     ]
    },
    {
     "name": "stderr",
     "output_type": "stream",
     "text": [
      "INFO:prophet:Disabling yearly seasonality. Run prophet with yearly_seasonality=True to override this.\n"
     ]
    },
    {
     "name": "stdout",
     "output_type": "stream",
     "text": [
      "Tuning Iteration: 3\n"
     ]
    },
    {
     "name": "stderr",
     "output_type": "stream",
     "text": [
      "INFO:prophet:Disabling yearly seasonality. Run prophet with yearly_seasonality=True to override this.\n"
     ]
    },
    {
     "name": "stdout",
     "output_type": "stream",
     "text": [
      "Tuning Iteration: 4\n"
     ]
    },
    {
     "name": "stderr",
     "output_type": "stream",
     "text": [
      "INFO:prophet:Disabling yearly seasonality. Run prophet with yearly_seasonality=True to override this.\n"
     ]
    },
    {
     "name": "stdout",
     "output_type": "stream",
     "text": [
      "Tuning Iteration: 5\n"
     ]
    },
    {
     "name": "stderr",
     "output_type": "stream",
     "text": [
      "INFO:prophet:Disabling yearly seasonality. Run prophet with yearly_seasonality=True to override this.\n"
     ]
    },
    {
     "name": "stdout",
     "output_type": "stream",
     "text": [
      "Tuning Iteration: 6\n"
     ]
    },
    {
     "name": "stderr",
     "output_type": "stream",
     "text": [
      "INFO:prophet:Disabling yearly seasonality. Run prophet with yearly_seasonality=True to override this.\n"
     ]
    },
    {
     "name": "stdout",
     "output_type": "stream",
     "text": [
      "Tuning Iteration: 7\n",
      "{'seasonality_mode': 'additive', 'n_changepoints': 200, 'changepoint_prior_scale': 0.1}\n",
      "Best MAPE: 2.8329882065676895\n",
      "XGBoost...... MAPE: 3.623149367054042\n",
      "\n",
      "\n",
      "File: 1108_0.pkl\n",
      "Length on load: 26304\n",
      "Length after agg: 1096\n",
      "Dropped N/A cols: 0\n",
      "Length after blank drop: 1096\n",
      "ARIMA Model...... "
     ]
    },
    {
     "name": "stderr",
     "output_type": "stream",
     "text": [
      "INFO:prophet:Disabling yearly seasonality. Run prophet with yearly_seasonality=True to override this.\n"
     ]
    },
    {
     "name": "stdout",
     "output_type": "stream",
     "text": [
      "MAPE: 1.239063272427604\n",
      "Prophet...... Tuning Prophet....\n",
      "Tuning Iteration: 0\n"
     ]
    },
    {
     "name": "stderr",
     "output_type": "stream",
     "text": [
      "INFO:prophet:Disabling yearly seasonality. Run prophet with yearly_seasonality=True to override this.\n"
     ]
    },
    {
     "name": "stdout",
     "output_type": "stream",
     "text": [
      "Tuning Iteration: 1\n"
     ]
    },
    {
     "name": "stderr",
     "output_type": "stream",
     "text": [
      "INFO:prophet:Disabling yearly seasonality. Run prophet with yearly_seasonality=True to override this.\n"
     ]
    },
    {
     "name": "stdout",
     "output_type": "stream",
     "text": [
      "Tuning Iteration: 2\n"
     ]
    },
    {
     "name": "stderr",
     "output_type": "stream",
     "text": [
      "INFO:prophet:Disabling yearly seasonality. Run prophet with yearly_seasonality=True to override this.\n"
     ]
    },
    {
     "name": "stdout",
     "output_type": "stream",
     "text": [
      "Tuning Iteration: 3\n"
     ]
    },
    {
     "name": "stderr",
     "output_type": "stream",
     "text": [
      "INFO:prophet:Disabling yearly seasonality. Run prophet with yearly_seasonality=True to override this.\n"
     ]
    },
    {
     "name": "stdout",
     "output_type": "stream",
     "text": [
      "Tuning Iteration: 4\n"
     ]
    },
    {
     "name": "stderr",
     "output_type": "stream",
     "text": [
      "INFO:prophet:Disabling yearly seasonality. Run prophet with yearly_seasonality=True to override this.\n"
     ]
    },
    {
     "name": "stdout",
     "output_type": "stream",
     "text": [
      "Tuning Iteration: 5\n"
     ]
    },
    {
     "name": "stderr",
     "output_type": "stream",
     "text": [
      "INFO:prophet:Disabling yearly seasonality. Run prophet with yearly_seasonality=True to override this.\n"
     ]
    },
    {
     "name": "stdout",
     "output_type": "stream",
     "text": [
      "Tuning Iteration: 6\n"
     ]
    },
    {
     "name": "stderr",
     "output_type": "stream",
     "text": [
      "INFO:prophet:Disabling yearly seasonality. Run prophet with yearly_seasonality=True to override this.\n"
     ]
    },
    {
     "name": "stdout",
     "output_type": "stream",
     "text": [
      "Tuning Iteration: 7\n",
      "{'seasonality_mode': 'additive', 'n_changepoints': 200, 'changepoint_prior_scale': 0.1}\n",
      "Best MAPE: 0.12239300736545826\n",
      "XGBoost...... MAPE: 0.28570295214939856\n",
      "\n",
      "\n",
      "File: 1109_2.pkl\n",
      "Length on load: 26304\n",
      "Length after agg: 1096\n",
      "Dropped N/A cols: 0\n",
      "Length after blank drop: 1096\n",
      "ARIMA Model...... "
     ]
    },
    {
     "name": "stderr",
     "output_type": "stream",
     "text": [
      "INFO:prophet:Disabling yearly seasonality. Run prophet with yearly_seasonality=True to override this.\n"
     ]
    },
    {
     "name": "stdout",
     "output_type": "stream",
     "text": [
      "MAPE: 0.22903477591298146\n",
      "Prophet...... Tuning Prophet....\n",
      "Tuning Iteration: 0\n"
     ]
    },
    {
     "name": "stderr",
     "output_type": "stream",
     "text": [
      "INFO:prophet:Disabling yearly seasonality. Run prophet with yearly_seasonality=True to override this.\n"
     ]
    },
    {
     "name": "stdout",
     "output_type": "stream",
     "text": [
      "Tuning Iteration: 1\n"
     ]
    },
    {
     "name": "stderr",
     "output_type": "stream",
     "text": [
      "INFO:prophet:Disabling yearly seasonality. Run prophet with yearly_seasonality=True to override this.\n"
     ]
    },
    {
     "name": "stdout",
     "output_type": "stream",
     "text": [
      "Tuning Iteration: 2\n"
     ]
    },
    {
     "name": "stderr",
     "output_type": "stream",
     "text": [
      "INFO:prophet:Disabling yearly seasonality. Run prophet with yearly_seasonality=True to override this.\n"
     ]
    },
    {
     "name": "stdout",
     "output_type": "stream",
     "text": [
      "Tuning Iteration: 3\n"
     ]
    },
    {
     "name": "stderr",
     "output_type": "stream",
     "text": [
      "INFO:prophet:Disabling yearly seasonality. Run prophet with yearly_seasonality=True to override this.\n"
     ]
    },
    {
     "name": "stdout",
     "output_type": "stream",
     "text": [
      "Tuning Iteration: 4\n"
     ]
    },
    {
     "name": "stderr",
     "output_type": "stream",
     "text": [
      "INFO:prophet:Disabling yearly seasonality. Run prophet with yearly_seasonality=True to override this.\n"
     ]
    },
    {
     "name": "stdout",
     "output_type": "stream",
     "text": [
      "Tuning Iteration: 5\n"
     ]
    },
    {
     "name": "stderr",
     "output_type": "stream",
     "text": [
      "INFO:prophet:Disabling yearly seasonality. Run prophet with yearly_seasonality=True to override this.\n"
     ]
    },
    {
     "name": "stdout",
     "output_type": "stream",
     "text": [
      "Tuning Iteration: 6\n"
     ]
    },
    {
     "name": "stderr",
     "output_type": "stream",
     "text": [
      "INFO:prophet:Disabling yearly seasonality. Run prophet with yearly_seasonality=True to override this.\n"
     ]
    },
    {
     "name": "stdout",
     "output_type": "stream",
     "text": [
      "Tuning Iteration: 7\n",
      "{'seasonality_mode': 'additive', 'n_changepoints': 100, 'changepoint_prior_scale': 0.1}\n",
      "Best MAPE: 0.0927632040768453\n",
      "XGBoost...... MAPE: 0.1725954331948042\n",
      "\n",
      "\n",
      "File: 1118_0.pkl\n",
      "Length on load: 26304\n",
      "Length after agg: 1096\n",
      "Dropped N/A cols: 0\n",
      "Length after blank drop: 1096\n",
      "ARIMA Model...... "
     ]
    },
    {
     "name": "stderr",
     "output_type": "stream",
     "text": [
      "INFO:prophet:Disabling yearly seasonality. Run prophet with yearly_seasonality=True to override this.\n"
     ]
    },
    {
     "name": "stdout",
     "output_type": "stream",
     "text": [
      "MAPE: 0.0624877460401697\n",
      "Prophet...... Tuning Prophet....\n",
      "Tuning Iteration: 0\n"
     ]
    },
    {
     "name": "stderr",
     "output_type": "stream",
     "text": [
      "INFO:prophet:Disabling yearly seasonality. Run prophet with yearly_seasonality=True to override this.\n"
     ]
    },
    {
     "name": "stdout",
     "output_type": "stream",
     "text": [
      "Tuning Iteration: 1\n"
     ]
    },
    {
     "name": "stderr",
     "output_type": "stream",
     "text": [
      "INFO:prophet:Disabling yearly seasonality. Run prophet with yearly_seasonality=True to override this.\n"
     ]
    },
    {
     "name": "stdout",
     "output_type": "stream",
     "text": [
      "Tuning Iteration: 2\n"
     ]
    },
    {
     "name": "stderr",
     "output_type": "stream",
     "text": [
      "INFO:prophet:Disabling yearly seasonality. Run prophet with yearly_seasonality=True to override this.\n"
     ]
    },
    {
     "name": "stdout",
     "output_type": "stream",
     "text": [
      "Tuning Iteration: 3\n"
     ]
    },
    {
     "name": "stderr",
     "output_type": "stream",
     "text": [
      "INFO:prophet:Disabling yearly seasonality. Run prophet with yearly_seasonality=True to override this.\n"
     ]
    },
    {
     "name": "stdout",
     "output_type": "stream",
     "text": [
      "Tuning Iteration: 4\n"
     ]
    },
    {
     "name": "stderr",
     "output_type": "stream",
     "text": [
      "INFO:prophet:Disabling yearly seasonality. Run prophet with yearly_seasonality=True to override this.\n"
     ]
    },
    {
     "name": "stdout",
     "output_type": "stream",
     "text": [
      "Tuning Iteration: 5\n"
     ]
    },
    {
     "name": "stderr",
     "output_type": "stream",
     "text": [
      "INFO:prophet:Disabling yearly seasonality. Run prophet with yearly_seasonality=True to override this.\n"
     ]
    },
    {
     "name": "stdout",
     "output_type": "stream",
     "text": [
      "Tuning Iteration: 6\n"
     ]
    },
    {
     "name": "stderr",
     "output_type": "stream",
     "text": [
      "INFO:prophet:Disabling yearly seasonality. Run prophet with yearly_seasonality=True to override this.\n"
     ]
    },
    {
     "name": "stdout",
     "output_type": "stream",
     "text": [
      "Tuning Iteration: 7\n",
      "{'seasonality_mode': 'multiplicative', 'n_changepoints': 200, 'changepoint_prior_scale': 0.5}\n",
      "Best MAPE: 0.0817285596659947\n",
      "XGBoost...... MAPE: 0.07550597186265684\n",
      "\n",
      "\n",
      "File: 1124_0.pkl\n",
      "Length on load: 26304\n",
      "Length after agg: 1096\n",
      "Dropped N/A cols: 0\n",
      "Length after blank drop: 1096\n",
      "ARIMA Model...... "
     ]
    },
    {
     "name": "stderr",
     "output_type": "stream",
     "text": [
      "INFO:prophet:Disabling yearly seasonality. Run prophet with yearly_seasonality=True to override this.\n"
     ]
    },
    {
     "name": "stdout",
     "output_type": "stream",
     "text": [
      "MAPE: 0.15072325022884372\n",
      "Prophet...... Tuning Prophet....\n",
      "Tuning Iteration: 0\n"
     ]
    },
    {
     "name": "stderr",
     "output_type": "stream",
     "text": [
      "INFO:prophet:Disabling yearly seasonality. Run prophet with yearly_seasonality=True to override this.\n"
     ]
    },
    {
     "name": "stdout",
     "output_type": "stream",
     "text": [
      "Tuning Iteration: 1\n"
     ]
    },
    {
     "name": "stderr",
     "output_type": "stream",
     "text": [
      "INFO:prophet:Disabling yearly seasonality. Run prophet with yearly_seasonality=True to override this.\n"
     ]
    },
    {
     "name": "stdout",
     "output_type": "stream",
     "text": [
      "Tuning Iteration: 2\n"
     ]
    },
    {
     "name": "stderr",
     "output_type": "stream",
     "text": [
      "INFO:prophet:Disabling yearly seasonality. Run prophet with yearly_seasonality=True to override this.\n"
     ]
    },
    {
     "name": "stdout",
     "output_type": "stream",
     "text": [
      "Tuning Iteration: 3\n"
     ]
    },
    {
     "name": "stderr",
     "output_type": "stream",
     "text": [
      "INFO:prophet:Disabling yearly seasonality. Run prophet with yearly_seasonality=True to override this.\n"
     ]
    },
    {
     "name": "stdout",
     "output_type": "stream",
     "text": [
      "Tuning Iteration: 4\n"
     ]
    },
    {
     "name": "stderr",
     "output_type": "stream",
     "text": [
      "INFO:prophet:Disabling yearly seasonality. Run prophet with yearly_seasonality=True to override this.\n"
     ]
    },
    {
     "name": "stdout",
     "output_type": "stream",
     "text": [
      "Tuning Iteration: 5\n"
     ]
    },
    {
     "name": "stderr",
     "output_type": "stream",
     "text": [
      "INFO:prophet:Disabling yearly seasonality. Run prophet with yearly_seasonality=True to override this.\n"
     ]
    },
    {
     "name": "stdout",
     "output_type": "stream",
     "text": [
      "Tuning Iteration: 6\n"
     ]
    },
    {
     "name": "stderr",
     "output_type": "stream",
     "text": [
      "INFO:prophet:Disabling yearly seasonality. Run prophet with yearly_seasonality=True to override this.\n"
     ]
    },
    {
     "name": "stdout",
     "output_type": "stream",
     "text": [
      "Tuning Iteration: 7\n",
      "{'seasonality_mode': 'multiplicative', 'n_changepoints': 100, 'changepoint_prior_scale': 0.5}\n",
      "Best MAPE: 0.21652754553048248\n",
      "XGBoost...... MAPE: 0.18326812721298866\n",
      "\n",
      "\n",
      "File: 1130_0.pkl\n",
      "Length on load: 26304\n",
      "Length after agg: 1096\n",
      "Dropped N/A cols: 0\n",
      "Length after blank drop: 1096\n",
      "ARIMA Model...... "
     ]
    },
    {
     "name": "stderr",
     "output_type": "stream",
     "text": [
      "INFO:prophet:Disabling yearly seasonality. Run prophet with yearly_seasonality=True to override this.\n"
     ]
    },
    {
     "name": "stdout",
     "output_type": "stream",
     "text": [
      "MAPE: 0.3884931355546504\n",
      "Prophet...... Tuning Prophet....\n",
      "Tuning Iteration: 0\n"
     ]
    },
    {
     "name": "stderr",
     "output_type": "stream",
     "text": [
      "INFO:prophet:Disabling yearly seasonality. Run prophet with yearly_seasonality=True to override this.\n"
     ]
    },
    {
     "name": "stdout",
     "output_type": "stream",
     "text": [
      "Tuning Iteration: 1\n"
     ]
    },
    {
     "name": "stderr",
     "output_type": "stream",
     "text": [
      "INFO:prophet:Disabling yearly seasonality. Run prophet with yearly_seasonality=True to override this.\n"
     ]
    },
    {
     "name": "stdout",
     "output_type": "stream",
     "text": [
      "Tuning Iteration: 2\n"
     ]
    },
    {
     "name": "stderr",
     "output_type": "stream",
     "text": [
      "INFO:prophet:Disabling yearly seasonality. Run prophet with yearly_seasonality=True to override this.\n"
     ]
    },
    {
     "name": "stdout",
     "output_type": "stream",
     "text": [
      "Tuning Iteration: 3\n"
     ]
    },
    {
     "name": "stderr",
     "output_type": "stream",
     "text": [
      "INFO:prophet:Disabling yearly seasonality. Run prophet with yearly_seasonality=True to override this.\n"
     ]
    },
    {
     "name": "stdout",
     "output_type": "stream",
     "text": [
      "Tuning Iteration: 4\n"
     ]
    },
    {
     "name": "stderr",
     "output_type": "stream",
     "text": [
      "INFO:prophet:Disabling yearly seasonality. Run prophet with yearly_seasonality=True to override this.\n"
     ]
    },
    {
     "name": "stdout",
     "output_type": "stream",
     "text": [
      "Tuning Iteration: 5\n"
     ]
    },
    {
     "name": "stderr",
     "output_type": "stream",
     "text": [
      "INFO:prophet:Disabling yearly seasonality. Run prophet with yearly_seasonality=True to override this.\n"
     ]
    },
    {
     "name": "stdout",
     "output_type": "stream",
     "text": [
      "Tuning Iteration: 6\n"
     ]
    },
    {
     "name": "stderr",
     "output_type": "stream",
     "text": [
      "INFO:prophet:Disabling yearly seasonality. Run prophet with yearly_seasonality=True to override this.\n"
     ]
    },
    {
     "name": "stdout",
     "output_type": "stream",
     "text": [
      "Tuning Iteration: 7\n",
      "{'seasonality_mode': 'additive', 'n_changepoints': 200, 'changepoint_prior_scale': 0.1}\n",
      "Best MAPE: 0.11981669927157063\n",
      "XGBoost...... MAPE: 0.10802878672511385\n",
      "\n",
      "\n",
      "File: 1133_2.pkl\n",
      "Length on load: 26304\n",
      "Length after agg: 1096\n",
      "Dropped N/A cols: 0\n",
      "Length after blank drop: 1096\n",
      "ARIMA Model...... "
     ]
    },
    {
     "name": "stderr",
     "output_type": "stream",
     "text": [
      "INFO:prophet:Disabling yearly seasonality. Run prophet with yearly_seasonality=True to override this.\n"
     ]
    },
    {
     "name": "stdout",
     "output_type": "stream",
     "text": [
      "MAPE: 1.316464278053297\n",
      "Prophet...... Tuning Prophet....\n",
      "Tuning Iteration: 0\n"
     ]
    },
    {
     "name": "stderr",
     "output_type": "stream",
     "text": [
      "INFO:prophet:Disabling yearly seasonality. Run prophet with yearly_seasonality=True to override this.\n"
     ]
    },
    {
     "name": "stdout",
     "output_type": "stream",
     "text": [
      "Tuning Iteration: 1\n"
     ]
    },
    {
     "name": "stderr",
     "output_type": "stream",
     "text": [
      "INFO:prophet:Disabling yearly seasonality. Run prophet with yearly_seasonality=True to override this.\n"
     ]
    },
    {
     "name": "stdout",
     "output_type": "stream",
     "text": [
      "Tuning Iteration: 2\n"
     ]
    },
    {
     "name": "stderr",
     "output_type": "stream",
     "text": [
      "INFO:prophet:Disabling yearly seasonality. Run prophet with yearly_seasonality=True to override this.\n"
     ]
    },
    {
     "name": "stdout",
     "output_type": "stream",
     "text": [
      "Tuning Iteration: 3\n"
     ]
    },
    {
     "name": "stderr",
     "output_type": "stream",
     "text": [
      "INFO:prophet:Disabling yearly seasonality. Run prophet with yearly_seasonality=True to override this.\n"
     ]
    },
    {
     "name": "stdout",
     "output_type": "stream",
     "text": [
      "Tuning Iteration: 4\n"
     ]
    },
    {
     "name": "stderr",
     "output_type": "stream",
     "text": [
      "INFO:prophet:Disabling yearly seasonality. Run prophet with yearly_seasonality=True to override this.\n"
     ]
    },
    {
     "name": "stdout",
     "output_type": "stream",
     "text": [
      "Tuning Iteration: 5\n"
     ]
    },
    {
     "name": "stderr",
     "output_type": "stream",
     "text": [
      "INFO:prophet:Disabling yearly seasonality. Run prophet with yearly_seasonality=True to override this.\n"
     ]
    },
    {
     "name": "stdout",
     "output_type": "stream",
     "text": [
      "Tuning Iteration: 6\n"
     ]
    },
    {
     "name": "stderr",
     "output_type": "stream",
     "text": [
      "INFO:prophet:Disabling yearly seasonality. Run prophet with yearly_seasonality=True to override this.\n"
     ]
    },
    {
     "name": "stdout",
     "output_type": "stream",
     "text": [
      "Tuning Iteration: 7\n",
      "{'seasonality_mode': 'additive', 'n_changepoints': 200, 'changepoint_prior_scale': 0.1}\n",
      "Best MAPE: 0.11719268020241434\n",
      "XGBoost...... MAPE: 0.13209736276691975\n",
      "\n",
      "\n",
      "File: 1138_0.pkl\n",
      "Length on load: 26304\n",
      "Length after agg: 1096\n",
      "Dropped N/A cols: 0\n",
      "Length after blank drop: 1096\n",
      "ARIMA Model...... "
     ]
    },
    {
     "name": "stderr",
     "output_type": "stream",
     "text": [
      "INFO:prophet:Disabling yearly seasonality. Run prophet with yearly_seasonality=True to override this.\n"
     ]
    },
    {
     "name": "stdout",
     "output_type": "stream",
     "text": [
      "MAPE: 0.26997982170042056\n",
      "Prophet...... Tuning Prophet....\n",
      "Tuning Iteration: 0\n"
     ]
    },
    {
     "name": "stderr",
     "output_type": "stream",
     "text": [
      "INFO:prophet:Disabling yearly seasonality. Run prophet with yearly_seasonality=True to override this.\n"
     ]
    },
    {
     "name": "stdout",
     "output_type": "stream",
     "text": [
      "Tuning Iteration: 1\n"
     ]
    },
    {
     "name": "stderr",
     "output_type": "stream",
     "text": [
      "INFO:prophet:Disabling yearly seasonality. Run prophet with yearly_seasonality=True to override this.\n"
     ]
    },
    {
     "name": "stdout",
     "output_type": "stream",
     "text": [
      "Tuning Iteration: 2\n"
     ]
    },
    {
     "name": "stderr",
     "output_type": "stream",
     "text": [
      "INFO:prophet:Disabling yearly seasonality. Run prophet with yearly_seasonality=True to override this.\n"
     ]
    },
    {
     "name": "stdout",
     "output_type": "stream",
     "text": [
      "Tuning Iteration: 3\n"
     ]
    },
    {
     "name": "stderr",
     "output_type": "stream",
     "text": [
      "INFO:prophet:Disabling yearly seasonality. Run prophet with yearly_seasonality=True to override this.\n"
     ]
    },
    {
     "name": "stdout",
     "output_type": "stream",
     "text": [
      "Tuning Iteration: 4\n"
     ]
    },
    {
     "name": "stderr",
     "output_type": "stream",
     "text": [
      "INFO:prophet:Disabling yearly seasonality. Run prophet with yearly_seasonality=True to override this.\n"
     ]
    },
    {
     "name": "stdout",
     "output_type": "stream",
     "text": [
      "Tuning Iteration: 5\n"
     ]
    },
    {
     "name": "stderr",
     "output_type": "stream",
     "text": [
      "INFO:prophet:Disabling yearly seasonality. Run prophet with yearly_seasonality=True to override this.\n"
     ]
    },
    {
     "name": "stdout",
     "output_type": "stream",
     "text": [
      "Tuning Iteration: 6\n"
     ]
    },
    {
     "name": "stderr",
     "output_type": "stream",
     "text": [
      "INFO:prophet:Disabling yearly seasonality. Run prophet with yearly_seasonality=True to override this.\n"
     ]
    },
    {
     "name": "stdout",
     "output_type": "stream",
     "text": [
      "Tuning Iteration: 7\n",
      "{'seasonality_mode': 'additive', 'n_changepoints': 200, 'changepoint_prior_scale': 0.1}\n",
      "Best MAPE: 0.10475305380466074\n",
      "XGBoost...... MAPE: 0.13180788000977817\n",
      "\n",
      "\n",
      "File: 1140_1.pkl\n",
      "Length on load: 26304\n",
      "Length after agg: 1096\n",
      "Dropped N/A cols: 0\n",
      "Length after blank drop: 1096\n",
      "ARIMA Model...... "
     ]
    },
    {
     "name": "stderr",
     "output_type": "stream",
     "text": [
      "INFO:prophet:Disabling yearly seasonality. Run prophet with yearly_seasonality=True to override this.\n"
     ]
    },
    {
     "name": "stdout",
     "output_type": "stream",
     "text": [
      "MAPE: 0.49810591545479815\n",
      "Prophet...... Tuning Prophet....\n",
      "Tuning Iteration: 0\n"
     ]
    },
    {
     "name": "stderr",
     "output_type": "stream",
     "text": [
      "INFO:prophet:Disabling yearly seasonality. Run prophet with yearly_seasonality=True to override this.\n"
     ]
    },
    {
     "name": "stdout",
     "output_type": "stream",
     "text": [
      "Tuning Iteration: 1\n"
     ]
    },
    {
     "name": "stderr",
     "output_type": "stream",
     "text": [
      "INFO:prophet:Disabling yearly seasonality. Run prophet with yearly_seasonality=True to override this.\n"
     ]
    },
    {
     "name": "stdout",
     "output_type": "stream",
     "text": [
      "Tuning Iteration: 2\n"
     ]
    },
    {
     "name": "stderr",
     "output_type": "stream",
     "text": [
      "INFO:prophet:Disabling yearly seasonality. Run prophet with yearly_seasonality=True to override this.\n"
     ]
    },
    {
     "name": "stdout",
     "output_type": "stream",
     "text": [
      "Tuning Iteration: 3\n"
     ]
    },
    {
     "name": "stderr",
     "output_type": "stream",
     "text": [
      "INFO:prophet:Disabling yearly seasonality. Run prophet with yearly_seasonality=True to override this.\n"
     ]
    },
    {
     "name": "stdout",
     "output_type": "stream",
     "text": [
      "Tuning Iteration: 4\n"
     ]
    },
    {
     "name": "stderr",
     "output_type": "stream",
     "text": [
      "INFO:prophet:Disabling yearly seasonality. Run prophet with yearly_seasonality=True to override this.\n"
     ]
    },
    {
     "name": "stdout",
     "output_type": "stream",
     "text": [
      "Tuning Iteration: 5\n"
     ]
    },
    {
     "name": "stderr",
     "output_type": "stream",
     "text": [
      "INFO:prophet:Disabling yearly seasonality. Run prophet with yearly_seasonality=True to override this.\n"
     ]
    },
    {
     "name": "stdout",
     "output_type": "stream",
     "text": [
      "Tuning Iteration: 6\n"
     ]
    },
    {
     "name": "stderr",
     "output_type": "stream",
     "text": [
      "INFO:prophet:Disabling yearly seasonality. Run prophet with yearly_seasonality=True to override this.\n"
     ]
    },
    {
     "name": "stdout",
     "output_type": "stream",
     "text": [
      "Tuning Iteration: 7\n",
      "{'seasonality_mode': 'additive', 'n_changepoints': 200, 'changepoint_prior_scale': 0.1}\n",
      "Best MAPE: 0.3043700244348879\n",
      "XGBoost...... MAPE: 0.20390014235111287\n",
      "\n",
      "\n",
      "File: 1145_2.pkl\n",
      "Length on load: 26304\n",
      "Length after agg: 1096\n",
      "Dropped N/A cols: 0\n",
      "Length after blank drop: 1096\n",
      "ARIMA Model...... "
     ]
    },
    {
     "name": "stderr",
     "output_type": "stream",
     "text": [
      "INFO:prophet:Disabling yearly seasonality. Run prophet with yearly_seasonality=True to override this.\n"
     ]
    },
    {
     "name": "stdout",
     "output_type": "stream",
     "text": [
      "MAPE: 0.46677266697128444\n",
      "Prophet...... Tuning Prophet....\n",
      "Tuning Iteration: 0\n"
     ]
    },
    {
     "name": "stderr",
     "output_type": "stream",
     "text": [
      "INFO:prophet:Disabling yearly seasonality. Run prophet with yearly_seasonality=True to override this.\n"
     ]
    },
    {
     "name": "stdout",
     "output_type": "stream",
     "text": [
      "Tuning Iteration: 1\n"
     ]
    },
    {
     "name": "stderr",
     "output_type": "stream",
     "text": [
      "INFO:prophet:Disabling yearly seasonality. Run prophet with yearly_seasonality=True to override this.\n"
     ]
    },
    {
     "name": "stdout",
     "output_type": "stream",
     "text": [
      "Tuning Iteration: 2\n"
     ]
    },
    {
     "name": "stderr",
     "output_type": "stream",
     "text": [
      "INFO:prophet:Disabling yearly seasonality. Run prophet with yearly_seasonality=True to override this.\n"
     ]
    },
    {
     "name": "stdout",
     "output_type": "stream",
     "text": [
      "Tuning Iteration: 3\n"
     ]
    },
    {
     "name": "stderr",
     "output_type": "stream",
     "text": [
      "INFO:prophet:Disabling yearly seasonality. Run prophet with yearly_seasonality=True to override this.\n"
     ]
    },
    {
     "name": "stdout",
     "output_type": "stream",
     "text": [
      "Tuning Iteration: 4\n"
     ]
    },
    {
     "name": "stderr",
     "output_type": "stream",
     "text": [
      "INFO:prophet:Disabling yearly seasonality. Run prophet with yearly_seasonality=True to override this.\n"
     ]
    },
    {
     "name": "stdout",
     "output_type": "stream",
     "text": [
      "Tuning Iteration: 5\n"
     ]
    },
    {
     "name": "stderr",
     "output_type": "stream",
     "text": [
      "INFO:prophet:Disabling yearly seasonality. Run prophet with yearly_seasonality=True to override this.\n"
     ]
    },
    {
     "name": "stdout",
     "output_type": "stream",
     "text": [
      "Tuning Iteration: 6\n"
     ]
    },
    {
     "name": "stderr",
     "output_type": "stream",
     "text": [
      "INFO:prophet:Disabling yearly seasonality. Run prophet with yearly_seasonality=True to override this.\n"
     ]
    },
    {
     "name": "stdout",
     "output_type": "stream",
     "text": [
      "Tuning Iteration: 7\n",
      "{'seasonality_mode': 'multiplicative', 'n_changepoints': 200, 'changepoint_prior_scale': 0.5}\n",
      "Best MAPE: 0.07036451784664652\n",
      "XGBoost...... MAPE: 0.16041146162746825\n",
      "\n",
      "\n",
      "File: 1148_1.pkl\n",
      "Length on load: 26304\n",
      "Length after agg: 1096\n",
      "Dropped N/A cols: 0\n",
      "Length after blank drop: 1096\n",
      "ARIMA Model...... "
     ]
    },
    {
     "name": "stderr",
     "output_type": "stream",
     "text": [
      "INFO:prophet:Disabling yearly seasonality. Run prophet with yearly_seasonality=True to override this.\n"
     ]
    },
    {
     "name": "stdout",
     "output_type": "stream",
     "text": [
      "MAPE: 0.49818137316321903\n",
      "Prophet...... Tuning Prophet....\n",
      "Tuning Iteration: 0\n"
     ]
    },
    {
     "name": "stderr",
     "output_type": "stream",
     "text": [
      "INFO:prophet:Disabling yearly seasonality. Run prophet with yearly_seasonality=True to override this.\n"
     ]
    },
    {
     "name": "stdout",
     "output_type": "stream",
     "text": [
      "Tuning Iteration: 1\n"
     ]
    },
    {
     "name": "stderr",
     "output_type": "stream",
     "text": [
      "INFO:prophet:Disabling yearly seasonality. Run prophet with yearly_seasonality=True to override this.\n"
     ]
    },
    {
     "name": "stdout",
     "output_type": "stream",
     "text": [
      "Tuning Iteration: 2\n"
     ]
    },
    {
     "name": "stderr",
     "output_type": "stream",
     "text": [
      "INFO:prophet:Disabling yearly seasonality. Run prophet with yearly_seasonality=True to override this.\n"
     ]
    },
    {
     "name": "stdout",
     "output_type": "stream",
     "text": [
      "Tuning Iteration: 3\n"
     ]
    },
    {
     "name": "stderr",
     "output_type": "stream",
     "text": [
      "INFO:prophet:Disabling yearly seasonality. Run prophet with yearly_seasonality=True to override this.\n"
     ]
    },
    {
     "name": "stdout",
     "output_type": "stream",
     "text": [
      "Tuning Iteration: 4\n"
     ]
    },
    {
     "name": "stderr",
     "output_type": "stream",
     "text": [
      "INFO:prophet:Disabling yearly seasonality. Run prophet with yearly_seasonality=True to override this.\n"
     ]
    },
    {
     "name": "stdout",
     "output_type": "stream",
     "text": [
      "Tuning Iteration: 5\n"
     ]
    },
    {
     "name": "stderr",
     "output_type": "stream",
     "text": [
      "INFO:prophet:Disabling yearly seasonality. Run prophet with yearly_seasonality=True to override this.\n"
     ]
    },
    {
     "name": "stdout",
     "output_type": "stream",
     "text": [
      "Tuning Iteration: 6\n"
     ]
    },
    {
     "name": "stderr",
     "output_type": "stream",
     "text": [
      "INFO:prophet:Disabling yearly seasonality. Run prophet with yearly_seasonality=True to override this.\n"
     ]
    },
    {
     "name": "stdout",
     "output_type": "stream",
     "text": [
      "Tuning Iteration: 7\n",
      "{'seasonality_mode': 'additive', 'n_changepoints': 200, 'changepoint_prior_scale': 0.5}\n",
      "Best MAPE: 0.42553157248356266\n",
      "XGBoost...... MAPE: 0.279452779848859\n",
      "\n",
      "\n",
      "File: 1149_0.pkl\n",
      "Length on load: 26304\n",
      "Length after agg: 1096\n",
      "Dropped N/A cols: 0\n",
      "Length after blank drop: 1096\n",
      "ARIMA Model...... "
     ]
    },
    {
     "name": "stderr",
     "output_type": "stream",
     "text": [
      "INFO:prophet:Disabling yearly seasonality. Run prophet with yearly_seasonality=True to override this.\n"
     ]
    },
    {
     "name": "stdout",
     "output_type": "stream",
     "text": [
      "MAPE: 0.1330045428138782\n",
      "Prophet...... Tuning Prophet....\n",
      "Tuning Iteration: 0\n"
     ]
    },
    {
     "name": "stderr",
     "output_type": "stream",
     "text": [
      "INFO:prophet:Disabling yearly seasonality. Run prophet with yearly_seasonality=True to override this.\n"
     ]
    },
    {
     "name": "stdout",
     "output_type": "stream",
     "text": [
      "Tuning Iteration: 1\n"
     ]
    },
    {
     "name": "stderr",
     "output_type": "stream",
     "text": [
      "INFO:prophet:Disabling yearly seasonality. Run prophet with yearly_seasonality=True to override this.\n"
     ]
    },
    {
     "name": "stdout",
     "output_type": "stream",
     "text": [
      "Tuning Iteration: 2\n"
     ]
    },
    {
     "name": "stderr",
     "output_type": "stream",
     "text": [
      "INFO:prophet:Disabling yearly seasonality. Run prophet with yearly_seasonality=True to override this.\n"
     ]
    },
    {
     "name": "stdout",
     "output_type": "stream",
     "text": [
      "Tuning Iteration: 3\n"
     ]
    },
    {
     "name": "stderr",
     "output_type": "stream",
     "text": [
      "INFO:prophet:Disabling yearly seasonality. Run prophet with yearly_seasonality=True to override this.\n"
     ]
    },
    {
     "name": "stdout",
     "output_type": "stream",
     "text": [
      "Tuning Iteration: 4\n"
     ]
    },
    {
     "name": "stderr",
     "output_type": "stream",
     "text": [
      "INFO:prophet:Disabling yearly seasonality. Run prophet with yearly_seasonality=True to override this.\n"
     ]
    },
    {
     "name": "stdout",
     "output_type": "stream",
     "text": [
      "Tuning Iteration: 5\n"
     ]
    },
    {
     "name": "stderr",
     "output_type": "stream",
     "text": [
      "INFO:prophet:Disabling yearly seasonality. Run prophet with yearly_seasonality=True to override this.\n"
     ]
    },
    {
     "name": "stdout",
     "output_type": "stream",
     "text": [
      "Tuning Iteration: 6\n"
     ]
    },
    {
     "name": "stderr",
     "output_type": "stream",
     "text": [
      "INFO:prophet:Disabling yearly seasonality. Run prophet with yearly_seasonality=True to override this.\n"
     ]
    },
    {
     "name": "stdout",
     "output_type": "stream",
     "text": [
      "Tuning Iteration: 7\n",
      "{'seasonality_mode': 'multiplicative', 'n_changepoints': 200, 'changepoint_prior_scale': 0.5}\n",
      "Best MAPE: 0.07414076275590603\n",
      "XGBoost...... MAPE: 0.06835826502890098\n",
      "\n",
      "\n",
      "File: 1151_1.pkl\n",
      "Length on load: 26304\n",
      "Length after agg: 1096\n",
      "Dropped N/A cols: 0\n",
      "Length after blank drop: 1096\n",
      "ARIMA Model...... "
     ]
    },
    {
     "name": "stderr",
     "output_type": "stream",
     "text": [
      "INFO:prophet:Disabling yearly seasonality. Run prophet with yearly_seasonality=True to override this.\n"
     ]
    },
    {
     "name": "stdout",
     "output_type": "stream",
     "text": [
      "MAPE: 0.5559995970620465\n",
      "Prophet...... Tuning Prophet....\n",
      "Tuning Iteration: 0\n"
     ]
    },
    {
     "name": "stderr",
     "output_type": "stream",
     "text": [
      "INFO:prophet:Disabling yearly seasonality. Run prophet with yearly_seasonality=True to override this.\n"
     ]
    },
    {
     "name": "stdout",
     "output_type": "stream",
     "text": [
      "Tuning Iteration: 1\n"
     ]
    },
    {
     "name": "stderr",
     "output_type": "stream",
     "text": [
      "INFO:prophet:Disabling yearly seasonality. Run prophet with yearly_seasonality=True to override this.\n"
     ]
    },
    {
     "name": "stdout",
     "output_type": "stream",
     "text": [
      "Tuning Iteration: 2\n"
     ]
    },
    {
     "name": "stderr",
     "output_type": "stream",
     "text": [
      "INFO:prophet:Disabling yearly seasonality. Run prophet with yearly_seasonality=True to override this.\n"
     ]
    },
    {
     "name": "stdout",
     "output_type": "stream",
     "text": [
      "Tuning Iteration: 3\n"
     ]
    },
    {
     "name": "stderr",
     "output_type": "stream",
     "text": [
      "INFO:prophet:Disabling yearly seasonality. Run prophet with yearly_seasonality=True to override this.\n"
     ]
    },
    {
     "name": "stdout",
     "output_type": "stream",
     "text": [
      "Tuning Iteration: 4\n"
     ]
    },
    {
     "name": "stderr",
     "output_type": "stream",
     "text": [
      "INFO:prophet:Disabling yearly seasonality. Run prophet with yearly_seasonality=True to override this.\n"
     ]
    },
    {
     "name": "stdout",
     "output_type": "stream",
     "text": [
      "Tuning Iteration: 5\n"
     ]
    },
    {
     "name": "stderr",
     "output_type": "stream",
     "text": [
      "INFO:prophet:Disabling yearly seasonality. Run prophet with yearly_seasonality=True to override this.\n"
     ]
    },
    {
     "name": "stdout",
     "output_type": "stream",
     "text": [
      "Tuning Iteration: 6\n"
     ]
    },
    {
     "name": "stderr",
     "output_type": "stream",
     "text": [
      "INFO:prophet:Disabling yearly seasonality. Run prophet with yearly_seasonality=True to override this.\n"
     ]
    },
    {
     "name": "stdout",
     "output_type": "stream",
     "text": [
      "Tuning Iteration: 7\n",
      "{'seasonality_mode': 'additive', 'n_changepoints': 100, 'changepoint_prior_scale': 0.1}\n",
      "Best MAPE: 0.5421380264893256\n",
      "XGBoost...... MAPE: 0.31451653058612367\n",
      "\n",
      "\n",
      "File: 1154_0.pkl\n",
      "Length on load: 26304\n",
      "Length after agg: 1096\n",
      "Dropped N/A cols: 0\n",
      "Length after blank drop: 1096\n",
      "ARIMA Model...... "
     ]
    },
    {
     "name": "stderr",
     "output_type": "stream",
     "text": [
      "INFO:prophet:Disabling yearly seasonality. Run prophet with yearly_seasonality=True to override this.\n"
     ]
    },
    {
     "name": "stdout",
     "output_type": "stream",
     "text": [
      "MAPE: 0.2612916873097544\n",
      "Prophet...... Tuning Prophet....\n",
      "Tuning Iteration: 0\n"
     ]
    },
    {
     "name": "stderr",
     "output_type": "stream",
     "text": [
      "INFO:prophet:Disabling yearly seasonality. Run prophet with yearly_seasonality=True to override this.\n"
     ]
    },
    {
     "name": "stdout",
     "output_type": "stream",
     "text": [
      "Tuning Iteration: 1\n"
     ]
    },
    {
     "name": "stderr",
     "output_type": "stream",
     "text": [
      "INFO:prophet:Disabling yearly seasonality. Run prophet with yearly_seasonality=True to override this.\n"
     ]
    },
    {
     "name": "stdout",
     "output_type": "stream",
     "text": [
      "Tuning Iteration: 2\n"
     ]
    },
    {
     "name": "stderr",
     "output_type": "stream",
     "text": [
      "INFO:prophet:Disabling yearly seasonality. Run prophet with yearly_seasonality=True to override this.\n"
     ]
    },
    {
     "name": "stdout",
     "output_type": "stream",
     "text": [
      "Tuning Iteration: 3\n"
     ]
    },
    {
     "name": "stderr",
     "output_type": "stream",
     "text": [
      "INFO:prophet:Disabling yearly seasonality. Run prophet with yearly_seasonality=True to override this.\n"
     ]
    },
    {
     "name": "stdout",
     "output_type": "stream",
     "text": [
      "Tuning Iteration: 4\n"
     ]
    },
    {
     "name": "stderr",
     "output_type": "stream",
     "text": [
      "INFO:prophet:Disabling yearly seasonality. Run prophet with yearly_seasonality=True to override this.\n"
     ]
    },
    {
     "name": "stdout",
     "output_type": "stream",
     "text": [
      "Tuning Iteration: 5\n"
     ]
    },
    {
     "name": "stderr",
     "output_type": "stream",
     "text": [
      "INFO:prophet:Disabling yearly seasonality. Run prophet with yearly_seasonality=True to override this.\n"
     ]
    },
    {
     "name": "stdout",
     "output_type": "stream",
     "text": [
      "Tuning Iteration: 6\n"
     ]
    },
    {
     "name": "stderr",
     "output_type": "stream",
     "text": [
      "INFO:prophet:Disabling yearly seasonality. Run prophet with yearly_seasonality=True to override this.\n"
     ]
    },
    {
     "name": "stdout",
     "output_type": "stream",
     "text": [
      "Tuning Iteration: 7\n",
      "{'seasonality_mode': 'multiplicative', 'n_changepoints': 100, 'changepoint_prior_scale': 0.5}\n",
      "Best MAPE: 0.12364469734675107\n",
      "XGBoost...... MAPE: 0.20669510863910323\n",
      "\n",
      "\n",
      "File: 1154_2.pkl\n",
      "Length on load: 26304\n",
      "Length after agg: 1096\n",
      "Dropped N/A cols: 0\n",
      "Length after blank drop: 1096\n",
      "ARIMA Model...... "
     ]
    },
    {
     "name": "stderr",
     "output_type": "stream",
     "text": [
      "INFO:prophet:Disabling yearly seasonality. Run prophet with yearly_seasonality=True to override this.\n"
     ]
    },
    {
     "name": "stdout",
     "output_type": "stream",
     "text": [
      "MAPE: 1.5200927620707074\n",
      "Prophet...... Tuning Prophet....\n",
      "Tuning Iteration: 0\n"
     ]
    },
    {
     "name": "stderr",
     "output_type": "stream",
     "text": [
      "INFO:prophet:Disabling yearly seasonality. Run prophet with yearly_seasonality=True to override this.\n"
     ]
    },
    {
     "name": "stdout",
     "output_type": "stream",
     "text": [
      "Tuning Iteration: 1\n"
     ]
    },
    {
     "name": "stderr",
     "output_type": "stream",
     "text": [
      "INFO:prophet:Disabling yearly seasonality. Run prophet with yearly_seasonality=True to override this.\n"
     ]
    },
    {
     "name": "stdout",
     "output_type": "stream",
     "text": [
      "Tuning Iteration: 2\n"
     ]
    },
    {
     "name": "stderr",
     "output_type": "stream",
     "text": [
      "INFO:prophet:Disabling yearly seasonality. Run prophet with yearly_seasonality=True to override this.\n"
     ]
    },
    {
     "name": "stdout",
     "output_type": "stream",
     "text": [
      "Tuning Iteration: 3\n"
     ]
    },
    {
     "name": "stderr",
     "output_type": "stream",
     "text": [
      "INFO:prophet:Disabling yearly seasonality. Run prophet with yearly_seasonality=True to override this.\n"
     ]
    },
    {
     "name": "stdout",
     "output_type": "stream",
     "text": [
      "Tuning Iteration: 4\n"
     ]
    },
    {
     "name": "stderr",
     "output_type": "stream",
     "text": [
      "INFO:prophet:Disabling yearly seasonality. Run prophet with yearly_seasonality=True to override this.\n"
     ]
    },
    {
     "name": "stdout",
     "output_type": "stream",
     "text": [
      "Tuning Iteration: 5\n"
     ]
    },
    {
     "name": "stderr",
     "output_type": "stream",
     "text": [
      "INFO:prophet:Disabling yearly seasonality. Run prophet with yearly_seasonality=True to override this.\n"
     ]
    },
    {
     "name": "stdout",
     "output_type": "stream",
     "text": [
      "Tuning Iteration: 6\n"
     ]
    },
    {
     "name": "stderr",
     "output_type": "stream",
     "text": [
      "INFO:prophet:Disabling yearly seasonality. Run prophet with yearly_seasonality=True to override this.\n"
     ]
    },
    {
     "name": "stdout",
     "output_type": "stream",
     "text": [
      "Tuning Iteration: 7\n",
      "{'seasonality_mode': 'multiplicative', 'n_changepoints': 100, 'changepoint_prior_scale': 0.5}\n",
      "Best MAPE: 0.433853725558167\n",
      "XGBoost...... MAPE: 2.602266197504394\n",
      "\n",
      "\n",
      "File: 1156_0.pkl\n",
      "Length on load: 26304\n",
      "Length after agg: 1096\n",
      "Dropped N/A cols: 0\n",
      "Length after blank drop: 1096\n",
      "ARIMA Model...... "
     ]
    },
    {
     "name": "stderr",
     "output_type": "stream",
     "text": [
      "INFO:prophet:Disabling yearly seasonality. Run prophet with yearly_seasonality=True to override this.\n"
     ]
    },
    {
     "name": "stdout",
     "output_type": "stream",
     "text": [
      "MAPE: 0.42049958908062923\n",
      "Prophet...... Tuning Prophet....\n",
      "Tuning Iteration: 0\n"
     ]
    },
    {
     "name": "stderr",
     "output_type": "stream",
     "text": [
      "INFO:prophet:Disabling yearly seasonality. Run prophet with yearly_seasonality=True to override this.\n"
     ]
    },
    {
     "name": "stdout",
     "output_type": "stream",
     "text": [
      "Tuning Iteration: 1\n"
     ]
    },
    {
     "name": "stderr",
     "output_type": "stream",
     "text": [
      "INFO:prophet:Disabling yearly seasonality. Run prophet with yearly_seasonality=True to override this.\n"
     ]
    },
    {
     "name": "stdout",
     "output_type": "stream",
     "text": [
      "Tuning Iteration: 2\n"
     ]
    },
    {
     "name": "stderr",
     "output_type": "stream",
     "text": [
      "INFO:prophet:Disabling yearly seasonality. Run prophet with yearly_seasonality=True to override this.\n"
     ]
    },
    {
     "name": "stdout",
     "output_type": "stream",
     "text": [
      "Tuning Iteration: 3\n"
     ]
    },
    {
     "name": "stderr",
     "output_type": "stream",
     "text": [
      "INFO:prophet:Disabling yearly seasonality. Run prophet with yearly_seasonality=True to override this.\n"
     ]
    },
    {
     "name": "stdout",
     "output_type": "stream",
     "text": [
      "Tuning Iteration: 4\n"
     ]
    },
    {
     "name": "stderr",
     "output_type": "stream",
     "text": [
      "INFO:prophet:Disabling yearly seasonality. Run prophet with yearly_seasonality=True to override this.\n"
     ]
    },
    {
     "name": "stdout",
     "output_type": "stream",
     "text": [
      "Tuning Iteration: 5\n"
     ]
    },
    {
     "name": "stderr",
     "output_type": "stream",
     "text": [
      "INFO:prophet:Disabling yearly seasonality. Run prophet with yearly_seasonality=True to override this.\n"
     ]
    },
    {
     "name": "stdout",
     "output_type": "stream",
     "text": [
      "Tuning Iteration: 6\n"
     ]
    },
    {
     "name": "stderr",
     "output_type": "stream",
     "text": [
      "INFO:prophet:Disabling yearly seasonality. Run prophet with yearly_seasonality=True to override this.\n"
     ]
    },
    {
     "name": "stdout",
     "output_type": "stream",
     "text": [
      "Tuning Iteration: 7\n",
      "{'seasonality_mode': 'additive', 'n_changepoints': 200, 'changepoint_prior_scale': 0.5}\n",
      "Best MAPE: 0.30844284226872937\n",
      "XGBoost...... MAPE: 0.29152549975444936\n",
      "\n",
      "\n",
      "File: 1156_2.pkl\n",
      "Length on load: 26304\n",
      "Length after agg: 1096\n",
      "Dropped N/A cols: 0\n",
      "Length after blank drop: 1096\n",
      "ARIMA Model...... "
     ]
    }
   ],
   "source": [
    "# Data is daily\n",
    "# # data_sizes = [360] # Start with one year # Train on whole year\n",
    "\n",
    "output_vis_folder = '.\\\\visualization\\\\models\\\\run2\\\\'\n",
    "\n",
    "\n",
    "model_pass = 1\n",
    "\n",
    "# Control Variables that will run these specific models if True\n",
    "ARIMA = True\n",
    "FBProphet = True\n",
    "xgboost = True\n",
    "\n",
    "# Show Visualizations\n",
    "quiet_mode = True\n",
    "\n",
    "resample = True\n",
    "backfill = 'mean'\n",
    "exogen = True\n",
    "\n",
    "thresh = 50\n",
    "\n",
    "# Dictionary to hold all the results, will turn into a dataframe\n",
    "stats_all = {}\n",
    "stats_list = []\n",
    "\n",
    "stats = {}\n",
    "\n",
    "# For each file in the directory\n",
    "direct = '.\\\\data_clean\\\\buildings_by_meter\\\\'\n",
    "\n",
    "files = df_stats['file_name']\n",
    "bl = df_stats['building']\n",
    "\n",
    "bld_mtr = ['1073_2', # Elec\n",
    "           '1073_1',\n",
    "           '1073_0',\n",
    "           '1099_2', # Education \n",
    "           '1130_0',\n",
    "           '1048_0',\n",
    "           '1156_0',\n",
    "           '1156_2',\n",
    "           '1140_1',\n",
    "           '1169_1',\n",
    "           '1178_0',\n",
    "           '107_0',\n",
    "           '1180_2',\n",
    "           '119_0',\n",
    "           '1198_2',\n",
    "           '120_0',\n",
    "           '109_0',\n",
    "           '1138_0',\n",
    "           '1079_2',\n",
    "           '126_0',\n",
    "           '1179_1', # Entertainment\n",
    "           '1183_0',\n",
    "           '1196_0',\n",
    "           '743_0',\n",
    "           '663_0', # Food\n",
    "           '1105_0',\n",
    "           '1105_2',\n",
    "           '670_0',\n",
    "           '1209_2',\n",
    "           '1154_2', # Lodging Residential\n",
    "           '1154_0',\n",
    "           '134_0',\n",
    "           '1184_0',\n",
    "           '135_0',\n",
    "           '1124_0',\n",
    "           '1091_0'\n",
    "           '1175_0', # Manufacturing\n",
    "           '1171_0',\n",
    "           '1081_0',\n",
    "           '1145_2',\n",
    "           '1148_1', # Office\n",
    "           '1164_1',\n",
    "           '1151_1',\n",
    "           '1149_0',\n",
    "           '1188_0',\n",
    "           '141_0',\n",
    "           '146_0',\n",
    "           '1204_2',\n",
    "           '1210_1',\n",
    "           '1133_2',\n",
    "           '155_0',\n",
    "           '1164_1',\n",
    "           '1109_2',\n",
    "           '684_0',\n",
    "           '1108_0',\n",
    "           '1205_0',\n",
    "           '1212_1',\n",
    "           '1220_0',\n",
    "           '1047_0',\n",
    "           '678_0',\n",
    "           '1104_0'\n",
    "           '1052_2',\n",
    "           '1034_0',\n",
    "           '1197_0',\n",
    "           '1118_0',\n",
    "           '1199_0'\n",
    "          ]\n",
    "\n",
    "for num,file in enumerate(files):\n",
    "    if file.split('.pkl')[0] not in bld_mtr:\n",
    "        continue\n",
    "    else:\n",
    "        print('File: ' + file)\n",
    "    \n",
    "    # Temporary dictionary that represents a row\n",
    "    stats = {}\n",
    "    \n",
    "    # Screen results\n",
    "    if df_stats.iloc[num]['per_data'] < 80:\n",
    "        stats['status'] = 'FAIL: Length < 80% data present'\n",
    "        print('not enough data')\n",
    "        continue\n",
    "\n",
    "    try:\n",
    "        df = pd.read_pickle(direct + file)\n",
    "    except FileNotFoundError:\n",
    "        continue\n",
    "    \n",
    "    print('Length on load: ' + str(len(df)))\n",
    "    stats['Len_load'] = len(df)\n",
    "    \n",
    "    if len(df) < 20000:\n",
    "        stats['status'] = 'FAIL: Length < 20k'\n",
    "        continue\n",
    "\n",
    "    # Load key variables in dictionary\n",
    "    stats['building'] = df.iloc[0]['building_id']\n",
    "    stats['square_feet'] = df.iloc[0]['square_feet']   \n",
    "    stats['meter'] = bldg_meter = df.iloc[0]['meter']\n",
    "    stats['file_name'] = file\n",
    " \n",
    "    # Process Columns\n",
    "    df = building_meter_drop(df) # Drop poorly correlated columns\n",
    "    df = building_meter_interp(df) # Time series linear interpolation due to standard time deltas\n",
    "    df = building_meter_agg(df,'1D') # aggregate remaining columns\n",
    "    \n",
    "    print('Length after agg: ' + str(len(df)))\n",
    "    stats['Len_agg-clean'] = len(df)\n",
    "    \n",
    "    # Find out how many lingering NA columns are left\n",
    "    b4_NA = len(df)\n",
    "    df.dropna(how='any',inplace=True)\n",
    "    tot = b4_NA - len(df)\n",
    "    print('Dropped N/A cols: ' + str(tot))\n",
    "    \n",
    "    #exit if we drop nan rows\n",
    "    if tot > 100:\n",
    "        stats['status'] = 'FAIL: Drop over 100 Rows'\n",
    "        continue\n",
    "    \n",
    "    print('Length after blank drop: ' + str(len(df)))\n",
    "    stats['Len_blank'] = len(df)\n",
    "    \n",
    "    # Keep track of Models\n",
    "    model_ctr = 1 # Initialize Model Counter\n",
    "    model_prefixes = []\n",
    "\n",
    "    # Split the whole set\n",
    "    df_train = df.loc['2016-01-01':'2016-09-30']\n",
    "    # Test 4 weeks\n",
    "    df_test = df.loc['2016-10-01':'2016-10-31']\n",
    "    \n",
    "     \n",
    "    X_train = df_train.drop(labels=['meter_reading'],axis=1)\n",
    "    X_train.fillna(method='ffill')\n",
    "\n",
    "    X_test = df_test.drop(labels=['meter_reading'],axis=1)\n",
    "    X_test.fillna(method='ffill')\n",
    "\n",
    "    y_train = df_train['meter_reading']\n",
    "    y_train.fillna(method='ffill')\n",
    "\n",
    "    y_test = df_test['meter_reading']\n",
    "    y_test.fillna(method='ffill')\n",
    "    \n",
    "    # Get rid of constants\n",
    "    X_train.drop(labels=['site_id','building_id','square_feet'],axis=1,inplace=True)\n",
    "    X_test.drop(labels=['site_id','building_id','square_feet'],axis=1,inplace=True)\n",
    "    \n",
    "    #   ######################################    ARIMA   ##################################################\n",
    "    if ARIMA:\n",
    "#       Keep track of model prefix column names by building prefix to number iterations\n",
    "        model_prefix = 'Model_' + str(model_ctr)\n",
    "        model_prefixes.append(model_prefix)\n",
    "        \n",
    "        # Populate DataFrame with statistics\n",
    "        stats[model_prefix + '_' + 'Type'] = 'ARIMA_Exogen'\n",
    "        stats[model_prefix + '_' + 'Description'] = 'ARIMA_Exogen, with daily aggregation'\n",
    "        stats[model_prefix + '_' + 'Len_Train'] = len(X_train)\n",
    "        stats[model_prefix + '_' + 'Len_Test'] = len(X_test)\n",
    "\n",
    "        print('ARIMA Model......',end=' ')\n",
    "\n",
    "        # Try building model\n",
    "        try:\n",
    "            model = pm.auto_arima(y_train,X=X_train,trace=False,n_fits=10,seasonal=True,m=7,error_action='ignore')\n",
    "            stats[model_prefix + '_' + 'Status'] = 'PASS'\n",
    "        except ValueError as ve:\n",
    "            print('Model will not converge')\n",
    "            stats[model_prefix + '_' + 'Status'] = 'FAIL'\n",
    "\n",
    "        preds, conf_int = model.predict(X=X_test,n_periods=y_test.shape[0], return_conf_int=True)\n",
    "\n",
    "        predict = pd.Series(preds,index=y_test.index)\n",
    "\n",
    "        # Keep each slice data here\n",
    "        df_result = pd.concat([predict,y_test],axis=1)\n",
    "        df_result.columns = ['meter_predict_ARIMA','meter_actual']\n",
    "\n",
    "        MAPE_error = (mean_absolute_percentage_error(df_result['meter_predict_ARIMA'],df_result['meter_actual']))\n",
    "\n",
    "        stats[model_prefix + '_' + 'MAPE'] = MAPE_error\n",
    "        \n",
    "        RMSE_error = (mean_squared_error(df_result['meter_predict_ARIMA'],df_result['meter_actual'],squared=False))\n",
    "        stats[model_prefix + '_' + 'RMSE'] = RMSE_error\n",
    "        \n",
    "          # RMSE relative to the range of the test range\n",
    "        stats[model_prefix + '_' + 'y_pred_RMSE_pct_Range'] = RMSE_error / \\\n",
    "                                             ((np.max(df_result['meter_actual'])) \\\n",
    "                                              - (np.min(df_result['meter_actual']))) \\\n",
    "                                              * 100\n",
    "\n",
    "\n",
    "        # Create Graph\n",
    "        plt.ioff()\n",
    "        plt.figure(figsize=(20,10))\n",
    "        plt.plot(df_result['meter_predict_ARIMA'],label=\"ARIMA\")\n",
    "        plt.plot(df_result['meter_actual'],label=\"Actual\")\n",
    "        plt.legend(loc = 'upper right')      \n",
    "        plt.title('Bldg ' + str(stats['building']) + ' Meter ' + str(stats['meter']) + ' ' + model_prefix + '_' + 'ARIMA_Exogen')\n",
    "        plt.xlabel('Date')\n",
    "        plt.ylabel('Meter Reading')\n",
    "        \n",
    "        plt.savefig(output_vis_folder + str(stats['building']) + '_' + str(stats['meter']) + '_ARIMA_Exogen.jpg')\n",
    "        print('MAPE: ' + str(MAPE_error)) \n",
    "          \n",
    "         ######################################    PROPHET   ##################################################\n",
    "        if FBProphet:           \n",
    "            print('Prophet......',end=' ')\n",
    "            \n",
    "          \n",
    "            params_grid = {'seasonality_mode':('multiplicative','additive'),\n",
    "                   'changepoint_prior_scale':[0.1,0.5],\n",
    "              'n_changepoints' : [100,200]}\n",
    "\n",
    "            grid = ParameterGrid(params_grid)\n",
    "            print('Tuning Prophet....')\n",
    "            \n",
    "            model_ctr += 1 # Increment Model Counter\n",
    "            \n",
    "            model_prefix = 'Model_' + str(model_ctr) # Build string for keys\n",
    "            model_prefixes.append(model_prefix)\n",
    "          \n",
    "\n",
    "            # Need renaming for Prophet - data prep\n",
    "            df_prophet_train = df_train.reset_index()\n",
    "            df_prophet_test = df_test.reset_index()\n",
    "            \n",
    "            \n",
    "            # Get rid of constants\n",
    "            df_prophet_train.drop(labels=['site_id','building_id','square_feet'],axis=1,inplace=True)\n",
    "            df_prophet_test.drop(labels=['site_id','building_id','square_feet'],axis=1,inplace=True)\n",
    "\n",
    "            # Timestamp must be ds column\n",
    "            df_prophet_train = df_prophet_train.rename(columns={'timestamp':'ds','meter_reading':'y'})\n",
    "            df_prophet_test = df_prophet_test.rename(columns={'timestamp':'ds','meter_reading':'y'})\n",
    "            \n",
    "            \n",
    "            # Populate DataFrame with statistics\n",
    "            stats[model_prefix + '_' + 'Type'] = 'Prophet_Exogen'      \n",
    "            stats[model_prefix + '_' + 'Len_Train'] = len(df_prophet_train)\n",
    "            stats[model_prefix + '_' + 'Len_Test'] = len(df_prophet_test)\n",
    "\n",
    "            MAPEs = []\n",
    "            params = []\n",
    "\n",
    "            tuning_iter = 0\n",
    "            for val in grid:\n",
    "                print('Tuning Iteration: ' + str(tuning_iter))\n",
    "                # Initialize Prophet Model\n",
    "                m = Prophet(daily_seasonality=True,\n",
    "                           n_changepoints = val['n_changepoints'],\n",
    "                           seasonality_mode = val['seasonality_mode'],\n",
    "                           changepoint_prior_scale = val['changepoint_prior_scale'])\n",
    "                m.add_regressor('air_temperature')\n",
    "                m.add_regressor('day_of_week')\n",
    "                m.add_regressor('weekend')\n",
    "                m.add_regressor('month')\n",
    "                m.add_regressor('season')\n",
    "                m.fit(df_prophet_train)\n",
    "                predicts = m.predict(df_prophet_test)\n",
    "\n",
    "                MAPE_error = (mean_absolute_percentage_error(predicts['yhat'],df_prophet_test['y']))\n",
    "                MAPEs.append(MAPE_error)\n",
    "                tuning_iter += 1\n",
    "                \n",
    "\n",
    "            min_value = min(MAPEs)\n",
    "            min_index = MAPEs.index(min_value)\n",
    "            MAPE_error = MAPEs[min_index]\n",
    "            best_parameter = grid[min_index]\n",
    "            print(best_parameter)\n",
    "\n",
    "            stats[model_prefix + '_' + 'MAPE'] = MAPE_error\n",
    "            \n",
    "                    \n",
    "            RMSE_error = (mean_squared_error(predicts['yhat'],df_prophet_test['y'],squared=False))\n",
    "            stats[model_prefix + '_' + 'RMSE'] = RMSE_error\n",
    "        \n",
    "              # RMSE relative to the range of the test range\n",
    "            stats[model_prefix + '_' + 'y_pred_RMSE_pct_Range'] = RMSE_error / \\\n",
    "                                                 ((np.max(df_prophet_test['y'])) \\\n",
    "                                                  - (np.min(df_prophet_test['y']))) \\\n",
    "                                                  * 100\n",
    "\n",
    "            plt.ioff()\n",
    "            plt.figure(figsize=(20,10))\n",
    "            plt.plot(predicts['yhat'],label=\"Prophet\")\n",
    "            plt.plot(df_prophet_test['y'],label=\"Actual\")\n",
    "            plt.legend(loc = 'upper right')\n",
    "            \n",
    "            plt.title('Bldg ' + str(stats['building']) + ' Meter ' + str(stats['meter']) + ' ' + \\\n",
    "                      model_prefix + '_' + 'Prophet_Exogen')\n",
    "            plt.xlabel('Date')\n",
    "            plt.ylabel('Meter Reading')\n",
    "            \n",
    "            plt.savefig(output_vis_folder + str(stats['building']) + '_' + str(stats['meter']) + '_Prophet_Exogen.jpg')\n",
    "\n",
    "            print('Best MAPE: ' + str(MAPE_error))\n",
    "                    \n",
    "#             ######################################    XGBOOST   ##################################################\n",
    "            if xgboost:\n",
    "                print('XGBoost......',end=' ')\n",
    "            \n",
    "                model_ctr += 1\n",
    "                model_prefix = 'Model_' + str(model_ctr)\n",
    "                model_prefixes.append(model_prefix)\n",
    "\n",
    "                # Populate DataFrame with statistics\n",
    "                stats[model_prefix + '_' + 'Type'] = 'XGBoost'\n",
    "                stats[model_prefix + '_' + 'Description'] = 'XGBoost_Exogen, with daily aggregation'\n",
    "                stats[model_prefix + '_' + 'Len_Train'] = len(X_train)\n",
    "                stats[model_prefix + '_' + 'Len_Test'] = len(X_test)\n",
    "    \n",
    "    \n",
    "                params_grid = {# Parameters that we are going to tune.\n",
    "                    'learning_rate': [0.01,0.1],\n",
    "                    'max_depth': [3,10],\n",
    "                    'min_child_weight': [1,5],\n",
    "                    'subsample': [0.5,0.7],\n",
    "                    'colsample_bytree': [0.5,0.7],\n",
    "                    'n_estimators' : [100,500],\n",
    "                    'objective': ['reg:squarederror'],\n",
    "                }\n",
    "                \n",
    "                num_boost_round = 30\n",
    "                \n",
    "                num_boost_round = ''\n",
    "                early_stopping_rounds = ''\n",
    "\n",
    "                # Instantiate Model\n",
    "                gbm_model = xgb.XGBRegressor()\n",
    "                gsearch = GridSearchCV(estimator = gbm_model,\n",
    "                                      param_grid = params_grid,\n",
    "                                      scoring = 'mean_absolute_percentage_error',\n",
    "                                      cv=5,\n",
    "                                      n_jobs = -1,\n",
    "                                      verbose = 1)\n",
    "\n",
    "#                 print(gsearch.best_params_)\n",
    "\n",
    "                gbm_model.fit(X_train,y_train)\n",
    "                predict = gbm_model.predict(X_test)\n",
    "\n",
    "                predict = pd.Series(predict,index=y_test.index)\n",
    "\n",
    "                df_result = pd.concat([predict,y_test],axis=1,ignore_index=True)\n",
    "                df_result.columns = ['meter_predict_XGBoost','meter_actual']\n",
    "                df_result.sort_index(inplace=True)\n",
    "\n",
    "                MAPE_error = (mean_absolute_percentage_error(predict,y_test))\n",
    "                MAPEs.append(MAPE_error)\n",
    "                tuning_iter += 1\n",
    "                    \n",
    "                stats[model_prefix + '_' + 'MAPE'] = MAPE_error\n",
    "                \n",
    "                plt.figure(figsize=(20,10))\n",
    "                plt.plot(df_result['meter_predict_XGBoost'],label=\"XGBoost\")\n",
    "                plt.plot(df_result['meter_actual'],label=\"Actual\")\n",
    "                plt.legend(loc = 'upper right')\n",
    "                plt.title('Bldg ' + str(stats['building']) + ' Meter ' + str(stats['meter']) + ' ' + model_prefix + '_' + 'XGBoost')\n",
    "                plt.xlabel('Date')\n",
    "                plt.ylabel('Meter Reading')\n",
    "                plt.savefig(output_vis_folder + str(stats['building']) + '_' + str(stats['meter']) + '_XGBoost.jpg')\n",
    "                print('MAPE: ' + str(MAPE_error))\n",
    "                \n",
    "                RMSE_error = (mean_squared_error(predict,y_test,squared=False))\n",
    "                \n",
    "                stats[model_prefix + '_' + 'RMSE'] = RMSE_error\n",
    "                  # RMSE relative to the range of the test range\n",
    "                stats[model_prefix + '_' + 'y_pred_RMSE_pct_Range'] = RMSE_error / \\\n",
    "                                                     ((np.max(df_result['meter_actual'])) \\\n",
    "                                                      - (np.min(df_result['meter_actual']))) \\\n",
    "                                                      * 100\n",
    "                \n",
    "        stats_list.append(stats)\n",
    "        # Write dictionary and file every 10 buildings to save results\n",
    "        if stats['building'] % 10 == 0:\n",
    "            df_results = pd.DataFrame(stats_list)\n",
    "            df_results = pd.DataFrame(stats_list)\n",
    "            df_results.to_csv('Model_Results_1.csv',float_format=\"{:,.2f}\".format)\n",
    "            \n",
    "df_results = pd.DataFrame(stats_list)\n",
    "df_results.to_csv('Model_Results_SecondPass.csv',float_format=\"{:,.2f}\".format)\n",
    "df_stats = df_results.merge(df_stats,how='left',on=['file_name'])\n",
    "df_stats.to_csv('AllResults_SecondPass.csv',float_format=\"{:,.2f}\".format)"
   ]
  },
  {
   "cell_type": "markdown",
   "id": "other-international",
   "metadata": {},
   "source": [
    "# Parallel Coordinates Graph to show Change"
   ]
  },
  {
   "cell_type": "code",
   "execution_count": 33,
   "id": "a243aea4-1693-4c51-a1ad-90d599d83c53",
   "metadata": {},
   "outputs": [],
   "source": [
    "# libraries\n",
    "import pandas\n",
    "import matplotlib.pyplot as plt\n",
    "from pandas.tools.plotting import parallel_coordinates\n",
    "\n",
    "# Take the iris dataset\n",
    "import seaborn as sns\n",
    "data = sns.load_dataset('iris')\n",
    "\n",
    "# Make the plot\n",
    "parallel_coordinates(data, 'species', colormap=plt.get_cmap(\"Set2\"))\n",
    "plt.show()"
   ]
  },
  {
   "cell_type": "code",
   "execution_count": null,
   "id": "9f525ae2-a1c4-414d-a9e6-dfe26882361f",
   "metadata": {},
   "outputs": [],
   "source": [
    "df_results.filter(regex='RMSE')"
   ]
  },
  {
   "cell_type": "code",
   "execution_count": null,
   "id": "789020d4-3c79-4800-910f-5a0fec87fb46",
   "metadata": {},
   "outputs": [],
   "source": [
    "df_results.filter(regex='Model_')\n",
    "df.to_csv('results.csv')"
   ]
  },
  {
   "cell_type": "code",
   "execution_count": null,
   "id": "5849f76e-5eac-4ce7-b611-91c3b33b4585",
   "metadata": {},
   "outputs": [],
   "source": [
    "df_stats = df_stats.merge(df_results,how='right',on=['building','meter'])"
   ]
  },
  {
   "cell_type": "code",
   "execution_count": null,
   "id": "29a3b3ce-72b9-4a3b-99ca-6e033d1574b9",
   "metadata": {},
   "outputs": [],
   "source": [
    "df_stats"
   ]
  },
  {
   "cell_type": "code",
   "execution_count": null,
   "id": "23c7b9aa-d2ef-4df4-9fad-544912ece2e6",
   "metadata": {},
   "outputs": [],
   "source": [
    "df= df_results.filter(regex='RMSE')\n",
    "df.head()"
   ]
  },
  {
   "cell_type": "raw",
   "id": "407648ae-f687-42d6-8d85-2a43d9f8e5d6",
   "metadata": {},
   "source": [
    "# Data is daily\n",
    "# # data_sizes = [360] # Start with one year # Train on whole year\n",
    "\n",
    "output_vis_folder = '.\\\\visualization\\\\models\\\\short_train\\\\'\n",
    "\n",
    "# Control Variables that will run these specific models if True\n",
    "ARIMA = True\n",
    "FBProphet = True\n",
    "xgboost = True\n",
    "\n",
    "# Show Visualizations\n",
    "quiet_mode = True\n",
    "\n",
    "resample = True\n",
    "backfill = 'mean'\n",
    "exogen = True\n",
    "\n",
    "thresh = 50\n",
    "\n",
    "# Dictionary to hold all the results, will turn into a dataframe\n",
    "stats_all = {}\n",
    "stats_list = []\n",
    "\n",
    "stats = {}\n",
    "\n",
    "# For each file in the directory\n",
    "direct = '.\\\\data_clean\\\\buildings_by_meter\\\\'\n",
    "\n",
    "files = df_stats['file_name']\n",
    "bl = df_stats['building']\n",
    "\n",
    "bld_mtr = ['1073_2',\n",
    "           '1073_1',\n",
    "           '1073_0',\n",
    "           '1073_1',\n",
    "           '1073_2',\n",
    "           '1220_2',\n",
    "           '1220_1',\n",
    "           '1220_0',\n",
    "           '1372_1',\n",
    "           '1156_2',\n",
    "           '1156_1',\n",
    "           '1156_0',\n",
    "           '1148_0',\n",
    "           '1148_1',\n",
    "           '1148_2',\n",
    "           '797_0',\n",
    "           '797_1',\n",
    "           '797_2',\n",
    "           '1380_0',\n",
    "           '1380_1',\n",
    "           '1168_2',\n",
    "           '1168_1',\n",
    "           '1168_0',\n",
    "           '1203_2',\n",
    "           '1109_2',\n",
    "           '1030_0',\n",
    "           '1030_1',\n",
    "           '1030_3',\n",
    "           '1031_3',\n",
    "           '1258_0',\n",
    "           '1258_1',\n",
    "           '1258_2',\n",
    "           '1258_3',\n",
    "           '1259_0',\n",
    "           '1259_1',\n",
    "           '1259_2',\n",
    "           '1259_3']\n",
    "\n",
    "for num,file in enumerate(files):\n",
    "    if file.split('.pkl')[0] not in bld_mtr:\n",
    "        continue\n",
    "    else:\n",
    "        print('File: ' + file)\n",
    "    \n",
    "    # Temporary dictionary that represents a row\n",
    "    stats = {}\n",
    "    \n",
    "    # Screen results\n",
    "    if df_stats.iloc[num]['per_data'] < 80:\n",
    "        stats['status'] = 'FAIL: Length < 80% data present'\n",
    "        print('not enough data')\n",
    "        continue\n",
    "\n",
    "    try:\n",
    "        df = pd.read_pickle(direct + file)\n",
    "    except FileNotFoundError:\n",
    "        continue\n",
    "    \n",
    "    print('Length on load: ' + str(len(df)))\n",
    "    stats['Len_load'] = len(df)\n",
    "    \n",
    "    if len(df) < 20000:\n",
    "        stats['status'] = 'FAIL: Length < 20k'\n",
    "        continue\n",
    "\n",
    "    # Load key variables in dictionary\n",
    "    stats['building'] = df.iloc[0]['building_id']\n",
    "    stats['square_feet'] = df.iloc[0]['square_feet']   \n",
    "    stats['meter'] = bldg_meter = df.iloc[0]['meter']\n",
    "    stats['file_name'] = file\n",
    " \n",
    "    # Process Columns\n",
    "    df = building_meter_drop(df) # Drop poorly correlated columns\n",
    "    df = building_meter_interp(df) # Time series linear interpolation due to standard time deltas\n",
    "    df = building_meter_agg(df,'1D') # aggregate remaining columns\n",
    "    \n",
    "    print('Length after agg: ' + str(len(df)))\n",
    "    stats['Len_agg-clean'] = len(df)\n",
    "    \n",
    "    # Find out how many lingering NA columns are left\n",
    "    b4_NA = len(df)\n",
    "    df.dropna(how='any',inplace=True)\n",
    "    tot = b4_NA - len(df)\n",
    "    print('Dropped N/A cols: ' + str(tot))\n",
    "    \n",
    "    #exit if we drop nan rows\n",
    "    if tot > 100:\n",
    "        stats['status'] = 'FAIL: Drop over 100 Rows'\n",
    "        continue\n",
    "    \n",
    "    print('Length after blank drop: ' + str(len(df)))\n",
    "    stats['Len_blank'] = len(df)\n",
    "    \n",
    "    # Keep track of Models\n",
    "    model_ctr = 1 # Initialize Model Counter\n",
    "    model_prefixes = []\n",
    "\n",
    "    # Split the whole set\n",
    "    df_train = df.loc['2016-01-01':'2016-09-30']\n",
    "    # Test 4 weeks\n",
    "    df_test = df.loc['2016-10-01':'2016-10-31']\n",
    "    \n",
    "    # skip building if we dont have enough data\n",
    "#     try:\n",
    "#         if (len(df_train) / len(df_test)) < 2.5:\n",
    "#             print('Not enough training data')\n",
    "#         continue\n",
    "#     except ZeroDivisionError as ze:\n",
    "#         print('DF empty')\n",
    "#         continue\n",
    "      \n",
    "    X_train = df_train.drop(labels=['meter_reading'],axis=1)\n",
    "    X_train.fillna(method='ffill')\n",
    "\n",
    "    X_test = df_test.drop(labels=['meter_reading'],axis=1)\n",
    "    X_test.fillna(method='ffill')\n",
    "\n",
    "    y_train = df_train['meter_reading']\n",
    "    y_train.fillna(method='ffill')\n",
    "\n",
    "    y_test = df_test['meter_reading']\n",
    "    y_test.fillna(method='ffill')\n",
    "    \n",
    "    # Get rid of constants\n",
    "    X_train.drop(labels=['site_id','building_id','square_feet'],axis=1,inplace=True)\n",
    "    X_test.drop(labels=['site_id','building_id','square_feet'],axis=1,inplace=True)\n",
    "    \n",
    "    #   ######################################    ARIMA   ##################################################\n",
    "    if ARIMA:\n",
    "#                 # Keep track of model prefix column names by building prefix to number iterations\n",
    "        model_prefix = 'Model_' + str(model_ctr)\n",
    "        model_prefixes.append(model_prefix)\n",
    "        \n",
    "        # Populate DataFrame with statistics\n",
    "        stats[model_prefix + '_' + 'Type'] = 'ARIMA_Exogen'\n",
    "        stats[model_prefix + '_' + 'Description'] = 'ARIMA_Exogen, with daily aggregation'\n",
    "#         stats[model_prefix + '_' + 'DateStart_Train'] = str(X_train.iloc[0].name).split(\" \")[0]\n",
    "#         stats[model_prefix + '_' + 'DateEnd_Train'] = str(X_train.iloc[-1].name).split(\" \")[0]\n",
    "#         stats[model_prefix + '_' + 'DateStart_Test'] = str(X_test.iloc[0].name).split(\" \")[0]\n",
    "#         stats[model_prefix + '_' + 'DateEnd_Test'] = str(X_test.iloc[-1].name).split(\" \")[0]\n",
    "        stats[model_prefix + '_' + 'Len_Train'] = len(X_train)\n",
    "        stats[model_prefix + '_' + 'Len_Test'] = len(X_test)\n",
    "\n",
    "        print('ARIMA Model......',end=' ')\n",
    "\n",
    "        # Try building model\n",
    "        try:\n",
    "            model = pm.auto_arima(y_train,X=X_train,trace=False,n_fits=10,seasonal=True,m=7,error_action='ignore')\n",
    "            stats[model_prefix + '_' + 'Status'] = 'PASS'\n",
    "        except ValueError as ve:\n",
    "            print('Model will not converge')\n",
    "            stats[model_prefix + '_' + 'Status'] = 'FAIL'\n",
    "\n",
    "        preds, conf_int = model.predict(X=X_test,n_periods=y_test.shape[0], return_conf_int=True)\n",
    "\n",
    "        predict = pd.Series(preds,index=y_test.index)\n",
    "\n",
    "        # Keep each slice data here\n",
    "        df_result = pd.concat([predict,y_test],axis=1)\n",
    "        df_result.columns = ['meter_predict_ARIMA','meter_actual']\n",
    "\n",
    "        RMSE_error = (mean_squared_error(df_result['meter_predict_ARIMA'],df_result['meter_actual'],squared=False))\n",
    "\n",
    "        stats[model_prefix + '_' + 'RMSE'] = RMSE_error\n",
    "        stats[model_prefix + '_' + 'y_test_MAX'] = np.max(df_result['meter_actual'])\n",
    "        stats[model_prefix + '_' + 'y_test_MIN'] = np.min(df_result['meter_actual'])\n",
    "        stats[model_prefix + '_' + 'y_test_AVG'] = np.mean(df_result['meter_actual'])\n",
    "        stats[model_prefix + '_' + 'y_test_STD'] = np.std(df_result['meter_actual'])\n",
    "        stats[model_prefix + '_' + 'y_pred_MAX'] = np.max(df_result['meter_predict_ARIMA'])\n",
    "        stats[model_prefix + '_' + 'y_pred_MIN'] = np.min(df_result['meter_predict_ARIMA'])\n",
    "        stats[model_prefix + '_' + 'y_pred_AVG'] = np.mean(df_result['meter_predict_ARIMA'])\n",
    "        stats[model_prefix + '_' + 'y_pred_STD'] = np.std(df_result['meter_predict_ARIMA'])\n",
    "\n",
    "        # RMSE relative to the range of the test range\n",
    "        stats[model_prefix + '_' + 'y_pred_RMSE_pct_Range'] = RMSE_error / \\\n",
    "                                             ((np.max(df_result['meter_actual'])) \\\n",
    "                                              - (np.min(df_result['meter_actual']))) \\\n",
    "                                              * 100\n",
    "\n",
    "        # Create Graph\n",
    "        plt.ioff()\n",
    "        plt.figure(figsize=(20,10))\n",
    "        plt.plot(df_result['meter_predict_ARIMA'],label=\"ARIMA\")\n",
    "        plt.plot(df_result['meter_actual'],label=\"Actual\")\n",
    "        plt.legend(loc = 'upper right')      \n",
    "        plt.title('Bldg ' + str(stats['building']) + ' Meter ' + str(stats['meter']) + ' ' + model_prefix + '_' + 'ARIMA_Exogen')\n",
    "        plt.xlabel('Date')\n",
    "        plt.ylabel('Meter Reading')\n",
    "        \n",
    "        plt.savefig(output_vis_folder + str(stats['building']) + '_' + str(stats['meter']) + '_ARIMA_Exogen.jpg')\n",
    "        print('RMSE: ' + str(RMSE_error)) \n",
    "          \n",
    "         ######################################    PROPHET   ##################################################\n",
    "        if FBProphet:           \n",
    "            print('Prophet......',end=' ')\n",
    "            model_ctr += 1 # Increment Model Counter\n",
    "            model_prefix = 'Model_' + str(model_ctr) # Build string for keys\n",
    "            model_prefixes.append(model_prefix)\n",
    "\n",
    "            # Need renaming for Prophet - data prep\n",
    "            df_prophet_train = df_train.reset_index()\n",
    "            df_prophet_test = df_test.reset_index()\n",
    "            \n",
    "            \n",
    "            # Get rid of constants\n",
    "            df_prophet_train.drop(labels=['site_id','building_id','square_feet'],axis=1,inplace=True)\n",
    "            df_prophet_test.drop(labels=['site_id','building_id','square_feet'],axis=1,inplace=True)\n",
    "\n",
    "            # Timestamp must be ds column\n",
    "            df_prophet_train = df_prophet_train.rename(columns={'timestamp':'ds','meter_reading':'y'})\n",
    "            df_prophet_test = df_prophet_test.rename(columns={'timestamp':'ds','meter_reading':'y'})\n",
    "            \n",
    "            \n",
    "            # Populate DataFrame with statistics\n",
    "            stats[model_prefix + '_' + 'Type'] = 'Prophet_Exogen'\n",
    "#             stats[model_prefix + '_' + 'DateStart_Train'] = str(df_prophet_train.iloc[0]['ds']).split(\" \")[0]\n",
    "#             stats[model_prefix + '_' + 'DateEnd_Train'] = str(df_prophet_train.iloc[-1]['ds']).split(\" \")[0]\n",
    "#             stats[model_prefix + '_' + 'DateStart_Test'] = str(df_prophet_test.iloc[0].name).split(\" \")[0]\n",
    "#             stats[model_prefix + '_' + 'DateEnd_Test'] = str(df_prophet_test.iloc[-1].name).split(\" \")[0]           \n",
    "            stats[model_prefix + '_' + 'Len_Train'] = len(df_prophet_train)\n",
    "            stats[model_prefix + '_' + 'Len_Test'] = len(df_prophet_test)\n",
    "\n",
    "            # Initialize Prophet Model\n",
    "            m = Prophet(daily_seasonality=True)\n",
    "            m.add_regressor('air_temperature')\n",
    "            m.add_regressor('day_of_week')\n",
    "            m.add_regressor('weekend')\n",
    "            m.add_regressor('month')\n",
    "            m.add_regressor('season')\n",
    "            m.fit(df_prophet_train)\n",
    "            predicts = m.predict(df_prophet_test)\n",
    "\n",
    "            RMSE_error = (mean_squared_error(predicts['yhat'],df_prophet_test['y'],squared=False))\n",
    "\n",
    "            stats[model_prefix + '_' + 'RMSE'] = RMSE_error\n",
    "            stats[model_prefix + '_' + 'y_test_MAX'] = np.max(df_prophet_test['y'])\n",
    "            stats[model_prefix + '_' + 'y_test_MIN'] = np.min(df_prophet_test['y'])\n",
    "            stats[model_prefix + '_' + 'y_test_AVG'] = np.mean(df_prophet_test['y'])\n",
    "            \n",
    "            # RMSE relative to the range of the test range\n",
    "            stats[model_prefix + '_' + 'y_pred_RMSE_pct_Range'] = RMSE_error / \\\n",
    "                                                 ((np.max(df_prophet_test['y'])) \\\n",
    "                                                  - (np.min(df_prophet_test['y']))) \\\n",
    "                                                  * 100\n",
    "\n",
    "            stats[model_prefix + '_' + 'y_pred_MAX'] = np.max(predicts['yhat'])\n",
    "            stats[model_prefix + '_' + 'y_pred_MIN'] = np.min(predicts['yhat'])\n",
    "            stats[model_prefix + '_' + 'y_pred_AVG'] = np.mean(predicts['yhat'])\n",
    "\n",
    "            plt.ioff()\n",
    "            plt.figure(figsize=(20,10))\n",
    "            plt.plot(predicts['yhat'],label=\"Prophet\")\n",
    "            plt.plot(df_prophet_test['y'],label=\"Actual\")\n",
    "            plt.legend(loc = 'upper right')\n",
    "            \n",
    "            plt.title('Bldg ' + str(stats['building']) + ' Meter ' + str(stats['meter']) + ' ' + \\\n",
    "                      model_prefix + '_' + 'Prophet_Exogen')\n",
    "            plt.xlabel('Date')\n",
    "            plt.ylabel('Meter Reading')\n",
    "            \n",
    "            plt.savefig(output_vis_folder + str(stats['building']) + '_' + str(stats['meter']) + '_Prophet_Exogen.jpg')\n",
    "\n",
    "            print('RMSE: ' + str(RMSE_error))\n",
    "                    \n",
    "#             ######################################    XGBOOST   ##################################################\n",
    "            if xgboost:\n",
    "                print('XGBoost......',end=' ')\n",
    "                model_ctr += 1\n",
    "                model_prefix = 'Model_' + str(model_ctr)\n",
    "                model_prefixes.append(model_prefix)\n",
    "\n",
    "                # Populate DataFrame with statistics\n",
    "                stats[model_prefix + '_' + 'Type'] = 'XGBoost'\n",
    "                stats[model_prefix + '_' + 'Description'] = 'XGBoost_Exogen, with daily aggregation'\n",
    "#                 stats[model_prefix + '_' + 'DateStart_Train'] = str(X_train.iloc[0].name).split(\" \")[0]\n",
    "#                 stats[model_prefix + '_' + 'DateEnd_Train'] = str(X_train.iloc[-1].name).split(\" \")[0]\n",
    "#                 stats[model_prefix + '_' + 'DateStart_Test'] = str(X_test.iloc[0].name).split(\" \")[0]\n",
    "#                 stats[model_prefix + '_' + 'DateEnd_Test'] = str(X_test.iloc[-1].name).split(\" \")[0]\n",
    "                stats[model_prefix + '_' + 'Len_Train'] = len(X_train)\n",
    "                stats[model_prefix + '_' + 'Len_Test'] = len(X_test)\n",
    "    \n",
    "                # Instantiate Model\n",
    "                gbm_model = xgb.XGBRegressor(objective = 'reg:squarederror', n_estimators = 1000, seed = 123)\n",
    "                gbm_model.fit(X_train,y_train)\n",
    "                predict = gbm_model.predict(X_test)\n",
    "                \n",
    "                predict = pd.Series(predict,index=y_test.index)\n",
    "                \n",
    "                df_result = pd.concat([predict,y_test],axis=1,ignore_index=True)\n",
    "                df_result.columns = ['meter_predict_XGBoost','meter_actual']\n",
    "                df_result.sort_index(inplace=True)\n",
    "                \n",
    "                RMSE_error = (mean_squared_error(predict,y_test,squared=False))\n",
    "                \n",
    "                stats[model_prefix + '_' + 'RMSE'] = RMSE_error\n",
    "                stats[model_prefix + '_' + 'y_test_MAX'] = np.max(df_result['meter_actual'])\n",
    "                stats[model_prefix + '_' + 'y_test_MIN'] = np.min(df_result['meter_actual'])\n",
    "                stats[model_prefix + '_' + 'y_test_AVG'] = np.mean(df_result['meter_actual'])\n",
    "                stats[model_prefix + '_' + 'y_test_STD'] = np.std(df_result['meter_actual'])\n",
    "                stats[model_prefix + '_' + 'y_pred_MAX'] = np.max(df_result['meter_predict_XGBoost'])\n",
    "                stats[model_prefix + '_' + 'y_pred_MIN'] = np.min(df_result['meter_predict_XGBoost'])\n",
    "                stats[model_prefix + '_' + 'y_pred_AVG'] = np.mean(df_result['meter_predict_XGBoost'])\n",
    "                stats[model_prefix + '_' + 'y_pred_STD'] = np.std(df_result['meter_predict_XGBoost'])\n",
    "\n",
    "                # RMSE relative to the range of the test range\n",
    "                stats[model_prefix + '_' + 'y_pred_RMSE_pct_Range'] = RMSE_error / \\\n",
    "                                                     ((np.max(df_result['meter_actual'])) \\\n",
    "                                                      - (np.min(df_result['meter_actual']))) \\\n",
    "                                                      * 100\n",
    "                \n",
    "                plt.figure(figsize=(20,10))\n",
    "                plt.plot(df_result['meter_predict_XGBoost'],label=\"XGBoost\")\n",
    "                plt.plot(df_result['meter_actual'],label=\"Actual\")\n",
    "                plt.legend(loc = 'upper right')\n",
    "                plt.title('Bldg ' + str(stats['building']) + ' Meter ' + str(stats['meter']) + ' ' + model_prefix + '_' + 'XGBoost')\n",
    "                plt.xlabel('Date')\n",
    "                plt.ylabel('Meter Reading')\n",
    "                plt.savefig(output_vis_folder + str(stats['building']) + '_' + str(stats['meter']) + '_XGBoost.jpg')\n",
    "                print('RMSE: ' + str(RMSE_error))\n",
    "                \n",
    "#             df_viz = pd.DataFrame(df_result['meter_predict_XGBoost'],df_result['meter_predict_ARIMA'],df_result['meter_predict_Prophet'],index=df_result.index)\n",
    "           \n",
    "\n",
    "#             plt.plot(df_result['meter_predict_ARIMA'],label=\"ARIMA\")\n",
    "#             sns.lineplot(data=[df_result['meter_predict_XGBoost'],\n",
    "#                                 df_result['meter_predict_ARIMA']],\n",
    "#                          x=df_result.index,\n",
    "#                          y=)\n",
    "#             plt.plot(df_result['meter_predict_XGBoost'],label=\"XGBoost\")\n",
    "#             plt.plot(df_result['meter_actual'],label=\"Actual\")\n",
    "#             plt.legend(loc = 'upper right')\n",
    "#             plt.savefig(output_vis_folder + str(stats['building']) + '_' + str(stats['meter']) + '_All.jpg')\n",
    "\n",
    "#             print(df_viz)\n",
    "\n",
    "        print()\n",
    "        print()\n",
    "    \n",
    "        stats_list.append(stats)\n",
    "        # Write dictionary and file every 10 buildings to save results\n",
    "        if stats['building'] % 10 == 0:\n",
    "            df_results = pd.DataFrame(stats_list)\n",
    "            df_results = pd.DataFrame(stats_list)\n",
    "            df_results.to_csv('Model_Results_1.csv',float_format=\"{:,.2f}\".format)\n",
    "            \n",
    "df_results = pd.DataFrame(stats_list)\n",
    "df_results.to_csv('Model_Results_2.csv',float_format=\"{:,.2f}\".format)\n"
   ]
  },
  {
   "cell_type": "code",
   "execution_count": null,
   "id": "7fc6a270-d3bf-4904-816a-115326873361",
   "metadata": {},
   "outputs": [],
   "source": [
    "df_stats = df_results.merge(df_stats,how='left',on=['file_name'])"
   ]
  },
  {
   "cell_type": "code",
   "execution_count": null,
   "id": "d5728f9a-76fe-4e90-8eda-e38bc6148f6f",
   "metadata": {},
   "outputs": [],
   "source": [
    "df_stats.to_csv('AllResults_2_subset.csv',float_format=\"{:,.2f}\".format)"
   ]
  },
  {
   "cell_type": "code",
   "execution_count": null,
   "id": "0a39992d-0d27-4e2f-bdd8-98570714e95f",
   "metadata": {},
   "outputs": [],
   "source": [
    "df_results.filter(regex='RMSE')"
   ]
  },
  {
   "cell_type": "code",
   "execution_count": null,
   "id": "955f7ae0-b0af-43e4-801a-6f4ab5dcd91e",
   "metadata": {},
   "outputs": [],
   "source": [
    "df_results.filter(regex='Model_')\n",
    "df.to_csv('results.csv')"
   ]
  },
  {
   "cell_type": "code",
   "execution_count": null,
   "id": "d249abe1-7015-471c-a74d-3383cec252e6",
   "metadata": {},
   "outputs": [],
   "source": [
    "df_stats = df_stats.merge(df_results,how='right',on=['building','meter'])"
   ]
  },
  {
   "cell_type": "code",
   "execution_count": null,
   "id": "f65011d7-88fe-494d-b696-cc46fff95125",
   "metadata": {},
   "outputs": [],
   "source": [
    "df_stats"
   ]
  },
  {
   "cell_type": "code",
   "execution_count": null,
   "id": "0db24935-c933-43bf-ac5b-417d6b389fa5",
   "metadata": {},
   "outputs": [],
   "source": [
    "df= df_results.filter(regex='RMSE')\n",
    "df.head()"
   ]
  },
  {
   "cell_type": "markdown",
   "id": "suspended-villa",
   "metadata": {},
   "source": [
    "## Time Series Split Cross Validation"
   ]
  },
  {
   "cell_type": "code",
   "execution_count": null,
   "id": "flexible-sauce",
   "metadata": {
    "tags": []
   },
   "outputs": [],
   "source": [
    "tss =  TimeSeriesSplit(n_splits=4,gap=4,test_size=14,max_train_size=120) #too generic\n",
    "rmse = []\n",
    "count = 1\n",
    "\n",
    "results = pd.DataFrame()\n",
    "\n",
    "\n",
    "# Write function that rolls next pd.delta?\n",
    "\n",
    "for train_index, test_index in tss.split(df_train): \n",
    "    \n",
    "    cv_train, cv_test = df_train.iloc[train_index]['meter_reading'], df_train.iloc[test_index]['meter_reading']\n",
    "    model = pm.auto_arima(cv_train,trace=True,n_fits=20)\n",
    "    print(model.summary())\n",
    "    \n",
    "    # \n",
    "    predicts = model.predict(n_periods=14)\n",
    "    true_values = cv_test.values\n",
    "    error = ((sqrt(mean_squared_error(predicts,true_values))))\n",
    "    model.plot_diagnostics()\n",
    "    rmse.append(error)\n",
    "    print(error)\n",
    "print('RMSE')\n",
    "print(np.mean(rmse))"
   ]
  },
  {
   "cell_type": "markdown",
   "id": "alternative-terminology",
   "metadata": {},
   "source": [
    "# Rolling Forecast ARIMA\n",
    "### Walk-forward validation"
   ]
  },
  {
   "cell_type": "raw",
   "id": "neutral-algeria",
   "metadata": {},
   "source": [
    "### Split train / test\n",
    "\n",
    "data_len = 366\n",
    "split_test_doy = 270\n",
    "\n",
    "df_train = df.iloc[0:split_test_doy]\n",
    "df_test = df.iloc[split_test_doy:data_len]"
   ]
  },
  {
   "cell_type": "raw",
   "id": "oriented-current",
   "metadata": {},
   "source": [
    "# Brownlee Time Series Forecasting with Python pg216 (GP Book 229)\n",
    "history = [x for x in df_train['meter_reading'].values]\n",
    "predicted_vals = [] # New predicted value list\n",
    "\n",
    "# Step through each meter reading\n",
    "for t in range(len(df_test['meter_reading'])):\n",
    "    model = ARIMA(history, order=(p,d,q))\n",
    "    model_fit = model.fit()\n",
    "    output = model_fit.forecast(7)\n",
    "    yhat = output[6]\n",
    "    print(len(output))\n",
    "    predicted_vals.append(yhat)\n",
    "    observation = df_test['meter_reading'].iloc[t]\n",
    "    history.append(observation)\n",
    "\n",
    "   # Show every 5 days\n",
    "\n",
    "    print('Iteration: ' + str(t) + ' Date: ' + str(df_test.index[t]),end=\" \")\n",
    "    print('Predicted Meter Reading = %f, Expected Meter Reading = %f' % (yhat,observation))\n",
    "\n",
    "rmse = sqrt(mean_squared_error(df_test['meter_reading'], predicted_vals))\n",
    "print('p = ' + str(p) + ' d = ' + str(d) + ' q = ' + str(q))\n",
    "print('Test RMSE: %.3f' % rmse)\n",
    "\n",
    "df_predict = pd.DataFrame(predicted_vals,index=df_test.index,columns=['meter_predict'])\n",
    "\n",
    "pyplot.plot(df_test['meter_reading'])\n",
    "pyplot.plot(df_predict['meter_predict'], color='red')"
   ]
  },
  {
   "cell_type": "code",
   "execution_count": null,
   "id": "solid-chamber",
   "metadata": {},
   "outputs": [],
   "source": [
    "model.plot(forecast)"
   ]
  },
  {
   "cell_type": "code",
   "execution_count": null,
   "id": "directed-cruise",
   "metadata": {},
   "outputs": [],
   "source": [
    "\n",
    "#             # Fill Nas\n",
    "#             #Counts of null values \n",
    "#             # Backfill with means\n",
    "#             if np.max(X_train.isnull().sum().sort_values(ascending=False)) > 0:\n",
    "#                 stats[model_prefix + '_' + 'X_train_Backfill'] = backfill\n",
    "#                 if backfill == 'mean':\n",
    "#                     X_train.fillna(X_train.mean(), inplace=True)\n",
    "\n",
    "#             # Backfill with mean\n",
    "#             if np.max(X_test.isnull().sum().sort_values(ascending=False)) > 0:\n",
    "#                 stats[model_prefix + '_' + 'X_test_Backfill'] = backfill\n",
    "#                 if backfill == 'mean':\n",
    "#                     X_test.fillna(X_test.mean(), inplace=True)\n",
    "                    \n",
    "#             # Backfill with mean\n",
    "#             if np.max(y_test.isnull().sum().sort_values(ascending=False)) > 0:\n",
    "#                 stats[model_prefix + '_' + 'X_test_Backfill'] = backfill\n",
    "#                 if backfill == 'mean':\n",
    "#                     y_test.fillna(X_test.mean(), inplace=True)\n",
    "                    \n",
    "#             # Backfill with mean\n",
    "#             if np.max(y_train.isnull().sum().sort_values(ascending=False)) > 0:\n",
    "#                 stats[model_prefix + '_' + 'X_test_Backfill'] = backfill\n",
    "#                 if backfill == 'mean':\n",
    "#                     y_train.fillna(X_train.mean(), inplace=True)"
   ]
  }
 ],
 "metadata": {
  "kernelspec": {
   "display_name": "Capstone",
   "language": "python",
   "name": "cap1"
  },
  "language_info": {
   "codemirror_mode": {
    "name": "ipython",
    "version": 3
   },
   "file_extension": ".py",
   "mimetype": "text/x-python",
   "name": "python",
   "nbconvert_exporter": "python",
   "pygments_lexer": "ipython3",
   "version": "3.8.8"
  }
 },
 "nbformat": 4,
 "nbformat_minor": 5
}
