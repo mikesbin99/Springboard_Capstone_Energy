{
 "cells": [
  {
   "cell_type": "markdown",
   "id": "least-music",
   "metadata": {},
   "source": [
    "(https://www.kaggle.com/c/ashrae-energy-prediction/)"
   ]
  },
  {
   "cell_type": "markdown",
   "id": "engaged-scope",
   "metadata": {},
   "source": [
    "# ASRAE - Modeling"
   ]
  },
  {
   "cell_type": "code",
   "execution_count": 1,
   "id": "informal-ribbon",
   "metadata": {},
   "outputs": [
    {
     "name": "stdout",
     "output_type": "stream",
     "text": [
      "pmdarima version: 1.8.2\n"
     ]
    }
   ],
   "source": [
    "import numpy as np\n",
    "import pandas as pd\n",
    "\n",
    "import seaborn as sns\n",
    "import plotly as plt\n",
    "import plotly.express as px\n",
    "import plotly.figure_factory as ff\n",
    "import matplotlib.pyplot as plt\n",
    "\n",
    "from math import sqrt\n",
    "\n",
    "import glob\n",
    "\n",
    "import pandas_profiling as ppf\n",
    "import sweetviz as sv\n",
    "import missingno as msno\n",
    "\n",
    "import pprint\n",
    "import datetime\n",
    "from math import sqrt\n",
    "\n",
    "from plotly.subplots import make_subplots\n",
    "import plotly.graph_objects as go\n",
    "import plotly.express as px\n",
    "\n",
    "from statsmodels.tsa.seasonal import seasonal_decompose\n",
    "from statsmodels.graphics.tsaplots import plot_acf\n",
    "from statsmodels.graphics.tsaplots import plot_pacf\n",
    "from statsmodels.tsa.arima.model import ARIMA\n",
    "import statsmodels.api as sm\n",
    "\n",
    "from sklearn import preprocessing\n",
    "from sklearn.model_selection import GridSearchCV\n",
    "from sklearn.model_selection import ParameterGrid\n",
    "from sklearn.model_selection import TimeSeriesSplit, train_test_split\n",
    "from sklearn.metrics import mean_squared_error, mean_absolute_percentage_error, median_absolute_error\n",
    "\n",
    "from prophet import Prophet\n",
    "\n",
    "import xgboost as xgb\n",
    "\n",
    "import pmdarima as pm\n",
    "from pmdarima import model_selection\n",
    "from pmdarima import pipeline\n",
    "from pmdarima import preprocessing as ppc\n",
    "from pmdarima import arima\n",
    "from pmdarima.arima import ndiffs\n",
    "from pmdarima.arima import ADFTest\n",
    "\n",
    "print(\"pmdarima version: %s\" % pm.__version__)\n",
    "\n",
    "#import tools as tl\n",
    "\n",
    "sns.set(rc={'figure.figsize':(30,20)})\n",
    "\n",
    "pd.options.display.float_format = '{:.2f}'.format\n",
    "pd.set_option(\"precision\", 2)\n",
    "\n",
    "plt.rcParams.update({'font.size': 22})\n",
    "sns.set(font_scale = 2)\n",
    "\n",
    "import pprint\n",
    "pp = pprint.PrettyPrinter(indent=4)\n",
    "\n",
    "import warnings\n",
    "warnings.filterwarnings('ignore')"
   ]
  },
  {
   "cell_type": "code",
   "execution_count": 2,
   "id": "civic-guinea",
   "metadata": {},
   "outputs": [
    {
     "name": "stdout",
     "output_type": "stream",
     "text": [
      "1.4.2\n"
     ]
    }
   ],
   "source": [
    "print(xgb.__version__)"
   ]
  },
  {
   "cell_type": "code",
   "execution_count": 3,
   "id": "harmful-hardware",
   "metadata": {},
   "outputs": [],
   "source": [
    "pd.options.plotting.backend = \"matplotlib\""
   ]
  },
  {
   "cell_type": "code",
   "execution_count": 4,
   "id": "super-thong",
   "metadata": {},
   "outputs": [
    {
     "data": {
      "text/plain": [
       "'G:\\\\My Drive\\\\Code\\\\Springboard_Capstone_Energy'"
      ]
     },
     "execution_count": 4,
     "metadata": {},
     "output_type": "execute_result"
    }
   ],
   "source": [
    "pwd"
   ]
  },
  {
   "cell_type": "code",
   "execution_count": 5,
   "id": "8e441d88-fc94-492c-a3b9-44f73a9b8870",
   "metadata": {},
   "outputs": [],
   "source": [
    "# Drop Specific columns\n",
    "def building_meter_drop(df):\n",
    "    return df.drop(columns=['precip_depth_1_hr','wind_direction','wind_speed','dew_temperature','year_built','floor_count','cloud_coverage'],axis=1)"
   ]
  },
  {
   "cell_type": "code",
   "execution_count": 6,
   "id": "87eac6e6-266e-4208-ab96-c64f3f57c8de",
   "metadata": {},
   "outputs": [],
   "source": [
    "# Interpolate Missing Data\n",
    "def building_meter_interp(df):\n",
    "    df['sea_level_pressure'] = df['sea_level_pressure'].interpolate(method='time')\n",
    "    df['meter_reading'] = df['meter_reading'].interpolate(method='time')\n",
    "    df['air_temperature'] = df['air_temperature'].interpolate(method='time')\n",
    "    return df"
   ]
  },
  {
   "cell_type": "code",
   "execution_count": 7,
   "id": "875cea45-fb1e-428c-b842-32c6c74db032",
   "metadata": {},
   "outputs": [],
   "source": [
    "# Aggregate remaining Data\n",
    "def building_meter_agg(df,resamp_str):\n",
    "    df_samp = df\n",
    "    agg_dict={'meter_reading':'median', \n",
    "              'air_temperature':'median',\n",
    "                  'building_id': 'max',\n",
    "                  'site_id': 'max',\n",
    "                  'square_feet': 'max',\n",
    "                  'day_of_week':'max',\n",
    "                  'weekend':'max',\n",
    "                  'month':'max',\n",
    "                  'season':'max'\n",
    "                  }\n",
    "\n",
    "    # Resample Dataframe\n",
    "    df = df.resample(resamp_str).agg(agg_dict)\n",
    "    \n",
    "    return df"
   ]
  },
  {
   "cell_type": "markdown",
   "id": "6f8519e6-1f19-4a32-a3b9-2a1831cd2bc5",
   "metadata": {},
   "source": [
    "## See Statistics written for each file (building-meter) combo"
   ]
  },
  {
   "cell_type": "code",
   "execution_count": 8,
   "id": "innovative-title",
   "metadata": {},
   "outputs": [],
   "source": [
    "# See Building Statistics for missing data\n",
    "df_stats = pd.read_csv('.//data_clean//building_reading_stats.csv')\n",
    "# Keep only data that has at least 50 % of it"
   ]
  },
  {
   "cell_type": "code",
   "execution_count": 9,
   "id": "b5b45a65-189e-43ae-8382-8147f24904b3",
   "metadata": {},
   "outputs": [
    {
     "name": "stdout",
     "output_type": "stream",
     "text": [
      "<class 'pandas.core.frame.DataFrame'>\n",
      "RangeIndex: 2375 entries, 0 to 2374\n",
      "Data columns (total 19 columns):\n",
      " #   Column                        Non-Null Count  Dtype  \n",
      "---  ------                        --------------  -----  \n",
      " 0   file_name                     2375 non-null   object \n",
      " 1   building                      2375 non-null   int64  \n",
      " 2   meter                         2375 non-null   int64  \n",
      " 3   len_train                     2375 non-null   int64  \n",
      " 4   len_zero                      2375 non-null   int64  \n",
      " 5   per_data                      2375 non-null   float64\n",
      " 6   category                      2375 non-null   object \n",
      " 7   corr_meter_to_airtemp         2375 non-null   float64\n",
      " 8   corr_meter_to_airtemp_wknd    2373 non-null   float64\n",
      " 9   corr_meter_to_airtemp_wkdy    2375 non-null   float64\n",
      " 10  corr_meter_to_airtemp_winter  2325 non-null   float64\n",
      " 11  corr_meter_to_airtemp_spring  2342 non-null   float64\n",
      " 12  corr_meter_to_airtemp_summer  2339 non-null   float64\n",
      " 13  corr_meter_to_airtemp_fall    2361 non-null   float64\n",
      " 14  square_feet                   2375 non-null   int64  \n",
      " 15  site_id                       2375 non-null   int64  \n",
      " 16  floor_count                   2375 non-null   int64  \n",
      " 17  bldg_size                     2375 non-null   object \n",
      " 18  meter_name                    2375 non-null   object \n",
      "dtypes: float64(8), int64(7), object(4)\n",
      "memory usage: 352.7+ KB\n"
     ]
    }
   ],
   "source": [
    "df_stats.info()"
   ]
  },
  {
   "cell_type": "code",
   "execution_count": 10,
   "id": "convinced-proxy",
   "metadata": {},
   "outputs": [],
   "source": [
    "# Modeling Choices\n",
    "# Buildings with 1\n",
    "df_stats.sort_values(['building','meter'],axis=0,inplace=True)\n",
    "df_stats.reset_index(drop=True,inplace=True)"
   ]
  },
  {
   "cell_type": "code",
   "execution_count": 11,
   "id": "critical-hawaiian",
   "metadata": {},
   "outputs": [
    {
     "data": {
      "text/html": [
       "<div>\n",
       "<style scoped>\n",
       "    .dataframe tbody tr th:only-of-type {\n",
       "        vertical-align: middle;\n",
       "    }\n",
       "\n",
       "    .dataframe tbody tr th {\n",
       "        vertical-align: top;\n",
       "    }\n",
       "\n",
       "    .dataframe thead th {\n",
       "        text-align: right;\n",
       "    }\n",
       "</style>\n",
       "<table border=\"1\" class=\"dataframe\">\n",
       "  <thead>\n",
       "    <tr style=\"text-align: right;\">\n",
       "      <th></th>\n",
       "      <th>file_name</th>\n",
       "      <th>building</th>\n",
       "      <th>meter</th>\n",
       "      <th>len_train</th>\n",
       "      <th>len_zero</th>\n",
       "      <th>per_data</th>\n",
       "      <th>category</th>\n",
       "      <th>corr_meter_to_airtemp</th>\n",
       "      <th>corr_meter_to_airtemp_wknd</th>\n",
       "      <th>corr_meter_to_airtemp_wkdy</th>\n",
       "      <th>corr_meter_to_airtemp_winter</th>\n",
       "      <th>corr_meter_to_airtemp_spring</th>\n",
       "      <th>corr_meter_to_airtemp_summer</th>\n",
       "      <th>corr_meter_to_airtemp_fall</th>\n",
       "      <th>square_feet</th>\n",
       "      <th>site_id</th>\n",
       "      <th>floor_count</th>\n",
       "      <th>bldg_size</th>\n",
       "      <th>meter_name</th>\n",
       "    </tr>\n",
       "  </thead>\n",
       "  <tbody>\n",
       "    <tr>\n",
       "      <th>1686</th>\n",
       "      <td>1148_1.pkl</td>\n",
       "      <td>1148</td>\n",
       "      <td>1</td>\n",
       "      <td>8784</td>\n",
       "      <td>0</td>\n",
       "      <td>100.00</td>\n",
       "      <td>Office</td>\n",
       "      <td>0.78</td>\n",
       "      <td>0.79</td>\n",
       "      <td>0.79</td>\n",
       "      <td>0.21</td>\n",
       "      <td>0.74</td>\n",
       "      <td>0.45</td>\n",
       "      <td>0.76</td>\n",
       "      <td>861524</td>\n",
       "      <td>13</td>\n",
       "      <td>-1</td>\n",
       "      <td>XXL</td>\n",
       "      <td>CWater</td>\n",
       "    </tr>\n",
       "  </tbody>\n",
       "</table>\n",
       "</div>"
      ],
      "text/plain": [
       "       file_name  building  meter  len_train  len_zero  per_data category  \\\n",
       "1686  1148_1.pkl      1148      1       8784         0    100.00   Office   \n",
       "\n",
       "      corr_meter_to_airtemp  corr_meter_to_airtemp_wknd  \\\n",
       "1686                   0.78                        0.79   \n",
       "\n",
       "      corr_meter_to_airtemp_wkdy  corr_meter_to_airtemp_winter  \\\n",
       "1686                        0.79                          0.21   \n",
       "\n",
       "      corr_meter_to_airtemp_spring  corr_meter_to_airtemp_summer  \\\n",
       "1686                          0.74                          0.45   \n",
       "\n",
       "      corr_meter_to_airtemp_fall  square_feet  site_id  floor_count bldg_size  \\\n",
       "1686                        0.76       861524       13           -1       XXL   \n",
       "\n",
       "     meter_name  \n",
       "1686     CWater  "
      ]
     },
     "execution_count": 11,
     "metadata": {},
     "output_type": "execute_result"
    }
   ],
   "source": [
    "df_stats[(df_stats['building'] == 1148) & df_stats['meter'] == 1]"
   ]
  },
  {
   "cell_type": "code",
   "execution_count": 12,
   "id": "iraqi-original",
   "metadata": {},
   "outputs": [
    {
     "data": {
      "text/html": [
       "<div>\n",
       "<style scoped>\n",
       "    .dataframe tbody tr th:only-of-type {\n",
       "        vertical-align: middle;\n",
       "    }\n",
       "\n",
       "    .dataframe tbody tr th {\n",
       "        vertical-align: top;\n",
       "    }\n",
       "\n",
       "    .dataframe thead th {\n",
       "        text-align: right;\n",
       "    }\n",
       "</style>\n",
       "<table border=\"1\" class=\"dataframe\">\n",
       "  <thead>\n",
       "    <tr style=\"text-align: right;\">\n",
       "      <th></th>\n",
       "      <th>file_name</th>\n",
       "      <th>building</th>\n",
       "      <th>meter</th>\n",
       "      <th>len_train</th>\n",
       "      <th>len_zero</th>\n",
       "      <th>per_data</th>\n",
       "      <th>category</th>\n",
       "      <th>corr_meter_to_airtemp</th>\n",
       "      <th>corr_meter_to_airtemp_wknd</th>\n",
       "      <th>corr_meter_to_airtemp_wkdy</th>\n",
       "      <th>corr_meter_to_airtemp_winter</th>\n",
       "      <th>corr_meter_to_airtemp_spring</th>\n",
       "      <th>corr_meter_to_airtemp_summer</th>\n",
       "      <th>corr_meter_to_airtemp_fall</th>\n",
       "      <th>square_feet</th>\n",
       "      <th>site_id</th>\n",
       "      <th>floor_count</th>\n",
       "      <th>bldg_size</th>\n",
       "      <th>meter_name</th>\n",
       "    </tr>\n",
       "  </thead>\n",
       "  <tbody>\n",
       "    <tr>\n",
       "      <th>1685</th>\n",
       "      <td>1148_0.pkl</td>\n",
       "      <td>1148</td>\n",
       "      <td>0</td>\n",
       "      <td>8663</td>\n",
       "      <td>0</td>\n",
       "      <td>100.00</td>\n",
       "      <td>Office</td>\n",
       "      <td>-0.02</td>\n",
       "      <td>0.15</td>\n",
       "      <td>-0.04</td>\n",
       "      <td>-0.20</td>\n",
       "      <td>-0.11</td>\n",
       "      <td>-0.08</td>\n",
       "      <td>-0.08</td>\n",
       "      <td>861524</td>\n",
       "      <td>13</td>\n",
       "      <td>-1</td>\n",
       "      <td>XXL</td>\n",
       "      <td>Elec</td>\n",
       "    </tr>\n",
       "    <tr>\n",
       "      <th>1686</th>\n",
       "      <td>1148_1.pkl</td>\n",
       "      <td>1148</td>\n",
       "      <td>1</td>\n",
       "      <td>8784</td>\n",
       "      <td>0</td>\n",
       "      <td>100.00</td>\n",
       "      <td>Office</td>\n",
       "      <td>0.78</td>\n",
       "      <td>0.79</td>\n",
       "      <td>0.79</td>\n",
       "      <td>0.21</td>\n",
       "      <td>0.74</td>\n",
       "      <td>0.45</td>\n",
       "      <td>0.76</td>\n",
       "      <td>861524</td>\n",
       "      <td>13</td>\n",
       "      <td>-1</td>\n",
       "      <td>XXL</td>\n",
       "      <td>CWater</td>\n",
       "    </tr>\n",
       "    <tr>\n",
       "      <th>1687</th>\n",
       "      <td>1148_2.pkl</td>\n",
       "      <td>1148</td>\n",
       "      <td>2</td>\n",
       "      <td>8784</td>\n",
       "      <td>2</td>\n",
       "      <td>99.98</td>\n",
       "      <td>Office</td>\n",
       "      <td>-0.88</td>\n",
       "      <td>-0.86</td>\n",
       "      <td>-0.88</td>\n",
       "      <td>-0.83</td>\n",
       "      <td>-0.85</td>\n",
       "      <td>-0.43</td>\n",
       "      <td>-0.44</td>\n",
       "      <td>861524</td>\n",
       "      <td>13</td>\n",
       "      <td>-1</td>\n",
       "      <td>XXL</td>\n",
       "      <td>Steam</td>\n",
       "    </tr>\n",
       "  </tbody>\n",
       "</table>\n",
       "</div>"
      ],
      "text/plain": [
       "       file_name  building  meter  len_train  len_zero  per_data category  \\\n",
       "1685  1148_0.pkl      1148      0       8663         0    100.00   Office   \n",
       "1686  1148_1.pkl      1148      1       8784         0    100.00   Office   \n",
       "1687  1148_2.pkl      1148      2       8784         2     99.98   Office   \n",
       "\n",
       "      corr_meter_to_airtemp  corr_meter_to_airtemp_wknd  \\\n",
       "1685                  -0.02                        0.15   \n",
       "1686                   0.78                        0.79   \n",
       "1687                  -0.88                       -0.86   \n",
       "\n",
       "      corr_meter_to_airtemp_wkdy  corr_meter_to_airtemp_winter  \\\n",
       "1685                       -0.04                         -0.20   \n",
       "1686                        0.79                          0.21   \n",
       "1687                       -0.88                         -0.83   \n",
       "\n",
       "      corr_meter_to_airtemp_spring  corr_meter_to_airtemp_summer  \\\n",
       "1685                         -0.11                         -0.08   \n",
       "1686                          0.74                          0.45   \n",
       "1687                         -0.85                         -0.43   \n",
       "\n",
       "      corr_meter_to_airtemp_fall  square_feet  site_id  floor_count bldg_size  \\\n",
       "1685                       -0.08       861524       13           -1       XXL   \n",
       "1686                        0.76       861524       13           -1       XXL   \n",
       "1687                       -0.44       861524       13           -1       XXL   \n",
       "\n",
       "     meter_name  \n",
       "1685       Elec  \n",
       "1686     CWater  \n",
       "1687      Steam  "
      ]
     },
     "execution_count": 12,
     "metadata": {},
     "output_type": "execute_result"
    }
   ],
   "source": [
    "# Examine building choices\n",
    "df_stats[df_stats['building'] == 1148]"
   ]
  },
  {
   "cell_type": "raw",
   "id": "d7ea794a-196f-419e-a940-04b31cdfae11",
   "metadata": {},
   "source": [
    "Notice that the 1 meter is positively correlated, 2 meter is strong negative correlation"
   ]
  },
  {
   "cell_type": "markdown",
   "id": "4592d024-68de-4a4c-b64e-0ef1b18f5001",
   "metadata": {},
   "source": [
    "# First Pass \n",
    "## No Hypertuning on Prophet or XGBoost"
   ]
  },
  {
   "cell_type": "code",
   "execution_count": 13,
   "id": "0d20ad23-020d-4392-8078-1ac9aae4785c",
   "metadata": {},
   "outputs": [],
   "source": [
    "## Train till end of September, Test on October"
   ]
  },
  {
   "cell_type": "code",
   "execution_count": 14,
   "id": "1e1e1f59-0ee7-43de-ae52-c862a51cd816",
   "metadata": {},
   "outputs": [
    {
     "name": "stdout",
     "output_type": "stream",
     "text": [
      "\n",
      "###########################################################\n",
      "File: 107_0.pkl\n",
      "Length on load: 26304\n",
      "Length after agg: 1096\n",
      "Dropped N/A cols: 0\n",
      "Length after blank drop: 1096\n",
      "\n",
      "ARIMA Model...... Median Percent Error of Range: 23.529196408671943\n",
      "\n",
      "Prophet...... "
     ]
    },
    {
     "name": "stderr",
     "output_type": "stream",
     "text": [
      "INFO:prophet:Disabling yearly seasonality. Run prophet with yearly_seasonality=True to override this.\n"
     ]
    },
    {
     "name": "stdout",
     "output_type": "stream",
     "text": [
      "Median Percent Error of Range: 215.86855848279095\n",
      "\n",
      "XGBoost...... Median Percent Error of Range: 31.83852589198522\n",
      "\n",
      "###########################################################\n",
      "File: 109_0.pkl\n",
      "Length on load: 26304\n",
      "Length after agg: 1096\n",
      "Dropped N/A cols: 0\n",
      "Length after blank drop: 1096\n",
      "\n",
      "ARIMA Model...... Median Percent Error of Range: 51.11873827854707\n"
     ]
    },
    {
     "name": "stderr",
     "output_type": "stream",
     "text": [
      "INFO:prophet:Disabling yearly seasonality. Run prophet with yearly_seasonality=True to override this.\n"
     ]
    },
    {
     "name": "stdout",
     "output_type": "stream",
     "text": [
      "\n",
      "Prophet...... Median Percent Error of Range: 15.663647954896703\n",
      "\n",
      "XGBoost...... Median Percent Error of Range: 17.306791539809765\n",
      "\n",
      "###########################################################\n",
      "File: 119_0.pkl\n",
      "Length on load: 26304\n",
      "Length after agg: 1096\n",
      "Dropped N/A cols: 0\n",
      "Length after blank drop: 1096\n",
      "\n",
      "ARIMA Model...... Median Percent Error of Range: 27.97065179786666\n"
     ]
    },
    {
     "name": "stderr",
     "output_type": "stream",
     "text": [
      "INFO:prophet:Disabling yearly seasonality. Run prophet with yearly_seasonality=True to override this.\n"
     ]
    },
    {
     "name": "stdout",
     "output_type": "stream",
     "text": [
      "\n",
      "Prophet...... Median Percent Error of Range: 37.868097995430595\n",
      "\n",
      "XGBoost...... Median Percent Error of Range: 9.510628875110674\n",
      "\n",
      "###########################################################\n",
      "File: 120_0.pkl\n",
      "Length on load: 26304\n",
      "Length after agg: 1096\n",
      "Dropped N/A cols: 0\n",
      "Length after blank drop: 1096\n",
      "\n",
      "ARIMA Model...... Median Percent Error of Range: 102.49322729409391\n"
     ]
    },
    {
     "name": "stderr",
     "output_type": "stream",
     "text": [
      "INFO:prophet:Disabling yearly seasonality. Run prophet with yearly_seasonality=True to override this.\n"
     ]
    },
    {
     "name": "stdout",
     "output_type": "stream",
     "text": [
      "\n",
      "Prophet...... Median Percent Error of Range: 117.04650853819065\n",
      "\n",
      "XGBoost...... Median Percent Error of Range: 133.61760432545728\n",
      "\n",
      "###########################################################\n",
      "File: 126_0.pkl\n",
      "Length on load: 26304\n",
      "Length after agg: 1096\n",
      "Dropped N/A cols: 0\n",
      "Length after blank drop: 1096\n",
      "\n",
      "ARIMA Model...... Median Percent Error of Range: 15.499538400557425\n"
     ]
    },
    {
     "name": "stderr",
     "output_type": "stream",
     "text": [
      "INFO:prophet:Disabling yearly seasonality. Run prophet with yearly_seasonality=True to override this.\n"
     ]
    },
    {
     "name": "stdout",
     "output_type": "stream",
     "text": [
      "\n",
      "Prophet...... Median Percent Error of Range: 18.496489458690558\n",
      "\n",
      "XGBoost...... Median Percent Error of Range: 29.021661492842643\n",
      "\n",
      "###########################################################\n",
      "File: 134_0.pkl\n",
      "Length on load: 26304\n",
      "Length after agg: 1096\n",
      "Dropped N/A cols: 0\n",
      "Length after blank drop: 1096\n",
      "\n",
      "ARIMA Model...... Median Percent Error of Range: 81.06821570673326\n"
     ]
    },
    {
     "name": "stderr",
     "output_type": "stream",
     "text": [
      "INFO:prophet:Disabling yearly seasonality. Run prophet with yearly_seasonality=True to override this.\n"
     ]
    },
    {
     "name": "stdout",
     "output_type": "stream",
     "text": [
      "\n",
      "Prophet...... Median Percent Error of Range: 56.78176707785302\n",
      "\n",
      "XGBoost...... Median Percent Error of Range: 44.02633377268345\n",
      "\n",
      "###########################################################\n",
      "File: 135_0.pkl\n",
      "Length on load: 26304\n",
      "Length after agg: 1096\n",
      "Dropped N/A cols: 0\n",
      "Length after blank drop: 1096\n",
      "\n",
      "ARIMA Model...... Median Percent Error of Range: 73.53242652367365\n"
     ]
    },
    {
     "name": "stderr",
     "output_type": "stream",
     "text": [
      "INFO:prophet:Disabling yearly seasonality. Run prophet with yearly_seasonality=True to override this.\n"
     ]
    },
    {
     "name": "stdout",
     "output_type": "stream",
     "text": [
      "\n",
      "Prophet...... Median Percent Error of Range: 20.899019316526875\n",
      "\n",
      "XGBoost...... Median Percent Error of Range: 160.4567127843056\n",
      "\n",
      "###########################################################\n",
      "File: 141_0.pkl\n",
      "Length on load: 26304\n",
      "Length after agg: 1096\n",
      "Dropped N/A cols: 0\n",
      "Length after blank drop: 1096\n",
      "\n",
      "ARIMA Model...... Median Percent Error of Range: 25.61855487755098\n"
     ]
    },
    {
     "name": "stderr",
     "output_type": "stream",
     "text": [
      "INFO:prophet:Disabling yearly seasonality. Run prophet with yearly_seasonality=True to override this.\n"
     ]
    },
    {
     "name": "stdout",
     "output_type": "stream",
     "text": [
      "\n",
      "Prophet...... Median Percent Error of Range: 32.16432896440378\n",
      "\n",
      "XGBoost...... Median Percent Error of Range: 23.755941225614162\n",
      "\n",
      "###########################################################\n",
      "File: 146_0.pkl\n",
      "Length on load: 26304\n",
      "Length after agg: 1096\n",
      "Dropped N/A cols: 0\n",
      "Length after blank drop: 1096\n",
      "\n",
      "ARIMA Model...... Median Percent Error of Range: 27.448964575531942\n"
     ]
    },
    {
     "name": "stderr",
     "output_type": "stream",
     "text": [
      "INFO:prophet:Disabling yearly seasonality. Run prophet with yearly_seasonality=True to override this.\n"
     ]
    },
    {
     "name": "stdout",
     "output_type": "stream",
     "text": [
      "\n",
      "Prophet...... Median Percent Error of Range: 22.684122248212503\n",
      "\n",
      "XGBoost...... Median Percent Error of Range: 16.95700813742246\n",
      "\n",
      "###########################################################\n",
      "File: 155_0.pkl\n",
      "Length on load: 26304\n",
      "Length after agg: 1096\n",
      "Dropped N/A cols: 0\n",
      "Length after blank drop: 1096\n",
      "\n",
      "ARIMA Model...... Median Percent Error of Range: 8.531972598423682\n"
     ]
    },
    {
     "name": "stderr",
     "output_type": "stream",
     "text": [
      "INFO:prophet:Disabling yearly seasonality. Run prophet with yearly_seasonality=True to override this.\n"
     ]
    },
    {
     "name": "stdout",
     "output_type": "stream",
     "text": [
      "\n",
      "Prophet...... Median Percent Error of Range: 16.25253627173962\n",
      "\n",
      "XGBoost...... Median Percent Error of Range: 14.204668018915859\n",
      "\n",
      "###########################################################\n",
      "File: 201_3.pkl\n",
      "Length on load: 26301\n",
      "Length after agg: 1096\n",
      "Dropped N/A cols: 0\n",
      "Length after blank drop: 1096\n",
      "\n",
      "ARIMA Model...... Median Percent Error of Range: 11.342298857976644\n"
     ]
    },
    {
     "name": "stderr",
     "output_type": "stream",
     "text": [
      "INFO:prophet:Disabling yearly seasonality. Run prophet with yearly_seasonality=True to override this.\n"
     ]
    },
    {
     "name": "stdout",
     "output_type": "stream",
     "text": [
      "\n",
      "Prophet...... Median Percent Error of Range: 32.35723880293035\n",
      "\n",
      "XGBoost...... Median Percent Error of Range: 11.158242026378652\n",
      "\n",
      "###########################################################\n",
      "File: 203_1.pkl\n",
      "Length on load: 26301\n",
      "Length after agg: 1096\n",
      "Dropped N/A cols: 0\n",
      "Length after blank drop: 1096\n",
      "\n",
      "ARIMA Model...... Median Percent Error of Range: 75.37991090607284\n"
     ]
    },
    {
     "name": "stderr",
     "output_type": "stream",
     "text": [
      "INFO:prophet:Disabling yearly seasonality. Run prophet with yearly_seasonality=True to override this.\n"
     ]
    },
    {
     "name": "stdout",
     "output_type": "stream",
     "text": [
      "\n",
      "Prophet...... Median Percent Error of Range: 77.85552197698124\n",
      "\n",
      "XGBoost...... Median Percent Error of Range: 24.03660629346045\n",
      "\n",
      "###########################################################\n",
      "File: 205_0.pkl\n",
      "Length on load: 26301\n",
      "Length after agg: 1096\n",
      "Dropped N/A cols: 0\n",
      "Length after blank drop: 1096\n",
      "\n",
      "ARIMA Model...... Median Percent Error of Range: 26.918098710924077\n"
     ]
    },
    {
     "name": "stderr",
     "output_type": "stream",
     "text": [
      "INFO:prophet:Disabling yearly seasonality. Run prophet with yearly_seasonality=True to override this.\n"
     ]
    },
    {
     "name": "stdout",
     "output_type": "stream",
     "text": [
      "\n",
      "Prophet...... Median Percent Error of Range: 169.08464837038102\n",
      "\n",
      "XGBoost...... Median Percent Error of Range: 20.961782094594504\n",
      "\n",
      "###########################################################\n",
      "File: 213_3.pkl\n",
      "Length on load: 26301\n",
      "Length after agg: 1096\n",
      "Dropped N/A cols: 0\n",
      "Length after blank drop: 1096\n",
      "\n",
      "ARIMA Model...... Median Percent Error of Range: 52.736403146296915\n"
     ]
    },
    {
     "name": "stderr",
     "output_type": "stream",
     "text": [
      "INFO:prophet:Disabling yearly seasonality. Run prophet with yearly_seasonality=True to override this.\n"
     ]
    },
    {
     "name": "stdout",
     "output_type": "stream",
     "text": [
      "\n",
      "Prophet...... Median Percent Error of Range: 97.00856764108049\n",
      "\n",
      "XGBoost...... Median Percent Error of Range: 51.395823416174146\n",
      "\n",
      "###########################################################\n",
      "File: 217_0.pkl\n",
      "Length on load: 26302\n",
      "Length after agg: 1096\n",
      "Dropped N/A cols: 0\n",
      "Length after blank drop: 1096\n",
      "\n",
      "ARIMA Model...... Median Percent Error of Range: 18.611510373449143\n"
     ]
    },
    {
     "name": "stderr",
     "output_type": "stream",
     "text": [
      "INFO:prophet:Disabling yearly seasonality. Run prophet with yearly_seasonality=True to override this.\n"
     ]
    },
    {
     "name": "stdout",
     "output_type": "stream",
     "text": [
      "\n",
      "Prophet...... Median Percent Error of Range: 26.771249542380144\n",
      "\n",
      "XGBoost...... Median Percent Error of Range: 10.119811577210141\n",
      "\n",
      "###########################################################\n",
      "File: 229_0.pkl\n",
      "Length on load: 26302\n",
      "Length after agg: 1096\n",
      "Dropped N/A cols: 0\n",
      "Length after blank drop: 1096\n",
      "\n",
      "ARIMA Model...... Median Percent Error of Range: 44.83665447213782\n"
     ]
    },
    {
     "name": "stderr",
     "output_type": "stream",
     "text": [
      "INFO:prophet:Disabling yearly seasonality. Run prophet with yearly_seasonality=True to override this.\n"
     ]
    },
    {
     "name": "stdout",
     "output_type": "stream",
     "text": [
      "\n",
      "Prophet...... Median Percent Error of Range: 50.38825525178352\n",
      "\n",
      "XGBoost...... Median Percent Error of Range: 39.562776548330305\n",
      "\n",
      "###########################################################\n",
      "File: 237_0.pkl\n",
      "Length on load: 26302\n",
      "Length after agg: 1096\n",
      "Dropped N/A cols: 0\n",
      "Length after blank drop: 1096\n",
      "\n",
      "ARIMA Model...... Median Percent Error of Range: 11.188120855861532\n"
     ]
    },
    {
     "name": "stderr",
     "output_type": "stream",
     "text": [
      "INFO:prophet:Disabling yearly seasonality. Run prophet with yearly_seasonality=True to override this.\n"
     ]
    },
    {
     "name": "stdout",
     "output_type": "stream",
     "text": [
      "\n",
      "Prophet...... Median Percent Error of Range: 9.610622723490838\n",
      "\n",
      "XGBoost...... Median Percent Error of Range: 7.556367012187451\n",
      "\n",
      "###########################################################\n",
      "File: 253_1.pkl\n",
      "Length on load: 26302\n",
      "Length after agg: 1096\n",
      "Dropped N/A cols: 0\n",
      "Length after blank drop: 1096\n",
      "\n",
      "ARIMA Model...... Median Percent Error of Range: 45.76248543052617\n"
     ]
    },
    {
     "name": "stderr",
     "output_type": "stream",
     "text": [
      "INFO:prophet:Disabling yearly seasonality. Run prophet with yearly_seasonality=True to override this.\n"
     ]
    },
    {
     "name": "stdout",
     "output_type": "stream",
     "text": [
      "\n",
      "Prophet...... Median Percent Error of Range: 27.9920666539243\n",
      "\n",
      "XGBoost...... Median Percent Error of Range: 29.912785497683064\n",
      "\n",
      "###########################################################\n",
      "File: 273_0.pkl\n",
      "Length on load: 26303\n",
      "Length after agg: 1096\n",
      "Dropped N/A cols: 0\n",
      "Length after blank drop: 1096\n",
      "\n",
      "ARIMA Model...... Median Percent Error of Range: 19.9745594084389\n"
     ]
    },
    {
     "name": "stderr",
     "output_type": "stream",
     "text": [
      "INFO:prophet:Disabling yearly seasonality. Run prophet with yearly_seasonality=True to override this.\n"
     ]
    },
    {
     "name": "stdout",
     "output_type": "stream",
     "text": [
      "\n",
      "Prophet...... Median Percent Error of Range: 32.930149742673095\n",
      "\n",
      "XGBoost...... Median Percent Error of Range: 9.924992204322573\n",
      "\n",
      "###########################################################\n",
      "File: 293_0.pkl\n",
      "Length on load: 26302\n",
      "Length after agg: 1096\n",
      "Dropped N/A cols: 0\n",
      "Length after blank drop: 1096\n",
      "\n",
      "ARIMA Model...... Median Percent Error of Range: 29.388569532957508\n"
     ]
    },
    {
     "name": "stderr",
     "output_type": "stream",
     "text": [
      "INFO:prophet:Disabling yearly seasonality. Run prophet with yearly_seasonality=True to override this.\n"
     ]
    },
    {
     "name": "stdout",
     "output_type": "stream",
     "text": [
      "\n",
      "Prophet...... Median Percent Error of Range: 29.784681427109618\n",
      "\n",
      "XGBoost...... Median Percent Error of Range: 16.158416598813886\n",
      "\n",
      "###########################################################\n",
      "File: 297_0.pkl\n",
      "Length on load: 26278\n",
      "Length after agg: 1096\n",
      "Dropped N/A cols: 1\n",
      "Length after blank drop: 1095\n",
      "\n",
      "ARIMA Model...... Median Percent Error of Range: 25.325366768026967\n"
     ]
    },
    {
     "name": "stderr",
     "output_type": "stream",
     "text": [
      "INFO:prophet:Disabling yearly seasonality. Run prophet with yearly_seasonality=True to override this.\n"
     ]
    },
    {
     "name": "stdout",
     "output_type": "stream",
     "text": [
      "\n",
      "Prophet...... Median Percent Error of Range: 76.61360935578617\n",
      "\n",
      "XGBoost...... Median Percent Error of Range: 10.083367132371473\n",
      "\n",
      "###########################################################\n",
      "File: 317_0.pkl\n",
      "Length on load: 26302\n",
      "Length after agg: 1096\n",
      "Dropped N/A cols: 0\n",
      "Length after blank drop: 1096\n",
      "\n",
      "ARIMA Model...... Median Percent Error of Range: 90.97284785531102\n"
     ]
    },
    {
     "name": "stderr",
     "output_type": "stream",
     "text": [
      "INFO:prophet:Disabling yearly seasonality. Run prophet with yearly_seasonality=True to override this.\n"
     ]
    },
    {
     "name": "stdout",
     "output_type": "stream",
     "text": [
      "\n",
      "Prophet...... Median Percent Error of Range: 108.66263258654718\n",
      "\n",
      "XGBoost...... Median Percent Error of Range: 10.570008345727642\n",
      "\n",
      "###########################################################\n",
      "File: 326_0.pkl\n",
      "Length on load: 26278\n",
      "Length after agg: 1096\n",
      "Dropped N/A cols: 1\n",
      "Length after blank drop: 1095\n",
      "\n",
      "ARIMA Model...... Median Percent Error of Range: 18.83848852638601\n"
     ]
    },
    {
     "name": "stderr",
     "output_type": "stream",
     "text": [
      "INFO:prophet:Disabling yearly seasonality. Run prophet with yearly_seasonality=True to override this.\n"
     ]
    },
    {
     "name": "stdout",
     "output_type": "stream",
     "text": [
      "\n",
      "Prophet...... Median Percent Error of Range: 95.31350054193219\n",
      "\n",
      "XGBoost...... Median Percent Error of Range: 17.72317572406868\n",
      "\n",
      "###########################################################\n",
      "File: 330_0.pkl\n",
      "Length on load: 26302\n",
      "Length after agg: 1096\n",
      "Dropped N/A cols: 0\n",
      "Length after blank drop: 1096\n",
      "\n",
      "ARIMA Model...... Median Percent Error of Range: 13.438737352721327\n"
     ]
    },
    {
     "name": "stderr",
     "output_type": "stream",
     "text": [
      "INFO:prophet:Disabling yearly seasonality. Run prophet with yearly_seasonality=True to override this.\n"
     ]
    },
    {
     "name": "stdout",
     "output_type": "stream",
     "text": [
      "\n",
      "Prophet...... Median Percent Error of Range: 52.911014331633076\n",
      "\n",
      "XGBoost...... Median Percent Error of Range: 13.697048286511206\n",
      "\n",
      "###########################################################\n",
      "File: 331_0.pkl\n",
      "Length on load: 26302\n",
      "Length after agg: 1096\n",
      "Dropped N/A cols: 0\n",
      "Length after blank drop: 1096\n",
      "\n",
      "ARIMA Model...... Median Percent Error of Range: 339.906528451561\n"
     ]
    },
    {
     "name": "stderr",
     "output_type": "stream",
     "text": [
      "INFO:prophet:Disabling yearly seasonality. Run prophet with yearly_seasonality=True to override this.\n"
     ]
    },
    {
     "name": "stdout",
     "output_type": "stream",
     "text": [
      "\n",
      "Prophet...... Median Percent Error of Range: 3146.908555283741\n",
      "\n",
      "XGBoost...... Median Percent Error of Range: 284.6897465341967\n",
      "\n",
      "###########################################################\n",
      "File: 337_0.pkl\n",
      "Length on load: 26302\n",
      "Length after agg: 1096\n",
      "Dropped N/A cols: 0\n",
      "Length after blank drop: 1096\n",
      "\n",
      "ARIMA Model...... Median Percent Error of Range: 9.202381202265961\n"
     ]
    },
    {
     "name": "stderr",
     "output_type": "stream",
     "text": [
      "INFO:prophet:Disabling yearly seasonality. Run prophet with yearly_seasonality=True to override this.\n"
     ]
    },
    {
     "name": "stdout",
     "output_type": "stream",
     "text": [
      "\n",
      "Prophet...... Median Percent Error of Range: 15.14964351227199\n",
      "\n",
      "XGBoost...... Median Percent Error of Range: 24.41092080187\n",
      "\n",
      "###########################################################\n",
      "File: 344_0.pkl\n",
      "Length on load: 26278\n",
      "Length after agg: 1096\n",
      "Dropped N/A cols: 1\n",
      "Length after blank drop: 1095\n",
      "\n",
      "ARIMA Model...... Median Percent Error of Range: 17.259724542563784\n"
     ]
    },
    {
     "name": "stderr",
     "output_type": "stream",
     "text": [
      "INFO:prophet:Disabling yearly seasonality. Run prophet with yearly_seasonality=True to override this.\n"
     ]
    },
    {
     "name": "stdout",
     "output_type": "stream",
     "text": [
      "\n",
      "Prophet...... Median Percent Error of Range: 94.55156946276917\n",
      "\n",
      "XGBoost...... Median Percent Error of Range: 12.20803891747453\n",
      "\n",
      "###########################################################\n",
      "File: 374_0.pkl\n",
      "Length on load: 26281\n",
      "Length after agg: 1096\n",
      "Dropped N/A cols: 0\n",
      "Length after blank drop: 1096\n",
      "\n",
      "ARIMA Model...... Median Percent Error of Range: 19.409805714074373\n"
     ]
    },
    {
     "name": "stderr",
     "output_type": "stream",
     "text": [
      "INFO:prophet:Disabling yearly seasonality. Run prophet with yearly_seasonality=True to override this.\n"
     ]
    },
    {
     "name": "stdout",
     "output_type": "stream",
     "text": [
      "\n",
      "Prophet...... Median Percent Error of Range: 47.15632040950537\n",
      "\n",
      "XGBoost...... Median Percent Error of Range: 10.413540312647893\n",
      "\n",
      "###########################################################\n",
      "File: 375_0.pkl\n",
      "Length on load: 26302\n",
      "Length after agg: 1096\n",
      "Dropped N/A cols: 0\n",
      "Length after blank drop: 1096\n",
      "\n",
      "ARIMA Model...... Median Percent Error of Range: 38.88813997597991\n"
     ]
    },
    {
     "name": "stderr",
     "output_type": "stream",
     "text": [
      "INFO:prophet:Disabling yearly seasonality. Run prophet with yearly_seasonality=True to override this.\n"
     ]
    },
    {
     "name": "stdout",
     "output_type": "stream",
     "text": [
      "\n",
      "Prophet...... Median Percent Error of Range: 57.41275764985421\n",
      "\n",
      "XGBoost...... Median Percent Error of Range: 22.17563163267087\n",
      "\n",
      "###########################################################\n",
      "File: 381_0.pkl\n",
      "Length on load: 26278\n",
      "Length after agg: 1096\n",
      "Dropped N/A cols: 1\n",
      "Length after blank drop: 1095\n",
      "\n",
      "ARIMA Model...... Median Percent Error of Range: 20.351931264221513\n"
     ]
    },
    {
     "name": "stderr",
     "output_type": "stream",
     "text": [
      "INFO:prophet:Disabling yearly seasonality. Run prophet with yearly_seasonality=True to override this.\n"
     ]
    },
    {
     "name": "stdout",
     "output_type": "stream",
     "text": [
      "\n",
      "Prophet...... Median Percent Error of Range: 25.614751766346128\n",
      "\n",
      "XGBoost...... Median Percent Error of Range: 38.83746135525587\n",
      "\n",
      "###########################################################\n",
      "File: 399_0.pkl\n",
      "Length on load: 26286\n",
      "Length after agg: 1096\n",
      "Dropped N/A cols: 0\n",
      "Length after blank drop: 1096\n",
      "\n",
      "ARIMA Model...... Median Percent Error of Range: 36.07007727477804\n"
     ]
    },
    {
     "name": "stderr",
     "output_type": "stream",
     "text": [
      "INFO:prophet:Disabling yearly seasonality. Run prophet with yearly_seasonality=True to override this.\n"
     ]
    },
    {
     "name": "stdout",
     "output_type": "stream",
     "text": [
      "\n",
      "Prophet...... Median Percent Error of Range: 73.56700961236804\n",
      "\n",
      "XGBoost...... Median Percent Error of Range: 26.501606499511237\n",
      "\n",
      "###########################################################\n",
      "File: 405_0.pkl\n",
      "Length on load: 26302\n",
      "Length after agg: 1096\n",
      "Dropped N/A cols: 0\n",
      "Length after blank drop: 1096\n",
      "\n",
      "ARIMA Model...... Median Percent Error of Range: 18.299381744019907\n"
     ]
    },
    {
     "name": "stderr",
     "output_type": "stream",
     "text": [
      "INFO:prophet:Disabling yearly seasonality. Run prophet with yearly_seasonality=True to override this.\n"
     ]
    },
    {
     "name": "stdout",
     "output_type": "stream",
     "text": [
      "\n",
      "Prophet...... Median Percent Error of Range: 111.50757437713237\n",
      "\n",
      "XGBoost...... Median Percent Error of Range: 16.941166299745888\n",
      "\n",
      "###########################################################\n",
      "File: 407_0.pkl\n",
      "Length on load: 26302\n",
      "Length after agg: 1096\n",
      "Dropped N/A cols: 0\n",
      "Length after blank drop: 1096\n",
      "\n",
      "ARIMA Model...... Median Percent Error of Range: 19.160888123673654\n"
     ]
    },
    {
     "name": "stderr",
     "output_type": "stream",
     "text": [
      "INFO:prophet:Disabling yearly seasonality. Run prophet with yearly_seasonality=True to override this.\n"
     ]
    },
    {
     "name": "stdout",
     "output_type": "stream",
     "text": [
      "\n",
      "Prophet...... Median Percent Error of Range: 41.02775357688129\n",
      "\n",
      "XGBoost...... Median Percent Error of Range: 10.10931175211263\n",
      "\n",
      "###########################################################\n",
      "File: 428_0.pkl\n",
      "Length on load: 26302\n",
      "Length after agg: 1096\n",
      "Dropped N/A cols: 0\n",
      "Length after blank drop: 1096\n",
      "\n",
      "ARIMA Model...... Median Percent Error of Range: 10.987825972065218\n"
     ]
    },
    {
     "name": "stderr",
     "output_type": "stream",
     "text": [
      "INFO:prophet:Disabling yearly seasonality. Run prophet with yearly_seasonality=True to override this.\n"
     ]
    },
    {
     "name": "stdout",
     "output_type": "stream",
     "text": [
      "\n",
      "Prophet...... Median Percent Error of Range: 17.987236238676413\n",
      "\n",
      "XGBoost...... Median Percent Error of Range: 25.19348259652429\n",
      "\n",
      "###########################################################\n",
      "File: 461_0.pkl\n",
      "Length on load: 26302\n",
      "Length after agg: 1096\n",
      "Dropped N/A cols: 0\n",
      "Length after blank drop: 1096\n",
      "\n",
      "ARIMA Model...... Median Percent Error of Range: 27.634103058976766\n"
     ]
    },
    {
     "name": "stderr",
     "output_type": "stream",
     "text": [
      "INFO:prophet:Disabling yearly seasonality. Run prophet with yearly_seasonality=True to override this.\n"
     ]
    },
    {
     "name": "stdout",
     "output_type": "stream",
     "text": [
      "\n",
      "Prophet...... Median Percent Error of Range: 54.941612995916635\n",
      "\n",
      "XGBoost...... Median Percent Error of Range: 20.3000457067255\n",
      "\n",
      "###########################################################\n",
      "File: 490_0.pkl\n",
      "Length on load: 26302\n",
      "Length after agg: 1096\n",
      "Dropped N/A cols: 0\n",
      "Length after blank drop: 1096\n",
      "\n",
      "ARIMA Model...... Median Percent Error of Range: 117.32215532873063\n"
     ]
    },
    {
     "name": "stderr",
     "output_type": "stream",
     "text": [
      "INFO:prophet:Disabling yearly seasonality. Run prophet with yearly_seasonality=True to override this.\n"
     ]
    },
    {
     "name": "stdout",
     "output_type": "stream",
     "text": [
      "\n",
      "Prophet...... Median Percent Error of Range: 123.30490769973265\n",
      "\n",
      "XGBoost...... Median Percent Error of Range: 21.884157584674877\n",
      "\n",
      "###########################################################\n",
      "File: 493_0.pkl\n",
      "Length on load: 26302\n",
      "Length after agg: 1096\n",
      "Dropped N/A cols: 0\n",
      "Length after blank drop: 1096\n",
      "\n",
      "ARIMA Model...... Median Percent Error of Range: 37.3206301217449\n"
     ]
    },
    {
     "name": "stderr",
     "output_type": "stream",
     "text": [
      "INFO:prophet:Disabling yearly seasonality. Run prophet with yearly_seasonality=True to override this.\n"
     ]
    },
    {
     "name": "stdout",
     "output_type": "stream",
     "text": [
      "\n",
      "Prophet...... Median Percent Error of Range: 45.370570703829\n",
      "\n",
      "XGBoost...... Median Percent Error of Range: 25.968734359494718\n",
      "\n",
      "###########################################################\n",
      "File: 563_0.pkl\n",
      "Length on load: 26302\n",
      "Length after agg: 1096\n",
      "Dropped N/A cols: 0\n",
      "Length after blank drop: 1096\n",
      "\n",
      "ARIMA Model...... Median Percent Error of Range: 60.40656346157248\n"
     ]
    },
    {
     "name": "stderr",
     "output_type": "stream",
     "text": [
      "INFO:prophet:Disabling yearly seasonality. Run prophet with yearly_seasonality=True to override this.\n"
     ]
    },
    {
     "name": "stdout",
     "output_type": "stream",
     "text": [
      "\n",
      "Prophet...... Median Percent Error of Range: 119.0426441246341\n",
      "\n",
      "XGBoost...... Median Percent Error of Range: 14.919574034513005\n",
      "\n",
      "###########################################################\n",
      "File: 589_0.pkl\n",
      "Length on load: 26303\n",
      "Length after agg: 1096\n",
      "Dropped N/A cols: 0\n",
      "Length after blank drop: 1096\n",
      "\n",
      "ARIMA Model...... Median Percent Error of Range: 12.386306319484822\n"
     ]
    },
    {
     "name": "stderr",
     "output_type": "stream",
     "text": [
      "INFO:prophet:Disabling yearly seasonality. Run prophet with yearly_seasonality=True to override this.\n"
     ]
    },
    {
     "name": "stdout",
     "output_type": "stream",
     "text": [
      "\n",
      "Prophet...... Median Percent Error of Range: 9.600317753924594\n",
      "\n",
      "XGBoost...... Median Percent Error of Range: 4.287281685607517\n",
      "\n",
      "###########################################################\n",
      "File: 595_0.pkl\n",
      "Length on load: 26303\n",
      "Length after agg: 1096\n",
      "Dropped N/A cols: 0\n",
      "Length after blank drop: 1096\n",
      "\n",
      "ARIMA Model...... Median Percent Error of Range: 6.6378177782122645\n"
     ]
    },
    {
     "name": "stderr",
     "output_type": "stream",
     "text": [
      "INFO:prophet:Disabling yearly seasonality. Run prophet with yearly_seasonality=True to override this.\n"
     ]
    },
    {
     "name": "stdout",
     "output_type": "stream",
     "text": [
      "\n",
      "Prophet...... Median Percent Error of Range: 24.10769287901884\n",
      "\n",
      "XGBoost...... Median Percent Error of Range: 18.86517351308412\n",
      "\n",
      "###########################################################\n",
      "File: 663_0.pkl\n",
      "Length on load: 26304\n",
      "Length after agg: 1096\n",
      "Dropped N/A cols: 0\n",
      "Length after blank drop: 1096\n",
      "\n",
      "ARIMA Model...... Median Percent Error of Range: 30.573996095707727\n"
     ]
    },
    {
     "name": "stderr",
     "output_type": "stream",
     "text": [
      "INFO:prophet:Disabling yearly seasonality. Run prophet with yearly_seasonality=True to override this.\n"
     ]
    },
    {
     "name": "stdout",
     "output_type": "stream",
     "text": [
      "\n",
      "Prophet...... Median Percent Error of Range: 65.44124357532152\n",
      "\n",
      "XGBoost...... Median Percent Error of Range: 7.516380807627801\n",
      "\n",
      "###########################################################\n",
      "File: 678_0.pkl\n",
      "Length on load: 26304\n",
      "Length after agg: 1096\n",
      "Dropped N/A cols: 0\n",
      "Length after blank drop: 1096\n",
      "\n",
      "ARIMA Model...... Median Percent Error of Range: 13.226002380974947\n"
     ]
    },
    {
     "name": "stderr",
     "output_type": "stream",
     "text": [
      "INFO:prophet:Disabling yearly seasonality. Run prophet with yearly_seasonality=True to override this.\n"
     ]
    },
    {
     "name": "stdout",
     "output_type": "stream",
     "text": [
      "\n",
      "Prophet...... Median Percent Error of Range: 10.557944150958262\n",
      "\n",
      "XGBoost...... Median Percent Error of Range: 5.936101965002112\n",
      "\n",
      "###########################################################\n",
      "File: 682_0.pkl\n",
      "Length on load: 26304\n",
      "Length after agg: 1096\n",
      "Dropped N/A cols: 0\n",
      "Length after blank drop: 1096\n",
      "\n",
      "ARIMA Model...... Median Percent Error of Range: 15.066575089218256\n"
     ]
    },
    {
     "name": "stderr",
     "output_type": "stream",
     "text": [
      "INFO:prophet:Disabling yearly seasonality. Run prophet with yearly_seasonality=True to override this.\n"
     ]
    },
    {
     "name": "stdout",
     "output_type": "stream",
     "text": [
      "\n",
      "Prophet...... Median Percent Error of Range: 18.689967419452156\n",
      "\n",
      "XGBoost...... Median Percent Error of Range: 19.232163659185307\n",
      "\n",
      "###########################################################\n",
      "File: 684_0.pkl\n",
      "Length on load: 26304\n",
      "Length after agg: 1096\n",
      "Dropped N/A cols: 0\n",
      "Length after blank drop: 1096\n",
      "\n",
      "ARIMA Model...... Median Percent Error of Range: 17.47594695795177\n"
     ]
    },
    {
     "name": "stderr",
     "output_type": "stream",
     "text": [
      "INFO:prophet:Disabling yearly seasonality. Run prophet with yearly_seasonality=True to override this.\n"
     ]
    },
    {
     "name": "stdout",
     "output_type": "stream",
     "text": [
      "\n",
      "Prophet...... Median Percent Error of Range: 17.73696773776271\n",
      "\n",
      "XGBoost...... Median Percent Error of Range: 37.90078150631562\n",
      "\n",
      "###########################################################\n",
      "File: 697_0.pkl\n",
      "Length on load: 26304\n",
      "Length after agg: 1096\n",
      "Dropped N/A cols: 0\n",
      "Length after blank drop: 1096\n",
      "\n",
      "ARIMA Model...... Median Percent Error of Range: 23.60026267732971\n"
     ]
    },
    {
     "name": "stderr",
     "output_type": "stream",
     "text": [
      "INFO:prophet:Disabling yearly seasonality. Run prophet with yearly_seasonality=True to override this.\n"
     ]
    },
    {
     "name": "stdout",
     "output_type": "stream",
     "text": [
      "\n",
      "Prophet...... Median Percent Error of Range: 21.12382802607907\n",
      "\n",
      "XGBoost...... Median Percent Error of Range: 10.712836398650632\n",
      "\n",
      "###########################################################\n",
      "File: 709_0.pkl\n",
      "Length on load: 26304\n",
      "Length after agg: 1096\n",
      "Dropped N/A cols: 0\n",
      "Length after blank drop: 1096\n",
      "\n",
      "ARIMA Model...... Median Percent Error of Range: 18.67065046717716\n"
     ]
    },
    {
     "name": "stderr",
     "output_type": "stream",
     "text": [
      "INFO:prophet:Disabling yearly seasonality. Run prophet with yearly_seasonality=True to override this.\n"
     ]
    },
    {
     "name": "stdout",
     "output_type": "stream",
     "text": [
      "\n",
      "Prophet...... Median Percent Error of Range: 10.389637283184873\n",
      "\n",
      "XGBoost...... Median Percent Error of Range: 13.118123692392517\n",
      "\n",
      "###########################################################\n",
      "File: 724_0.pkl\n",
      "Length on load: 26304\n",
      "Length after agg: 1096\n",
      "Dropped N/A cols: 0\n",
      "Length after blank drop: 1096\n",
      "\n",
      "ARIMA Model...... Median Percent Error of Range: 12.716108636517303\n"
     ]
    },
    {
     "name": "stderr",
     "output_type": "stream",
     "text": [
      "INFO:prophet:Disabling yearly seasonality. Run prophet with yearly_seasonality=True to override this.\n"
     ]
    },
    {
     "name": "stdout",
     "output_type": "stream",
     "text": [
      "\n",
      "Prophet...... Median Percent Error of Range: 10.541587334069472\n",
      "\n",
      "XGBoost...... Median Percent Error of Range: 13.256636648113185\n",
      "\n",
      "###########################################################\n",
      "File: 727_0.pkl\n",
      "Length on load: 26304\n",
      "Length after agg: 1096\n",
      "Dropped N/A cols: 0\n",
      "Length after blank drop: 1096\n",
      "\n",
      "ARIMA Model...... Median Percent Error of Range: 32.89517748069623\n"
     ]
    },
    {
     "name": "stderr",
     "output_type": "stream",
     "text": [
      "INFO:prophet:Disabling yearly seasonality. Run prophet with yearly_seasonality=True to override this.\n"
     ]
    },
    {
     "name": "stdout",
     "output_type": "stream",
     "text": [
      "\n",
      "Prophet...... Median Percent Error of Range: 34.1869932503955\n",
      "\n",
      "XGBoost...... Median Percent Error of Range: 23.29611960306953\n",
      "\n",
      "###########################################################\n",
      "File: 743_0.pkl\n",
      "Length on load: 26304\n",
      "Length after agg: 1096\n",
      "Dropped N/A cols: 0\n",
      "Length after blank drop: 1096\n",
      "\n",
      "ARIMA Model...... Median Percent Error of Range: 61.0931111694361\n"
     ]
    },
    {
     "name": "stderr",
     "output_type": "stream",
     "text": [
      "INFO:prophet:Disabling yearly seasonality. Run prophet with yearly_seasonality=True to override this.\n"
     ]
    },
    {
     "name": "stdout",
     "output_type": "stream",
     "text": [
      "\n",
      "Prophet...... Median Percent Error of Range: 50.179222484573174\n",
      "\n",
      "XGBoost...... Median Percent Error of Range: 105.29202259352563\n",
      "\n",
      "###########################################################\n",
      "File: 748_0.pkl\n",
      "Length on load: 26287\n",
      "Length after agg: 1096\n",
      "Dropped N/A cols: 0\n",
      "Length after blank drop: 1096\n",
      "\n",
      "ARIMA Model...... Median Percent Error of Range: 17.298313074876717\n"
     ]
    },
    {
     "name": "stderr",
     "output_type": "stream",
     "text": [
      "INFO:prophet:Disabling yearly seasonality. Run prophet with yearly_seasonality=True to override this.\n"
     ]
    },
    {
     "name": "stdout",
     "output_type": "stream",
     "text": [
      "\n",
      "Prophet...... Median Percent Error of Range: 13.185876728997666\n",
      "\n",
      "XGBoost...... Median Percent Error of Range: 13.13825111042893\n",
      "\n",
      "###########################################################\n",
      "File: 771_0.pkl\n",
      "Length on load: 26232\n",
      "Length after agg: 1096\n",
      "Dropped N/A cols: 2\n",
      "Length after blank drop: 1094\n",
      "\n",
      "ARIMA Model...... Median Percent Error of Range: 15.50472907341282\n"
     ]
    },
    {
     "name": "stderr",
     "output_type": "stream",
     "text": [
      "INFO:prophet:Disabling yearly seasonality. Run prophet with yearly_seasonality=True to override this.\n"
     ]
    },
    {
     "name": "stdout",
     "output_type": "stream",
     "text": [
      "\n",
      "Prophet...... Median Percent Error of Range: 60.61349998364498\n",
      "\n",
      "XGBoost...... Median Percent Error of Range: 27.225006986493757\n",
      "\n",
      "###########################################################\n",
      "File: 787_0.pkl\n",
      "Length on load: 26295\n",
      "Length after agg: 1096\n",
      "Dropped N/A cols: 0\n",
      "Length after blank drop: 1096\n",
      "\n",
      "ARIMA Model...... Median Percent Error of Range: 7.94632649989961\n"
     ]
    },
    {
     "name": "stderr",
     "output_type": "stream",
     "text": [
      "INFO:prophet:Disabling yearly seasonality. Run prophet with yearly_seasonality=True to override this.\n"
     ]
    },
    {
     "name": "stdout",
     "output_type": "stream",
     "text": [
      "\n",
      "Prophet...... Median Percent Error of Range: 64.46839025657351\n",
      "\n",
      "XGBoost...... Median Percent Error of Range: 17.30232469607756\n",
      "\n",
      "###########################################################\n",
      "File: 793_0.pkl\n",
      "Length on load: 26302\n",
      "Length after agg: 1096\n",
      "Dropped N/A cols: 0\n",
      "Length after blank drop: 1096\n",
      "\n",
      "ARIMA Model...... Median Percent Error of Range: 17.596589269034077\n"
     ]
    },
    {
     "name": "stderr",
     "output_type": "stream",
     "text": [
      "INFO:prophet:Disabling yearly seasonality. Run prophet with yearly_seasonality=True to override this.\n"
     ]
    },
    {
     "name": "stdout",
     "output_type": "stream",
     "text": [
      "\n",
      "Prophet...... Median Percent Error of Range: 22.497902861059117\n",
      "\n",
      "XGBoost...... Median Percent Error of Range: 13.294702774976377\n",
      "\n",
      "###########################################################\n",
      "File: 794_0.pkl\n",
      "Length on load: 26302\n",
      "Length after agg: 1096\n",
      "Dropped N/A cols: 0\n",
      "Length after blank drop: 1096\n",
      "\n",
      "ARIMA Model...... Median Percent Error of Range: 8.776978731016516\n"
     ]
    },
    {
     "name": "stderr",
     "output_type": "stream",
     "text": [
      "INFO:prophet:Disabling yearly seasonality. Run prophet with yearly_seasonality=True to override this.\n"
     ]
    },
    {
     "name": "stdout",
     "output_type": "stream",
     "text": [
      "\n",
      "Prophet...... Median Percent Error of Range: 5.572907127946672\n",
      "\n",
      "XGBoost...... Median Percent Error of Range: 5.143018245023445\n",
      "\n",
      "###########################################################\n",
      "File: 797_0.pkl\n",
      "Length on load: 26301\n",
      "Length after agg: 1096\n",
      "Dropped N/A cols: 0\n",
      "Length after blank drop: 1096\n",
      "\n",
      "ARIMA Model...... Median Percent Error of Range: 8.040123870442724\n"
     ]
    },
    {
     "name": "stderr",
     "output_type": "stream",
     "text": [
      "INFO:prophet:Disabling yearly seasonality. Run prophet with yearly_seasonality=True to override this.\n"
     ]
    },
    {
     "name": "stdout",
     "output_type": "stream",
     "text": [
      "\n",
      "Prophet...... Median Percent Error of Range: 9.184009683426986\n",
      "\n",
      "XGBoost...... Median Percent Error of Range: 8.030560972888964\n",
      "\n",
      "###########################################################\n",
      "File: 798_0.pkl\n",
      "Length on load: 26301\n",
      "Length after agg: 1096\n",
      "Dropped N/A cols: 0\n",
      "Length after blank drop: 1096\n",
      "\n",
      "ARIMA Model...... Median Percent Error of Range: 5.9312618978837195\n"
     ]
    },
    {
     "name": "stderr",
     "output_type": "stream",
     "text": [
      "INFO:prophet:Disabling yearly seasonality. Run prophet with yearly_seasonality=True to override this.\n"
     ]
    },
    {
     "name": "stdout",
     "output_type": "stream",
     "text": [
      "\n",
      "Prophet...... Median Percent Error of Range: 7.019822139093537\n",
      "\n",
      "XGBoost...... Median Percent Error of Range: 8.60666989176872\n",
      "\n",
      "###########################################################\n",
      "File: 801_0.pkl\n",
      "Length on load: 26301\n",
      "Length after agg: 1096\n",
      "Dropped N/A cols: 0\n",
      "Length after blank drop: 1096\n",
      "\n",
      "ARIMA Model...... Median Percent Error of Range: 104.81534081829436\n"
     ]
    },
    {
     "name": "stderr",
     "output_type": "stream",
     "text": [
      "INFO:prophet:Disabling yearly seasonality. Run prophet with yearly_seasonality=True to override this.\n"
     ]
    },
    {
     "name": "stdout",
     "output_type": "stream",
     "text": [
      "\n",
      "Prophet...... Median Percent Error of Range: 9.1917728005002\n",
      "\n",
      "XGBoost...... Median Percent Error of Range: 5.891729403283363\n",
      "\n",
      "###########################################################\n",
      "File: 844_0.pkl\n",
      "Length on load: 25479\n",
      "Length after agg: 1096\n",
      "Dropped N/A cols: 30\n",
      "Length after blank drop: 1066\n",
      "\n",
      "ARIMA Model...... Median Percent Error of Range: 23.012540384127256\n"
     ]
    },
    {
     "name": "stderr",
     "output_type": "stream",
     "text": [
      "INFO:prophet:Disabling yearly seasonality. Run prophet with yearly_seasonality=True to override this.\n"
     ]
    },
    {
     "name": "stdout",
     "output_type": "stream",
     "text": [
      "\n",
      "Prophet...... Median Percent Error of Range: 20.028960234642682\n",
      "\n",
      "XGBoost...... Median Percent Error of Range: 23.85153259002939\n",
      "\n",
      "###########################################################\n",
      "File: 850_0.pkl\n",
      "Length on load: 25367\n",
      "Length after agg: 1096\n",
      "Dropped N/A cols: 39\n",
      "Length after blank drop: 1057\n",
      "\n",
      "ARIMA Model...... Median Percent Error of Range: 4.844267720292292\n"
     ]
    },
    {
     "name": "stderr",
     "output_type": "stream",
     "text": [
      "INFO:prophet:Disabling yearly seasonality. Run prophet with yearly_seasonality=True to override this.\n"
     ]
    },
    {
     "name": "stdout",
     "output_type": "stream",
     "text": [
      "\n",
      "Prophet...... Median Percent Error of Range: 6.856522966389191\n",
      "\n",
      "XGBoost...... Median Percent Error of Range: 9.373519732489012\n",
      "\n",
      "###########################################################\n",
      "File: 854_0.pkl\n",
      "Length on load: 26039\n",
      "Length after agg: 1096\n",
      "Dropped N/A cols: 11\n",
      "Length after blank drop: 1085\n",
      "\n",
      "ARIMA Model...... Median Percent Error of Range: 29.316223753803968\n"
     ]
    },
    {
     "name": "stderr",
     "output_type": "stream",
     "text": [
      "INFO:prophet:Disabling yearly seasonality. Run prophet with yearly_seasonality=True to override this.\n"
     ]
    },
    {
     "name": "stdout",
     "output_type": "stream",
     "text": [
      "\n",
      "Prophet...... Median Percent Error of Range: 29.255899604724256\n",
      "\n",
      "XGBoost...... Median Percent Error of Range: 22.09068464727916\n",
      "\n",
      "###########################################################\n",
      "File: 998_0.pkl\n",
      "Length on load: 26145\n",
      "Length after agg: 1096\n",
      "Dropped N/A cols: 1\n",
      "Length after blank drop: 1095\n",
      "\n",
      "ARIMA Model...... Median Percent Error of Range: 51.881506580363336\n"
     ]
    },
    {
     "name": "stderr",
     "output_type": "stream",
     "text": [
      "INFO:prophet:Disabling yearly seasonality. Run prophet with yearly_seasonality=True to override this.\n"
     ]
    },
    {
     "name": "stdout",
     "output_type": "stream",
     "text": [
      "\n",
      "Prophet...... Median Percent Error of Range: 38.5638734798036\n",
      "\n",
      "XGBoost...... Median Percent Error of Range: 33.019192356352434\n",
      "\n",
      "###########################################################\n",
      "File: 1022_0.pkl\n",
      "Length on load: 25252\n",
      "Length after agg: 1096\n",
      "Dropped N/A cols: 35\n",
      "Length after blank drop: 1061\n",
      "\n",
      "ARIMA Model...... Median Percent Error of Range: 38.427359829804026\n"
     ]
    },
    {
     "name": "stderr",
     "output_type": "stream",
     "text": [
      "INFO:prophet:Disabling yearly seasonality. Run prophet with yearly_seasonality=True to override this.\n"
     ]
    },
    {
     "name": "stdout",
     "output_type": "stream",
     "text": [
      "\n",
      "Prophet...... Median Percent Error of Range: 35.640462062133786\n",
      "\n",
      "XGBoost...... Median Percent Error of Range: 25.52425237570087\n",
      "\n",
      "###########################################################\n",
      "File: 1030_3.pkl\n",
      "Length on load: 26211\n",
      "Length after agg: 1096\n",
      "Dropped N/A cols: 3\n",
      "Length after blank drop: 1093\n",
      "\n",
      "ARIMA Model...... Median Percent Error of Range: 21.33808646737893\n"
     ]
    },
    {
     "name": "stderr",
     "output_type": "stream",
     "text": [
      "INFO:prophet:Disabling yearly seasonality. Run prophet with yearly_seasonality=True to override this.\n"
     ]
    },
    {
     "name": "stdout",
     "output_type": "stream",
     "text": [
      "\n",
      "Prophet...... Median Percent Error of Range: 12.51049740919995\n",
      "\n",
      "XGBoost...... Median Percent Error of Range: 19.423034319604582\n",
      "\n",
      "###########################################################\n",
      "File: 1034_0.pkl\n",
      "Length on load: 26304\n",
      "Length after agg: 1096\n",
      "Dropped N/A cols: 0\n",
      "Length after blank drop: 1096\n",
      "\n",
      "ARIMA Model...... Median Percent Error of Range: 21.30694178764491\n"
     ]
    },
    {
     "name": "stderr",
     "output_type": "stream",
     "text": [
      "INFO:prophet:Disabling yearly seasonality. Run prophet with yearly_seasonality=True to override this.\n"
     ]
    },
    {
     "name": "stdout",
     "output_type": "stream",
     "text": [
      "\n",
      "Prophet...... Median Percent Error of Range: 15.33005066778013\n",
      "\n",
      "XGBoost...... Median Percent Error of Range: 14.150892995241424\n",
      "\n",
      "###########################################################\n",
      "File: 1047_0.pkl\n",
      "Length on load: 26304\n",
      "Length after agg: 1096\n",
      "Dropped N/A cols: 0\n",
      "Length after blank drop: 1096\n",
      "\n",
      "ARIMA Model...... Median Percent Error of Range: 21.452239448549953\n"
     ]
    },
    {
     "name": "stderr",
     "output_type": "stream",
     "text": [
      "INFO:prophet:Disabling yearly seasonality. Run prophet with yearly_seasonality=True to override this.\n"
     ]
    },
    {
     "name": "stdout",
     "output_type": "stream",
     "text": [
      "\n",
      "Prophet...... Median Percent Error of Range: 18.252797648881526\n",
      "\n",
      "XGBoost...... Median Percent Error of Range: 29.863580941158364\n",
      "\n",
      "###########################################################\n",
      "File: 1048_0.pkl\n",
      "Length on load: 26304\n",
      "Length after agg: 1096\n",
      "Dropped N/A cols: 0\n",
      "Length after blank drop: 1096\n",
      "\n",
      "ARIMA Model...... Median Percent Error of Range: 19.018578660598433\n"
     ]
    },
    {
     "name": "stderr",
     "output_type": "stream",
     "text": [
      "INFO:prophet:Disabling yearly seasonality. Run prophet with yearly_seasonality=True to override this.\n"
     ]
    },
    {
     "name": "stdout",
     "output_type": "stream",
     "text": [
      "\n",
      "Prophet...... Median Percent Error of Range: 20.363901833866173\n",
      "\n",
      "XGBoost...... Median Percent Error of Range: 9.666487636424446\n",
      "\n",
      "###########################################################\n",
      "File: 1073_0.pkl\n",
      "Length on load: 26304\n",
      "Length after agg: 1096\n",
      "Dropped N/A cols: 0\n",
      "Length after blank drop: 1096\n",
      "\n",
      "ARIMA Model...... Median Percent Error of Range: 0.5968767199286343\n"
     ]
    },
    {
     "name": "stderr",
     "output_type": "stream",
     "text": [
      "INFO:prophet:Disabling yearly seasonality. Run prophet with yearly_seasonality=True to override this.\n"
     ]
    },
    {
     "name": "stdout",
     "output_type": "stream",
     "text": [
      "\n",
      "Prophet...... Median Percent Error of Range: 0.9640628159901394\n",
      "\n",
      "XGBoost...... Median Percent Error of Range: 0.7609319307443634\n",
      "\n",
      "###########################################################\n",
      "File: 1073_1.pkl\n",
      "Length on load: 26304\n",
      "Length after agg: 1096\n",
      "Dropped N/A cols: 0\n",
      "Length after blank drop: 1096\n",
      "\n",
      "ARIMA Model...... Median Percent Error of Range: 52.80643796670116\n"
     ]
    },
    {
     "name": "stderr",
     "output_type": "stream",
     "text": [
      "INFO:prophet:Disabling yearly seasonality. Run prophet with yearly_seasonality=True to override this.\n"
     ]
    },
    {
     "name": "stdout",
     "output_type": "stream",
     "text": [
      "\n",
      "Prophet...... Median Percent Error of Range: 48.463584099912474\n",
      "\n",
      "XGBoost...... Median Percent Error of Range: 10.016870486815865\n",
      "\n",
      "###########################################################\n",
      "File: 1073_2.pkl\n",
      "Length on load: 26304\n",
      "Length after agg: 1096\n",
      "Dropped N/A cols: 0\n",
      "Length after blank drop: 1096\n",
      "\n",
      "ARIMA Model...... Median Percent Error of Range: 17.680650527488158\n"
     ]
    },
    {
     "name": "stderr",
     "output_type": "stream",
     "text": [
      "INFO:prophet:Disabling yearly seasonality. Run prophet with yearly_seasonality=True to override this.\n"
     ]
    },
    {
     "name": "stdout",
     "output_type": "stream",
     "text": [
      "\n",
      "Prophet...... Median Percent Error of Range: 16.783314906414326\n",
      "\n",
      "XGBoost...... Median Percent Error of Range: 12.523029122349417\n",
      "\n",
      "###########################################################\n",
      "File: 1079_2.pkl\n",
      "Length on load: 26304\n",
      "Length after agg: 1096\n",
      "Dropped N/A cols: 0\n",
      "Length after blank drop: 1096\n",
      "\n",
      "ARIMA Model...... Median Percent Error of Range: 24.272578041666122\n"
     ]
    },
    {
     "name": "stderr",
     "output_type": "stream",
     "text": [
      "INFO:prophet:Disabling yearly seasonality. Run prophet with yearly_seasonality=True to override this.\n"
     ]
    },
    {
     "name": "stdout",
     "output_type": "stream",
     "text": [
      "\n",
      "Prophet...... Median Percent Error of Range: 21.251130601038636\n",
      "\n",
      "XGBoost...... Median Percent Error of Range: 13.807259976075143\n",
      "\n",
      "###########################################################\n",
      "File: 1081_0.pkl\n",
      "Length on load: 26304\n",
      "Length after agg: 1096\n",
      "Dropped N/A cols: 0\n",
      "Length after blank drop: 1096\n",
      "\n",
      "ARIMA Model...... Median Percent Error of Range: 14.485162709784397\n"
     ]
    },
    {
     "name": "stderr",
     "output_type": "stream",
     "text": [
      "INFO:prophet:Disabling yearly seasonality. Run prophet with yearly_seasonality=True to override this.\n"
     ]
    },
    {
     "name": "stdout",
     "output_type": "stream",
     "text": [
      "\n",
      "Prophet...... Median Percent Error of Range: 25.957852224755975\n",
      "\n",
      "XGBoost...... Median Percent Error of Range: 20.954680340757353\n",
      "\n",
      "###########################################################\n",
      "File: 1088_1.pkl\n",
      "Length on load: 26303\n",
      "Length after agg: 1096\n",
      "Dropped N/A cols: 0\n",
      "Length after blank drop: 1096\n",
      "\n",
      "ARIMA Model...... Median Percent Error of Range: 32.25458670051347\n"
     ]
    },
    {
     "name": "stderr",
     "output_type": "stream",
     "text": [
      "INFO:prophet:Disabling yearly seasonality. Run prophet with yearly_seasonality=True to override this.\n"
     ]
    },
    {
     "name": "stdout",
     "output_type": "stream",
     "text": [
      "\n",
      "Prophet...... Median Percent Error of Range: 43.88576193875078\n",
      "\n",
      "XGBoost...... Median Percent Error of Range: 38.29383038840159\n",
      "\n",
      "###########################################################\n",
      "File: 1091_0.pkl\n",
      "Length on load: 26304\n",
      "Length after agg: 1096\n",
      "Dropped N/A cols: 0\n",
      "Length after blank drop: 1096\n",
      "\n",
      "ARIMA Model...... Median Percent Error of Range: 61.19804632546793\n"
     ]
    },
    {
     "name": "stderr",
     "output_type": "stream",
     "text": [
      "INFO:prophet:Disabling yearly seasonality. Run prophet with yearly_seasonality=True to override this.\n"
     ]
    },
    {
     "name": "stdout",
     "output_type": "stream",
     "text": [
      "\n",
      "Prophet...... Median Percent Error of Range: 113.5168747350416\n",
      "\n",
      "XGBoost...... Median Percent Error of Range: 34.14237544221698\n",
      "\n",
      "###########################################################\n",
      "File: 1099_2.pkl\n",
      "Length on load: 26304\n",
      "Length after agg: 1096\n",
      "Dropped N/A cols: 0\n",
      "Length after blank drop: 1096\n",
      "\n",
      "ARIMA Model...... Median Percent Error of Range: 51364.501760442705\n"
     ]
    },
    {
     "name": "stderr",
     "output_type": "stream",
     "text": [
      "INFO:prophet:Disabling yearly seasonality. Run prophet with yearly_seasonality=True to override this.\n"
     ]
    },
    {
     "name": "stdout",
     "output_type": "stream",
     "text": [
      "\n",
      "Prophet...... Median Percent Error of Range: 272830.7444257943\n",
      "\n",
      "XGBoost...... Median Percent Error of Range: 38014.831764295675\n",
      "\n",
      "###########################################################\n",
      "File: 1104_0.pkl\n",
      "Length on load: 26304\n",
      "Length after agg: 1096\n",
      "Dropped N/A cols: 0\n",
      "Length after blank drop: 1096\n",
      "\n",
      "ARIMA Model...... Median Percent Error of Range: 6.033775065013019\n"
     ]
    },
    {
     "name": "stderr",
     "output_type": "stream",
     "text": [
      "INFO:prophet:Disabling yearly seasonality. Run prophet with yearly_seasonality=True to override this.\n"
     ]
    },
    {
     "name": "stdout",
     "output_type": "stream",
     "text": [
      "\n",
      "Prophet...... Median Percent Error of Range: 10.157496007683777\n",
      "\n",
      "XGBoost...... Median Percent Error of Range: 25.955793205344733\n",
      "\n",
      "###########################################################\n",
      "File: 1105_0.pkl\n",
      "Length on load: 26304\n",
      "Length after agg: 1096\n",
      "Dropped N/A cols: 0\n",
      "Length after blank drop: 1096\n",
      "\n",
      "ARIMA Model...... Median Percent Error of Range: 18.604651508474713\n"
     ]
    },
    {
     "name": "stderr",
     "output_type": "stream",
     "text": [
      "INFO:prophet:Disabling yearly seasonality. Run prophet with yearly_seasonality=True to override this.\n"
     ]
    },
    {
     "name": "stdout",
     "output_type": "stream",
     "text": [
      "\n",
      "Prophet...... Median Percent Error of Range: 12.720287440531003\n",
      "\n",
      "XGBoost...... Median Percent Error of Range: 18.159611100333926\n",
      "\n",
      "###########################################################\n",
      "File: 1105_2.pkl\n",
      "Length on load: 26304\n",
      "Length after agg: 1096\n",
      "Dropped N/A cols: 0\n",
      "Length after blank drop: 1096\n",
      "\n",
      "ARIMA Model...... Median Percent Error of Range: 74.15663776277444\n"
     ]
    },
    {
     "name": "stderr",
     "output_type": "stream",
     "text": [
      "INFO:prophet:Disabling yearly seasonality. Run prophet with yearly_seasonality=True to override this.\n"
     ]
    },
    {
     "name": "stdout",
     "output_type": "stream",
     "text": [
      "\n",
      "Prophet...... Median Percent Error of Range: 37.4879282531709\n",
      "\n",
      "XGBoost...... Median Percent Error of Range: 45.67017612761311\n",
      "\n",
      "###########################################################\n",
      "File: 1108_0.pkl\n",
      "Length on load: 26304\n",
      "Length after agg: 1096\n",
      "Dropped N/A cols: 0\n",
      "Length after blank drop: 1096\n",
      "\n",
      "ARIMA Model...... Median Percent Error of Range: 46.014701799549776\n"
     ]
    },
    {
     "name": "stderr",
     "output_type": "stream",
     "text": [
      "INFO:prophet:Disabling yearly seasonality. Run prophet with yearly_seasonality=True to override this.\n"
     ]
    },
    {
     "name": "stdout",
     "output_type": "stream",
     "text": [
      "\n",
      "Prophet...... Median Percent Error of Range: 19.125042386062425\n",
      "\n",
      "XGBoost...... Median Percent Error of Range: 44.46392100753271\n",
      "\n",
      "###########################################################\n",
      "File: 1109_2.pkl\n",
      "Length on load: 26304\n",
      "Length after agg: 1096\n",
      "Dropped N/A cols: 0\n",
      "Length after blank drop: 1096\n",
      "\n",
      "ARIMA Model...... Median Percent Error of Range: 11.148537939672362\n"
     ]
    },
    {
     "name": "stderr",
     "output_type": "stream",
     "text": [
      "INFO:prophet:Disabling yearly seasonality. Run prophet with yearly_seasonality=True to override this.\n"
     ]
    },
    {
     "name": "stdout",
     "output_type": "stream",
     "text": [
      "\n",
      "Prophet...... Median Percent Error of Range: 14.263767242068765\n",
      "\n",
      "XGBoost...... Median Percent Error of Range: 10.239988151722748\n",
      "\n",
      "###########################################################\n",
      "File: 1118_0.pkl\n",
      "Length on load: 26304\n",
      "Length after agg: 1096\n",
      "Dropped N/A cols: 0\n",
      "Length after blank drop: 1096\n",
      "\n",
      "ARIMA Model...... Median Percent Error of Range: 12.053814627665695\n"
     ]
    },
    {
     "name": "stderr",
     "output_type": "stream",
     "text": [
      "INFO:prophet:Disabling yearly seasonality. Run prophet with yearly_seasonality=True to override this.\n"
     ]
    },
    {
     "name": "stdout",
     "output_type": "stream",
     "text": [
      "\n",
      "Prophet...... Median Percent Error of Range: 37.68371085581995\n",
      "\n",
      "XGBoost...... Median Percent Error of Range: 28.561742722042034\n",
      "\n",
      "###########################################################\n",
      "File: 1124_0.pkl\n",
      "Length on load: 26304\n",
      "Length after agg: 1096\n",
      "Dropped N/A cols: 0\n",
      "Length after blank drop: 1096\n",
      "\n",
      "ARIMA Model...... Median Percent Error of Range: 197.26834373062957\n"
     ]
    },
    {
     "name": "stderr",
     "output_type": "stream",
     "text": [
      "INFO:prophet:Disabling yearly seasonality. Run prophet with yearly_seasonality=True to override this.\n"
     ]
    },
    {
     "name": "stdout",
     "output_type": "stream",
     "text": [
      "\n",
      "Prophet...... Median Percent Error of Range: 254.22064241567503\n",
      "\n",
      "XGBoost...... Median Percent Error of Range: 29.3111072433829\n",
      "\n",
      "###########################################################\n",
      "File: 1130_0.pkl\n",
      "Length on load: 26304\n",
      "Length after agg: 1096\n",
      "Dropped N/A cols: 0\n",
      "Length after blank drop: 1096\n",
      "\n",
      "ARIMA Model...... Median Percent Error of Range: 35.35341888838619\n"
     ]
    },
    {
     "name": "stderr",
     "output_type": "stream",
     "text": [
      "INFO:prophet:Disabling yearly seasonality. Run prophet with yearly_seasonality=True to override this.\n"
     ]
    },
    {
     "name": "stdout",
     "output_type": "stream",
     "text": [
      "\n",
      "Prophet...... Median Percent Error of Range: 25.157739052433765\n",
      "\n",
      "XGBoost...... Median Percent Error of Range: 13.60310099887814\n",
      "\n",
      "###########################################################\n",
      "File: 1133_2.pkl\n",
      "Length on load: 26304\n",
      "Length after agg: 1096\n",
      "Dropped N/A cols: 0\n",
      "Length after blank drop: 1096\n",
      "\n",
      "ARIMA Model...... Median Percent Error of Range: 84.48337123533047\n"
     ]
    },
    {
     "name": "stderr",
     "output_type": "stream",
     "text": [
      "INFO:prophet:Disabling yearly seasonality. Run prophet with yearly_seasonality=True to override this.\n"
     ]
    },
    {
     "name": "stdout",
     "output_type": "stream",
     "text": [
      "\n",
      "Prophet...... Median Percent Error of Range: 13.355809500661461\n",
      "\n",
      "XGBoost...... Median Percent Error of Range: 17.335864622044713\n",
      "\n",
      "###########################################################\n",
      "File: 1138_0.pkl\n",
      "Length on load: 26304\n",
      "Length after agg: 1096\n",
      "Dropped N/A cols: 0\n",
      "Length after blank drop: 1096\n",
      "\n",
      "ARIMA Model...... Median Percent Error of Range: 69.0910664926227\n"
     ]
    },
    {
     "name": "stderr",
     "output_type": "stream",
     "text": [
      "INFO:prophet:Disabling yearly seasonality. Run prophet with yearly_seasonality=True to override this.\n"
     ]
    },
    {
     "name": "stdout",
     "output_type": "stream",
     "text": [
      "\n",
      "Prophet...... Median Percent Error of Range: 15.892792635051553\n",
      "\n",
      "XGBoost...... Median Percent Error of Range: 13.602075531178745\n",
      "\n",
      "###########################################################\n",
      "File: 1140_1.pkl\n",
      "Length on load: 26304\n",
      "Length after agg: 1096\n",
      "Dropped N/A cols: 0\n",
      "Length after blank drop: 1096\n",
      "\n",
      "ARIMA Model...... Median Percent Error of Range: 36.339539090227454\n"
     ]
    },
    {
     "name": "stderr",
     "output_type": "stream",
     "text": [
      "INFO:prophet:Disabling yearly seasonality. Run prophet with yearly_seasonality=True to override this.\n"
     ]
    },
    {
     "name": "stdout",
     "output_type": "stream",
     "text": [
      "\n",
      "Prophet...... Median Percent Error of Range: 33.86945056021798\n",
      "\n",
      "XGBoost...... Median Percent Error of Range: 3.935559955200201\n",
      "\n",
      "###########################################################\n",
      "File: 1145_2.pkl\n",
      "Length on load: 26304\n",
      "Length after agg: 1096\n",
      "Dropped N/A cols: 0\n",
      "Length after blank drop: 1096\n",
      "\n",
      "ARIMA Model...... Median Percent Error of Range: 19.082399174246383\n"
     ]
    },
    {
     "name": "stderr",
     "output_type": "stream",
     "text": [
      "INFO:prophet:Disabling yearly seasonality. Run prophet with yearly_seasonality=True to override this.\n"
     ]
    },
    {
     "name": "stdout",
     "output_type": "stream",
     "text": [
      "\n",
      "Prophet...... Median Percent Error of Range: 51.027532285371244\n",
      "\n",
      "XGBoost...... Median Percent Error of Range: 27.97254508928571\n",
      "\n",
      "###########################################################\n",
      "File: 1148_1.pkl\n",
      "Length on load: 26304\n",
      "Length after agg: 1096\n",
      "Dropped N/A cols: 0\n",
      "Length after blank drop: 1096\n",
      "\n",
      "ARIMA Model...... Median Percent Error of Range: 31.48312849870647\n"
     ]
    },
    {
     "name": "stderr",
     "output_type": "stream",
     "text": [
      "INFO:prophet:Disabling yearly seasonality. Run prophet with yearly_seasonality=True to override this.\n"
     ]
    },
    {
     "name": "stdout",
     "output_type": "stream",
     "text": [
      "\n",
      "Prophet...... Median Percent Error of Range: 57.57077994633445\n",
      "\n",
      "XGBoost...... Median Percent Error of Range: 10.432443297635142\n",
      "\n",
      "###########################################################\n",
      "File: 1149_0.pkl\n",
      "Length on load: 26304\n",
      "Length after agg: 1096\n",
      "Dropped N/A cols: 0\n",
      "Length after blank drop: 1096\n",
      "\n",
      "ARIMA Model...... Median Percent Error of Range: 14.806658220503161\n"
     ]
    },
    {
     "name": "stderr",
     "output_type": "stream",
     "text": [
      "INFO:prophet:Disabling yearly seasonality. Run prophet with yearly_seasonality=True to override this.\n"
     ]
    },
    {
     "name": "stdout",
     "output_type": "stream",
     "text": [
      "\n",
      "Prophet...... Median Percent Error of Range: 19.105555257612554\n",
      "\n",
      "XGBoost...... Median Percent Error of Range: 6.944919910174896\n",
      "\n",
      "###########################################################\n",
      "File: 1151_1.pkl\n",
      "Length on load: 26304\n",
      "Length after agg: 1096\n",
      "Dropped N/A cols: 0\n",
      "Length after blank drop: 1096\n",
      "\n",
      "ARIMA Model...... Median Percent Error of Range: 51.00014603157472\n"
     ]
    },
    {
     "name": "stderr",
     "output_type": "stream",
     "text": [
      "INFO:prophet:Disabling yearly seasonality. Run prophet with yearly_seasonality=True to override this.\n"
     ]
    },
    {
     "name": "stdout",
     "output_type": "stream",
     "text": [
      "\n",
      "Prophet...... Median Percent Error of Range: 32.017648772334375\n",
      "\n",
      "XGBoost...... Median Percent Error of Range: 5.6439437722257955\n",
      "\n",
      "###########################################################\n",
      "File: 1154_0.pkl\n",
      "Length on load: 26304\n",
      "Length after agg: 1096\n",
      "Dropped N/A cols: 0\n",
      "Length after blank drop: 1096\n",
      "\n",
      "ARIMA Model...... Median Percent Error of Range: 27.20256178089913\n"
     ]
    },
    {
     "name": "stderr",
     "output_type": "stream",
     "text": [
      "INFO:prophet:Disabling yearly seasonality. Run prophet with yearly_seasonality=True to override this.\n"
     ]
    },
    {
     "name": "stdout",
     "output_type": "stream",
     "text": [
      "\n",
      "Prophet...... Median Percent Error of Range: 51.28169012240077\n",
      "\n",
      "XGBoost...... Median Percent Error of Range: 15.765168398670113\n",
      "\n",
      "###########################################################\n",
      "File: 1154_2.pkl\n",
      "Length on load: 26304\n",
      "Length after agg: 1096\n",
      "Dropped N/A cols: 0\n",
      "Length after blank drop: 1096\n",
      "\n",
      "ARIMA Model...... Median Percent Error of Range: 21.750628650465284\n"
     ]
    },
    {
     "name": "stderr",
     "output_type": "stream",
     "text": [
      "INFO:prophet:Disabling yearly seasonality. Run prophet with yearly_seasonality=True to override this.\n"
     ]
    },
    {
     "name": "stdout",
     "output_type": "stream",
     "text": [
      "\n",
      "Prophet...... Median Percent Error of Range: 32.28230623380324\n",
      "\n",
      "XGBoost...... Median Percent Error of Range: 23.776197593830897\n",
      "\n",
      "###########################################################\n",
      "File: 1156_0.pkl\n",
      "Length on load: 26304\n",
      "Length after agg: 1096\n",
      "Dropped N/A cols: 0\n",
      "Length after blank drop: 1096\n",
      "\n",
      "ARIMA Model...... Median Percent Error of Range: 56.631424434711086\n"
     ]
    },
    {
     "name": "stderr",
     "output_type": "stream",
     "text": [
      "INFO:prophet:Disabling yearly seasonality. Run prophet with yearly_seasonality=True to override this.\n"
     ]
    },
    {
     "name": "stdout",
     "output_type": "stream",
     "text": [
      "\n",
      "Prophet...... Median Percent Error of Range: 131.39628214585187\n",
      "\n",
      "XGBoost...... Median Percent Error of Range: 48.56848590124613\n",
      "\n",
      "###########################################################\n",
      "File: 1156_2.pkl\n",
      "Length on load: 26304\n",
      "Length after agg: 1096\n",
      "Dropped N/A cols: 0\n",
      "Length after blank drop: 1096\n",
      "\n",
      "ARIMA Model...... Median Percent Error of Range: 31.51618928230686\n"
     ]
    },
    {
     "name": "stderr",
     "output_type": "stream",
     "text": [
      "INFO:prophet:Disabling yearly seasonality. Run prophet with yearly_seasonality=True to override this.\n"
     ]
    },
    {
     "name": "stdout",
     "output_type": "stream",
     "text": [
      "\n",
      "Prophet...... Median Percent Error of Range: 10.049301023058899\n",
      "\n",
      "XGBoost...... Median Percent Error of Range: 13.316253469160374\n",
      "\n",
      "###########################################################\n",
      "File: 1164_1.pkl\n",
      "Length on load: 26304\n",
      "Length after agg: 1096\n",
      "Dropped N/A cols: 0\n",
      "Length after blank drop: 1096\n",
      "\n",
      "ARIMA Model...... Median Percent Error of Range: 63.516961538327784\n"
     ]
    },
    {
     "name": "stderr",
     "output_type": "stream",
     "text": [
      "INFO:prophet:Disabling yearly seasonality. Run prophet with yearly_seasonality=True to override this.\n"
     ]
    },
    {
     "name": "stdout",
     "output_type": "stream",
     "text": [
      "\n",
      "Prophet...... Median Percent Error of Range: 46.39185374373922\n",
      "\n",
      "XGBoost...... Median Percent Error of Range: 3.4267109170069774\n",
      "\n",
      "###########################################################\n",
      "File: 1169_1.pkl\n",
      "Length on load: 26304\n",
      "Length after agg: 1096\n",
      "Dropped N/A cols: 0\n",
      "Length after blank drop: 1096\n",
      "\n",
      "ARIMA Model...... Median Percent Error of Range: 28.351199812445536\n"
     ]
    },
    {
     "name": "stderr",
     "output_type": "stream",
     "text": [
      "INFO:prophet:Disabling yearly seasonality. Run prophet with yearly_seasonality=True to override this.\n"
     ]
    },
    {
     "name": "stdout",
     "output_type": "stream",
     "text": [
      "\n",
      "Prophet...... Median Percent Error of Range: 38.41593124447236\n",
      "\n",
      "XGBoost...... Median Percent Error of Range: 7.668445280503758\n",
      "\n",
      "###########################################################\n",
      "File: 1171_0.pkl\n",
      "Length on load: 26304\n",
      "Length after agg: 1096\n",
      "Dropped N/A cols: 0\n",
      "Length after blank drop: 1096\n",
      "\n",
      "ARIMA Model...... Median Percent Error of Range: 24.6172546356948\n"
     ]
    },
    {
     "name": "stderr",
     "output_type": "stream",
     "text": [
      "INFO:prophet:Disabling yearly seasonality. Run prophet with yearly_seasonality=True to override this.\n"
     ]
    },
    {
     "name": "stdout",
     "output_type": "stream",
     "text": [
      "\n",
      "Prophet...... Median Percent Error of Range: 25.203205325223937\n",
      "\n",
      "XGBoost...... Median Percent Error of Range: 18.67482389544028\n",
      "\n",
      "###########################################################\n",
      "File: 1175_0.pkl\n",
      "Length on load: 26304\n",
      "Length after agg: 1096\n",
      "Dropped N/A cols: 0\n",
      "Length after blank drop: 1096\n",
      "\n",
      "ARIMA Model...... Median Percent Error of Range: 17.34257899591097\n"
     ]
    },
    {
     "name": "stderr",
     "output_type": "stream",
     "text": [
      "INFO:prophet:Disabling yearly seasonality. Run prophet with yearly_seasonality=True to override this.\n"
     ]
    },
    {
     "name": "stdout",
     "output_type": "stream",
     "text": [
      "\n",
      "Prophet...... Median Percent Error of Range: 40.001341412992026\n",
      "\n",
      "XGBoost...... Median Percent Error of Range: 10.675609649070127\n",
      "\n",
      "###########################################################\n",
      "File: 1178_0.pkl\n",
      "Length on load: 26304\n",
      "Length after agg: 1096\n",
      "Dropped N/A cols: 0\n",
      "Length after blank drop: 1096\n",
      "\n",
      "ARIMA Model...... Median Percent Error of Range: 31.439629730362036\n"
     ]
    },
    {
     "name": "stderr",
     "output_type": "stream",
     "text": [
      "INFO:prophet:Disabling yearly seasonality. Run prophet with yearly_seasonality=True to override this.\n"
     ]
    },
    {
     "name": "stdout",
     "output_type": "stream",
     "text": [
      "\n",
      "Prophet...... Median Percent Error of Range: 36.21131976198357\n",
      "\n",
      "XGBoost...... Median Percent Error of Range: 14.44541149671092\n",
      "\n",
      "###########################################################\n",
      "File: 1179_1.pkl\n",
      "Length on load: 26304\n",
      "Length after agg: 1096\n",
      "Dropped N/A cols: 0\n",
      "Length after blank drop: 1096\n",
      "\n",
      "ARIMA Model...... Median Percent Error of Range: 28.86262296676338\n"
     ]
    },
    {
     "name": "stderr",
     "output_type": "stream",
     "text": [
      "INFO:prophet:Disabling yearly seasonality. Run prophet with yearly_seasonality=True to override this.\n"
     ]
    },
    {
     "name": "stdout",
     "output_type": "stream",
     "text": [
      "\n",
      "Prophet...... Median Percent Error of Range: 37.34421552803122\n",
      "\n",
      "XGBoost...... Median Percent Error of Range: 15.424846304550075\n",
      "\n",
      "###########################################################\n",
      "File: 1180_2.pkl\n",
      "Length on load: 26304\n",
      "Length after agg: 1096\n",
      "Dropped N/A cols: 0\n",
      "Length after blank drop: 1096\n",
      "\n",
      "ARIMA Model...... Median Percent Error of Range: 13.725412890781186\n"
     ]
    },
    {
     "name": "stderr",
     "output_type": "stream",
     "text": [
      "INFO:prophet:Disabling yearly seasonality. Run prophet with yearly_seasonality=True to override this.\n"
     ]
    },
    {
     "name": "stdout",
     "output_type": "stream",
     "text": [
      "\n",
      "Prophet...... Median Percent Error of Range: 17.403216451966017\n",
      "\n",
      "XGBoost...... Median Percent Error of Range: 10.830144780700486\n",
      "\n",
      "###########################################################\n",
      "File: 1183_0.pkl\n",
      "Length on load: 26304\n",
      "Length after agg: 1096\n",
      "Dropped N/A cols: 0\n",
      "Length after blank drop: 1096\n",
      "\n",
      "ARIMA Model...... Median Percent Error of Range: 33.570357750665984\n"
     ]
    },
    {
     "name": "stderr",
     "output_type": "stream",
     "text": [
      "INFO:prophet:Disabling yearly seasonality. Run prophet with yearly_seasonality=True to override this.\n"
     ]
    },
    {
     "name": "stdout",
     "output_type": "stream",
     "text": [
      "\n",
      "Prophet...... Median Percent Error of Range: 15.391690968714885\n",
      "\n",
      "XGBoost...... Median Percent Error of Range: 16.06801498015904\n",
      "\n",
      "###########################################################\n",
      "File: 1184_0.pkl\n",
      "Length on load: 26304\n",
      "Length after agg: 1096\n",
      "Dropped N/A cols: 0\n",
      "Length after blank drop: 1096\n",
      "\n",
      "ARIMA Model...... Median Percent Error of Range: 73.54555630533824\n"
     ]
    },
    {
     "name": "stderr",
     "output_type": "stream",
     "text": [
      "INFO:prophet:Disabling yearly seasonality. Run prophet with yearly_seasonality=True to override this.\n"
     ]
    },
    {
     "name": "stdout",
     "output_type": "stream",
     "text": [
      "\n",
      "Prophet...... Median Percent Error of Range: 54.226495978235356\n",
      "\n",
      "XGBoost...... Median Percent Error of Range: 20.761234827563307\n",
      "\n",
      "###########################################################\n",
      "File: 1188_0.pkl\n",
      "Length on load: 26304\n",
      "Length after agg: 1096\n",
      "Dropped N/A cols: 0\n",
      "Length after blank drop: 1096\n",
      "\n",
      "ARIMA Model...... Median Percent Error of Range: 23.679896531747644\n"
     ]
    },
    {
     "name": "stderr",
     "output_type": "stream",
     "text": [
      "INFO:prophet:Disabling yearly seasonality. Run prophet with yearly_seasonality=True to override this.\n"
     ]
    },
    {
     "name": "stdout",
     "output_type": "stream",
     "text": [
      "\n",
      "Prophet...... Median Percent Error of Range: 14.339578293934668\n",
      "\n",
      "XGBoost...... Median Percent Error of Range: 13.798406819410209\n",
      "\n",
      "###########################################################\n",
      "File: 1196_0.pkl\n",
      "Length on load: 26304\n",
      "Length after agg: 1096\n",
      "Dropped N/A cols: 0\n",
      "Length after blank drop: 1096\n",
      "\n",
      "ARIMA Model...... Median Percent Error of Range: 24.15679316276084\n"
     ]
    },
    {
     "name": "stderr",
     "output_type": "stream",
     "text": [
      "INFO:prophet:Disabling yearly seasonality. Run prophet with yearly_seasonality=True to override this.\n"
     ]
    },
    {
     "name": "stdout",
     "output_type": "stream",
     "text": [
      "\n",
      "Prophet...... Median Percent Error of Range: 28.112468511327165\n",
      "\n",
      "XGBoost...... Median Percent Error of Range: 12.765372172164858\n",
      "\n",
      "###########################################################\n",
      "File: 1197_0.pkl\n",
      "Length on load: 26304\n",
      "Length after agg: 1096\n",
      "Dropped N/A cols: 0\n",
      "Length after blank drop: 1096\n",
      "\n",
      "ARIMA Model...... Median Percent Error of Range: 19.542992378146014\n"
     ]
    },
    {
     "name": "stderr",
     "output_type": "stream",
     "text": [
      "INFO:prophet:Disabling yearly seasonality. Run prophet with yearly_seasonality=True to override this.\n"
     ]
    },
    {
     "name": "stdout",
     "output_type": "stream",
     "text": [
      "\n",
      "Prophet...... Median Percent Error of Range: 26.88937875814803\n",
      "\n",
      "XGBoost...... Median Percent Error of Range: 27.152947330740385\n",
      "\n",
      "###########################################################\n",
      "File: 1198_2.pkl\n",
      "Length on load: 26304\n",
      "Length after agg: 1096\n",
      "Dropped N/A cols: 0\n",
      "Length after blank drop: 1096\n",
      "\n",
      "ARIMA Model...... Median Percent Error of Range: 28.667988156031154\n"
     ]
    },
    {
     "name": "stderr",
     "output_type": "stream",
     "text": [
      "INFO:prophet:Disabling yearly seasonality. Run prophet with yearly_seasonality=True to override this.\n"
     ]
    },
    {
     "name": "stdout",
     "output_type": "stream",
     "text": [
      "\n",
      "Prophet...... Median Percent Error of Range: 30.35843175979013\n",
      "\n",
      "XGBoost...... Median Percent Error of Range: 25.97033215497737\n",
      "\n",
      "###########################################################\n",
      "File: 1199_0.pkl\n",
      "Length on load: 26304\n",
      "Length after agg: 1096\n",
      "Dropped N/A cols: 0\n",
      "Length after blank drop: 1096\n",
      "\n",
      "ARIMA Model...... Median Percent Error of Range: 51.54014502320046\n"
     ]
    },
    {
     "name": "stderr",
     "output_type": "stream",
     "text": [
      "INFO:prophet:Disabling yearly seasonality. Run prophet with yearly_seasonality=True to override this.\n"
     ]
    },
    {
     "name": "stdout",
     "output_type": "stream",
     "text": [
      "\n",
      "Prophet...... Median Percent Error of Range: 46.4975249307286\n",
      "\n",
      "XGBoost...... Median Percent Error of Range: 25.83059060345083\n",
      "\n",
      "###########################################################\n",
      "File: 1204_2.pkl\n",
      "Length on load: 26304\n",
      "Length after agg: 1096\n",
      "Dropped N/A cols: 0\n",
      "Length after blank drop: 1096\n",
      "\n",
      "ARIMA Model...... Median Percent Error of Range: 20.27485446395298\n"
     ]
    },
    {
     "name": "stderr",
     "output_type": "stream",
     "text": [
      "INFO:prophet:Disabling yearly seasonality. Run prophet with yearly_seasonality=True to override this.\n"
     ]
    },
    {
     "name": "stdout",
     "output_type": "stream",
     "text": [
      "\n",
      "Prophet...... Median Percent Error of Range: 27.772686022251463\n",
      "\n",
      "XGBoost...... Median Percent Error of Range: 10.707847694732378\n",
      "\n",
      "###########################################################\n",
      "File: 1205_0.pkl\n",
      "Length on load: 26304\n",
      "Length after agg: 1096\n",
      "Dropped N/A cols: 0\n",
      "Length after blank drop: 1096\n",
      "\n",
      "ARIMA Model...... Median Percent Error of Range: 24.9725971674396\n"
     ]
    },
    {
     "name": "stderr",
     "output_type": "stream",
     "text": [
      "INFO:prophet:Disabling yearly seasonality. Run prophet with yearly_seasonality=True to override this.\n"
     ]
    },
    {
     "name": "stdout",
     "output_type": "stream",
     "text": [
      "\n",
      "Prophet...... Median Percent Error of Range: 33.29546470776266\n",
      "\n",
      "XGBoost...... Median Percent Error of Range: 15.36134357055878\n",
      "\n",
      "###########################################################\n",
      "File: 1209_2.pkl\n",
      "Length on load: 26304\n",
      "Length after agg: 1096\n",
      "Dropped N/A cols: 0\n",
      "Length after blank drop: 1096\n",
      "\n",
      "ARIMA Model...... Median Percent Error of Range: 11.048363048104319\n"
     ]
    },
    {
     "name": "stderr",
     "output_type": "stream",
     "text": [
      "INFO:prophet:Disabling yearly seasonality. Run prophet with yearly_seasonality=True to override this.\n"
     ]
    },
    {
     "name": "stdout",
     "output_type": "stream",
     "text": [
      "\n",
      "Prophet...... Median Percent Error of Range: 10.644702691341884\n",
      "\n",
      "XGBoost...... Median Percent Error of Range: 8.56719350300209\n",
      "\n",
      "###########################################################\n",
      "File: 1210_1.pkl\n",
      "Length on load: 26304\n",
      "Length after agg: 1096\n",
      "Dropped N/A cols: 0\n",
      "Length after blank drop: 1096\n",
      "\n",
      "ARIMA Model...... Median Percent Error of Range: 45.859972221749615\n"
     ]
    },
    {
     "name": "stderr",
     "output_type": "stream",
     "text": [
      "INFO:prophet:Disabling yearly seasonality. Run prophet with yearly_seasonality=True to override this.\n"
     ]
    },
    {
     "name": "stdout",
     "output_type": "stream",
     "text": [
      "\n",
      "Prophet...... Median Percent Error of Range: 23.167451167878493\n",
      "\n",
      "XGBoost...... Median Percent Error of Range: 11.935529456891402\n",
      "\n",
      "###########################################################\n",
      "File: 1212_1.pkl\n",
      "Length on load: 26304\n",
      "Length after agg: 1096\n",
      "Dropped N/A cols: 0\n",
      "Length after blank drop: 1096\n",
      "\n",
      "ARIMA Model...... Median Percent Error of Range: 54.33217037879773\n"
     ]
    },
    {
     "name": "stderr",
     "output_type": "stream",
     "text": [
      "INFO:prophet:Disabling yearly seasonality. Run prophet with yearly_seasonality=True to override this.\n"
     ]
    },
    {
     "name": "stdout",
     "output_type": "stream",
     "text": [
      "\n",
      "Prophet...... Median Percent Error of Range: 29.439384323513647\n",
      "\n",
      "XGBoost...... Median Percent Error of Range: 9.256888200465553\n",
      "\n",
      "###########################################################\n",
      "File: 1220_0.pkl\n",
      "Length on load: 26304\n",
      "Length after agg: 1096\n",
      "Dropped N/A cols: 0\n",
      "Length after blank drop: 1096\n",
      "\n",
      "ARIMA Model...... Median Percent Error of Range: 29.98210559845967\n"
     ]
    },
    {
     "name": "stderr",
     "output_type": "stream",
     "text": [
      "INFO:prophet:Disabling yearly seasonality. Run prophet with yearly_seasonality=True to override this.\n"
     ]
    },
    {
     "name": "stdout",
     "output_type": "stream",
     "text": [
      "\n",
      "Prophet...... Median Percent Error of Range: 55.74965959357184\n",
      "\n",
      "XGBoost...... Median Percent Error of Range: 7.57431262460663\n",
      "\n",
      "###########################################################\n",
      "File: 1334_1.pkl\n",
      "Length on load: 24809\n",
      "Length after agg: 1096\n",
      "Dropped N/A cols: 57\n",
      "Length after blank drop: 1039\n",
      "\n",
      "ARIMA Model...... Median Percent Error of Range: 24.945799573896448\n"
     ]
    },
    {
     "name": "stderr",
     "output_type": "stream",
     "text": [
      "INFO:prophet:Disabling yearly seasonality. Run prophet with yearly_seasonality=True to override this.\n"
     ]
    },
    {
     "name": "stdout",
     "output_type": "stream",
     "text": [
      "\n",
      "Prophet...... Median Percent Error of Range: 37.463017779567835\n",
      "\n",
      "XGBoost...... Median Percent Error of Range: 9.192990300702998\n",
      "\n",
      "###########################################################\n",
      "File: 1347_1.pkl\n",
      "Length on load: 24833\n",
      "Length after agg: 1096\n",
      "Dropped N/A cols: 57\n",
      "Length after blank drop: 1039\n",
      "\n",
      "ARIMA Model...... Median Percent Error of Range: 16.58749336628978\n"
     ]
    },
    {
     "name": "stderr",
     "output_type": "stream",
     "text": [
      "INFO:prophet:Disabling yearly seasonality. Run prophet with yearly_seasonality=True to override this.\n"
     ]
    },
    {
     "name": "stdout",
     "output_type": "stream",
     "text": [
      "\n",
      "Prophet...... Median Percent Error of Range: 40.24208963426042\n",
      "\n",
      "XGBoost...... Median Percent Error of Range: 7.907790326126713\n",
      "\n",
      "###########################################################\n",
      "File: 1401_1.pkl\n",
      "Length on load: 24852\n",
      "Length after agg: 1096\n",
      "Dropped N/A cols: 57\n",
      "Length after blank drop: 1039\n",
      "\n",
      "ARIMA Model...... Median Percent Error of Range: 50.43768085717405\n"
     ]
    },
    {
     "name": "stderr",
     "output_type": "stream",
     "text": [
      "INFO:prophet:Disabling yearly seasonality. Run prophet with yearly_seasonality=True to override this.\n"
     ]
    },
    {
     "name": "stdout",
     "output_type": "stream",
     "text": [
      "\n",
      "Prophet...... Median Percent Error of Range: 20.50630122016151\n",
      "\n",
      "XGBoost...... Median Percent Error of Range: 8.370076677397787\n",
      "\n",
      "###########################################################\n",
      "File: 1407_0.pkl\n",
      "Length on load: 24992\n",
      "Length after agg: 1096\n",
      "Dropped N/A cols: 51\n",
      "Length after blank drop: 1045\n",
      "\n",
      "ARIMA Model...... Median Percent Error of Range: 30.008250448822004\n"
     ]
    },
    {
     "name": "stderr",
     "output_type": "stream",
     "text": [
      "INFO:prophet:Disabling yearly seasonality. Run prophet with yearly_seasonality=True to override this.\n"
     ]
    },
    {
     "name": "stdout",
     "output_type": "stream",
     "text": [
      "\n",
      "Prophet...... Median Percent Error of Range: 12.561601175070342\n",
      "\n",
      "XGBoost...... Median Percent Error of Range: 9.385637919108092\n",
      "\n",
      "###########################################################\n",
      "File: 1413_1.pkl\n",
      "Length on load: 18609\n"
     ]
    }
   ],
   "source": [
    "output_vis_folder = '.\\\\visualization\\\\models\\\\run_1\\\\'\n",
    "output_data_folder = '.\\\\results\\\\run1\\\\'\n",
    "\n",
    "model_pass = 1\n",
    "\n",
    "# Control Variables that will run these specific models if True\n",
    "ARIMA = True\n",
    "FBProphet = True\n",
    "xgboost = True\n",
    "\n",
    "# Show Visualizations\n",
    "quiet_mode = True\n",
    "\n",
    "resample = True\n",
    "backfill = 'mean'\n",
    "exogen = True\n",
    "\n",
    "thresh = 50\n",
    "\n",
    "# Dictionary to hold all the results, will turn into a dataframe\n",
    "stats_all = {}\n",
    "stats_list = []\n",
    "\n",
    "stats = {}\n",
    "\n",
    "# For each file in the directory\n",
    "direct = '.\\\\data_clean\\\\buildings_by_meter\\\\'\n",
    "\n",
    "files = df_stats['file_name']\n",
    "\n",
    "bld_mtr = [\n",
    "            '107_0',\n",
    "            '119_0',\n",
    "            '120_0',\n",
    "            '109_0',\n",
    "            '126_0',\n",
    "            '134_0',\n",
    "            '135_0',\n",
    "            '141_0',\n",
    "            '146_0',\n",
    "            '155_0',\n",
    "    \n",
    "            '201_3',\n",
    "            '203_1',\n",
    "            '205_0',\n",
    "            '213_3',\n",
    "            '217_0',\n",
    "            '229_0',\n",
    "            '237_0',\n",
    "            '253_1',\n",
    "            '273_0',\n",
    "            '293_0',\n",
    "            '297_0',\n",
    "    \n",
    "            '326_0',\n",
    "            '317_0',\n",
    "            '330_0',\n",
    "            '337_0',\n",
    "            '344_0',\n",
    "            '375_0',\n",
    "            '374_0',\n",
    "            '331_0',\n",
    "            '381_0',\n",
    "            '399_0',\n",
    "    \n",
    "            '405_0',\n",
    "            '407_0',\n",
    "            '428_0',\n",
    "            '461_0',\n",
    "            '493_0',\n",
    "            '490_0',\n",
    "    \n",
    "            '563_0',\n",
    "            '589_0',\n",
    "            '595_0',\n",
    "    \n",
    "            '697_0',\n",
    "            '682_0',\n",
    "            '663_0', # Food\n",
    "            '684_0',\n",
    "            '678_0',\n",
    "    \n",
    "            '709_0',\n",
    "            '724_0',\n",
    "            '727_0',\n",
    "            '748_0',\n",
    "            '771_0',\n",
    "            '787_0',\n",
    "            '794_0',\n",
    "            '798_0',\n",
    "            '743_0',\n",
    "            '797_0',\n",
    "            '793_0',\n",
    "    \n",
    "            '801_0',\n",
    "            '844_0',\n",
    "            '854_0',\n",
    "    \n",
    "            '998_0',\n",
    "    \n",
    "            '1052_2',\n",
    "            '1048_0',\n",
    "            '1073_2', # Elec\n",
    "            '1073_1',\n",
    "            '1073_0',\n",
    "            '1079_2',\n",
    "            '1091_0',\n",
    "            '1081_0',\n",
    "            '1047_0',\n",
    "            '1034_0',\n",
    "            '1022_0',\n",
    "            '1030_3',\n",
    "            '1088_1',\n",
    "            '1099_2',\n",
    "    \n",
    "            '1130_0',\n",
    "            '1156_0',\n",
    "            '1156_2',\n",
    "            '1140_1',\n",
    "            '1169_1',\n",
    "            '1178_0',\n",
    "            '1180_2',\n",
    "            '1198_2',\n",
    "            '1138_0',\n",
    "            '1179_1', # Entertainment\n",
    "            '1183_0',\n",
    "            '1196_0',\n",
    "            '1105_0',\n",
    "            '1105_2',\n",
    "            '1154_2', # Lodging Residential\n",
    "            '1154_0',\n",
    "            '1184_0',\n",
    "            '1124_0',\n",
    "            '1175_0', # Manufacturing\n",
    "            '1171_0',\n",
    "            '1145_2',\n",
    "            '1148_1', # Office\n",
    "            '1164_1',\n",
    "            '1151_1',\n",
    "            '1149_0',\n",
    "            '1188_0',\n",
    "            '1133_2',\n",
    "            '1164_1',\n",
    "            '1109_2',\n",
    "            '1108_0',\n",
    "            '1104_0',\n",
    "            '1197_0',\n",
    "            '1118_0',\n",
    "            '1199_0',\n",
    "    \n",
    "            '1204_2',\n",
    "            '1210_1',\n",
    "            '1205_0',\n",
    "            '1212_1',\n",
    "            '1220_0',\n",
    "            '1209_2',\n",
    "    \n",
    "            '1347_1',\n",
    "            '1334_1',\n",
    "            '1392_1',\n",
    "    \n",
    "            '1401_1',\n",
    "            '1407_0',\n",
    "            '1413_1',\n",
    "          ]\n",
    "\n",
    "for num,file in enumerate(files):  \n",
    "\n",
    "    # Get only files from the list\n",
    "    if file.split('.pkl')[0] not in bld_mtr:\n",
    "        continue\n",
    "    else:\n",
    "        print('')\n",
    "        print('###########################################################')\n",
    "        print('File: ' + file)\n",
    "        \n",
    "    # Temporary dictionary that represents raw calculations\n",
    "    stats = {}\n",
    "    \n",
    "    # Screen results\n",
    "    if df_stats.iloc[num]['per_data'] < 80:\n",
    "        stats['status'] = 'FAIL: Length < 80% data present'\n",
    "        print('not enough data')\n",
    "        continue\n",
    "    \n",
    "    # Catch exception if file not readable\n",
    "    try:\n",
    "        df = pd.read_pickle(direct + file)\n",
    "    except FileNotFoundError:\n",
    "        continue\n",
    "    \n",
    "    print('Length on load: ' + str(len(df)))\n",
    "    stats['Len_load'] = len(df)\n",
    "    \n",
    "    # Screen minimum length\n",
    "    if len(df) < 20000:\n",
    "        stats['status'] = 'FAIL: Length < 20k'\n",
    "        continue\n",
    "\n",
    "    # Load key variables in dictionary\n",
    "    stats['building'] = df.iloc[0]['building_id']\n",
    "    stats['square_feet'] = df.iloc[0]['square_feet']   \n",
    "    stats['meter'] = bldg_meter = df.iloc[0]['meter']\n",
    "    stats['file_name'] = file\n",
    " \n",
    "    # Process Columns\n",
    "    df = building_meter_drop(df) # Drop poorly correlated columns\n",
    "    df = building_meter_interp(df) # Time series linear interpolation due to standard time deltas\n",
    "    df = building_meter_agg(df,'1D') # aggregate remaining columns\n",
    "    \n",
    "    print('Length after agg: ' + str(len(df)))\n",
    "    stats['Len_agg-clean'] = len(df)\n",
    "    \n",
    "    # Find out how many lingering NA columns are left\n",
    "    b4_NA = len(df)\n",
    "    df.dropna(how='any',inplace=True)\n",
    "    tot = b4_NA - len(df)\n",
    "    print('Dropped N/A cols: ' + str(tot))\n",
    "    if tot > 100:\n",
    "        stats['status'] = 'FAIL: Drop over 100 Rows'\n",
    "        continue\n",
    "    \n",
    "    print('Length after blank drop: ' + str(len(df)))\n",
    "    stats['Len_blank'] = len(df)\n",
    "    \n",
    "    # Keep track of Models\n",
    "    model_ctr = 1 # Initialize Model Counter\n",
    "    model_prefixes = []\n",
    "\n",
    "\n",
    "    df_train = df.loc['2016-01-01':'2016-09-30']\n",
    "    df_test = df.loc['2016-10-01':'2016-10-31']\n",
    "       \n",
    "    X_train = df_train.drop(labels=['meter_reading'],axis=1)\n",
    "    X_train.fillna(method='ffill')\n",
    "\n",
    "    X_test = df_test.drop(labels=['meter_reading'],axis=1)\n",
    "    X_test.fillna(method='ffill')\n",
    "\n",
    "    y_train = df_train['meter_reading']\n",
    "    y_train.fillna(method='ffill')\n",
    "\n",
    "    y_test = df_test['meter_reading']\n",
    "    y_test.fillna(method='ffill')\n",
    "    \n",
    "    # Get rid of constants\n",
    "    X_train.drop(labels=['site_id','building_id','square_feet'],axis=1,inplace=True)\n",
    "    X_test.drop(labels=['site_id','building_id','square_feet'],axis=1,inplace=True)\n",
    "    \n",
    "    #######################################    ARIMA   ##################################################\n",
    "    if ARIMA:\n",
    "        print()\n",
    "        # Keep track of model prefix column names by building prefix to number iterations\n",
    "        model_prefix = 'Model_' + str(model_ctr)\n",
    "        model_prefixes.append(model_prefix)\n",
    "        # Populate DataFrame with statistics\n",
    "        stats[model_prefix + '_' + 'Type'] = 'ARIMA_Exogen'\n",
    "        stats[model_prefix + '_' + 'Description'] = 'ARIMA_Exogen, with daily aggregation'\n",
    "        stats[model_prefix + '_' + 'Len_Train'] = len(X_train)\n",
    "        stats[model_prefix + '_' + 'Len_Test'] = len(X_test)\n",
    "\n",
    "        print('ARIMA Model......', end=' ')\n",
    "\n",
    "        # Try building model\n",
    "        try:\n",
    "            model = pm.auto_arima(y_train,X=X_train,trace=False,n_fits=10,seasonal=True,m=7,error_action='ignore')\n",
    "            stats[model_prefix + '_' + 'Status'] = 'PASS'\n",
    "        except ValueError as ve:\n",
    "            print('Model will not converge')\n",
    "            stats[model_prefix + '_' + 'Status'] = 'FAIL'\n",
    "            continue\n",
    "\n",
    "        # Create the Series\n",
    "        preds, conf_int = model.predict(X=X_test,n_periods=y_test.shape[0], return_conf_int=True)\n",
    "                \n",
    "        predict = pd.Series(preds,index=y_test.index)\n",
    "\n",
    "        # Keep each slice data here\n",
    "        df_result = pd.concat([predict,y_test],axis=1)\n",
    "        df_result.columns = ['meter_predict_ARIMA','meter_actual']\n",
    "\n",
    "        # Error Calculations ------------------------\n",
    "        # RMSE\n",
    "        RMSE_error = (mean_squared_error(df_result['meter_predict_ARIMA'],df_result['meter_actual'],squared=False))\n",
    "        stats[model_prefix + '_' + 'RMSE'] = RMSE_error\n",
    "        \n",
    "        # RMSE relative to the range of the test range\n",
    "        RMSE_pct_range = RMSE_error / ((np.max(df_result['meter_actual'])) \\\n",
    "                                       - (np.min(df_result['meter_actual']))) \\\n",
    "                                       * 100      \n",
    "        stats[model_prefix + '_' + 'y_pred_RMSE_pct_Range'] = RMSE_pct_range\n",
    "        \n",
    "        # MAPE\n",
    "        MAPE_error = mean_absolute_percentage_error(df_result['meter_predict_ARIMA'],df_result['meter_actual'])\n",
    "        stats[model_prefix + '_' + 'MAPE'] = MAPE_error\n",
    "        \n",
    "        # Median Absolute Percentage\n",
    "        MedAPE_error = median_absolute_error(df_result['meter_predict_ARIMA'],df_result['meter_actual'])\n",
    "        stats[model_prefix + '_' + 'MedianAPE'] = MedAPE_error\n",
    "        \n",
    "        MedAPE_pct_range = MedAPE_error / ((np.max(df_result['meter_actual'])) \\\n",
    "                                       - (np.min(df_result['meter_actual']))) \\\n",
    "                                       * 100  \n",
    "        stats[model_prefix + '_' + 'Median_Pct_Error_Range'] = MedAPE_pct_range\n",
    "\n",
    "#         print('RMSE: ' + str(RMSE_error)) \n",
    "#         print('RMSE_pct_range: ' + str(RMSE_pct_range))\n",
    "#         print('MAPE: ' + str(MAPE_error))\n",
    "#         print('MedianAPE: ' + str(MedAPE_error))\n",
    "        print('Median Percent Error of Range: ' + str(MedAPE_pct_range))\n",
    "            \n",
    "        # Create Graph\n",
    "        plt.ioff()\n",
    "        plt.figure(figsize=(20,10))\n",
    "        plt.plot(df_result['meter_predict_ARIMA'],label=\"ARIMA\", color='orange', linestyle='solid')\n",
    "        plt.plot(df_result['meter_actual'],label=\"Actual\",linewidth=7.0, color='red', linestyle='dashed')\n",
    "        plt.legend(loc = 'upper right')      \n",
    "        plt.title('Bldg ' + str(stats['building']) + ' Meter ' + str(stats['meter']) + ' ' + model_prefix + '_' + 'ARIMA_Exogen')\n",
    "        plt.xlabel('Date')\n",
    "        plt.ylabel('Meter Reading')\n",
    "        plt.xticks(rotation='45')\n",
    "        plt.savefig(output_vis_folder + str(stats['building']) + '_' + str(stats['meter']) + '_ARIMA_Exogen.jpg')\n",
    "        \n",
    "        # Add to Models DF\n",
    "        df_models = pd.DataFrame(data=df_result[['meter_actual','meter_predict_ARIMA']],index=df_result.index)\n",
    "          \n",
    "         ######################################    PROPHET   ##################################################\n",
    "    if FBProphet:   \n",
    "        print()\n",
    "        print('Prophet......',end=' ')\n",
    "        model_ctr += 1 # Increment Model Counter\n",
    "        model_prefix = 'Model_' + str(model_ctr) # Build string for keys\n",
    "        model_prefixes.append(model_prefix)\n",
    "\n",
    "        # Need renaming for Prophet - data prep\n",
    "        df_prophet_train = df_train.reset_index()\n",
    "        df_prophet_test = df_test.reset_index()\n",
    "\n",
    "        # Get rid of constants\n",
    "        df_prophet_train.drop(labels=['site_id','building_id','square_feet'],axis=1,inplace=True)\n",
    "        df_prophet_test.drop(labels=['site_id','building_id','square_feet'],axis=1,inplace=True)\n",
    "\n",
    "        # Timestamp must be ds column\n",
    "        df_prophet_train = df_prophet_train.rename(columns={'timestamp':'ds','meter_reading':'y'})\n",
    "        df_prophet_test = df_prophet_test.rename(columns={'timestamp':'ds','meter_reading':'y'})\n",
    "\n",
    "\n",
    "        # Populate DataFrame with statistics\n",
    "        stats[model_prefix + '_' + 'Type'] = 'Prophet_Exogen'          \n",
    "        stats[model_prefix + '_' + 'Len_Train'] = len(df_prophet_train)\n",
    "        stats[model_prefix + '_' + 'Len_Test'] = len(df_prophet_test)\n",
    "\n",
    "        # Initialize Prophet Model\n",
    "        m = Prophet(daily_seasonality=True)\n",
    "        m.add_regressor('air_temperature')\n",
    "        m.add_regressor('day_of_week')\n",
    "        m.add_regressor('weekend')\n",
    "        m.add_regressor('month')\n",
    "        m.add_regressor('season')\n",
    "        m.fit(df_prophet_train)\n",
    "        predicts = m.predict(df_prophet_test)\n",
    "\n",
    "\n",
    "        # Error Calculations ------------------------\n",
    "        # RMSE\n",
    "        RMSE_error = (mean_squared_error(predicts['yhat'],df_prophet_test['y'],squared=False))\n",
    "        stats[model_prefix + '_' + 'RMSE'] = RMSE_error\n",
    "\n",
    "        # RMSE relative to the range of the test range\n",
    "        RMSE_pct_range = RMSE_error / ((np.max(df_prophet_test['y'])) \\\n",
    "                                              - (np.min(df_prophet_test['y']))) \\\n",
    "                                              * 100   \n",
    "        stats[model_prefix + '_' + 'y_pred_RMSE_pct_Range'] = RMSE_pct_range\n",
    "\n",
    "        # MAPE\n",
    "        MAPE_error = mean_absolute_percentage_error(predicts['yhat'],df_prophet_test['y'])\n",
    "        stats[model_prefix + '_' + 'MAPE'] = MAPE_error\n",
    "\n",
    "        # Median Absolute Percentage\n",
    "        MedAPE_error = median_absolute_error(predicts['yhat'],df_prophet_test['y'])\n",
    "        stats[model_prefix + '_' + 'MedianAPE'] = MedAPE_error\n",
    "\n",
    "\n",
    "        MedAPE_pct_range = MedAPE_error / ((np.max(df_prophet_test['y'])) \\\n",
    "                                              - (np.min(df_prophet_test['y']))) \\\n",
    "                                              * 100 \n",
    "\n",
    "        stats[model_prefix + '_' + 'Median_Pct_Error_Range'] = MedAPE_pct_range\n",
    "\n",
    "#         print('RMSE: ' + str(RMSE_error)) \n",
    "#         print('RMSE_pct_range: ' + str(RMSE_pct_range))\n",
    "#         print('MAPE: ' + str(MAPE_error))\n",
    "#         print('MedianAPE: ' + str(MedAPE_error))\n",
    "        print('Median Percent Error of Range: ' + str(MedAPE_pct_range))\n",
    "\n",
    "        plt.ioff()\n",
    "        plt.figure(figsize=(20,10))\n",
    "        plt.plot(df_prophet_test['ds'],predicts['yhat'],label=\"Prophet\", color='blue', linestyle='solid')\n",
    "        plt.plot(df_prophet_test['ds'],df_prophet_test['y'],label=\"Actual\",linewidth=7.0,color='red',linestyle='dashed')\n",
    "        plt.legend(loc = 'upper right')\n",
    "        plt.title('Bldg ' + str(stats['building']) + ' Meter ' + str(stats['meter']) + ' ' + \\\n",
    "                  model_prefix + '_' + 'Prophet_Exogen')\n",
    "        plt.xlabel('Date')\n",
    "        plt.ylabel('Meter Reading')\n",
    "        plt.xticks(rotation='45')\n",
    "\n",
    "        plt.savefig(output_vis_folder + str(stats['building']) + '_' + str(stats['meter']) + '_Prophet_Exogen.jpg')\n",
    "        \n",
    "        df_models['meter_predict_Prophet'] = pd.Series(predicts['yhat'].values, index=df_models.index)\n",
    "\n",
    "#       ######################################    XGBOOST   ##################################################\n",
    "    if xgboost:\n",
    "        print()\n",
    "        print('XGBoost......',end=' ')\n",
    "        model_ctr += 1\n",
    "        model_prefix = 'Model_' + str(model_ctr)\n",
    "        model_prefixes.append(model_prefix)\n",
    "\n",
    "        # Populate DataFrame with statistics\n",
    "        stats[model_prefix + '_' + 'Type'] = 'XGBoost'\n",
    "        stats[model_prefix + '_' + 'Description'] = 'XGBoost_Exogen, with daily aggregation'\n",
    "        stats[model_prefix + '_' + 'Len_Train'] = len(X_train)\n",
    "        stats[model_prefix + '_' + 'Len_Test'] = len(X_test)\n",
    "\n",
    "        # Instantiate Model\n",
    "        gbm_model = xgb.XGBRegressor(objective = 'reg:squarederror', n_estimators = 1000, seed = 123)\n",
    "        gbm_model.fit(X_train,y_train)\n",
    "        predict = gbm_model.predict(X_test)\n",
    "\n",
    "        predict = pd.Series(predict,index=y_test.index)\n",
    "\n",
    "        df_result = pd.concat([predict,y_test],axis=1,ignore_index=True)\n",
    "        df_result.columns = ['meter_predict_XGBoost','meter_actual']\n",
    "        df_result.sort_index(inplace=True)             \n",
    "\n",
    "        # Error Calculations ------------------------\n",
    "        # RMSE\n",
    "        RMSE_error = (mean_squared_error(df_result['meter_predict_XGBoost'],df_result['meter_actual'],squared=False))\n",
    "        stats[model_prefix + '_' + 'RMSE'] = RMSE_error\n",
    "\n",
    "        # RMSE relative to the range of the test range\n",
    "        RMSE_pct_range = RMSE_error / ((np.max(df_result['meter_actual'])) \\\n",
    "                                       - (np.min(df_result['meter_actual']))) \\\n",
    "                                       * 100      \n",
    "        stats[model_prefix + '_' + 'y_pred_RMSE_pct_Range'] = RMSE_pct_range\n",
    "\n",
    "        # MAPE\n",
    "        MAPE_error = mean_absolute_percentage_error(df_result['meter_predict_XGBoost'],df_result['meter_actual'])\n",
    "        stats[model_prefix + '_' + 'MAPE'] = MAPE_error\n",
    "\n",
    "               # Median Absolute Percentage\n",
    "        MedAPE_error = median_absolute_error(df_result['meter_predict_XGBoost'],df_result['meter_actual'])\n",
    "        stats[model_prefix + '_' + 'MedianAPE'] = MedAPE_error\n",
    "\n",
    "        MedAPE_pct_range = MedAPE_error / ((np.max(df_result['meter_actual'])) \\\n",
    "                               - (np.min(df_result['meter_actual']))) \\\n",
    "                               * 100  \n",
    "        stats[model_prefix + '_' + 'Median_Pct_Error_Range'] = MedAPE_pct_range\n",
    "\n",
    "#         print('RMSE: ' + str(RMSE_error)) \n",
    "#         print('RMSE_pct_range: ' + str(RMSE_pct_range))\n",
    "#         print('MAPE: ' + str(MAPE_error))\n",
    "#         print('MedianAPE: ' + str(MedAPE_error))\n",
    "        print('Median Percent Error of Range: ' + str(MedAPE_pct_range))\n",
    "\n",
    "        plt.ioff()\n",
    "        plt.figure(figsize=(20,10))\n",
    "        plt.plot(df_result['meter_predict_XGBoost'],label=\"XGBoost\",color='green',linestyle='solid')\n",
    "        plt.plot(df_result['meter_actual'],label=\"Actual\",linewidth=7.0, color='red',linestyle='dashed')\n",
    "        plt.legend(loc = 'upper right')\n",
    "        plt.title('Bldg ' + str(stats['building']) + ' Meter ' + str(stats['meter']) + ' ' + model_prefix + '_' + 'XGBoost')\n",
    "        plt.xlabel('Date')\n",
    "        plt.ylabel('Meter Reading')\n",
    "        plt.xticks(rotation='45')\n",
    "        plt.savefig(output_vis_folder + str(stats['building']) + '_' + str(stats['meter']) + '_XGBoost.jpg')\n",
    "\n",
    "        # Apppend to Models Dataframe\n",
    "        df_models = pd.concat([df_models,df_result['meter_predict_XGBoost']],axis=1)\n",
    "        df_models.to_csv(output_data_folder + str(stats['building']) + '_' + str(stats['meter']) + '_ModelError_1.csv',float_format=\"{:,.2f}\".format)\n",
    "        \n",
    "    \n",
    "    # VISUALIZE ALL MODELS AT ONCE\n",
    "    plt.figure(figsize=(20,10))\n",
    "    plt.plot(df_models['meter_actual'],label='Actual',linewidth=7.0,color='red',linestyle='dashed')\n",
    "    plt.plot(df_models['meter_predict_ARIMA'],label='ARIMA',color='orange',linestyle='solid')\n",
    "    plt.plot(df_models['meter_predict_Prophet'],label='FBP',color='blue',linestyle='solid')\n",
    "    plt.plot(df_models['meter_predict_XGBoost'],label='XGBoost',color='green',linestyle='solid')\n",
    "    plt.legend(loc = 'upper right')\n",
    "    plt.title('Bldg ' + str(stats['building']) + ' Meter ' + str(stats['meter']) + '_' + 'All')\n",
    "    plt.xlabel('Date')\n",
    "    plt.ylabel('Meter Reading')\n",
    "    plt.xticks(rotation='45')\n",
    "    plt.savefig(output_vis_folder + str(stats['building']) + '_' + str(stats['meter']) + '_ALL.jpg')\n",
    "    \n",
    "    \n",
    "    stats_list.append(stats)\n",
    "    # Write dictionary and file every 10 buildings to save results\n",
    "    if stats['building'] % 10 == 0:\n",
    "        df_results = pd.DataFrame(stats_list)\n",
    "        df_results.to_csv(output_data_folder + 'Model_Results_1.csv',float_format=\"{:,.2f}\".format)\n",
    "            \n",
    "df_results = pd.DataFrame(stats_list)\n",
    "# df_results.to_csv(output_data_folder + 'Model_Results_FirstPass.csv',float_format=\"{:,.2f}\".format)\n",
    "df_stats = df_results.merge(df_stats,how='left',on=['file_name'])\n",
    "df_stats.to_csv(output_data_folder + 'AllResults_FirstPass.csv',float_format=\"{:,.2f}\".format)\n"
   ]
  },
  {
   "cell_type": "markdown",
   "id": "liable-raise",
   "metadata": {},
   "source": [
    "# Second Pass\n",
    "## Hyperparameter Tuning on Prophet and XGBoost"
   ]
  },
  {
   "cell_type": "code",
   "execution_count": 16,
   "id": "898131c6-1026-42f0-829a-cacbb61da99c",
   "metadata": {},
   "outputs": [
    {
     "name": "stderr",
     "output_type": "stream",
     "text": [
      "INFO:prophet:Disabling yearly seasonality. Run prophet with yearly_seasonality=True to override this.\n"
     ]
    },
    {
     "name": "stdout",
     "output_type": "stream",
     "text": [
      "\n",
      "###########################################################\n",
      "File: 107_0.pkl\n",
      "Length on load: 26304\n",
      "Length after agg: 1096\n",
      "Dropped N/A cols: 0\n",
      "Length after blank drop: 1096\n",
      "\n",
      "Prophet...... Tuning Prophet....\n",
      "Tuning Iteration: 0\n"
     ]
    },
    {
     "name": "stderr",
     "output_type": "stream",
     "text": [
      "INFO:prophet:Disabling yearly seasonality. Run prophet with yearly_seasonality=True to override this.\n"
     ]
    },
    {
     "name": "stdout",
     "output_type": "stream",
     "text": [
      "Tuning Iteration: 1\n"
     ]
    },
    {
     "name": "stderr",
     "output_type": "stream",
     "text": [
      "INFO:prophet:Disabling yearly seasonality. Run prophet with yearly_seasonality=True to override this.\n"
     ]
    },
    {
     "name": "stdout",
     "output_type": "stream",
     "text": [
      "Tuning Iteration: 2\n"
     ]
    },
    {
     "name": "stderr",
     "output_type": "stream",
     "text": [
      "INFO:prophet:Disabling yearly seasonality. Run prophet with yearly_seasonality=True to override this.\n"
     ]
    },
    {
     "name": "stdout",
     "output_type": "stream",
     "text": [
      "Tuning Iteration: 3\n"
     ]
    },
    {
     "name": "stderr",
     "output_type": "stream",
     "text": [
      "INFO:prophet:Disabling yearly seasonality. Run prophet with yearly_seasonality=True to override this.\n"
     ]
    },
    {
     "name": "stdout",
     "output_type": "stream",
     "text": [
      "Tuning Iteration: 4\n"
     ]
    },
    {
     "name": "stderr",
     "output_type": "stream",
     "text": [
      "INFO:prophet:Disabling yearly seasonality. Run prophet with yearly_seasonality=True to override this.\n"
     ]
    },
    {
     "name": "stdout",
     "output_type": "stream",
     "text": [
      "Tuning Iteration: 5\n"
     ]
    },
    {
     "name": "stderr",
     "output_type": "stream",
     "text": [
      "INFO:prophet:Disabling yearly seasonality. Run prophet with yearly_seasonality=True to override this.\n"
     ]
    },
    {
     "name": "stdout",
     "output_type": "stream",
     "text": [
      "Tuning Iteration: 6\n"
     ]
    },
    {
     "name": "stderr",
     "output_type": "stream",
     "text": [
      "INFO:prophet:Disabling yearly seasonality. Run prophet with yearly_seasonality=True to override this.\n"
     ]
    },
    {
     "name": "stdout",
     "output_type": "stream",
     "text": [
      "Tuning Iteration: 7\n",
      "Median Percent Error of Range: 23.795165825276854\n",
      "Best Parameters: \n",
      "{'seasonality_mode': 'additive', 'n_changepoints': 100, 'changepoint_prior_scale': 0.5}\n",
      "XGBoost......\n",
      "Predict Length: 31\n",
      "Median Percent Error of Range: 32.31306076049805\n"
     ]
    },
    {
     "name": "stderr",
     "output_type": "stream",
     "text": [
      "INFO:prophet:Disabling yearly seasonality. Run prophet with yearly_seasonality=True to override this.\n"
     ]
    },
    {
     "name": "stdout",
     "output_type": "stream",
     "text": [
      "\n",
      "###########################################################\n",
      "File: 109_0.pkl\n",
      "Length on load: 26304\n",
      "Length after agg: 1096\n",
      "Dropped N/A cols: 0\n",
      "Length after blank drop: 1096\n",
      "\n",
      "Prophet...... Tuning Prophet....\n",
      "Tuning Iteration: 0\n"
     ]
    },
    {
     "name": "stderr",
     "output_type": "stream",
     "text": [
      "INFO:prophet:Disabling yearly seasonality. Run prophet with yearly_seasonality=True to override this.\n"
     ]
    },
    {
     "name": "stdout",
     "output_type": "stream",
     "text": [
      "Tuning Iteration: 1\n"
     ]
    },
    {
     "name": "stderr",
     "output_type": "stream",
     "text": [
      "INFO:prophet:Disabling yearly seasonality. Run prophet with yearly_seasonality=True to override this.\n"
     ]
    },
    {
     "name": "stdout",
     "output_type": "stream",
     "text": [
      "Tuning Iteration: 2\n"
     ]
    },
    {
     "name": "stderr",
     "output_type": "stream",
     "text": [
      "INFO:prophet:Disabling yearly seasonality. Run prophet with yearly_seasonality=True to override this.\n"
     ]
    },
    {
     "name": "stdout",
     "output_type": "stream",
     "text": [
      "Tuning Iteration: 3\n"
     ]
    },
    {
     "name": "stderr",
     "output_type": "stream",
     "text": [
      "INFO:prophet:Disabling yearly seasonality. Run prophet with yearly_seasonality=True to override this.\n"
     ]
    },
    {
     "name": "stdout",
     "output_type": "stream",
     "text": [
      "Tuning Iteration: 4\n"
     ]
    },
    {
     "name": "stderr",
     "output_type": "stream",
     "text": [
      "INFO:prophet:Disabling yearly seasonality. Run prophet with yearly_seasonality=True to override this.\n"
     ]
    },
    {
     "name": "stdout",
     "output_type": "stream",
     "text": [
      "Tuning Iteration: 5\n"
     ]
    },
    {
     "name": "stderr",
     "output_type": "stream",
     "text": [
      "INFO:prophet:Disabling yearly seasonality. Run prophet with yearly_seasonality=True to override this.\n"
     ]
    },
    {
     "name": "stdout",
     "output_type": "stream",
     "text": [
      "Tuning Iteration: 6\n"
     ]
    },
    {
     "name": "stderr",
     "output_type": "stream",
     "text": [
      "INFO:prophet:Disabling yearly seasonality. Run prophet with yearly_seasonality=True to override this.\n"
     ]
    },
    {
     "name": "stdout",
     "output_type": "stream",
     "text": [
      "Tuning Iteration: 7\n",
      "Median Percent Error of Range: 16.09522656049252\n",
      "Best Parameters: \n",
      "{'seasonality_mode': 'multiplicative', 'n_changepoints': 200, 'changepoint_prior_scale': 0.1}\n",
      "XGBoost......\n",
      "Predict Length: 31\n",
      "Median Percent Error of Range: 17.610008795529794\n"
     ]
    },
    {
     "name": "stderr",
     "output_type": "stream",
     "text": [
      "INFO:prophet:Disabling yearly seasonality. Run prophet with yearly_seasonality=True to override this.\n"
     ]
    },
    {
     "name": "stdout",
     "output_type": "stream",
     "text": [
      "\n",
      "###########################################################\n",
      "File: 119_0.pkl\n",
      "Length on load: 26304\n",
      "Length after agg: 1096\n",
      "Dropped N/A cols: 0\n",
      "Length after blank drop: 1096\n",
      "\n",
      "Prophet...... Tuning Prophet....\n",
      "Tuning Iteration: 0\n"
     ]
    },
    {
     "name": "stderr",
     "output_type": "stream",
     "text": [
      "INFO:prophet:Disabling yearly seasonality. Run prophet with yearly_seasonality=True to override this.\n"
     ]
    },
    {
     "name": "stdout",
     "output_type": "stream",
     "text": [
      "Tuning Iteration: 1\n"
     ]
    },
    {
     "name": "stderr",
     "output_type": "stream",
     "text": [
      "INFO:prophet:Disabling yearly seasonality. Run prophet with yearly_seasonality=True to override this.\n"
     ]
    },
    {
     "name": "stdout",
     "output_type": "stream",
     "text": [
      "Tuning Iteration: 2\n"
     ]
    },
    {
     "name": "stderr",
     "output_type": "stream",
     "text": [
      "INFO:prophet:Disabling yearly seasonality. Run prophet with yearly_seasonality=True to override this.\n"
     ]
    },
    {
     "name": "stdout",
     "output_type": "stream",
     "text": [
      "Tuning Iteration: 3\n"
     ]
    },
    {
     "name": "stderr",
     "output_type": "stream",
     "text": [
      "INFO:prophet:Disabling yearly seasonality. Run prophet with yearly_seasonality=True to override this.\n"
     ]
    },
    {
     "name": "stdout",
     "output_type": "stream",
     "text": [
      "Tuning Iteration: 4\n"
     ]
    },
    {
     "name": "stderr",
     "output_type": "stream",
     "text": [
      "INFO:prophet:Disabling yearly seasonality. Run prophet with yearly_seasonality=True to override this.\n"
     ]
    },
    {
     "name": "stdout",
     "output_type": "stream",
     "text": [
      "Tuning Iteration: 5\n"
     ]
    },
    {
     "name": "stderr",
     "output_type": "stream",
     "text": [
      "INFO:prophet:Disabling yearly seasonality. Run prophet with yearly_seasonality=True to override this.\n"
     ]
    },
    {
     "name": "stdout",
     "output_type": "stream",
     "text": [
      "Tuning Iteration: 6\n"
     ]
    },
    {
     "name": "stderr",
     "output_type": "stream",
     "text": [
      "INFO:prophet:Disabling yearly seasonality. Run prophet with yearly_seasonality=True to override this.\n"
     ]
    },
    {
     "name": "stdout",
     "output_type": "stream",
     "text": [
      "Tuning Iteration: 7\n",
      "Median Percent Error of Range: 7.993409825783609\n",
      "Best Parameters: \n",
      "{'seasonality_mode': 'multiplicative', 'n_changepoints': 200, 'changepoint_prior_scale': 0.1}\n",
      "XGBoost......\n",
      "Predict Length: 31\n",
      "Median Percent Error of Range: 9.364393181881047\n"
     ]
    },
    {
     "name": "stderr",
     "output_type": "stream",
     "text": [
      "INFO:prophet:Disabling yearly seasonality. Run prophet with yearly_seasonality=True to override this.\n"
     ]
    },
    {
     "name": "stdout",
     "output_type": "stream",
     "text": [
      "\n",
      "###########################################################\n",
      "File: 120_0.pkl\n",
      "Length on load: 26304\n",
      "Length after agg: 1096\n",
      "Dropped N/A cols: 0\n",
      "Length after blank drop: 1096\n",
      "\n",
      "Prophet...... Tuning Prophet....\n",
      "Tuning Iteration: 0\n"
     ]
    },
    {
     "name": "stderr",
     "output_type": "stream",
     "text": [
      "INFO:prophet:Disabling yearly seasonality. Run prophet with yearly_seasonality=True to override this.\n"
     ]
    },
    {
     "name": "stdout",
     "output_type": "stream",
     "text": [
      "Tuning Iteration: 1\n"
     ]
    },
    {
     "name": "stderr",
     "output_type": "stream",
     "text": [
      "INFO:prophet:Disabling yearly seasonality. Run prophet with yearly_seasonality=True to override this.\n"
     ]
    },
    {
     "name": "stdout",
     "output_type": "stream",
     "text": [
      "Tuning Iteration: 2\n"
     ]
    },
    {
     "name": "stderr",
     "output_type": "stream",
     "text": [
      "INFO:prophet:Disabling yearly seasonality. Run prophet with yearly_seasonality=True to override this.\n"
     ]
    },
    {
     "name": "stdout",
     "output_type": "stream",
     "text": [
      "Tuning Iteration: 3\n"
     ]
    },
    {
     "name": "stderr",
     "output_type": "stream",
     "text": [
      "INFO:prophet:Disabling yearly seasonality. Run prophet with yearly_seasonality=True to override this.\n"
     ]
    },
    {
     "name": "stdout",
     "output_type": "stream",
     "text": [
      "Tuning Iteration: 4\n"
     ]
    },
    {
     "name": "stderr",
     "output_type": "stream",
     "text": [
      "INFO:prophet:Disabling yearly seasonality. Run prophet with yearly_seasonality=True to override this.\n"
     ]
    },
    {
     "name": "stdout",
     "output_type": "stream",
     "text": [
      "Tuning Iteration: 5\n"
     ]
    },
    {
     "name": "stderr",
     "output_type": "stream",
     "text": [
      "INFO:prophet:Disabling yearly seasonality. Run prophet with yearly_seasonality=True to override this.\n"
     ]
    },
    {
     "name": "stdout",
     "output_type": "stream",
     "text": [
      "Tuning Iteration: 6\n"
     ]
    },
    {
     "name": "stderr",
     "output_type": "stream",
     "text": [
      "INFO:prophet:Disabling yearly seasonality. Run prophet with yearly_seasonality=True to override this.\n"
     ]
    },
    {
     "name": "stdout",
     "output_type": "stream",
     "text": [
      "Tuning Iteration: 7\n",
      "Median Percent Error of Range: 124.55722266759288\n",
      "Best Parameters: \n",
      "{'seasonality_mode': 'additive', 'n_changepoints': 100, 'changepoint_prior_scale': 0.1}\n",
      "XGBoost......\n",
      "Predict Length: 31\n",
      "Median Percent Error of Range: 133.7725740758384\n"
     ]
    },
    {
     "name": "stderr",
     "output_type": "stream",
     "text": [
      "INFO:prophet:Disabling yearly seasonality. Run prophet with yearly_seasonality=True to override this.\n"
     ]
    },
    {
     "name": "stdout",
     "output_type": "stream",
     "text": [
      "\n",
      "###########################################################\n",
      "File: 126_0.pkl\n",
      "Length on load: 26304\n",
      "Length after agg: 1096\n",
      "Dropped N/A cols: 0\n",
      "Length after blank drop: 1096\n",
      "\n",
      "Prophet...... Tuning Prophet....\n",
      "Tuning Iteration: 0\n"
     ]
    },
    {
     "name": "stderr",
     "output_type": "stream",
     "text": [
      "INFO:prophet:Disabling yearly seasonality. Run prophet with yearly_seasonality=True to override this.\n"
     ]
    },
    {
     "name": "stdout",
     "output_type": "stream",
     "text": [
      "Tuning Iteration: 1\n"
     ]
    },
    {
     "name": "stderr",
     "output_type": "stream",
     "text": [
      "INFO:prophet:Disabling yearly seasonality. Run prophet with yearly_seasonality=True to override this.\n"
     ]
    },
    {
     "name": "stdout",
     "output_type": "stream",
     "text": [
      "Tuning Iteration: 2\n"
     ]
    },
    {
     "name": "stderr",
     "output_type": "stream",
     "text": [
      "INFO:prophet:Disabling yearly seasonality. Run prophet with yearly_seasonality=True to override this.\n"
     ]
    },
    {
     "name": "stdout",
     "output_type": "stream",
     "text": [
      "Tuning Iteration: 3\n"
     ]
    },
    {
     "name": "stderr",
     "output_type": "stream",
     "text": [
      "INFO:prophet:Disabling yearly seasonality. Run prophet with yearly_seasonality=True to override this.\n"
     ]
    },
    {
     "name": "stdout",
     "output_type": "stream",
     "text": [
      "Tuning Iteration: 4\n"
     ]
    },
    {
     "name": "stderr",
     "output_type": "stream",
     "text": [
      "INFO:prophet:Disabling yearly seasonality. Run prophet with yearly_seasonality=True to override this.\n"
     ]
    },
    {
     "name": "stdout",
     "output_type": "stream",
     "text": [
      "Tuning Iteration: 5\n"
     ]
    },
    {
     "name": "stderr",
     "output_type": "stream",
     "text": [
      "INFO:prophet:Disabling yearly seasonality. Run prophet with yearly_seasonality=True to override this.\n"
     ]
    },
    {
     "name": "stdout",
     "output_type": "stream",
     "text": [
      "Tuning Iteration: 6\n"
     ]
    },
    {
     "name": "stderr",
     "output_type": "stream",
     "text": [
      "INFO:prophet:Disabling yearly seasonality. Run prophet with yearly_seasonality=True to override this.\n"
     ]
    },
    {
     "name": "stdout",
     "output_type": "stream",
     "text": [
      "Tuning Iteration: 7\n",
      "Median Percent Error of Range: 13.38896128180094\n",
      "Best Parameters: \n",
      "{'seasonality_mode': 'multiplicative', 'n_changepoints': 100, 'changepoint_prior_scale': 0.5}\n",
      "XGBoost......\n",
      "Predict Length: 31\n",
      "Median Percent Error of Range: 27.62928733342812\n"
     ]
    },
    {
     "name": "stderr",
     "output_type": "stream",
     "text": [
      "INFO:prophet:Disabling yearly seasonality. Run prophet with yearly_seasonality=True to override this.\n"
     ]
    },
    {
     "name": "stdout",
     "output_type": "stream",
     "text": [
      "\n",
      "###########################################################\n",
      "File: 134_0.pkl\n",
      "Length on load: 26304\n",
      "Length after agg: 1096\n",
      "Dropped N/A cols: 0\n",
      "Length after blank drop: 1096\n",
      "\n",
      "Prophet...... Tuning Prophet....\n",
      "Tuning Iteration: 0\n"
     ]
    },
    {
     "name": "stderr",
     "output_type": "stream",
     "text": [
      "INFO:prophet:Disabling yearly seasonality. Run prophet with yearly_seasonality=True to override this.\n"
     ]
    },
    {
     "name": "stdout",
     "output_type": "stream",
     "text": [
      "Tuning Iteration: 1\n"
     ]
    },
    {
     "name": "stderr",
     "output_type": "stream",
     "text": [
      "INFO:prophet:Disabling yearly seasonality. Run prophet with yearly_seasonality=True to override this.\n"
     ]
    },
    {
     "name": "stdout",
     "output_type": "stream",
     "text": [
      "Tuning Iteration: 2\n"
     ]
    },
    {
     "name": "stderr",
     "output_type": "stream",
     "text": [
      "INFO:prophet:Disabling yearly seasonality. Run prophet with yearly_seasonality=True to override this.\n"
     ]
    },
    {
     "name": "stdout",
     "output_type": "stream",
     "text": [
      "Tuning Iteration: 3\n"
     ]
    },
    {
     "name": "stderr",
     "output_type": "stream",
     "text": [
      "INFO:prophet:Disabling yearly seasonality. Run prophet with yearly_seasonality=True to override this.\n"
     ]
    },
    {
     "name": "stdout",
     "output_type": "stream",
     "text": [
      "Tuning Iteration: 4\n"
     ]
    },
    {
     "name": "stderr",
     "output_type": "stream",
     "text": [
      "INFO:prophet:Disabling yearly seasonality. Run prophet with yearly_seasonality=True to override this.\n"
     ]
    },
    {
     "name": "stdout",
     "output_type": "stream",
     "text": [
      "Tuning Iteration: 5\n"
     ]
    },
    {
     "name": "stderr",
     "output_type": "stream",
     "text": [
      "INFO:prophet:Disabling yearly seasonality. Run prophet with yearly_seasonality=True to override this.\n"
     ]
    },
    {
     "name": "stdout",
     "output_type": "stream",
     "text": [
      "Tuning Iteration: 6\n"
     ]
    },
    {
     "name": "stderr",
     "output_type": "stream",
     "text": [
      "INFO:prophet:Disabling yearly seasonality. Run prophet with yearly_seasonality=True to override this.\n"
     ]
    },
    {
     "name": "stdout",
     "output_type": "stream",
     "text": [
      "Tuning Iteration: 7\n",
      "Median Percent Error of Range: 58.54571709714773\n",
      "Best Parameters: \n",
      "{'seasonality_mode': 'additive', 'n_changepoints': 200, 'changepoint_prior_scale': 0.1}\n",
      "XGBoost......\n",
      "Predict Length: 31\n",
      "Median Percent Error of Range: 44.00622210925139\n"
     ]
    },
    {
     "name": "stderr",
     "output_type": "stream",
     "text": [
      "INFO:prophet:Disabling yearly seasonality. Run prophet with yearly_seasonality=True to override this.\n"
     ]
    },
    {
     "name": "stdout",
     "output_type": "stream",
     "text": [
      "\n",
      "###########################################################\n",
      "File: 135_0.pkl\n",
      "Length on load: 26304\n",
      "Length after agg: 1096\n",
      "Dropped N/A cols: 0\n",
      "Length after blank drop: 1096\n",
      "\n",
      "Prophet...... Tuning Prophet....\n",
      "Tuning Iteration: 0\n"
     ]
    },
    {
     "name": "stderr",
     "output_type": "stream",
     "text": [
      "INFO:prophet:Disabling yearly seasonality. Run prophet with yearly_seasonality=True to override this.\n"
     ]
    },
    {
     "name": "stdout",
     "output_type": "stream",
     "text": [
      "Tuning Iteration: 1\n"
     ]
    },
    {
     "name": "stderr",
     "output_type": "stream",
     "text": [
      "INFO:prophet:Disabling yearly seasonality. Run prophet with yearly_seasonality=True to override this.\n"
     ]
    },
    {
     "name": "stdout",
     "output_type": "stream",
     "text": [
      "Tuning Iteration: 2\n"
     ]
    },
    {
     "name": "stderr",
     "output_type": "stream",
     "text": [
      "INFO:prophet:Disabling yearly seasonality. Run prophet with yearly_seasonality=True to override this.\n"
     ]
    },
    {
     "name": "stdout",
     "output_type": "stream",
     "text": [
      "Tuning Iteration: 3\n"
     ]
    },
    {
     "name": "stderr",
     "output_type": "stream",
     "text": [
      "INFO:prophet:Disabling yearly seasonality. Run prophet with yearly_seasonality=True to override this.\n"
     ]
    },
    {
     "name": "stdout",
     "output_type": "stream",
     "text": [
      "Tuning Iteration: 4\n"
     ]
    },
    {
     "name": "stderr",
     "output_type": "stream",
     "text": [
      "INFO:prophet:Disabling yearly seasonality. Run prophet with yearly_seasonality=True to override this.\n"
     ]
    },
    {
     "name": "stdout",
     "output_type": "stream",
     "text": [
      "Tuning Iteration: 5\n"
     ]
    },
    {
     "name": "stderr",
     "output_type": "stream",
     "text": [
      "INFO:prophet:Disabling yearly seasonality. Run prophet with yearly_seasonality=True to override this.\n"
     ]
    },
    {
     "name": "stdout",
     "output_type": "stream",
     "text": [
      "Tuning Iteration: 6\n"
     ]
    },
    {
     "name": "stderr",
     "output_type": "stream",
     "text": [
      "INFO:prophet:Disabling yearly seasonality. Run prophet with yearly_seasonality=True to override this.\n"
     ]
    },
    {
     "name": "stdout",
     "output_type": "stream",
     "text": [
      "Tuning Iteration: 7\n",
      "Median Percent Error of Range: 16.153758904388106\n",
      "Best Parameters: \n",
      "{'seasonality_mode': 'multiplicative', 'n_changepoints': 200, 'changepoint_prior_scale': 0.5}\n",
      "XGBoost......\n",
      "Predict Length: 31\n",
      "Median Percent Error of Range: 156.96096112651213\n"
     ]
    },
    {
     "name": "stderr",
     "output_type": "stream",
     "text": [
      "INFO:prophet:Disabling yearly seasonality. Run prophet with yearly_seasonality=True to override this.\n"
     ]
    },
    {
     "name": "stdout",
     "output_type": "stream",
     "text": [
      "\n",
      "###########################################################\n",
      "File: 141_0.pkl\n",
      "Length on load: 26304\n",
      "Length after agg: 1096\n",
      "Dropped N/A cols: 0\n",
      "Length after blank drop: 1096\n",
      "\n",
      "Prophet...... Tuning Prophet....\n",
      "Tuning Iteration: 0\n"
     ]
    },
    {
     "name": "stderr",
     "output_type": "stream",
     "text": [
      "INFO:prophet:Disabling yearly seasonality. Run prophet with yearly_seasonality=True to override this.\n"
     ]
    },
    {
     "name": "stdout",
     "output_type": "stream",
     "text": [
      "Tuning Iteration: 1\n"
     ]
    },
    {
     "name": "stderr",
     "output_type": "stream",
     "text": [
      "INFO:prophet:Disabling yearly seasonality. Run prophet with yearly_seasonality=True to override this.\n"
     ]
    },
    {
     "name": "stdout",
     "output_type": "stream",
     "text": [
      "Tuning Iteration: 2\n"
     ]
    },
    {
     "name": "stderr",
     "output_type": "stream",
     "text": [
      "INFO:prophet:Disabling yearly seasonality. Run prophet with yearly_seasonality=True to override this.\n"
     ]
    },
    {
     "name": "stdout",
     "output_type": "stream",
     "text": [
      "Tuning Iteration: 3\n"
     ]
    },
    {
     "name": "stderr",
     "output_type": "stream",
     "text": [
      "INFO:prophet:Disabling yearly seasonality. Run prophet with yearly_seasonality=True to override this.\n"
     ]
    },
    {
     "name": "stdout",
     "output_type": "stream",
     "text": [
      "Tuning Iteration: 4\n"
     ]
    },
    {
     "name": "stderr",
     "output_type": "stream",
     "text": [
      "INFO:prophet:Disabling yearly seasonality. Run prophet with yearly_seasonality=True to override this.\n"
     ]
    },
    {
     "name": "stdout",
     "output_type": "stream",
     "text": [
      "Tuning Iteration: 5\n"
     ]
    },
    {
     "name": "stderr",
     "output_type": "stream",
     "text": [
      "INFO:prophet:Disabling yearly seasonality. Run prophet with yearly_seasonality=True to override this.\n"
     ]
    },
    {
     "name": "stdout",
     "output_type": "stream",
     "text": [
      "Tuning Iteration: 6\n"
     ]
    },
    {
     "name": "stderr",
     "output_type": "stream",
     "text": [
      "INFO:prophet:Disabling yearly seasonality. Run prophet with yearly_seasonality=True to override this.\n"
     ]
    },
    {
     "name": "stdout",
     "output_type": "stream",
     "text": [
      "Tuning Iteration: 7\n",
      "Median Percent Error of Range: 19.993630522003695\n",
      "Best Parameters: \n",
      "{'seasonality_mode': 'additive', 'n_changepoints': 200, 'changepoint_prior_scale': 0.5}\n",
      "XGBoost......\n",
      "Predict Length: 31\n",
      "Median Percent Error of Range: 25.227858703260473\n"
     ]
    },
    {
     "name": "stderr",
     "output_type": "stream",
     "text": [
      "INFO:prophet:Disabling yearly seasonality. Run prophet with yearly_seasonality=True to override this.\n"
     ]
    },
    {
     "name": "stdout",
     "output_type": "stream",
     "text": [
      "\n",
      "###########################################################\n",
      "File: 146_0.pkl\n",
      "Length on load: 26304\n",
      "Length after agg: 1096\n",
      "Dropped N/A cols: 0\n",
      "Length after blank drop: 1096\n",
      "\n",
      "Prophet...... Tuning Prophet....\n",
      "Tuning Iteration: 0\n"
     ]
    },
    {
     "name": "stderr",
     "output_type": "stream",
     "text": [
      "INFO:prophet:Disabling yearly seasonality. Run prophet with yearly_seasonality=True to override this.\n"
     ]
    },
    {
     "name": "stdout",
     "output_type": "stream",
     "text": [
      "Tuning Iteration: 1\n"
     ]
    },
    {
     "name": "stderr",
     "output_type": "stream",
     "text": [
      "INFO:prophet:Disabling yearly seasonality. Run prophet with yearly_seasonality=True to override this.\n"
     ]
    },
    {
     "name": "stdout",
     "output_type": "stream",
     "text": [
      "Tuning Iteration: 2\n"
     ]
    },
    {
     "name": "stderr",
     "output_type": "stream",
     "text": [
      "INFO:prophet:Disabling yearly seasonality. Run prophet with yearly_seasonality=True to override this.\n"
     ]
    },
    {
     "name": "stdout",
     "output_type": "stream",
     "text": [
      "Tuning Iteration: 3\n"
     ]
    },
    {
     "name": "stderr",
     "output_type": "stream",
     "text": [
      "INFO:prophet:Disabling yearly seasonality. Run prophet with yearly_seasonality=True to override this.\n"
     ]
    },
    {
     "name": "stdout",
     "output_type": "stream",
     "text": [
      "Tuning Iteration: 4\n"
     ]
    },
    {
     "name": "stderr",
     "output_type": "stream",
     "text": [
      "INFO:prophet:Disabling yearly seasonality. Run prophet with yearly_seasonality=True to override this.\n"
     ]
    },
    {
     "name": "stdout",
     "output_type": "stream",
     "text": [
      "Tuning Iteration: 5\n"
     ]
    },
    {
     "name": "stderr",
     "output_type": "stream",
     "text": [
      "INFO:prophet:Disabling yearly seasonality. Run prophet with yearly_seasonality=True to override this.\n"
     ]
    },
    {
     "name": "stdout",
     "output_type": "stream",
     "text": [
      "Tuning Iteration: 6\n"
     ]
    },
    {
     "name": "stderr",
     "output_type": "stream",
     "text": [
      "INFO:prophet:Disabling yearly seasonality. Run prophet with yearly_seasonality=True to override this.\n"
     ]
    },
    {
     "name": "stdout",
     "output_type": "stream",
     "text": [
      "Tuning Iteration: 7\n",
      "Median Percent Error of Range: 14.970162388609534\n",
      "Best Parameters: \n",
      "{'seasonality_mode': 'multiplicative', 'n_changepoints': 100, 'changepoint_prior_scale': 0.5}\n",
      "XGBoost......\n",
      "Predict Length: 31\n",
      "Median Percent Error of Range: 17.82503876031615\n"
     ]
    },
    {
     "name": "stderr",
     "output_type": "stream",
     "text": [
      "INFO:prophet:Disabling yearly seasonality. Run prophet with yearly_seasonality=True to override this.\n"
     ]
    },
    {
     "name": "stdout",
     "output_type": "stream",
     "text": [
      "\n",
      "###########################################################\n",
      "File: 155_0.pkl\n",
      "Length on load: 26304\n",
      "Length after agg: 1096\n",
      "Dropped N/A cols: 0\n",
      "Length after blank drop: 1096\n",
      "\n",
      "Prophet...... Tuning Prophet....\n",
      "Tuning Iteration: 0\n"
     ]
    },
    {
     "name": "stderr",
     "output_type": "stream",
     "text": [
      "INFO:prophet:Disabling yearly seasonality. Run prophet with yearly_seasonality=True to override this.\n"
     ]
    },
    {
     "name": "stdout",
     "output_type": "stream",
     "text": [
      "Tuning Iteration: 1\n"
     ]
    },
    {
     "name": "stderr",
     "output_type": "stream",
     "text": [
      "INFO:prophet:Disabling yearly seasonality. Run prophet with yearly_seasonality=True to override this.\n"
     ]
    },
    {
     "name": "stdout",
     "output_type": "stream",
     "text": [
      "Tuning Iteration: 2\n"
     ]
    },
    {
     "name": "stderr",
     "output_type": "stream",
     "text": [
      "INFO:prophet:Disabling yearly seasonality. Run prophet with yearly_seasonality=True to override this.\n"
     ]
    },
    {
     "name": "stdout",
     "output_type": "stream",
     "text": [
      "Tuning Iteration: 3\n"
     ]
    },
    {
     "name": "stderr",
     "output_type": "stream",
     "text": [
      "INFO:prophet:Disabling yearly seasonality. Run prophet with yearly_seasonality=True to override this.\n"
     ]
    },
    {
     "name": "stdout",
     "output_type": "stream",
     "text": [
      "Tuning Iteration: 4\n"
     ]
    },
    {
     "name": "stderr",
     "output_type": "stream",
     "text": [
      "INFO:prophet:Disabling yearly seasonality. Run prophet with yearly_seasonality=True to override this.\n"
     ]
    },
    {
     "name": "stdout",
     "output_type": "stream",
     "text": [
      "Tuning Iteration: 5\n"
     ]
    },
    {
     "name": "stderr",
     "output_type": "stream",
     "text": [
      "INFO:prophet:Disabling yearly seasonality. Run prophet with yearly_seasonality=True to override this.\n"
     ]
    },
    {
     "name": "stdout",
     "output_type": "stream",
     "text": [
      "Tuning Iteration: 6\n"
     ]
    },
    {
     "name": "stderr",
     "output_type": "stream",
     "text": [
      "INFO:prophet:Disabling yearly seasonality. Run prophet with yearly_seasonality=True to override this.\n"
     ]
    },
    {
     "name": "stdout",
     "output_type": "stream",
     "text": [
      "Tuning Iteration: 7\n",
      "Median Percent Error of Range: 8.469531713793321\n",
      "Best Parameters: \n",
      "{'seasonality_mode': 'multiplicative', 'n_changepoints': 100, 'changepoint_prior_scale': 0.1}\n",
      "XGBoost......\n",
      "Predict Length: 31\n",
      "Median Percent Error of Range: 14.868305154042705\n"
     ]
    },
    {
     "name": "stderr",
     "output_type": "stream",
     "text": [
      "INFO:prophet:Disabling yearly seasonality. Run prophet with yearly_seasonality=True to override this.\n"
     ]
    },
    {
     "name": "stdout",
     "output_type": "stream",
     "text": [
      "\n",
      "###########################################################\n",
      "File: 201_3.pkl\n",
      "Length on load: 26301\n",
      "Length after agg: 1096\n",
      "Dropped N/A cols: 0\n",
      "Length after blank drop: 1096\n",
      "\n",
      "Prophet...... Tuning Prophet....\n",
      "Tuning Iteration: 0\n"
     ]
    },
    {
     "name": "stderr",
     "output_type": "stream",
     "text": [
      "INFO:prophet:Disabling yearly seasonality. Run prophet with yearly_seasonality=True to override this.\n"
     ]
    },
    {
     "name": "stdout",
     "output_type": "stream",
     "text": [
      "Tuning Iteration: 1\n"
     ]
    },
    {
     "name": "stderr",
     "output_type": "stream",
     "text": [
      "INFO:prophet:Disabling yearly seasonality. Run prophet with yearly_seasonality=True to override this.\n"
     ]
    },
    {
     "name": "stdout",
     "output_type": "stream",
     "text": [
      "Tuning Iteration: 2\n"
     ]
    },
    {
     "name": "stderr",
     "output_type": "stream",
     "text": [
      "INFO:prophet:Disabling yearly seasonality. Run prophet with yearly_seasonality=True to override this.\n"
     ]
    },
    {
     "name": "stdout",
     "output_type": "stream",
     "text": [
      "Tuning Iteration: 3\n"
     ]
    },
    {
     "name": "stderr",
     "output_type": "stream",
     "text": [
      "INFO:prophet:Disabling yearly seasonality. Run prophet with yearly_seasonality=True to override this.\n"
     ]
    },
    {
     "name": "stdout",
     "output_type": "stream",
     "text": [
      "Tuning Iteration: 4\n"
     ]
    },
    {
     "name": "stderr",
     "output_type": "stream",
     "text": [
      "INFO:prophet:Disabling yearly seasonality. Run prophet with yearly_seasonality=True to override this.\n"
     ]
    },
    {
     "name": "stdout",
     "output_type": "stream",
     "text": [
      "Tuning Iteration: 5\n"
     ]
    },
    {
     "name": "stderr",
     "output_type": "stream",
     "text": [
      "INFO:prophet:Disabling yearly seasonality. Run prophet with yearly_seasonality=True to override this.\n"
     ]
    },
    {
     "name": "stdout",
     "output_type": "stream",
     "text": [
      "Tuning Iteration: 6\n"
     ]
    },
    {
     "name": "stderr",
     "output_type": "stream",
     "text": [
      "INFO:prophet:Disabling yearly seasonality. Run prophet with yearly_seasonality=True to override this.\n"
     ]
    },
    {
     "name": "stdout",
     "output_type": "stream",
     "text": [
      "Tuning Iteration: 7\n",
      "Median Percent Error of Range: 27.162042089375575\n",
      "Best Parameters: \n",
      "{'seasonality_mode': 'additive', 'n_changepoints': 100, 'changepoint_prior_scale': 0.1}\n",
      "XGBoost......\n",
      "Predict Length: 31\n",
      "Median Percent Error of Range: 10.906108089134705\n"
     ]
    },
    {
     "name": "stderr",
     "output_type": "stream",
     "text": [
      "INFO:prophet:Disabling yearly seasonality. Run prophet with yearly_seasonality=True to override this.\n"
     ]
    },
    {
     "name": "stdout",
     "output_type": "stream",
     "text": [
      "\n",
      "###########################################################\n",
      "File: 203_1.pkl\n",
      "Length on load: 26301\n",
      "Length after agg: 1096\n",
      "Dropped N/A cols: 0\n",
      "Length after blank drop: 1096\n",
      "\n",
      "Prophet...... Tuning Prophet....\n",
      "Tuning Iteration: 0\n"
     ]
    },
    {
     "name": "stderr",
     "output_type": "stream",
     "text": [
      "INFO:prophet:Disabling yearly seasonality. Run prophet with yearly_seasonality=True to override this.\n"
     ]
    },
    {
     "name": "stdout",
     "output_type": "stream",
     "text": [
      "Tuning Iteration: 1\n"
     ]
    },
    {
     "name": "stderr",
     "output_type": "stream",
     "text": [
      "INFO:prophet:Disabling yearly seasonality. Run prophet with yearly_seasonality=True to override this.\n"
     ]
    },
    {
     "name": "stdout",
     "output_type": "stream",
     "text": [
      "Tuning Iteration: 2\n"
     ]
    },
    {
     "name": "stderr",
     "output_type": "stream",
     "text": [
      "INFO:prophet:Disabling yearly seasonality. Run prophet with yearly_seasonality=True to override this.\n"
     ]
    },
    {
     "name": "stdout",
     "output_type": "stream",
     "text": [
      "Tuning Iteration: 3\n"
     ]
    },
    {
     "name": "stderr",
     "output_type": "stream",
     "text": [
      "INFO:prophet:Disabling yearly seasonality. Run prophet with yearly_seasonality=True to override this.\n"
     ]
    },
    {
     "name": "stdout",
     "output_type": "stream",
     "text": [
      "Tuning Iteration: 4\n"
     ]
    },
    {
     "name": "stderr",
     "output_type": "stream",
     "text": [
      "INFO:prophet:Disabling yearly seasonality. Run prophet with yearly_seasonality=True to override this.\n"
     ]
    },
    {
     "name": "stdout",
     "output_type": "stream",
     "text": [
      "Tuning Iteration: 5\n"
     ]
    },
    {
     "name": "stderr",
     "output_type": "stream",
     "text": [
      "INFO:prophet:Disabling yearly seasonality. Run prophet with yearly_seasonality=True to override this.\n"
     ]
    },
    {
     "name": "stdout",
     "output_type": "stream",
     "text": [
      "Tuning Iteration: 6\n"
     ]
    },
    {
     "name": "stderr",
     "output_type": "stream",
     "text": [
      "INFO:prophet:Disabling yearly seasonality. Run prophet with yearly_seasonality=True to override this.\n"
     ]
    },
    {
     "name": "stdout",
     "output_type": "stream",
     "text": [
      "Tuning Iteration: 7\n",
      "Median Percent Error of Range: 26.490150311657146\n",
      "Best Parameters: \n",
      "{'seasonality_mode': 'additive', 'n_changepoints': 100, 'changepoint_prior_scale': 0.5}\n",
      "XGBoost......\n",
      "Predict Length: 31\n",
      "Median Percent Error of Range: 24.89890788408919\n"
     ]
    },
    {
     "name": "stderr",
     "output_type": "stream",
     "text": [
      "INFO:prophet:Disabling yearly seasonality. Run prophet with yearly_seasonality=True to override this.\n"
     ]
    },
    {
     "name": "stdout",
     "output_type": "stream",
     "text": [
      "\n",
      "###########################################################\n",
      "File: 205_0.pkl\n",
      "Length on load: 26301\n",
      "Length after agg: 1096\n",
      "Dropped N/A cols: 0\n",
      "Length after blank drop: 1096\n",
      "\n",
      "Prophet...... Tuning Prophet....\n",
      "Tuning Iteration: 0\n"
     ]
    },
    {
     "name": "stderr",
     "output_type": "stream",
     "text": [
      "INFO:prophet:Disabling yearly seasonality. Run prophet with yearly_seasonality=True to override this.\n"
     ]
    },
    {
     "name": "stdout",
     "output_type": "stream",
     "text": [
      "Tuning Iteration: 1\n"
     ]
    },
    {
     "name": "stderr",
     "output_type": "stream",
     "text": [
      "INFO:prophet:Disabling yearly seasonality. Run prophet with yearly_seasonality=True to override this.\n"
     ]
    },
    {
     "name": "stdout",
     "output_type": "stream",
     "text": [
      "Tuning Iteration: 2\n"
     ]
    },
    {
     "name": "stderr",
     "output_type": "stream",
     "text": [
      "INFO:prophet:Disabling yearly seasonality. Run prophet with yearly_seasonality=True to override this.\n"
     ]
    },
    {
     "name": "stdout",
     "output_type": "stream",
     "text": [
      "Tuning Iteration: 3\n"
     ]
    },
    {
     "name": "stderr",
     "output_type": "stream",
     "text": [
      "INFO:prophet:Disabling yearly seasonality. Run prophet with yearly_seasonality=True to override this.\n"
     ]
    },
    {
     "name": "stdout",
     "output_type": "stream",
     "text": [
      "Tuning Iteration: 4\n"
     ]
    },
    {
     "name": "stderr",
     "output_type": "stream",
     "text": [
      "INFO:prophet:Disabling yearly seasonality. Run prophet with yearly_seasonality=True to override this.\n"
     ]
    },
    {
     "name": "stdout",
     "output_type": "stream",
     "text": [
      "Tuning Iteration: 5\n"
     ]
    },
    {
     "name": "stderr",
     "output_type": "stream",
     "text": [
      "INFO:prophet:Disabling yearly seasonality. Run prophet with yearly_seasonality=True to override this.\n"
     ]
    },
    {
     "name": "stdout",
     "output_type": "stream",
     "text": [
      "Tuning Iteration: 6\n"
     ]
    },
    {
     "name": "stderr",
     "output_type": "stream",
     "text": [
      "INFO:prophet:Disabling yearly seasonality. Run prophet with yearly_seasonality=True to override this.\n"
     ]
    },
    {
     "name": "stdout",
     "output_type": "stream",
     "text": [
      "Tuning Iteration: 7\n",
      "Median Percent Error of Range: 76.6666662694835\n",
      "Best Parameters: \n",
      "{'seasonality_mode': 'multiplicative', 'n_changepoints': 100, 'changepoint_prior_scale': 0.5}\n",
      "XGBoost......\n",
      "Predict Length: 31\n",
      "Median Percent Error of Range: 22.135203189172636\n"
     ]
    },
    {
     "name": "stderr",
     "output_type": "stream",
     "text": [
      "INFO:prophet:Disabling yearly seasonality. Run prophet with yearly_seasonality=True to override this.\n"
     ]
    },
    {
     "name": "stdout",
     "output_type": "stream",
     "text": [
      "\n",
      "###########################################################\n",
      "File: 213_3.pkl\n",
      "Length on load: 26301\n",
      "Length after agg: 1096\n",
      "Dropped N/A cols: 0\n",
      "Length after blank drop: 1096\n",
      "\n",
      "Prophet...... Tuning Prophet....\n",
      "Tuning Iteration: 0\n"
     ]
    },
    {
     "name": "stderr",
     "output_type": "stream",
     "text": [
      "INFO:prophet:Disabling yearly seasonality. Run prophet with yearly_seasonality=True to override this.\n"
     ]
    },
    {
     "name": "stdout",
     "output_type": "stream",
     "text": [
      "Tuning Iteration: 1\n"
     ]
    },
    {
     "name": "stderr",
     "output_type": "stream",
     "text": [
      "INFO:prophet:Disabling yearly seasonality. Run prophet with yearly_seasonality=True to override this.\n"
     ]
    },
    {
     "name": "stdout",
     "output_type": "stream",
     "text": [
      "Tuning Iteration: 2\n"
     ]
    },
    {
     "name": "stderr",
     "output_type": "stream",
     "text": [
      "INFO:prophet:Disabling yearly seasonality. Run prophet with yearly_seasonality=True to override this.\n"
     ]
    },
    {
     "name": "stdout",
     "output_type": "stream",
     "text": [
      "Tuning Iteration: 3\n"
     ]
    },
    {
     "name": "stderr",
     "output_type": "stream",
     "text": [
      "INFO:prophet:Disabling yearly seasonality. Run prophet with yearly_seasonality=True to override this.\n"
     ]
    },
    {
     "name": "stdout",
     "output_type": "stream",
     "text": [
      "Tuning Iteration: 4\n"
     ]
    },
    {
     "name": "stderr",
     "output_type": "stream",
     "text": [
      "INFO:prophet:Disabling yearly seasonality. Run prophet with yearly_seasonality=True to override this.\n"
     ]
    },
    {
     "name": "stdout",
     "output_type": "stream",
     "text": [
      "Tuning Iteration: 5\n"
     ]
    },
    {
     "name": "stderr",
     "output_type": "stream",
     "text": [
      "INFO:prophet:Disabling yearly seasonality. Run prophet with yearly_seasonality=True to override this.\n"
     ]
    },
    {
     "name": "stdout",
     "output_type": "stream",
     "text": [
      "Tuning Iteration: 6\n"
     ]
    },
    {
     "name": "stderr",
     "output_type": "stream",
     "text": [
      "INFO:prophet:Disabling yearly seasonality. Run prophet with yearly_seasonality=True to override this.\n"
     ]
    },
    {
     "name": "stdout",
     "output_type": "stream",
     "text": [
      "Tuning Iteration: 7\n",
      "Median Percent Error of Range: 9.774846526108682\n",
      "Best Parameters: \n",
      "{'seasonality_mode': 'additive', 'n_changepoints': 100, 'changepoint_prior_scale': 0.5}\n",
      "XGBoost......\n",
      "Predict Length: 31\n",
      "Median Percent Error of Range: 49.27238364316124\n"
     ]
    },
    {
     "name": "stderr",
     "output_type": "stream",
     "text": [
      "INFO:prophet:Disabling yearly seasonality. Run prophet with yearly_seasonality=True to override this.\n"
     ]
    },
    {
     "name": "stdout",
     "output_type": "stream",
     "text": [
      "\n",
      "###########################################################\n",
      "File: 217_0.pkl\n",
      "Length on load: 26302\n",
      "Length after agg: 1096\n",
      "Dropped N/A cols: 0\n",
      "Length after blank drop: 1096\n",
      "\n",
      "Prophet...... Tuning Prophet....\n",
      "Tuning Iteration: 0\n"
     ]
    },
    {
     "name": "stderr",
     "output_type": "stream",
     "text": [
      "INFO:prophet:Disabling yearly seasonality. Run prophet with yearly_seasonality=True to override this.\n"
     ]
    },
    {
     "name": "stdout",
     "output_type": "stream",
     "text": [
      "Tuning Iteration: 1\n"
     ]
    },
    {
     "name": "stderr",
     "output_type": "stream",
     "text": [
      "INFO:prophet:Disabling yearly seasonality. Run prophet with yearly_seasonality=True to override this.\n"
     ]
    },
    {
     "name": "stdout",
     "output_type": "stream",
     "text": [
      "Tuning Iteration: 2\n"
     ]
    },
    {
     "name": "stderr",
     "output_type": "stream",
     "text": [
      "INFO:prophet:Disabling yearly seasonality. Run prophet with yearly_seasonality=True to override this.\n"
     ]
    },
    {
     "name": "stdout",
     "output_type": "stream",
     "text": [
      "Tuning Iteration: 3\n"
     ]
    },
    {
     "name": "stderr",
     "output_type": "stream",
     "text": [
      "INFO:prophet:Disabling yearly seasonality. Run prophet with yearly_seasonality=True to override this.\n"
     ]
    },
    {
     "name": "stdout",
     "output_type": "stream",
     "text": [
      "Tuning Iteration: 4\n"
     ]
    },
    {
     "name": "stderr",
     "output_type": "stream",
     "text": [
      "INFO:prophet:Disabling yearly seasonality. Run prophet with yearly_seasonality=True to override this.\n"
     ]
    },
    {
     "name": "stdout",
     "output_type": "stream",
     "text": [
      "Tuning Iteration: 5\n"
     ]
    },
    {
     "name": "stderr",
     "output_type": "stream",
     "text": [
      "INFO:prophet:Disabling yearly seasonality. Run prophet with yearly_seasonality=True to override this.\n"
     ]
    },
    {
     "name": "stdout",
     "output_type": "stream",
     "text": [
      "Tuning Iteration: 6\n"
     ]
    },
    {
     "name": "stderr",
     "output_type": "stream",
     "text": [
      "INFO:prophet:Disabling yearly seasonality. Run prophet with yearly_seasonality=True to override this.\n"
     ]
    },
    {
     "name": "stdout",
     "output_type": "stream",
     "text": [
      "Tuning Iteration: 7\n",
      "Median Percent Error of Range: 24.078794287446335\n",
      "Best Parameters: \n",
      "{'seasonality_mode': 'additive', 'n_changepoints': 100, 'changepoint_prior_scale': 0.5}\n",
      "XGBoost......\n",
      "Predict Length: 31\n",
      "Median Percent Error of Range: 10.127614996867267\n"
     ]
    },
    {
     "name": "stderr",
     "output_type": "stream",
     "text": [
      "INFO:prophet:Disabling yearly seasonality. Run prophet with yearly_seasonality=True to override this.\n"
     ]
    },
    {
     "name": "stdout",
     "output_type": "stream",
     "text": [
      "\n",
      "###########################################################\n",
      "File: 229_0.pkl\n",
      "Length on load: 26302\n",
      "Length after agg: 1096\n",
      "Dropped N/A cols: 0\n",
      "Length after blank drop: 1096\n",
      "\n",
      "Prophet...... Tuning Prophet....\n",
      "Tuning Iteration: 0\n"
     ]
    },
    {
     "name": "stderr",
     "output_type": "stream",
     "text": [
      "INFO:prophet:Disabling yearly seasonality. Run prophet with yearly_seasonality=True to override this.\n"
     ]
    },
    {
     "name": "stdout",
     "output_type": "stream",
     "text": [
      "Tuning Iteration: 1\n"
     ]
    },
    {
     "name": "stderr",
     "output_type": "stream",
     "text": [
      "INFO:prophet:Disabling yearly seasonality. Run prophet with yearly_seasonality=True to override this.\n"
     ]
    },
    {
     "name": "stdout",
     "output_type": "stream",
     "text": [
      "Tuning Iteration: 2\n"
     ]
    },
    {
     "name": "stderr",
     "output_type": "stream",
     "text": [
      "INFO:prophet:Disabling yearly seasonality. Run prophet with yearly_seasonality=True to override this.\n"
     ]
    },
    {
     "name": "stdout",
     "output_type": "stream",
     "text": [
      "Tuning Iteration: 3\n"
     ]
    },
    {
     "name": "stderr",
     "output_type": "stream",
     "text": [
      "INFO:prophet:Disabling yearly seasonality. Run prophet with yearly_seasonality=True to override this.\n"
     ]
    },
    {
     "name": "stdout",
     "output_type": "stream",
     "text": [
      "Tuning Iteration: 4\n"
     ]
    },
    {
     "name": "stderr",
     "output_type": "stream",
     "text": [
      "INFO:prophet:Disabling yearly seasonality. Run prophet with yearly_seasonality=True to override this.\n"
     ]
    },
    {
     "name": "stdout",
     "output_type": "stream",
     "text": [
      "Tuning Iteration: 5\n"
     ]
    },
    {
     "name": "stderr",
     "output_type": "stream",
     "text": [
      "INFO:prophet:Disabling yearly seasonality. Run prophet with yearly_seasonality=True to override this.\n"
     ]
    },
    {
     "name": "stdout",
     "output_type": "stream",
     "text": [
      "Tuning Iteration: 6\n"
     ]
    },
    {
     "name": "stderr",
     "output_type": "stream",
     "text": [
      "INFO:prophet:Disabling yearly seasonality. Run prophet with yearly_seasonality=True to override this.\n"
     ]
    },
    {
     "name": "stdout",
     "output_type": "stream",
     "text": [
      "Tuning Iteration: 7\n",
      "Median Percent Error of Range: 51.95687260039543\n",
      "Best Parameters: \n",
      "{'seasonality_mode': 'additive', 'n_changepoints': 100, 'changepoint_prior_scale': 0.1}\n",
      "XGBoost......\n",
      "Predict Length: 31\n",
      "Median Percent Error of Range: 39.2582050276958\n"
     ]
    },
    {
     "name": "stderr",
     "output_type": "stream",
     "text": [
      "INFO:prophet:Disabling yearly seasonality. Run prophet with yearly_seasonality=True to override this.\n"
     ]
    },
    {
     "name": "stdout",
     "output_type": "stream",
     "text": [
      "\n",
      "###########################################################\n",
      "File: 237_0.pkl\n",
      "Length on load: 26302\n",
      "Length after agg: 1096\n",
      "Dropped N/A cols: 0\n",
      "Length after blank drop: 1096\n",
      "\n",
      "Prophet...... Tuning Prophet....\n",
      "Tuning Iteration: 0\n"
     ]
    },
    {
     "name": "stderr",
     "output_type": "stream",
     "text": [
      "INFO:prophet:Disabling yearly seasonality. Run prophet with yearly_seasonality=True to override this.\n"
     ]
    },
    {
     "name": "stdout",
     "output_type": "stream",
     "text": [
      "Tuning Iteration: 1\n"
     ]
    },
    {
     "name": "stderr",
     "output_type": "stream",
     "text": [
      "INFO:prophet:Disabling yearly seasonality. Run prophet with yearly_seasonality=True to override this.\n"
     ]
    },
    {
     "name": "stdout",
     "output_type": "stream",
     "text": [
      "Tuning Iteration: 2\n"
     ]
    },
    {
     "name": "stderr",
     "output_type": "stream",
     "text": [
      "INFO:prophet:Disabling yearly seasonality. Run prophet with yearly_seasonality=True to override this.\n"
     ]
    },
    {
     "name": "stdout",
     "output_type": "stream",
     "text": [
      "Tuning Iteration: 3\n"
     ]
    },
    {
     "name": "stderr",
     "output_type": "stream",
     "text": [
      "INFO:prophet:Disabling yearly seasonality. Run prophet with yearly_seasonality=True to override this.\n"
     ]
    },
    {
     "name": "stdout",
     "output_type": "stream",
     "text": [
      "Tuning Iteration: 4\n"
     ]
    },
    {
     "name": "stderr",
     "output_type": "stream",
     "text": [
      "INFO:prophet:Disabling yearly seasonality. Run prophet with yearly_seasonality=True to override this.\n"
     ]
    },
    {
     "name": "stdout",
     "output_type": "stream",
     "text": [
      "Tuning Iteration: 5\n"
     ]
    },
    {
     "name": "stderr",
     "output_type": "stream",
     "text": [
      "INFO:prophet:Disabling yearly seasonality. Run prophet with yearly_seasonality=True to override this.\n"
     ]
    },
    {
     "name": "stdout",
     "output_type": "stream",
     "text": [
      "Tuning Iteration: 6\n"
     ]
    },
    {
     "name": "stderr",
     "output_type": "stream",
     "text": [
      "INFO:prophet:Disabling yearly seasonality. Run prophet with yearly_seasonality=True to override this.\n"
     ]
    },
    {
     "name": "stdout",
     "output_type": "stream",
     "text": [
      "Tuning Iteration: 7\n",
      "Median Percent Error of Range: 8.351411230961512\n",
      "Best Parameters: \n",
      "{'seasonality_mode': 'additive', 'n_changepoints': 100, 'changepoint_prior_scale': 0.1}\n",
      "XGBoost......\n",
      "Predict Length: 31\n",
      "Median Percent Error of Range: 6.949589902783824\n"
     ]
    },
    {
     "name": "stderr",
     "output_type": "stream",
     "text": [
      "INFO:prophet:Disabling yearly seasonality. Run prophet with yearly_seasonality=True to override this.\n"
     ]
    },
    {
     "name": "stdout",
     "output_type": "stream",
     "text": [
      "\n",
      "###########################################################\n",
      "File: 253_1.pkl\n",
      "Length on load: 26302\n",
      "Length after agg: 1096\n",
      "Dropped N/A cols: 0\n",
      "Length after blank drop: 1096\n",
      "\n",
      "Prophet...... Tuning Prophet....\n",
      "Tuning Iteration: 0\n"
     ]
    },
    {
     "name": "stderr",
     "output_type": "stream",
     "text": [
      "INFO:prophet:Disabling yearly seasonality. Run prophet with yearly_seasonality=True to override this.\n"
     ]
    },
    {
     "name": "stdout",
     "output_type": "stream",
     "text": [
      "Tuning Iteration: 1\n"
     ]
    },
    {
     "name": "stderr",
     "output_type": "stream",
     "text": [
      "INFO:prophet:Disabling yearly seasonality. Run prophet with yearly_seasonality=True to override this.\n"
     ]
    },
    {
     "name": "stdout",
     "output_type": "stream",
     "text": [
      "Tuning Iteration: 2\n"
     ]
    },
    {
     "name": "stderr",
     "output_type": "stream",
     "text": [
      "INFO:prophet:Disabling yearly seasonality. Run prophet with yearly_seasonality=True to override this.\n"
     ]
    },
    {
     "name": "stdout",
     "output_type": "stream",
     "text": [
      "Tuning Iteration: 3\n"
     ]
    },
    {
     "name": "stderr",
     "output_type": "stream",
     "text": [
      "INFO:prophet:Disabling yearly seasonality. Run prophet with yearly_seasonality=True to override this.\n"
     ]
    },
    {
     "name": "stdout",
     "output_type": "stream",
     "text": [
      "Tuning Iteration: 4\n"
     ]
    },
    {
     "name": "stderr",
     "output_type": "stream",
     "text": [
      "INFO:prophet:Disabling yearly seasonality. Run prophet with yearly_seasonality=True to override this.\n"
     ]
    },
    {
     "name": "stdout",
     "output_type": "stream",
     "text": [
      "Tuning Iteration: 5\n"
     ]
    },
    {
     "name": "stderr",
     "output_type": "stream",
     "text": [
      "INFO:prophet:Disabling yearly seasonality. Run prophet with yearly_seasonality=True to override this.\n"
     ]
    },
    {
     "name": "stdout",
     "output_type": "stream",
     "text": [
      "Tuning Iteration: 6\n"
     ]
    },
    {
     "name": "stderr",
     "output_type": "stream",
     "text": [
      "INFO:prophet:Disabling yearly seasonality. Run prophet with yearly_seasonality=True to override this.\n"
     ]
    },
    {
     "name": "stdout",
     "output_type": "stream",
     "text": [
      "Tuning Iteration: 7\n",
      "Median Percent Error of Range: 35.30204116447248\n",
      "Best Parameters: \n",
      "{'seasonality_mode': 'additive', 'n_changepoints': 100, 'changepoint_prior_scale': 0.1}\n",
      "XGBoost......\n",
      "Predict Length: 31\n",
      "Median Percent Error of Range: 30.705281815303103\n"
     ]
    },
    {
     "name": "stderr",
     "output_type": "stream",
     "text": [
      "INFO:prophet:Disabling yearly seasonality. Run prophet with yearly_seasonality=True to override this.\n"
     ]
    },
    {
     "name": "stdout",
     "output_type": "stream",
     "text": [
      "\n",
      "###########################################################\n",
      "File: 273_0.pkl\n",
      "Length on load: 26303\n",
      "Length after agg: 1096\n",
      "Dropped N/A cols: 0\n",
      "Length after blank drop: 1096\n",
      "\n",
      "Prophet...... Tuning Prophet....\n",
      "Tuning Iteration: 0\n"
     ]
    },
    {
     "name": "stderr",
     "output_type": "stream",
     "text": [
      "INFO:prophet:Disabling yearly seasonality. Run prophet with yearly_seasonality=True to override this.\n"
     ]
    },
    {
     "name": "stdout",
     "output_type": "stream",
     "text": [
      "Tuning Iteration: 1\n"
     ]
    },
    {
     "name": "stderr",
     "output_type": "stream",
     "text": [
      "INFO:prophet:Disabling yearly seasonality. Run prophet with yearly_seasonality=True to override this.\n"
     ]
    },
    {
     "name": "stdout",
     "output_type": "stream",
     "text": [
      "Tuning Iteration: 2\n"
     ]
    },
    {
     "name": "stderr",
     "output_type": "stream",
     "text": [
      "INFO:prophet:Disabling yearly seasonality. Run prophet with yearly_seasonality=True to override this.\n"
     ]
    },
    {
     "name": "stdout",
     "output_type": "stream",
     "text": [
      "Tuning Iteration: 3\n"
     ]
    },
    {
     "name": "stderr",
     "output_type": "stream",
     "text": [
      "INFO:prophet:Disabling yearly seasonality. Run prophet with yearly_seasonality=True to override this.\n"
     ]
    },
    {
     "name": "stdout",
     "output_type": "stream",
     "text": [
      "Tuning Iteration: 4\n"
     ]
    },
    {
     "name": "stderr",
     "output_type": "stream",
     "text": [
      "INFO:prophet:Disabling yearly seasonality. Run prophet with yearly_seasonality=True to override this.\n"
     ]
    },
    {
     "name": "stdout",
     "output_type": "stream",
     "text": [
      "Tuning Iteration: 5\n"
     ]
    },
    {
     "name": "stderr",
     "output_type": "stream",
     "text": [
      "INFO:prophet:Disabling yearly seasonality. Run prophet with yearly_seasonality=True to override this.\n"
     ]
    },
    {
     "name": "stdout",
     "output_type": "stream",
     "text": [
      "Tuning Iteration: 6\n"
     ]
    },
    {
     "name": "stderr",
     "output_type": "stream",
     "text": [
      "INFO:prophet:Disabling yearly seasonality. Run prophet with yearly_seasonality=True to override this.\n"
     ]
    },
    {
     "name": "stdout",
     "output_type": "stream",
     "text": [
      "Tuning Iteration: 7\n",
      "Median Percent Error of Range: 19.394511608626182\n",
      "Best Parameters: \n",
      "{'seasonality_mode': 'multiplicative', 'n_changepoints': 100, 'changepoint_prior_scale': 0.1}\n",
      "XGBoost......\n",
      "Predict Length: 31\n",
      "Median Percent Error of Range: 9.967649005322787\n"
     ]
    },
    {
     "name": "stderr",
     "output_type": "stream",
     "text": [
      "INFO:prophet:Disabling yearly seasonality. Run prophet with yearly_seasonality=True to override this.\n"
     ]
    },
    {
     "name": "stdout",
     "output_type": "stream",
     "text": [
      "\n",
      "###########################################################\n",
      "File: 293_0.pkl\n",
      "Length on load: 26302\n",
      "Length after agg: 1096\n",
      "Dropped N/A cols: 0\n",
      "Length after blank drop: 1096\n",
      "\n",
      "Prophet...... Tuning Prophet....\n",
      "Tuning Iteration: 0\n"
     ]
    },
    {
     "name": "stderr",
     "output_type": "stream",
     "text": [
      "INFO:prophet:Disabling yearly seasonality. Run prophet with yearly_seasonality=True to override this.\n"
     ]
    },
    {
     "name": "stdout",
     "output_type": "stream",
     "text": [
      "Tuning Iteration: 1\n"
     ]
    },
    {
     "name": "stderr",
     "output_type": "stream",
     "text": [
      "INFO:prophet:Disabling yearly seasonality. Run prophet with yearly_seasonality=True to override this.\n"
     ]
    },
    {
     "name": "stdout",
     "output_type": "stream",
     "text": [
      "Tuning Iteration: 2\n"
     ]
    },
    {
     "name": "stderr",
     "output_type": "stream",
     "text": [
      "INFO:prophet:Disabling yearly seasonality. Run prophet with yearly_seasonality=True to override this.\n"
     ]
    },
    {
     "name": "stdout",
     "output_type": "stream",
     "text": [
      "Tuning Iteration: 3\n"
     ]
    },
    {
     "name": "stderr",
     "output_type": "stream",
     "text": [
      "INFO:prophet:Disabling yearly seasonality. Run prophet with yearly_seasonality=True to override this.\n"
     ]
    },
    {
     "name": "stdout",
     "output_type": "stream",
     "text": [
      "Tuning Iteration: 4\n"
     ]
    },
    {
     "name": "stderr",
     "output_type": "stream",
     "text": [
      "INFO:prophet:Disabling yearly seasonality. Run prophet with yearly_seasonality=True to override this.\n"
     ]
    },
    {
     "name": "stdout",
     "output_type": "stream",
     "text": [
      "Tuning Iteration: 5\n"
     ]
    },
    {
     "name": "stderr",
     "output_type": "stream",
     "text": [
      "INFO:prophet:Disabling yearly seasonality. Run prophet with yearly_seasonality=True to override this.\n"
     ]
    },
    {
     "name": "stdout",
     "output_type": "stream",
     "text": [
      "Tuning Iteration: 6\n"
     ]
    },
    {
     "name": "stderr",
     "output_type": "stream",
     "text": [
      "INFO:prophet:Disabling yearly seasonality. Run prophet with yearly_seasonality=True to override this.\n"
     ]
    },
    {
     "name": "stdout",
     "output_type": "stream",
     "text": [
      "Tuning Iteration: 7\n",
      "Median Percent Error of Range: 12.727789345590173\n",
      "Best Parameters: \n",
      "{'seasonality_mode': 'multiplicative', 'n_changepoints': 200, 'changepoint_prior_scale': 0.5}\n",
      "XGBoost......\n",
      "Predict Length: 31\n",
      "Median Percent Error of Range: 17.72391492893538\n"
     ]
    },
    {
     "name": "stderr",
     "output_type": "stream",
     "text": [
      "INFO:prophet:Disabling yearly seasonality. Run prophet with yearly_seasonality=True to override this.\n"
     ]
    },
    {
     "name": "stdout",
     "output_type": "stream",
     "text": [
      "\n",
      "###########################################################\n",
      "File: 297_0.pkl\n",
      "Length on load: 26278\n",
      "Length after agg: 1096\n",
      "Dropped N/A cols: 1\n",
      "Length after blank drop: 1095\n",
      "\n",
      "Prophet...... Tuning Prophet....\n",
      "Tuning Iteration: 0\n"
     ]
    },
    {
     "name": "stderr",
     "output_type": "stream",
     "text": [
      "INFO:prophet:Disabling yearly seasonality. Run prophet with yearly_seasonality=True to override this.\n"
     ]
    },
    {
     "name": "stdout",
     "output_type": "stream",
     "text": [
      "Tuning Iteration: 1\n"
     ]
    },
    {
     "name": "stderr",
     "output_type": "stream",
     "text": [
      "INFO:prophet:Disabling yearly seasonality. Run prophet with yearly_seasonality=True to override this.\n"
     ]
    },
    {
     "name": "stdout",
     "output_type": "stream",
     "text": [
      "Tuning Iteration: 2\n"
     ]
    },
    {
     "name": "stderr",
     "output_type": "stream",
     "text": [
      "INFO:prophet:Disabling yearly seasonality. Run prophet with yearly_seasonality=True to override this.\n"
     ]
    },
    {
     "name": "stdout",
     "output_type": "stream",
     "text": [
      "Tuning Iteration: 3\n"
     ]
    },
    {
     "name": "stderr",
     "output_type": "stream",
     "text": [
      "INFO:prophet:Disabling yearly seasonality. Run prophet with yearly_seasonality=True to override this.\n"
     ]
    },
    {
     "name": "stdout",
     "output_type": "stream",
     "text": [
      "Tuning Iteration: 4\n"
     ]
    },
    {
     "name": "stderr",
     "output_type": "stream",
     "text": [
      "INFO:prophet:Disabling yearly seasonality. Run prophet with yearly_seasonality=True to override this.\n"
     ]
    },
    {
     "name": "stdout",
     "output_type": "stream",
     "text": [
      "Tuning Iteration: 5\n"
     ]
    },
    {
     "name": "stderr",
     "output_type": "stream",
     "text": [
      "INFO:prophet:Disabling yearly seasonality. Run prophet with yearly_seasonality=True to override this.\n"
     ]
    },
    {
     "name": "stdout",
     "output_type": "stream",
     "text": [
      "Tuning Iteration: 6\n"
     ]
    },
    {
     "name": "stderr",
     "output_type": "stream",
     "text": [
      "INFO:prophet:Disabling yearly seasonality. Run prophet with yearly_seasonality=True to override this.\n"
     ]
    },
    {
     "name": "stdout",
     "output_type": "stream",
     "text": [
      "Tuning Iteration: 7\n",
      "Median Percent Error of Range: 34.54455469088702\n",
      "Best Parameters: \n",
      "{'seasonality_mode': 'multiplicative', 'n_changepoints': 200, 'changepoint_prior_scale': 0.5}\n",
      "XGBoost......\n",
      "Predict Length: 31\n",
      "Median Percent Error of Range: 10.224014610372569\n"
     ]
    },
    {
     "name": "stderr",
     "output_type": "stream",
     "text": [
      "INFO:prophet:Disabling yearly seasonality. Run prophet with yearly_seasonality=True to override this.\n"
     ]
    },
    {
     "name": "stdout",
     "output_type": "stream",
     "text": [
      "\n",
      "###########################################################\n",
      "File: 317_0.pkl\n",
      "Length on load: 26302\n",
      "Length after agg: 1096\n",
      "Dropped N/A cols: 0\n",
      "Length after blank drop: 1096\n",
      "\n",
      "Prophet...... Tuning Prophet....\n",
      "Tuning Iteration: 0\n"
     ]
    },
    {
     "name": "stderr",
     "output_type": "stream",
     "text": [
      "INFO:prophet:Disabling yearly seasonality. Run prophet with yearly_seasonality=True to override this.\n"
     ]
    },
    {
     "name": "stdout",
     "output_type": "stream",
     "text": [
      "Tuning Iteration: 1\n"
     ]
    },
    {
     "name": "stderr",
     "output_type": "stream",
     "text": [
      "INFO:prophet:Disabling yearly seasonality. Run prophet with yearly_seasonality=True to override this.\n"
     ]
    },
    {
     "name": "stdout",
     "output_type": "stream",
     "text": [
      "Tuning Iteration: 2\n"
     ]
    },
    {
     "name": "stderr",
     "output_type": "stream",
     "text": [
      "INFO:prophet:Disabling yearly seasonality. Run prophet with yearly_seasonality=True to override this.\n"
     ]
    },
    {
     "name": "stdout",
     "output_type": "stream",
     "text": [
      "Tuning Iteration: 3\n"
     ]
    },
    {
     "name": "stderr",
     "output_type": "stream",
     "text": [
      "INFO:prophet:Disabling yearly seasonality. Run prophet with yearly_seasonality=True to override this.\n"
     ]
    },
    {
     "name": "stdout",
     "output_type": "stream",
     "text": [
      "Tuning Iteration: 4\n"
     ]
    },
    {
     "name": "stderr",
     "output_type": "stream",
     "text": [
      "INFO:prophet:Disabling yearly seasonality. Run prophet with yearly_seasonality=True to override this.\n"
     ]
    },
    {
     "name": "stdout",
     "output_type": "stream",
     "text": [
      "Tuning Iteration: 5\n"
     ]
    },
    {
     "name": "stderr",
     "output_type": "stream",
     "text": [
      "INFO:prophet:Disabling yearly seasonality. Run prophet with yearly_seasonality=True to override this.\n"
     ]
    },
    {
     "name": "stdout",
     "output_type": "stream",
     "text": [
      "Tuning Iteration: 6\n"
     ]
    },
    {
     "name": "stderr",
     "output_type": "stream",
     "text": [
      "INFO:prophet:Disabling yearly seasonality. Run prophet with yearly_seasonality=True to override this.\n"
     ]
    },
    {
     "name": "stdout",
     "output_type": "stream",
     "text": [
      "Tuning Iteration: 7\n",
      "Median Percent Error of Range: 16.05472435838785\n",
      "Best Parameters: \n",
      "{'seasonality_mode': 'additive', 'n_changepoints': 200, 'changepoint_prior_scale': 0.5}\n",
      "XGBoost......\n",
      "Predict Length: 31\n",
      "Median Percent Error of Range: 10.347319247832356\n"
     ]
    },
    {
     "name": "stderr",
     "output_type": "stream",
     "text": [
      "INFO:prophet:Disabling yearly seasonality. Run prophet with yearly_seasonality=True to override this.\n"
     ]
    },
    {
     "name": "stdout",
     "output_type": "stream",
     "text": [
      "\n",
      "###########################################################\n",
      "File: 326_0.pkl\n",
      "Length on load: 26278\n",
      "Length after agg: 1096\n",
      "Dropped N/A cols: 1\n",
      "Length after blank drop: 1095\n",
      "\n",
      "Prophet...... Tuning Prophet....\n",
      "Tuning Iteration: 0\n"
     ]
    },
    {
     "name": "stderr",
     "output_type": "stream",
     "text": [
      "INFO:prophet:Disabling yearly seasonality. Run prophet with yearly_seasonality=True to override this.\n"
     ]
    },
    {
     "name": "stdout",
     "output_type": "stream",
     "text": [
      "Tuning Iteration: 1\n"
     ]
    },
    {
     "name": "stderr",
     "output_type": "stream",
     "text": [
      "INFO:prophet:Disabling yearly seasonality. Run prophet with yearly_seasonality=True to override this.\n"
     ]
    },
    {
     "name": "stdout",
     "output_type": "stream",
     "text": [
      "Tuning Iteration: 2\n"
     ]
    },
    {
     "name": "stderr",
     "output_type": "stream",
     "text": [
      "INFO:prophet:Disabling yearly seasonality. Run prophet with yearly_seasonality=True to override this.\n"
     ]
    },
    {
     "name": "stdout",
     "output_type": "stream",
     "text": [
      "Tuning Iteration: 3\n"
     ]
    },
    {
     "name": "stderr",
     "output_type": "stream",
     "text": [
      "INFO:prophet:Disabling yearly seasonality. Run prophet with yearly_seasonality=True to override this.\n"
     ]
    },
    {
     "name": "stdout",
     "output_type": "stream",
     "text": [
      "Tuning Iteration: 4\n"
     ]
    },
    {
     "name": "stderr",
     "output_type": "stream",
     "text": [
      "INFO:prophet:Disabling yearly seasonality. Run prophet with yearly_seasonality=True to override this.\n"
     ]
    },
    {
     "name": "stdout",
     "output_type": "stream",
     "text": [
      "Tuning Iteration: 5\n"
     ]
    },
    {
     "name": "stderr",
     "output_type": "stream",
     "text": [
      "INFO:prophet:Disabling yearly seasonality. Run prophet with yearly_seasonality=True to override this.\n"
     ]
    },
    {
     "name": "stdout",
     "output_type": "stream",
     "text": [
      "Tuning Iteration: 6\n"
     ]
    },
    {
     "name": "stderr",
     "output_type": "stream",
     "text": [
      "INFO:prophet:Disabling yearly seasonality. Run prophet with yearly_seasonality=True to override this.\n"
     ]
    },
    {
     "name": "stdout",
     "output_type": "stream",
     "text": [
      "Tuning Iteration: 7\n",
      "Median Percent Error of Range: 22.963499182280632\n",
      "Best Parameters: \n",
      "{'seasonality_mode': 'additive', 'n_changepoints': 200, 'changepoint_prior_scale': 0.5}\n",
      "XGBoost......\n",
      "Predict Length: 31\n",
      "Median Percent Error of Range: 16.916757368488202\n"
     ]
    },
    {
     "name": "stderr",
     "output_type": "stream",
     "text": [
      "INFO:prophet:Disabling yearly seasonality. Run prophet with yearly_seasonality=True to override this.\n"
     ]
    },
    {
     "name": "stdout",
     "output_type": "stream",
     "text": [
      "\n",
      "###########################################################\n",
      "File: 330_0.pkl\n",
      "Length on load: 26302\n",
      "Length after agg: 1096\n",
      "Dropped N/A cols: 0\n",
      "Length after blank drop: 1096\n",
      "\n",
      "Prophet...... Tuning Prophet....\n",
      "Tuning Iteration: 0\n"
     ]
    },
    {
     "name": "stderr",
     "output_type": "stream",
     "text": [
      "INFO:prophet:Disabling yearly seasonality. Run prophet with yearly_seasonality=True to override this.\n"
     ]
    },
    {
     "name": "stdout",
     "output_type": "stream",
     "text": [
      "Tuning Iteration: 1\n"
     ]
    },
    {
     "name": "stderr",
     "output_type": "stream",
     "text": [
      "INFO:prophet:Disabling yearly seasonality. Run prophet with yearly_seasonality=True to override this.\n"
     ]
    },
    {
     "name": "stdout",
     "output_type": "stream",
     "text": [
      "Tuning Iteration: 2\n"
     ]
    },
    {
     "name": "stderr",
     "output_type": "stream",
     "text": [
      "INFO:prophet:Disabling yearly seasonality. Run prophet with yearly_seasonality=True to override this.\n"
     ]
    },
    {
     "name": "stdout",
     "output_type": "stream",
     "text": [
      "Tuning Iteration: 3\n"
     ]
    },
    {
     "name": "stderr",
     "output_type": "stream",
     "text": [
      "INFO:prophet:Disabling yearly seasonality. Run prophet with yearly_seasonality=True to override this.\n"
     ]
    },
    {
     "name": "stdout",
     "output_type": "stream",
     "text": [
      "Tuning Iteration: 4\n"
     ]
    },
    {
     "name": "stderr",
     "output_type": "stream",
     "text": [
      "INFO:prophet:Disabling yearly seasonality. Run prophet with yearly_seasonality=True to override this.\n"
     ]
    },
    {
     "name": "stdout",
     "output_type": "stream",
     "text": [
      "Tuning Iteration: 5\n"
     ]
    },
    {
     "name": "stderr",
     "output_type": "stream",
     "text": [
      "INFO:prophet:Disabling yearly seasonality. Run prophet with yearly_seasonality=True to override this.\n"
     ]
    },
    {
     "name": "stdout",
     "output_type": "stream",
     "text": [
      "Tuning Iteration: 6\n"
     ]
    },
    {
     "name": "stderr",
     "output_type": "stream",
     "text": [
      "INFO:prophet:Disabling yearly seasonality. Run prophet with yearly_seasonality=True to override this.\n"
     ]
    },
    {
     "name": "stdout",
     "output_type": "stream",
     "text": [
      "Tuning Iteration: 7\n",
      "Median Percent Error of Range: 15.242699196903347\n",
      "Best Parameters: \n",
      "{'seasonality_mode': 'multiplicative', 'n_changepoints': 200, 'changepoint_prior_scale': 0.5}\n",
      "XGBoost......\n",
      "Predict Length: 31\n",
      "Median Percent Error of Range: 12.987482111527312\n"
     ]
    },
    {
     "name": "stderr",
     "output_type": "stream",
     "text": [
      "INFO:prophet:Disabling yearly seasonality. Run prophet with yearly_seasonality=True to override this.\n"
     ]
    },
    {
     "name": "stdout",
     "output_type": "stream",
     "text": [
      "\n",
      "###########################################################\n",
      "File: 331_0.pkl\n",
      "Length on load: 26302\n",
      "Length after agg: 1096\n",
      "Dropped N/A cols: 0\n",
      "Length after blank drop: 1096\n",
      "\n",
      "Prophet...... Tuning Prophet....\n",
      "Tuning Iteration: 0\n"
     ]
    },
    {
     "name": "stderr",
     "output_type": "stream",
     "text": [
      "INFO:prophet:Disabling yearly seasonality. Run prophet with yearly_seasonality=True to override this.\n"
     ]
    },
    {
     "name": "stdout",
     "output_type": "stream",
     "text": [
      "Tuning Iteration: 1\n"
     ]
    },
    {
     "name": "stderr",
     "output_type": "stream",
     "text": [
      "INFO:prophet:Disabling yearly seasonality. Run prophet with yearly_seasonality=True to override this.\n"
     ]
    },
    {
     "name": "stdout",
     "output_type": "stream",
     "text": [
      "Tuning Iteration: 2\n"
     ]
    },
    {
     "name": "stderr",
     "output_type": "stream",
     "text": [
      "INFO:prophet:Disabling yearly seasonality. Run prophet with yearly_seasonality=True to override this.\n"
     ]
    },
    {
     "name": "stdout",
     "output_type": "stream",
     "text": [
      "Tuning Iteration: 3\n"
     ]
    },
    {
     "name": "stderr",
     "output_type": "stream",
     "text": [
      "INFO:prophet:Disabling yearly seasonality. Run prophet with yearly_seasonality=True to override this.\n"
     ]
    },
    {
     "name": "stdout",
     "output_type": "stream",
     "text": [
      "Tuning Iteration: 4\n"
     ]
    },
    {
     "name": "stderr",
     "output_type": "stream",
     "text": [
      "INFO:prophet:Disabling yearly seasonality. Run prophet with yearly_seasonality=True to override this.\n"
     ]
    },
    {
     "name": "stdout",
     "output_type": "stream",
     "text": [
      "Tuning Iteration: 5\n"
     ]
    },
    {
     "name": "stderr",
     "output_type": "stream",
     "text": [
      "INFO:prophet:Disabling yearly seasonality. Run prophet with yearly_seasonality=True to override this.\n"
     ]
    },
    {
     "name": "stdout",
     "output_type": "stream",
     "text": [
      "Tuning Iteration: 6\n"
     ]
    },
    {
     "name": "stderr",
     "output_type": "stream",
     "text": [
      "INFO:prophet:Disabling yearly seasonality. Run prophet with yearly_seasonality=True to override this.\n"
     ]
    },
    {
     "name": "stdout",
     "output_type": "stream",
     "text": [
      "Tuning Iteration: 7\n",
      "Median Percent Error of Range: 1241.5838208001203\n",
      "Best Parameters: \n",
      "{'seasonality_mode': 'multiplicative', 'n_changepoints': 100, 'changepoint_prior_scale': 0.5}\n",
      "XGBoost......\n",
      "Predict Length: 31\n",
      "Median Percent Error of Range: 282.60453874169093\n"
     ]
    },
    {
     "name": "stderr",
     "output_type": "stream",
     "text": [
      "INFO:prophet:Disabling yearly seasonality. Run prophet with yearly_seasonality=True to override this.\n"
     ]
    },
    {
     "name": "stdout",
     "output_type": "stream",
     "text": [
      "\n",
      "###########################################################\n",
      "File: 337_0.pkl\n",
      "Length on load: 26302\n",
      "Length after agg: 1096\n",
      "Dropped N/A cols: 0\n",
      "Length after blank drop: 1096\n",
      "\n",
      "Prophet...... Tuning Prophet....\n",
      "Tuning Iteration: 0\n"
     ]
    },
    {
     "name": "stderr",
     "output_type": "stream",
     "text": [
      "INFO:prophet:Disabling yearly seasonality. Run prophet with yearly_seasonality=True to override this.\n"
     ]
    },
    {
     "name": "stdout",
     "output_type": "stream",
     "text": [
      "Tuning Iteration: 1\n"
     ]
    },
    {
     "name": "stderr",
     "output_type": "stream",
     "text": [
      "INFO:prophet:Disabling yearly seasonality. Run prophet with yearly_seasonality=True to override this.\n"
     ]
    },
    {
     "name": "stdout",
     "output_type": "stream",
     "text": [
      "Tuning Iteration: 2\n"
     ]
    },
    {
     "name": "stderr",
     "output_type": "stream",
     "text": [
      "INFO:prophet:Disabling yearly seasonality. Run prophet with yearly_seasonality=True to override this.\n"
     ]
    },
    {
     "name": "stdout",
     "output_type": "stream",
     "text": [
      "Tuning Iteration: 3\n"
     ]
    },
    {
     "name": "stderr",
     "output_type": "stream",
     "text": [
      "INFO:prophet:Disabling yearly seasonality. Run prophet with yearly_seasonality=True to override this.\n"
     ]
    },
    {
     "name": "stdout",
     "output_type": "stream",
     "text": [
      "Tuning Iteration: 4\n"
     ]
    },
    {
     "name": "stderr",
     "output_type": "stream",
     "text": [
      "INFO:prophet:Disabling yearly seasonality. Run prophet with yearly_seasonality=True to override this.\n"
     ]
    },
    {
     "name": "stdout",
     "output_type": "stream",
     "text": [
      "Tuning Iteration: 5\n"
     ]
    },
    {
     "name": "stderr",
     "output_type": "stream",
     "text": [
      "INFO:prophet:Disabling yearly seasonality. Run prophet with yearly_seasonality=True to override this.\n"
     ]
    },
    {
     "name": "stdout",
     "output_type": "stream",
     "text": [
      "Tuning Iteration: 6\n"
     ]
    },
    {
     "name": "stderr",
     "output_type": "stream",
     "text": [
      "INFO:prophet:Disabling yearly seasonality. Run prophet with yearly_seasonality=True to override this.\n"
     ]
    },
    {
     "name": "stdout",
     "output_type": "stream",
     "text": [
      "Tuning Iteration: 7\n",
      "Median Percent Error of Range: 13.829258428323893\n",
      "Best Parameters: \n",
      "{'seasonality_mode': 'additive', 'n_changepoints': 100, 'changepoint_prior_scale': 0.1}\n",
      "XGBoost......\n",
      "Predict Length: 31\n",
      "Median Percent Error of Range: 24.43469285618259\n"
     ]
    },
    {
     "name": "stderr",
     "output_type": "stream",
     "text": [
      "INFO:prophet:Disabling yearly seasonality. Run prophet with yearly_seasonality=True to override this.\n"
     ]
    },
    {
     "name": "stdout",
     "output_type": "stream",
     "text": [
      "\n",
      "###########################################################\n",
      "File: 344_0.pkl\n",
      "Length on load: 26278\n",
      "Length after agg: 1096\n",
      "Dropped N/A cols: 1\n",
      "Length after blank drop: 1095\n",
      "\n",
      "Prophet...... Tuning Prophet....\n",
      "Tuning Iteration: 0\n"
     ]
    },
    {
     "name": "stderr",
     "output_type": "stream",
     "text": [
      "INFO:prophet:Disabling yearly seasonality. Run prophet with yearly_seasonality=True to override this.\n"
     ]
    },
    {
     "name": "stdout",
     "output_type": "stream",
     "text": [
      "Tuning Iteration: 1\n"
     ]
    },
    {
     "name": "stderr",
     "output_type": "stream",
     "text": [
      "INFO:prophet:Disabling yearly seasonality. Run prophet with yearly_seasonality=True to override this.\n"
     ]
    },
    {
     "name": "stdout",
     "output_type": "stream",
     "text": [
      "Tuning Iteration: 2\n"
     ]
    },
    {
     "name": "stderr",
     "output_type": "stream",
     "text": [
      "INFO:prophet:Disabling yearly seasonality. Run prophet with yearly_seasonality=True to override this.\n"
     ]
    },
    {
     "name": "stdout",
     "output_type": "stream",
     "text": [
      "Tuning Iteration: 3\n"
     ]
    },
    {
     "name": "stderr",
     "output_type": "stream",
     "text": [
      "INFO:prophet:Disabling yearly seasonality. Run prophet with yearly_seasonality=True to override this.\n"
     ]
    },
    {
     "name": "stdout",
     "output_type": "stream",
     "text": [
      "Tuning Iteration: 4\n"
     ]
    },
    {
     "name": "stderr",
     "output_type": "stream",
     "text": [
      "INFO:prophet:Disabling yearly seasonality. Run prophet with yearly_seasonality=True to override this.\n"
     ]
    },
    {
     "name": "stdout",
     "output_type": "stream",
     "text": [
      "Tuning Iteration: 5\n"
     ]
    },
    {
     "name": "stderr",
     "output_type": "stream",
     "text": [
      "INFO:prophet:Disabling yearly seasonality. Run prophet with yearly_seasonality=True to override this.\n"
     ]
    },
    {
     "name": "stdout",
     "output_type": "stream",
     "text": [
      "Tuning Iteration: 6\n"
     ]
    },
    {
     "name": "stderr",
     "output_type": "stream",
     "text": [
      "INFO:prophet:Disabling yearly seasonality. Run prophet with yearly_seasonality=True to override this.\n"
     ]
    },
    {
     "name": "stdout",
     "output_type": "stream",
     "text": [
      "Tuning Iteration: 7\n",
      "Median Percent Error of Range: 27.842358674892616\n",
      "Best Parameters: \n",
      "{'seasonality_mode': 'multiplicative', 'n_changepoints': 100, 'changepoint_prior_scale': 0.5}\n",
      "XGBoost......\n",
      "Predict Length: 31\n",
      "Median Percent Error of Range: 11.672660764350272\n"
     ]
    },
    {
     "name": "stderr",
     "output_type": "stream",
     "text": [
      "INFO:prophet:Disabling yearly seasonality. Run prophet with yearly_seasonality=True to override this.\n"
     ]
    },
    {
     "name": "stdout",
     "output_type": "stream",
     "text": [
      "\n",
      "###########################################################\n",
      "File: 374_0.pkl\n",
      "Length on load: 26281\n",
      "Length after agg: 1096\n",
      "Dropped N/A cols: 0\n",
      "Length after blank drop: 1096\n",
      "\n",
      "Prophet...... Tuning Prophet....\n",
      "Tuning Iteration: 0\n"
     ]
    },
    {
     "name": "stderr",
     "output_type": "stream",
     "text": [
      "INFO:prophet:Disabling yearly seasonality. Run prophet with yearly_seasonality=True to override this.\n"
     ]
    },
    {
     "name": "stdout",
     "output_type": "stream",
     "text": [
      "Tuning Iteration: 1\n"
     ]
    },
    {
     "name": "stderr",
     "output_type": "stream",
     "text": [
      "INFO:prophet:Disabling yearly seasonality. Run prophet with yearly_seasonality=True to override this.\n"
     ]
    },
    {
     "name": "stdout",
     "output_type": "stream",
     "text": [
      "Tuning Iteration: 2\n"
     ]
    },
    {
     "name": "stderr",
     "output_type": "stream",
     "text": [
      "INFO:prophet:Disabling yearly seasonality. Run prophet with yearly_seasonality=True to override this.\n"
     ]
    },
    {
     "name": "stdout",
     "output_type": "stream",
     "text": [
      "Tuning Iteration: 3\n"
     ]
    },
    {
     "name": "stderr",
     "output_type": "stream",
     "text": [
      "INFO:prophet:Disabling yearly seasonality. Run prophet with yearly_seasonality=True to override this.\n"
     ]
    },
    {
     "name": "stdout",
     "output_type": "stream",
     "text": [
      "Tuning Iteration: 4\n"
     ]
    },
    {
     "name": "stderr",
     "output_type": "stream",
     "text": [
      "INFO:prophet:Disabling yearly seasonality. Run prophet with yearly_seasonality=True to override this.\n"
     ]
    },
    {
     "name": "stdout",
     "output_type": "stream",
     "text": [
      "Tuning Iteration: 5\n"
     ]
    },
    {
     "name": "stderr",
     "output_type": "stream",
     "text": [
      "INFO:prophet:Disabling yearly seasonality. Run prophet with yearly_seasonality=True to override this.\n"
     ]
    },
    {
     "name": "stdout",
     "output_type": "stream",
     "text": [
      "Tuning Iteration: 6\n"
     ]
    },
    {
     "name": "stderr",
     "output_type": "stream",
     "text": [
      "INFO:prophet:Disabling yearly seasonality. Run prophet with yearly_seasonality=True to override this.\n"
     ]
    },
    {
     "name": "stdout",
     "output_type": "stream",
     "text": [
      "Tuning Iteration: 7\n",
      "Median Percent Error of Range: 9.23180553344265\n",
      "Best Parameters: \n",
      "{'seasonality_mode': 'multiplicative', 'n_changepoints': 200, 'changepoint_prior_scale': 0.5}\n",
      "XGBoost......\n",
      "Predict Length: 31\n",
      "Median Percent Error of Range: 10.246497233898847\n"
     ]
    },
    {
     "name": "stderr",
     "output_type": "stream",
     "text": [
      "INFO:prophet:Disabling yearly seasonality. Run prophet with yearly_seasonality=True to override this.\n"
     ]
    },
    {
     "name": "stdout",
     "output_type": "stream",
     "text": [
      "\n",
      "###########################################################\n",
      "File: 375_0.pkl\n",
      "Length on load: 26302\n",
      "Length after agg: 1096\n",
      "Dropped N/A cols: 0\n",
      "Length after blank drop: 1096\n",
      "\n",
      "Prophet...... Tuning Prophet....\n",
      "Tuning Iteration: 0\n"
     ]
    },
    {
     "name": "stderr",
     "output_type": "stream",
     "text": [
      "INFO:prophet:Disabling yearly seasonality. Run prophet with yearly_seasonality=True to override this.\n"
     ]
    },
    {
     "name": "stdout",
     "output_type": "stream",
     "text": [
      "Tuning Iteration: 1\n"
     ]
    },
    {
     "name": "stderr",
     "output_type": "stream",
     "text": [
      "INFO:prophet:Disabling yearly seasonality. Run prophet with yearly_seasonality=True to override this.\n"
     ]
    },
    {
     "name": "stdout",
     "output_type": "stream",
     "text": [
      "Tuning Iteration: 2\n"
     ]
    },
    {
     "name": "stderr",
     "output_type": "stream",
     "text": [
      "INFO:prophet:Disabling yearly seasonality. Run prophet with yearly_seasonality=True to override this.\n"
     ]
    },
    {
     "name": "stdout",
     "output_type": "stream",
     "text": [
      "Tuning Iteration: 3\n"
     ]
    },
    {
     "name": "stderr",
     "output_type": "stream",
     "text": [
      "INFO:prophet:Disabling yearly seasonality. Run prophet with yearly_seasonality=True to override this.\n"
     ]
    },
    {
     "name": "stdout",
     "output_type": "stream",
     "text": [
      "Tuning Iteration: 4\n"
     ]
    },
    {
     "name": "stderr",
     "output_type": "stream",
     "text": [
      "INFO:prophet:Disabling yearly seasonality. Run prophet with yearly_seasonality=True to override this.\n"
     ]
    },
    {
     "name": "stdout",
     "output_type": "stream",
     "text": [
      "Tuning Iteration: 5\n"
     ]
    },
    {
     "name": "stderr",
     "output_type": "stream",
     "text": [
      "INFO:prophet:Disabling yearly seasonality. Run prophet with yearly_seasonality=True to override this.\n"
     ]
    },
    {
     "name": "stdout",
     "output_type": "stream",
     "text": [
      "Tuning Iteration: 6\n"
     ]
    },
    {
     "name": "stderr",
     "output_type": "stream",
     "text": [
      "INFO:prophet:Disabling yearly seasonality. Run prophet with yearly_seasonality=True to override this.\n"
     ]
    },
    {
     "name": "stdout",
     "output_type": "stream",
     "text": [
      "Tuning Iteration: 7\n",
      "Median Percent Error of Range: 31.343421178745746\n",
      "Best Parameters: \n",
      "{'seasonality_mode': 'multiplicative', 'n_changepoints': 100, 'changepoint_prior_scale': 0.5}\n",
      "XGBoost......\n",
      "Predict Length: 31\n",
      "Median Percent Error of Range: 22.03939249539861\n"
     ]
    },
    {
     "name": "stderr",
     "output_type": "stream",
     "text": [
      "INFO:prophet:Disabling yearly seasonality. Run prophet with yearly_seasonality=True to override this.\n"
     ]
    },
    {
     "name": "stdout",
     "output_type": "stream",
     "text": [
      "\n",
      "###########################################################\n",
      "File: 381_0.pkl\n",
      "Length on load: 26278\n",
      "Length after agg: 1096\n",
      "Dropped N/A cols: 1\n",
      "Length after blank drop: 1095\n",
      "\n",
      "Prophet...... Tuning Prophet....\n",
      "Tuning Iteration: 0\n"
     ]
    },
    {
     "name": "stderr",
     "output_type": "stream",
     "text": [
      "INFO:prophet:Disabling yearly seasonality. Run prophet with yearly_seasonality=True to override this.\n"
     ]
    },
    {
     "name": "stdout",
     "output_type": "stream",
     "text": [
      "Tuning Iteration: 1\n"
     ]
    },
    {
     "name": "stderr",
     "output_type": "stream",
     "text": [
      "INFO:prophet:Disabling yearly seasonality. Run prophet with yearly_seasonality=True to override this.\n"
     ]
    },
    {
     "name": "stdout",
     "output_type": "stream",
     "text": [
      "Tuning Iteration: 2\n"
     ]
    },
    {
     "name": "stderr",
     "output_type": "stream",
     "text": [
      "INFO:prophet:Disabling yearly seasonality. Run prophet with yearly_seasonality=True to override this.\n"
     ]
    },
    {
     "name": "stdout",
     "output_type": "stream",
     "text": [
      "Tuning Iteration: 3\n"
     ]
    },
    {
     "name": "stderr",
     "output_type": "stream",
     "text": [
      "INFO:prophet:Disabling yearly seasonality. Run prophet with yearly_seasonality=True to override this.\n"
     ]
    },
    {
     "name": "stdout",
     "output_type": "stream",
     "text": [
      "Tuning Iteration: 4\n"
     ]
    },
    {
     "name": "stderr",
     "output_type": "stream",
     "text": [
      "INFO:prophet:Disabling yearly seasonality. Run prophet with yearly_seasonality=True to override this.\n"
     ]
    },
    {
     "name": "stdout",
     "output_type": "stream",
     "text": [
      "Tuning Iteration: 5\n"
     ]
    },
    {
     "name": "stderr",
     "output_type": "stream",
     "text": [
      "INFO:prophet:Disabling yearly seasonality. Run prophet with yearly_seasonality=True to override this.\n"
     ]
    },
    {
     "name": "stdout",
     "output_type": "stream",
     "text": [
      "Tuning Iteration: 6\n"
     ]
    },
    {
     "name": "stderr",
     "output_type": "stream",
     "text": [
      "INFO:prophet:Disabling yearly seasonality. Run prophet with yearly_seasonality=True to override this.\n"
     ]
    },
    {
     "name": "stdout",
     "output_type": "stream",
     "text": [
      "Tuning Iteration: 7\n",
      "Median Percent Error of Range: 33.576597139916856\n",
      "Best Parameters: \n",
      "{'seasonality_mode': 'additive', 'n_changepoints': 100, 'changepoint_prior_scale': 0.1}\n",
      "XGBoost......\n",
      "Predict Length: 31\n",
      "Median Percent Error of Range: 42.502928943168826\n"
     ]
    },
    {
     "name": "stderr",
     "output_type": "stream",
     "text": [
      "INFO:prophet:Disabling yearly seasonality. Run prophet with yearly_seasonality=True to override this.\n"
     ]
    },
    {
     "name": "stdout",
     "output_type": "stream",
     "text": [
      "\n",
      "###########################################################\n",
      "File: 399_0.pkl\n",
      "Length on load: 26286\n",
      "Length after agg: 1096\n",
      "Dropped N/A cols: 0\n",
      "Length after blank drop: 1096\n",
      "\n",
      "Prophet...... Tuning Prophet....\n",
      "Tuning Iteration: 0\n"
     ]
    },
    {
     "name": "stderr",
     "output_type": "stream",
     "text": [
      "INFO:prophet:Disabling yearly seasonality. Run prophet with yearly_seasonality=True to override this.\n"
     ]
    },
    {
     "name": "stdout",
     "output_type": "stream",
     "text": [
      "Tuning Iteration: 1\n"
     ]
    },
    {
     "name": "stderr",
     "output_type": "stream",
     "text": [
      "INFO:prophet:Disabling yearly seasonality. Run prophet with yearly_seasonality=True to override this.\n"
     ]
    },
    {
     "name": "stdout",
     "output_type": "stream",
     "text": [
      "Tuning Iteration: 2\n"
     ]
    },
    {
     "name": "stderr",
     "output_type": "stream",
     "text": [
      "INFO:prophet:Disabling yearly seasonality. Run prophet with yearly_seasonality=True to override this.\n"
     ]
    },
    {
     "name": "stdout",
     "output_type": "stream",
     "text": [
      "Tuning Iteration: 3\n"
     ]
    },
    {
     "name": "stderr",
     "output_type": "stream",
     "text": [
      "INFO:prophet:Disabling yearly seasonality. Run prophet with yearly_seasonality=True to override this.\n"
     ]
    },
    {
     "name": "stdout",
     "output_type": "stream",
     "text": [
      "Tuning Iteration: 4\n"
     ]
    },
    {
     "name": "stderr",
     "output_type": "stream",
     "text": [
      "INFO:prophet:Disabling yearly seasonality. Run prophet with yearly_seasonality=True to override this.\n"
     ]
    },
    {
     "name": "stdout",
     "output_type": "stream",
     "text": [
      "Tuning Iteration: 5\n"
     ]
    },
    {
     "name": "stderr",
     "output_type": "stream",
     "text": [
      "INFO:prophet:Disabling yearly seasonality. Run prophet with yearly_seasonality=True to override this.\n"
     ]
    },
    {
     "name": "stdout",
     "output_type": "stream",
     "text": [
      "Tuning Iteration: 6\n"
     ]
    },
    {
     "name": "stderr",
     "output_type": "stream",
     "text": [
      "INFO:prophet:Disabling yearly seasonality. Run prophet with yearly_seasonality=True to override this.\n"
     ]
    },
    {
     "name": "stdout",
     "output_type": "stream",
     "text": [
      "Tuning Iteration: 7\n",
      "Median Percent Error of Range: 36.73290248563713\n",
      "Best Parameters: \n",
      "{'seasonality_mode': 'multiplicative', 'n_changepoints': 100, 'changepoint_prior_scale': 0.5}\n",
      "XGBoost......\n",
      "Predict Length: 31\n",
      "Median Percent Error of Range: 26.27840069234619\n"
     ]
    },
    {
     "name": "stderr",
     "output_type": "stream",
     "text": [
      "INFO:prophet:Disabling yearly seasonality. Run prophet with yearly_seasonality=True to override this.\n"
     ]
    },
    {
     "name": "stdout",
     "output_type": "stream",
     "text": [
      "\n",
      "###########################################################\n",
      "File: 405_0.pkl\n",
      "Length on load: 26302\n",
      "Length after agg: 1096\n",
      "Dropped N/A cols: 0\n",
      "Length after blank drop: 1096\n",
      "\n",
      "Prophet...... Tuning Prophet....\n",
      "Tuning Iteration: 0\n"
     ]
    },
    {
     "name": "stderr",
     "output_type": "stream",
     "text": [
      "INFO:prophet:Disabling yearly seasonality. Run prophet with yearly_seasonality=True to override this.\n"
     ]
    },
    {
     "name": "stdout",
     "output_type": "stream",
     "text": [
      "Tuning Iteration: 1\n"
     ]
    },
    {
     "name": "stderr",
     "output_type": "stream",
     "text": [
      "INFO:prophet:Disabling yearly seasonality. Run prophet with yearly_seasonality=True to override this.\n"
     ]
    },
    {
     "name": "stdout",
     "output_type": "stream",
     "text": [
      "Tuning Iteration: 2\n"
     ]
    },
    {
     "name": "stderr",
     "output_type": "stream",
     "text": [
      "INFO:prophet:Disabling yearly seasonality. Run prophet with yearly_seasonality=True to override this.\n"
     ]
    },
    {
     "name": "stdout",
     "output_type": "stream",
     "text": [
      "Tuning Iteration: 3\n"
     ]
    },
    {
     "name": "stderr",
     "output_type": "stream",
     "text": [
      "INFO:prophet:Disabling yearly seasonality. Run prophet with yearly_seasonality=True to override this.\n"
     ]
    },
    {
     "name": "stdout",
     "output_type": "stream",
     "text": [
      "Tuning Iteration: 4\n"
     ]
    },
    {
     "name": "stderr",
     "output_type": "stream",
     "text": [
      "INFO:prophet:Disabling yearly seasonality. Run prophet with yearly_seasonality=True to override this.\n"
     ]
    },
    {
     "name": "stdout",
     "output_type": "stream",
     "text": [
      "Tuning Iteration: 5\n"
     ]
    },
    {
     "name": "stderr",
     "output_type": "stream",
     "text": [
      "INFO:prophet:Disabling yearly seasonality. Run prophet with yearly_seasonality=True to override this.\n"
     ]
    },
    {
     "name": "stdout",
     "output_type": "stream",
     "text": [
      "Tuning Iteration: 6\n"
     ]
    },
    {
     "name": "stderr",
     "output_type": "stream",
     "text": [
      "INFO:prophet:Disabling yearly seasonality. Run prophet with yearly_seasonality=True to override this.\n"
     ]
    },
    {
     "name": "stdout",
     "output_type": "stream",
     "text": [
      "Tuning Iteration: 7\n",
      "Median Percent Error of Range: 18.138935939606547\n",
      "Best Parameters: \n",
      "{'seasonality_mode': 'multiplicative', 'n_changepoints': 200, 'changepoint_prior_scale': 0.1}\n",
      "XGBoost......\n",
      "Predict Length: 31\n",
      "Median Percent Error of Range: 15.68043826333444\n"
     ]
    },
    {
     "name": "stderr",
     "output_type": "stream",
     "text": [
      "INFO:prophet:Disabling yearly seasonality. Run prophet with yearly_seasonality=True to override this.\n"
     ]
    },
    {
     "name": "stdout",
     "output_type": "stream",
     "text": [
      "\n",
      "###########################################################\n",
      "File: 407_0.pkl\n",
      "Length on load: 26302\n",
      "Length after agg: 1096\n",
      "Dropped N/A cols: 0\n",
      "Length after blank drop: 1096\n",
      "\n",
      "Prophet...... Tuning Prophet....\n",
      "Tuning Iteration: 0\n"
     ]
    },
    {
     "name": "stderr",
     "output_type": "stream",
     "text": [
      "INFO:prophet:Disabling yearly seasonality. Run prophet with yearly_seasonality=True to override this.\n"
     ]
    },
    {
     "name": "stdout",
     "output_type": "stream",
     "text": [
      "Tuning Iteration: 1\n"
     ]
    },
    {
     "name": "stderr",
     "output_type": "stream",
     "text": [
      "INFO:prophet:Disabling yearly seasonality. Run prophet with yearly_seasonality=True to override this.\n"
     ]
    },
    {
     "name": "stdout",
     "output_type": "stream",
     "text": [
      "Tuning Iteration: 2\n"
     ]
    },
    {
     "name": "stderr",
     "output_type": "stream",
     "text": [
      "INFO:prophet:Disabling yearly seasonality. Run prophet with yearly_seasonality=True to override this.\n"
     ]
    },
    {
     "name": "stdout",
     "output_type": "stream",
     "text": [
      "Tuning Iteration: 3\n"
     ]
    },
    {
     "name": "stderr",
     "output_type": "stream",
     "text": [
      "INFO:prophet:Disabling yearly seasonality. Run prophet with yearly_seasonality=True to override this.\n"
     ]
    },
    {
     "name": "stdout",
     "output_type": "stream",
     "text": [
      "Tuning Iteration: 4\n"
     ]
    },
    {
     "name": "stderr",
     "output_type": "stream",
     "text": [
      "INFO:prophet:Disabling yearly seasonality. Run prophet with yearly_seasonality=True to override this.\n"
     ]
    },
    {
     "name": "stdout",
     "output_type": "stream",
     "text": [
      "Tuning Iteration: 5\n"
     ]
    },
    {
     "name": "stderr",
     "output_type": "stream",
     "text": [
      "INFO:prophet:Disabling yearly seasonality. Run prophet with yearly_seasonality=True to override this.\n"
     ]
    },
    {
     "name": "stdout",
     "output_type": "stream",
     "text": [
      "Tuning Iteration: 6\n"
     ]
    },
    {
     "name": "stderr",
     "output_type": "stream",
     "text": [
      "INFO:prophet:Disabling yearly seasonality. Run prophet with yearly_seasonality=True to override this.\n"
     ]
    },
    {
     "name": "stdout",
     "output_type": "stream",
     "text": [
      "Tuning Iteration: 7\n",
      "Median Percent Error of Range: 21.394674349259205\n",
      "Best Parameters: \n",
      "{'seasonality_mode': 'multiplicative', 'n_changepoints': 100, 'changepoint_prior_scale': 0.5}\n",
      "XGBoost......\n",
      "Predict Length: 31\n",
      "Median Percent Error of Range: 10.293275990022018\n"
     ]
    },
    {
     "name": "stderr",
     "output_type": "stream",
     "text": [
      "INFO:prophet:Disabling yearly seasonality. Run prophet with yearly_seasonality=True to override this.\n"
     ]
    },
    {
     "name": "stdout",
     "output_type": "stream",
     "text": [
      "\n",
      "###########################################################\n",
      "File: 428_0.pkl\n",
      "Length on load: 26302\n",
      "Length after agg: 1096\n",
      "Dropped N/A cols: 0\n",
      "Length after blank drop: 1096\n",
      "\n",
      "Prophet...... Tuning Prophet....\n",
      "Tuning Iteration: 0\n"
     ]
    },
    {
     "name": "stderr",
     "output_type": "stream",
     "text": [
      "INFO:prophet:Disabling yearly seasonality. Run prophet with yearly_seasonality=True to override this.\n"
     ]
    },
    {
     "name": "stdout",
     "output_type": "stream",
     "text": [
      "Tuning Iteration: 1\n"
     ]
    },
    {
     "name": "stderr",
     "output_type": "stream",
     "text": [
      "INFO:prophet:Disabling yearly seasonality. Run prophet with yearly_seasonality=True to override this.\n"
     ]
    },
    {
     "name": "stdout",
     "output_type": "stream",
     "text": [
      "Tuning Iteration: 2\n"
     ]
    },
    {
     "name": "stderr",
     "output_type": "stream",
     "text": [
      "INFO:prophet:Disabling yearly seasonality. Run prophet with yearly_seasonality=True to override this.\n"
     ]
    },
    {
     "name": "stdout",
     "output_type": "stream",
     "text": [
      "Tuning Iteration: 3\n"
     ]
    },
    {
     "name": "stderr",
     "output_type": "stream",
     "text": [
      "INFO:prophet:Disabling yearly seasonality. Run prophet with yearly_seasonality=True to override this.\n"
     ]
    },
    {
     "name": "stdout",
     "output_type": "stream",
     "text": [
      "Tuning Iteration: 4\n"
     ]
    },
    {
     "name": "stderr",
     "output_type": "stream",
     "text": [
      "INFO:prophet:Disabling yearly seasonality. Run prophet with yearly_seasonality=True to override this.\n"
     ]
    },
    {
     "name": "stdout",
     "output_type": "stream",
     "text": [
      "Tuning Iteration: 5\n"
     ]
    },
    {
     "name": "stderr",
     "output_type": "stream",
     "text": [
      "INFO:prophet:Disabling yearly seasonality. Run prophet with yearly_seasonality=True to override this.\n"
     ]
    },
    {
     "name": "stdout",
     "output_type": "stream",
     "text": [
      "Tuning Iteration: 6\n"
     ]
    },
    {
     "name": "stderr",
     "output_type": "stream",
     "text": [
      "INFO:prophet:Disabling yearly seasonality. Run prophet with yearly_seasonality=True to override this.\n"
     ]
    },
    {
     "name": "stdout",
     "output_type": "stream",
     "text": [
      "Tuning Iteration: 7\n",
      "Median Percent Error of Range: 27.717936070968047\n",
      "Best Parameters: \n",
      "{'seasonality_mode': 'additive', 'n_changepoints': 100, 'changepoint_prior_scale': 0.1}\n",
      "XGBoost......\n",
      "Predict Length: 31\n",
      "Median Percent Error of Range: 25.872254469757706\n"
     ]
    },
    {
     "name": "stderr",
     "output_type": "stream",
     "text": [
      "INFO:prophet:Disabling yearly seasonality. Run prophet with yearly_seasonality=True to override this.\n"
     ]
    },
    {
     "name": "stdout",
     "output_type": "stream",
     "text": [
      "\n",
      "###########################################################\n",
      "File: 461_0.pkl\n",
      "Length on load: 26302\n",
      "Length after agg: 1096\n",
      "Dropped N/A cols: 0\n",
      "Length after blank drop: 1096\n",
      "\n",
      "Prophet...... Tuning Prophet....\n",
      "Tuning Iteration: 0\n"
     ]
    },
    {
     "name": "stderr",
     "output_type": "stream",
     "text": [
      "INFO:prophet:Disabling yearly seasonality. Run prophet with yearly_seasonality=True to override this.\n"
     ]
    },
    {
     "name": "stdout",
     "output_type": "stream",
     "text": [
      "Tuning Iteration: 1\n"
     ]
    },
    {
     "name": "stderr",
     "output_type": "stream",
     "text": [
      "INFO:prophet:Disabling yearly seasonality. Run prophet with yearly_seasonality=True to override this.\n"
     ]
    },
    {
     "name": "stdout",
     "output_type": "stream",
     "text": [
      "Tuning Iteration: 2\n"
     ]
    },
    {
     "name": "stderr",
     "output_type": "stream",
     "text": [
      "INFO:prophet:Disabling yearly seasonality. Run prophet with yearly_seasonality=True to override this.\n"
     ]
    },
    {
     "name": "stdout",
     "output_type": "stream",
     "text": [
      "Tuning Iteration: 3\n"
     ]
    },
    {
     "name": "stderr",
     "output_type": "stream",
     "text": [
      "INFO:prophet:Disabling yearly seasonality. Run prophet with yearly_seasonality=True to override this.\n"
     ]
    },
    {
     "name": "stdout",
     "output_type": "stream",
     "text": [
      "Tuning Iteration: 4\n"
     ]
    },
    {
     "name": "stderr",
     "output_type": "stream",
     "text": [
      "INFO:prophet:Disabling yearly seasonality. Run prophet with yearly_seasonality=True to override this.\n"
     ]
    },
    {
     "name": "stdout",
     "output_type": "stream",
     "text": [
      "Tuning Iteration: 5\n"
     ]
    },
    {
     "name": "stderr",
     "output_type": "stream",
     "text": [
      "INFO:prophet:Disabling yearly seasonality. Run prophet with yearly_seasonality=True to override this.\n"
     ]
    },
    {
     "name": "stdout",
     "output_type": "stream",
     "text": [
      "Tuning Iteration: 6\n"
     ]
    },
    {
     "name": "stderr",
     "output_type": "stream",
     "text": [
      "INFO:prophet:Disabling yearly seasonality. Run prophet with yearly_seasonality=True to override this.\n"
     ]
    },
    {
     "name": "stdout",
     "output_type": "stream",
     "text": [
      "Tuning Iteration: 7\n",
      "Median Percent Error of Range: 18.744830918374852\n",
      "Best Parameters: \n",
      "{'seasonality_mode': 'multiplicative', 'n_changepoints': 100, 'changepoint_prior_scale': 0.5}\n",
      "XGBoost......\n",
      "Predict Length: 31\n",
      "Median Percent Error of Range: 19.094221403915494\n"
     ]
    },
    {
     "name": "stderr",
     "output_type": "stream",
     "text": [
      "INFO:prophet:Disabling yearly seasonality. Run prophet with yearly_seasonality=True to override this.\n"
     ]
    },
    {
     "name": "stdout",
     "output_type": "stream",
     "text": [
      "\n",
      "###########################################################\n",
      "File: 490_0.pkl\n",
      "Length on load: 26302\n",
      "Length after agg: 1096\n",
      "Dropped N/A cols: 0\n",
      "Length after blank drop: 1096\n",
      "\n",
      "Prophet...... Tuning Prophet....\n",
      "Tuning Iteration: 0\n"
     ]
    },
    {
     "name": "stderr",
     "output_type": "stream",
     "text": [
      "INFO:prophet:Disabling yearly seasonality. Run prophet with yearly_seasonality=True to override this.\n"
     ]
    },
    {
     "name": "stdout",
     "output_type": "stream",
     "text": [
      "Tuning Iteration: 1\n"
     ]
    },
    {
     "name": "stderr",
     "output_type": "stream",
     "text": [
      "INFO:prophet:Disabling yearly seasonality. Run prophet with yearly_seasonality=True to override this.\n"
     ]
    },
    {
     "name": "stdout",
     "output_type": "stream",
     "text": [
      "Tuning Iteration: 2\n"
     ]
    },
    {
     "name": "stderr",
     "output_type": "stream",
     "text": [
      "INFO:prophet:Disabling yearly seasonality. Run prophet with yearly_seasonality=True to override this.\n"
     ]
    },
    {
     "name": "stdout",
     "output_type": "stream",
     "text": [
      "Tuning Iteration: 3\n"
     ]
    },
    {
     "name": "stderr",
     "output_type": "stream",
     "text": [
      "INFO:prophet:Disabling yearly seasonality. Run prophet with yearly_seasonality=True to override this.\n"
     ]
    },
    {
     "name": "stdout",
     "output_type": "stream",
     "text": [
      "Tuning Iteration: 4\n"
     ]
    },
    {
     "name": "stderr",
     "output_type": "stream",
     "text": [
      "INFO:prophet:Disabling yearly seasonality. Run prophet with yearly_seasonality=True to override this.\n"
     ]
    },
    {
     "name": "stdout",
     "output_type": "stream",
     "text": [
      "Tuning Iteration: 5\n"
     ]
    },
    {
     "name": "stderr",
     "output_type": "stream",
     "text": [
      "INFO:prophet:Disabling yearly seasonality. Run prophet with yearly_seasonality=True to override this.\n"
     ]
    },
    {
     "name": "stdout",
     "output_type": "stream",
     "text": [
      "Tuning Iteration: 6\n"
     ]
    },
    {
     "name": "stderr",
     "output_type": "stream",
     "text": [
      "INFO:prophet:Disabling yearly seasonality. Run prophet with yearly_seasonality=True to override this.\n"
     ]
    },
    {
     "name": "stdout",
     "output_type": "stream",
     "text": [
      "Tuning Iteration: 7\n",
      "Median Percent Error of Range: 35.88795484777948\n",
      "Best Parameters: \n",
      "{'seasonality_mode': 'multiplicative', 'n_changepoints': 200, 'changepoint_prior_scale': 0.1}\n",
      "XGBoost......\n",
      "Predict Length: 31\n",
      "Median Percent Error of Range: 22.85076327412031\n"
     ]
    },
    {
     "name": "stderr",
     "output_type": "stream",
     "text": [
      "INFO:prophet:Disabling yearly seasonality. Run prophet with yearly_seasonality=True to override this.\n"
     ]
    },
    {
     "name": "stdout",
     "output_type": "stream",
     "text": [
      "\n",
      "###########################################################\n",
      "File: 493_0.pkl\n",
      "Length on load: 26302\n",
      "Length after agg: 1096\n",
      "Dropped N/A cols: 0\n",
      "Length after blank drop: 1096\n",
      "\n",
      "Prophet...... Tuning Prophet....\n",
      "Tuning Iteration: 0\n"
     ]
    },
    {
     "name": "stderr",
     "output_type": "stream",
     "text": [
      "INFO:prophet:Disabling yearly seasonality. Run prophet with yearly_seasonality=True to override this.\n"
     ]
    },
    {
     "name": "stdout",
     "output_type": "stream",
     "text": [
      "Tuning Iteration: 1\n"
     ]
    },
    {
     "name": "stderr",
     "output_type": "stream",
     "text": [
      "INFO:prophet:Disabling yearly seasonality. Run prophet with yearly_seasonality=True to override this.\n"
     ]
    },
    {
     "name": "stdout",
     "output_type": "stream",
     "text": [
      "Tuning Iteration: 2\n"
     ]
    },
    {
     "name": "stderr",
     "output_type": "stream",
     "text": [
      "INFO:prophet:Disabling yearly seasonality. Run prophet with yearly_seasonality=True to override this.\n"
     ]
    },
    {
     "name": "stdout",
     "output_type": "stream",
     "text": [
      "Tuning Iteration: 3\n"
     ]
    },
    {
     "name": "stderr",
     "output_type": "stream",
     "text": [
      "INFO:prophet:Disabling yearly seasonality. Run prophet with yearly_seasonality=True to override this.\n"
     ]
    },
    {
     "name": "stdout",
     "output_type": "stream",
     "text": [
      "Tuning Iteration: 4\n"
     ]
    },
    {
     "name": "stderr",
     "output_type": "stream",
     "text": [
      "INFO:prophet:Disabling yearly seasonality. Run prophet with yearly_seasonality=True to override this.\n"
     ]
    },
    {
     "name": "stdout",
     "output_type": "stream",
     "text": [
      "Tuning Iteration: 5\n"
     ]
    },
    {
     "name": "stderr",
     "output_type": "stream",
     "text": [
      "INFO:prophet:Disabling yearly seasonality. Run prophet with yearly_seasonality=True to override this.\n"
     ]
    },
    {
     "name": "stdout",
     "output_type": "stream",
     "text": [
      "Tuning Iteration: 6\n"
     ]
    },
    {
     "name": "stderr",
     "output_type": "stream",
     "text": [
      "INFO:prophet:Disabling yearly seasonality. Run prophet with yearly_seasonality=True to override this.\n"
     ]
    },
    {
     "name": "stdout",
     "output_type": "stream",
     "text": [
      "Tuning Iteration: 7\n",
      "Median Percent Error of Range: 34.3175837333953\n",
      "Best Parameters: \n",
      "{'seasonality_mode': 'multiplicative', 'n_changepoints': 100, 'changepoint_prior_scale': 0.1}\n",
      "XGBoost......\n",
      "Predict Length: 31\n",
      "Median Percent Error of Range: 25.46144955752242\n"
     ]
    },
    {
     "name": "stderr",
     "output_type": "stream",
     "text": [
      "INFO:prophet:Disabling yearly seasonality. Run prophet with yearly_seasonality=True to override this.\n"
     ]
    },
    {
     "name": "stdout",
     "output_type": "stream",
     "text": [
      "\n",
      "###########################################################\n",
      "File: 563_0.pkl\n",
      "Length on load: 26302\n",
      "Length after agg: 1096\n",
      "Dropped N/A cols: 0\n",
      "Length after blank drop: 1096\n",
      "\n",
      "Prophet...... Tuning Prophet....\n",
      "Tuning Iteration: 0\n"
     ]
    },
    {
     "name": "stderr",
     "output_type": "stream",
     "text": [
      "INFO:prophet:Disabling yearly seasonality. Run prophet with yearly_seasonality=True to override this.\n"
     ]
    },
    {
     "name": "stdout",
     "output_type": "stream",
     "text": [
      "Tuning Iteration: 1\n"
     ]
    },
    {
     "name": "stderr",
     "output_type": "stream",
     "text": [
      "INFO:prophet:Disabling yearly seasonality. Run prophet with yearly_seasonality=True to override this.\n"
     ]
    },
    {
     "name": "stdout",
     "output_type": "stream",
     "text": [
      "Tuning Iteration: 2\n"
     ]
    },
    {
     "name": "stderr",
     "output_type": "stream",
     "text": [
      "INFO:prophet:Disabling yearly seasonality. Run prophet with yearly_seasonality=True to override this.\n"
     ]
    },
    {
     "name": "stdout",
     "output_type": "stream",
     "text": [
      "Tuning Iteration: 3\n"
     ]
    },
    {
     "name": "stderr",
     "output_type": "stream",
     "text": [
      "INFO:prophet:Disabling yearly seasonality. Run prophet with yearly_seasonality=True to override this.\n"
     ]
    },
    {
     "name": "stdout",
     "output_type": "stream",
     "text": [
      "Tuning Iteration: 4\n"
     ]
    },
    {
     "name": "stderr",
     "output_type": "stream",
     "text": [
      "INFO:prophet:Disabling yearly seasonality. Run prophet with yearly_seasonality=True to override this.\n"
     ]
    },
    {
     "name": "stdout",
     "output_type": "stream",
     "text": [
      "Tuning Iteration: 5\n"
     ]
    },
    {
     "name": "stderr",
     "output_type": "stream",
     "text": [
      "INFO:prophet:Disabling yearly seasonality. Run prophet with yearly_seasonality=True to override this.\n"
     ]
    },
    {
     "name": "stdout",
     "output_type": "stream",
     "text": [
      "Tuning Iteration: 6\n"
     ]
    },
    {
     "name": "stderr",
     "output_type": "stream",
     "text": [
      "INFO:prophet:Disabling yearly seasonality. Run prophet with yearly_seasonality=True to override this.\n"
     ]
    },
    {
     "name": "stdout",
     "output_type": "stream",
     "text": [
      "Tuning Iteration: 7\n",
      "Median Percent Error of Range: 16.492652789312714\n",
      "Best Parameters: \n",
      "{'seasonality_mode': 'multiplicative', 'n_changepoints': 100, 'changepoint_prior_scale': 0.5}\n",
      "XGBoost......\n",
      "Predict Length: 31\n",
      "Median Percent Error of Range: 15.505032305369056\n"
     ]
    },
    {
     "name": "stderr",
     "output_type": "stream",
     "text": [
      "INFO:prophet:Disabling yearly seasonality. Run prophet with yearly_seasonality=True to override this.\n"
     ]
    },
    {
     "name": "stdout",
     "output_type": "stream",
     "text": [
      "\n",
      "###########################################################\n",
      "File: 589_0.pkl\n",
      "Length on load: 26303\n",
      "Length after agg: 1096\n",
      "Dropped N/A cols: 0\n",
      "Length after blank drop: 1096\n",
      "\n",
      "Prophet...... Tuning Prophet....\n",
      "Tuning Iteration: 0\n"
     ]
    },
    {
     "name": "stderr",
     "output_type": "stream",
     "text": [
      "INFO:prophet:Disabling yearly seasonality. Run prophet with yearly_seasonality=True to override this.\n"
     ]
    },
    {
     "name": "stdout",
     "output_type": "stream",
     "text": [
      "Tuning Iteration: 1\n"
     ]
    },
    {
     "name": "stderr",
     "output_type": "stream",
     "text": [
      "INFO:prophet:Disabling yearly seasonality. Run prophet with yearly_seasonality=True to override this.\n"
     ]
    },
    {
     "name": "stdout",
     "output_type": "stream",
     "text": [
      "Tuning Iteration: 2\n"
     ]
    },
    {
     "name": "stderr",
     "output_type": "stream",
     "text": [
      "INFO:prophet:Disabling yearly seasonality. Run prophet with yearly_seasonality=True to override this.\n"
     ]
    },
    {
     "name": "stdout",
     "output_type": "stream",
     "text": [
      "Tuning Iteration: 3\n"
     ]
    },
    {
     "name": "stderr",
     "output_type": "stream",
     "text": [
      "INFO:prophet:Disabling yearly seasonality. Run prophet with yearly_seasonality=True to override this.\n"
     ]
    },
    {
     "name": "stdout",
     "output_type": "stream",
     "text": [
      "Tuning Iteration: 4\n"
     ]
    },
    {
     "name": "stderr",
     "output_type": "stream",
     "text": [
      "INFO:prophet:Disabling yearly seasonality. Run prophet with yearly_seasonality=True to override this.\n"
     ]
    },
    {
     "name": "stdout",
     "output_type": "stream",
     "text": [
      "Tuning Iteration: 5\n"
     ]
    },
    {
     "name": "stderr",
     "output_type": "stream",
     "text": [
      "INFO:prophet:Disabling yearly seasonality. Run prophet with yearly_seasonality=True to override this.\n"
     ]
    },
    {
     "name": "stdout",
     "output_type": "stream",
     "text": [
      "Tuning Iteration: 6\n"
     ]
    },
    {
     "name": "stderr",
     "output_type": "stream",
     "text": [
      "INFO:prophet:Disabling yearly seasonality. Run prophet with yearly_seasonality=True to override this.\n"
     ]
    },
    {
     "name": "stdout",
     "output_type": "stream",
     "text": [
      "Tuning Iteration: 7\n",
      "Median Percent Error of Range: 5.642721538868868\n",
      "Best Parameters: \n",
      "{'seasonality_mode': 'additive', 'n_changepoints': 100, 'changepoint_prior_scale': 0.5}\n",
      "XGBoost......\n",
      "Predict Length: 31\n",
      "Median Percent Error of Range: 3.4218348063097945\n"
     ]
    },
    {
     "name": "stderr",
     "output_type": "stream",
     "text": [
      "INFO:prophet:Disabling yearly seasonality. Run prophet with yearly_seasonality=True to override this.\n"
     ]
    },
    {
     "name": "stdout",
     "output_type": "stream",
     "text": [
      "\n",
      "###########################################################\n",
      "File: 595_0.pkl\n",
      "Length on load: 26303\n",
      "Length after agg: 1096\n",
      "Dropped N/A cols: 0\n",
      "Length after blank drop: 1096\n",
      "\n",
      "Prophet...... Tuning Prophet....\n",
      "Tuning Iteration: 0\n"
     ]
    },
    {
     "name": "stderr",
     "output_type": "stream",
     "text": [
      "INFO:prophet:Disabling yearly seasonality. Run prophet with yearly_seasonality=True to override this.\n"
     ]
    },
    {
     "name": "stdout",
     "output_type": "stream",
     "text": [
      "Tuning Iteration: 1\n"
     ]
    },
    {
     "name": "stderr",
     "output_type": "stream",
     "text": [
      "INFO:prophet:Disabling yearly seasonality. Run prophet with yearly_seasonality=True to override this.\n"
     ]
    },
    {
     "name": "stdout",
     "output_type": "stream",
     "text": [
      "Tuning Iteration: 2\n"
     ]
    },
    {
     "name": "stderr",
     "output_type": "stream",
     "text": [
      "INFO:prophet:Disabling yearly seasonality. Run prophet with yearly_seasonality=True to override this.\n"
     ]
    },
    {
     "name": "stdout",
     "output_type": "stream",
     "text": [
      "Tuning Iteration: 3\n"
     ]
    },
    {
     "name": "stderr",
     "output_type": "stream",
     "text": [
      "INFO:prophet:Disabling yearly seasonality. Run prophet with yearly_seasonality=True to override this.\n"
     ]
    },
    {
     "name": "stdout",
     "output_type": "stream",
     "text": [
      "Tuning Iteration: 4\n"
     ]
    },
    {
     "name": "stderr",
     "output_type": "stream",
     "text": [
      "INFO:prophet:Disabling yearly seasonality. Run prophet with yearly_seasonality=True to override this.\n"
     ]
    },
    {
     "name": "stdout",
     "output_type": "stream",
     "text": [
      "Tuning Iteration: 5\n"
     ]
    },
    {
     "name": "stderr",
     "output_type": "stream",
     "text": [
      "INFO:prophet:Disabling yearly seasonality. Run prophet with yearly_seasonality=True to override this.\n"
     ]
    },
    {
     "name": "stdout",
     "output_type": "stream",
     "text": [
      "Tuning Iteration: 6\n"
     ]
    },
    {
     "name": "stderr",
     "output_type": "stream",
     "text": [
      "INFO:prophet:Disabling yearly seasonality. Run prophet with yearly_seasonality=True to override this.\n"
     ]
    },
    {
     "name": "stdout",
     "output_type": "stream",
     "text": [
      "Tuning Iteration: 7\n",
      "Median Percent Error of Range: 31.75378457197838\n",
      "Best Parameters: \n",
      "{'seasonality_mode': 'additive', 'n_changepoints': 100, 'changepoint_prior_scale': 0.1}\n",
      "XGBoost......\n",
      "Predict Length: 31\n",
      "Median Percent Error of Range: 18.790160870115518\n"
     ]
    },
    {
     "name": "stderr",
     "output_type": "stream",
     "text": [
      "INFO:prophet:Disabling yearly seasonality. Run prophet with yearly_seasonality=True to override this.\n"
     ]
    },
    {
     "name": "stdout",
     "output_type": "stream",
     "text": [
      "\n",
      "###########################################################\n",
      "File: 663_0.pkl\n",
      "Length on load: 26304\n",
      "Length after agg: 1096\n",
      "Dropped N/A cols: 0\n",
      "Length after blank drop: 1096\n",
      "\n",
      "Prophet...... Tuning Prophet....\n",
      "Tuning Iteration: 0\n"
     ]
    },
    {
     "name": "stderr",
     "output_type": "stream",
     "text": [
      "INFO:prophet:Disabling yearly seasonality. Run prophet with yearly_seasonality=True to override this.\n"
     ]
    },
    {
     "name": "stdout",
     "output_type": "stream",
     "text": [
      "Tuning Iteration: 1\n"
     ]
    },
    {
     "name": "stderr",
     "output_type": "stream",
     "text": [
      "INFO:prophet:Disabling yearly seasonality. Run prophet with yearly_seasonality=True to override this.\n"
     ]
    },
    {
     "name": "stdout",
     "output_type": "stream",
     "text": [
      "Tuning Iteration: 2\n"
     ]
    },
    {
     "name": "stderr",
     "output_type": "stream",
     "text": [
      "INFO:prophet:Disabling yearly seasonality. Run prophet with yearly_seasonality=True to override this.\n"
     ]
    },
    {
     "name": "stdout",
     "output_type": "stream",
     "text": [
      "Tuning Iteration: 3\n"
     ]
    },
    {
     "name": "stderr",
     "output_type": "stream",
     "text": [
      "INFO:prophet:Disabling yearly seasonality. Run prophet with yearly_seasonality=True to override this.\n"
     ]
    },
    {
     "name": "stdout",
     "output_type": "stream",
     "text": [
      "Tuning Iteration: 4\n"
     ]
    },
    {
     "name": "stderr",
     "output_type": "stream",
     "text": [
      "INFO:prophet:Disabling yearly seasonality. Run prophet with yearly_seasonality=True to override this.\n"
     ]
    },
    {
     "name": "stdout",
     "output_type": "stream",
     "text": [
      "Tuning Iteration: 5\n"
     ]
    },
    {
     "name": "stderr",
     "output_type": "stream",
     "text": [
      "INFO:prophet:Disabling yearly seasonality. Run prophet with yearly_seasonality=True to override this.\n"
     ]
    },
    {
     "name": "stdout",
     "output_type": "stream",
     "text": [
      "Tuning Iteration: 6\n"
     ]
    },
    {
     "name": "stderr",
     "output_type": "stream",
     "text": [
      "INFO:prophet:Disabling yearly seasonality. Run prophet with yearly_seasonality=True to override this.\n"
     ]
    },
    {
     "name": "stdout",
     "output_type": "stream",
     "text": [
      "Tuning Iteration: 7\n",
      "Median Percent Error of Range: 10.971282194460501\n",
      "Best Parameters: \n",
      "{'seasonality_mode': 'multiplicative', 'n_changepoints': 200, 'changepoint_prior_scale': 0.5}\n",
      "XGBoost......\n",
      "Predict Length: 31\n",
      "Median Percent Error of Range: 7.43361016978388\n"
     ]
    },
    {
     "name": "stderr",
     "output_type": "stream",
     "text": [
      "INFO:prophet:Disabling yearly seasonality. Run prophet with yearly_seasonality=True to override this.\n"
     ]
    },
    {
     "name": "stdout",
     "output_type": "stream",
     "text": [
      "\n",
      "###########################################################\n",
      "File: 678_0.pkl\n",
      "Length on load: 26304\n",
      "Length after agg: 1096\n",
      "Dropped N/A cols: 0\n",
      "Length after blank drop: 1096\n",
      "\n",
      "Prophet...... Tuning Prophet....\n",
      "Tuning Iteration: 0\n"
     ]
    },
    {
     "name": "stderr",
     "output_type": "stream",
     "text": [
      "INFO:prophet:Disabling yearly seasonality. Run prophet with yearly_seasonality=True to override this.\n"
     ]
    },
    {
     "name": "stdout",
     "output_type": "stream",
     "text": [
      "Tuning Iteration: 1\n"
     ]
    },
    {
     "name": "stderr",
     "output_type": "stream",
     "text": [
      "INFO:prophet:Disabling yearly seasonality. Run prophet with yearly_seasonality=True to override this.\n"
     ]
    },
    {
     "name": "stdout",
     "output_type": "stream",
     "text": [
      "Tuning Iteration: 2\n"
     ]
    },
    {
     "name": "stderr",
     "output_type": "stream",
     "text": [
      "INFO:prophet:Disabling yearly seasonality. Run prophet with yearly_seasonality=True to override this.\n"
     ]
    },
    {
     "name": "stdout",
     "output_type": "stream",
     "text": [
      "Tuning Iteration: 3\n"
     ]
    },
    {
     "name": "stderr",
     "output_type": "stream",
     "text": [
      "INFO:prophet:Disabling yearly seasonality. Run prophet with yearly_seasonality=True to override this.\n"
     ]
    },
    {
     "name": "stdout",
     "output_type": "stream",
     "text": [
      "Tuning Iteration: 4\n"
     ]
    },
    {
     "name": "stderr",
     "output_type": "stream",
     "text": [
      "INFO:prophet:Disabling yearly seasonality. Run prophet with yearly_seasonality=True to override this.\n"
     ]
    },
    {
     "name": "stdout",
     "output_type": "stream",
     "text": [
      "Tuning Iteration: 5\n"
     ]
    },
    {
     "name": "stderr",
     "output_type": "stream",
     "text": [
      "INFO:prophet:Disabling yearly seasonality. Run prophet with yearly_seasonality=True to override this.\n"
     ]
    },
    {
     "name": "stdout",
     "output_type": "stream",
     "text": [
      "Tuning Iteration: 6\n"
     ]
    },
    {
     "name": "stderr",
     "output_type": "stream",
     "text": [
      "INFO:prophet:Disabling yearly seasonality. Run prophet with yearly_seasonality=True to override this.\n"
     ]
    },
    {
     "name": "stdout",
     "output_type": "stream",
     "text": [
      "Tuning Iteration: 7\n",
      "Median Percent Error of Range: 2.8073794756052974\n",
      "Best Parameters: \n",
      "{'seasonality_mode': 'multiplicative', 'n_changepoints': 100, 'changepoint_prior_scale': 0.5}\n",
      "XGBoost......\n",
      "Predict Length: 31\n",
      "Median Percent Error of Range: 5.983143024616414\n"
     ]
    },
    {
     "name": "stderr",
     "output_type": "stream",
     "text": [
      "INFO:prophet:Disabling yearly seasonality. Run prophet with yearly_seasonality=True to override this.\n"
     ]
    },
    {
     "name": "stdout",
     "output_type": "stream",
     "text": [
      "\n",
      "###########################################################\n",
      "File: 682_0.pkl\n",
      "Length on load: 26304\n",
      "Length after agg: 1096\n",
      "Dropped N/A cols: 0\n",
      "Length after blank drop: 1096\n",
      "\n",
      "Prophet...... Tuning Prophet....\n",
      "Tuning Iteration: 0\n"
     ]
    },
    {
     "name": "stderr",
     "output_type": "stream",
     "text": [
      "INFO:prophet:Disabling yearly seasonality. Run prophet with yearly_seasonality=True to override this.\n"
     ]
    },
    {
     "name": "stdout",
     "output_type": "stream",
     "text": [
      "Tuning Iteration: 1\n"
     ]
    },
    {
     "name": "stderr",
     "output_type": "stream",
     "text": [
      "INFO:prophet:Disabling yearly seasonality. Run prophet with yearly_seasonality=True to override this.\n"
     ]
    },
    {
     "name": "stdout",
     "output_type": "stream",
     "text": [
      "Tuning Iteration: 2\n"
     ]
    },
    {
     "name": "stderr",
     "output_type": "stream",
     "text": [
      "INFO:prophet:Disabling yearly seasonality. Run prophet with yearly_seasonality=True to override this.\n"
     ]
    },
    {
     "name": "stdout",
     "output_type": "stream",
     "text": [
      "Tuning Iteration: 3\n"
     ]
    },
    {
     "name": "stderr",
     "output_type": "stream",
     "text": [
      "INFO:prophet:Disabling yearly seasonality. Run prophet with yearly_seasonality=True to override this.\n"
     ]
    },
    {
     "name": "stdout",
     "output_type": "stream",
     "text": [
      "Tuning Iteration: 4\n"
     ]
    },
    {
     "name": "stderr",
     "output_type": "stream",
     "text": [
      "INFO:prophet:Disabling yearly seasonality. Run prophet with yearly_seasonality=True to override this.\n"
     ]
    },
    {
     "name": "stdout",
     "output_type": "stream",
     "text": [
      "Tuning Iteration: 5\n"
     ]
    },
    {
     "name": "stderr",
     "output_type": "stream",
     "text": [
      "INFO:prophet:Disabling yearly seasonality. Run prophet with yearly_seasonality=True to override this.\n"
     ]
    },
    {
     "name": "stdout",
     "output_type": "stream",
     "text": [
      "Tuning Iteration: 6\n"
     ]
    },
    {
     "name": "stderr",
     "output_type": "stream",
     "text": [
      "INFO:prophet:Disabling yearly seasonality. Run prophet with yearly_seasonality=True to override this.\n"
     ]
    },
    {
     "name": "stdout",
     "output_type": "stream",
     "text": [
      "Tuning Iteration: 7\n",
      "Median Percent Error of Range: 12.972670471592116\n",
      "Best Parameters: \n",
      "{'seasonality_mode': 'multiplicative', 'n_changepoints': 100, 'changepoint_prior_scale': 0.5}\n",
      "XGBoost......\n",
      "Predict Length: 31\n",
      "Median Percent Error of Range: 19.34082990334787\n"
     ]
    },
    {
     "name": "stderr",
     "output_type": "stream",
     "text": [
      "INFO:prophet:Disabling yearly seasonality. Run prophet with yearly_seasonality=True to override this.\n"
     ]
    },
    {
     "name": "stdout",
     "output_type": "stream",
     "text": [
      "\n",
      "###########################################################\n",
      "File: 684_0.pkl\n",
      "Length on load: 26304\n",
      "Length after agg: 1096\n",
      "Dropped N/A cols: 0\n",
      "Length after blank drop: 1096\n",
      "\n",
      "Prophet...... Tuning Prophet....\n",
      "Tuning Iteration: 0\n"
     ]
    },
    {
     "name": "stderr",
     "output_type": "stream",
     "text": [
      "INFO:prophet:Disabling yearly seasonality. Run prophet with yearly_seasonality=True to override this.\n"
     ]
    },
    {
     "name": "stdout",
     "output_type": "stream",
     "text": [
      "Tuning Iteration: 1\n"
     ]
    },
    {
     "name": "stderr",
     "output_type": "stream",
     "text": [
      "INFO:prophet:Disabling yearly seasonality. Run prophet with yearly_seasonality=True to override this.\n"
     ]
    },
    {
     "name": "stdout",
     "output_type": "stream",
     "text": [
      "Tuning Iteration: 2\n"
     ]
    },
    {
     "name": "stderr",
     "output_type": "stream",
     "text": [
      "INFO:prophet:Disabling yearly seasonality. Run prophet with yearly_seasonality=True to override this.\n"
     ]
    },
    {
     "name": "stdout",
     "output_type": "stream",
     "text": [
      "Tuning Iteration: 3\n"
     ]
    },
    {
     "name": "stderr",
     "output_type": "stream",
     "text": [
      "INFO:prophet:Disabling yearly seasonality. Run prophet with yearly_seasonality=True to override this.\n"
     ]
    },
    {
     "name": "stdout",
     "output_type": "stream",
     "text": [
      "Tuning Iteration: 4\n"
     ]
    },
    {
     "name": "stderr",
     "output_type": "stream",
     "text": [
      "INFO:prophet:Disabling yearly seasonality. Run prophet with yearly_seasonality=True to override this.\n"
     ]
    },
    {
     "name": "stdout",
     "output_type": "stream",
     "text": [
      "Tuning Iteration: 5\n"
     ]
    },
    {
     "name": "stderr",
     "output_type": "stream",
     "text": [
      "INFO:prophet:Disabling yearly seasonality. Run prophet with yearly_seasonality=True to override this.\n"
     ]
    },
    {
     "name": "stdout",
     "output_type": "stream",
     "text": [
      "Tuning Iteration: 6\n"
     ]
    },
    {
     "name": "stderr",
     "output_type": "stream",
     "text": [
      "INFO:prophet:Disabling yearly seasonality. Run prophet with yearly_seasonality=True to override this.\n"
     ]
    },
    {
     "name": "stdout",
     "output_type": "stream",
     "text": [
      "Tuning Iteration: 7\n",
      "Median Percent Error of Range: 12.080486077282156\n",
      "Best Parameters: \n",
      "{'seasonality_mode': 'additive', 'n_changepoints': 200, 'changepoint_prior_scale': 0.5}\n",
      "XGBoost......\n",
      "Predict Length: 31\n",
      "Median Percent Error of Range: 36.773636785392064\n"
     ]
    },
    {
     "name": "stderr",
     "output_type": "stream",
     "text": [
      "INFO:prophet:Disabling yearly seasonality. Run prophet with yearly_seasonality=True to override this.\n"
     ]
    },
    {
     "name": "stdout",
     "output_type": "stream",
     "text": [
      "\n",
      "###########################################################\n",
      "File: 697_0.pkl\n",
      "Length on load: 26304\n",
      "Length after agg: 1096\n",
      "Dropped N/A cols: 0\n",
      "Length after blank drop: 1096\n",
      "\n",
      "Prophet...... Tuning Prophet....\n",
      "Tuning Iteration: 0\n"
     ]
    },
    {
     "name": "stderr",
     "output_type": "stream",
     "text": [
      "INFO:prophet:Disabling yearly seasonality. Run prophet with yearly_seasonality=True to override this.\n"
     ]
    },
    {
     "name": "stdout",
     "output_type": "stream",
     "text": [
      "Tuning Iteration: 1\n"
     ]
    },
    {
     "name": "stderr",
     "output_type": "stream",
     "text": [
      "INFO:prophet:Disabling yearly seasonality. Run prophet with yearly_seasonality=True to override this.\n"
     ]
    },
    {
     "name": "stdout",
     "output_type": "stream",
     "text": [
      "Tuning Iteration: 2\n"
     ]
    },
    {
     "name": "stderr",
     "output_type": "stream",
     "text": [
      "INFO:prophet:Disabling yearly seasonality. Run prophet with yearly_seasonality=True to override this.\n"
     ]
    },
    {
     "name": "stdout",
     "output_type": "stream",
     "text": [
      "Tuning Iteration: 3\n"
     ]
    },
    {
     "name": "stderr",
     "output_type": "stream",
     "text": [
      "INFO:prophet:Disabling yearly seasonality. Run prophet with yearly_seasonality=True to override this.\n"
     ]
    },
    {
     "name": "stdout",
     "output_type": "stream",
     "text": [
      "Tuning Iteration: 4\n"
     ]
    },
    {
     "name": "stderr",
     "output_type": "stream",
     "text": [
      "INFO:prophet:Disabling yearly seasonality. Run prophet with yearly_seasonality=True to override this.\n"
     ]
    },
    {
     "name": "stdout",
     "output_type": "stream",
     "text": [
      "Tuning Iteration: 5\n"
     ]
    },
    {
     "name": "stderr",
     "output_type": "stream",
     "text": [
      "INFO:prophet:Disabling yearly seasonality. Run prophet with yearly_seasonality=True to override this.\n"
     ]
    },
    {
     "name": "stdout",
     "output_type": "stream",
     "text": [
      "Tuning Iteration: 6\n"
     ]
    },
    {
     "name": "stderr",
     "output_type": "stream",
     "text": [
      "INFO:prophet:Disabling yearly seasonality. Run prophet with yearly_seasonality=True to override this.\n"
     ]
    },
    {
     "name": "stdout",
     "output_type": "stream",
     "text": [
      "Tuning Iteration: 7\n",
      "Median Percent Error of Range: 6.8289777539682435\n",
      "Best Parameters: \n",
      "{'seasonality_mode': 'multiplicative', 'n_changepoints': 200, 'changepoint_prior_scale': 0.5}\n",
      "XGBoost......\n",
      "Predict Length: 31\n",
      "Median Percent Error of Range: 10.928853643466665\n"
     ]
    },
    {
     "name": "stderr",
     "output_type": "stream",
     "text": [
      "INFO:prophet:Disabling yearly seasonality. Run prophet with yearly_seasonality=True to override this.\n"
     ]
    },
    {
     "name": "stdout",
     "output_type": "stream",
     "text": [
      "\n",
      "###########################################################\n",
      "File: 709_0.pkl\n",
      "Length on load: 26304\n",
      "Length after agg: 1096\n",
      "Dropped N/A cols: 0\n",
      "Length after blank drop: 1096\n",
      "\n",
      "Prophet...... Tuning Prophet....\n",
      "Tuning Iteration: 0\n"
     ]
    },
    {
     "name": "stderr",
     "output_type": "stream",
     "text": [
      "INFO:prophet:Disabling yearly seasonality. Run prophet with yearly_seasonality=True to override this.\n"
     ]
    },
    {
     "name": "stdout",
     "output_type": "stream",
     "text": [
      "Tuning Iteration: 1\n"
     ]
    },
    {
     "name": "stderr",
     "output_type": "stream",
     "text": [
      "INFO:prophet:Disabling yearly seasonality. Run prophet with yearly_seasonality=True to override this.\n"
     ]
    },
    {
     "name": "stdout",
     "output_type": "stream",
     "text": [
      "Tuning Iteration: 2\n"
     ]
    },
    {
     "name": "stderr",
     "output_type": "stream",
     "text": [
      "INFO:prophet:Disabling yearly seasonality. Run prophet with yearly_seasonality=True to override this.\n"
     ]
    },
    {
     "name": "stdout",
     "output_type": "stream",
     "text": [
      "Tuning Iteration: 3\n"
     ]
    },
    {
     "name": "stderr",
     "output_type": "stream",
     "text": [
      "INFO:prophet:Disabling yearly seasonality. Run prophet with yearly_seasonality=True to override this.\n"
     ]
    },
    {
     "name": "stdout",
     "output_type": "stream",
     "text": [
      "Tuning Iteration: 4\n"
     ]
    },
    {
     "name": "stderr",
     "output_type": "stream",
     "text": [
      "INFO:prophet:Disabling yearly seasonality. Run prophet with yearly_seasonality=True to override this.\n"
     ]
    },
    {
     "name": "stdout",
     "output_type": "stream",
     "text": [
      "Tuning Iteration: 5\n"
     ]
    },
    {
     "name": "stderr",
     "output_type": "stream",
     "text": [
      "INFO:prophet:Disabling yearly seasonality. Run prophet with yearly_seasonality=True to override this.\n"
     ]
    },
    {
     "name": "stdout",
     "output_type": "stream",
     "text": [
      "Tuning Iteration: 6\n"
     ]
    },
    {
     "name": "stderr",
     "output_type": "stream",
     "text": [
      "INFO:prophet:Disabling yearly seasonality. Run prophet with yearly_seasonality=True to override this.\n"
     ]
    },
    {
     "name": "stdout",
     "output_type": "stream",
     "text": [
      "Tuning Iteration: 7\n",
      "Median Percent Error of Range: 8.252599224982077\n",
      "Best Parameters: \n",
      "{'seasonality_mode': 'additive', 'n_changepoints': 100, 'changepoint_prior_scale': 0.5}\n",
      "XGBoost......\n",
      "Predict Length: 31\n",
      "Median Percent Error of Range: 11.97276715411256\n"
     ]
    },
    {
     "name": "stderr",
     "output_type": "stream",
     "text": [
      "INFO:prophet:Disabling yearly seasonality. Run prophet with yearly_seasonality=True to override this.\n"
     ]
    },
    {
     "name": "stdout",
     "output_type": "stream",
     "text": [
      "\n",
      "###########################################################\n",
      "File: 724_0.pkl\n",
      "Length on load: 26304\n",
      "Length after agg: 1096\n",
      "Dropped N/A cols: 0\n",
      "Length after blank drop: 1096\n",
      "\n",
      "Prophet...... Tuning Prophet....\n",
      "Tuning Iteration: 0\n"
     ]
    },
    {
     "name": "stderr",
     "output_type": "stream",
     "text": [
      "INFO:prophet:Disabling yearly seasonality. Run prophet with yearly_seasonality=True to override this.\n"
     ]
    },
    {
     "name": "stdout",
     "output_type": "stream",
     "text": [
      "Tuning Iteration: 1\n"
     ]
    },
    {
     "name": "stderr",
     "output_type": "stream",
     "text": [
      "INFO:prophet:Disabling yearly seasonality. Run prophet with yearly_seasonality=True to override this.\n"
     ]
    },
    {
     "name": "stdout",
     "output_type": "stream",
     "text": [
      "Tuning Iteration: 2\n"
     ]
    },
    {
     "name": "stderr",
     "output_type": "stream",
     "text": [
      "INFO:prophet:Disabling yearly seasonality. Run prophet with yearly_seasonality=True to override this.\n"
     ]
    },
    {
     "name": "stdout",
     "output_type": "stream",
     "text": [
      "Tuning Iteration: 3\n"
     ]
    },
    {
     "name": "stderr",
     "output_type": "stream",
     "text": [
      "INFO:prophet:Disabling yearly seasonality. Run prophet with yearly_seasonality=True to override this.\n"
     ]
    },
    {
     "name": "stdout",
     "output_type": "stream",
     "text": [
      "Tuning Iteration: 4\n"
     ]
    },
    {
     "name": "stderr",
     "output_type": "stream",
     "text": [
      "INFO:prophet:Disabling yearly seasonality. Run prophet with yearly_seasonality=True to override this.\n"
     ]
    },
    {
     "name": "stdout",
     "output_type": "stream",
     "text": [
      "Tuning Iteration: 5\n"
     ]
    },
    {
     "name": "stderr",
     "output_type": "stream",
     "text": [
      "INFO:prophet:Disabling yearly seasonality. Run prophet with yearly_seasonality=True to override this.\n"
     ]
    },
    {
     "name": "stdout",
     "output_type": "stream",
     "text": [
      "Tuning Iteration: 6\n"
     ]
    },
    {
     "name": "stderr",
     "output_type": "stream",
     "text": [
      "INFO:prophet:Disabling yearly seasonality. Run prophet with yearly_seasonality=True to override this.\n"
     ]
    },
    {
     "name": "stdout",
     "output_type": "stream",
     "text": [
      "Tuning Iteration: 7\n",
      "Median Percent Error of Range: 10.456764575795912\n",
      "Best Parameters: \n",
      "{'seasonality_mode': 'additive', 'n_changepoints': 200, 'changepoint_prior_scale': 0.5}\n",
      "XGBoost......\n",
      "Predict Length: 31\n",
      "Median Percent Error of Range: 13.787456797532851\n"
     ]
    },
    {
     "name": "stderr",
     "output_type": "stream",
     "text": [
      "INFO:prophet:Disabling yearly seasonality. Run prophet with yearly_seasonality=True to override this.\n"
     ]
    },
    {
     "name": "stdout",
     "output_type": "stream",
     "text": [
      "\n",
      "###########################################################\n",
      "File: 727_0.pkl\n",
      "Length on load: 26304\n",
      "Length after agg: 1096\n",
      "Dropped N/A cols: 0\n",
      "Length after blank drop: 1096\n",
      "\n",
      "Prophet...... Tuning Prophet....\n",
      "Tuning Iteration: 0\n"
     ]
    },
    {
     "name": "stderr",
     "output_type": "stream",
     "text": [
      "INFO:prophet:Disabling yearly seasonality. Run prophet with yearly_seasonality=True to override this.\n"
     ]
    },
    {
     "name": "stdout",
     "output_type": "stream",
     "text": [
      "Tuning Iteration: 1\n"
     ]
    },
    {
     "name": "stderr",
     "output_type": "stream",
     "text": [
      "INFO:prophet:Disabling yearly seasonality. Run prophet with yearly_seasonality=True to override this.\n"
     ]
    },
    {
     "name": "stdout",
     "output_type": "stream",
     "text": [
      "Tuning Iteration: 2\n"
     ]
    },
    {
     "name": "stderr",
     "output_type": "stream",
     "text": [
      "INFO:prophet:Disabling yearly seasonality. Run prophet with yearly_seasonality=True to override this.\n"
     ]
    },
    {
     "name": "stdout",
     "output_type": "stream",
     "text": [
      "Tuning Iteration: 3\n"
     ]
    },
    {
     "name": "stderr",
     "output_type": "stream",
     "text": [
      "INFO:prophet:Disabling yearly seasonality. Run prophet with yearly_seasonality=True to override this.\n"
     ]
    },
    {
     "name": "stdout",
     "output_type": "stream",
     "text": [
      "Tuning Iteration: 4\n"
     ]
    },
    {
     "name": "stderr",
     "output_type": "stream",
     "text": [
      "INFO:prophet:Disabling yearly seasonality. Run prophet with yearly_seasonality=True to override this.\n"
     ]
    },
    {
     "name": "stdout",
     "output_type": "stream",
     "text": [
      "Tuning Iteration: 5\n"
     ]
    },
    {
     "name": "stderr",
     "output_type": "stream",
     "text": [
      "INFO:prophet:Disabling yearly seasonality. Run prophet with yearly_seasonality=True to override this.\n"
     ]
    },
    {
     "name": "stdout",
     "output_type": "stream",
     "text": [
      "Tuning Iteration: 6\n"
     ]
    },
    {
     "name": "stderr",
     "output_type": "stream",
     "text": [
      "INFO:prophet:Disabling yearly seasonality. Run prophet with yearly_seasonality=True to override this.\n"
     ]
    },
    {
     "name": "stdout",
     "output_type": "stream",
     "text": [
      "Tuning Iteration: 7\n",
      "Median Percent Error of Range: 16.374431362833487\n",
      "Best Parameters: \n",
      "{'seasonality_mode': 'multiplicative', 'n_changepoints': 200, 'changepoint_prior_scale': 0.5}\n",
      "XGBoost......\n",
      "Predict Length: 31\n",
      "Median Percent Error of Range: 23.323939043007993\n"
     ]
    },
    {
     "name": "stderr",
     "output_type": "stream",
     "text": [
      "INFO:prophet:Disabling yearly seasonality. Run prophet with yearly_seasonality=True to override this.\n"
     ]
    },
    {
     "name": "stdout",
     "output_type": "stream",
     "text": [
      "\n",
      "###########################################################\n",
      "File: 743_0.pkl\n",
      "Length on load: 26304\n",
      "Length after agg: 1096\n",
      "Dropped N/A cols: 0\n",
      "Length after blank drop: 1096\n",
      "\n",
      "Prophet...... Tuning Prophet....\n",
      "Tuning Iteration: 0\n"
     ]
    },
    {
     "name": "stderr",
     "output_type": "stream",
     "text": [
      "INFO:prophet:Disabling yearly seasonality. Run prophet with yearly_seasonality=True to override this.\n"
     ]
    },
    {
     "name": "stdout",
     "output_type": "stream",
     "text": [
      "Tuning Iteration: 1\n"
     ]
    },
    {
     "name": "stderr",
     "output_type": "stream",
     "text": [
      "INFO:prophet:Disabling yearly seasonality. Run prophet with yearly_seasonality=True to override this.\n"
     ]
    },
    {
     "name": "stdout",
     "output_type": "stream",
     "text": [
      "Tuning Iteration: 2\n"
     ]
    },
    {
     "name": "stderr",
     "output_type": "stream",
     "text": [
      "INFO:prophet:Disabling yearly seasonality. Run prophet with yearly_seasonality=True to override this.\n"
     ]
    },
    {
     "name": "stdout",
     "output_type": "stream",
     "text": [
      "Tuning Iteration: 3\n"
     ]
    },
    {
     "name": "stderr",
     "output_type": "stream",
     "text": [
      "INFO:prophet:Disabling yearly seasonality. Run prophet with yearly_seasonality=True to override this.\n"
     ]
    },
    {
     "name": "stdout",
     "output_type": "stream",
     "text": [
      "Tuning Iteration: 4\n"
     ]
    },
    {
     "name": "stderr",
     "output_type": "stream",
     "text": [
      "INFO:prophet:Disabling yearly seasonality. Run prophet with yearly_seasonality=True to override this.\n"
     ]
    },
    {
     "name": "stdout",
     "output_type": "stream",
     "text": [
      "Tuning Iteration: 5\n"
     ]
    },
    {
     "name": "stderr",
     "output_type": "stream",
     "text": [
      "INFO:prophet:Disabling yearly seasonality. Run prophet with yearly_seasonality=True to override this.\n"
     ]
    },
    {
     "name": "stdout",
     "output_type": "stream",
     "text": [
      "Tuning Iteration: 6\n"
     ]
    },
    {
     "name": "stderr",
     "output_type": "stream",
     "text": [
      "INFO:prophet:Disabling yearly seasonality. Run prophet with yearly_seasonality=True to override this.\n"
     ]
    },
    {
     "name": "stdout",
     "output_type": "stream",
     "text": [
      "Tuning Iteration: 7\n",
      "Median Percent Error of Range: 11.695530671898839\n",
      "Best Parameters: \n",
      "{'seasonality_mode': 'multiplicative', 'n_changepoints': 200, 'changepoint_prior_scale': 0.5}\n",
      "XGBoost......\n",
      "Predict Length: 31\n",
      "Median Percent Error of Range: 104.87307321732725\n"
     ]
    },
    {
     "name": "stderr",
     "output_type": "stream",
     "text": [
      "INFO:prophet:Disabling yearly seasonality. Run prophet with yearly_seasonality=True to override this.\n"
     ]
    },
    {
     "name": "stdout",
     "output_type": "stream",
     "text": [
      "\n",
      "###########################################################\n",
      "File: 748_0.pkl\n",
      "Length on load: 26287\n",
      "Length after agg: 1096\n",
      "Dropped N/A cols: 0\n",
      "Length after blank drop: 1096\n",
      "\n",
      "Prophet...... Tuning Prophet....\n",
      "Tuning Iteration: 0\n"
     ]
    },
    {
     "name": "stderr",
     "output_type": "stream",
     "text": [
      "INFO:prophet:Disabling yearly seasonality. Run prophet with yearly_seasonality=True to override this.\n"
     ]
    },
    {
     "name": "stdout",
     "output_type": "stream",
     "text": [
      "Tuning Iteration: 1\n"
     ]
    },
    {
     "name": "stderr",
     "output_type": "stream",
     "text": [
      "INFO:prophet:Disabling yearly seasonality. Run prophet with yearly_seasonality=True to override this.\n"
     ]
    },
    {
     "name": "stdout",
     "output_type": "stream",
     "text": [
      "Tuning Iteration: 2\n"
     ]
    },
    {
     "name": "stderr",
     "output_type": "stream",
     "text": [
      "INFO:prophet:Disabling yearly seasonality. Run prophet with yearly_seasonality=True to override this.\n"
     ]
    },
    {
     "name": "stdout",
     "output_type": "stream",
     "text": [
      "Tuning Iteration: 3\n"
     ]
    },
    {
     "name": "stderr",
     "output_type": "stream",
     "text": [
      "INFO:prophet:Disabling yearly seasonality. Run prophet with yearly_seasonality=True to override this.\n"
     ]
    },
    {
     "name": "stdout",
     "output_type": "stream",
     "text": [
      "Tuning Iteration: 4\n"
     ]
    },
    {
     "name": "stderr",
     "output_type": "stream",
     "text": [
      "INFO:prophet:Disabling yearly seasonality. Run prophet with yearly_seasonality=True to override this.\n"
     ]
    },
    {
     "name": "stdout",
     "output_type": "stream",
     "text": [
      "Tuning Iteration: 5\n"
     ]
    },
    {
     "name": "stderr",
     "output_type": "stream",
     "text": [
      "INFO:prophet:Disabling yearly seasonality. Run prophet with yearly_seasonality=True to override this.\n"
     ]
    },
    {
     "name": "stdout",
     "output_type": "stream",
     "text": [
      "Tuning Iteration: 6\n"
     ]
    },
    {
     "name": "stderr",
     "output_type": "stream",
     "text": [
      "INFO:prophet:Disabling yearly seasonality. Run prophet with yearly_seasonality=True to override this.\n"
     ]
    },
    {
     "name": "stdout",
     "output_type": "stream",
     "text": [
      "Tuning Iteration: 7\n",
      "Median Percent Error of Range: 9.009459681094297\n",
      "Best Parameters: \n",
      "{'seasonality_mode': 'multiplicative', 'n_changepoints': 200, 'changepoint_prior_scale': 0.1}\n",
      "XGBoost......\n",
      "Predict Length: 31\n",
      "Median Percent Error of Range: 13.138034617064925\n"
     ]
    },
    {
     "name": "stderr",
     "output_type": "stream",
     "text": [
      "INFO:prophet:Disabling yearly seasonality. Run prophet with yearly_seasonality=True to override this.\n"
     ]
    },
    {
     "name": "stdout",
     "output_type": "stream",
     "text": [
      "\n",
      "###########################################################\n",
      "File: 771_0.pkl\n",
      "Length on load: 26232\n",
      "Length after agg: 1096\n",
      "Dropped N/A cols: 2\n",
      "Length after blank drop: 1094\n",
      "\n",
      "Prophet...... Tuning Prophet....\n",
      "Tuning Iteration: 0\n"
     ]
    },
    {
     "name": "stderr",
     "output_type": "stream",
     "text": [
      "INFO:prophet:Disabling yearly seasonality. Run prophet with yearly_seasonality=True to override this.\n"
     ]
    },
    {
     "name": "stdout",
     "output_type": "stream",
     "text": [
      "Tuning Iteration: 1\n"
     ]
    },
    {
     "name": "stderr",
     "output_type": "stream",
     "text": [
      "INFO:prophet:Disabling yearly seasonality. Run prophet with yearly_seasonality=True to override this.\n"
     ]
    },
    {
     "name": "stdout",
     "output_type": "stream",
     "text": [
      "Tuning Iteration: 2\n"
     ]
    },
    {
     "name": "stderr",
     "output_type": "stream",
     "text": [
      "INFO:prophet:Disabling yearly seasonality. Run prophet with yearly_seasonality=True to override this.\n"
     ]
    },
    {
     "name": "stdout",
     "output_type": "stream",
     "text": [
      "Tuning Iteration: 3\n"
     ]
    },
    {
     "name": "stderr",
     "output_type": "stream",
     "text": [
      "INFO:prophet:Disabling yearly seasonality. Run prophet with yearly_seasonality=True to override this.\n"
     ]
    },
    {
     "name": "stdout",
     "output_type": "stream",
     "text": [
      "Tuning Iteration: 4\n"
     ]
    },
    {
     "name": "stderr",
     "output_type": "stream",
     "text": [
      "INFO:prophet:Disabling yearly seasonality. Run prophet with yearly_seasonality=True to override this.\n"
     ]
    },
    {
     "name": "stdout",
     "output_type": "stream",
     "text": [
      "Tuning Iteration: 5\n"
     ]
    },
    {
     "name": "stderr",
     "output_type": "stream",
     "text": [
      "INFO:prophet:Disabling yearly seasonality. Run prophet with yearly_seasonality=True to override this.\n"
     ]
    },
    {
     "name": "stdout",
     "output_type": "stream",
     "text": [
      "Tuning Iteration: 6\n"
     ]
    },
    {
     "name": "stderr",
     "output_type": "stream",
     "text": [
      "INFO:prophet:Disabling yearly seasonality. Run prophet with yearly_seasonality=True to override this.\n"
     ]
    },
    {
     "name": "stdout",
     "output_type": "stream",
     "text": [
      "Tuning Iteration: 7\n",
      "Median Percent Error of Range: 15.258616558601105\n",
      "Best Parameters: \n",
      "{'seasonality_mode': 'multiplicative', 'n_changepoints': 100, 'changepoint_prior_scale': 0.1}\n",
      "XGBoost......\n",
      "Predict Length: 31\n",
      "Median Percent Error of Range: 29.75680788501487\n"
     ]
    },
    {
     "name": "stderr",
     "output_type": "stream",
     "text": [
      "INFO:prophet:Disabling yearly seasonality. Run prophet with yearly_seasonality=True to override this.\n"
     ]
    },
    {
     "name": "stdout",
     "output_type": "stream",
     "text": [
      "\n",
      "###########################################################\n",
      "File: 787_0.pkl\n",
      "Length on load: 26295\n",
      "Length after agg: 1096\n",
      "Dropped N/A cols: 0\n",
      "Length after blank drop: 1096\n",
      "\n",
      "Prophet...... Tuning Prophet....\n",
      "Tuning Iteration: 0\n"
     ]
    },
    {
     "name": "stderr",
     "output_type": "stream",
     "text": [
      "INFO:prophet:Disabling yearly seasonality. Run prophet with yearly_seasonality=True to override this.\n"
     ]
    },
    {
     "name": "stdout",
     "output_type": "stream",
     "text": [
      "Tuning Iteration: 1\n"
     ]
    },
    {
     "name": "stderr",
     "output_type": "stream",
     "text": [
      "INFO:prophet:Disabling yearly seasonality. Run prophet with yearly_seasonality=True to override this.\n"
     ]
    },
    {
     "name": "stdout",
     "output_type": "stream",
     "text": [
      "Tuning Iteration: 2\n"
     ]
    },
    {
     "name": "stderr",
     "output_type": "stream",
     "text": [
      "INFO:prophet:Disabling yearly seasonality. Run prophet with yearly_seasonality=True to override this.\n"
     ]
    },
    {
     "name": "stdout",
     "output_type": "stream",
     "text": [
      "Tuning Iteration: 3\n"
     ]
    },
    {
     "name": "stderr",
     "output_type": "stream",
     "text": [
      "INFO:prophet:Disabling yearly seasonality. Run prophet with yearly_seasonality=True to override this.\n"
     ]
    },
    {
     "name": "stdout",
     "output_type": "stream",
     "text": [
      "Tuning Iteration: 4\n"
     ]
    },
    {
     "name": "stderr",
     "output_type": "stream",
     "text": [
      "INFO:prophet:Disabling yearly seasonality. Run prophet with yearly_seasonality=True to override this.\n"
     ]
    },
    {
     "name": "stdout",
     "output_type": "stream",
     "text": [
      "Tuning Iteration: 5\n"
     ]
    },
    {
     "name": "stderr",
     "output_type": "stream",
     "text": [
      "INFO:prophet:Disabling yearly seasonality. Run prophet with yearly_seasonality=True to override this.\n"
     ]
    },
    {
     "name": "stdout",
     "output_type": "stream",
     "text": [
      "Tuning Iteration: 6\n"
     ]
    },
    {
     "name": "stderr",
     "output_type": "stream",
     "text": [
      "INFO:prophet:Disabling yearly seasonality. Run prophet with yearly_seasonality=True to override this.\n"
     ]
    },
    {
     "name": "stdout",
     "output_type": "stream",
     "text": [
      "Tuning Iteration: 7\n",
      "Median Percent Error of Range: 63.05930003190727\n",
      "Best Parameters: \n",
      "{'seasonality_mode': 'multiplicative', 'n_changepoints': 200, 'changepoint_prior_scale': 0.5}\n",
      "XGBoost......\n",
      "Predict Length: 31\n",
      "Median Percent Error of Range: 17.304331245629424\n"
     ]
    },
    {
     "name": "stderr",
     "output_type": "stream",
     "text": [
      "INFO:prophet:Disabling yearly seasonality. Run prophet with yearly_seasonality=True to override this.\n"
     ]
    },
    {
     "name": "stdout",
     "output_type": "stream",
     "text": [
      "\n",
      "###########################################################\n",
      "File: 793_0.pkl\n",
      "Length on load: 26302\n",
      "Length after agg: 1096\n",
      "Dropped N/A cols: 0\n",
      "Length after blank drop: 1096\n",
      "\n",
      "Prophet...... Tuning Prophet....\n",
      "Tuning Iteration: 0\n"
     ]
    },
    {
     "name": "stderr",
     "output_type": "stream",
     "text": [
      "INFO:prophet:Disabling yearly seasonality. Run prophet with yearly_seasonality=True to override this.\n"
     ]
    },
    {
     "name": "stdout",
     "output_type": "stream",
     "text": [
      "Tuning Iteration: 1\n"
     ]
    },
    {
     "name": "stderr",
     "output_type": "stream",
     "text": [
      "INFO:prophet:Disabling yearly seasonality. Run prophet with yearly_seasonality=True to override this.\n"
     ]
    },
    {
     "name": "stdout",
     "output_type": "stream",
     "text": [
      "Tuning Iteration: 2\n"
     ]
    },
    {
     "name": "stderr",
     "output_type": "stream",
     "text": [
      "INFO:prophet:Disabling yearly seasonality. Run prophet with yearly_seasonality=True to override this.\n"
     ]
    },
    {
     "name": "stdout",
     "output_type": "stream",
     "text": [
      "Tuning Iteration: 3\n"
     ]
    },
    {
     "name": "stderr",
     "output_type": "stream",
     "text": [
      "INFO:prophet:Disabling yearly seasonality. Run prophet with yearly_seasonality=True to override this.\n"
     ]
    },
    {
     "name": "stdout",
     "output_type": "stream",
     "text": [
      "Tuning Iteration: 4\n"
     ]
    },
    {
     "name": "stderr",
     "output_type": "stream",
     "text": [
      "INFO:prophet:Disabling yearly seasonality. Run prophet with yearly_seasonality=True to override this.\n"
     ]
    },
    {
     "name": "stdout",
     "output_type": "stream",
     "text": [
      "Tuning Iteration: 5\n"
     ]
    },
    {
     "name": "stderr",
     "output_type": "stream",
     "text": [
      "INFO:prophet:Disabling yearly seasonality. Run prophet with yearly_seasonality=True to override this.\n"
     ]
    },
    {
     "name": "stdout",
     "output_type": "stream",
     "text": [
      "Tuning Iteration: 6\n"
     ]
    },
    {
     "name": "stderr",
     "output_type": "stream",
     "text": [
      "INFO:prophet:Disabling yearly seasonality. Run prophet with yearly_seasonality=True to override this.\n"
     ]
    },
    {
     "name": "stdout",
     "output_type": "stream",
     "text": [
      "Tuning Iteration: 7\n",
      "Median Percent Error of Range: 12.760882150433012\n",
      "Best Parameters: \n",
      "{'seasonality_mode': 'additive', 'n_changepoints': 200, 'changepoint_prior_scale': 0.1}\n",
      "XGBoost......\n",
      "Predict Length: 31\n",
      "Median Percent Error of Range: 13.043746705956014\n"
     ]
    },
    {
     "name": "stderr",
     "output_type": "stream",
     "text": [
      "INFO:prophet:Disabling yearly seasonality. Run prophet with yearly_seasonality=True to override this.\n"
     ]
    },
    {
     "name": "stdout",
     "output_type": "stream",
     "text": [
      "\n",
      "###########################################################\n",
      "File: 794_0.pkl\n",
      "Length on load: 26302\n",
      "Length after agg: 1096\n",
      "Dropped N/A cols: 0\n",
      "Length after blank drop: 1096\n",
      "\n",
      "Prophet...... Tuning Prophet....\n",
      "Tuning Iteration: 0\n"
     ]
    },
    {
     "name": "stderr",
     "output_type": "stream",
     "text": [
      "INFO:prophet:Disabling yearly seasonality. Run prophet with yearly_seasonality=True to override this.\n"
     ]
    },
    {
     "name": "stdout",
     "output_type": "stream",
     "text": [
      "Tuning Iteration: 1\n"
     ]
    },
    {
     "name": "stderr",
     "output_type": "stream",
     "text": [
      "INFO:prophet:Disabling yearly seasonality. Run prophet with yearly_seasonality=True to override this.\n"
     ]
    },
    {
     "name": "stdout",
     "output_type": "stream",
     "text": [
      "Tuning Iteration: 2\n"
     ]
    },
    {
     "name": "stderr",
     "output_type": "stream",
     "text": [
      "INFO:prophet:Disabling yearly seasonality. Run prophet with yearly_seasonality=True to override this.\n"
     ]
    },
    {
     "name": "stdout",
     "output_type": "stream",
     "text": [
      "Tuning Iteration: 3\n"
     ]
    },
    {
     "name": "stderr",
     "output_type": "stream",
     "text": [
      "INFO:prophet:Disabling yearly seasonality. Run prophet with yearly_seasonality=True to override this.\n"
     ]
    },
    {
     "name": "stdout",
     "output_type": "stream",
     "text": [
      "Tuning Iteration: 4\n"
     ]
    },
    {
     "name": "stderr",
     "output_type": "stream",
     "text": [
      "INFO:prophet:Disabling yearly seasonality. Run prophet with yearly_seasonality=True to override this.\n"
     ]
    },
    {
     "name": "stdout",
     "output_type": "stream",
     "text": [
      "Tuning Iteration: 5\n"
     ]
    },
    {
     "name": "stderr",
     "output_type": "stream",
     "text": [
      "INFO:prophet:Disabling yearly seasonality. Run prophet with yearly_seasonality=True to override this.\n"
     ]
    },
    {
     "name": "stdout",
     "output_type": "stream",
     "text": [
      "Tuning Iteration: 6\n"
     ]
    },
    {
     "name": "stderr",
     "output_type": "stream",
     "text": [
      "INFO:prophet:Disabling yearly seasonality. Run prophet with yearly_seasonality=True to override this.\n"
     ]
    },
    {
     "name": "stdout",
     "output_type": "stream",
     "text": [
      "Tuning Iteration: 7\n",
      "Median Percent Error of Range: 5.422920258274398\n",
      "Best Parameters: \n",
      "{'seasonality_mode': 'multiplicative', 'n_changepoints': 200, 'changepoint_prior_scale': 0.5}\n",
      "XGBoost......\n",
      "Predict Length: 31\n",
      "Median Percent Error of Range: 4.7246589321700005\n"
     ]
    },
    {
     "name": "stderr",
     "output_type": "stream",
     "text": [
      "INFO:prophet:Disabling yearly seasonality. Run prophet with yearly_seasonality=True to override this.\n"
     ]
    },
    {
     "name": "stdout",
     "output_type": "stream",
     "text": [
      "\n",
      "###########################################################\n",
      "File: 797_0.pkl\n",
      "Length on load: 26301\n",
      "Length after agg: 1096\n",
      "Dropped N/A cols: 0\n",
      "Length after blank drop: 1096\n",
      "\n",
      "Prophet...... Tuning Prophet....\n",
      "Tuning Iteration: 0\n"
     ]
    },
    {
     "name": "stderr",
     "output_type": "stream",
     "text": [
      "INFO:prophet:Disabling yearly seasonality. Run prophet with yearly_seasonality=True to override this.\n"
     ]
    },
    {
     "name": "stdout",
     "output_type": "stream",
     "text": [
      "Tuning Iteration: 1\n"
     ]
    },
    {
     "name": "stderr",
     "output_type": "stream",
     "text": [
      "INFO:prophet:Disabling yearly seasonality. Run prophet with yearly_seasonality=True to override this.\n"
     ]
    },
    {
     "name": "stdout",
     "output_type": "stream",
     "text": [
      "Tuning Iteration: 2\n"
     ]
    },
    {
     "name": "stderr",
     "output_type": "stream",
     "text": [
      "INFO:prophet:Disabling yearly seasonality. Run prophet with yearly_seasonality=True to override this.\n"
     ]
    },
    {
     "name": "stdout",
     "output_type": "stream",
     "text": [
      "Tuning Iteration: 3\n"
     ]
    },
    {
     "name": "stderr",
     "output_type": "stream",
     "text": [
      "INFO:prophet:Disabling yearly seasonality. Run prophet with yearly_seasonality=True to override this.\n"
     ]
    },
    {
     "name": "stdout",
     "output_type": "stream",
     "text": [
      "Tuning Iteration: 4\n"
     ]
    },
    {
     "name": "stderr",
     "output_type": "stream",
     "text": [
      "INFO:prophet:Disabling yearly seasonality. Run prophet with yearly_seasonality=True to override this.\n"
     ]
    },
    {
     "name": "stdout",
     "output_type": "stream",
     "text": [
      "Tuning Iteration: 5\n"
     ]
    },
    {
     "name": "stderr",
     "output_type": "stream",
     "text": [
      "INFO:prophet:Disabling yearly seasonality. Run prophet with yearly_seasonality=True to override this.\n"
     ]
    },
    {
     "name": "stdout",
     "output_type": "stream",
     "text": [
      "Tuning Iteration: 6\n"
     ]
    },
    {
     "name": "stderr",
     "output_type": "stream",
     "text": [
      "INFO:prophet:Disabling yearly seasonality. Run prophet with yearly_seasonality=True to override this.\n"
     ]
    },
    {
     "name": "stdout",
     "output_type": "stream",
     "text": [
      "Tuning Iteration: 7\n",
      "Median Percent Error of Range: 8.449331042542068\n",
      "Best Parameters: \n",
      "{'seasonality_mode': 'multiplicative', 'n_changepoints': 100, 'changepoint_prior_scale': 0.1}\n",
      "XGBoost......\n",
      "Predict Length: 31\n",
      "Median Percent Error of Range: 7.9604585949039945\n"
     ]
    },
    {
     "name": "stderr",
     "output_type": "stream",
     "text": [
      "INFO:prophet:Disabling yearly seasonality. Run prophet with yearly_seasonality=True to override this.\n"
     ]
    },
    {
     "name": "stdout",
     "output_type": "stream",
     "text": [
      "\n",
      "###########################################################\n",
      "File: 798_0.pkl\n",
      "Length on load: 26301\n",
      "Length after agg: 1096\n",
      "Dropped N/A cols: 0\n",
      "Length after blank drop: 1096\n",
      "\n",
      "Prophet...... Tuning Prophet....\n",
      "Tuning Iteration: 0\n"
     ]
    },
    {
     "name": "stderr",
     "output_type": "stream",
     "text": [
      "INFO:prophet:Disabling yearly seasonality. Run prophet with yearly_seasonality=True to override this.\n"
     ]
    },
    {
     "name": "stdout",
     "output_type": "stream",
     "text": [
      "Tuning Iteration: 1\n"
     ]
    },
    {
     "name": "stderr",
     "output_type": "stream",
     "text": [
      "INFO:prophet:Disabling yearly seasonality. Run prophet with yearly_seasonality=True to override this.\n"
     ]
    },
    {
     "name": "stdout",
     "output_type": "stream",
     "text": [
      "Tuning Iteration: 2\n"
     ]
    },
    {
     "name": "stderr",
     "output_type": "stream",
     "text": [
      "INFO:prophet:Disabling yearly seasonality. Run prophet with yearly_seasonality=True to override this.\n"
     ]
    },
    {
     "name": "stdout",
     "output_type": "stream",
     "text": [
      "Tuning Iteration: 3\n"
     ]
    },
    {
     "name": "stderr",
     "output_type": "stream",
     "text": [
      "INFO:prophet:Disabling yearly seasonality. Run prophet with yearly_seasonality=True to override this.\n"
     ]
    },
    {
     "name": "stdout",
     "output_type": "stream",
     "text": [
      "Tuning Iteration: 4\n"
     ]
    },
    {
     "name": "stderr",
     "output_type": "stream",
     "text": [
      "INFO:prophet:Disabling yearly seasonality. Run prophet with yearly_seasonality=True to override this.\n"
     ]
    },
    {
     "name": "stdout",
     "output_type": "stream",
     "text": [
      "Tuning Iteration: 5\n"
     ]
    },
    {
     "name": "stderr",
     "output_type": "stream",
     "text": [
      "INFO:prophet:Disabling yearly seasonality. Run prophet with yearly_seasonality=True to override this.\n"
     ]
    },
    {
     "name": "stdout",
     "output_type": "stream",
     "text": [
      "Tuning Iteration: 6\n"
     ]
    },
    {
     "name": "stderr",
     "output_type": "stream",
     "text": [
      "INFO:prophet:Disabling yearly seasonality. Run prophet with yearly_seasonality=True to override this.\n"
     ]
    },
    {
     "name": "stdout",
     "output_type": "stream",
     "text": [
      "Tuning Iteration: 7\n",
      "Median Percent Error of Range: 2.1490023761113872\n",
      "Best Parameters: \n",
      "{'seasonality_mode': 'multiplicative', 'n_changepoints': 200, 'changepoint_prior_scale': 0.5}\n",
      "XGBoost......\n",
      "Predict Length: 31\n",
      "Median Percent Error of Range: 8.524074665163738\n"
     ]
    },
    {
     "name": "stderr",
     "output_type": "stream",
     "text": [
      "INFO:prophet:Disabling yearly seasonality. Run prophet with yearly_seasonality=True to override this.\n"
     ]
    },
    {
     "name": "stdout",
     "output_type": "stream",
     "text": [
      "\n",
      "###########################################################\n",
      "File: 801_0.pkl\n",
      "Length on load: 26301\n",
      "Length after agg: 1096\n",
      "Dropped N/A cols: 0\n",
      "Length after blank drop: 1096\n",
      "\n",
      "Prophet...... Tuning Prophet....\n",
      "Tuning Iteration: 0\n"
     ]
    },
    {
     "name": "stderr",
     "output_type": "stream",
     "text": [
      "INFO:prophet:Disabling yearly seasonality. Run prophet with yearly_seasonality=True to override this.\n"
     ]
    },
    {
     "name": "stdout",
     "output_type": "stream",
     "text": [
      "Tuning Iteration: 1\n"
     ]
    },
    {
     "name": "stderr",
     "output_type": "stream",
     "text": [
      "INFO:prophet:Disabling yearly seasonality. Run prophet with yearly_seasonality=True to override this.\n"
     ]
    },
    {
     "name": "stdout",
     "output_type": "stream",
     "text": [
      "Tuning Iteration: 2\n"
     ]
    },
    {
     "name": "stderr",
     "output_type": "stream",
     "text": [
      "INFO:prophet:Disabling yearly seasonality. Run prophet with yearly_seasonality=True to override this.\n"
     ]
    },
    {
     "name": "stdout",
     "output_type": "stream",
     "text": [
      "Tuning Iteration: 3\n"
     ]
    },
    {
     "name": "stderr",
     "output_type": "stream",
     "text": [
      "INFO:prophet:Disabling yearly seasonality. Run prophet with yearly_seasonality=True to override this.\n"
     ]
    },
    {
     "name": "stdout",
     "output_type": "stream",
     "text": [
      "Tuning Iteration: 4\n"
     ]
    },
    {
     "name": "stderr",
     "output_type": "stream",
     "text": [
      "INFO:prophet:Disabling yearly seasonality. Run prophet with yearly_seasonality=True to override this.\n"
     ]
    },
    {
     "name": "stdout",
     "output_type": "stream",
     "text": [
      "Tuning Iteration: 5\n"
     ]
    },
    {
     "name": "stderr",
     "output_type": "stream",
     "text": [
      "INFO:prophet:Disabling yearly seasonality. Run prophet with yearly_seasonality=True to override this.\n"
     ]
    },
    {
     "name": "stdout",
     "output_type": "stream",
     "text": [
      "Tuning Iteration: 6\n"
     ]
    },
    {
     "name": "stderr",
     "output_type": "stream",
     "text": [
      "INFO:prophet:Disabling yearly seasonality. Run prophet with yearly_seasonality=True to override this.\n"
     ]
    },
    {
     "name": "stdout",
     "output_type": "stream",
     "text": [
      "Tuning Iteration: 7\n",
      "Median Percent Error of Range: 6.736515091970075\n",
      "Best Parameters: \n",
      "{'seasonality_mode': 'multiplicative', 'n_changepoints': 200, 'changepoint_prior_scale': 0.5}\n",
      "XGBoost......\n",
      "Predict Length: 31\n",
      "Median Percent Error of Range: 6.044523690899305\n"
     ]
    },
    {
     "name": "stderr",
     "output_type": "stream",
     "text": [
      "INFO:prophet:Disabling yearly seasonality. Run prophet with yearly_seasonality=True to override this.\n"
     ]
    },
    {
     "name": "stdout",
     "output_type": "stream",
     "text": [
      "\n",
      "###########################################################\n",
      "File: 844_0.pkl\n",
      "Length on load: 25479\n",
      "Length after agg: 1096\n",
      "Dropped N/A cols: 30\n",
      "Length after blank drop: 1066\n",
      "\n",
      "Prophet...... Tuning Prophet....\n",
      "Tuning Iteration: 0\n"
     ]
    },
    {
     "name": "stderr",
     "output_type": "stream",
     "text": [
      "INFO:prophet:Disabling yearly seasonality. Run prophet with yearly_seasonality=True to override this.\n"
     ]
    },
    {
     "name": "stdout",
     "output_type": "stream",
     "text": [
      "Tuning Iteration: 1\n"
     ]
    },
    {
     "name": "stderr",
     "output_type": "stream",
     "text": [
      "INFO:prophet:Disabling yearly seasonality. Run prophet with yearly_seasonality=True to override this.\n",
      "INFO:prophet:n_changepoints greater than number of observations. Using 194.\n"
     ]
    },
    {
     "name": "stdout",
     "output_type": "stream",
     "text": [
      "Tuning Iteration: 2\n"
     ]
    },
    {
     "name": "stderr",
     "output_type": "stream",
     "text": [
      "INFO:prophet:Disabling yearly seasonality. Run prophet with yearly_seasonality=True to override this.\n",
      "INFO:prophet:n_changepoints greater than number of observations. Using 194.\n"
     ]
    },
    {
     "name": "stdout",
     "output_type": "stream",
     "text": [
      "Tuning Iteration: 3\n"
     ]
    },
    {
     "name": "stderr",
     "output_type": "stream",
     "text": [
      "INFO:prophet:Disabling yearly seasonality. Run prophet with yearly_seasonality=True to override this.\n"
     ]
    },
    {
     "name": "stdout",
     "output_type": "stream",
     "text": [
      "Tuning Iteration: 4\n"
     ]
    },
    {
     "name": "stderr",
     "output_type": "stream",
     "text": [
      "INFO:prophet:Disabling yearly seasonality. Run prophet with yearly_seasonality=True to override this.\n"
     ]
    },
    {
     "name": "stdout",
     "output_type": "stream",
     "text": [
      "Tuning Iteration: 5\n"
     ]
    },
    {
     "name": "stderr",
     "output_type": "stream",
     "text": [
      "INFO:prophet:Disabling yearly seasonality. Run prophet with yearly_seasonality=True to override this.\n",
      "INFO:prophet:n_changepoints greater than number of observations. Using 194.\n"
     ]
    },
    {
     "name": "stdout",
     "output_type": "stream",
     "text": [
      "Tuning Iteration: 6\n"
     ]
    },
    {
     "name": "stderr",
     "output_type": "stream",
     "text": [
      "INFO:prophet:Disabling yearly seasonality. Run prophet with yearly_seasonality=True to override this.\n",
      "INFO:prophet:n_changepoints greater than number of observations. Using 194.\n"
     ]
    },
    {
     "name": "stdout",
     "output_type": "stream",
     "text": [
      "Tuning Iteration: 7\n",
      "Median Percent Error of Range: 19.833513256009713\n",
      "Best Parameters: \n",
      "{'seasonality_mode': 'multiplicative', 'n_changepoints': 200, 'changepoint_prior_scale': 0.5}\n",
      "XGBoost......\n",
      "Predict Length: 31\n",
      "Median Percent Error of Range: 22.551512182256563\n"
     ]
    },
    {
     "name": "stderr",
     "output_type": "stream",
     "text": [
      "INFO:prophet:Disabling yearly seasonality. Run prophet with yearly_seasonality=True to override this.\n"
     ]
    },
    {
     "name": "stdout",
     "output_type": "stream",
     "text": [
      "\n",
      "###########################################################\n",
      "File: 854_0.pkl\n",
      "Length on load: 26039\n",
      "Length after agg: 1096\n",
      "Dropped N/A cols: 11\n",
      "Length after blank drop: 1085\n",
      "\n",
      "Prophet...... Tuning Prophet....\n",
      "Tuning Iteration: 0\n"
     ]
    },
    {
     "name": "stderr",
     "output_type": "stream",
     "text": [
      "INFO:prophet:Disabling yearly seasonality. Run prophet with yearly_seasonality=True to override this.\n"
     ]
    },
    {
     "name": "stdout",
     "output_type": "stream",
     "text": [
      "Tuning Iteration: 1\n"
     ]
    },
    {
     "name": "stderr",
     "output_type": "stream",
     "text": [
      "INFO:prophet:Disabling yearly seasonality. Run prophet with yearly_seasonality=True to override this.\n"
     ]
    },
    {
     "name": "stdout",
     "output_type": "stream",
     "text": [
      "Tuning Iteration: 2\n"
     ]
    },
    {
     "name": "stderr",
     "output_type": "stream",
     "text": [
      "INFO:prophet:Disabling yearly seasonality. Run prophet with yearly_seasonality=True to override this.\n"
     ]
    },
    {
     "name": "stdout",
     "output_type": "stream",
     "text": [
      "Tuning Iteration: 3\n"
     ]
    },
    {
     "name": "stderr",
     "output_type": "stream",
     "text": [
      "INFO:prophet:Disabling yearly seasonality. Run prophet with yearly_seasonality=True to override this.\n"
     ]
    },
    {
     "name": "stdout",
     "output_type": "stream",
     "text": [
      "Tuning Iteration: 4\n"
     ]
    },
    {
     "name": "stderr",
     "output_type": "stream",
     "text": [
      "INFO:prophet:Disabling yearly seasonality. Run prophet with yearly_seasonality=True to override this.\n"
     ]
    },
    {
     "name": "stdout",
     "output_type": "stream",
     "text": [
      "Tuning Iteration: 5\n"
     ]
    },
    {
     "name": "stderr",
     "output_type": "stream",
     "text": [
      "INFO:prophet:Disabling yearly seasonality. Run prophet with yearly_seasonality=True to override this.\n"
     ]
    },
    {
     "name": "stdout",
     "output_type": "stream",
     "text": [
      "Tuning Iteration: 6\n"
     ]
    },
    {
     "name": "stderr",
     "output_type": "stream",
     "text": [
      "INFO:prophet:Disabling yearly seasonality. Run prophet with yearly_seasonality=True to override this.\n"
     ]
    },
    {
     "name": "stdout",
     "output_type": "stream",
     "text": [
      "Tuning Iteration: 7\n",
      "Median Percent Error of Range: 18.633230112575955\n",
      "Best Parameters: \n",
      "{'seasonality_mode': 'multiplicative', 'n_changepoints': 100, 'changepoint_prior_scale': 0.5}\n",
      "XGBoost......\n",
      "Predict Length: 31\n",
      "Median Percent Error of Range: 22.646637300289516\n"
     ]
    },
    {
     "name": "stderr",
     "output_type": "stream",
     "text": [
      "INFO:prophet:Disabling yearly seasonality. Run prophet with yearly_seasonality=True to override this.\n"
     ]
    },
    {
     "name": "stdout",
     "output_type": "stream",
     "text": [
      "\n",
      "###########################################################\n",
      "File: 998_0.pkl\n",
      "Length on load: 26145\n",
      "Length after agg: 1096\n",
      "Dropped N/A cols: 1\n",
      "Length after blank drop: 1095\n",
      "\n",
      "Prophet...... Tuning Prophet....\n",
      "Tuning Iteration: 0\n"
     ]
    },
    {
     "name": "stderr",
     "output_type": "stream",
     "text": [
      "INFO:prophet:Disabling yearly seasonality. Run prophet with yearly_seasonality=True to override this.\n"
     ]
    },
    {
     "name": "stdout",
     "output_type": "stream",
     "text": [
      "Tuning Iteration: 1\n"
     ]
    },
    {
     "name": "stderr",
     "output_type": "stream",
     "text": [
      "INFO:prophet:Disabling yearly seasonality. Run prophet with yearly_seasonality=True to override this.\n"
     ]
    },
    {
     "name": "stdout",
     "output_type": "stream",
     "text": [
      "Tuning Iteration: 2\n"
     ]
    },
    {
     "name": "stderr",
     "output_type": "stream",
     "text": [
      "INFO:prophet:Disabling yearly seasonality. Run prophet with yearly_seasonality=True to override this.\n"
     ]
    },
    {
     "name": "stdout",
     "output_type": "stream",
     "text": [
      "Tuning Iteration: 3\n"
     ]
    },
    {
     "name": "stderr",
     "output_type": "stream",
     "text": [
      "INFO:prophet:Disabling yearly seasonality. Run prophet with yearly_seasonality=True to override this.\n"
     ]
    },
    {
     "name": "stdout",
     "output_type": "stream",
     "text": [
      "Tuning Iteration: 4\n"
     ]
    },
    {
     "name": "stderr",
     "output_type": "stream",
     "text": [
      "INFO:prophet:Disabling yearly seasonality. Run prophet with yearly_seasonality=True to override this.\n"
     ]
    },
    {
     "name": "stdout",
     "output_type": "stream",
     "text": [
      "Tuning Iteration: 5\n"
     ]
    },
    {
     "name": "stderr",
     "output_type": "stream",
     "text": [
      "INFO:prophet:Disabling yearly seasonality. Run prophet with yearly_seasonality=True to override this.\n"
     ]
    },
    {
     "name": "stdout",
     "output_type": "stream",
     "text": [
      "Tuning Iteration: 6\n"
     ]
    },
    {
     "name": "stderr",
     "output_type": "stream",
     "text": [
      "INFO:prophet:Disabling yearly seasonality. Run prophet with yearly_seasonality=True to override this.\n"
     ]
    },
    {
     "name": "stdout",
     "output_type": "stream",
     "text": [
      "Tuning Iteration: 7\n",
      "Median Percent Error of Range: 22.32370675879756\n",
      "Best Parameters: \n",
      "{'seasonality_mode': 'multiplicative', 'n_changepoints': 100, 'changepoint_prior_scale': 0.5}\n",
      "XGBoost......\n",
      "Predict Length: 31\n",
      "Median Percent Error of Range: 32.88203366776093\n"
     ]
    },
    {
     "name": "stderr",
     "output_type": "stream",
     "text": [
      "INFO:prophet:Disabling yearly seasonality. Run prophet with yearly_seasonality=True to override this.\n"
     ]
    },
    {
     "name": "stdout",
     "output_type": "stream",
     "text": [
      "\n",
      "###########################################################\n",
      "File: 1022_0.pkl\n",
      "Length on load: 25252\n",
      "Length after agg: 1096\n",
      "Dropped N/A cols: 35\n",
      "Length after blank drop: 1061\n",
      "\n",
      "Prophet...... Tuning Prophet....\n",
      "Tuning Iteration: 0\n"
     ]
    },
    {
     "name": "stderr",
     "output_type": "stream",
     "text": [
      "INFO:prophet:Disabling yearly seasonality. Run prophet with yearly_seasonality=True to override this.\n"
     ]
    },
    {
     "name": "stdout",
     "output_type": "stream",
     "text": [
      "Tuning Iteration: 1\n"
     ]
    },
    {
     "name": "stderr",
     "output_type": "stream",
     "text": [
      "INFO:prophet:Disabling yearly seasonality. Run prophet with yearly_seasonality=True to override this.\n"
     ]
    },
    {
     "name": "stdout",
     "output_type": "stream",
     "text": [
      "Tuning Iteration: 2\n"
     ]
    },
    {
     "name": "stderr",
     "output_type": "stream",
     "text": [
      "INFO:prophet:Disabling yearly seasonality. Run prophet with yearly_seasonality=True to override this.\n"
     ]
    },
    {
     "name": "stdout",
     "output_type": "stream",
     "text": [
      "Tuning Iteration: 3\n"
     ]
    },
    {
     "name": "stderr",
     "output_type": "stream",
     "text": [
      "INFO:prophet:Disabling yearly seasonality. Run prophet with yearly_seasonality=True to override this.\n"
     ]
    },
    {
     "name": "stdout",
     "output_type": "stream",
     "text": [
      "Tuning Iteration: 4\n"
     ]
    },
    {
     "name": "stderr",
     "output_type": "stream",
     "text": [
      "INFO:prophet:Disabling yearly seasonality. Run prophet with yearly_seasonality=True to override this.\n"
     ]
    },
    {
     "name": "stdout",
     "output_type": "stream",
     "text": [
      "Tuning Iteration: 5\n"
     ]
    },
    {
     "name": "stderr",
     "output_type": "stream",
     "text": [
      "INFO:prophet:Disabling yearly seasonality. Run prophet with yearly_seasonality=True to override this.\n"
     ]
    },
    {
     "name": "stdout",
     "output_type": "stream",
     "text": [
      "Tuning Iteration: 6\n"
     ]
    },
    {
     "name": "stderr",
     "output_type": "stream",
     "text": [
      "INFO:prophet:Disabling yearly seasonality. Run prophet with yearly_seasonality=True to override this.\n"
     ]
    },
    {
     "name": "stdout",
     "output_type": "stream",
     "text": [
      "Tuning Iteration: 7\n",
      "Median Percent Error of Range: 37.81419730099525\n",
      "Best Parameters: \n",
      "{'seasonality_mode': 'additive', 'n_changepoints': 100, 'changepoint_prior_scale': 0.1}\n",
      "XGBoost......\n",
      "Predict Length: 31\n",
      "Median Percent Error of Range: 24.249374510430417\n"
     ]
    },
    {
     "name": "stderr",
     "output_type": "stream",
     "text": [
      "INFO:prophet:Disabling yearly seasonality. Run prophet with yearly_seasonality=True to override this.\n"
     ]
    },
    {
     "name": "stdout",
     "output_type": "stream",
     "text": [
      "\n",
      "###########################################################\n",
      "File: 1030_3.pkl\n",
      "Length on load: 26211\n",
      "Length after agg: 1096\n",
      "Dropped N/A cols: 3\n",
      "Length after blank drop: 1093\n",
      "\n",
      "Prophet...... Tuning Prophet....\n",
      "Tuning Iteration: 0\n"
     ]
    },
    {
     "name": "stderr",
     "output_type": "stream",
     "text": [
      "INFO:prophet:Disabling yearly seasonality. Run prophet with yearly_seasonality=True to override this.\n"
     ]
    },
    {
     "name": "stdout",
     "output_type": "stream",
     "text": [
      "Tuning Iteration: 1\n"
     ]
    },
    {
     "name": "stderr",
     "output_type": "stream",
     "text": [
      "INFO:prophet:Disabling yearly seasonality. Run prophet with yearly_seasonality=True to override this.\n"
     ]
    },
    {
     "name": "stdout",
     "output_type": "stream",
     "text": [
      "Tuning Iteration: 2\n"
     ]
    },
    {
     "name": "stderr",
     "output_type": "stream",
     "text": [
      "INFO:prophet:Disabling yearly seasonality. Run prophet with yearly_seasonality=True to override this.\n"
     ]
    },
    {
     "name": "stdout",
     "output_type": "stream",
     "text": [
      "Tuning Iteration: 3\n"
     ]
    },
    {
     "name": "stderr",
     "output_type": "stream",
     "text": [
      "INFO:prophet:Disabling yearly seasonality. Run prophet with yearly_seasonality=True to override this.\n"
     ]
    },
    {
     "name": "stdout",
     "output_type": "stream",
     "text": [
      "Tuning Iteration: 4\n"
     ]
    },
    {
     "name": "stderr",
     "output_type": "stream",
     "text": [
      "INFO:prophet:Disabling yearly seasonality. Run prophet with yearly_seasonality=True to override this.\n"
     ]
    },
    {
     "name": "stdout",
     "output_type": "stream",
     "text": [
      "Tuning Iteration: 5\n"
     ]
    },
    {
     "name": "stderr",
     "output_type": "stream",
     "text": [
      "INFO:prophet:Disabling yearly seasonality. Run prophet with yearly_seasonality=True to override this.\n"
     ]
    },
    {
     "name": "stdout",
     "output_type": "stream",
     "text": [
      "Tuning Iteration: 6\n"
     ]
    },
    {
     "name": "stderr",
     "output_type": "stream",
     "text": [
      "INFO:prophet:Disabling yearly seasonality. Run prophet with yearly_seasonality=True to override this.\n"
     ]
    },
    {
     "name": "stdout",
     "output_type": "stream",
     "text": [
      "Tuning Iteration: 7\n",
      "Median Percent Error of Range: 15.598091311401427\n",
      "Best Parameters: \n",
      "{'seasonality_mode': 'additive', 'n_changepoints': 200, 'changepoint_prior_scale': 0.1}\n",
      "XGBoost......\n",
      "Predict Length: 31\n",
      "Median Percent Error of Range: 19.06588204199445\n"
     ]
    },
    {
     "name": "stderr",
     "output_type": "stream",
     "text": [
      "INFO:prophet:Disabling yearly seasonality. Run prophet with yearly_seasonality=True to override this.\n"
     ]
    },
    {
     "name": "stdout",
     "output_type": "stream",
     "text": [
      "\n",
      "###########################################################\n",
      "File: 1034_0.pkl\n",
      "Length on load: 26304\n",
      "Length after agg: 1096\n",
      "Dropped N/A cols: 0\n",
      "Length after blank drop: 1096\n",
      "\n",
      "Prophet...... Tuning Prophet....\n",
      "Tuning Iteration: 0\n"
     ]
    },
    {
     "name": "stderr",
     "output_type": "stream",
     "text": [
      "INFO:prophet:Disabling yearly seasonality. Run prophet with yearly_seasonality=True to override this.\n"
     ]
    },
    {
     "name": "stdout",
     "output_type": "stream",
     "text": [
      "Tuning Iteration: 1\n"
     ]
    },
    {
     "name": "stderr",
     "output_type": "stream",
     "text": [
      "INFO:prophet:Disabling yearly seasonality. Run prophet with yearly_seasonality=True to override this.\n"
     ]
    },
    {
     "name": "stdout",
     "output_type": "stream",
     "text": [
      "Tuning Iteration: 2\n"
     ]
    },
    {
     "name": "stderr",
     "output_type": "stream",
     "text": [
      "INFO:prophet:Disabling yearly seasonality. Run prophet with yearly_seasonality=True to override this.\n"
     ]
    },
    {
     "name": "stdout",
     "output_type": "stream",
     "text": [
      "Tuning Iteration: 3\n"
     ]
    },
    {
     "name": "stderr",
     "output_type": "stream",
     "text": [
      "INFO:prophet:Disabling yearly seasonality. Run prophet with yearly_seasonality=True to override this.\n"
     ]
    },
    {
     "name": "stdout",
     "output_type": "stream",
     "text": [
      "Tuning Iteration: 4\n"
     ]
    },
    {
     "name": "stderr",
     "output_type": "stream",
     "text": [
      "INFO:prophet:Disabling yearly seasonality. Run prophet with yearly_seasonality=True to override this.\n"
     ]
    },
    {
     "name": "stdout",
     "output_type": "stream",
     "text": [
      "Tuning Iteration: 5\n"
     ]
    },
    {
     "name": "stderr",
     "output_type": "stream",
     "text": [
      "INFO:prophet:Disabling yearly seasonality. Run prophet with yearly_seasonality=True to override this.\n"
     ]
    },
    {
     "name": "stdout",
     "output_type": "stream",
     "text": [
      "Tuning Iteration: 6\n"
     ]
    },
    {
     "name": "stderr",
     "output_type": "stream",
     "text": [
      "INFO:prophet:Disabling yearly seasonality. Run prophet with yearly_seasonality=True to override this.\n"
     ]
    },
    {
     "name": "stdout",
     "output_type": "stream",
     "text": [
      "Tuning Iteration: 7\n",
      "Median Percent Error of Range: 5.033791178226702\n",
      "Best Parameters: \n",
      "{'seasonality_mode': 'additive', 'n_changepoints': 200, 'changepoint_prior_scale': 0.5}\n",
      "XGBoost......\n",
      "Predict Length: 31\n",
      "Median Percent Error of Range: 14.42810129295806\n"
     ]
    },
    {
     "name": "stderr",
     "output_type": "stream",
     "text": [
      "INFO:prophet:Disabling yearly seasonality. Run prophet with yearly_seasonality=True to override this.\n"
     ]
    },
    {
     "name": "stdout",
     "output_type": "stream",
     "text": [
      "\n",
      "###########################################################\n",
      "File: 1047_0.pkl\n",
      "Length on load: 26304\n",
      "Length after agg: 1096\n",
      "Dropped N/A cols: 0\n",
      "Length after blank drop: 1096\n",
      "\n",
      "Prophet...... Tuning Prophet....\n",
      "Tuning Iteration: 0\n"
     ]
    },
    {
     "name": "stderr",
     "output_type": "stream",
     "text": [
      "INFO:prophet:Disabling yearly seasonality. Run prophet with yearly_seasonality=True to override this.\n"
     ]
    },
    {
     "name": "stdout",
     "output_type": "stream",
     "text": [
      "Tuning Iteration: 1\n"
     ]
    },
    {
     "name": "stderr",
     "output_type": "stream",
     "text": [
      "INFO:prophet:Disabling yearly seasonality. Run prophet with yearly_seasonality=True to override this.\n"
     ]
    },
    {
     "name": "stdout",
     "output_type": "stream",
     "text": [
      "Tuning Iteration: 2\n"
     ]
    },
    {
     "name": "stderr",
     "output_type": "stream",
     "text": [
      "INFO:prophet:Disabling yearly seasonality. Run prophet with yearly_seasonality=True to override this.\n"
     ]
    },
    {
     "name": "stdout",
     "output_type": "stream",
     "text": [
      "Tuning Iteration: 3\n"
     ]
    },
    {
     "name": "stderr",
     "output_type": "stream",
     "text": [
      "INFO:prophet:Disabling yearly seasonality. Run prophet with yearly_seasonality=True to override this.\n"
     ]
    },
    {
     "name": "stdout",
     "output_type": "stream",
     "text": [
      "Tuning Iteration: 4\n"
     ]
    },
    {
     "name": "stderr",
     "output_type": "stream",
     "text": [
      "INFO:prophet:Disabling yearly seasonality. Run prophet with yearly_seasonality=True to override this.\n"
     ]
    },
    {
     "name": "stdout",
     "output_type": "stream",
     "text": [
      "Tuning Iteration: 5\n"
     ]
    },
    {
     "name": "stderr",
     "output_type": "stream",
     "text": [
      "INFO:prophet:Disabling yearly seasonality. Run prophet with yearly_seasonality=True to override this.\n"
     ]
    },
    {
     "name": "stdout",
     "output_type": "stream",
     "text": [
      "Tuning Iteration: 6\n"
     ]
    },
    {
     "name": "stderr",
     "output_type": "stream",
     "text": [
      "INFO:prophet:Disabling yearly seasonality. Run prophet with yearly_seasonality=True to override this.\n"
     ]
    },
    {
     "name": "stdout",
     "output_type": "stream",
     "text": [
      "Tuning Iteration: 7\n",
      "Median Percent Error of Range: 11.016118394590725\n",
      "Best Parameters: \n",
      "{'seasonality_mode': 'multiplicative', 'n_changepoints': 100, 'changepoint_prior_scale': 0.5}\n",
      "XGBoost......\n",
      "Predict Length: 31\n",
      "Median Percent Error of Range: 28.361272526232206\n"
     ]
    },
    {
     "name": "stderr",
     "output_type": "stream",
     "text": [
      "INFO:prophet:Disabling yearly seasonality. Run prophet with yearly_seasonality=True to override this.\n"
     ]
    },
    {
     "name": "stdout",
     "output_type": "stream",
     "text": [
      "\n",
      "###########################################################\n",
      "File: 1048_0.pkl\n",
      "Length on load: 26304\n",
      "Length after agg: 1096\n",
      "Dropped N/A cols: 0\n",
      "Length after blank drop: 1096\n",
      "\n",
      "Prophet...... Tuning Prophet....\n",
      "Tuning Iteration: 0\n"
     ]
    },
    {
     "name": "stderr",
     "output_type": "stream",
     "text": [
      "INFO:prophet:Disabling yearly seasonality. Run prophet with yearly_seasonality=True to override this.\n"
     ]
    },
    {
     "name": "stdout",
     "output_type": "stream",
     "text": [
      "Tuning Iteration: 1\n"
     ]
    },
    {
     "name": "stderr",
     "output_type": "stream",
     "text": [
      "INFO:prophet:Disabling yearly seasonality. Run prophet with yearly_seasonality=True to override this.\n"
     ]
    },
    {
     "name": "stdout",
     "output_type": "stream",
     "text": [
      "Tuning Iteration: 2\n"
     ]
    },
    {
     "name": "stderr",
     "output_type": "stream",
     "text": [
      "INFO:prophet:Disabling yearly seasonality. Run prophet with yearly_seasonality=True to override this.\n"
     ]
    },
    {
     "name": "stdout",
     "output_type": "stream",
     "text": [
      "Tuning Iteration: 3\n"
     ]
    },
    {
     "name": "stderr",
     "output_type": "stream",
     "text": [
      "INFO:prophet:Disabling yearly seasonality. Run prophet with yearly_seasonality=True to override this.\n"
     ]
    },
    {
     "name": "stdout",
     "output_type": "stream",
     "text": [
      "Tuning Iteration: 4\n"
     ]
    },
    {
     "name": "stderr",
     "output_type": "stream",
     "text": [
      "INFO:prophet:Disabling yearly seasonality. Run prophet with yearly_seasonality=True to override this.\n"
     ]
    },
    {
     "name": "stdout",
     "output_type": "stream",
     "text": [
      "Tuning Iteration: 5\n"
     ]
    },
    {
     "name": "stderr",
     "output_type": "stream",
     "text": [
      "INFO:prophet:Disabling yearly seasonality. Run prophet with yearly_seasonality=True to override this.\n"
     ]
    },
    {
     "name": "stdout",
     "output_type": "stream",
     "text": [
      "Tuning Iteration: 6\n"
     ]
    },
    {
     "name": "stderr",
     "output_type": "stream",
     "text": [
      "INFO:prophet:Disabling yearly seasonality. Run prophet with yearly_seasonality=True to override this.\n"
     ]
    },
    {
     "name": "stdout",
     "output_type": "stream",
     "text": [
      "Tuning Iteration: 7\n",
      "Median Percent Error of Range: 17.20598349930761\n",
      "Best Parameters: \n",
      "{'seasonality_mode': 'multiplicative', 'n_changepoints': 200, 'changepoint_prior_scale': 0.5}\n",
      "XGBoost......\n",
      "Predict Length: 31\n",
      "Median Percent Error of Range: 8.706196678080763\n"
     ]
    },
    {
     "name": "stderr",
     "output_type": "stream",
     "text": [
      "INFO:prophet:Disabling yearly seasonality. Run prophet with yearly_seasonality=True to override this.\n"
     ]
    },
    {
     "name": "stdout",
     "output_type": "stream",
     "text": [
      "\n",
      "###########################################################\n",
      "File: 1073_0.pkl\n",
      "Length on load: 26304\n",
      "Length after agg: 1096\n",
      "Dropped N/A cols: 0\n",
      "Length after blank drop: 1096\n",
      "\n",
      "Prophet...... Tuning Prophet....\n",
      "Tuning Iteration: 0\n"
     ]
    },
    {
     "name": "stderr",
     "output_type": "stream",
     "text": [
      "INFO:prophet:Disabling yearly seasonality. Run prophet with yearly_seasonality=True to override this.\n"
     ]
    },
    {
     "name": "stdout",
     "output_type": "stream",
     "text": [
      "Tuning Iteration: 1\n"
     ]
    },
    {
     "name": "stderr",
     "output_type": "stream",
     "text": [
      "INFO:prophet:Disabling yearly seasonality. Run prophet with yearly_seasonality=True to override this.\n"
     ]
    },
    {
     "name": "stdout",
     "output_type": "stream",
     "text": [
      "Tuning Iteration: 2\n"
     ]
    },
    {
     "name": "stderr",
     "output_type": "stream",
     "text": [
      "INFO:prophet:Disabling yearly seasonality. Run prophet with yearly_seasonality=True to override this.\n"
     ]
    },
    {
     "name": "stdout",
     "output_type": "stream",
     "text": [
      "Tuning Iteration: 3\n"
     ]
    },
    {
     "name": "stderr",
     "output_type": "stream",
     "text": [
      "INFO:prophet:Disabling yearly seasonality. Run prophet with yearly_seasonality=True to override this.\n"
     ]
    },
    {
     "name": "stdout",
     "output_type": "stream",
     "text": [
      "Tuning Iteration: 4\n"
     ]
    },
    {
     "name": "stderr",
     "output_type": "stream",
     "text": [
      "INFO:prophet:Disabling yearly seasonality. Run prophet with yearly_seasonality=True to override this.\n"
     ]
    },
    {
     "name": "stdout",
     "output_type": "stream",
     "text": [
      "Tuning Iteration: 5\n"
     ]
    },
    {
     "name": "stderr",
     "output_type": "stream",
     "text": [
      "INFO:prophet:Disabling yearly seasonality. Run prophet with yearly_seasonality=True to override this.\n"
     ]
    },
    {
     "name": "stdout",
     "output_type": "stream",
     "text": [
      "Tuning Iteration: 6\n"
     ]
    },
    {
     "name": "stderr",
     "output_type": "stream",
     "text": [
      "INFO:prophet:Disabling yearly seasonality. Run prophet with yearly_seasonality=True to override this.\n"
     ]
    },
    {
     "name": "stdout",
     "output_type": "stream",
     "text": [
      "Tuning Iteration: 7\n",
      "Median Percent Error of Range: 0.5504288359628218\n",
      "Best Parameters: \n",
      "{'seasonality_mode': 'multiplicative', 'n_changepoints': 100, 'changepoint_prior_scale': 0.5}\n",
      "XGBoost......\n",
      "Predict Length: 31\n",
      "Median Percent Error of Range: 0.7760369176889921\n"
     ]
    },
    {
     "name": "stderr",
     "output_type": "stream",
     "text": [
      "INFO:prophet:Disabling yearly seasonality. Run prophet with yearly_seasonality=True to override this.\n"
     ]
    },
    {
     "name": "stdout",
     "output_type": "stream",
     "text": [
      "\n",
      "###########################################################\n",
      "File: 1073_1.pkl\n",
      "Length on load: 26304\n",
      "Length after agg: 1096\n",
      "Dropped N/A cols: 0\n",
      "Length after blank drop: 1096\n",
      "\n",
      "Prophet...... Tuning Prophet....\n",
      "Tuning Iteration: 0\n"
     ]
    },
    {
     "name": "stderr",
     "output_type": "stream",
     "text": [
      "INFO:prophet:Disabling yearly seasonality. Run prophet with yearly_seasonality=True to override this.\n"
     ]
    },
    {
     "name": "stdout",
     "output_type": "stream",
     "text": [
      "Tuning Iteration: 1\n"
     ]
    },
    {
     "name": "stderr",
     "output_type": "stream",
     "text": [
      "INFO:prophet:Disabling yearly seasonality. Run prophet with yearly_seasonality=True to override this.\n"
     ]
    },
    {
     "name": "stdout",
     "output_type": "stream",
     "text": [
      "Tuning Iteration: 2\n"
     ]
    },
    {
     "name": "stderr",
     "output_type": "stream",
     "text": [
      "INFO:prophet:Disabling yearly seasonality. Run prophet with yearly_seasonality=True to override this.\n"
     ]
    },
    {
     "name": "stdout",
     "output_type": "stream",
     "text": [
      "Tuning Iteration: 3\n"
     ]
    },
    {
     "name": "stderr",
     "output_type": "stream",
     "text": [
      "INFO:prophet:Disabling yearly seasonality. Run prophet with yearly_seasonality=True to override this.\n"
     ]
    },
    {
     "name": "stdout",
     "output_type": "stream",
     "text": [
      "Tuning Iteration: 4\n"
     ]
    },
    {
     "name": "stderr",
     "output_type": "stream",
     "text": [
      "INFO:prophet:Disabling yearly seasonality. Run prophet with yearly_seasonality=True to override this.\n"
     ]
    },
    {
     "name": "stdout",
     "output_type": "stream",
     "text": [
      "Tuning Iteration: 5\n"
     ]
    },
    {
     "name": "stderr",
     "output_type": "stream",
     "text": [
      "INFO:prophet:Disabling yearly seasonality. Run prophet with yearly_seasonality=True to override this.\n"
     ]
    },
    {
     "name": "stdout",
     "output_type": "stream",
     "text": [
      "Tuning Iteration: 6\n"
     ]
    },
    {
     "name": "stderr",
     "output_type": "stream",
     "text": [
      "INFO:prophet:Disabling yearly seasonality. Run prophet with yearly_seasonality=True to override this.\n"
     ]
    },
    {
     "name": "stdout",
     "output_type": "stream",
     "text": [
      "Tuning Iteration: 7\n",
      "Median Percent Error of Range: 12.516752024664346\n",
      "Best Parameters: \n",
      "{'seasonality_mode': 'additive', 'n_changepoints': 100, 'changepoint_prior_scale': 0.5}\n",
      "XGBoost......\n",
      "Predict Length: 31\n",
      "Median Percent Error of Range: 10.051627145661131\n"
     ]
    },
    {
     "name": "stderr",
     "output_type": "stream",
     "text": [
      "INFO:prophet:Disabling yearly seasonality. Run prophet with yearly_seasonality=True to override this.\n"
     ]
    },
    {
     "name": "stdout",
     "output_type": "stream",
     "text": [
      "\n",
      "###########################################################\n",
      "File: 1073_2.pkl\n",
      "Length on load: 26304\n",
      "Length after agg: 1096\n",
      "Dropped N/A cols: 0\n",
      "Length after blank drop: 1096\n",
      "\n",
      "Prophet...... Tuning Prophet....\n",
      "Tuning Iteration: 0\n"
     ]
    },
    {
     "name": "stderr",
     "output_type": "stream",
     "text": [
      "INFO:prophet:Disabling yearly seasonality. Run prophet with yearly_seasonality=True to override this.\n"
     ]
    },
    {
     "name": "stdout",
     "output_type": "stream",
     "text": [
      "Tuning Iteration: 1\n"
     ]
    },
    {
     "name": "stderr",
     "output_type": "stream",
     "text": [
      "INFO:prophet:Disabling yearly seasonality. Run prophet with yearly_seasonality=True to override this.\n"
     ]
    },
    {
     "name": "stdout",
     "output_type": "stream",
     "text": [
      "Tuning Iteration: 2\n"
     ]
    },
    {
     "name": "stderr",
     "output_type": "stream",
     "text": [
      "INFO:prophet:Disabling yearly seasonality. Run prophet with yearly_seasonality=True to override this.\n"
     ]
    },
    {
     "name": "stdout",
     "output_type": "stream",
     "text": [
      "Tuning Iteration: 3\n"
     ]
    },
    {
     "name": "stderr",
     "output_type": "stream",
     "text": [
      "INFO:prophet:Disabling yearly seasonality. Run prophet with yearly_seasonality=True to override this.\n"
     ]
    },
    {
     "name": "stdout",
     "output_type": "stream",
     "text": [
      "Tuning Iteration: 4\n"
     ]
    },
    {
     "name": "stderr",
     "output_type": "stream",
     "text": [
      "INFO:prophet:Disabling yearly seasonality. Run prophet with yearly_seasonality=True to override this.\n"
     ]
    },
    {
     "name": "stdout",
     "output_type": "stream",
     "text": [
      "Tuning Iteration: 5\n"
     ]
    },
    {
     "name": "stderr",
     "output_type": "stream",
     "text": [
      "INFO:prophet:Disabling yearly seasonality. Run prophet with yearly_seasonality=True to override this.\n"
     ]
    },
    {
     "name": "stdout",
     "output_type": "stream",
     "text": [
      "Tuning Iteration: 6\n"
     ]
    },
    {
     "name": "stderr",
     "output_type": "stream",
     "text": [
      "INFO:prophet:Disabling yearly seasonality. Run prophet with yearly_seasonality=True to override this.\n"
     ]
    },
    {
     "name": "stdout",
     "output_type": "stream",
     "text": [
      "Tuning Iteration: 7\n",
      "Median Percent Error of Range: 14.248629369312107\n",
      "Best Parameters: \n",
      "{'seasonality_mode': 'additive', 'n_changepoints': 100, 'changepoint_prior_scale': 0.1}\n",
      "XGBoost......\n",
      "Predict Length: 31\n",
      "Median Percent Error of Range: 12.126994905194374\n"
     ]
    },
    {
     "name": "stderr",
     "output_type": "stream",
     "text": [
      "INFO:prophet:Disabling yearly seasonality. Run prophet with yearly_seasonality=True to override this.\n"
     ]
    },
    {
     "name": "stdout",
     "output_type": "stream",
     "text": [
      "\n",
      "###########################################################\n",
      "File: 1079_2.pkl\n",
      "Length on load: 26304\n",
      "Length after agg: 1096\n",
      "Dropped N/A cols: 0\n",
      "Length after blank drop: 1096\n",
      "\n",
      "Prophet...... Tuning Prophet....\n",
      "Tuning Iteration: 0\n"
     ]
    },
    {
     "name": "stderr",
     "output_type": "stream",
     "text": [
      "INFO:prophet:Disabling yearly seasonality. Run prophet with yearly_seasonality=True to override this.\n"
     ]
    },
    {
     "name": "stdout",
     "output_type": "stream",
     "text": [
      "Tuning Iteration: 1\n"
     ]
    },
    {
     "name": "stderr",
     "output_type": "stream",
     "text": [
      "INFO:prophet:Disabling yearly seasonality. Run prophet with yearly_seasonality=True to override this.\n"
     ]
    },
    {
     "name": "stdout",
     "output_type": "stream",
     "text": [
      "Tuning Iteration: 2\n"
     ]
    },
    {
     "name": "stderr",
     "output_type": "stream",
     "text": [
      "INFO:prophet:Disabling yearly seasonality. Run prophet with yearly_seasonality=True to override this.\n"
     ]
    },
    {
     "name": "stdout",
     "output_type": "stream",
     "text": [
      "Tuning Iteration: 3\n"
     ]
    },
    {
     "name": "stderr",
     "output_type": "stream",
     "text": [
      "INFO:prophet:Disabling yearly seasonality. Run prophet with yearly_seasonality=True to override this.\n"
     ]
    },
    {
     "name": "stdout",
     "output_type": "stream",
     "text": [
      "Tuning Iteration: 4\n"
     ]
    },
    {
     "name": "stderr",
     "output_type": "stream",
     "text": [
      "INFO:prophet:Disabling yearly seasonality. Run prophet with yearly_seasonality=True to override this.\n"
     ]
    },
    {
     "name": "stdout",
     "output_type": "stream",
     "text": [
      "Tuning Iteration: 5\n"
     ]
    },
    {
     "name": "stderr",
     "output_type": "stream",
     "text": [
      "INFO:prophet:Disabling yearly seasonality. Run prophet with yearly_seasonality=True to override this.\n"
     ]
    },
    {
     "name": "stdout",
     "output_type": "stream",
     "text": [
      "Tuning Iteration: 6\n"
     ]
    },
    {
     "name": "stderr",
     "output_type": "stream",
     "text": [
      "INFO:prophet:Disabling yearly seasonality. Run prophet with yearly_seasonality=True to override this.\n"
     ]
    },
    {
     "name": "stdout",
     "output_type": "stream",
     "text": [
      "Tuning Iteration: 7\n",
      "Median Percent Error of Range: 9.96018548229254\n",
      "Best Parameters: \n",
      "{'seasonality_mode': 'additive', 'n_changepoints': 200, 'changepoint_prior_scale': 0.5}\n",
      "XGBoost......\n",
      "Predict Length: 31\n",
      "Median Percent Error of Range: 11.266276426261223\n"
     ]
    },
    {
     "name": "stderr",
     "output_type": "stream",
     "text": [
      "INFO:prophet:Disabling yearly seasonality. Run prophet with yearly_seasonality=True to override this.\n"
     ]
    },
    {
     "name": "stdout",
     "output_type": "stream",
     "text": [
      "\n",
      "###########################################################\n",
      "File: 1081_0.pkl\n",
      "Length on load: 26304\n",
      "Length after agg: 1096\n",
      "Dropped N/A cols: 0\n",
      "Length after blank drop: 1096\n",
      "\n",
      "Prophet...... Tuning Prophet....\n",
      "Tuning Iteration: 0\n"
     ]
    },
    {
     "name": "stderr",
     "output_type": "stream",
     "text": [
      "INFO:prophet:Disabling yearly seasonality. Run prophet with yearly_seasonality=True to override this.\n"
     ]
    },
    {
     "name": "stdout",
     "output_type": "stream",
     "text": [
      "Tuning Iteration: 1\n"
     ]
    },
    {
     "name": "stderr",
     "output_type": "stream",
     "text": [
      "INFO:prophet:Disabling yearly seasonality. Run prophet with yearly_seasonality=True to override this.\n"
     ]
    },
    {
     "name": "stdout",
     "output_type": "stream",
     "text": [
      "Tuning Iteration: 2\n"
     ]
    },
    {
     "name": "stderr",
     "output_type": "stream",
     "text": [
      "INFO:prophet:Disabling yearly seasonality. Run prophet with yearly_seasonality=True to override this.\n"
     ]
    },
    {
     "name": "stdout",
     "output_type": "stream",
     "text": [
      "Tuning Iteration: 3\n"
     ]
    },
    {
     "name": "stderr",
     "output_type": "stream",
     "text": [
      "INFO:prophet:Disabling yearly seasonality. Run prophet with yearly_seasonality=True to override this.\n"
     ]
    },
    {
     "name": "stdout",
     "output_type": "stream",
     "text": [
      "Tuning Iteration: 4\n"
     ]
    },
    {
     "name": "stderr",
     "output_type": "stream",
     "text": [
      "INFO:prophet:Disabling yearly seasonality. Run prophet with yearly_seasonality=True to override this.\n"
     ]
    },
    {
     "name": "stdout",
     "output_type": "stream",
     "text": [
      "Tuning Iteration: 5\n"
     ]
    },
    {
     "name": "stderr",
     "output_type": "stream",
     "text": [
      "INFO:prophet:Disabling yearly seasonality. Run prophet with yearly_seasonality=True to override this.\n"
     ]
    },
    {
     "name": "stdout",
     "output_type": "stream",
     "text": [
      "Tuning Iteration: 6\n"
     ]
    },
    {
     "name": "stderr",
     "output_type": "stream",
     "text": [
      "INFO:prophet:Disabling yearly seasonality. Run prophet with yearly_seasonality=True to override this.\n"
     ]
    },
    {
     "name": "stdout",
     "output_type": "stream",
     "text": [
      "Tuning Iteration: 7\n",
      "Median Percent Error of Range: 29.387319031797983\n",
      "Best Parameters: \n",
      "{'seasonality_mode': 'additive', 'n_changepoints': 100, 'changepoint_prior_scale': 0.1}\n",
      "XGBoost......\n",
      "Predict Length: 31\n",
      "Median Percent Error of Range: 20.788686001612785\n"
     ]
    },
    {
     "name": "stderr",
     "output_type": "stream",
     "text": [
      "INFO:prophet:Disabling yearly seasonality. Run prophet with yearly_seasonality=True to override this.\n"
     ]
    },
    {
     "name": "stdout",
     "output_type": "stream",
     "text": [
      "\n",
      "###########################################################\n",
      "File: 1088_1.pkl\n",
      "Length on load: 26303\n",
      "Length after agg: 1096\n",
      "Dropped N/A cols: 0\n",
      "Length after blank drop: 1096\n",
      "\n",
      "Prophet...... Tuning Prophet....\n",
      "Tuning Iteration: 0\n"
     ]
    },
    {
     "name": "stderr",
     "output_type": "stream",
     "text": [
      "INFO:prophet:Disabling yearly seasonality. Run prophet with yearly_seasonality=True to override this.\n"
     ]
    },
    {
     "name": "stdout",
     "output_type": "stream",
     "text": [
      "Tuning Iteration: 1\n"
     ]
    },
    {
     "name": "stderr",
     "output_type": "stream",
     "text": [
      "INFO:prophet:Disabling yearly seasonality. Run prophet with yearly_seasonality=True to override this.\n"
     ]
    },
    {
     "name": "stdout",
     "output_type": "stream",
     "text": [
      "Tuning Iteration: 2\n"
     ]
    },
    {
     "name": "stderr",
     "output_type": "stream",
     "text": [
      "INFO:prophet:Disabling yearly seasonality. Run prophet with yearly_seasonality=True to override this.\n"
     ]
    },
    {
     "name": "stdout",
     "output_type": "stream",
     "text": [
      "Tuning Iteration: 3\n"
     ]
    },
    {
     "name": "stderr",
     "output_type": "stream",
     "text": [
      "INFO:prophet:Disabling yearly seasonality. Run prophet with yearly_seasonality=True to override this.\n"
     ]
    },
    {
     "name": "stdout",
     "output_type": "stream",
     "text": [
      "Tuning Iteration: 4\n"
     ]
    },
    {
     "name": "stderr",
     "output_type": "stream",
     "text": [
      "INFO:prophet:Disabling yearly seasonality. Run prophet with yearly_seasonality=True to override this.\n"
     ]
    },
    {
     "name": "stdout",
     "output_type": "stream",
     "text": [
      "Tuning Iteration: 5\n"
     ]
    },
    {
     "name": "stderr",
     "output_type": "stream",
     "text": [
      "INFO:prophet:Disabling yearly seasonality. Run prophet with yearly_seasonality=True to override this.\n"
     ]
    },
    {
     "name": "stdout",
     "output_type": "stream",
     "text": [
      "Tuning Iteration: 6\n"
     ]
    },
    {
     "name": "stderr",
     "output_type": "stream",
     "text": [
      "INFO:prophet:Disabling yearly seasonality. Run prophet with yearly_seasonality=True to override this.\n"
     ]
    },
    {
     "name": "stdout",
     "output_type": "stream",
     "text": [
      "Tuning Iteration: 7\n",
      "Median Percent Error of Range: 52.97483316307887\n",
      "Best Parameters: \n",
      "{'seasonality_mode': 'additive', 'n_changepoints': 100, 'changepoint_prior_scale': 0.1}\n",
      "XGBoost......\n",
      "Predict Length: 31\n",
      "Median Percent Error of Range: 38.30222769394822\n"
     ]
    },
    {
     "name": "stderr",
     "output_type": "stream",
     "text": [
      "INFO:prophet:Disabling yearly seasonality. Run prophet with yearly_seasonality=True to override this.\n"
     ]
    },
    {
     "name": "stdout",
     "output_type": "stream",
     "text": [
      "\n",
      "###########################################################\n",
      "File: 1091_0.pkl\n",
      "Length on load: 26304\n",
      "Length after agg: 1096\n",
      "Dropped N/A cols: 0\n",
      "Length after blank drop: 1096\n",
      "\n",
      "Prophet...... Tuning Prophet....\n",
      "Tuning Iteration: 0\n"
     ]
    },
    {
     "name": "stderr",
     "output_type": "stream",
     "text": [
      "INFO:prophet:Disabling yearly seasonality. Run prophet with yearly_seasonality=True to override this.\n"
     ]
    },
    {
     "name": "stdout",
     "output_type": "stream",
     "text": [
      "Tuning Iteration: 1\n"
     ]
    },
    {
     "name": "stderr",
     "output_type": "stream",
     "text": [
      "INFO:prophet:Disabling yearly seasonality. Run prophet with yearly_seasonality=True to override this.\n"
     ]
    },
    {
     "name": "stdout",
     "output_type": "stream",
     "text": [
      "Tuning Iteration: 2\n"
     ]
    },
    {
     "name": "stderr",
     "output_type": "stream",
     "text": [
      "INFO:prophet:Disabling yearly seasonality. Run prophet with yearly_seasonality=True to override this.\n"
     ]
    },
    {
     "name": "stdout",
     "output_type": "stream",
     "text": [
      "Tuning Iteration: 3\n"
     ]
    },
    {
     "name": "stderr",
     "output_type": "stream",
     "text": [
      "INFO:prophet:Disabling yearly seasonality. Run prophet with yearly_seasonality=True to override this.\n"
     ]
    },
    {
     "name": "stdout",
     "output_type": "stream",
     "text": [
      "Tuning Iteration: 4\n"
     ]
    },
    {
     "name": "stderr",
     "output_type": "stream",
     "text": [
      "INFO:prophet:Disabling yearly seasonality. Run prophet with yearly_seasonality=True to override this.\n"
     ]
    },
    {
     "name": "stdout",
     "output_type": "stream",
     "text": [
      "Tuning Iteration: 5\n"
     ]
    },
    {
     "name": "stderr",
     "output_type": "stream",
     "text": [
      "INFO:prophet:Disabling yearly seasonality. Run prophet with yearly_seasonality=True to override this.\n"
     ]
    },
    {
     "name": "stdout",
     "output_type": "stream",
     "text": [
      "Tuning Iteration: 6\n"
     ]
    },
    {
     "name": "stderr",
     "output_type": "stream",
     "text": [
      "INFO:prophet:Disabling yearly seasonality. Run prophet with yearly_seasonality=True to override this.\n"
     ]
    },
    {
     "name": "stdout",
     "output_type": "stream",
     "text": [
      "Tuning Iteration: 7\n",
      "Median Percent Error of Range: 130.25608713843607\n",
      "Best Parameters: \n",
      "{'seasonality_mode': 'multiplicative', 'n_changepoints': 100, 'changepoint_prior_scale': 0.5}\n",
      "XGBoost......\n",
      "Predict Length: 31\n",
      "Median Percent Error of Range: 32.01262276127653\n"
     ]
    },
    {
     "name": "stderr",
     "output_type": "stream",
     "text": [
      "INFO:prophet:Disabling yearly seasonality. Run prophet with yearly_seasonality=True to override this.\n"
     ]
    },
    {
     "name": "stdout",
     "output_type": "stream",
     "text": [
      "\n",
      "###########################################################\n",
      "File: 1099_2.pkl\n",
      "Length on load: 26304\n",
      "Length after agg: 1096\n",
      "Dropped N/A cols: 0\n",
      "Length after blank drop: 1096\n",
      "\n",
      "Prophet...... Tuning Prophet....\n",
      "Tuning Iteration: 0\n"
     ]
    },
    {
     "name": "stderr",
     "output_type": "stream",
     "text": [
      "INFO:prophet:Disabling yearly seasonality. Run prophet with yearly_seasonality=True to override this.\n"
     ]
    },
    {
     "name": "stdout",
     "output_type": "stream",
     "text": [
      "Tuning Iteration: 1\n"
     ]
    },
    {
     "name": "stderr",
     "output_type": "stream",
     "text": [
      "INFO:prophet:Disabling yearly seasonality. Run prophet with yearly_seasonality=True to override this.\n"
     ]
    },
    {
     "name": "stdout",
     "output_type": "stream",
     "text": [
      "Tuning Iteration: 2\n"
     ]
    },
    {
     "name": "stderr",
     "output_type": "stream",
     "text": [
      "INFO:prophet:Disabling yearly seasonality. Run prophet with yearly_seasonality=True to override this.\n"
     ]
    },
    {
     "name": "stdout",
     "output_type": "stream",
     "text": [
      "Tuning Iteration: 3\n"
     ]
    },
    {
     "name": "stderr",
     "output_type": "stream",
     "text": [
      "INFO:prophet:Disabling yearly seasonality. Run prophet with yearly_seasonality=True to override this.\n"
     ]
    },
    {
     "name": "stdout",
     "output_type": "stream",
     "text": [
      "Tuning Iteration: 4\n"
     ]
    },
    {
     "name": "stderr",
     "output_type": "stream",
     "text": [
      "INFO:prophet:Disabling yearly seasonality. Run prophet with yearly_seasonality=True to override this.\n"
     ]
    },
    {
     "name": "stdout",
     "output_type": "stream",
     "text": [
      "Tuning Iteration: 5\n"
     ]
    },
    {
     "name": "stderr",
     "output_type": "stream",
     "text": [
      "INFO:prophet:Disabling yearly seasonality. Run prophet with yearly_seasonality=True to override this.\n"
     ]
    },
    {
     "name": "stdout",
     "output_type": "stream",
     "text": [
      "Tuning Iteration: 6\n"
     ]
    },
    {
     "name": "stderr",
     "output_type": "stream",
     "text": [
      "INFO:prophet:Disabling yearly seasonality. Run prophet with yearly_seasonality=True to override this.\n"
     ]
    },
    {
     "name": "stdout",
     "output_type": "stream",
     "text": [
      "Tuning Iteration: 7\n",
      "Median Percent Error of Range: 151.48305076762475\n",
      "Best Parameters: \n",
      "{'seasonality_mode': 'multiplicative', 'n_changepoints': 200, 'changepoint_prior_scale': 0.5}\n",
      "XGBoost......\n",
      "Predict Length: 31\n",
      "Median Percent Error of Range: 37015.70781032078\n"
     ]
    },
    {
     "name": "stderr",
     "output_type": "stream",
     "text": [
      "INFO:prophet:Disabling yearly seasonality. Run prophet with yearly_seasonality=True to override this.\n"
     ]
    },
    {
     "name": "stdout",
     "output_type": "stream",
     "text": [
      "\n",
      "###########################################################\n",
      "File: 1104_0.pkl\n",
      "Length on load: 26304\n",
      "Length after agg: 1096\n",
      "Dropped N/A cols: 0\n",
      "Length after blank drop: 1096\n",
      "\n",
      "Prophet...... Tuning Prophet....\n",
      "Tuning Iteration: 0\n"
     ]
    },
    {
     "name": "stderr",
     "output_type": "stream",
     "text": [
      "INFO:prophet:Disabling yearly seasonality. Run prophet with yearly_seasonality=True to override this.\n"
     ]
    },
    {
     "name": "stdout",
     "output_type": "stream",
     "text": [
      "Tuning Iteration: 1\n"
     ]
    },
    {
     "name": "stderr",
     "output_type": "stream",
     "text": [
      "INFO:prophet:Disabling yearly seasonality. Run prophet with yearly_seasonality=True to override this.\n"
     ]
    },
    {
     "name": "stdout",
     "output_type": "stream",
     "text": [
      "Tuning Iteration: 2\n"
     ]
    },
    {
     "name": "stderr",
     "output_type": "stream",
     "text": [
      "INFO:prophet:Disabling yearly seasonality. Run prophet with yearly_seasonality=True to override this.\n"
     ]
    },
    {
     "name": "stdout",
     "output_type": "stream",
     "text": [
      "Tuning Iteration: 3\n"
     ]
    },
    {
     "name": "stderr",
     "output_type": "stream",
     "text": [
      "INFO:prophet:Disabling yearly seasonality. Run prophet with yearly_seasonality=True to override this.\n"
     ]
    },
    {
     "name": "stdout",
     "output_type": "stream",
     "text": [
      "Tuning Iteration: 4\n"
     ]
    },
    {
     "name": "stderr",
     "output_type": "stream",
     "text": [
      "INFO:prophet:Disabling yearly seasonality. Run prophet with yearly_seasonality=True to override this.\n"
     ]
    },
    {
     "name": "stdout",
     "output_type": "stream",
     "text": [
      "Tuning Iteration: 5\n"
     ]
    },
    {
     "name": "stderr",
     "output_type": "stream",
     "text": [
      "INFO:prophet:Disabling yearly seasonality. Run prophet with yearly_seasonality=True to override this.\n"
     ]
    },
    {
     "name": "stdout",
     "output_type": "stream",
     "text": [
      "Tuning Iteration: 6\n"
     ]
    },
    {
     "name": "stderr",
     "output_type": "stream",
     "text": [
      "INFO:prophet:Disabling yearly seasonality. Run prophet with yearly_seasonality=True to override this.\n"
     ]
    },
    {
     "name": "stdout",
     "output_type": "stream",
     "text": [
      "Tuning Iteration: 7\n",
      "Median Percent Error of Range: 12.55088060852917\n",
      "Best Parameters: \n",
      "{'seasonality_mode': 'additive', 'n_changepoints': 200, 'changepoint_prior_scale': 0.1}\n",
      "XGBoost......\n",
      "Predict Length: 31\n",
      "Median Percent Error of Range: 23.341030238754463\n"
     ]
    },
    {
     "name": "stderr",
     "output_type": "stream",
     "text": [
      "INFO:prophet:Disabling yearly seasonality. Run prophet with yearly_seasonality=True to override this.\n"
     ]
    },
    {
     "name": "stdout",
     "output_type": "stream",
     "text": [
      "\n",
      "###########################################################\n",
      "File: 1105_0.pkl\n",
      "Length on load: 26304\n",
      "Length after agg: 1096\n",
      "Dropped N/A cols: 0\n",
      "Length after blank drop: 1096\n",
      "\n",
      "Prophet...... Tuning Prophet....\n",
      "Tuning Iteration: 0\n"
     ]
    },
    {
     "name": "stderr",
     "output_type": "stream",
     "text": [
      "INFO:prophet:Disabling yearly seasonality. Run prophet with yearly_seasonality=True to override this.\n"
     ]
    },
    {
     "name": "stdout",
     "output_type": "stream",
     "text": [
      "Tuning Iteration: 1\n"
     ]
    },
    {
     "name": "stderr",
     "output_type": "stream",
     "text": [
      "INFO:prophet:Disabling yearly seasonality. Run prophet with yearly_seasonality=True to override this.\n"
     ]
    },
    {
     "name": "stdout",
     "output_type": "stream",
     "text": [
      "Tuning Iteration: 2\n"
     ]
    },
    {
     "name": "stderr",
     "output_type": "stream",
     "text": [
      "INFO:prophet:Disabling yearly seasonality. Run prophet with yearly_seasonality=True to override this.\n"
     ]
    },
    {
     "name": "stdout",
     "output_type": "stream",
     "text": [
      "Tuning Iteration: 3\n"
     ]
    },
    {
     "name": "stderr",
     "output_type": "stream",
     "text": [
      "INFO:prophet:Disabling yearly seasonality. Run prophet with yearly_seasonality=True to override this.\n"
     ]
    },
    {
     "name": "stdout",
     "output_type": "stream",
     "text": [
      "Tuning Iteration: 4\n"
     ]
    },
    {
     "name": "stderr",
     "output_type": "stream",
     "text": [
      "INFO:prophet:Disabling yearly seasonality. Run prophet with yearly_seasonality=True to override this.\n"
     ]
    },
    {
     "name": "stdout",
     "output_type": "stream",
     "text": [
      "Tuning Iteration: 5\n"
     ]
    },
    {
     "name": "stderr",
     "output_type": "stream",
     "text": [
      "INFO:prophet:Disabling yearly seasonality. Run prophet with yearly_seasonality=True to override this.\n"
     ]
    },
    {
     "name": "stdout",
     "output_type": "stream",
     "text": [
      "Tuning Iteration: 6\n"
     ]
    },
    {
     "name": "stderr",
     "output_type": "stream",
     "text": [
      "INFO:prophet:Disabling yearly seasonality. Run prophet with yearly_seasonality=True to override this.\n"
     ]
    },
    {
     "name": "stdout",
     "output_type": "stream",
     "text": [
      "Tuning Iteration: 7\n",
      "Median Percent Error of Range: 30.425007444744935\n",
      "Best Parameters: \n",
      "{'seasonality_mode': 'additive', 'n_changepoints': 100, 'changepoint_prior_scale': 0.1}\n",
      "XGBoost......\n",
      "Predict Length: 31\n",
      "Median Percent Error of Range: 17.69789095937073\n"
     ]
    },
    {
     "name": "stderr",
     "output_type": "stream",
     "text": [
      "INFO:prophet:Disabling yearly seasonality. Run prophet with yearly_seasonality=True to override this.\n"
     ]
    },
    {
     "name": "stdout",
     "output_type": "stream",
     "text": [
      "\n",
      "###########################################################\n",
      "File: 1105_2.pkl\n",
      "Length on load: 26304\n",
      "Length after agg: 1096\n",
      "Dropped N/A cols: 0\n",
      "Length after blank drop: 1096\n",
      "\n",
      "Prophet...... Tuning Prophet....\n",
      "Tuning Iteration: 0\n"
     ]
    },
    {
     "name": "stderr",
     "output_type": "stream",
     "text": [
      "INFO:prophet:Disabling yearly seasonality. Run prophet with yearly_seasonality=True to override this.\n"
     ]
    },
    {
     "name": "stdout",
     "output_type": "stream",
     "text": [
      "Tuning Iteration: 1\n"
     ]
    },
    {
     "name": "stderr",
     "output_type": "stream",
     "text": [
      "INFO:prophet:Disabling yearly seasonality. Run prophet with yearly_seasonality=True to override this.\n"
     ]
    },
    {
     "name": "stdout",
     "output_type": "stream",
     "text": [
      "Tuning Iteration: 2\n"
     ]
    },
    {
     "name": "stderr",
     "output_type": "stream",
     "text": [
      "INFO:prophet:Disabling yearly seasonality. Run prophet with yearly_seasonality=True to override this.\n"
     ]
    },
    {
     "name": "stdout",
     "output_type": "stream",
     "text": [
      "Tuning Iteration: 3\n"
     ]
    },
    {
     "name": "stderr",
     "output_type": "stream",
     "text": [
      "INFO:prophet:Disabling yearly seasonality. Run prophet with yearly_seasonality=True to override this.\n"
     ]
    },
    {
     "name": "stdout",
     "output_type": "stream",
     "text": [
      "Tuning Iteration: 4\n"
     ]
    },
    {
     "name": "stderr",
     "output_type": "stream",
     "text": [
      "INFO:prophet:Disabling yearly seasonality. Run prophet with yearly_seasonality=True to override this.\n"
     ]
    },
    {
     "name": "stdout",
     "output_type": "stream",
     "text": [
      "Tuning Iteration: 5\n"
     ]
    },
    {
     "name": "stderr",
     "output_type": "stream",
     "text": [
      "INFO:prophet:Disabling yearly seasonality. Run prophet with yearly_seasonality=True to override this.\n"
     ]
    },
    {
     "name": "stdout",
     "output_type": "stream",
     "text": [
      "Tuning Iteration: 6\n"
     ]
    },
    {
     "name": "stderr",
     "output_type": "stream",
     "text": [
      "INFO:prophet:Disabling yearly seasonality. Run prophet with yearly_seasonality=True to override this.\n"
     ]
    },
    {
     "name": "stdout",
     "output_type": "stream",
     "text": [
      "Tuning Iteration: 7\n",
      "Median Percent Error of Range: 40.328921179746544\n",
      "Best Parameters: \n",
      "{'seasonality_mode': 'additive', 'n_changepoints': 200, 'changepoint_prior_scale': 0.1}\n",
      "XGBoost......\n",
      "Predict Length: 31\n",
      "Median Percent Error of Range: 45.66230619649768\n"
     ]
    },
    {
     "name": "stderr",
     "output_type": "stream",
     "text": [
      "INFO:prophet:Disabling yearly seasonality. Run prophet with yearly_seasonality=True to override this.\n"
     ]
    },
    {
     "name": "stdout",
     "output_type": "stream",
     "text": [
      "\n",
      "###########################################################\n",
      "File: 1108_0.pkl\n",
      "Length on load: 26304\n",
      "Length after agg: 1096\n",
      "Dropped N/A cols: 0\n",
      "Length after blank drop: 1096\n",
      "\n",
      "Prophet...... Tuning Prophet....\n",
      "Tuning Iteration: 0\n"
     ]
    },
    {
     "name": "stderr",
     "output_type": "stream",
     "text": [
      "INFO:prophet:Disabling yearly seasonality. Run prophet with yearly_seasonality=True to override this.\n"
     ]
    },
    {
     "name": "stdout",
     "output_type": "stream",
     "text": [
      "Tuning Iteration: 1\n"
     ]
    },
    {
     "name": "stderr",
     "output_type": "stream",
     "text": [
      "INFO:prophet:Disabling yearly seasonality. Run prophet with yearly_seasonality=True to override this.\n"
     ]
    },
    {
     "name": "stdout",
     "output_type": "stream",
     "text": [
      "Tuning Iteration: 2\n"
     ]
    },
    {
     "name": "stderr",
     "output_type": "stream",
     "text": [
      "INFO:prophet:Disabling yearly seasonality. Run prophet with yearly_seasonality=True to override this.\n"
     ]
    },
    {
     "name": "stdout",
     "output_type": "stream",
     "text": [
      "Tuning Iteration: 3\n"
     ]
    },
    {
     "name": "stderr",
     "output_type": "stream",
     "text": [
      "INFO:prophet:Disabling yearly seasonality. Run prophet with yearly_seasonality=True to override this.\n"
     ]
    },
    {
     "name": "stdout",
     "output_type": "stream",
     "text": [
      "Tuning Iteration: 4\n"
     ]
    },
    {
     "name": "stderr",
     "output_type": "stream",
     "text": [
      "INFO:prophet:Disabling yearly seasonality. Run prophet with yearly_seasonality=True to override this.\n"
     ]
    },
    {
     "name": "stdout",
     "output_type": "stream",
     "text": [
      "Tuning Iteration: 5\n"
     ]
    },
    {
     "name": "stderr",
     "output_type": "stream",
     "text": [
      "INFO:prophet:Disabling yearly seasonality. Run prophet with yearly_seasonality=True to override this.\n"
     ]
    },
    {
     "name": "stdout",
     "output_type": "stream",
     "text": [
      "Tuning Iteration: 6\n"
     ]
    },
    {
     "name": "stderr",
     "output_type": "stream",
     "text": [
      "INFO:prophet:Disabling yearly seasonality. Run prophet with yearly_seasonality=True to override this.\n"
     ]
    },
    {
     "name": "stdout",
     "output_type": "stream",
     "text": [
      "Tuning Iteration: 7\n",
      "Median Percent Error of Range: 18.973638735369796\n",
      "Best Parameters: \n",
      "{'seasonality_mode': 'additive', 'n_changepoints': 200, 'changepoint_prior_scale': 0.1}\n",
      "XGBoost......\n",
      "Predict Length: 31\n",
      "Median Percent Error of Range: 44.446520135540474\n"
     ]
    },
    {
     "name": "stderr",
     "output_type": "stream",
     "text": [
      "INFO:prophet:Disabling yearly seasonality. Run prophet with yearly_seasonality=True to override this.\n"
     ]
    },
    {
     "name": "stdout",
     "output_type": "stream",
     "text": [
      "\n",
      "###########################################################\n",
      "File: 1109_2.pkl\n",
      "Length on load: 26304\n",
      "Length after agg: 1096\n",
      "Dropped N/A cols: 0\n",
      "Length after blank drop: 1096\n",
      "\n",
      "Prophet...... Tuning Prophet....\n",
      "Tuning Iteration: 0\n"
     ]
    },
    {
     "name": "stderr",
     "output_type": "stream",
     "text": [
      "INFO:prophet:Disabling yearly seasonality. Run prophet with yearly_seasonality=True to override this.\n"
     ]
    },
    {
     "name": "stdout",
     "output_type": "stream",
     "text": [
      "Tuning Iteration: 1\n"
     ]
    },
    {
     "name": "stderr",
     "output_type": "stream",
     "text": [
      "INFO:prophet:Disabling yearly seasonality. Run prophet with yearly_seasonality=True to override this.\n"
     ]
    },
    {
     "name": "stdout",
     "output_type": "stream",
     "text": [
      "Tuning Iteration: 2\n"
     ]
    },
    {
     "name": "stderr",
     "output_type": "stream",
     "text": [
      "INFO:prophet:Disabling yearly seasonality. Run prophet with yearly_seasonality=True to override this.\n"
     ]
    },
    {
     "name": "stdout",
     "output_type": "stream",
     "text": [
      "Tuning Iteration: 3\n"
     ]
    },
    {
     "name": "stderr",
     "output_type": "stream",
     "text": [
      "INFO:prophet:Disabling yearly seasonality. Run prophet with yearly_seasonality=True to override this.\n"
     ]
    },
    {
     "name": "stdout",
     "output_type": "stream",
     "text": [
      "Tuning Iteration: 4\n"
     ]
    },
    {
     "name": "stderr",
     "output_type": "stream",
     "text": [
      "INFO:prophet:Disabling yearly seasonality. Run prophet with yearly_seasonality=True to override this.\n"
     ]
    },
    {
     "name": "stdout",
     "output_type": "stream",
     "text": [
      "Tuning Iteration: 5\n"
     ]
    },
    {
     "name": "stderr",
     "output_type": "stream",
     "text": [
      "INFO:prophet:Disabling yearly seasonality. Run prophet with yearly_seasonality=True to override this.\n"
     ]
    },
    {
     "name": "stdout",
     "output_type": "stream",
     "text": [
      "Tuning Iteration: 6\n"
     ]
    },
    {
     "name": "stderr",
     "output_type": "stream",
     "text": [
      "INFO:prophet:Disabling yearly seasonality. Run prophet with yearly_seasonality=True to override this.\n"
     ]
    },
    {
     "name": "stdout",
     "output_type": "stream",
     "text": [
      "Tuning Iteration: 7\n",
      "Median Percent Error of Range: 11.691999177619847\n",
      "Best Parameters: \n",
      "{'seasonality_mode': 'multiplicative', 'n_changepoints': 200, 'changepoint_prior_scale': 0.5}\n",
      "XGBoost......\n",
      "Predict Length: 31\n",
      "Median Percent Error of Range: 10.611643688144119\n"
     ]
    },
    {
     "name": "stderr",
     "output_type": "stream",
     "text": [
      "INFO:prophet:Disabling yearly seasonality. Run prophet with yearly_seasonality=True to override this.\n"
     ]
    },
    {
     "name": "stdout",
     "output_type": "stream",
     "text": [
      "\n",
      "###########################################################\n",
      "File: 1118_0.pkl\n",
      "Length on load: 26304\n",
      "Length after agg: 1096\n",
      "Dropped N/A cols: 0\n",
      "Length after blank drop: 1096\n",
      "\n",
      "Prophet...... Tuning Prophet....\n",
      "Tuning Iteration: 0\n"
     ]
    },
    {
     "name": "stderr",
     "output_type": "stream",
     "text": [
      "INFO:prophet:Disabling yearly seasonality. Run prophet with yearly_seasonality=True to override this.\n"
     ]
    },
    {
     "name": "stdout",
     "output_type": "stream",
     "text": [
      "Tuning Iteration: 1\n"
     ]
    },
    {
     "name": "stderr",
     "output_type": "stream",
     "text": [
      "INFO:prophet:Disabling yearly seasonality. Run prophet with yearly_seasonality=True to override this.\n"
     ]
    },
    {
     "name": "stdout",
     "output_type": "stream",
     "text": [
      "Tuning Iteration: 2\n"
     ]
    },
    {
     "name": "stderr",
     "output_type": "stream",
     "text": [
      "INFO:prophet:Disabling yearly seasonality. Run prophet with yearly_seasonality=True to override this.\n"
     ]
    },
    {
     "name": "stdout",
     "output_type": "stream",
     "text": [
      "Tuning Iteration: 3\n"
     ]
    },
    {
     "name": "stderr",
     "output_type": "stream",
     "text": [
      "INFO:prophet:Disabling yearly seasonality. Run prophet with yearly_seasonality=True to override this.\n"
     ]
    },
    {
     "name": "stdout",
     "output_type": "stream",
     "text": [
      "Tuning Iteration: 4\n"
     ]
    },
    {
     "name": "stderr",
     "output_type": "stream",
     "text": [
      "INFO:prophet:Disabling yearly seasonality. Run prophet with yearly_seasonality=True to override this.\n"
     ]
    },
    {
     "name": "stdout",
     "output_type": "stream",
     "text": [
      "Tuning Iteration: 5\n"
     ]
    },
    {
     "name": "stderr",
     "output_type": "stream",
     "text": [
      "INFO:prophet:Disabling yearly seasonality. Run prophet with yearly_seasonality=True to override this.\n"
     ]
    },
    {
     "name": "stdout",
     "output_type": "stream",
     "text": [
      "Tuning Iteration: 6\n"
     ]
    },
    {
     "name": "stderr",
     "output_type": "stream",
     "text": [
      "INFO:prophet:Disabling yearly seasonality. Run prophet with yearly_seasonality=True to override this.\n"
     ]
    },
    {
     "name": "stdout",
     "output_type": "stream",
     "text": [
      "Tuning Iteration: 7\n",
      "Median Percent Error of Range: 10.487452140164333\n",
      "Best Parameters: \n",
      "{'seasonality_mode': 'multiplicative', 'n_changepoints': 200, 'changepoint_prior_scale': 0.5}\n",
      "XGBoost......\n",
      "Predict Length: 31\n",
      "Median Percent Error of Range: 28.02108128865561\n"
     ]
    },
    {
     "name": "stderr",
     "output_type": "stream",
     "text": [
      "INFO:prophet:Disabling yearly seasonality. Run prophet with yearly_seasonality=True to override this.\n"
     ]
    },
    {
     "name": "stdout",
     "output_type": "stream",
     "text": [
      "\n",
      "###########################################################\n",
      "File: 1124_0.pkl\n",
      "Length on load: 26304\n",
      "Length after agg: 1096\n",
      "Dropped N/A cols: 0\n",
      "Length after blank drop: 1096\n",
      "\n",
      "Prophet...... Tuning Prophet....\n",
      "Tuning Iteration: 0\n"
     ]
    },
    {
     "name": "stderr",
     "output_type": "stream",
     "text": [
      "INFO:prophet:Disabling yearly seasonality. Run prophet with yearly_seasonality=True to override this.\n"
     ]
    },
    {
     "name": "stdout",
     "output_type": "stream",
     "text": [
      "Tuning Iteration: 1\n"
     ]
    },
    {
     "name": "stderr",
     "output_type": "stream",
     "text": [
      "INFO:prophet:Disabling yearly seasonality. Run prophet with yearly_seasonality=True to override this.\n"
     ]
    },
    {
     "name": "stdout",
     "output_type": "stream",
     "text": [
      "Tuning Iteration: 2\n"
     ]
    },
    {
     "name": "stderr",
     "output_type": "stream",
     "text": [
      "INFO:prophet:Disabling yearly seasonality. Run prophet with yearly_seasonality=True to override this.\n"
     ]
    },
    {
     "name": "stdout",
     "output_type": "stream",
     "text": [
      "Tuning Iteration: 3\n"
     ]
    },
    {
     "name": "stderr",
     "output_type": "stream",
     "text": [
      "INFO:prophet:Disabling yearly seasonality. Run prophet with yearly_seasonality=True to override this.\n"
     ]
    },
    {
     "name": "stdout",
     "output_type": "stream",
     "text": [
      "Tuning Iteration: 4\n"
     ]
    },
    {
     "name": "stderr",
     "output_type": "stream",
     "text": [
      "INFO:prophet:Disabling yearly seasonality. Run prophet with yearly_seasonality=True to override this.\n"
     ]
    },
    {
     "name": "stdout",
     "output_type": "stream",
     "text": [
      "Tuning Iteration: 5\n"
     ]
    },
    {
     "name": "stderr",
     "output_type": "stream",
     "text": [
      "INFO:prophet:Disabling yearly seasonality. Run prophet with yearly_seasonality=True to override this.\n"
     ]
    },
    {
     "name": "stdout",
     "output_type": "stream",
     "text": [
      "Tuning Iteration: 6\n"
     ]
    },
    {
     "name": "stderr",
     "output_type": "stream",
     "text": [
      "INFO:prophet:Disabling yearly seasonality. Run prophet with yearly_seasonality=True to override this.\n"
     ]
    },
    {
     "name": "stdout",
     "output_type": "stream",
     "text": [
      "Tuning Iteration: 7\n",
      "Median Percent Error of Range: 127.74881244751516\n",
      "Best Parameters: \n",
      "{'seasonality_mode': 'multiplicative', 'n_changepoints': 100, 'changepoint_prior_scale': 0.5}\n",
      "XGBoost......\n",
      "Predict Length: 31\n",
      "Median Percent Error of Range: 30.33989140109262\n"
     ]
    },
    {
     "name": "stderr",
     "output_type": "stream",
     "text": [
      "INFO:prophet:Disabling yearly seasonality. Run prophet with yearly_seasonality=True to override this.\n"
     ]
    },
    {
     "name": "stdout",
     "output_type": "stream",
     "text": [
      "\n",
      "###########################################################\n",
      "File: 1130_0.pkl\n",
      "Length on load: 26304\n",
      "Length after agg: 1096\n",
      "Dropped N/A cols: 0\n",
      "Length after blank drop: 1096\n",
      "\n",
      "Prophet...... Tuning Prophet....\n",
      "Tuning Iteration: 0\n"
     ]
    },
    {
     "name": "stderr",
     "output_type": "stream",
     "text": [
      "INFO:prophet:Disabling yearly seasonality. Run prophet with yearly_seasonality=True to override this.\n"
     ]
    },
    {
     "name": "stdout",
     "output_type": "stream",
     "text": [
      "Tuning Iteration: 1\n"
     ]
    },
    {
     "name": "stderr",
     "output_type": "stream",
     "text": [
      "INFO:prophet:Disabling yearly seasonality. Run prophet with yearly_seasonality=True to override this.\n"
     ]
    },
    {
     "name": "stdout",
     "output_type": "stream",
     "text": [
      "Tuning Iteration: 2\n"
     ]
    },
    {
     "name": "stderr",
     "output_type": "stream",
     "text": [
      "INFO:prophet:Disabling yearly seasonality. Run prophet with yearly_seasonality=True to override this.\n"
     ]
    },
    {
     "name": "stdout",
     "output_type": "stream",
     "text": [
      "Tuning Iteration: 3\n"
     ]
    },
    {
     "name": "stderr",
     "output_type": "stream",
     "text": [
      "INFO:prophet:Disabling yearly seasonality. Run prophet with yearly_seasonality=True to override this.\n"
     ]
    },
    {
     "name": "stdout",
     "output_type": "stream",
     "text": [
      "Tuning Iteration: 4\n"
     ]
    },
    {
     "name": "stderr",
     "output_type": "stream",
     "text": [
      "INFO:prophet:Disabling yearly seasonality. Run prophet with yearly_seasonality=True to override this.\n"
     ]
    },
    {
     "name": "stdout",
     "output_type": "stream",
     "text": [
      "Tuning Iteration: 5\n"
     ]
    },
    {
     "name": "stderr",
     "output_type": "stream",
     "text": [
      "INFO:prophet:Disabling yearly seasonality. Run prophet with yearly_seasonality=True to override this.\n"
     ]
    },
    {
     "name": "stdout",
     "output_type": "stream",
     "text": [
      "Tuning Iteration: 6\n"
     ]
    },
    {
     "name": "stderr",
     "output_type": "stream",
     "text": [
      "INFO:prophet:Disabling yearly seasonality. Run prophet with yearly_seasonality=True to override this.\n"
     ]
    },
    {
     "name": "stdout",
     "output_type": "stream",
     "text": [
      "Tuning Iteration: 7\n",
      "Median Percent Error of Range: 23.466299839206258\n",
      "Best Parameters: \n",
      "{'seasonality_mode': 'multiplicative', 'n_changepoints': 100, 'changepoint_prior_scale': 0.1}\n",
      "XGBoost......\n",
      "Predict Length: 31\n",
      "Median Percent Error of Range: 13.41597146563254\n",
      "\n",
      "###########################################################\n",
      "File: 1133_2.pkl\n",
      "Length on load: 26304\n",
      "Length after agg: 1096\n",
      "Dropped N/A cols: 0\n",
      "Length after blank drop: 1096\n",
      "\n",
      "Prophet...... Tuning Prophet....\n",
      "Tuning Iteration: 0\n"
     ]
    },
    {
     "name": "stderr",
     "output_type": "stream",
     "text": [
      "INFO:prophet:Disabling yearly seasonality. Run prophet with yearly_seasonality=True to override this.\n",
      "INFO:prophet:Disabling yearly seasonality. Run prophet with yearly_seasonality=True to override this.\n"
     ]
    },
    {
     "name": "stdout",
     "output_type": "stream",
     "text": [
      "Tuning Iteration: 1\n"
     ]
    },
    {
     "name": "stderr",
     "output_type": "stream",
     "text": [
      "INFO:prophet:Disabling yearly seasonality. Run prophet with yearly_seasonality=True to override this.\n"
     ]
    },
    {
     "name": "stdout",
     "output_type": "stream",
     "text": [
      "Tuning Iteration: 2\n"
     ]
    },
    {
     "name": "stderr",
     "output_type": "stream",
     "text": [
      "INFO:prophet:Disabling yearly seasonality. Run prophet with yearly_seasonality=True to override this.\n"
     ]
    },
    {
     "name": "stdout",
     "output_type": "stream",
     "text": [
      "Tuning Iteration: 3\n"
     ]
    },
    {
     "name": "stderr",
     "output_type": "stream",
     "text": [
      "INFO:prophet:Disabling yearly seasonality. Run prophet with yearly_seasonality=True to override this.\n"
     ]
    },
    {
     "name": "stdout",
     "output_type": "stream",
     "text": [
      "Tuning Iteration: 4\n"
     ]
    },
    {
     "name": "stderr",
     "output_type": "stream",
     "text": [
      "INFO:prophet:Disabling yearly seasonality. Run prophet with yearly_seasonality=True to override this.\n"
     ]
    },
    {
     "name": "stdout",
     "output_type": "stream",
     "text": [
      "Tuning Iteration: 5\n"
     ]
    },
    {
     "name": "stderr",
     "output_type": "stream",
     "text": [
      "INFO:prophet:Disabling yearly seasonality. Run prophet with yearly_seasonality=True to override this.\n"
     ]
    },
    {
     "name": "stdout",
     "output_type": "stream",
     "text": [
      "Tuning Iteration: 6\n"
     ]
    },
    {
     "name": "stderr",
     "output_type": "stream",
     "text": [
      "INFO:prophet:Disabling yearly seasonality. Run prophet with yearly_seasonality=True to override this.\n"
     ]
    },
    {
     "name": "stdout",
     "output_type": "stream",
     "text": [
      "Tuning Iteration: 7\n",
      "Median Percent Error of Range: 17.837771537075675\n",
      "Best Parameters: \n",
      "{'seasonality_mode': 'additive', 'n_changepoints': 200, 'changepoint_prior_scale': 0.1}\n",
      "XGBoost......\n",
      "Predict Length: 31\n",
      "Median Percent Error of Range: 17.2819188637476\n"
     ]
    },
    {
     "name": "stderr",
     "output_type": "stream",
     "text": [
      "INFO:prophet:Disabling yearly seasonality. Run prophet with yearly_seasonality=True to override this.\n"
     ]
    },
    {
     "name": "stdout",
     "output_type": "stream",
     "text": [
      "\n",
      "###########################################################\n",
      "File: 1138_0.pkl\n",
      "Length on load: 26304\n",
      "Length after agg: 1096\n",
      "Dropped N/A cols: 0\n",
      "Length after blank drop: 1096\n",
      "\n",
      "Prophet...... Tuning Prophet....\n",
      "Tuning Iteration: 0\n"
     ]
    },
    {
     "name": "stderr",
     "output_type": "stream",
     "text": [
      "INFO:prophet:Disabling yearly seasonality. Run prophet with yearly_seasonality=True to override this.\n"
     ]
    },
    {
     "name": "stdout",
     "output_type": "stream",
     "text": [
      "Tuning Iteration: 1\n"
     ]
    },
    {
     "name": "stderr",
     "output_type": "stream",
     "text": [
      "INFO:prophet:Disabling yearly seasonality. Run prophet with yearly_seasonality=True to override this.\n"
     ]
    },
    {
     "name": "stdout",
     "output_type": "stream",
     "text": [
      "Tuning Iteration: 2\n"
     ]
    },
    {
     "name": "stderr",
     "output_type": "stream",
     "text": [
      "INFO:prophet:Disabling yearly seasonality. Run prophet with yearly_seasonality=True to override this.\n"
     ]
    },
    {
     "name": "stdout",
     "output_type": "stream",
     "text": [
      "Tuning Iteration: 3\n"
     ]
    },
    {
     "name": "stderr",
     "output_type": "stream",
     "text": [
      "INFO:prophet:Disabling yearly seasonality. Run prophet with yearly_seasonality=True to override this.\n"
     ]
    },
    {
     "name": "stdout",
     "output_type": "stream",
     "text": [
      "Tuning Iteration: 4\n"
     ]
    },
    {
     "name": "stderr",
     "output_type": "stream",
     "text": [
      "INFO:prophet:Disabling yearly seasonality. Run prophet with yearly_seasonality=True to override this.\n"
     ]
    },
    {
     "name": "stdout",
     "output_type": "stream",
     "text": [
      "Tuning Iteration: 5\n"
     ]
    },
    {
     "name": "stderr",
     "output_type": "stream",
     "text": [
      "INFO:prophet:Disabling yearly seasonality. Run prophet with yearly_seasonality=True to override this.\n"
     ]
    },
    {
     "name": "stdout",
     "output_type": "stream",
     "text": [
      "Tuning Iteration: 6\n"
     ]
    },
    {
     "name": "stderr",
     "output_type": "stream",
     "text": [
      "INFO:prophet:Disabling yearly seasonality. Run prophet with yearly_seasonality=True to override this.\n"
     ]
    },
    {
     "name": "stdout",
     "output_type": "stream",
     "text": [
      "Tuning Iteration: 7\n",
      "Median Percent Error of Range: 20.309243829551875\n",
      "Best Parameters: \n",
      "{'seasonality_mode': 'additive', 'n_changepoints': 200, 'changepoint_prior_scale': 0.1}\n",
      "XGBoost......\n",
      "Predict Length: 31\n",
      "Median Percent Error of Range: 12.113029655659167\n"
     ]
    },
    {
     "name": "stderr",
     "output_type": "stream",
     "text": [
      "INFO:prophet:Disabling yearly seasonality. Run prophet with yearly_seasonality=True to override this.\n"
     ]
    },
    {
     "name": "stdout",
     "output_type": "stream",
     "text": [
      "\n",
      "###########################################################\n",
      "File: 1140_1.pkl\n",
      "Length on load: 26304\n",
      "Length after agg: 1096\n",
      "Dropped N/A cols: 0\n",
      "Length after blank drop: 1096\n",
      "\n",
      "Prophet...... Tuning Prophet....\n",
      "Tuning Iteration: 0\n"
     ]
    },
    {
     "name": "stderr",
     "output_type": "stream",
     "text": [
      "INFO:prophet:Disabling yearly seasonality. Run prophet with yearly_seasonality=True to override this.\n"
     ]
    },
    {
     "name": "stdout",
     "output_type": "stream",
     "text": [
      "Tuning Iteration: 1\n"
     ]
    },
    {
     "name": "stderr",
     "output_type": "stream",
     "text": [
      "INFO:prophet:Disabling yearly seasonality. Run prophet with yearly_seasonality=True to override this.\n"
     ]
    },
    {
     "name": "stdout",
     "output_type": "stream",
     "text": [
      "Tuning Iteration: 2\n"
     ]
    },
    {
     "name": "stderr",
     "output_type": "stream",
     "text": [
      "INFO:prophet:Disabling yearly seasonality. Run prophet with yearly_seasonality=True to override this.\n"
     ]
    },
    {
     "name": "stdout",
     "output_type": "stream",
     "text": [
      "Tuning Iteration: 3\n"
     ]
    },
    {
     "name": "stderr",
     "output_type": "stream",
     "text": [
      "INFO:prophet:Disabling yearly seasonality. Run prophet with yearly_seasonality=True to override this.\n"
     ]
    },
    {
     "name": "stdout",
     "output_type": "stream",
     "text": [
      "Tuning Iteration: 4\n"
     ]
    },
    {
     "name": "stderr",
     "output_type": "stream",
     "text": [
      "INFO:prophet:Disabling yearly seasonality. Run prophet with yearly_seasonality=True to override this.\n"
     ]
    },
    {
     "name": "stdout",
     "output_type": "stream",
     "text": [
      "Tuning Iteration: 5\n"
     ]
    },
    {
     "name": "stderr",
     "output_type": "stream",
     "text": [
      "INFO:prophet:Disabling yearly seasonality. Run prophet with yearly_seasonality=True to override this.\n"
     ]
    },
    {
     "name": "stdout",
     "output_type": "stream",
     "text": [
      "Tuning Iteration: 6\n"
     ]
    },
    {
     "name": "stderr",
     "output_type": "stream",
     "text": [
      "INFO:prophet:Disabling yearly seasonality. Run prophet with yearly_seasonality=True to override this.\n"
     ]
    },
    {
     "name": "stdout",
     "output_type": "stream",
     "text": [
      "Tuning Iteration: 7\n",
      "Median Percent Error of Range: 8.239286929012088\n",
      "Best Parameters: \n",
      "{'seasonality_mode': 'additive', 'n_changepoints': 200, 'changepoint_prior_scale': 0.5}\n",
      "XGBoost......\n",
      "Predict Length: 31\n",
      "Median Percent Error of Range: 4.261351996552755\n"
     ]
    },
    {
     "name": "stderr",
     "output_type": "stream",
     "text": [
      "INFO:prophet:Disabling yearly seasonality. Run prophet with yearly_seasonality=True to override this.\n"
     ]
    },
    {
     "name": "stdout",
     "output_type": "stream",
     "text": [
      "\n",
      "###########################################################\n",
      "File: 1145_2.pkl\n",
      "Length on load: 26304\n",
      "Length after agg: 1096\n",
      "Dropped N/A cols: 0\n",
      "Length after blank drop: 1096\n",
      "\n",
      "Prophet...... Tuning Prophet....\n",
      "Tuning Iteration: 0\n"
     ]
    },
    {
     "name": "stderr",
     "output_type": "stream",
     "text": [
      "INFO:prophet:Disabling yearly seasonality. Run prophet with yearly_seasonality=True to override this.\n"
     ]
    },
    {
     "name": "stdout",
     "output_type": "stream",
     "text": [
      "Tuning Iteration: 1\n"
     ]
    },
    {
     "name": "stderr",
     "output_type": "stream",
     "text": [
      "INFO:prophet:Disabling yearly seasonality. Run prophet with yearly_seasonality=True to override this.\n"
     ]
    },
    {
     "name": "stdout",
     "output_type": "stream",
     "text": [
      "Tuning Iteration: 2\n"
     ]
    },
    {
     "name": "stderr",
     "output_type": "stream",
     "text": [
      "INFO:prophet:Disabling yearly seasonality. Run prophet with yearly_seasonality=True to override this.\n"
     ]
    },
    {
     "name": "stdout",
     "output_type": "stream",
     "text": [
      "Tuning Iteration: 3\n"
     ]
    },
    {
     "name": "stderr",
     "output_type": "stream",
     "text": [
      "INFO:prophet:Disabling yearly seasonality. Run prophet with yearly_seasonality=True to override this.\n"
     ]
    },
    {
     "name": "stdout",
     "output_type": "stream",
     "text": [
      "Tuning Iteration: 4\n",
      "Tuning Iteration: 5\n"
     ]
    },
    {
     "name": "stderr",
     "output_type": "stream",
     "text": [
      "INFO:prophet:Disabling yearly seasonality. Run prophet with yearly_seasonality=True to override this.\n",
      "INFO:prophet:Disabling yearly seasonality. Run prophet with yearly_seasonality=True to override this.\n"
     ]
    },
    {
     "name": "stdout",
     "output_type": "stream",
     "text": [
      "Tuning Iteration: 6\n"
     ]
    },
    {
     "name": "stderr",
     "output_type": "stream",
     "text": [
      "INFO:prophet:Disabling yearly seasonality. Run prophet with yearly_seasonality=True to override this.\n"
     ]
    },
    {
     "name": "stdout",
     "output_type": "stream",
     "text": [
      "Tuning Iteration: 7\n",
      "Median Percent Error of Range: 20.49673160740695\n",
      "Best Parameters: \n",
      "{'seasonality_mode': 'multiplicative', 'n_changepoints': 100, 'changepoint_prior_scale': 0.5}\n",
      "XGBoost......\n",
      "Predict Length: 31\n",
      "Median Percent Error of Range: 28.225500446428548\n"
     ]
    },
    {
     "name": "stderr",
     "output_type": "stream",
     "text": [
      "INFO:prophet:Disabling yearly seasonality. Run prophet with yearly_seasonality=True to override this.\n"
     ]
    },
    {
     "name": "stdout",
     "output_type": "stream",
     "text": [
      "\n",
      "###########################################################\n",
      "File: 1148_1.pkl\n",
      "Length on load: 26304\n",
      "Length after agg: 1096\n",
      "Dropped N/A cols: 0\n",
      "Length after blank drop: 1096\n",
      "\n",
      "Prophet...... Tuning Prophet....\n",
      "Tuning Iteration: 0\n"
     ]
    },
    {
     "name": "stderr",
     "output_type": "stream",
     "text": [
      "INFO:prophet:Disabling yearly seasonality. Run prophet with yearly_seasonality=True to override this.\n"
     ]
    },
    {
     "name": "stdout",
     "output_type": "stream",
     "text": [
      "Tuning Iteration: 1\n"
     ]
    },
    {
     "name": "stderr",
     "output_type": "stream",
     "text": [
      "INFO:prophet:Disabling yearly seasonality. Run prophet with yearly_seasonality=True to override this.\n"
     ]
    },
    {
     "name": "stdout",
     "output_type": "stream",
     "text": [
      "Tuning Iteration: 2\n"
     ]
    },
    {
     "name": "stderr",
     "output_type": "stream",
     "text": [
      "INFO:prophet:Disabling yearly seasonality. Run prophet with yearly_seasonality=True to override this.\n"
     ]
    },
    {
     "name": "stdout",
     "output_type": "stream",
     "text": [
      "Tuning Iteration: 3\n"
     ]
    },
    {
     "name": "stderr",
     "output_type": "stream",
     "text": [
      "INFO:prophet:Disabling yearly seasonality. Run prophet with yearly_seasonality=True to override this.\n"
     ]
    },
    {
     "name": "stdout",
     "output_type": "stream",
     "text": [
      "Tuning Iteration: 4\n"
     ]
    },
    {
     "name": "stderr",
     "output_type": "stream",
     "text": [
      "INFO:prophet:Disabling yearly seasonality. Run prophet with yearly_seasonality=True to override this.\n"
     ]
    },
    {
     "name": "stdout",
     "output_type": "stream",
     "text": [
      "Tuning Iteration: 5\n"
     ]
    },
    {
     "name": "stderr",
     "output_type": "stream",
     "text": [
      "INFO:prophet:Disabling yearly seasonality. Run prophet with yearly_seasonality=True to override this.\n"
     ]
    },
    {
     "name": "stdout",
     "output_type": "stream",
     "text": [
      "Tuning Iteration: 6\n"
     ]
    },
    {
     "name": "stderr",
     "output_type": "stream",
     "text": [
      "INFO:prophet:Disabling yearly seasonality. Run prophet with yearly_seasonality=True to override this.\n"
     ]
    },
    {
     "name": "stdout",
     "output_type": "stream",
     "text": [
      "Tuning Iteration: 7\n",
      "Median Percent Error of Range: 25.464240078383614\n",
      "Best Parameters: \n",
      "{'seasonality_mode': 'additive', 'n_changepoints': 200, 'changepoint_prior_scale': 0.5}\n",
      "XGBoost......\n",
      "Predict Length: 31\n",
      "Median Percent Error of Range: 10.731019509650528\n",
      "\n",
      "###########################################################\n",
      "File: 1149_0.pkl\n",
      "Length on load: 26304\n",
      "Length after agg: 1096\n",
      "Dropped N/A cols: 0\n",
      "Length after blank drop: 1096\n",
      "\n",
      "Prophet...... Tuning Prophet....\n"
     ]
    },
    {
     "name": "stderr",
     "output_type": "stream",
     "text": [
      "INFO:prophet:Disabling yearly seasonality. Run prophet with yearly_seasonality=True to override this.\n"
     ]
    },
    {
     "name": "stdout",
     "output_type": "stream",
     "text": [
      "Tuning Iteration: 0\n"
     ]
    },
    {
     "name": "stderr",
     "output_type": "stream",
     "text": [
      "INFO:prophet:Disabling yearly seasonality. Run prophet with yearly_seasonality=True to override this.\n"
     ]
    },
    {
     "name": "stdout",
     "output_type": "stream",
     "text": [
      "Tuning Iteration: 1\n"
     ]
    },
    {
     "name": "stderr",
     "output_type": "stream",
     "text": [
      "INFO:prophet:Disabling yearly seasonality. Run prophet with yearly_seasonality=True to override this.\n"
     ]
    },
    {
     "name": "stdout",
     "output_type": "stream",
     "text": [
      "Tuning Iteration: 2\n"
     ]
    },
    {
     "name": "stderr",
     "output_type": "stream",
     "text": [
      "INFO:prophet:Disabling yearly seasonality. Run prophet with yearly_seasonality=True to override this.\n"
     ]
    },
    {
     "name": "stdout",
     "output_type": "stream",
     "text": [
      "Tuning Iteration: 3\n"
     ]
    },
    {
     "name": "stderr",
     "output_type": "stream",
     "text": [
      "INFO:prophet:Disabling yearly seasonality. Run prophet with yearly_seasonality=True to override this.\n"
     ]
    },
    {
     "name": "stdout",
     "output_type": "stream",
     "text": [
      "Tuning Iteration: 4\n"
     ]
    },
    {
     "name": "stderr",
     "output_type": "stream",
     "text": [
      "INFO:prophet:Disabling yearly seasonality. Run prophet with yearly_seasonality=True to override this.\n"
     ]
    },
    {
     "name": "stdout",
     "output_type": "stream",
     "text": [
      "Tuning Iteration: 5\n"
     ]
    },
    {
     "name": "stderr",
     "output_type": "stream",
     "text": [
      "INFO:prophet:Disabling yearly seasonality. Run prophet with yearly_seasonality=True to override this.\n"
     ]
    },
    {
     "name": "stdout",
     "output_type": "stream",
     "text": [
      "Tuning Iteration: 6\n"
     ]
    },
    {
     "name": "stderr",
     "output_type": "stream",
     "text": [
      "INFO:prophet:Disabling yearly seasonality. Run prophet with yearly_seasonality=True to override this.\n"
     ]
    },
    {
     "name": "stdout",
     "output_type": "stream",
     "text": [
      "Tuning Iteration: 7\n",
      "Median Percent Error of Range: 12.676385524373632\n",
      "Best Parameters: \n",
      "{'seasonality_mode': 'multiplicative', 'n_changepoints': 200, 'changepoint_prior_scale': 0.5}\n",
      "XGBoost......\n",
      "Predict Length: 31\n",
      "Median Percent Error of Range: 6.925624235036919\n"
     ]
    },
    {
     "name": "stderr",
     "output_type": "stream",
     "text": [
      "INFO:prophet:Disabling yearly seasonality. Run prophet with yearly_seasonality=True to override this.\n"
     ]
    },
    {
     "name": "stdout",
     "output_type": "stream",
     "text": [
      "\n",
      "###########################################################\n",
      "File: 1151_1.pkl\n",
      "Length on load: 26304\n",
      "Length after agg: 1096\n",
      "Dropped N/A cols: 0\n",
      "Length after blank drop: 1096\n",
      "\n",
      "Prophet...... Tuning Prophet....\n",
      "Tuning Iteration: 0\n"
     ]
    },
    {
     "name": "stderr",
     "output_type": "stream",
     "text": [
      "INFO:prophet:Disabling yearly seasonality. Run prophet with yearly_seasonality=True to override this.\n"
     ]
    },
    {
     "name": "stdout",
     "output_type": "stream",
     "text": [
      "Tuning Iteration: 1\n"
     ]
    },
    {
     "name": "stderr",
     "output_type": "stream",
     "text": [
      "INFO:prophet:Disabling yearly seasonality. Run prophet with yearly_seasonality=True to override this.\n"
     ]
    },
    {
     "name": "stdout",
     "output_type": "stream",
     "text": [
      "Tuning Iteration: 2\n"
     ]
    },
    {
     "name": "stderr",
     "output_type": "stream",
     "text": [
      "INFO:prophet:Disabling yearly seasonality. Run prophet with yearly_seasonality=True to override this.\n"
     ]
    },
    {
     "name": "stdout",
     "output_type": "stream",
     "text": [
      "Tuning Iteration: 3\n"
     ]
    },
    {
     "name": "stderr",
     "output_type": "stream",
     "text": [
      "INFO:prophet:Disabling yearly seasonality. Run prophet with yearly_seasonality=True to override this.\n"
     ]
    },
    {
     "name": "stdout",
     "output_type": "stream",
     "text": [
      "Tuning Iteration: 4\n"
     ]
    },
    {
     "name": "stderr",
     "output_type": "stream",
     "text": [
      "INFO:prophet:Disabling yearly seasonality. Run prophet with yearly_seasonality=True to override this.\n"
     ]
    },
    {
     "name": "stdout",
     "output_type": "stream",
     "text": [
      "Tuning Iteration: 5\n"
     ]
    },
    {
     "name": "stderr",
     "output_type": "stream",
     "text": [
      "INFO:prophet:Disabling yearly seasonality. Run prophet with yearly_seasonality=True to override this.\n"
     ]
    },
    {
     "name": "stdout",
     "output_type": "stream",
     "text": [
      "Tuning Iteration: 6\n"
     ]
    },
    {
     "name": "stderr",
     "output_type": "stream",
     "text": [
      "INFO:prophet:Disabling yearly seasonality. Run prophet with yearly_seasonality=True to override this.\n"
     ]
    },
    {
     "name": "stdout",
     "output_type": "stream",
     "text": [
      "Tuning Iteration: 7\n",
      "Median Percent Error of Range: 8.868472763802046\n",
      "Best Parameters: \n",
      "{'seasonality_mode': 'additive', 'n_changepoints': 200, 'changepoint_prior_scale': 0.1}\n",
      "XGBoost......\n",
      "Predict Length: 31\n",
      "Median Percent Error of Range: 5.971876121139809\n"
     ]
    },
    {
     "name": "stderr",
     "output_type": "stream",
     "text": [
      "INFO:prophet:Disabling yearly seasonality. Run prophet with yearly_seasonality=True to override this.\n"
     ]
    },
    {
     "name": "stdout",
     "output_type": "stream",
     "text": [
      "\n",
      "###########################################################\n",
      "File: 1154_0.pkl\n",
      "Length on load: 26304\n",
      "Length after agg: 1096\n",
      "Dropped N/A cols: 0\n",
      "Length after blank drop: 1096\n",
      "\n",
      "Prophet...... Tuning Prophet....\n",
      "Tuning Iteration: 0\n"
     ]
    },
    {
     "name": "stderr",
     "output_type": "stream",
     "text": [
      "INFO:prophet:Disabling yearly seasonality. Run prophet with yearly_seasonality=True to override this.\n"
     ]
    },
    {
     "name": "stdout",
     "output_type": "stream",
     "text": [
      "Tuning Iteration: 1\n"
     ]
    },
    {
     "name": "stderr",
     "output_type": "stream",
     "text": [
      "INFO:prophet:Disabling yearly seasonality. Run prophet with yearly_seasonality=True to override this.\n"
     ]
    },
    {
     "name": "stdout",
     "output_type": "stream",
     "text": [
      "Tuning Iteration: 2\n"
     ]
    },
    {
     "name": "stderr",
     "output_type": "stream",
     "text": [
      "INFO:prophet:Disabling yearly seasonality. Run prophet with yearly_seasonality=True to override this.\n"
     ]
    },
    {
     "name": "stdout",
     "output_type": "stream",
     "text": [
      "Tuning Iteration: 3\n"
     ]
    },
    {
     "name": "stderr",
     "output_type": "stream",
     "text": [
      "INFO:prophet:Disabling yearly seasonality. Run prophet with yearly_seasonality=True to override this.\n"
     ]
    },
    {
     "name": "stdout",
     "output_type": "stream",
     "text": [
      "Tuning Iteration: 4\n"
     ]
    },
    {
     "name": "stderr",
     "output_type": "stream",
     "text": [
      "INFO:prophet:Disabling yearly seasonality. Run prophet with yearly_seasonality=True to override this.\n"
     ]
    },
    {
     "name": "stdout",
     "output_type": "stream",
     "text": [
      "Tuning Iteration: 5\n"
     ]
    },
    {
     "name": "stderr",
     "output_type": "stream",
     "text": [
      "INFO:prophet:Disabling yearly seasonality. Run prophet with yearly_seasonality=True to override this.\n"
     ]
    },
    {
     "name": "stdout",
     "output_type": "stream",
     "text": [
      "Tuning Iteration: 6\n"
     ]
    },
    {
     "name": "stderr",
     "output_type": "stream",
     "text": [
      "INFO:prophet:Disabling yearly seasonality. Run prophet with yearly_seasonality=True to override this.\n"
     ]
    },
    {
     "name": "stdout",
     "output_type": "stream",
     "text": [
      "Tuning Iteration: 7\n",
      "Median Percent Error of Range: 15.741901742478065\n",
      "Best Parameters: \n",
      "{'seasonality_mode': 'multiplicative', 'n_changepoints': 200, 'changepoint_prior_scale': 0.5}\n",
      "XGBoost......\n",
      "Predict Length: 31\n",
      "Median Percent Error of Range: 15.897014781045444\n"
     ]
    },
    {
     "name": "stderr",
     "output_type": "stream",
     "text": [
      "INFO:prophet:Disabling yearly seasonality. Run prophet with yearly_seasonality=True to override this.\n"
     ]
    },
    {
     "name": "stdout",
     "output_type": "stream",
     "text": [
      "\n",
      "###########################################################\n",
      "File: 1154_2.pkl\n",
      "Length on load: 26304\n",
      "Length after agg: 1096\n",
      "Dropped N/A cols: 0\n",
      "Length after blank drop: 1096\n",
      "\n",
      "Prophet...... Tuning Prophet....\n",
      "Tuning Iteration: 0\n"
     ]
    },
    {
     "name": "stderr",
     "output_type": "stream",
     "text": [
      "INFO:prophet:Disabling yearly seasonality. Run prophet with yearly_seasonality=True to override this.\n"
     ]
    },
    {
     "name": "stdout",
     "output_type": "stream",
     "text": [
      "Tuning Iteration: 1\n"
     ]
    },
    {
     "name": "stderr",
     "output_type": "stream",
     "text": [
      "INFO:prophet:Disabling yearly seasonality. Run prophet with yearly_seasonality=True to override this.\n"
     ]
    },
    {
     "name": "stdout",
     "output_type": "stream",
     "text": [
      "Tuning Iteration: 2\n"
     ]
    },
    {
     "name": "stderr",
     "output_type": "stream",
     "text": [
      "INFO:prophet:Disabling yearly seasonality. Run prophet with yearly_seasonality=True to override this.\n"
     ]
    },
    {
     "name": "stdout",
     "output_type": "stream",
     "text": [
      "Tuning Iteration: 3\n"
     ]
    },
    {
     "name": "stderr",
     "output_type": "stream",
     "text": [
      "INFO:prophet:Disabling yearly seasonality. Run prophet with yearly_seasonality=True to override this.\n"
     ]
    },
    {
     "name": "stdout",
     "output_type": "stream",
     "text": [
      "Tuning Iteration: 4\n"
     ]
    },
    {
     "name": "stderr",
     "output_type": "stream",
     "text": [
      "INFO:prophet:Disabling yearly seasonality. Run prophet with yearly_seasonality=True to override this.\n"
     ]
    },
    {
     "name": "stdout",
     "output_type": "stream",
     "text": [
      "Tuning Iteration: 5\n"
     ]
    },
    {
     "name": "stderr",
     "output_type": "stream",
     "text": [
      "INFO:prophet:Disabling yearly seasonality. Run prophet with yearly_seasonality=True to override this.\n"
     ]
    },
    {
     "name": "stdout",
     "output_type": "stream",
     "text": [
      "Tuning Iteration: 6\n"
     ]
    },
    {
     "name": "stderr",
     "output_type": "stream",
     "text": [
      "INFO:prophet:Disabling yearly seasonality. Run prophet with yearly_seasonality=True to override this.\n"
     ]
    },
    {
     "name": "stdout",
     "output_type": "stream",
     "text": [
      "Tuning Iteration: 7\n",
      "Median Percent Error of Range: 14.997255747339928\n",
      "Best Parameters: \n",
      "{'seasonality_mode': 'multiplicative', 'n_changepoints': 100, 'changepoint_prior_scale': 0.5}\n",
      "XGBoost......\n",
      "Predict Length: 31\n",
      "Median Percent Error of Range: 21.766240919278438\n"
     ]
    },
    {
     "name": "stderr",
     "output_type": "stream",
     "text": [
      "INFO:prophet:Disabling yearly seasonality. Run prophet with yearly_seasonality=True to override this.\n"
     ]
    },
    {
     "name": "stdout",
     "output_type": "stream",
     "text": [
      "\n",
      "###########################################################\n",
      "File: 1156_0.pkl\n",
      "Length on load: 26304\n",
      "Length after agg: 1096\n",
      "Dropped N/A cols: 0\n",
      "Length after blank drop: 1096\n",
      "\n",
      "Prophet...... Tuning Prophet....\n",
      "Tuning Iteration: 0\n"
     ]
    },
    {
     "name": "stderr",
     "output_type": "stream",
     "text": [
      "INFO:prophet:Disabling yearly seasonality. Run prophet with yearly_seasonality=True to override this.\n"
     ]
    },
    {
     "name": "stdout",
     "output_type": "stream",
     "text": [
      "Tuning Iteration: 1\n"
     ]
    },
    {
     "name": "stderr",
     "output_type": "stream",
     "text": [
      "INFO:prophet:Disabling yearly seasonality. Run prophet with yearly_seasonality=True to override this.\n"
     ]
    },
    {
     "name": "stdout",
     "output_type": "stream",
     "text": [
      "Tuning Iteration: 2\n"
     ]
    },
    {
     "name": "stderr",
     "output_type": "stream",
     "text": [
      "INFO:prophet:Disabling yearly seasonality. Run prophet with yearly_seasonality=True to override this.\n"
     ]
    },
    {
     "name": "stdout",
     "output_type": "stream",
     "text": [
      "Tuning Iteration: 3\n"
     ]
    },
    {
     "name": "stderr",
     "output_type": "stream",
     "text": [
      "INFO:prophet:Disabling yearly seasonality. Run prophet with yearly_seasonality=True to override this.\n"
     ]
    },
    {
     "name": "stdout",
     "output_type": "stream",
     "text": [
      "Tuning Iteration: 4\n"
     ]
    },
    {
     "name": "stderr",
     "output_type": "stream",
     "text": [
      "INFO:prophet:Disabling yearly seasonality. Run prophet with yearly_seasonality=True to override this.\n"
     ]
    },
    {
     "name": "stdout",
     "output_type": "stream",
     "text": [
      "Tuning Iteration: 5\n"
     ]
    },
    {
     "name": "stderr",
     "output_type": "stream",
     "text": [
      "INFO:prophet:Disabling yearly seasonality. Run prophet with yearly_seasonality=True to override this.\n"
     ]
    },
    {
     "name": "stdout",
     "output_type": "stream",
     "text": [
      "Tuning Iteration: 6\n"
     ]
    },
    {
     "name": "stderr",
     "output_type": "stream",
     "text": [
      "INFO:prophet:Disabling yearly seasonality. Run prophet with yearly_seasonality=True to override this.\n"
     ]
    },
    {
     "name": "stdout",
     "output_type": "stream",
     "text": [
      "Tuning Iteration: 7\n",
      "Median Percent Error of Range: 39.370462529949066\n",
      "Best Parameters: \n",
      "{'seasonality_mode': 'additive', 'n_changepoints': 100, 'changepoint_prior_scale': 0.5}\n",
      "XGBoost......\n",
      "Predict Length: 31\n",
      "Median Percent Error of Range: 47.560908072230596\n"
     ]
    },
    {
     "name": "stderr",
     "output_type": "stream",
     "text": [
      "INFO:prophet:Disabling yearly seasonality. Run prophet with yearly_seasonality=True to override this.\n"
     ]
    },
    {
     "name": "stdout",
     "output_type": "stream",
     "text": [
      "\n",
      "###########################################################\n",
      "File: 1156_2.pkl\n",
      "Length on load: 26304\n",
      "Length after agg: 1096\n",
      "Dropped N/A cols: 0\n",
      "Length after blank drop: 1096\n",
      "\n",
      "Prophet...... Tuning Prophet....\n",
      "Tuning Iteration: 0\n"
     ]
    },
    {
     "name": "stderr",
     "output_type": "stream",
     "text": [
      "INFO:prophet:Disabling yearly seasonality. Run prophet with yearly_seasonality=True to override this.\n"
     ]
    },
    {
     "name": "stdout",
     "output_type": "stream",
     "text": [
      "Tuning Iteration: 1\n"
     ]
    },
    {
     "name": "stderr",
     "output_type": "stream",
     "text": [
      "INFO:prophet:Disabling yearly seasonality. Run prophet with yearly_seasonality=True to override this.\n"
     ]
    },
    {
     "name": "stdout",
     "output_type": "stream",
     "text": [
      "Tuning Iteration: 2\n"
     ]
    },
    {
     "name": "stderr",
     "output_type": "stream",
     "text": [
      "INFO:prophet:Disabling yearly seasonality. Run prophet with yearly_seasonality=True to override this.\n"
     ]
    },
    {
     "name": "stdout",
     "output_type": "stream",
     "text": [
      "Tuning Iteration: 3\n"
     ]
    },
    {
     "name": "stderr",
     "output_type": "stream",
     "text": [
      "INFO:prophet:Disabling yearly seasonality. Run prophet with yearly_seasonality=True to override this.\n"
     ]
    },
    {
     "name": "stdout",
     "output_type": "stream",
     "text": [
      "Tuning Iteration: 4\n"
     ]
    },
    {
     "name": "stderr",
     "output_type": "stream",
     "text": [
      "INFO:prophet:Disabling yearly seasonality. Run prophet with yearly_seasonality=True to override this.\n"
     ]
    },
    {
     "name": "stdout",
     "output_type": "stream",
     "text": [
      "Tuning Iteration: 5\n"
     ]
    },
    {
     "name": "stderr",
     "output_type": "stream",
     "text": [
      "INFO:prophet:Disabling yearly seasonality. Run prophet with yearly_seasonality=True to override this.\n"
     ]
    },
    {
     "name": "stdout",
     "output_type": "stream",
     "text": [
      "Tuning Iteration: 6\n"
     ]
    },
    {
     "name": "stderr",
     "output_type": "stream",
     "text": [
      "INFO:prophet:Disabling yearly seasonality. Run prophet with yearly_seasonality=True to override this.\n"
     ]
    },
    {
     "name": "stdout",
     "output_type": "stream",
     "text": [
      "Tuning Iteration: 7\n",
      "Median Percent Error of Range: 13.044813406401786\n",
      "Best Parameters: \n",
      "{'seasonality_mode': 'additive', 'n_changepoints': 100, 'changepoint_prior_scale': 0.1}\n",
      "XGBoost......\n",
      "Predict Length: 31\n",
      "Median Percent Error of Range: 13.821821729184416\n"
     ]
    },
    {
     "name": "stderr",
     "output_type": "stream",
     "text": [
      "INFO:prophet:Disabling yearly seasonality. Run prophet with yearly_seasonality=True to override this.\n"
     ]
    },
    {
     "name": "stdout",
     "output_type": "stream",
     "text": [
      "\n",
      "###########################################################\n",
      "File: 1164_1.pkl\n",
      "Length on load: 26304\n",
      "Length after agg: 1096\n",
      "Dropped N/A cols: 0\n",
      "Length after blank drop: 1096\n",
      "\n",
      "Prophet...... Tuning Prophet....\n",
      "Tuning Iteration: 0\n"
     ]
    },
    {
     "name": "stderr",
     "output_type": "stream",
     "text": [
      "INFO:prophet:Disabling yearly seasonality. Run prophet with yearly_seasonality=True to override this.\n"
     ]
    },
    {
     "name": "stdout",
     "output_type": "stream",
     "text": [
      "Tuning Iteration: 1\n"
     ]
    },
    {
     "name": "stderr",
     "output_type": "stream",
     "text": [
      "INFO:prophet:Disabling yearly seasonality. Run prophet with yearly_seasonality=True to override this.\n"
     ]
    },
    {
     "name": "stdout",
     "output_type": "stream",
     "text": [
      "Tuning Iteration: 2\n"
     ]
    },
    {
     "name": "stderr",
     "output_type": "stream",
     "text": [
      "INFO:prophet:Disabling yearly seasonality. Run prophet with yearly_seasonality=True to override this.\n"
     ]
    },
    {
     "name": "stdout",
     "output_type": "stream",
     "text": [
      "Tuning Iteration: 3\n"
     ]
    },
    {
     "name": "stderr",
     "output_type": "stream",
     "text": [
      "INFO:prophet:Disabling yearly seasonality. Run prophet with yearly_seasonality=True to override this.\n"
     ]
    },
    {
     "name": "stdout",
     "output_type": "stream",
     "text": [
      "Tuning Iteration: 4\n"
     ]
    },
    {
     "name": "stderr",
     "output_type": "stream",
     "text": [
      "INFO:prophet:Disabling yearly seasonality. Run prophet with yearly_seasonality=True to override this.\n"
     ]
    },
    {
     "name": "stdout",
     "output_type": "stream",
     "text": [
      "Tuning Iteration: 5\n"
     ]
    },
    {
     "name": "stderr",
     "output_type": "stream",
     "text": [
      "INFO:prophet:Disabling yearly seasonality. Run prophet with yearly_seasonality=True to override this.\n"
     ]
    },
    {
     "name": "stdout",
     "output_type": "stream",
     "text": [
      "Tuning Iteration: 6\n"
     ]
    },
    {
     "name": "stderr",
     "output_type": "stream",
     "text": [
      "INFO:prophet:Disabling yearly seasonality. Run prophet with yearly_seasonality=True to override this.\n"
     ]
    },
    {
     "name": "stdout",
     "output_type": "stream",
     "text": [
      "Tuning Iteration: 7\n",
      "Median Percent Error of Range: 16.257267535709367\n",
      "Best Parameters: \n",
      "{'seasonality_mode': 'additive', 'n_changepoints': 200, 'changepoint_prior_scale': 0.5}\n",
      "XGBoost......\n",
      "Predict Length: 31\n",
      "Median Percent Error of Range: 3.490137403239192\n"
     ]
    },
    {
     "name": "stderr",
     "output_type": "stream",
     "text": [
      "INFO:prophet:Disabling yearly seasonality. Run prophet with yearly_seasonality=True to override this.\n"
     ]
    },
    {
     "name": "stdout",
     "output_type": "stream",
     "text": [
      "\n",
      "###########################################################\n",
      "File: 1169_1.pkl\n",
      "Length on load: 26304\n",
      "Length after agg: 1096\n",
      "Dropped N/A cols: 0\n",
      "Length after blank drop: 1096\n",
      "\n",
      "Prophet...... Tuning Prophet....\n",
      "Tuning Iteration: 0\n"
     ]
    },
    {
     "name": "stderr",
     "output_type": "stream",
     "text": [
      "INFO:prophet:Disabling yearly seasonality. Run prophet with yearly_seasonality=True to override this.\n"
     ]
    },
    {
     "name": "stdout",
     "output_type": "stream",
     "text": [
      "Tuning Iteration: 1\n"
     ]
    },
    {
     "name": "stderr",
     "output_type": "stream",
     "text": [
      "INFO:prophet:Disabling yearly seasonality. Run prophet with yearly_seasonality=True to override this.\n"
     ]
    },
    {
     "name": "stdout",
     "output_type": "stream",
     "text": [
      "Tuning Iteration: 2\n"
     ]
    },
    {
     "name": "stderr",
     "output_type": "stream",
     "text": [
      "INFO:prophet:Disabling yearly seasonality. Run prophet with yearly_seasonality=True to override this.\n"
     ]
    },
    {
     "name": "stdout",
     "output_type": "stream",
     "text": [
      "Tuning Iteration: 3\n"
     ]
    },
    {
     "name": "stderr",
     "output_type": "stream",
     "text": [
      "INFO:prophet:Disabling yearly seasonality. Run prophet with yearly_seasonality=True to override this.\n"
     ]
    },
    {
     "name": "stdout",
     "output_type": "stream",
     "text": [
      "Tuning Iteration: 4\n"
     ]
    },
    {
     "name": "stderr",
     "output_type": "stream",
     "text": [
      "INFO:prophet:Disabling yearly seasonality. Run prophet with yearly_seasonality=True to override this.\n"
     ]
    },
    {
     "name": "stdout",
     "output_type": "stream",
     "text": [
      "Tuning Iteration: 5\n"
     ]
    },
    {
     "name": "stderr",
     "output_type": "stream",
     "text": [
      "INFO:prophet:Disabling yearly seasonality. Run prophet with yearly_seasonality=True to override this.\n"
     ]
    },
    {
     "name": "stdout",
     "output_type": "stream",
     "text": [
      "Tuning Iteration: 6\n"
     ]
    },
    {
     "name": "stderr",
     "output_type": "stream",
     "text": [
      "INFO:prophet:Disabling yearly seasonality. Run prophet with yearly_seasonality=True to override this.\n"
     ]
    },
    {
     "name": "stdout",
     "output_type": "stream",
     "text": [
      "Tuning Iteration: 7\n",
      "Median Percent Error of Range: 20.832102057232813\n",
      "Best Parameters: \n",
      "{'seasonality_mode': 'additive', 'n_changepoints': 100, 'changepoint_prior_scale': 0.5}\n",
      "XGBoost......\n",
      "Predict Length: 31\n",
      "Median Percent Error of Range: 7.925893799528638\n"
     ]
    },
    {
     "name": "stderr",
     "output_type": "stream",
     "text": [
      "INFO:prophet:Disabling yearly seasonality. Run prophet with yearly_seasonality=True to override this.\n"
     ]
    },
    {
     "name": "stdout",
     "output_type": "stream",
     "text": [
      "\n",
      "###########################################################\n",
      "File: 1171_0.pkl\n",
      "Length on load: 26304\n",
      "Length after agg: 1096\n",
      "Dropped N/A cols: 0\n",
      "Length after blank drop: 1096\n",
      "\n",
      "Prophet...... Tuning Prophet....\n",
      "Tuning Iteration: 0\n"
     ]
    },
    {
     "name": "stderr",
     "output_type": "stream",
     "text": [
      "INFO:prophet:Disabling yearly seasonality. Run prophet with yearly_seasonality=True to override this.\n"
     ]
    },
    {
     "name": "stdout",
     "output_type": "stream",
     "text": [
      "Tuning Iteration: 1\n"
     ]
    },
    {
     "name": "stderr",
     "output_type": "stream",
     "text": [
      "INFO:prophet:Disabling yearly seasonality. Run prophet with yearly_seasonality=True to override this.\n"
     ]
    },
    {
     "name": "stdout",
     "output_type": "stream",
     "text": [
      "Tuning Iteration: 2\n"
     ]
    },
    {
     "name": "stderr",
     "output_type": "stream",
     "text": [
      "INFO:prophet:Disabling yearly seasonality. Run prophet with yearly_seasonality=True to override this.\n"
     ]
    },
    {
     "name": "stdout",
     "output_type": "stream",
     "text": [
      "Tuning Iteration: 3\n"
     ]
    },
    {
     "name": "stderr",
     "output_type": "stream",
     "text": [
      "INFO:prophet:Disabling yearly seasonality. Run prophet with yearly_seasonality=True to override this.\n"
     ]
    },
    {
     "name": "stdout",
     "output_type": "stream",
     "text": [
      "Tuning Iteration: 4\n"
     ]
    },
    {
     "name": "stderr",
     "output_type": "stream",
     "text": [
      "INFO:prophet:Disabling yearly seasonality. Run prophet with yearly_seasonality=True to override this.\n"
     ]
    },
    {
     "name": "stdout",
     "output_type": "stream",
     "text": [
      "Tuning Iteration: 5\n"
     ]
    },
    {
     "name": "stderr",
     "output_type": "stream",
     "text": [
      "INFO:prophet:Disabling yearly seasonality. Run prophet with yearly_seasonality=True to override this.\n"
     ]
    },
    {
     "name": "stdout",
     "output_type": "stream",
     "text": [
      "Tuning Iteration: 6\n"
     ]
    },
    {
     "name": "stderr",
     "output_type": "stream",
     "text": [
      "INFO:prophet:Disabling yearly seasonality. Run prophet with yearly_seasonality=True to override this.\n"
     ]
    },
    {
     "name": "stdout",
     "output_type": "stream",
     "text": [
      "Tuning Iteration: 7\n",
      "Median Percent Error of Range: 19.069250350465303\n",
      "Best Parameters: \n",
      "{'seasonality_mode': 'multiplicative', 'n_changepoints': 200, 'changepoint_prior_scale': 0.5}\n",
      "XGBoost......\n",
      "Predict Length: 31\n",
      "Median Percent Error of Range: 18.984496437011956\n"
     ]
    },
    {
     "name": "stderr",
     "output_type": "stream",
     "text": [
      "INFO:prophet:Disabling yearly seasonality. Run prophet with yearly_seasonality=True to override this.\n"
     ]
    },
    {
     "name": "stdout",
     "output_type": "stream",
     "text": [
      "\n",
      "###########################################################\n",
      "File: 1175_0.pkl\n",
      "Length on load: 26304\n",
      "Length after agg: 1096\n",
      "Dropped N/A cols: 0\n",
      "Length after blank drop: 1096\n",
      "\n",
      "Prophet...... Tuning Prophet....\n",
      "Tuning Iteration: 0\n"
     ]
    },
    {
     "name": "stderr",
     "output_type": "stream",
     "text": [
      "INFO:prophet:Disabling yearly seasonality. Run prophet with yearly_seasonality=True to override this.\n"
     ]
    },
    {
     "name": "stdout",
     "output_type": "stream",
     "text": [
      "Tuning Iteration: 1\n"
     ]
    },
    {
     "name": "stderr",
     "output_type": "stream",
     "text": [
      "INFO:prophet:Disabling yearly seasonality. Run prophet with yearly_seasonality=True to override this.\n"
     ]
    },
    {
     "name": "stdout",
     "output_type": "stream",
     "text": [
      "Tuning Iteration: 2\n"
     ]
    },
    {
     "name": "stderr",
     "output_type": "stream",
     "text": [
      "INFO:prophet:Disabling yearly seasonality. Run prophet with yearly_seasonality=True to override this.\n"
     ]
    },
    {
     "name": "stdout",
     "output_type": "stream",
     "text": [
      "Tuning Iteration: 3\n"
     ]
    },
    {
     "name": "stderr",
     "output_type": "stream",
     "text": [
      "INFO:prophet:Disabling yearly seasonality. Run prophet with yearly_seasonality=True to override this.\n"
     ]
    },
    {
     "name": "stdout",
     "output_type": "stream",
     "text": [
      "Tuning Iteration: 4\n"
     ]
    },
    {
     "name": "stderr",
     "output_type": "stream",
     "text": [
      "INFO:prophet:Disabling yearly seasonality. Run prophet with yearly_seasonality=True to override this.\n"
     ]
    },
    {
     "name": "stdout",
     "output_type": "stream",
     "text": [
      "Tuning Iteration: 5\n"
     ]
    },
    {
     "name": "stderr",
     "output_type": "stream",
     "text": [
      "INFO:prophet:Disabling yearly seasonality. Run prophet with yearly_seasonality=True to override this.\n"
     ]
    },
    {
     "name": "stdout",
     "output_type": "stream",
     "text": [
      "Tuning Iteration: 6\n"
     ]
    },
    {
     "name": "stderr",
     "output_type": "stream",
     "text": [
      "INFO:prophet:Disabling yearly seasonality. Run prophet with yearly_seasonality=True to override this.\n"
     ]
    },
    {
     "name": "stdout",
     "output_type": "stream",
     "text": [
      "Tuning Iteration: 7\n",
      "Median Percent Error of Range: 5.781042683517675\n",
      "Best Parameters: \n",
      "{'seasonality_mode': 'additive', 'n_changepoints': 200, 'changepoint_prior_scale': 0.1}\n",
      "XGBoost......\n",
      "Predict Length: 31\n",
      "Median Percent Error of Range: 10.898758675930091\n",
      "\n",
      "###########################################################\n",
      "File: 1178_0.pkl\n",
      "Length on load: 26304\n",
      "Length after agg: 1096\n",
      "Dropped N/A cols: 0\n",
      "Length after blank drop: 1096\n",
      "\n",
      "Prophet...... Tuning Prophet....\n",
      "Tuning Iteration: 0\n"
     ]
    },
    {
     "name": "stderr",
     "output_type": "stream",
     "text": [
      "INFO:prophet:Disabling yearly seasonality. Run prophet with yearly_seasonality=True to override this.\n",
      "INFO:prophet:Disabling yearly seasonality. Run prophet with yearly_seasonality=True to override this.\n"
     ]
    },
    {
     "name": "stdout",
     "output_type": "stream",
     "text": [
      "Tuning Iteration: 1\n"
     ]
    },
    {
     "name": "stderr",
     "output_type": "stream",
     "text": [
      "INFO:prophet:Disabling yearly seasonality. Run prophet with yearly_seasonality=True to override this.\n"
     ]
    },
    {
     "name": "stdout",
     "output_type": "stream",
     "text": [
      "Tuning Iteration: 2\n"
     ]
    },
    {
     "name": "stderr",
     "output_type": "stream",
     "text": [
      "INFO:prophet:Disabling yearly seasonality. Run prophet with yearly_seasonality=True to override this.\n"
     ]
    },
    {
     "name": "stdout",
     "output_type": "stream",
     "text": [
      "Tuning Iteration: 3\n"
     ]
    },
    {
     "name": "stderr",
     "output_type": "stream",
     "text": [
      "INFO:prophet:Disabling yearly seasonality. Run prophet with yearly_seasonality=True to override this.\n"
     ]
    },
    {
     "name": "stdout",
     "output_type": "stream",
     "text": [
      "Tuning Iteration: 4\n"
     ]
    },
    {
     "name": "stderr",
     "output_type": "stream",
     "text": [
      "INFO:prophet:Disabling yearly seasonality. Run prophet with yearly_seasonality=True to override this.\n"
     ]
    },
    {
     "name": "stdout",
     "output_type": "stream",
     "text": [
      "Tuning Iteration: 5\n"
     ]
    },
    {
     "name": "stderr",
     "output_type": "stream",
     "text": [
      "INFO:prophet:Disabling yearly seasonality. Run prophet with yearly_seasonality=True to override this.\n"
     ]
    },
    {
     "name": "stdout",
     "output_type": "stream",
     "text": [
      "Tuning Iteration: 6\n"
     ]
    },
    {
     "name": "stderr",
     "output_type": "stream",
     "text": [
      "INFO:prophet:Disabling yearly seasonality. Run prophet with yearly_seasonality=True to override this.\n"
     ]
    },
    {
     "name": "stdout",
     "output_type": "stream",
     "text": [
      "Tuning Iteration: 7\n",
      "Median Percent Error of Range: 14.669194185871707\n",
      "Best Parameters: \n",
      "{'seasonality_mode': 'multiplicative', 'n_changepoints': 200, 'changepoint_prior_scale': 0.5}\n",
      "XGBoost......\n",
      "Predict Length: 31\n",
      "Median Percent Error of Range: 14.420708225178341\n"
     ]
    },
    {
     "name": "stderr",
     "output_type": "stream",
     "text": [
      "INFO:prophet:Disabling yearly seasonality. Run prophet with yearly_seasonality=True to override this.\n"
     ]
    },
    {
     "name": "stdout",
     "output_type": "stream",
     "text": [
      "\n",
      "###########################################################\n",
      "File: 1179_1.pkl\n",
      "Length on load: 26304\n",
      "Length after agg: 1096\n",
      "Dropped N/A cols: 0\n",
      "Length after blank drop: 1096\n",
      "\n",
      "Prophet...... Tuning Prophet....\n",
      "Tuning Iteration: 0\n"
     ]
    },
    {
     "name": "stderr",
     "output_type": "stream",
     "text": [
      "INFO:prophet:Disabling yearly seasonality. Run prophet with yearly_seasonality=True to override this.\n"
     ]
    },
    {
     "name": "stdout",
     "output_type": "stream",
     "text": [
      "Tuning Iteration: 1\n"
     ]
    },
    {
     "name": "stderr",
     "output_type": "stream",
     "text": [
      "INFO:prophet:Disabling yearly seasonality. Run prophet with yearly_seasonality=True to override this.\n"
     ]
    },
    {
     "name": "stdout",
     "output_type": "stream",
     "text": [
      "Tuning Iteration: 2\n"
     ]
    },
    {
     "name": "stderr",
     "output_type": "stream",
     "text": [
      "INFO:prophet:Disabling yearly seasonality. Run prophet with yearly_seasonality=True to override this.\n"
     ]
    },
    {
     "name": "stdout",
     "output_type": "stream",
     "text": [
      "Tuning Iteration: 3\n"
     ]
    },
    {
     "name": "stderr",
     "output_type": "stream",
     "text": [
      "INFO:prophet:Disabling yearly seasonality. Run prophet with yearly_seasonality=True to override this.\n"
     ]
    },
    {
     "name": "stdout",
     "output_type": "stream",
     "text": [
      "Tuning Iteration: 4\n"
     ]
    },
    {
     "name": "stderr",
     "output_type": "stream",
     "text": [
      "INFO:prophet:Disabling yearly seasonality. Run prophet with yearly_seasonality=True to override this.\n"
     ]
    },
    {
     "name": "stdout",
     "output_type": "stream",
     "text": [
      "Tuning Iteration: 5\n"
     ]
    },
    {
     "name": "stderr",
     "output_type": "stream",
     "text": [
      "INFO:prophet:Disabling yearly seasonality. Run prophet with yearly_seasonality=True to override this.\n"
     ]
    },
    {
     "name": "stdout",
     "output_type": "stream",
     "text": [
      "Tuning Iteration: 6\n"
     ]
    },
    {
     "name": "stderr",
     "output_type": "stream",
     "text": [
      "INFO:prophet:Disabling yearly seasonality. Run prophet with yearly_seasonality=True to override this.\n"
     ]
    },
    {
     "name": "stdout",
     "output_type": "stream",
     "text": [
      "Tuning Iteration: 7\n",
      "Median Percent Error of Range: 11.185767798080466\n",
      "Best Parameters: \n",
      "{'seasonality_mode': 'multiplicative', 'n_changepoints': 200, 'changepoint_prior_scale': 0.5}\n",
      "XGBoost......\n",
      "Predict Length: 31\n",
      "Median Percent Error of Range: 15.499043962667786\n"
     ]
    },
    {
     "name": "stderr",
     "output_type": "stream",
     "text": [
      "INFO:prophet:Disabling yearly seasonality. Run prophet with yearly_seasonality=True to override this.\n"
     ]
    },
    {
     "name": "stdout",
     "output_type": "stream",
     "text": [
      "\n",
      "###########################################################\n",
      "File: 1180_2.pkl\n",
      "Length on load: 26304\n",
      "Length after agg: 1096\n",
      "Dropped N/A cols: 0\n",
      "Length after blank drop: 1096\n",
      "\n",
      "Prophet...... Tuning Prophet....\n",
      "Tuning Iteration: 0\n"
     ]
    },
    {
     "name": "stderr",
     "output_type": "stream",
     "text": [
      "INFO:prophet:Disabling yearly seasonality. Run prophet with yearly_seasonality=True to override this.\n"
     ]
    },
    {
     "name": "stdout",
     "output_type": "stream",
     "text": [
      "Tuning Iteration: 1\n"
     ]
    },
    {
     "name": "stderr",
     "output_type": "stream",
     "text": [
      "INFO:prophet:Disabling yearly seasonality. Run prophet with yearly_seasonality=True to override this.\n"
     ]
    },
    {
     "name": "stdout",
     "output_type": "stream",
     "text": [
      "Tuning Iteration: 2\n"
     ]
    },
    {
     "name": "stderr",
     "output_type": "stream",
     "text": [
      "INFO:prophet:Disabling yearly seasonality. Run prophet with yearly_seasonality=True to override this.\n"
     ]
    },
    {
     "name": "stdout",
     "output_type": "stream",
     "text": [
      "Tuning Iteration: 3\n"
     ]
    },
    {
     "name": "stderr",
     "output_type": "stream",
     "text": [
      "INFO:prophet:Disabling yearly seasonality. Run prophet with yearly_seasonality=True to override this.\n"
     ]
    },
    {
     "name": "stdout",
     "output_type": "stream",
     "text": [
      "Tuning Iteration: 4\n"
     ]
    },
    {
     "name": "stderr",
     "output_type": "stream",
     "text": [
      "INFO:prophet:Disabling yearly seasonality. Run prophet with yearly_seasonality=True to override this.\n"
     ]
    },
    {
     "name": "stdout",
     "output_type": "stream",
     "text": [
      "Tuning Iteration: 5\n"
     ]
    },
    {
     "name": "stderr",
     "output_type": "stream",
     "text": [
      "INFO:prophet:Disabling yearly seasonality. Run prophet with yearly_seasonality=True to override this.\n"
     ]
    },
    {
     "name": "stdout",
     "output_type": "stream",
     "text": [
      "Tuning Iteration: 6\n"
     ]
    },
    {
     "name": "stderr",
     "output_type": "stream",
     "text": [
      "INFO:prophet:Disabling yearly seasonality. Run prophet with yearly_seasonality=True to override this.\n"
     ]
    },
    {
     "name": "stdout",
     "output_type": "stream",
     "text": [
      "Tuning Iteration: 7\n",
      "Median Percent Error of Range: 10.93824923083035\n",
      "Best Parameters: \n",
      "{'seasonality_mode': 'additive', 'n_changepoints': 200, 'changepoint_prior_scale': 0.5}\n",
      "XGBoost......\n",
      "Predict Length: 31\n",
      "Median Percent Error of Range: 10.880650595788985\n"
     ]
    },
    {
     "name": "stderr",
     "output_type": "stream",
     "text": [
      "INFO:prophet:Disabling yearly seasonality. Run prophet with yearly_seasonality=True to override this.\n"
     ]
    },
    {
     "name": "stdout",
     "output_type": "stream",
     "text": [
      "\n",
      "###########################################################\n",
      "File: 1183_0.pkl\n",
      "Length on load: 26304\n",
      "Length after agg: 1096\n",
      "Dropped N/A cols: 0\n",
      "Length after blank drop: 1096\n",
      "\n",
      "Prophet...... Tuning Prophet....\n",
      "Tuning Iteration: 0\n"
     ]
    },
    {
     "name": "stderr",
     "output_type": "stream",
     "text": [
      "INFO:prophet:Disabling yearly seasonality. Run prophet with yearly_seasonality=True to override this.\n"
     ]
    },
    {
     "name": "stdout",
     "output_type": "stream",
     "text": [
      "Tuning Iteration: 1\n"
     ]
    },
    {
     "name": "stderr",
     "output_type": "stream",
     "text": [
      "INFO:prophet:Disabling yearly seasonality. Run prophet with yearly_seasonality=True to override this.\n"
     ]
    },
    {
     "name": "stdout",
     "output_type": "stream",
     "text": [
      "Tuning Iteration: 2\n"
     ]
    },
    {
     "name": "stderr",
     "output_type": "stream",
     "text": [
      "INFO:prophet:Disabling yearly seasonality. Run prophet with yearly_seasonality=True to override this.\n"
     ]
    },
    {
     "name": "stdout",
     "output_type": "stream",
     "text": [
      "Tuning Iteration: 3\n"
     ]
    },
    {
     "name": "stderr",
     "output_type": "stream",
     "text": [
      "INFO:prophet:Disabling yearly seasonality. Run prophet with yearly_seasonality=True to override this.\n"
     ]
    },
    {
     "name": "stdout",
     "output_type": "stream",
     "text": [
      "Tuning Iteration: 4\n"
     ]
    },
    {
     "name": "stderr",
     "output_type": "stream",
     "text": [
      "INFO:prophet:Disabling yearly seasonality. Run prophet with yearly_seasonality=True to override this.\n"
     ]
    },
    {
     "name": "stdout",
     "output_type": "stream",
     "text": [
      "Tuning Iteration: 5\n"
     ]
    },
    {
     "name": "stderr",
     "output_type": "stream",
     "text": [
      "INFO:prophet:Disabling yearly seasonality. Run prophet with yearly_seasonality=True to override this.\n"
     ]
    },
    {
     "name": "stdout",
     "output_type": "stream",
     "text": [
      "Tuning Iteration: 6\n"
     ]
    },
    {
     "name": "stderr",
     "output_type": "stream",
     "text": [
      "INFO:prophet:Disabling yearly seasonality. Run prophet with yearly_seasonality=True to override this.\n"
     ]
    },
    {
     "name": "stdout",
     "output_type": "stream",
     "text": [
      "Tuning Iteration: 7\n",
      "Median Percent Error of Range: 14.238533271282684\n",
      "Best Parameters: \n",
      "{'seasonality_mode': 'additive', 'n_changepoints': 200, 'changepoint_prior_scale': 0.1}\n",
      "XGBoost......\n",
      "Predict Length: 31\n",
      "Median Percent Error of Range: 18.426705262733975\n"
     ]
    },
    {
     "name": "stderr",
     "output_type": "stream",
     "text": [
      "INFO:prophet:Disabling yearly seasonality. Run prophet with yearly_seasonality=True to override this.\n"
     ]
    },
    {
     "name": "stdout",
     "output_type": "stream",
     "text": [
      "\n",
      "###########################################################\n",
      "File: 1184_0.pkl\n",
      "Length on load: 26304\n",
      "Length after agg: 1096\n",
      "Dropped N/A cols: 0\n",
      "Length after blank drop: 1096\n",
      "\n",
      "Prophet...... Tuning Prophet....\n",
      "Tuning Iteration: 0\n"
     ]
    },
    {
     "name": "stderr",
     "output_type": "stream",
     "text": [
      "INFO:prophet:Disabling yearly seasonality. Run prophet with yearly_seasonality=True to override this.\n"
     ]
    },
    {
     "name": "stdout",
     "output_type": "stream",
     "text": [
      "Tuning Iteration: 1\n"
     ]
    },
    {
     "name": "stderr",
     "output_type": "stream",
     "text": [
      "INFO:prophet:Disabling yearly seasonality. Run prophet with yearly_seasonality=True to override this.\n"
     ]
    },
    {
     "name": "stdout",
     "output_type": "stream",
     "text": [
      "Tuning Iteration: 2\n"
     ]
    },
    {
     "name": "stderr",
     "output_type": "stream",
     "text": [
      "INFO:prophet:Disabling yearly seasonality. Run prophet with yearly_seasonality=True to override this.\n"
     ]
    },
    {
     "name": "stdout",
     "output_type": "stream",
     "text": [
      "Tuning Iteration: 3\n"
     ]
    },
    {
     "name": "stderr",
     "output_type": "stream",
     "text": [
      "INFO:prophet:Disabling yearly seasonality. Run prophet with yearly_seasonality=True to override this.\n"
     ]
    },
    {
     "name": "stdout",
     "output_type": "stream",
     "text": [
      "Tuning Iteration: 4\n"
     ]
    },
    {
     "name": "stderr",
     "output_type": "stream",
     "text": [
      "INFO:prophet:Disabling yearly seasonality. Run prophet with yearly_seasonality=True to override this.\n"
     ]
    },
    {
     "name": "stdout",
     "output_type": "stream",
     "text": [
      "Tuning Iteration: 5\n"
     ]
    },
    {
     "name": "stderr",
     "output_type": "stream",
     "text": [
      "INFO:prophet:Disabling yearly seasonality. Run prophet with yearly_seasonality=True to override this.\n"
     ]
    },
    {
     "name": "stdout",
     "output_type": "stream",
     "text": [
      "Tuning Iteration: 6\n"
     ]
    },
    {
     "name": "stderr",
     "output_type": "stream",
     "text": [
      "INFO:prophet:Disabling yearly seasonality. Run prophet with yearly_seasonality=True to override this.\n"
     ]
    },
    {
     "name": "stdout",
     "output_type": "stream",
     "text": [
      "Tuning Iteration: 7\n",
      "Median Percent Error of Range: 10.4970673805214\n",
      "Best Parameters: \n",
      "{'seasonality_mode': 'multiplicative', 'n_changepoints': 100, 'changepoint_prior_scale': 0.5}\n",
      "XGBoost......\n",
      "Predict Length: 31\n",
      "Median Percent Error of Range: 19.153211024378116\n"
     ]
    },
    {
     "name": "stderr",
     "output_type": "stream",
     "text": [
      "INFO:prophet:Disabling yearly seasonality. Run prophet with yearly_seasonality=True to override this.\n"
     ]
    },
    {
     "name": "stdout",
     "output_type": "stream",
     "text": [
      "\n",
      "###########################################################\n",
      "File: 1188_0.pkl\n",
      "Length on load: 26304\n",
      "Length after agg: 1096\n",
      "Dropped N/A cols: 0\n",
      "Length after blank drop: 1096\n",
      "\n",
      "Prophet...... Tuning Prophet....\n",
      "Tuning Iteration: 0\n"
     ]
    },
    {
     "name": "stderr",
     "output_type": "stream",
     "text": [
      "INFO:prophet:Disabling yearly seasonality. Run prophet with yearly_seasonality=True to override this.\n"
     ]
    },
    {
     "name": "stdout",
     "output_type": "stream",
     "text": [
      "Tuning Iteration: 1\n"
     ]
    },
    {
     "name": "stderr",
     "output_type": "stream",
     "text": [
      "INFO:prophet:Disabling yearly seasonality. Run prophet with yearly_seasonality=True to override this.\n"
     ]
    },
    {
     "name": "stdout",
     "output_type": "stream",
     "text": [
      "Tuning Iteration: 2\n"
     ]
    },
    {
     "name": "stderr",
     "output_type": "stream",
     "text": [
      "INFO:prophet:Disabling yearly seasonality. Run prophet with yearly_seasonality=True to override this.\n"
     ]
    },
    {
     "name": "stdout",
     "output_type": "stream",
     "text": [
      "Tuning Iteration: 3\n"
     ]
    },
    {
     "name": "stderr",
     "output_type": "stream",
     "text": [
      "INFO:prophet:Disabling yearly seasonality. Run prophet with yearly_seasonality=True to override this.\n"
     ]
    },
    {
     "name": "stdout",
     "output_type": "stream",
     "text": [
      "Tuning Iteration: 4\n"
     ]
    },
    {
     "name": "stderr",
     "output_type": "stream",
     "text": [
      "INFO:prophet:Disabling yearly seasonality. Run prophet with yearly_seasonality=True to override this.\n"
     ]
    },
    {
     "name": "stdout",
     "output_type": "stream",
     "text": [
      "Tuning Iteration: 5\n"
     ]
    },
    {
     "name": "stderr",
     "output_type": "stream",
     "text": [
      "INFO:prophet:Disabling yearly seasonality. Run prophet with yearly_seasonality=True to override this.\n"
     ]
    },
    {
     "name": "stdout",
     "output_type": "stream",
     "text": [
      "Tuning Iteration: 6\n"
     ]
    },
    {
     "name": "stderr",
     "output_type": "stream",
     "text": [
      "INFO:prophet:Disabling yearly seasonality. Run prophet with yearly_seasonality=True to override this.\n"
     ]
    },
    {
     "name": "stdout",
     "output_type": "stream",
     "text": [
      "Tuning Iteration: 7\n",
      "Median Percent Error of Range: 15.118936494529573\n",
      "Best Parameters: \n",
      "{'seasonality_mode': 'additive', 'n_changepoints': 100, 'changepoint_prior_scale': 0.1}\n",
      "XGBoost......\n",
      "Predict Length: 31\n",
      "Median Percent Error of Range: 13.741511537611276\n"
     ]
    },
    {
     "name": "stderr",
     "output_type": "stream",
     "text": [
      "INFO:prophet:Disabling yearly seasonality. Run prophet with yearly_seasonality=True to override this.\n"
     ]
    },
    {
     "name": "stdout",
     "output_type": "stream",
     "text": [
      "\n",
      "###########################################################\n",
      "File: 1196_0.pkl\n",
      "Length on load: 26304\n",
      "Length after agg: 1096\n",
      "Dropped N/A cols: 0\n",
      "Length after blank drop: 1096\n",
      "\n",
      "Prophet...... Tuning Prophet....\n",
      "Tuning Iteration: 0\n"
     ]
    },
    {
     "name": "stderr",
     "output_type": "stream",
     "text": [
      "INFO:prophet:Disabling yearly seasonality. Run prophet with yearly_seasonality=True to override this.\n"
     ]
    },
    {
     "name": "stdout",
     "output_type": "stream",
     "text": [
      "Tuning Iteration: 1\n"
     ]
    },
    {
     "name": "stderr",
     "output_type": "stream",
     "text": [
      "INFO:prophet:Disabling yearly seasonality. Run prophet with yearly_seasonality=True to override this.\n"
     ]
    },
    {
     "name": "stdout",
     "output_type": "stream",
     "text": [
      "Tuning Iteration: 2\n"
     ]
    },
    {
     "name": "stderr",
     "output_type": "stream",
     "text": [
      "INFO:prophet:Disabling yearly seasonality. Run prophet with yearly_seasonality=True to override this.\n"
     ]
    },
    {
     "name": "stdout",
     "output_type": "stream",
     "text": [
      "Tuning Iteration: 3\n"
     ]
    },
    {
     "name": "stderr",
     "output_type": "stream",
     "text": [
      "INFO:prophet:Disabling yearly seasonality. Run prophet with yearly_seasonality=True to override this.\n"
     ]
    },
    {
     "name": "stdout",
     "output_type": "stream",
     "text": [
      "Tuning Iteration: 4\n"
     ]
    },
    {
     "name": "stderr",
     "output_type": "stream",
     "text": [
      "INFO:prophet:Disabling yearly seasonality. Run prophet with yearly_seasonality=True to override this.\n"
     ]
    },
    {
     "name": "stdout",
     "output_type": "stream",
     "text": [
      "Tuning Iteration: 5\n"
     ]
    },
    {
     "name": "stderr",
     "output_type": "stream",
     "text": [
      "INFO:prophet:Disabling yearly seasonality. Run prophet with yearly_seasonality=True to override this.\n"
     ]
    },
    {
     "name": "stdout",
     "output_type": "stream",
     "text": [
      "Tuning Iteration: 6\n"
     ]
    },
    {
     "name": "stderr",
     "output_type": "stream",
     "text": [
      "INFO:prophet:Disabling yearly seasonality. Run prophet with yearly_seasonality=True to override this.\n"
     ]
    },
    {
     "name": "stdout",
     "output_type": "stream",
     "text": [
      "Tuning Iteration: 7\n",
      "Median Percent Error of Range: 12.10825042705708\n",
      "Best Parameters: \n",
      "{'seasonality_mode': 'multiplicative', 'n_changepoints': 200, 'changepoint_prior_scale': 0.5}\n",
      "XGBoost......\n",
      "Predict Length: 31\n",
      "Median Percent Error of Range: 12.81519090411147\n"
     ]
    },
    {
     "name": "stderr",
     "output_type": "stream",
     "text": [
      "INFO:prophet:Disabling yearly seasonality. Run prophet with yearly_seasonality=True to override this.\n"
     ]
    },
    {
     "name": "stdout",
     "output_type": "stream",
     "text": [
      "\n",
      "###########################################################\n",
      "File: 1197_0.pkl\n",
      "Length on load: 26304\n",
      "Length after agg: 1096\n",
      "Dropped N/A cols: 0\n",
      "Length after blank drop: 1096\n",
      "\n",
      "Prophet...... Tuning Prophet....\n",
      "Tuning Iteration: 0\n"
     ]
    },
    {
     "name": "stderr",
     "output_type": "stream",
     "text": [
      "INFO:prophet:Disabling yearly seasonality. Run prophet with yearly_seasonality=True to override this.\n"
     ]
    },
    {
     "name": "stdout",
     "output_type": "stream",
     "text": [
      "Tuning Iteration: 1\n"
     ]
    },
    {
     "name": "stderr",
     "output_type": "stream",
     "text": [
      "INFO:prophet:Disabling yearly seasonality. Run prophet with yearly_seasonality=True to override this.\n"
     ]
    },
    {
     "name": "stdout",
     "output_type": "stream",
     "text": [
      "Tuning Iteration: 2\n"
     ]
    },
    {
     "name": "stderr",
     "output_type": "stream",
     "text": [
      "INFO:prophet:Disabling yearly seasonality. Run prophet with yearly_seasonality=True to override this.\n"
     ]
    },
    {
     "name": "stdout",
     "output_type": "stream",
     "text": [
      "Tuning Iteration: 3\n"
     ]
    },
    {
     "name": "stderr",
     "output_type": "stream",
     "text": [
      "INFO:prophet:Disabling yearly seasonality. Run prophet with yearly_seasonality=True to override this.\n"
     ]
    },
    {
     "name": "stdout",
     "output_type": "stream",
     "text": [
      "Tuning Iteration: 4\n"
     ]
    },
    {
     "name": "stderr",
     "output_type": "stream",
     "text": [
      "INFO:prophet:Disabling yearly seasonality. Run prophet with yearly_seasonality=True to override this.\n"
     ]
    },
    {
     "name": "stdout",
     "output_type": "stream",
     "text": [
      "Tuning Iteration: 5\n"
     ]
    },
    {
     "name": "stderr",
     "output_type": "stream",
     "text": [
      "INFO:prophet:Disabling yearly seasonality. Run prophet with yearly_seasonality=True to override this.\n"
     ]
    },
    {
     "name": "stdout",
     "output_type": "stream",
     "text": [
      "Tuning Iteration: 6\n"
     ]
    },
    {
     "name": "stderr",
     "output_type": "stream",
     "text": [
      "INFO:prophet:Disabling yearly seasonality. Run prophet with yearly_seasonality=True to override this.\n"
     ]
    },
    {
     "name": "stdout",
     "output_type": "stream",
     "text": [
      "Tuning Iteration: 7\n",
      "Median Percent Error of Range: 20.13334807992429\n",
      "Best Parameters: \n",
      "{'seasonality_mode': 'multiplicative', 'n_changepoints': 200, 'changepoint_prior_scale': 0.5}\n",
      "XGBoost......\n",
      "Predict Length: 31\n",
      "Median Percent Error of Range: 27.22983571573226\n"
     ]
    },
    {
     "name": "stderr",
     "output_type": "stream",
     "text": [
      "INFO:prophet:Disabling yearly seasonality. Run prophet with yearly_seasonality=True to override this.\n"
     ]
    },
    {
     "name": "stdout",
     "output_type": "stream",
     "text": [
      "\n",
      "###########################################################\n",
      "File: 1198_2.pkl\n",
      "Length on load: 26304\n",
      "Length after agg: 1096\n",
      "Dropped N/A cols: 0\n",
      "Length after blank drop: 1096\n",
      "\n",
      "Prophet...... Tuning Prophet....\n",
      "Tuning Iteration: 0\n"
     ]
    },
    {
     "name": "stderr",
     "output_type": "stream",
     "text": [
      "INFO:prophet:Disabling yearly seasonality. Run prophet with yearly_seasonality=True to override this.\n"
     ]
    },
    {
     "name": "stdout",
     "output_type": "stream",
     "text": [
      "Tuning Iteration: 1\n"
     ]
    },
    {
     "name": "stderr",
     "output_type": "stream",
     "text": [
      "INFO:prophet:Disabling yearly seasonality. Run prophet with yearly_seasonality=True to override this.\n"
     ]
    },
    {
     "name": "stdout",
     "output_type": "stream",
     "text": [
      "Tuning Iteration: 2\n"
     ]
    },
    {
     "name": "stderr",
     "output_type": "stream",
     "text": [
      "INFO:prophet:Disabling yearly seasonality. Run prophet with yearly_seasonality=True to override this.\n"
     ]
    },
    {
     "name": "stdout",
     "output_type": "stream",
     "text": [
      "Tuning Iteration: 3\n"
     ]
    },
    {
     "name": "stderr",
     "output_type": "stream",
     "text": [
      "INFO:prophet:Disabling yearly seasonality. Run prophet with yearly_seasonality=True to override this.\n"
     ]
    },
    {
     "name": "stdout",
     "output_type": "stream",
     "text": [
      "Tuning Iteration: 4\n"
     ]
    },
    {
     "name": "stderr",
     "output_type": "stream",
     "text": [
      "INFO:prophet:Disabling yearly seasonality. Run prophet with yearly_seasonality=True to override this.\n"
     ]
    },
    {
     "name": "stdout",
     "output_type": "stream",
     "text": [
      "Tuning Iteration: 5\n"
     ]
    },
    {
     "name": "stderr",
     "output_type": "stream",
     "text": [
      "INFO:prophet:Disabling yearly seasonality. Run prophet with yearly_seasonality=True to override this.\n"
     ]
    },
    {
     "name": "stdout",
     "output_type": "stream",
     "text": [
      "Tuning Iteration: 6\n"
     ]
    },
    {
     "name": "stderr",
     "output_type": "stream",
     "text": [
      "INFO:prophet:Disabling yearly seasonality. Run prophet with yearly_seasonality=True to override this.\n"
     ]
    },
    {
     "name": "stdout",
     "output_type": "stream",
     "text": [
      "Tuning Iteration: 7\n",
      "Median Percent Error of Range: 22.809874177587673\n",
      "Best Parameters: \n",
      "{'seasonality_mode': 'multiplicative', 'n_changepoints': 100, 'changepoint_prior_scale': 0.5}\n",
      "XGBoost......\n",
      "Predict Length: 31\n",
      "Median Percent Error of Range: 25.97243905542986\n"
     ]
    },
    {
     "name": "stderr",
     "output_type": "stream",
     "text": [
      "INFO:prophet:Disabling yearly seasonality. Run prophet with yearly_seasonality=True to override this.\n"
     ]
    },
    {
     "name": "stdout",
     "output_type": "stream",
     "text": [
      "\n",
      "###########################################################\n",
      "File: 1199_0.pkl\n",
      "Length on load: 26304\n",
      "Length after agg: 1096\n",
      "Dropped N/A cols: 0\n",
      "Length after blank drop: 1096\n",
      "\n",
      "Prophet...... Tuning Prophet....\n",
      "Tuning Iteration: 0\n"
     ]
    },
    {
     "name": "stderr",
     "output_type": "stream",
     "text": [
      "INFO:prophet:Disabling yearly seasonality. Run prophet with yearly_seasonality=True to override this.\n"
     ]
    },
    {
     "name": "stdout",
     "output_type": "stream",
     "text": [
      "Tuning Iteration: 1\n"
     ]
    },
    {
     "name": "stderr",
     "output_type": "stream",
     "text": [
      "INFO:prophet:Disabling yearly seasonality. Run prophet with yearly_seasonality=True to override this.\n"
     ]
    },
    {
     "name": "stdout",
     "output_type": "stream",
     "text": [
      "Tuning Iteration: 2\n"
     ]
    },
    {
     "name": "stderr",
     "output_type": "stream",
     "text": [
      "INFO:prophet:Disabling yearly seasonality. Run prophet with yearly_seasonality=True to override this.\n"
     ]
    },
    {
     "name": "stdout",
     "output_type": "stream",
     "text": [
      "Tuning Iteration: 3\n"
     ]
    },
    {
     "name": "stderr",
     "output_type": "stream",
     "text": [
      "INFO:prophet:Disabling yearly seasonality. Run prophet with yearly_seasonality=True to override this.\n"
     ]
    },
    {
     "name": "stdout",
     "output_type": "stream",
     "text": [
      "Tuning Iteration: 4\n"
     ]
    },
    {
     "name": "stderr",
     "output_type": "stream",
     "text": [
      "INFO:prophet:Disabling yearly seasonality. Run prophet with yearly_seasonality=True to override this.\n"
     ]
    },
    {
     "name": "stdout",
     "output_type": "stream",
     "text": [
      "Tuning Iteration: 5\n"
     ]
    },
    {
     "name": "stderr",
     "output_type": "stream",
     "text": [
      "INFO:prophet:Disabling yearly seasonality. Run prophet with yearly_seasonality=True to override this.\n"
     ]
    },
    {
     "name": "stdout",
     "output_type": "stream",
     "text": [
      "Tuning Iteration: 6\n"
     ]
    },
    {
     "name": "stderr",
     "output_type": "stream",
     "text": [
      "INFO:prophet:Disabling yearly seasonality. Run prophet with yearly_seasonality=True to override this.\n"
     ]
    },
    {
     "name": "stdout",
     "output_type": "stream",
     "text": [
      "Tuning Iteration: 7\n",
      "Median Percent Error of Range: 21.006139691415147\n",
      "Best Parameters: \n",
      "{'seasonality_mode': 'multiplicative', 'n_changepoints': 100, 'changepoint_prior_scale': 0.1}\n",
      "XGBoost......\n",
      "Predict Length: 31\n",
      "Median Percent Error of Range: 24.06737653492436\n"
     ]
    },
    {
     "name": "stderr",
     "output_type": "stream",
     "text": [
      "INFO:prophet:Disabling yearly seasonality. Run prophet with yearly_seasonality=True to override this.\n"
     ]
    },
    {
     "name": "stdout",
     "output_type": "stream",
     "text": [
      "\n",
      "###########################################################\n",
      "File: 1204_2.pkl\n",
      "Length on load: 26304\n",
      "Length after agg: 1096\n",
      "Dropped N/A cols: 0\n",
      "Length after blank drop: 1096\n",
      "\n",
      "Prophet...... Tuning Prophet....\n",
      "Tuning Iteration: 0\n"
     ]
    },
    {
     "name": "stderr",
     "output_type": "stream",
     "text": [
      "INFO:prophet:Disabling yearly seasonality. Run prophet with yearly_seasonality=True to override this.\n"
     ]
    },
    {
     "name": "stdout",
     "output_type": "stream",
     "text": [
      "Tuning Iteration: 1\n"
     ]
    },
    {
     "name": "stderr",
     "output_type": "stream",
     "text": [
      "INFO:prophet:Disabling yearly seasonality. Run prophet with yearly_seasonality=True to override this.\n"
     ]
    },
    {
     "name": "stdout",
     "output_type": "stream",
     "text": [
      "Tuning Iteration: 2\n"
     ]
    },
    {
     "name": "stderr",
     "output_type": "stream",
     "text": [
      "INFO:prophet:Disabling yearly seasonality. Run prophet with yearly_seasonality=True to override this.\n"
     ]
    },
    {
     "name": "stdout",
     "output_type": "stream",
     "text": [
      "Tuning Iteration: 3\n"
     ]
    },
    {
     "name": "stderr",
     "output_type": "stream",
     "text": [
      "INFO:prophet:Disabling yearly seasonality. Run prophet with yearly_seasonality=True to override this.\n"
     ]
    },
    {
     "name": "stdout",
     "output_type": "stream",
     "text": [
      "Tuning Iteration: 4\n"
     ]
    },
    {
     "name": "stderr",
     "output_type": "stream",
     "text": [
      "INFO:prophet:Disabling yearly seasonality. Run prophet with yearly_seasonality=True to override this.\n"
     ]
    },
    {
     "name": "stdout",
     "output_type": "stream",
     "text": [
      "Tuning Iteration: 5\n"
     ]
    },
    {
     "name": "stderr",
     "output_type": "stream",
     "text": [
      "INFO:prophet:Disabling yearly seasonality. Run prophet with yearly_seasonality=True to override this.\n"
     ]
    },
    {
     "name": "stdout",
     "output_type": "stream",
     "text": [
      "Tuning Iteration: 6\n"
     ]
    },
    {
     "name": "stderr",
     "output_type": "stream",
     "text": [
      "INFO:prophet:Disabling yearly seasonality. Run prophet with yearly_seasonality=True to override this.\n"
     ]
    },
    {
     "name": "stdout",
     "output_type": "stream",
     "text": [
      "Tuning Iteration: 7\n",
      "Median Percent Error of Range: 6.695357467575497\n",
      "Best Parameters: \n",
      "{'seasonality_mode': 'multiplicative', 'n_changepoints': 100, 'changepoint_prior_scale': 0.5}\n",
      "XGBoost......\n",
      "Predict Length: 31\n",
      "Median Percent Error of Range: 11.113522485475746\n"
     ]
    },
    {
     "name": "stderr",
     "output_type": "stream",
     "text": [
      "INFO:prophet:Disabling yearly seasonality. Run prophet with yearly_seasonality=True to override this.\n"
     ]
    },
    {
     "name": "stdout",
     "output_type": "stream",
     "text": [
      "\n",
      "###########################################################\n",
      "File: 1205_0.pkl\n",
      "Length on load: 26304\n",
      "Length after agg: 1096\n",
      "Dropped N/A cols: 0\n",
      "Length after blank drop: 1096\n",
      "\n",
      "Prophet...... Tuning Prophet....\n",
      "Tuning Iteration: 0\n"
     ]
    },
    {
     "name": "stderr",
     "output_type": "stream",
     "text": [
      "INFO:prophet:Disabling yearly seasonality. Run prophet with yearly_seasonality=True to override this.\n"
     ]
    },
    {
     "name": "stdout",
     "output_type": "stream",
     "text": [
      "Tuning Iteration: 1\n"
     ]
    },
    {
     "name": "stderr",
     "output_type": "stream",
     "text": [
      "INFO:prophet:Disabling yearly seasonality. Run prophet with yearly_seasonality=True to override this.\n"
     ]
    },
    {
     "name": "stdout",
     "output_type": "stream",
     "text": [
      "Tuning Iteration: 2\n"
     ]
    },
    {
     "name": "stderr",
     "output_type": "stream",
     "text": [
      "INFO:prophet:Disabling yearly seasonality. Run prophet with yearly_seasonality=True to override this.\n"
     ]
    },
    {
     "name": "stdout",
     "output_type": "stream",
     "text": [
      "Tuning Iteration: 3\n"
     ]
    },
    {
     "name": "stderr",
     "output_type": "stream",
     "text": [
      "INFO:prophet:Disabling yearly seasonality. Run prophet with yearly_seasonality=True to override this.\n"
     ]
    },
    {
     "name": "stdout",
     "output_type": "stream",
     "text": [
      "Tuning Iteration: 4\n"
     ]
    },
    {
     "name": "stderr",
     "output_type": "stream",
     "text": [
      "INFO:prophet:Disabling yearly seasonality. Run prophet with yearly_seasonality=True to override this.\n"
     ]
    },
    {
     "name": "stdout",
     "output_type": "stream",
     "text": [
      "Tuning Iteration: 5\n"
     ]
    },
    {
     "name": "stderr",
     "output_type": "stream",
     "text": [
      "INFO:prophet:Disabling yearly seasonality. Run prophet with yearly_seasonality=True to override this.\n"
     ]
    },
    {
     "name": "stdout",
     "output_type": "stream",
     "text": [
      "Tuning Iteration: 6\n"
     ]
    },
    {
     "name": "stderr",
     "output_type": "stream",
     "text": [
      "INFO:prophet:Disabling yearly seasonality. Run prophet with yearly_seasonality=True to override this.\n"
     ]
    },
    {
     "name": "stdout",
     "output_type": "stream",
     "text": [
      "Tuning Iteration: 7\n",
      "Median Percent Error of Range: 20.84111238223063\n",
      "Best Parameters: \n",
      "{'seasonality_mode': 'multiplicative', 'n_changepoints': 200, 'changepoint_prior_scale': 0.1}\n",
      "XGBoost......\n",
      "Predict Length: 31\n",
      "Median Percent Error of Range: 15.88817823968491\n"
     ]
    },
    {
     "name": "stderr",
     "output_type": "stream",
     "text": [
      "INFO:prophet:Disabling yearly seasonality. Run prophet with yearly_seasonality=True to override this.\n"
     ]
    },
    {
     "name": "stdout",
     "output_type": "stream",
     "text": [
      "\n",
      "###########################################################\n",
      "File: 1209_2.pkl\n",
      "Length on load: 26304\n",
      "Length after agg: 1096\n",
      "Dropped N/A cols: 0\n",
      "Length after blank drop: 1096\n",
      "\n",
      "Prophet...... Tuning Prophet....\n",
      "Tuning Iteration: 0\n"
     ]
    },
    {
     "name": "stderr",
     "output_type": "stream",
     "text": [
      "INFO:prophet:Disabling yearly seasonality. Run prophet with yearly_seasonality=True to override this.\n"
     ]
    },
    {
     "name": "stdout",
     "output_type": "stream",
     "text": [
      "Tuning Iteration: 1\n"
     ]
    },
    {
     "name": "stderr",
     "output_type": "stream",
     "text": [
      "INFO:prophet:Disabling yearly seasonality. Run prophet with yearly_seasonality=True to override this.\n"
     ]
    },
    {
     "name": "stdout",
     "output_type": "stream",
     "text": [
      "Tuning Iteration: 2\n"
     ]
    },
    {
     "name": "stderr",
     "output_type": "stream",
     "text": [
      "INFO:prophet:Disabling yearly seasonality. Run prophet with yearly_seasonality=True to override this.\n"
     ]
    },
    {
     "name": "stdout",
     "output_type": "stream",
     "text": [
      "Tuning Iteration: 3\n"
     ]
    },
    {
     "name": "stderr",
     "output_type": "stream",
     "text": [
      "INFO:prophet:Disabling yearly seasonality. Run prophet with yearly_seasonality=True to override this.\n"
     ]
    },
    {
     "name": "stdout",
     "output_type": "stream",
     "text": [
      "Tuning Iteration: 4\n"
     ]
    },
    {
     "name": "stderr",
     "output_type": "stream",
     "text": [
      "INFO:prophet:Disabling yearly seasonality. Run prophet with yearly_seasonality=True to override this.\n"
     ]
    },
    {
     "name": "stdout",
     "output_type": "stream",
     "text": [
      "Tuning Iteration: 5\n"
     ]
    },
    {
     "name": "stderr",
     "output_type": "stream",
     "text": [
      "INFO:prophet:Disabling yearly seasonality. Run prophet with yearly_seasonality=True to override this.\n"
     ]
    },
    {
     "name": "stdout",
     "output_type": "stream",
     "text": [
      "Tuning Iteration: 6\n"
     ]
    },
    {
     "name": "stderr",
     "output_type": "stream",
     "text": [
      "INFO:prophet:Disabling yearly seasonality. Run prophet with yearly_seasonality=True to override this.\n"
     ]
    },
    {
     "name": "stdout",
     "output_type": "stream",
     "text": [
      "Tuning Iteration: 7\n",
      "Median Percent Error of Range: 11.823084245233662\n",
      "Best Parameters: \n",
      "{'seasonality_mode': 'additive', 'n_changepoints': 200, 'changepoint_prior_scale': 0.1}\n",
      "XGBoost......\n",
      "Predict Length: 31\n",
      "Median Percent Error of Range: 8.710791195677366\n"
     ]
    },
    {
     "name": "stderr",
     "output_type": "stream",
     "text": [
      "INFO:prophet:Disabling yearly seasonality. Run prophet with yearly_seasonality=True to override this.\n"
     ]
    },
    {
     "name": "stdout",
     "output_type": "stream",
     "text": [
      "\n",
      "###########################################################\n",
      "File: 1210_1.pkl\n",
      "Length on load: 26304\n",
      "Length after agg: 1096\n",
      "Dropped N/A cols: 0\n",
      "Length after blank drop: 1096\n",
      "\n",
      "Prophet...... Tuning Prophet....\n",
      "Tuning Iteration: 0\n"
     ]
    },
    {
     "name": "stderr",
     "output_type": "stream",
     "text": [
      "INFO:prophet:Disabling yearly seasonality. Run prophet with yearly_seasonality=True to override this.\n"
     ]
    },
    {
     "name": "stdout",
     "output_type": "stream",
     "text": [
      "Tuning Iteration: 1\n"
     ]
    },
    {
     "name": "stderr",
     "output_type": "stream",
     "text": [
      "INFO:prophet:Disabling yearly seasonality. Run prophet with yearly_seasonality=True to override this.\n"
     ]
    },
    {
     "name": "stdout",
     "output_type": "stream",
     "text": [
      "Tuning Iteration: 2\n"
     ]
    },
    {
     "name": "stderr",
     "output_type": "stream",
     "text": [
      "INFO:prophet:Disabling yearly seasonality. Run prophet with yearly_seasonality=True to override this.\n"
     ]
    },
    {
     "name": "stdout",
     "output_type": "stream",
     "text": [
      "Tuning Iteration: 3\n"
     ]
    },
    {
     "name": "stderr",
     "output_type": "stream",
     "text": [
      "INFO:prophet:Disabling yearly seasonality. Run prophet with yearly_seasonality=True to override this.\n"
     ]
    },
    {
     "name": "stdout",
     "output_type": "stream",
     "text": [
      "Tuning Iteration: 4\n"
     ]
    },
    {
     "name": "stderr",
     "output_type": "stream",
     "text": [
      "INFO:prophet:Disabling yearly seasonality. Run prophet with yearly_seasonality=True to override this.\n"
     ]
    },
    {
     "name": "stdout",
     "output_type": "stream",
     "text": [
      "Tuning Iteration: 5\n"
     ]
    },
    {
     "name": "stderr",
     "output_type": "stream",
     "text": [
      "INFO:prophet:Disabling yearly seasonality. Run prophet with yearly_seasonality=True to override this.\n"
     ]
    },
    {
     "name": "stdout",
     "output_type": "stream",
     "text": [
      "Tuning Iteration: 6\n"
     ]
    },
    {
     "name": "stderr",
     "output_type": "stream",
     "text": [
      "INFO:prophet:Disabling yearly seasonality. Run prophet with yearly_seasonality=True to override this.\n"
     ]
    },
    {
     "name": "stdout",
     "output_type": "stream",
     "text": [
      "Tuning Iteration: 7\n",
      "Median Percent Error of Range: 52.98614226150718\n",
      "Best Parameters: \n",
      "{'seasonality_mode': 'additive', 'n_changepoints': 200, 'changepoint_prior_scale': 0.1}\n",
      "XGBoost......\n",
      "Predict Length: 31\n",
      "Median Percent Error of Range: 12.425910389196106\n"
     ]
    },
    {
     "name": "stderr",
     "output_type": "stream",
     "text": [
      "INFO:prophet:Disabling yearly seasonality. Run prophet with yearly_seasonality=True to override this.\n"
     ]
    },
    {
     "name": "stdout",
     "output_type": "stream",
     "text": [
      "\n",
      "###########################################################\n",
      "File: 1212_1.pkl\n",
      "Length on load: 26304\n",
      "Length after agg: 1096\n",
      "Dropped N/A cols: 0\n",
      "Length after blank drop: 1096\n",
      "\n",
      "Prophet...... Tuning Prophet....\n",
      "Tuning Iteration: 0\n"
     ]
    },
    {
     "name": "stderr",
     "output_type": "stream",
     "text": [
      "INFO:prophet:Disabling yearly seasonality. Run prophet with yearly_seasonality=True to override this.\n"
     ]
    },
    {
     "name": "stdout",
     "output_type": "stream",
     "text": [
      "Tuning Iteration: 1\n"
     ]
    },
    {
     "name": "stderr",
     "output_type": "stream",
     "text": [
      "INFO:prophet:Disabling yearly seasonality. Run prophet with yearly_seasonality=True to override this.\n"
     ]
    },
    {
     "name": "stdout",
     "output_type": "stream",
     "text": [
      "Tuning Iteration: 2\n"
     ]
    },
    {
     "name": "stderr",
     "output_type": "stream",
     "text": [
      "INFO:prophet:Disabling yearly seasonality. Run prophet with yearly_seasonality=True to override this.\n"
     ]
    },
    {
     "name": "stdout",
     "output_type": "stream",
     "text": [
      "Tuning Iteration: 3\n"
     ]
    },
    {
     "name": "stderr",
     "output_type": "stream",
     "text": [
      "INFO:prophet:Disabling yearly seasonality. Run prophet with yearly_seasonality=True to override this.\n"
     ]
    },
    {
     "name": "stdout",
     "output_type": "stream",
     "text": [
      "Tuning Iteration: 4\n"
     ]
    },
    {
     "name": "stderr",
     "output_type": "stream",
     "text": [
      "INFO:prophet:Disabling yearly seasonality. Run prophet with yearly_seasonality=True to override this.\n"
     ]
    },
    {
     "name": "stdout",
     "output_type": "stream",
     "text": [
      "Tuning Iteration: 5\n"
     ]
    },
    {
     "name": "stderr",
     "output_type": "stream",
     "text": [
      "INFO:prophet:Disabling yearly seasonality. Run prophet with yearly_seasonality=True to override this.\n"
     ]
    },
    {
     "name": "stdout",
     "output_type": "stream",
     "text": [
      "Tuning Iteration: 6\n"
     ]
    },
    {
     "name": "stderr",
     "output_type": "stream",
     "text": [
      "INFO:prophet:Disabling yearly seasonality. Run prophet with yearly_seasonality=True to override this.\n"
     ]
    },
    {
     "name": "stdout",
     "output_type": "stream",
     "text": [
      "Tuning Iteration: 7\n",
      "Median Percent Error of Range: 12.226156680862427\n",
      "Best Parameters: \n",
      "{'seasonality_mode': 'multiplicative', 'n_changepoints': 100, 'changepoint_prior_scale': 0.1}\n",
      "XGBoost......\n",
      "Predict Length: 31\n",
      "Median Percent Error of Range: 9.492490386061341\n"
     ]
    },
    {
     "name": "stderr",
     "output_type": "stream",
     "text": [
      "INFO:prophet:Disabling yearly seasonality. Run prophet with yearly_seasonality=True to override this.\n"
     ]
    },
    {
     "name": "stdout",
     "output_type": "stream",
     "text": [
      "\n",
      "###########################################################\n",
      "File: 1220_0.pkl\n",
      "Length on load: 26304\n",
      "Length after agg: 1096\n",
      "Dropped N/A cols: 0\n",
      "Length after blank drop: 1096\n",
      "\n",
      "Prophet...... Tuning Prophet....\n",
      "Tuning Iteration: 0\n"
     ]
    },
    {
     "name": "stderr",
     "output_type": "stream",
     "text": [
      "INFO:prophet:Disabling yearly seasonality. Run prophet with yearly_seasonality=True to override this.\n"
     ]
    },
    {
     "name": "stdout",
     "output_type": "stream",
     "text": [
      "Tuning Iteration: 1\n"
     ]
    },
    {
     "name": "stderr",
     "output_type": "stream",
     "text": [
      "INFO:prophet:Disabling yearly seasonality. Run prophet with yearly_seasonality=True to override this.\n"
     ]
    },
    {
     "name": "stdout",
     "output_type": "stream",
     "text": [
      "Tuning Iteration: 2\n"
     ]
    },
    {
     "name": "stderr",
     "output_type": "stream",
     "text": [
      "INFO:prophet:Disabling yearly seasonality. Run prophet with yearly_seasonality=True to override this.\n"
     ]
    },
    {
     "name": "stdout",
     "output_type": "stream",
     "text": [
      "Tuning Iteration: 3\n"
     ]
    },
    {
     "name": "stderr",
     "output_type": "stream",
     "text": [
      "INFO:prophet:Disabling yearly seasonality. Run prophet with yearly_seasonality=True to override this.\n"
     ]
    },
    {
     "name": "stdout",
     "output_type": "stream",
     "text": [
      "Tuning Iteration: 4\n"
     ]
    },
    {
     "name": "stderr",
     "output_type": "stream",
     "text": [
      "INFO:prophet:Disabling yearly seasonality. Run prophet with yearly_seasonality=True to override this.\n"
     ]
    },
    {
     "name": "stdout",
     "output_type": "stream",
     "text": [
      "Tuning Iteration: 5\n"
     ]
    },
    {
     "name": "stderr",
     "output_type": "stream",
     "text": [
      "INFO:prophet:Disabling yearly seasonality. Run prophet with yearly_seasonality=True to override this.\n"
     ]
    },
    {
     "name": "stdout",
     "output_type": "stream",
     "text": [
      "Tuning Iteration: 6\n"
     ]
    },
    {
     "name": "stderr",
     "output_type": "stream",
     "text": [
      "INFO:prophet:Disabling yearly seasonality. Run prophet with yearly_seasonality=True to override this.\n"
     ]
    },
    {
     "name": "stdout",
     "output_type": "stream",
     "text": [
      "Tuning Iteration: 7\n",
      "Median Percent Error of Range: 12.008603220192084\n",
      "Best Parameters: \n",
      "{'seasonality_mode': 'multiplicative', 'n_changepoints': 100, 'changepoint_prior_scale': 0.5}\n",
      "XGBoost......\n",
      "Predict Length: 31\n",
      "Median Percent Error of Range: 8.127541115621327\n"
     ]
    },
    {
     "name": "stderr",
     "output_type": "stream",
     "text": [
      "INFO:prophet:Disabling yearly seasonality. Run prophet with yearly_seasonality=True to override this.\n"
     ]
    },
    {
     "name": "stdout",
     "output_type": "stream",
     "text": [
      "\n",
      "###########################################################\n",
      "File: 1334_1.pkl\n",
      "Length on load: 24809\n",
      "Length after agg: 1096\n",
      "Dropped N/A cols: 57\n",
      "Length after blank drop: 1039\n",
      "\n",
      "Prophet...... Tuning Prophet....\n",
      "Tuning Iteration: 0\n"
     ]
    },
    {
     "name": "stderr",
     "output_type": "stream",
     "text": [
      "INFO:prophet:Disabling yearly seasonality. Run prophet with yearly_seasonality=True to override this.\n"
     ]
    },
    {
     "name": "stdout",
     "output_type": "stream",
     "text": [
      "Tuning Iteration: 1\n"
     ]
    },
    {
     "name": "stderr",
     "output_type": "stream",
     "text": [
      "INFO:prophet:Disabling yearly seasonality. Run prophet with yearly_seasonality=True to override this.\n",
      "INFO:prophet:n_changepoints greater than number of observations. Using 174.\n"
     ]
    },
    {
     "name": "stdout",
     "output_type": "stream",
     "text": [
      "Tuning Iteration: 2\n"
     ]
    },
    {
     "name": "stderr",
     "output_type": "stream",
     "text": [
      "INFO:prophet:Disabling yearly seasonality. Run prophet with yearly_seasonality=True to override this.\n",
      "INFO:prophet:n_changepoints greater than number of observations. Using 174.\n"
     ]
    },
    {
     "name": "stdout",
     "output_type": "stream",
     "text": [
      "Tuning Iteration: 3\n"
     ]
    },
    {
     "name": "stderr",
     "output_type": "stream",
     "text": [
      "INFO:prophet:Disabling yearly seasonality. Run prophet with yearly_seasonality=True to override this.\n"
     ]
    },
    {
     "name": "stdout",
     "output_type": "stream",
     "text": [
      "Tuning Iteration: 4\n"
     ]
    },
    {
     "name": "stderr",
     "output_type": "stream",
     "text": [
      "INFO:prophet:Disabling yearly seasonality. Run prophet with yearly_seasonality=True to override this.\n"
     ]
    },
    {
     "name": "stdout",
     "output_type": "stream",
     "text": [
      "Tuning Iteration: 5\n"
     ]
    },
    {
     "name": "stderr",
     "output_type": "stream",
     "text": [
      "INFO:prophet:Disabling yearly seasonality. Run prophet with yearly_seasonality=True to override this.\n",
      "INFO:prophet:n_changepoints greater than number of observations. Using 174.\n"
     ]
    },
    {
     "name": "stdout",
     "output_type": "stream",
     "text": [
      "Tuning Iteration: 6\n"
     ]
    },
    {
     "name": "stderr",
     "output_type": "stream",
     "text": [
      "INFO:prophet:Disabling yearly seasonality. Run prophet with yearly_seasonality=True to override this.\n",
      "INFO:prophet:n_changepoints greater than number of observations. Using 174.\n"
     ]
    },
    {
     "name": "stdout",
     "output_type": "stream",
     "text": [
      "Tuning Iteration: 7\n",
      "Median Percent Error of Range: 16.906112473546013\n",
      "Best Parameters: \n",
      "{'seasonality_mode': 'additive', 'n_changepoints': 100, 'changepoint_prior_scale': 0.5}\n",
      "XGBoost......\n",
      "Predict Length: 31\n",
      "Median Percent Error of Range: 9.25114406323868\n"
     ]
    },
    {
     "name": "stderr",
     "output_type": "stream",
     "text": [
      "INFO:prophet:Disabling yearly seasonality. Run prophet with yearly_seasonality=True to override this.\n"
     ]
    },
    {
     "name": "stdout",
     "output_type": "stream",
     "text": [
      "\n",
      "###########################################################\n",
      "File: 1347_1.pkl\n",
      "Length on load: 24833\n",
      "Length after agg: 1096\n",
      "Dropped N/A cols: 57\n",
      "Length after blank drop: 1039\n",
      "\n",
      "Prophet...... Tuning Prophet....\n",
      "Tuning Iteration: 0\n"
     ]
    },
    {
     "name": "stderr",
     "output_type": "stream",
     "text": [
      "INFO:prophet:Disabling yearly seasonality. Run prophet with yearly_seasonality=True to override this.\n"
     ]
    },
    {
     "name": "stdout",
     "output_type": "stream",
     "text": [
      "Tuning Iteration: 1\n"
     ]
    },
    {
     "name": "stderr",
     "output_type": "stream",
     "text": [
      "INFO:prophet:Disabling yearly seasonality. Run prophet with yearly_seasonality=True to override this.\n",
      "INFO:prophet:n_changepoints greater than number of observations. Using 174.\n"
     ]
    },
    {
     "name": "stdout",
     "output_type": "stream",
     "text": [
      "Tuning Iteration: 2\n"
     ]
    },
    {
     "name": "stderr",
     "output_type": "stream",
     "text": [
      "INFO:prophet:Disabling yearly seasonality. Run prophet with yearly_seasonality=True to override this.\n",
      "INFO:prophet:n_changepoints greater than number of observations. Using 174.\n"
     ]
    },
    {
     "name": "stdout",
     "output_type": "stream",
     "text": [
      "Tuning Iteration: 3\n"
     ]
    },
    {
     "name": "stderr",
     "output_type": "stream",
     "text": [
      "INFO:prophet:Disabling yearly seasonality. Run prophet with yearly_seasonality=True to override this.\n"
     ]
    },
    {
     "name": "stdout",
     "output_type": "stream",
     "text": [
      "Tuning Iteration: 4\n"
     ]
    },
    {
     "name": "stderr",
     "output_type": "stream",
     "text": [
      "INFO:prophet:Disabling yearly seasonality. Run prophet with yearly_seasonality=True to override this.\n"
     ]
    },
    {
     "name": "stdout",
     "output_type": "stream",
     "text": [
      "Tuning Iteration: 5\n"
     ]
    },
    {
     "name": "stderr",
     "output_type": "stream",
     "text": [
      "INFO:prophet:Disabling yearly seasonality. Run prophet with yearly_seasonality=True to override this.\n",
      "INFO:prophet:n_changepoints greater than number of observations. Using 174.\n"
     ]
    },
    {
     "name": "stdout",
     "output_type": "stream",
     "text": [
      "Tuning Iteration: 6\n"
     ]
    },
    {
     "name": "stderr",
     "output_type": "stream",
     "text": [
      "INFO:prophet:Disabling yearly seasonality. Run prophet with yearly_seasonality=True to override this.\n",
      "INFO:prophet:n_changepoints greater than number of observations. Using 174.\n"
     ]
    },
    {
     "name": "stdout",
     "output_type": "stream",
     "text": [
      "Tuning Iteration: 7\n",
      "Median Percent Error of Range: 11.609355263043735\n",
      "Best Parameters: \n",
      "{'seasonality_mode': 'additive', 'n_changepoints': 100, 'changepoint_prior_scale': 0.5}\n",
      "XGBoost......\n",
      "Predict Length: 31\n",
      "Median Percent Error of Range: 7.829772674589966\n"
     ]
    },
    {
     "name": "stderr",
     "output_type": "stream",
     "text": [
      "INFO:prophet:Disabling yearly seasonality. Run prophet with yearly_seasonality=True to override this.\n"
     ]
    },
    {
     "name": "stdout",
     "output_type": "stream",
     "text": [
      "\n",
      "###########################################################\n",
      "File: 1401_1.pkl\n",
      "Length on load: 24852\n",
      "Length after agg: 1096\n",
      "Dropped N/A cols: 57\n",
      "Length after blank drop: 1039\n",
      "\n",
      "Prophet...... Tuning Prophet....\n",
      "Tuning Iteration: 0\n"
     ]
    },
    {
     "name": "stderr",
     "output_type": "stream",
     "text": [
      "INFO:prophet:Disabling yearly seasonality. Run prophet with yearly_seasonality=True to override this.\n"
     ]
    },
    {
     "name": "stdout",
     "output_type": "stream",
     "text": [
      "Tuning Iteration: 1\n"
     ]
    },
    {
     "name": "stderr",
     "output_type": "stream",
     "text": [
      "INFO:prophet:Disabling yearly seasonality. Run prophet with yearly_seasonality=True to override this.\n",
      "INFO:prophet:n_changepoints greater than number of observations. Using 174.\n"
     ]
    },
    {
     "name": "stdout",
     "output_type": "stream",
     "text": [
      "Tuning Iteration: 2\n"
     ]
    },
    {
     "name": "stderr",
     "output_type": "stream",
     "text": [
      "INFO:prophet:Disabling yearly seasonality. Run prophet with yearly_seasonality=True to override this.\n",
      "INFO:prophet:n_changepoints greater than number of observations. Using 174.\n"
     ]
    },
    {
     "name": "stdout",
     "output_type": "stream",
     "text": [
      "Tuning Iteration: 3\n"
     ]
    },
    {
     "name": "stderr",
     "output_type": "stream",
     "text": [
      "INFO:prophet:Disabling yearly seasonality. Run prophet with yearly_seasonality=True to override this.\n"
     ]
    },
    {
     "name": "stdout",
     "output_type": "stream",
     "text": [
      "Tuning Iteration: 4\n"
     ]
    },
    {
     "name": "stderr",
     "output_type": "stream",
     "text": [
      "INFO:prophet:Disabling yearly seasonality. Run prophet with yearly_seasonality=True to override this.\n"
     ]
    },
    {
     "name": "stdout",
     "output_type": "stream",
     "text": [
      "Tuning Iteration: 5\n"
     ]
    },
    {
     "name": "stderr",
     "output_type": "stream",
     "text": [
      "INFO:prophet:Disabling yearly seasonality. Run prophet with yearly_seasonality=True to override this.\n",
      "INFO:prophet:n_changepoints greater than number of observations. Using 174.\n"
     ]
    },
    {
     "name": "stdout",
     "output_type": "stream",
     "text": [
      "Tuning Iteration: 6\n"
     ]
    },
    {
     "name": "stderr",
     "output_type": "stream",
     "text": [
      "INFO:prophet:Disabling yearly seasonality. Run prophet with yearly_seasonality=True to override this.\n",
      "INFO:prophet:n_changepoints greater than number of observations. Using 174.\n"
     ]
    },
    {
     "name": "stdout",
     "output_type": "stream",
     "text": [
      "Tuning Iteration: 7\n",
      "Median Percent Error of Range: 23.12273783480344\n",
      "Best Parameters: \n",
      "{'seasonality_mode': 'additive', 'n_changepoints': 200, 'changepoint_prior_scale': 0.5}\n",
      "XGBoost......\n",
      "Predict Length: 31\n",
      "Median Percent Error of Range: 8.692221777982349\n"
     ]
    },
    {
     "name": "stderr",
     "output_type": "stream",
     "text": [
      "INFO:prophet:Disabling yearly seasonality. Run prophet with yearly_seasonality=True to override this.\n"
     ]
    },
    {
     "name": "stdout",
     "output_type": "stream",
     "text": [
      "\n",
      "###########################################################\n",
      "File: 1407_0.pkl\n",
      "Length on load: 24992\n",
      "Length after agg: 1096\n",
      "Dropped N/A cols: 51\n",
      "Length after blank drop: 1045\n",
      "\n",
      "Prophet...... Tuning Prophet....\n",
      "Tuning Iteration: 0\n"
     ]
    },
    {
     "name": "stderr",
     "output_type": "stream",
     "text": [
      "INFO:prophet:Disabling yearly seasonality. Run prophet with yearly_seasonality=True to override this.\n"
     ]
    },
    {
     "name": "stdout",
     "output_type": "stream",
     "text": [
      "Tuning Iteration: 1\n"
     ]
    },
    {
     "name": "stderr",
     "output_type": "stream",
     "text": [
      "INFO:prophet:Disabling yearly seasonality. Run prophet with yearly_seasonality=True to override this.\n",
      "INFO:prophet:n_changepoints greater than number of observations. Using 180.\n"
     ]
    },
    {
     "name": "stdout",
     "output_type": "stream",
     "text": [
      "Tuning Iteration: 2\n"
     ]
    },
    {
     "name": "stderr",
     "output_type": "stream",
     "text": [
      "INFO:prophet:Disabling yearly seasonality. Run prophet with yearly_seasonality=True to override this.\n",
      "INFO:prophet:n_changepoints greater than number of observations. Using 180.\n"
     ]
    },
    {
     "name": "stdout",
     "output_type": "stream",
     "text": [
      "Tuning Iteration: 3\n"
     ]
    },
    {
     "name": "stderr",
     "output_type": "stream",
     "text": [
      "INFO:prophet:Disabling yearly seasonality. Run prophet with yearly_seasonality=True to override this.\n"
     ]
    },
    {
     "name": "stdout",
     "output_type": "stream",
     "text": [
      "Tuning Iteration: 4\n"
     ]
    },
    {
     "name": "stderr",
     "output_type": "stream",
     "text": [
      "INFO:prophet:Disabling yearly seasonality. Run prophet with yearly_seasonality=True to override this.\n"
     ]
    },
    {
     "name": "stdout",
     "output_type": "stream",
     "text": [
      "Tuning Iteration: 5\n"
     ]
    },
    {
     "name": "stderr",
     "output_type": "stream",
     "text": [
      "INFO:prophet:Disabling yearly seasonality. Run prophet with yearly_seasonality=True to override this.\n",
      "INFO:prophet:n_changepoints greater than number of observations. Using 180.\n"
     ]
    },
    {
     "name": "stdout",
     "output_type": "stream",
     "text": [
      "Tuning Iteration: 6\n"
     ]
    },
    {
     "name": "stderr",
     "output_type": "stream",
     "text": [
      "INFO:prophet:Disabling yearly seasonality. Run prophet with yearly_seasonality=True to override this.\n",
      "INFO:prophet:n_changepoints greater than number of observations. Using 180.\n"
     ]
    },
    {
     "name": "stdout",
     "output_type": "stream",
     "text": [
      "Tuning Iteration: 7\n",
      "Median Percent Error of Range: 16.970400478241768\n",
      "Best Parameters: \n",
      "{'seasonality_mode': 'multiplicative', 'n_changepoints': 100, 'changepoint_prior_scale': 0.5}\n",
      "XGBoost......\n",
      "Predict Length: 31\n",
      "Median Percent Error of Range: 9.75293223063152\n"
     ]
    }
   ],
   "source": [
    "output_vis_folder = '.\\\\visualization\\\\models\\\\run_2\\\\'\n",
    "output_data_folder = '.\\\\results\\\\run2\\\\'\n",
    "\n",
    "\n",
    "bld_mtr = [\n",
    "            '107_0',\n",
    "            '119_0',\n",
    "            '120_0',\n",
    "            '109_0',\n",
    "            '126_0',\n",
    "            '134_0',\n",
    "            '135_0',\n",
    "            '141_0',\n",
    "            '146_0',\n",
    "            '155_0',\n",
    "    \n",
    "            '201_3',\n",
    "            '203_1',\n",
    "            '205_0',\n",
    "            '213_3',\n",
    "            '217_0',\n",
    "            '229_0',\n",
    "            '237_0',\n",
    "            '253_1',\n",
    "            '273_0',\n",
    "            '293_0',\n",
    "            '297_0',\n",
    "    \n",
    "            '326_0',\n",
    "            '317_0',\n",
    "            '330_0',\n",
    "            '337_0',\n",
    "            '344_0',\n",
    "            '375_0',\n",
    "            '374_0',\n",
    "            '331_0',\n",
    "            '381_0',\n",
    "            '399_0',\n",
    "    \n",
    "            '405_0',\n",
    "            '407_0',\n",
    "            '428_0',\n",
    "            '461_0',\n",
    "            '493_0',\n",
    "            '490_0',\n",
    "    \n",
    "            '563_0',\n",
    "            '589_0',\n",
    "            '595_0',\n",
    "    \n",
    "            '697_0',\n",
    "            '682_0',\n",
    "            '663_0', # Food\n",
    "            '684_0',\n",
    "            '678_0',\n",
    "    \n",
    "            '709_0',\n",
    "            '724_0',\n",
    "            '727_0',\n",
    "            '748_0',\n",
    "            '771_0',\n",
    "            '787_0',\n",
    "            '794_0',\n",
    "            '798_0',\n",
    "            '743_0',\n",
    "            '797_0',\n",
    "            '793_0',\n",
    "    \n",
    "            '801_0',\n",
    "            '844_0',\n",
    "            '854_0',\n",
    "    \n",
    "            '998_0',\n",
    "    \n",
    "            '1052_2',\n",
    "            '1048_0',\n",
    "            '1073_2', # Elec\n",
    "            '1073_1',\n",
    "            '1073_0',\n",
    "            '1079_2',\n",
    "            '1091_0',\n",
    "            '1081_0',\n",
    "            '1047_0',\n",
    "            '1034_0',\n",
    "            '1022_0',\n",
    "            '1030_3',\n",
    "            '1088_1',\n",
    "            '1099_2',\n",
    "    \n",
    "            '1130_0',\n",
    "            '1156_0',\n",
    "            '1156_2',\n",
    "            '1140_1',\n",
    "            '1169_1',\n",
    "            '1178_0',\n",
    "            '1180_2',\n",
    "            '1198_2',\n",
    "            '1138_0',\n",
    "            '1179_1', # Entertainment\n",
    "            '1183_0',\n",
    "            '1196_0',\n",
    "            '1105_0',\n",
    "            '1105_2',\n",
    "            '1154_2', # Lodging Residential\n",
    "            '1154_0',\n",
    "            '1184_0',\n",
    "            '1124_0',\n",
    "            '1175_0', # Manufacturing\n",
    "            '1171_0',\n",
    "            '1145_2',\n",
    "            '1148_1', # Office\n",
    "            '1164_1',\n",
    "            '1151_1',\n",
    "            '1149_0',\n",
    "            '1188_0',\n",
    "            '1133_2',\n",
    "            '1164_1',\n",
    "            '1109_2',\n",
    "            '1108_0',\n",
    "            '1104_0',\n",
    "            '1197_0',\n",
    "            '1118_0',\n",
    "            '1199_0',\n",
    "    \n",
    "            '1204_2',\n",
    "            '1210_1',\n",
    "            '1205_0',\n",
    "            '1212_1',\n",
    "            '1220_0',\n",
    "            '1209_2',\n",
    "    \n",
    "            '1347_1',\n",
    "            '1334_1',\n",
    "            '1392_1',\n",
    "    \n",
    "            '1401_1',\n",
    "            '1407_0',\n",
    "            '1413_1'\n",
    "          ]\n",
    "# Median Average Percentage of Range\n",
    "# tune_on = 'RMSE'\n",
    "# tune_on = 'RMSEpctRange'\n",
    "# tune_on = 'MAPE'\n",
    "# tune_on = 'MedAE'\n",
    "tune_on = 'MedAEpctRange'\n",
    "\n",
    "model_pass = 2\n",
    "\n",
    "# Control Variables that will run these specific models if True\n",
    "ARIMA = False\n",
    "FBProphet = True\n",
    "xgboost = True\n",
    "\n",
    "# Show Visualizations\n",
    "quiet_mode = True\n",
    "\n",
    "resample = True\n",
    "backfill = 'mean'\n",
    "exogen = True\n",
    "\n",
    "thresh = 50\n",
    "\n",
    "# Dictionary to hold all the results, will turn into a dataframe\n",
    "stats_all = {}\n",
    "stats_list = []\n",
    "\n",
    "stats = {}\n",
    "\n",
    "# For each file in the directory\n",
    "direct = '.\\\\data_clean\\\\buildings_by_meter\\\\'\n",
    "\n",
    "files = df_stats['file_name']\n",
    "# bl = df_stats['building']\n",
    "\n",
    "for num,file in enumerate(files):  \n",
    "    # Get only files from the list\n",
    "    if file.split('.pkl')[0] not in bld_mtr:\n",
    "        continue\n",
    "    else:\n",
    "        print('')\n",
    "        print('###########################################################')\n",
    "        print('File: ' + file)\n",
    "        \n",
    "    # Temporary dictionary that represents raw calculations\n",
    "    stats = {}\n",
    "    \n",
    "    # Screen results\n",
    "    if df_stats.iloc[num]['per_data'] < 80:\n",
    "        stats['status'] = 'FAIL: Length < 80% data present'\n",
    "        print('not enough data')\n",
    "        continue\n",
    "    \n",
    "    # Catch exception if file not readable\n",
    "    try:\n",
    "        df = pd.read_pickle(direct + file)\n",
    "    except FileNotFoundError:\n",
    "        continue\n",
    "    \n",
    "    print('Length on load: ' + str(len(df)))\n",
    "    stats['Len_load'] = len(df)\n",
    "    \n",
    "    # Screen minimum length\n",
    "    if len(df) < 20000:\n",
    "        stats['status'] = 'FAIL: Length < 20k'\n",
    "        continue\n",
    "\n",
    "    # Load key variables in dictionary\n",
    "    stats['building'] = df.iloc[0]['building_id']\n",
    "    stats['square_feet'] = df.iloc[0]['square_feet']   \n",
    "    stats['meter'] = bldg_meter = df.iloc[0]['meter']\n",
    "    stats['file_name'] = file\n",
    " \n",
    "    # Process Columns\n",
    "    df = building_meter_drop(df) # Drop poorly correlated columns\n",
    "    df = building_meter_interp(df) # Time series linear interpolation due to standard time deltas\n",
    "    df = building_meter_agg(df,'1D') # aggregate remaining columns\n",
    "    \n",
    "    print('Length after agg: ' + str(len(df)))\n",
    "    stats['Len_agg-clean'] = len(df)\n",
    "    \n",
    "    # Find out how many lingering NA columns are left\n",
    "    b4_NA = len(df)\n",
    "    df.dropna(how='any',inplace=True)\n",
    "    tot = b4_NA - len(df)\n",
    "    print('Dropped N/A cols: ' + str(tot))\n",
    "    if tot > 100:\n",
    "        stats['status'] = 'FAIL: Drop over 100 Rows'\n",
    "        continue\n",
    "    \n",
    "    print('Length after blank drop: ' + str(len(df)))\n",
    "    stats['Len_blank'] = len(df)\n",
    "    \n",
    "    # Keep track of Models\n",
    "    model_ctr = 4 # Initialize Model Counter\n",
    "    model_prefixes = []\n",
    "  \n",
    "    df_train = df.loc['2016-01-01':'2016-09-30']\n",
    "    df_test = df.loc['2016-10-01':'2016-10-31']\n",
    "       \n",
    "    X_train = df_train.drop(labels=['meter_reading'],axis=1)\n",
    "    X_train.fillna(method='ffill')\n",
    "\n",
    "    X_test = df_test.drop(labels=['meter_reading'],axis=1)\n",
    "    X_test.fillna(method='ffill')\n",
    "\n",
    "    y_train = df_train['meter_reading']\n",
    "    y_train.fillna(method='ffill')\n",
    "\n",
    "    y_test = df_test['meter_reading']\n",
    "    y_test.fillna(method='ffill')\n",
    "    \n",
    "    # Get rid of constants\n",
    "    X_train.drop(labels=['site_id','building_id','square_feet'],axis=1,inplace=True)\n",
    "    X_test.drop(labels=['site_id','building_id','square_feet'],axis=1,inplace=True)\n",
    "    \n",
    "   \n",
    "    #   ######################################    ARIMA   ##################################################\n",
    "    if ARIMA:\n",
    "        print()\n",
    "        # Keep track of model prefix column names by building prefix to number iterations\n",
    "        model_prefix = 'Model_' + str(model_ctr)\n",
    "        model_prefixes.append(model_prefix)\n",
    "        # Populate DataFrame with statistics\n",
    "        stats[model_prefix + '_' + 'Type'] = 'ARIMA_Exogen'\n",
    "        stats[model_prefix + '_' + 'Description'] = 'ARIMA_Exogen, with daily aggregation'\n",
    "        stats[model_prefix + '_' + 'Len_Train'] = len(X_train)\n",
    "        stats[model_prefix + '_' + 'Len_Test'] = len(X_test)\n",
    "\n",
    "        print('ARIMA Model......',end=' ')\n",
    "\n",
    "        # Try building model\n",
    "        try:\n",
    "            model = pm.auto_arima(y_train,X=X_train,trace=False,n_fits=10,seasonal=True,m=7,error_action='ignore')\n",
    "            stats[model_prefix + '_' + 'Status'] = 'PASS'\n",
    "        except ValueError as ve:\n",
    "            print('Model will not converge')\n",
    "            stats[model_prefix + '_' + 'Status'] = 'FAIL'\n",
    "            continue\n",
    "\n",
    "        # Create the Series\n",
    "        preds, conf_int = model.predict(X=X_test,n_periods=y_test.shape[0], return_conf_int=True)\n",
    "                \n",
    "        predict = pd.Series(preds,index=y_test.index)\n",
    "\n",
    "        # Keep each slice data here\n",
    "        df_result = pd.concat([predict,y_test],axis=1)\n",
    "        df_result.columns = ['meter_predict_ARIMA','meter_actual']\n",
    "\n",
    "        # Error Calculations ------------------------\n",
    "        # RMSE\n",
    "        RMSE_error = (mean_squared_error(df_result['meter_predict_ARIMA'],df_result['meter_actual'],squared=False))\n",
    "        stats[model_prefix + '_' + 'RMSE'] = RMSE_error\n",
    "        \n",
    "        # RMSE relative to the range of the test range\n",
    "        RMSE_pct_range = RMSE_error / ((np.max(df_result['meter_actual'])) \\\n",
    "                                       - (np.min(df_result['meter_actual']))) \\\n",
    "                                       * 100      \n",
    "        stats[model_prefix + '_' + 'y_pred_RMSE_pct_Range'] = RMSE_pct_range\n",
    "        \n",
    "        # MAPE\n",
    "        MAPE_error = mean_absolute_percentage_error(df_result['meter_predict_ARIMA'],df_result['meter_actual'])\n",
    "        stats[model_prefix + '_' + 'MAPE'] = MAPE_error\n",
    "        \n",
    "        # Median Absolute Percentage\n",
    "        MedAPE_error = median_absolute_error(df_result['meter_predict_ARIMA'],df_result['meter_actual'])\n",
    "        stats[model_prefix + '_' + 'MedianAPE'] = MedAPE_error\n",
    "        \n",
    "        MedAPE_pct_range = MedAPE_error / ((np.max(df_result['meter_actual'])) \\\n",
    "                                       - (np.min(df_result['meter_actual']))) \\\n",
    "                                       * 100  \n",
    "        stats[model_prefix + '_' + 'Median_Pct_Error_Range'] = MedAPE_pct_range\n",
    "\n",
    "#         print('RMSE: ' + str(RMSE_error)) \n",
    "#         print('RMSE_pct_range: ' + str(RMSE_pct_range))\n",
    "#         print('MAPE: ' + str(MAPE_error))\n",
    "#         print('MedianAPE: ' + str(MedAPE_error))\n",
    "        print('Median Percent Error of Range: ' + str(MedAPE_pct_range))\n",
    "            \n",
    "        # Create Graph\n",
    "        plt.ioff()\n",
    "        plt.figure(figsize=(20,10))\n",
    "        plt.plot(df_result['meter_predict_ARIMA'],label=\"ARIMA\", color='orange', linestyle='solid')\n",
    "        plt.plot(df_result['meter_actual'],label=\"Actual\",linewidth=7.0, color='red', linestyle='dashed')\n",
    "        plt.legend(loc = 'upper right')      \n",
    "        plt.title('Bldg ' + str(stats['building']) + ' Meter ' + str(stats['meter']) + ' ' + model_prefix + '_' + 'ARIMA_Exogen')\n",
    "        plt.xlabel('Date')\n",
    "        plt.ylabel('Meter Reading')\n",
    "        plt.xticks(rotation='45')\n",
    "        plt.savefig(output_vis_folder + str(stats['building']) + '_' + str(stats['meter']) + '_ARIMA_Exogen.jpg')\n",
    "        \n",
    "        # Add to Models DF\n",
    "        df_models = pd.DataFrame(data=df_result[['meter_actual','meter_predict_ARIMA']],index=df_result.index)\n",
    "          \n",
    "         ######################################    PROPHET   ##################################################\n",
    "    if FBProphet:           \n",
    "        print()\n",
    "        print('Prophet......',end=' ')\n",
    "        model_ctr += 1 # Increment Model Counter\n",
    "        model_prefix = 'Model_' + str(model_ctr) # Build string for keys\n",
    "        model_prefixes.append(model_prefix)\n",
    "        \n",
    "        # Set parameter grid\n",
    "        params_grid = {'seasonality_mode':('multiplicative','additive'),\n",
    "               'changepoint_prior_scale':[0.1,0.5],\n",
    "          'n_changepoints' : [100,200]}\n",
    "\n",
    "        grid = ParameterGrid(params_grid)\n",
    "        print('Tuning Prophet....')\n",
    "\n",
    "        # Need renaming for Prophet - data prep\n",
    "        df_prophet_train = df_train.reset_index()\n",
    "        df_prophet_test = df_test.reset_index()\n",
    "\n",
    "        # Get rid of constants\n",
    "        df_prophet_train.drop(labels=['site_id','building_id','square_feet'],axis=1,inplace=True)\n",
    "        df_prophet_test.drop(labels=['site_id','building_id','square_feet'],axis=1,inplace=True)\n",
    "\n",
    "        # Timestamp must be ds column\n",
    "        df_prophet_train = df_prophet_train.rename(columns={'timestamp':'ds','meter_reading':'y'})\n",
    "        df_prophet_test = df_prophet_test.rename(columns={'timestamp':'ds','meter_reading':'y'})\n",
    "        \n",
    "        # Populate DataFrame with statistics\n",
    "        stats[model_prefix + '_' + 'Type'] = 'Prophet_Exogen'      \n",
    "        stats[model_prefix + '_' + 'Len_Train'] = len(df_prophet_train)\n",
    "        stats[model_prefix + '_' + 'Len_Test'] = len(df_prophet_test)\n",
    "      \n",
    "        # Initialize Error List Metrics\n",
    "        errors_RMSE = []\n",
    "        errors_RMSE_pct_range = []\n",
    "        errors_MAPE = []\n",
    "        errors_MedAE = []\n",
    "        errors_MedAE_pct_range = []\n",
    "        errors = []\n",
    "                \n",
    "        params = []\n",
    "\n",
    "        tuning_iter = 0\n",
    "        \n",
    "        # Step through grid \n",
    "        for val in grid:\n",
    "            print('Tuning Iteration: ' + str(tuning_iter))\n",
    "            # Initialize Prophet Model\n",
    "            m = Prophet(daily_seasonality=True,\n",
    "                       n_changepoints = val['n_changepoints'],\n",
    "                       seasonality_mode = val['seasonality_mode'],\n",
    "                       changepoint_prior_scale = val['changepoint_prior_scale'])\n",
    "            m.add_regressor('air_temperature')\n",
    "            m.add_regressor('day_of_week')\n",
    "            m.add_regressor('weekend')\n",
    "            m.add_regressor('month')\n",
    "            m.add_regressor('season')\n",
    "            m.fit(df_prophet_train)\n",
    "            \n",
    "            predicts = m.predict(df_prophet_test)\n",
    "            \n",
    "            # Evaluate error metrics\n",
    "            \n",
    "            RMSE_error = (mean_squared_error(predicts['yhat'],df_prophet_test['y'],squared=False))\n",
    "            errors_RMSE.append(RMSE_error)\n",
    "            \n",
    "            RMSE_pct_range = RMSE_error / ((np.max(df_prophet_test['y'])) \\\n",
    "                                                  - (np.min(df_prophet_test['y']))) \\\n",
    "                                                  * 100 \n",
    "            errors_RMSE_pct_range.append(RMSE_pct_range)\n",
    "            \n",
    "            \n",
    "            MAPE_error = mean_absolute_percentage_error(predicts['yhat'],df_prophet_test['y'])\n",
    "            errors_MAPE.append(MAPE_error)\n",
    "            \n",
    "            MedAE_error = median_absolute_error(predicts['yhat'],df_prophet_test['y'])\n",
    "            errors_MedAE.append(MedAE_error)\n",
    "            \n",
    "            MedAPE_pct_range = MedAE_error / ((np.max(df_prophet_test['y'])) \\\n",
    "                                                  - (np.min(df_prophet_test['y']))) \\\n",
    "                                                  * 100\n",
    "            \n",
    "            errors_MedAE_pct_range.append(MedAPE_pct_range)\n",
    "            tuning_iter += 1\n",
    "\n",
    "        # Assign error list to whatever we named as our metric to tune on\n",
    "        if tune_on == 'RMSE':\n",
    "            errors = errors_RMSE\n",
    "        elif tune_on == 'RMSEpctRange':\n",
    "            errors = errors_RMSE_pct_range\n",
    "        elif tune_on == 'MAPE':\n",
    "            errors = errors_MAPE\n",
    "        elif tune_on == 'MedAE':\n",
    "            errors = errors_MedAE\n",
    "        elif tune_on == 'MedAEpctRange':\n",
    "            errors = errors_MedAE_pct_range\n",
    "        else:\n",
    "            errors = errors_RMSE\n",
    "\n",
    "        \n",
    "        # Min value of errors\n",
    "        min_value = min(errors)\n",
    "        # What index is the min value at\n",
    "        min_index = errors.index(min_value)\n",
    "#         print('Error Metric: ' + tune_on)\n",
    "        error = errors[min_index]\n",
    "#         print(error)\n",
    "        \n",
    "        # Pick the index matching the lowest \n",
    "        stats[model_prefix + '_' + 'RMSE'] = errors_RMSE[min_index]\n",
    "        stats[model_prefix + '_' + 'y_pred_RMSE_pct_Range'] = errors_RMSE_pct_range[min_index]\n",
    "        stats[model_prefix + '_' + 'MAPE'] = errors_MAPE[min_index]\n",
    "        stats[model_prefix + '_' + 'MedianAE'] = errors_MedAE[min_index]\n",
    "        stats[model_prefix + '_' + 'Median_Pct_Error_Range'] = errors_MedAE_pct_range[min_index]\n",
    "    \n",
    "        best_parameter = grid[min_index]\n",
    "        \n",
    "#         print('RMSE: ' + str(errors_RMSE[min_index])) \n",
    "#         print('RMSE_pct_range: ' + str(errors_RMSE_pct_range[min_index]))\n",
    "#         print('MAPE: ' + str(errors_MAPE[min_index]))\n",
    "#         print('Median Percent Error of Range: ' + str(errors_MedAE_pct_range[min_index]))\n",
    "        print('Median Percent Error of Range: ' + str(errors_MedAE_pct_range[min_index]))\n",
    "        \n",
    "        print('Best Parameters: ')\n",
    "        print(best_parameter)\n",
    "        \n",
    "        plt.ioff()\n",
    "        plt.figure(figsize=(20,10))\n",
    "        plt.plot(df_prophet_test['ds'],predicts['yhat'],label=\"Prophet\", color='blue', linestyle='solid')\n",
    "        plt.plot(df_prophet_test['ds'],df_prophet_test['y'],label=\"Actual\",linewidth=7.0,color='red',linestyle='dashed')\n",
    "        plt.legend(loc = 'upper right')\n",
    "        plt.title('Bldg ' + str(stats['building']) + ' Meter ' + str(stats['meter']) + ' ' + \\\n",
    "                  model_prefix + '_' + 'Prophet_Exogen')\n",
    "        plt.xlabel('Date')\n",
    "        plt.ylabel('Meter Reading')\n",
    "        plt.xticks(rotation='45')\n",
    "\n",
    "        plt.savefig(output_vis_folder + str(stats['building']) + '_' + str(stats['meter']) + '_Prophet_Exogen.jpg')\n",
    "\n",
    "        df_models['meter_predict_Prophet'] = pd.Series(predicts['yhat'].values, index=df_models.index)\n",
    "        \n",
    "#             ######################################    XGBOOST   ##################################################\n",
    "    if xgboost:\n",
    "        print('XGBoost......')\n",
    "\n",
    "        model_ctr += 1\n",
    "        model_prefix = 'Model_' + str(model_ctr)\n",
    "        model_prefixes.append(model_prefix)\n",
    "\n",
    "        # Populate DataFrame with statistics\n",
    "        stats[model_prefix + '_' + 'Type'] = 'XGBoost'\n",
    "        stats[model_prefix + '_' + 'Description'] = 'XGBoost_Exogen, with daily aggregation'\n",
    "        stats[model_prefix + '_' + 'Len_Train'] = len(X_train)\n",
    "        stats[model_prefix + '_' + 'Len_Test'] = len(X_test)\n",
    "\n",
    "        params_grid = {# Parameters that we are going to tune.\n",
    "            'learning_rate': [0.01,0.1],\n",
    "            'max_depth': [3,10],\n",
    "            'min_child_weight': [1,5],\n",
    "            'subsample': [0.5,0.7],\n",
    "            'colsample_bytree': [0.5,0.7],\n",
    "            'n_estimators' : [100,500],\n",
    "            'objective': ['reg:squarederror'],\n",
    "        }\n",
    "\n",
    "        # Instantiate Model\n",
    "        gbm_model = xgb.XGBRegressor()\n",
    "        gsearch = GridSearchCV(estimator = gbm_model,\n",
    "                              param_grid = params_grid,\n",
    "                              scoring = 'mean_absolute_percentage_error',\n",
    "                              cv=5,\n",
    "                              n_jobs = -1,\n",
    "                              verbose = 1)\n",
    "\n",
    "#                 print(gsearch.best_params_)\n",
    "\n",
    "        gbm_model.fit(X_train,y_train)\n",
    "        predict = gbm_model.predict(X_test)\n",
    "\n",
    "        predict = pd.Series(predict,index=y_test.index)\n",
    "        \n",
    "        print('Predict Length: ' + str(len(predict)))\n",
    "\n",
    "        df_result = pd.concat([predict,y_test],axis=1,ignore_index=True)\n",
    "        df_result.columns = ['meter_predict_XGBoost','meter_actual']\n",
    "        df_result.sort_index(inplace=True)\n",
    "\n",
    "        # Error Calculations ------------------------\n",
    "        # RMSE\n",
    "        RMSE_error = (mean_squared_error(df_result['meter_predict_XGBoost'],df_result['meter_actual'],squared=False))\n",
    "        stats[model_prefix + '_' + 'RMSE'] = RMSE_error\n",
    "\n",
    "        # RMSE relative to the range of the test range\n",
    "        RMSE_pct_range = RMSE_error / ((np.max(df_result['meter_actual'])) \\\n",
    "                                       - (np.min(df_result['meter_actual']))) \\\n",
    "                                       * 100      \n",
    "        stats[model_prefix + '_' + 'y_pred_RMSE_pct_Range'] = RMSE_pct_range\n",
    "\n",
    "        # MAPE\n",
    "        MAPE_error = mean_absolute_percentage_error(df_result['meter_predict_XGBoost'],df_result['meter_actual'])\n",
    "        stats[model_prefix + '_' + 'MAPE'] = MAPE_error\n",
    "\n",
    "               # Median Absolute Percentage\n",
    "        MedAPE_error = median_absolute_error(df_result['meter_predict_XGBoost'],df_result['meter_actual'])\n",
    "        stats[model_prefix + '_' + 'MedianAPE'] = MedAPE_error\n",
    "\n",
    "        MedAPE_pct_range = MedAPE_error / ((np.max(df_result['meter_actual'])) \\\n",
    "                               - (np.min(df_result['meter_actual']))) \\\n",
    "                               * 100  \n",
    "        stats[model_prefix + '_' + 'Median_Pct_Error_Range'] = MedAPE_pct_range\n",
    "\n",
    "#         print('RMSE: ' + str(RMSE_error)) \n",
    "#         print('RMSE_pct_range: ' + str(RMSE_pct_range))\n",
    "#         print('MAPE: ' + str(MAPE_error))\n",
    "#         print('MedianAPE: ' + str(MedAPE_error))\n",
    "#         print('Med_pct_range: ' + str(MedAPE_error))\n",
    "        print('Median Percent Error of Range: ' + str(MedAPE_pct_range))\n",
    "              \n",
    "\n",
    "        plt.ioff()\n",
    "        plt.figure(figsize=(20,10))\n",
    "        plt.plot(df_result['meter_predict_XGBoost'],label=\"XGBoost\",color='green',linestyle='solid')\n",
    "        plt.plot(df_result['meter_actual'],label=\"Actual\",linewidth=7.0, color='red',linestyle='dashed')\n",
    "        plt.legend(loc = 'upper right')\n",
    "        plt.title('Bldg ' + str(stats['building']) + ' Meter ' + str(stats['meter']) + ' ' + model_prefix + '_' + 'XGBoost')\n",
    "        plt.xlabel('Date')\n",
    "        plt.ylabel('Meter Reading')\n",
    "        plt.xticks(rotation='45')\n",
    "        plt.savefig(output_vis_folder + str(stats['building']) + '_' + str(stats['meter']) + '_XGBoost.jpg')\n",
    "\n",
    "        # Apppend to Models Dataframe\n",
    "        df_models = pd.concat([df_models,df_result['meter_predict_XGBoost']],axis=1)\n",
    "        df_models.to_csv(output_data_folder + str(stats['building']) + '_' + str(stats['meter']) + '_ModelError_2.csv',float_format=\"{:,.2f}\".format)\n",
    "        \n",
    "    # VISUALIZE ALL MODELS AT ONCE\n",
    "    plt.figure(figsize=(20,10))\n",
    "    plt.plot(df_models['meter_actual'],label='Actual',linewidth=7.0,color='red',linestyle='dashed')\n",
    "    plt.plot(df_models['meter_predict_ARIMA'],label='ARIMA',color='orange',linestyle='solid')\n",
    "    plt.plot(df_models['meter_predict_Prophet'],label='FBP',color='blue',linestyle='solid')\n",
    "    plt.plot(df_models['meter_predict_XGBoost'],label='XGBoost',color='green',linestyle='solid')\n",
    "    plt.legend(loc = 'upper right')\n",
    "    plt.title('Bldg ' + str(stats['building']) + ' Meter ' + str(stats['meter']) + '_All')\n",
    "    plt.xlabel('Date')\n",
    "    plt.ylabel('Meter Reading')\n",
    "    plt.xticks(rotation='45')\n",
    "    plt.savefig(output_vis_folder + str(stats['building']) + '_' + str(stats['meter']) + '_ALL.jpg')\n",
    "\n",
    "\n",
    "    stats_list.append(stats)\n",
    "    # Write dictionary and file every 10 buildings to save results\n",
    "    if stats['building'] % 10 == 0:\n",
    "        df_results = pd.DataFrame(stats_list)\n",
    "        df_results.to_csv('Model_Results_2.csv',float_format=\"{:,.2f}\".format)\n",
    "            \n",
    "df_results = pd.DataFrame(stats_list)\n",
    "df_stats = df_results.merge(df_stats,how='left',on=['file_name'])\n",
    "df_stats.to_csv(output_data_folder + 'AllResults_SecondPass.csv',float_format=\"{:,.2f}\".format)\n"
   ]
  },
  {
   "cell_type": "code",
   "execution_count": null,
   "id": "b9eff78d-f1d4-4871-b411-d017e54a070a",
   "metadata": {},
   "outputs": [],
   "source": []
  },
  {
   "cell_type": "markdown",
   "id": "other-international",
   "metadata": {},
   "source": [
    "# Parallel Coordinates Graph to show Change"
   ]
  },
  {
   "cell_type": "code",
   "execution_count": null,
   "id": "a243aea4-1693-4c51-a1ad-90d599d83c53",
   "metadata": {},
   "outputs": [],
   "source": [
    "\n",
    "df_raw = pd.read_csv('AllResults.csv',index_col=0)\n",
    "\n",
    "# df_pass2 = pd.read_csv('.\\\\results\\\\AllResults_SecondPass.csv',index_col=0)\n",
    "df = df_raw.filter(regex='Median') # Get only model error metrics\n",
    "# df2['file_name'] = df_pass2['file_name']\n",
    "df['file_name'] = df_raw['file_name']\n",
    "df['bldg_size'] = df_raw['bldg_size']\n",
    "\n",
    "# df = df1.merge(df2,how='left',on='file_name')\n",
    "\n",
    "df.rename(columns={\"Model_1_Median_Pct_Error_Range\":\"ARIMA1_MedianPctRange\", \n",
    "                   \"Model_2_Median_Pct_Error_Range\":\"Prophet1_MedianPctRange\", \n",
    "                   \"Model_3_Median_Pct_Error_Range\":\"XGBoost1_MedianPctRange\", \n",
    "                   \"Model_5_Median_Pct_Error_Range\":\"Prophet2_MedianPctRange\",\n",
    "                   \"Model_6_Median_Pct_Error_Range\":\"XGBoost2_MedianPctRange\",\n",
    "                   \"file_name\":\"building_meter\"\n",
    "                  },inplace=True)\n",
    "df_result = df[[\"building_meter\",\n",
    "                \"ARIMA1_MedianPctRange\",\n",
    "                \"Prophet1_MedianPctRange\",\n",
    "                \"XGBoost1_MedianPctRange\",\n",
    "                \"Prophet2_MedianPctRange\",\n",
    "                \"XGBoost2_MedianPctRange\",\n",
    "                \"bldg_size\",\n",
    "                ]]\n",
    "\n",
    "# df_result['bldg_size'] = df_result['bldg_size'].map({'S': 0, 'M': 1, 'L':2, 'XL':3, 'XXL':4})\n",
    "\n",
    "df_result.head()"
   ]
  },
  {
   "cell_type": "code",
   "execution_count": null,
   "id": "b0b73085-6abb-4963-89f1-86b017f837a3",
   "metadata": {},
   "outputs": [],
   "source": [
    "\n",
    "# Create the chart:\n",
    "fig = px.parallel_coordinates(\n",
    "    df_result, \n",
    "    color=\"bldg_size\", \n",
    "    labels={\"species_id\": \"Species\",\"sepal_width\": \"Sepal Width\", \"sepal_length\": \"Sepal Length\", \"petal_width\": \"Petal Width\", \"petal_length\": \"Petal Length\", },\n",
    "    color_continuous_scale=px.colors.diverging.Tealrose,\n",
    "    color_continuous_midpoint=2)\n",
    "\n",
    "# Hide the color scale that is useless in this case\n",
    "fig.update_layout(coloraxis_showscale=False)\n",
    "\n",
    "# Show the plot\n",
    "fig.show()"
   ]
  },
  {
   "cell_type": "code",
   "execution_count": null,
   "id": "e087c13f-5a1c-482d-8e06-58df29d12ad6",
   "metadata": {},
   "outputs": [],
   "source": [
    "with plt.style.context((\"ggplot\", \"seaborn\")):\n",
    "    fig = plt.figure(figsize=(10,6))\n",
    "    pd.plotting.parallel_coordinates(df_pc,\n",
    "                                     cols= [\"Model_1_y_pred_MedAPE_pct_Range\", \n",
    "                                            \"Model_2_y_pred_MedAPE_pct_Range\", \n",
    "                                            \"Model_3_y_pred_MedAPE_pct_Range\", \n",
    "                                            \"Model_4_y_pred_MedAPE_pct_Range\",\n",
    "                                            \"Model_5_y_pred_MedAPE_pct_Range\",\n",
    "                                            \"Model_6_y_pred_MedAPE_pct_Range\"\n",
    "                                            ],\n",
    "                                     alpha=0.2,\n",
    "                                     axvlines_kwds={\"color\":\"red\"})\n",
    "    plt.title(\"IRIS Flowers Parallel Coorinates Plot [Scaled Data]\")"
   ]
  },
  {
   "cell_type": "code",
   "execution_count": null,
   "id": "3784e3e7-2ca2-407b-ad7f-314db364f6d7",
   "metadata": {},
   "outputs": [],
   "source": []
  },
  {
   "cell_type": "code",
   "execution_count": null,
   "id": "98a1e963-241c-45e7-8e5e-168374d40d75",
   "metadata": {},
   "outputs": [],
   "source": [
    "df_train_all = df_train.merge(df_bldg,how='left',on='building_id').set_index(df_train.index)"
   ]
  },
  {
   "cell_type": "code",
   "execution_count": null,
   "id": "9f525ae2-a1c4-414d-a9e6-dfe26882361f",
   "metadata": {},
   "outputs": [],
   "source": [
    "df_results.filter(regex='MedAPE_pct_Range_x')"
   ]
  },
  {
   "cell_type": "code",
   "execution_count": null,
   "id": "789020d4-3c79-4800-910f-5a0fec87fb46",
   "metadata": {},
   "outputs": [],
   "source": [
    "df_results.filter(regex='Model_')\n",
    "df.to_csv('results.csv')"
   ]
  },
  {
   "cell_type": "code",
   "execution_count": null,
   "id": "5849f76e-5eac-4ce7-b611-91c3b33b4585",
   "metadata": {},
   "outputs": [],
   "source": [
    "df_stats = df_stats.merge(df_results,how='right',on=['building','meter'])"
   ]
  },
  {
   "cell_type": "code",
   "execution_count": null,
   "id": "29a3b3ce-72b9-4a3b-99ca-6e033d1574b9",
   "metadata": {},
   "outputs": [],
   "source": [
    "df_stats"
   ]
  },
  {
   "cell_type": "code",
   "execution_count": null,
   "id": "23c7b9aa-d2ef-4df4-9fad-544912ece2e6",
   "metadata": {},
   "outputs": [],
   "source": [
    "df= df_results.filter(regex='RMSE')\n",
    "df.head()"
   ]
  },
  {
   "cell_type": "code",
   "execution_count": null,
   "id": "7fc6a270-d3bf-4904-816a-115326873361",
   "metadata": {},
   "outputs": [],
   "source": [
    "df_stats = df_results.merge(df_stats,how='left',on=['file_name'])"
   ]
  },
  {
   "cell_type": "code",
   "execution_count": null,
   "id": "d5728f9a-76fe-4e90-8eda-e38bc6148f6f",
   "metadata": {},
   "outputs": [],
   "source": [
    "df_stats.to_csv('AllResults_2_subset.csv',float_format=\"{:,.2f}\".format)"
   ]
  },
  {
   "cell_type": "code",
   "execution_count": null,
   "id": "0a39992d-0d27-4e2f-bdd8-98570714e95f",
   "metadata": {},
   "outputs": [],
   "source": [
    "df_results.filter(regex='RMSE')"
   ]
  },
  {
   "cell_type": "code",
   "execution_count": null,
   "id": "955f7ae0-b0af-43e4-801a-6f4ab5dcd91e",
   "metadata": {},
   "outputs": [],
   "source": [
    "df_results.filter(regex='Model_')\n",
    "df.to_csv('results.csv')"
   ]
  },
  {
   "cell_type": "code",
   "execution_count": null,
   "id": "d249abe1-7015-471c-a74d-3383cec252e6",
   "metadata": {},
   "outputs": [],
   "source": [
    "df_stats = df_stats.merge(df_results,how='right',on=['building','meter'])"
   ]
  },
  {
   "cell_type": "code",
   "execution_count": null,
   "id": "f65011d7-88fe-494d-b696-cc46fff95125",
   "metadata": {},
   "outputs": [],
   "source": [
    "df_stats"
   ]
  },
  {
   "cell_type": "code",
   "execution_count": null,
   "id": "0db24935-c933-43bf-ac5b-417d6b389fa5",
   "metadata": {},
   "outputs": [],
   "source": [
    "df= df_results.filter(regex='RMSE')\n",
    "df.head()"
   ]
  },
  {
   "cell_type": "markdown",
   "id": "suspended-villa",
   "metadata": {},
   "source": [
    "## Time Series Split Cross Validation"
   ]
  },
  {
   "cell_type": "code",
   "execution_count": null,
   "id": "flexible-sauce",
   "metadata": {
    "tags": []
   },
   "outputs": [],
   "source": [
    "tss =  TimeSeriesSplit(n_splits=4,gap=4,test_size=14,max_train_size=120) #too generic\n",
    "rmse = []\n",
    "count = 1\n",
    "\n",
    "results = pd.DataFrame()\n",
    "\n",
    "\n",
    "# Write function that rolls next pd.delta?\n",
    "\n",
    "for train_index, test_index in tss.split(df_train): \n",
    "    \n",
    "    cv_train, cv_test = df_train.iloc[train_index]['meter_reading'], df_train.iloc[test_index]['meter_reading']\n",
    "    model = pm.auto_arima(cv_train,trace=True,n_fits=20)\n",
    "    print(model.summary())\n",
    "    \n",
    "    # \n",
    "    predicts = model.predict(n_periods=14)\n",
    "    true_values = cv_test.values\n",
    "    error = ((sqrt(mean_squared_error(predicts,true_values))))\n",
    "    model.plot_diagnostics()\n",
    "    rmse.append(error)\n",
    "    print(error)\n",
    "print('RMSE')\n",
    "print(np.mean(rmse))"
   ]
  },
  {
   "cell_type": "markdown",
   "id": "alternative-terminology",
   "metadata": {},
   "source": [
    "# Rolling Forecast ARIMA\n",
    "### Walk-forward validation"
   ]
  },
  {
   "cell_type": "raw",
   "id": "neutral-algeria",
   "metadata": {},
   "source": [
    "### Split train / test\n",
    "\n",
    "data_len = 366\n",
    "split_test_doy = 270\n",
    "\n",
    "df_train = df.iloc[0:split_test_doy]\n",
    "df_test = df.iloc[split_test_doy:data_len]"
   ]
  },
  {
   "cell_type": "raw",
   "id": "oriented-current",
   "metadata": {},
   "source": [
    "# Brownlee Time Series Forecasting with Python pg216 (GP Book 229)\n",
    "history = [x for x in df_train['meter_reading'].values]\n",
    "predicted_vals = [] # New predicted value list\n",
    "\n",
    "# Step through each meter reading\n",
    "for t in range(len(df_test['meter_reading'])):\n",
    "    model = ARIMA(history, order=(p,d,q))\n",
    "    model_fit = model.fit()\n",
    "    output = model_fit.forecast(7)\n",
    "    yhat = output[6]\n",
    "    print(len(output))\n",
    "    predicted_vals.append(yhat)\n",
    "    observation = df_test['meter_reading'].iloc[t]\n",
    "    history.append(observation)\n",
    "\n",
    "   # Show every 5 days\n",
    "\n",
    "    print('Iteration: ' + str(t) + ' Date: ' + str(df_test.index[t]),end=\" \")\n",
    "    print('Predicted Meter Reading = %f, Expected Meter Reading = %f' % (yhat,observation))\n",
    "\n",
    "rmse = sqrt(mean_squared_error(df_test['meter_reading'], predicted_vals))\n",
    "print('p = ' + str(p) + ' d = ' + str(d) + ' q = ' + str(q))\n",
    "print('Test RMSE: %.3f' % rmse)\n",
    "\n",
    "df_predict = pd.DataFrame(predicted_vals,index=df_test.index,columns=['meter_predict'])\n",
    "\n",
    "pyplot.plot(df_test['meter_reading'])\n",
    "pyplot.plot(df_predict['meter_predict'], color='red')"
   ]
  },
  {
   "cell_type": "code",
   "execution_count": null,
   "id": "solid-chamber",
   "metadata": {},
   "outputs": [],
   "source": [
    "model.plot(forecast)"
   ]
  },
  {
   "cell_type": "code",
   "execution_count": null,
   "id": "directed-cruise",
   "metadata": {},
   "outputs": [],
   "source": [
    "\n",
    "#             # Fill Nas\n",
    "#             #Counts of null values \n",
    "#             # Backfill with means\n",
    "#             if np.max(X_train.isnull().sum().sort_values(ascending=False)) > 0:\n",
    "#                 stats[model_prefix + '_' + 'X_train_Backfill'] = backfill\n",
    "#                 if backfill == 'mean':\n",
    "#                     X_train.fillna(X_train.mean(), inplace=True)\n",
    "\n",
    "#             # Backfill with mean\n",
    "#             if np.max(X_test.isnull().sum().sort_values(ascending=False)) > 0:\n",
    "#                 stats[model_prefix + '_' + 'X_test_Backfill'] = backfill\n",
    "#                 if backfill == 'mean':\n",
    "#                     X_test.fillna(X_test.mean(), inplace=True)\n",
    "                    \n",
    "#             # Backfill with mean\n",
    "#             if np.max(y_test.isnull().sum().sort_values(ascending=False)) > 0:\n",
    "#                 stats[model_prefix + '_' + 'X_test_Backfill'] = backfill\n",
    "#                 if backfill == 'mean':\n",
    "#                     y_test.fillna(X_test.mean(), inplace=True)\n",
    "                    \n",
    "#             # Backfill with mean\n",
    "#             if np.max(y_train.isnull().sum().sort_values(ascending=False)) > 0:\n",
    "#                 stats[model_prefix + '_' + 'X_test_Backfill'] = backfill\n",
    "#                 if backfill == 'mean':\n",
    "#                     y_train.fillna(X_train.mean(), inplace=True)"
   ]
  }
 ],
 "metadata": {
  "kernelspec": {
   "display_name": "Capstone",
   "language": "python",
   "name": "cap1"
  },
  "language_info": {
   "codemirror_mode": {
    "name": "ipython",
    "version": 3
   },
   "file_extension": ".py",
   "mimetype": "text/x-python",
   "name": "python",
   "nbconvert_exporter": "python",
   "pygments_lexer": "ipython3",
   "version": "3.8.8"
  }
 },
 "nbformat": 4,
 "nbformat_minor": 5
}
