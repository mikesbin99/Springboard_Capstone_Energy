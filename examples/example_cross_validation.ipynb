{
 "cells": [
  {
   "cell_type": "code",
   "execution_count": null,
   "metadata": {
    "collapsed": false,
    "jupyter": {
     "outputs_hidden": false
    }
   },
   "outputs": [],
   "source": [
    "%matplotlib inline"
   ]
  },
  {
   "cell_type": "markdown",
   "metadata": {},
   "source": [
    "\n",
    "# Cross-validating your time series models\n",
    "\n",
    "\n",
    "\n",
    "Like scikit-learn, ``pmdarima`` provides several different strategies for\n",
    "cross-validating your time series models. The interface was designed to behave\n",
    "as similarly as possible to that of scikit to make its usage as simple as\n",
    "possible.\n",
    "\n",
    ".. raw:: html\n",
    "\n",
    "   <br/>\n",
    "\n"
   ]
  },
  {
   "cell_type": "code",
   "execution_count": null,
   "metadata": {
    "collapsed": false,
    "jupyter": {
     "outputs_hidden": false
    }
   },
   "outputs": [],
   "source": [
    "print(__doc__)\n",
    "\n",
    "# Author: Taylor Smith <taylor.smith@alkaline-ml.com>\n",
    "\n",
    "import numpy as np\n",
    "import pmdarima as pm\n",
    "from pmdarima import model_selection\n",
    "\n",
    "print(\"pmdarima version: %s\" % pm.__version__)\n",
    "\n",
    "# Load the data and split it into separate pieces\n",
    "data = pm.datasets.load_wineind()\n",
    "train, test = model_selection.train_test_split(data, train_size=165)\n",
    "\n",
    "# Even though we have a dedicated train/test split, we can (and should) still\n",
    "# use cross-validation on our training set to get a good estimate of the model\n",
    "# performance. We can choose which model is better based on how it performs\n",
    "# over various folds.\n",
    "model1 = pm.ARIMA(order=(2, 1, 1))\n",
    "model2 = pm.ARIMA(order=(1, 1, 2),\n",
    "                  seasonal_order=(0, 1, 1, 12),\n",
    "                  suppress_warnings=True)\n",
    "cv = model_selection.SlidingWindowForecastCV(window_size=100, step=24, h=1)\n",
    "\n",
    "model1_cv_scores = model_selection.cross_val_score(\n",
    "    model1, train, scoring='smape', cv=cv, verbose=2)\n",
    "\n",
    "model2_cv_scores = model_selection.cross_val_score(\n",
    "    model2, train, scoring='smape', cv=cv, verbose=2)\n",
    "\n",
    "print(\"Model 1 CV scores: {}\".format(model1_cv_scores.tolist()))\n",
    "print(\"Model 2 CV scores: {}\".format(model2_cv_scores.tolist()))\n",
    "\n",
    "# Pick based on which has a lower mean error rate\n",
    "m1_average_error = np.average(model1_cv_scores)\n",
    "m2_average_error = np.average(model2_cv_scores)\n",
    "errors = [m1_average_error, m2_average_error]\n",
    "models = [model1, model2]\n",
    "\n",
    "# print out the answer\n",
    "better_index = np.argmin(errors)  # type: int\n",
    "print(\"Lowest average SMAPE: {} (model{})\".format(\n",
    "    errors[better_index], better_index + 1))\n",
    "print(\"Best model: {}\".format(models[better_index]))"
   ]
  }
 ],
 "metadata": {
  "kernelspec": {
   "display_name": "Python 3",
   "language": "python",
   "name": "python3"
  },
  "language_info": {
   "codemirror_mode": {
    "name": "ipython",
    "version": 3
   },
   "file_extension": ".py",
   "mimetype": "text/x-python",
   "name": "python",
   "nbconvert_exporter": "python",
   "pygments_lexer": "ipython3",
   "version": "3.8.8"
  }
 },
 "nbformat": 4,
 "nbformat_minor": 4
}
