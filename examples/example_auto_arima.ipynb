{
 "cells": [
  {
   "cell_type": "code",
   "execution_count": null,
   "metadata": {
    "collapsed": false,
    "jupyter": {
     "outputs_hidden": false
    }
   },
   "outputs": [],
   "source": [
    "%matplotlib inline"
   ]
  },
  {
   "cell_type": "markdown",
   "metadata": {},
   "source": [
    "\n",
    "# Fitting an auto_arima model\n",
    "\n",
    "\n",
    "\n",
    "This example demonstrates how we can use the ``auto_arima`` function to\n",
    "select an optimal time series model. We'll be fitting our model on the lynx\n",
    "dataset available in the `datasets` submodule.\n",
    "\n",
    ".. raw:: html\n",
    "\n",
    "   <br/>\n",
    "\n"
   ]
  },
  {
   "cell_type": "code",
   "execution_count": null,
   "metadata": {
    "collapsed": false,
    "jupyter": {
     "outputs_hidden": false
    }
   },
   "outputs": [],
   "source": [
    "print(__doc__)\n",
    "\n",
    "# Author: Taylor Smith <taylor.smith@alkaline-ml.com>\n",
    "\n",
    "import pmdarima as pm\n",
    "from pmdarima import model_selection\n",
    "from sklearn.metrics import mean_squared_error\n",
    "import matplotlib.pyplot as plt\n",
    "import numpy as np\n",
    "\n",
    "# #############################################################################\n",
    "# Load the data and split it into separate pieces\n",
    "data = pm.datasets.load_lynx()\n",
    "train, test = model_selection.train_test_split(data, train_size=90)\n",
    "\n",
    "# Fit a simple auto_arima model\n",
    "modl = pm.auto_arima(train, start_p=1, start_q=1, start_P=1, start_Q=1,\n",
    "                     max_p=5, max_q=5, max_P=5, max_Q=5, seasonal=True,\n",
    "                     stepwise=True, suppress_warnings=True, D=10, max_D=10,\n",
    "                     error_action='ignore')\n",
    "\n",
    "# Create predictions for the future, evaluate on test\n",
    "preds, conf_int = modl.predict(n_periods=test.shape[0], return_conf_int=True)\n",
    "\n",
    "# Print the error:\n",
    "print(\"Test RMSE: %.3f\" % np.sqrt(mean_squared_error(test, preds)))\n",
    "\n",
    "# #############################################################################\n",
    "# Plot the points and the forecasts\n",
    "x_axis = np.arange(train.shape[0] + preds.shape[0])\n",
    "x_years = x_axis + 1821  # Year starts at 1821\n",
    "\n",
    "plt.plot(x_years[x_axis[:train.shape[0]]], train, alpha=0.75)\n",
    "plt.plot(x_years[x_axis[train.shape[0]:]], preds, alpha=0.75)  # Forecasts\n",
    "plt.scatter(x_years[x_axis[train.shape[0]:]], test,\n",
    "            alpha=0.4, marker='x')  # Test data\n",
    "plt.fill_between(x_years[x_axis[-preds.shape[0]:]],\n",
    "                 conf_int[:, 0], conf_int[:, 1],\n",
    "                 alpha=0.1, color='b')\n",
    "plt.title(\"Lynx forecasts\")\n",
    "plt.xlabel(\"Year\")"
   ]
  }
 ],
 "metadata": {
  "kernelspec": {
   "display_name": "Python 3",
   "language": "python",
   "name": "python3"
  },
  "language_info": {
   "codemirror_mode": {
    "name": "ipython",
    "version": 3
   },
   "file_extension": ".py",
   "mimetype": "text/x-python",
   "name": "python",
   "nbconvert_exporter": "python",
   "pygments_lexer": "ipython3",
   "version": "3.8.8"
  }
 },
 "nbformat": 4,
 "nbformat_minor": 4
}
