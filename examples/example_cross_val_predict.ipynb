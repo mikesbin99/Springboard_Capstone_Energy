{
 "cells": [
  {
   "cell_type": "code",
   "execution_count": null,
   "metadata": {
    "collapsed": false,
    "jupyter": {
     "outputs_hidden": false
    }
   },
   "outputs": [],
   "source": [
    "%matplotlib inline"
   ]
  },
  {
   "cell_type": "markdown",
   "metadata": {},
   "source": [
    "\n",
    "# Cross-validation predictions\n",
    "\n",
    "\n",
    "In addition to computing cross-validation scores, you can use cross-validation\n",
    "to produce predictions. Unlike traditional cross-validation, where folds are\n",
    "independent of one another, time-series folds may overlap (particularly in a\n",
    "sliding window). To account for this, folds that forecast the same time step\n",
    "average their forecasts using either a \"mean\" or \"median\" (tunable).\n",
    "\n",
    ".. raw:: html\n",
    "\n",
    "   <br/>\n",
    "\n"
   ]
  },
  {
   "cell_type": "code",
   "execution_count": null,
   "metadata": {
    "collapsed": false,
    "jupyter": {
     "outputs_hidden": false
    }
   },
   "outputs": [],
   "source": [
    "print(__doc__)\n",
    "\n",
    "# Author: Taylor Smith <taylor.smith@alkaline-ml.com>\n",
    "\n",
    "import numpy as np\n",
    "import pmdarima as pm\n",
    "from pmdarima import model_selection\n",
    "from matplotlib import pyplot as plt\n",
    "\n",
    "print(\"pmdarima version: %s\" % pm.__version__)\n",
    "\n",
    "# Load the data and split it into separate pieces\n",
    "y = pm.datasets.load_wineind()\n",
    "est = pm.ARIMA(order=(1, 1, 2),\n",
    "               seasonal_order=(0, 1, 1, 12),\n",
    "               suppress_warnings=True)\n",
    "cv = model_selection.SlidingWindowForecastCV(window_size=150, step=4, h=4)\n",
    "predictions = model_selection.cross_val_predict(\n",
    "    est, y, cv=cv, verbose=2, averaging=\"median\")\n",
    "\n",
    "# plot the predictions over the original series\n",
    "x_axis = np.arange(y.shape[0])\n",
    "n_test = predictions.shape[0]\n",
    "\n",
    "plt.plot(x_axis, y, alpha=0.75, c='b')\n",
    "plt.plot(x_axis[-n_test:], predictions, alpha=0.75, c='g')  # Forecasts\n",
    "plt.title(\"Cross-validated wineind forecasts\")\n",
    "plt.show()"
   ]
  }
 ],
 "metadata": {
  "kernelspec": {
   "display_name": "Python 3",
   "language": "python",
   "name": "python3"
  },
  "language_info": {
   "codemirror_mode": {
    "name": "ipython",
    "version": 3
   },
   "file_extension": ".py",
   "mimetype": "text/x-python",
   "name": "python",
   "nbconvert_exporter": "python",
   "pygments_lexer": "ipython3",
   "version": "3.8.8"
  }
 },
 "nbformat": 4,
 "nbformat_minor": 4
}
